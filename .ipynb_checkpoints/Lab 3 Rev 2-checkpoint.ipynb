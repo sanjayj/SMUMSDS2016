{
 "cells": [
  {
   "cell_type": "markdown",
   "metadata": {},
   "source": [
    "# Lab 3  \n",
    "\n",
    "* Murali Parthasaraty\n",
    "* Gene Ledbetter\n",
    "* Sanjay Jagarlamudi\n",
    "* Sarah Beg"
   ]
  },
  {
   "cell_type": "markdown",
   "metadata": {},
   "source": [
    "# STATUS OF PROJECT:  \n",
    "  \n",
    "    \n",
    "  \n",
    "<font color='green'>100% - Describe the purpose of the data set you selected (10 points)  </font>  \n",
    "<font color='green'>100% - Describe the meaning and type of data (scale, values, etc.) for each\n",
    "attribute in the data file. (10 points)  </font>  \n",
    "<font color='green'>100% -  Visualize the any important attributes appropriately. (10 points)  </font>   \n",
    "<font color='blue'>80% -  Modeling and Evaluation (50 points)  </font>  \n",
    "<font color='red'>0% -  Be critical of your performance and tell the reader how you current model might be usable by\n",
    "other parties. (10 points)  </font>    \n",
    "<font color='red'>0% -  Exceptional work (10 points)  </font>  \n",
    "  "
   ]
  },
  {
   "cell_type": "markdown",
   "metadata": {},
   "source": [
    "# Business Understanding (10 points total).\n",
    "<font color = 'blue'> • [10 points] Describe the purpose of the data set you selected (i.e., why was this data\n",
    "collected in the first place?). How will you measure the effectiveness of a good \n",
    "algorithm? Why does your chosen validation method make sense for this specific\n",
    "dataset and the stakeholders needs?</font>"
   ]
  },
  {
   "cell_type": "markdown",
   "metadata": {},
   "source": [
    "Like in previous labs, the dataset we are analyzing is the \"income\" dataset that was donated to the UCI machine learning database. This dataset includes information on over 32,000 patients, and the information gathered includes their age, marital status, education, income, and others. It was originally collected for the purpose of classifying whether any given individual earns an income of less than 50,000 USD a year or more than 50,000 USD a year.  \n",
    "  \n",
    "  For this lab, however, we will instead be using clustering methods to see what values and variables cluster together.  This is an exploratory analysis, and we are setting forth in doing the analysis without knowing exactly what we will find.  As such, the goal could be described as simply finding interesting relationships in the data.  Perhaps we will find an association between specific variables and income, or perhaps we will find some other association unrelated to income that we find of interest.  \n",
    "    \n",
    "  Regardless of what we find, we will be measuring the effectiveness of our clustering algorithm by the accuracy of the clustering.  Even if we find a clustering that appears to be interesting, if that clustering is imprecise then it is of no use to us.  Because we are the stakeholders using the dataset and our interests are in finding accurate and interesting clusters then the chosen validation method of measuring the clustering accuracy makes the most sense."
   ]
  },
  {
   "cell_type": "markdown",
   "metadata": {},
   "source": [
    "# Data Understanding (20 points total)  \n",
    "\n",
    "<font color = 'blue'>• [10 points] Describe the meaning and type of data (scale, values, etc.) for each\n",
    "attribute in the data file. Verify data quality: Are there missing values? Duplicate data?\n",
    "Outliers? Are those mistakes? How do you deal with these problems?</font>"
   ]
  },
  {
   "cell_type": "markdown",
   "metadata": {},
   "source": [
    "Because we have used this same dataset in the past, much of the work of verifying data quality has already been done for previous lab assignments.  For example, we had previously found that there were some missing values but no duplicate datapoints.  To deal with these two issues we removed the few observations that were missing data since they accounted for a small fraction of the total observations avaiulable, and the total observations available still exceeded 30,000 after the removal of those containing missing values.  \n",
    "  \n",
    "  There were very few outliers as well, due in part to almost all variables being categorical variables.  The one area where outliers could affect things were the continuous variables for capital gain and capital loss.  Both of these continuous variables were scaled such that any outliers that we somehow failed to find would have decreased impact due to being scaled down into a smaller range of values.   "
   ]
  },
  {
   "cell_type": "code",
   "execution_count": 1,
   "metadata": {
    "collapsed": false
   },
   "outputs": [
    {
     "name": "stderr",
     "output_type": "stream",
     "text": [
      "C:\\Users\\Bear\\Anaconda3\\lib\\site-packages\\matplotlib\\__init__.py:872: UserWarning: axes.color_cycle is deprecated and replaced with axes.prop_cycle; please use the latter.\n",
      "  warnings.warn(self.msg_depr % (key, alt_key))\n"
     ]
    }
   ],
   "source": [
    "# This code imports the packages we will be using, and sets parameters for the matplotlib.pylab package.\n",
    "\n",
    "from sklearn.neighbors import KNeighborsClassifier   #to perform KNN classification \n",
    "from sklearn.cross_validation import StratifiedKFold #to split data \n",
    "from sklearn import metrics as mt                    #to see if model is doing how well\n",
    "from sklearn.ensemble import RandomForestClassifier  #to perform RF classification\n",
    "from sklearn.linear_model import LogisticRegression  #to perform LR classification\n",
    "from sklearn.svm import SVC                          #to perform SVM classification\n",
    "from sklearn.cross_validation import cross_val_score\n",
    "from sklearn.cluster import AgglomerativeClustering\n",
    "from sklearn.cluster import KMeans\n",
    "from sklearn.cluster import DBSCAN\n",
    "import sqlite3 \n",
    "import pandas as pd\n",
    "import numpy as np\n",
    "import matplotlib.pyplot as plt\n",
    "import seaborn as sns\n",
    "import matplotlib.pylab as pylab\n",
    "import plotly.plotly as py\n",
    "import plotly.graph_objs as go\n",
    "from sklearn import datasets, linear_model\n",
    "from sklearn.linear_model import BayesianRidge, LinearRegression,LogisticRegression\n",
    "from sklearn.cross_validation import train_test_split\n",
    "params = {'legend.fontsize': 'x-large',\n",
    "          'figure.figsize': (15, 5),\n",
    "         'axes.labelsize': 'x-large',\n",
    "         'axes.titlesize':'x-large',\n",
    "         'xtick.labelsize':'x-large',\n",
    "         'ytick.labelsize':'x-large'}\n",
    "pylab.rcParams.update(params)\n",
    "%matplotlib inline\n",
    "\n",
    "\n"
   ]
  },
  {
   "cell_type": "code",
   "execution_count": 2,
   "metadata": {
    "collapsed": true
   },
   "outputs": [],
   "source": [
    "# Path to where all of the data set files resides \n",
    "path = 'C:/Users/Bear/data'"
   ]
  },
  {
   "cell_type": "markdown",
   "metadata": {},
   "source": [
    "In the below sections of code we will perform the same data cleaning and formatting steps that we have done for this data set in previous labs.  This will include reading in the initial csv file, modifying the target array to represent 0 and 1, dropping unneeded variables, scaling our continuous variables, and performing one-hot encoding on our categorical variables"
   ]
  },
  {
   "cell_type": "code",
   "execution_count": 3,
   "metadata": {
    "collapsed": false
   },
   "outputs": [
    {
     "name": "stdout",
     "output_type": "stream",
     "text": [
      "<class 'pandas.core.frame.DataFrame'>\n",
      "Int64Index: 32561 entries, 0 to 32560\n",
      "Data columns (total 15 columns):\n",
      "age               32561 non-null int64\n",
      "workclass         32561 non-null object\n",
      "fnlwgt            32561 non-null int64\n",
      "education         32561 non-null object\n",
      "education-num     32561 non-null int64\n",
      "marital-status    32561 non-null object\n",
      "occupation        32561 non-null object\n",
      "relationship      32561 non-null object\n",
      "race              32561 non-null object\n",
      "sex               32561 non-null object\n",
      "capital-gain      32561 non-null int64\n",
      "capital-loss      32561 non-null int64\n",
      "hours-per-week    32561 non-null int64\n",
      "native-country    32561 non-null object\n",
      "target            32561 non-null object\n",
      "dtypes: int64(6), object(9)\n",
      "memory usage: 4.0+ MB\n"
     ]
    },
    {
     "data": {
      "text/html": [
       "<div>\n",
       "<table border=\"1\" class=\"dataframe\">\n",
       "  <thead>\n",
       "    <tr style=\"text-align: right;\">\n",
       "      <th></th>\n",
       "      <th>age</th>\n",
       "      <th>workclass</th>\n",
       "      <th>fnlwgt</th>\n",
       "      <th>education</th>\n",
       "      <th>education-num</th>\n",
       "      <th>marital-status</th>\n",
       "      <th>occupation</th>\n",
       "      <th>relationship</th>\n",
       "      <th>race</th>\n",
       "      <th>sex</th>\n",
       "      <th>capital-gain</th>\n",
       "      <th>capital-loss</th>\n",
       "      <th>hours-per-week</th>\n",
       "      <th>native-country</th>\n",
       "      <th>target</th>\n",
       "    </tr>\n",
       "  </thead>\n",
       "  <tbody>\n",
       "    <tr>\n",
       "      <th>0</th>\n",
       "      <td>39</td>\n",
       "      <td>State-gov</td>\n",
       "      <td>77516</td>\n",
       "      <td>Bachelors</td>\n",
       "      <td>13</td>\n",
       "      <td>Never-married</td>\n",
       "      <td>Adm-clerical</td>\n",
       "      <td>Not-in-family</td>\n",
       "      <td>White</td>\n",
       "      <td>Male</td>\n",
       "      <td>2174</td>\n",
       "      <td>0</td>\n",
       "      <td>40</td>\n",
       "      <td>United-States</td>\n",
       "      <td>&lt;=50K</td>\n",
       "    </tr>\n",
       "    <tr>\n",
       "      <th>1</th>\n",
       "      <td>50</td>\n",
       "      <td>Self-emp-not-inc</td>\n",
       "      <td>83311</td>\n",
       "      <td>Bachelors</td>\n",
       "      <td>13</td>\n",
       "      <td>Married-civ-spouse</td>\n",
       "      <td>Exec-managerial</td>\n",
       "      <td>Husband</td>\n",
       "      <td>White</td>\n",
       "      <td>Male</td>\n",
       "      <td>0</td>\n",
       "      <td>0</td>\n",
       "      <td>13</td>\n",
       "      <td>United-States</td>\n",
       "      <td>&lt;=50K</td>\n",
       "    </tr>\n",
       "    <tr>\n",
       "      <th>2</th>\n",
       "      <td>38</td>\n",
       "      <td>Private</td>\n",
       "      <td>215646</td>\n",
       "      <td>HS-grad</td>\n",
       "      <td>9</td>\n",
       "      <td>Divorced</td>\n",
       "      <td>Handlers-cleaners</td>\n",
       "      <td>Not-in-family</td>\n",
       "      <td>White</td>\n",
       "      <td>Male</td>\n",
       "      <td>0</td>\n",
       "      <td>0</td>\n",
       "      <td>40</td>\n",
       "      <td>United-States</td>\n",
       "      <td>&lt;=50K</td>\n",
       "    </tr>\n",
       "    <tr>\n",
       "      <th>3</th>\n",
       "      <td>53</td>\n",
       "      <td>Private</td>\n",
       "      <td>234721</td>\n",
       "      <td>11th</td>\n",
       "      <td>7</td>\n",
       "      <td>Married-civ-spouse</td>\n",
       "      <td>Handlers-cleaners</td>\n",
       "      <td>Husband</td>\n",
       "      <td>Black</td>\n",
       "      <td>Male</td>\n",
       "      <td>0</td>\n",
       "      <td>0</td>\n",
       "      <td>40</td>\n",
       "      <td>United-States</td>\n",
       "      <td>&lt;=50K</td>\n",
       "    </tr>\n",
       "    <tr>\n",
       "      <th>4</th>\n",
       "      <td>28</td>\n",
       "      <td>Private</td>\n",
       "      <td>338409</td>\n",
       "      <td>Bachelors</td>\n",
       "      <td>13</td>\n",
       "      <td>Married-civ-spouse</td>\n",
       "      <td>Prof-specialty</td>\n",
       "      <td>Wife</td>\n",
       "      <td>Black</td>\n",
       "      <td>Female</td>\n",
       "      <td>0</td>\n",
       "      <td>0</td>\n",
       "      <td>40</td>\n",
       "      <td>Cuba</td>\n",
       "      <td>&lt;=50K</td>\n",
       "    </tr>\n",
       "  </tbody>\n",
       "</table>\n",
       "</div>"
      ],
      "text/plain": [
       "   age          workclass  fnlwgt   education  education-num  \\\n",
       "0   39          State-gov   77516   Bachelors             13   \n",
       "1   50   Self-emp-not-inc   83311   Bachelors             13   \n",
       "2   38            Private  215646     HS-grad              9   \n",
       "3   53            Private  234721        11th              7   \n",
       "4   28            Private  338409   Bachelors             13   \n",
       "\n",
       "        marital-status          occupation    relationship    race      sex  \\\n",
       "0        Never-married        Adm-clerical   Not-in-family   White     Male   \n",
       "1   Married-civ-spouse     Exec-managerial         Husband   White     Male   \n",
       "2             Divorced   Handlers-cleaners   Not-in-family   White     Male   \n",
       "3   Married-civ-spouse   Handlers-cleaners         Husband   Black     Male   \n",
       "4   Married-civ-spouse      Prof-specialty            Wife   Black   Female   \n",
       "\n",
       "   capital-gain  capital-loss  hours-per-week  native-country  target  \n",
       "0          2174             0              40   United-States   <=50K  \n",
       "1             0             0              13   United-States   <=50K  \n",
       "2             0             0              40   United-States   <=50K  \n",
       "3             0             0              40   United-States   <=50K  \n",
       "4             0             0              40            Cuba   <=50K  "
      ]
     },
     "execution_count": 3,
     "metadata": {},
     "output_type": "execute_result"
    }
   ],
   "source": [
    "# This code reads in the initial csv file\n",
    "filename = path + '/income.csv'\n",
    "df_income = pd.read_csv(filename) #read in the csv file\n",
    "df_income.info()                  #run it for two reasons which variables in our data and any nulls\n",
    "df_income.head()"
   ]
  },
  {
   "cell_type": "code",
   "execution_count": 4,
   "metadata": {
    "collapsed": true
   },
   "outputs": [],
   "source": [
    "# This code creates a target array with 0 representing under 50,000 USD a year and 1 representing over 50,000 USD a year\n",
    "\n",
    "i = 0\n",
    "rangeLength = len(df_income)\n",
    "#print(rangeLength)\n",
    "target = []\n",
    "for i in range(0,rangeLength):\n",
    "    if df_income['target'].iloc[i] == \" <=50K\":\n",
    "        target.append(0)\n",
    "    else:\n",
    "        target.append(1)\n",
    "#print(target)"
   ]
  },
  {
   "cell_type": "code",
   "execution_count": 5,
   "metadata": {
    "collapsed": false
   },
   "outputs": [
    {
     "data": {
      "text/html": [
       "<div>\n",
       "<table border=\"1\" class=\"dataframe\">\n",
       "  <thead>\n",
       "    <tr style=\"text-align: right;\">\n",
       "      <th></th>\n",
       "      <th>age</th>\n",
       "      <th>workclass</th>\n",
       "      <th>fnlwgt</th>\n",
       "      <th>education</th>\n",
       "      <th>education-num</th>\n",
       "      <th>marital-status</th>\n",
       "      <th>occupation</th>\n",
       "      <th>relationship</th>\n",
       "      <th>race</th>\n",
       "      <th>sex</th>\n",
       "      <th>capital-gain</th>\n",
       "      <th>capital-loss</th>\n",
       "      <th>hours-per-week</th>\n",
       "      <th>native-country</th>\n",
       "      <th>income</th>\n",
       "    </tr>\n",
       "  </thead>\n",
       "  <tbody>\n",
       "    <tr>\n",
       "      <th>0</th>\n",
       "      <td>39</td>\n",
       "      <td>State-gov</td>\n",
       "      <td>77516</td>\n",
       "      <td>Bachelors</td>\n",
       "      <td>13</td>\n",
       "      <td>Never-married</td>\n",
       "      <td>Adm-clerical</td>\n",
       "      <td>Not-in-family</td>\n",
       "      <td>White</td>\n",
       "      <td>Male</td>\n",
       "      <td>2174</td>\n",
       "      <td>0</td>\n",
       "      <td>40</td>\n",
       "      <td>United-States</td>\n",
       "      <td>0</td>\n",
       "    </tr>\n",
       "    <tr>\n",
       "      <th>1</th>\n",
       "      <td>50</td>\n",
       "      <td>Self-emp-not-inc</td>\n",
       "      <td>83311</td>\n",
       "      <td>Bachelors</td>\n",
       "      <td>13</td>\n",
       "      <td>Married-civ-spouse</td>\n",
       "      <td>Exec-managerial</td>\n",
       "      <td>Husband</td>\n",
       "      <td>White</td>\n",
       "      <td>Male</td>\n",
       "      <td>0</td>\n",
       "      <td>0</td>\n",
       "      <td>13</td>\n",
       "      <td>United-States</td>\n",
       "      <td>0</td>\n",
       "    </tr>\n",
       "    <tr>\n",
       "      <th>2</th>\n",
       "      <td>38</td>\n",
       "      <td>Private</td>\n",
       "      <td>215646</td>\n",
       "      <td>HS-grad</td>\n",
       "      <td>9</td>\n",
       "      <td>Divorced</td>\n",
       "      <td>Handlers-cleaners</td>\n",
       "      <td>Not-in-family</td>\n",
       "      <td>White</td>\n",
       "      <td>Male</td>\n",
       "      <td>0</td>\n",
       "      <td>0</td>\n",
       "      <td>40</td>\n",
       "      <td>United-States</td>\n",
       "      <td>0</td>\n",
       "    </tr>\n",
       "    <tr>\n",
       "      <th>3</th>\n",
       "      <td>53</td>\n",
       "      <td>Private</td>\n",
       "      <td>234721</td>\n",
       "      <td>11th</td>\n",
       "      <td>7</td>\n",
       "      <td>Married-civ-spouse</td>\n",
       "      <td>Handlers-cleaners</td>\n",
       "      <td>Husband</td>\n",
       "      <td>Black</td>\n",
       "      <td>Male</td>\n",
       "      <td>0</td>\n",
       "      <td>0</td>\n",
       "      <td>40</td>\n",
       "      <td>United-States</td>\n",
       "      <td>0</td>\n",
       "    </tr>\n",
       "    <tr>\n",
       "      <th>4</th>\n",
       "      <td>28</td>\n",
       "      <td>Private</td>\n",
       "      <td>338409</td>\n",
       "      <td>Bachelors</td>\n",
       "      <td>13</td>\n",
       "      <td>Married-civ-spouse</td>\n",
       "      <td>Prof-specialty</td>\n",
       "      <td>Wife</td>\n",
       "      <td>Black</td>\n",
       "      <td>Female</td>\n",
       "      <td>0</td>\n",
       "      <td>0</td>\n",
       "      <td>40</td>\n",
       "      <td>Cuba</td>\n",
       "      <td>0</td>\n",
       "    </tr>\n",
       "  </tbody>\n",
       "</table>\n",
       "</div>"
      ],
      "text/plain": [
       "   age          workclass  fnlwgt   education  education-num  \\\n",
       "0   39          State-gov   77516   Bachelors             13   \n",
       "1   50   Self-emp-not-inc   83311   Bachelors             13   \n",
       "2   38            Private  215646     HS-grad              9   \n",
       "3   53            Private  234721        11th              7   \n",
       "4   28            Private  338409   Bachelors             13   \n",
       "\n",
       "        marital-status          occupation    relationship    race      sex  \\\n",
       "0        Never-married        Adm-clerical   Not-in-family   White     Male   \n",
       "1   Married-civ-spouse     Exec-managerial         Husband   White     Male   \n",
       "2             Divorced   Handlers-cleaners   Not-in-family   White     Male   \n",
       "3   Married-civ-spouse   Handlers-cleaners         Husband   Black     Male   \n",
       "4   Married-civ-spouse      Prof-specialty            Wife   Black   Female   \n",
       "\n",
       "   capital-gain  capital-loss  hours-per-week  native-country  income  \n",
       "0          2174             0              40   United-States       0  \n",
       "1             0             0              13   United-States       0  \n",
       "2             0             0              40   United-States       0  \n",
       "3             0             0              40   United-States       0  \n",
       "4             0             0              40            Cuba       0  "
      ]
     },
     "execution_count": 5,
     "metadata": {},
     "output_type": "execute_result"
    }
   ],
   "source": [
    "# This code replaces the existing 'target' variable with our newly created array of integer representations.\n",
    "\n",
    "df_income['income'] = target\n",
    "df_income = df_income.drop('target', axis=1)\n",
    "df_income.head()"
   ]
  },
  {
   "cell_type": "code",
   "execution_count": 6,
   "metadata": {
    "collapsed": false
   },
   "outputs": [
    {
     "data": {
      "text/html": [
       "<div>\n",
       "<table border=\"1\" class=\"dataframe\">\n",
       "  <thead>\n",
       "    <tr style=\"text-align: right;\">\n",
       "      <th></th>\n",
       "      <th>age</th>\n",
       "      <th>workclass</th>\n",
       "      <th>education</th>\n",
       "      <th>education-num</th>\n",
       "      <th>marital-status</th>\n",
       "      <th>occupation</th>\n",
       "      <th>relationship</th>\n",
       "      <th>race</th>\n",
       "      <th>sex</th>\n",
       "      <th>capital-gain</th>\n",
       "      <th>capital-loss</th>\n",
       "      <th>hours-per-week</th>\n",
       "      <th>native-country</th>\n",
       "      <th>income</th>\n",
       "    </tr>\n",
       "  </thead>\n",
       "  <tbody>\n",
       "    <tr>\n",
       "      <th>0</th>\n",
       "      <td>39</td>\n",
       "      <td>State-gov</td>\n",
       "      <td>Bachelors</td>\n",
       "      <td>13</td>\n",
       "      <td>Never-married</td>\n",
       "      <td>Adm-clerical</td>\n",
       "      <td>Not-in-family</td>\n",
       "      <td>White</td>\n",
       "      <td>Male</td>\n",
       "      <td>2174</td>\n",
       "      <td>0</td>\n",
       "      <td>40</td>\n",
       "      <td>United-States</td>\n",
       "      <td>0</td>\n",
       "    </tr>\n",
       "    <tr>\n",
       "      <th>1</th>\n",
       "      <td>50</td>\n",
       "      <td>Self-emp-not-inc</td>\n",
       "      <td>Bachelors</td>\n",
       "      <td>13</td>\n",
       "      <td>Married-civ-spouse</td>\n",
       "      <td>Exec-managerial</td>\n",
       "      <td>Husband</td>\n",
       "      <td>White</td>\n",
       "      <td>Male</td>\n",
       "      <td>0</td>\n",
       "      <td>0</td>\n",
       "      <td>13</td>\n",
       "      <td>United-States</td>\n",
       "      <td>0</td>\n",
       "    </tr>\n",
       "    <tr>\n",
       "      <th>2</th>\n",
       "      <td>38</td>\n",
       "      <td>Private</td>\n",
       "      <td>HS-grad</td>\n",
       "      <td>9</td>\n",
       "      <td>Divorced</td>\n",
       "      <td>Handlers-cleaners</td>\n",
       "      <td>Not-in-family</td>\n",
       "      <td>White</td>\n",
       "      <td>Male</td>\n",
       "      <td>0</td>\n",
       "      <td>0</td>\n",
       "      <td>40</td>\n",
       "      <td>United-States</td>\n",
       "      <td>0</td>\n",
       "    </tr>\n",
       "    <tr>\n",
       "      <th>3</th>\n",
       "      <td>53</td>\n",
       "      <td>Private</td>\n",
       "      <td>11th</td>\n",
       "      <td>7</td>\n",
       "      <td>Married-civ-spouse</td>\n",
       "      <td>Handlers-cleaners</td>\n",
       "      <td>Husband</td>\n",
       "      <td>Black</td>\n",
       "      <td>Male</td>\n",
       "      <td>0</td>\n",
       "      <td>0</td>\n",
       "      <td>40</td>\n",
       "      <td>United-States</td>\n",
       "      <td>0</td>\n",
       "    </tr>\n",
       "    <tr>\n",
       "      <th>4</th>\n",
       "      <td>28</td>\n",
       "      <td>Private</td>\n",
       "      <td>Bachelors</td>\n",
       "      <td>13</td>\n",
       "      <td>Married-civ-spouse</td>\n",
       "      <td>Prof-specialty</td>\n",
       "      <td>Wife</td>\n",
       "      <td>Black</td>\n",
       "      <td>Female</td>\n",
       "      <td>0</td>\n",
       "      <td>0</td>\n",
       "      <td>40</td>\n",
       "      <td>Cuba</td>\n",
       "      <td>0</td>\n",
       "    </tr>\n",
       "  </tbody>\n",
       "</table>\n",
       "</div>"
      ],
      "text/plain": [
       "   age          workclass   education  education-num       marital-status  \\\n",
       "0   39          State-gov   Bachelors             13        Never-married   \n",
       "1   50   Self-emp-not-inc   Bachelors             13   Married-civ-spouse   \n",
       "2   38            Private     HS-grad              9             Divorced   \n",
       "3   53            Private        11th              7   Married-civ-spouse   \n",
       "4   28            Private   Bachelors             13   Married-civ-spouse   \n",
       "\n",
       "           occupation    relationship    race      sex  capital-gain  \\\n",
       "0        Adm-clerical   Not-in-family   White     Male          2174   \n",
       "1     Exec-managerial         Husband   White     Male             0   \n",
       "2   Handlers-cleaners   Not-in-family   White     Male             0   \n",
       "3   Handlers-cleaners         Husband   Black     Male             0   \n",
       "4      Prof-specialty            Wife   Black   Female             0   \n",
       "\n",
       "   capital-loss  hours-per-week  native-country  income  \n",
       "0             0              40   United-States       0  \n",
       "1             0              13   United-States       0  \n",
       "2             0              40   United-States       0  \n",
       "3             0              40   United-States       0  \n",
       "4             0              40            Cuba       0  "
      ]
     },
     "execution_count": 6,
     "metadata": {},
     "output_type": "execute_result"
    }
   ],
   "source": [
    "# this code drops the \"fnlwgt\" variable, which is a weighting variable used for stratified sampling that is not going to be \n",
    "# useful for us in our lab 3 clustering tasks.\n",
    "\n",
    "df_income = df_income.drop('fnlwgt', axis=1)\n",
    "df_income.head()"
   ]
  },
  {
   "cell_type": "markdown",
   "metadata": {},
   "source": [
    "\n",
    "We decided to standardize only capital-gain and capital-loss only and not any other variables as they are all either categorical variables, or they are on a small scale that makes less sense if standardizes such as hours per week, age, and education-num.\n",
    "\n",
    "We standardize the capital-gain and capital-loss values to a scale from 0 to 100, rather than a more traditional 0 to 1, in order to make them more closely match the naturally occurring scales in the other variables."
   ]
  },
  {
   "cell_type": "code",
   "execution_count": 7,
   "metadata": {
    "collapsed": false
   },
   "outputs": [
    {
     "name": "stderr",
     "output_type": "stream",
     "text": [
      "C:\\Users\\Bear\\Anaconda3\\lib\\site-packages\\sklearn\\utils\\validation.py:420: DataConversionWarning:\n",
      "\n",
      "Data with input dtype int64 was converted to float64 by MinMaxScaler.\n",
      "\n",
      "C:\\Users\\Bear\\Anaconda3\\lib\\site-packages\\sklearn\\preprocessing\\data.py:324: DeprecationWarning:\n",
      "\n",
      "Passing 1d arrays as data is deprecated in 0.17 and will raise ValueError in 0.19. Reshape your data either using X.reshape(-1, 1) if your data has a single feature or X.reshape(1, -1) if it contains a single sample.\n",
      "\n",
      "C:\\Users\\Bear\\Anaconda3\\lib\\site-packages\\sklearn\\preprocessing\\data.py:359: DeprecationWarning:\n",
      "\n",
      "Passing 1d arrays as data is deprecated in 0.17 and will raise ValueError in 0.19. Reshape your data either using X.reshape(-1, 1) if your data has a single feature or X.reshape(1, -1) if it contains a single sample.\n",
      "\n",
      "C:\\Users\\Bear\\Anaconda3\\lib\\site-packages\\sklearn\\utils\\validation.py:420: DataConversionWarning:\n",
      "\n",
      "Data with input dtype int64 was converted to float64 by MinMaxScaler.\n",
      "\n",
      "C:\\Users\\Bear\\Anaconda3\\lib\\site-packages\\sklearn\\preprocessing\\data.py:324: DeprecationWarning:\n",
      "\n",
      "Passing 1d arrays as data is deprecated in 0.17 and will raise ValueError in 0.19. Reshape your data either using X.reshape(-1, 1) if your data has a single feature or X.reshape(1, -1) if it contains a single sample.\n",
      "\n",
      "C:\\Users\\Bear\\Anaconda3\\lib\\site-packages\\sklearn\\preprocessing\\data.py:359: DeprecationWarning:\n",
      "\n",
      "Passing 1d arrays as data is deprecated in 0.17 and will raise ValueError in 0.19. Reshape your data either using X.reshape(-1, 1) if your data has a single feature or X.reshape(1, -1) if it contains a single sample.\n",
      "\n"
     ]
    },
    {
     "data": {
      "text/html": [
       "<div>\n",
       "<table border=\"1\" class=\"dataframe\">\n",
       "  <thead>\n",
       "    <tr style=\"text-align: right;\">\n",
       "      <th></th>\n",
       "      <th>age</th>\n",
       "      <th>workclass</th>\n",
       "      <th>education</th>\n",
       "      <th>education-num</th>\n",
       "      <th>marital-status</th>\n",
       "      <th>occupation</th>\n",
       "      <th>relationship</th>\n",
       "      <th>race</th>\n",
       "      <th>sex</th>\n",
       "      <th>capital-gain</th>\n",
       "      <th>capital-loss</th>\n",
       "      <th>hours-per-week</th>\n",
       "      <th>native-country</th>\n",
       "      <th>income</th>\n",
       "    </tr>\n",
       "  </thead>\n",
       "  <tbody>\n",
       "    <tr>\n",
       "      <th>0</th>\n",
       "      <td>39</td>\n",
       "      <td>State-gov</td>\n",
       "      <td>Bachelors</td>\n",
       "      <td>13</td>\n",
       "      <td>Never-married</td>\n",
       "      <td>Adm-clerical</td>\n",
       "      <td>Not-in-family</td>\n",
       "      <td>White</td>\n",
       "      <td>Male</td>\n",
       "      <td>2.174022</td>\n",
       "      <td>0</td>\n",
       "      <td>40</td>\n",
       "      <td>United-States</td>\n",
       "      <td>0</td>\n",
       "    </tr>\n",
       "    <tr>\n",
       "      <th>1</th>\n",
       "      <td>50</td>\n",
       "      <td>Self-emp-not-inc</td>\n",
       "      <td>Bachelors</td>\n",
       "      <td>13</td>\n",
       "      <td>Married-civ-spouse</td>\n",
       "      <td>Exec-managerial</td>\n",
       "      <td>Husband</td>\n",
       "      <td>White</td>\n",
       "      <td>Male</td>\n",
       "      <td>0.000000</td>\n",
       "      <td>0</td>\n",
       "      <td>13</td>\n",
       "      <td>United-States</td>\n",
       "      <td>0</td>\n",
       "    </tr>\n",
       "    <tr>\n",
       "      <th>2</th>\n",
       "      <td>38</td>\n",
       "      <td>Private</td>\n",
       "      <td>HS-grad</td>\n",
       "      <td>9</td>\n",
       "      <td>Divorced</td>\n",
       "      <td>Handlers-cleaners</td>\n",
       "      <td>Not-in-family</td>\n",
       "      <td>White</td>\n",
       "      <td>Male</td>\n",
       "      <td>0.000000</td>\n",
       "      <td>0</td>\n",
       "      <td>40</td>\n",
       "      <td>United-States</td>\n",
       "      <td>0</td>\n",
       "    </tr>\n",
       "    <tr>\n",
       "      <th>3</th>\n",
       "      <td>53</td>\n",
       "      <td>Private</td>\n",
       "      <td>11th</td>\n",
       "      <td>7</td>\n",
       "      <td>Married-civ-spouse</td>\n",
       "      <td>Handlers-cleaners</td>\n",
       "      <td>Husband</td>\n",
       "      <td>Black</td>\n",
       "      <td>Male</td>\n",
       "      <td>0.000000</td>\n",
       "      <td>0</td>\n",
       "      <td>40</td>\n",
       "      <td>United-States</td>\n",
       "      <td>0</td>\n",
       "    </tr>\n",
       "    <tr>\n",
       "      <th>4</th>\n",
       "      <td>28</td>\n",
       "      <td>Private</td>\n",
       "      <td>Bachelors</td>\n",
       "      <td>13</td>\n",
       "      <td>Married-civ-spouse</td>\n",
       "      <td>Prof-specialty</td>\n",
       "      <td>Wife</td>\n",
       "      <td>Black</td>\n",
       "      <td>Female</td>\n",
       "      <td>0.000000</td>\n",
       "      <td>0</td>\n",
       "      <td>40</td>\n",
       "      <td>Cuba</td>\n",
       "      <td>0</td>\n",
       "    </tr>\n",
       "  </tbody>\n",
       "</table>\n",
       "</div>"
      ],
      "text/plain": [
       "   age          workclass   education  education-num       marital-status  \\\n",
       "0   39          State-gov   Bachelors             13        Never-married   \n",
       "1   50   Self-emp-not-inc   Bachelors             13   Married-civ-spouse   \n",
       "2   38            Private     HS-grad              9             Divorced   \n",
       "3   53            Private        11th              7   Married-civ-spouse   \n",
       "4   28            Private   Bachelors             13   Married-civ-spouse   \n",
       "\n",
       "           occupation    relationship    race      sex  capital-gain  \\\n",
       "0        Adm-clerical   Not-in-family   White     Male      2.174022   \n",
       "1     Exec-managerial         Husband   White     Male      0.000000   \n",
       "2   Handlers-cleaners   Not-in-family   White     Male      0.000000   \n",
       "3   Handlers-cleaners         Husband   Black     Male      0.000000   \n",
       "4      Prof-specialty            Wife   Black   Female      0.000000   \n",
       "\n",
       "   capital-loss  hours-per-week  native-country  income  \n",
       "0             0              40   United-States       0  \n",
       "1             0              13   United-States       0  \n",
       "2             0              40   United-States       0  \n",
       "3             0              40   United-States       0  \n",
       "4             0              40            Cuba       0  "
      ]
     },
     "execution_count": 7,
     "metadata": {},
     "output_type": "execute_result"
    }
   ],
   "source": [
    "# This code standardizes the two continuous variables related to capital gain and capital loss.\n",
    "\n",
    "from sklearn.preprocessing import MinMaxScaler\n",
    "df_income['capital-gain'] = MinMaxScaler(feature_range=(0,100)).fit_transform(df_income['capital-gain'])\n",
    "df_income['capital-loss'] = MinMaxScaler(feature_range=(0,100)).fit_transform(df_income['capital-loss'])\n",
    "df_income.head()"
   ]
  },
  {
   "cell_type": "markdown",
   "metadata": {},
   "source": [
    "We decide to use get_dummies function to convert categorical variable into dummy/indicator integer variables. The get_dummies returns a new column for each unique item where the value in the column indicates whether or not the record has that attribute. the dummy variables will help run the classifications efficiently.  "
   ]
  },
  {
   "cell_type": "code",
   "execution_count": 8,
   "metadata": {
    "collapsed": false
   },
   "outputs": [
    {
     "data": {
      "text/html": [
       "<div>\n",
       "<table border=\"1\" class=\"dataframe\">\n",
       "  <thead>\n",
       "    <tr style=\"text-align: right;\">\n",
       "      <th></th>\n",
       "      <th>age</th>\n",
       "      <th>education-num</th>\n",
       "      <th>capital-gain</th>\n",
       "      <th>capital-loss</th>\n",
       "      <th>hours-per-week</th>\n",
       "      <th>workclass_ ?</th>\n",
       "      <th>workclass_ Federal-gov</th>\n",
       "      <th>workclass_ Local-gov</th>\n",
       "      <th>workclass_ Never-worked</th>\n",
       "      <th>workclass_ Private</th>\n",
       "      <th>...</th>\n",
       "      <th>native-country_ Portugal</th>\n",
       "      <th>native-country_ Puerto-Rico</th>\n",
       "      <th>native-country_ Scotland</th>\n",
       "      <th>native-country_ South</th>\n",
       "      <th>native-country_ Taiwan</th>\n",
       "      <th>native-country_ Thailand</th>\n",
       "      <th>native-country_ Trinadad&amp;Tobago</th>\n",
       "      <th>native-country_ United-States</th>\n",
       "      <th>native-country_ Vietnam</th>\n",
       "      <th>native-country_ Yugoslavia</th>\n",
       "    </tr>\n",
       "  </thead>\n",
       "  <tbody>\n",
       "    <tr>\n",
       "      <th>0</th>\n",
       "      <td>39</td>\n",
       "      <td>13</td>\n",
       "      <td>2.174022</td>\n",
       "      <td>0</td>\n",
       "      <td>40</td>\n",
       "      <td>0</td>\n",
       "      <td>0</td>\n",
       "      <td>0</td>\n",
       "      <td>0</td>\n",
       "      <td>0</td>\n",
       "      <td>...</td>\n",
       "      <td>0</td>\n",
       "      <td>0</td>\n",
       "      <td>0</td>\n",
       "      <td>0</td>\n",
       "      <td>0</td>\n",
       "      <td>0</td>\n",
       "      <td>0</td>\n",
       "      <td>1</td>\n",
       "      <td>0</td>\n",
       "      <td>0</td>\n",
       "    </tr>\n",
       "    <tr>\n",
       "      <th>1</th>\n",
       "      <td>50</td>\n",
       "      <td>13</td>\n",
       "      <td>0.000000</td>\n",
       "      <td>0</td>\n",
       "      <td>13</td>\n",
       "      <td>0</td>\n",
       "      <td>0</td>\n",
       "      <td>0</td>\n",
       "      <td>0</td>\n",
       "      <td>0</td>\n",
       "      <td>...</td>\n",
       "      <td>0</td>\n",
       "      <td>0</td>\n",
       "      <td>0</td>\n",
       "      <td>0</td>\n",
       "      <td>0</td>\n",
       "      <td>0</td>\n",
       "      <td>0</td>\n",
       "      <td>1</td>\n",
       "      <td>0</td>\n",
       "      <td>0</td>\n",
       "    </tr>\n",
       "    <tr>\n",
       "      <th>2</th>\n",
       "      <td>38</td>\n",
       "      <td>9</td>\n",
       "      <td>0.000000</td>\n",
       "      <td>0</td>\n",
       "      <td>40</td>\n",
       "      <td>0</td>\n",
       "      <td>0</td>\n",
       "      <td>0</td>\n",
       "      <td>0</td>\n",
       "      <td>1</td>\n",
       "      <td>...</td>\n",
       "      <td>0</td>\n",
       "      <td>0</td>\n",
       "      <td>0</td>\n",
       "      <td>0</td>\n",
       "      <td>0</td>\n",
       "      <td>0</td>\n",
       "      <td>0</td>\n",
       "      <td>1</td>\n",
       "      <td>0</td>\n",
       "      <td>0</td>\n",
       "    </tr>\n",
       "    <tr>\n",
       "      <th>3</th>\n",
       "      <td>53</td>\n",
       "      <td>7</td>\n",
       "      <td>0.000000</td>\n",
       "      <td>0</td>\n",
       "      <td>40</td>\n",
       "      <td>0</td>\n",
       "      <td>0</td>\n",
       "      <td>0</td>\n",
       "      <td>0</td>\n",
       "      <td>1</td>\n",
       "      <td>...</td>\n",
       "      <td>0</td>\n",
       "      <td>0</td>\n",
       "      <td>0</td>\n",
       "      <td>0</td>\n",
       "      <td>0</td>\n",
       "      <td>0</td>\n",
       "      <td>0</td>\n",
       "      <td>1</td>\n",
       "      <td>0</td>\n",
       "      <td>0</td>\n",
       "    </tr>\n",
       "    <tr>\n",
       "      <th>4</th>\n",
       "      <td>28</td>\n",
       "      <td>13</td>\n",
       "      <td>0.000000</td>\n",
       "      <td>0</td>\n",
       "      <td>40</td>\n",
       "      <td>0</td>\n",
       "      <td>0</td>\n",
       "      <td>0</td>\n",
       "      <td>0</td>\n",
       "      <td>1</td>\n",
       "      <td>...</td>\n",
       "      <td>0</td>\n",
       "      <td>0</td>\n",
       "      <td>0</td>\n",
       "      <td>0</td>\n",
       "      <td>0</td>\n",
       "      <td>0</td>\n",
       "      <td>0</td>\n",
       "      <td>0</td>\n",
       "      <td>0</td>\n",
       "      <td>0</td>\n",
       "    </tr>\n",
       "  </tbody>\n",
       "</table>\n",
       "<p>5 rows × 107 columns</p>\n",
       "</div>"
      ],
      "text/plain": [
       "   age  education-num  capital-gain  capital-loss  hours-per-week  \\\n",
       "0   39             13      2.174022             0              40   \n",
       "1   50             13      0.000000             0              13   \n",
       "2   38              9      0.000000             0              40   \n",
       "3   53              7      0.000000             0              40   \n",
       "4   28             13      0.000000             0              40   \n",
       "\n",
       "   workclass_ ?  workclass_ Federal-gov  workclass_ Local-gov  \\\n",
       "0             0                       0                     0   \n",
       "1             0                       0                     0   \n",
       "2             0                       0                     0   \n",
       "3             0                       0                     0   \n",
       "4             0                       0                     0   \n",
       "\n",
       "   workclass_ Never-worked  workclass_ Private             ...              \\\n",
       "0                        0                   0             ...               \n",
       "1                        0                   0             ...               \n",
       "2                        0                   1             ...               \n",
       "3                        0                   1             ...               \n",
       "4                        0                   1             ...               \n",
       "\n",
       "   native-country_ Portugal  native-country_ Puerto-Rico  \\\n",
       "0                         0                            0   \n",
       "1                         0                            0   \n",
       "2                         0                            0   \n",
       "3                         0                            0   \n",
       "4                         0                            0   \n",
       "\n",
       "   native-country_ Scotland  native-country_ South  native-country_ Taiwan  \\\n",
       "0                         0                      0                       0   \n",
       "1                         0                      0                       0   \n",
       "2                         0                      0                       0   \n",
       "3                         0                      0                       0   \n",
       "4                         0                      0                       0   \n",
       "\n",
       "   native-country_ Thailand  native-country_ Trinadad&Tobago  \\\n",
       "0                         0                                0   \n",
       "1                         0                                0   \n",
       "2                         0                                0   \n",
       "3                         0                                0   \n",
       "4                         0                                0   \n",
       "\n",
       "   native-country_ United-States  native-country_ Vietnam  \\\n",
       "0                              1                        0   \n",
       "1                              1                        0   \n",
       "2                              1                        0   \n",
       "3                              1                        0   \n",
       "4                              0                        0   \n",
       "\n",
       "   native-country_ Yugoslavia  \n",
       "0                           0  \n",
       "1                           0  \n",
       "2                           0  \n",
       "3                           0  \n",
       "4                           0  \n",
       "\n",
       "[5 rows x 107 columns]"
      ]
     },
     "execution_count": 8,
     "metadata": {},
     "output_type": "execute_result"
    }
   ],
   "source": [
    "# This code drops the target, then gives us one-hot encoding for the categorical variables, rather than a mix of integer values \n",
    "# and descriptive string values.  We will use this newly created \"df_dummies\" variable later on for classification that requires\n",
    "# one-hot encoding to perform well.\n",
    "df_intermediate = df_income.drop('income', axis=1)\n",
    "df_dummies = pd.get_dummies(df_intermediate)\n",
    "df_dummies.head()"
   ]
  },
  {
   "cell_type": "markdown",
   "metadata": {},
   "source": [
    "The final dataset we have created consists only of continuous variables (some integers some scaled to floats), categorical variables that are represented as integers, and binary variables that are represented as integers.  This provides an acceptable dataset to work with both for the previously performed classification tasks as well as the clustering tasks we will be performing in lab 3.\n",
    "  \n",
    "Variables:\n",
    "Age - continuous(integer) - the individual's age in years.  \n",
    "workclass - categorical(integer) - the class of the worker's employment (self-employed, public, private, etc.).  \n",
    "education - categorical(integer) - the level of education obtained (high school, bachelor's degree, master's degree, etc.).  \n",
    "education-num - continuous(integer) - the level of education obtained as represented by number of years of education.  \n",
    "marital-status - categorical(integer) - The current marital status of the individual (married, never married, divorced, etc.).  \n",
    "occupation - categorical(integer) - The type of work the individual is employed in (executive, janitorial, etc.).  \n",
    "relationship - categorical(integer) - What part the individual plays in their current relationship (husband, wife, etc.).  \n",
    "race - categorical(integer) - the individual's race.  \n",
    "sex - categorical(binary) - the individual's gender where 0 is female and 1 is male.  \n",
    "capital-gain - continuous(scaled to float) - the individual's amount of capital gain as measured in US dollars.  \n",
    "capital-loss - continuous(scaled to float) - the individual's amount of capital loss as measured in US dollars.  \n",
    "native-country - categorical(integer) - the native country for that individual (USA, Ecuador, etc.).  \n",
    "income - categorical(binary) - The individuals general income level where 0 is less than 50,000 US dollars of income a year and 1 is more than 50,000 US dollars of income a year.  \n"
   ]
  },
  {
   "cell_type": "markdown",
   "metadata": {},
   "source": [
    "<font color = 'blue'>• [10 points] Visualize the any important attributes appropriately. Important: Provide an\n",
    "interpretation for any charts or graphs.</font>"
   ]
  },
  {
   "cell_type": "markdown",
   "metadata": {},
   "source": [
    "Below we will provide the visualizations for the important attributes as well as the code that was used to generate those visualizations.  This work was originally performed to complete various sections of lab 2, but is well fitted to the requirements of the rubric point.  As such it has been reproduced here with only small modification from how it appeared in lab 2."
   ]
  },
  {
   "cell_type": "code",
   "execution_count": 24,
   "metadata": {
    "collapsed": false
   },
   "outputs": [
    {
     "name": "stdout",
     "output_type": "stream",
     "text": [
      "Size of the dataset: (32561,)\n",
      "Number of unique classes: 2\n"
     ]
    },
    {
     "data": {
      "image/png": "[encoded data removed]",
      "text/plain": [
       "<matplotlib.figure.Figure at 0xc11e630>"
      ]
     },
     "metadata": {},
     "output_type": "display_data"
    }
   ],
   "source": [
    "# This code shows a graphical representation of the class value distribution for the income variable.\n",
    "# This code was built upon the example provided in the \"Grand Poobah Classification Notebook\" from course materials\n",
    "\n",
    "print( 'Size of the dataset:', df_income['income'].shape)\n",
    "print( 'Number of unique classes:', len(df_income['income'].unique()))\n",
    "\n",
    "plt.hist(df_income['income'], bins=len(df_income['income'].unique()))\n",
    "plt.xlabel('Class value (one per marital status)')\n",
    "plt.ylabel('Class frequency')\n",
    "plt.show()"
   ]
  },
  {
   "cell_type": "code",
   "execution_count": 25,
   "metadata": {
    "collapsed": false
   },
   "outputs": [
    {
     "name": "stdout",
     "output_type": "stream",
     "text": [
      "Size of the dataset: (32561,)\n",
      "Number of unique classes: 7\n"
     ]
    },
    {
     "data": {
      "image/png": "[encoded data removed]",
      "text/plain": [
       "<matplotlib.figure.Figure at 0xbe6c4e0>"
      ]
     },
     "metadata": {},
     "output_type": "display_data"
    }
   ],
   "source": [
    "# This code shows a graphical representation to the one above, this time for the marital-status variable.\n",
    "# This code was built upon the example provided in the \"Grand Poobah Classification Notebook\" from course materials\n",
    "\n",
    "from sklearn import preprocessing\n",
    "encoder = preprocessing.LabelEncoder()\n",
    "\n",
    "print( 'Size of the dataset:', df_income['marital-status'].shape)\n",
    "print( 'Number of unique classes:', len(df_income['marital-status'].unique()))\n",
    "\n",
    "maritalplot = encoder.fit_transform(df_income['marital-status'])\n",
    "\n",
    "plt.hist(maritalplot, bins=7)\n",
    "plt.xlabel('Class value (one per marital status)')\n",
    "plt.ylabel('Class frequency')\n",
    "plt.show()"
   ]
  },
  {
   "cell_type": "code",
   "execution_count": 10,
   "metadata": {
    "collapsed": false
   },
   "outputs": [
    {
     "name": "stdout",
     "output_type": "stream",
     "text": [
      "<class 'pandas.core.frame.DataFrame'>\n",
      "Int64Index: 32561 entries, 0 to 32560\n",
      "Data columns (total 15 columns):\n",
      "age               32561 non-null int64\n",
      "workclass         32561 non-null object\n",
      "fnlwgt            32561 non-null int64\n",
      "education         32561 non-null object\n",
      "education-num     32561 non-null int64\n",
      "marital-status    32561 non-null object\n",
      "occupation        32561 non-null object\n",
      "relationship      32561 non-null object\n",
      "race              32561 non-null object\n",
      "sex               32561 non-null object\n",
      "capital-gain      32561 non-null int64\n",
      "capital-loss      32561 non-null int64\n",
      "hours-per-week    32561 non-null int64\n",
      "native-country    32561 non-null object\n",
      "target            32561 non-null object\n",
      "dtypes: int64(6), object(9)\n",
      "memory usage: 4.0+ MB\n"
     ]
    },
    {
     "data": {
      "text/plain": [
       "Int64Index([    0,     1,     2,     3,     4,     5,     6,     7,     8,\n",
       "                9,\n",
       "            ...\n",
       "            32551, 32552, 32553, 32554, 32555, 32556, 32557, 32558, 32559,\n",
       "            32560],\n",
       "           dtype='int64', length=32561)"
      ]
     },
     "execution_count": 10,
     "metadata": {},
     "output_type": "execute_result"
    }
   ],
   "source": [
    "inputfile = path + '/income.csv'\n",
    "dfincome = pd.read_csv(inputfile)\n",
    "dfincome.info()\n",
    "dfincome.columns\n",
    "dfincome.index"
   ]
  },
  {
   "cell_type": "markdown",
   "metadata": {},
   "source": [
    "Next we will do some small additional preparation steps upon the data to get a dataframe specifically tailored to the visual comparisons we are about to perform."
   ]
  },
  {
   "cell_type": "code",
   "execution_count": 11,
   "metadata": {
    "collapsed": true
   },
   "outputs": [],
   "source": [
    "dfincome.workclass = dfincome.workclass.replace(' ?','NotReported')\n",
    "dfincome.occupation = dfincome.occupation.replace(' ?','NotReported')\n",
    "dfincome.workclass = dfincome.workclass.str.strip().replace('Never-worked','NotWorked')\n",
    "dfincome['native-country'] = dfincome['native-country'].replace(' ?','NotReported')\n",
    "dfincome['native-country'] = dfincome['native-country'].str.strip().replace('United-States','US')\n",
    "\n",
    "targetfinal = []\n",
    "for row in dfincome['target']:\n",
    "    if row.strip() == '<=50K':\n",
    "        targetfinal.append(0) \n",
    "    \n",
    "    else:\n",
    "        targetfinal.append(1)\n",
    "dfincome['targetfinal'] = targetfinal\n"
   ]
  },
  {
   "cell_type": "code",
   "execution_count": 12,
   "metadata": {
    "collapsed": false
   },
   "outputs": [
    {
     "data": {
      "text/plain": [
       "array([0, 1], dtype=int64)"
      ]
     },
     "execution_count": 12,
     "metadata": {},
     "output_type": "execute_result"
    }
   ],
   "source": [
    "dfincome.targetfinal.unique()"
   ]
  },
  {
   "cell_type": "code",
   "execution_count": 13,
   "metadata": {
    "collapsed": true
   },
   "outputs": [],
   "source": [
    "fabove50K = pd.DataFrame()\n",
    "dfbelow50K = pd.DataFrame()\n",
    "#dfbelow50K = dfincome[[df]'age'].dfincome[dfincome['target'].str.strip() == '<=50K']\n",
    "#dfbelow50K = dfincome[dfincome['age'] & dfincome['targetfinal'] == '0' ]\n",
    "#dfabove50K = dfincome[dfincome['target'].str.strip() == '>50K']\n",
    "\n",
    "dfbelow50K = pd.DataFrame(dfincome.loc[dfincome.targetfinal == 0, ['age','targetfinal']])\n",
    "#dfabove50K = dfincome.loc[dfincome.targetfinal == '1', 'age']\n",
    "dfabove50K = pd.DataFrame(dfincome.loc[dfincome.targetfinal == 1, ['age','targetfinal']])\n"
   ]
  },
  {
   "cell_type": "code",
   "execution_count": 14,
   "metadata": {
    "collapsed": true
   },
   "outputs": [],
   "source": [
    "dfbelow50K['COUNTER'] = 1\n",
    "dfabove50K['COUNTER'] = 1\n",
    "dfbelow50K =  dfbelow50K.groupby('age')['COUNTER'].count() \n",
    "dfabove50K = dfabove50K.groupby('age')['COUNTER'].count()"
   ]
  },
  {
   "cell_type": "code",
   "execution_count": 15,
   "metadata": {
    "collapsed": false
   },
   "outputs": [
    {
     "data": {
      "text/plain": [
       "array([0, 1], dtype=int64)"
      ]
     },
     "execution_count": 15,
     "metadata": {},
     "output_type": "execute_result"
    }
   ],
   "source": [
    "dfincome.targetfinal.unique()"
   ]
  },
  {
   "cell_type": "markdown",
   "metadata": {},
   "source": [
    "Now we will visually compare the target of income as compared to the explanatory variable \"Age\"."
   ]
  },
  {
   "cell_type": "code",
   "execution_count": 16,
   "metadata": {
    "collapsed": true
   },
   "outputs": [],
   "source": [
    "X = []\n",
    "Y1 = []\n",
    "for row in dfbelow50K.iteritems():\n",
    "    Y1.append(row[1])\n",
    "    X.append(row[0])\n",
    "Y2 = []\n",
    "for row in dfabove50K.iteritems():\n",
    "    Y2.append(row[1])\n",
    "    "
   ]
  },
  {
   "cell_type": "code",
   "execution_count": 17,
   "metadata": {
    "collapsed": false
   },
   "outputs": [
    {
     "name": "stdout",
     "output_type": "stream",
     "text": [
      "High five! You successfuly sent some data to your account on plotly. View your plot in your browser at https://plot.ly/~murparthjob/0 or inside your plot.ly account where it is named 'angled-text-bar'\n"
     ]
    },
    {
     "data": {
      "text/html": [
       "<iframe id=\"igraph\" scrolling=\"no\" style=\"border:none;\" seamless=\"seamless\" src=\"https://plot.ly/~murparthjob/0.embed\" height=\"525px\" width=\"100%\"></iframe>"
      ],
      "text/plain": [
       "<plotly.tools.PlotlyDisplay object>"
      ]
     },
     "execution_count": 17,
     "metadata": {},
     "output_type": "execute_result"
    }
   ],
   "source": [
    "import plotly \n",
    "import plotly.graph_objs as go\n",
    "plotly.tools.set_credentials_file(username='murparthjob', api_key='jj1ghd04s5')\n",
    "\n",
    "trace0 = go.Bar(\n",
    "    x=X,\n",
    "    y=Y1,\n",
    "    name='Less than 50',\n",
    "    marker=dict(\n",
    "        color='rgb(49,130,189)'\n",
    "    )\n",
    ")\n",
    "trace1 = go.Bar(\n",
    "    x=X,\n",
    "    y=Y2,\n",
    "    name='Greater than $50',\n",
    "    marker=dict(\n",
    "        color='rgb(204,204,204)',\n",
    "    )\n",
    ")\n",
    "\n",
    "data = [trace0, trace1]\n",
    "layout = go.Layout(\n",
    "    title=\" Age\",\n",
    "    xaxis=dict(tickangle=-45),\n",
    "    barmode='group',\n",
    ")\n",
    "\n",
    "fig = go.Figure(data=data, layout=layout)\n",
    "url =py.iplot(fig, filename='angled-text-bar')\n",
    "url"
   ]
  },
  {
   "cell_type": "code",
   "execution_count": null,
   "metadata": {
    "collapsed": true
   },
   "outputs": [],
   "source": [
    "from IPython.display import Image \n",
    "Image(filename=\"images/incomebar.png\")"
   ]
  },
  {
   "cell_type": "markdown",
   "metadata": {},
   "source": [
    "Below we will create an index and Pandas series for the \"Age\" variable, which we will then use to generate and display a heat map as an additional visualization."
   ]
  },
  {
   "cell_type": "code",
   "execution_count": 18,
   "metadata": {
    "collapsed": false
   },
   "outputs": [
    {
     "name": "stderr",
     "output_type": "stream",
     "text": [
      "C:\\Users\\Bear\\Anaconda3\\lib\\site-packages\\pandas\\core\\internals.py:4417: FutureWarning:\n",
      "\n",
      "elementwise comparison failed; returning scalar instead, but in the future will perform elementwise comparison\n",
      "\n"
     ]
    },
    {
     "data": {
      "text/html": [
       "<iframe id=\"igraph\" scrolling=\"no\" style=\"border:none;\" seamless=\"seamless\" src=\"https://plot.ly/~murparthjob/2.embed\" height=\"525px\" width=\"100%\"></iframe>"
      ],
      "text/plain": [
       "<plotly.tools.PlotlyDisplay object>"
      ]
     },
     "execution_count": 18,
     "metadata": {},
     "output_type": "execute_result"
    }
   ],
   "source": [
    "# Heat Map for Age \n",
    "# Index is the age\n",
    "# Create a Pandas Series \n",
    " \n",
    "dfageHeatmap1 = pd.DataFrame()\n",
    "dfageHeatmap2 = pd.DataFrame()\n",
    " \n",
    "dfageHeatmap1['<50K'] = Y1\n",
    "dfageHeatmap2['>=50K'] = Y2\n",
    "dfageHeatMap = pd.concat([dfageHeatmap1,dfageHeatmap2], ignore_index=True, axis=1)\n",
    "dfageHeatMap.index = X\n",
    "dfageHeatMap.columns = ['<50K','>=50K']\n",
    "\n",
    "dfageHeatMap['>=50K'].fillna('0',inplace=True)\n",
    "\n",
    "# Do the Heat map \n",
    "import plotly.plotly as py\n",
    "import plotly.graph_objs as go\n",
    "\n",
    "import pandas as pd\n",
    " \n",
    "data = [go.Heatmap(   x= X, y= dfageHeatMap.columns , z=dfageHeatMap.values.tolist(), colorscale='Viridis')]\n",
    "\n",
    "py.iplot(data, filename='pandas-heatmap',title=\"Heatmap\")\n"
   ]
  },
  {
   "cell_type": "code",
   "execution_count": null,
   "metadata": {
    "collapsed": true
   },
   "outputs": [],
   "source": [
    "from IPython.display import Image \n",
    "Image(filename=\"images/incomeheat.png\")"
   ]
  },
  {
   "cell_type": "code",
   "execution_count": 19,
   "metadata": {
    "collapsed": false
   },
   "outputs": [
    {
     "data": {
      "text/plain": [
       "Index(['<50K', '>=50K'], dtype='object')"
      ]
     },
     "execution_count": 19,
     "metadata": {},
     "output_type": "execute_result"
    }
   ],
   "source": [
    "dfageHeatMap.columns"
   ]
  },
  {
   "cell_type": "markdown",
   "metadata": {},
   "source": [
    "Here we will look at another heat map comparing the number of years of education, the marital status, and income."
   ]
  },
  {
   "cell_type": "code",
   "execution_count": 20,
   "metadata": {
    "collapsed": true
   },
   "outputs": [],
   "source": [
    "# Get education-num  and get marital-status \n",
    "\n",
    "dfedubelow50K = pd.DataFrame(dfincome.loc[dfincome.targetfinal == 0, ['education-num','targetfinal']])\n",
    "#dfabove50K = dfincome.loc[dfincome.targetfinal == '1', 'age']\n",
    "dfeduabove50K = pd.DataFrame(dfincome.loc[dfincome.targetfinal == 1, ['education-num','targetfinal']])\n",
    "\n",
    "dfedubelow50K['COUNTER'] = 1\n",
    "dfeduabove50K['COUNTER'] = 1\n",
    "dfedubelow50K =  dfedubelow50K.groupby('education-num')['COUNTER'].count() \n",
    "dfeduabove50K = dfeduabove50K.groupby('education-num')['COUNTER'].count()"
   ]
  },
  {
   "cell_type": "code",
   "execution_count": 21,
   "metadata": {
    "collapsed": true
   },
   "outputs": [],
   "source": [
    "X = []\n",
    "Y1 = []\n",
    "for row in dfedubelow50K.iteritems():\n",
    "    Y1.append(row[1])\n",
    "    X.append(row[0])\n",
    "Y2 = []\n",
    "for row in dfeduabove50K.iteritems():\n",
    "    Y2.append(row[1])"
   ]
  },
  {
   "cell_type": "code",
   "execution_count": 22,
   "metadata": {
    "collapsed": false
   },
   "outputs": [
    {
     "name": "stdout",
     "output_type": "stream",
     "text": [
      "High five! You successfuly sent some data to your account on plotly. View your plot in your browser at https://plot.ly/~murparthjob/0 or inside your plot.ly account where it is named 'angled-text-bar'\n"
     ]
    },
    {
     "data": {
      "text/html": [
       "<iframe id=\"igraph\" scrolling=\"no\" style=\"border:none;\" seamless=\"seamless\" src=\"https://plot.ly/~murparthjob/0.embed\" height=\"525px\" width=\"100%\"></iframe>"
      ],
      "text/plain": [
       "<plotly.tools.PlotlyDisplay object>"
      ]
     },
     "execution_count": 22,
     "metadata": {},
     "output_type": "execute_result"
    }
   ],
   "source": [
    "import plotly \n",
    "import plotly.graph_objs as go\n",
    "plotly.tools.set_credentials_file(username='murparthjob', api_key='jj1ghd04s5')\n",
    "\n",
    "trace0 = go.Bar(\n",
    "    x=X,\n",
    "    y=Y1,\n",
    "    name='Less than 50',\n",
    "    marker=dict(\n",
    "        color='rgb(49,130,189)'\n",
    "    )\n",
    ")\n",
    "trace1 = go.Bar(\n",
    "    x=X,\n",
    "    y=Y2,\n",
    "    name='Greater than $50',\n",
    "    marker=dict(\n",
    "        color='rgb(204,204,204)',\n",
    "    )\n",
    ")\n",
    "\n",
    "data = [trace0, trace1]\n",
    "layout = go.Layout(\n",
    "    title='Number of years of Education',\n",
    "    xaxis=dict(tickangle=-45),\n",
    "    barmode='group',\n",
    ")\n",
    "\n",
    "fig = go.Figure(data=data, layout=layout)\n",
    "py.iplot(fig, filename='angled-text-bar')"
   ]
  },
  {
   "cell_type": "code",
   "execution_count": null,
   "metadata": {
    "collapsed": true
   },
   "outputs": [],
   "source": [
    "from IPython.display import Image \n",
    "Image(filename=\"images/bared.png\")"
   ]
  },
  {
   "cell_type": "markdown",
   "metadata": {},
   "source": [
    "Here is another heatmap comparing those three variables described above:  income, marital-status, and years of education."
   ]
  },
  {
   "cell_type": "code",
   "execution_count": 23,
   "metadata": {
    "collapsed": false
   },
   "outputs": [
    {
     "name": "stderr",
     "output_type": "stream",
     "text": [
      "C:\\Users\\Bear\\Anaconda3\\lib\\site-packages\\pandas\\core\\internals.py:4417: FutureWarning:\n",
      "\n",
      "elementwise comparison failed; returning scalar instead, but in the future will perform elementwise comparison\n",
      "\n"
     ]
    },
    {
     "data": {
      "text/html": [
       "<iframe id=\"igraph\" scrolling=\"no\" style=\"border:none;\" seamless=\"seamless\" src=\"https://plot.ly/~murparthjob/2.embed\" height=\"525px\" width=\"100%\"></iframe>"
      ],
      "text/plain": [
       "<plotly.tools.PlotlyDisplay object>"
      ]
     },
     "execution_count": 23,
     "metadata": {},
     "output_type": "execute_result"
    }
   ],
   "source": [
    "dfeduHeatmap1 = pd.DataFrame()\n",
    "dfeduHeatmap2 = pd.DataFrame()\n",
    " \n",
    "dfeduHeatmap1['<50K'] = Y1\n",
    "dfeduHeatmap2['>=50K'] = Y2\n",
    "dfeduHeatMap = pd.concat([dfeduHeatmap1,dfeduHeatmap2], ignore_index=True, axis=1)\n",
    "dfeduHeatMap.index = X\n",
    "dfeduHeatMap.columns = ['<50K','>=50K']\n",
    "\n",
    "dfeduHeatMap['>=50K'].fillna('0',inplace=True)\n",
    "\n",
    " # Do the Heat map \n",
    "import plotly.plotly as py\n",
    "import plotly.graph_objs as go\n",
    "\n",
    "import pandas as pd\n",
    " \n",
    "data = [go.Heatmap(   x= X, y= dfeduHeatMap.columns , z=dfeduHeatMap.values.tolist(), colorscale='Viridis')]\n",
    "\n",
    "py.iplot(data, filename='pandas-heatmap',title=\"Heatmap\")"
   ]
  },
  {
   "cell_type": "code",
   "execution_count": null,
   "metadata": {
    "collapsed": true
   },
   "outputs": [],
   "source": [
    "from IPython.display import Image \n",
    "Image(filename=\"images/heated.png\")"
   ]
  },
  {
   "cell_type": "markdown",
   "metadata": {},
   "source": [
    "# Modeling and Evaluation (50 points total)  \n",
    "\n",
    "<font color='blue'>Different tasks will require different evaluation methods. Be as thorough as possible when analyzing\n",
    "the data you have chosen and use visualizations of the results to explain the performance and\n",
    "expected outcomes whenever possible. Guide the reader through your analysis with plenty of\n",
    "discussion of the results.  </font>\n",
    "\n",
    "• Option A: Cluster Analysis\n",
    "• Perform cluster analysis using several clustering methods\n",
    "• How did you determine a suitable number of clusters for each method?\n",
    "• Use internal and/or external validation measures to describe and compare the\n",
    "clusterings and the clusters (some visual methods would be good).\n",
    "• Describe your results. What findings are the most interesting and why?\n",
    "  \n",
    "• Option B: Association Rule Mining\n",
    "• Create frequent itemsets and association rules.\n",
    "• Use tables/visualization to discuss the found results.\n",
    "• Use several measure for evaluating how interesting different rules are.\n",
    "• Describe your results. What findings are the most compelling and why?\n",
    "  \n",
    "• Option C: Collaborative Filtering\n",
    "• Create user-item matrices or item-item matrices using collaborative filtering\n",
    "• Determine performance of the recommendations using different performance measures\n",
    "and explain what each measure\n",
    "• Use tables/visualization to discuss the found results. Explain each visualization in detail.\n",
    "• Describe your results. What findings are the most compelling and why?</font"
   ]
  },
  {
   "cell_type": "markdown",
   "metadata": {},
   "source": [
    "### Obtaining a baseline accuracy using a Random Forest classifier with no clustering  \n",
    "  \n",
    "  In order to properly determine the change in accuracy obtained by the various clustering techniques used we should first obtain a baseline accuracy score that can be obtained without any clustering being done on the data.  In order to obtain this baseline value we will run a stratified 10 fold cross validation on a Random Forest classifier before any clustering has been done to the data.  We have chosen to use 10 fold cross validation as it ensures that all data is included at least once in the test set, and we have chosen to make it stratified to account for the discrepancy in the dataset responses between those that earn less than 50,000 USD a year and those that earn more.  \n",
    "    \n",
    "  Please note that the approach we are using and the code to implement that approach are both heavily based upon workbook 9 \"clustering and discretization\" created by Eric Larson."
   ]
  },
  {
   "cell_type": "code",
   "execution_count": 27,
   "metadata": {
    "collapsed": true
   },
   "outputs": [],
   "source": [
    "# Here we set the one-hot encoded \"dummy\" variables as the X and the original target variable (where 0 is <50K and 1 is >=50K) will\n",
    "# become our y.  We also initialize a y_hat variable.\n",
    "X = df_dummies\n",
    "y = np.array(target)\n",
    "y_hat = np.zeros(len(target)) \n",
    "\n",
    "# This creates our K fold model with 10 folds.\n",
    "cv = StratifiedKFold(y, n_folds=10) "
   ]
  },
  {
   "cell_type": "code",
   "execution_count": 29,
   "metadata": {
    "collapsed": false
   },
   "outputs": [
    {
     "name": "stdout",
     "output_type": "stream",
     "text": [
      "Baseline accuracy and standard deviation=  84.6380834249 +- 0.724774636668\n"
     ]
    }
   ],
   "source": [
    "# Code in this cell based on workbook 9 \"clustering and discretization\" created by Eric Larson.\n",
    "\n",
    "clf = RandomForestClassifier(n_estimators=150,random_state=1)\n",
    "\n",
    "acc = cross_val_score(clf,X,y=y,cv=cv)\n",
    "\n",
    "print( \"Baseline accuracy and standard deviation= \", acc.mean()*100, \"+-\", acc.std()*100)"
   ]
  },
  {
   "cell_type": "markdown",
   "metadata": {},
   "source": [
    "So now we have a baseline accuracy of 84.64% and a standard deviation of 0.72.  How well our clustering techniques will be judged upon how they can either increase that accuracy score, decrease the standard deviation, or both.  \n",
    "  \n",
    "  For our first clustering attempt, we will see if clustering two of the explanatory variables that are suspected to be correlated will improve the accuracy of the classification task.  It is suspected that age and hours-per-week may be correlated, with an older workforce working fewer hours.  We will investigate this suspected correlation to see if clustering is worthwhile."
   ]
  },
  {
   "cell_type": "code",
   "execution_count": 36,
   "metadata": {
    "collapsed": false
   },
   "outputs": [
    {
     "name": "stderr",
     "output_type": "stream",
     "text": [
      "C:\\Users\\Bear\\Anaconda3\\lib\\site-packages\\matplotlib\\__init__.py:872: UserWarning:\n",
      "\n",
      "axes.color_cycle is deprecated and replaced with axes.prop_cycle; please use the latter.\n",
      "\n"
     ]
    },
    {
     "data": {
      "image/png": "[encoded data removed]",
      "text/plain": [
       "<matplotlib.figure.Figure at 0xd08e588>"
      ]
     },
     "metadata": {},
     "output_type": "display_data"
    }
   ],
   "source": [
    "# Code in this cell based on workbook 9 \"clustering and discretization\" created by Eric Larson.\n",
    "\n",
    "sns.set_palette(\"Set1\", 8, .75)\n",
    "\n",
    "%matplotlib inline\n",
    "X1 = df_dummies[['hours-per-week','age']].values\n",
    "\n",
    "plt.scatter(X1[:, 1], X1[:, 0], \n",
    "             s=20)\n",
    "plt.xlabel('Age'), plt.ylabel('Hours Per Week')\n",
    "plt.grid()\n",
    "plt.title('Age versus Hours Per Week')\n",
    "plt.show()"
   ]
  },
  {
   "cell_type": "markdown",
   "metadata": {},
   "source": [
    "In the plot above we see that while there is the expected effect of older workers working fewer hours, the effect is not very pronounced and there are not clear and obvious clusters that could be formed from the two.  Because there is not a strong and obvious correlation we are not inclined to pursue clustering these two variables for now.  \n",
    "  \n",
    "  Trying again, let's instead see if we observe an obvious correlation between age and reported capital gains.  It seems reasonable to assume that older workers are more likely to have capital gains than younger workers, and worth exploring.  We will do so using the same code and graph as before, only with different variables chosen."
   ]
  },
  {
   "cell_type": "code",
   "execution_count": 37,
   "metadata": {
    "collapsed": false
   },
   "outputs": [
    {
     "name": "stderr",
     "output_type": "stream",
     "text": [
      "C:\\Users\\Bear\\Anaconda3\\lib\\site-packages\\matplotlib\\__init__.py:872: UserWarning:\n",
      "\n",
      "axes.color_cycle is deprecated and replaced with axes.prop_cycle; please use the latter.\n",
      "\n"
     ]
    },
    {
     "data": {
      "image/png": "[encoded data removed]",
      "text/plain": [
       "<matplotlib.figure.Figure at 0xa991a20>"
      ]
     },
     "metadata": {},
     "output_type": "display_data"
    }
   ],
   "source": [
    "# Code in this cell based on workbook 9 \"clustering and discretization\" created by Eric Larson.\n",
    "\n",
    "sns.set_palette(\"Set1\", 8, .75)\n",
    "\n",
    "%matplotlib inline\n",
    "X1 = df_dummies[['capital-gain','age']].values\n",
    "\n",
    "plt.scatter(X1[:, 1], X1[:, 0], \n",
    "             s=20)\n",
    "plt.xlabel('Age'), plt.ylabel('Capital Gain Reported')\n",
    "plt.grid()\n",
    "plt.title('Age versus Capital Gain')\n",
    "plt.show()"
   ]
  },
  {
   "cell_type": "markdown",
   "metadata": {},
   "source": [
    "This seems more promising a candidate for clustering.  There is a string of respondents that report the maximum capital gain, creating a line at the top of the graph.  That line could very well become its own cluster, as well as perhaps a few other clusters in the non-maximized capital gain area.  Seeing how the accuracy is changed with this clustering will be interesting, so we will pursue the clustering now as our next step.  We will first assume 6 clusters becauase looking at the plot I can imagine about 6 clusters being there, but will play around with different values afterwards to ensure we choose the value that brings the most benefit to our accuracy."
   ]
  },
  {
   "cell_type": "code",
   "execution_count": 40,
   "metadata": {
    "collapsed": false
   },
   "outputs": [
    {
     "name": "stdout",
     "output_type": "stream",
     "text": [
      "Average accuracy after KMeans clustering for Age and Capital Gain =  84.684152221 +- 0.72464578864\n"
     ]
    }
   ],
   "source": [
    "# Code in this cell is based upon workbook 9 \"clustering and discretization\" created by Eric Larson.\n",
    "\n",
    "X1 = df_dummies[['capital-gain','age']].values\n",
    "cls = KMeans(n_clusters=6, init='k-means++',random_state=1)\n",
    "cls.fit(X1)\n",
    "ageCapGainFeature = cls.labels_ \n",
    "\n",
    "y = np.array(target)\n",
    "X = df_dummies\n",
    "X = np.column_stack((X,pd.get_dummies(ageCapGainFeature)))\n",
    "\n",
    "acc = cross_val_score(clf,X,y=y,cv=cv)\n",
    "\n",
    "print(\"Average accuracy after KMeans clustering for Age and Capital Gain = \", acc.mean()*100, \"+-\", acc.std()*100)"
   ]
  },
  {
   "cell_type": "markdown",
   "metadata": {},
   "source": [
    "We see that clustering using KMeans with 6 clusters brought an almost imperceptably small improvement.  We went from a baseline accuracy of 84.63 to 84.68, and the standard deviation reduced from 0.7247 to 0.7246.  Let's try using fewer clusters and see if that changes our results.  Below we will try with 3 clusters, and then try once more using only 2 clusters to see what we find."
   ]
  },
  {
   "cell_type": "code",
   "execution_count": 41,
   "metadata": {
    "collapsed": false
   },
   "outputs": [
    {
     "name": "stdout",
     "output_type": "stream",
     "text": [
      "Average accuracy after KMeans clustering for Age and Capital Gain (3 clusters)=  84.843848894 +- 0.623600964598\n"
     ]
    }
   ],
   "source": [
    "# Code in this cell is based upon workbook 9 \"clustering and discretization\" created by Eric Larson.\n",
    "\n",
    "X1 = df_dummies[['capital-gain','age']].values\n",
    "cls = KMeans(n_clusters=3, init='k-means++',random_state=1)\n",
    "cls.fit(X1)\n",
    "ageCapGainFeature = cls.labels_ \n",
    "\n",
    "y = np.array(target)\n",
    "X = df_dummies\n",
    "X = np.column_stack((X,pd.get_dummies(ageCapGainFeature)))\n",
    "\n",
    "acc = cross_val_score(clf,X,y=y,cv=cv)\n",
    "\n",
    "print(\"Average accuracy after KMeans clustering for Age and Capital Gain (3 clusters)= \", acc.mean()*100, \"+-\", acc.std()*100)"
   ]
  },
  {
   "cell_type": "code",
   "execution_count": 42,
   "metadata": {
    "collapsed": false
   },
   "outputs": [
    {
     "name": "stdout",
     "output_type": "stream",
     "text": [
      "Average accuracy after KMeans clustering for Age and Capital Gain (2 clusters)=  84.6595821964 +- 0.689470294792\n"
     ]
    }
   ],
   "source": [
    "# Code in this cell is based upon workbook 9 \"clustering and discretization\" created by Eric Larson.\n",
    "\n",
    "X1 = df_dummies[['capital-gain','age']].values\n",
    "cls = KMeans(n_clusters=2, init='k-means++',random_state=1)\n",
    "cls.fit(X1)\n",
    "ageCapGainFeature = cls.labels_ \n",
    "\n",
    "y = np.array(target)\n",
    "X = df_dummies\n",
    "X = np.column_stack((X,pd.get_dummies(ageCapGainFeature)))\n",
    "\n",
    "acc = cross_val_score(clf,X,y=y,cv=cv)\n",
    "\n",
    "print(\"Average accuracy after KMeans clustering for Age and Capital Gain (2 clusters)= \", acc.mean()*100, \"+-\", acc.std()*100)"
   ]
  },
  {
   "cell_type": "markdown",
   "metadata": {},
   "source": [
    "It seems that out of the three options tried, three clusters won out as the very best KMeans clustering option with an accuracy of 84.84% and a standard deviation of 0.62.  Next, let's see if agglomerative clustering does any better."
   ]
  },
  {
   "cell_type": "code",
   "execution_count": 44,
   "metadata": {
    "collapsed": false
   },
   "outputs": [
    {
     "ename": "SyntaxError",
     "evalue": "invalid syntax (<ipython-input-44-f4806ccec3b2>, line 18)",
     "output_type": "error",
     "traceback": [
      "\u001b[1;36m  File \u001b[1;32m\"<ipython-input-44-f4806ccec3b2>\"\u001b[1;36m, line \u001b[1;32m18\u001b[0m\n\u001b[1;33m    print \"C=\",3,link,\"Average accuracy = \", acc.mean()*100, \"+-\", acc.std()*100\u001b[0m\n\u001b[1;37m             ^\u001b[0m\n\u001b[1;31mSyntaxError\u001b[0m\u001b[1;31m:\u001b[0m invalid syntax\n"
     ]
    }
   ],
   "source": [
    "# Code in this cell is based upon workbook 9 \"clustering and discretization\" created by Eric Larson.\n",
    "\n",
    "X1 = df_dummies[['capital-gain','age']].values\n",
    "\n",
    "cls_fam = AgglomerativeClustering(n_clusters=3, linkage='ward')\n",
    "cls_fam.fit(X1)\n",
    "newfeature_fam = cls_fam.labels_ \n",
    "\n",
    "y = np.array(target)\n",
    "X = df_dummies\n",
    "X = np.column_stack((X,pd.get_dummies(newfeature_fam))) \n",
    "\n",
    "acc = cross_val_score(clf,X,y=y,cv=cv)\n",
    "print(\"Accuracy for agglomerative clustering = \", acc.mean()*100, \"+-\", acc.std()*100)"
   ]
  },
  {
   "cell_type": "code",
   "execution_count": null,
   "metadata": {
    "collapsed": true
   },
   "outputs": [],
   "source": [
    "# Code in this cell is based upon workbook 9 \"clustering and discretization\" created by Eric Larson.\n",
    "\n",
    "cls_fam = DBSCAN(eps=0.15, min_samples=3,random_state=1)\n",
    "cls_fam.fit(X1)\n",
    "newfeature_fam = cls_fam.labels_ \n",
    "\n",
    "y = np.array(target)\n",
    "X = df_dummies\n",
    "X = np.column_stack((X,pd.get_dummies(newfeature_fam))) \n",
    "\n",
    "acc = cross_val_score(clf,X,y=y,cv=cv)\n",
    "\n",
    "print(\"Accuracy for DBScan clustering = \", acc.mean()*100, \"+-\", acc.std()*100)"
   ]
  },
  {
   "cell_type": "code",
   "execution_count": null,
   "metadata": {
    "collapsed": true
   },
   "outputs": [],
   "source": [
    "data = X1\n",
    "\n",
    "cls = DBSCAN(eps=0.15, min_samples=3,random_state=1)\n",
    "cls.fit(data)\n",
    "dbs_labels = cls.labels_ \n",
    "\n",
    "cls = AgglomerativeClustering(n_clusters=3, linkage='ward')\n",
    "cls.fit(data)\n",
    "hac_labels = cls.labels_ \n",
    "\n",
    "cls = KMeans(n_clusters=3, random_state=1)\n",
    "cls.fit(data)\n",
    "kmn_labels = cls.labels_\n",
    "\n",
    "fig = plt.figure(figsize=(12,8))\n",
    "title = ['DBSCAN','HAC','KMEANS']\n",
    "\n",
    "for i,l in enumerate([dbs_labels,hac_labels,kmn_labels]):\n",
    "    \n",
    "    plt.subplot(3,2,2*i+1)\n",
    "    plt.scatter(data[:, 0], data[:, 1]+np.random.random(data[:, 1].shape)/2, c=l, cmap=plt.cm.rainbow, s=20, linewidths=0)\n",
    "    plt.xlabel('Age'), plt.ylabel('Capital Gain')\n",
    "    plt.grid()\n",
    "    plt.title(title[i])\n",
    "    \n",
    "\n",
    "plt.tight_layout()\n",
    "plt.show()"
   ]
  },
  {
   "cell_type": "code",
   "execution_count": null,
   "metadata": {
    "collapsed": true
   },
   "outputs": [],
   "source": []
  },
  {
   "cell_type": "code",
   "execution_count": null,
   "metadata": {
    "collapsed": true
   },
   "outputs": [],
   "source": []
  },
  {
   "cell_type": "code",
   "execution_count": null,
   "metadata": {
    "collapsed": true
   },
   "outputs": [],
   "source": []
  },
  {
   "cell_type": "markdown",
   "metadata": {},
   "source": [
    "# Deployment (10 points total)  \n",
    "• Be critical of your performance and tell the reader how you current model might be usable by\n",
    "other parties. Did you achieve your goals? If not, can you reign in the utility of your modeling?\n",
    "• How useful is your model for interested parties (i.e., the companies or organizations\n",
    "that might want to use it)?\n",
    "• How would your deploy your model for interested parties?\n",
    "• What other data should be collected?\n",
    "• How often would the model need to be updated, etc.?"
   ]
  },
  {
   "cell_type": "markdown",
   "metadata": {},
   "source": [
    "# Exceptional Work (10 points total)  \n",
    "\n",
    "• You have free reign to provide additional analyses or combine analyses"
   ]
  },
  {
   "cell_type": "code",
   "execution_count": null,
   "metadata": {
    "collapsed": true
   },
   "outputs": [],
   "source": []
  },
  {
   "cell_type": "code",
   "execution_count": null,
   "metadata": {
    "collapsed": true
   },
   "outputs": [],
   "source": []
  },
  {
   "cell_type": "code",
   "execution_count": null,
   "metadata": {
    "collapsed": true
   },
   "outputs": [],
   "source": []
  }
 ],
 "metadata": {
  "kernelspec": {
   "display_name": "Python [Root]",
   "language": "python",
   "name": "Python [Root]"
  },
  "language_info": {
   "codemirror_mode": {
    "name": "ipython",
    "version": 2
   },
   "file_extension": ".py",
   "mimetype": "text/x-python",
   "name": "python",
   "nbconvert_exporter": "python",
   "pygments_lexer": "ipython2",
   "version": "2.7.12"
  }
 },
 "nbformat": 4,
 "nbformat_minor": 0
}
