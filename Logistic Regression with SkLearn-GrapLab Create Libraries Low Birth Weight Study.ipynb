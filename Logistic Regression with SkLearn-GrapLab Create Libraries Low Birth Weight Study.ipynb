{
 "cells": [
  {
   "cell_type": "markdown",
   "metadata": {},
   "source": [
    "# Logistic Regression\n",
    "\n",
    "This is an example of performing logistic regression in Python with the Scikit-learn module. In this example, we perform many useful python functions beyond what we need for a simple model. This is done partially to explore some more advanced modeling, array manipulation, evaluation, and so on. We will also use several external modules importing data, formatting data, manipulating data, modeling and graphical exploration."
   ]
  },
  {
   "cell_type": "markdown",
   "metadata": {},
   "source": [
    "# Dataset\n",
    "\n",
    "The dataset I chose for this example in Longitudinal Low Birth Weight Study (CLSLOWBWT.DAT). Hosmer and Lemeshow (2000) Applied Logistic Regression: Second Edition. These data are copyrighted by John Wiley & Sons Inc. and must be acknowledged and used accordingly.\n"
   ]
  },
  {
   "cell_type": "markdown",
   "metadata": {},
   "source": [
    "# List of Variables\n",
    "\n",
    "Variable Description Codes/Values Name\n",
    "\n",
    "    1. Identification Code ID Number ID\n",
    "    2. Birth Number 1-4 BIRTH\n",
    "    3. Smoking Status 0 = No, 1 = Yes SMOKE During Pregnancy\n",
    "    4. Race 1 = White, 2 = Black RACE 3 = Other\n",
    "    5. Age of Mother Years AGE\n",
    "    6. Weight of Mother at Pounds LWT Last Menstrual Period\n",
    "    7. Birth Weight Grams BWT\n",
    "    8. Low Birth Weight 1 = BWT <=2500g, LOW 0 = BWT >2500g\n"
   ]
  },
  {
   "cell_type": "markdown",
   "metadata": {},
   "source": [
    "# Problem Statement\n",
    "\n",
    "In this example, we want to predict Low Birth Weight using the remaining dataset variables. Low Birth Weight, the dependent variable, 1 = BWT <=2500g and 0 = BWT >2500g.\n"
   ]
  },
  {
   "cell_type": "markdown",
   "metadata": {},
   "source": [
    "# Important Modules"
   ]
  },
  {
   "cell_type": "code",
   "execution_count": 76,
   "metadata": {
    "collapsed": true
   },
   "outputs": [],
   "source": [
    "import numpy as np\n",
    "import pandas as pd\n",
    "import statsmodels.api as sm\n",
    "import matplotlib.pyplot as plt\n",
    "from patsy import dmatrices\n",
    "from sklearn.linear_model import LogisticRegression\n",
    "from sklearn.cross_validation import train_test_split\n",
    "from sklearn import metrics\n",
    "from sklearn.cross_validation import cross_val_score\n",
    "%matplotlib inline\n",
    "\n",
    "import graphlab as gl\n",
    "import graphlab\n",
    "# keep data visualizations within notebook\n",
    "graphlab.canvas.set_target('ipynb')"
   ]
  },
  {
   "cell_type": "code",
   "execution_count": 73,
   "metadata": {
    "collapsed": true
   },
   "outputs": [],
   "source": [
    "PATH = 'data\\\\'"
   ]
  },
  {
   "cell_type": "markdown",
   "metadata": {},
   "source": [
    "# Data Pre-Processing"
   ]
  },
  {
   "cell_type": "code",
   "execution_count": 74,
   "metadata": {
    "collapsed": false
   },
   "outputs": [],
   "source": [
    "# load dataset dta\n",
    "CLS_LOW_BWT_FILENAME = PATH +  \"CLSLOWBWT.csv\"\n",
    "dta = pd.read_csv(CLS_LOW_BWT_FILENAME)"
   ]
  },
  {
   "cell_type": "markdown",
   "metadata": {},
   "source": [
    "# Data Exploration"
   ]
  },
  {
   "cell_type": "code",
   "execution_count": 6,
   "metadata": {
    "collapsed": false
   },
   "outputs": [
    {
     "data": {
      "text/html": [
       "<div>\n",
       "<table border=\"1\" class=\"dataframe\">\n",
       "  <thead>\n",
       "    <tr style=\"text-align: right;\">\n",
       "      <th></th>\n",
       "      <th>ID</th>\n",
       "      <th>BIRTH</th>\n",
       "      <th>SMOKE</th>\n",
       "      <th>RACE</th>\n",
       "      <th>AGE</th>\n",
       "      <th>LWT</th>\n",
       "      <th>BWT</th>\n",
       "    </tr>\n",
       "    <tr>\n",
       "      <th>LOW</th>\n",
       "      <th></th>\n",
       "      <th></th>\n",
       "      <th></th>\n",
       "      <th></th>\n",
       "      <th></th>\n",
       "      <th></th>\n",
       "      <th></th>\n",
       "    </tr>\n",
       "  </thead>\n",
       "  <tbody>\n",
       "    <tr>\n",
       "      <th>0</th>\n",
       "      <td>92.875371</td>\n",
       "      <td>1.836795</td>\n",
       "      <td>0.338279</td>\n",
       "      <td>1.976261</td>\n",
       "      <td>26.163205</td>\n",
       "      <td>144.741840</td>\n",
       "      <td>3204.059347</td>\n",
       "    </tr>\n",
       "    <tr>\n",
       "      <th>1</th>\n",
       "      <td>95.092715</td>\n",
       "      <td>1.953642</td>\n",
       "      <td>0.536424</td>\n",
       "      <td>1.576159</td>\n",
       "      <td>27.059603</td>\n",
       "      <td>138.304636</td>\n",
       "      <td>2033.867550</td>\n",
       "    </tr>\n",
       "  </tbody>\n",
       "</table>\n",
       "</div>"
      ],
      "text/plain": [
       "            ID     BIRTH     SMOKE      RACE        AGE         LWT  \\\n",
       "LOW                                                                   \n",
       "0    92.875371  1.836795  0.338279  1.976261  26.163205  144.741840   \n",
       "1    95.092715  1.953642  0.536424  1.576159  27.059603  138.304636   \n",
       "\n",
       "             BWT  \n",
       "LOW               \n",
       "0    3204.059347  \n",
       "1    2033.867550  "
      ]
     },
     "execution_count": 6,
     "metadata": {},
     "output_type": "execute_result"
    }
   ],
   "source": [
    "dta.groupby('LOW').mean()"
   ]
  },
  {
   "cell_type": "markdown",
   "metadata": {},
   "source": [
    "We can see that on average, women who have children with a low birth weight are more likely to be smokers than nonsmokers. This makes sense based on scientific studies. Let's take another look at the Birth Number variable."
   ]
  },
  {
   "cell_type": "code",
   "execution_count": 7,
   "metadata": {
    "collapsed": false
   },
   "outputs": [
    {
     "data": {
      "text/html": [
       "<div>\n",
       "<table border=\"1\" class=\"dataframe\">\n",
       "  <thead>\n",
       "    <tr style=\"text-align: right;\">\n",
       "      <th></th>\n",
       "      <th>ID</th>\n",
       "      <th>SMOKE</th>\n",
       "      <th>RACE</th>\n",
       "      <th>AGE</th>\n",
       "      <th>LWT</th>\n",
       "      <th>BWT</th>\n",
       "      <th>LOW</th>\n",
       "    </tr>\n",
       "    <tr>\n",
       "      <th>BIRTH</th>\n",
       "      <th></th>\n",
       "      <th></th>\n",
       "      <th></th>\n",
       "      <th></th>\n",
       "      <th></th>\n",
       "      <th></th>\n",
       "      <th></th>\n",
       "    </tr>\n",
       "  </thead>\n",
       "  <tbody>\n",
       "    <tr>\n",
       "      <th>1</th>\n",
       "      <td>94.500000</td>\n",
       "      <td>0.393617</td>\n",
       "      <td>1.851064</td>\n",
       "      <td>22.819149</td>\n",
       "      <td>129.851064</td>\n",
       "      <td>2848.159574</td>\n",
       "      <td>0.281915</td>\n",
       "    </tr>\n",
       "    <tr>\n",
       "      <th>2</th>\n",
       "      <td>94.500000</td>\n",
       "      <td>0.393617</td>\n",
       "      <td>1.851064</td>\n",
       "      <td>26.930851</td>\n",
       "      <td>150.638298</td>\n",
       "      <td>2857.367021</td>\n",
       "      <td>0.303191</td>\n",
       "    </tr>\n",
       "    <tr>\n",
       "      <th>3</th>\n",
       "      <td>89.091837</td>\n",
       "      <td>0.408163</td>\n",
       "      <td>1.857143</td>\n",
       "      <td>31.153061</td>\n",
       "      <td>150.520408</td>\n",
       "      <td>2838.153061</td>\n",
       "      <td>0.367347</td>\n",
       "    </tr>\n",
       "    <tr>\n",
       "      <th>4</th>\n",
       "      <td>99.642857</td>\n",
       "      <td>0.500000</td>\n",
       "      <td>1.857143</td>\n",
       "      <td>35.500000</td>\n",
       "      <td>155.642857</td>\n",
       "      <td>2578.857143</td>\n",
       "      <td>0.357143</td>\n",
       "    </tr>\n",
       "  </tbody>\n",
       "</table>\n",
       "</div>"
      ],
      "text/plain": [
       "              ID     SMOKE      RACE        AGE         LWT          BWT  \\\n",
       "BIRTH                                                                      \n",
       "1      94.500000  0.393617  1.851064  22.819149  129.851064  2848.159574   \n",
       "2      94.500000  0.393617  1.851064  26.930851  150.638298  2857.367021   \n",
       "3      89.091837  0.408163  1.857143  31.153061  150.520408  2838.153061   \n",
       "4      99.642857  0.500000  1.857143  35.500000  155.642857  2578.857143   \n",
       "\n",
       "            LOW  \n",
       "BIRTH            \n",
       "1      0.281915  \n",
       "2      0.303191  \n",
       "3      0.367347  \n",
       "4      0.357143  "
      ]
     },
     "execution_count": 7,
     "metadata": {},
     "output_type": "execute_result"
    }
   ],
   "source": [
    "dta.groupby('BIRTH').mean()"
   ]
  },
  {
   "cell_type": "markdown",
   "metadata": {},
   "source": [
    "Low Birth Weight trends upward with more births."
   ]
  },
  {
   "cell_type": "markdown",
   "metadata": {},
   "source": [
    "# Data Visualization"
   ]
  },
  {
   "cell_type": "code",
   "execution_count": null,
   "metadata": {
    "collapsed": true
   },
   "outputs": [],
   "source": [
    "# show plots in the notebook %matplotlib inline"
   ]
  },
  {
   "cell_type": "code",
   "execution_count": 11,
   "metadata": {
    "collapsed": false
   },
   "outputs": [
    {
     "data": {
      "text/plain": [
       "<matplotlib.text.Text at 0xcc08048>"
      ]
     },
     "execution_count": 11,
     "metadata": {},
     "output_type": "execute_result"
    },
    {
     "data": {
      "image/png": "[encoded data removed]",
      "text/plain": [
       "<matplotlib.figure.Figure at 0xcbb6198>"
      ]
     },
     "metadata": {},
     "output_type": "display_data"
    }
   ],
   "source": [
    "# histogram of birth number\n",
    "dta.BIRTH.hist() \n",
    "plt.title('Histogram of Low Birth Weight')\n",
    "plt.xlabel('Birth Number')\n",
    "plt.ylabel('Frequency')"
   ]
  },
  {
   "cell_type": "code",
   "execution_count": 12,
   "metadata": {
    "collapsed": false
   },
   "outputs": [
    {
     "data": {
      "text/plain": [
       "<matplotlib.text.Text at 0xced8e80>"
      ]
     },
     "execution_count": 12,
     "metadata": {},
     "output_type": "execute_result"
    },
    {
     "data": {
      "image/png": "[encoded data removed]",
      "text/plain": [
       "<matplotlib.figure.Figure at 0xccb6160>"
      ]
     },
     "metadata": {},
     "output_type": "display_data"
    }
   ],
   "source": [
    "# histogram of age of mother\n",
    "dta.AGE.hist() \n",
    "plt.title('Histogram of Age of Mother')\n",
    "plt.xlabel('Age')\n",
    "plt.ylabel('Frequency')"
   ]
  },
  {
   "cell_type": "markdown",
   "metadata": {},
   "source": [
    "Let's take a look at the distribution of smokers for those having children with low birth weights versus those who do not."
   ]
  },
  {
   "cell_type": "code",
   "execution_count": 13,
   "metadata": {
    "collapsed": false
   },
   "outputs": [
    {
     "data": {
      "text/plain": [
       "<matplotlib.text.Text at 0xd18a240>"
      ]
     },
     "execution_count": 13,
     "metadata": {},
     "output_type": "execute_result"
    },
    {
     "data": {
      "image/png": "[encoded data removed]",
      "text/plain": [
       "<matplotlib.figure.Figure at 0xcef8320>"
      ]
     },
     "metadata": {},
     "output_type": "display_data"
    }
   ],
   "source": [
    "# barplot of low birth weights grouped by smoker status (True or False)\n",
    "pd.crosstab(dta.SMOKE, \n",
    "            dta.LOW.astype(bool)).plot(kind='bar')\n",
    "plt.title('Somker Distribution by Low Birth Weight')\n",
    "plt.xlabel('Smoker')\n",
    "plt.ylabel('Frequency')"
   ]
  },
  {
   "cell_type": "markdown",
   "metadata": {},
   "source": [
    "Now let's use a stacked barplot to look at the percentage of women having children with low birth weights by age."
   ]
  },
  {
   "cell_type": "code",
   "execution_count": 14,
   "metadata": {
    "collapsed": false
   },
   "outputs": [
    {
     "data": {
      "text/plain": [
       "<matplotlib.text.Text at 0xd319a20>"
      ]
     },
     "execution_count": 14,
     "metadata": {},
     "output_type": "execute_result"
    },
    {
     "data": {
      "image/png": "[encoded data removed]",
      "text/plain": [
       "<matplotlib.figure.Figure at 0xd29c6d8>"
      ]
     },
     "metadata": {},
     "output_type": "display_data"
    }
   ],
   "source": [
    "low_age = pd.crosstab(dta.AGE, dta.LOW.astype(bool))\n",
    "low_age.div(low_age.sum(1).astype(float), axis=0).plot(kind='bar', stacked=True)\n",
    "plt.title('Low Birth Weight Percentage by Age of Mother')\n",
    "plt.xlabel('Age of Mother')\n",
    "plt.ylabel('Percentage')"
   ]
  },
  {
   "cell_type": "markdown",
   "metadata": {},
   "source": [
    "# Prepare Data for Logistic Regression"
   ]
  },
  {
   "cell_type": "markdown",
   "metadata": {},
   "source": [
    "To prepare the data, we want to add an intercept column as well as dummy variables for Age of Mother and Weight of Mother at Last Menstrual Period, since we are treating them as categorical variables. The \"dmatrices\" function from the patsy module can do that using formula language.\n",
    "The column names for the dummy variables are messy, so let's rename those."
   ]
  },
  {
   "cell_type": "code",
   "execution_count": 16,
   "metadata": {
    "collapsed": false
   },
   "outputs": [
    {
     "name": "stdout",
     "output_type": "stream",
     "text": [
      "Index([u'Intercept', u'ID', u'BIRTH', u'SMOKE', u'RACE', u'AGE', u'LWT'], dtype='object')\n"
     ]
    }
   ],
   "source": [
    "# create dataframes with an intercept column and dummy variables for\n",
    "y, X = dmatrices('LOW ~ ID + BIRTH + SMOKE + RACE + AGE + LWT', \n",
    "                 dta, \n",
    "                 return_type=\"dataframe\")\n",
    "print X.columns"
   ]
  },
  {
   "cell_type": "markdown",
   "metadata": {},
   "source": [
    "We now want to convert the numeric (interval) variable AGE to a categorical variable with 4 classes.\n",
    "We also need to flatten y into a 1-D array, so that Scikit-learn will properly understand it as the response variable."
   ]
  },
  {
   "cell_type": "code",
   "execution_count": 17,
   "metadata": {
    "collapsed": true
   },
   "outputs": [],
   "source": [
    "# flatten y into a 1-D array\n",
    "y = np.ravel(y)"
   ]
  },
  {
   "cell_type": "markdown",
   "metadata": {},
   "source": [
    "# First Logistic Regression"
   ]
  },
  {
   "cell_type": "markdown",
   "metadata": {},
   "source": [
    "Let's go ahead and run logistic regression on the entire data set, and see how accurate it is."
   ]
  },
  {
   "cell_type": "code",
   "execution_count": 19,
   "metadata": {
    "collapsed": false
   },
   "outputs": [
    {
     "data": {
      "text/plain": [
       "0.70696721311475408"
      ]
     },
     "execution_count": 19,
     "metadata": {},
     "output_type": "execute_result"
    }
   ],
   "source": [
    "# instantiate a logistic regression model, and fit with X and y\n",
    "model = LogisticRegression() \n",
    "model = model.fit(X, y)\n",
    "# check the accuracy on the training set\n",
    "model.score(X, y)"
   ]
  },
  {
   "cell_type": "markdown",
   "metadata": {},
   "source": [
    "70.7% accuracy seems good, but what's the null error rate?"
   ]
  },
  {
   "cell_type": "code",
   "execution_count": 20,
   "metadata": {
    "collapsed": false
   },
   "outputs": [
    {
     "data": {
      "text/plain": [
       "0.3094262295081967"
      ]
     },
     "execution_count": 20,
     "metadata": {},
     "output_type": "execute_result"
    }
   ],
   "source": [
    "# what percentage had low birth weights?\n",
    "y.mean()"
   ]
  },
  {
   "cell_type": "markdown",
   "metadata": {},
   "source": [
    "Only 31% of the women had low birth rate children, which means that you could obtain 69% accuracy by always predicting \"no\". So we're doing better than the null error rate, but not by much. Let's examine the coefficients to see what we learn."
   ]
  },
  {
   "cell_type": "code",
   "execution_count": 21,
   "metadata": {
    "collapsed": false
   },
   "outputs": [
    {
     "data": {
      "text/html": [
       "<div>\n",
       "<table border=\"1\" class=\"dataframe\">\n",
       "  <thead>\n",
       "    <tr style=\"text-align: right;\">\n",
       "      <th></th>\n",
       "      <th>0</th>\n",
       "      <th>1</th>\n",
       "    </tr>\n",
       "  </thead>\n",
       "  <tbody>\n",
       "    <tr>\n",
       "      <th>0</th>\n",
       "      <td>Intercept</td>\n",
       "      <td>[0.0336484036189]</td>\n",
       "    </tr>\n",
       "    <tr>\n",
       "      <th>1</th>\n",
       "      <td>ID</td>\n",
       "      <td>[0.00231314008477]</td>\n",
       "    </tr>\n",
       "    <tr>\n",
       "      <th>2</th>\n",
       "      <td>BIRTH</td>\n",
       "      <td>[0.185995251421]</td>\n",
       "    </tr>\n",
       "    <tr>\n",
       "      <th>3</th>\n",
       "      <td>SMOKE</td>\n",
       "      <td>[0.546655639347]</td>\n",
       "    </tr>\n",
       "    <tr>\n",
       "      <th>4</th>\n",
       "      <td>RACE</td>\n",
       "      <td>[-0.413795537976]</td>\n",
       "    </tr>\n",
       "    <tr>\n",
       "      <th>5</th>\n",
       "      <td>AGE</td>\n",
       "      <td>[0.0257483072668]</td>\n",
       "    </tr>\n",
       "    <tr>\n",
       "      <th>6</th>\n",
       "      <td>LWT</td>\n",
       "      <td>[-0.0115073134923]</td>\n",
       "    </tr>\n",
       "  </tbody>\n",
       "</table>\n",
       "</div>"
      ],
      "text/plain": [
       "           0                   1\n",
       "0  Intercept   [0.0336484036189]\n",
       "1         ID  [0.00231314008477]\n",
       "2      BIRTH    [0.185995251421]\n",
       "3      SMOKE    [0.546655639347]\n",
       "4       RACE   [-0.413795537976]\n",
       "5        AGE   [0.0257483072668]\n",
       "6        LWT  [-0.0115073134923]"
      ]
     },
     "execution_count": 21,
     "metadata": {},
     "output_type": "execute_result"
    }
   ],
   "source": [
    "# examine the coefficients \n",
    "pd.DataFrame(zip(X.columns, np.transpose(model.coef_)))"
   ]
  },
  {
   "cell_type": "markdown",
   "metadata": {},
   "source": [
    "# Converting Variables & Merging Dataframes\n",
    "\n",
    "Now, we want to take the variable AGE and convert it to a categorical variable, to see if we can improve the model. We will do this by creating two data frames from our original data. we will then merge the two data frames, so both need to contain the ID variable. One data from will have the converted categorical variable age_group, and the other will have the dependent variable and the other independent variables."
   ]
  },
  {
   "cell_type": "code",
   "execution_count": 23,
   "metadata": {
    "collapsed": false
   },
   "outputs": [
    {
     "data": {
      "text/html": [
       "<div>\n",
       "<table border=\"1\" class=\"dataframe\">\n",
       "  <thead>\n",
       "    <tr style=\"text-align: right;\">\n",
       "      <th></th>\n",
       "      <th>ID</th>\n",
       "      <th>AGE</th>\n",
       "      <th>age_groups</th>\n",
       "    </tr>\n",
       "  </thead>\n",
       "  <tbody>\n",
       "    <tr>\n",
       "      <th>0</th>\n",
       "      <td>1</td>\n",
       "      <td>28</td>\n",
       "      <td>25-34</td>\n",
       "    </tr>\n",
       "    <tr>\n",
       "      <th>1</th>\n",
       "      <td>1</td>\n",
       "      <td>33</td>\n",
       "      <td>25-34</td>\n",
       "    </tr>\n",
       "    <tr>\n",
       "      <th>2</th>\n",
       "      <td>2</td>\n",
       "      <td>29</td>\n",
       "      <td>25-34</td>\n",
       "    </tr>\n",
       "    <tr>\n",
       "      <th>3</th>\n",
       "      <td>2</td>\n",
       "      <td>34</td>\n",
       "      <td>25-34</td>\n",
       "    </tr>\n",
       "    <tr>\n",
       "      <th>4</th>\n",
       "      <td>2</td>\n",
       "      <td>37</td>\n",
       "      <td>35-44</td>\n",
       "    </tr>\n",
       "  </tbody>\n",
       "</table>\n",
       "</div>"
      ],
      "text/plain": [
       "   ID  AGE age_groups\n",
       "0   1   28      25-34\n",
       "1   1   33      25-34\n",
       "2   2   29      25-34\n",
       "3   2   34      25-34\n",
       "4   2   37      35-44"
      ]
     },
     "execution_count": 23,
     "metadata": {},
     "output_type": "execute_result"
    }
   ],
   "source": [
    "df1 = pd.DataFrame(dta, columns=['ID','AGE'])\n",
    "df2 = pd.DataFrame(dta, columns=['ID', 'BIRTH', 'SMOKE', 'RACE', 'LWT', 'LOW'])\n",
    "bins = [15, 25, 35, 45, 55]\n",
    "group_names = ['15-24', '25-34', '35-44', '45-55']\n",
    "age_groups = pd.cut(df1['AGE'], bins, labels=group_names)\n",
    "df1['age_groups'] = pd.cut(df1['AGE'], bins, labels=group_names)\n",
    "df1.head(5)"
   ]
  },
  {
   "cell_type": "markdown",
   "metadata": {},
   "source": [
    "# We now merge the two data frames."
   ]
  },
  {
   "cell_type": "code",
   "execution_count": 26,
   "metadata": {
    "collapsed": false
   },
   "outputs": [
    {
     "data": {
      "text/html": [
       "<div>\n",
       "<table border=\"1\" class=\"dataframe\">\n",
       "  <thead>\n",
       "    <tr style=\"text-align: right;\">\n",
       "      <th></th>\n",
       "      <th>ID</th>\n",
       "      <th>BIRTH</th>\n",
       "      <th>SMOKE</th>\n",
       "      <th>RACE</th>\n",
       "      <th>LWT</th>\n",
       "      <th>LOW</th>\n",
       "      <th>AGE</th>\n",
       "      <th>age_groups</th>\n",
       "    </tr>\n",
       "  </thead>\n",
       "  <tbody>\n",
       "    <tr>\n",
       "      <th>0</th>\n",
       "      <td>1</td>\n",
       "      <td>1</td>\n",
       "      <td>1</td>\n",
       "      <td>3</td>\n",
       "      <td>120</td>\n",
       "      <td>0</td>\n",
       "      <td>28</td>\n",
       "      <td>25-34</td>\n",
       "    </tr>\n",
       "    <tr>\n",
       "      <th>1</th>\n",
       "      <td>1</td>\n",
       "      <td>1</td>\n",
       "      <td>1</td>\n",
       "      <td>3</td>\n",
       "      <td>120</td>\n",
       "      <td>0</td>\n",
       "      <td>33</td>\n",
       "      <td>25-34</td>\n",
       "    </tr>\n",
       "    <tr>\n",
       "      <th>2</th>\n",
       "      <td>1</td>\n",
       "      <td>2</td>\n",
       "      <td>1</td>\n",
       "      <td>3</td>\n",
       "      <td>141</td>\n",
       "      <td>0</td>\n",
       "      <td>28</td>\n",
       "      <td>25-34</td>\n",
       "    </tr>\n",
       "    <tr>\n",
       "      <th>3</th>\n",
       "      <td>1</td>\n",
       "      <td>2</td>\n",
       "      <td>1</td>\n",
       "      <td>3</td>\n",
       "      <td>141</td>\n",
       "      <td>0</td>\n",
       "      <td>33</td>\n",
       "      <td>25-34</td>\n",
       "    </tr>\n",
       "    <tr>\n",
       "      <th>4</th>\n",
       "      <td>2</td>\n",
       "      <td>1</td>\n",
       "      <td>0</td>\n",
       "      <td>1</td>\n",
       "      <td>130</td>\n",
       "      <td>0</td>\n",
       "      <td>29</td>\n",
       "      <td>25-34</td>\n",
       "    </tr>\n",
       "  </tbody>\n",
       "</table>\n",
       "</div>"
      ],
      "text/plain": [
       "   ID  BIRTH  SMOKE  RACE  LWT  LOW  AGE age_groups\n",
       "0   1      1      1     3  120    0   28      25-34\n",
       "1   1      1      1     3  120    0   33      25-34\n",
       "2   1      2      1     3  141    0   28      25-34\n",
       "3   1      2      1     3  141    0   33      25-34\n",
       "4   2      1      0     1  130    0   29      25-34"
      ]
     },
     "execution_count": 26,
     "metadata": {},
     "output_type": "execute_result"
    }
   ],
   "source": [
    "left = df2 \n",
    "right = df1 \n",
    "result = pd.merge(left, right, on='ID') \n",
    "result.head(5)"
   ]
  },
  {
   "cell_type": "markdown",
   "metadata": {},
   "source": [
    "# Second Logistic Regression\n",
    "We are now ready to build and evaluate our second logistic regression model, using the merged data frames."
   ]
  },
  {
   "cell_type": "code",
   "execution_count": 27,
   "metadata": {
    "collapsed": false
   },
   "outputs": [
    {
     "name": "stdout",
     "output_type": "stream",
     "text": [
      "Index([u'Intercept', u'age_groups[T.25-34]', u'age_groups[T.35-44]',\n",
      "       u'age_groups[T.45-55]', u'BIRTH', u'SMOKE', u'RACE', u'LWT'],\n",
      "      dtype='object')\n"
     ]
    }
   ],
   "source": [
    "y, Z = dmatrices('LOW ~ BIRTH + SMOKE + RACE + age_groups + LWT', result, return_type=\"dataframe\")\n",
    "print Z.columns"
   ]
  },
  {
   "cell_type": "markdown",
   "metadata": {},
   "source": [
    "Since we change the size of y when we converted AGE and merged, we also need to flatten y again into a 1-D array, so that Scikit-learn will properly understand it as the response variable"
   ]
  },
  {
   "cell_type": "code",
   "execution_count": 28,
   "metadata": {
    "collapsed": true
   },
   "outputs": [],
   "source": [
    "# flatten y into a 1-D array\n",
    "y = np.ravel(y)"
   ]
  },
  {
   "cell_type": "markdown",
   "metadata": {},
   "source": [
    "Before we perform the logistic regression, we want to check the matrix we just formed to ensure it is consistent with our intent."
   ]
  },
  {
   "cell_type": "code",
   "execution_count": 30,
   "metadata": {
    "collapsed": false
   },
   "outputs": [
    {
     "data": {
      "text/html": [
       "<div>\n",
       "<table border=\"1\" class=\"dataframe\">\n",
       "  <thead>\n",
       "    <tr style=\"text-align: right;\">\n",
       "      <th></th>\n",
       "      <th>Intercept</th>\n",
       "      <th>age_groups[T.25-34]</th>\n",
       "      <th>age_groups[T.35-44]</th>\n",
       "      <th>age_groups[T.45-55]</th>\n",
       "      <th>BIRTH</th>\n",
       "      <th>SMOKE</th>\n",
       "      <th>RACE</th>\n",
       "      <th>LWT</th>\n",
       "    </tr>\n",
       "  </thead>\n",
       "  <tbody>\n",
       "    <tr>\n",
       "      <th>0</th>\n",
       "      <td>1.0</td>\n",
       "      <td>1.0</td>\n",
       "      <td>0.0</td>\n",
       "      <td>0.0</td>\n",
       "      <td>1.0</td>\n",
       "      <td>1.0</td>\n",
       "      <td>3.0</td>\n",
       "      <td>120.0</td>\n",
       "    </tr>\n",
       "    <tr>\n",
       "      <th>1</th>\n",
       "      <td>1.0</td>\n",
       "      <td>1.0</td>\n",
       "      <td>0.0</td>\n",
       "      <td>0.0</td>\n",
       "      <td>1.0</td>\n",
       "      <td>1.0</td>\n",
       "      <td>3.0</td>\n",
       "      <td>120.0</td>\n",
       "    </tr>\n",
       "    <tr>\n",
       "      <th>2</th>\n",
       "      <td>1.0</td>\n",
       "      <td>1.0</td>\n",
       "      <td>0.0</td>\n",
       "      <td>0.0</td>\n",
       "      <td>2.0</td>\n",
       "      <td>1.0</td>\n",
       "      <td>3.0</td>\n",
       "      <td>141.0</td>\n",
       "    </tr>\n",
       "    <tr>\n",
       "      <th>3</th>\n",
       "      <td>1.0</td>\n",
       "      <td>1.0</td>\n",
       "      <td>0.0</td>\n",
       "      <td>0.0</td>\n",
       "      <td>2.0</td>\n",
       "      <td>1.0</td>\n",
       "      <td>3.0</td>\n",
       "      <td>141.0</td>\n",
       "    </tr>\n",
       "    <tr>\n",
       "      <th>4</th>\n",
       "      <td>1.0</td>\n",
       "      <td>1.0</td>\n",
       "      <td>0.0</td>\n",
       "      <td>0.0</td>\n",
       "      <td>1.0</td>\n",
       "      <td>0.0</td>\n",
       "      <td>1.0</td>\n",
       "      <td>130.0</td>\n",
       "    </tr>\n",
       "  </tbody>\n",
       "</table>\n",
       "</div>"
      ],
      "text/plain": [
       "   Intercept  age_groups[T.25-34]  age_groups[T.35-44]  age_groups[T.45-55]  \\\n",
       "0        1.0                  1.0                  0.0                  0.0   \n",
       "1        1.0                  1.0                  0.0                  0.0   \n",
       "2        1.0                  1.0                  0.0                  0.0   \n",
       "3        1.0                  1.0                  0.0                  0.0   \n",
       "4        1.0                  1.0                  0.0                  0.0   \n",
       "\n",
       "   BIRTH  SMOKE  RACE    LWT  \n",
       "0    1.0    1.0   3.0  120.0  \n",
       "1    1.0    1.0   3.0  120.0  \n",
       "2    2.0    1.0   3.0  141.0  \n",
       "3    2.0    1.0   3.0  141.0  \n",
       "4    1.0    0.0   1.0  130.0  "
      ]
     },
     "execution_count": 30,
     "metadata": {},
     "output_type": "execute_result"
    }
   ],
   "source": [
    "Z.head(5)"
   ]
  },
  {
   "cell_type": "markdown",
   "metadata": {},
   "source": [
    "Finally, we are ready to execute the logistic regression model and see how accurate it is."
   ]
  },
  {
   "cell_type": "code",
   "execution_count": 32,
   "metadata": {
    "collapsed": false
   },
   "outputs": [
    {
     "data": {
      "text/plain": [
       "0.71320754716981127"
      ]
     },
     "execution_count": 32,
     "metadata": {},
     "output_type": "execute_result"
    }
   ],
   "source": [
    "# instantiate a logistic regression model, and fit with X and y\n",
    "model1 = LogisticRegression() \n",
    "model1 = model1.fit(Z, y)\n",
    "# check the accuracy on the training set\n",
    "model1.score(Z, y)"
   ]
  },
  {
   "cell_type": "markdown",
   "metadata": {},
   "source": [
    "71.3% accuracy seems good, but what's the null error rate? We also want to recheck the percentage of low birth weights"
   ]
  },
  {
   "cell_type": "code",
   "execution_count": 34,
   "metadata": {
    "collapsed": false
   },
   "outputs": [
    {
     "data": {
      "text/plain": [
       "0.30867924528301888"
      ]
     },
     "execution_count": 34,
     "metadata": {},
     "output_type": "execute_result"
    }
   ],
   "source": [
    "# what percentage had low birth weights? \n",
    "y.mean()"
   ]
  },
  {
   "cell_type": "markdown",
   "metadata": {},
   "source": [
    "Still, only 31% of the women had low birth rate children, which means that you could obtain 69% accuracy by always predicting \"no\". So we're doing better than the null error rate, but not by much. Let's examine the coefficients to see what we learn."
   ]
  },
  {
   "cell_type": "code",
   "execution_count": 35,
   "metadata": {
    "collapsed": false
   },
   "outputs": [
    {
     "data": {
      "text/html": [
       "<div>\n",
       "<table border=\"1\" class=\"dataframe\">\n",
       "  <thead>\n",
       "    <tr style=\"text-align: right;\">\n",
       "      <th></th>\n",
       "      <th>0</th>\n",
       "      <th>1</th>\n",
       "    </tr>\n",
       "  </thead>\n",
       "  <tbody>\n",
       "    <tr>\n",
       "      <th>0</th>\n",
       "      <td>Intercept</td>\n",
       "      <td>[0.0336484036189]</td>\n",
       "    </tr>\n",
       "    <tr>\n",
       "      <th>1</th>\n",
       "      <td>age_groups[T.25-34]</td>\n",
       "      <td>[0.00231314008477]</td>\n",
       "    </tr>\n",
       "    <tr>\n",
       "      <th>2</th>\n",
       "      <td>age_groups[T.35-44]</td>\n",
       "      <td>[0.185995251421]</td>\n",
       "    </tr>\n",
       "    <tr>\n",
       "      <th>3</th>\n",
       "      <td>age_groups[T.45-55]</td>\n",
       "      <td>[0.546655639347]</td>\n",
       "    </tr>\n",
       "    <tr>\n",
       "      <th>4</th>\n",
       "      <td>BIRTH</td>\n",
       "      <td>[-0.413795537976]</td>\n",
       "    </tr>\n",
       "    <tr>\n",
       "      <th>5</th>\n",
       "      <td>SMOKE</td>\n",
       "      <td>[0.0257483072668]</td>\n",
       "    </tr>\n",
       "    <tr>\n",
       "      <th>6</th>\n",
       "      <td>RACE</td>\n",
       "      <td>[-0.0115073134923]</td>\n",
       "    </tr>\n",
       "  </tbody>\n",
       "</table>\n",
       "</div>"
      ],
      "text/plain": [
       "                     0                   1\n",
       "0            Intercept   [0.0336484036189]\n",
       "1  age_groups[T.25-34]  [0.00231314008477]\n",
       "2  age_groups[T.35-44]    [0.185995251421]\n",
       "3  age_groups[T.45-55]    [0.546655639347]\n",
       "4                BIRTH   [-0.413795537976]\n",
       "5                SMOKE   [0.0257483072668]\n",
       "6                 RACE  [-0.0115073134923]"
      ]
     },
     "execution_count": 35,
     "metadata": {},
     "output_type": "execute_result"
    }
   ],
   "source": [
    "# examine the coefficients\n",
    "pd.DataFrame(zip(Z.columns, np.transpose(model.coef_)))"
   ]
  },
  {
   "cell_type": "markdown",
   "metadata": {},
   "source": [
    "Increases in Birth Number and RACE correspond to a decrease in the likelihood of having an Low Birth Weight child. A decrease in Smoking Status corresponds to a decrease in the likelihood of having an Low Birth Weight child. For Age Group, the lowest likelihood of having Low Birth Weight child corresponds to the baseline age group (15-24), since all of the dummy coefficients are positive."
   ]
  },
  {
   "cell_type": "markdown",
   "metadata": {},
   "source": [
    "# Model Evaluation Using a Validation Set\n",
    "\n",
    "So far, we have trained and tested on the same set. Let's instead split the data into a training set and a testing set."
   ]
  },
  {
   "cell_type": "code",
   "execution_count": 38,
   "metadata": {
    "collapsed": false
   },
   "outputs": [
    {
     "data": {
      "text/plain": [
       "LogisticRegression(C=1.0, class_weight=None, dual=False, fit_intercept=True,\n",
       "          intercept_scaling=1, max_iter=100, multi_class='ovr', n_jobs=1,\n",
       "          penalty='l2', random_state=None, solver='liblinear', tol=0.0001,\n",
       "          verbose=0, warm_start=False)"
      ]
     },
     "execution_count": 38,
     "metadata": {},
     "output_type": "execute_result"
    }
   ],
   "source": [
    "# evaluate the model by splitting into train and test sets\n",
    "Z_train, Z_test, y_train, y_test = train_test_split(Z, \n",
    "                                                    y, \n",
    "                                                    test_size=0.3, \n",
    "                                                    random_state=0) \n",
    "model2 = LogisticRegression()\n",
    "model2.fit(Z_train, y_train)"
   ]
  },
  {
   "cell_type": "code",
   "execution_count": 39,
   "metadata": {
    "collapsed": true
   },
   "outputs": [],
   "source": [
    "# predict class labels for the test set\n",
    "predicted = model2.predict(Z_test)"
   ]
  },
  {
   "cell_type": "code",
   "execution_count": 40,
   "metadata": {
    "collapsed": false
   },
   "outputs": [
    {
     "name": "stdout",
     "output_type": "stream",
     "text": [
      "[ 0.  0.  0.  0.  0.  0.  0.  0.  0.  0.  0.  0.  0.  0.  1.  1.  0.  0.\n",
      "  0.  0.  0.  0.  0.  0.  0.  0.  0.  0.  1.  0.  0.  0.  0.  0.  0.  0.\n",
      "  1.  1.  0.  0.  0.  0.  0.  0.  0.  1.  0.  1.  0.  0.  0.  0.  0.  0.\n",
      "  0.  0.  0.  0.  0.  1.  0.  0.  1.  0.  0.  0.  0.  0.  0.  0.  0.  0.\n",
      "  0.  0.  0.  0.  0.  0.  0.  0.  0.  0.  0.  0.  0.  0.  0.  0.  0.  0.\n",
      "  0.  0.  0.  0.  0.  0.  0.  0.  0.  0.  0.  1.  0.  0.  0.  1.  0.  0.\n",
      "  0.  0.  0.  0.  0.  0.  0.  1.  0.  0.  0.  0.  0.  0.  0.  0.  0.  0.\n",
      "  1.  0.  0.  0.  0.  0.  0.  0.  0.  0.  0.  0.  0.  0.  0.  0.  1.  0.\n",
      "  0.  0.  0.  1.  0.  0.  0.  0.  0.  0.  0.  0.  1.  0.  1.  0.  0.  0.\n",
      "  0.  0.  0.  0.  0.  1.  0.  0.  0.  0.  0.  0.  0.  0.  0.  0.  0.  0.\n",
      "  1.  0.  0.  0.  0.  0.  0.  1.  1.  0.  0.  0.  1.  0.  1.  0.  0.  0.\n",
      "  0.  0.  0.  0.  0.  1.  1.  0.  0.  0.  0.  0.  0.  0.  0.  0.  0.  1.\n",
      "  0.  1.  1.  0.  0.  0.  0.  0.  0.  1.  0.  0.  1.  0.  0.  0.  0.  0.\n",
      "  0.  0.  0.  0.  0.  0.  0.  0.  0.  0.  1.  0.  0.  0.  0.  0.  1.  1.\n",
      "  0.  0.  0.  0.  0.  0.  0.  0.  0.  0.  0.  1.  0.  0.  0.  0.  0.  0.\n",
      "  0.  1.  0.  0.  0.  0.  0.  0.  0.  1.  1.  0.  0.  0.  1.  1.  0.  0.\n",
      "  0.  0.  0.  0.  0.  1.  1.  0.  0.  0.  0.  0.  0.  0.  0.  0.  0.  0.\n",
      "  0.  0.  0.  1.  0.  0.  0.  0.  0.  0.  0.  0.  0.  1.  0.  0.  1.  1.\n",
      "  0.  0.  0.  0.  0.  0.  0.  0.  1.  0.  0.  0.  0.  0.  1.  1.  0.  0.\n",
      "  1.  0.  0.  0.  1.  0.  0.  0.  0.  0.  0.  0.  0.  0.  0.  0.  0.  1.\n",
      "  1.  0.  1.  1.  0.  0.  0.  0.  0.  1.  0.  0.  0.  0.  1.  0.  0.  0.\n",
      "  0.  0.  0.  0.  1.  0.  0.  1.  0.  0.  0.  0.  0.  0.  0.  0.  0.  0.\n",
      "  0.  0.]\n"
     ]
    }
   ],
   "source": [
    "print predicted"
   ]
  },
  {
   "cell_type": "code",
   "execution_count": 42,
   "metadata": {
    "collapsed": false
   },
   "outputs": [
    {
     "name": "stdout",
     "output_type": "stream",
     "text": [
      "[[ 0.70610757  0.29389243]\n",
      " [ 0.82942743  0.17057257]\n",
      " [ 0.78996271  0.21003729]\n",
      " [ 0.71714884  0.28285116]\n",
      " [ 0.82860543  0.17139457]\n",
      " [ 0.66919893  0.33080107]\n",
      " [ 0.80411336  0.19588664]\n",
      " [ 0.82942743  0.17057257]\n",
      " [ 0.80489925  0.19510075]\n",
      " [ 0.76636931  0.23363069]\n",
      " [ 0.65336844  0.34663156]\n",
      " [ 0.73297998  0.26702002]\n",
      " [ 0.78927393  0.21072607]\n",
      " [ 0.68660728  0.31339272]\n",
      " [ 0.47777583  0.52222417]\n",
      " [ 0.48227767  0.51772233]\n",
      " [ 0.65248622  0.34751378]\n",
      " [ 0.76164841  0.23835159]\n",
      " [ 0.67351301  0.32648699]\n",
      " [ 0.86128674  0.13871326]\n",
      " [ 0.76963284  0.23036716]\n",
      " [ 0.72272822  0.27727178]\n",
      " [ 0.8737568   0.1262432 ]\n",
      " [ 0.88208189  0.11791811]\n",
      " [ 0.53068538  0.46931462]\n",
      " [ 0.70610757  0.29389243]\n",
      " [ 0.7541737   0.2458263 ]\n",
      " [ 0.5221264   0.4778736 ]\n",
      " [ 0.35235687  0.64764313]\n",
      " [ 0.7779275   0.2220725 ]\n",
      " [ 0.88745073  0.11254927]\n",
      " [ 0.55386162  0.44613838]\n",
      " [ 0.78469494  0.21530506]\n",
      " [ 0.76285017  0.23714983]\n",
      " [ 0.911691    0.088309  ]\n",
      " [ 0.87598835  0.12401165]\n",
      " [ 0.44136563  0.55863437]\n",
      " [ 0.4487613   0.5512387 ]\n",
      " [ 0.55853775  0.44146225]\n",
      " [ 0.75679694  0.24320306]\n",
      " [ 0.83398915  0.16601085]\n",
      " [ 0.57389654  0.42610346]\n",
      " [ 0.82265297  0.17734703]\n",
      " [ 0.76421135  0.23578865]\n",
      " [ 0.77331873  0.22668127]\n",
      " [ 0.39426089  0.60573911]\n",
      " [ 0.79700881  0.20299119]\n",
      " [ 0.40339388  0.59660612]\n",
      " [ 0.55277458  0.44722542]\n",
      " [ 0.8058083   0.1941917 ]\n",
      " [ 0.78552016  0.21447984]\n",
      " [ 0.63671968  0.36328032]\n",
      " [ 0.86160277  0.13839723]\n",
      " [ 0.69929885  0.30070115]\n",
      " [ 0.60826738  0.39173262]\n",
      " [ 0.52146572  0.47853428]\n",
      " [ 0.57745223  0.42254777]\n",
      " [ 0.57745223  0.42254777]\n",
      " [ 0.59172477  0.40827523]\n",
      " [ 0.49202107  0.50797893]\n",
      " [ 0.83547847  0.16452153]\n",
      " [ 0.57745223  0.42254777]\n",
      " [ 0.35608459  0.64391541]\n",
      " [ 0.5444307   0.4555693 ]\n",
      " [ 0.76818502  0.23181498]\n",
      " [ 0.76253524  0.23746476]\n",
      " [ 0.83082183  0.16917817]\n",
      " [ 0.84892836  0.15107164]\n",
      " [ 0.8481408   0.1518592 ]\n",
      " [ 0.88453859  0.11546141]\n",
      " [ 0.90110735  0.09889265]\n",
      " [ 0.69103462  0.30896538]\n",
      " [ 0.84374611  0.15625389]\n",
      " [ 0.89198729  0.10801271]\n",
      " [ 0.7779275   0.2220725 ]\n",
      " [ 0.76253524  0.23746476]\n",
      " [ 0.59459602  0.40540398]\n",
      " [ 0.88116797  0.11883203]\n",
      " [ 0.87493148  0.12506852]\n",
      " [ 0.74803039  0.25196961]\n",
      " [ 0.65743541  0.34256459]\n",
      " [ 0.78927393  0.21072607]\n",
      " [ 0.61944278  0.38055722]\n",
      " [ 0.82146108  0.17853892]\n",
      " [ 0.77235813  0.22764187]\n",
      " [ 0.82748778  0.17251222]\n",
      " [ 0.80826479  0.19173521]\n",
      " [ 0.88061445  0.11938555]\n",
      " [ 0.74614588  0.25385412]\n",
      " [ 0.77718864  0.22281136]\n",
      " [ 0.8886347   0.1113653 ]\n",
      " [ 0.83318472  0.16681528]\n",
      " [ 0.86353456  0.13646544]\n",
      " [ 0.73875666  0.26124334]\n",
      " [ 0.50358059  0.49641941]\n",
      " [ 0.89404018  0.10595982]\n",
      " [ 0.7779275   0.2220725 ]\n",
      " [ 0.51127045  0.48872955]\n",
      " [ 0.77235813  0.22764187]\n",
      " [ 0.56655818  0.43344182]\n",
      " [ 0.84531209  0.15468791]\n",
      " [ 0.34224622  0.65775378]\n",
      " [ 0.59459602  0.40540398]\n",
      " [ 0.80608043  0.19391957]\n",
      " [ 0.87858443  0.12141557]\n",
      " [ 0.33256988  0.66743012]\n",
      " [ 0.69622912  0.30377088]\n",
      " [ 0.91511432  0.08488568]\n",
      " [ 0.6971585   0.3028415 ]\n",
      " [ 0.86062829  0.13937171]\n",
      " [ 0.60498563  0.39501437]\n",
      " [ 0.84531209  0.15468791]\n",
      " [ 0.54738272  0.45261728]\n",
      " [ 0.85932831  0.14067169]\n",
      " [ 0.85713386  0.14286614]\n",
      " [ 0.40493706  0.59506294]\n",
      " [ 0.82460318  0.17539682]\n",
      " [ 0.53430905  0.46569095]\n",
      " [ 0.84708836  0.15291164]\n",
      " [ 0.84660065  0.15339935]\n",
      " [ 0.51696335  0.48303665]\n",
      " [ 0.74983131  0.25016869]\n",
      " [ 0.72707482  0.27292518]\n",
      " [ 0.89533594  0.10466406]\n",
      " [ 0.75669529  0.24330471]\n",
      " [ 0.75015219  0.24984781]\n",
      " [ 0.47302997  0.52697003]\n",
      " [ 0.75551357  0.24448643]\n",
      " [ 0.59851812  0.40148188]\n",
      " [ 0.69831633  0.30168367]\n",
      " [ 0.87194826  0.12805174]\n",
      " [ 0.55141699  0.44858301]\n",
      " [ 0.66977844  0.33022156]\n",
      " [ 0.68547063  0.31452937]\n",
      " [ 0.5444307   0.4555693 ]\n",
      " [ 0.80996665  0.19003335]\n",
      " [ 0.85056469  0.14943531]\n",
      " [ 0.79700881  0.20299119]\n",
      " [ 0.8417363   0.1582637 ]\n",
      " [ 0.67472135  0.32527865]\n",
      " [ 0.8141779   0.1858221 ]\n",
      " [ 0.64361738  0.35638262]\n",
      " [ 0.48184323  0.51815677]\n",
      " [ 0.76344404  0.23655596]\n",
      " [ 0.78117983  0.21882017]\n",
      " [ 0.68860046  0.31139954]\n",
      " [ 0.81085764  0.18914236]\n",
      " [ 0.43269554  0.56730446]\n",
      " [ 0.90089782  0.09910218]\n",
      " [ 0.62838751  0.37161249]\n",
      " [ 0.53408318  0.46591682]\n",
      " [ 0.60695847  0.39304153]\n",
      " [ 0.79327119  0.20672881]\n",
      " [ 0.70190654  0.29809346]\n",
      " [ 0.73189847  0.26810153]\n",
      " [ 0.79168474  0.20831526]\n",
      " [ 0.43735152  0.56264848]\n",
      " [ 0.85734681  0.14265319]\n",
      " [ 0.40101642  0.59898358]\n",
      " [ 0.57190282  0.42809718]\n",
      " [ 0.60888018  0.39111982]\n",
      " [ 0.81045123  0.18954877]\n",
      " [ 0.81863262  0.18136738]\n",
      " [ 0.75600231  0.24399769]\n",
      " [ 0.55343163  0.44656837]\n",
      " [ 0.66351298  0.33648702]\n",
      " [ 0.86301667  0.13698333]\n",
      " [ 0.48140881  0.51859119]\n",
      " [ 0.73875666  0.26124334]\n",
      " [ 0.61407628  0.38592372]\n",
      " [ 0.83435541  0.16564459]\n",
      " [ 0.51899774  0.48100226]\n",
      " [ 0.84281874  0.15718126]\n",
      " [ 0.84896432  0.15103568]\n",
      " [ 0.51739784  0.48260216]\n",
      " [ 0.81850053  0.18149947]\n",
      " [ 0.85181717  0.14818283]\n",
      " [ 0.85439611  0.14560389]\n",
      " [ 0.72167524  0.27832476]\n",
      " [ 0.87858443  0.12141557]\n",
      " [ 0.34167381  0.65832619]\n",
      " [ 0.52553077  0.47446923]\n",
      " [ 0.69034497  0.30965503]\n",
      " [ 0.71318149  0.28681851]\n",
      " [ 0.69277157  0.30722843]\n",
      " [ 0.72109244  0.27890756]\n",
      " [ 0.8481408   0.1518592 ]\n",
      " [ 0.4143005   0.5856995 ]\n",
      " [ 0.42777904  0.57222096]\n",
      " [ 0.73981682  0.26018318]\n",
      " [ 0.82278537  0.17721463]\n",
      " [ 0.85588415  0.14411585]\n",
      " [ 0.35147553  0.64852447]\n",
      " [ 0.90293533  0.09706467]\n",
      " [ 0.4899847   0.5100153 ]\n",
      " [ 0.73474508  0.26525492]\n",
      " [ 0.87031417  0.12968583]\n",
      " [ 0.59297838  0.40702162]\n",
      " [ 0.75053604  0.24946396]\n",
      " [ 0.75920787  0.24079213]\n",
      " [ 0.89533594  0.10466406]\n",
      " [ 0.74874193  0.25125807]\n",
      " [ 0.53727091  0.46272909]\n",
      " [ 0.48751393  0.51248607]\n",
      " [ 0.4487613   0.5512387 ]\n",
      " [ 0.70555781  0.29444219]\n",
      " [ 0.89932324  0.10067676]\n",
      " [ 0.86301667  0.13698333]\n",
      " [ 0.70893192  0.29106808]\n",
      " [ 0.85044928  0.14955072]\n",
      " [ 0.86160277  0.13839723]\n",
      " [ 0.7159652   0.2840348 ]\n",
      " [ 0.76646273  0.23353727]\n",
      " [ 0.74471494  0.25528506]\n",
      " [ 0.84708836  0.15291164]\n",
      " [ 0.48751393  0.51248607]\n",
      " [ 0.806904    0.193096  ]\n",
      " [ 0.46225461  0.53774539]\n",
      " [ 0.45994889  0.54005111]\n",
      " [ 0.86225735  0.13774265]\n",
      " [ 0.55896675  0.44103325]\n",
      " [ 0.67568361  0.32431639]\n",
      " [ 0.50220554  0.49779446]\n",
      " [ 0.65486226  0.34513774]\n",
      " [ 0.85512666  0.14487334]\n",
      " [ 0.4976965   0.5023035 ]\n",
      " [ 0.7575022   0.2424978 ]\n",
      " [ 0.80480358  0.19519642]\n",
      " [ 0.49405771  0.50594229]\n",
      " [ 0.812942    0.187058  ]\n",
      " [ 0.70803541  0.29196459]\n",
      " [ 0.71418684  0.28581316]\n",
      " [ 0.85734681  0.14265319]\n",
      " [ 0.55853775  0.44146225]\n",
      " [ 0.80093486  0.19906514]\n",
      " [ 0.72568013  0.27431987]\n",
      " [ 0.54983139  0.45016861]\n",
      " [ 0.51398909  0.48601091]\n",
      " [ 0.67119422  0.32880578]\n",
      " [ 0.85439611  0.14560389]\n",
      " [ 0.8737568   0.1262432 ]\n",
      " [ 0.79705442  0.20294558]\n",
      " [ 0.77331873  0.22668127]\n",
      " [ 0.53836158  0.46163842]\n",
      " [ 0.44538742  0.55461258]\n",
      " [ 0.69622912  0.30377088]\n",
      " [ 0.70965541  0.29034459]\n",
      " [ 0.87304826  0.12695174]\n",
      " [ 0.87771256  0.12228744]\n",
      " [ 0.68484513  0.31515487]\n",
      " [ 0.47371138  0.52628862]\n",
      " [ 0.48751393  0.51248607]\n",
      " [ 0.55853775  0.44146225]\n",
      " [ 0.85534209  0.14465791]\n",
      " [ 0.72219732  0.27780268]\n",
      " [ 0.85964807  0.14035193]\n",
      " [ 0.86301667  0.13698333]\n",
      " [ 0.53430905  0.46569095]\n",
      " [ 0.67516232  0.32483768]\n",
      " [ 0.79168474  0.20831526]\n",
      " [ 0.8135587   0.1864413 ]\n",
      " [ 0.62838751  0.37161249]\n",
      " [ 0.87858443  0.12141557]\n",
      " [ 0.44242212  0.55757788]\n",
      " [ 0.88680908  0.11319092]\n",
      " [ 0.80435218  0.19564782]\n",
      " [ 0.57852248  0.42147752]\n",
      " [ 0.84231994  0.15768006]\n",
      " [ 0.51442374  0.48557626]\n",
      " [ 0.87194826  0.12805174]\n",
      " [ 0.85270073  0.14729927]\n",
      " [ 0.36588334  0.63411666]\n",
      " [ 0.7545928   0.2454072 ]\n",
      " [ 0.87031417  0.12968583]\n",
      " [ 0.51302371  0.48697629]\n",
      " [ 0.80065729  0.19934271]\n",
      " [ 0.72759991  0.27240009]\n",
      " [ 0.59851812  0.40148188]\n",
      " [ 0.7313822   0.2686178 ]\n",
      " [ 0.4802435   0.5197565 ]\n",
      " [ 0.48481703  0.51518297]\n",
      " [ 0.5934772   0.4065228 ]\n",
      " [ 0.5824909   0.4175091 ]\n",
      " [ 0.74874193  0.25125807]\n",
      " [ 0.42578569  0.57421431]\n",
      " [ 0.33521843  0.66478157]\n",
      " [ 0.66011877  0.33988123]\n",
      " [ 0.74482526  0.25517474]\n",
      " [ 0.50045125  0.49954875]\n",
      " [ 0.51805894  0.48194106]\n",
      " [ 0.53458329  0.46541671]\n",
      " [ 0.78606836  0.21393164]\n",
      " [ 0.67119422  0.32880578]\n",
      " [ 0.40011351  0.59988649]\n",
      " [ 0.47028406  0.52971594]\n",
      " [ 0.54284088  0.45715912]\n",
      " [ 0.60826738  0.39173262]\n",
      " [ 0.66401778  0.33598222]\n",
      " [ 0.55141699  0.44858301]\n",
      " [ 0.65926812  0.34073188]\n",
      " [ 0.80952436  0.19047564]\n",
      " [ 0.92365203  0.07634797]\n",
      " [ 0.78117983  0.21882017]\n",
      " [ 0.62471697  0.37528303]\n",
      " [ 0.60695847  0.39304153]\n",
      " [ 0.79168474  0.20831526]\n",
      " [ 0.87858443  0.12141557]\n",
      " [ 0.72598197  0.27401803]\n",
      " [ 0.50627928  0.49372072]\n",
      " [ 0.43577528  0.56422472]\n",
      " [ 0.89108172  0.10891828]\n",
      " [ 0.86062829  0.13937171]\n",
      " [ 0.69103462  0.30896538]\n",
      " [ 0.75135129  0.24864871]\n",
      " [ 0.89108172  0.10891828]\n",
      " [ 0.91646486  0.08353514]\n",
      " [ 0.68835791  0.31164209]\n",
      " [ 0.5824909   0.4175091 ]\n",
      " [ 0.74432518  0.25567482]\n",
      " [ 0.46154104  0.53845896]\n",
      " [ 0.70610757  0.29389243]\n",
      " [ 0.74449441  0.25550559]\n",
      " [ 0.43670008  0.56329992]\n",
      " [ 0.47071755  0.52928245]\n",
      " [ 0.80093486  0.19906514]\n",
      " [ 0.68929224  0.31070776]\n",
      " [ 0.84281874  0.15718126]\n",
      " [ 0.77117176  0.22882824]\n",
      " [ 0.5976167   0.4023833 ]\n",
      " [ 0.86608284  0.13391716]\n",
      " [ 0.75600231  0.24399769]\n",
      " [ 0.83033235  0.16966765]\n",
      " [ 0.48794867  0.51205133]\n",
      " [ 0.66919893  0.33080107]\n",
      " [ 0.53068538  0.46931462]\n",
      " [ 0.62088869  0.37911131]\n",
      " [ 0.90234329  0.09765671]\n",
      " [ 0.84870507  0.15129493]\n",
      " [ 0.42977473  0.57022527]\n",
      " [ 0.42977473  0.57022527]\n",
      " [ 0.51986643  0.48013357]\n",
      " [ 0.80875268  0.19124732]\n",
      " [ 0.4726176   0.5273824 ]\n",
      " [ 0.78203277  0.21796723]\n",
      " [ 0.73450791  0.26549209]\n",
      " [ 0.75238282  0.24761718]\n",
      " [ 0.36359222  0.63640778]\n",
      " [ 0.7904851   0.2095149 ]\n",
      " [ 0.85719795  0.14280205]\n",
      " [ 0.85734681  0.14265319]\n",
      " [ 0.79364187  0.20635813]\n",
      " [ 0.86702507  0.13297493]\n",
      " [ 0.82539994  0.17460006]\n",
      " [ 0.72995375  0.27004625]\n",
      " [ 0.86062829  0.13937171]\n",
      " [ 0.80793512  0.19206488]\n",
      " [ 0.88477829  0.11522171]\n",
      " [ 0.72025778  0.27974222]\n",
      " [ 0.86010116  0.13989884]\n",
      " [ 0.42977473  0.57022527]\n",
      " [ 0.44644584  0.55355416]\n",
      " [ 0.79087864  0.20912136]\n",
      " [ 0.44041305  0.55958695]\n",
      " [ 0.42180628  0.57819372]\n",
      " [ 0.81850053  0.18149947]\n",
      " [ 0.71300166  0.28699834]\n",
      " [ 0.53836158  0.46163842]\n",
      " [ 0.85932831  0.14067169]\n",
      " [ 0.57496917  0.42503083]\n",
      " [ 0.48387786  0.51612214]\n",
      " [ 0.60695847  0.39304153]\n",
      " [ 0.87417101  0.12582899]\n",
      " [ 0.7378603   0.2621397 ]\n",
      " [ 0.65644654  0.34355346]\n",
      " [ 0.42670533  0.57329467]\n",
      " [ 0.58142343  0.41857657]\n",
      " [ 0.87771256  0.12228744]\n",
      " [ 0.79435955  0.20564045]\n",
      " [ 0.71354316  0.28645684]\n",
      " [ 0.5288558   0.4711442 ]\n",
      " [ 0.72109244  0.27890756]\n",
      " [ 0.70610757  0.29389243]\n",
      " [ 0.38843844  0.61156156]\n",
      " [ 0.86418145  0.13581855]\n",
      " [ 0.87771256  0.12228744]\n",
      " [ 0.42272365  0.57727635]\n",
      " [ 0.91597297  0.08402703]\n",
      " [ 0.79293967  0.20706033]\n",
      " [ 0.72184809  0.27815191]\n",
      " [ 0.78606836  0.21393164]\n",
      " [ 0.72272822  0.27727178]\n",
      " [ 0.69763583  0.30236417]\n",
      " [ 0.70983649  0.29016351]\n",
      " [ 0.53676859  0.46323141]\n",
      " [ 0.87417101  0.12582899]\n",
      " [ 0.59655861  0.40344139]\n",
      " [ 0.78276183  0.21723817]\n",
      " [ 0.71000201  0.28999799]]\n"
     ]
    }
   ],
   "source": [
    "# generate class probabilities p\n",
    "probs = model2.predict_proba(Z_test)\n",
    "print probs"
   ]
  },
  {
   "cell_type": "markdown",
   "metadata": {},
   "source": [
    "As you can see, the classifier is predicting a 1 (having a Low Birth Weight child) any time the probability in the second column is greater than 0.5. Now let's generate some evaluation metrics."
   ]
  },
  {
   "cell_type": "code",
   "execution_count": 43,
   "metadata": {
    "collapsed": false
   },
   "outputs": [
    {
     "name": "stdout",
     "output_type": "stream",
     "text": [
      "0.678391959799\n",
      "0.678443267259\n"
     ]
    }
   ],
   "source": [
    "# generate evaluation metrics\n",
    "print metrics.accuracy_score(y_test, predicted)\n",
    "print metrics.roc_auc_score(y_test, probs[:, 1])"
   ]
  },
  {
   "cell_type": "markdown",
   "metadata": {},
   "source": [
    "The accuracy is 67.8%, which is the close to what we experienced when training and predicting on the same data. We can also see the confusion matrix and a classification report with other metrics."
   ]
  },
  {
   "cell_type": "code",
   "execution_count": 44,
   "metadata": {
    "collapsed": false
   },
   "outputs": [
    {
     "name": "stdout",
     "output_type": "stream",
     "text": [
      "[[239  27]\n",
      " [101  31]]\n",
      "             precision    recall  f1-score   support\n",
      "\n",
      "        0.0       0.70      0.90      0.79       266\n",
      "        1.0       0.53      0.23      0.33       132\n",
      "\n",
      "avg / total       0.65      0.68      0.64       398\n",
      "\n"
     ]
    }
   ],
   "source": [
    "print metrics.confusion_matrix(y_test, predicted)\n",
    "print metrics.classification_report(y_test, predicted)"
   ]
  },
  {
   "cell_type": "markdown",
   "metadata": {},
   "source": [
    "# Model Evaluation Using Cross-Validation\n",
    "Now let's try 10-fold cross-validation, to see if the accuracy holds up more rigorously."
   ]
  },
  {
   "cell_type": "code",
   "execution_count": 45,
   "metadata": {
    "collapsed": false
   },
   "outputs": [
    {
     "name": "stdout",
     "output_type": "stream",
     "text": [
      "[ 0.53383459  0.7518797   0.69924812  0.68421053  0.64661654  0.80451128\n",
      "  0.73484848  0.66666667  0.61363636  0.71755725]\n",
      "0.685300951894\n"
     ]
    }
   ],
   "source": [
    "# evaluate the model using 10-fold cross-validation\n",
    "scores = cross_val_score(LogisticRegression(), \n",
    "                         Z, \n",
    "                         y, \n",
    "                         scoring='accuracy', \n",
    "                         cv=10)\n",
    "print scores\n",
    "print scores.mean()"
   ]
  },
  {
   "cell_type": "markdown",
   "metadata": {},
   "source": [
    "Looks good. It's still performing at 69% accuracy."
   ]
  },
  {
   "cell_type": "markdown",
   "metadata": {},
   "source": [
    "# Predicting the Probability of Low Birth Weight Child\n",
    "Just for fun, let's predict the probability of a low birth weight child for a random woman not present in the dataset. She's a 35-year-old Other race, has had 2 births,(has 2 children), is a smoker, and her weight is 132."
   ]
  },
  {
   "cell_type": "code",
   "execution_count": 47,
   "metadata": {
    "collapsed": false
   },
   "outputs": [
    {
     "name": "stderr",
     "output_type": "stream",
     "text": [
      "C:\\Users\\Ben\\Anaconda6\\envs\\gl-env\\lib\\site-packages\\sklearn\\utils\\validation.py:386: DeprecationWarning: Passing 1d arrays as data is deprecated in 0.17 and willraise ValueError in 0.19. Reshape your data either using X.reshape(-1, 1) if your data has a single feature or X.reshape(1, -1) if it contains a single sample.\n",
      "  DeprecationWarning)\n"
     ]
    },
    {
     "data": {
      "text/plain": [
       "array([[ 0.60709037,  0.39290963]])"
      ]
     },
     "execution_count": 47,
     "metadata": {},
     "output_type": "execute_result"
    }
   ],
   "source": [
    "model.predict_proba(np.array([0, 0, 1, 1, 3, 2, 1]))"
   ]
  },
  {
   "cell_type": "markdown",
   "metadata": {},
   "source": [
    "The predicted probability of low birth weight child is 39.3%"
   ]
  },
  {
   "cell_type": "markdown",
   "metadata": {},
   "source": [
    "# Next Steps\n",
    "There are many different steps that could be tried in order to improve the model:\n",
    "\n",
    "    including interaction terms\n",
    "    removing features\n",
    "    regularization techniques\n",
    "    using a non-linear model"
   ]
  },
  {
   "cell_type": "markdown",
   "metadata": {},
   "source": [
    "# Turi Machine Learning Platform User Guide\n",
    "\n",
    "# Graph Lab Create"
   ]
  },
  {
   "cell_type": "markdown",
   "metadata": {},
   "source": [
    "# Logistic Regression \n",
    "\n",
    "Logistic regression is a regression model that is popularly used for classification tasks. In logistic regression, the probability that a **binary target is True** is modeled as a [logistic function](http://en.wikipedia.org/wiki/Logistic_function) of a linear combination of features. The following figure illustrates how logistic regression is used to train a 1-dimensional classifier. The training data consists of positive examples (depicted in blue) and negative examples (in orange). The decision boundary (depicted in pink) separates out the data into two classes. "
   ]
  },
  {
   "cell_type": "code",
   "execution_count": 48,
   "metadata": {
    "collapsed": false
   },
   "outputs": [
    {
     "name": "stdout",
     "output_type": "stream",
     "text": [
      "This non-commercial license of GraphLab Create for academic use is assigned to bbrock@smu.edu and will expire on August 17, 2017.\n"
     ]
    },
    {
     "name": "stderr",
     "output_type": "stream",
     "text": [
      "[INFO] graphlab.cython.cy_server: GraphLab Create v2.1 started. Logging: C:\\Users\\Ben\\AppData\\Local\\Temp\\graphlab_server_1475177132.log.0\n"
     ]
    },
    {
     "data": {
      "text/html": [
       "<pre>Downloading https://static.turi.com/datasets/regression/yelp-data.csv to C:/Users/Ben/AppData/Local/Temp/graphlab-BenBrock/14784/84a263ff-e7d4-46d9-b0c9-981e49f73d4e.csv</pre>"
      ],
      "text/plain": [
       "Downloading https://static.turi.com/datasets/regression/yelp-data.csv to C:/Users/Ben/AppData/Local/Temp/graphlab-BenBrock/14784/84a263ff-e7d4-46d9-b0c9-981e49f73d4e.csv"
      ]
     },
     "metadata": {},
     "output_type": "display_data"
    },
    {
     "data": {
      "text/html": [
       "<pre>Finished parsing file https://static.turi.com/datasets/regression/yelp-data.csv</pre>"
      ],
      "text/plain": [
       "Finished parsing file https://static.turi.com/datasets/regression/yelp-data.csv"
      ]
     },
     "metadata": {},
     "output_type": "display_data"
    },
    {
     "data": {
      "text/html": [
       "<pre>Parsing completed. Parsed 100 lines in 0.533553 secs.</pre>"
      ],
      "text/plain": [
       "Parsing completed. Parsed 100 lines in 0.533553 secs."
      ]
     },
     "metadata": {},
     "output_type": "display_data"
    },
    {
     "name": "stdout",
     "output_type": "stream",
     "text": [
      "------------------------------------------------------\n",
      "Inferred types from first 100 line(s) of file as \n",
      "column_type_hints=[str,str,str,long,str,str,str,dict,long,long,long,list,str,str,float,float,str,long,long,float,str,str,float,str,long,str,long,long,long,dict]\n",
      "If parsing fails due to incorrect types, you can correct\n",
      "the inferred type list above and pass it to read_csv in\n",
      "the column_type_hints argument\n",
      "------------------------------------------------------\n"
     ]
    },
    {
     "data": {
      "text/html": [
       "<pre>Read 47948 lines. Lines per second: 15458.7</pre>"
      ],
      "text/plain": [
       "Read 47948 lines. Lines per second: 15458.7"
      ]
     },
     "metadata": {},
     "output_type": "display_data"
    },
    {
     "data": {
      "text/html": [
       "<pre>Finished parsing file https://static.turi.com/datasets/regression/yelp-data.csv</pre>"
      ],
      "text/plain": [
       "Finished parsing file https://static.turi.com/datasets/regression/yelp-data.csv"
      ]
     },
     "metadata": {},
     "output_type": "display_data"
    },
    {
     "data": {
      "text/html": [
       "<pre>Parsing completed. Parsed 215879 lines in 4.92398 secs.</pre>"
      ],
      "text/plain": [
       "Parsing completed. Parsed 215879 lines in 4.92398 secs."
      ]
     },
     "metadata": {},
     "output_type": "display_data"
    },
    {
     "name": "stdout",
     "output_type": "stream",
     "text": [
      "PROGRESS: Creating a validation set from 5 percent of training data. This may take a while.\n",
      "          You can set ``validation_set=None`` to disable validation tracking.\n",
      "\n"
     ]
    },
    {
     "data": {
      "text/html": [
       "<pre>Logistic regression:</pre>"
      ],
      "text/plain": [
       "Logistic regression:"
      ]
     },
     "metadata": {},
     "output_type": "display_data"
    },
    {
     "data": {
      "text/html": [
       "<pre>--------------------------------------------------------</pre>"
      ],
      "text/plain": [
       "--------------------------------------------------------"
      ]
     },
     "metadata": {},
     "output_type": "display_data"
    },
    {
     "data": {
      "text/html": [
       "<pre>Number of examples          : 163805</pre>"
      ],
      "text/plain": [
       "Number of examples          : 163805"
      ]
     },
     "metadata": {},
     "output_type": "display_data"
    },
    {
     "data": {
      "text/html": [
       "<pre>Number of classes           : 2</pre>"
      ],
      "text/plain": [
       "Number of classes           : 2"
      ]
     },
     "metadata": {},
     "output_type": "display_data"
    },
    {
     "data": {
      "text/html": [
       "<pre>Number of feature columns   : 4</pre>"
      ],
      "text/plain": [
       "Number of feature columns   : 4"
      ]
     },
     "metadata": {},
     "output_type": "display_data"
    },
    {
     "data": {
      "text/html": [
       "<pre>Number of unpacked features : 4</pre>"
      ],
      "text/plain": [
       "Number of unpacked features : 4"
      ]
     },
     "metadata": {},
     "output_type": "display_data"
    },
    {
     "data": {
      "text/html": [
       "<pre>Number of coefficients    : 5</pre>"
      ],
      "text/plain": [
       "Number of coefficients    : 5"
      ]
     },
     "metadata": {},
     "output_type": "display_data"
    },
    {
     "data": {
      "text/html": [
       "<pre>Starting Newton Method</pre>"
      ],
      "text/plain": [
       "Starting Newton Method"
      ]
     },
     "metadata": {},
     "output_type": "display_data"
    },
    {
     "data": {
      "text/html": [
       "<pre>--------------------------------------------------------</pre>"
      ],
      "text/plain": [
       "--------------------------------------------------------"
      ]
     },
     "metadata": {},
     "output_type": "display_data"
    },
    {
     "data": {
      "text/html": [
       "<pre>+-----------+----------+--------------+-------------------+---------------------+</pre>"
      ],
      "text/plain": [
       "+-----------+----------+--------------+-------------------+---------------------+"
      ]
     },
     "metadata": {},
     "output_type": "display_data"
    },
    {
     "data": {
      "text/html": [
       "<pre>| Iteration | Passes   | Elapsed Time | Training-accuracy | Validation-accuracy |</pre>"
      ],
      "text/plain": [
       "| Iteration | Passes   | Elapsed Time | Training-accuracy | Validation-accuracy |"
      ]
     },
     "metadata": {},
     "output_type": "display_data"
    },
    {
     "data": {
      "text/html": [
       "<pre>+-----------+----------+--------------+-------------------+---------------------+</pre>"
      ],
      "text/plain": [
       "+-----------+----------+--------------+-------------------+---------------------+"
      ]
     },
     "metadata": {},
     "output_type": "display_data"
    },
    {
     "data": {
      "text/html": [
       "<pre>| 1         | 2        | 1.188729     | 0.863747          | 0.862951            |</pre>"
      ],
      "text/plain": [
       "| 1         | 2        | 1.188729     | 0.863747          | 0.862951            |"
      ]
     },
     "metadata": {},
     "output_type": "display_data"
    },
    {
     "data": {
      "text/html": [
       "<pre>| 2         | 3        | 1.310838     | 0.866726          | 0.866456            |</pre>"
      ],
      "text/plain": [
       "| 2         | 3        | 1.310838     | 0.866726          | 0.866456            |"
      ]
     },
     "metadata": {},
     "output_type": "display_data"
    },
    {
     "data": {
      "text/html": [
       "<pre>| 3         | 4        | 1.403904     | 0.867122          | 0.866690            |</pre>"
      ],
      "text/plain": [
       "| 3         | 4        | 1.403904     | 0.867122          | 0.866690            |"
      ]
     },
     "metadata": {},
     "output_type": "display_data"
    },
    {
     "data": {
      "text/html": [
       "<pre>| 4         | 5        | 1.486963     | 0.867251          | 0.867274            |</pre>"
      ],
      "text/plain": [
       "| 4         | 5        | 1.486963     | 0.867251          | 0.867274            |"
      ]
     },
     "metadata": {},
     "output_type": "display_data"
    },
    {
     "data": {
      "text/html": [
       "<pre>| 5         | 6        | 1.564018     | 0.867269          | 0.867274            |</pre>"
      ],
      "text/plain": [
       "| 5         | 6        | 1.564018     | 0.867269          | 0.867274            |"
      ]
     },
     "metadata": {},
     "output_type": "display_data"
    },
    {
     "data": {
      "text/html": [
       "<pre>| 6         | 7        | 1.645076     | 0.867269          | 0.867274            |</pre>"
      ],
      "text/plain": [
       "| 6         | 7        | 1.645076     | 0.867269          | 0.867274            |"
      ]
     },
     "metadata": {},
     "output_type": "display_data"
    },
    {
     "data": {
      "text/html": [
       "<pre>+-----------+----------+--------------+-------------------+---------------------+</pre>"
      ],
      "text/plain": [
       "+-----------+----------+--------------+-------------------+---------------------+"
      ]
     },
     "metadata": {},
     "output_type": "display_data"
    },
    {
     "data": {
      "text/html": [
       "<pre>SUCCESS: Optimal solution found.</pre>"
      ],
      "text/plain": [
       "SUCCESS: Optimal solution found."
      ]
     },
     "metadata": {},
     "output_type": "display_data"
    },
    {
     "data": {
      "text/html": [
       "<pre></pre>"
      ],
      "text/plain": []
     },
     "metadata": {},
     "output_type": "display_data"
    }
   ],
   "source": [
    "import graphlab as gl\n",
    "import graphlab\n",
    "# keep data visualizations within notebook\n",
    "graphlab.canvas.set_target('ipynb')\n",
    "\n",
    "# Load the data\n",
    "data =  gl.SFrame('https://static.turi.com/datasets/regression/yelp-data.csv')\n",
    "\n",
    "# Restaurants with rating >=3 are good\n",
    "data['is_good'] = data['stars'] >= 3\n",
    "\n",
    "# Make a train-test split\n",
    "train_data, test_data = data.random_split(0.8)\n",
    "\n",
    "# Create a model.\n",
    "model = gl.logistic_classifier.create(train_data, \n",
    "                                      target='is_good',\n",
    "                                      features = ['user_avg_stars',\n",
    "                                                'business_avg_stars',\n",
    "                                                'user_review_count',\n",
    "                                                'business_review_count'])\n",
    "\n",
    "# Save predictions (probability estimates) to an SArray\n",
    "predictions = model.classify(test_data)\n",
    "\n",
    "# Evaluate the model and save the results into a dictionary\n",
    "results = model.evaluate(test_data)"
   ]
  },
  {
   "cell_type": "markdown",
   "metadata": {},
   "source": [
    "Advanced Usage\n",
    "\n",
    "Refer to the chapter on linear regression for the following features:\n",
    "\n",
    "    Accessing attributes of the model\n",
    "    Interpreting results\n",
    "    Using categorical features\n",
    "    Sparse features\n",
    "    List features\n",
    "    Feature rescaling\n",
    "    Chosing the solver\n",
    "    Regularizing models\n",
    "\n",
    "We will now discuss some advanced features that are specific to logistic regression.\n",
    "Making Predictions\n",
    "\n",
    "Predictions using a GraphLab Create classifier is easy. The classify() method provides a one-stop shop for all that you need from a classifier.\n",
    "\n",
    "    A class prediction\n",
    "    Probability/Confidence associated with that class prediction.\n",
    "\n",
    "In the following example, the first prediction was class 1 with a 90.5% probability."
   ]
  },
  {
   "cell_type": "code",
   "execution_count": 49,
   "metadata": {
    "collapsed": false
   },
   "outputs": [
    {
     "name": "stdout",
     "output_type": "stream",
     "text": [
      "+-------+----------------+\n",
      "| class |  probability   |\n",
      "+-------+----------------+\n",
      "|   1   | 0.939273077702 |\n",
      "|   1   | 0.948592772612 |\n",
      "|   1   | 0.922095906969 |\n",
      "|   1   | 0.702785257426 |\n",
      "|   1   | 0.874493206834 |\n",
      "|   1   | 0.780606542486 |\n",
      "|   1   | 0.905959532362 |\n",
      "|   1   | 0.958010479264 |\n",
      "|   1   | 0.974481896863 |\n",
      "|   1   | 0.881426373714 |\n",
      "+-------+----------------+\n",
      "[43515 rows x 2 columns]\n",
      "Note: Only the head of the SFrame is printed.\n",
      "You can use print_rows(num_rows=m, num_columns=n) to print more rows and columns.\n"
     ]
    }
   ],
   "source": [
    "predictions = model.classify(test_data)\n",
    "print predictions"
   ]
  },
  {
   "cell_type": "markdown",
   "metadata": {},
   "source": [
    "Making detailed predictions\n",
    "\n",
    "Logistic regression predictions can take one of three forms:\n",
    "\n",
    "    Classes (default): Thresholds the probability estimate at 0.5 to predict\n",
    "    a class label i.e. 0/1.\n",
    "    Probabilities: A probability estimate (in the range [0,1]) that the example is in the True class. Note that this is not the same as the probability estimate in the classify function.\n",
    "    Margins : Distance to the linear decision boundary learned by the model. The larger the distance, the more confidence we have that it belongs to one class or the other.\n",
    "\n",
    "GraphLab Create's logistic regression model can return predictions for any of these types:"
   ]
  },
  {
   "cell_type": "code",
   "execution_count": 50,
   "metadata": {
    "collapsed": true
   },
   "outputs": [],
   "source": [
    "pred_class = model.predict(test_data, output_type = \"class\")          # Class\n",
    "pred_prob_one = model.predict(test_data, output_type = 'probability') # Probability\n",
    "pred_margin = model.predict(test_data, output_type = \"margin\")        # Margins"
   ]
  },
  {
   "cell_type": "markdown",
   "metadata": {},
   "source": [
    " Evaluating Results\n",
    "\n",
    "We can also evaluate our predictions by comparing them to known ratings. The results are evaluated using two metrics:\n",
    "\n",
    "    Classification Accuracy: Fraction of test set examples with correct class label predictions.\n",
    "    Confusion Matrix: Cross- tabulation of predicted and actual class labels.\n"
   ]
  },
  {
   "cell_type": "code",
   "execution_count": 51,
   "metadata": {
    "collapsed": false
   },
   "outputs": [
    {
     "name": "stdout",
     "output_type": "stream",
     "text": [
      "Accuracy         : 0.864345627944\n",
      "Confusion Matrix : \n",
      "+--------------+-----------------+-------+\n",
      "| target_label | predicted_label | count |\n",
      "+--------------+-----------------+-------+\n",
      "|      1       |        0        |  964  |\n",
      "|      0       |        0        |  2318 |\n",
      "|      0       |        1        |  4939 |\n",
      "|      1       |        1        | 35294 |\n",
      "+--------------+-----------------+-------+\n",
      "[4 rows x 3 columns]\n",
      "\n"
     ]
    }
   ],
   "source": [
    "result = model.evaluate(test_data)\n",
    "print \"Accuracy         : %s\" % result['accuracy']\n",
    "print \"Confusion Matrix : \\n%s\" % result['confusion_matrix']"
   ]
  },
  {
   "cell_type": "markdown",
   "metadata": {},
   "source": [
    "# Logistic Regression Model"
   ]
  },
  {
   "cell_type": "markdown",
   "metadata": {},
   "source": [
    "# Load the data into a SFrame"
   ]
  },
  {
   "cell_type": "code",
   "execution_count": 75,
   "metadata": {
    "collapsed": false
   },
   "outputs": [
    {
     "data": {
      "text/html": [
       "<pre>Finished parsing file G:\\jhu\\smu\\classes\\MSDS-7331-Data-Mining-402\\lectures\\mini-lab\\data\\CLSLOWBWT.csv</pre>"
      ],
      "text/plain": [
       "Finished parsing file G:\\jhu\\smu\\classes\\MSDS-7331-Data-Mining-402\\lectures\\mini-lab\\data\\CLSLOWBWT.csv"
      ]
     },
     "metadata": {},
     "output_type": "display_data"
    },
    {
     "data": {
      "text/html": [
       "<pre>Parsing completed. Parsed 100 lines in 0.017027 secs.</pre>"
      ],
      "text/plain": [
       "Parsing completed. Parsed 100 lines in 0.017027 secs."
      ]
     },
     "metadata": {},
     "output_type": "display_data"
    },
    {
     "name": "stdout",
     "output_type": "stream",
     "text": [
      "------------------------------------------------------\n",
      "Inferred types from first 100 line(s) of file as \n",
      "column_type_hints=[long,long,long,long,long,long,long,long]\n",
      "If parsing fails due to incorrect types, you can correct\n",
      "the inferred type list above and pass it to read_csv in\n",
      "the column_type_hints argument\n",
      "------------------------------------------------------\n"
     ]
    },
    {
     "data": {
      "text/html": [
       "<pre>Finished parsing file G:\\jhu\\smu\\classes\\MSDS-7331-Data-Mining-402\\lectures\\mini-lab\\data\\CLSLOWBWT.csv</pre>"
      ],
      "text/plain": [
       "Finished parsing file G:\\jhu\\smu\\classes\\MSDS-7331-Data-Mining-402\\lectures\\mini-lab\\data\\CLSLOWBWT.csv"
      ]
     },
     "metadata": {},
     "output_type": "display_data"
    },
    {
     "data": {
      "text/html": [
       "<pre>Parsing completed. Parsed 488 lines in 0.017024 secs.</pre>"
      ],
      "text/plain": [
       "Parsing completed. Parsed 488 lines in 0.017024 secs."
      ]
     },
     "metadata": {},
     "output_type": "display_data"
    }
   ],
   "source": [
    "# Load the data\n",
    "sf_data =  gl.SFrame(CLS_LOW_BWT_FILENAME)"
   ]
  },
  {
   "cell_type": "markdown",
   "metadata": {},
   "source": [
    "**Logistic Regression Model Setup** "
   ]
  },
  {
   "cell_type": "markdown",
   "metadata": {},
   "source": [
    "### Assess how well each model performs (use 80/20) training/testing split for your data"
   ]
  },
  {
   "cell_type": "code",
   "execution_count": 53,
   "metadata": {
    "collapsed": true
   },
   "outputs": [],
   "source": [
    "# Make a train-test split\n",
    "train_data, test_data = sf_data.random_split(0.8)"
   ]
  },
  {
   "cell_type": "code",
   "execution_count": 54,
   "metadata": {
    "collapsed": false
   },
   "outputs": [
    {
     "data": {
      "application/javascript": [
       "$(\"head\").append($(\"<link/>\").attr({\n",
       "  rel:  \"stylesheet\",\n",
       "  type: \"text/css\",\n",
       "  href: \"//cdnjs.cloudflare.com/ajax/libs/font-awesome/4.1.0/css/font-awesome.min.css\"\n",
       "}));\n",
       "$(\"head\").append($(\"<link/>\").attr({\n",
       "  rel:  \"stylesheet\",\n",
       "  type: \"text/css\",\n",
       "  href: \"https://static.turi.com/products/graphlab-create/2.1/canvas/css/canvas.css\"\n",
       "}));\n",
       "\n",
       "            (function(){\n",
       "\n",
       "                var e = null;\n",
       "                if (typeof element == 'undefined') {\n",
       "                    var scripts = document.getElementsByTagName('script');\n",
       "                    var thisScriptTag = scripts[scripts.length-1];\n",
       "                    var parentDiv = thisScriptTag.parentNode;\n",
       "                    e = document.createElement('div');\n",
       "                    parentDiv.appendChild(e);\n",
       "                } else {\n",
       "                    e = element[0];\n",
       "                }\n",
       "\n",
       "                if (typeof requirejs !== 'undefined') {\n",
       "                    // disable load timeout; ipython_app.js is large and can take a while to load.\n",
       "                    requirejs.config({waitSeconds: 0});\n",
       "                }\n",
       "\n",
       "                require(['https://static.turi.com/products/graphlab-create/2.1/canvas/js/ipython_app.js'], function(IPythonApp){\n",
       "                    var app = new IPythonApp();\n",
       "                    app.attachView('sframe','Summary', {\"ipython\": true, \"sketch\": {\"BWT\": {\"std\": 687.6092217240251, \"complete\": true, \"min\": 798.0, \"max\": 5025.0, \"quantile\": [798.0, 1196.0, 1366.0, 1440.0, 1592.0, 1680.0, 1724.0, 1848.0, 1884.0, 1912.0, 1967.0, 1998.0, 2011.0, 2034.0, 2067.0, 2116.0, 2148.0, 2172.0, 2194.0, 2208.0, 2237.0, 2274.0, 2295.0, 2310.0, 2323.0, 2345.0, 2372.0, 2400.0, 2422.0, 2449.0, 2477.0, 2524.0, 2549.0, 2575.0, 2589.0, 2603.0, 2613.0, 2645.0, 2665.0, 2679.0, 2700.0, 2719.0, 2724.0, 2765.0, 2776.0, 2783.0, 2803.0, 2823.0, 2839.0, 2866.0, 2884.0, 2917.0, 2929.0, 2945.0, 2960.0, 2972.0, 2996.0, 3008.0, 3016.0, 3026.0, 3051.0, 3078.0, 3095.0, 3115.0, 3129.0, 3138.0, 3159.0, 3176.0, 3193.0, 3202.0, 3225.0, 3241.0, 3261.0, 3284.0, 3293.0, 3314.0, 3340.0, 3364.0, 3395.0, 3407.0, 3420.0, 3458.0, 3461.0, 3480.0, 3502.0, 3538.0, 3551.0, 3565.0, 3590.0, 3645.0, 3669.0, 3678.0, 3767.0, 3823.0, 3849.0, 3921.0, 4006.0, 4049.0, 4243.0, 4347.0, 5025.0], \"median\": 2884.0, \"numeric\": true, \"num_unique\": 445, \"num_undefined\": 0, \"var\": 472806.4417999195, \"progress\": 1.0, \"size\": 488, \"frequent_items\": {\"2055\": {\"frequency\": 1, \"value\": 2055}, \"2056\": {\"frequency\": 1, \"value\": 2056}, \"2067\": {\"frequency\": 1, \"value\": 2067}, \"2087\": {\"frequency\": 1, \"value\": 2087}, \"3420\": {\"frequency\": 1, \"value\": 3420}, \"2092\": {\"frequency\": 1, \"value\": 2092}, \"4153\": {\"frequency\": 1, \"value\": 4153}, \"2107\": {\"frequency\": 1, \"value\": 2107}, \"2112\": {\"frequency\": 1, \"value\": 2112}, \"2116\": {\"frequency\": 1, \"value\": 2116}, \"4165\": {\"frequency\": 1, \"value\": 4165}, \"2120\": {\"frequency\": 1, \"value\": 2120}, \"2124\": {\"frequency\": 1, \"value\": 2124}, \"2131\": {\"frequency\": 1, \"value\": 2131}, \"2148\": {\"frequency\": 1, \"value\": 2148}, \"2152\": {\"frequency\": 1, \"value\": 2152}, \"2154\": {\"frequency\": 1, \"value\": 2154}, \"2161\": {\"frequency\": 1, \"value\": 2161}, \"2172\": {\"frequency\": 2, \"value\": 2172}, \"2187\": {\"frequency\": 1, \"value\": 2187}, \"2188\": {\"frequency\": 1, \"value\": 2188}, \"2190\": {\"frequency\": 1, \"value\": 2190}, \"2194\": {\"frequency\": 1, \"value\": 2194}, \"4243\": {\"frequency\": 1, \"value\": 4243}, \"2197\": {\"frequency\": 1, \"value\": 2197}, \"2200\": {\"frequency\": 1, \"value\": 2200}, \"2201\": {\"frequency\": 1, \"value\": 2201}, \"2202\": {\"frequency\": 1, \"value\": 2202}, \"4255\": {\"frequency\": 1, \"value\": 4255}, \"2208\": {\"frequency\": 1, \"value\": 2208}, \"2213\": {\"frequency\": 1, \"value\": 2213}, \"2217\": {\"frequency\": 1, \"value\": 2217}, \"2224\": {\"frequency\": 1, \"value\": 2224}, \"4277\": {\"frequency\": 1, \"value\": 4277}, \"2231\": {\"frequency\": 1, \"value\": 2231}, \"2237\": {\"frequency\": 1, \"value\": 2237}, \"2240\": {\"frequency\": 1, \"value\": 2240}, \"2242\": {\"frequency\": 1, \"value\": 2242}, \"2243\": {\"frequency\": 1, \"value\": 2243}, \"2262\": {\"frequency\": 1, \"value\": 2262}, \"4321\": {\"frequency\": 1, \"value\": 4321}, \"2274\": {\"frequency\": 1, \"value\": 2274}, \"2280\": {\"frequency\": 1, \"value\": 2280}, \"2284\": {\"frequency\": 1, \"value\": 2284}, \"4336\": {\"frequency\": 1, \"value\": 4336}, \"2289\": {\"frequency\": 2, \"value\": 2289}, \"2295\": {\"frequency\": 1, \"value\": 2295}, \"2297\": {\"frequency\": 1, \"value\": 2297}, \"4347\": {\"frequency\": 1, \"value\": 4347}, \"2300\": {\"frequency\": 1, \"value\": 2300}, \"2304\": {\"frequency\": 1, \"value\": 2304}, \"2306\": {\"frequency\": 1, \"value\": 2306}, \"2310\": {\"frequency\": 1, \"value\": 2310}, \"2312\": {\"frequency\": 1, \"value\": 2312}, \"2317\": {\"frequency\": 1, \"value\": 2317}, \"2318\": {\"frequency\": 1, \"value\": 2318}, \"2322\": {\"frequency\": 1, \"value\": 2322}, \"2323\": {\"frequency\": 1, \"value\": 2323}, \"2324\": {\"frequency\": 1, \"value\": 2324}, \"2325\": {\"frequency\": 1, \"value\": 2325}, \"2335\": {\"frequency\": 1, \"value\": 2335}, \"2342\": {\"frequency\": 1, \"value\": 2342}, \"2345\": {\"frequency\": 2, \"value\": 2345}, \"2346\": {\"frequency\": 1, \"value\": 2346}, \"2370\": {\"frequency\": 1, \"value\": 2370}, \"2372\": {\"frequency\": 1, \"value\": 2372}, \"2373\": {\"frequency\": 1, \"value\": 2373}, \"2381\": {\"frequency\": 1, \"value\": 2381}, \"2387\": {\"frequency\": 1, \"value\": 2387}, \"2394\": {\"frequency\": 1, \"value\": 2394}, \"2400\": {\"frequency\": 1, \"value\": 2400}, \"2401\": {\"frequency\": 1, \"value\": 2401}, \"2404\": {\"frequency\": 1, \"value\": 2404}, \"2406\": {\"frequency\": 1, \"value\": 2406}, \"2411\": {\"frequency\": 1, \"value\": 2411}, \"4469\": {\"frequency\": 1, \"value\": 4469}, \"2422\": {\"frequency\": 1, \"value\": 2422}, \"2427\": {\"frequency\": 1, \"value\": 2427}, \"2437\": {\"frequency\": 1, \"value\": 2437}, \"2442\": {\"frequency\": 1, \"value\": 2442}, \"2446\": {\"frequency\": 1, \"value\": 2446}, \"2449\": {\"frequency\": 1, \"value\": 2449}, \"2451\": {\"frequency\": 1, \"value\": 2451}, \"2457\": {\"frequency\": 1, \"value\": 2457}, \"2460\": {\"frequency\": 1, \"value\": 2460}, \"2117\": {\"frequency\": 1, \"value\": 2117}, \"4513\": {\"frequency\": 1, \"value\": 4513}, \"2477\": {\"frequency\": 1, \"value\": 2477}, \"2481\": {\"frequency\": 1, \"value\": 2481}, \"2491\": {\"frequency\": 1, \"value\": 2491}, \"2497\": {\"frequency\": 1, \"value\": 2497}, \"2499\": {\"frequency\": 1, \"value\": 2499}, \"2465\": {\"frequency\": 1, \"value\": 2465}, \"2524\": {\"frequency\": 1, \"value\": 2524}, \"2525\": {\"frequency\": 1, \"value\": 2525}, \"2544\": {\"frequency\": 2, \"value\": 2544}, \"2547\": {\"frequency\": 1, \"value\": 2547}, \"2549\": {\"frequency\": 1, \"value\": 2549}, \"2562\": {\"frequency\": 2, \"value\": 2562}, \"2571\": {\"frequency\": 1, \"value\": 2571}, \"2575\": {\"frequency\": 2, \"value\": 2575}, \"2576\": {\"frequency\": 1, \"value\": 2576}, \"2580\": {\"frequency\": 1, \"value\": 2580}, \"2584\": {\"frequency\": 1, \"value\": 2584}, \"2589\": {\"frequency\": 1, \"value\": 2589}, \"2591\": {\"frequency\": 1, \"value\": 2591}, \"2592\": {\"frequency\": 1, \"value\": 2592}, \"2598\": {\"frequency\": 2, \"value\": 2598}, \"2603\": {\"frequency\": 1, \"value\": 2603}, \"2604\": {\"frequency\": 1, \"value\": 2604}, \"2607\": {\"frequency\": 1, \"value\": 2607}, \"2609\": {\"frequency\": 1, \"value\": 2609}, \"2612\": {\"frequency\": 1, \"value\": 2612}, \"4661\": {\"frequency\": 1, \"value\": 4661}, \"2632\": {\"frequency\": 2, \"value\": 2632}, \"2638\": {\"frequency\": 1, \"value\": 2638}, \"2645\": {\"frequency\": 1, \"value\": 2645}, \"2651\": {\"frequency\": 1, \"value\": 2651}, \"2654\": {\"frequency\": 1, \"value\": 2654}, \"2660\": {\"frequency\": 1, \"value\": 2660}, \"2664\": {\"frequency\": 1, \"value\": 2664}, \"2665\": {\"frequency\": 2, \"value\": 2665}, \"2673\": {\"frequency\": 1, \"value\": 2673}, \"2677\": {\"frequency\": 1, \"value\": 2677}, \"2679\": {\"frequency\": 2, \"value\": 2679}, \"2680\": {\"frequency\": 1, \"value\": 2680}, \"2684\": {\"frequency\": 1, \"value\": 2684}, \"2692\": {\"frequency\": 2, \"value\": 2692}, \"2700\": {\"frequency\": 1, \"value\": 2700}, \"2703\": {\"frequency\": 1, \"value\": 2703}, \"2705\": {\"frequency\": 1, \"value\": 2705}, \"2706\": {\"frequency\": 1, \"value\": 2706}, \"2707\": {\"frequency\": 1, \"value\": 2707}, \"2719\": {\"frequency\": 1, \"value\": 2719}, \"2721\": {\"frequency\": 1, \"value\": 2721}, \"2722\": {\"frequency\": 2, \"value\": 2722}, \"2724\": {\"frequency\": 1, \"value\": 2724}, \"2725\": {\"frequency\": 1, \"value\": 2725}, \"2731\": {\"frequency\": 2, \"value\": 2731}, \"2846\": {\"frequency\": 1, \"value\": 2846}, \"2761\": {\"frequency\": 1, \"value\": 2761}, \"2765\": {\"frequency\": 1, \"value\": 2765}, \"2769\": {\"frequency\": 2, \"value\": 2769}, \"2774\": {\"frequency\": 1, \"value\": 2774}, \"2776\": {\"frequency\": 2, \"value\": 2776}, \"2778\": {\"frequency\": 1, \"value\": 2778}, \"2779\": {\"frequency\": 1, \"value\": 2779}, \"2780\": {\"frequency\": 1, \"value\": 2780}, \"2782\": {\"frequency\": 1, \"value\": 2782}, \"2783\": {\"frequency\": 1, \"value\": 2783}, \"2795\": {\"frequency\": 1, \"value\": 2795}, \"2796\": {\"frequency\": 2, \"value\": 2796}, \"2801\": {\"frequency\": 1, \"value\": 2801}, \"2803\": {\"frequency\": 1, \"value\": 2803}, \"2805\": {\"frequency\": 1, \"value\": 2805}, \"2809\": {\"frequency\": 1, \"value\": 2809}, \"2813\": {\"frequency\": 1, \"value\": 2813}, \"2818\": {\"frequency\": 1, \"value\": 2818}, \"2823\": {\"frequency\": 1, \"value\": 2823}, \"2824\": {\"frequency\": 1, \"value\": 2824}, \"2826\": {\"frequency\": 1, \"value\": 2826}, \"2828\": {\"frequency\": 1, \"value\": 2828}, \"2838\": {\"frequency\": 1, \"value\": 2838}, \"2839\": {\"frequency\": 1, \"value\": 2839}, \"798\": {\"frequency\": 1, \"value\": 798}, \"2864\": {\"frequency\": 1, \"value\": 2864}, \"2865\": {\"frequency\": 1, \"value\": 2865}, \"2866\": {\"frequency\": 2, \"value\": 2866}, \"2872\": {\"frequency\": 1, \"value\": 2872}, \"2878\": {\"frequency\": 1, \"value\": 2878}, \"2879\": {\"frequency\": 1, \"value\": 2879}, \"2882\": {\"frequency\": 1, \"value\": 2882}, \"2884\": {\"frequency\": 2, \"value\": 2884}, \"847\": {\"frequency\": 1, \"value\": 847}, \"2903\": {\"frequency\": 1, \"value\": 2903}, \"2907\": {\"frequency\": 1, \"value\": 2907}, \"2917\": {\"frequency\": 1, \"value\": 2917}, \"2919\": {\"frequency\": 1, \"value\": 2919}, \"2922\": {\"frequency\": 2, \"value\": 2922}, \"4242\": {\"frequency\": 1, \"value\": 4242}, \"2929\": {\"frequency\": 1, \"value\": 2929}, \"2932\": {\"frequency\": 1, \"value\": 2932}, \"2938\": {\"frequency\": 1, \"value\": 2938}, \"2940\": {\"frequency\": 1, \"value\": 2940}, \"2944\": {\"frequency\": 1, \"value\": 2944}, \"2945\": {\"frequency\": 1, \"value\": 2945}, \"2952\": {\"frequency\": 1, \"value\": 2952}, \"2954\": {\"frequency\": 1, \"value\": 2954}, \"2955\": {\"frequency\": 1, \"value\": 2955}, \"2957\": {\"frequency\": 1, \"value\": 2957}, \"2960\": {\"frequency\": 1, \"value\": 2960}, \"2962\": {\"frequency\": 1, \"value\": 2962}, \"2966\": {\"frequency\": 1, \"value\": 2966}, \"2967\": {\"frequency\": 1, \"value\": 2967}, \"2968\": {\"frequency\": 1, \"value\": 2968}, \"2972\": {\"frequency\": 1, \"value\": 2972}, \"5025\": {\"frequency\": 1, \"value\": 5025}, \"2979\": {\"frequency\": 1, \"value\": 2979}, \"2981\": {\"frequency\": 1, \"value\": 2981}, \"2990\": {\"frequency\": 1, \"value\": 2990}, \"2993\": {\"frequency\": 1, \"value\": 2993}, \"2996\": {\"frequency\": 1, \"value\": 2996}, \"3000\": {\"frequency\": 1, \"value\": 3000}, \"3003\": {\"frequency\": 1, \"value\": 3003}, \"3005\": {\"frequency\": 1, \"value\": 3005}, \"3006\": {\"frequency\": 1, \"value\": 3006}, \"3008\": {\"frequency\": 1, \"value\": 3008}, \"3009\": {\"frequency\": 1, \"value\": 3009}, \"3010\": {\"frequency\": 1, \"value\": 3010}, \"3012\": {\"frequency\": 1, \"value\": 3012}, \"3013\": {\"frequency\": 1, \"value\": 3013}, \"3016\": {\"frequency\": 1, \"value\": 3016}, \"3019\": {\"frequency\": 1, \"value\": 3019}, \"3021\": {\"frequency\": 1, \"value\": 3021}, \"3023\": {\"frequency\": 1, \"value\": 3023}, \"3026\": {\"frequency\": 1, \"value\": 3026}, \"3027\": {\"frequency\": 1, \"value\": 3027}, \"3921\": {\"frequency\": 1, \"value\": 3921}, \"3044\": {\"frequency\": 1, \"value\": 3044}, \"3047\": {\"frequency\": 1, \"value\": 3047}, \"3050\": {\"frequency\": 1, \"value\": 3050}, \"3051\": {\"frequency\": 1, \"value\": 3051}, \"3052\": {\"frequency\": 1, \"value\": 3052}, \"3057\": {\"frequency\": 1, \"value\": 3057}, \"3066\": {\"frequency\": 1, \"value\": 3066}, \"3070\": {\"frequency\": 1, \"value\": 3070}, \"3078\": {\"frequency\": 1, \"value\": 3078}, \"3086\": {\"frequency\": 1, \"value\": 3086}, \"3087\": {\"frequency\": 1, \"value\": 3087}, \"3091\": {\"frequency\": 1, \"value\": 3091}, \"3092\": {\"frequency\": 1, \"value\": 3092}, \"3095\": {\"frequency\": 1, \"value\": 3095}, \"3097\": {\"frequency\": 1, \"value\": 3097}, \"3104\": {\"frequency\": 1, \"value\": 3104}, \"3106\": {\"frequency\": 1, \"value\": 3106}, \"3109\": {\"frequency\": 1, \"value\": 3109}, \"3115\": {\"frequency\": 1, \"value\": 3115}, \"3118\": {\"frequency\": 1, \"value\": 3118}, \"3121\": {\"frequency\": 1, \"value\": 3121}, \"3125\": {\"frequency\": 1, \"value\": 3125}, \"3127\": {\"frequency\": 1, \"value\": 3127}, \"3129\": {\"frequency\": 1, \"value\": 3129}, \"3133\": {\"frequency\": 2, \"value\": 3133}, \"3134\": {\"frequency\": 1, \"value\": 3134}, \"3137\": {\"frequency\": 1, \"value\": 3137}, \"3138\": {\"frequency\": 1, \"value\": 3138}, \"3139\": {\"frequency\": 1, \"value\": 3139}, \"3144\": {\"frequency\": 1, \"value\": 3144}, \"3158\": {\"frequency\": 2, \"value\": 3158}, \"3159\": {\"frequency\": 1, \"value\": 3159}, \"3172\": {\"frequency\": 2, \"value\": 3172}, \"3176\": {\"frequency\": 2, \"value\": 3176}, \"1130\": {\"frequency\": 1, \"value\": 1130}, \"3183\": {\"frequency\": 1, \"value\": 3183}, \"3184\": {\"frequency\": 2, \"value\": 3184}, \"1137\": {\"frequency\": 1, \"value\": 1137}, \"3189\": {\"frequency\": 1, \"value\": 3189}, \"3193\": {\"frequency\": 1, \"value\": 3193}, \"3194\": {\"frequency\": 1, \"value\": 3194}, \"3196\": {\"frequency\": 1, \"value\": 3196}, \"3197\": {\"frequency\": 1, \"value\": 3197}, \"3199\": {\"frequency\": 1, \"value\": 3199}, \"3202\": {\"frequency\": 1, \"value\": 3202}, \"3203\": {\"frequency\": 1, \"value\": 3203}, \"3211\": {\"frequency\": 1, \"value\": 3211}, \"3215\": {\"frequency\": 1, \"value\": 3215}, \"3217\": {\"frequency\": 1, \"value\": 3217}, \"3225\": {\"frequency\": 1, \"value\": 3225}, \"3226\": {\"frequency\": 2, \"value\": 3226}, \"3238\": {\"frequency\": 1, \"value\": 3238}, \"3239\": {\"frequency\": 1, \"value\": 3239}, \"3241\": {\"frequency\": 1, \"value\": 3241}, \"3242\": {\"frequency\": 1, \"value\": 3242}, \"1196\": {\"frequency\": 1, \"value\": 1196}, \"3245\": {\"frequency\": 1, \"value\": 3245}, \"3247\": {\"frequency\": 1, \"value\": 3247}, \"3254\": {\"frequency\": 1, \"value\": 3254}, \"3261\": {\"frequency\": 1, \"value\": 3261}, \"1217\": {\"frequency\": 1, \"value\": 1217}, \"3270\": {\"frequency\": 1, \"value\": 3270}, \"3271\": {\"frequency\": 1, \"value\": 3271}, \"3277\": {\"frequency\": 1, \"value\": 3277}, \"3282\": {\"frequency\": 1, \"value\": 3282}, \"3284\": {\"frequency\": 1, \"value\": 3284}, \"3287\": {\"frequency\": 1, \"value\": 3287}, \"3288\": {\"frequency\": 1, \"value\": 3288}, \"3290\": {\"frequency\": 1, \"value\": 3290}, \"3292\": {\"frequency\": 1, \"value\": 3292}, \"3293\": {\"frequency\": 1, \"value\": 3293}, \"3297\": {\"frequency\": 1, \"value\": 3297}, \"3300\": {\"frequency\": 1, \"value\": 3300}, \"3302\": {\"frequency\": 1, \"value\": 3302}, \"3308\": {\"frequency\": 1, \"value\": 3308}, \"3314\": {\"frequency\": 1, \"value\": 3314}, \"3330\": {\"frequency\": 1, \"value\": 3330}, \"3335\": {\"frequency\": 1, \"value\": 3335}, \"3336\": {\"frequency\": 1, \"value\": 3336}, \"3340\": {\"frequency\": 1, \"value\": 3340}, \"3341\": {\"frequency\": 1, \"value\": 3341}, \"3342\": {\"frequency\": 1, \"value\": 3342}, \"3343\": {\"frequency\": 1, \"value\": 3343}, \"3351\": {\"frequency\": 1, \"value\": 3351}, \"1308\": {\"frequency\": 1, \"value\": 1308}, \"1316\": {\"frequency\": 1, \"value\": 1316}, \"3367\": {\"frequency\": 1, \"value\": 3367}, \"3379\": {\"frequency\": 2, \"value\": 3379}, \"3386\": {\"frequency\": 1, \"value\": 3386}, \"2613\": {\"frequency\": 2, \"value\": 2613}, \"3395\": {\"frequency\": 1, \"value\": 3395}, \"3397\": {\"frequency\": 1, \"value\": 3397}, \"3398\": {\"frequency\": 1, \"value\": 3398}, \"3402\": {\"frequency\": 1, \"value\": 3402}, \"3404\": {\"frequency\": 1, \"value\": 3404}, \"3407\": {\"frequency\": 1, \"value\": 3407}, \"3412\": {\"frequency\": 1, \"value\": 3412}, \"3413\": {\"frequency\": 1, \"value\": 3413}, \"1366\": {\"frequency\": 1, \"value\": 1366}, \"3415\": {\"frequency\": 1, \"value\": 3415}, \"1369\": {\"frequency\": 1, \"value\": 1369}, \"3419\": {\"frequency\": 1, \"value\": 3419}, \"1372\": {\"frequency\": 1, \"value\": 1372}, \"3424\": {\"frequency\": 1, \"value\": 3424}, \"3428\": {\"frequency\": 1, \"value\": 3428}, \"1383\": {\"frequency\": 1, \"value\": 1383}, \"3432\": {\"frequency\": 1, \"value\": 3432}, \"3456\": {\"frequency\": 1, \"value\": 3456}, \"3458\": {\"frequency\": 2, \"value\": 3458}, \"3460\": {\"frequency\": 3, \"value\": 3460}, \"3461\": {\"frequency\": 1, \"value\": 3461}, \"1418\": {\"frequency\": 1, \"value\": 1418}, \"3470\": {\"frequency\": 1, \"value\": 3470}, \"3473\": {\"frequency\": 1, \"value\": 3473}, \"3477\": {\"frequency\": 1, \"value\": 3477}, \"3479\": {\"frequency\": 1, \"value\": 3479}, \"3480\": {\"frequency\": 1, \"value\": 3480}, \"3484\": {\"frequency\": 1, \"value\": 3484}, \"1440\": {\"frequency\": 1, \"value\": 1440}, \"3489\": {\"frequency\": 1, \"value\": 3489}, \"3490\": {\"frequency\": 1, \"value\": 3490}, \"1452\": {\"frequency\": 1, \"value\": 1452}, \"3502\": {\"frequency\": 1, \"value\": 3502}, \"1456\": {\"frequency\": 1, \"value\": 1456}, \"1461\": {\"frequency\": 1, \"value\": 1461}, \"3521\": {\"frequency\": 1, \"value\": 3521}, \"3523\": {\"frequency\": 1, \"value\": 3523}, \"3525\": {\"frequency\": 1, \"value\": 3525}, \"3532\": {\"frequency\": 1, \"value\": 3532}, \"3538\": {\"frequency\": 2, \"value\": 3538}, \"3541\": {\"frequency\": 2, \"value\": 3541}, \"3542\": {\"frequency\": 1, \"value\": 3542}, \"4005\": {\"frequency\": 2, \"value\": 4005}, \"3551\": {\"frequency\": 2, \"value\": 3551}, \"3552\": {\"frequency\": 1, \"value\": 3552}, \"3554\": {\"frequency\": 1, \"value\": 3554}, \"1512\": {\"frequency\": 1, \"value\": 1512}, \"3564\": {\"frequency\": 1, \"value\": 3564}, \"3565\": {\"frequency\": 1, \"value\": 3565}, \"3572\": {\"frequency\": 1, \"value\": 3572}, \"3574\": {\"frequency\": 1, \"value\": 3574}, \"3581\": {\"frequency\": 1, \"value\": 3581}, \"3583\": {\"frequency\": 1, \"value\": 3583}, \"3590\": {\"frequency\": 1, \"value\": 3590}, \"3604\": {\"frequency\": 1, \"value\": 3604}, \"4016\": {\"frequency\": 1, \"value\": 4016}, \"3623\": {\"frequency\": 1, \"value\": 3623}, \"3628\": {\"frequency\": 1, \"value\": 3628}, \"3636\": {\"frequency\": 1, \"value\": 3636}, \"1592\": {\"frequency\": 1, \"value\": 1592}, \"3645\": {\"frequency\": 1, \"value\": 3645}, \"1598\": {\"frequency\": 1, \"value\": 1598}, \"3647\": {\"frequency\": 1, \"value\": 3647}, \"1600\": {\"frequency\": 1, \"value\": 1600}, \"4022\": {\"frequency\": 1, \"value\": 4022}, \"1607\": {\"frequency\": 1, \"value\": 1607}, \"3657\": {\"frequency\": 1, \"value\": 3657}, \"3660\": {\"frequency\": 1, \"value\": 3660}, \"3666\": {\"frequency\": 1, \"value\": 3666}, \"3669\": {\"frequency\": 2, \"value\": 3669}, \"3670\": {\"frequency\": 1, \"value\": 3670}, \"3677\": {\"frequency\": 2, \"value\": 3677}, \"3678\": {\"frequency\": 1, \"value\": 3678}, \"1665\": {\"frequency\": 1, \"value\": 1665}, \"1680\": {\"frequency\": 1, \"value\": 1680}, \"3736\": {\"frequency\": 1, \"value\": 3736}, \"1691\": {\"frequency\": 1, \"value\": 1691}, \"3746\": {\"frequency\": 1, \"value\": 3746}, \"1702\": {\"frequency\": 1, \"value\": 1702}, \"3757\": {\"frequency\": 1, \"value\": 3757}, \"1710\": {\"frequency\": 1, \"value\": 1710}, \"3767\": {\"frequency\": 1, \"value\": 3767}, \"1723\": {\"frequency\": 1, \"value\": 1723}, \"1724\": {\"frequency\": 1, \"value\": 1724}, \"3775\": {\"frequency\": 1, \"value\": 3775}, \"3796\": {\"frequency\": 1, \"value\": 3796}, \"1749\": {\"frequency\": 1, \"value\": 1749}, \"3799\": {\"frequency\": 1, \"value\": 3799}, \"3364\": {\"frequency\": 1, \"value\": 3364}, \"3812\": {\"frequency\": 1, \"value\": 3812}, \"4049\": {\"frequency\": 1, \"value\": 4049}, \"3823\": {\"frequency\": 1, \"value\": 3823}, \"3827\": {\"frequency\": 1, \"value\": 3827}, \"3834\": {\"frequency\": 1, \"value\": 3834}, \"3839\": {\"frequency\": 1, \"value\": 3839}, \"3842\": {\"frequency\": 1, \"value\": 3842}, \"3849\": {\"frequency\": 1, \"value\": 3849}, \"3851\": {\"frequency\": 1, \"value\": 3851}, \"1816\": {\"frequency\": 1, \"value\": 1816}, \"1826\": {\"frequency\": 1, \"value\": 1826}, \"2925\": {\"frequency\": 1, \"value\": 2925}, \"3886\": {\"frequency\": 1, \"value\": 3886}, \"1841\": {\"frequency\": 1, \"value\": 1841}, \"1848\": {\"frequency\": 1, \"value\": 1848}, \"1850\": {\"frequency\": 1, \"value\": 1850}, \"1853\": {\"frequency\": 1, \"value\": 1853}, \"3904\": {\"frequency\": 1, \"value\": 3904}, \"3905\": {\"frequency\": 1, \"value\": 3905}, \"1858\": {\"frequency\": 1, \"value\": 1858}, \"1873\": {\"frequency\": 1, \"value\": 1873}, \"1884\": {\"frequency\": 1, \"value\": 1884}, \"1887\": {\"frequency\": 1, \"value\": 1887}, \"1888\": {\"frequency\": 1, \"value\": 1888}, \"3938\": {\"frequency\": 1, \"value\": 3938}, \"1902\": {\"frequency\": 1, \"value\": 1902}, \"1912\": {\"frequency\": 1, \"value\": 1912}, \"1940\": {\"frequency\": 1, \"value\": 1940}, \"1943\": {\"frequency\": 1, \"value\": 1943}, \"3997\": {\"frequency\": 1, \"value\": 3997}, \"1952\": {\"frequency\": 1, \"value\": 1952}, \"1953\": {\"frequency\": 1, \"value\": 1953}, \"1350\": {\"frequency\": 1, \"value\": 1350}, \"4006\": {\"frequency\": 1, \"value\": 4006}, \"4009\": {\"frequency\": 1, \"value\": 4009}, \"4013\": {\"frequency\": 1, \"value\": 4013}, \"1967\": {\"frequency\": 1, \"value\": 1967}, \"1968\": {\"frequency\": 1, \"value\": 1968}, \"1974\": {\"frequency\": 1, \"value\": 1974}, \"1976\": {\"frequency\": 2, \"value\": 1976}, \"1998\": {\"frequency\": 1, \"value\": 1998}, \"2001\": {\"frequency\": 2, \"value\": 2001}, \"4050\": {\"frequency\": 1, \"value\": 4050}, \"2005\": {\"frequency\": 1, \"value\": 2005}, \"2007\": {\"frequency\": 1, \"value\": 2007}, \"2011\": {\"frequency\": 1, \"value\": 2011}, \"2015\": {\"frequency\": 1, \"value\": 2015}, \"2026\": {\"frequency\": 1, \"value\": 2026}, \"2031\": {\"frequency\": 1, \"value\": 2031}, \"2034\": {\"frequency\": 2, \"value\": 2034}, \"2047\": {\"frequency\": 2, \"value\": 2047}}, \"mean\": 2841.9713114754104}, \"SMOKE\": {\"std\": 0.48981411251747803, \"complete\": true, \"min\": 0.0, \"max\": 1.0, \"quantile\": [0.0, 0.0, 0.0, 0.0, 0.0, 0.0, 0.0, 0.0, 0.0, 0.0, 0.0, 0.0, 0.0, 0.0, 0.0, 0.0, 0.0, 0.0, 0.0, 0.0, 0.0, 0.0, 0.0, 0.0, 0.0, 0.0, 0.0, 0.0, 0.0, 0.0, 0.0, 0.0, 0.0, 0.0, 0.0, 0.0, 0.0, 0.0, 0.0, 0.0, 0.0, 0.0, 0.0, 0.0, 0.0, 0.0, 0.0, 0.0, 0.0, 0.0, 0.0, 0.0, 0.0, 0.0, 0.0, 0.0, 0.0, 0.0, 0.0, 0.0, 0.0, 1.0, 1.0, 1.0, 1.0, 1.0, 1.0, 1.0, 1.0, 1.0, 1.0, 1.0, 1.0, 1.0, 1.0, 1.0, 1.0, 1.0, 1.0, 1.0, 1.0, 1.0, 1.0, 1.0, 1.0, 1.0, 1.0, 1.0, 1.0, 1.0, 1.0, 1.0, 1.0, 1.0, 1.0, 1.0, 1.0, 1.0, 1.0, 1.0, 1.0], \"median\": 0.0, \"numeric\": true, \"num_unique\": 2, \"num_undefined\": 0, \"var\": 0.2399178648212846, \"progress\": 1.0, \"size\": 488, \"frequent_items\": {\"0\": {\"frequency\": 293, \"value\": 0}, \"1\": {\"frequency\": 195, \"value\": 1}}, \"mean\": 0.39959016393442615}, \"AGE\": {\"std\": 5.81939180518573, \"complete\": true, \"min\": 14.0, \"max\": 48.0, \"quantile\": [14.0, 15.0, 16.0, 17.0, 17.0, 17.0, 18.0, 18.0, 18.0, 19.0, 19.0, 19.0, 19.0, 20.0, 20.0, 20.0, 20.0, 20.0, 21.0, 21.0, 21.0, 21.0, 21.0, 22.0, 22.0, 22.0, 22.0, 23.0, 23.0, 23.0, 23.0, 23.0, 23.0, 23.0, 24.0, 24.0, 24.0, 24.0, 24.0, 24.0, 25.0, 25.0, 25.0, 25.0, 25.0, 25.0, 25.0, 26.0, 26.0, 26.0, 26.0, 26.0, 27.0, 27.0, 27.0, 27.0, 27.0, 28.0, 28.0, 28.0, 28.0, 28.0, 28.0, 28.0, 28.0, 29.0, 29.0, 29.0, 29.0, 29.0, 29.0, 30.0, 30.0, 30.0, 30.0, 30.0, 31.0, 31.0, 31.0, 31.0, 32.0, 32.0, 32.0, 32.0, 33.0, 33.0, 33.0, 33.0, 34.0, 34.0, 34.0, 35.0, 35.0, 35.0, 36.0, 37.0, 37.0, 37.0, 39.0, 40.0, 48.0], \"median\": 26.0, \"numeric\": true, \"num_unique\": 30, \"num_undefined\": 0, \"var\": 33.86532098226283, \"progress\": 1.0, \"size\": 488, \"frequent_items\": {\"14\": {\"frequency\": 3, \"value\": 14}, \"15\": {\"frequency\": 3, \"value\": 15}, \"16\": {\"frequency\": 7, \"value\": 16}, \"17\": {\"frequency\": 14, \"value\": 17}, \"18\": {\"frequency\": 13, \"value\": 18}, \"19\": {\"frequency\": 20, \"value\": 19}, \"20\": {\"frequency\": 23, \"value\": 20}, \"21\": {\"frequency\": 26, \"value\": 21}, \"22\": {\"frequency\": 21, \"value\": 22}, \"23\": {\"frequency\": 33, \"value\": 23}, \"24\": {\"frequency\": 31, \"value\": 24}, \"25\": {\"frequency\": 31, \"value\": 25}, \"26\": {\"frequency\": 26, \"value\": 26}, \"27\": {\"frequency\": 27, \"value\": 27}, \"28\": {\"frequency\": 36, \"value\": 28}, \"29\": {\"frequency\": 29, \"value\": 29}, \"30\": {\"frequency\": 27, \"value\": 30}, \"31\": {\"frequency\": 18, \"value\": 31}, \"32\": {\"frequency\": 21, \"value\": 32}, \"33\": {\"frequency\": 20, \"value\": 33}, \"34\": {\"frequency\": 15, \"value\": 34}, \"35\": {\"frequency\": 11, \"value\": 35}, \"36\": {\"frequency\": 6, \"value\": 36}, \"37\": {\"frequency\": 13, \"value\": 37}, \"38\": {\"frequency\": 4, \"value\": 38}, \"39\": {\"frequency\": 5, \"value\": 39}, \"40\": {\"frequency\": 1, \"value\": 40}, \"41\": {\"frequency\": 2, \"value\": 41}, \"43\": {\"frequency\": 1, \"value\": 43}, \"48\": {\"frequency\": 1, \"value\": 48}}, \"mean\": 26.440573770491806}, \"LWT\": {\"std\": 32.40400387626681, \"complete\": true, \"min\": 80.0, \"max\": 272.0, \"quantile\": [80.0, 90.0, 94.0, 95.0, 99.0, 100.0, 103.0, 105.0, 105.0, 106.0, 108.0, 109.0, 110.0, 110.0, 111.0, 112.0, 113.0, 113.0, 115.0, 115.0, 117.0, 118.0, 119.0, 120.0, 120.0, 120.0, 120.0, 121.0, 121.0, 123.0, 124.0, 125.0, 126.0, 127.0, 128.0, 128.0, 129.0, 130.0, 130.0, 130.0, 130.0, 131.0, 131.0, 132.0, 133.0, 133.0, 134.0, 135.0, 135.0, 136.0, 137.0, 138.0, 138.0, 139.0, 140.0, 140.0, 141.0, 141.0, 142.0, 142.0, 143.0, 144.0, 145.0, 146.0, 147.0, 148.0, 149.0, 150.0, 150.0, 151.0, 152.0, 154.0, 155.0, 155.0, 156.0, 158.0, 159.0, 160.0, 163.0, 165.0, 168.0, 169.0, 170.0, 170.0, 171.0, 175.0, 176.0, 180.0, 184.0, 186.0, 189.0, 191.0, 193.0, 197.0, 202.0, 208.0, 210.0, 216.0, 229.0, 250.0, 272.0], \"median\": 137.0, \"numeric\": true, \"num_unique\": 131, \"num_undefined\": 0, \"var\": 1050.0194672131147, \"progress\": 1.0, \"size\": 488, \"frequent_items\": {\"80\": {\"frequency\": 1, \"value\": 80}, \"85\": {\"frequency\": 2, \"value\": 85}, \"89\": {\"frequency\": 1, \"value\": 89}, \"90\": {\"frequency\": 3, \"value\": 90}, \"91\": {\"frequency\": 1, \"value\": 91}, \"92\": {\"frequency\": 1, \"value\": 92}, \"94\": {\"frequency\": 1, \"value\": 94}, \"95\": {\"frequency\": 6, \"value\": 95}, \"96\": {\"frequency\": 1, \"value\": 96}, \"97\": {\"frequency\": 1, \"value\": 97}, \"98\": {\"frequency\": 1, \"value\": 98}, \"99\": {\"frequency\": 1, \"value\": 99}, \"100\": {\"frequency\": 5, \"value\": 100}, \"101\": {\"frequency\": 1, \"value\": 101}, \"102\": {\"frequency\": 3, \"value\": 102}, \"103\": {\"frequency\": 4, \"value\": 103}, \"104\": {\"frequency\": 1, \"value\": 104}, \"105\": {\"frequency\": 7, \"value\": 105}, \"106\": {\"frequency\": 3, \"value\": 106}, \"107\": {\"frequency\": 4, \"value\": 107}, \"108\": {\"frequency\": 2, \"value\": 108}, \"109\": {\"frequency\": 4, \"value\": 109}, \"110\": {\"frequency\": 14, \"value\": 110}, \"111\": {\"frequency\": 2, \"value\": 111}, \"112\": {\"frequency\": 7, \"value\": 112}, \"113\": {\"frequency\": 6, \"value\": 113}, \"114\": {\"frequency\": 3, \"value\": 114}, \"115\": {\"frequency\": 8, \"value\": 115}, \"116\": {\"frequency\": 2, \"value\": 116}, \"117\": {\"frequency\": 5, \"value\": 117}, \"118\": {\"frequency\": 3, \"value\": 118}, \"119\": {\"frequency\": 5, \"value\": 119}, \"120\": {\"frequency\": 20, \"value\": 120}, \"121\": {\"frequency\": 8, \"value\": 121}, \"122\": {\"frequency\": 4, \"value\": 122}, \"123\": {\"frequency\": 3, \"value\": 123}, \"124\": {\"frequency\": 4, \"value\": 124}, \"125\": {\"frequency\": 5, \"value\": 125}, \"126\": {\"frequency\": 5, \"value\": 126}, \"127\": {\"frequency\": 7, \"value\": 127}, \"128\": {\"frequency\": 7, \"value\": 128}, \"129\": {\"frequency\": 8, \"value\": 129}, \"130\": {\"frequency\": 18, \"value\": 130}, \"131\": {\"frequency\": 9, \"value\": 131}, \"132\": {\"frequency\": 7, \"value\": 132}, \"133\": {\"frequency\": 6, \"value\": 133}, \"134\": {\"frequency\": 8, \"value\": 134}, \"135\": {\"frequency\": 8, \"value\": 135}, \"136\": {\"frequency\": 6, \"value\": 136}, \"137\": {\"frequency\": 5, \"value\": 137}, \"138\": {\"frequency\": 8, \"value\": 138}, \"139\": {\"frequency\": 8, \"value\": 139}, \"140\": {\"frequency\": 8, \"value\": 140}, \"141\": {\"frequency\": 12, \"value\": 141}, \"142\": {\"frequency\": 5, \"value\": 142}, \"143\": {\"frequency\": 7, \"value\": 143}, \"144\": {\"frequency\": 6, \"value\": 144}, \"145\": {\"frequency\": 6, \"value\": 145}, \"146\": {\"frequency\": 2, \"value\": 146}, \"147\": {\"frequency\": 8, \"value\": 147}, \"148\": {\"frequency\": 4, \"value\": 148}, \"149\": {\"frequency\": 3, \"value\": 149}, \"150\": {\"frequency\": 12, \"value\": 150}, \"151\": {\"frequency\": 3, \"value\": 151}, \"152\": {\"frequency\": 3, \"value\": 152}, \"153\": {\"frequency\": 4, \"value\": 153}, \"154\": {\"frequency\": 4, \"value\": 154}, \"155\": {\"frequency\": 8, \"value\": 155}, \"156\": {\"frequency\": 5, \"value\": 156}, \"157\": {\"frequency\": 3, \"value\": 157}, \"158\": {\"frequency\": 3, \"value\": 158}, \"159\": {\"frequency\": 2, \"value\": 159}, \"160\": {\"frequency\": 5, \"value\": 160}, \"161\": {\"frequency\": 3, \"value\": 161}, \"162\": {\"frequency\": 1, \"value\": 162}, \"163\": {\"frequency\": 1, \"value\": 163}, \"164\": {\"frequency\": 3, \"value\": 164}, \"165\": {\"frequency\": 3, \"value\": 165}, \"166\": {\"frequency\": 1, \"value\": 166}, \"167\": {\"frequency\": 2, \"value\": 167}, \"168\": {\"frequency\": 3, \"value\": 168}, \"169\": {\"frequency\": 7, \"value\": 169}, \"170\": {\"frequency\": 7, \"value\": 170}, \"171\": {\"frequency\": 4, \"value\": 171}, \"172\": {\"frequency\": 1, \"value\": 172}, \"174\": {\"frequency\": 2, \"value\": 174}, \"175\": {\"frequency\": 5, \"value\": 175}, \"176\": {\"frequency\": 3, \"value\": 176}, \"177\": {\"frequency\": 1, \"value\": 177}, \"179\": {\"frequency\": 1, \"value\": 179}, \"180\": {\"frequency\": 1, \"value\": 180}, \"181\": {\"frequency\": 1, \"value\": 181}, \"182\": {\"frequency\": 1, \"value\": 182}, \"183\": {\"frequency\": 1, \"value\": 183}, \"184\": {\"frequency\": 2, \"value\": 184}, \"185\": {\"frequency\": 2, \"value\": 185}, \"186\": {\"frequency\": 3, \"value\": 186}, \"187\": {\"frequency\": 2, \"value\": 187}, \"188\": {\"frequency\": 1, \"value\": 188}, \"189\": {\"frequency\": 2, \"value\": 189}, \"190\": {\"frequency\": 4, \"value\": 190}, \"191\": {\"frequency\": 2, \"value\": 191}, \"193\": {\"frequency\": 3, \"value\": 193}, \"194\": {\"frequency\": 2, \"value\": 194}, \"196\": {\"frequency\": 2, \"value\": 196}, \"197\": {\"frequency\": 1, \"value\": 197}, \"200\": {\"frequency\": 2, \"value\": 200}, \"202\": {\"frequency\": 3, \"value\": 202}, \"206\": {\"frequency\": 2, \"value\": 206}, \"207\": {\"frequency\": 1, \"value\": 207}, \"208\": {\"frequency\": 2, \"value\": 208}, \"209\": {\"frequency\": 3, \"value\": 209}, \"210\": {\"frequency\": 2, \"value\": 210}, \"211\": {\"frequency\": 1, \"value\": 211}, \"213\": {\"frequency\": 1, \"value\": 213}, \"215\": {\"frequency\": 1, \"value\": 215}, \"216\": {\"frequency\": 2, \"value\": 216}, \"217\": {\"frequency\": 1, \"value\": 217}, \"220\": {\"frequency\": 1, \"value\": 220}, \"221\": {\"frequency\": 1, \"value\": 221}, \"224\": {\"frequency\": 1, \"value\": 224}, \"229\": {\"frequency\": 1, \"value\": 229}, \"230\": {\"frequency\": 1, \"value\": 230}, \"235\": {\"frequency\": 1, \"value\": 235}, \"241\": {\"frequency\": 1, \"value\": 241}, \"245\": {\"frequency\": 1, \"value\": 245}, \"250\": {\"frequency\": 1, \"value\": 250}, \"254\": {\"frequency\": 1, \"value\": 254}, \"262\": {\"frequency\": 1, \"value\": 262}, \"267\": {\"frequency\": 1, \"value\": 267}, \"272\": {\"frequency\": 1, \"value\": 272}}, \"mean\": 142.74999999999997}, \"RACE\": {\"std\": 0.9114223359945991, \"complete\": true, \"min\": 1.0, \"max\": 3.0, \"quantile\": [1.0, 1.0, 1.0, 1.0, 1.0, 1.0, 1.0, 1.0, 1.0, 1.0, 1.0, 1.0, 1.0, 1.0, 1.0, 1.0, 1.0, 1.0, 1.0, 1.0, 1.0, 1.0, 1.0, 1.0, 1.0, 1.0, 1.0, 1.0, 1.0, 1.0, 1.0, 1.0, 1.0, 1.0, 1.0, 1.0, 1.0, 1.0, 1.0, 1.0, 1.0, 1.0, 1.0, 1.0, 1.0, 1.0, 1.0, 1.0, 1.0, 1.0, 2.0, 2.0, 2.0, 2.0, 2.0, 2.0, 2.0, 2.0, 2.0, 2.0, 2.0, 2.0, 2.0, 2.0, 2.0, 3.0, 3.0, 3.0, 3.0, 3.0, 3.0, 3.0, 3.0, 3.0, 3.0, 3.0, 3.0, 3.0, 3.0, 3.0, 3.0, 3.0, 3.0, 3.0, 3.0, 3.0, 3.0, 3.0, 3.0, 3.0, 3.0, 3.0, 3.0, 3.0, 3.0, 3.0, 3.0, 3.0, 3.0, 3.0, 3.0], \"median\": 2.0, \"numeric\": true, \"num_unique\": 3, \"num_undefined\": 0, \"var\": 0.8306906745498518, \"progress\": 1.0, \"size\": 488, \"frequent_items\": {\"1\": {\"frequency\": 244, \"value\": 1}, \"2\": {\"frequency\": 72, \"value\": 2}, \"3\": {\"frequency\": 172, \"value\": 3}}, \"mean\": 1.8524590163934425}, \"LOW\": {\"std\": 0.462257112439103, \"complete\": true, \"min\": 0.0, \"max\": 1.0, \"quantile\": [0.0, 0.0, 0.0, 0.0, 0.0, 0.0, 0.0, 0.0, 0.0, 0.0, 0.0, 0.0, 0.0, 0.0, 0.0, 0.0, 0.0, 0.0, 0.0, 0.0, 0.0, 0.0, 0.0, 0.0, 0.0, 0.0, 0.0, 0.0, 0.0, 0.0, 0.0, 0.0, 0.0, 0.0, 0.0, 0.0, 0.0, 0.0, 0.0, 0.0, 0.0, 0.0, 0.0, 0.0, 0.0, 0.0, 0.0, 0.0, 0.0, 0.0, 0.0, 0.0, 0.0, 0.0, 0.0, 0.0, 0.0, 0.0, 0.0, 0.0, 0.0, 0.0, 0.0, 0.0, 0.0, 0.0, 0.0, 0.0, 0.0, 0.0, 1.0, 1.0, 1.0, 1.0, 1.0, 1.0, 1.0, 1.0, 1.0, 1.0, 1.0, 1.0, 1.0, 1.0, 1.0, 1.0, 1.0, 1.0, 1.0, 1.0, 1.0, 1.0, 1.0, 1.0, 1.0, 1.0, 1.0, 1.0, 1.0, 1.0, 1.0], \"median\": 0.0, \"numeric\": true, \"num_unique\": 2, \"num_undefined\": 0, \"var\": 0.2136816380005375, \"progress\": 1.0, \"size\": 488, \"frequent_items\": {\"0\": {\"frequency\": 337, \"value\": 0}, \"1\": {\"frequency\": 151, \"value\": 1}}, \"mean\": 0.30942622950819676}, \"BIRTH\": {\"std\": 0.8274528251865264, \"complete\": true, \"min\": 1.0, \"max\": 4.0, \"quantile\": [1.0, 1.0, 1.0, 1.0, 1.0, 1.0, 1.0, 1.0, 1.0, 1.0, 1.0, 1.0, 1.0, 1.0, 1.0, 1.0, 1.0, 1.0, 1.0, 1.0, 1.0, 1.0, 1.0, 1.0, 1.0, 1.0, 1.0, 1.0, 1.0, 1.0, 1.0, 1.0, 1.0, 1.0, 1.0, 1.0, 1.0, 1.0, 1.0, 2.0, 2.0, 2.0, 2.0, 2.0, 2.0, 2.0, 2.0, 2.0, 2.0, 2.0, 2.0, 2.0, 2.0, 2.0, 2.0, 2.0, 2.0, 2.0, 2.0, 2.0, 2.0, 2.0, 2.0, 2.0, 2.0, 2.0, 2.0, 2.0, 2.0, 2.0, 2.0, 2.0, 2.0, 2.0, 2.0, 2.0, 2.0, 2.0, 3.0, 3.0, 3.0, 3.0, 3.0, 3.0, 3.0, 3.0, 3.0, 3.0, 3.0, 3.0, 3.0, 3.0, 3.0, 3.0, 3.0, 3.0, 3.0, 3.0, 4.0, 4.0, 4.0], \"median\": 2.0, \"numeric\": true, \"num_unique\": 4, \"num_undefined\": 0, \"var\": 0.6846781779091642, \"progress\": 1.0, \"size\": 488, \"frequent_items\": {\"1\": {\"frequency\": 188, \"value\": 1}, \"2\": {\"frequency\": 188, \"value\": 2}, \"3\": {\"frequency\": 98, \"value\": 3}, \"4\": {\"frequency\": 14, \"value\": 4}}, \"mean\": 1.872950819672131}, \"ID\": {\"std\": 53.85804344501206, \"complete\": true, \"min\": 1.0, \"max\": 188.0, \"quantile\": [1.0, 2.0, 4.0, 6.0, 8.0, 10.0, 12.0, 14.0, 16.0, 17.0, 19.0, 21.0, 23.0, 25.0, 27.0, 29.0, 31.0, 33.0, 34.0, 36.0, 39.0, 41.0, 42.0, 44.0, 45.0, 47.0, 48.0, 50.0, 52.0, 54.0, 55.0, 58.0, 60.0, 62.0, 64.0, 66.0, 68.0, 70.0, 72.0, 73.0, 75.0, 77.0, 78.0, 80.0, 81.0, 83.0, 85.0, 87.0, 89.0, 91.0, 93.0, 95.0, 98.0, 100.0, 101.0, 103.0, 104.0, 106.0, 107.0, 109.0, 111.0, 113.0, 115.0, 117.0, 119.0, 121.0, 122.0, 124.0, 126.0, 128.0, 130.0, 132.0, 134.0, 136.0, 138.0, 140.0, 141.0, 144.0, 145.0, 147.0, 148.0, 151.0, 153.0, 155.0, 156.0, 158.0, 161.0, 163.0, 165.0, 168.0, 169.0, 172.0, 173.0, 175.0, 177.0, 179.0, 181.0, 183.0, 185.0, 187.0, 188.0], \"median\": 93.0, \"numeric\": true, \"num_unique\": 188, \"num_undefined\": 0, \"var\": 2900.6888437248062, \"progress\": 1.0, \"size\": 488, \"frequent_items\": {\"1\": {\"frequency\": 2, \"value\": 1}, \"2\": {\"frequency\": 3, \"value\": 2}, \"3\": {\"frequency\": 3, \"value\": 3}, \"4\": {\"frequency\": 2, \"value\": 4}, \"5\": {\"frequency\": 2, \"value\": 5}, \"6\": {\"frequency\": 3, \"value\": 6}, \"7\": {\"frequency\": 3, \"value\": 7}, \"8\": {\"frequency\": 3, \"value\": 8}, \"9\": {\"frequency\": 2, \"value\": 9}, \"10\": {\"frequency\": 2, \"value\": 10}, \"11\": {\"frequency\": 3, \"value\": 11}, \"12\": {\"frequency\": 3, \"value\": 12}, \"13\": {\"frequency\": 2, \"value\": 13}, \"14\": {\"frequency\": 2, \"value\": 14}, \"15\": {\"frequency\": 3, \"value\": 15}, \"16\": {\"frequency\": 3, \"value\": 16}, \"17\": {\"frequency\": 3, \"value\": 17}, \"18\": {\"frequency\": 3, \"value\": 18}, \"19\": {\"frequency\": 3, \"value\": 19}, \"20\": {\"frequency\": 2, \"value\": 20}, \"21\": {\"frequency\": 2, \"value\": 21}, \"22\": {\"frequency\": 3, \"value\": 22}, \"23\": {\"frequency\": 3, \"value\": 23}, \"24\": {\"frequency\": 3, \"value\": 24}, \"25\": {\"frequency\": 2, \"value\": 25}, \"26\": {\"frequency\": 3, \"value\": 26}, \"27\": {\"frequency\": 2, \"value\": 27}, \"28\": {\"frequency\": 2, \"value\": 28}, \"29\": {\"frequency\": 3, \"value\": 29}, \"30\": {\"frequency\": 2, \"value\": 30}, \"31\": {\"frequency\": 2, \"value\": 31}, \"32\": {\"frequency\": 3, \"value\": 32}, \"33\": {\"frequency\": 3, \"value\": 33}, \"34\": {\"frequency\": 3, \"value\": 34}, \"35\": {\"frequency\": 3, \"value\": 35}, \"36\": {\"frequency\": 2, \"value\": 36}, \"37\": {\"frequency\": 2, \"value\": 37}, \"38\": {\"frequency\": 2, \"value\": 38}, \"39\": {\"frequency\": 2, \"value\": 39}, \"40\": {\"frequency\": 2, \"value\": 40}, \"41\": {\"frequency\": 4, \"value\": 41}, \"42\": {\"frequency\": 3, \"value\": 42}, \"43\": {\"frequency\": 4, \"value\": 43}, \"44\": {\"frequency\": 3, \"value\": 44}, \"45\": {\"frequency\": 3, \"value\": 45}, \"46\": {\"frequency\": 4, \"value\": 46}, \"47\": {\"frequency\": 3, \"value\": 47}, \"48\": {\"frequency\": 2, \"value\": 48}, \"49\": {\"frequency\": 4, \"value\": 49}, \"50\": {\"frequency\": 2, \"value\": 50}, \"51\": {\"frequency\": 3, \"value\": 51}, \"52\": {\"frequency\": 2, \"value\": 52}, \"53\": {\"frequency\": 3, \"value\": 53}, \"54\": {\"frequency\": 3, \"value\": 54}, \"55\": {\"frequency\": 3, \"value\": 55}, \"56\": {\"frequency\": 2, \"value\": 56}, \"57\": {\"frequency\": 2, \"value\": 57}, \"58\": {\"frequency\": 2, \"value\": 58}, \"59\": {\"frequency\": 2, \"value\": 59}, \"60\": {\"frequency\": 3, \"value\": 60}, \"61\": {\"frequency\": 2, \"value\": 61}, \"62\": {\"frequency\": 2, \"value\": 62}, \"63\": {\"frequency\": 3, \"value\": 63}, \"64\": {\"frequency\": 2, \"value\": 64}, \"65\": {\"frequency\": 2, \"value\": 65}, \"66\": {\"frequency\": 2, \"value\": 66}, \"67\": {\"frequency\": 3, \"value\": 67}, \"68\": {\"frequency\": 3, \"value\": 68}, \"69\": {\"frequency\": 3, \"value\": 69}, \"70\": {\"frequency\": 3, \"value\": 70}, \"71\": {\"frequency\": 2, \"value\": 71}, \"72\": {\"frequency\": 3, \"value\": 72}, \"73\": {\"frequency\": 3, \"value\": 73}, \"74\": {\"frequency\": 3, \"value\": 74}, \"75\": {\"frequency\": 3, \"value\": 75}, \"76\": {\"frequency\": 3, \"value\": 76}, \"77\": {\"frequency\": 3, \"value\": 77}, \"78\": {\"frequency\": 2, \"value\": 78}, \"79\": {\"frequency\": 4, \"value\": 79}, \"80\": {\"frequency\": 3, \"value\": 80}, \"81\": {\"frequency\": 3, \"value\": 81}, \"82\": {\"frequency\": 2, \"value\": 82}, \"83\": {\"frequency\": 3, \"value\": 83}, \"84\": {\"frequency\": 4, \"value\": 84}, \"85\": {\"frequency\": 3, \"value\": 85}, \"86\": {\"frequency\": 2, \"value\": 86}, \"87\": {\"frequency\": 2, \"value\": 87}, \"88\": {\"frequency\": 2, \"value\": 88}, \"89\": {\"frequency\": 4, \"value\": 89}, \"90\": {\"frequency\": 2, \"value\": 90}, \"91\": {\"frequency\": 2, \"value\": 91}, \"92\": {\"frequency\": 2, \"value\": 92}, \"93\": {\"frequency\": 2, \"value\": 93}, \"94\": {\"frequency\": 2, \"value\": 94}, \"95\": {\"frequency\": 2, \"value\": 95}, \"96\": {\"frequency\": 2, \"value\": 96}, \"97\": {\"frequency\": 2, \"value\": 97}, \"98\": {\"frequency\": 2, \"value\": 98}, \"99\": {\"frequency\": 3, \"value\": 99}, \"100\": {\"frequency\": 3, \"value\": 100}, \"101\": {\"frequency\": 3, \"value\": 101}, \"102\": {\"frequency\": 3, \"value\": 102}, \"103\": {\"frequency\": 3, \"value\": 103}, \"104\": {\"frequency\": 4, \"value\": 104}, \"105\": {\"frequency\": 3, \"value\": 105}, \"106\": {\"frequency\": 3, \"value\": 106}, \"107\": {\"frequency\": 4, \"value\": 107}, \"108\": {\"frequency\": 2, \"value\": 108}, \"109\": {\"frequency\": 2, \"value\": 109}, \"110\": {\"frequency\": 3, \"value\": 110}, \"111\": {\"frequency\": 2, \"value\": 111}, \"112\": {\"frequency\": 2, \"value\": 112}, \"113\": {\"frequency\": 3, \"value\": 113}, \"114\": {\"frequency\": 3, \"value\": 114}, \"115\": {\"frequency\": 3, \"value\": 115}, \"116\": {\"frequency\": 3, \"value\": 116}, \"117\": {\"frequency\": 3, \"value\": 117}, \"118\": {\"frequency\": 2, \"value\": 118}, \"119\": {\"frequency\": 3, \"value\": 119}, \"120\": {\"frequency\": 2, \"value\": 120}, \"121\": {\"frequency\": 4, \"value\": 121}, \"122\": {\"frequency\": 3, \"value\": 122}, \"123\": {\"frequency\": 2, \"value\": 123}, \"124\": {\"frequency\": 2, \"value\": 124}, \"125\": {\"frequency\": 2, \"value\": 125}, \"126\": {\"frequency\": 3, \"value\": 126}, \"127\": {\"frequency\": 2, \"value\": 127}, \"128\": {\"frequency\": 3, \"value\": 128}, \"129\": {\"frequency\": 2, \"value\": 129}, \"130\": {\"frequency\": 2, \"value\": 130}, \"131\": {\"frequency\": 2, \"value\": 131}, \"132\": {\"frequency\": 3, \"value\": 132}, \"133\": {\"frequency\": 3, \"value\": 133}, \"134\": {\"frequency\": 4, \"value\": 134}, \"135\": {\"frequency\": 2, \"value\": 135}, \"136\": {\"frequency\": 3, \"value\": 136}, \"137\": {\"frequency\": 2, \"value\": 137}, \"138\": {\"frequency\": 2, \"value\": 138}, \"139\": {\"frequency\": 3, \"value\": 139}, \"140\": {\"frequency\": 3, \"value\": 140}, \"141\": {\"frequency\": 2, \"value\": 141}, \"142\": {\"frequency\": 2, \"value\": 142}, \"143\": {\"frequency\": 2, \"value\": 143}, \"144\": {\"frequency\": 3, \"value\": 144}, \"145\": {\"frequency\": 3, \"value\": 145}, \"146\": {\"frequency\": 3, \"value\": 146}, \"147\": {\"frequency\": 3, \"value\": 147}, \"148\": {\"frequency\": 4, \"value\": 148}, \"149\": {\"frequency\": 2, \"value\": 149}, \"150\": {\"frequency\": 2, \"value\": 150}, \"151\": {\"frequency\": 3, \"value\": 151}, \"152\": {\"frequency\": 2, \"value\": 152}, \"153\": {\"frequency\": 3, \"value\": 153}, \"154\": {\"frequency\": 2, \"value\": 154}, \"155\": {\"frequency\": 2, \"value\": 155}, \"156\": {\"frequency\": 3, \"value\": 156}, \"157\": {\"frequency\": 3, \"value\": 157}, \"158\": {\"frequency\": 2, \"value\": 158}, \"159\": {\"frequency\": 2, \"value\": 159}, \"160\": {\"frequency\": 2, \"value\": 160}, \"161\": {\"frequency\": 2, \"value\": 161}, \"162\": {\"frequency\": 2, \"value\": 162}, \"163\": {\"frequency\": 2, \"value\": 163}, \"164\": {\"frequency\": 2, \"value\": 164}, \"165\": {\"frequency\": 3, \"value\": 165}, \"166\": {\"frequency\": 2, \"value\": 166}, \"167\": {\"frequency\": 2, \"value\": 167}, \"168\": {\"frequency\": 2, \"value\": 168}, \"169\": {\"frequency\": 4, \"value\": 169}, \"170\": {\"frequency\": 2, \"value\": 170}, \"171\": {\"frequency\": 2, \"value\": 171}, \"172\": {\"frequency\": 3, \"value\": 172}, \"173\": {\"frequency\": 3, \"value\": 173}, \"174\": {\"frequency\": 3, \"value\": 174}, \"175\": {\"frequency\": 2, \"value\": 175}, \"176\": {\"frequency\": 2, \"value\": 176}, \"177\": {\"frequency\": 3, \"value\": 177}, \"178\": {\"frequency\": 2, \"value\": 178}, \"179\": {\"frequency\": 2, \"value\": 179}, \"180\": {\"frequency\": 2, \"value\": 180}, \"181\": {\"frequency\": 4, \"value\": 181}, \"182\": {\"frequency\": 2, \"value\": 182}, \"183\": {\"frequency\": 3, \"value\": 183}, \"184\": {\"frequency\": 2, \"value\": 184}, \"185\": {\"frequency\": 2, \"value\": 185}, \"186\": {\"frequency\": 3, \"value\": 186}, \"187\": {\"frequency\": 3, \"value\": 187}, \"188\": {\"frequency\": 3, \"value\": 188}}, \"mean\": 93.56147540983606}}, \"selected_variable\": {\"name\": [\"sf_data\"], \"descriptives\": {\"rows\": 488, \"columns\": 8}, \"view_component\": \"Summary\", \"view_file\": \"sframe\", \"view_params\": {\"y\": null, \"x\": null, \"columns\": [\"ID\", \"BIRTH\", \"SMOKE\", \"RACE\", \"AGE\", \"LWT\", \"BWT\", \"LOW\"], \"view\": null}, \"view_components\": [\"Summary\", \"Table\", \"Bar Chart\", \"BoxWhisker Plot\", \"Line Chart\", \"Scatter Plot\", \"Heat Map\", \"Plots\"], \"type\": \"SFrame\", \"columns\": [{\"dtype\": \"int\", \"name\": \"ID\"}, {\"dtype\": \"int\", \"name\": \"BIRTH\"}, {\"dtype\": \"int\", \"name\": \"SMOKE\"}, {\"dtype\": \"int\", \"name\": \"RACE\"}, {\"dtype\": \"int\", \"name\": \"AGE\"}, {\"dtype\": \"int\", \"name\": \"LWT\"}, {\"dtype\": \"int\", \"name\": \"BWT\"}, {\"dtype\": \"int\", \"name\": \"LOW\"}], \"column_identifiers\": [\"BWT\", \"SMOKE\", \"AGE\", \"LWT\", \"RACE\", \"LOW\", \"BIRTH\", \"ID\"]}, \"columns\": [{\"dtype\": \"int\", \"name\": \"ID\"}, {\"dtype\": \"int\", \"name\": \"BIRTH\"}, {\"dtype\": \"int\", \"name\": \"SMOKE\"}, {\"dtype\": \"int\", \"name\": \"RACE\"}, {\"dtype\": \"int\", \"name\": \"AGE\"}, {\"dtype\": \"int\", \"name\": \"LWT\"}, {\"dtype\": \"int\", \"name\": \"BWT\"}, {\"dtype\": \"int\", \"name\": \"LOW\"}]}, e);\n",
       "                });\n",
       "            })();\n",
       "        "
      ]
     },
     "metadata": {},
     "output_type": "display_data"
    }
   ],
   "source": [
    "sf_data.show()"
   ]
  },
  {
   "cell_type": "code",
   "execution_count": 61,
   "metadata": {
    "collapsed": false
   },
   "outputs": [
    {
     "name": "stdout",
     "output_type": "stream",
     "text": [
      "Number of items in the array: 488\n"
     ]
    }
   ],
   "source": [
    "print \"Number of items in the array: {}\".format(len(sf_data['LOW']))"
   ]
  },
  {
   "cell_type": "markdown",
   "metadata": {},
   "source": [
    "## Logistic Regression Model Equation\n",
    "\n",
    "### LOW ~ ID + BIRTH + SMOKE + RACE + AGE + LWT"
   ]
  },
  {
   "cell_type": "code",
   "execution_count": 55,
   "metadata": {
    "collapsed": true
   },
   "outputs": [],
   "source": [
    "'''\n",
    "Here, we have created our custom features based on the data set.\n",
    "'''\n",
    "my_custom_features = ['ID', \n",
    "                      'BIRTH' , \n",
    "                      'SMOKE', \n",
    "                      'RACE',\n",
    "                      'AGE',\n",
    "                      'LWT']"
   ]
  },
  {
   "cell_type": "code",
   "execution_count": 56,
   "metadata": {
    "collapsed": false
   },
   "outputs": [
    {
     "name": "stdout",
     "output_type": "stream",
     "text": [
      "PROGRESS: Creating a validation set from 5 percent of training data. This may take a while.\n",
      "          You can set ``validation_set=None`` to disable validation tracking.\n",
      "\n"
     ]
    },
    {
     "data": {
      "text/html": [
       "<pre>Logistic regression:</pre>"
      ],
      "text/plain": [
       "Logistic regression:"
      ]
     },
     "metadata": {},
     "output_type": "display_data"
    },
    {
     "data": {
      "text/html": [
       "<pre>--------------------------------------------------------</pre>"
      ],
      "text/plain": [
       "--------------------------------------------------------"
      ]
     },
     "metadata": {},
     "output_type": "display_data"
    },
    {
     "data": {
      "text/html": [
       "<pre>Number of examples          : 372</pre>"
      ],
      "text/plain": [
       "Number of examples          : 372"
      ]
     },
     "metadata": {},
     "output_type": "display_data"
    },
    {
     "data": {
      "text/html": [
       "<pre>Number of classes           : 2</pre>"
      ],
      "text/plain": [
       "Number of classes           : 2"
      ]
     },
     "metadata": {},
     "output_type": "display_data"
    },
    {
     "data": {
      "text/html": [
       "<pre>Number of feature columns   : 6</pre>"
      ],
      "text/plain": [
       "Number of feature columns   : 6"
      ]
     },
     "metadata": {},
     "output_type": "display_data"
    },
    {
     "data": {
      "text/html": [
       "<pre>Number of unpacked features : 6</pre>"
      ],
      "text/plain": [
       "Number of unpacked features : 6"
      ]
     },
     "metadata": {},
     "output_type": "display_data"
    },
    {
     "data": {
      "text/html": [
       "<pre>Number of coefficients    : 7</pre>"
      ],
      "text/plain": [
       "Number of coefficients    : 7"
      ]
     },
     "metadata": {},
     "output_type": "display_data"
    },
    {
     "data": {
      "text/html": [
       "<pre>Starting Newton Method</pre>"
      ],
      "text/plain": [
       "Starting Newton Method"
      ]
     },
     "metadata": {},
     "output_type": "display_data"
    },
    {
     "data": {
      "text/html": [
       "<pre>--------------------------------------------------------</pre>"
      ],
      "text/plain": [
       "--------------------------------------------------------"
      ]
     },
     "metadata": {},
     "output_type": "display_data"
    },
    {
     "data": {
      "text/html": [
       "<pre>+-----------+----------+--------------+-------------------+---------------------+</pre>"
      ],
      "text/plain": [
       "+-----------+----------+--------------+-------------------+---------------------+"
      ]
     },
     "metadata": {},
     "output_type": "display_data"
    },
    {
     "data": {
      "text/html": [
       "<pre>| Iteration | Passes   | Elapsed Time | Training-accuracy | Validation-accuracy |</pre>"
      ],
      "text/plain": [
       "| Iteration | Passes   | Elapsed Time | Training-accuracy | Validation-accuracy |"
      ]
     },
     "metadata": {},
     "output_type": "display_data"
    },
    {
     "data": {
      "text/html": [
       "<pre>+-----------+----------+--------------+-------------------+---------------------+</pre>"
      ],
      "text/plain": [
       "+-----------+----------+--------------+-------------------+---------------------+"
      ]
     },
     "metadata": {},
     "output_type": "display_data"
    },
    {
     "data": {
      "text/html": [
       "<pre>| 1         | 2        | 0.001001     | 0.709677          | 0.625000            |</pre>"
      ],
      "text/plain": [
       "| 1         | 2        | 0.001001     | 0.709677          | 0.625000            |"
      ]
     },
     "metadata": {},
     "output_type": "display_data"
    },
    {
     "data": {
      "text/html": [
       "<pre>| 2         | 3        | 0.002002     | 0.723118          | 0.583333            |</pre>"
      ],
      "text/plain": [
       "| 2         | 3        | 0.002002     | 0.723118          | 0.583333            |"
      ]
     },
     "metadata": {},
     "output_type": "display_data"
    },
    {
     "data": {
      "text/html": [
       "<pre>| 3         | 4        | 0.002002     | 0.723118          | 0.583333            |</pre>"
      ],
      "text/plain": [
       "| 3         | 4        | 0.002002     | 0.723118          | 0.583333            |"
      ]
     },
     "metadata": {},
     "output_type": "display_data"
    },
    {
     "data": {
      "text/html": [
       "<pre>+-----------+----------+--------------+-------------------+---------------------+</pre>"
      ],
      "text/plain": [
       "+-----------+----------+--------------+-------------------+---------------------+"
      ]
     },
     "metadata": {},
     "output_type": "display_data"
    },
    {
     "data": {
      "text/html": [
       "<pre>SUCCESS: Optimal solution found.</pre>"
      ],
      "text/plain": [
       "SUCCESS: Optimal solution found."
      ]
     },
     "metadata": {},
     "output_type": "display_data"
    },
    {
     "data": {
      "text/html": [
       "<pre></pre>"
      ],
      "text/plain": []
     },
     "metadata": {},
     "output_type": "display_data"
    }
   ],
   "source": [
    "# Make a logistic regression model\n",
    "# The model is trained with the training data (train_data)\n",
    "model = graphlab.logistic_classifier.create(train_data, \n",
    "                                            target = 'LOW', \n",
    "                                            features = my_custom_features)"
   ]
  },
  {
   "cell_type": "code",
   "execution_count": 67,
   "metadata": {
    "collapsed": false,
    "scrolled": true
   },
   "outputs": [],
   "source": [
    "# Evaluate the model and save the results into a dictionary\n",
    "results = model.evaluate(test_data)"
   ]
  },
  {
   "cell_type": "markdown",
   "metadata": {},
   "source": [
    "# Evaluating Results\n",
    "\n",
    "We can also evaluate our predictions by comparing them to known ratings. The results are evaluated using two metrics:\n",
    "\n",
    "    Classification Accuracy: Fraction of test set examples with correct class label predictions.\n",
    "    Confusion Matrix: Cross- tabulation of predicted and actual class labels.\n"
   ]
  },
  {
   "cell_type": "code",
   "execution_count": 66,
   "metadata": {
    "collapsed": false
   },
   "outputs": [
    {
     "name": "stdout",
     "output_type": "stream",
     "text": [
      "Accuracy         : 0.864345627944\n",
      "Confusion Matrix : \n",
      "+--------------+-----------------+-------+\n",
      "| target_label | predicted_label | count |\n",
      "+--------------+-----------------+-------+\n",
      "|      1       |        0        |  964  |\n",
      "|      0       |        0        |  2318 |\n",
      "|      0       |        1        |  4939 |\n",
      "|      1       |        1        | 35294 |\n",
      "+--------------+-----------------+-------+\n",
      "[4 rows x 3 columns]\n",
      "\n"
     ]
    }
   ],
   "source": [
    "print \"Accuracy         : %s\" % result['accuracy']\n",
    "print \"Confusion Matrix : \\n%s\" % result['confusion_matrix']"
   ]
  },
  {
   "cell_type": "markdown",
   "metadata": {},
   "source": [
    "# Making Predictions\n",
    "\n",
    "Predictions using a GraphLab Create classifier is easy. The classify() method provides a one-stop shop for all that you need from a classifier.\n",
    "\n",
    "    A class prediction\n",
    "    Probability/Confidence associated with that class prediction.\n",
    "\n",
    "In the following example, the first prediction was class 0 with a 78.3% probability."
   ]
  },
  {
   "cell_type": "code",
   "execution_count": 65,
   "metadata": {
    "collapsed": false
   },
   "outputs": [
    {
     "name": "stdout",
     "output_type": "stream",
     "text": [
      "+-------+----------------+\n",
      "| class |  probability   |\n",
      "+-------+----------------+\n",
      "|   0   | 0.78368898973  |\n",
      "|   0   | 0.714598576229 |\n",
      "|   0   | 0.879642281567 |\n",
      "|   0   | 0.716827863124 |\n",
      "|   0   | 0.511868572383 |\n",
      "|   0   | 0.864704744114 |\n",
      "|   0   | 0.573521795638 |\n",
      "|   0   | 0.892728416232 |\n",
      "|   0   | 0.689351497555 |\n",
      "|   0   | 0.864043144522 |\n",
      "+-------+----------------+\n",
      "[92 rows x 2 columns]\n",
      "Note: Only the head of the SFrame is printed.\n",
      "You can use print_rows(num_rows=m, num_columns=n) to print more rows and columns.\n"
     ]
    }
   ],
   "source": [
    "# Save predictions (probability estimates) to an SArray\n",
    "predictions = model.classify(test_data)\n",
    "print predictions"
   ]
  },
  {
   "cell_type": "code",
   "execution_count": 58,
   "metadata": {
    "collapsed": false,
    "scrolled": true
   },
   "outputs": [
    {
     "data": {
      "text/html": [
       "<div style=\"max-height:1000px;max-width:1500px;overflow:auto;\"><table frame=\"box\" rules=\"cols\">\n",
       "    <tr>\n",
       "        <th style=\"padding-left: 1em; padding-right: 1em; text-align: center\">name</th>\n",
       "        <th style=\"padding-left: 1em; padding-right: 1em; text-align: center\">index</th>\n",
       "        <th style=\"padding-left: 1em; padding-right: 1em; text-align: center\">class</th>\n",
       "        <th style=\"padding-left: 1em; padding-right: 1em; text-align: center\">value</th>\n",
       "        <th style=\"padding-left: 1em; padding-right: 1em; text-align: center\">stderr</th>\n",
       "    </tr>\n",
       "    <tr>\n",
       "        <td style=\"padding-left: 1em; padding-right: 1em; text-align: center; vertical-align: top\">(intercept)</td>\n",
       "        <td style=\"padding-left: 1em; padding-right: 1em; text-align: center; vertical-align: top\">None</td>\n",
       "        <td style=\"padding-left: 1em; padding-right: 1em; text-align: center; vertical-align: top\">1</td>\n",
       "        <td style=\"padding-left: 1em; padding-right: 1em; text-align: center; vertical-align: top\">0.361576537663</td>\n",
       "        <td style=\"padding-left: 1em; padding-right: 1em; text-align: center; vertical-align: top\">0.866665882901</td>\n",
       "    </tr>\n",
       "    <tr>\n",
       "        <td style=\"padding-left: 1em; padding-right: 1em; text-align: center; vertical-align: top\">ID</td>\n",
       "        <td style=\"padding-left: 1em; padding-right: 1em; text-align: center; vertical-align: top\">None</td>\n",
       "        <td style=\"padding-left: 1em; padding-right: 1em; text-align: center; vertical-align: top\">1</td>\n",
       "        <td style=\"padding-left: 1em; padding-right: 1em; text-align: center; vertical-align: top\">0.00265719313546</td>\n",
       "        <td style=\"padding-left: 1em; padding-right: 1em; text-align: center; vertical-align: top\">0.00235669135322</td>\n",
       "    </tr>\n",
       "    <tr>\n",
       "        <td style=\"padding-left: 1em; padding-right: 1em; text-align: center; vertical-align: top\">BIRTH</td>\n",
       "        <td style=\"padding-left: 1em; padding-right: 1em; text-align: center; vertical-align: top\">None</td>\n",
       "        <td style=\"padding-left: 1em; padding-right: 1em; text-align: center; vertical-align: top\">1</td>\n",
       "        <td style=\"padding-left: 1em; padding-right: 1em; text-align: center; vertical-align: top\">0.323738421474</td>\n",
       "        <td style=\"padding-left: 1em; padding-right: 1em; text-align: center; vertical-align: top\">0.189728351492</td>\n",
       "    </tr>\n",
       "    <tr>\n",
       "        <td style=\"padding-left: 1em; padding-right: 1em; text-align: center; vertical-align: top\">SMOKE</td>\n",
       "        <td style=\"padding-left: 1em; padding-right: 1em; text-align: center; vertical-align: top\">None</td>\n",
       "        <td style=\"padding-left: 1em; padding-right: 1em; text-align: center; vertical-align: top\">1</td>\n",
       "        <td style=\"padding-left: 1em; padding-right: 1em; text-align: center; vertical-align: top\">0.468681310062</td>\n",
       "        <td style=\"padding-left: 1em; padding-right: 1em; text-align: center; vertical-align: top\">0.273011369555</td>\n",
       "    </tr>\n",
       "    <tr>\n",
       "        <td style=\"padding-left: 1em; padding-right: 1em; text-align: center; vertical-align: top\">RACE</td>\n",
       "        <td style=\"padding-left: 1em; padding-right: 1em; text-align: center; vertical-align: top\">None</td>\n",
       "        <td style=\"padding-left: 1em; padding-right: 1em; text-align: center; vertical-align: top\">1</td>\n",
       "        <td style=\"padding-left: 1em; padding-right: 1em; text-align: center; vertical-align: top\">-0.467839565027</td>\n",
       "        <td style=\"padding-left: 1em; padding-right: 1em; text-align: center; vertical-align: top\">0.152277192719</td>\n",
       "    </tr>\n",
       "    <tr>\n",
       "        <td style=\"padding-left: 1em; padding-right: 1em; text-align: center; vertical-align: top\">AGE</td>\n",
       "        <td style=\"padding-left: 1em; padding-right: 1em; text-align: center; vertical-align: top\">None</td>\n",
       "        <td style=\"padding-left: 1em; padding-right: 1em; text-align: center; vertical-align: top\">1</td>\n",
       "        <td style=\"padding-left: 1em; padding-right: 1em; text-align: center; vertical-align: top\">0.00256242842979</td>\n",
       "        <td style=\"padding-left: 1em; padding-right: 1em; text-align: center; vertical-align: top\">0.0273744525269</td>\n",
       "    </tr>\n",
       "    <tr>\n",
       "        <td style=\"padding-left: 1em; padding-right: 1em; text-align: center; vertical-align: top\">LWT</td>\n",
       "        <td style=\"padding-left: 1em; padding-right: 1em; text-align: center; vertical-align: top\">None</td>\n",
       "        <td style=\"padding-left: 1em; padding-right: 1em; text-align: center; vertical-align: top\">1</td>\n",
       "        <td style=\"padding-left: 1em; padding-right: 1em; text-align: center; vertical-align: top\">-0.0102746690592</td>\n",
       "        <td style=\"padding-left: 1em; padding-right: 1em; text-align: center; vertical-align: top\">0.00418153757518</td>\n",
       "    </tr>\n",
       "</table>\n",
       "[7 rows x 5 columns]<br/>\n",
       "</div>"
      ],
      "text/plain": [
       "Columns:\n",
       "\tname\tstr\n",
       "\tindex\tstr\n",
       "\tclass\tint\n",
       "\tvalue\tfloat\n",
       "\tstderr\tfloat\n",
       "\n",
       "Rows: 7\n",
       "\n",
       "Data:\n",
       "+-------------+-------+-------+------------------+------------------+\n",
       "|     name    | index | class |      value       |      stderr      |\n",
       "+-------------+-------+-------+------------------+------------------+\n",
       "| (intercept) |  None |   1   |  0.361576537663  |  0.866665882901  |\n",
       "|      ID     |  None |   1   | 0.00265719313546 | 0.00235669135322 |\n",
       "|    BIRTH    |  None |   1   |  0.323738421474  |  0.189728351492  |\n",
       "|    SMOKE    |  None |   1   |  0.468681310062  |  0.273011369555  |\n",
       "|     RACE    |  None |   1   | -0.467839565027  |  0.152277192719  |\n",
       "|     AGE     |  None |   1   | 0.00256242842979 | 0.0273744525269  |\n",
       "|     LWT     |  None |   1   | -0.0102746690592 | 0.00418153757518 |\n",
       "+-------------+-------+-------+------------------+------------------+\n",
       "[7 rows x 5 columns]"
      ]
     },
     "execution_count": 58,
     "metadata": {},
     "output_type": "execute_result"
    }
   ],
   "source": [
    "model.get('coefficients')   # get the weights"
   ]
  },
  {
   "cell_type": "code",
   "execution_count": null,
   "metadata": {
    "collapsed": true
   },
   "outputs": [],
   "source": []
  },
  {
   "cell_type": "code",
   "execution_count": null,
   "metadata": {
    "collapsed": true
   },
   "outputs": [],
   "source": []
  }
 ],
 "metadata": {
  "kernelspec": {
   "display_name": "Python [gl-env]",
   "language": "python",
   "name": "Python [gl-env]"
  },
  "language_info": {
   "codemirror_mode": {
    "name": "ipython",
    "version": 2
   },
   "file_extension": ".py",
   "mimetype": "text/x-python",
   "name": "python",
   "nbconvert_exporter": "python",
   "pygments_lexer": "ipython2",
   "version": "2.7.12"
  }
 },
 "nbformat": 4,
 "nbformat_minor": 0
}
