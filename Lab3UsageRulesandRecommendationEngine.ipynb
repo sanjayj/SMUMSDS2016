{
 "cells": [
  {
   "cell_type": "markdown",
   "metadata": {},
   "source": [
    "\n",
    "# Lab 3 \n",
    "Team \n",
    "1) Gene Ledbetter\n",
    "2) Sanjay Jagarlamudi\n",
    "3) Sarah Beg\n",
    "4) Murali Parthasarathy"
   ]
  },
  {
   "cell_type": "markdown",
   "metadata": {},
   "source": [
    "# Association Rule and Recommendation Engine\n",
    "The recommendation engine is based on country purchases. The data set contains purchases by various countries from a company in the UK. The data set consists of StockCode, description, quantity, invoice Number and the country making the purchase. The system will determine the usage rules for a country and will also build a recommendation engine which can be used for existing countries and new customers ( country) based on the profile. \n"
   ]
  },
  {
   "cell_type": "markdown",
   "metadata": {},
   "source": [
    "# Data Set \n",
    "The Data Set was downloaded from UCI Machine learning repository (https://archive.ics.uci.edu/ml/datasets/Online+Retail)\n",
    "\n",
    "InvoiceNo: Invoice number. Nominal, a 6-digit integral number uniquely assigned to each transaction. If this code starts with letter 'c', it indicates a cancellation. \n",
    "StockCode: Product (item) code. Nominal, a 5-digit integral number uniquely assigned to each distinct product. \n",
    "Description: Product (item) name. Nominal. \n",
    "Quantity: The quantities of each product (item) per transaction. Numeric.\t\n",
    "InvoiceDate: Invice Date and time. Numeric, the day and time when each transaction was generated. \n",
    "UnitPrice: Unit price. Numeric, Product price per unit in sterling. \n",
    "CustomerID: Customer number. Nominal, a 5-digit integral number uniquely assigned to each customer. \n",
    "Country: Country name. Nominal, the name of the country where each customer resides.\n",
    "\n",
    "\n"
   ]
  },
  {
   "cell_type": "markdown",
   "metadata": {},
   "source": [
    "# Loading the Data Set"
   ]
  },
  {
   "cell_type": "code",
   "execution_count": 15,
   "metadata": {
    "collapsed": false
   },
   "outputs": [],
   "source": [
    "#GraphLab \n",
    "# Use the data Recommendation Engine\n",
    "# Do Clustering using Graph Lab\n",
    "import graphlab as gl\n",
    "import pandas as pd\n",
    "import numpy as np\n",
    "import matplotlib.pyplot as plt"
   ]
  },
  {
   "cell_type": "code",
   "execution_count": null,
   "metadata": {
    "collapsed": true
   },
   "outputs": [],
   "source": []
  },
  {
   "cell_type": "code",
   "execution_count": 16,
   "metadata": {
    "collapsed": false
   },
   "outputs": [
    {
     "data": {
      "text/html": [
       "<pre>Finished parsing file /Users/murali/SMU/lab3/OnlineRetail.csv</pre>"
      ],
      "text/plain": [
       "Finished parsing file /Users/murali/SMU/lab3/OnlineRetail.csv"
      ]
     },
     "metadata": {},
     "output_type": "display_data"
    },
    {
     "data": {
      "text/html": [
       "<pre>Parsing completed. Parsed 100 lines in 0.846935 secs.</pre>"
      ],
      "text/plain": [
       "Parsing completed. Parsed 100 lines in 0.846935 secs."
      ]
     },
     "metadata": {},
     "output_type": "display_data"
    },
    {
     "name": "stdout",
     "output_type": "stream",
     "text": [
      "------------------------------------------------------\n",
      "Inferred types from first 100 line(s) of file as \n",
      "column_type_hints=[int,str,str,int,str,float,int,str]\n",
      "If parsing fails due to incorrect types, you can correct\n",
      "the inferred type list above and pass it to read_csv in\n",
      "the column_type_hints argument\n",
      "------------------------------------------------------\n"
     ]
    },
    {
     "data": {
      "text/html": [
       "<pre>Unable to parse line \"C564320,22767,TRIPLE PHOTO FRAME CORNICE ,-1,8/24/11 13:20,9.95,16536,United Kingdom\"</pre>"
      ],
      "text/plain": [
       "Unable to parse line \"C564320,22767,TRIPLE PHOTO FRAME CORNICE ,-1,8/24/11 13:20,9.95,16536,United Kingdom\""
      ]
     },
     "metadata": {},
     "output_type": "display_data"
    },
    {
     "data": {
      "text/html": [
       "<pre>Unable to parse line \"C542787,85141,JARDIN ETCHED GLASS FRUITBOWL,-1,2/1/11 10:22,8.95,15864,United Kingdom\"</pre>"
      ],
      "text/plain": [
       "Unable to parse line \"C542787,85141,JARDIN ETCHED GLASS FRUITBOWL,-1,2/1/11 10:22,8.95,15864,United Kingdom\""
      ]
     },
     "metadata": {},
     "output_type": "display_data"
    },
    {
     "data": {
      "text/html": [
       "<pre>Unable to parse line \"C557487,21877,HOME SWEET HOME MUG,-19,6/20/11 14:44,1.25,14796,United Kingdom\"</pre>"
      ],
      "text/plain": [
       "Unable to parse line \"C557487,21877,HOME SWEET HOME MUG,-19,6/20/11 14:44,1.25,14796,United Kingdom\""
      ]
     },
     "metadata": {},
     "output_type": "display_data"
    },
    {
     "data": {
      "text/html": [
       "<pre>Unable to parse line \"C576216,22804,PINK HANGING HEART T-LIGHT HOLDER,-3,11/14/11 12:56,2.95,12584,Italy\"</pre>"
      ],
      "text/plain": [
       "Unable to parse line \"C576216,22804,PINK HANGING HEART T-LIGHT HOLDER,-3,11/14/11 12:56,2.95,12584,Italy\""
      ]
     },
     "metadata": {},
     "output_type": "display_data"
    },
    {
     "data": {
      "text/html": [
       "<pre>Unable to parse line \"C550009,M,Manual,-1,4/14/11 10:24,57.6,16422,United Kingdom\"</pre>"
      ],
      "text/plain": [
       "Unable to parse line \"C550009,M,Manual,-1,4/14/11 10:24,57.6,16422,United Kingdom\""
      ]
     },
     "metadata": {},
     "output_type": "display_data"
    },
    {
     "data": {
      "text/html": [
       "<pre>Unable to parse line \"C536379,D,Discount,-1,12/1/10 9:41,27.5,14527,United Kingdom\"</pre>"
      ],
      "text/plain": [
       "Unable to parse line \"C536379,D,Discount,-1,12/1/10 9:41,27.5,14527,United Kingdom\""
      ]
     },
     "metadata": {},
     "output_type": "display_data"
    },
    {
     "data": {
      "text/html": [
       "<pre>Unable to parse line \"C542787,21319,GLASS CHALICE GREEN  SMALL ,-1,2/1/11 10:22,1.65,15864,United Kingdom\"</pre>"
      ],
      "text/plain": [
       "Unable to parse line \"C542787,21319,GLASS CHALICE GREEN  SMALL ,-1,2/1/11 10:22,1.65,15864,United Kingdom\""
      ]
     },
     "metadata": {},
     "output_type": "display_data"
    },
    {
     "data": {
      "text/html": [
       "<pre>Unable to parse line \"C576216,22720,SET OF 3 CAKE TINS PANTRY DESIGN ,-3,11/14/11 12:56,4.95,12584,Italy\"</pre>"
      ],
      "text/plain": [
       "Unable to parse line \"C576216,22720,SET OF 3 CAKE TINS PANTRY DESIGN ,-3,11/14/11 12:56,4.95,12584,Italy\""
      ]
     },
     "metadata": {},
     "output_type": "display_data"
    },
    {
     "data": {
      "text/html": [
       "<pre>Unable to parse line \"C550010,84950,ASSORTED COLOUR T-LIGHT HOLDER,-4,4/14/11 10:29,0.55,15299,United Kingdom\"</pre>"
      ],
      "text/plain": [
       "Unable to parse line \"C550010,84950,ASSORTED COLOUR T-LIGHT HOLDER,-4,4/14/11 10:29,0.55,15299,United Kingdom\""
      ]
     },
     "metadata": {},
     "output_type": "display_data"
    },
    {
     "data": {
      "text/html": [
       "<pre>Unable to parse line \"C542787,21318,GLASS CHALICE BLUE SMALL ,-2,2/1/11 10:22,1.65,15864,United Kingdom\"</pre>"
      ],
      "text/plain": [
       "Unable to parse line \"C542787,21318,GLASS CHALICE BLUE SMALL ,-2,2/1/11 10:22,1.65,15864,United Kingdom\""
      ]
     },
     "metadata": {},
     "output_type": "display_data"
    },
    {
     "data": {
      "text/html": [
       "<pre>Unable to parse line \"C576216,21843,RED RETROSPOT CAKE STAND,-1,11/14/11 12:56,10.95,12584,Italy\"</pre>"
      ],
      "text/plain": [
       "Unable to parse line \"C576216,21843,RED RETROSPOT CAKE STAND,-1,11/14/11 12:56,10.95,12584,Italy\""
      ]
     },
     "metadata": {},
     "output_type": "display_data"
    },
    {
     "data": {
      "text/html": [
       "<pre>Unable to parse line \"C550010,84856S,SMALL TAHITI BEACH BAG,-1,4/14/11 10:29,3.81,15299,United Kingdom\"</pre>"
      ],
      "text/plain": [
       "Unable to parse line \"C550010,84856S,SMALL TAHITI BEACH BAG,-1,4/14/11 10:29,3.81,15299,United Kingdom\""
      ]
     },
     "metadata": {},
     "output_type": "display_data"
    },
    {
     "data": {
      "text/html": [
       "<pre>Unable to parse line \"C536383,35004C,SET OF 3 COLOURED  FLYING DUCKS,-1,12/1/10 9:49,4.65,15311,United Kingdom\"</pre>"
      ],
      "text/plain": [
       "Unable to parse line \"C536383,35004C,SET OF 3 COLOURED  FLYING DUCKS,-1,12/1/10 9:49,4.65,15311,United Kingdom\""
      ]
     },
     "metadata": {},
     "output_type": "display_data"
    },
    {
     "data": {
      "text/html": [
       "<pre>9291 lines failed to parse correctly</pre>"
      ],
      "text/plain": [
       "9291 lines failed to parse correctly"
      ]
     },
     "metadata": {},
     "output_type": "display_data"
    },
    {
     "data": {
      "text/html": [
       "<pre>Finished parsing file /Users/murali/SMU/lab3/OnlineRetail.csv</pre>"
      ],
      "text/plain": [
       "Finished parsing file /Users/murali/SMU/lab3/OnlineRetail.csv"
      ]
     },
     "metadata": {},
     "output_type": "display_data"
    },
    {
     "data": {
      "text/html": [
       "<pre>Parsing completed. Parsed 532618 lines in 1.00938 secs.</pre>"
      ],
      "text/plain": [
       "Parsing completed. Parsed 532618 lines in 1.00938 secs."
      ]
     },
     "metadata": {},
     "output_type": "display_data"
    }
   ],
   "source": [
    "path = '/Users/murali/SMU/lab3'\n",
    "filename = path + '/OnlineRetail.csv'\n",
    "url = filename\n",
    "sf = gl.SFrame.read_csv(url)"
   ]
  },
  {
   "cell_type": "markdown",
   "metadata": {},
   "source": [
    "# Snapshot of the data\n",
    "The data was directly loaded into Turi dataframe "
   ]
  },
  {
   "cell_type": "code",
   "execution_count": 17,
   "metadata": {
    "collapsed": false
   },
   "outputs": [
    {
     "data": {
      "text/html": [
       "<div style=\"max-height:1000px;max-width:1500px;overflow:auto;\"><table frame=\"box\" rules=\"cols\">\n",
       "    <tr>\n",
       "        <th style=\"padding-left: 1em; padding-right: 1em; text-align: center\">InvoiceNo</th>\n",
       "        <th style=\"padding-left: 1em; padding-right: 1em; text-align: center\">StockCode</th>\n",
       "        <th style=\"padding-left: 1em; padding-right: 1em; text-align: center\">Description</th>\n",
       "        <th style=\"padding-left: 1em; padding-right: 1em; text-align: center\">Quantity</th>\n",
       "        <th style=\"padding-left: 1em; padding-right: 1em; text-align: center\">InvoiceDate</th>\n",
       "        <th style=\"padding-left: 1em; padding-right: 1em; text-align: center\">UnitPrice</th>\n",
       "        <th style=\"padding-left: 1em; padding-right: 1em; text-align: center\">CustomerID</th>\n",
       "        <th style=\"padding-left: 1em; padding-right: 1em; text-align: center\">Country</th>\n",
       "    </tr>\n",
       "    <tr>\n",
       "        <td style=\"padding-left: 1em; padding-right: 1em; text-align: center; vertical-align: top\">536365</td>\n",
       "        <td style=\"padding-left: 1em; padding-right: 1em; text-align: center; vertical-align: top\">85123A</td>\n",
       "        <td style=\"padding-left: 1em; padding-right: 1em; text-align: center; vertical-align: top\">WHITE HANGING HEART<br>T-LIGHT HOLDER ...</td>\n",
       "        <td style=\"padding-left: 1em; padding-right: 1em; text-align: center; vertical-align: top\">6</td>\n",
       "        <td style=\"padding-left: 1em; padding-right: 1em; text-align: center; vertical-align: top\">12/1/10 8:26</td>\n",
       "        <td style=\"padding-left: 1em; padding-right: 1em; text-align: center; vertical-align: top\">2.55</td>\n",
       "        <td style=\"padding-left: 1em; padding-right: 1em; text-align: center; vertical-align: top\">17850</td>\n",
       "        <td style=\"padding-left: 1em; padding-right: 1em; text-align: center; vertical-align: top\">United Kingdom</td>\n",
       "    </tr>\n",
       "    <tr>\n",
       "        <td style=\"padding-left: 1em; padding-right: 1em; text-align: center; vertical-align: top\">536365</td>\n",
       "        <td style=\"padding-left: 1em; padding-right: 1em; text-align: center; vertical-align: top\">71053</td>\n",
       "        <td style=\"padding-left: 1em; padding-right: 1em; text-align: center; vertical-align: top\">WHITE METAL LANTERN</td>\n",
       "        <td style=\"padding-left: 1em; padding-right: 1em; text-align: center; vertical-align: top\">6</td>\n",
       "        <td style=\"padding-left: 1em; padding-right: 1em; text-align: center; vertical-align: top\">12/1/10 8:26</td>\n",
       "        <td style=\"padding-left: 1em; padding-right: 1em; text-align: center; vertical-align: top\">3.39</td>\n",
       "        <td style=\"padding-left: 1em; padding-right: 1em; text-align: center; vertical-align: top\">17850</td>\n",
       "        <td style=\"padding-left: 1em; padding-right: 1em; text-align: center; vertical-align: top\">United Kingdom</td>\n",
       "    </tr>\n",
       "    <tr>\n",
       "        <td style=\"padding-left: 1em; padding-right: 1em; text-align: center; vertical-align: top\">536365</td>\n",
       "        <td style=\"padding-left: 1em; padding-right: 1em; text-align: center; vertical-align: top\">84406B</td>\n",
       "        <td style=\"padding-left: 1em; padding-right: 1em; text-align: center; vertical-align: top\">CREAM CUPID HEARTS COAT<br>HANGER ...</td>\n",
       "        <td style=\"padding-left: 1em; padding-right: 1em; text-align: center; vertical-align: top\">8</td>\n",
       "        <td style=\"padding-left: 1em; padding-right: 1em; text-align: center; vertical-align: top\">12/1/10 8:26</td>\n",
       "        <td style=\"padding-left: 1em; padding-right: 1em; text-align: center; vertical-align: top\">2.75</td>\n",
       "        <td style=\"padding-left: 1em; padding-right: 1em; text-align: center; vertical-align: top\">17850</td>\n",
       "        <td style=\"padding-left: 1em; padding-right: 1em; text-align: center; vertical-align: top\">United Kingdom</td>\n",
       "    </tr>\n",
       "    <tr>\n",
       "        <td style=\"padding-left: 1em; padding-right: 1em; text-align: center; vertical-align: top\">536365</td>\n",
       "        <td style=\"padding-left: 1em; padding-right: 1em; text-align: center; vertical-align: top\">84029G</td>\n",
       "        <td style=\"padding-left: 1em; padding-right: 1em; text-align: center; vertical-align: top\">KNITTED UNION FLAG HOT<br>WATER BOTTLE ...</td>\n",
       "        <td style=\"padding-left: 1em; padding-right: 1em; text-align: center; vertical-align: top\">6</td>\n",
       "        <td style=\"padding-left: 1em; padding-right: 1em; text-align: center; vertical-align: top\">12/1/10 8:26</td>\n",
       "        <td style=\"padding-left: 1em; padding-right: 1em; text-align: center; vertical-align: top\">3.39</td>\n",
       "        <td style=\"padding-left: 1em; padding-right: 1em; text-align: center; vertical-align: top\">17850</td>\n",
       "        <td style=\"padding-left: 1em; padding-right: 1em; text-align: center; vertical-align: top\">United Kingdom</td>\n",
       "    </tr>\n",
       "    <tr>\n",
       "        <td style=\"padding-left: 1em; padding-right: 1em; text-align: center; vertical-align: top\">536365</td>\n",
       "        <td style=\"padding-left: 1em; padding-right: 1em; text-align: center; vertical-align: top\">84029E</td>\n",
       "        <td style=\"padding-left: 1em; padding-right: 1em; text-align: center; vertical-align: top\">RED WOOLLY HOTTIE WHITE<br>HEART. ...</td>\n",
       "        <td style=\"padding-left: 1em; padding-right: 1em; text-align: center; vertical-align: top\">6</td>\n",
       "        <td style=\"padding-left: 1em; padding-right: 1em; text-align: center; vertical-align: top\">12/1/10 8:26</td>\n",
       "        <td style=\"padding-left: 1em; padding-right: 1em; text-align: center; vertical-align: top\">3.39</td>\n",
       "        <td style=\"padding-left: 1em; padding-right: 1em; text-align: center; vertical-align: top\">17850</td>\n",
       "        <td style=\"padding-left: 1em; padding-right: 1em; text-align: center; vertical-align: top\">United Kingdom</td>\n",
       "    </tr>\n",
       "    <tr>\n",
       "        <td style=\"padding-left: 1em; padding-right: 1em; text-align: center; vertical-align: top\">536365</td>\n",
       "        <td style=\"padding-left: 1em; padding-right: 1em; text-align: center; vertical-align: top\">22752</td>\n",
       "        <td style=\"padding-left: 1em; padding-right: 1em; text-align: center; vertical-align: top\">SET 7 BABUSHKA NESTING<br>BOXES ...</td>\n",
       "        <td style=\"padding-left: 1em; padding-right: 1em; text-align: center; vertical-align: top\">2</td>\n",
       "        <td style=\"padding-left: 1em; padding-right: 1em; text-align: center; vertical-align: top\">12/1/10 8:26</td>\n",
       "        <td style=\"padding-left: 1em; padding-right: 1em; text-align: center; vertical-align: top\">7.65</td>\n",
       "        <td style=\"padding-left: 1em; padding-right: 1em; text-align: center; vertical-align: top\">17850</td>\n",
       "        <td style=\"padding-left: 1em; padding-right: 1em; text-align: center; vertical-align: top\">United Kingdom</td>\n",
       "    </tr>\n",
       "    <tr>\n",
       "        <td style=\"padding-left: 1em; padding-right: 1em; text-align: center; vertical-align: top\">536365</td>\n",
       "        <td style=\"padding-left: 1em; padding-right: 1em; text-align: center; vertical-align: top\">21730</td>\n",
       "        <td style=\"padding-left: 1em; padding-right: 1em; text-align: center; vertical-align: top\">GLASS STAR FROSTED<br>T-LIGHT HOLDER ...</td>\n",
       "        <td style=\"padding-left: 1em; padding-right: 1em; text-align: center; vertical-align: top\">6</td>\n",
       "        <td style=\"padding-left: 1em; padding-right: 1em; text-align: center; vertical-align: top\">12/1/10 8:26</td>\n",
       "        <td style=\"padding-left: 1em; padding-right: 1em; text-align: center; vertical-align: top\">4.25</td>\n",
       "        <td style=\"padding-left: 1em; padding-right: 1em; text-align: center; vertical-align: top\">17850</td>\n",
       "        <td style=\"padding-left: 1em; padding-right: 1em; text-align: center; vertical-align: top\">United Kingdom</td>\n",
       "    </tr>\n",
       "    <tr>\n",
       "        <td style=\"padding-left: 1em; padding-right: 1em; text-align: center; vertical-align: top\">536366</td>\n",
       "        <td style=\"padding-left: 1em; padding-right: 1em; text-align: center; vertical-align: top\">22633</td>\n",
       "        <td style=\"padding-left: 1em; padding-right: 1em; text-align: center; vertical-align: top\">HAND WARMER UNION JACK</td>\n",
       "        <td style=\"padding-left: 1em; padding-right: 1em; text-align: center; vertical-align: top\">6</td>\n",
       "        <td style=\"padding-left: 1em; padding-right: 1em; text-align: center; vertical-align: top\">12/1/10 8:28</td>\n",
       "        <td style=\"padding-left: 1em; padding-right: 1em; text-align: center; vertical-align: top\">1.85</td>\n",
       "        <td style=\"padding-left: 1em; padding-right: 1em; text-align: center; vertical-align: top\">17850</td>\n",
       "        <td style=\"padding-left: 1em; padding-right: 1em; text-align: center; vertical-align: top\">United Kingdom</td>\n",
       "    </tr>\n",
       "    <tr>\n",
       "        <td style=\"padding-left: 1em; padding-right: 1em; text-align: center; vertical-align: top\">536366</td>\n",
       "        <td style=\"padding-left: 1em; padding-right: 1em; text-align: center; vertical-align: top\">22632</td>\n",
       "        <td style=\"padding-left: 1em; padding-right: 1em; text-align: center; vertical-align: top\">HAND WARMER RED POLKA DOT</td>\n",
       "        <td style=\"padding-left: 1em; padding-right: 1em; text-align: center; vertical-align: top\">6</td>\n",
       "        <td style=\"padding-left: 1em; padding-right: 1em; text-align: center; vertical-align: top\">12/1/10 8:28</td>\n",
       "        <td style=\"padding-left: 1em; padding-right: 1em; text-align: center; vertical-align: top\">1.85</td>\n",
       "        <td style=\"padding-left: 1em; padding-right: 1em; text-align: center; vertical-align: top\">17850</td>\n",
       "        <td style=\"padding-left: 1em; padding-right: 1em; text-align: center; vertical-align: top\">United Kingdom</td>\n",
       "    </tr>\n",
       "    <tr>\n",
       "        <td style=\"padding-left: 1em; padding-right: 1em; text-align: center; vertical-align: top\">536367</td>\n",
       "        <td style=\"padding-left: 1em; padding-right: 1em; text-align: center; vertical-align: top\">84879</td>\n",
       "        <td style=\"padding-left: 1em; padding-right: 1em; text-align: center; vertical-align: top\">ASSORTED COLOUR BIRD<br>ORNAMENT ...</td>\n",
       "        <td style=\"padding-left: 1em; padding-right: 1em; text-align: center; vertical-align: top\">32</td>\n",
       "        <td style=\"padding-left: 1em; padding-right: 1em; text-align: center; vertical-align: top\">12/1/10 8:34</td>\n",
       "        <td style=\"padding-left: 1em; padding-right: 1em; text-align: center; vertical-align: top\">1.69</td>\n",
       "        <td style=\"padding-left: 1em; padding-right: 1em; text-align: center; vertical-align: top\">13047</td>\n",
       "        <td style=\"padding-left: 1em; padding-right: 1em; text-align: center; vertical-align: top\">United Kingdom</td>\n",
       "    </tr>\n",
       "</table>\n",
       "[532618 rows x 8 columns]<br/>Note: Only the head of the SFrame is printed.<br/>You can use print_rows(num_rows=m, num_columns=n) to print more rows and columns.\n",
       "</div>"
      ],
      "text/plain": [
       "Columns:\n",
       "\tInvoiceNo\tint\n",
       "\tStockCode\tstr\n",
       "\tDescription\tstr\n",
       "\tQuantity\tint\n",
       "\tInvoiceDate\tstr\n",
       "\tUnitPrice\tfloat\n",
       "\tCustomerID\tint\n",
       "\tCountry\tstr\n",
       "\n",
       "Rows: 532618\n",
       "\n",
       "Data:\n",
       "+-----------+-----------+--------------------------------+----------+\n",
       "| InvoiceNo | StockCode |          Description           | Quantity |\n",
       "+-----------+-----------+--------------------------------+----------+\n",
       "|   536365  |   85123A  | WHITE HANGING HEART T-LIGH...  |    6     |\n",
       "|   536365  |   71053   |      WHITE METAL LANTERN       |    6     |\n",
       "|   536365  |   84406B  | CREAM CUPID HEARTS COAT HANGER |    8     |\n",
       "|   536365  |   84029G  | KNITTED UNION FLAG HOT WAT...  |    6     |\n",
       "|   536365  |   84029E  | RED WOOLLY HOTTIE WHITE HEART. |    6     |\n",
       "|   536365  |   22752   |  SET 7 BABUSHKA NESTING BOXES  |    2     |\n",
       "|   536365  |   21730   | GLASS STAR FROSTED T-LIGHT...  |    6     |\n",
       "|   536366  |   22633   |     HAND WARMER UNION JACK     |    6     |\n",
       "|   536366  |   22632   |   HAND WARMER RED POLKA DOT    |    6     |\n",
       "|   536367  |   84879   | ASSORTED COLOUR BIRD ORNAMENT  |    32    |\n",
       "+-----------+-----------+--------------------------------+----------+\n",
       "+--------------+-----------+------------+----------------+\n",
       "| InvoiceDate  | UnitPrice | CustomerID |    Country     |\n",
       "+--------------+-----------+------------+----------------+\n",
       "| 12/1/10 8:26 |    2.55   |   17850    | United Kingdom |\n",
       "| 12/1/10 8:26 |    3.39   |   17850    | United Kingdom |\n",
       "| 12/1/10 8:26 |    2.75   |   17850    | United Kingdom |\n",
       "| 12/1/10 8:26 |    3.39   |   17850    | United Kingdom |\n",
       "| 12/1/10 8:26 |    3.39   |   17850    | United Kingdom |\n",
       "| 12/1/10 8:26 |    7.65   |   17850    | United Kingdom |\n",
       "| 12/1/10 8:26 |    4.25   |   17850    | United Kingdom |\n",
       "| 12/1/10 8:28 |    1.85   |   17850    | United Kingdom |\n",
       "| 12/1/10 8:28 |    1.85   |   17850    | United Kingdom |\n",
       "| 12/1/10 8:34 |    1.69   |   13047    | United Kingdom |\n",
       "+--------------+-----------+------------+----------------+\n",
       "[532618 rows x 8 columns]\n",
       "Note: Only the head of the SFrame is printed.\n",
       "You can use print_rows(num_rows=m, num_columns=n) to print more rows and columns."
      ]
     },
     "execution_count": 17,
     "metadata": {},
     "output_type": "execute_result"
    }
   ],
   "source": [
    "sf"
   ]
  },
  {
   "cell_type": "code",
   "execution_count": 18,
   "metadata": {
    "collapsed": false
   },
   "outputs": [
    {
     "data": {
      "text/html": [
       "<pre>Indexing complete. Found 4195 unique items.</pre>"
      ],
      "text/plain": [
       "Indexing complete. Found 4195 unique items."
      ]
     },
     "metadata": {},
     "output_type": "display_data"
    },
    {
     "data": {
      "text/html": [
       "<pre>Preprocessing complete. Found 22061 unique transactions.</pre>"
      ],
      "text/plain": [
       "Preprocessing complete. Found 22061 unique transactions."
      ]
     },
     "metadata": {},
     "output_type": "display_data"
    },
    {
     "data": {
      "text/html": [
       "<pre>Building frequent pattern tree.</pre>"
      ],
      "text/plain": [
       "Building frequent pattern tree."
      ]
     },
     "metadata": {},
     "output_type": "display_data"
    },
    {
     "data": {
      "text/html": [
       "<pre>+-----------+----------------+------------+----------------------+------------------+</pre>"
      ],
      "text/plain": [
       "+-----------+----------------+------------+----------------------+------------------+"
      ]
     },
     "metadata": {},
     "output_type": "display_data"
    },
    {
     "data": {
      "text/html": [
       "<pre>| Iteration | Num. Patterns  | Support    | Current Min Support  | Elapsed Time     |</pre>"
      ],
      "text/plain": [
       "| Iteration | Num. Patterns  | Support    | Current Min Support  | Elapsed Time     |"
      ]
     },
     "metadata": {},
     "output_type": "display_data"
    },
    {
     "data": {
      "text/html": [
       "<pre>+-----------+----------------+------------+----------------------+------------------+</pre>"
      ],
      "text/plain": [
       "+-----------+----------------+------------+----------------------+------------------+"
      ]
     },
     "metadata": {},
     "output_type": "display_data"
    },
    {
     "data": {
      "text/html": [
       "<pre>| 0         | 0              | 2260       | 3                    | 141us            |</pre>"
      ],
      "text/plain": [
       "| 0         | 0              | 2260       | 3                    | 141us            |"
      ]
     },
     "metadata": {},
     "output_type": "display_data"
    },
    {
     "data": {
      "text/html": [
       "<pre>| 1         | 0              | 2092       | 3                    | 215us            |</pre>"
      ],
      "text/plain": [
       "| 1         | 0              | 2092       | 3                    | 215us            |"
      ]
     },
     "metadata": {},
     "output_type": "display_data"
    },
    {
     "data": {
      "text/html": [
       "<pre>| 2         | 0              | 1989       | 3                    | 254us            |</pre>"
      ],
      "text/plain": [
       "| 2         | 0              | 1989       | 3                    | 254us            |"
      ]
     },
     "metadata": {},
     "output_type": "display_data"
    },
    {
     "data": {
      "text/html": [
       "<pre>| 3         | 0              | 1686       | 3                    | 299us            |</pre>"
      ],
      "text/plain": [
       "| 3         | 0              | 1686       | 3                    | 299us            |"
      ]
     },
     "metadata": {},
     "output_type": "display_data"
    },
    {
     "data": {
      "text/html": [
       "<pre>| 4         | 1              | 1564       | 3                    | 382us            |</pre>"
      ],
      "text/plain": [
       "| 4         | 1              | 1564       | 3                    | 382us            |"
      ]
     },
     "metadata": {},
     "output_type": "display_data"
    },
    {
     "data": {
      "text/html": [
       "<pre>| 5         | 6              | 1455       | 3                    | 561us            |</pre>"
      ],
      "text/plain": [
       "| 5         | 6              | 1455       | 3                    | 561us            |"
      ]
     },
     "metadata": {},
     "output_type": "display_data"
    },
    {
     "data": {
      "text/html": [
       "<pre>| 6         | 22             | 1454       | 3                    | 968us            |</pre>"
      ],
      "text/plain": [
       "| 6         | 22             | 1454       | 3                    | 968us            |"
      ]
     },
     "metadata": {},
     "output_type": "display_data"
    },
    {
     "data": {
      "text/html": [
       "<pre>| 7         | 22             | 1385       | 3                    | 989us            |</pre>"
      ],
      "text/plain": [
       "| 7         | 22             | 1385       | 3                    | 989us            |"
      ]
     },
     "metadata": {},
     "output_type": "display_data"
    },
    {
     "data": {
      "text/html": [
       "<pre>| 8         | 58             | 1320       | 3                    | 1.774ms          |</pre>"
      ],
      "text/plain": [
       "| 8         | 58             | 1320       | 3                    | 1.774ms          |"
      ]
     },
     "metadata": {},
     "output_type": "display_data"
    },
    {
     "data": {
      "text/html": [
       "<pre>| 9         | 143            | 1273       | 3                    | 3.73ms           |</pre>"
      ],
      "text/plain": [
       "| 9         | 143            | 1273       | 3                    | 3.73ms           |"
      ]
     },
     "metadata": {},
     "output_type": "display_data"
    },
    {
     "data": {
      "text/html": [
       "<pre>| 10        | 294            | 1249       | 3                    | 7.976ms          |</pre>"
      ],
      "text/plain": [
       "| 10        | 294            | 1249       | 3                    | 7.976ms          |"
      ]
     },
     "metadata": {},
     "output_type": "display_data"
    },
    {
     "data": {
      "text/html": [
       "<pre>| 11        | 500            | 1218       | 7                    | 16.281ms         |</pre>"
      ],
      "text/plain": [
       "| 11        | 500            | 1218       | 7                    | 16.281ms         |"
      ]
     },
     "metadata": {},
     "output_type": "display_data"
    },
    {
     "data": {
      "text/html": [
       "<pre>| 12        | 500            | 1201       | 14                   | 23.222ms         |</pre>"
      ],
      "text/plain": [
       "| 12        | 500            | 1201       | 14                   | 23.222ms         |"
      ]
     },
     "metadata": {},
     "output_type": "display_data"
    },
    {
     "data": {
      "text/html": [
       "<pre>| 13        | 500            | 1184       | 20                   | 31.515ms         |</pre>"
      ],
      "text/plain": [
       "| 13        | 500            | 1184       | 20                   | 31.515ms         |"
      ]
     },
     "metadata": {},
     "output_type": "display_data"
    },
    {
     "data": {
      "text/html": [
       "<pre>| 14        | 500            | 1175       | 27                   | 42.328ms         |</pre>"
      ],
      "text/plain": [
       "| 14        | 500            | 1175       | 27                   | 42.328ms         |"
      ]
     },
     "metadata": {},
     "output_type": "display_data"
    },
    {
     "data": {
      "text/html": [
       "<pre>| 15        | 500            | 1162       | 30                   | 50.302ms         |</pre>"
      ],
      "text/plain": [
       "| 15        | 500            | 1162       | 30                   | 50.302ms         |"
      ]
     },
     "metadata": {},
     "output_type": "display_data"
    },
    {
     "data": {
      "text/html": [
       "<pre>| 16        | 500            | 1160       | 38                   | 64.482ms         |</pre>"
      ],
      "text/plain": [
       "| 16        | 500            | 1160       | 38                   | 64.482ms         |"
      ]
     },
     "metadata": {},
     "output_type": "display_data"
    },
    {
     "data": {
      "text/html": [
       "<pre>| 17        | 500            | 1157       | 41                   | 74.705ms         |</pre>"
      ],
      "text/plain": [
       "| 17        | 500            | 1157       | 41                   | 74.705ms         |"
      ]
     },
     "metadata": {},
     "output_type": "display_data"
    },
    {
     "data": {
      "text/html": [
       "<pre>| 18        | 500            | 1150       | 43                   | 80.266ms         |</pre>"
      ],
      "text/plain": [
       "| 18        | 500            | 1150       | 43                   | 80.266ms         |"
      ]
     },
     "metadata": {},
     "output_type": "display_data"
    },
    {
     "data": {
      "text/html": [
       "<pre>| 19        | 500            | 1141       | 45                   | 89.646ms         |</pre>"
      ],
      "text/plain": [
       "| 19        | 500            | 1141       | 45                   | 89.646ms         |"
      ]
     },
     "metadata": {},
     "output_type": "display_data"
    },
    {
     "data": {
      "text/html": [
       "<pre>| 20        | 500            | 1133       | 46                   | 94.859ms         |</pre>"
      ],
      "text/plain": [
       "| 20        | 500            | 1133       | 46                   | 94.859ms         |"
      ]
     },
     "metadata": {},
     "output_type": "display_data"
    },
    {
     "data": {
      "text/html": [
       "<pre>| 21        | 500            | 1126       | 50                   | 109.091ms        |</pre>"
      ],
      "text/plain": [
       "| 21        | 500            | 1126       | 50                   | 109.091ms        |"
      ]
     },
     "metadata": {},
     "output_type": "display_data"
    },
    {
     "data": {
      "text/html": [
       "<pre>| 22        | 500            | 1117       | 50                   | 109.737ms        |</pre>"
      ],
      "text/plain": [
       "| 22        | 500            | 1117       | 50                   | 109.737ms        |"
      ]
     },
     "metadata": {},
     "output_type": "display_data"
    },
    {
     "data": {
      "text/html": [
       "<pre>| 23        | 500            | 1100       | 55                   | 130.165ms        |</pre>"
      ],
      "text/plain": [
       "| 23        | 500            | 1100       | 55                   | 130.165ms        |"
      ]
     },
     "metadata": {},
     "output_type": "display_data"
    },
    {
     "data": {
      "text/html": [
       "<pre>| 24        | 500            | 1090       | 55                   | 135.734ms        |</pre>"
      ],
      "text/plain": [
       "| 24        | 500            | 1090       | 55                   | 135.734ms        |"
      ]
     },
     "metadata": {},
     "output_type": "display_data"
    },
    {
     "data": {
      "text/html": [
       "<pre>| 25        | 500            | 1085       | 58                   | 147.226ms        |</pre>"
      ],
      "text/plain": [
       "| 25        | 500            | 1085       | 58                   | 147.226ms        |"
      ]
     },
     "metadata": {},
     "output_type": "display_data"
    },
    {
     "data": {
      "text/html": [
       "<pre>| 26        | 500            | 1073       | 62                   | 160.629ms        |</pre>"
      ],
      "text/plain": [
       "| 26        | 500            | 1073       | 62                   | 160.629ms        |"
      ]
     },
     "metadata": {},
     "output_type": "display_data"
    },
    {
     "data": {
      "text/html": [
       "<pre>| 27        | 500            | 1066       | 63                   | 172.337ms        |</pre>"
      ],
      "text/plain": [
       "| 27        | 500            | 1066       | 63                   | 172.337ms        |"
      ]
     },
     "metadata": {},
     "output_type": "display_data"
    },
    {
     "data": {
      "text/html": [
       "<pre>| 28        | 500            | 1051       | 65                   | 184.344ms        |</pre>"
      ],
      "text/plain": [
       "| 28        | 500            | 1051       | 65                   | 184.344ms        |"
      ]
     },
     "metadata": {},
     "output_type": "display_data"
    },
    {
     "data": {
      "text/html": [
       "<pre>| 29        | 500            | 1037       | 65                   | 190.946ms        |</pre>"
      ],
      "text/plain": [
       "| 29        | 500            | 1037       | 65                   | 190.946ms        |"
      ]
     },
     "metadata": {},
     "output_type": "display_data"
    },
    {
     "data": {
      "text/html": [
       "<pre>| 30        | 500            | 1036       | 66                   | 203.75ms         |</pre>"
      ],
      "text/plain": [
       "| 30        | 500            | 1036       | 66                   | 203.75ms         |"
      ]
     },
     "metadata": {},
     "output_type": "display_data"
    },
    {
     "data": {
      "text/html": [
       "<pre>| 31        | 500            | 1034       | 68                   | 216.601ms        |</pre>"
      ],
      "text/plain": [
       "| 31        | 500            | 1034       | 68                   | 216.601ms        |"
      ]
     },
     "metadata": {},
     "output_type": "display_data"
    },
    {
     "data": {
      "text/html": [
       "<pre>| 32        | 500            | 1018       | 72                   | 238.687ms        |</pre>"
      ],
      "text/plain": [
       "| 32        | 500            | 1018       | 72                   | 238.687ms        |"
      ]
     },
     "metadata": {},
     "output_type": "display_data"
    },
    {
     "data": {
      "text/html": [
       "<pre>| 33        | 500            | 1015       | 77                   | 259.413ms        |</pre>"
      ],
      "text/plain": [
       "| 33        | 500            | 1015       | 77                   | 259.413ms        |"
      ]
     },
     "metadata": {},
     "output_type": "display_data"
    },
    {
     "data": {
      "text/html": [
       "<pre>| 34        | 500            | 994        | 80                   | 283.386ms        |</pre>"
      ],
      "text/plain": [
       "| 34        | 500            | 994        | 80                   | 283.386ms        |"
      ]
     },
     "metadata": {},
     "output_type": "display_data"
    },
    {
     "data": {
      "text/html": [
       "<pre>| 35        | 500            | 986        | 80                   | 291.546ms        |</pre>"
      ],
      "text/plain": [
       "| 35        | 500            | 986        | 80                   | 291.546ms        |"
      ]
     },
     "metadata": {},
     "output_type": "display_data"
    },
    {
     "data": {
      "text/html": [
       "<pre>| 36        | 500            | 980        | 80                   | 301.083ms        |</pre>"
      ],
      "text/plain": [
       "| 36        | 500            | 980        | 80                   | 301.083ms        |"
      ]
     },
     "metadata": {},
     "output_type": "display_data"
    },
    {
     "data": {
      "text/html": [
       "<pre>| 37        | 500            | 978        | 80                   | 309.788ms        |</pre>"
      ],
      "text/plain": [
       "| 37        | 500            | 978        | 80                   | 309.788ms        |"
      ]
     },
     "metadata": {},
     "output_type": "display_data"
    },
    {
     "data": {
      "text/html": [
       "<pre>| 38        | 500            | 971        | 82                   | 326.026ms        |</pre>"
      ],
      "text/plain": [
       "| 38        | 500            | 971        | 82                   | 326.026ms        |"
      ]
     },
     "metadata": {},
     "output_type": "display_data"
    },
    {
     "data": {
      "text/html": [
       "<pre>| 39        | 500            | 962        | 82                   | 331.56ms         |</pre>"
      ],
      "text/plain": [
       "| 39        | 500            | 962        | 82                   | 331.56ms         |"
      ]
     },
     "metadata": {},
     "output_type": "display_data"
    },
    {
     "data": {
      "text/html": [
       "<pre>| 40        | 500            | 955        | 82                   | 338.563ms        |</pre>"
      ],
      "text/plain": [
       "| 40        | 500            | 955        | 82                   | 338.563ms        |"
      ]
     },
     "metadata": {},
     "output_type": "display_data"
    },
    {
     "data": {
      "text/html": [
       "<pre>| 41        | 500            | 934        | 82                   | 348.435ms        |</pre>"
      ],
      "text/plain": [
       "| 41        | 500            | 934        | 82                   | 348.435ms        |"
      ]
     },
     "metadata": {},
     "output_type": "display_data"
    },
    {
     "data": {
      "text/html": [
       "<pre>| 42        | 500            | 933        | 82                   | 354.191ms        |</pre>"
      ],
      "text/plain": [
       "| 42        | 500            | 933        | 82                   | 354.191ms        |"
      ]
     },
     "metadata": {},
     "output_type": "display_data"
    },
    {
     "data": {
      "text/html": [
       "<pre>| 43        | 500            | 926        | 83                   | 367.751ms        |</pre>"
      ],
      "text/plain": [
       "| 43        | 500            | 926        | 83                   | 367.751ms        |"
      ]
     },
     "metadata": {},
     "output_type": "display_data"
    },
    {
     "data": {
      "text/html": [
       "<pre>| 44        | 500            | 926        | 83                   | 379.495ms        |</pre>"
      ],
      "text/plain": [
       "| 44        | 500            | 926        | 83                   | 379.495ms        |"
      ]
     },
     "metadata": {},
     "output_type": "display_data"
    },
    {
     "data": {
      "text/html": [
       "<pre>| 45        | 500            | 913        | 83                   | 386.75ms         |</pre>"
      ],
      "text/plain": [
       "| 45        | 500            | 913        | 83                   | 386.75ms         |"
      ]
     },
     "metadata": {},
     "output_type": "display_data"
    },
    {
     "data": {
      "text/html": [
       "<pre>| 46        | 500            | 906        | 83                   | 398.084ms        |</pre>"
      ],
      "text/plain": [
       "| 46        | 500            | 906        | 83                   | 398.084ms        |"
      ]
     },
     "metadata": {},
     "output_type": "display_data"
    },
    {
     "data": {
      "text/html": [
       "<pre>| 47        | 500            | 900        | 84                   | 412.718ms        |</pre>"
      ],
      "text/plain": [
       "| 47        | 500            | 900        | 84                   | 412.718ms        |"
      ]
     },
     "metadata": {},
     "output_type": "display_data"
    },
    {
     "data": {
      "text/html": [
       "<pre>| 48        | 500            | 882        | 84                   | 427.562ms        |</pre>"
      ],
      "text/plain": [
       "| 48        | 500            | 882        | 84                   | 427.562ms        |"
      ]
     },
     "metadata": {},
     "output_type": "display_data"
    },
    {
     "data": {
      "text/html": [
       "<pre>| 49        | 500            | 879        | 89                   | 456.179ms        |</pre>"
      ],
      "text/plain": [
       "| 49        | 500            | 879        | 89                   | 456.179ms        |"
      ]
     },
     "metadata": {},
     "output_type": "display_data"
    },
    {
     "data": {
      "text/html": [
       "<pre>| 50        | 500            | 879        | 90                   | 467.719ms        |</pre>"
      ],
      "text/plain": [
       "| 50        | 500            | 879        | 90                   | 467.719ms        |"
      ]
     },
     "metadata": {},
     "output_type": "display_data"
    },
    {
     "data": {
      "text/html": [
       "<pre>| 51        | 500            | 873        | 90                   | 476.07ms         |</pre>"
      ],
      "text/plain": [
       "| 51        | 500            | 873        | 90                   | 476.07ms         |"
      ]
     },
     "metadata": {},
     "output_type": "display_data"
    },
    {
     "data": {
      "text/html": [
       "<pre>| 52        | 500            | 871        | 90                   | 486.945ms        |</pre>"
      ],
      "text/plain": [
       "| 52        | 500            | 871        | 90                   | 486.945ms        |"
      ]
     },
     "metadata": {},
     "output_type": "display_data"
    },
    {
     "data": {
      "text/html": [
       "<pre>| 53        | 500            | 869        | 90                   | 487.845ms        |</pre>"
      ],
      "text/plain": [
       "| 53        | 500            | 869        | 90                   | 487.845ms        |"
      ]
     },
     "metadata": {},
     "output_type": "display_data"
    },
    {
     "data": {
      "text/html": [
       "<pre>| 54        | 500            | 865        | 90                   | 501.058ms        |</pre>"
      ],
      "text/plain": [
       "| 54        | 500            | 865        | 90                   | 501.058ms        |"
      ]
     },
     "metadata": {},
     "output_type": "display_data"
    },
    {
     "data": {
      "text/html": [
       "<pre>| 55        | 500            | 863        | 91                   | 523.004ms        |</pre>"
      ],
      "text/plain": [
       "| 55        | 500            | 863        | 91                   | 523.004ms        |"
      ]
     },
     "metadata": {},
     "output_type": "display_data"
    },
    {
     "data": {
      "text/html": [
       "<pre>| 56        | 500            | 858        | 93                   | 543.376ms        |</pre>"
      ],
      "text/plain": [
       "| 56        | 500            | 858        | 93                   | 543.376ms        |"
      ]
     },
     "metadata": {},
     "output_type": "display_data"
    },
    {
     "data": {
      "text/html": [
       "<pre>| 57        | 500            | 850        | 94                   | 548.857ms        |</pre>"
      ],
      "text/plain": [
       "| 57        | 500            | 850        | 94                   | 548.857ms        |"
      ]
     },
     "metadata": {},
     "output_type": "display_data"
    },
    {
     "data": {
      "text/html": [
       "<pre>| 58        | 500            | 849        | 94                   | 565.441ms        |</pre>"
      ],
      "text/plain": [
       "| 58        | 500            | 849        | 94                   | 565.441ms        |"
      ]
     },
     "metadata": {},
     "output_type": "display_data"
    },
    {
     "data": {
      "text/html": [
       "<pre>| 59        | 500            | 845        | 94                   | 586.636ms        |</pre>"
      ],
      "text/plain": [
       "| 59        | 500            | 845        | 94                   | 586.636ms        |"
      ]
     },
     "metadata": {},
     "output_type": "display_data"
    },
    {
     "data": {
      "text/html": [
       "<pre>| 60        | 500            | 835        | 94                   | 591.176ms        |</pre>"
      ],
      "text/plain": [
       "| 60        | 500            | 835        | 94                   | 591.176ms        |"
      ]
     },
     "metadata": {},
     "output_type": "display_data"
    },
    {
     "data": {
      "text/html": [
       "<pre>| 61        | 500            | 834        | 100                  | 623.464ms        |</pre>"
      ],
      "text/plain": [
       "| 61        | 500            | 834        | 100                  | 623.464ms        |"
      ]
     },
     "metadata": {},
     "output_type": "display_data"
    },
    {
     "data": {
      "text/html": [
       "<pre>| 62        | 500            | 828        | 100                  | 630.295ms        |</pre>"
      ],
      "text/plain": [
       "| 62        | 500            | 828        | 100                  | 630.295ms        |"
      ]
     },
     "metadata": {},
     "output_type": "display_data"
    },
    {
     "data": {
      "text/html": [
       "<pre>| 63        | 500            | 825        | 100                  | 641.695ms        |</pre>"
      ],
      "text/plain": [
       "| 63        | 500            | 825        | 100                  | 641.695ms        |"
      ]
     },
     "metadata": {},
     "output_type": "display_data"
    },
    {
     "data": {
      "text/html": [
       "<pre>| 64        | 500            | 820        | 101                  | 661.996ms        |</pre>"
      ],
      "text/plain": [
       "| 64        | 500            | 820        | 101                  | 661.996ms        |"
      ]
     },
     "metadata": {},
     "output_type": "display_data"
    },
    {
     "data": {
      "text/html": [
       "<pre>| 65        | 500            | 803        | 101                  | 669.288ms        |</pre>"
      ],
      "text/plain": [
       "| 65        | 500            | 803        | 101                  | 669.288ms        |"
      ]
     },
     "metadata": {},
     "output_type": "display_data"
    },
    {
     "data": {
      "text/html": [
       "<pre>| 66        | 500            | 799        | 101                  | 684.459ms        |</pre>"
      ],
      "text/plain": [
       "| 66        | 500            | 799        | 101                  | 684.459ms        |"
      ]
     },
     "metadata": {},
     "output_type": "display_data"
    },
    {
     "data": {
      "text/html": [
       "<pre>| 67        | 500            | 783        | 101                  | 694.588ms        |</pre>"
      ],
      "text/plain": [
       "| 67        | 500            | 783        | 101                  | 694.588ms        |"
      ]
     },
     "metadata": {},
     "output_type": "display_data"
    },
    {
     "data": {
      "text/html": [
       "<pre>| 68        | 500            | 782        | 101                  | 704.249ms        |</pre>"
      ],
      "text/plain": [
       "| 68        | 500            | 782        | 101                  | 704.249ms        |"
      ]
     },
     "metadata": {},
     "output_type": "display_data"
    },
    {
     "data": {
      "text/html": [
       "<pre>| 69        | 500            | 777        | 101                  | 706.076ms        |</pre>"
      ],
      "text/plain": [
       "| 69        | 500            | 777        | 101                  | 706.076ms        |"
      ]
     },
     "metadata": {},
     "output_type": "display_data"
    },
    {
     "data": {
      "text/html": [
       "<pre>| 70        | 500            | 772        | 101                  | 708.928ms        |</pre>"
      ],
      "text/plain": [
       "| 70        | 500            | 772        | 101                  | 708.928ms        |"
      ]
     },
     "metadata": {},
     "output_type": "display_data"
    },
    {
     "data": {
      "text/html": [
       "<pre>| 71        | 500            | 771        | 101                  | 716.319ms        |</pre>"
      ],
      "text/plain": [
       "| 71        | 500            | 771        | 101                  | 716.319ms        |"
      ]
     },
     "metadata": {},
     "output_type": "display_data"
    },
    {
     "data": {
      "text/html": [
       "<pre>| 72        | 500            | 766        | 101                  | 720.077ms        |</pre>"
      ],
      "text/plain": [
       "| 72        | 500            | 766        | 101                  | 720.077ms        |"
      ]
     },
     "metadata": {},
     "output_type": "display_data"
    },
    {
     "data": {
      "text/html": [
       "<pre>| 73        | 500            | 759        | 102                  | 731.234ms        |</pre>"
      ],
      "text/plain": [
       "| 73        | 500            | 759        | 102                  | 731.234ms        |"
      ]
     },
     "metadata": {},
     "output_type": "display_data"
    },
    {
     "data": {
      "text/html": [
       "<pre>| 74        | 500            | 758        | 102                  | 735.176ms        |</pre>"
      ],
      "text/plain": [
       "| 74        | 500            | 758        | 102                  | 735.176ms        |"
      ]
     },
     "metadata": {},
     "output_type": "display_data"
    },
    {
     "data": {
      "text/html": [
       "<pre>| 75        | 500            | 748        | 102                  | 745.127ms        |</pre>"
      ],
      "text/plain": [
       "| 75        | 500            | 748        | 102                  | 745.127ms        |"
      ]
     },
     "metadata": {},
     "output_type": "display_data"
    },
    {
     "data": {
      "text/html": [
       "<pre>| 76        | 500            | 743        | 102                  | 767.99ms         |</pre>"
      ],
      "text/plain": [
       "| 76        | 500            | 743        | 102                  | 767.99ms         |"
      ]
     },
     "metadata": {},
     "output_type": "display_data"
    },
    {
     "data": {
      "text/html": [
       "<pre>| 77        | 500            | 741        | 107                  | 794.913ms        |</pre>"
      ],
      "text/plain": [
       "| 77        | 500            | 741        | 107                  | 794.913ms        |"
      ]
     },
     "metadata": {},
     "output_type": "display_data"
    },
    {
     "data": {
      "text/html": [
       "<pre>| 78        | 500            | 740        | 107                  | 796.482ms        |</pre>"
      ],
      "text/plain": [
       "| 78        | 500            | 740        | 107                  | 796.482ms        |"
      ]
     },
     "metadata": {},
     "output_type": "display_data"
    },
    {
     "data": {
      "text/html": [
       "<pre>| 79        | 500            | 732        | 109                  | 804.885ms        |</pre>"
      ],
      "text/plain": [
       "| 79        | 500            | 732        | 109                  | 804.885ms        |"
      ]
     },
     "metadata": {},
     "output_type": "display_data"
    },
    {
     "data": {
      "text/html": [
       "<pre>| 80        | 500            | 728        | 109                  | 811.018ms        |</pre>"
      ],
      "text/plain": [
       "| 80        | 500            | 728        | 109                  | 811.018ms        |"
      ]
     },
     "metadata": {},
     "output_type": "display_data"
    },
    {
     "data": {
      "text/html": [
       "<pre>| 81        | 500            | 728        | 109                  | 814.528ms        |</pre>"
      ],
      "text/plain": [
       "| 81        | 500            | 728        | 109                  | 814.528ms        |"
      ]
     },
     "metadata": {},
     "output_type": "display_data"
    },
    {
     "data": {
      "text/html": [
       "<pre>| 82        | 500            | 723        | 109                  | 816.594ms        |</pre>"
      ],
      "text/plain": [
       "| 82        | 500            | 723        | 109                  | 816.594ms        |"
      ]
     },
     "metadata": {},
     "output_type": "display_data"
    },
    {
     "data": {
      "text/html": [
       "<pre>| 83        | 500            | 722        | 109                  | 819.191ms        |</pre>"
      ],
      "text/plain": [
       "| 83        | 500            | 722        | 109                  | 819.191ms        |"
      ]
     },
     "metadata": {},
     "output_type": "display_data"
    },
    {
     "data": {
      "text/html": [
       "<pre>| 84        | 500            | 716        | 116                  | 846.135ms        |</pre>"
      ],
      "text/plain": [
       "| 84        | 500            | 716        | 116                  | 846.135ms        |"
      ]
     },
     "metadata": {},
     "output_type": "display_data"
    },
    {
     "data": {
      "text/html": [
       "<pre>| 85        | 500            | 715        | 116                  | 852.441ms        |</pre>"
      ],
      "text/plain": [
       "| 85        | 500            | 715        | 116                  | 852.441ms        |"
      ]
     },
     "metadata": {},
     "output_type": "display_data"
    },
    {
     "data": {
      "text/html": [
       "<pre>| 86        | 500            | 711        | 116                  | 854.763ms        |</pre>"
      ],
      "text/plain": [
       "| 86        | 500            | 711        | 116                  | 854.763ms        |"
      ]
     },
     "metadata": {},
     "output_type": "display_data"
    },
    {
     "data": {
      "text/html": [
       "<pre>| 87        | 500            | 708        | 116                  | 861.575ms        |</pre>"
      ],
      "text/plain": [
       "| 87        | 500            | 708        | 116                  | 861.575ms        |"
      ]
     },
     "metadata": {},
     "output_type": "display_data"
    },
    {
     "data": {
      "text/html": [
       "<pre>| 88        | 500            | 707        | 121                  | 915.641ms        |</pre>"
      ],
      "text/plain": [
       "| 88        | 500            | 707        | 121                  | 915.641ms        |"
      ]
     },
     "metadata": {},
     "output_type": "display_data"
    },
    {
     "data": {
      "text/html": [
       "<pre>| 89        | 500            | 706        | 121                  | 920.127ms        |</pre>"
      ],
      "text/plain": [
       "| 89        | 500            | 706        | 121                  | 920.127ms        |"
      ]
     },
     "metadata": {},
     "output_type": "display_data"
    },
    {
     "data": {
      "text/html": [
       "<pre>| 90        | 500            | 705        | 121                  | 924.447ms        |</pre>"
      ],
      "text/plain": [
       "| 90        | 500            | 705        | 121                  | 924.447ms        |"
      ]
     },
     "metadata": {},
     "output_type": "display_data"
    },
    {
     "data": {
      "text/html": [
       "<pre>| 91        | 500            | 704        | 122                  | 938.45ms         |</pre>"
      ],
      "text/plain": [
       "| 91        | 500            | 704        | 122                  | 938.45ms         |"
      ]
     },
     "metadata": {},
     "output_type": "display_data"
    },
    {
     "data": {
      "text/html": [
       "<pre>| 92        | 500            | 697        | 122                  | 943.176ms        |</pre>"
      ],
      "text/plain": [
       "| 92        | 500            | 697        | 122                  | 943.176ms        |"
      ]
     },
     "metadata": {},
     "output_type": "display_data"
    },
    {
     "data": {
      "text/html": [
       "<pre>| 93        | 500            | 689        | 122                  | 944.892ms        |</pre>"
      ],
      "text/plain": [
       "| 93        | 500            | 689        | 122                  | 944.892ms        |"
      ]
     },
     "metadata": {},
     "output_type": "display_data"
    },
    {
     "data": {
      "text/html": [
       "<pre>| 94        | 500            | 688        | 122                  | 947.169ms        |</pre>"
      ],
      "text/plain": [
       "| 94        | 500            | 688        | 122                  | 947.169ms        |"
      ]
     },
     "metadata": {},
     "output_type": "display_data"
    },
    {
     "data": {
      "text/html": [
       "<pre>| 95        | 500            | 688        | 122                  | 953.763ms        |</pre>"
      ],
      "text/plain": [
       "| 95        | 500            | 688        | 122                  | 953.763ms        |"
      ]
     },
     "metadata": {},
     "output_type": "display_data"
    },
    {
     "data": {
      "text/html": [
       "<pre>| 96        | 500            | 685        | 122                  | 962.517ms        |</pre>"
      ],
      "text/plain": [
       "| 96        | 500            | 685        | 122                  | 962.517ms        |"
      ]
     },
     "metadata": {},
     "output_type": "display_data"
    },
    {
     "data": {
      "text/html": [
       "<pre>| 97        | 500            | 685        | 122                  | 964.123ms        |</pre>"
      ],
      "text/plain": [
       "| 97        | 500            | 685        | 122                  | 964.123ms        |"
      ]
     },
     "metadata": {},
     "output_type": "display_data"
    },
    {
     "data": {
      "text/html": [
       "<pre>| 98        | 500            | 682        | 122                  | 968.975ms        |</pre>"
      ],
      "text/plain": [
       "| 98        | 500            | 682        | 122                  | 968.975ms        |"
      ]
     },
     "metadata": {},
     "output_type": "display_data"
    },
    {
     "data": {
      "text/html": [
       "<pre>| 99        | 500            | 681        | 122                  | 975.91ms         |</pre>"
      ],
      "text/plain": [
       "| 99        | 500            | 681        | 122                  | 975.91ms         |"
      ]
     },
     "metadata": {},
     "output_type": "display_data"
    },
    {
     "data": {
      "text/html": [
       "<pre>| 100       | 500            | 677        | 122                  | 977.532ms        |</pre>"
      ],
      "text/plain": [
       "| 100       | 500            | 677        | 122                  | 977.532ms        |"
      ]
     },
     "metadata": {},
     "output_type": "display_data"
    },
    {
     "data": {
      "text/html": [
       "<pre>| 101       | 500            | 673        | 122                  | 979.363ms        |</pre>"
      ],
      "text/plain": [
       "| 101       | 500            | 673        | 122                  | 979.363ms        |"
      ]
     },
     "metadata": {},
     "output_type": "display_data"
    },
    {
     "data": {
      "text/html": [
       "<pre>| 102       | 500            | 673        | 122                  | 982.549ms        |</pre>"
      ],
      "text/plain": [
       "| 102       | 500            | 673        | 122                  | 982.549ms        |"
      ]
     },
     "metadata": {},
     "output_type": "display_data"
    },
    {
     "data": {
      "text/html": [
       "<pre>| 103       | 500            | 670        | 122                  | 992.297ms        |</pre>"
      ],
      "text/plain": [
       "| 103       | 500            | 670        | 122                  | 992.297ms        |"
      ]
     },
     "metadata": {},
     "output_type": "display_data"
    },
    {
     "data": {
      "text/html": [
       "<pre>| 104       | 500            | 670        | 122                  | 996.229ms        |</pre>"
      ],
      "text/plain": [
       "| 104       | 500            | 670        | 122                  | 996.229ms        |"
      ]
     },
     "metadata": {},
     "output_type": "display_data"
    },
    {
     "data": {
      "text/html": [
       "<pre>| 105       | 500            | 668        | 122                  | 999.604ms        |</pre>"
      ],
      "text/plain": [
       "| 105       | 500            | 668        | 122                  | 999.604ms        |"
      ]
     },
     "metadata": {},
     "output_type": "display_data"
    },
    {
     "data": {
      "text/html": [
       "<pre>| 106       | 500            | 663        | 123                  | 1.00s            |</pre>"
      ],
      "text/plain": [
       "| 106       | 500            | 663        | 123                  | 1.00s            |"
      ]
     },
     "metadata": {},
     "output_type": "display_data"
    },
    {
     "data": {
      "text/html": [
       "<pre>| 107       | 500            | 663        | 123                  | 1.01s            |</pre>"
      ],
      "text/plain": [
       "| 107       | 500            | 663        | 123                  | 1.01s            |"
      ]
     },
     "metadata": {},
     "output_type": "display_data"
    },
    {
     "data": {
      "text/html": [
       "<pre>| 108       | 500            | 662        | 123                  | 1.01s            |</pre>"
      ],
      "text/plain": [
       "| 108       | 500            | 662        | 123                  | 1.01s            |"
      ]
     },
     "metadata": {},
     "output_type": "display_data"
    },
    {
     "data": {
      "text/html": [
       "<pre>| 109       | 500            | 661        | 124                  | 1.02s            |</pre>"
      ],
      "text/plain": [
       "| 109       | 500            | 661        | 124                  | 1.02s            |"
      ]
     },
     "metadata": {},
     "output_type": "display_data"
    },
    {
     "data": {
      "text/html": [
       "<pre>| 110       | 500            | 657        | 124                  | 1.02s            |</pre>"
      ],
      "text/plain": [
       "| 110       | 500            | 657        | 124                  | 1.02s            |"
      ]
     },
     "metadata": {},
     "output_type": "display_data"
    },
    {
     "data": {
      "text/html": [
       "<pre>| 111       | 500            | 657        | 124                  | 1.03s            |</pre>"
      ],
      "text/plain": [
       "| 111       | 500            | 657        | 124                  | 1.03s            |"
      ]
     },
     "metadata": {},
     "output_type": "display_data"
    },
    {
     "data": {
      "text/html": [
       "<pre>| 112       | 500            | 654        | 124                  | 1.04s            |</pre>"
      ],
      "text/plain": [
       "| 112       | 500            | 654        | 124                  | 1.04s            |"
      ]
     },
     "metadata": {},
     "output_type": "display_data"
    },
    {
     "data": {
      "text/html": [
       "<pre>| 113       | 500            | 646        | 124                  | 1.04s            |</pre>"
      ],
      "text/plain": [
       "| 113       | 500            | 646        | 124                  | 1.04s            |"
      ]
     },
     "metadata": {},
     "output_type": "display_data"
    },
    {
     "data": {
      "text/html": [
       "<pre>| 114       | 500            | 643        | 124                  | 1.04s            |</pre>"
      ],
      "text/plain": [
       "| 114       | 500            | 643        | 124                  | 1.04s            |"
      ]
     },
     "metadata": {},
     "output_type": "display_data"
    },
    {
     "data": {
      "text/html": [
       "<pre>| 115       | 500            | 629        | 124                  | 1.05s            |</pre>"
      ],
      "text/plain": [
       "| 115       | 500            | 629        | 124                  | 1.05s            |"
      ]
     },
     "metadata": {},
     "output_type": "display_data"
    },
    {
     "data": {
      "text/html": [
       "<pre>| 116       | 500            | 629        | 124                  | 1.05s            |</pre>"
      ],
      "text/plain": [
       "| 116       | 500            | 629        | 124                  | 1.05s            |"
      ]
     },
     "metadata": {},
     "output_type": "display_data"
    },
    {
     "data": {
      "text/html": [
       "<pre>| 117       | 500            | 629        | 124                  | 1.05s            |</pre>"
      ],
      "text/plain": [
       "| 117       | 500            | 629        | 124                  | 1.05s            |"
      ]
     },
     "metadata": {},
     "output_type": "display_data"
    },
    {
     "data": {
      "text/html": [
       "<pre>| 118       | 500            | 623        | 124                  | 1.06s            |</pre>"
      ],
      "text/plain": [
       "| 118       | 500            | 623        | 124                  | 1.06s            |"
      ]
     },
     "metadata": {},
     "output_type": "display_data"
    },
    {
     "data": {
      "text/html": [
       "<pre>| 119       | 500            | 621        | 124                  | 1.06s            |</pre>"
      ],
      "text/plain": [
       "| 119       | 500            | 621        | 124                  | 1.06s            |"
      ]
     },
     "metadata": {},
     "output_type": "display_data"
    },
    {
     "data": {
      "text/html": [
       "<pre>| 120       | 500            | 618        | 124                  | 1.06s            |</pre>"
      ],
      "text/plain": [
       "| 120       | 500            | 618        | 124                  | 1.06s            |"
      ]
     },
     "metadata": {},
     "output_type": "display_data"
    },
    {
     "data": {
      "text/html": [
       "<pre>| 121       | 500            | 616        | 124                  | 1.06s            |</pre>"
      ],
      "text/plain": [
       "| 121       | 500            | 616        | 124                  | 1.06s            |"
      ]
     },
     "metadata": {},
     "output_type": "display_data"
    },
    {
     "data": {
      "text/html": [
       "<pre>| 122       | 500            | 616        | 124                  | 1.07s            |</pre>"
      ],
      "text/plain": [
       "| 122       | 500            | 616        | 124                  | 1.07s            |"
      ]
     },
     "metadata": {},
     "output_type": "display_data"
    },
    {
     "data": {
      "text/html": [
       "<pre>| 123       | 500            | 615        | 124                  | 1.07s            |</pre>"
      ],
      "text/plain": [
       "| 123       | 500            | 615        | 124                  | 1.07s            |"
      ]
     },
     "metadata": {},
     "output_type": "display_data"
    },
    {
     "data": {
      "text/html": [
       "<pre>| 124       | 500            | 610        | 124                  | 1.07s            |</pre>"
      ],
      "text/plain": [
       "| 124       | 500            | 610        | 124                  | 1.07s            |"
      ]
     },
     "metadata": {},
     "output_type": "display_data"
    },
    {
     "data": {
      "text/html": [
       "<pre>| 125       | 500            | 610        | 124                  | 1.07s            |</pre>"
      ],
      "text/plain": [
       "| 125       | 500            | 610        | 124                  | 1.07s            |"
      ]
     },
     "metadata": {},
     "output_type": "display_data"
    },
    {
     "data": {
      "text/html": [
       "<pre>| 126       | 500            | 609        | 124                  | 1.08s            |</pre>"
      ],
      "text/plain": [
       "| 126       | 500            | 609        | 124                  | 1.08s            |"
      ]
     },
     "metadata": {},
     "output_type": "display_data"
    },
    {
     "data": {
      "text/html": [
       "<pre>| 127       | 500            | 609        | 124                  | 1.08s            |</pre>"
      ],
      "text/plain": [
       "| 127       | 500            | 609        | 124                  | 1.08s            |"
      ]
     },
     "metadata": {},
     "output_type": "display_data"
    },
    {
     "data": {
      "text/html": [
       "<pre>| 128       | 500            | 608        | 124                  | 1.08s            |</pre>"
      ],
      "text/plain": [
       "| 128       | 500            | 608        | 124                  | 1.08s            |"
      ]
     },
     "metadata": {},
     "output_type": "display_data"
    },
    {
     "data": {
      "text/html": [
       "<pre>| 129       | 500            | 603        | 124                  | 1.09s            |</pre>"
      ],
      "text/plain": [
       "| 129       | 500            | 603        | 124                  | 1.09s            |"
      ]
     },
     "metadata": {},
     "output_type": "display_data"
    },
    {
     "data": {
      "text/html": [
       "<pre>| 130       | 500            | 603        | 124                  | 1.09s            |</pre>"
      ],
      "text/plain": [
       "| 130       | 500            | 603        | 124                  | 1.09s            |"
      ]
     },
     "metadata": {},
     "output_type": "display_data"
    },
    {
     "data": {
      "text/html": [
       "<pre>| 131       | 500            | 601        | 124                  | 1.09s            |</pre>"
      ],
      "text/plain": [
       "| 131       | 500            | 601        | 124                  | 1.09s            |"
      ]
     },
     "metadata": {},
     "output_type": "display_data"
    },
    {
     "data": {
      "text/html": [
       "<pre>| 132       | 500            | 601        | 124                  | 1.09s            |</pre>"
      ],
      "text/plain": [
       "| 132       | 500            | 601        | 124                  | 1.09s            |"
      ]
     },
     "metadata": {},
     "output_type": "display_data"
    },
    {
     "data": {
      "text/html": [
       "<pre>| 133       | 500            | 600        | 124                  | 1.10s            |</pre>"
      ],
      "text/plain": [
       "| 133       | 500            | 600        | 124                  | 1.10s            |"
      ]
     },
     "metadata": {},
     "output_type": "display_data"
    },
    {
     "data": {
      "text/html": [
       "<pre>| 134       | 500            | 595        | 124                  | 1.10s            |</pre>"
      ],
      "text/plain": [
       "| 134       | 500            | 595        | 124                  | 1.10s            |"
      ]
     },
     "metadata": {},
     "output_type": "display_data"
    },
    {
     "data": {
      "text/html": [
       "<pre>| 135       | 500            | 593        | 124                  | 1.11s            |</pre>"
      ],
      "text/plain": [
       "| 135       | 500            | 593        | 124                  | 1.11s            |"
      ]
     },
     "metadata": {},
     "output_type": "display_data"
    },
    {
     "data": {
      "text/html": [
       "<pre>| 136       | 500            | 589        | 124                  | 1.11s            |</pre>"
      ],
      "text/plain": [
       "| 136       | 500            | 589        | 124                  | 1.11s            |"
      ]
     },
     "metadata": {},
     "output_type": "display_data"
    },
    {
     "data": {
      "text/html": [
       "<pre>| 137       | 500            | 588        | 124                  | 1.12s            |</pre>"
      ],
      "text/plain": [
       "| 137       | 500            | 588        | 124                  | 1.12s            |"
      ]
     },
     "metadata": {},
     "output_type": "display_data"
    },
    {
     "data": {
      "text/html": [
       "<pre>| 138       | 500            | 587        | 124                  | 1.12s            |</pre>"
      ],
      "text/plain": [
       "| 138       | 500            | 587        | 124                  | 1.12s            |"
      ]
     },
     "metadata": {},
     "output_type": "display_data"
    },
    {
     "data": {
      "text/html": [
       "<pre>| 139       | 500            | 583        | 124                  | 1.12s            |</pre>"
      ],
      "text/plain": [
       "| 139       | 500            | 583        | 124                  | 1.12s            |"
      ]
     },
     "metadata": {},
     "output_type": "display_data"
    },
    {
     "data": {
      "text/html": [
       "<pre>| 140       | 500            | 581        | 125                  | 1.13s            |</pre>"
      ],
      "text/plain": [
       "| 140       | 500            | 581        | 125                  | 1.13s            |"
      ]
     },
     "metadata": {},
     "output_type": "display_data"
    },
    {
     "data": {
      "text/html": [
       "<pre>| 141       | 500            | 575        | 125                  | 1.14s            |</pre>"
      ],
      "text/plain": [
       "| 141       | 500            | 575        | 125                  | 1.14s            |"
      ]
     },
     "metadata": {},
     "output_type": "display_data"
    },
    {
     "data": {
      "text/html": [
       "<pre>| 142       | 500            | 575        | 125                  | 1.14s            |</pre>"
      ],
      "text/plain": [
       "| 142       | 500            | 575        | 125                  | 1.14s            |"
      ]
     },
     "metadata": {},
     "output_type": "display_data"
    },
    {
     "data": {
      "text/html": [
       "<pre>| 143       | 500            | 571        | 125                  | 1.15s            |</pre>"
      ],
      "text/plain": [
       "| 143       | 500            | 571        | 125                  | 1.15s            |"
      ]
     },
     "metadata": {},
     "output_type": "display_data"
    },
    {
     "data": {
      "text/html": [
       "<pre>| 144       | 500            | 570        | 125                  | 1.15s            |</pre>"
      ],
      "text/plain": [
       "| 144       | 500            | 570        | 125                  | 1.15s            |"
      ]
     },
     "metadata": {},
     "output_type": "display_data"
    },
    {
     "data": {
      "text/html": [
       "<pre>| 145       | 500            | 566        | 125                  | 1.15s            |</pre>"
      ],
      "text/plain": [
       "| 145       | 500            | 566        | 125                  | 1.15s            |"
      ]
     },
     "metadata": {},
     "output_type": "display_data"
    },
    {
     "data": {
      "text/html": [
       "<pre>| 146       | 500            | 562        | 125                  | 1.15s            |</pre>"
      ],
      "text/plain": [
       "| 146       | 500            | 562        | 125                  | 1.15s            |"
      ]
     },
     "metadata": {},
     "output_type": "display_data"
    },
    {
     "data": {
      "text/html": [
       "<pre>| 147       | 500            | 561        | 125                  | 1.15s            |</pre>"
      ],
      "text/plain": [
       "| 147       | 500            | 561        | 125                  | 1.15s            |"
      ]
     },
     "metadata": {},
     "output_type": "display_data"
    },
    {
     "data": {
      "text/html": [
       "<pre>| 148       | 500            | 561        | 125                  | 1.16s            |</pre>"
      ],
      "text/plain": [
       "| 148       | 500            | 561        | 125                  | 1.16s            |"
      ]
     },
     "metadata": {},
     "output_type": "display_data"
    },
    {
     "data": {
      "text/html": [
       "<pre>| 149       | 500            | 554        | 125                  | 1.16s            |</pre>"
      ],
      "text/plain": [
       "| 149       | 500            | 554        | 125                  | 1.16s            |"
      ]
     },
     "metadata": {},
     "output_type": "display_data"
    },
    {
     "data": {
      "text/html": [
       "<pre>| 150       | 500            | 552        | 125                  | 1.16s            |</pre>"
      ],
      "text/plain": [
       "| 150       | 500            | 552        | 125                  | 1.16s            |"
      ]
     },
     "metadata": {},
     "output_type": "display_data"
    },
    {
     "data": {
      "text/html": [
       "<pre>| 151       | 500            | 552        | 125                  | 1.16s            |</pre>"
      ],
      "text/plain": [
       "| 151       | 500            | 552        | 125                  | 1.16s            |"
      ]
     },
     "metadata": {},
     "output_type": "display_data"
    },
    {
     "data": {
      "text/html": [
       "<pre>| 152       | 500            | 552        | 125                  | 1.17s            |</pre>"
      ],
      "text/plain": [
       "| 152       | 500            | 552        | 125                  | 1.17s            |"
      ]
     },
     "metadata": {},
     "output_type": "display_data"
    },
    {
     "data": {
      "text/html": [
       "<pre>| 153       | 500            | 548        | 125                  | 1.17s            |</pre>"
      ],
      "text/plain": [
       "| 153       | 500            | 548        | 125                  | 1.17s            |"
      ]
     },
     "metadata": {},
     "output_type": "display_data"
    },
    {
     "data": {
      "text/html": [
       "<pre>| 154       | 500            | 547        | 125                  | 1.17s            |</pre>"
      ],
      "text/plain": [
       "| 154       | 500            | 547        | 125                  | 1.17s            |"
      ]
     },
     "metadata": {},
     "output_type": "display_data"
    },
    {
     "data": {
      "text/html": [
       "<pre>| 155       | 500            | 544        | 125                  | 1.17s            |</pre>"
      ],
      "text/plain": [
       "| 155       | 500            | 544        | 125                  | 1.17s            |"
      ]
     },
     "metadata": {},
     "output_type": "display_data"
    },
    {
     "data": {
      "text/html": [
       "<pre>| 156       | 500            | 544        | 125                  | 1.17s            |</pre>"
      ],
      "text/plain": [
       "| 156       | 500            | 544        | 125                  | 1.17s            |"
      ]
     },
     "metadata": {},
     "output_type": "display_data"
    },
    {
     "data": {
      "text/html": [
       "<pre>| 157       | 500            | 543        | 125                  | 1.18s            |</pre>"
      ],
      "text/plain": [
       "| 157       | 500            | 543        | 125                  | 1.18s            |"
      ]
     },
     "metadata": {},
     "output_type": "display_data"
    },
    {
     "data": {
      "text/html": [
       "<pre>| 158       | 500            | 541        | 125                  | 1.18s            |</pre>"
      ],
      "text/plain": [
       "| 158       | 500            | 541        | 125                  | 1.18s            |"
      ]
     },
     "metadata": {},
     "output_type": "display_data"
    },
    {
     "data": {
      "text/html": [
       "<pre>| 159       | 500            | 540        | 125                  | 1.18s            |</pre>"
      ],
      "text/plain": [
       "| 159       | 500            | 540        | 125                  | 1.18s            |"
      ]
     },
     "metadata": {},
     "output_type": "display_data"
    },
    {
     "data": {
      "text/html": [
       "<pre>| 160       | 500            | 539        | 125                  | 1.19s            |</pre>"
      ],
      "text/plain": [
       "| 160       | 500            | 539        | 125                  | 1.19s            |"
      ]
     },
     "metadata": {},
     "output_type": "display_data"
    },
    {
     "data": {
      "text/html": [
       "<pre>| 161       | 500            | 538        | 125                  | 1.19s            |</pre>"
      ],
      "text/plain": [
       "| 161       | 500            | 538        | 125                  | 1.19s            |"
      ]
     },
     "metadata": {},
     "output_type": "display_data"
    },
    {
     "data": {
      "text/html": [
       "<pre>| 162       | 500            | 538        | 125                  | 1.19s            |</pre>"
      ],
      "text/plain": [
       "| 162       | 500            | 538        | 125                  | 1.19s            |"
      ]
     },
     "metadata": {},
     "output_type": "display_data"
    },
    {
     "data": {
      "text/html": [
       "<pre>| 163       | 500            | 535        | 125                  | 1.19s            |</pre>"
      ],
      "text/plain": [
       "| 163       | 500            | 535        | 125                  | 1.19s            |"
      ]
     },
     "metadata": {},
     "output_type": "display_data"
    },
    {
     "data": {
      "text/html": [
       "<pre>| 164       | 500            | 535        | 125                  | 1.19s            |</pre>"
      ],
      "text/plain": [
       "| 164       | 500            | 535        | 125                  | 1.19s            |"
      ]
     },
     "metadata": {},
     "output_type": "display_data"
    },
    {
     "data": {
      "text/html": [
       "<pre>| 165       | 500            | 534        | 125                  | 1.20s            |</pre>"
      ],
      "text/plain": [
       "| 165       | 500            | 534        | 125                  | 1.20s            |"
      ]
     },
     "metadata": {},
     "output_type": "display_data"
    },
    {
     "data": {
      "text/html": [
       "<pre>| 166       | 500            | 533        | 125                  | 1.20s            |</pre>"
      ],
      "text/plain": [
       "| 166       | 500            | 533        | 125                  | 1.20s            |"
      ]
     },
     "metadata": {},
     "output_type": "display_data"
    },
    {
     "data": {
      "text/html": [
       "<pre>| 167       | 500            | 531        | 125                  | 1.20s            |</pre>"
      ],
      "text/plain": [
       "| 167       | 500            | 531        | 125                  | 1.20s            |"
      ]
     },
     "metadata": {},
     "output_type": "display_data"
    },
    {
     "data": {
      "text/html": [
       "<pre>| 168       | 500            | 530        | 125                  | 1.20s            |</pre>"
      ],
      "text/plain": [
       "| 168       | 500            | 530        | 125                  | 1.20s            |"
      ]
     },
     "metadata": {},
     "output_type": "display_data"
    },
    {
     "data": {
      "text/html": [
       "<pre>| 169       | 500            | 527        | 126                  | 1.22s            |</pre>"
      ],
      "text/plain": [
       "| 169       | 500            | 527        | 126                  | 1.22s            |"
      ]
     },
     "metadata": {},
     "output_type": "display_data"
    },
    {
     "data": {
      "text/html": [
       "<pre>| 170       | 500            | 527        | 126                  | 1.23s            |</pre>"
      ],
      "text/plain": [
       "| 170       | 500            | 527        | 126                  | 1.23s            |"
      ]
     },
     "metadata": {},
     "output_type": "display_data"
    },
    {
     "data": {
      "text/html": [
       "<pre>| 171       | 500            | 527        | 126                  | 1.23s            |</pre>"
      ],
      "text/plain": [
       "| 171       | 500            | 527        | 126                  | 1.23s            |"
      ]
     },
     "metadata": {},
     "output_type": "display_data"
    },
    {
     "data": {
      "text/html": [
       "<pre>| 172       | 500            | 524        | 126                  | 1.23s            |</pre>"
      ],
      "text/plain": [
       "| 172       | 500            | 524        | 126                  | 1.23s            |"
      ]
     },
     "metadata": {},
     "output_type": "display_data"
    },
    {
     "data": {
      "text/html": [
       "<pre>| 173       | 500            | 523        | 126                  | 1.23s            |</pre>"
      ],
      "text/plain": [
       "| 173       | 500            | 523        | 126                  | 1.23s            |"
      ]
     },
     "metadata": {},
     "output_type": "display_data"
    },
    {
     "data": {
      "text/html": [
       "<pre>| 174       | 500            | 522        | 128                  | 1.24s            |</pre>"
      ],
      "text/plain": [
       "| 174       | 500            | 522        | 128                  | 1.24s            |"
      ]
     },
     "metadata": {},
     "output_type": "display_data"
    },
    {
     "data": {
      "text/html": [
       "<pre>| 175       | 500            | 520        | 128                  | 1.24s            |</pre>"
      ],
      "text/plain": [
       "| 175       | 500            | 520        | 128                  | 1.24s            |"
      ]
     },
     "metadata": {},
     "output_type": "display_data"
    },
    {
     "data": {
      "text/html": [
       "<pre>| 176       | 500            | 519        | 128                  | 1.25s            |</pre>"
      ],
      "text/plain": [
       "| 176       | 500            | 519        | 128                  | 1.25s            |"
      ]
     },
     "metadata": {},
     "output_type": "display_data"
    },
    {
     "data": {
      "text/html": [
       "<pre>| 177       | 500            | 518        | 128                  | 1.25s            |</pre>"
      ],
      "text/plain": [
       "| 177       | 500            | 518        | 128                  | 1.25s            |"
      ]
     },
     "metadata": {},
     "output_type": "display_data"
    },
    {
     "data": {
      "text/html": [
       "<pre>| 178       | 500            | 518        | 128                  | 1.25s            |</pre>"
      ],
      "text/plain": [
       "| 178       | 500            | 518        | 128                  | 1.25s            |"
      ]
     },
     "metadata": {},
     "output_type": "display_data"
    },
    {
     "data": {
      "text/html": [
       "<pre>| 179       | 500            | 515        | 128                  | 1.25s            |</pre>"
      ],
      "text/plain": [
       "| 179       | 500            | 515        | 128                  | 1.25s            |"
      ]
     },
     "metadata": {},
     "output_type": "display_data"
    },
    {
     "data": {
      "text/html": [
       "<pre>| 180       | 500            | 514        | 128                  | 1.26s            |</pre>"
      ],
      "text/plain": [
       "| 180       | 500            | 514        | 128                  | 1.26s            |"
      ]
     },
     "metadata": {},
     "output_type": "display_data"
    },
    {
     "data": {
      "text/html": [
       "<pre>| 181       | 500            | 513        | 128                  | 1.26s            |</pre>"
      ],
      "text/plain": [
       "| 181       | 500            | 513        | 128                  | 1.26s            |"
      ]
     },
     "metadata": {},
     "output_type": "display_data"
    },
    {
     "data": {
      "text/html": [
       "<pre>| 182       | 500            | 512        | 128                  | 1.26s            |</pre>"
      ],
      "text/plain": [
       "| 182       | 500            | 512        | 128                  | 1.26s            |"
      ]
     },
     "metadata": {},
     "output_type": "display_data"
    },
    {
     "data": {
      "text/html": [
       "<pre>| 183       | 500            | 510        | 128                  | 1.26s            |</pre>"
      ],
      "text/plain": [
       "| 183       | 500            | 510        | 128                  | 1.26s            |"
      ]
     },
     "metadata": {},
     "output_type": "display_data"
    },
    {
     "data": {
      "text/html": [
       "<pre>| 184       | 500            | 509        | 128                  | 1.27s            |</pre>"
      ],
      "text/plain": [
       "| 184       | 500            | 509        | 128                  | 1.27s            |"
      ]
     },
     "metadata": {},
     "output_type": "display_data"
    },
    {
     "data": {
      "text/html": [
       "<pre>| 185       | 500            | 509        | 128                  | 1.27s            |</pre>"
      ],
      "text/plain": [
       "| 185       | 500            | 509        | 128                  | 1.27s            |"
      ]
     },
     "metadata": {},
     "output_type": "display_data"
    },
    {
     "data": {
      "text/html": [
       "<pre>| 186       | 500            | 507        | 128                  | 1.27s            |</pre>"
      ],
      "text/plain": [
       "| 186       | 500            | 507        | 128                  | 1.27s            |"
      ]
     },
     "metadata": {},
     "output_type": "display_data"
    },
    {
     "data": {
      "text/html": [
       "<pre>| 187       | 500            | 504        | 128                  | 1.27s            |</pre>"
      ],
      "text/plain": [
       "| 187       | 500            | 504        | 128                  | 1.27s            |"
      ]
     },
     "metadata": {},
     "output_type": "display_data"
    },
    {
     "data": {
      "text/html": [
       "<pre>| 188       | 500            | 502        | 128                  | 1.27s            |</pre>"
      ],
      "text/plain": [
       "| 188       | 500            | 502        | 128                  | 1.27s            |"
      ]
     },
     "metadata": {},
     "output_type": "display_data"
    },
    {
     "data": {
      "text/html": [
       "<pre>| 189       | 500            | 499        | 128                  | 1.28s            |</pre>"
      ],
      "text/plain": [
       "| 189       | 500            | 499        | 128                  | 1.28s            |"
      ]
     },
     "metadata": {},
     "output_type": "display_data"
    },
    {
     "data": {
      "text/html": [
       "<pre>| 190       | 500            | 496        | 128                  | 1.28s            |</pre>"
      ],
      "text/plain": [
       "| 190       | 500            | 496        | 128                  | 1.28s            |"
      ]
     },
     "metadata": {},
     "output_type": "display_data"
    },
    {
     "data": {
      "text/html": [
       "<pre>| 191       | 500            | 495        | 128                  | 1.28s            |</pre>"
      ],
      "text/plain": [
       "| 191       | 500            | 495        | 128                  | 1.28s            |"
      ]
     },
     "metadata": {},
     "output_type": "display_data"
    },
    {
     "data": {
      "text/html": [
       "<pre>| 192       | 500            | 493        | 128                  | 1.28s            |</pre>"
      ],
      "text/plain": [
       "| 192       | 500            | 493        | 128                  | 1.28s            |"
      ]
     },
     "metadata": {},
     "output_type": "display_data"
    },
    {
     "data": {
      "text/html": [
       "<pre>| 193       | 500            | 492        | 128                  | 1.28s            |</pre>"
      ],
      "text/plain": [
       "| 193       | 500            | 492        | 128                  | 1.28s            |"
      ]
     },
     "metadata": {},
     "output_type": "display_data"
    },
    {
     "data": {
      "text/html": [
       "<pre>| 194       | 500            | 490        | 128                  | 1.29s            |</pre>"
      ],
      "text/plain": [
       "| 194       | 500            | 490        | 128                  | 1.29s            |"
      ]
     },
     "metadata": {},
     "output_type": "display_data"
    },
    {
     "data": {
      "text/html": [
       "<pre>| 195       | 500            | 485        | 128                  | 1.29s            |</pre>"
      ],
      "text/plain": [
       "| 195       | 500            | 485        | 128                  | 1.29s            |"
      ]
     },
     "metadata": {},
     "output_type": "display_data"
    },
    {
     "data": {
      "text/html": [
       "<pre>| 196       | 500            | 484        | 128                  | 1.29s            |</pre>"
      ],
      "text/plain": [
       "| 196       | 500            | 484        | 128                  | 1.29s            |"
      ]
     },
     "metadata": {},
     "output_type": "display_data"
    },
    {
     "data": {
      "text/html": [
       "<pre>| 197       | 500            | 482        | 128                  | 1.29s            |</pre>"
      ],
      "text/plain": [
       "| 197       | 500            | 482        | 128                  | 1.29s            |"
      ]
     },
     "metadata": {},
     "output_type": "display_data"
    },
    {
     "data": {
      "text/html": [
       "<pre>| 198       | 500            | 481        | 128                  | 1.30s            |</pre>"
      ],
      "text/plain": [
       "| 198       | 500            | 481        | 128                  | 1.30s            |"
      ]
     },
     "metadata": {},
     "output_type": "display_data"
    },
    {
     "data": {
      "text/html": [
       "<pre>| 199       | 500            | 480        | 128                  | 1.30s            |</pre>"
      ],
      "text/plain": [
       "| 199       | 500            | 480        | 128                  | 1.30s            |"
      ]
     },
     "metadata": {},
     "output_type": "display_data"
    },
    {
     "data": {
      "text/html": [
       "<pre>| 200       | 500            | 479        | 128                  | 1.30s            |</pre>"
      ],
      "text/plain": [
       "| 200       | 500            | 479        | 128                  | 1.30s            |"
      ]
     },
     "metadata": {},
     "output_type": "display_data"
    },
    {
     "data": {
      "text/html": [
       "<pre>| 201       | 500            | 478        | 128                  | 1.30s            |</pre>"
      ],
      "text/plain": [
       "| 201       | 500            | 478        | 128                  | 1.30s            |"
      ]
     },
     "metadata": {},
     "output_type": "display_data"
    },
    {
     "data": {
      "text/html": [
       "<pre>| 202       | 500            | 477        | 128                  | 1.30s            |</pre>"
      ],
      "text/plain": [
       "| 202       | 500            | 477        | 128                  | 1.30s            |"
      ]
     },
     "metadata": {},
     "output_type": "display_data"
    },
    {
     "data": {
      "text/html": [
       "<pre>| 203       | 500            | 476        | 128                  | 1.31s            |</pre>"
      ],
      "text/plain": [
       "| 203       | 500            | 476        | 128                  | 1.31s            |"
      ]
     },
     "metadata": {},
     "output_type": "display_data"
    },
    {
     "data": {
      "text/html": [
       "<pre>| 204       | 500            | 476        | 128                  | 1.31s            |</pre>"
      ],
      "text/plain": [
       "| 204       | 500            | 476        | 128                  | 1.31s            |"
      ]
     },
     "metadata": {},
     "output_type": "display_data"
    },
    {
     "data": {
      "text/html": [
       "<pre>| 205       | 500            | 476        | 128                  | 1.31s            |</pre>"
      ],
      "text/plain": [
       "| 205       | 500            | 476        | 128                  | 1.31s            |"
      ]
     },
     "metadata": {},
     "output_type": "display_data"
    },
    {
     "data": {
      "text/html": [
       "<pre>| 206       | 500            | 475        | 128                  | 1.31s            |</pre>"
      ],
      "text/plain": [
       "| 206       | 500            | 475        | 128                  | 1.31s            |"
      ]
     },
     "metadata": {},
     "output_type": "display_data"
    },
    {
     "data": {
      "text/html": [
       "<pre>| 207       | 500            | 475        | 128                  | 1.31s            |</pre>"
      ],
      "text/plain": [
       "| 207       | 500            | 475        | 128                  | 1.31s            |"
      ]
     },
     "metadata": {},
     "output_type": "display_data"
    },
    {
     "data": {
      "text/html": [
       "<pre>| 208       | 500            | 472        | 128                  | 1.31s            |</pre>"
      ],
      "text/plain": [
       "| 208       | 500            | 472        | 128                  | 1.31s            |"
      ]
     },
     "metadata": {},
     "output_type": "display_data"
    },
    {
     "data": {
      "text/html": [
       "<pre>| 209       | 500            | 470        | 128                  | 1.32s            |</pre>"
      ],
      "text/plain": [
       "| 209       | 500            | 470        | 128                  | 1.32s            |"
      ]
     },
     "metadata": {},
     "output_type": "display_data"
    },
    {
     "data": {
      "text/html": [
       "<pre>| 210       | 500            | 470        | 128                  | 1.32s            |</pre>"
      ],
      "text/plain": [
       "| 210       | 500            | 470        | 128                  | 1.32s            |"
      ]
     },
     "metadata": {},
     "output_type": "display_data"
    },
    {
     "data": {
      "text/html": [
       "<pre>| 211       | 500            | 469        | 128                  | 1.32s            |</pre>"
      ],
      "text/plain": [
       "| 211       | 500            | 469        | 128                  | 1.32s            |"
      ]
     },
     "metadata": {},
     "output_type": "display_data"
    },
    {
     "data": {
      "text/html": [
       "<pre>| 212       | 500            | 468        | 128                  | 1.32s            |</pre>"
      ],
      "text/plain": [
       "| 212       | 500            | 468        | 128                  | 1.32s            |"
      ]
     },
     "metadata": {},
     "output_type": "display_data"
    },
    {
     "data": {
      "text/html": [
       "<pre>| 213       | 500            | 468        | 128                  | 1.33s            |</pre>"
      ],
      "text/plain": [
       "| 213       | 500            | 468        | 128                  | 1.33s            |"
      ]
     },
     "metadata": {},
     "output_type": "display_data"
    },
    {
     "data": {
      "text/html": [
       "<pre>| 214       | 500            | 468        | 128                  | 1.33s            |</pre>"
      ],
      "text/plain": [
       "| 214       | 500            | 468        | 128                  | 1.33s            |"
      ]
     },
     "metadata": {},
     "output_type": "display_data"
    },
    {
     "data": {
      "text/html": [
       "<pre>| 215       | 500            | 467        | 128                  | 1.33s            |</pre>"
      ],
      "text/plain": [
       "| 215       | 500            | 467        | 128                  | 1.33s            |"
      ]
     },
     "metadata": {},
     "output_type": "display_data"
    },
    {
     "data": {
      "text/html": [
       "<pre>| 216       | 500            | 467        | 128                  | 1.33s            |</pre>"
      ],
      "text/plain": [
       "| 216       | 500            | 467        | 128                  | 1.33s            |"
      ]
     },
     "metadata": {},
     "output_type": "display_data"
    },
    {
     "data": {
      "text/html": [
       "<pre>| 217       | 500            | 465        | 128                  | 1.33s            |</pre>"
      ],
      "text/plain": [
       "| 217       | 500            | 465        | 128                  | 1.33s            |"
      ]
     },
     "metadata": {},
     "output_type": "display_data"
    },
    {
     "data": {
      "text/html": [
       "<pre>| 218       | 500            | 464        | 128                  | 1.34s            |</pre>"
      ],
      "text/plain": [
       "| 218       | 500            | 464        | 128                  | 1.34s            |"
      ]
     },
     "metadata": {},
     "output_type": "display_data"
    },
    {
     "data": {
      "text/html": [
       "<pre>| 219       | 500            | 462        | 128                  | 1.34s            |</pre>"
      ],
      "text/plain": [
       "| 219       | 500            | 462        | 128                  | 1.34s            |"
      ]
     },
     "metadata": {},
     "output_type": "display_data"
    },
    {
     "data": {
      "text/html": [
       "<pre>| 220       | 500            | 460        | 128                  | 1.34s            |</pre>"
      ],
      "text/plain": [
       "| 220       | 500            | 460        | 128                  | 1.34s            |"
      ]
     },
     "metadata": {},
     "output_type": "display_data"
    },
    {
     "data": {
      "text/html": [
       "<pre>| 221       | 500            | 459        | 128                  | 1.34s            |</pre>"
      ],
      "text/plain": [
       "| 221       | 500            | 459        | 128                  | 1.34s            |"
      ]
     },
     "metadata": {},
     "output_type": "display_data"
    },
    {
     "data": {
      "text/html": [
       "<pre>| 222       | 500            | 459        | 128                  | 1.34s            |</pre>"
      ],
      "text/plain": [
       "| 222       | 500            | 459        | 128                  | 1.34s            |"
      ]
     },
     "metadata": {},
     "output_type": "display_data"
    },
    {
     "data": {
      "text/html": [
       "<pre>| 223       | 500            | 457        | 128                  | 1.34s            |</pre>"
      ],
      "text/plain": [
       "| 223       | 500            | 457        | 128                  | 1.34s            |"
      ]
     },
     "metadata": {},
     "output_type": "display_data"
    },
    {
     "data": {
      "text/html": [
       "<pre>| 224       | 500            | 456        | 128                  | 1.35s            |</pre>"
      ],
      "text/plain": [
       "| 224       | 500            | 456        | 128                  | 1.35s            |"
      ]
     },
     "metadata": {},
     "output_type": "display_data"
    },
    {
     "data": {
      "text/html": [
       "<pre>| 225       | 500            | 454        | 128                  | 1.35s            |</pre>"
      ],
      "text/plain": [
       "| 225       | 500            | 454        | 128                  | 1.35s            |"
      ]
     },
     "metadata": {},
     "output_type": "display_data"
    },
    {
     "data": {
      "text/html": [
       "<pre>| 226       | 500            | 453        | 128                  | 1.35s            |</pre>"
      ],
      "text/plain": [
       "| 226       | 500            | 453        | 128                  | 1.35s            |"
      ]
     },
     "metadata": {},
     "output_type": "display_data"
    },
    {
     "data": {
      "text/html": [
       "<pre>| 227       | 500            | 451        | 128                  | 1.35s            |</pre>"
      ],
      "text/plain": [
       "| 227       | 500            | 451        | 128                  | 1.35s            |"
      ]
     },
     "metadata": {},
     "output_type": "display_data"
    },
    {
     "data": {
      "text/html": [
       "<pre>| 228       | 500            | 451        | 128                  | 1.35s            |</pre>"
      ],
      "text/plain": [
       "| 228       | 500            | 451        | 128                  | 1.35s            |"
      ]
     },
     "metadata": {},
     "output_type": "display_data"
    },
    {
     "data": {
      "text/html": [
       "<pre>| 229       | 500            | 450        | 128                  | 1.36s            |</pre>"
      ],
      "text/plain": [
       "| 229       | 500            | 450        | 128                  | 1.36s            |"
      ]
     },
     "metadata": {},
     "output_type": "display_data"
    },
    {
     "data": {
      "text/html": [
       "<pre>| 230       | 500            | 450        | 128                  | 1.36s            |</pre>"
      ],
      "text/plain": [
       "| 230       | 500            | 450        | 128                  | 1.36s            |"
      ]
     },
     "metadata": {},
     "output_type": "display_data"
    },
    {
     "data": {
      "text/html": [
       "<pre>| 231       | 500            | 449        | 128                  | 1.36s            |</pre>"
      ],
      "text/plain": [
       "| 231       | 500            | 449        | 128                  | 1.36s            |"
      ]
     },
     "metadata": {},
     "output_type": "display_data"
    },
    {
     "data": {
      "text/html": [
       "<pre>| 232       | 500            | 449        | 128                  | 1.36s            |</pre>"
      ],
      "text/plain": [
       "| 232       | 500            | 449        | 128                  | 1.36s            |"
      ]
     },
     "metadata": {},
     "output_type": "display_data"
    },
    {
     "data": {
      "text/html": [
       "<pre>| 233       | 500            | 449        | 128                  | 1.37s            |</pre>"
      ],
      "text/plain": [
       "| 233       | 500            | 449        | 128                  | 1.37s            |"
      ]
     },
     "metadata": {},
     "output_type": "display_data"
    },
    {
     "data": {
      "text/html": [
       "<pre>| 234       | 500            | 448        | 128                  | 1.37s            |</pre>"
      ],
      "text/plain": [
       "| 234       | 500            | 448        | 128                  | 1.37s            |"
      ]
     },
     "metadata": {},
     "output_type": "display_data"
    },
    {
     "data": {
      "text/html": [
       "<pre>| 235       | 500            | 448        | 128                  | 1.37s            |</pre>"
      ],
      "text/plain": [
       "| 235       | 500            | 448        | 128                  | 1.37s            |"
      ]
     },
     "metadata": {},
     "output_type": "display_data"
    },
    {
     "data": {
      "text/html": [
       "<pre>| 236       | 500            | 447        | 128                  | 1.37s            |</pre>"
      ],
      "text/plain": [
       "| 236       | 500            | 447        | 128                  | 1.37s            |"
      ]
     },
     "metadata": {},
     "output_type": "display_data"
    },
    {
     "data": {
      "text/html": [
       "<pre>| 237       | 500            | 447        | 128                  | 1.37s            |</pre>"
      ],
      "text/plain": [
       "| 237       | 500            | 447        | 128                  | 1.37s            |"
      ]
     },
     "metadata": {},
     "output_type": "display_data"
    },
    {
     "data": {
      "text/html": [
       "<pre>| 238       | 500            | 447        | 128                  | 1.38s            |</pre>"
      ],
      "text/plain": [
       "| 238       | 500            | 447        | 128                  | 1.38s            |"
      ]
     },
     "metadata": {},
     "output_type": "display_data"
    },
    {
     "data": {
      "text/html": [
       "<pre>| 239       | 500            | 446        | 128                  | 1.38s            |</pre>"
      ],
      "text/plain": [
       "| 239       | 500            | 446        | 128                  | 1.38s            |"
      ]
     },
     "metadata": {},
     "output_type": "display_data"
    },
    {
     "data": {
      "text/html": [
       "<pre>| 240       | 500            | 445        | 128                  | 1.38s            |</pre>"
      ],
      "text/plain": [
       "| 240       | 500            | 445        | 128                  | 1.38s            |"
      ]
     },
     "metadata": {},
     "output_type": "display_data"
    },
    {
     "data": {
      "text/html": [
       "<pre>| 241       | 500            | 445        | 128                  | 1.38s            |</pre>"
      ],
      "text/plain": [
       "| 241       | 500            | 445        | 128                  | 1.38s            |"
      ]
     },
     "metadata": {},
     "output_type": "display_data"
    },
    {
     "data": {
      "text/html": [
       "<pre>| 242       | 500            | 445        | 128                  | 1.38s            |</pre>"
      ],
      "text/plain": [
       "| 242       | 500            | 445        | 128                  | 1.38s            |"
      ]
     },
     "metadata": {},
     "output_type": "display_data"
    },
    {
     "data": {
      "text/html": [
       "<pre>| 243       | 500            | 445        | 128                  | 1.39s            |</pre>"
      ],
      "text/plain": [
       "| 243       | 500            | 445        | 128                  | 1.39s            |"
      ]
     },
     "metadata": {},
     "output_type": "display_data"
    },
    {
     "data": {
      "text/html": [
       "<pre>| 244       | 500            | 444        | 128                  | 1.39s            |</pre>"
      ],
      "text/plain": [
       "| 244       | 500            | 444        | 128                  | 1.39s            |"
      ]
     },
     "metadata": {},
     "output_type": "display_data"
    },
    {
     "data": {
      "text/html": [
       "<pre>| 245       | 500            | 443        | 128                  | 1.39s            |</pre>"
      ],
      "text/plain": [
       "| 245       | 500            | 443        | 128                  | 1.39s            |"
      ]
     },
     "metadata": {},
     "output_type": "display_data"
    },
    {
     "data": {
      "text/html": [
       "<pre>| 246       | 500            | 443        | 128                  | 1.40s            |</pre>"
      ],
      "text/plain": [
       "| 246       | 500            | 443        | 128                  | 1.40s            |"
      ]
     },
     "metadata": {},
     "output_type": "display_data"
    },
    {
     "data": {
      "text/html": [
       "<pre>| 247       | 500            | 441        | 128                  | 1.40s            |</pre>"
      ],
      "text/plain": [
       "| 247       | 500            | 441        | 128                  | 1.40s            |"
      ]
     },
     "metadata": {},
     "output_type": "display_data"
    },
    {
     "data": {
      "text/html": [
       "<pre>| 248       | 500            | 437        | 128                  | 1.40s            |</pre>"
      ],
      "text/plain": [
       "| 248       | 500            | 437        | 128                  | 1.40s            |"
      ]
     },
     "metadata": {},
     "output_type": "display_data"
    },
    {
     "data": {
      "text/html": [
       "<pre>| 249       | 500            | 437        | 128                  | 1.40s            |</pre>"
      ],
      "text/plain": [
       "| 249       | 500            | 437        | 128                  | 1.40s            |"
      ]
     },
     "metadata": {},
     "output_type": "display_data"
    },
    {
     "data": {
      "text/html": [
       "<pre>| 250       | 500            | 437        | 128                  | 1.40s            |</pre>"
      ],
      "text/plain": [
       "| 250       | 500            | 437        | 128                  | 1.40s            |"
      ]
     },
     "metadata": {},
     "output_type": "display_data"
    },
    {
     "data": {
      "text/html": [
       "<pre>| 251       | 500            | 436        | 128                  | 1.41s            |</pre>"
      ],
      "text/plain": [
       "| 251       | 500            | 436        | 128                  | 1.41s            |"
      ]
     },
     "metadata": {},
     "output_type": "display_data"
    },
    {
     "data": {
      "text/html": [
       "<pre>| 252       | 500            | 436        | 128                  | 1.41s            |</pre>"
      ],
      "text/plain": [
       "| 252       | 500            | 436        | 128                  | 1.41s            |"
      ]
     },
     "metadata": {},
     "output_type": "display_data"
    },
    {
     "data": {
      "text/html": [
       "<pre>| 253       | 500            | 436        | 128                  | 1.42s            |</pre>"
      ],
      "text/plain": [
       "| 253       | 500            | 436        | 128                  | 1.42s            |"
      ]
     },
     "metadata": {},
     "output_type": "display_data"
    },
    {
     "data": {
      "text/html": [
       "<pre>| 254       | 500            | 433        | 128                  | 1.42s            |</pre>"
      ],
      "text/plain": [
       "| 254       | 500            | 433        | 128                  | 1.42s            |"
      ]
     },
     "metadata": {},
     "output_type": "display_data"
    },
    {
     "data": {
      "text/html": [
       "<pre>| 255       | 500            | 433        | 128                  | 1.42s            |</pre>"
      ],
      "text/plain": [
       "| 255       | 500            | 433        | 128                  | 1.42s            |"
      ]
     },
     "metadata": {},
     "output_type": "display_data"
    },
    {
     "data": {
      "text/html": [
       "<pre>| 256       | 500            | 430        | 128                  | 1.42s            |</pre>"
      ],
      "text/plain": [
       "| 256       | 500            | 430        | 128                  | 1.42s            |"
      ]
     },
     "metadata": {},
     "output_type": "display_data"
    },
    {
     "data": {
      "text/html": [
       "<pre>| 257       | 500            | 429        | 128                  | 1.42s            |</pre>"
      ],
      "text/plain": [
       "| 257       | 500            | 429        | 128                  | 1.42s            |"
      ]
     },
     "metadata": {},
     "output_type": "display_data"
    },
    {
     "data": {
      "text/html": [
       "<pre>| 258       | 500            | 429        | 128                  | 1.42s            |</pre>"
      ],
      "text/plain": [
       "| 258       | 500            | 429        | 128                  | 1.42s            |"
      ]
     },
     "metadata": {},
     "output_type": "display_data"
    },
    {
     "data": {
      "text/html": [
       "<pre>| 259       | 500            | 428        | 128                  | 1.43s            |</pre>"
      ],
      "text/plain": [
       "| 259       | 500            | 428        | 128                  | 1.43s            |"
      ]
     },
     "metadata": {},
     "output_type": "display_data"
    },
    {
     "data": {
      "text/html": [
       "<pre>| 260       | 500            | 428        | 128                  | 1.43s            |</pre>"
      ],
      "text/plain": [
       "| 260       | 500            | 428        | 128                  | 1.43s            |"
      ]
     },
     "metadata": {},
     "output_type": "display_data"
    },
    {
     "data": {
      "text/html": [
       "<pre>| 261       | 500            | 427        | 128                  | 1.43s            |</pre>"
      ],
      "text/plain": [
       "| 261       | 500            | 427        | 128                  | 1.43s            |"
      ]
     },
     "metadata": {},
     "output_type": "display_data"
    },
    {
     "data": {
      "text/html": [
       "<pre>| 262       | 500            | 426        | 128                  | 1.43s            |</pre>"
      ],
      "text/plain": [
       "| 262       | 500            | 426        | 128                  | 1.43s            |"
      ]
     },
     "metadata": {},
     "output_type": "display_data"
    },
    {
     "data": {
      "text/html": [
       "<pre>| 263       | 500            | 425        | 128                  | 1.44s            |</pre>"
      ],
      "text/plain": [
       "| 263       | 500            | 425        | 128                  | 1.44s            |"
      ]
     },
     "metadata": {},
     "output_type": "display_data"
    },
    {
     "data": {
      "text/html": [
       "<pre>| 264       | 500            | 425        | 128                  | 1.44s            |</pre>"
      ],
      "text/plain": [
       "| 264       | 500            | 425        | 128                  | 1.44s            |"
      ]
     },
     "metadata": {},
     "output_type": "display_data"
    },
    {
     "data": {
      "text/html": [
       "<pre>| 265       | 500            | 423        | 128                  | 1.44s            |</pre>"
      ],
      "text/plain": [
       "| 265       | 500            | 423        | 128                  | 1.44s            |"
      ]
     },
     "metadata": {},
     "output_type": "display_data"
    },
    {
     "data": {
      "text/html": [
       "<pre>| 266       | 500            | 423        | 128                  | 1.45s            |</pre>"
      ],
      "text/plain": [
       "| 266       | 500            | 423        | 128                  | 1.45s            |"
      ]
     },
     "metadata": {},
     "output_type": "display_data"
    },
    {
     "data": {
      "text/html": [
       "<pre>| 267       | 500            | 422        | 128                  | 1.45s            |</pre>"
      ],
      "text/plain": [
       "| 267       | 500            | 422        | 128                  | 1.45s            |"
      ]
     },
     "metadata": {},
     "output_type": "display_data"
    },
    {
     "data": {
      "text/html": [
       "<pre>| 268       | 500            | 422        | 128                  | 1.45s            |</pre>"
      ],
      "text/plain": [
       "| 268       | 500            | 422        | 128                  | 1.45s            |"
      ]
     },
     "metadata": {},
     "output_type": "display_data"
    },
    {
     "data": {
      "text/html": [
       "<pre>| 269       | 500            | 418        | 128                  | 1.45s            |</pre>"
      ],
      "text/plain": [
       "| 269       | 500            | 418        | 128                  | 1.45s            |"
      ]
     },
     "metadata": {},
     "output_type": "display_data"
    },
    {
     "data": {
      "text/html": [
       "<pre>| 270       | 500            | 416        | 128                  | 1.45s            |</pre>"
      ],
      "text/plain": [
       "| 270       | 500            | 416        | 128                  | 1.45s            |"
      ]
     },
     "metadata": {},
     "output_type": "display_data"
    },
    {
     "data": {
      "text/html": [
       "<pre>| 271       | 500            | 416        | 128                  | 1.46s            |</pre>"
      ],
      "text/plain": [
       "| 271       | 500            | 416        | 128                  | 1.46s            |"
      ]
     },
     "metadata": {},
     "output_type": "display_data"
    },
    {
     "data": {
      "text/html": [
       "<pre>| 272       | 500            | 415        | 128                  | 1.46s            |</pre>"
      ],
      "text/plain": [
       "| 272       | 500            | 415        | 128                  | 1.46s            |"
      ]
     },
     "metadata": {},
     "output_type": "display_data"
    },
    {
     "data": {
      "text/html": [
       "<pre>| 273       | 500            | 415        | 128                  | 1.46s            |</pre>"
      ],
      "text/plain": [
       "| 273       | 500            | 415        | 128                  | 1.46s            |"
      ]
     },
     "metadata": {},
     "output_type": "display_data"
    },
    {
     "data": {
      "text/html": [
       "<pre>| 274       | 500            | 415        | 128                  | 1.46s            |</pre>"
      ],
      "text/plain": [
       "| 274       | 500            | 415        | 128                  | 1.46s            |"
      ]
     },
     "metadata": {},
     "output_type": "display_data"
    },
    {
     "data": {
      "text/html": [
       "<pre>| 275       | 500            | 415        | 128                  | 1.46s            |</pre>"
      ],
      "text/plain": [
       "| 275       | 500            | 415        | 128                  | 1.46s            |"
      ]
     },
     "metadata": {},
     "output_type": "display_data"
    },
    {
     "data": {
      "text/html": [
       "<pre>| 276       | 500            | 413        | 128                  | 1.47s            |</pre>"
      ],
      "text/plain": [
       "| 276       | 500            | 413        | 128                  | 1.47s            |"
      ]
     },
     "metadata": {},
     "output_type": "display_data"
    },
    {
     "data": {
      "text/html": [
       "<pre>| 277       | 500            | 413        | 128                  | 1.47s            |</pre>"
      ],
      "text/plain": [
       "| 277       | 500            | 413        | 128                  | 1.47s            |"
      ]
     },
     "metadata": {},
     "output_type": "display_data"
    },
    {
     "data": {
      "text/html": [
       "<pre>| 278       | 500            | 412        | 128                  | 1.47s            |</pre>"
      ],
      "text/plain": [
       "| 278       | 500            | 412        | 128                  | 1.47s            |"
      ]
     },
     "metadata": {},
     "output_type": "display_data"
    },
    {
     "data": {
      "text/html": [
       "<pre>| 279       | 500            | 412        | 128                  | 1.47s            |</pre>"
      ],
      "text/plain": [
       "| 279       | 500            | 412        | 128                  | 1.47s            |"
      ]
     },
     "metadata": {},
     "output_type": "display_data"
    },
    {
     "data": {
      "text/html": [
       "<pre>| 280       | 500            | 412        | 128                  | 1.47s            |</pre>"
      ],
      "text/plain": [
       "| 280       | 500            | 412        | 128                  | 1.47s            |"
      ]
     },
     "metadata": {},
     "output_type": "display_data"
    },
    {
     "data": {
      "text/html": [
       "<pre>| 281       | 500            | 412        | 128                  | 1.48s            |</pre>"
      ],
      "text/plain": [
       "| 281       | 500            | 412        | 128                  | 1.48s            |"
      ]
     },
     "metadata": {},
     "output_type": "display_data"
    },
    {
     "data": {
      "text/html": [
       "<pre>| 282       | 500            | 411        | 128                  | 1.48s            |</pre>"
      ],
      "text/plain": [
       "| 282       | 500            | 411        | 128                  | 1.48s            |"
      ]
     },
     "metadata": {},
     "output_type": "display_data"
    },
    {
     "data": {
      "text/html": [
       "<pre>| 283       | 500            | 411        | 128                  | 1.48s            |</pre>"
      ],
      "text/plain": [
       "| 283       | 500            | 411        | 128                  | 1.48s            |"
      ]
     },
     "metadata": {},
     "output_type": "display_data"
    },
    {
     "data": {
      "text/html": [
       "<pre>| 284       | 500            | 410        | 128                  | 1.49s            |</pre>"
      ],
      "text/plain": [
       "| 284       | 500            | 410        | 128                  | 1.49s            |"
      ]
     },
     "metadata": {},
     "output_type": "display_data"
    },
    {
     "data": {
      "text/html": [
       "<pre>| 285       | 500            | 409        | 128                  | 1.49s            |</pre>"
      ],
      "text/plain": [
       "| 285       | 500            | 409        | 128                  | 1.49s            |"
      ]
     },
     "metadata": {},
     "output_type": "display_data"
    },
    {
     "data": {
      "text/html": [
       "<pre>| 286       | 500            | 409        | 128                  | 1.49s            |</pre>"
      ],
      "text/plain": [
       "| 286       | 500            | 409        | 128                  | 1.49s            |"
      ]
     },
     "metadata": {},
     "output_type": "display_data"
    },
    {
     "data": {
      "text/html": [
       "<pre>| 287       | 500            | 408        | 128                  | 1.50s            |</pre>"
      ],
      "text/plain": [
       "| 287       | 500            | 408        | 128                  | 1.50s            |"
      ]
     },
     "metadata": {},
     "output_type": "display_data"
    },
    {
     "data": {
      "text/html": [
       "<pre>| 288       | 500            | 407        | 128                  | 1.50s            |</pre>"
      ],
      "text/plain": [
       "| 288       | 500            | 407        | 128                  | 1.50s            |"
      ]
     },
     "metadata": {},
     "output_type": "display_data"
    },
    {
     "data": {
      "text/html": [
       "<pre>| 289       | 500            | 407        | 128                  | 1.50s            |</pre>"
      ],
      "text/plain": [
       "| 289       | 500            | 407        | 128                  | 1.50s            |"
      ]
     },
     "metadata": {},
     "output_type": "display_data"
    },
    {
     "data": {
      "text/html": [
       "<pre>| 290       | 500            | 405        | 128                  | 1.50s            |</pre>"
      ],
      "text/plain": [
       "| 290       | 500            | 405        | 128                  | 1.50s            |"
      ]
     },
     "metadata": {},
     "output_type": "display_data"
    },
    {
     "data": {
      "text/html": [
       "<pre>| 291       | 500            | 405        | 128                  | 1.50s            |</pre>"
      ],
      "text/plain": [
       "| 291       | 500            | 405        | 128                  | 1.50s            |"
      ]
     },
     "metadata": {},
     "output_type": "display_data"
    },
    {
     "data": {
      "text/html": [
       "<pre>| 292       | 500            | 405        | 128                  | 1.51s            |</pre>"
      ],
      "text/plain": [
       "| 292       | 500            | 405        | 128                  | 1.51s            |"
      ]
     },
     "metadata": {},
     "output_type": "display_data"
    },
    {
     "data": {
      "text/html": [
       "<pre>| 293       | 500            | 403        | 128                  | 1.51s            |</pre>"
      ],
      "text/plain": [
       "| 293       | 500            | 403        | 128                  | 1.51s            |"
      ]
     },
     "metadata": {},
     "output_type": "display_data"
    },
    {
     "data": {
      "text/html": [
       "<pre>| 294       | 500            | 403        | 128                  | 1.51s            |</pre>"
      ],
      "text/plain": [
       "| 294       | 500            | 403        | 128                  | 1.51s            |"
      ]
     },
     "metadata": {},
     "output_type": "display_data"
    },
    {
     "data": {
      "text/html": [
       "<pre>| 295       | 500            | 402        | 128                  | 1.51s            |</pre>"
      ],
      "text/plain": [
       "| 295       | 500            | 402        | 128                  | 1.51s            |"
      ]
     },
     "metadata": {},
     "output_type": "display_data"
    },
    {
     "data": {
      "text/html": [
       "<pre>| 296       | 500            | 402        | 128                  | 1.51s            |</pre>"
      ],
      "text/plain": [
       "| 296       | 500            | 402        | 128                  | 1.51s            |"
      ]
     },
     "metadata": {},
     "output_type": "display_data"
    },
    {
     "data": {
      "text/html": [
       "<pre>| 297       | 500            | 401        | 128                  | 1.51s            |</pre>"
      ],
      "text/plain": [
       "| 297       | 500            | 401        | 128                  | 1.51s            |"
      ]
     },
     "metadata": {},
     "output_type": "display_data"
    },
    {
     "data": {
      "text/html": [
       "<pre>| 298       | 500            | 399        | 128                  | 1.52s            |</pre>"
      ],
      "text/plain": [
       "| 298       | 500            | 399        | 128                  | 1.52s            |"
      ]
     },
     "metadata": {},
     "output_type": "display_data"
    },
    {
     "data": {
      "text/html": [
       "<pre>| 299       | 500            | 398        | 128                  | 1.52s            |</pre>"
      ],
      "text/plain": [
       "| 299       | 500            | 398        | 128                  | 1.52s            |"
      ]
     },
     "metadata": {},
     "output_type": "display_data"
    },
    {
     "data": {
      "text/html": [
       "<pre>| 300       | 500            | 398        | 128                  | 1.52s            |</pre>"
      ],
      "text/plain": [
       "| 300       | 500            | 398        | 128                  | 1.52s            |"
      ]
     },
     "metadata": {},
     "output_type": "display_data"
    },
    {
     "data": {
      "text/html": [
       "<pre>| 301       | 500            | 397        | 128                  | 1.52s            |</pre>"
      ],
      "text/plain": [
       "| 301       | 500            | 397        | 128                  | 1.52s            |"
      ]
     },
     "metadata": {},
     "output_type": "display_data"
    },
    {
     "data": {
      "text/html": [
       "<pre>| 302       | 500            | 397        | 128                  | 1.52s            |</pre>"
      ],
      "text/plain": [
       "| 302       | 500            | 397        | 128                  | 1.52s            |"
      ]
     },
     "metadata": {},
     "output_type": "display_data"
    },
    {
     "data": {
      "text/html": [
       "<pre>| 303       | 500            | 395        | 128                  | 1.53s            |</pre>"
      ],
      "text/plain": [
       "| 303       | 500            | 395        | 128                  | 1.53s            |"
      ]
     },
     "metadata": {},
     "output_type": "display_data"
    },
    {
     "data": {
      "text/html": [
       "<pre>| 304       | 500            | 395        | 128                  | 1.53s            |</pre>"
      ],
      "text/plain": [
       "| 304       | 500            | 395        | 128                  | 1.53s            |"
      ]
     },
     "metadata": {},
     "output_type": "display_data"
    },
    {
     "data": {
      "text/html": [
       "<pre>| 305       | 500            | 394        | 128                  | 1.53s            |</pre>"
      ],
      "text/plain": [
       "| 305       | 500            | 394        | 128                  | 1.53s            |"
      ]
     },
     "metadata": {},
     "output_type": "display_data"
    },
    {
     "data": {
      "text/html": [
       "<pre>| 306       | 500            | 394        | 128                  | 1.53s            |</pre>"
      ],
      "text/plain": [
       "| 306       | 500            | 394        | 128                  | 1.53s            |"
      ]
     },
     "metadata": {},
     "output_type": "display_data"
    },
    {
     "data": {
      "text/html": [
       "<pre>| 307       | 500            | 393        | 128                  | 1.53s            |</pre>"
      ],
      "text/plain": [
       "| 307       | 500            | 393        | 128                  | 1.53s            |"
      ]
     },
     "metadata": {},
     "output_type": "display_data"
    },
    {
     "data": {
      "text/html": [
       "<pre>| 308       | 500            | 392        | 128                  | 1.54s            |</pre>"
      ],
      "text/plain": [
       "| 308       | 500            | 392        | 128                  | 1.54s            |"
      ]
     },
     "metadata": {},
     "output_type": "display_data"
    },
    {
     "data": {
      "text/html": [
       "<pre>| 309       | 500            | 390        | 128                  | 1.54s            |</pre>"
      ],
      "text/plain": [
       "| 309       | 500            | 390        | 128                  | 1.54s            |"
      ]
     },
     "metadata": {},
     "output_type": "display_data"
    },
    {
     "data": {
      "text/html": [
       "<pre>| 310       | 500            | 389        | 128                  | 1.54s            |</pre>"
      ],
      "text/plain": [
       "| 310       | 500            | 389        | 128                  | 1.54s            |"
      ]
     },
     "metadata": {},
     "output_type": "display_data"
    },
    {
     "data": {
      "text/html": [
       "<pre>| 311       | 500            | 388        | 128                  | 1.54s            |</pre>"
      ],
      "text/plain": [
       "| 311       | 500            | 388        | 128                  | 1.54s            |"
      ]
     },
     "metadata": {},
     "output_type": "display_data"
    },
    {
     "data": {
      "text/html": [
       "<pre>| 312       | 500            | 387        | 128                  | 1.54s            |</pre>"
      ],
      "text/plain": [
       "| 312       | 500            | 387        | 128                  | 1.54s            |"
      ]
     },
     "metadata": {},
     "output_type": "display_data"
    },
    {
     "data": {
      "text/html": [
       "<pre>| 313       | 500            | 386        | 128                  | 1.54s            |</pre>"
      ],
      "text/plain": [
       "| 313       | 500            | 386        | 128                  | 1.54s            |"
      ]
     },
     "metadata": {},
     "output_type": "display_data"
    },
    {
     "data": {
      "text/html": [
       "<pre>| 314       | 500            | 385        | 128                  | 1.55s            |</pre>"
      ],
      "text/plain": [
       "| 314       | 500            | 385        | 128                  | 1.55s            |"
      ]
     },
     "metadata": {},
     "output_type": "display_data"
    },
    {
     "data": {
      "text/html": [
       "<pre>| 315       | 500            | 383        | 128                  | 1.55s            |</pre>"
      ],
      "text/plain": [
       "| 315       | 500            | 383        | 128                  | 1.55s            |"
      ]
     },
     "metadata": {},
     "output_type": "display_data"
    },
    {
     "data": {
      "text/html": [
       "<pre>| 316       | 500            | 383        | 128                  | 1.55s            |</pre>"
      ],
      "text/plain": [
       "| 316       | 500            | 383        | 128                  | 1.55s            |"
      ]
     },
     "metadata": {},
     "output_type": "display_data"
    },
    {
     "data": {
      "text/html": [
       "<pre>| 317       | 500            | 382        | 128                  | 1.55s            |</pre>"
      ],
      "text/plain": [
       "| 317       | 500            | 382        | 128                  | 1.55s            |"
      ]
     },
     "metadata": {},
     "output_type": "display_data"
    },
    {
     "data": {
      "text/html": [
       "<pre>| 318       | 500            | 382        | 128                  | 1.55s            |</pre>"
      ],
      "text/plain": [
       "| 318       | 500            | 382        | 128                  | 1.55s            |"
      ]
     },
     "metadata": {},
     "output_type": "display_data"
    },
    {
     "data": {
      "text/html": [
       "<pre>| 319       | 500            | 381        | 128                  | 1.55s            |</pre>"
      ],
      "text/plain": [
       "| 319       | 500            | 381        | 128                  | 1.55s            |"
      ]
     },
     "metadata": {},
     "output_type": "display_data"
    },
    {
     "data": {
      "text/html": [
       "<pre>| 320       | 500            | 381        | 129                  | 1.56s            |</pre>"
      ],
      "text/plain": [
       "| 320       | 500            | 381        | 129                  | 1.56s            |"
      ]
     },
     "metadata": {},
     "output_type": "display_data"
    },
    {
     "data": {
      "text/html": [
       "<pre>| 321       | 500            | 380        | 129                  | 1.56s            |</pre>"
      ],
      "text/plain": [
       "| 321       | 500            | 380        | 129                  | 1.56s            |"
      ]
     },
     "metadata": {},
     "output_type": "display_data"
    },
    {
     "data": {
      "text/html": [
       "<pre>| 322       | 500            | 380        | 129                  | 1.56s            |</pre>"
      ],
      "text/plain": [
       "| 322       | 500            | 380        | 129                  | 1.56s            |"
      ]
     },
     "metadata": {},
     "output_type": "display_data"
    },
    {
     "data": {
      "text/html": [
       "<pre>| 323       | 500            | 380        | 129                  | 1.56s            |</pre>"
      ],
      "text/plain": [
       "| 323       | 500            | 380        | 129                  | 1.56s            |"
      ]
     },
     "metadata": {},
     "output_type": "display_data"
    },
    {
     "data": {
      "text/html": [
       "<pre>| 324       | 500            | 379        | 129                  | 1.56s            |</pre>"
      ],
      "text/plain": [
       "| 324       | 500            | 379        | 129                  | 1.56s            |"
      ]
     },
     "metadata": {},
     "output_type": "display_data"
    },
    {
     "data": {
      "text/html": [
       "<pre>| 325       | 500            | 378        | 129                  | 1.57s            |</pre>"
      ],
      "text/plain": [
       "| 325       | 500            | 378        | 129                  | 1.57s            |"
      ]
     },
     "metadata": {},
     "output_type": "display_data"
    },
    {
     "data": {
      "text/html": [
       "<pre>| 326       | 500            | 378        | 129                  | 1.57s            |</pre>"
      ],
      "text/plain": [
       "| 326       | 500            | 378        | 129                  | 1.57s            |"
      ]
     },
     "metadata": {},
     "output_type": "display_data"
    },
    {
     "data": {
      "text/html": [
       "<pre>| 327       | 500            | 378        | 129                  | 1.57s            |</pre>"
      ],
      "text/plain": [
       "| 327       | 500            | 378        | 129                  | 1.57s            |"
      ]
     },
     "metadata": {},
     "output_type": "display_data"
    },
    {
     "data": {
      "text/html": [
       "<pre>| 328       | 500            | 377        | 129                  | 1.57s            |</pre>"
      ],
      "text/plain": [
       "| 328       | 500            | 377        | 129                  | 1.57s            |"
      ]
     },
     "metadata": {},
     "output_type": "display_data"
    },
    {
     "data": {
      "text/html": [
       "<pre>| 329       | 500            | 377        | 129                  | 1.57s            |</pre>"
      ],
      "text/plain": [
       "| 329       | 500            | 377        | 129                  | 1.57s            |"
      ]
     },
     "metadata": {},
     "output_type": "display_data"
    },
    {
     "data": {
      "text/html": [
       "<pre>| 330       | 500            | 376        | 129                  | 1.57s            |</pre>"
      ],
      "text/plain": [
       "| 330       | 500            | 376        | 129                  | 1.57s            |"
      ]
     },
     "metadata": {},
     "output_type": "display_data"
    },
    {
     "data": {
      "text/html": [
       "<pre>| 331       | 500            | 376        | 129                  | 1.57s            |</pre>"
      ],
      "text/plain": [
       "| 331       | 500            | 376        | 129                  | 1.57s            |"
      ]
     },
     "metadata": {},
     "output_type": "display_data"
    },
    {
     "data": {
      "text/html": [
       "<pre>| 332       | 500            | 375        | 129                  | 1.58s            |</pre>"
      ],
      "text/plain": [
       "| 332       | 500            | 375        | 129                  | 1.58s            |"
      ]
     },
     "metadata": {},
     "output_type": "display_data"
    },
    {
     "data": {
      "text/html": [
       "<pre>| 333       | 500            | 375        | 129                  | 1.58s            |</pre>"
      ],
      "text/plain": [
       "| 333       | 500            | 375        | 129                  | 1.58s            |"
      ]
     },
     "metadata": {},
     "output_type": "display_data"
    },
    {
     "data": {
      "text/html": [
       "<pre>| 334       | 500            | 375        | 129                  | 1.58s            |</pre>"
      ],
      "text/plain": [
       "| 334       | 500            | 375        | 129                  | 1.58s            |"
      ]
     },
     "metadata": {},
     "output_type": "display_data"
    },
    {
     "data": {
      "text/html": [
       "<pre>| 335       | 500            | 375        | 129                  | 1.58s            |</pre>"
      ],
      "text/plain": [
       "| 335       | 500            | 375        | 129                  | 1.58s            |"
      ]
     },
     "metadata": {},
     "output_type": "display_data"
    },
    {
     "data": {
      "text/html": [
       "<pre>| 336       | 500            | 375        | 129                  | 1.58s            |</pre>"
      ],
      "text/plain": [
       "| 336       | 500            | 375        | 129                  | 1.58s            |"
      ]
     },
     "metadata": {},
     "output_type": "display_data"
    },
    {
     "data": {
      "text/html": [
       "<pre>| 337       | 500            | 374        | 129                  | 1.58s            |</pre>"
      ],
      "text/plain": [
       "| 337       | 500            | 374        | 129                  | 1.58s            |"
      ]
     },
     "metadata": {},
     "output_type": "display_data"
    },
    {
     "data": {
      "text/html": [
       "<pre>| 338       | 500            | 373        | 129                  | 1.59s            |</pre>"
      ],
      "text/plain": [
       "| 338       | 500            | 373        | 129                  | 1.59s            |"
      ]
     },
     "metadata": {},
     "output_type": "display_data"
    },
    {
     "data": {
      "text/html": [
       "<pre>| 339       | 500            | 373        | 129                  | 1.59s            |</pre>"
      ],
      "text/plain": [
       "| 339       | 500            | 373        | 129                  | 1.59s            |"
      ]
     },
     "metadata": {},
     "output_type": "display_data"
    },
    {
     "data": {
      "text/html": [
       "<pre>| 340       | 500            | 373        | 129                  | 1.59s            |</pre>"
      ],
      "text/plain": [
       "| 340       | 500            | 373        | 129                  | 1.59s            |"
      ]
     },
     "metadata": {},
     "output_type": "display_data"
    },
    {
     "data": {
      "text/html": [
       "<pre>| 341       | 500            | 372        | 129                  | 1.59s            |</pre>"
      ],
      "text/plain": [
       "| 341       | 500            | 372        | 129                  | 1.59s            |"
      ]
     },
     "metadata": {},
     "output_type": "display_data"
    },
    {
     "data": {
      "text/html": [
       "<pre>| 342       | 500            | 372        | 129                  | 1.59s            |</pre>"
      ],
      "text/plain": [
       "| 342       | 500            | 372        | 129                  | 1.59s            |"
      ]
     },
     "metadata": {},
     "output_type": "display_data"
    },
    {
     "data": {
      "text/html": [
       "<pre>| 343       | 500            | 372        | 129                  | 1.60s            |</pre>"
      ],
      "text/plain": [
       "| 343       | 500            | 372        | 129                  | 1.60s            |"
      ]
     },
     "metadata": {},
     "output_type": "display_data"
    },
    {
     "data": {
      "text/html": [
       "<pre>| 344       | 500            | 370        | 129                  | 1.60s            |</pre>"
      ],
      "text/plain": [
       "| 344       | 500            | 370        | 129                  | 1.60s            |"
      ]
     },
     "metadata": {},
     "output_type": "display_data"
    },
    {
     "data": {
      "text/html": [
       "<pre>| 345       | 500            | 369        | 129                  | 1.60s            |</pre>"
      ],
      "text/plain": [
       "| 345       | 500            | 369        | 129                  | 1.60s            |"
      ]
     },
     "metadata": {},
     "output_type": "display_data"
    },
    {
     "data": {
      "text/html": [
       "<pre>| 346       | 500            | 369        | 129                  | 1.60s            |</pre>"
      ],
      "text/plain": [
       "| 346       | 500            | 369        | 129                  | 1.60s            |"
      ]
     },
     "metadata": {},
     "output_type": "display_data"
    },
    {
     "data": {
      "text/html": [
       "<pre>| 347       | 500            | 368        | 129                  | 1.60s            |</pre>"
      ],
      "text/plain": [
       "| 347       | 500            | 368        | 129                  | 1.60s            |"
      ]
     },
     "metadata": {},
     "output_type": "display_data"
    },
    {
     "data": {
      "text/html": [
       "<pre>| 348       | 500            | 368        | 129                  | 1.60s            |</pre>"
      ],
      "text/plain": [
       "| 348       | 500            | 368        | 129                  | 1.60s            |"
      ]
     },
     "metadata": {},
     "output_type": "display_data"
    },
    {
     "data": {
      "text/html": [
       "<pre>| 349       | 500            | 367        | 129                  | 1.61s            |</pre>"
      ],
      "text/plain": [
       "| 349       | 500            | 367        | 129                  | 1.61s            |"
      ]
     },
     "metadata": {},
     "output_type": "display_data"
    },
    {
     "data": {
      "text/html": [
       "<pre>| 350       | 500            | 366        | 129                  | 1.61s            |</pre>"
      ],
      "text/plain": [
       "| 350       | 500            | 366        | 129                  | 1.61s            |"
      ]
     },
     "metadata": {},
     "output_type": "display_data"
    },
    {
     "data": {
      "text/html": [
       "<pre>| 351       | 500            | 365        | 129                  | 1.61s            |</pre>"
      ],
      "text/plain": [
       "| 351       | 500            | 365        | 129                  | 1.61s            |"
      ]
     },
     "metadata": {},
     "output_type": "display_data"
    },
    {
     "data": {
      "text/html": [
       "<pre>| 352       | 500            | 365        | 129                  | 1.61s            |</pre>"
      ],
      "text/plain": [
       "| 352       | 500            | 365        | 129                  | 1.61s            |"
      ]
     },
     "metadata": {},
     "output_type": "display_data"
    },
    {
     "data": {
      "text/html": [
       "<pre>| 353       | 500            | 365        | 129                  | 1.62s            |</pre>"
      ],
      "text/plain": [
       "| 353       | 500            | 365        | 129                  | 1.62s            |"
      ]
     },
     "metadata": {},
     "output_type": "display_data"
    },
    {
     "data": {
      "text/html": [
       "<pre>| 354       | 500            | 365        | 129                  | 1.62s            |</pre>"
      ],
      "text/plain": [
       "| 354       | 500            | 365        | 129                  | 1.62s            |"
      ]
     },
     "metadata": {},
     "output_type": "display_data"
    },
    {
     "data": {
      "text/html": [
       "<pre>| 355       | 500            | 364        | 129                  | 1.62s            |</pre>"
      ],
      "text/plain": [
       "| 355       | 500            | 364        | 129                  | 1.62s            |"
      ]
     },
     "metadata": {},
     "output_type": "display_data"
    },
    {
     "data": {
      "text/html": [
       "<pre>| 356       | 500            | 363        | 129                  | 1.62s            |</pre>"
      ],
      "text/plain": [
       "| 356       | 500            | 363        | 129                  | 1.62s            |"
      ]
     },
     "metadata": {},
     "output_type": "display_data"
    },
    {
     "data": {
      "text/html": [
       "<pre>| 357       | 500            | 362        | 129                  | 1.62s            |</pre>"
      ],
      "text/plain": [
       "| 357       | 500            | 362        | 129                  | 1.62s            |"
      ]
     },
     "metadata": {},
     "output_type": "display_data"
    },
    {
     "data": {
      "text/html": [
       "<pre>| 358       | 500            | 362        | 129                  | 1.62s            |</pre>"
      ],
      "text/plain": [
       "| 358       | 500            | 362        | 129                  | 1.62s            |"
      ]
     },
     "metadata": {},
     "output_type": "display_data"
    },
    {
     "data": {
      "text/html": [
       "<pre>| 359       | 500            | 362        | 129                  | 1.63s            |</pre>"
      ],
      "text/plain": [
       "| 359       | 500            | 362        | 129                  | 1.63s            |"
      ]
     },
     "metadata": {},
     "output_type": "display_data"
    },
    {
     "data": {
      "text/html": [
       "<pre>| 360       | 500            | 361        | 129                  | 1.63s            |</pre>"
      ],
      "text/plain": [
       "| 360       | 500            | 361        | 129                  | 1.63s            |"
      ]
     },
     "metadata": {},
     "output_type": "display_data"
    },
    {
     "data": {
      "text/html": [
       "<pre>| 361       | 500            | 361        | 129                  | 1.63s            |</pre>"
      ],
      "text/plain": [
       "| 361       | 500            | 361        | 129                  | 1.63s            |"
      ]
     },
     "metadata": {},
     "output_type": "display_data"
    },
    {
     "data": {
      "text/html": [
       "<pre>| 362       | 500            | 360        | 129                  | 1.63s            |</pre>"
      ],
      "text/plain": [
       "| 362       | 500            | 360        | 129                  | 1.63s            |"
      ]
     },
     "metadata": {},
     "output_type": "display_data"
    },
    {
     "data": {
      "text/html": [
       "<pre>| 363       | 500            | 360        | 129                  | 1.63s            |</pre>"
      ],
      "text/plain": [
       "| 363       | 500            | 360        | 129                  | 1.63s            |"
      ]
     },
     "metadata": {},
     "output_type": "display_data"
    },
    {
     "data": {
      "text/html": [
       "<pre>| 364       | 500            | 359        | 129                  | 1.63s            |</pre>"
      ],
      "text/plain": [
       "| 364       | 500            | 359        | 129                  | 1.63s            |"
      ]
     },
     "metadata": {},
     "output_type": "display_data"
    },
    {
     "data": {
      "text/html": [
       "<pre>| 365       | 500            | 359        | 129                  | 1.64s            |</pre>"
      ],
      "text/plain": [
       "| 365       | 500            | 359        | 129                  | 1.64s            |"
      ]
     },
     "metadata": {},
     "output_type": "display_data"
    },
    {
     "data": {
      "text/html": [
       "<pre>| 366       | 500            | 359        | 129                  | 1.64s            |</pre>"
      ],
      "text/plain": [
       "| 366       | 500            | 359        | 129                  | 1.64s            |"
      ]
     },
     "metadata": {},
     "output_type": "display_data"
    },
    {
     "data": {
      "text/html": [
       "<pre>| 367       | 500            | 358        | 129                  | 1.64s            |</pre>"
      ],
      "text/plain": [
       "| 367       | 500            | 358        | 129                  | 1.64s            |"
      ]
     },
     "metadata": {},
     "output_type": "display_data"
    },
    {
     "data": {
      "text/html": [
       "<pre>| 368       | 500            | 358        | 129                  | 1.64s            |</pre>"
      ],
      "text/plain": [
       "| 368       | 500            | 358        | 129                  | 1.64s            |"
      ]
     },
     "metadata": {},
     "output_type": "display_data"
    },
    {
     "data": {
      "text/html": [
       "<pre>| 369       | 500            | 358        | 129                  | 1.64s            |</pre>"
      ],
      "text/plain": [
       "| 369       | 500            | 358        | 129                  | 1.64s            |"
      ]
     },
     "metadata": {},
     "output_type": "display_data"
    },
    {
     "data": {
      "text/html": [
       "<pre>| 370       | 500            | 357        | 129                  | 1.65s            |</pre>"
      ],
      "text/plain": [
       "| 370       | 500            | 357        | 129                  | 1.65s            |"
      ]
     },
     "metadata": {},
     "output_type": "display_data"
    },
    {
     "data": {
      "text/html": [
       "<pre>| 371       | 500            | 356        | 129                  | 1.65s            |</pre>"
      ],
      "text/plain": [
       "| 371       | 500            | 356        | 129                  | 1.65s            |"
      ]
     },
     "metadata": {},
     "output_type": "display_data"
    },
    {
     "data": {
      "text/html": [
       "<pre>| 372       | 500            | 356        | 129                  | 1.65s            |</pre>"
      ],
      "text/plain": [
       "| 372       | 500            | 356        | 129                  | 1.65s            |"
      ]
     },
     "metadata": {},
     "output_type": "display_data"
    },
    {
     "data": {
      "text/html": [
       "<pre>| 373       | 500            | 355        | 129                  | 1.65s            |</pre>"
      ],
      "text/plain": [
       "| 373       | 500            | 355        | 129                  | 1.65s            |"
      ]
     },
     "metadata": {},
     "output_type": "display_data"
    },
    {
     "data": {
      "text/html": [
       "<pre>| 374       | 500            | 355        | 129                  | 1.65s            |</pre>"
      ],
      "text/plain": [
       "| 374       | 500            | 355        | 129                  | 1.65s            |"
      ]
     },
     "metadata": {},
     "output_type": "display_data"
    },
    {
     "data": {
      "text/html": [
       "<pre>| 375       | 500            | 354        | 129                  | 1.65s            |</pre>"
      ],
      "text/plain": [
       "| 375       | 500            | 354        | 129                  | 1.65s            |"
      ]
     },
     "metadata": {},
     "output_type": "display_data"
    },
    {
     "data": {
      "text/html": [
       "<pre>| 376       | 500            | 354        | 129                  | 1.66s            |</pre>"
      ],
      "text/plain": [
       "| 376       | 500            | 354        | 129                  | 1.66s            |"
      ]
     },
     "metadata": {},
     "output_type": "display_data"
    },
    {
     "data": {
      "text/html": [
       "<pre>| 377       | 500            | 354        | 129                  | 1.66s            |</pre>"
      ],
      "text/plain": [
       "| 377       | 500            | 354        | 129                  | 1.66s            |"
      ]
     },
     "metadata": {},
     "output_type": "display_data"
    },
    {
     "data": {
      "text/html": [
       "<pre>| 378       | 500            | 353        | 129                  | 1.66s            |</pre>"
      ],
      "text/plain": [
       "| 378       | 500            | 353        | 129                  | 1.66s            |"
      ]
     },
     "metadata": {},
     "output_type": "display_data"
    },
    {
     "data": {
      "text/html": [
       "<pre>| 379       | 500            | 352        | 129                  | 1.66s            |</pre>"
      ],
      "text/plain": [
       "| 379       | 500            | 352        | 129                  | 1.66s            |"
      ]
     },
     "metadata": {},
     "output_type": "display_data"
    },
    {
     "data": {
      "text/html": [
       "<pre>| 380       | 500            | 352        | 129                  | 1.66s            |</pre>"
      ],
      "text/plain": [
       "| 380       | 500            | 352        | 129                  | 1.66s            |"
      ]
     },
     "metadata": {},
     "output_type": "display_data"
    },
    {
     "data": {
      "text/html": [
       "<pre>| 381       | 500            | 351        | 129                  | 1.67s            |</pre>"
      ],
      "text/plain": [
       "| 381       | 500            | 351        | 129                  | 1.67s            |"
      ]
     },
     "metadata": {},
     "output_type": "display_data"
    },
    {
     "data": {
      "text/html": [
       "<pre>| 382       | 500            | 350        | 129                  | 1.67s            |</pre>"
      ],
      "text/plain": [
       "| 382       | 500            | 350        | 129                  | 1.67s            |"
      ]
     },
     "metadata": {},
     "output_type": "display_data"
    },
    {
     "data": {
      "text/html": [
       "<pre>| 383       | 500            | 349        | 129                  | 1.67s            |</pre>"
      ],
      "text/plain": [
       "| 383       | 500            | 349        | 129                  | 1.67s            |"
      ]
     },
     "metadata": {},
     "output_type": "display_data"
    },
    {
     "data": {
      "text/html": [
       "<pre>| 384       | 500            | 348        | 129                  | 1.67s            |</pre>"
      ],
      "text/plain": [
       "| 384       | 500            | 348        | 129                  | 1.67s            |"
      ]
     },
     "metadata": {},
     "output_type": "display_data"
    },
    {
     "data": {
      "text/html": [
       "<pre>| 385       | 500            | 348        | 129                  | 1.67s            |</pre>"
      ],
      "text/plain": [
       "| 385       | 500            | 348        | 129                  | 1.67s            |"
      ]
     },
     "metadata": {},
     "output_type": "display_data"
    },
    {
     "data": {
      "text/html": [
       "<pre>| 386       | 500            | 348        | 129                  | 1.67s            |</pre>"
      ],
      "text/plain": [
       "| 386       | 500            | 348        | 129                  | 1.67s            |"
      ]
     },
     "metadata": {},
     "output_type": "display_data"
    },
    {
     "data": {
      "text/html": [
       "<pre>| 387       | 500            | 347        | 129                  | 1.67s            |</pre>"
      ],
      "text/plain": [
       "| 387       | 500            | 347        | 129                  | 1.67s            |"
      ]
     },
     "metadata": {},
     "output_type": "display_data"
    },
    {
     "data": {
      "text/html": [
       "<pre>| 388       | 500            | 347        | 129                  | 1.68s            |</pre>"
      ],
      "text/plain": [
       "| 388       | 500            | 347        | 129                  | 1.68s            |"
      ]
     },
     "metadata": {},
     "output_type": "display_data"
    },
    {
     "data": {
      "text/html": [
       "<pre>| 389       | 500            | 346        | 129                  | 1.68s            |</pre>"
      ],
      "text/plain": [
       "| 389       | 500            | 346        | 129                  | 1.68s            |"
      ]
     },
     "metadata": {},
     "output_type": "display_data"
    },
    {
     "data": {
      "text/html": [
       "<pre>| 390       | 500            | 345        | 129                  | 1.68s            |</pre>"
      ],
      "text/plain": [
       "| 390       | 500            | 345        | 129                  | 1.68s            |"
      ]
     },
     "metadata": {},
     "output_type": "display_data"
    },
    {
     "data": {
      "text/html": [
       "<pre>| 391       | 500            | 345        | 129                  | 1.68s            |</pre>"
      ],
      "text/plain": [
       "| 391       | 500            | 345        | 129                  | 1.68s            |"
      ]
     },
     "metadata": {},
     "output_type": "display_data"
    },
    {
     "data": {
      "text/html": [
       "<pre>| 392       | 500            | 345        | 129                  | 1.68s            |</pre>"
      ],
      "text/plain": [
       "| 392       | 500            | 345        | 129                  | 1.68s            |"
      ]
     },
     "metadata": {},
     "output_type": "display_data"
    },
    {
     "data": {
      "text/html": [
       "<pre>| 393       | 500            | 345        | 129                  | 1.69s            |</pre>"
      ],
      "text/plain": [
       "| 393       | 500            | 345        | 129                  | 1.69s            |"
      ]
     },
     "metadata": {},
     "output_type": "display_data"
    },
    {
     "data": {
      "text/html": [
       "<pre>| 394       | 500            | 344        | 129                  | 1.69s            |</pre>"
      ],
      "text/plain": [
       "| 394       | 500            | 344        | 129                  | 1.69s            |"
      ]
     },
     "metadata": {},
     "output_type": "display_data"
    },
    {
     "data": {
      "text/html": [
       "<pre>| 395       | 500            | 344        | 129                  | 1.69s            |</pre>"
      ],
      "text/plain": [
       "| 395       | 500            | 344        | 129                  | 1.69s            |"
      ]
     },
     "metadata": {},
     "output_type": "display_data"
    },
    {
     "data": {
      "text/html": [
       "<pre>| 396       | 500            | 344        | 129                  | 1.69s            |</pre>"
      ],
      "text/plain": [
       "| 396       | 500            | 344        | 129                  | 1.69s            |"
      ]
     },
     "metadata": {},
     "output_type": "display_data"
    },
    {
     "data": {
      "text/html": [
       "<pre>| 397       | 500            | 344        | 129                  | 1.69s            |</pre>"
      ],
      "text/plain": [
       "| 397       | 500            | 344        | 129                  | 1.69s            |"
      ]
     },
     "metadata": {},
     "output_type": "display_data"
    },
    {
     "data": {
      "text/html": [
       "<pre>| 398       | 500            | 343        | 129                  | 1.69s            |</pre>"
      ],
      "text/plain": [
       "| 398       | 500            | 343        | 129                  | 1.69s            |"
      ]
     },
     "metadata": {},
     "output_type": "display_data"
    },
    {
     "data": {
      "text/html": [
       "<pre>| 399       | 500            | 342        | 129                  | 1.69s            |</pre>"
      ],
      "text/plain": [
       "| 399       | 500            | 342        | 129                  | 1.69s            |"
      ]
     },
     "metadata": {},
     "output_type": "display_data"
    },
    {
     "data": {
      "text/html": [
       "<pre>| 400       | 500            | 340        | 129                  | 1.70s            |</pre>"
      ],
      "text/plain": [
       "| 400       | 500            | 340        | 129                  | 1.70s            |"
      ]
     },
     "metadata": {},
     "output_type": "display_data"
    },
    {
     "data": {
      "text/html": [
       "<pre>| 401       | 500            | 340        | 129                  | 1.70s            |</pre>"
      ],
      "text/plain": [
       "| 401       | 500            | 340        | 129                  | 1.70s            |"
      ]
     },
     "metadata": {},
     "output_type": "display_data"
    },
    {
     "data": {
      "text/html": [
       "<pre>| 402       | 500            | 339        | 129                  | 1.70s            |</pre>"
      ],
      "text/plain": [
       "| 402       | 500            | 339        | 129                  | 1.70s            |"
      ]
     },
     "metadata": {},
     "output_type": "display_data"
    },
    {
     "data": {
      "text/html": [
       "<pre>| 403       | 500            | 338        | 129                  | 1.70s            |</pre>"
      ],
      "text/plain": [
       "| 403       | 500            | 338        | 129                  | 1.70s            |"
      ]
     },
     "metadata": {},
     "output_type": "display_data"
    },
    {
     "data": {
      "text/html": [
       "<pre>| 404       | 500            | 338        | 129                  | 1.70s            |</pre>"
      ],
      "text/plain": [
       "| 404       | 500            | 338        | 129                  | 1.70s            |"
      ]
     },
     "metadata": {},
     "output_type": "display_data"
    },
    {
     "data": {
      "text/html": [
       "<pre>| 405       | 500            | 337        | 129                  | 1.70s            |</pre>"
      ],
      "text/plain": [
       "| 405       | 500            | 337        | 129                  | 1.70s            |"
      ]
     },
     "metadata": {},
     "output_type": "display_data"
    },
    {
     "data": {
      "text/html": [
       "<pre>| 406       | 500            | 336        | 129                  | 1.71s            |</pre>"
      ],
      "text/plain": [
       "| 406       | 500            | 336        | 129                  | 1.71s            |"
      ]
     },
     "metadata": {},
     "output_type": "display_data"
    },
    {
     "data": {
      "text/html": [
       "<pre>| 407       | 500            | 336        | 129                  | 1.71s            |</pre>"
      ],
      "text/plain": [
       "| 407       | 500            | 336        | 129                  | 1.71s            |"
      ]
     },
     "metadata": {},
     "output_type": "display_data"
    },
    {
     "data": {
      "text/html": [
       "<pre>| 408       | 500            | 335        | 129                  | 1.71s            |</pre>"
      ],
      "text/plain": [
       "| 408       | 500            | 335        | 129                  | 1.71s            |"
      ]
     },
     "metadata": {},
     "output_type": "display_data"
    },
    {
     "data": {
      "text/html": [
       "<pre>| 409       | 500            | 335        | 129                  | 1.71s            |</pre>"
      ],
      "text/plain": [
       "| 409       | 500            | 335        | 129                  | 1.71s            |"
      ]
     },
     "metadata": {},
     "output_type": "display_data"
    },
    {
     "data": {
      "text/html": [
       "<pre>| 410       | 500            | 334        | 129                  | 1.71s            |</pre>"
      ],
      "text/plain": [
       "| 410       | 500            | 334        | 129                  | 1.71s            |"
      ]
     },
     "metadata": {},
     "output_type": "display_data"
    },
    {
     "data": {
      "text/html": [
       "<pre>| 411       | 500            | 333        | 129                  | 1.71s            |</pre>"
      ],
      "text/plain": [
       "| 411       | 500            | 333        | 129                  | 1.71s            |"
      ]
     },
     "metadata": {},
     "output_type": "display_data"
    },
    {
     "data": {
      "text/html": [
       "<pre>| 412       | 500            | 333        | 129                  | 1.72s            |</pre>"
      ],
      "text/plain": [
       "| 412       | 500            | 333        | 129                  | 1.72s            |"
      ]
     },
     "metadata": {},
     "output_type": "display_data"
    },
    {
     "data": {
      "text/html": [
       "<pre>| 413       | 500            | 333        | 129                  | 1.72s            |</pre>"
      ],
      "text/plain": [
       "| 413       | 500            | 333        | 129                  | 1.72s            |"
      ]
     },
     "metadata": {},
     "output_type": "display_data"
    },
    {
     "data": {
      "text/html": [
       "<pre>| 414       | 500            | 332        | 129                  | 1.72s            |</pre>"
      ],
      "text/plain": [
       "| 414       | 500            | 332        | 129                  | 1.72s            |"
      ]
     },
     "metadata": {},
     "output_type": "display_data"
    },
    {
     "data": {
      "text/html": [
       "<pre>| 415       | 500            | 331        | 129                  | 1.72s            |</pre>"
      ],
      "text/plain": [
       "| 415       | 500            | 331        | 129                  | 1.72s            |"
      ]
     },
     "metadata": {},
     "output_type": "display_data"
    },
    {
     "data": {
      "text/html": [
       "<pre>| 416       | 500            | 331        | 129                  | 1.72s            |</pre>"
      ],
      "text/plain": [
       "| 416       | 500            | 331        | 129                  | 1.72s            |"
      ]
     },
     "metadata": {},
     "output_type": "display_data"
    },
    {
     "data": {
      "text/html": [
       "<pre>| 417       | 500            | 330        | 129                  | 1.72s            |</pre>"
      ],
      "text/plain": [
       "| 417       | 500            | 330        | 129                  | 1.72s            |"
      ]
     },
     "metadata": {},
     "output_type": "display_data"
    },
    {
     "data": {
      "text/html": [
       "<pre>| 418       | 500            | 329        | 129                  | 1.73s            |</pre>"
      ],
      "text/plain": [
       "| 418       | 500            | 329        | 129                  | 1.73s            |"
      ]
     },
     "metadata": {},
     "output_type": "display_data"
    },
    {
     "data": {
      "text/html": [
       "<pre>| 419       | 500            | 328        | 129                  | 1.73s            |</pre>"
      ],
      "text/plain": [
       "| 419       | 500            | 328        | 129                  | 1.73s            |"
      ]
     },
     "metadata": {},
     "output_type": "display_data"
    },
    {
     "data": {
      "text/html": [
       "<pre>| 420       | 500            | 328        | 129                  | 1.73s            |</pre>"
      ],
      "text/plain": [
       "| 420       | 500            | 328        | 129                  | 1.73s            |"
      ]
     },
     "metadata": {},
     "output_type": "display_data"
    },
    {
     "data": {
      "text/html": [
       "<pre>| 421       | 500            | 327        | 129                  | 1.73s            |</pre>"
      ],
      "text/plain": [
       "| 421       | 500            | 327        | 129                  | 1.73s            |"
      ]
     },
     "metadata": {},
     "output_type": "display_data"
    },
    {
     "data": {
      "text/html": [
       "<pre>| 422       | 500            | 326        | 129                  | 1.73s            |</pre>"
      ],
      "text/plain": [
       "| 422       | 500            | 326        | 129                  | 1.73s            |"
      ]
     },
     "metadata": {},
     "output_type": "display_data"
    },
    {
     "data": {
      "text/html": [
       "<pre>| 423       | 500            | 326        | 129                  | 1.73s            |</pre>"
      ],
      "text/plain": [
       "| 423       | 500            | 326        | 129                  | 1.73s            |"
      ]
     },
     "metadata": {},
     "output_type": "display_data"
    },
    {
     "data": {
      "text/html": [
       "<pre>| 424       | 500            | 325        | 129                  | 1.74s            |</pre>"
      ],
      "text/plain": [
       "| 424       | 500            | 325        | 129                  | 1.74s            |"
      ]
     },
     "metadata": {},
     "output_type": "display_data"
    },
    {
     "data": {
      "text/html": [
       "<pre>| 425       | 500            | 325        | 129                  | 1.74s            |</pre>"
      ],
      "text/plain": [
       "| 425       | 500            | 325        | 129                  | 1.74s            |"
      ]
     },
     "metadata": {},
     "output_type": "display_data"
    },
    {
     "data": {
      "text/html": [
       "<pre>| 426       | 500            | 325        | 129                  | 1.74s            |</pre>"
      ],
      "text/plain": [
       "| 426       | 500            | 325        | 129                  | 1.74s            |"
      ]
     },
     "metadata": {},
     "output_type": "display_data"
    },
    {
     "data": {
      "text/html": [
       "<pre>| 427       | 500            | 325        | 129                  | 1.74s            |</pre>"
      ],
      "text/plain": [
       "| 427       | 500            | 325        | 129                  | 1.74s            |"
      ]
     },
     "metadata": {},
     "output_type": "display_data"
    },
    {
     "data": {
      "text/html": [
       "<pre>| 428       | 500            | 325        | 129                  | 1.74s            |</pre>"
      ],
      "text/plain": [
       "| 428       | 500            | 325        | 129                  | 1.74s            |"
      ]
     },
     "metadata": {},
     "output_type": "display_data"
    },
    {
     "data": {
      "text/html": [
       "<pre>| 429       | 500            | 323        | 129                  | 1.75s            |</pre>"
      ],
      "text/plain": [
       "| 429       | 500            | 323        | 129                  | 1.75s            |"
      ]
     },
     "metadata": {},
     "output_type": "display_data"
    },
    {
     "data": {
      "text/html": [
       "<pre>| 430       | 500            | 323        | 129                  | 1.75s            |</pre>"
      ],
      "text/plain": [
       "| 430       | 500            | 323        | 129                  | 1.75s            |"
      ]
     },
     "metadata": {},
     "output_type": "display_data"
    },
    {
     "data": {
      "text/html": [
       "<pre>| 431       | 500            | 322        | 129                  | 1.75s            |</pre>"
      ],
      "text/plain": [
       "| 431       | 500            | 322        | 129                  | 1.75s            |"
      ]
     },
     "metadata": {},
     "output_type": "display_data"
    },
    {
     "data": {
      "text/html": [
       "<pre>| 432       | 500            | 322        | 129                  | 1.75s            |</pre>"
      ],
      "text/plain": [
       "| 432       | 500            | 322        | 129                  | 1.75s            |"
      ]
     },
     "metadata": {},
     "output_type": "display_data"
    },
    {
     "data": {
      "text/html": [
       "<pre>| 433       | 500            | 322        | 129                  | 1.75s            |</pre>"
      ],
      "text/plain": [
       "| 433       | 500            | 322        | 129                  | 1.75s            |"
      ]
     },
     "metadata": {},
     "output_type": "display_data"
    },
    {
     "data": {
      "text/html": [
       "<pre>| 434       | 500            | 321        | 129                  | 1.76s            |</pre>"
      ],
      "text/plain": [
       "| 434       | 500            | 321        | 129                  | 1.76s            |"
      ]
     },
     "metadata": {},
     "output_type": "display_data"
    },
    {
     "data": {
      "text/html": [
       "<pre>| 435       | 500            | 321        | 129                  | 1.76s            |</pre>"
      ],
      "text/plain": [
       "| 435       | 500            | 321        | 129                  | 1.76s            |"
      ]
     },
     "metadata": {},
     "output_type": "display_data"
    },
    {
     "data": {
      "text/html": [
       "<pre>| 436       | 500            | 319        | 129                  | 1.76s            |</pre>"
      ],
      "text/plain": [
       "| 436       | 500            | 319        | 129                  | 1.76s            |"
      ]
     },
     "metadata": {},
     "output_type": "display_data"
    },
    {
     "data": {
      "text/html": [
       "<pre>| 437       | 500            | 318        | 129                  | 1.76s            |</pre>"
      ],
      "text/plain": [
       "| 437       | 500            | 318        | 129                  | 1.76s            |"
      ]
     },
     "metadata": {},
     "output_type": "display_data"
    },
    {
     "data": {
      "text/html": [
       "<pre>| 438       | 500            | 318        | 129                  | 1.77s            |</pre>"
      ],
      "text/plain": [
       "| 438       | 500            | 318        | 129                  | 1.77s            |"
      ]
     },
     "metadata": {},
     "output_type": "display_data"
    },
    {
     "data": {
      "text/html": [
       "<pre>| 439       | 500            | 318        | 129                  | 1.77s            |</pre>"
      ],
      "text/plain": [
       "| 439       | 500            | 318        | 129                  | 1.77s            |"
      ]
     },
     "metadata": {},
     "output_type": "display_data"
    },
    {
     "data": {
      "text/html": [
       "<pre>| 440       | 500            | 317        | 129                  | 1.77s            |</pre>"
      ],
      "text/plain": [
       "| 440       | 500            | 317        | 129                  | 1.77s            |"
      ]
     },
     "metadata": {},
     "output_type": "display_data"
    },
    {
     "data": {
      "text/html": [
       "<pre>| 441       | 500            | 317        | 129                  | 1.77s            |</pre>"
      ],
      "text/plain": [
       "| 441       | 500            | 317        | 129                  | 1.77s            |"
      ]
     },
     "metadata": {},
     "output_type": "display_data"
    },
    {
     "data": {
      "text/html": [
       "<pre>| 442       | 500            | 317        | 129                  | 1.77s            |</pre>"
      ],
      "text/plain": [
       "| 442       | 500            | 317        | 129                  | 1.77s            |"
      ]
     },
     "metadata": {},
     "output_type": "display_data"
    },
    {
     "data": {
      "text/html": [
       "<pre>| 443       | 500            | 317        | 129                  | 1.77s            |</pre>"
      ],
      "text/plain": [
       "| 443       | 500            | 317        | 129                  | 1.77s            |"
      ]
     },
     "metadata": {},
     "output_type": "display_data"
    },
    {
     "data": {
      "text/html": [
       "<pre>| 444       | 500            | 317        | 129                  | 1.78s            |</pre>"
      ],
      "text/plain": [
       "| 444       | 500            | 317        | 129                  | 1.78s            |"
      ]
     },
     "metadata": {},
     "output_type": "display_data"
    },
    {
     "data": {
      "text/html": [
       "<pre>| 445       | 500            | 316        | 129                  | 1.78s            |</pre>"
      ],
      "text/plain": [
       "| 445       | 500            | 316        | 129                  | 1.78s            |"
      ]
     },
     "metadata": {},
     "output_type": "display_data"
    },
    {
     "data": {
      "text/html": [
       "<pre>| 446       | 500            | 315        | 129                  | 1.78s            |</pre>"
      ],
      "text/plain": [
       "| 446       | 500            | 315        | 129                  | 1.78s            |"
      ]
     },
     "metadata": {},
     "output_type": "display_data"
    },
    {
     "data": {
      "text/html": [
       "<pre>| 447       | 500            | 314        | 129                  | 1.78s            |</pre>"
      ],
      "text/plain": [
       "| 447       | 500            | 314        | 129                  | 1.78s            |"
      ]
     },
     "metadata": {},
     "output_type": "display_data"
    },
    {
     "data": {
      "text/html": [
       "<pre>| 448       | 500            | 313        | 129                  | 1.78s            |</pre>"
      ],
      "text/plain": [
       "| 448       | 500            | 313        | 129                  | 1.78s            |"
      ]
     },
     "metadata": {},
     "output_type": "display_data"
    },
    {
     "data": {
      "text/html": [
       "<pre>| 449       | 500            | 313        | 129                  | 1.79s            |</pre>"
      ],
      "text/plain": [
       "| 449       | 500            | 313        | 129                  | 1.79s            |"
      ]
     },
     "metadata": {},
     "output_type": "display_data"
    },
    {
     "data": {
      "text/html": [
       "<pre>| 450       | 500            | 313        | 129                  | 1.79s            |</pre>"
      ],
      "text/plain": [
       "| 450       | 500            | 313        | 129                  | 1.79s            |"
      ]
     },
     "metadata": {},
     "output_type": "display_data"
    },
    {
     "data": {
      "text/html": [
       "<pre>| 451       | 500            | 312        | 129                  | 1.79s            |</pre>"
      ],
      "text/plain": [
       "| 451       | 500            | 312        | 129                  | 1.79s            |"
      ]
     },
     "metadata": {},
     "output_type": "display_data"
    },
    {
     "data": {
      "text/html": [
       "<pre>| 452       | 500            | 311        | 129                  | 1.80s            |</pre>"
      ],
      "text/plain": [
       "| 452       | 500            | 311        | 129                  | 1.80s            |"
      ]
     },
     "metadata": {},
     "output_type": "display_data"
    },
    {
     "data": {
      "text/html": [
       "<pre>| 453       | 500            | 311        | 129                  | 1.80s            |</pre>"
      ],
      "text/plain": [
       "| 453       | 500            | 311        | 129                  | 1.80s            |"
      ]
     },
     "metadata": {},
     "output_type": "display_data"
    },
    {
     "data": {
      "text/html": [
       "<pre>| 454       | 500            | 309        | 129                  | 1.80s            |</pre>"
      ],
      "text/plain": [
       "| 454       | 500            | 309        | 129                  | 1.80s            |"
      ]
     },
     "metadata": {},
     "output_type": "display_data"
    },
    {
     "data": {
      "text/html": [
       "<pre>| 455       | 500            | 309        | 129                  | 1.80s            |</pre>"
      ],
      "text/plain": [
       "| 455       | 500            | 309        | 129                  | 1.80s            |"
      ]
     },
     "metadata": {},
     "output_type": "display_data"
    },
    {
     "data": {
      "text/html": [
       "<pre>| 456       | 500            | 309        | 129                  | 1.80s            |</pre>"
      ],
      "text/plain": [
       "| 456       | 500            | 309        | 129                  | 1.80s            |"
      ]
     },
     "metadata": {},
     "output_type": "display_data"
    },
    {
     "data": {
      "text/html": [
       "<pre>| 457       | 500            | 307        | 129                  | 1.81s            |</pre>"
      ],
      "text/plain": [
       "| 457       | 500            | 307        | 129                  | 1.81s            |"
      ]
     },
     "metadata": {},
     "output_type": "display_data"
    },
    {
     "data": {
      "text/html": [
       "<pre>| 458       | 500            | 307        | 129                  | 1.81s            |</pre>"
      ],
      "text/plain": [
       "| 458       | 500            | 307        | 129                  | 1.81s            |"
      ]
     },
     "metadata": {},
     "output_type": "display_data"
    },
    {
     "data": {
      "text/html": [
       "<pre>| 459       | 500            | 306        | 129                  | 1.81s            |</pre>"
      ],
      "text/plain": [
       "| 459       | 500            | 306        | 129                  | 1.81s            |"
      ]
     },
     "metadata": {},
     "output_type": "display_data"
    },
    {
     "data": {
      "text/html": [
       "<pre>| 460       | 500            | 305        | 129                  | 1.81s            |</pre>"
      ],
      "text/plain": [
       "| 460       | 500            | 305        | 129                  | 1.81s            |"
      ]
     },
     "metadata": {},
     "output_type": "display_data"
    },
    {
     "data": {
      "text/html": [
       "<pre>| 461       | 500            | 305        | 129                  | 1.81s            |</pre>"
      ],
      "text/plain": [
       "| 461       | 500            | 305        | 129                  | 1.81s            |"
      ]
     },
     "metadata": {},
     "output_type": "display_data"
    },
    {
     "data": {
      "text/html": [
       "<pre>| 462       | 500            | 305        | 129                  | 1.82s            |</pre>"
      ],
      "text/plain": [
       "| 462       | 500            | 305        | 129                  | 1.82s            |"
      ]
     },
     "metadata": {},
     "output_type": "display_data"
    },
    {
     "data": {
      "text/html": [
       "<pre>| 463       | 500            | 305        | 129                  | 1.82s            |</pre>"
      ],
      "text/plain": [
       "| 463       | 500            | 305        | 129                  | 1.82s            |"
      ]
     },
     "metadata": {},
     "output_type": "display_data"
    },
    {
     "data": {
      "text/html": [
       "<pre>| 464       | 500            | 305        | 129                  | 1.82s            |</pre>"
      ],
      "text/plain": [
       "| 464       | 500            | 305        | 129                  | 1.82s            |"
      ]
     },
     "metadata": {},
     "output_type": "display_data"
    },
    {
     "data": {
      "text/html": [
       "<pre>| 465       | 500            | 304        | 129                  | 1.82s            |</pre>"
      ],
      "text/plain": [
       "| 465       | 500            | 304        | 129                  | 1.82s            |"
      ]
     },
     "metadata": {},
     "output_type": "display_data"
    },
    {
     "data": {
      "text/html": [
       "<pre>| 466       | 500            | 304        | 129                  | 1.82s            |</pre>"
      ],
      "text/plain": [
       "| 466       | 500            | 304        | 129                  | 1.82s            |"
      ]
     },
     "metadata": {},
     "output_type": "display_data"
    },
    {
     "data": {
      "text/html": [
       "<pre>| 467       | 500            | 303        | 129                  | 1.82s            |</pre>"
      ],
      "text/plain": [
       "| 467       | 500            | 303        | 129                  | 1.82s            |"
      ]
     },
     "metadata": {},
     "output_type": "display_data"
    },
    {
     "data": {
      "text/html": [
       "<pre>| 468       | 500            | 302        | 129                  | 1.83s            |</pre>"
      ],
      "text/plain": [
       "| 468       | 500            | 302        | 129                  | 1.83s            |"
      ]
     },
     "metadata": {},
     "output_type": "display_data"
    },
    {
     "data": {
      "text/html": [
       "<pre>| 469       | 500            | 301        | 129                  | 1.83s            |</pre>"
      ],
      "text/plain": [
       "| 469       | 500            | 301        | 129                  | 1.83s            |"
      ]
     },
     "metadata": {},
     "output_type": "display_data"
    },
    {
     "data": {
      "text/html": [
       "<pre>| 470       | 500            | 301        | 129                  | 1.83s            |</pre>"
      ],
      "text/plain": [
       "| 470       | 500            | 301        | 129                  | 1.83s            |"
      ]
     },
     "metadata": {},
     "output_type": "display_data"
    },
    {
     "data": {
      "text/html": [
       "<pre>| 471       | 500            | 301        | 129                  | 1.83s            |</pre>"
      ],
      "text/plain": [
       "| 471       | 500            | 301        | 129                  | 1.83s            |"
      ]
     },
     "metadata": {},
     "output_type": "display_data"
    },
    {
     "data": {
      "text/html": [
       "<pre>| 472       | 500            | 300        | 129                  | 1.83s            |</pre>"
      ],
      "text/plain": [
       "| 472       | 500            | 300        | 129                  | 1.83s            |"
      ]
     },
     "metadata": {},
     "output_type": "display_data"
    },
    {
     "data": {
      "text/html": [
       "<pre>| 473       | 500            | 299        | 129                  | 1.84s            |</pre>"
      ],
      "text/plain": [
       "| 473       | 500            | 299        | 129                  | 1.84s            |"
      ]
     },
     "metadata": {},
     "output_type": "display_data"
    },
    {
     "data": {
      "text/html": [
       "<pre>| 474       | 500            | 299        | 129                  | 1.84s            |</pre>"
      ],
      "text/plain": [
       "| 474       | 500            | 299        | 129                  | 1.84s            |"
      ]
     },
     "metadata": {},
     "output_type": "display_data"
    },
    {
     "data": {
      "text/html": [
       "<pre>| 475       | 500            | 299        | 129                  | 1.84s            |</pre>"
      ],
      "text/plain": [
       "| 475       | 500            | 299        | 129                  | 1.84s            |"
      ]
     },
     "metadata": {},
     "output_type": "display_data"
    },
    {
     "data": {
      "text/html": [
       "<pre>| 476       | 500            | 299        | 129                  | 1.84s            |</pre>"
      ],
      "text/plain": [
       "| 476       | 500            | 299        | 129                  | 1.84s            |"
      ]
     },
     "metadata": {},
     "output_type": "display_data"
    },
    {
     "data": {
      "text/html": [
       "<pre>| 477       | 500            | 298        | 129                  | 1.84s            |</pre>"
      ],
      "text/plain": [
       "| 477       | 500            | 298        | 129                  | 1.84s            |"
      ]
     },
     "metadata": {},
     "output_type": "display_data"
    },
    {
     "data": {
      "text/html": [
       "<pre>| 478       | 500            | 297        | 129                  | 1.85s            |</pre>"
      ],
      "text/plain": [
       "| 478       | 500            | 297        | 129                  | 1.85s            |"
      ]
     },
     "metadata": {},
     "output_type": "display_data"
    },
    {
     "data": {
      "text/html": [
       "<pre>| 479       | 500            | 297        | 129                  | 1.85s            |</pre>"
      ],
      "text/plain": [
       "| 479       | 500            | 297        | 129                  | 1.85s            |"
      ]
     },
     "metadata": {},
     "output_type": "display_data"
    },
    {
     "data": {
      "text/html": [
       "<pre>| 480       | 500            | 297        | 129                  | 1.85s            |</pre>"
      ],
      "text/plain": [
       "| 480       | 500            | 297        | 129                  | 1.85s            |"
      ]
     },
     "metadata": {},
     "output_type": "display_data"
    },
    {
     "data": {
      "text/html": [
       "<pre>| 481       | 500            | 297        | 129                  | 1.85s            |</pre>"
      ],
      "text/plain": [
       "| 481       | 500            | 297        | 129                  | 1.85s            |"
      ]
     },
     "metadata": {},
     "output_type": "display_data"
    },
    {
     "data": {
      "text/html": [
       "<pre>| 482       | 500            | 296        | 129                  | 1.85s            |</pre>"
      ],
      "text/plain": [
       "| 482       | 500            | 296        | 129                  | 1.85s            |"
      ]
     },
     "metadata": {},
     "output_type": "display_data"
    },
    {
     "data": {
      "text/html": [
       "<pre>| 483       | 500            | 295        | 129                  | 1.85s            |</pre>"
      ],
      "text/plain": [
       "| 483       | 500            | 295        | 129                  | 1.85s            |"
      ]
     },
     "metadata": {},
     "output_type": "display_data"
    },
    {
     "data": {
      "text/html": [
       "<pre>| 484       | 500            | 295        | 129                  | 1.86s            |</pre>"
      ],
      "text/plain": [
       "| 484       | 500            | 295        | 129                  | 1.86s            |"
      ]
     },
     "metadata": {},
     "output_type": "display_data"
    },
    {
     "data": {
      "text/html": [
       "<pre>| 485       | 500            | 295        | 129                  | 1.86s            |</pre>"
      ],
      "text/plain": [
       "| 485       | 500            | 295        | 129                  | 1.86s            |"
      ]
     },
     "metadata": {},
     "output_type": "display_data"
    },
    {
     "data": {
      "text/html": [
       "<pre>| 486       | 500            | 294        | 129                  | 1.86s            |</pre>"
      ],
      "text/plain": [
       "| 486       | 500            | 294        | 129                  | 1.86s            |"
      ]
     },
     "metadata": {},
     "output_type": "display_data"
    },
    {
     "data": {
      "text/html": [
       "<pre>| 487       | 500            | 294        | 129                  | 1.86s            |</pre>"
      ],
      "text/plain": [
       "| 487       | 500            | 294        | 129                  | 1.86s            |"
      ]
     },
     "metadata": {},
     "output_type": "display_data"
    },
    {
     "data": {
      "text/html": [
       "<pre>| 488       | 500            | 293        | 129                  | 1.86s            |</pre>"
      ],
      "text/plain": [
       "| 488       | 500            | 293        | 129                  | 1.86s            |"
      ]
     },
     "metadata": {},
     "output_type": "display_data"
    },
    {
     "data": {
      "text/html": [
       "<pre>| 489       | 500            | 293        | 129                  | 1.87s            |</pre>"
      ],
      "text/plain": [
       "| 489       | 500            | 293        | 129                  | 1.87s            |"
      ]
     },
     "metadata": {},
     "output_type": "display_data"
    },
    {
     "data": {
      "text/html": [
       "<pre>| 490       | 500            | 292        | 129                  | 1.87s            |</pre>"
      ],
      "text/plain": [
       "| 490       | 500            | 292        | 129                  | 1.87s            |"
      ]
     },
     "metadata": {},
     "output_type": "display_data"
    },
    {
     "data": {
      "text/html": [
       "<pre>| 491       | 500            | 292        | 129                  | 1.87s            |</pre>"
      ],
      "text/plain": [
       "| 491       | 500            | 292        | 129                  | 1.87s            |"
      ]
     },
     "metadata": {},
     "output_type": "display_data"
    },
    {
     "data": {
      "text/html": [
       "<pre>| 492       | 500            | 291        | 129                  | 1.87s            |</pre>"
      ],
      "text/plain": [
       "| 492       | 500            | 291        | 129                  | 1.87s            |"
      ]
     },
     "metadata": {},
     "output_type": "display_data"
    },
    {
     "data": {
      "text/html": [
       "<pre>| 493       | 500            | 291        | 129                  | 1.87s            |</pre>"
      ],
      "text/plain": [
       "| 493       | 500            | 291        | 129                  | 1.87s            |"
      ]
     },
     "metadata": {},
     "output_type": "display_data"
    },
    {
     "data": {
      "text/html": [
       "<pre>| 494       | 500            | 291        | 129                  | 1.87s            |</pre>"
      ],
      "text/plain": [
       "| 494       | 500            | 291        | 129                  | 1.87s            |"
      ]
     },
     "metadata": {},
     "output_type": "display_data"
    },
    {
     "data": {
      "text/html": [
       "<pre>| 495       | 500            | 291        | 129                  | 1.88s            |</pre>"
      ],
      "text/plain": [
       "| 495       | 500            | 291        | 129                  | 1.88s            |"
      ]
     },
     "metadata": {},
     "output_type": "display_data"
    },
    {
     "data": {
      "text/html": [
       "<pre>| 496       | 500            | 290        | 129                  | 1.88s            |</pre>"
      ],
      "text/plain": [
       "| 496       | 500            | 290        | 129                  | 1.88s            |"
      ]
     },
     "metadata": {},
     "output_type": "display_data"
    },
    {
     "data": {
      "text/html": [
       "<pre>| 497       | 500            | 290        | 129                  | 1.88s            |</pre>"
      ],
      "text/plain": [
       "| 497       | 500            | 290        | 129                  | 1.88s            |"
      ]
     },
     "metadata": {},
     "output_type": "display_data"
    },
    {
     "data": {
      "text/html": [
       "<pre>| 498       | 500            | 290        | 129                  | 1.88s            |</pre>"
      ],
      "text/plain": [
       "| 498       | 500            | 290        | 129                  | 1.88s            |"
      ]
     },
     "metadata": {},
     "output_type": "display_data"
    },
    {
     "data": {
      "text/html": [
       "<pre>| 499       | 500            | 290        | 129                  | 1.88s            |</pre>"
      ],
      "text/plain": [
       "| 499       | 500            | 290        | 129                  | 1.88s            |"
      ]
     },
     "metadata": {},
     "output_type": "display_data"
    },
    {
     "data": {
      "text/html": [
       "<pre>| 500       | 500            | 290        | 129                  | 1.88s            |</pre>"
      ],
      "text/plain": [
       "| 500       | 500            | 290        | 129                  | 1.88s            |"
      ]
     },
     "metadata": {},
     "output_type": "display_data"
    },
    {
     "data": {
      "text/html": [
       "<pre>| 501       | 500            | 290        | 129                  | 1.89s            |</pre>"
      ],
      "text/plain": [
       "| 501       | 500            | 290        | 129                  | 1.89s            |"
      ]
     },
     "metadata": {},
     "output_type": "display_data"
    },
    {
     "data": {
      "text/html": [
       "<pre>| 502       | 500            | 289        | 129                  | 1.89s            |</pre>"
      ],
      "text/plain": [
       "| 502       | 500            | 289        | 129                  | 1.89s            |"
      ]
     },
     "metadata": {},
     "output_type": "display_data"
    },
    {
     "data": {
      "text/html": [
       "<pre>| 503       | 500            | 289        | 129                  | 1.89s            |</pre>"
      ],
      "text/plain": [
       "| 503       | 500            | 289        | 129                  | 1.89s            |"
      ]
     },
     "metadata": {},
     "output_type": "display_data"
    },
    {
     "data": {
      "text/html": [
       "<pre>| 504       | 500            | 289        | 129                  | 1.89s            |</pre>"
      ],
      "text/plain": [
       "| 504       | 500            | 289        | 129                  | 1.89s            |"
      ]
     },
     "metadata": {},
     "output_type": "display_data"
    },
    {
     "data": {
      "text/html": [
       "<pre>| 505       | 500            | 288        | 129                  | 1.90s            |</pre>"
      ],
      "text/plain": [
       "| 505       | 500            | 288        | 129                  | 1.90s            |"
      ]
     },
     "metadata": {},
     "output_type": "display_data"
    },
    {
     "data": {
      "text/html": [
       "<pre>| 506       | 500            | 287        | 129                  | 1.90s            |</pre>"
      ],
      "text/plain": [
       "| 506       | 500            | 287        | 129                  | 1.90s            |"
      ]
     },
     "metadata": {},
     "output_type": "display_data"
    },
    {
     "data": {
      "text/html": [
       "<pre>| 507       | 500            | 287        | 129                  | 1.90s            |</pre>"
      ],
      "text/plain": [
       "| 507       | 500            | 287        | 129                  | 1.90s            |"
      ]
     },
     "metadata": {},
     "output_type": "display_data"
    },
    {
     "data": {
      "text/html": [
       "<pre>| 508       | 500            | 287        | 129                  | 1.90s            |</pre>"
      ],
      "text/plain": [
       "| 508       | 500            | 287        | 129                  | 1.90s            |"
      ]
     },
     "metadata": {},
     "output_type": "display_data"
    },
    {
     "data": {
      "text/html": [
       "<pre>| 509       | 500            | 287        | 129                  | 1.90s            |</pre>"
      ],
      "text/plain": [
       "| 509       | 500            | 287        | 129                  | 1.90s            |"
      ]
     },
     "metadata": {},
     "output_type": "display_data"
    },
    {
     "data": {
      "text/html": [
       "<pre>| 510       | 500            | 286        | 129                  | 1.90s            |</pre>"
      ],
      "text/plain": [
       "| 510       | 500            | 286        | 129                  | 1.90s            |"
      ]
     },
     "metadata": {},
     "output_type": "display_data"
    },
    {
     "data": {
      "text/html": [
       "<pre>| 511       | 500            | 286        | 129                  | 1.91s            |</pre>"
      ],
      "text/plain": [
       "| 511       | 500            | 286        | 129                  | 1.91s            |"
      ]
     },
     "metadata": {},
     "output_type": "display_data"
    },
    {
     "data": {
      "text/html": [
       "<pre>| 512       | 500            | 286        | 129                  | 1.91s            |</pre>"
      ],
      "text/plain": [
       "| 512       | 500            | 286        | 129                  | 1.91s            |"
      ]
     },
     "metadata": {},
     "output_type": "display_data"
    },
    {
     "data": {
      "text/html": [
       "<pre>| 513       | 500            | 285        | 129                  | 1.91s            |</pre>"
      ],
      "text/plain": [
       "| 513       | 500            | 285        | 129                  | 1.91s            |"
      ]
     },
     "metadata": {},
     "output_type": "display_data"
    },
    {
     "data": {
      "text/html": [
       "<pre>| 514       | 500            | 284        | 129                  | 1.91s            |</pre>"
      ],
      "text/plain": [
       "| 514       | 500            | 284        | 129                  | 1.91s            |"
      ]
     },
     "metadata": {},
     "output_type": "display_data"
    },
    {
     "data": {
      "text/html": [
       "<pre>| 515       | 500            | 284        | 129                  | 1.91s            |</pre>"
      ],
      "text/plain": [
       "| 515       | 500            | 284        | 129                  | 1.91s            |"
      ]
     },
     "metadata": {},
     "output_type": "display_data"
    },
    {
     "data": {
      "text/html": [
       "<pre>| 516       | 500            | 282        | 129                  | 1.91s            |</pre>"
      ],
      "text/plain": [
       "| 516       | 500            | 282        | 129                  | 1.91s            |"
      ]
     },
     "metadata": {},
     "output_type": "display_data"
    },
    {
     "data": {
      "text/html": [
       "<pre>| 517       | 500            | 282        | 129                  | 1.92s            |</pre>"
      ],
      "text/plain": [
       "| 517       | 500            | 282        | 129                  | 1.92s            |"
      ]
     },
     "metadata": {},
     "output_type": "display_data"
    },
    {
     "data": {
      "text/html": [
       "<pre>| 518       | 500            | 281        | 129                  | 1.92s            |</pre>"
      ],
      "text/plain": [
       "| 518       | 500            | 281        | 129                  | 1.92s            |"
      ]
     },
     "metadata": {},
     "output_type": "display_data"
    },
    {
     "data": {
      "text/html": [
       "<pre>| 519       | 500            | 280        | 129                  | 1.92s            |</pre>"
      ],
      "text/plain": [
       "| 519       | 500            | 280        | 129                  | 1.92s            |"
      ]
     },
     "metadata": {},
     "output_type": "display_data"
    },
    {
     "data": {
      "text/html": [
       "<pre>| 520       | 500            | 280        | 129                  | 1.92s            |</pre>"
      ],
      "text/plain": [
       "| 520       | 500            | 280        | 129                  | 1.92s            |"
      ]
     },
     "metadata": {},
     "output_type": "display_data"
    },
    {
     "data": {
      "text/html": [
       "<pre>| 521       | 500            | 279        | 129                  | 1.92s            |</pre>"
      ],
      "text/plain": [
       "| 521       | 500            | 279        | 129                  | 1.92s            |"
      ]
     },
     "metadata": {},
     "output_type": "display_data"
    },
    {
     "data": {
      "text/html": [
       "<pre>| 522       | 500            | 279        | 129                  | 1.92s            |</pre>"
      ],
      "text/plain": [
       "| 522       | 500            | 279        | 129                  | 1.92s            |"
      ]
     },
     "metadata": {},
     "output_type": "display_data"
    },
    {
     "data": {
      "text/html": [
       "<pre>| 523       | 500            | 278        | 129                  | 1.93s            |</pre>"
      ],
      "text/plain": [
       "| 523       | 500            | 278        | 129                  | 1.93s            |"
      ]
     },
     "metadata": {},
     "output_type": "display_data"
    },
    {
     "data": {
      "text/html": [
       "<pre>| 524       | 500            | 278        | 129                  | 1.93s            |</pre>"
      ],
      "text/plain": [
       "| 524       | 500            | 278        | 129                  | 1.93s            |"
      ]
     },
     "metadata": {},
     "output_type": "display_data"
    },
    {
     "data": {
      "text/html": [
       "<pre>| 525       | 500            | 278        | 129                  | 1.93s            |</pre>"
      ],
      "text/plain": [
       "| 525       | 500            | 278        | 129                  | 1.93s            |"
      ]
     },
     "metadata": {},
     "output_type": "display_data"
    },
    {
     "data": {
      "text/html": [
       "<pre>| 526       | 500            | 278        | 129                  | 1.93s            |</pre>"
      ],
      "text/plain": [
       "| 526       | 500            | 278        | 129                  | 1.93s            |"
      ]
     },
     "metadata": {},
     "output_type": "display_data"
    },
    {
     "data": {
      "text/html": [
       "<pre>| 527       | 500            | 278        | 129                  | 1.93s            |</pre>"
      ],
      "text/plain": [
       "| 527       | 500            | 278        | 129                  | 1.93s            |"
      ]
     },
     "metadata": {},
     "output_type": "display_data"
    },
    {
     "data": {
      "text/html": [
       "<pre>| 528       | 500            | 277        | 129                  | 1.94s            |</pre>"
      ],
      "text/plain": [
       "| 528       | 500            | 277        | 129                  | 1.94s            |"
      ]
     },
     "metadata": {},
     "output_type": "display_data"
    },
    {
     "data": {
      "text/html": [
       "<pre>| 529       | 500            | 277        | 129                  | 1.94s            |</pre>"
      ],
      "text/plain": [
       "| 529       | 500            | 277        | 129                  | 1.94s            |"
      ]
     },
     "metadata": {},
     "output_type": "display_data"
    },
    {
     "data": {
      "text/html": [
       "<pre>| 530       | 500            | 277        | 129                  | 1.94s            |</pre>"
      ],
      "text/plain": [
       "| 530       | 500            | 277        | 129                  | 1.94s            |"
      ]
     },
     "metadata": {},
     "output_type": "display_data"
    },
    {
     "data": {
      "text/html": [
       "<pre>| 531       | 500            | 276        | 129                  | 1.94s            |</pre>"
      ],
      "text/plain": [
       "| 531       | 500            | 276        | 129                  | 1.94s            |"
      ]
     },
     "metadata": {},
     "output_type": "display_data"
    },
    {
     "data": {
      "text/html": [
       "<pre>| 532       | 500            | 276        | 129                  | 1.94s            |</pre>"
      ],
      "text/plain": [
       "| 532       | 500            | 276        | 129                  | 1.94s            |"
      ]
     },
     "metadata": {},
     "output_type": "display_data"
    },
    {
     "data": {
      "text/html": [
       "<pre>| 533       | 500            | 275        | 129                  | 1.94s            |</pre>"
      ],
      "text/plain": [
       "| 533       | 500            | 275        | 129                  | 1.94s            |"
      ]
     },
     "metadata": {},
     "output_type": "display_data"
    },
    {
     "data": {
      "text/html": [
       "<pre>| 534       | 500            | 275        | 129                  | 1.95s            |</pre>"
      ],
      "text/plain": [
       "| 534       | 500            | 275        | 129                  | 1.95s            |"
      ]
     },
     "metadata": {},
     "output_type": "display_data"
    },
    {
     "data": {
      "text/html": [
       "<pre>| 535       | 500            | 275        | 129                  | 1.95s            |</pre>"
      ],
      "text/plain": [
       "| 535       | 500            | 275        | 129                  | 1.95s            |"
      ]
     },
     "metadata": {},
     "output_type": "display_data"
    },
    {
     "data": {
      "text/html": [
       "<pre>| 536       | 500            | 274        | 129                  | 1.95s            |</pre>"
      ],
      "text/plain": [
       "| 536       | 500            | 274        | 129                  | 1.95s            |"
      ]
     },
     "metadata": {},
     "output_type": "display_data"
    },
    {
     "data": {
      "text/html": [
       "<pre>| 537       | 500            | 274        | 129                  | 1.95s            |</pre>"
      ],
      "text/plain": [
       "| 537       | 500            | 274        | 129                  | 1.95s            |"
      ]
     },
     "metadata": {},
     "output_type": "display_data"
    },
    {
     "data": {
      "text/html": [
       "<pre>| 538       | 500            | 274        | 129                  | 1.95s            |</pre>"
      ],
      "text/plain": [
       "| 538       | 500            | 274        | 129                  | 1.95s            |"
      ]
     },
     "metadata": {},
     "output_type": "display_data"
    },
    {
     "data": {
      "text/html": [
       "<pre>| 539       | 500            | 274        | 129                  | 1.95s            |</pre>"
      ],
      "text/plain": [
       "| 539       | 500            | 274        | 129                  | 1.95s            |"
      ]
     },
     "metadata": {},
     "output_type": "display_data"
    },
    {
     "data": {
      "text/html": [
       "<pre>| 540       | 500            | 274        | 129                  | 1.96s            |</pre>"
      ],
      "text/plain": [
       "| 540       | 500            | 274        | 129                  | 1.96s            |"
      ]
     },
     "metadata": {},
     "output_type": "display_data"
    },
    {
     "data": {
      "text/html": [
       "<pre>| 541       | 500            | 273        | 129                  | 1.96s            |</pre>"
      ],
      "text/plain": [
       "| 541       | 500            | 273        | 129                  | 1.96s            |"
      ]
     },
     "metadata": {},
     "output_type": "display_data"
    },
    {
     "data": {
      "text/html": [
       "<pre>| 542       | 500            | 272        | 129                  | 1.96s            |</pre>"
      ],
      "text/plain": [
       "| 542       | 500            | 272        | 129                  | 1.96s            |"
      ]
     },
     "metadata": {},
     "output_type": "display_data"
    },
    {
     "data": {
      "text/html": [
       "<pre>| 543       | 500            | 272        | 129                  | 1.96s            |</pre>"
      ],
      "text/plain": [
       "| 543       | 500            | 272        | 129                  | 1.96s            |"
      ]
     },
     "metadata": {},
     "output_type": "display_data"
    },
    {
     "data": {
      "text/html": [
       "<pre>| 544       | 500            | 271        | 129                  | 1.96s            |</pre>"
      ],
      "text/plain": [
       "| 544       | 500            | 271        | 129                  | 1.96s            |"
      ]
     },
     "metadata": {},
     "output_type": "display_data"
    },
    {
     "data": {
      "text/html": [
       "<pre>| 545       | 500            | 271        | 129                  | 1.96s            |</pre>"
      ],
      "text/plain": [
       "| 545       | 500            | 271        | 129                  | 1.96s            |"
      ]
     },
     "metadata": {},
     "output_type": "display_data"
    },
    {
     "data": {
      "text/html": [
       "<pre>| 546       | 500            | 271        | 129                  | 1.97s            |</pre>"
      ],
      "text/plain": [
       "| 546       | 500            | 271        | 129                  | 1.97s            |"
      ]
     },
     "metadata": {},
     "output_type": "display_data"
    },
    {
     "data": {
      "text/html": [
       "<pre>| 547       | 500            | 270        | 129                  | 1.97s            |</pre>"
      ],
      "text/plain": [
       "| 547       | 500            | 270        | 129                  | 1.97s            |"
      ]
     },
     "metadata": {},
     "output_type": "display_data"
    },
    {
     "data": {
      "text/html": [
       "<pre>| 548       | 500            | 270        | 129                  | 1.97s            |</pre>"
      ],
      "text/plain": [
       "| 548       | 500            | 270        | 129                  | 1.97s            |"
      ]
     },
     "metadata": {},
     "output_type": "display_data"
    },
    {
     "data": {
      "text/html": [
       "<pre>| 549       | 500            | 270        | 129                  | 1.97s            |</pre>"
      ],
      "text/plain": [
       "| 549       | 500            | 270        | 129                  | 1.97s            |"
      ]
     },
     "metadata": {},
     "output_type": "display_data"
    },
    {
     "data": {
      "text/html": [
       "<pre>| 550       | 500            | 269        | 129                  | 1.97s            |</pre>"
      ],
      "text/plain": [
       "| 550       | 500            | 269        | 129                  | 1.97s            |"
      ]
     },
     "metadata": {},
     "output_type": "display_data"
    },
    {
     "data": {
      "text/html": [
       "<pre>| 551       | 500            | 268        | 129                  | 1.98s            |</pre>"
      ],
      "text/plain": [
       "| 551       | 500            | 268        | 129                  | 1.98s            |"
      ]
     },
     "metadata": {},
     "output_type": "display_data"
    },
    {
     "data": {
      "text/html": [
       "<pre>| 552       | 500            | 268        | 129                  | 1.98s            |</pre>"
      ],
      "text/plain": [
       "| 552       | 500            | 268        | 129                  | 1.98s            |"
      ]
     },
     "metadata": {},
     "output_type": "display_data"
    },
    {
     "data": {
      "text/html": [
       "<pre>| 553       | 500            | 267        | 129                  | 1.98s            |</pre>"
      ],
      "text/plain": [
       "| 553       | 500            | 267        | 129                  | 1.98s            |"
      ]
     },
     "metadata": {},
     "output_type": "display_data"
    },
    {
     "data": {
      "text/html": [
       "<pre>| 554       | 500            | 267        | 129                  | 1.98s            |</pre>"
      ],
      "text/plain": [
       "| 554       | 500            | 267        | 129                  | 1.98s            |"
      ]
     },
     "metadata": {},
     "output_type": "display_data"
    },
    {
     "data": {
      "text/html": [
       "<pre>| 555       | 500            | 267        | 129                  | 1.98s            |</pre>"
      ],
      "text/plain": [
       "| 555       | 500            | 267        | 129                  | 1.98s            |"
      ]
     },
     "metadata": {},
     "output_type": "display_data"
    },
    {
     "data": {
      "text/html": [
       "<pre>| 556       | 500            | 267        | 129                  | 1.99s            |</pre>"
      ],
      "text/plain": [
       "| 556       | 500            | 267        | 129                  | 1.99s            |"
      ]
     },
     "metadata": {},
     "output_type": "display_data"
    },
    {
     "data": {
      "text/html": [
       "<pre>| 557       | 500            | 266        | 129                  | 1.99s            |</pre>"
      ],
      "text/plain": [
       "| 557       | 500            | 266        | 129                  | 1.99s            |"
      ]
     },
     "metadata": {},
     "output_type": "display_data"
    },
    {
     "data": {
      "text/html": [
       "<pre>| 558       | 500            | 266        | 129                  | 1.99s            |</pre>"
      ],
      "text/plain": [
       "| 558       | 500            | 266        | 129                  | 1.99s            |"
      ]
     },
     "metadata": {},
     "output_type": "display_data"
    },
    {
     "data": {
      "text/html": [
       "<pre>| 559       | 500            | 266        | 129                  | 1.99s            |</pre>"
      ],
      "text/plain": [
       "| 559       | 500            | 266        | 129                  | 1.99s            |"
      ]
     },
     "metadata": {},
     "output_type": "display_data"
    },
    {
     "data": {
      "text/html": [
       "<pre>| 560       | 500            | 266        | 129                  | 1.99s            |</pre>"
      ],
      "text/plain": [
       "| 560       | 500            | 266        | 129                  | 1.99s            |"
      ]
     },
     "metadata": {},
     "output_type": "display_data"
    },
    {
     "data": {
      "text/html": [
       "<pre>| 561       | 500            | 266        | 129                  | 2.00s            |</pre>"
      ],
      "text/plain": [
       "| 561       | 500            | 266        | 129                  | 2.00s            |"
      ]
     },
     "metadata": {},
     "output_type": "display_data"
    },
    {
     "data": {
      "text/html": [
       "<pre>| 562       | 500            | 265        | 129                  | 2.00s            |</pre>"
      ],
      "text/plain": [
       "| 562       | 500            | 265        | 129                  | 2.00s            |"
      ]
     },
     "metadata": {},
     "output_type": "display_data"
    },
    {
     "data": {
      "text/html": [
       "<pre>| 563       | 500            | 264        | 129                  | 2.00s            |</pre>"
      ],
      "text/plain": [
       "| 563       | 500            | 264        | 129                  | 2.00s            |"
      ]
     },
     "metadata": {},
     "output_type": "display_data"
    },
    {
     "data": {
      "text/html": [
       "<pre>| 564       | 500            | 264        | 129                  | 2.00s            |</pre>"
      ],
      "text/plain": [
       "| 564       | 500            | 264        | 129                  | 2.00s            |"
      ]
     },
     "metadata": {},
     "output_type": "display_data"
    },
    {
     "data": {
      "text/html": [
       "<pre>| 565       | 500            | 263        | 129                  | 2.00s            |</pre>"
      ],
      "text/plain": [
       "| 565       | 500            | 263        | 129                  | 2.00s            |"
      ]
     },
     "metadata": {},
     "output_type": "display_data"
    },
    {
     "data": {
      "text/html": [
       "<pre>| 566       | 500            | 262        | 129                  | 2.00s            |</pre>"
      ],
      "text/plain": [
       "| 566       | 500            | 262        | 129                  | 2.00s            |"
      ]
     },
     "metadata": {},
     "output_type": "display_data"
    },
    {
     "data": {
      "text/html": [
       "<pre>| 567       | 500            | 262        | 129                  | 2.00s            |</pre>"
      ],
      "text/plain": [
       "| 567       | 500            | 262        | 129                  | 2.00s            |"
      ]
     },
     "metadata": {},
     "output_type": "display_data"
    },
    {
     "data": {
      "text/html": [
       "<pre>| 568       | 500            | 262        | 129                  | 2.01s            |</pre>"
      ],
      "text/plain": [
       "| 568       | 500            | 262        | 129                  | 2.01s            |"
      ]
     },
     "metadata": {},
     "output_type": "display_data"
    },
    {
     "data": {
      "text/html": [
       "<pre>| 569       | 500            | 262        | 129                  | 2.01s            |</pre>"
      ],
      "text/plain": [
       "| 569       | 500            | 262        | 129                  | 2.01s            |"
      ]
     },
     "metadata": {},
     "output_type": "display_data"
    },
    {
     "data": {
      "text/html": [
       "<pre>| 570       | 500            | 262        | 129                  | 2.01s            |</pre>"
      ],
      "text/plain": [
       "| 570       | 500            | 262        | 129                  | 2.01s            |"
      ]
     },
     "metadata": {},
     "output_type": "display_data"
    },
    {
     "data": {
      "text/html": [
       "<pre>| 571       | 500            | 261        | 129                  | 2.01s            |</pre>"
      ],
      "text/plain": [
       "| 571       | 500            | 261        | 129                  | 2.01s            |"
      ]
     },
     "metadata": {},
     "output_type": "display_data"
    },
    {
     "data": {
      "text/html": [
       "<pre>| 572       | 500            | 261        | 129                  | 2.01s            |</pre>"
      ],
      "text/plain": [
       "| 572       | 500            | 261        | 129                  | 2.01s            |"
      ]
     },
     "metadata": {},
     "output_type": "display_data"
    },
    {
     "data": {
      "text/html": [
       "<pre>| 573       | 500            | 261        | 129                  | 2.02s            |</pre>"
      ],
      "text/plain": [
       "| 573       | 500            | 261        | 129                  | 2.02s            |"
      ]
     },
     "metadata": {},
     "output_type": "display_data"
    },
    {
     "data": {
      "text/html": [
       "<pre>| 574       | 500            | 261        | 129                  | 2.02s            |</pre>"
      ],
      "text/plain": [
       "| 574       | 500            | 261        | 129                  | 2.02s            |"
      ]
     },
     "metadata": {},
     "output_type": "display_data"
    },
    {
     "data": {
      "text/html": [
       "<pre>| 575       | 500            | 261        | 129                  | 2.02s            |</pre>"
      ],
      "text/plain": [
       "| 575       | 500            | 261        | 129                  | 2.02s            |"
      ]
     },
     "metadata": {},
     "output_type": "display_data"
    },
    {
     "data": {
      "text/html": [
       "<pre>| 576       | 500            | 261        | 129                  | 2.02s            |</pre>"
      ],
      "text/plain": [
       "| 576       | 500            | 261        | 129                  | 2.02s            |"
      ]
     },
     "metadata": {},
     "output_type": "display_data"
    },
    {
     "data": {
      "text/html": [
       "<pre>| 577       | 500            | 260        | 129                  | 2.02s            |</pre>"
      ],
      "text/plain": [
       "| 577       | 500            | 260        | 129                  | 2.02s            |"
      ]
     },
     "metadata": {},
     "output_type": "display_data"
    },
    {
     "data": {
      "text/html": [
       "<pre>| 578       | 500            | 259        | 129                  | 2.02s            |</pre>"
      ],
      "text/plain": [
       "| 578       | 500            | 259        | 129                  | 2.02s            |"
      ]
     },
     "metadata": {},
     "output_type": "display_data"
    },
    {
     "data": {
      "text/html": [
       "<pre>| 579       | 500            | 259        | 129                  | 2.03s            |</pre>"
      ],
      "text/plain": [
       "| 579       | 500            | 259        | 129                  | 2.03s            |"
      ]
     },
     "metadata": {},
     "output_type": "display_data"
    },
    {
     "data": {
      "text/html": [
       "<pre>| 580       | 500            | 258        | 129                  | 2.03s            |</pre>"
      ],
      "text/plain": [
       "| 580       | 500            | 258        | 129                  | 2.03s            |"
      ]
     },
     "metadata": {},
     "output_type": "display_data"
    },
    {
     "data": {
      "text/html": [
       "<pre>| 581       | 500            | 258        | 129                  | 2.03s            |</pre>"
      ],
      "text/plain": [
       "| 581       | 500            | 258        | 129                  | 2.03s            |"
      ]
     },
     "metadata": {},
     "output_type": "display_data"
    },
    {
     "data": {
      "text/html": [
       "<pre>| 582       | 500            | 257        | 129                  | 2.03s            |</pre>"
      ],
      "text/plain": [
       "| 582       | 500            | 257        | 129                  | 2.03s            |"
      ]
     },
     "metadata": {},
     "output_type": "display_data"
    },
    {
     "data": {
      "text/html": [
       "<pre>| 583       | 500            | 257        | 129                  | 2.03s            |</pre>"
      ],
      "text/plain": [
       "| 583       | 500            | 257        | 129                  | 2.03s            |"
      ]
     },
     "metadata": {},
     "output_type": "display_data"
    },
    {
     "data": {
      "text/html": [
       "<pre>| 584       | 500            | 257        | 129                  | 2.03s            |</pre>"
      ],
      "text/plain": [
       "| 584       | 500            | 257        | 129                  | 2.03s            |"
      ]
     },
     "metadata": {},
     "output_type": "display_data"
    },
    {
     "data": {
      "text/html": [
       "<pre>| 585       | 500            | 257        | 129                  | 2.04s            |</pre>"
      ],
      "text/plain": [
       "| 585       | 500            | 257        | 129                  | 2.04s            |"
      ]
     },
     "metadata": {},
     "output_type": "display_data"
    },
    {
     "data": {
      "text/html": [
       "<pre>| 586       | 500            | 256        | 129                  | 2.04s            |</pre>"
      ],
      "text/plain": [
       "| 586       | 500            | 256        | 129                  | 2.04s            |"
      ]
     },
     "metadata": {},
     "output_type": "display_data"
    },
    {
     "data": {
      "text/html": [
       "<pre>| 587       | 500            | 256        | 129                  | 2.04s            |</pre>"
      ],
      "text/plain": [
       "| 587       | 500            | 256        | 129                  | 2.04s            |"
      ]
     },
     "metadata": {},
     "output_type": "display_data"
    },
    {
     "data": {
      "text/html": [
       "<pre>| 588       | 500            | 256        | 129                  | 2.04s            |</pre>"
      ],
      "text/plain": [
       "| 588       | 500            | 256        | 129                  | 2.04s            |"
      ]
     },
     "metadata": {},
     "output_type": "display_data"
    },
    {
     "data": {
      "text/html": [
       "<pre>| 589       | 500            | 255        | 129                  | 2.04s            |</pre>"
      ],
      "text/plain": [
       "| 589       | 500            | 255        | 129                  | 2.04s            |"
      ]
     },
     "metadata": {},
     "output_type": "display_data"
    },
    {
     "data": {
      "text/html": [
       "<pre>| 590       | 500            | 255        | 129                  | 2.05s            |</pre>"
      ],
      "text/plain": [
       "| 590       | 500            | 255        | 129                  | 2.05s            |"
      ]
     },
     "metadata": {},
     "output_type": "display_data"
    },
    {
     "data": {
      "text/html": [
       "<pre>| 591       | 500            | 255        | 129                  | 2.05s            |</pre>"
      ],
      "text/plain": [
       "| 591       | 500            | 255        | 129                  | 2.05s            |"
      ]
     },
     "metadata": {},
     "output_type": "display_data"
    },
    {
     "data": {
      "text/html": [
       "<pre>| 592       | 500            | 255        | 129                  | 2.05s            |</pre>"
      ],
      "text/plain": [
       "| 592       | 500            | 255        | 129                  | 2.05s            |"
      ]
     },
     "metadata": {},
     "output_type": "display_data"
    },
    {
     "data": {
      "text/html": [
       "<pre>| 593       | 500            | 255        | 129                  | 2.05s            |</pre>"
      ],
      "text/plain": [
       "| 593       | 500            | 255        | 129                  | 2.05s            |"
      ]
     },
     "metadata": {},
     "output_type": "display_data"
    },
    {
     "data": {
      "text/html": [
       "<pre>| 594       | 500            | 255        | 129                  | 2.05s            |</pre>"
      ],
      "text/plain": [
       "| 594       | 500            | 255        | 129                  | 2.05s            |"
      ]
     },
     "metadata": {},
     "output_type": "display_data"
    },
    {
     "data": {
      "text/html": [
       "<pre>| 595       | 500            | 254        | 129                  | 2.05s            |</pre>"
      ],
      "text/plain": [
       "| 595       | 500            | 254        | 129                  | 2.05s            |"
      ]
     },
     "metadata": {},
     "output_type": "display_data"
    },
    {
     "data": {
      "text/html": [
       "<pre>| 596       | 500            | 254        | 129                  | 2.06s            |</pre>"
      ],
      "text/plain": [
       "| 596       | 500            | 254        | 129                  | 2.06s            |"
      ]
     },
     "metadata": {},
     "output_type": "display_data"
    },
    {
     "data": {
      "text/html": [
       "<pre>| 597       | 500            | 252        | 129                  | 2.06s            |</pre>"
      ],
      "text/plain": [
       "| 597       | 500            | 252        | 129                  | 2.06s            |"
      ]
     },
     "metadata": {},
     "output_type": "display_data"
    },
    {
     "data": {
      "text/html": [
       "<pre>| 598       | 500            | 252        | 129                  | 2.06s            |</pre>"
      ],
      "text/plain": [
       "| 598       | 500            | 252        | 129                  | 2.06s            |"
      ]
     },
     "metadata": {},
     "output_type": "display_data"
    },
    {
     "data": {
      "text/html": [
       "<pre>| 599       | 500            | 252        | 129                  | 2.06s            |</pre>"
      ],
      "text/plain": [
       "| 599       | 500            | 252        | 129                  | 2.06s            |"
      ]
     },
     "metadata": {},
     "output_type": "display_data"
    },
    {
     "data": {
      "text/html": [
       "<pre>| 600       | 500            | 251        | 129                  | 2.06s            |</pre>"
      ],
      "text/plain": [
       "| 600       | 500            | 251        | 129                  | 2.06s            |"
      ]
     },
     "metadata": {},
     "output_type": "display_data"
    },
    {
     "data": {
      "text/html": [
       "<pre>| 601       | 500            | 251        | 129                  | 2.06s            |</pre>"
      ],
      "text/plain": [
       "| 601       | 500            | 251        | 129                  | 2.06s            |"
      ]
     },
     "metadata": {},
     "output_type": "display_data"
    },
    {
     "data": {
      "text/html": [
       "<pre>| 602       | 500            | 251        | 129                  | 2.07s            |</pre>"
      ],
      "text/plain": [
       "| 602       | 500            | 251        | 129                  | 2.07s            |"
      ]
     },
     "metadata": {},
     "output_type": "display_data"
    },
    {
     "data": {
      "text/html": [
       "<pre>| 603       | 500            | 250        | 129                  | 2.07s            |</pre>"
      ],
      "text/plain": [
       "| 603       | 500            | 250        | 129                  | 2.07s            |"
      ]
     },
     "metadata": {},
     "output_type": "display_data"
    },
    {
     "data": {
      "text/html": [
       "<pre>| 604       | 500            | 250        | 129                  | 2.07s            |</pre>"
      ],
      "text/plain": [
       "| 604       | 500            | 250        | 129                  | 2.07s            |"
      ]
     },
     "metadata": {},
     "output_type": "display_data"
    },
    {
     "data": {
      "text/html": [
       "<pre>| 605       | 500            | 249        | 129                  | 2.07s            |</pre>"
      ],
      "text/plain": [
       "| 605       | 500            | 249        | 129                  | 2.07s            |"
      ]
     },
     "metadata": {},
     "output_type": "display_data"
    },
    {
     "data": {
      "text/html": [
       "<pre>| 606       | 500            | 248        | 129                  | 2.07s            |</pre>"
      ],
      "text/plain": [
       "| 606       | 500            | 248        | 129                  | 2.07s            |"
      ]
     },
     "metadata": {},
     "output_type": "display_data"
    },
    {
     "data": {
      "text/html": [
       "<pre>| 607       | 500            | 248        | 129                  | 2.08s            |</pre>"
      ],
      "text/plain": [
       "| 607       | 500            | 248        | 129                  | 2.08s            |"
      ]
     },
     "metadata": {},
     "output_type": "display_data"
    },
    {
     "data": {
      "text/html": [
       "<pre>| 608       | 500            | 248        | 129                  | 2.08s            |</pre>"
      ],
      "text/plain": [
       "| 608       | 500            | 248        | 129                  | 2.08s            |"
      ]
     },
     "metadata": {},
     "output_type": "display_data"
    },
    {
     "data": {
      "text/html": [
       "<pre>| 609       | 500            | 248        | 129                  | 2.08s            |</pre>"
      ],
      "text/plain": [
       "| 609       | 500            | 248        | 129                  | 2.08s            |"
      ]
     },
     "metadata": {},
     "output_type": "display_data"
    },
    {
     "data": {
      "text/html": [
       "<pre>| 610       | 500            | 247        | 129                  | 2.08s            |</pre>"
      ],
      "text/plain": [
       "| 610       | 500            | 247        | 129                  | 2.08s            |"
      ]
     },
     "metadata": {},
     "output_type": "display_data"
    },
    {
     "data": {
      "text/html": [
       "<pre>| 611       | 500            | 247        | 129                  | 2.08s            |</pre>"
      ],
      "text/plain": [
       "| 611       | 500            | 247        | 129                  | 2.08s            |"
      ]
     },
     "metadata": {},
     "output_type": "display_data"
    },
    {
     "data": {
      "text/html": [
       "<pre>| 612       | 500            | 247        | 129                  | 2.08s            |</pre>"
      ],
      "text/plain": [
       "| 612       | 500            | 247        | 129                  | 2.08s            |"
      ]
     },
     "metadata": {},
     "output_type": "display_data"
    },
    {
     "data": {
      "text/html": [
       "<pre>| 613       | 500            | 246        | 129                  | 2.09s            |</pre>"
      ],
      "text/plain": [
       "| 613       | 500            | 246        | 129                  | 2.09s            |"
      ]
     },
     "metadata": {},
     "output_type": "display_data"
    },
    {
     "data": {
      "text/html": [
       "<pre>| 614       | 500            | 246        | 129                  | 2.09s            |</pre>"
      ],
      "text/plain": [
       "| 614       | 500            | 246        | 129                  | 2.09s            |"
      ]
     },
     "metadata": {},
     "output_type": "display_data"
    },
    {
     "data": {
      "text/html": [
       "<pre>| 615       | 500            | 246        | 129                  | 2.09s            |</pre>"
      ],
      "text/plain": [
       "| 615       | 500            | 246        | 129                  | 2.09s            |"
      ]
     },
     "metadata": {},
     "output_type": "display_data"
    },
    {
     "data": {
      "text/html": [
       "<pre>| 616       | 500            | 246        | 129                  | 2.09s            |</pre>"
      ],
      "text/plain": [
       "| 616       | 500            | 246        | 129                  | 2.09s            |"
      ]
     },
     "metadata": {},
     "output_type": "display_data"
    },
    {
     "data": {
      "text/html": [
       "<pre>| 617       | 500            | 246        | 129                  | 2.09s            |</pre>"
      ],
      "text/plain": [
       "| 617       | 500            | 246        | 129                  | 2.09s            |"
      ]
     },
     "metadata": {},
     "output_type": "display_data"
    },
    {
     "data": {
      "text/html": [
       "<pre>| 618       | 500            | 246        | 129                  | 2.09s            |</pre>"
      ],
      "text/plain": [
       "| 618       | 500            | 246        | 129                  | 2.09s            |"
      ]
     },
     "metadata": {},
     "output_type": "display_data"
    },
    {
     "data": {
      "text/html": [
       "<pre>| 619       | 500            | 246        | 129                  | 2.10s            |</pre>"
      ],
      "text/plain": [
       "| 619       | 500            | 246        | 129                  | 2.10s            |"
      ]
     },
     "metadata": {},
     "output_type": "display_data"
    },
    {
     "data": {
      "text/html": [
       "<pre>| 620       | 500            | 246        | 129                  | 2.10s            |</pre>"
      ],
      "text/plain": [
       "| 620       | 500            | 246        | 129                  | 2.10s            |"
      ]
     },
     "metadata": {},
     "output_type": "display_data"
    },
    {
     "data": {
      "text/html": [
       "<pre>| 621       | 500            | 245        | 129                  | 2.10s            |</pre>"
      ],
      "text/plain": [
       "| 621       | 500            | 245        | 129                  | 2.10s            |"
      ]
     },
     "metadata": {},
     "output_type": "display_data"
    },
    {
     "data": {
      "text/html": [
       "<pre>| 622       | 500            | 245        | 129                  | 2.10s            |</pre>"
      ],
      "text/plain": [
       "| 622       | 500            | 245        | 129                  | 2.10s            |"
      ]
     },
     "metadata": {},
     "output_type": "display_data"
    },
    {
     "data": {
      "text/html": [
       "<pre>| 623       | 500            | 244        | 129                  | 2.10s            |</pre>"
      ],
      "text/plain": [
       "| 623       | 500            | 244        | 129                  | 2.10s            |"
      ]
     },
     "metadata": {},
     "output_type": "display_data"
    },
    {
     "data": {
      "text/html": [
       "<pre>| 624       | 500            | 244        | 129                  | 2.11s            |</pre>"
      ],
      "text/plain": [
       "| 624       | 500            | 244        | 129                  | 2.11s            |"
      ]
     },
     "metadata": {},
     "output_type": "display_data"
    },
    {
     "data": {
      "text/html": [
       "<pre>| 625       | 500            | 244        | 129                  | 2.11s            |</pre>"
      ],
      "text/plain": [
       "| 625       | 500            | 244        | 129                  | 2.11s            |"
      ]
     },
     "metadata": {},
     "output_type": "display_data"
    },
    {
     "data": {
      "text/html": [
       "<pre>| 626       | 500            | 244        | 129                  | 2.11s            |</pre>"
      ],
      "text/plain": [
       "| 626       | 500            | 244        | 129                  | 2.11s            |"
      ]
     },
     "metadata": {},
     "output_type": "display_data"
    },
    {
     "data": {
      "text/html": [
       "<pre>| 627       | 500            | 243        | 129                  | 2.11s            |</pre>"
      ],
      "text/plain": [
       "| 627       | 500            | 243        | 129                  | 2.11s            |"
      ]
     },
     "metadata": {},
     "output_type": "display_data"
    },
    {
     "data": {
      "text/html": [
       "<pre>| 628       | 500            | 243        | 129                  | 2.11s            |</pre>"
      ],
      "text/plain": [
       "| 628       | 500            | 243        | 129                  | 2.11s            |"
      ]
     },
     "metadata": {},
     "output_type": "display_data"
    },
    {
     "data": {
      "text/html": [
       "<pre>| 629       | 500            | 242        | 129                  | 2.12s            |</pre>"
      ],
      "text/plain": [
       "| 629       | 500            | 242        | 129                  | 2.12s            |"
      ]
     },
     "metadata": {},
     "output_type": "display_data"
    },
    {
     "data": {
      "text/html": [
       "<pre>| 630       | 500            | 242        | 129                  | 2.12s            |</pre>"
      ],
      "text/plain": [
       "| 630       | 500            | 242        | 129                  | 2.12s            |"
      ]
     },
     "metadata": {},
     "output_type": "display_data"
    },
    {
     "data": {
      "text/html": [
       "<pre>| 631       | 500            | 242        | 129                  | 2.12s            |</pre>"
      ],
      "text/plain": [
       "| 631       | 500            | 242        | 129                  | 2.12s            |"
      ]
     },
     "metadata": {},
     "output_type": "display_data"
    },
    {
     "data": {
      "text/html": [
       "<pre>| 632       | 500            | 241        | 129                  | 2.12s            |</pre>"
      ],
      "text/plain": [
       "| 632       | 500            | 241        | 129                  | 2.12s            |"
      ]
     },
     "metadata": {},
     "output_type": "display_data"
    },
    {
     "data": {
      "text/html": [
       "<pre>| 633       | 500            | 241        | 129                  | 2.12s            |</pre>"
      ],
      "text/plain": [
       "| 633       | 500            | 241        | 129                  | 2.12s            |"
      ]
     },
     "metadata": {},
     "output_type": "display_data"
    },
    {
     "data": {
      "text/html": [
       "<pre>| 634       | 500            | 241        | 129                  | 2.12s            |</pre>"
      ],
      "text/plain": [
       "| 634       | 500            | 241        | 129                  | 2.12s            |"
      ]
     },
     "metadata": {},
     "output_type": "display_data"
    },
    {
     "data": {
      "text/html": [
       "<pre>| 635       | 500            | 241        | 129                  | 2.13s            |</pre>"
      ],
      "text/plain": [
       "| 635       | 500            | 241        | 129                  | 2.13s            |"
      ]
     },
     "metadata": {},
     "output_type": "display_data"
    },
    {
     "data": {
      "text/html": [
       "<pre>| 636       | 500            | 241        | 129                  | 2.13s            |</pre>"
      ],
      "text/plain": [
       "| 636       | 500            | 241        | 129                  | 2.13s            |"
      ]
     },
     "metadata": {},
     "output_type": "display_data"
    },
    {
     "data": {
      "text/html": [
       "<pre>| 637       | 500            | 240        | 129                  | 2.13s            |</pre>"
      ],
      "text/plain": [
       "| 637       | 500            | 240        | 129                  | 2.13s            |"
      ]
     },
     "metadata": {},
     "output_type": "display_data"
    },
    {
     "data": {
      "text/html": [
       "<pre>| 638       | 500            | 240        | 129                  | 2.13s            |</pre>"
      ],
      "text/plain": [
       "| 638       | 500            | 240        | 129                  | 2.13s            |"
      ]
     },
     "metadata": {},
     "output_type": "display_data"
    },
    {
     "data": {
      "text/html": [
       "<pre>| 639       | 500            | 240        | 129                  | 2.13s            |</pre>"
      ],
      "text/plain": [
       "| 639       | 500            | 240        | 129                  | 2.13s            |"
      ]
     },
     "metadata": {},
     "output_type": "display_data"
    },
    {
     "data": {
      "text/html": [
       "<pre>| 640       | 500            | 240        | 129                  | 2.14s            |</pre>"
      ],
      "text/plain": [
       "| 640       | 500            | 240        | 129                  | 2.14s            |"
      ]
     },
     "metadata": {},
     "output_type": "display_data"
    },
    {
     "data": {
      "text/html": [
       "<pre>| 641       | 500            | 240        | 129                  | 2.14s            |</pre>"
      ],
      "text/plain": [
       "| 641       | 500            | 240        | 129                  | 2.14s            |"
      ]
     },
     "metadata": {},
     "output_type": "display_data"
    },
    {
     "data": {
      "text/html": [
       "<pre>| 642       | 500            | 239        | 129                  | 2.14s            |</pre>"
      ],
      "text/plain": [
       "| 642       | 500            | 239        | 129                  | 2.14s            |"
      ]
     },
     "metadata": {},
     "output_type": "display_data"
    },
    {
     "data": {
      "text/html": [
       "<pre>| 643       | 500            | 239        | 129                  | 2.14s            |</pre>"
      ],
      "text/plain": [
       "| 643       | 500            | 239        | 129                  | 2.14s            |"
      ]
     },
     "metadata": {},
     "output_type": "display_data"
    },
    {
     "data": {
      "text/html": [
       "<pre>| 644       | 500            | 239        | 129                  | 2.14s            |</pre>"
      ],
      "text/plain": [
       "| 644       | 500            | 239        | 129                  | 2.14s            |"
      ]
     },
     "metadata": {},
     "output_type": "display_data"
    },
    {
     "data": {
      "text/html": [
       "<pre>| 645       | 500            | 239        | 129                  | 2.14s            |</pre>"
      ],
      "text/plain": [
       "| 645       | 500            | 239        | 129                  | 2.14s            |"
      ]
     },
     "metadata": {},
     "output_type": "display_data"
    },
    {
     "data": {
      "text/html": [
       "<pre>| 646       | 500            | 238        | 129                  | 2.15s            |</pre>"
      ],
      "text/plain": [
       "| 646       | 500            | 238        | 129                  | 2.15s            |"
      ]
     },
     "metadata": {},
     "output_type": "display_data"
    },
    {
     "data": {
      "text/html": [
       "<pre>| 647       | 500            | 238        | 129                  | 2.15s            |</pre>"
      ],
      "text/plain": [
       "| 647       | 500            | 238        | 129                  | 2.15s            |"
      ]
     },
     "metadata": {},
     "output_type": "display_data"
    },
    {
     "data": {
      "text/html": [
       "<pre>| 648       | 500            | 238        | 129                  | 2.15s            |</pre>"
      ],
      "text/plain": [
       "| 648       | 500            | 238        | 129                  | 2.15s            |"
      ]
     },
     "metadata": {},
     "output_type": "display_data"
    },
    {
     "data": {
      "text/html": [
       "<pre>| 649       | 500            | 238        | 129                  | 2.15s            |</pre>"
      ],
      "text/plain": [
       "| 649       | 500            | 238        | 129                  | 2.15s            |"
      ]
     },
     "metadata": {},
     "output_type": "display_data"
    },
    {
     "data": {
      "text/html": [
       "<pre>| 650       | 500            | 237        | 129                  | 2.15s            |</pre>"
      ],
      "text/plain": [
       "| 650       | 500            | 237        | 129                  | 2.15s            |"
      ]
     },
     "metadata": {},
     "output_type": "display_data"
    },
    {
     "data": {
      "text/html": [
       "<pre>| 651       | 500            | 237        | 129                  | 2.15s            |</pre>"
      ],
      "text/plain": [
       "| 651       | 500            | 237        | 129                  | 2.15s            |"
      ]
     },
     "metadata": {},
     "output_type": "display_data"
    },
    {
     "data": {
      "text/html": [
       "<pre>| 652       | 500            | 237        | 129                  | 2.16s            |</pre>"
      ],
      "text/plain": [
       "| 652       | 500            | 237        | 129                  | 2.16s            |"
      ]
     },
     "metadata": {},
     "output_type": "display_data"
    },
    {
     "data": {
      "text/html": [
       "<pre>| 653       | 500            | 236        | 130                  | 2.16s            |</pre>"
      ],
      "text/plain": [
       "| 653       | 500            | 236        | 130                  | 2.16s            |"
      ]
     },
     "metadata": {},
     "output_type": "display_data"
    },
    {
     "data": {
      "text/html": [
       "<pre>| 654       | 500            | 235        | 130                  | 2.16s            |</pre>"
      ],
      "text/plain": [
       "| 654       | 500            | 235        | 130                  | 2.16s            |"
      ]
     },
     "metadata": {},
     "output_type": "display_data"
    },
    {
     "data": {
      "text/html": [
       "<pre>| 655       | 500            | 235        | 130                  | 2.16s            |</pre>"
      ],
      "text/plain": [
       "| 655       | 500            | 235        | 130                  | 2.16s            |"
      ]
     },
     "metadata": {},
     "output_type": "display_data"
    },
    {
     "data": {
      "text/html": [
       "<pre>| 656       | 500            | 235        | 130                  | 2.16s            |</pre>"
      ],
      "text/plain": [
       "| 656       | 500            | 235        | 130                  | 2.16s            |"
      ]
     },
     "metadata": {},
     "output_type": "display_data"
    },
    {
     "data": {
      "text/html": [
       "<pre>| 657       | 500            | 234        | 130                  | 2.16s            |</pre>"
      ],
      "text/plain": [
       "| 657       | 500            | 234        | 130                  | 2.16s            |"
      ]
     },
     "metadata": {},
     "output_type": "display_data"
    },
    {
     "data": {
      "text/html": [
       "<pre>| 658       | 500            | 234        | 130                  | 2.17s            |</pre>"
      ],
      "text/plain": [
       "| 658       | 500            | 234        | 130                  | 2.17s            |"
      ]
     },
     "metadata": {},
     "output_type": "display_data"
    },
    {
     "data": {
      "text/html": [
       "<pre>| 659       | 500            | 233        | 130                  | 2.17s            |</pre>"
      ],
      "text/plain": [
       "| 659       | 500            | 233        | 130                  | 2.17s            |"
      ]
     },
     "metadata": {},
     "output_type": "display_data"
    },
    {
     "data": {
      "text/html": [
       "<pre>| 660       | 500            | 233        | 130                  | 2.17s            |</pre>"
      ],
      "text/plain": [
       "| 660       | 500            | 233        | 130                  | 2.17s            |"
      ]
     },
     "metadata": {},
     "output_type": "display_data"
    },
    {
     "data": {
      "text/html": [
       "<pre>| 661       | 500            | 233        | 130                  | 2.17s            |</pre>"
      ],
      "text/plain": [
       "| 661       | 500            | 233        | 130                  | 2.17s            |"
      ]
     },
     "metadata": {},
     "output_type": "display_data"
    },
    {
     "data": {
      "text/html": [
       "<pre>| 662       | 500            | 233        | 130                  | 2.17s            |</pre>"
      ],
      "text/plain": [
       "| 662       | 500            | 233        | 130                  | 2.17s            |"
      ]
     },
     "metadata": {},
     "output_type": "display_data"
    },
    {
     "data": {
      "text/html": [
       "<pre>| 663       | 500            | 233        | 130                  | 2.17s            |</pre>"
      ],
      "text/plain": [
       "| 663       | 500            | 233        | 130                  | 2.17s            |"
      ]
     },
     "metadata": {},
     "output_type": "display_data"
    },
    {
     "data": {
      "text/html": [
       "<pre>| 664       | 500            | 232        | 130                  | 2.17s            |</pre>"
      ],
      "text/plain": [
       "| 664       | 500            | 232        | 130                  | 2.17s            |"
      ]
     },
     "metadata": {},
     "output_type": "display_data"
    },
    {
     "data": {
      "text/html": [
       "<pre>| 665       | 500            | 232        | 130                  | 2.18s            |</pre>"
      ],
      "text/plain": [
       "| 665       | 500            | 232        | 130                  | 2.18s            |"
      ]
     },
     "metadata": {},
     "output_type": "display_data"
    },
    {
     "data": {
      "text/html": [
       "<pre>| 666       | 500            | 232        | 130                  | 2.18s            |</pre>"
      ],
      "text/plain": [
       "| 666       | 500            | 232        | 130                  | 2.18s            |"
      ]
     },
     "metadata": {},
     "output_type": "display_data"
    },
    {
     "data": {
      "text/html": [
       "<pre>| 667       | 500            | 232        | 130                  | 2.18s            |</pre>"
      ],
      "text/plain": [
       "| 667       | 500            | 232        | 130                  | 2.18s            |"
      ]
     },
     "metadata": {},
     "output_type": "display_data"
    },
    {
     "data": {
      "text/html": [
       "<pre>| 668       | 500            | 232        | 130                  | 2.18s            |</pre>"
      ],
      "text/plain": [
       "| 668       | 500            | 232        | 130                  | 2.18s            |"
      ]
     },
     "metadata": {},
     "output_type": "display_data"
    },
    {
     "data": {
      "text/html": [
       "<pre>| 669       | 500            | 231        | 130                  | 2.18s            |</pre>"
      ],
      "text/plain": [
       "| 669       | 500            | 231        | 130                  | 2.18s            |"
      ]
     },
     "metadata": {},
     "output_type": "display_data"
    },
    {
     "data": {
      "text/html": [
       "<pre>| 670       | 500            | 231        | 130                  | 2.19s            |</pre>"
      ],
      "text/plain": [
       "| 670       | 500            | 231        | 130                  | 2.19s            |"
      ]
     },
     "metadata": {},
     "output_type": "display_data"
    },
    {
     "data": {
      "text/html": [
       "<pre>| 671       | 500            | 231        | 130                  | 2.19s            |</pre>"
      ],
      "text/plain": [
       "| 671       | 500            | 231        | 130                  | 2.19s            |"
      ]
     },
     "metadata": {},
     "output_type": "display_data"
    },
    {
     "data": {
      "text/html": [
       "<pre>| 672       | 500            | 230        | 130                  | 2.19s            |</pre>"
      ],
      "text/plain": [
       "| 672       | 500            | 230        | 130                  | 2.19s            |"
      ]
     },
     "metadata": {},
     "output_type": "display_data"
    },
    {
     "data": {
      "text/html": [
       "<pre>| 673       | 500            | 230        | 130                  | 2.19s            |</pre>"
      ],
      "text/plain": [
       "| 673       | 500            | 230        | 130                  | 2.19s            |"
      ]
     },
     "metadata": {},
     "output_type": "display_data"
    },
    {
     "data": {
      "text/html": [
       "<pre>| 674       | 500            | 229        | 130                  | 2.19s            |</pre>"
      ],
      "text/plain": [
       "| 674       | 500            | 229        | 130                  | 2.19s            |"
      ]
     },
     "metadata": {},
     "output_type": "display_data"
    },
    {
     "data": {
      "text/html": [
       "<pre>| 675       | 500            | 229        | 130                  | 2.19s            |</pre>"
      ],
      "text/plain": [
       "| 675       | 500            | 229        | 130                  | 2.19s            |"
      ]
     },
     "metadata": {},
     "output_type": "display_data"
    },
    {
     "data": {
      "text/html": [
       "<pre>| 676       | 500            | 229        | 130                  | 2.20s            |</pre>"
      ],
      "text/plain": [
       "| 676       | 500            | 229        | 130                  | 2.20s            |"
      ]
     },
     "metadata": {},
     "output_type": "display_data"
    },
    {
     "data": {
      "text/html": [
       "<pre>| 677       | 500            | 228        | 130                  | 2.20s            |</pre>"
      ],
      "text/plain": [
       "| 677       | 500            | 228        | 130                  | 2.20s            |"
      ]
     },
     "metadata": {},
     "output_type": "display_data"
    },
    {
     "data": {
      "text/html": [
       "<pre>| 678       | 500            | 228        | 130                  | 2.20s            |</pre>"
      ],
      "text/plain": [
       "| 678       | 500            | 228        | 130                  | 2.20s            |"
      ]
     },
     "metadata": {},
     "output_type": "display_data"
    },
    {
     "data": {
      "text/html": [
       "<pre>| 679       | 500            | 227        | 130                  | 2.20s            |</pre>"
      ],
      "text/plain": [
       "| 679       | 500            | 227        | 130                  | 2.20s            |"
      ]
     },
     "metadata": {},
     "output_type": "display_data"
    },
    {
     "data": {
      "text/html": [
       "<pre>| 680       | 500            | 227        | 130                  | 2.20s            |</pre>"
      ],
      "text/plain": [
       "| 680       | 500            | 227        | 130                  | 2.20s            |"
      ]
     },
     "metadata": {},
     "output_type": "display_data"
    },
    {
     "data": {
      "text/html": [
       "<pre>| 681       | 500            | 227        | 130                  | 2.20s            |</pre>"
      ],
      "text/plain": [
       "| 681       | 500            | 227        | 130                  | 2.20s            |"
      ]
     },
     "metadata": {},
     "output_type": "display_data"
    },
    {
     "data": {
      "text/html": [
       "<pre>| 682       | 500            | 227        | 130                  | 2.21s            |</pre>"
      ],
      "text/plain": [
       "| 682       | 500            | 227        | 130                  | 2.21s            |"
      ]
     },
     "metadata": {},
     "output_type": "display_data"
    },
    {
     "data": {
      "text/html": [
       "<pre>| 683       | 500            | 227        | 130                  | 2.21s            |</pre>"
      ],
      "text/plain": [
       "| 683       | 500            | 227        | 130                  | 2.21s            |"
      ]
     },
     "metadata": {},
     "output_type": "display_data"
    },
    {
     "data": {
      "text/html": [
       "<pre>| 684       | 500            | 227        | 130                  | 2.21s            |</pre>"
      ],
      "text/plain": [
       "| 684       | 500            | 227        | 130                  | 2.21s            |"
      ]
     },
     "metadata": {},
     "output_type": "display_data"
    },
    {
     "data": {
      "text/html": [
       "<pre>| 685       | 500            | 226        | 130                  | 2.21s            |</pre>"
      ],
      "text/plain": [
       "| 685       | 500            | 226        | 130                  | 2.21s            |"
      ]
     },
     "metadata": {},
     "output_type": "display_data"
    },
    {
     "data": {
      "text/html": [
       "<pre>| 686       | 500            | 226        | 130                  | 2.21s            |</pre>"
      ],
      "text/plain": [
       "| 686       | 500            | 226        | 130                  | 2.21s            |"
      ]
     },
     "metadata": {},
     "output_type": "display_data"
    },
    {
     "data": {
      "text/html": [
       "<pre>| 687       | 500            | 226        | 130                  | 2.21s            |</pre>"
      ],
      "text/plain": [
       "| 687       | 500            | 226        | 130                  | 2.21s            |"
      ]
     },
     "metadata": {},
     "output_type": "display_data"
    },
    {
     "data": {
      "text/html": [
       "<pre>| 688       | 500            | 225        | 130                  | 2.22s            |</pre>"
      ],
      "text/plain": [
       "| 688       | 500            | 225        | 130                  | 2.22s            |"
      ]
     },
     "metadata": {},
     "output_type": "display_data"
    },
    {
     "data": {
      "text/html": [
       "<pre>| 689       | 500            | 225        | 130                  | 2.22s            |</pre>"
      ],
      "text/plain": [
       "| 689       | 500            | 225        | 130                  | 2.22s            |"
      ]
     },
     "metadata": {},
     "output_type": "display_data"
    },
    {
     "data": {
      "text/html": [
       "<pre>| 690       | 500            | 225        | 130                  | 2.22s            |</pre>"
      ],
      "text/plain": [
       "| 690       | 500            | 225        | 130                  | 2.22s            |"
      ]
     },
     "metadata": {},
     "output_type": "display_data"
    },
    {
     "data": {
      "text/html": [
       "<pre>| 691       | 500            | 225        | 130                  | 2.22s            |</pre>"
      ],
      "text/plain": [
       "| 691       | 500            | 225        | 130                  | 2.22s            |"
      ]
     },
     "metadata": {},
     "output_type": "display_data"
    },
    {
     "data": {
      "text/html": [
       "<pre>| 692       | 500            | 225        | 130                  | 2.22s            |</pre>"
      ],
      "text/plain": [
       "| 692       | 500            | 225        | 130                  | 2.22s            |"
      ]
     },
     "metadata": {},
     "output_type": "display_data"
    },
    {
     "data": {
      "text/html": [
       "<pre>| 693       | 500            | 225        | 130                  | 2.22s            |</pre>"
      ],
      "text/plain": [
       "| 693       | 500            | 225        | 130                  | 2.22s            |"
      ]
     },
     "metadata": {},
     "output_type": "display_data"
    },
    {
     "data": {
      "text/html": [
       "<pre>| 694       | 500            | 225        | 130                  | 2.23s            |</pre>"
      ],
      "text/plain": [
       "| 694       | 500            | 225        | 130                  | 2.23s            |"
      ]
     },
     "metadata": {},
     "output_type": "display_data"
    },
    {
     "data": {
      "text/html": [
       "<pre>| 695       | 500            | 225        | 130                  | 2.23s            |</pre>"
      ],
      "text/plain": [
       "| 695       | 500            | 225        | 130                  | 2.23s            |"
      ]
     },
     "metadata": {},
     "output_type": "display_data"
    },
    {
     "data": {
      "text/html": [
       "<pre>| 696       | 500            | 225        | 130                  | 2.23s            |</pre>"
      ],
      "text/plain": [
       "| 696       | 500            | 225        | 130                  | 2.23s            |"
      ]
     },
     "metadata": {},
     "output_type": "display_data"
    },
    {
     "data": {
      "text/html": [
       "<pre>| 697       | 500            | 224        | 130                  | 2.23s            |</pre>"
      ],
      "text/plain": [
       "| 697       | 500            | 224        | 130                  | 2.23s            |"
      ]
     },
     "metadata": {},
     "output_type": "display_data"
    },
    {
     "data": {
      "text/html": [
       "<pre>| 698       | 500            | 224        | 130                  | 2.23s            |</pre>"
      ],
      "text/plain": [
       "| 698       | 500            | 224        | 130                  | 2.23s            |"
      ]
     },
     "metadata": {},
     "output_type": "display_data"
    },
    {
     "data": {
      "text/html": [
       "<pre>| 699       | 500            | 223        | 130                  | 2.24s            |</pre>"
      ],
      "text/plain": [
       "| 699       | 500            | 223        | 130                  | 2.24s            |"
      ]
     },
     "metadata": {},
     "output_type": "display_data"
    },
    {
     "data": {
      "text/html": [
       "<pre>| 700       | 500            | 223        | 130                  | 2.24s            |</pre>"
      ],
      "text/plain": [
       "| 700       | 500            | 223        | 130                  | 2.24s            |"
      ]
     },
     "metadata": {},
     "output_type": "display_data"
    },
    {
     "data": {
      "text/html": [
       "<pre>| 701       | 500            | 223        | 130                  | 2.24s            |</pre>"
      ],
      "text/plain": [
       "| 701       | 500            | 223        | 130                  | 2.24s            |"
      ]
     },
     "metadata": {},
     "output_type": "display_data"
    },
    {
     "data": {
      "text/html": [
       "<pre>| 702       | 500            | 223        | 130                  | 2.24s            |</pre>"
      ],
      "text/plain": [
       "| 702       | 500            | 223        | 130                  | 2.24s            |"
      ]
     },
     "metadata": {},
     "output_type": "display_data"
    },
    {
     "data": {
      "text/html": [
       "<pre>| 703       | 500            | 223        | 130                  | 2.24s            |</pre>"
      ],
      "text/plain": [
       "| 703       | 500            | 223        | 130                  | 2.24s            |"
      ]
     },
     "metadata": {},
     "output_type": "display_data"
    },
    {
     "data": {
      "text/html": [
       "<pre>| 704       | 500            | 223        | 130                  | 2.24s            |</pre>"
      ],
      "text/plain": [
       "| 704       | 500            | 223        | 130                  | 2.24s            |"
      ]
     },
     "metadata": {},
     "output_type": "display_data"
    },
    {
     "data": {
      "text/html": [
       "<pre>| 705       | 500            | 222        | 130                  | 2.25s            |</pre>"
      ],
      "text/plain": [
       "| 705       | 500            | 222        | 130                  | 2.25s            |"
      ]
     },
     "metadata": {},
     "output_type": "display_data"
    },
    {
     "data": {
      "text/html": [
       "<pre>| 706       | 500            | 222        | 130                  | 2.25s            |</pre>"
      ],
      "text/plain": [
       "| 706       | 500            | 222        | 130                  | 2.25s            |"
      ]
     },
     "metadata": {},
     "output_type": "display_data"
    },
    {
     "data": {
      "text/html": [
       "<pre>| 707       | 500            | 222        | 130                  | 2.25s            |</pre>"
      ],
      "text/plain": [
       "| 707       | 500            | 222        | 130                  | 2.25s            |"
      ]
     },
     "metadata": {},
     "output_type": "display_data"
    },
    {
     "data": {
      "text/html": [
       "<pre>| 708       | 500            | 222        | 130                  | 2.25s            |</pre>"
      ],
      "text/plain": [
       "| 708       | 500            | 222        | 130                  | 2.25s            |"
      ]
     },
     "metadata": {},
     "output_type": "display_data"
    },
    {
     "data": {
      "text/html": [
       "<pre>| 709       | 500            | 222        | 130                  | 2.25s            |</pre>"
      ],
      "text/plain": [
       "| 709       | 500            | 222        | 130                  | 2.25s            |"
      ]
     },
     "metadata": {},
     "output_type": "display_data"
    },
    {
     "data": {
      "text/html": [
       "<pre>| 710       | 500            | 222        | 130                  | 2.25s            |</pre>"
      ],
      "text/plain": [
       "| 710       | 500            | 222        | 130                  | 2.25s            |"
      ]
     },
     "metadata": {},
     "output_type": "display_data"
    },
    {
     "data": {
      "text/html": [
       "<pre>| 711       | 500            | 221        | 130                  | 2.25s            |</pre>"
      ],
      "text/plain": [
       "| 711       | 500            | 221        | 130                  | 2.25s            |"
      ]
     },
     "metadata": {},
     "output_type": "display_data"
    },
    {
     "data": {
      "text/html": [
       "<pre>| 712       | 500            | 221        | 130                  | 2.26s            |</pre>"
      ],
      "text/plain": [
       "| 712       | 500            | 221        | 130                  | 2.26s            |"
      ]
     },
     "metadata": {},
     "output_type": "display_data"
    },
    {
     "data": {
      "text/html": [
       "<pre>| 713       | 500            | 221        | 130                  | 2.26s            |</pre>"
      ],
      "text/plain": [
       "| 713       | 500            | 221        | 130                  | 2.26s            |"
      ]
     },
     "metadata": {},
     "output_type": "display_data"
    },
    {
     "data": {
      "text/html": [
       "<pre>| 714       | 500            | 220        | 130                  | 2.26s            |</pre>"
      ],
      "text/plain": [
       "| 714       | 500            | 220        | 130                  | 2.26s            |"
      ]
     },
     "metadata": {},
     "output_type": "display_data"
    },
    {
     "data": {
      "text/html": [
       "<pre>| 715       | 500            | 220        | 130                  | 2.26s            |</pre>"
      ],
      "text/plain": [
       "| 715       | 500            | 220        | 130                  | 2.26s            |"
      ]
     },
     "metadata": {},
     "output_type": "display_data"
    },
    {
     "data": {
      "text/html": [
       "<pre>| 716       | 500            | 220        | 130                  | 2.26s            |</pre>"
      ],
      "text/plain": [
       "| 716       | 500            | 220        | 130                  | 2.26s            |"
      ]
     },
     "metadata": {},
     "output_type": "display_data"
    },
    {
     "data": {
      "text/html": [
       "<pre>| 717       | 500            | 220        | 130                  | 2.26s            |</pre>"
      ],
      "text/plain": [
       "| 717       | 500            | 220        | 130                  | 2.26s            |"
      ]
     },
     "metadata": {},
     "output_type": "display_data"
    },
    {
     "data": {
      "text/html": [
       "<pre>| 718       | 500            | 220        | 130                  | 2.27s            |</pre>"
      ],
      "text/plain": [
       "| 718       | 500            | 220        | 130                  | 2.27s            |"
      ]
     },
     "metadata": {},
     "output_type": "display_data"
    },
    {
     "data": {
      "text/html": [
       "<pre>| 719       | 500            | 219        | 130                  | 2.27s            |</pre>"
      ],
      "text/plain": [
       "| 719       | 500            | 219        | 130                  | 2.27s            |"
      ]
     },
     "metadata": {},
     "output_type": "display_data"
    },
    {
     "data": {
      "text/html": [
       "<pre>| 720       | 500            | 219        | 130                  | 2.27s            |</pre>"
      ],
      "text/plain": [
       "| 720       | 500            | 219        | 130                  | 2.27s            |"
      ]
     },
     "metadata": {},
     "output_type": "display_data"
    },
    {
     "data": {
      "text/html": [
       "<pre>| 721       | 500            | 219        | 130                  | 2.27s            |</pre>"
      ],
      "text/plain": [
       "| 721       | 500            | 219        | 130                  | 2.27s            |"
      ]
     },
     "metadata": {},
     "output_type": "display_data"
    },
    {
     "data": {
      "text/html": [
       "<pre>| 722       | 500            | 219        | 130                  | 2.27s            |</pre>"
      ],
      "text/plain": [
       "| 722       | 500            | 219        | 130                  | 2.27s            |"
      ]
     },
     "metadata": {},
     "output_type": "display_data"
    },
    {
     "data": {
      "text/html": [
       "<pre>| 723       | 500            | 219        | 130                  | 2.27s            |</pre>"
      ],
      "text/plain": [
       "| 723       | 500            | 219        | 130                  | 2.27s            |"
      ]
     },
     "metadata": {},
     "output_type": "display_data"
    },
    {
     "data": {
      "text/html": [
       "<pre>| 724       | 500            | 219        | 130                  | 2.28s            |</pre>"
      ],
      "text/plain": [
       "| 724       | 500            | 219        | 130                  | 2.28s            |"
      ]
     },
     "metadata": {},
     "output_type": "display_data"
    },
    {
     "data": {
      "text/html": [
       "<pre>| 725       | 500            | 218        | 130                  | 2.28s            |</pre>"
      ],
      "text/plain": [
       "| 725       | 500            | 218        | 130                  | 2.28s            |"
      ]
     },
     "metadata": {},
     "output_type": "display_data"
    },
    {
     "data": {
      "text/html": [
       "<pre>| 726       | 500            | 218        | 130                  | 2.28s            |</pre>"
      ],
      "text/plain": [
       "| 726       | 500            | 218        | 130                  | 2.28s            |"
      ]
     },
     "metadata": {},
     "output_type": "display_data"
    },
    {
     "data": {
      "text/html": [
       "<pre>| 727       | 500            | 217        | 130                  | 2.28s            |</pre>"
      ],
      "text/plain": [
       "| 727       | 500            | 217        | 130                  | 2.28s            |"
      ]
     },
     "metadata": {},
     "output_type": "display_data"
    },
    {
     "data": {
      "text/html": [
       "<pre>| 728       | 500            | 217        | 130                  | 2.28s            |</pre>"
      ],
      "text/plain": [
       "| 728       | 500            | 217        | 130                  | 2.28s            |"
      ]
     },
     "metadata": {},
     "output_type": "display_data"
    },
    {
     "data": {
      "text/html": [
       "<pre>| 729       | 500            | 217        | 130                  | 2.28s            |</pre>"
      ],
      "text/plain": [
       "| 729       | 500            | 217        | 130                  | 2.28s            |"
      ]
     },
     "metadata": {},
     "output_type": "display_data"
    },
    {
     "data": {
      "text/html": [
       "<pre>| 730       | 500            | 217        | 130                  | 2.28s            |</pre>"
      ],
      "text/plain": [
       "| 730       | 500            | 217        | 130                  | 2.28s            |"
      ]
     },
     "metadata": {},
     "output_type": "display_data"
    },
    {
     "data": {
      "text/html": [
       "<pre>| 731       | 500            | 217        | 130                  | 2.29s            |</pre>"
      ],
      "text/plain": [
       "| 731       | 500            | 217        | 130                  | 2.29s            |"
      ]
     },
     "metadata": {},
     "output_type": "display_data"
    },
    {
     "data": {
      "text/html": [
       "<pre>| 732       | 500            | 217        | 130                  | 2.29s            |</pre>"
      ],
      "text/plain": [
       "| 732       | 500            | 217        | 130                  | 2.29s            |"
      ]
     },
     "metadata": {},
     "output_type": "display_data"
    },
    {
     "data": {
      "text/html": [
       "<pre>| 733       | 500            | 216        | 130                  | 2.29s            |</pre>"
      ],
      "text/plain": [
       "| 733       | 500            | 216        | 130                  | 2.29s            |"
      ]
     },
     "metadata": {},
     "output_type": "display_data"
    },
    {
     "data": {
      "text/html": [
       "<pre>| 734       | 500            | 216        | 130                  | 2.29s            |</pre>"
      ],
      "text/plain": [
       "| 734       | 500            | 216        | 130                  | 2.29s            |"
      ]
     },
     "metadata": {},
     "output_type": "display_data"
    },
    {
     "data": {
      "text/html": [
       "<pre>| 735       | 500            | 216        | 130                  | 2.29s            |</pre>"
      ],
      "text/plain": [
       "| 735       | 500            | 216        | 130                  | 2.29s            |"
      ]
     },
     "metadata": {},
     "output_type": "display_data"
    },
    {
     "data": {
      "text/html": [
       "<pre>| 736       | 500            | 216        | 130                  | 2.29s            |</pre>"
      ],
      "text/plain": [
       "| 736       | 500            | 216        | 130                  | 2.29s            |"
      ]
     },
     "metadata": {},
     "output_type": "display_data"
    },
    {
     "data": {
      "text/html": [
       "<pre>| 737       | 500            | 216        | 130                  | 2.29s            |</pre>"
      ],
      "text/plain": [
       "| 737       | 500            | 216        | 130                  | 2.29s            |"
      ]
     },
     "metadata": {},
     "output_type": "display_data"
    },
    {
     "data": {
      "text/html": [
       "<pre>| 738       | 500            | 215        | 130                  | 2.29s            |</pre>"
      ],
      "text/plain": [
       "| 738       | 500            | 215        | 130                  | 2.29s            |"
      ]
     },
     "metadata": {},
     "output_type": "display_data"
    },
    {
     "data": {
      "text/html": [
       "<pre>| 739       | 500            | 215        | 130                  | 2.30s            |</pre>"
      ],
      "text/plain": [
       "| 739       | 500            | 215        | 130                  | 2.30s            |"
      ]
     },
     "metadata": {},
     "output_type": "display_data"
    },
    {
     "data": {
      "text/html": [
       "<pre>| 740       | 500            | 214        | 130                  | 2.30s            |</pre>"
      ],
      "text/plain": [
       "| 740       | 500            | 214        | 130                  | 2.30s            |"
      ]
     },
     "metadata": {},
     "output_type": "display_data"
    },
    {
     "data": {
      "text/html": [
       "<pre>| 741       | 500            | 214        | 130                  | 2.30s            |</pre>"
      ],
      "text/plain": [
       "| 741       | 500            | 214        | 130                  | 2.30s            |"
      ]
     },
     "metadata": {},
     "output_type": "display_data"
    },
    {
     "data": {
      "text/html": [
       "<pre>| 742       | 500            | 214        | 130                  | 2.30s            |</pre>"
      ],
      "text/plain": [
       "| 742       | 500            | 214        | 130                  | 2.30s            |"
      ]
     },
     "metadata": {},
     "output_type": "display_data"
    },
    {
     "data": {
      "text/html": [
       "<pre>| 743       | 500            | 214        | 130                  | 2.30s            |</pre>"
      ],
      "text/plain": [
       "| 743       | 500            | 214        | 130                  | 2.30s            |"
      ]
     },
     "metadata": {},
     "output_type": "display_data"
    },
    {
     "data": {
      "text/html": [
       "<pre>| 744       | 500            | 214        | 130                  | 2.30s            |</pre>"
      ],
      "text/plain": [
       "| 744       | 500            | 214        | 130                  | 2.30s            |"
      ]
     },
     "metadata": {},
     "output_type": "display_data"
    },
    {
     "data": {
      "text/html": [
       "<pre>| 745       | 500            | 214        | 130                  | 2.30s            |</pre>"
      ],
      "text/plain": [
       "| 745       | 500            | 214        | 130                  | 2.30s            |"
      ]
     },
     "metadata": {},
     "output_type": "display_data"
    },
    {
     "data": {
      "text/html": [
       "<pre>| 746       | 500            | 214        | 130                  | 2.31s            |</pre>"
      ],
      "text/plain": [
       "| 746       | 500            | 214        | 130                  | 2.31s            |"
      ]
     },
     "metadata": {},
     "output_type": "display_data"
    },
    {
     "data": {
      "text/html": [
       "<pre>| 747       | 500            | 214        | 130                  | 2.31s            |</pre>"
      ],
      "text/plain": [
       "| 747       | 500            | 214        | 130                  | 2.31s            |"
      ]
     },
     "metadata": {},
     "output_type": "display_data"
    },
    {
     "data": {
      "text/html": [
       "<pre>| 748       | 500            | 214        | 130                  | 2.31s            |</pre>"
      ],
      "text/plain": [
       "| 748       | 500            | 214        | 130                  | 2.31s            |"
      ]
     },
     "metadata": {},
     "output_type": "display_data"
    },
    {
     "data": {
      "text/html": [
       "<pre>| 749       | 500            | 213        | 130                  | 2.31s            |</pre>"
      ],
      "text/plain": [
       "| 749       | 500            | 213        | 130                  | 2.31s            |"
      ]
     },
     "metadata": {},
     "output_type": "display_data"
    },
    {
     "data": {
      "text/html": [
       "<pre>| 750       | 500            | 213        | 130                  | 2.31s            |</pre>"
      ],
      "text/plain": [
       "| 750       | 500            | 213        | 130                  | 2.31s            |"
      ]
     },
     "metadata": {},
     "output_type": "display_data"
    },
    {
     "data": {
      "text/html": [
       "<pre>| 751       | 500            | 213        | 130                  | 2.31s            |</pre>"
      ],
      "text/plain": [
       "| 751       | 500            | 213        | 130                  | 2.31s            |"
      ]
     },
     "metadata": {},
     "output_type": "display_data"
    },
    {
     "data": {
      "text/html": [
       "<pre>| 752       | 500            | 213        | 130                  | 2.31s            |</pre>"
      ],
      "text/plain": [
       "| 752       | 500            | 213        | 130                  | 2.31s            |"
      ]
     },
     "metadata": {},
     "output_type": "display_data"
    },
    {
     "data": {
      "text/html": [
       "<pre>| 753       | 500            | 213        | 130                  | 2.31s            |</pre>"
      ],
      "text/plain": [
       "| 753       | 500            | 213        | 130                  | 2.31s            |"
      ]
     },
     "metadata": {},
     "output_type": "display_data"
    },
    {
     "data": {
      "text/html": [
       "<pre>| 754       | 500            | 212        | 130                  | 2.32s            |</pre>"
      ],
      "text/plain": [
       "| 754       | 500            | 212        | 130                  | 2.32s            |"
      ]
     },
     "metadata": {},
     "output_type": "display_data"
    },
    {
     "data": {
      "text/html": [
       "<pre>| 755       | 500            | 212        | 130                  | 2.32s            |</pre>"
      ],
      "text/plain": [
       "| 755       | 500            | 212        | 130                  | 2.32s            |"
      ]
     },
     "metadata": {},
     "output_type": "display_data"
    },
    {
     "data": {
      "text/html": [
       "<pre>| 756       | 500            | 212        | 130                  | 2.32s            |</pre>"
      ],
      "text/plain": [
       "| 756       | 500            | 212        | 130                  | 2.32s            |"
      ]
     },
     "metadata": {},
     "output_type": "display_data"
    },
    {
     "data": {
      "text/html": [
       "<pre>| 757       | 500            | 212        | 130                  | 2.32s            |</pre>"
      ],
      "text/plain": [
       "| 757       | 500            | 212        | 130                  | 2.32s            |"
      ]
     },
     "metadata": {},
     "output_type": "display_data"
    },
    {
     "data": {
      "text/html": [
       "<pre>| 758       | 500            | 212        | 130                  | 2.32s            |</pre>"
      ],
      "text/plain": [
       "| 758       | 500            | 212        | 130                  | 2.32s            |"
      ]
     },
     "metadata": {},
     "output_type": "display_data"
    },
    {
     "data": {
      "text/html": [
       "<pre>| 759       | 500            | 212        | 130                  | 2.32s            |</pre>"
      ],
      "text/plain": [
       "| 759       | 500            | 212        | 130                  | 2.32s            |"
      ]
     },
     "metadata": {},
     "output_type": "display_data"
    },
    {
     "data": {
      "text/html": [
       "<pre>| 760       | 500            | 212        | 130                  | 2.33s            |</pre>"
      ],
      "text/plain": [
       "| 760       | 500            | 212        | 130                  | 2.33s            |"
      ]
     },
     "metadata": {},
     "output_type": "display_data"
    },
    {
     "data": {
      "text/html": [
       "<pre>| 761       | 500            | 211        | 130                  | 2.33s            |</pre>"
      ],
      "text/plain": [
       "| 761       | 500            | 211        | 130                  | 2.33s            |"
      ]
     },
     "metadata": {},
     "output_type": "display_data"
    },
    {
     "data": {
      "text/html": [
       "<pre>| 762       | 500            | 211        | 130                  | 2.33s            |</pre>"
      ],
      "text/plain": [
       "| 762       | 500            | 211        | 130                  | 2.33s            |"
      ]
     },
     "metadata": {},
     "output_type": "display_data"
    },
    {
     "data": {
      "text/html": [
       "<pre>| 763       | 500            | 211        | 130                  | 2.33s            |</pre>"
      ],
      "text/plain": [
       "| 763       | 500            | 211        | 130                  | 2.33s            |"
      ]
     },
     "metadata": {},
     "output_type": "display_data"
    },
    {
     "data": {
      "text/html": [
       "<pre>| 764       | 500            | 211        | 130                  | 2.33s            |</pre>"
      ],
      "text/plain": [
       "| 764       | 500            | 211        | 130                  | 2.33s            |"
      ]
     },
     "metadata": {},
     "output_type": "display_data"
    },
    {
     "data": {
      "text/html": [
       "<pre>| 765       | 500            | 211        | 130                  | 2.33s            |</pre>"
      ],
      "text/plain": [
       "| 765       | 500            | 211        | 130                  | 2.33s            |"
      ]
     },
     "metadata": {},
     "output_type": "display_data"
    },
    {
     "data": {
      "text/html": [
       "<pre>| 766       | 500            | 210        | 130                  | 2.33s            |</pre>"
      ],
      "text/plain": [
       "| 766       | 500            | 210        | 130                  | 2.33s            |"
      ]
     },
     "metadata": {},
     "output_type": "display_data"
    },
    {
     "data": {
      "text/html": [
       "<pre>| 767       | 500            | 210        | 130                  | 2.34s            |</pre>"
      ],
      "text/plain": [
       "| 767       | 500            | 210        | 130                  | 2.34s            |"
      ]
     },
     "metadata": {},
     "output_type": "display_data"
    },
    {
     "data": {
      "text/html": [
       "<pre>| 768       | 500            | 210        | 130                  | 2.34s            |</pre>"
      ],
      "text/plain": [
       "| 768       | 500            | 210        | 130                  | 2.34s            |"
      ]
     },
     "metadata": {},
     "output_type": "display_data"
    },
    {
     "data": {
      "text/html": [
       "<pre>| 769       | 500            | 210        | 130                  | 2.34s            |</pre>"
      ],
      "text/plain": [
       "| 769       | 500            | 210        | 130                  | 2.34s            |"
      ]
     },
     "metadata": {},
     "output_type": "display_data"
    },
    {
     "data": {
      "text/html": [
       "<pre>| 770       | 500            | 209        | 130                  | 2.34s            |</pre>"
      ],
      "text/plain": [
       "| 770       | 500            | 209        | 130                  | 2.34s            |"
      ]
     },
     "metadata": {},
     "output_type": "display_data"
    },
    {
     "data": {
      "text/html": [
       "<pre>| 771       | 500            | 209        | 130                  | 2.34s            |</pre>"
      ],
      "text/plain": [
       "| 771       | 500            | 209        | 130                  | 2.34s            |"
      ]
     },
     "metadata": {},
     "output_type": "display_data"
    },
    {
     "data": {
      "text/html": [
       "<pre>| 772       | 500            | 209        | 130                  | 2.34s            |</pre>"
      ],
      "text/plain": [
       "| 772       | 500            | 209        | 130                  | 2.34s            |"
      ]
     },
     "metadata": {},
     "output_type": "display_data"
    },
    {
     "data": {
      "text/html": [
       "<pre>| 773       | 500            | 209        | 130                  | 2.35s            |</pre>"
      ],
      "text/plain": [
       "| 773       | 500            | 209        | 130                  | 2.35s            |"
      ]
     },
     "metadata": {},
     "output_type": "display_data"
    },
    {
     "data": {
      "text/html": [
       "<pre>| 774       | 500            | 209        | 130                  | 2.35s            |</pre>"
      ],
      "text/plain": [
       "| 774       | 500            | 209        | 130                  | 2.35s            |"
      ]
     },
     "metadata": {},
     "output_type": "display_data"
    },
    {
     "data": {
      "text/html": [
       "<pre>| 775       | 500            | 209        | 130                  | 2.35s            |</pre>"
      ],
      "text/plain": [
       "| 775       | 500            | 209        | 130                  | 2.35s            |"
      ]
     },
     "metadata": {},
     "output_type": "display_data"
    },
    {
     "data": {
      "text/html": [
       "<pre>| 776       | 500            | 208        | 130                  | 2.35s            |</pre>"
      ],
      "text/plain": [
       "| 776       | 500            | 208        | 130                  | 2.35s            |"
      ]
     },
     "metadata": {},
     "output_type": "display_data"
    },
    {
     "data": {
      "text/html": [
       "<pre>| 777       | 500            | 208        | 130                  | 2.35s            |</pre>"
      ],
      "text/plain": [
       "| 777       | 500            | 208        | 130                  | 2.35s            |"
      ]
     },
     "metadata": {},
     "output_type": "display_data"
    },
    {
     "data": {
      "text/html": [
       "<pre>| 778       | 500            | 208        | 130                  | 2.35s            |</pre>"
      ],
      "text/plain": [
       "| 778       | 500            | 208        | 130                  | 2.35s            |"
      ]
     },
     "metadata": {},
     "output_type": "display_data"
    },
    {
     "data": {
      "text/html": [
       "<pre>| 779       | 500            | 208        | 130                  | 2.35s            |</pre>"
      ],
      "text/plain": [
       "| 779       | 500            | 208        | 130                  | 2.35s            |"
      ]
     },
     "metadata": {},
     "output_type": "display_data"
    },
    {
     "data": {
      "text/html": [
       "<pre>| 780       | 500            | 207        | 130                  | 2.35s            |</pre>"
      ],
      "text/plain": [
       "| 780       | 500            | 207        | 130                  | 2.35s            |"
      ]
     },
     "metadata": {},
     "output_type": "display_data"
    },
    {
     "data": {
      "text/html": [
       "<pre>| 781       | 500            | 207        | 130                  | 2.36s            |</pre>"
      ],
      "text/plain": [
       "| 781       | 500            | 207        | 130                  | 2.36s            |"
      ]
     },
     "metadata": {},
     "output_type": "display_data"
    },
    {
     "data": {
      "text/html": [
       "<pre>| 782       | 500            | 206        | 130                  | 2.36s            |</pre>"
      ],
      "text/plain": [
       "| 782       | 500            | 206        | 130                  | 2.36s            |"
      ]
     },
     "metadata": {},
     "output_type": "display_data"
    },
    {
     "data": {
      "text/html": [
       "<pre>| 783       | 500            | 206        | 130                  | 2.36s            |</pre>"
      ],
      "text/plain": [
       "| 783       | 500            | 206        | 130                  | 2.36s            |"
      ]
     },
     "metadata": {},
     "output_type": "display_data"
    },
    {
     "data": {
      "text/html": [
       "<pre>| 784       | 500            | 206        | 130                  | 2.36s            |</pre>"
      ],
      "text/plain": [
       "| 784       | 500            | 206        | 130                  | 2.36s            |"
      ]
     },
     "metadata": {},
     "output_type": "display_data"
    },
    {
     "data": {
      "text/html": [
       "<pre>| 785       | 500            | 206        | 130                  | 2.36s            |</pre>"
      ],
      "text/plain": [
       "| 785       | 500            | 206        | 130                  | 2.36s            |"
      ]
     },
     "metadata": {},
     "output_type": "display_data"
    },
    {
     "data": {
      "text/html": [
       "<pre>| 786       | 500            | 206        | 130                  | 2.37s            |</pre>"
      ],
      "text/plain": [
       "| 786       | 500            | 206        | 130                  | 2.37s            |"
      ]
     },
     "metadata": {},
     "output_type": "display_data"
    },
    {
     "data": {
      "text/html": [
       "<pre>| 787       | 500            | 205        | 130                  | 2.37s            |</pre>"
      ],
      "text/plain": [
       "| 787       | 500            | 205        | 130                  | 2.37s            |"
      ]
     },
     "metadata": {},
     "output_type": "display_data"
    },
    {
     "data": {
      "text/html": [
       "<pre>| 788       | 500            | 205        | 130                  | 2.37s            |</pre>"
      ],
      "text/plain": [
       "| 788       | 500            | 205        | 130                  | 2.37s            |"
      ]
     },
     "metadata": {},
     "output_type": "display_data"
    },
    {
     "data": {
      "text/html": [
       "<pre>| 789       | 500            | 205        | 130                  | 2.37s            |</pre>"
      ],
      "text/plain": [
       "| 789       | 500            | 205        | 130                  | 2.37s            |"
      ]
     },
     "metadata": {},
     "output_type": "display_data"
    },
    {
     "data": {
      "text/html": [
       "<pre>| 790       | 500            | 205        | 130                  | 2.37s            |</pre>"
      ],
      "text/plain": [
       "| 790       | 500            | 205        | 130                  | 2.37s            |"
      ]
     },
     "metadata": {},
     "output_type": "display_data"
    },
    {
     "data": {
      "text/html": [
       "<pre>| 791       | 500            | 205        | 130                  | 2.37s            |</pre>"
      ],
      "text/plain": [
       "| 791       | 500            | 205        | 130                  | 2.37s            |"
      ]
     },
     "metadata": {},
     "output_type": "display_data"
    },
    {
     "data": {
      "text/html": [
       "<pre>| 792       | 500            | 205        | 130                  | 2.38s            |</pre>"
      ],
      "text/plain": [
       "| 792       | 500            | 205        | 130                  | 2.38s            |"
      ]
     },
     "metadata": {},
     "output_type": "display_data"
    },
    {
     "data": {
      "text/html": [
       "<pre>| 793       | 500            | 205        | 130                  | 2.38s            |</pre>"
      ],
      "text/plain": [
       "| 793       | 500            | 205        | 130                  | 2.38s            |"
      ]
     },
     "metadata": {},
     "output_type": "display_data"
    },
    {
     "data": {
      "text/html": [
       "<pre>| 794       | 500            | 205        | 130                  | 2.38s            |</pre>"
      ],
      "text/plain": [
       "| 794       | 500            | 205        | 130                  | 2.38s            |"
      ]
     },
     "metadata": {},
     "output_type": "display_data"
    },
    {
     "data": {
      "text/html": [
       "<pre>| 795       | 500            | 204        | 130                  | 2.38s            |</pre>"
      ],
      "text/plain": [
       "| 795       | 500            | 204        | 130                  | 2.38s            |"
      ]
     },
     "metadata": {},
     "output_type": "display_data"
    },
    {
     "data": {
      "text/html": [
       "<pre>| 796       | 500            | 204        | 130                  | 2.38s            |</pre>"
      ],
      "text/plain": [
       "| 796       | 500            | 204        | 130                  | 2.38s            |"
      ]
     },
     "metadata": {},
     "output_type": "display_data"
    },
    {
     "data": {
      "text/html": [
       "<pre>| 797       | 500            | 204        | 130                  | 2.38s            |</pre>"
      ],
      "text/plain": [
       "| 797       | 500            | 204        | 130                  | 2.38s            |"
      ]
     },
     "metadata": {},
     "output_type": "display_data"
    },
    {
     "data": {
      "text/html": [
       "<pre>| 798       | 500            | 203        | 130                  | 2.38s            |</pre>"
      ],
      "text/plain": [
       "| 798       | 500            | 203        | 130                  | 2.38s            |"
      ]
     },
     "metadata": {},
     "output_type": "display_data"
    },
    {
     "data": {
      "text/html": [
       "<pre>| 799       | 500            | 203        | 130                  | 2.39s            |</pre>"
      ],
      "text/plain": [
       "| 799       | 500            | 203        | 130                  | 2.39s            |"
      ]
     },
     "metadata": {},
     "output_type": "display_data"
    },
    {
     "data": {
      "text/html": [
       "<pre>| 800       | 500            | 203        | 130                  | 2.39s            |</pre>"
      ],
      "text/plain": [
       "| 800       | 500            | 203        | 130                  | 2.39s            |"
      ]
     },
     "metadata": {},
     "output_type": "display_data"
    },
    {
     "data": {
      "text/html": [
       "<pre>| 801       | 500            | 203        | 130                  | 2.39s            |</pre>"
      ],
      "text/plain": [
       "| 801       | 500            | 203        | 130                  | 2.39s            |"
      ]
     },
     "metadata": {},
     "output_type": "display_data"
    },
    {
     "data": {
      "text/html": [
       "<pre>| 802       | 500            | 202        | 130                  | 2.39s            |</pre>"
      ],
      "text/plain": [
       "| 802       | 500            | 202        | 130                  | 2.39s            |"
      ]
     },
     "metadata": {},
     "output_type": "display_data"
    },
    {
     "data": {
      "text/html": [
       "<pre>| 803       | 500            | 202        | 130                  | 2.39s            |</pre>"
      ],
      "text/plain": [
       "| 803       | 500            | 202        | 130                  | 2.39s            |"
      ]
     },
     "metadata": {},
     "output_type": "display_data"
    },
    {
     "data": {
      "text/html": [
       "<pre>| 804       | 500            | 201        | 130                  | 2.39s            |</pre>"
      ],
      "text/plain": [
       "| 804       | 500            | 201        | 130                  | 2.39s            |"
      ]
     },
     "metadata": {},
     "output_type": "display_data"
    },
    {
     "data": {
      "text/html": [
       "<pre>| 805       | 500            | 201        | 130                  | 2.39s            |</pre>"
      ],
      "text/plain": [
       "| 805       | 500            | 201        | 130                  | 2.39s            |"
      ]
     },
     "metadata": {},
     "output_type": "display_data"
    },
    {
     "data": {
      "text/html": [
       "<pre>| 806       | 500            | 200        | 130                  | 2.39s            |</pre>"
      ],
      "text/plain": [
       "| 806       | 500            | 200        | 130                  | 2.39s            |"
      ]
     },
     "metadata": {},
     "output_type": "display_data"
    },
    {
     "data": {
      "text/html": [
       "<pre>| 807       | 500            | 200        | 130                  | 2.40s            |</pre>"
      ],
      "text/plain": [
       "| 807       | 500            | 200        | 130                  | 2.40s            |"
      ]
     },
     "metadata": {},
     "output_type": "display_data"
    },
    {
     "data": {
      "text/html": [
       "<pre>| 808       | 500            | 200        | 130                  | 2.40s            |</pre>"
      ],
      "text/plain": [
       "| 808       | 500            | 200        | 130                  | 2.40s            |"
      ]
     },
     "metadata": {},
     "output_type": "display_data"
    },
    {
     "data": {
      "text/html": [
       "<pre>| 809       | 500            | 200        | 130                  | 2.40s            |</pre>"
      ],
      "text/plain": [
       "| 809       | 500            | 200        | 130                  | 2.40s            |"
      ]
     },
     "metadata": {},
     "output_type": "display_data"
    },
    {
     "data": {
      "text/html": [
       "<pre>| 810       | 500            | 200        | 130                  | 2.40s            |</pre>"
      ],
      "text/plain": [
       "| 810       | 500            | 200        | 130                  | 2.40s            |"
      ]
     },
     "metadata": {},
     "output_type": "display_data"
    },
    {
     "data": {
      "text/html": [
       "<pre>| 811       | 500            | 200        | 130                  | 2.40s            |</pre>"
      ],
      "text/plain": [
       "| 811       | 500            | 200        | 130                  | 2.40s            |"
      ]
     },
     "metadata": {},
     "output_type": "display_data"
    },
    {
     "data": {
      "text/html": [
       "<pre>| 812       | 500            | 199        | 130                  | 2.40s            |</pre>"
      ],
      "text/plain": [
       "| 812       | 500            | 199        | 130                  | 2.40s            |"
      ]
     },
     "metadata": {},
     "output_type": "display_data"
    },
    {
     "data": {
      "text/html": [
       "<pre>| 813       | 500            | 199        | 130                  | 2.41s            |</pre>"
      ],
      "text/plain": [
       "| 813       | 500            | 199        | 130                  | 2.41s            |"
      ]
     },
     "metadata": {},
     "output_type": "display_data"
    },
    {
     "data": {
      "text/html": [
       "<pre>| 814       | 500            | 199        | 130                  | 2.41s            |</pre>"
      ],
      "text/plain": [
       "| 814       | 500            | 199        | 130                  | 2.41s            |"
      ]
     },
     "metadata": {},
     "output_type": "display_data"
    },
    {
     "data": {
      "text/html": [
       "<pre>| 815       | 500            | 199        | 130                  | 2.41s            |</pre>"
      ],
      "text/plain": [
       "| 815       | 500            | 199        | 130                  | 2.41s            |"
      ]
     },
     "metadata": {},
     "output_type": "display_data"
    },
    {
     "data": {
      "text/html": [
       "<pre>| 816       | 500            | 199        | 130                  | 2.41s            |</pre>"
      ],
      "text/plain": [
       "| 816       | 500            | 199        | 130                  | 2.41s            |"
      ]
     },
     "metadata": {},
     "output_type": "display_data"
    },
    {
     "data": {
      "text/html": [
       "<pre>| 817       | 500            | 198        | 130                  | 2.41s            |</pre>"
      ],
      "text/plain": [
       "| 817       | 500            | 198        | 130                  | 2.41s            |"
      ]
     },
     "metadata": {},
     "output_type": "display_data"
    },
    {
     "data": {
      "text/html": [
       "<pre>| 818       | 500            | 198        | 130                  | 2.41s            |</pre>"
      ],
      "text/plain": [
       "| 818       | 500            | 198        | 130                  | 2.41s            |"
      ]
     },
     "metadata": {},
     "output_type": "display_data"
    },
    {
     "data": {
      "text/html": [
       "<pre>| 819       | 500            | 198        | 130                  | 2.41s            |</pre>"
      ],
      "text/plain": [
       "| 819       | 500            | 198        | 130                  | 2.41s            |"
      ]
     },
     "metadata": {},
     "output_type": "display_data"
    },
    {
     "data": {
      "text/html": [
       "<pre>| 820       | 500            | 198        | 130                  | 2.42s            |</pre>"
      ],
      "text/plain": [
       "| 820       | 500            | 198        | 130                  | 2.42s            |"
      ]
     },
     "metadata": {},
     "output_type": "display_data"
    },
    {
     "data": {
      "text/html": [
       "<pre>| 821       | 500            | 198        | 130                  | 2.42s            |</pre>"
      ],
      "text/plain": [
       "| 821       | 500            | 198        | 130                  | 2.42s            |"
      ]
     },
     "metadata": {},
     "output_type": "display_data"
    },
    {
     "data": {
      "text/html": [
       "<pre>| 822       | 500            | 198        | 130                  | 2.42s            |</pre>"
      ],
      "text/plain": [
       "| 822       | 500            | 198        | 130                  | 2.42s            |"
      ]
     },
     "metadata": {},
     "output_type": "display_data"
    },
    {
     "data": {
      "text/html": [
       "<pre>| 823       | 500            | 198        | 130                  | 2.42s            |</pre>"
      ],
      "text/plain": [
       "| 823       | 500            | 198        | 130                  | 2.42s            |"
      ]
     },
     "metadata": {},
     "output_type": "display_data"
    },
    {
     "data": {
      "text/html": [
       "<pre>| 824       | 500            | 198        | 130                  | 2.42s            |</pre>"
      ],
      "text/plain": [
       "| 824       | 500            | 198        | 130                  | 2.42s            |"
      ]
     },
     "metadata": {},
     "output_type": "display_data"
    },
    {
     "data": {
      "text/html": [
       "<pre>| 825       | 500            | 198        | 130                  | 2.42s            |</pre>"
      ],
      "text/plain": [
       "| 825       | 500            | 198        | 130                  | 2.42s            |"
      ]
     },
     "metadata": {},
     "output_type": "display_data"
    },
    {
     "data": {
      "text/html": [
       "<pre>| 826       | 500            | 198        | 130                  | 2.43s            |</pre>"
      ],
      "text/plain": [
       "| 826       | 500            | 198        | 130                  | 2.43s            |"
      ]
     },
     "metadata": {},
     "output_type": "display_data"
    },
    {
     "data": {
      "text/html": [
       "<pre>| 827       | 500            | 197        | 130                  | 2.43s            |</pre>"
      ],
      "text/plain": [
       "| 827       | 500            | 197        | 130                  | 2.43s            |"
      ]
     },
     "metadata": {},
     "output_type": "display_data"
    },
    {
     "data": {
      "text/html": [
       "<pre>| 828       | 500            | 197        | 130                  | 2.43s            |</pre>"
      ],
      "text/plain": [
       "| 828       | 500            | 197        | 130                  | 2.43s            |"
      ]
     },
     "metadata": {},
     "output_type": "display_data"
    },
    {
     "data": {
      "text/html": [
       "<pre>| 829       | 500            | 197        | 130                  | 2.43s            |</pre>"
      ],
      "text/plain": [
       "| 829       | 500            | 197        | 130                  | 2.43s            |"
      ]
     },
     "metadata": {},
     "output_type": "display_data"
    },
    {
     "data": {
      "text/html": [
       "<pre>| 830       | 500            | 196        | 130                  | 2.43s            |</pre>"
      ],
      "text/plain": [
       "| 830       | 500            | 196        | 130                  | 2.43s            |"
      ]
     },
     "metadata": {},
     "output_type": "display_data"
    },
    {
     "data": {
      "text/html": [
       "<pre>| 831       | 500            | 196        | 130                  | 2.43s            |</pre>"
      ],
      "text/plain": [
       "| 831       | 500            | 196        | 130                  | 2.43s            |"
      ]
     },
     "metadata": {},
     "output_type": "display_data"
    },
    {
     "data": {
      "text/html": [
       "<pre>| 832       | 500            | 196        | 130                  | 2.44s            |</pre>"
      ],
      "text/plain": [
       "| 832       | 500            | 196        | 130                  | 2.44s            |"
      ]
     },
     "metadata": {},
     "output_type": "display_data"
    },
    {
     "data": {
      "text/html": [
       "<pre>| 833       | 500            | 196        | 130                  | 2.44s            |</pre>"
      ],
      "text/plain": [
       "| 833       | 500            | 196        | 130                  | 2.44s            |"
      ]
     },
     "metadata": {},
     "output_type": "display_data"
    },
    {
     "data": {
      "text/html": [
       "<pre>| 834       | 500            | 195        | 130                  | 2.44s            |</pre>"
      ],
      "text/plain": [
       "| 834       | 500            | 195        | 130                  | 2.44s            |"
      ]
     },
     "metadata": {},
     "output_type": "display_data"
    },
    {
     "data": {
      "text/html": [
       "<pre>| 835       | 500            | 195        | 130                  | 2.44s            |</pre>"
      ],
      "text/plain": [
       "| 835       | 500            | 195        | 130                  | 2.44s            |"
      ]
     },
     "metadata": {},
     "output_type": "display_data"
    },
    {
     "data": {
      "text/html": [
       "<pre>| 836       | 500            | 195        | 130                  | 2.44s            |</pre>"
      ],
      "text/plain": [
       "| 836       | 500            | 195        | 130                  | 2.44s            |"
      ]
     },
     "metadata": {},
     "output_type": "display_data"
    },
    {
     "data": {
      "text/html": [
       "<pre>| 837       | 500            | 195        | 130                  | 2.44s            |</pre>"
      ],
      "text/plain": [
       "| 837       | 500            | 195        | 130                  | 2.44s            |"
      ]
     },
     "metadata": {},
     "output_type": "display_data"
    },
    {
     "data": {
      "text/html": [
       "<pre>| 838       | 500            | 195        | 130                  | 2.45s            |</pre>"
      ],
      "text/plain": [
       "| 838       | 500            | 195        | 130                  | 2.45s            |"
      ]
     },
     "metadata": {},
     "output_type": "display_data"
    },
    {
     "data": {
      "text/html": [
       "<pre>| 839       | 500            | 194        | 130                  | 2.45s            |</pre>"
      ],
      "text/plain": [
       "| 839       | 500            | 194        | 130                  | 2.45s            |"
      ]
     },
     "metadata": {},
     "output_type": "display_data"
    },
    {
     "data": {
      "text/html": [
       "<pre>| 840       | 500            | 194        | 130                  | 2.45s            |</pre>"
      ],
      "text/plain": [
       "| 840       | 500            | 194        | 130                  | 2.45s            |"
      ]
     },
     "metadata": {},
     "output_type": "display_data"
    },
    {
     "data": {
      "text/html": [
       "<pre>| 841       | 500            | 194        | 130                  | 2.45s            |</pre>"
      ],
      "text/plain": [
       "| 841       | 500            | 194        | 130                  | 2.45s            |"
      ]
     },
     "metadata": {},
     "output_type": "display_data"
    },
    {
     "data": {
      "text/html": [
       "<pre>| 842       | 500            | 193        | 130                  | 2.45s            |</pre>"
      ],
      "text/plain": [
       "| 842       | 500            | 193        | 130                  | 2.45s            |"
      ]
     },
     "metadata": {},
     "output_type": "display_data"
    },
    {
     "data": {
      "text/html": [
       "<pre>| 843       | 500            | 193        | 130                  | 2.45s            |</pre>"
      ],
      "text/plain": [
       "| 843       | 500            | 193        | 130                  | 2.45s            |"
      ]
     },
     "metadata": {},
     "output_type": "display_data"
    },
    {
     "data": {
      "text/html": [
       "<pre>| 844       | 500            | 193        | 130                  | 2.45s            |</pre>"
      ],
      "text/plain": [
       "| 844       | 500            | 193        | 130                  | 2.45s            |"
      ]
     },
     "metadata": {},
     "output_type": "display_data"
    },
    {
     "data": {
      "text/html": [
       "<pre>| 845       | 500            | 193        | 130                  | 2.45s            |</pre>"
      ],
      "text/plain": [
       "| 845       | 500            | 193        | 130                  | 2.45s            |"
      ]
     },
     "metadata": {},
     "output_type": "display_data"
    },
    {
     "data": {
      "text/html": [
       "<pre>| 846       | 500            | 193        | 130                  | 2.46s            |</pre>"
      ],
      "text/plain": [
       "| 846       | 500            | 193        | 130                  | 2.46s            |"
      ]
     },
     "metadata": {},
     "output_type": "display_data"
    },
    {
     "data": {
      "text/html": [
       "<pre>| 847       | 500            | 192        | 130                  | 2.46s            |</pre>"
      ],
      "text/plain": [
       "| 847       | 500            | 192        | 130                  | 2.46s            |"
      ]
     },
     "metadata": {},
     "output_type": "display_data"
    },
    {
     "data": {
      "text/html": [
       "<pre>| 848       | 500            | 192        | 130                  | 2.46s            |</pre>"
      ],
      "text/plain": [
       "| 848       | 500            | 192        | 130                  | 2.46s            |"
      ]
     },
     "metadata": {},
     "output_type": "display_data"
    },
    {
     "data": {
      "text/html": [
       "<pre>| 849       | 500            | 192        | 130                  | 2.46s            |</pre>"
      ],
      "text/plain": [
       "| 849       | 500            | 192        | 130                  | 2.46s            |"
      ]
     },
     "metadata": {},
     "output_type": "display_data"
    },
    {
     "data": {
      "text/html": [
       "<pre>| 850       | 500            | 192        | 130                  | 2.46s            |</pre>"
      ],
      "text/plain": [
       "| 850       | 500            | 192        | 130                  | 2.46s            |"
      ]
     },
     "metadata": {},
     "output_type": "display_data"
    },
    {
     "data": {
      "text/html": [
       "<pre>| 851       | 500            | 192        | 130                  | 2.46s            |</pre>"
      ],
      "text/plain": [
       "| 851       | 500            | 192        | 130                  | 2.46s            |"
      ]
     },
     "metadata": {},
     "output_type": "display_data"
    },
    {
     "data": {
      "text/html": [
       "<pre>| 852       | 500            | 191        | 130                  | 2.46s            |</pre>"
      ],
      "text/plain": [
       "| 852       | 500            | 191        | 130                  | 2.46s            |"
      ]
     },
     "metadata": {},
     "output_type": "display_data"
    },
    {
     "data": {
      "text/html": [
       "<pre>| 853       | 500            | 191        | 130                  | 2.46s            |</pre>"
      ],
      "text/plain": [
       "| 853       | 500            | 191        | 130                  | 2.46s            |"
      ]
     },
     "metadata": {},
     "output_type": "display_data"
    },
    {
     "data": {
      "text/html": [
       "<pre>| 854       | 500            | 191        | 130                  | 2.47s            |</pre>"
      ],
      "text/plain": [
       "| 854       | 500            | 191        | 130                  | 2.47s            |"
      ]
     },
     "metadata": {},
     "output_type": "display_data"
    },
    {
     "data": {
      "text/html": [
       "<pre>| 855       | 500            | 191        | 130                  | 2.47s            |</pre>"
      ],
      "text/plain": [
       "| 855       | 500            | 191        | 130                  | 2.47s            |"
      ]
     },
     "metadata": {},
     "output_type": "display_data"
    },
    {
     "data": {
      "text/html": [
       "<pre>| 856       | 500            | 191        | 130                  | 2.47s            |</pre>"
      ],
      "text/plain": [
       "| 856       | 500            | 191        | 130                  | 2.47s            |"
      ]
     },
     "metadata": {},
     "output_type": "display_data"
    },
    {
     "data": {
      "text/html": [
       "<pre>| 857       | 500            | 190        | 130                  | 2.47s            |</pre>"
      ],
      "text/plain": [
       "| 857       | 500            | 190        | 130                  | 2.47s            |"
      ]
     },
     "metadata": {},
     "output_type": "display_data"
    },
    {
     "data": {
      "text/html": [
       "<pre>| 858       | 500            | 190        | 130                  | 2.47s            |</pre>"
      ],
      "text/plain": [
       "| 858       | 500            | 190        | 130                  | 2.47s            |"
      ]
     },
     "metadata": {},
     "output_type": "display_data"
    },
    {
     "data": {
      "text/html": [
       "<pre>| 859       | 500            | 190        | 130                  | 2.47s            |</pre>"
      ],
      "text/plain": [
       "| 859       | 500            | 190        | 130                  | 2.47s            |"
      ]
     },
     "metadata": {},
     "output_type": "display_data"
    },
    {
     "data": {
      "text/html": [
       "<pre>| 860       | 500            | 190        | 130                  | 2.48s            |</pre>"
      ],
      "text/plain": [
       "| 860       | 500            | 190        | 130                  | 2.48s            |"
      ]
     },
     "metadata": {},
     "output_type": "display_data"
    },
    {
     "data": {
      "text/html": [
       "<pre>| 861       | 500            | 189        | 130                  | 2.48s            |</pre>"
      ],
      "text/plain": [
       "| 861       | 500            | 189        | 130                  | 2.48s            |"
      ]
     },
     "metadata": {},
     "output_type": "display_data"
    },
    {
     "data": {
      "text/html": [
       "<pre>| 862       | 500            | 189        | 130                  | 2.48s            |</pre>"
      ],
      "text/plain": [
       "| 862       | 500            | 189        | 130                  | 2.48s            |"
      ]
     },
     "metadata": {},
     "output_type": "display_data"
    },
    {
     "data": {
      "text/html": [
       "<pre>| 863       | 500            | 189        | 130                  | 2.48s            |</pre>"
      ],
      "text/plain": [
       "| 863       | 500            | 189        | 130                  | 2.48s            |"
      ]
     },
     "metadata": {},
     "output_type": "display_data"
    },
    {
     "data": {
      "text/html": [
       "<pre>| 864       | 500            | 189        | 130                  | 2.48s            |</pre>"
      ],
      "text/plain": [
       "| 864       | 500            | 189        | 130                  | 2.48s            |"
      ]
     },
     "metadata": {},
     "output_type": "display_data"
    },
    {
     "data": {
      "text/html": [
       "<pre>| 865       | 500            | 188        | 130                  | 2.48s            |</pre>"
      ],
      "text/plain": [
       "| 865       | 500            | 188        | 130                  | 2.48s            |"
      ]
     },
     "metadata": {},
     "output_type": "display_data"
    },
    {
     "data": {
      "text/html": [
       "<pre>| 866       | 500            | 188        | 130                  | 2.48s            |</pre>"
      ],
      "text/plain": [
       "| 866       | 500            | 188        | 130                  | 2.48s            |"
      ]
     },
     "metadata": {},
     "output_type": "display_data"
    },
    {
     "data": {
      "text/html": [
       "<pre>| 867       | 500            | 187        | 130                  | 2.49s            |</pre>"
      ],
      "text/plain": [
       "| 867       | 500            | 187        | 130                  | 2.49s            |"
      ]
     },
     "metadata": {},
     "output_type": "display_data"
    },
    {
     "data": {
      "text/html": [
       "<pre>| 868       | 500            | 187        | 130                  | 2.49s            |</pre>"
      ],
      "text/plain": [
       "| 868       | 500            | 187        | 130                  | 2.49s            |"
      ]
     },
     "metadata": {},
     "output_type": "display_data"
    },
    {
     "data": {
      "text/html": [
       "<pre>| 869       | 500            | 187        | 130                  | 2.49s            |</pre>"
      ],
      "text/plain": [
       "| 869       | 500            | 187        | 130                  | 2.49s            |"
      ]
     },
     "metadata": {},
     "output_type": "display_data"
    },
    {
     "data": {
      "text/html": [
       "<pre>| 870       | 500            | 187        | 130                  | 2.49s            |</pre>"
      ],
      "text/plain": [
       "| 870       | 500            | 187        | 130                  | 2.49s            |"
      ]
     },
     "metadata": {},
     "output_type": "display_data"
    },
    {
     "data": {
      "text/html": [
       "<pre>| 871       | 500            | 186        | 130                  | 2.49s            |</pre>"
      ],
      "text/plain": [
       "| 871       | 500            | 186        | 130                  | 2.49s            |"
      ]
     },
     "metadata": {},
     "output_type": "display_data"
    },
    {
     "data": {
      "text/html": [
       "<pre>| 872       | 500            | 186        | 130                  | 2.49s            |</pre>"
      ],
      "text/plain": [
       "| 872       | 500            | 186        | 130                  | 2.49s            |"
      ]
     },
     "metadata": {},
     "output_type": "display_data"
    },
    {
     "data": {
      "text/html": [
       "<pre>| 873       | 500            | 186        | 130                  | 2.49s            |</pre>"
      ],
      "text/plain": [
       "| 873       | 500            | 186        | 130                  | 2.49s            |"
      ]
     },
     "metadata": {},
     "output_type": "display_data"
    },
    {
     "data": {
      "text/html": [
       "<pre>| 874       | 500            | 186        | 130                  | 2.50s            |</pre>"
      ],
      "text/plain": [
       "| 874       | 500            | 186        | 130                  | 2.50s            |"
      ]
     },
     "metadata": {},
     "output_type": "display_data"
    },
    {
     "data": {
      "text/html": [
       "<pre>| 875       | 500            | 186        | 130                  | 2.50s            |</pre>"
      ],
      "text/plain": [
       "| 875       | 500            | 186        | 130                  | 2.50s            |"
      ]
     },
     "metadata": {},
     "output_type": "display_data"
    },
    {
     "data": {
      "text/html": [
       "<pre>| 876       | 500            | 186        | 130                  | 2.50s            |</pre>"
      ],
      "text/plain": [
       "| 876       | 500            | 186        | 130                  | 2.50s            |"
      ]
     },
     "metadata": {},
     "output_type": "display_data"
    },
    {
     "data": {
      "text/html": [
       "<pre>| 877       | 500            | 186        | 130                  | 2.50s            |</pre>"
      ],
      "text/plain": [
       "| 877       | 500            | 186        | 130                  | 2.50s            |"
      ]
     },
     "metadata": {},
     "output_type": "display_data"
    },
    {
     "data": {
      "text/html": [
       "<pre>| 878       | 500            | 185        | 130                  | 2.50s            |</pre>"
      ],
      "text/plain": [
       "| 878       | 500            | 185        | 130                  | 2.50s            |"
      ]
     },
     "metadata": {},
     "output_type": "display_data"
    },
    {
     "data": {
      "text/html": [
       "<pre>| 879       | 500            | 185        | 130                  | 2.50s            |</pre>"
      ],
      "text/plain": [
       "| 879       | 500            | 185        | 130                  | 2.50s            |"
      ]
     },
     "metadata": {},
     "output_type": "display_data"
    },
    {
     "data": {
      "text/html": [
       "<pre>| 880       | 500            | 185        | 130                  | 2.50s            |</pre>"
      ],
      "text/plain": [
       "| 880       | 500            | 185        | 130                  | 2.50s            |"
      ]
     },
     "metadata": {},
     "output_type": "display_data"
    },
    {
     "data": {
      "text/html": [
       "<pre>| 881       | 500            | 185        | 130                  | 2.50s            |</pre>"
      ],
      "text/plain": [
       "| 881       | 500            | 185        | 130                  | 2.50s            |"
      ]
     },
     "metadata": {},
     "output_type": "display_data"
    },
    {
     "data": {
      "text/html": [
       "<pre>| 882       | 500            | 185        | 130                  | 2.51s            |</pre>"
      ],
      "text/plain": [
       "| 882       | 500            | 185        | 130                  | 2.51s            |"
      ]
     },
     "metadata": {},
     "output_type": "display_data"
    },
    {
     "data": {
      "text/html": [
       "<pre>| 883       | 500            | 185        | 130                  | 2.51s            |</pre>"
      ],
      "text/plain": [
       "| 883       | 500            | 185        | 130                  | 2.51s            |"
      ]
     },
     "metadata": {},
     "output_type": "display_data"
    },
    {
     "data": {
      "text/html": [
       "<pre>| 884       | 500            | 185        | 130                  | 2.51s            |</pre>"
      ],
      "text/plain": [
       "| 884       | 500            | 185        | 130                  | 2.51s            |"
      ]
     },
     "metadata": {},
     "output_type": "display_data"
    },
    {
     "data": {
      "text/html": [
       "<pre>| 885       | 500            | 184        | 130                  | 2.51s            |</pre>"
      ],
      "text/plain": [
       "| 885       | 500            | 184        | 130                  | 2.51s            |"
      ]
     },
     "metadata": {},
     "output_type": "display_data"
    },
    {
     "data": {
      "text/html": [
       "<pre>| 886       | 500            | 184        | 130                  | 2.51s            |</pre>"
      ],
      "text/plain": [
       "| 886       | 500            | 184        | 130                  | 2.51s            |"
      ]
     },
     "metadata": {},
     "output_type": "display_data"
    },
    {
     "data": {
      "text/html": [
       "<pre>| 887       | 500            | 184        | 130                  | 2.51s            |</pre>"
      ],
      "text/plain": [
       "| 887       | 500            | 184        | 130                  | 2.51s            |"
      ]
     },
     "metadata": {},
     "output_type": "display_data"
    },
    {
     "data": {
      "text/html": [
       "<pre>| 888       | 500            | 184        | 130                  | 2.51s            |</pre>"
      ],
      "text/plain": [
       "| 888       | 500            | 184        | 130                  | 2.51s            |"
      ]
     },
     "metadata": {},
     "output_type": "display_data"
    },
    {
     "data": {
      "text/html": [
       "<pre>| 889       | 500            | 184        | 130                  | 2.52s            |</pre>"
      ],
      "text/plain": [
       "| 889       | 500            | 184        | 130                  | 2.52s            |"
      ]
     },
     "metadata": {},
     "output_type": "display_data"
    },
    {
     "data": {
      "text/html": [
       "<pre>| 890       | 500            | 184        | 130                  | 2.52s            |</pre>"
      ],
      "text/plain": [
       "| 890       | 500            | 184        | 130                  | 2.52s            |"
      ]
     },
     "metadata": {},
     "output_type": "display_data"
    },
    {
     "data": {
      "text/html": [
       "<pre>| 891       | 500            | 183        | 130                  | 2.52s            |</pre>"
      ],
      "text/plain": [
       "| 891       | 500            | 183        | 130                  | 2.52s            |"
      ]
     },
     "metadata": {},
     "output_type": "display_data"
    },
    {
     "data": {
      "text/html": [
       "<pre>| 892       | 500            | 183        | 130                  | 2.52s            |</pre>"
      ],
      "text/plain": [
       "| 892       | 500            | 183        | 130                  | 2.52s            |"
      ]
     },
     "metadata": {},
     "output_type": "display_data"
    },
    {
     "data": {
      "text/html": [
       "<pre>| 893       | 500            | 182        | 130                  | 2.52s            |</pre>"
      ],
      "text/plain": [
       "| 893       | 500            | 182        | 130                  | 2.52s            |"
      ]
     },
     "metadata": {},
     "output_type": "display_data"
    },
    {
     "data": {
      "text/html": [
       "<pre>| 894       | 500            | 182        | 130                  | 2.52s            |</pre>"
      ],
      "text/plain": [
       "| 894       | 500            | 182        | 130                  | 2.52s            |"
      ]
     },
     "metadata": {},
     "output_type": "display_data"
    },
    {
     "data": {
      "text/html": [
       "<pre>| 895       | 500            | 182        | 130                  | 2.52s            |</pre>"
      ],
      "text/plain": [
       "| 895       | 500            | 182        | 130                  | 2.52s            |"
      ]
     },
     "metadata": {},
     "output_type": "display_data"
    },
    {
     "data": {
      "text/html": [
       "<pre>| 896       | 500            | 182        | 130                  | 2.53s            |</pre>"
      ],
      "text/plain": [
       "| 896       | 500            | 182        | 130                  | 2.53s            |"
      ]
     },
     "metadata": {},
     "output_type": "display_data"
    },
    {
     "data": {
      "text/html": [
       "<pre>| 897       | 500            | 182        | 130                  | 2.53s            |</pre>"
      ],
      "text/plain": [
       "| 897       | 500            | 182        | 130                  | 2.53s            |"
      ]
     },
     "metadata": {},
     "output_type": "display_data"
    },
    {
     "data": {
      "text/html": [
       "<pre>| 898       | 500            | 181        | 130                  | 2.53s            |</pre>"
      ],
      "text/plain": [
       "| 898       | 500            | 181        | 130                  | 2.53s            |"
      ]
     },
     "metadata": {},
     "output_type": "display_data"
    },
    {
     "data": {
      "text/html": [
       "<pre>| 899       | 500            | 181        | 130                  | 2.53s            |</pre>"
      ],
      "text/plain": [
       "| 899       | 500            | 181        | 130                  | 2.53s            |"
      ]
     },
     "metadata": {},
     "output_type": "display_data"
    },
    {
     "data": {
      "text/html": [
       "<pre>| 900       | 500            | 180        | 130                  | 2.53s            |</pre>"
      ],
      "text/plain": [
       "| 900       | 500            | 180        | 130                  | 2.53s            |"
      ]
     },
     "metadata": {},
     "output_type": "display_data"
    },
    {
     "data": {
      "text/html": [
       "<pre>| 901       | 500            | 180        | 130                  | 2.53s            |</pre>"
      ],
      "text/plain": [
       "| 901       | 500            | 180        | 130                  | 2.53s            |"
      ]
     },
     "metadata": {},
     "output_type": "display_data"
    },
    {
     "data": {
      "text/html": [
       "<pre>| 902       | 500            | 180        | 130                  | 2.53s            |</pre>"
      ],
      "text/plain": [
       "| 902       | 500            | 180        | 130                  | 2.53s            |"
      ]
     },
     "metadata": {},
     "output_type": "display_data"
    },
    {
     "data": {
      "text/html": [
       "<pre>| 903       | 500            | 179        | 130                  | 2.54s            |</pre>"
      ],
      "text/plain": [
       "| 903       | 500            | 179        | 130                  | 2.54s            |"
      ]
     },
     "metadata": {},
     "output_type": "display_data"
    },
    {
     "data": {
      "text/html": [
       "<pre>| 904       | 500            | 179        | 130                  | 2.54s            |</pre>"
      ],
      "text/plain": [
       "| 904       | 500            | 179        | 130                  | 2.54s            |"
      ]
     },
     "metadata": {},
     "output_type": "display_data"
    },
    {
     "data": {
      "text/html": [
       "<pre>| 905       | 500            | 179        | 130                  | 2.54s            |</pre>"
      ],
      "text/plain": [
       "| 905       | 500            | 179        | 130                  | 2.54s            |"
      ]
     },
     "metadata": {},
     "output_type": "display_data"
    },
    {
     "data": {
      "text/html": [
       "<pre>| 906       | 500            | 179        | 130                  | 2.54s            |</pre>"
      ],
      "text/plain": [
       "| 906       | 500            | 179        | 130                  | 2.54s            |"
      ]
     },
     "metadata": {},
     "output_type": "display_data"
    },
    {
     "data": {
      "text/html": [
       "<pre>| 907       | 500            | 178        | 130                  | 2.54s            |</pre>"
      ],
      "text/plain": [
       "| 907       | 500            | 178        | 130                  | 2.54s            |"
      ]
     },
     "metadata": {},
     "output_type": "display_data"
    },
    {
     "data": {
      "text/html": [
       "<pre>| 908       | 500            | 178        | 130                  | 2.54s            |</pre>"
      ],
      "text/plain": [
       "| 908       | 500            | 178        | 130                  | 2.54s            |"
      ]
     },
     "metadata": {},
     "output_type": "display_data"
    },
    {
     "data": {
      "text/html": [
       "<pre>| 909       | 500            | 178        | 130                  | 2.55s            |</pre>"
      ],
      "text/plain": [
       "| 909       | 500            | 178        | 130                  | 2.55s            |"
      ]
     },
     "metadata": {},
     "output_type": "display_data"
    },
    {
     "data": {
      "text/html": [
       "<pre>| 910       | 500            | 178        | 130                  | 2.55s            |</pre>"
      ],
      "text/plain": [
       "| 910       | 500            | 178        | 130                  | 2.55s            |"
      ]
     },
     "metadata": {},
     "output_type": "display_data"
    },
    {
     "data": {
      "text/html": [
       "<pre>| 911       | 500            | 177        | 130                  | 2.55s            |</pre>"
      ],
      "text/plain": [
       "| 911       | 500            | 177        | 130                  | 2.55s            |"
      ]
     },
     "metadata": {},
     "output_type": "display_data"
    },
    {
     "data": {
      "text/html": [
       "<pre>| 912       | 500            | 177        | 130                  | 2.55s            |</pre>"
      ],
      "text/plain": [
       "| 912       | 500            | 177        | 130                  | 2.55s            |"
      ]
     },
     "metadata": {},
     "output_type": "display_data"
    },
    {
     "data": {
      "text/html": [
       "<pre>| 913       | 500            | 177        | 130                  | 2.55s            |</pre>"
      ],
      "text/plain": [
       "| 913       | 500            | 177        | 130                  | 2.55s            |"
      ]
     },
     "metadata": {},
     "output_type": "display_data"
    },
    {
     "data": {
      "text/html": [
       "<pre>| 914       | 500            | 177        | 130                  | 2.55s            |</pre>"
      ],
      "text/plain": [
       "| 914       | 500            | 177        | 130                  | 2.55s            |"
      ]
     },
     "metadata": {},
     "output_type": "display_data"
    },
    {
     "data": {
      "text/html": [
       "<pre>| 915       | 500            | 177        | 130                  | 2.55s            |</pre>"
      ],
      "text/plain": [
       "| 915       | 500            | 177        | 130                  | 2.55s            |"
      ]
     },
     "metadata": {},
     "output_type": "display_data"
    },
    {
     "data": {
      "text/html": [
       "<pre>| 916       | 500            | 177        | 130                  | 2.56s            |</pre>"
      ],
      "text/plain": [
       "| 916       | 500            | 177        | 130                  | 2.56s            |"
      ]
     },
     "metadata": {},
     "output_type": "display_data"
    },
    {
     "data": {
      "text/html": [
       "<pre>| 917       | 500            | 176        | 130                  | 2.56s            |</pre>"
      ],
      "text/plain": [
       "| 917       | 500            | 176        | 130                  | 2.56s            |"
      ]
     },
     "metadata": {},
     "output_type": "display_data"
    },
    {
     "data": {
      "text/html": [
       "<pre>| 918       | 500            | 176        | 130                  | 2.56s            |</pre>"
      ],
      "text/plain": [
       "| 918       | 500            | 176        | 130                  | 2.56s            |"
      ]
     },
     "metadata": {},
     "output_type": "display_data"
    },
    {
     "data": {
      "text/html": [
       "<pre>| 919       | 500            | 176        | 130                  | 2.56s            |</pre>"
      ],
      "text/plain": [
       "| 919       | 500            | 176        | 130                  | 2.56s            |"
      ]
     },
     "metadata": {},
     "output_type": "display_data"
    },
    {
     "data": {
      "text/html": [
       "<pre>| 920       | 500            | 175        | 130                  | 2.56s            |</pre>"
      ],
      "text/plain": [
       "| 920       | 500            | 175        | 130                  | 2.56s            |"
      ]
     },
     "metadata": {},
     "output_type": "display_data"
    },
    {
     "data": {
      "text/html": [
       "<pre>| 921       | 500            | 175        | 130                  | 2.56s            |</pre>"
      ],
      "text/plain": [
       "| 921       | 500            | 175        | 130                  | 2.56s            |"
      ]
     },
     "metadata": {},
     "output_type": "display_data"
    },
    {
     "data": {
      "text/html": [
       "<pre>| 922       | 500            | 175        | 130                  | 2.56s            |</pre>"
      ],
      "text/plain": [
       "| 922       | 500            | 175        | 130                  | 2.56s            |"
      ]
     },
     "metadata": {},
     "output_type": "display_data"
    },
    {
     "data": {
      "text/html": [
       "<pre>| 923       | 500            | 175        | 130                  | 2.57s            |</pre>"
      ],
      "text/plain": [
       "| 923       | 500            | 175        | 130                  | 2.57s            |"
      ]
     },
     "metadata": {},
     "output_type": "display_data"
    },
    {
     "data": {
      "text/html": [
       "<pre>| 924       | 500            | 175        | 130                  | 2.57s            |</pre>"
      ],
      "text/plain": [
       "| 924       | 500            | 175        | 130                  | 2.57s            |"
      ]
     },
     "metadata": {},
     "output_type": "display_data"
    },
    {
     "data": {
      "text/html": [
       "<pre>| 925       | 500            | 174        | 130                  | 2.57s            |</pre>"
      ],
      "text/plain": [
       "| 925       | 500            | 174        | 130                  | 2.57s            |"
      ]
     },
     "metadata": {},
     "output_type": "display_data"
    },
    {
     "data": {
      "text/html": [
       "<pre>| 926       | 500            | 174        | 130                  | 2.57s            |</pre>"
      ],
      "text/plain": [
       "| 926       | 500            | 174        | 130                  | 2.57s            |"
      ]
     },
     "metadata": {},
     "output_type": "display_data"
    },
    {
     "data": {
      "text/html": [
       "<pre>| 927       | 500            | 174        | 130                  | 2.57s            |</pre>"
      ],
      "text/plain": [
       "| 927       | 500            | 174        | 130                  | 2.57s            |"
      ]
     },
     "metadata": {},
     "output_type": "display_data"
    },
    {
     "data": {
      "text/html": [
       "<pre>| 928       | 500            | 173        | 130                  | 2.57s            |</pre>"
      ],
      "text/plain": [
       "| 928       | 500            | 173        | 130                  | 2.57s            |"
      ]
     },
     "metadata": {},
     "output_type": "display_data"
    },
    {
     "data": {
      "text/html": [
       "<pre>| 929       | 500            | 173        | 130                  | 2.58s            |</pre>"
      ],
      "text/plain": [
       "| 929       | 500            | 173        | 130                  | 2.58s            |"
      ]
     },
     "metadata": {},
     "output_type": "display_data"
    },
    {
     "data": {
      "text/html": [
       "<pre>| 930       | 500            | 173        | 130                  | 2.58s            |</pre>"
      ],
      "text/plain": [
       "| 930       | 500            | 173        | 130                  | 2.58s            |"
      ]
     },
     "metadata": {},
     "output_type": "display_data"
    },
    {
     "data": {
      "text/html": [
       "<pre>| 931       | 500            | 173        | 130                  | 2.58s            |</pre>"
      ],
      "text/plain": [
       "| 931       | 500            | 173        | 130                  | 2.58s            |"
      ]
     },
     "metadata": {},
     "output_type": "display_data"
    },
    {
     "data": {
      "text/html": [
       "<pre>| 932       | 500            | 173        | 130                  | 2.58s            |</pre>"
      ],
      "text/plain": [
       "| 932       | 500            | 173        | 130                  | 2.58s            |"
      ]
     },
     "metadata": {},
     "output_type": "display_data"
    },
    {
     "data": {
      "text/html": [
       "<pre>| 933       | 500            | 173        | 130                  | 2.58s            |</pre>"
      ],
      "text/plain": [
       "| 933       | 500            | 173        | 130                  | 2.58s            |"
      ]
     },
     "metadata": {},
     "output_type": "display_data"
    },
    {
     "data": {
      "text/html": [
       "<pre>| 934       | 500            | 173        | 130                  | 2.58s            |</pre>"
      ],
      "text/plain": [
       "| 934       | 500            | 173        | 130                  | 2.58s            |"
      ]
     },
     "metadata": {},
     "output_type": "display_data"
    },
    {
     "data": {
      "text/html": [
       "<pre>| 935       | 500            | 172        | 130                  | 2.58s            |</pre>"
      ],
      "text/plain": [
       "| 935       | 500            | 172        | 130                  | 2.58s            |"
      ]
     },
     "metadata": {},
     "output_type": "display_data"
    },
    {
     "data": {
      "text/html": [
       "<pre>| 936       | 500            | 172        | 130                  | 2.59s            |</pre>"
      ],
      "text/plain": [
       "| 936       | 500            | 172        | 130                  | 2.59s            |"
      ]
     },
     "metadata": {},
     "output_type": "display_data"
    },
    {
     "data": {
      "text/html": [
       "<pre>| 937       | 500            | 172        | 130                  | 2.59s            |</pre>"
      ],
      "text/plain": [
       "| 937       | 500            | 172        | 130                  | 2.59s            |"
      ]
     },
     "metadata": {},
     "output_type": "display_data"
    },
    {
     "data": {
      "text/html": [
       "<pre>| 938       | 500            | 172        | 130                  | 2.59s            |</pre>"
      ],
      "text/plain": [
       "| 938       | 500            | 172        | 130                  | 2.59s            |"
      ]
     },
     "metadata": {},
     "output_type": "display_data"
    },
    {
     "data": {
      "text/html": [
       "<pre>| 939       | 500            | 172        | 130                  | 2.59s            |</pre>"
      ],
      "text/plain": [
       "| 939       | 500            | 172        | 130                  | 2.59s            |"
      ]
     },
     "metadata": {},
     "output_type": "display_data"
    },
    {
     "data": {
      "text/html": [
       "<pre>| 940       | 500            | 172        | 130                  | 2.59s            |</pre>"
      ],
      "text/plain": [
       "| 940       | 500            | 172        | 130                  | 2.59s            |"
      ]
     },
     "metadata": {},
     "output_type": "display_data"
    },
    {
     "data": {
      "text/html": [
       "<pre>| 941       | 500            | 172        | 130                  | 2.60s            |</pre>"
      ],
      "text/plain": [
       "| 941       | 500            | 172        | 130                  | 2.60s            |"
      ]
     },
     "metadata": {},
     "output_type": "display_data"
    },
    {
     "data": {
      "text/html": [
       "<pre>| 942       | 500            | 172        | 130                  | 2.60s            |</pre>"
      ],
      "text/plain": [
       "| 942       | 500            | 172        | 130                  | 2.60s            |"
      ]
     },
     "metadata": {},
     "output_type": "display_data"
    },
    {
     "data": {
      "text/html": [
       "<pre>| 943       | 500            | 172        | 130                  | 2.60s            |</pre>"
      ],
      "text/plain": [
       "| 943       | 500            | 172        | 130                  | 2.60s            |"
      ]
     },
     "metadata": {},
     "output_type": "display_data"
    },
    {
     "data": {
      "text/html": [
       "<pre>| 944       | 500            | 171        | 130                  | 2.60s            |</pre>"
      ],
      "text/plain": [
       "| 944       | 500            | 171        | 130                  | 2.60s            |"
      ]
     },
     "metadata": {},
     "output_type": "display_data"
    },
    {
     "data": {
      "text/html": [
       "<pre>| 945       | 500            | 171        | 130                  | 2.60s            |</pre>"
      ],
      "text/plain": [
       "| 945       | 500            | 171        | 130                  | 2.60s            |"
      ]
     },
     "metadata": {},
     "output_type": "display_data"
    },
    {
     "data": {
      "text/html": [
       "<pre>| 946       | 500            | 171        | 130                  | 2.60s            |</pre>"
      ],
      "text/plain": [
       "| 946       | 500            | 171        | 130                  | 2.60s            |"
      ]
     },
     "metadata": {},
     "output_type": "display_data"
    },
    {
     "data": {
      "text/html": [
       "<pre>| 947       | 500            | 171        | 130                  | 2.60s            |</pre>"
      ],
      "text/plain": [
       "| 947       | 500            | 171        | 130                  | 2.60s            |"
      ]
     },
     "metadata": {},
     "output_type": "display_data"
    },
    {
     "data": {
      "text/html": [
       "<pre>| 948       | 500            | 170        | 130                  | 2.61s            |</pre>"
      ],
      "text/plain": [
       "| 948       | 500            | 170        | 130                  | 2.61s            |"
      ]
     },
     "metadata": {},
     "output_type": "display_data"
    },
    {
     "data": {
      "text/html": [
       "<pre>| 949       | 500            | 170        | 130                  | 2.61s            |</pre>"
      ],
      "text/plain": [
       "| 949       | 500            | 170        | 130                  | 2.61s            |"
      ]
     },
     "metadata": {},
     "output_type": "display_data"
    },
    {
     "data": {
      "text/html": [
       "<pre>| 950       | 500            | 170        | 130                  | 2.61s            |</pre>"
      ],
      "text/plain": [
       "| 950       | 500            | 170        | 130                  | 2.61s            |"
      ]
     },
     "metadata": {},
     "output_type": "display_data"
    },
    {
     "data": {
      "text/html": [
       "<pre>| 951       | 500            | 170        | 130                  | 2.61s            |</pre>"
      ],
      "text/plain": [
       "| 951       | 500            | 170        | 130                  | 2.61s            |"
      ]
     },
     "metadata": {},
     "output_type": "display_data"
    },
    {
     "data": {
      "text/html": [
       "<pre>| 952       | 500            | 170        | 130                  | 2.61s            |</pre>"
      ],
      "text/plain": [
       "| 952       | 500            | 170        | 130                  | 2.61s            |"
      ]
     },
     "metadata": {},
     "output_type": "display_data"
    },
    {
     "data": {
      "text/html": [
       "<pre>| 953       | 500            | 170        | 130                  | 2.61s            |</pre>"
      ],
      "text/plain": [
       "| 953       | 500            | 170        | 130                  | 2.61s            |"
      ]
     },
     "metadata": {},
     "output_type": "display_data"
    },
    {
     "data": {
      "text/html": [
       "<pre>| 954       | 500            | 170        | 130                  | 2.61s            |</pre>"
      ],
      "text/plain": [
       "| 954       | 500            | 170        | 130                  | 2.61s            |"
      ]
     },
     "metadata": {},
     "output_type": "display_data"
    },
    {
     "data": {
      "text/html": [
       "<pre>| 955       | 500            | 169        | 130                  | 2.62s            |</pre>"
      ],
      "text/plain": [
       "| 955       | 500            | 169        | 130                  | 2.62s            |"
      ]
     },
     "metadata": {},
     "output_type": "display_data"
    },
    {
     "data": {
      "text/html": [
       "<pre>| 956       | 500            | 169        | 130                  | 2.62s            |</pre>"
      ],
      "text/plain": [
       "| 956       | 500            | 169        | 130                  | 2.62s            |"
      ]
     },
     "metadata": {},
     "output_type": "display_data"
    },
    {
     "data": {
      "text/html": [
       "<pre>| 957       | 500            | 169        | 130                  | 2.62s            |</pre>"
      ],
      "text/plain": [
       "| 957       | 500            | 169        | 130                  | 2.62s            |"
      ]
     },
     "metadata": {},
     "output_type": "display_data"
    },
    {
     "data": {
      "text/html": [
       "<pre>| 958       | 500            | 169        | 130                  | 2.62s            |</pre>"
      ],
      "text/plain": [
       "| 958       | 500            | 169        | 130                  | 2.62s            |"
      ]
     },
     "metadata": {},
     "output_type": "display_data"
    },
    {
     "data": {
      "text/html": [
       "<pre>| 959       | 500            | 168        | 130                  | 2.62s            |</pre>"
      ],
      "text/plain": [
       "| 959       | 500            | 168        | 130                  | 2.62s            |"
      ]
     },
     "metadata": {},
     "output_type": "display_data"
    },
    {
     "data": {
      "text/html": [
       "<pre>| 960       | 500            | 168        | 130                  | 2.62s            |</pre>"
      ],
      "text/plain": [
       "| 960       | 500            | 168        | 130                  | 2.62s            |"
      ]
     },
     "metadata": {},
     "output_type": "display_data"
    },
    {
     "data": {
      "text/html": [
       "<pre>| 961       | 500            | 168        | 130                  | 2.62s            |</pre>"
      ],
      "text/plain": [
       "| 961       | 500            | 168        | 130                  | 2.62s            |"
      ]
     },
     "metadata": {},
     "output_type": "display_data"
    },
    {
     "data": {
      "text/html": [
       "<pre>| 962       | 500            | 168        | 130                  | 2.63s            |</pre>"
      ],
      "text/plain": [
       "| 962       | 500            | 168        | 130                  | 2.63s            |"
      ]
     },
     "metadata": {},
     "output_type": "display_data"
    },
    {
     "data": {
      "text/html": [
       "<pre>| 963       | 500            | 168        | 130                  | 2.63s            |</pre>"
      ],
      "text/plain": [
       "| 963       | 500            | 168        | 130                  | 2.63s            |"
      ]
     },
     "metadata": {},
     "output_type": "display_data"
    },
    {
     "data": {
      "text/html": [
       "<pre>| 964       | 500            | 168        | 130                  | 2.63s            |</pre>"
      ],
      "text/plain": [
       "| 964       | 500            | 168        | 130                  | 2.63s            |"
      ]
     },
     "metadata": {},
     "output_type": "display_data"
    },
    {
     "data": {
      "text/html": [
       "<pre>| 965       | 500            | 168        | 130                  | 2.63s            |</pre>"
      ],
      "text/plain": [
       "| 965       | 500            | 168        | 130                  | 2.63s            |"
      ]
     },
     "metadata": {},
     "output_type": "display_data"
    },
    {
     "data": {
      "text/html": [
       "<pre>| 966       | 500            | 167        | 130                  | 2.63s            |</pre>"
      ],
      "text/plain": [
       "| 966       | 500            | 167        | 130                  | 2.63s            |"
      ]
     },
     "metadata": {},
     "output_type": "display_data"
    },
    {
     "data": {
      "text/html": [
       "<pre>| 967       | 500            | 167        | 130                  | 2.63s            |</pre>"
      ],
      "text/plain": [
       "| 967       | 500            | 167        | 130                  | 2.63s            |"
      ]
     },
     "metadata": {},
     "output_type": "display_data"
    },
    {
     "data": {
      "text/html": [
       "<pre>| 968       | 500            | 167        | 130                  | 2.64s            |</pre>"
      ],
      "text/plain": [
       "| 968       | 500            | 167        | 130                  | 2.64s            |"
      ]
     },
     "metadata": {},
     "output_type": "display_data"
    },
    {
     "data": {
      "text/html": [
       "<pre>| 969       | 500            | 167        | 130                  | 2.64s            |</pre>"
      ],
      "text/plain": [
       "| 969       | 500            | 167        | 130                  | 2.64s            |"
      ]
     },
     "metadata": {},
     "output_type": "display_data"
    },
    {
     "data": {
      "text/html": [
       "<pre>| 970       | 500            | 167        | 130                  | 2.64s            |</pre>"
      ],
      "text/plain": [
       "| 970       | 500            | 167        | 130                  | 2.64s            |"
      ]
     },
     "metadata": {},
     "output_type": "display_data"
    },
    {
     "data": {
      "text/html": [
       "<pre>| 971       | 500            | 167        | 130                  | 2.64s            |</pre>"
      ],
      "text/plain": [
       "| 971       | 500            | 167        | 130                  | 2.64s            |"
      ]
     },
     "metadata": {},
     "output_type": "display_data"
    },
    {
     "data": {
      "text/html": [
       "<pre>| 972       | 500            | 167        | 130                  | 2.64s            |</pre>"
      ],
      "text/plain": [
       "| 972       | 500            | 167        | 130                  | 2.64s            |"
      ]
     },
     "metadata": {},
     "output_type": "display_data"
    },
    {
     "data": {
      "text/html": [
       "<pre>| 973       | 500            | 166        | 130                  | 2.64s            |</pre>"
      ],
      "text/plain": [
       "| 973       | 500            | 166        | 130                  | 2.64s            |"
      ]
     },
     "metadata": {},
     "output_type": "display_data"
    },
    {
     "data": {
      "text/html": [
       "<pre>| 974       | 500            | 166        | 130                  | 2.64s            |</pre>"
      ],
      "text/plain": [
       "| 974       | 500            | 166        | 130                  | 2.64s            |"
      ]
     },
     "metadata": {},
     "output_type": "display_data"
    },
    {
     "data": {
      "text/html": [
       "<pre>| 975       | 500            | 166        | 130                  | 2.64s            |</pre>"
      ],
      "text/plain": [
       "| 975       | 500            | 166        | 130                  | 2.64s            |"
      ]
     },
     "metadata": {},
     "output_type": "display_data"
    },
    {
     "data": {
      "text/html": [
       "<pre>| 976       | 500            | 166        | 130                  | 2.65s            |</pre>"
      ],
      "text/plain": [
       "| 976       | 500            | 166        | 130                  | 2.65s            |"
      ]
     },
     "metadata": {},
     "output_type": "display_data"
    },
    {
     "data": {
      "text/html": [
       "<pre>| 977       | 500            | 165        | 130                  | 2.65s            |</pre>"
      ],
      "text/plain": [
       "| 977       | 500            | 165        | 130                  | 2.65s            |"
      ]
     },
     "metadata": {},
     "output_type": "display_data"
    },
    {
     "data": {
      "text/html": [
       "<pre>| 978       | 500            | 165        | 130                  | 2.65s            |</pre>"
      ],
      "text/plain": [
       "| 978       | 500            | 165        | 130                  | 2.65s            |"
      ]
     },
     "metadata": {},
     "output_type": "display_data"
    },
    {
     "data": {
      "text/html": [
       "<pre>| 979       | 500            | 165        | 130                  | 2.65s            |</pre>"
      ],
      "text/plain": [
       "| 979       | 500            | 165        | 130                  | 2.65s            |"
      ]
     },
     "metadata": {},
     "output_type": "display_data"
    },
    {
     "data": {
      "text/html": [
       "<pre>| 980       | 500            | 165        | 130                  | 2.65s            |</pre>"
      ],
      "text/plain": [
       "| 980       | 500            | 165        | 130                  | 2.65s            |"
      ]
     },
     "metadata": {},
     "output_type": "display_data"
    },
    {
     "data": {
      "text/html": [
       "<pre>| 981       | 500            | 165        | 130                  | 2.65s            |</pre>"
      ],
      "text/plain": [
       "| 981       | 500            | 165        | 130                  | 2.65s            |"
      ]
     },
     "metadata": {},
     "output_type": "display_data"
    },
    {
     "data": {
      "text/html": [
       "<pre>| 982       | 500            | 165        | 130                  | 2.65s            |</pre>"
      ],
      "text/plain": [
       "| 982       | 500            | 165        | 130                  | 2.65s            |"
      ]
     },
     "metadata": {},
     "output_type": "display_data"
    },
    {
     "data": {
      "text/html": [
       "<pre>| 983       | 500            | 165        | 130                  | 2.66s            |</pre>"
      ],
      "text/plain": [
       "| 983       | 500            | 165        | 130                  | 2.66s            |"
      ]
     },
     "metadata": {},
     "output_type": "display_data"
    },
    {
     "data": {
      "text/html": [
       "<pre>| 984       | 500            | 165        | 130                  | 2.66s            |</pre>"
      ],
      "text/plain": [
       "| 984       | 500            | 165        | 130                  | 2.66s            |"
      ]
     },
     "metadata": {},
     "output_type": "display_data"
    },
    {
     "data": {
      "text/html": [
       "<pre>| 985       | 500            | 165        | 130                  | 2.66s            |</pre>"
      ],
      "text/plain": [
       "| 985       | 500            | 165        | 130                  | 2.66s            |"
      ]
     },
     "metadata": {},
     "output_type": "display_data"
    },
    {
     "data": {
      "text/html": [
       "<pre>| 986       | 500            | 165        | 130                  | 2.66s            |</pre>"
      ],
      "text/plain": [
       "| 986       | 500            | 165        | 130                  | 2.66s            |"
      ]
     },
     "metadata": {},
     "output_type": "display_data"
    },
    {
     "data": {
      "text/html": [
       "<pre>| 987       | 500            | 164        | 130                  | 2.66s            |</pre>"
      ],
      "text/plain": [
       "| 987       | 500            | 164        | 130                  | 2.66s            |"
      ]
     },
     "metadata": {},
     "output_type": "display_data"
    },
    {
     "data": {
      "text/html": [
       "<pre>| 988       | 500            | 164        | 130                  | 2.66s            |</pre>"
      ],
      "text/plain": [
       "| 988       | 500            | 164        | 130                  | 2.66s            |"
      ]
     },
     "metadata": {},
     "output_type": "display_data"
    },
    {
     "data": {
      "text/html": [
       "<pre>| 989       | 500            | 164        | 130                  | 2.66s            |</pre>"
      ],
      "text/plain": [
       "| 989       | 500            | 164        | 130                  | 2.66s            |"
      ]
     },
     "metadata": {},
     "output_type": "display_data"
    },
    {
     "data": {
      "text/html": [
       "<pre>| 990       | 500            | 164        | 130                  | 2.66s            |</pre>"
      ],
      "text/plain": [
       "| 990       | 500            | 164        | 130                  | 2.66s            |"
      ]
     },
     "metadata": {},
     "output_type": "display_data"
    },
    {
     "data": {
      "text/html": [
       "<pre>| 991       | 500            | 164        | 130                  | 2.67s            |</pre>"
      ],
      "text/plain": [
       "| 991       | 500            | 164        | 130                  | 2.67s            |"
      ]
     },
     "metadata": {},
     "output_type": "display_data"
    },
    {
     "data": {
      "text/html": [
       "<pre>| 992       | 500            | 164        | 130                  | 2.67s            |</pre>"
      ],
      "text/plain": [
       "| 992       | 500            | 164        | 130                  | 2.67s            |"
      ]
     },
     "metadata": {},
     "output_type": "display_data"
    },
    {
     "data": {
      "text/html": [
       "<pre>| 993       | 500            | 164        | 130                  | 2.67s            |</pre>"
      ],
      "text/plain": [
       "| 993       | 500            | 164        | 130                  | 2.67s            |"
      ]
     },
     "metadata": {},
     "output_type": "display_data"
    },
    {
     "data": {
      "text/html": [
       "<pre>| 994       | 500            | 164        | 130                  | 2.67s            |</pre>"
      ],
      "text/plain": [
       "| 994       | 500            | 164        | 130                  | 2.67s            |"
      ]
     },
     "metadata": {},
     "output_type": "display_data"
    },
    {
     "data": {
      "text/html": [
       "<pre>| 995       | 500            | 163        | 130                  | 2.67s            |</pre>"
      ],
      "text/plain": [
       "| 995       | 500            | 163        | 130                  | 2.67s            |"
      ]
     },
     "metadata": {},
     "output_type": "display_data"
    },
    {
     "data": {
      "text/html": [
       "<pre>| 996       | 500            | 163        | 130                  | 2.67s            |</pre>"
      ],
      "text/plain": [
       "| 996       | 500            | 163        | 130                  | 2.67s            |"
      ]
     },
     "metadata": {},
     "output_type": "display_data"
    },
    {
     "data": {
      "text/html": [
       "<pre>| 997       | 500            | 163        | 130                  | 2.67s            |</pre>"
      ],
      "text/plain": [
       "| 997       | 500            | 163        | 130                  | 2.67s            |"
      ]
     },
     "metadata": {},
     "output_type": "display_data"
    },
    {
     "data": {
      "text/html": [
       "<pre>| 998       | 500            | 163        | 130                  | 2.68s            |</pre>"
      ],
      "text/plain": [
       "| 998       | 500            | 163        | 130                  | 2.68s            |"
      ]
     },
     "metadata": {},
     "output_type": "display_data"
    },
    {
     "data": {
      "text/html": [
       "<pre>| 999       | 500            | 163        | 130                  | 2.68s            |</pre>"
      ],
      "text/plain": [
       "| 999       | 500            | 163        | 130                  | 2.68s            |"
      ]
     },
     "metadata": {},
     "output_type": "display_data"
    },
    {
     "data": {
      "text/html": [
       "<pre>| 1000      | 500            | 163        | 130                  | 2.68s            |</pre>"
      ],
      "text/plain": [
       "| 1000      | 500            | 163        | 130                  | 2.68s            |"
      ]
     },
     "metadata": {},
     "output_type": "display_data"
    },
    {
     "data": {
      "text/html": [
       "<pre>| 1001      | 500            | 163        | 130                  | 2.68s            |</pre>"
      ],
      "text/plain": [
       "| 1001      | 500            | 163        | 130                  | 2.68s            |"
      ]
     },
     "metadata": {},
     "output_type": "display_data"
    },
    {
     "data": {
      "text/html": [
       "<pre>| 1002      | 500            | 163        | 130                  | 2.68s            |</pre>"
      ],
      "text/plain": [
       "| 1002      | 500            | 163        | 130                  | 2.68s            |"
      ]
     },
     "metadata": {},
     "output_type": "display_data"
    },
    {
     "data": {
      "text/html": [
       "<pre>| 1003      | 500            | 163        | 130                  | 2.68s            |</pre>"
      ],
      "text/plain": [
       "| 1003      | 500            | 163        | 130                  | 2.68s            |"
      ]
     },
     "metadata": {},
     "output_type": "display_data"
    },
    {
     "data": {
      "text/html": [
       "<pre>| 1004      | 500            | 162        | 130                  | 2.68s            |</pre>"
      ],
      "text/plain": [
       "| 1004      | 500            | 162        | 130                  | 2.68s            |"
      ]
     },
     "metadata": {},
     "output_type": "display_data"
    },
    {
     "data": {
      "text/html": [
       "<pre>| 1005      | 500            | 162        | 130                  | 2.68s            |</pre>"
      ],
      "text/plain": [
       "| 1005      | 500            | 162        | 130                  | 2.68s            |"
      ]
     },
     "metadata": {},
     "output_type": "display_data"
    },
    {
     "data": {
      "text/html": [
       "<pre>| 1006      | 500            | 162        | 130                  | 2.68s            |</pre>"
      ],
      "text/plain": [
       "| 1006      | 500            | 162        | 130                  | 2.68s            |"
      ]
     },
     "metadata": {},
     "output_type": "display_data"
    },
    {
     "data": {
      "text/html": [
       "<pre>| 1007      | 500            | 162        | 130                  | 2.69s            |</pre>"
      ],
      "text/plain": [
       "| 1007      | 500            | 162        | 130                  | 2.69s            |"
      ]
     },
     "metadata": {},
     "output_type": "display_data"
    },
    {
     "data": {
      "text/html": [
       "<pre>| 1008      | 500            | 162        | 130                  | 2.69s            |</pre>"
      ],
      "text/plain": [
       "| 1008      | 500            | 162        | 130                  | 2.69s            |"
      ]
     },
     "metadata": {},
     "output_type": "display_data"
    },
    {
     "data": {
      "text/html": [
       "<pre>| 1009      | 500            | 162        | 130                  | 2.69s            |</pre>"
      ],
      "text/plain": [
       "| 1009      | 500            | 162        | 130                  | 2.69s            |"
      ]
     },
     "metadata": {},
     "output_type": "display_data"
    },
    {
     "data": {
      "text/html": [
       "<pre>| 1010      | 500            | 162        | 130                  | 2.69s            |</pre>"
      ],
      "text/plain": [
       "| 1010      | 500            | 162        | 130                  | 2.69s            |"
      ]
     },
     "metadata": {},
     "output_type": "display_data"
    },
    {
     "data": {
      "text/html": [
       "<pre>| 1011      | 500            | 162        | 130                  | 2.69s            |</pre>"
      ],
      "text/plain": [
       "| 1011      | 500            | 162        | 130                  | 2.69s            |"
      ]
     },
     "metadata": {},
     "output_type": "display_data"
    },
    {
     "data": {
      "text/html": [
       "<pre>| 1012      | 500            | 162        | 130                  | 2.69s            |</pre>"
      ],
      "text/plain": [
       "| 1012      | 500            | 162        | 130                  | 2.69s            |"
      ]
     },
     "metadata": {},
     "output_type": "display_data"
    },
    {
     "data": {
      "text/html": [
       "<pre>| 1013      | 500            | 162        | 130                  | 2.69s            |</pre>"
      ],
      "text/plain": [
       "| 1013      | 500            | 162        | 130                  | 2.69s            |"
      ]
     },
     "metadata": {},
     "output_type": "display_data"
    },
    {
     "data": {
      "text/html": [
       "<pre>| 1014      | 500            | 161        | 130                  | 2.70s            |</pre>"
      ],
      "text/plain": [
       "| 1014      | 500            | 161        | 130                  | 2.70s            |"
      ]
     },
     "metadata": {},
     "output_type": "display_data"
    },
    {
     "data": {
      "text/html": [
       "<pre>| 1015      | 500            | 161        | 130                  | 2.70s            |</pre>"
      ],
      "text/plain": [
       "| 1015      | 500            | 161        | 130                  | 2.70s            |"
      ]
     },
     "metadata": {},
     "output_type": "display_data"
    },
    {
     "data": {
      "text/html": [
       "<pre>| 1016      | 500            | 161        | 130                  | 2.70s            |</pre>"
      ],
      "text/plain": [
       "| 1016      | 500            | 161        | 130                  | 2.70s            |"
      ]
     },
     "metadata": {},
     "output_type": "display_data"
    },
    {
     "data": {
      "text/html": [
       "<pre>| 1017      | 500            | 161        | 130                  | 2.70s            |</pre>"
      ],
      "text/plain": [
       "| 1017      | 500            | 161        | 130                  | 2.70s            |"
      ]
     },
     "metadata": {},
     "output_type": "display_data"
    },
    {
     "data": {
      "text/html": [
       "<pre>| 1018      | 500            | 161        | 130                  | 2.70s            |</pre>"
      ],
      "text/plain": [
       "| 1018      | 500            | 161        | 130                  | 2.70s            |"
      ]
     },
     "metadata": {},
     "output_type": "display_data"
    },
    {
     "data": {
      "text/html": [
       "<pre>| 1019      | 500            | 161        | 130                  | 2.70s            |</pre>"
      ],
      "text/plain": [
       "| 1019      | 500            | 161        | 130                  | 2.70s            |"
      ]
     },
     "metadata": {},
     "output_type": "display_data"
    },
    {
     "data": {
      "text/html": [
       "<pre>| 1020      | 500            | 161        | 130                  | 2.70s            |</pre>"
      ],
      "text/plain": [
       "| 1020      | 500            | 161        | 130                  | 2.70s            |"
      ]
     },
     "metadata": {},
     "output_type": "display_data"
    },
    {
     "data": {
      "text/html": [
       "<pre>| 1021      | 500            | 160        | 130                  | 2.71s            |</pre>"
      ],
      "text/plain": [
       "| 1021      | 500            | 160        | 130                  | 2.71s            |"
      ]
     },
     "metadata": {},
     "output_type": "display_data"
    },
    {
     "data": {
      "text/html": [
       "<pre>| 1022      | 500            | 160        | 130                  | 2.71s            |</pre>"
      ],
      "text/plain": [
       "| 1022      | 500            | 160        | 130                  | 2.71s            |"
      ]
     },
     "metadata": {},
     "output_type": "display_data"
    },
    {
     "data": {
      "text/html": [
       "<pre>| 1023      | 500            | 160        | 130                  | 2.71s            |</pre>"
      ],
      "text/plain": [
       "| 1023      | 500            | 160        | 130                  | 2.71s            |"
      ]
     },
     "metadata": {},
     "output_type": "display_data"
    },
    {
     "data": {
      "text/html": [
       "<pre>| 1024      | 500            | 160        | 130                  | 2.71s            |</pre>"
      ],
      "text/plain": [
       "| 1024      | 500            | 160        | 130                  | 2.71s            |"
      ]
     },
     "metadata": {},
     "output_type": "display_data"
    },
    {
     "data": {
      "text/html": [
       "<pre>| 1025      | 500            | 160        | 130                  | 2.71s            |</pre>"
      ],
      "text/plain": [
       "| 1025      | 500            | 160        | 130                  | 2.71s            |"
      ]
     },
     "metadata": {},
     "output_type": "display_data"
    },
    {
     "data": {
      "text/html": [
       "<pre>| 1026      | 500            | 159        | 130                  | 2.71s            |</pre>"
      ],
      "text/plain": [
       "| 1026      | 500            | 159        | 130                  | 2.71s            |"
      ]
     },
     "metadata": {},
     "output_type": "display_data"
    },
    {
     "data": {
      "text/html": [
       "<pre>| 1027      | 500            | 159        | 130                  | 2.71s            |</pre>"
      ],
      "text/plain": [
       "| 1027      | 500            | 159        | 130                  | 2.71s            |"
      ]
     },
     "metadata": {},
     "output_type": "display_data"
    },
    {
     "data": {
      "text/html": [
       "<pre>| 1028      | 500            | 159        | 130                  | 2.71s            |</pre>"
      ],
      "text/plain": [
       "| 1028      | 500            | 159        | 130                  | 2.71s            |"
      ]
     },
     "metadata": {},
     "output_type": "display_data"
    },
    {
     "data": {
      "text/html": [
       "<pre>| 1029      | 500            | 159        | 130                  | 2.72s            |</pre>"
      ],
      "text/plain": [
       "| 1029      | 500            | 159        | 130                  | 2.72s            |"
      ]
     },
     "metadata": {},
     "output_type": "display_data"
    },
    {
     "data": {
      "text/html": [
       "<pre>| 1030      | 500            | 159        | 130                  | 2.72s            |</pre>"
      ],
      "text/plain": [
       "| 1030      | 500            | 159        | 130                  | 2.72s            |"
      ]
     },
     "metadata": {},
     "output_type": "display_data"
    },
    {
     "data": {
      "text/html": [
       "<pre>| 1031      | 500            | 159        | 130                  | 2.72s            |</pre>"
      ],
      "text/plain": [
       "| 1031      | 500            | 159        | 130                  | 2.72s            |"
      ]
     },
     "metadata": {},
     "output_type": "display_data"
    },
    {
     "data": {
      "text/html": [
       "<pre>| 1032      | 500            | 159        | 130                  | 2.72s            |</pre>"
      ],
      "text/plain": [
       "| 1032      | 500            | 159        | 130                  | 2.72s            |"
      ]
     },
     "metadata": {},
     "output_type": "display_data"
    },
    {
     "data": {
      "text/html": [
       "<pre>| 1033      | 500            | 159        | 130                  | 2.72s            |</pre>"
      ],
      "text/plain": [
       "| 1033      | 500            | 159        | 130                  | 2.72s            |"
      ]
     },
     "metadata": {},
     "output_type": "display_data"
    },
    {
     "data": {
      "text/html": [
       "<pre>| 1034      | 500            | 158        | 130                  | 2.72s            |</pre>"
      ],
      "text/plain": [
       "| 1034      | 500            | 158        | 130                  | 2.72s            |"
      ]
     },
     "metadata": {},
     "output_type": "display_data"
    },
    {
     "data": {
      "text/html": [
       "<pre>| 1035      | 500            | 158        | 130                  | 2.72s            |</pre>"
      ],
      "text/plain": [
       "| 1035      | 500            | 158        | 130                  | 2.72s            |"
      ]
     },
     "metadata": {},
     "output_type": "display_data"
    },
    {
     "data": {
      "text/html": [
       "<pre>| 1036      | 500            | 158        | 130                  | 2.72s            |</pre>"
      ],
      "text/plain": [
       "| 1036      | 500            | 158        | 130                  | 2.72s            |"
      ]
     },
     "metadata": {},
     "output_type": "display_data"
    },
    {
     "data": {
      "text/html": [
       "<pre>| 1037      | 500            | 158        | 130                  | 2.73s            |</pre>"
      ],
      "text/plain": [
       "| 1037      | 500            | 158        | 130                  | 2.73s            |"
      ]
     },
     "metadata": {},
     "output_type": "display_data"
    },
    {
     "data": {
      "text/html": [
       "<pre>| 1038      | 500            | 158        | 130                  | 2.73s            |</pre>"
      ],
      "text/plain": [
       "| 1038      | 500            | 158        | 130                  | 2.73s            |"
      ]
     },
     "metadata": {},
     "output_type": "display_data"
    },
    {
     "data": {
      "text/html": [
       "<pre>| 1039      | 500            | 158        | 130                  | 2.73s            |</pre>"
      ],
      "text/plain": [
       "| 1039      | 500            | 158        | 130                  | 2.73s            |"
      ]
     },
     "metadata": {},
     "output_type": "display_data"
    },
    {
     "data": {
      "text/html": [
       "<pre>| 1040      | 500            | 158        | 130                  | 2.73s            |</pre>"
      ],
      "text/plain": [
       "| 1040      | 500            | 158        | 130                  | 2.73s            |"
      ]
     },
     "metadata": {},
     "output_type": "display_data"
    },
    {
     "data": {
      "text/html": [
       "<pre>| 1041      | 500            | 157        | 130                  | 2.73s            |</pre>"
      ],
      "text/plain": [
       "| 1041      | 500            | 157        | 130                  | 2.73s            |"
      ]
     },
     "metadata": {},
     "output_type": "display_data"
    },
    {
     "data": {
      "text/html": [
       "<pre>| 1042      | 500            | 157        | 130                  | 2.73s            |</pre>"
      ],
      "text/plain": [
       "| 1042      | 500            | 157        | 130                  | 2.73s            |"
      ]
     },
     "metadata": {},
     "output_type": "display_data"
    },
    {
     "data": {
      "text/html": [
       "<pre>| 1043      | 500            | 157        | 130                  | 2.73s            |</pre>"
      ],
      "text/plain": [
       "| 1043      | 500            | 157        | 130                  | 2.73s            |"
      ]
     },
     "metadata": {},
     "output_type": "display_data"
    },
    {
     "data": {
      "text/html": [
       "<pre>| 1044      | 500            | 157        | 130                  | 2.73s            |</pre>"
      ],
      "text/plain": [
       "| 1044      | 500            | 157        | 130                  | 2.73s            |"
      ]
     },
     "metadata": {},
     "output_type": "display_data"
    },
    {
     "data": {
      "text/html": [
       "<pre>| 1045      | 500            | 157        | 130                  | 2.73s            |</pre>"
      ],
      "text/plain": [
       "| 1045      | 500            | 157        | 130                  | 2.73s            |"
      ]
     },
     "metadata": {},
     "output_type": "display_data"
    },
    {
     "data": {
      "text/html": [
       "<pre>| 1046      | 500            | 156        | 130                  | 2.74s            |</pre>"
      ],
      "text/plain": [
       "| 1046      | 500            | 156        | 130                  | 2.74s            |"
      ]
     },
     "metadata": {},
     "output_type": "display_data"
    },
    {
     "data": {
      "text/html": [
       "<pre>| 1047      | 500            | 156        | 130                  | 2.74s            |</pre>"
      ],
      "text/plain": [
       "| 1047      | 500            | 156        | 130                  | 2.74s            |"
      ]
     },
     "metadata": {},
     "output_type": "display_data"
    },
    {
     "data": {
      "text/html": [
       "<pre>| 1048      | 500            | 156        | 130                  | 2.74s            |</pre>"
      ],
      "text/plain": [
       "| 1048      | 500            | 156        | 130                  | 2.74s            |"
      ]
     },
     "metadata": {},
     "output_type": "display_data"
    },
    {
     "data": {
      "text/html": [
       "<pre>| 1049      | 500            | 156        | 130                  | 2.74s            |</pre>"
      ],
      "text/plain": [
       "| 1049      | 500            | 156        | 130                  | 2.74s            |"
      ]
     },
     "metadata": {},
     "output_type": "display_data"
    },
    {
     "data": {
      "text/html": [
       "<pre>| 1050      | 500            | 156        | 130                  | 2.74s            |</pre>"
      ],
      "text/plain": [
       "| 1050      | 500            | 156        | 130                  | 2.74s            |"
      ]
     },
     "metadata": {},
     "output_type": "display_data"
    },
    {
     "data": {
      "text/html": [
       "<pre>| 1051      | 500            | 155        | 130                  | 2.74s            |</pre>"
      ],
      "text/plain": [
       "| 1051      | 500            | 155        | 130                  | 2.74s            |"
      ]
     },
     "metadata": {},
     "output_type": "display_data"
    },
    {
     "data": {
      "text/html": [
       "<pre>| 1052      | 500            | 155        | 130                  | 2.74s            |</pre>"
      ],
      "text/plain": [
       "| 1052      | 500            | 155        | 130                  | 2.74s            |"
      ]
     },
     "metadata": {},
     "output_type": "display_data"
    },
    {
     "data": {
      "text/html": [
       "<pre>| 1053      | 500            | 155        | 130                  | 2.75s            |</pre>"
      ],
      "text/plain": [
       "| 1053      | 500            | 155        | 130                  | 2.75s            |"
      ]
     },
     "metadata": {},
     "output_type": "display_data"
    },
    {
     "data": {
      "text/html": [
       "<pre>| 1054      | 500            | 155        | 130                  | 2.75s            |</pre>"
      ],
      "text/plain": [
       "| 1054      | 500            | 155        | 130                  | 2.75s            |"
      ]
     },
     "metadata": {},
     "output_type": "display_data"
    },
    {
     "data": {
      "text/html": [
       "<pre>| 1055      | 500            | 155        | 130                  | 2.75s            |</pre>"
      ],
      "text/plain": [
       "| 1055      | 500            | 155        | 130                  | 2.75s            |"
      ]
     },
     "metadata": {},
     "output_type": "display_data"
    },
    {
     "data": {
      "text/html": [
       "<pre>| 1056      | 500            | 155        | 130                  | 2.75s            |</pre>"
      ],
      "text/plain": [
       "| 1056      | 500            | 155        | 130                  | 2.75s            |"
      ]
     },
     "metadata": {},
     "output_type": "display_data"
    },
    {
     "data": {
      "text/html": [
       "<pre>| 1057      | 500            | 155        | 130                  | 2.75s            |</pre>"
      ],
      "text/plain": [
       "| 1057      | 500            | 155        | 130                  | 2.75s            |"
      ]
     },
     "metadata": {},
     "output_type": "display_data"
    },
    {
     "data": {
      "text/html": [
       "<pre>| 1058      | 500            | 155        | 130                  | 2.75s            |</pre>"
      ],
      "text/plain": [
       "| 1058      | 500            | 155        | 130                  | 2.75s            |"
      ]
     },
     "metadata": {},
     "output_type": "display_data"
    },
    {
     "data": {
      "text/html": [
       "<pre>| 1059      | 500            | 155        | 130                  | 2.75s            |</pre>"
      ],
      "text/plain": [
       "| 1059      | 500            | 155        | 130                  | 2.75s            |"
      ]
     },
     "metadata": {},
     "output_type": "display_data"
    },
    {
     "data": {
      "text/html": [
       "<pre>| 1060      | 500            | 154        | 130                  | 2.75s            |</pre>"
      ],
      "text/plain": [
       "| 1060      | 500            | 154        | 130                  | 2.75s            |"
      ]
     },
     "metadata": {},
     "output_type": "display_data"
    },
    {
     "data": {
      "text/html": [
       "<pre>| 1061      | 500            | 154        | 130                  | 2.75s            |</pre>"
      ],
      "text/plain": [
       "| 1061      | 500            | 154        | 130                  | 2.75s            |"
      ]
     },
     "metadata": {},
     "output_type": "display_data"
    },
    {
     "data": {
      "text/html": [
       "<pre>| 1062      | 500            | 154        | 130                  | 2.76s            |</pre>"
      ],
      "text/plain": [
       "| 1062      | 500            | 154        | 130                  | 2.76s            |"
      ]
     },
     "metadata": {},
     "output_type": "display_data"
    },
    {
     "data": {
      "text/html": [
       "<pre>| 1063      | 500            | 154        | 130                  | 2.76s            |</pre>"
      ],
      "text/plain": [
       "| 1063      | 500            | 154        | 130                  | 2.76s            |"
      ]
     },
     "metadata": {},
     "output_type": "display_data"
    },
    {
     "data": {
      "text/html": [
       "<pre>| 1064      | 500            | 154        | 130                  | 2.76s            |</pre>"
      ],
      "text/plain": [
       "| 1064      | 500            | 154        | 130                  | 2.76s            |"
      ]
     },
     "metadata": {},
     "output_type": "display_data"
    },
    {
     "data": {
      "text/html": [
       "<pre>| 1065      | 500            | 154        | 130                  | 2.76s            |</pre>"
      ],
      "text/plain": [
       "| 1065      | 500            | 154        | 130                  | 2.76s            |"
      ]
     },
     "metadata": {},
     "output_type": "display_data"
    },
    {
     "data": {
      "text/html": [
       "<pre>| 1066      | 500            | 154        | 130                  | 2.76s            |</pre>"
      ],
      "text/plain": [
       "| 1066      | 500            | 154        | 130                  | 2.76s            |"
      ]
     },
     "metadata": {},
     "output_type": "display_data"
    },
    {
     "data": {
      "text/html": [
       "<pre>| 1067      | 500            | 153        | 130                  | 2.76s            |</pre>"
      ],
      "text/plain": [
       "| 1067      | 500            | 153        | 130                  | 2.76s            |"
      ]
     },
     "metadata": {},
     "output_type": "display_data"
    },
    {
     "data": {
      "text/html": [
       "<pre>| 1068      | 500            | 153        | 130                  | 2.76s            |</pre>"
      ],
      "text/plain": [
       "| 1068      | 500            | 153        | 130                  | 2.76s            |"
      ]
     },
     "metadata": {},
     "output_type": "display_data"
    },
    {
     "data": {
      "text/html": [
       "<pre>| 1069      | 500            | 153        | 130                  | 2.76s            |</pre>"
      ],
      "text/plain": [
       "| 1069      | 500            | 153        | 130                  | 2.76s            |"
      ]
     },
     "metadata": {},
     "output_type": "display_data"
    },
    {
     "data": {
      "text/html": [
       "<pre>| 1070      | 500            | 153        | 130                  | 2.77s            |</pre>"
      ],
      "text/plain": [
       "| 1070      | 500            | 153        | 130                  | 2.77s            |"
      ]
     },
     "metadata": {},
     "output_type": "display_data"
    },
    {
     "data": {
      "text/html": [
       "<pre>| 1071      | 500            | 153        | 130                  | 2.77s            |</pre>"
      ],
      "text/plain": [
       "| 1071      | 500            | 153        | 130                  | 2.77s            |"
      ]
     },
     "metadata": {},
     "output_type": "display_data"
    },
    {
     "data": {
      "text/html": [
       "<pre>| 1072      | 500            | 153        | 130                  | 2.77s            |</pre>"
      ],
      "text/plain": [
       "| 1072      | 500            | 153        | 130                  | 2.77s            |"
      ]
     },
     "metadata": {},
     "output_type": "display_data"
    },
    {
     "data": {
      "text/html": [
       "<pre>| 1073      | 500            | 153        | 130                  | 2.77s            |</pre>"
      ],
      "text/plain": [
       "| 1073      | 500            | 153        | 130                  | 2.77s            |"
      ]
     },
     "metadata": {},
     "output_type": "display_data"
    },
    {
     "data": {
      "text/html": [
       "<pre>| 1074      | 500            | 152        | 130                  | 2.77s            |</pre>"
      ],
      "text/plain": [
       "| 1074      | 500            | 152        | 130                  | 2.77s            |"
      ]
     },
     "metadata": {},
     "output_type": "display_data"
    },
    {
     "data": {
      "text/html": [
       "<pre>| 1075      | 500            | 152        | 130                  | 2.77s            |</pre>"
      ],
      "text/plain": [
       "| 1075      | 500            | 152        | 130                  | 2.77s            |"
      ]
     },
     "metadata": {},
     "output_type": "display_data"
    },
    {
     "data": {
      "text/html": [
       "<pre>| 1076      | 500            | 152        | 130                  | 2.77s            |</pre>"
      ],
      "text/plain": [
       "| 1076      | 500            | 152        | 130                  | 2.77s            |"
      ]
     },
     "metadata": {},
     "output_type": "display_data"
    },
    {
     "data": {
      "text/html": [
       "<pre>| 1077      | 500            | 152        | 130                  | 2.78s            |</pre>"
      ],
      "text/plain": [
       "| 1077      | 500            | 152        | 130                  | 2.78s            |"
      ]
     },
     "metadata": {},
     "output_type": "display_data"
    },
    {
     "data": {
      "text/html": [
       "<pre>| 1078      | 500            | 152        | 130                  | 2.78s            |</pre>"
      ],
      "text/plain": [
       "| 1078      | 500            | 152        | 130                  | 2.78s            |"
      ]
     },
     "metadata": {},
     "output_type": "display_data"
    },
    {
     "data": {
      "text/html": [
       "<pre>| 1079      | 500            | 152        | 130                  | 2.78s            |</pre>"
      ],
      "text/plain": [
       "| 1079      | 500            | 152        | 130                  | 2.78s            |"
      ]
     },
     "metadata": {},
     "output_type": "display_data"
    },
    {
     "data": {
      "text/html": [
       "<pre>| 1080      | 500            | 152        | 130                  | 2.78s            |</pre>"
      ],
      "text/plain": [
       "| 1080      | 500            | 152        | 130                  | 2.78s            |"
      ]
     },
     "metadata": {},
     "output_type": "display_data"
    },
    {
     "data": {
      "text/html": [
       "<pre>| 1081      | 500            | 151        | 130                  | 2.78s            |</pre>"
      ],
      "text/plain": [
       "| 1081      | 500            | 151        | 130                  | 2.78s            |"
      ]
     },
     "metadata": {},
     "output_type": "display_data"
    },
    {
     "data": {
      "text/html": [
       "<pre>| 1082      | 500            | 151        | 130                  | 2.78s            |</pre>"
      ],
      "text/plain": [
       "| 1082      | 500            | 151        | 130                  | 2.78s            |"
      ]
     },
     "metadata": {},
     "output_type": "display_data"
    },
    {
     "data": {
      "text/html": [
       "<pre>| 1083      | 500            | 151        | 130                  | 2.78s            |</pre>"
      ],
      "text/plain": [
       "| 1083      | 500            | 151        | 130                  | 2.78s            |"
      ]
     },
     "metadata": {},
     "output_type": "display_data"
    },
    {
     "data": {
      "text/html": [
       "<pre>| 1084      | 500            | 151        | 130                  | 2.79s            |</pre>"
      ],
      "text/plain": [
       "| 1084      | 500            | 151        | 130                  | 2.79s            |"
      ]
     },
     "metadata": {},
     "output_type": "display_data"
    },
    {
     "data": {
      "text/html": [
       "<pre>| 1085      | 500            | 151        | 130                  | 2.79s            |</pre>"
      ],
      "text/plain": [
       "| 1085      | 500            | 151        | 130                  | 2.79s            |"
      ]
     },
     "metadata": {},
     "output_type": "display_data"
    },
    {
     "data": {
      "text/html": [
       "<pre>| 1086      | 500            | 150        | 130                  | 2.79s            |</pre>"
      ],
      "text/plain": [
       "| 1086      | 500            | 150        | 130                  | 2.79s            |"
      ]
     },
     "metadata": {},
     "output_type": "display_data"
    },
    {
     "data": {
      "text/html": [
       "<pre>| 1087      | 500            | 150        | 130                  | 2.79s            |</pre>"
      ],
      "text/plain": [
       "| 1087      | 500            | 150        | 130                  | 2.79s            |"
      ]
     },
     "metadata": {},
     "output_type": "display_data"
    },
    {
     "data": {
      "text/html": [
       "<pre>| 1088      | 500            | 150        | 130                  | 2.79s            |</pre>"
      ],
      "text/plain": [
       "| 1088      | 500            | 150        | 130                  | 2.79s            |"
      ]
     },
     "metadata": {},
     "output_type": "display_data"
    },
    {
     "data": {
      "text/html": [
       "<pre>| 1089      | 500            | 150        | 130                  | 2.79s            |</pre>"
      ],
      "text/plain": [
       "| 1089      | 500            | 150        | 130                  | 2.79s            |"
      ]
     },
     "metadata": {},
     "output_type": "display_data"
    },
    {
     "data": {
      "text/html": [
       "<pre>| 1090      | 500            | 150        | 130                  | 2.79s            |</pre>"
      ],
      "text/plain": [
       "| 1090      | 500            | 150        | 130                  | 2.79s            |"
      ]
     },
     "metadata": {},
     "output_type": "display_data"
    },
    {
     "data": {
      "text/html": [
       "<pre>| 1091      | 500            | 150        | 130                  | 2.79s            |</pre>"
      ],
      "text/plain": [
       "| 1091      | 500            | 150        | 130                  | 2.79s            |"
      ]
     },
     "metadata": {},
     "output_type": "display_data"
    },
    {
     "data": {
      "text/html": [
       "<pre>| 1092      | 500            | 149        | 130                  | 2.80s            |</pre>"
      ],
      "text/plain": [
       "| 1092      | 500            | 149        | 130                  | 2.80s            |"
      ]
     },
     "metadata": {},
     "output_type": "display_data"
    },
    {
     "data": {
      "text/html": [
       "<pre>| 1093      | 500            | 149        | 130                  | 2.80s            |</pre>"
      ],
      "text/plain": [
       "| 1093      | 500            | 149        | 130                  | 2.80s            |"
      ]
     },
     "metadata": {},
     "output_type": "display_data"
    },
    {
     "data": {
      "text/html": [
       "<pre>| 1094      | 500            | 149        | 130                  | 2.80s            |</pre>"
      ],
      "text/plain": [
       "| 1094      | 500            | 149        | 130                  | 2.80s            |"
      ]
     },
     "metadata": {},
     "output_type": "display_data"
    },
    {
     "data": {
      "text/html": [
       "<pre>| 1095      | 500            | 149        | 130                  | 2.80s            |</pre>"
      ],
      "text/plain": [
       "| 1095      | 500            | 149        | 130                  | 2.80s            |"
      ]
     },
     "metadata": {},
     "output_type": "display_data"
    },
    {
     "data": {
      "text/html": [
       "<pre>| 1096      | 500            | 149        | 130                  | 2.80s            |</pre>"
      ],
      "text/plain": [
       "| 1096      | 500            | 149        | 130                  | 2.80s            |"
      ]
     },
     "metadata": {},
     "output_type": "display_data"
    },
    {
     "data": {
      "text/html": [
       "<pre>| 1097      | 500            | 149        | 130                  | 2.80s            |</pre>"
      ],
      "text/plain": [
       "| 1097      | 500            | 149        | 130                  | 2.80s            |"
      ]
     },
     "metadata": {},
     "output_type": "display_data"
    },
    {
     "data": {
      "text/html": [
       "<pre>| 1098      | 500            | 149        | 130                  | 2.80s            |</pre>"
      ],
      "text/plain": [
       "| 1098      | 500            | 149        | 130                  | 2.80s            |"
      ]
     },
     "metadata": {},
     "output_type": "display_data"
    },
    {
     "data": {
      "text/html": [
       "<pre>| 1099      | 500            | 148        | 130                  | 2.81s            |</pre>"
      ],
      "text/plain": [
       "| 1099      | 500            | 148        | 130                  | 2.81s            |"
      ]
     },
     "metadata": {},
     "output_type": "display_data"
    },
    {
     "data": {
      "text/html": [
       "<pre>| 1100      | 500            | 148        | 130                  | 2.81s            |</pre>"
      ],
      "text/plain": [
       "| 1100      | 500            | 148        | 130                  | 2.81s            |"
      ]
     },
     "metadata": {},
     "output_type": "display_data"
    },
    {
     "data": {
      "text/html": [
       "<pre>| 1101      | 500            | 148        | 130                  | 2.81s            |</pre>"
      ],
      "text/plain": [
       "| 1101      | 500            | 148        | 130                  | 2.81s            |"
      ]
     },
     "metadata": {},
     "output_type": "display_data"
    },
    {
     "data": {
      "text/html": [
       "<pre>| 1102      | 500            | 148        | 130                  | 2.81s            |</pre>"
      ],
      "text/plain": [
       "| 1102      | 500            | 148        | 130                  | 2.81s            |"
      ]
     },
     "metadata": {},
     "output_type": "display_data"
    },
    {
     "data": {
      "text/html": [
       "<pre>| 1103      | 500            | 148        | 130                  | 2.81s            |</pre>"
      ],
      "text/plain": [
       "| 1103      | 500            | 148        | 130                  | 2.81s            |"
      ]
     },
     "metadata": {},
     "output_type": "display_data"
    },
    {
     "data": {
      "text/html": [
       "<pre>| 1104      | 500            | 148        | 130                  | 2.81s            |</pre>"
      ],
      "text/plain": [
       "| 1104      | 500            | 148        | 130                  | 2.81s            |"
      ]
     },
     "metadata": {},
     "output_type": "display_data"
    },
    {
     "data": {
      "text/html": [
       "<pre>| 1105      | 500            | 148        | 130                  | 2.81s            |</pre>"
      ],
      "text/plain": [
       "| 1105      | 500            | 148        | 130                  | 2.81s            |"
      ]
     },
     "metadata": {},
     "output_type": "display_data"
    },
    {
     "data": {
      "text/html": [
       "<pre>| 1106      | 500            | 148        | 130                  | 2.81s            |</pre>"
      ],
      "text/plain": [
       "| 1106      | 500            | 148        | 130                  | 2.81s            |"
      ]
     },
     "metadata": {},
     "output_type": "display_data"
    },
    {
     "data": {
      "text/html": [
       "<pre>| 1107      | 500            | 148        | 130                  | 2.82s            |</pre>"
      ],
      "text/plain": [
       "| 1107      | 500            | 148        | 130                  | 2.82s            |"
      ]
     },
     "metadata": {},
     "output_type": "display_data"
    },
    {
     "data": {
      "text/html": [
       "<pre>| 1108      | 500            | 148        | 130                  | 2.82s            |</pre>"
      ],
      "text/plain": [
       "| 1108      | 500            | 148        | 130                  | 2.82s            |"
      ]
     },
     "metadata": {},
     "output_type": "display_data"
    },
    {
     "data": {
      "text/html": [
       "<pre>| 1109      | 500            | 147        | 130                  | 2.82s            |</pre>"
      ],
      "text/plain": [
       "| 1109      | 500            | 147        | 130                  | 2.82s            |"
      ]
     },
     "metadata": {},
     "output_type": "display_data"
    },
    {
     "data": {
      "text/html": [
       "<pre>| 1110      | 500            | 147        | 130                  | 2.82s            |</pre>"
      ],
      "text/plain": [
       "| 1110      | 500            | 147        | 130                  | 2.82s            |"
      ]
     },
     "metadata": {},
     "output_type": "display_data"
    },
    {
     "data": {
      "text/html": [
       "<pre>| 1111      | 500            | 147        | 130                  | 2.82s            |</pre>"
      ],
      "text/plain": [
       "| 1111      | 500            | 147        | 130                  | 2.82s            |"
      ]
     },
     "metadata": {},
     "output_type": "display_data"
    },
    {
     "data": {
      "text/html": [
       "<pre>| 1112      | 500            | 147        | 130                  | 2.82s            |</pre>"
      ],
      "text/plain": [
       "| 1112      | 500            | 147        | 130                  | 2.82s            |"
      ]
     },
     "metadata": {},
     "output_type": "display_data"
    },
    {
     "data": {
      "text/html": [
       "<pre>| 1113      | 500            | 147        | 130                  | 2.82s            |</pre>"
      ],
      "text/plain": [
       "| 1113      | 500            | 147        | 130                  | 2.82s            |"
      ]
     },
     "metadata": {},
     "output_type": "display_data"
    },
    {
     "data": {
      "text/html": [
       "<pre>| 1114      | 500            | 147        | 130                  | 2.83s            |</pre>"
      ],
      "text/plain": [
       "| 1114      | 500            | 147        | 130                  | 2.83s            |"
      ]
     },
     "metadata": {},
     "output_type": "display_data"
    },
    {
     "data": {
      "text/html": [
       "<pre>| 1115      | 500            | 147        | 130                  | 2.83s            |</pre>"
      ],
      "text/plain": [
       "| 1115      | 500            | 147        | 130                  | 2.83s            |"
      ]
     },
     "metadata": {},
     "output_type": "display_data"
    },
    {
     "data": {
      "text/html": [
       "<pre>| 1116      | 500            | 146        | 130                  | 2.83s            |</pre>"
      ],
      "text/plain": [
       "| 1116      | 500            | 146        | 130                  | 2.83s            |"
      ]
     },
     "metadata": {},
     "output_type": "display_data"
    },
    {
     "data": {
      "text/html": [
       "<pre>| 1117      | 500            | 146        | 130                  | 2.83s            |</pre>"
      ],
      "text/plain": [
       "| 1117      | 500            | 146        | 130                  | 2.83s            |"
      ]
     },
     "metadata": {},
     "output_type": "display_data"
    },
    {
     "data": {
      "text/html": [
       "<pre>| 1118      | 500            | 146        | 130                  | 2.83s            |</pre>"
      ],
      "text/plain": [
       "| 1118      | 500            | 146        | 130                  | 2.83s            |"
      ]
     },
     "metadata": {},
     "output_type": "display_data"
    },
    {
     "data": {
      "text/html": [
       "<pre>| 1119      | 500            | 146        | 130                  | 2.83s            |</pre>"
      ],
      "text/plain": [
       "| 1119      | 500            | 146        | 130                  | 2.83s            |"
      ]
     },
     "metadata": {},
     "output_type": "display_data"
    },
    {
     "data": {
      "text/html": [
       "<pre>| 1120      | 500            | 146        | 130                  | 2.84s            |</pre>"
      ],
      "text/plain": [
       "| 1120      | 500            | 146        | 130                  | 2.84s            |"
      ]
     },
     "metadata": {},
     "output_type": "display_data"
    },
    {
     "data": {
      "text/html": [
       "<pre>| 1121      | 500            | 146        | 130                  | 2.84s            |</pre>"
      ],
      "text/plain": [
       "| 1121      | 500            | 146        | 130                  | 2.84s            |"
      ]
     },
     "metadata": {},
     "output_type": "display_data"
    },
    {
     "data": {
      "text/html": [
       "<pre>| 1122      | 500            | 146        | 130                  | 2.84s            |</pre>"
      ],
      "text/plain": [
       "| 1122      | 500            | 146        | 130                  | 2.84s            |"
      ]
     },
     "metadata": {},
     "output_type": "display_data"
    },
    {
     "data": {
      "text/html": [
       "<pre>| 1123      | 500            | 146        | 130                  | 2.84s            |</pre>"
      ],
      "text/plain": [
       "| 1123      | 500            | 146        | 130                  | 2.84s            |"
      ]
     },
     "metadata": {},
     "output_type": "display_data"
    },
    {
     "data": {
      "text/html": [
       "<pre>| 1124      | 500            | 146        | 130                  | 2.84s            |</pre>"
      ],
      "text/plain": [
       "| 1124      | 500            | 146        | 130                  | 2.84s            |"
      ]
     },
     "metadata": {},
     "output_type": "display_data"
    },
    {
     "data": {
      "text/html": [
       "<pre>| 1125      | 500            | 145        | 130                  | 2.84s            |</pre>"
      ],
      "text/plain": [
       "| 1125      | 500            | 145        | 130                  | 2.84s            |"
      ]
     },
     "metadata": {},
     "output_type": "display_data"
    },
    {
     "data": {
      "text/html": [
       "<pre>| 1126      | 500            | 145        | 130                  | 2.84s            |</pre>"
      ],
      "text/plain": [
       "| 1126      | 500            | 145        | 130                  | 2.84s            |"
      ]
     },
     "metadata": {},
     "output_type": "display_data"
    },
    {
     "data": {
      "text/html": [
       "<pre>| 1127      | 500            | 145        | 130                  | 2.84s            |</pre>"
      ],
      "text/plain": [
       "| 1127      | 500            | 145        | 130                  | 2.84s            |"
      ]
     },
     "metadata": {},
     "output_type": "display_data"
    },
    {
     "data": {
      "text/html": [
       "<pre>| 1128      | 500            | 145        | 130                  | 2.85s            |</pre>"
      ],
      "text/plain": [
       "| 1128      | 500            | 145        | 130                  | 2.85s            |"
      ]
     },
     "metadata": {},
     "output_type": "display_data"
    },
    {
     "data": {
      "text/html": [
       "<pre>| 1129      | 500            | 145        | 130                  | 2.85s            |</pre>"
      ],
      "text/plain": [
       "| 1129      | 500            | 145        | 130                  | 2.85s            |"
      ]
     },
     "metadata": {},
     "output_type": "display_data"
    },
    {
     "data": {
      "text/html": [
       "<pre>| 1130      | 500            | 145        | 130                  | 2.85s            |</pre>"
      ],
      "text/plain": [
       "| 1130      | 500            | 145        | 130                  | 2.85s            |"
      ]
     },
     "metadata": {},
     "output_type": "display_data"
    },
    {
     "data": {
      "text/html": [
       "<pre>| 1131      | 500            | 145        | 130                  | 2.85s            |</pre>"
      ],
      "text/plain": [
       "| 1131      | 500            | 145        | 130                  | 2.85s            |"
      ]
     },
     "metadata": {},
     "output_type": "display_data"
    },
    {
     "data": {
      "text/html": [
       "<pre>| 1132      | 500            | 144        | 130                  | 2.85s            |</pre>"
      ],
      "text/plain": [
       "| 1132      | 500            | 144        | 130                  | 2.85s            |"
      ]
     },
     "metadata": {},
     "output_type": "display_data"
    },
    {
     "data": {
      "text/html": [
       "<pre>| 1133      | 500            | 144        | 130                  | 2.85s            |</pre>"
      ],
      "text/plain": [
       "| 1133      | 500            | 144        | 130                  | 2.85s            |"
      ]
     },
     "metadata": {},
     "output_type": "display_data"
    },
    {
     "data": {
      "text/html": [
       "<pre>| 1134      | 500            | 144        | 130                  | 2.85s            |</pre>"
      ],
      "text/plain": [
       "| 1134      | 500            | 144        | 130                  | 2.85s            |"
      ]
     },
     "metadata": {},
     "output_type": "display_data"
    },
    {
     "data": {
      "text/html": [
       "<pre>| 1135      | 500            | 144        | 130                  | 2.85s            |</pre>"
      ],
      "text/plain": [
       "| 1135      | 500            | 144        | 130                  | 2.85s            |"
      ]
     },
     "metadata": {},
     "output_type": "display_data"
    },
    {
     "data": {
      "text/html": [
       "<pre>| 1136      | 500            | 144        | 130                  | 2.86s            |</pre>"
      ],
      "text/plain": [
       "| 1136      | 500            | 144        | 130                  | 2.86s            |"
      ]
     },
     "metadata": {},
     "output_type": "display_data"
    },
    {
     "data": {
      "text/html": [
       "<pre>| 1137      | 500            | 144        | 130                  | 2.86s            |</pre>"
      ],
      "text/plain": [
       "| 1137      | 500            | 144        | 130                  | 2.86s            |"
      ]
     },
     "metadata": {},
     "output_type": "display_data"
    },
    {
     "data": {
      "text/html": [
       "<pre>| 1138      | 500            | 144        | 130                  | 2.86s            |</pre>"
      ],
      "text/plain": [
       "| 1138      | 500            | 144        | 130                  | 2.86s            |"
      ]
     },
     "metadata": {},
     "output_type": "display_data"
    },
    {
     "data": {
      "text/html": [
       "<pre>| 1139      | 500            | 144        | 130                  | 2.86s            |</pre>"
      ],
      "text/plain": [
       "| 1139      | 500            | 144        | 130                  | 2.86s            |"
      ]
     },
     "metadata": {},
     "output_type": "display_data"
    },
    {
     "data": {
      "text/html": [
       "<pre>| 1140      | 500            | 144        | 130                  | 2.86s            |</pre>"
      ],
      "text/plain": [
       "| 1140      | 500            | 144        | 130                  | 2.86s            |"
      ]
     },
     "metadata": {},
     "output_type": "display_data"
    },
    {
     "data": {
      "text/html": [
       "<pre>| 1141      | 500            | 143        | 130                  | 2.86s            |</pre>"
      ],
      "text/plain": [
       "| 1141      | 500            | 143        | 130                  | 2.86s            |"
      ]
     },
     "metadata": {},
     "output_type": "display_data"
    },
    {
     "data": {
      "text/html": [
       "<pre>| 1142      | 500            | 143        | 130                  | 2.86s            |</pre>"
      ],
      "text/plain": [
       "| 1142      | 500            | 143        | 130                  | 2.86s            |"
      ]
     },
     "metadata": {},
     "output_type": "display_data"
    },
    {
     "data": {
      "text/html": [
       "<pre>| 1143      | 500            | 143        | 130                  | 2.87s            |</pre>"
      ],
      "text/plain": [
       "| 1143      | 500            | 143        | 130                  | 2.87s            |"
      ]
     },
     "metadata": {},
     "output_type": "display_data"
    },
    {
     "data": {
      "text/html": [
       "<pre>| 1144      | 500            | 143        | 130                  | 2.87s            |</pre>"
      ],
      "text/plain": [
       "| 1144      | 500            | 143        | 130                  | 2.87s            |"
      ]
     },
     "metadata": {},
     "output_type": "display_data"
    },
    {
     "data": {
      "text/html": [
       "<pre>| 1145      | 500            | 143        | 130                  | 2.87s            |</pre>"
      ],
      "text/plain": [
       "| 1145      | 500            | 143        | 130                  | 2.87s            |"
      ]
     },
     "metadata": {},
     "output_type": "display_data"
    },
    {
     "data": {
      "text/html": [
       "<pre>| 1146      | 500            | 143        | 130                  | 2.87s            |</pre>"
      ],
      "text/plain": [
       "| 1146      | 500            | 143        | 130                  | 2.87s            |"
      ]
     },
     "metadata": {},
     "output_type": "display_data"
    },
    {
     "data": {
      "text/html": [
       "<pre>| 1147      | 500            | 143        | 130                  | 2.87s            |</pre>"
      ],
      "text/plain": [
       "| 1147      | 500            | 143        | 130                  | 2.87s            |"
      ]
     },
     "metadata": {},
     "output_type": "display_data"
    },
    {
     "data": {
      "text/html": [
       "<pre>| 1148      | 500            | 143        | 130                  | 2.87s            |</pre>"
      ],
      "text/plain": [
       "| 1148      | 500            | 143        | 130                  | 2.87s            |"
      ]
     },
     "metadata": {},
     "output_type": "display_data"
    },
    {
     "data": {
      "text/html": [
       "<pre>| 1149      | 500            | 143        | 130                  | 2.87s            |</pre>"
      ],
      "text/plain": [
       "| 1149      | 500            | 143        | 130                  | 2.87s            |"
      ]
     },
     "metadata": {},
     "output_type": "display_data"
    },
    {
     "data": {
      "text/html": [
       "<pre>| 1150      | 500            | 142        | 130                  | 2.88s            |</pre>"
      ],
      "text/plain": [
       "| 1150      | 500            | 142        | 130                  | 2.88s            |"
      ]
     },
     "metadata": {},
     "output_type": "display_data"
    },
    {
     "data": {
      "text/html": [
       "<pre>| 1151      | 500            | 142        | 130                  | 2.88s            |</pre>"
      ],
      "text/plain": [
       "| 1151      | 500            | 142        | 130                  | 2.88s            |"
      ]
     },
     "metadata": {},
     "output_type": "display_data"
    },
    {
     "data": {
      "text/html": [
       "<pre>| 1152      | 500            | 142        | 130                  | 2.88s            |</pre>"
      ],
      "text/plain": [
       "| 1152      | 500            | 142        | 130                  | 2.88s            |"
      ]
     },
     "metadata": {},
     "output_type": "display_data"
    },
    {
     "data": {
      "text/html": [
       "<pre>| 1153      | 500            | 142        | 130                  | 2.88s            |</pre>"
      ],
      "text/plain": [
       "| 1153      | 500            | 142        | 130                  | 2.88s            |"
      ]
     },
     "metadata": {},
     "output_type": "display_data"
    },
    {
     "data": {
      "text/html": [
       "<pre>| 1154      | 500            | 142        | 130                  | 2.88s            |</pre>"
      ],
      "text/plain": [
       "| 1154      | 500            | 142        | 130                  | 2.88s            |"
      ]
     },
     "metadata": {},
     "output_type": "display_data"
    },
    {
     "data": {
      "text/html": [
       "<pre>| 1155      | 500            | 142        | 130                  | 2.88s            |</pre>"
      ],
      "text/plain": [
       "| 1155      | 500            | 142        | 130                  | 2.88s            |"
      ]
     },
     "metadata": {},
     "output_type": "display_data"
    },
    {
     "data": {
      "text/html": [
       "<pre>| 1156      | 500            | 142        | 130                  | 2.88s            |</pre>"
      ],
      "text/plain": [
       "| 1156      | 500            | 142        | 130                  | 2.88s            |"
      ]
     },
     "metadata": {},
     "output_type": "display_data"
    },
    {
     "data": {
      "text/html": [
       "<pre>| 1157      | 500            | 142        | 130                  | 2.88s            |</pre>"
      ],
      "text/plain": [
       "| 1157      | 500            | 142        | 130                  | 2.88s            |"
      ]
     },
     "metadata": {},
     "output_type": "display_data"
    },
    {
     "data": {
      "text/html": [
       "<pre>| 1158      | 500            | 142        | 130                  | 2.89s            |</pre>"
      ],
      "text/plain": [
       "| 1158      | 500            | 142        | 130                  | 2.89s            |"
      ]
     },
     "metadata": {},
     "output_type": "display_data"
    },
    {
     "data": {
      "text/html": [
       "<pre>| 1159      | 500            | 142        | 130                  | 2.89s            |</pre>"
      ],
      "text/plain": [
       "| 1159      | 500            | 142        | 130                  | 2.89s            |"
      ]
     },
     "metadata": {},
     "output_type": "display_data"
    },
    {
     "data": {
      "text/html": [
       "<pre>| 1160      | 500            | 142        | 130                  | 2.89s            |</pre>"
      ],
      "text/plain": [
       "| 1160      | 500            | 142        | 130                  | 2.89s            |"
      ]
     },
     "metadata": {},
     "output_type": "display_data"
    },
    {
     "data": {
      "text/html": [
       "<pre>| 1161      | 500            | 142        | 130                  | 2.89s            |</pre>"
      ],
      "text/plain": [
       "| 1161      | 500            | 142        | 130                  | 2.89s            |"
      ]
     },
     "metadata": {},
     "output_type": "display_data"
    },
    {
     "data": {
      "text/html": [
       "<pre>| 1162      | 500            | 142        | 130                  | 2.89s            |</pre>"
      ],
      "text/plain": [
       "| 1162      | 500            | 142        | 130                  | 2.89s            |"
      ]
     },
     "metadata": {},
     "output_type": "display_data"
    },
    {
     "data": {
      "text/html": [
       "<pre>| 1163      | 500            | 141        | 130                  | 2.89s            |</pre>"
      ],
      "text/plain": [
       "| 1163      | 500            | 141        | 130                  | 2.89s            |"
      ]
     },
     "metadata": {},
     "output_type": "display_data"
    },
    {
     "data": {
      "text/html": [
       "<pre>| 1164      | 500            | 141        | 130                  | 2.89s            |</pre>"
      ],
      "text/plain": [
       "| 1164      | 500            | 141        | 130                  | 2.89s            |"
      ]
     },
     "metadata": {},
     "output_type": "display_data"
    },
    {
     "data": {
      "text/html": [
       "<pre>| 1165      | 500            | 141        | 130                  | 2.89s            |</pre>"
      ],
      "text/plain": [
       "| 1165      | 500            | 141        | 130                  | 2.89s            |"
      ]
     },
     "metadata": {},
     "output_type": "display_data"
    },
    {
     "data": {
      "text/html": [
       "<pre>| 1166      | 500            | 141        | 130                  | 2.90s            |</pre>"
      ],
      "text/plain": [
       "| 1166      | 500            | 141        | 130                  | 2.90s            |"
      ]
     },
     "metadata": {},
     "output_type": "display_data"
    },
    {
     "data": {
      "text/html": [
       "<pre>| 1167      | 500            | 140        | 130                  | 2.90s            |</pre>"
      ],
      "text/plain": [
       "| 1167      | 500            | 140        | 130                  | 2.90s            |"
      ]
     },
     "metadata": {},
     "output_type": "display_data"
    },
    {
     "data": {
      "text/html": [
       "<pre>| 1168      | 500            | 140        | 130                  | 2.90s            |</pre>"
      ],
      "text/plain": [
       "| 1168      | 500            | 140        | 130                  | 2.90s            |"
      ]
     },
     "metadata": {},
     "output_type": "display_data"
    },
    {
     "data": {
      "text/html": [
       "<pre>| 1169      | 500            | 140        | 130                  | 2.90s            |</pre>"
      ],
      "text/plain": [
       "| 1169      | 500            | 140        | 130                  | 2.90s            |"
      ]
     },
     "metadata": {},
     "output_type": "display_data"
    },
    {
     "data": {
      "text/html": [
       "<pre>| 1170      | 500            | 140        | 130                  | 2.90s            |</pre>"
      ],
      "text/plain": [
       "| 1170      | 500            | 140        | 130                  | 2.90s            |"
      ]
     },
     "metadata": {},
     "output_type": "display_data"
    },
    {
     "data": {
      "text/html": [
       "<pre>| 1171      | 500            | 140        | 130                  | 2.90s            |</pre>"
      ],
      "text/plain": [
       "| 1171      | 500            | 140        | 130                  | 2.90s            |"
      ]
     },
     "metadata": {},
     "output_type": "display_data"
    },
    {
     "data": {
      "text/html": [
       "<pre>| 1172      | 500            | 140        | 130                  | 2.90s            |</pre>"
      ],
      "text/plain": [
       "| 1172      | 500            | 140        | 130                  | 2.90s            |"
      ]
     },
     "metadata": {},
     "output_type": "display_data"
    },
    {
     "data": {
      "text/html": [
       "<pre>| 1173      | 500            | 140        | 130                  | 2.90s            |</pre>"
      ],
      "text/plain": [
       "| 1173      | 500            | 140        | 130                  | 2.90s            |"
      ]
     },
     "metadata": {},
     "output_type": "display_data"
    },
    {
     "data": {
      "text/html": [
       "<pre>| 1174      | 500            | 140        | 130                  | 2.91s            |</pre>"
      ],
      "text/plain": [
       "| 1174      | 500            | 140        | 130                  | 2.91s            |"
      ]
     },
     "metadata": {},
     "output_type": "display_data"
    },
    {
     "data": {
      "text/html": [
       "<pre>| 1175      | 500            | 139        | 130                  | 2.91s            |</pre>"
      ],
      "text/plain": [
       "| 1175      | 500            | 139        | 130                  | 2.91s            |"
      ]
     },
     "metadata": {},
     "output_type": "display_data"
    },
    {
     "data": {
      "text/html": [
       "<pre>| 1176      | 500            | 139        | 130                  | 2.91s            |</pre>"
      ],
      "text/plain": [
       "| 1176      | 500            | 139        | 130                  | 2.91s            |"
      ]
     },
     "metadata": {},
     "output_type": "display_data"
    },
    {
     "data": {
      "text/html": [
       "<pre>| 1177      | 500            | 139        | 130                  | 2.91s            |</pre>"
      ],
      "text/plain": [
       "| 1177      | 500            | 139        | 130                  | 2.91s            |"
      ]
     },
     "metadata": {},
     "output_type": "display_data"
    },
    {
     "data": {
      "text/html": [
       "<pre>| 1178      | 500            | 138        | 130                  | 2.91s            |</pre>"
      ],
      "text/plain": [
       "| 1178      | 500            | 138        | 130                  | 2.91s            |"
      ]
     },
     "metadata": {},
     "output_type": "display_data"
    },
    {
     "data": {
      "text/html": [
       "<pre>| 1179      | 500            | 138        | 130                  | 2.91s            |</pre>"
      ],
      "text/plain": [
       "| 1179      | 500            | 138        | 130                  | 2.91s            |"
      ]
     },
     "metadata": {},
     "output_type": "display_data"
    },
    {
     "data": {
      "text/html": [
       "<pre>| 1180      | 500            | 138        | 130                  | 2.91s            |</pre>"
      ],
      "text/plain": [
       "| 1180      | 500            | 138        | 130                  | 2.91s            |"
      ]
     },
     "metadata": {},
     "output_type": "display_data"
    },
    {
     "data": {
      "text/html": [
       "<pre>| 1181      | 500            | 138        | 130                  | 2.92s            |</pre>"
      ],
      "text/plain": [
       "| 1181      | 500            | 138        | 130                  | 2.92s            |"
      ]
     },
     "metadata": {},
     "output_type": "display_data"
    },
    {
     "data": {
      "text/html": [
       "<pre>| 1182      | 500            | 138        | 130                  | 2.92s            |</pre>"
      ],
      "text/plain": [
       "| 1182      | 500            | 138        | 130                  | 2.92s            |"
      ]
     },
     "metadata": {},
     "output_type": "display_data"
    },
    {
     "data": {
      "text/html": [
       "<pre>| 1183      | 500            | 138        | 130                  | 2.92s            |</pre>"
      ],
      "text/plain": [
       "| 1183      | 500            | 138        | 130                  | 2.92s            |"
      ]
     },
     "metadata": {},
     "output_type": "display_data"
    },
    {
     "data": {
      "text/html": [
       "<pre>| 1184      | 500            | 138        | 130                  | 2.92s            |</pre>"
      ],
      "text/plain": [
       "| 1184      | 500            | 138        | 130                  | 2.92s            |"
      ]
     },
     "metadata": {},
     "output_type": "display_data"
    },
    {
     "data": {
      "text/html": [
       "<pre>| 1185      | 500            | 138        | 130                  | 2.92s            |</pre>"
      ],
      "text/plain": [
       "| 1185      | 500            | 138        | 130                  | 2.92s            |"
      ]
     },
     "metadata": {},
     "output_type": "display_data"
    },
    {
     "data": {
      "text/html": [
       "<pre>| 1186      | 500            | 138        | 130                  | 2.92s            |</pre>"
      ],
      "text/plain": [
       "| 1186      | 500            | 138        | 130                  | 2.92s            |"
      ]
     },
     "metadata": {},
     "output_type": "display_data"
    },
    {
     "data": {
      "text/html": [
       "<pre>| 1187      | 500            | 137        | 130                  | 2.92s            |</pre>"
      ],
      "text/plain": [
       "| 1187      | 500            | 137        | 130                  | 2.92s            |"
      ]
     },
     "metadata": {},
     "output_type": "display_data"
    },
    {
     "data": {
      "text/html": [
       "<pre>| 1188      | 500            | 137        | 130                  | 2.92s            |</pre>"
      ],
      "text/plain": [
       "| 1188      | 500            | 137        | 130                  | 2.92s            |"
      ]
     },
     "metadata": {},
     "output_type": "display_data"
    },
    {
     "data": {
      "text/html": [
       "<pre>| 1189      | 500            | 137        | 130                  | 2.93s            |</pre>"
      ],
      "text/plain": [
       "| 1189      | 500            | 137        | 130                  | 2.93s            |"
      ]
     },
     "metadata": {},
     "output_type": "display_data"
    },
    {
     "data": {
      "text/html": [
       "<pre>| 1190      | 500            | 137        | 130                  | 2.93s            |</pre>"
      ],
      "text/plain": [
       "| 1190      | 500            | 137        | 130                  | 2.93s            |"
      ]
     },
     "metadata": {},
     "output_type": "display_data"
    },
    {
     "data": {
      "text/html": [
       "<pre>| 1191      | 500            | 137        | 130                  | 2.93s            |</pre>"
      ],
      "text/plain": [
       "| 1191      | 500            | 137        | 130                  | 2.93s            |"
      ]
     },
     "metadata": {},
     "output_type": "display_data"
    },
    {
     "data": {
      "text/html": [
       "<pre>| 1192      | 500            | 137        | 130                  | 2.93s            |</pre>"
      ],
      "text/plain": [
       "| 1192      | 500            | 137        | 130                  | 2.93s            |"
      ]
     },
     "metadata": {},
     "output_type": "display_data"
    },
    {
     "data": {
      "text/html": [
       "<pre>| 1193      | 500            | 136        | 130                  | 2.93s            |</pre>"
      ],
      "text/plain": [
       "| 1193      | 500            | 136        | 130                  | 2.93s            |"
      ]
     },
     "metadata": {},
     "output_type": "display_data"
    },
    {
     "data": {
      "text/html": [
       "<pre>| 1194      | 500            | 136        | 130                  | 2.93s            |</pre>"
      ],
      "text/plain": [
       "| 1194      | 500            | 136        | 130                  | 2.93s            |"
      ]
     },
     "metadata": {},
     "output_type": "display_data"
    },
    {
     "data": {
      "text/html": [
       "<pre>| 1195      | 500            | 136        | 130                  | 2.93s            |</pre>"
      ],
      "text/plain": [
       "| 1195      | 500            | 136        | 130                  | 2.93s            |"
      ]
     },
     "metadata": {},
     "output_type": "display_data"
    },
    {
     "data": {
      "text/html": [
       "<pre>| 1196      | 500            | 136        | 130                  | 2.94s            |</pre>"
      ],
      "text/plain": [
       "| 1196      | 500            | 136        | 130                  | 2.94s            |"
      ]
     },
     "metadata": {},
     "output_type": "display_data"
    },
    {
     "data": {
      "text/html": [
       "<pre>| 1197      | 500            | 136        | 130                  | 2.94s            |</pre>"
      ],
      "text/plain": [
       "| 1197      | 500            | 136        | 130                  | 2.94s            |"
      ]
     },
     "metadata": {},
     "output_type": "display_data"
    },
    {
     "data": {
      "text/html": [
       "<pre>| 1198      | 500            | 136        | 130                  | 2.94s            |</pre>"
      ],
      "text/plain": [
       "| 1198      | 500            | 136        | 130                  | 2.94s            |"
      ]
     },
     "metadata": {},
     "output_type": "display_data"
    },
    {
     "data": {
      "text/html": [
       "<pre>| 1199      | 500            | 136        | 130                  | 2.94s            |</pre>"
      ],
      "text/plain": [
       "| 1199      | 500            | 136        | 130                  | 2.94s            |"
      ]
     },
     "metadata": {},
     "output_type": "display_data"
    },
    {
     "data": {
      "text/html": [
       "<pre>| 1200      | 500            | 136        | 130                  | 2.94s            |</pre>"
      ],
      "text/plain": [
       "| 1200      | 500            | 136        | 130                  | 2.94s            |"
      ]
     },
     "metadata": {},
     "output_type": "display_data"
    },
    {
     "data": {
      "text/html": [
       "<pre>| 1201      | 500            | 136        | 130                  | 2.94s            |</pre>"
      ],
      "text/plain": [
       "| 1201      | 500            | 136        | 130                  | 2.94s            |"
      ]
     },
     "metadata": {},
     "output_type": "display_data"
    },
    {
     "data": {
      "text/html": [
       "<pre>| 1202      | 500            | 136        | 130                  | 2.94s            |</pre>"
      ],
      "text/plain": [
       "| 1202      | 500            | 136        | 130                  | 2.94s            |"
      ]
     },
     "metadata": {},
     "output_type": "display_data"
    },
    {
     "data": {
      "text/html": [
       "<pre>| 1203      | 500            | 136        | 130                  | 2.94s            |</pre>"
      ],
      "text/plain": [
       "| 1203      | 500            | 136        | 130                  | 2.94s            |"
      ]
     },
     "metadata": {},
     "output_type": "display_data"
    },
    {
     "data": {
      "text/html": [
       "<pre>| 1204      | 500            | 135        | 130                  | 2.95s            |</pre>"
      ],
      "text/plain": [
       "| 1204      | 500            | 135        | 130                  | 2.95s            |"
      ]
     },
     "metadata": {},
     "output_type": "display_data"
    },
    {
     "data": {
      "text/html": [
       "<pre>| 1205      | 500            | 135        | 130                  | 2.95s            |</pre>"
      ],
      "text/plain": [
       "| 1205      | 500            | 135        | 130                  | 2.95s            |"
      ]
     },
     "metadata": {},
     "output_type": "display_data"
    },
    {
     "data": {
      "text/html": [
       "<pre>| 1206      | 500            | 135        | 130                  | 2.95s            |</pre>"
      ],
      "text/plain": [
       "| 1206      | 500            | 135        | 130                  | 2.95s            |"
      ]
     },
     "metadata": {},
     "output_type": "display_data"
    },
    {
     "data": {
      "text/html": [
       "<pre>| 1207      | 500            | 135        | 130                  | 2.95s            |</pre>"
      ],
      "text/plain": [
       "| 1207      | 500            | 135        | 130                  | 2.95s            |"
      ]
     },
     "metadata": {},
     "output_type": "display_data"
    },
    {
     "data": {
      "text/html": [
       "<pre>| 1208      | 500            | 135        | 130                  | 2.95s            |</pre>"
      ],
      "text/plain": [
       "| 1208      | 500            | 135        | 130                  | 2.95s            |"
      ]
     },
     "metadata": {},
     "output_type": "display_data"
    },
    {
     "data": {
      "text/html": [
       "<pre>| 1209      | 500            | 135        | 130                  | 2.95s            |</pre>"
      ],
      "text/plain": [
       "| 1209      | 500            | 135        | 130                  | 2.95s            |"
      ]
     },
     "metadata": {},
     "output_type": "display_data"
    },
    {
     "data": {
      "text/html": [
       "<pre>| 1210      | 500            | 135        | 130                  | 2.95s            |</pre>"
      ],
      "text/plain": [
       "| 1210      | 500            | 135        | 130                  | 2.95s            |"
      ]
     },
     "metadata": {},
     "output_type": "display_data"
    },
    {
     "data": {
      "text/html": [
       "<pre>| 1211      | 500            | 135        | 130                  | 2.95s            |</pre>"
      ],
      "text/plain": [
       "| 1211      | 500            | 135        | 130                  | 2.95s            |"
      ]
     },
     "metadata": {},
     "output_type": "display_data"
    },
    {
     "data": {
      "text/html": [
       "<pre>| 1212      | 500            | 135        | 130                  | 2.96s            |</pre>"
      ],
      "text/plain": [
       "| 1212      | 500            | 135        | 130                  | 2.96s            |"
      ]
     },
     "metadata": {},
     "output_type": "display_data"
    },
    {
     "data": {
      "text/html": [
       "<pre>| 1213      | 500            | 135        | 130                  | 2.96s            |</pre>"
      ],
      "text/plain": [
       "| 1213      | 500            | 135        | 130                  | 2.96s            |"
      ]
     },
     "metadata": {},
     "output_type": "display_data"
    },
    {
     "data": {
      "text/html": [
       "<pre>| 1214      | 500            | 135        | 130                  | 2.96s            |</pre>"
      ],
      "text/plain": [
       "| 1214      | 500            | 135        | 130                  | 2.96s            |"
      ]
     },
     "metadata": {},
     "output_type": "display_data"
    },
    {
     "data": {
      "text/html": [
       "<pre>| 1215      | 500            | 134        | 130                  | 2.96s            |</pre>"
      ],
      "text/plain": [
       "| 1215      | 500            | 134        | 130                  | 2.96s            |"
      ]
     },
     "metadata": {},
     "output_type": "display_data"
    },
    {
     "data": {
      "text/html": [
       "<pre>| 1216      | 500            | 134        | 130                  | 2.96s            |</pre>"
      ],
      "text/plain": [
       "| 1216      | 500            | 134        | 130                  | 2.96s            |"
      ]
     },
     "metadata": {},
     "output_type": "display_data"
    },
    {
     "data": {
      "text/html": [
       "<pre>| 1217      | 500            | 134        | 130                  | 2.96s            |</pre>"
      ],
      "text/plain": [
       "| 1217      | 500            | 134        | 130                  | 2.96s            |"
      ]
     },
     "metadata": {},
     "output_type": "display_data"
    },
    {
     "data": {
      "text/html": [
       "<pre>| 1218      | 500            | 134        | 130                  | 2.96s            |</pre>"
      ],
      "text/plain": [
       "| 1218      | 500            | 134        | 130                  | 2.96s            |"
      ]
     },
     "metadata": {},
     "output_type": "display_data"
    },
    {
     "data": {
      "text/html": [
       "<pre>| 1219      | 500            | 134        | 130                  | 2.96s            |</pre>"
      ],
      "text/plain": [
       "| 1219      | 500            | 134        | 130                  | 2.96s            |"
      ]
     },
     "metadata": {},
     "output_type": "display_data"
    },
    {
     "data": {
      "text/html": [
       "<pre>| 1220      | 500            | 134        | 130                  | 2.96s            |</pre>"
      ],
      "text/plain": [
       "| 1220      | 500            | 134        | 130                  | 2.96s            |"
      ]
     },
     "metadata": {},
     "output_type": "display_data"
    },
    {
     "data": {
      "text/html": [
       "<pre>| 1221      | 500            | 134        | 130                  | 2.97s            |</pre>"
      ],
      "text/plain": [
       "| 1221      | 500            | 134        | 130                  | 2.97s            |"
      ]
     },
     "metadata": {},
     "output_type": "display_data"
    },
    {
     "data": {
      "text/html": [
       "<pre>| 1222      | 500            | 134        | 130                  | 2.97s            |</pre>"
      ],
      "text/plain": [
       "| 1222      | 500            | 134        | 130                  | 2.97s            |"
      ]
     },
     "metadata": {},
     "output_type": "display_data"
    },
    {
     "data": {
      "text/html": [
       "<pre>| 1223      | 500            | 134        | 130                  | 2.97s            |</pre>"
      ],
      "text/plain": [
       "| 1223      | 500            | 134        | 130                  | 2.97s            |"
      ]
     },
     "metadata": {},
     "output_type": "display_data"
    },
    {
     "data": {
      "text/html": [
       "<pre>| 1224      | 500            | 134        | 130                  | 2.97s            |</pre>"
      ],
      "text/plain": [
       "| 1224      | 500            | 134        | 130                  | 2.97s            |"
      ]
     },
     "metadata": {},
     "output_type": "display_data"
    },
    {
     "data": {
      "text/html": [
       "<pre>| 1225      | 500            | 134        | 130                  | 2.97s            |</pre>"
      ],
      "text/plain": [
       "| 1225      | 500            | 134        | 130                  | 2.97s            |"
      ]
     },
     "metadata": {},
     "output_type": "display_data"
    },
    {
     "data": {
      "text/html": [
       "<pre>| 1226      | 500            | 133        | 130                  | 2.97s            |</pre>"
      ],
      "text/plain": [
       "| 1226      | 500            | 133        | 130                  | 2.97s            |"
      ]
     },
     "metadata": {},
     "output_type": "display_data"
    },
    {
     "data": {
      "text/html": [
       "<pre>| 1227      | 500            | 133        | 130                  | 2.97s            |</pre>"
      ],
      "text/plain": [
       "| 1227      | 500            | 133        | 130                  | 2.97s            |"
      ]
     },
     "metadata": {},
     "output_type": "display_data"
    },
    {
     "data": {
      "text/html": [
       "<pre>| 1228      | 500            | 133        | 130                  | 2.98s            |</pre>"
      ],
      "text/plain": [
       "| 1228      | 500            | 133        | 130                  | 2.98s            |"
      ]
     },
     "metadata": {},
     "output_type": "display_data"
    },
    {
     "data": {
      "text/html": [
       "<pre>| 1229      | 500            | 133        | 130                  | 2.98s            |</pre>"
      ],
      "text/plain": [
       "| 1229      | 500            | 133        | 130                  | 2.98s            |"
      ]
     },
     "metadata": {},
     "output_type": "display_data"
    },
    {
     "data": {
      "text/html": [
       "<pre>| 1230      | 500            | 133        | 130                  | 2.98s            |</pre>"
      ],
      "text/plain": [
       "| 1230      | 500            | 133        | 130                  | 2.98s            |"
      ]
     },
     "metadata": {},
     "output_type": "display_data"
    },
    {
     "data": {
      "text/html": [
       "<pre>| 1231      | 500            | 133        | 130                  | 2.98s            |</pre>"
      ],
      "text/plain": [
       "| 1231      | 500            | 133        | 130                  | 2.98s            |"
      ]
     },
     "metadata": {},
     "output_type": "display_data"
    },
    {
     "data": {
      "text/html": [
       "<pre>| 1232      | 500            | 133        | 130                  | 2.98s            |</pre>"
      ],
      "text/plain": [
       "| 1232      | 500            | 133        | 130                  | 2.98s            |"
      ]
     },
     "metadata": {},
     "output_type": "display_data"
    },
    {
     "data": {
      "text/html": [
       "<pre>| 1233      | 500            | 133        | 130                  | 2.98s            |</pre>"
      ],
      "text/plain": [
       "| 1233      | 500            | 133        | 130                  | 2.98s            |"
      ]
     },
     "metadata": {},
     "output_type": "display_data"
    },
    {
     "data": {
      "text/html": [
       "<pre>| 1234      | 500            | 133        | 130                  | 2.98s            |</pre>"
      ],
      "text/plain": [
       "| 1234      | 500            | 133        | 130                  | 2.98s            |"
      ]
     },
     "metadata": {},
     "output_type": "display_data"
    },
    {
     "data": {
      "text/html": [
       "<pre>| 1235      | 500            | 133        | 130                  | 2.99s            |</pre>"
      ],
      "text/plain": [
       "| 1235      | 500            | 133        | 130                  | 2.99s            |"
      ]
     },
     "metadata": {},
     "output_type": "display_data"
    },
    {
     "data": {
      "text/html": [
       "<pre>| 1236      | 500            | 133        | 130                  | 2.99s            |</pre>"
      ],
      "text/plain": [
       "| 1236      | 500            | 133        | 130                  | 2.99s            |"
      ]
     },
     "metadata": {},
     "output_type": "display_data"
    },
    {
     "data": {
      "text/html": [
       "<pre>| 1237      | 500            | 133        | 130                  | 2.99s            |</pre>"
      ],
      "text/plain": [
       "| 1237      | 500            | 133        | 130                  | 2.99s            |"
      ]
     },
     "metadata": {},
     "output_type": "display_data"
    },
    {
     "data": {
      "text/html": [
       "<pre>| 1238      | 500            | 132        | 130                  | 2.99s            |</pre>"
      ],
      "text/plain": [
       "| 1238      | 500            | 132        | 130                  | 2.99s            |"
      ]
     },
     "metadata": {},
     "output_type": "display_data"
    },
    {
     "data": {
      "text/html": [
       "<pre>| 1239      | 500            | 132        | 130                  | 2.99s            |</pre>"
      ],
      "text/plain": [
       "| 1239      | 500            | 132        | 130                  | 2.99s            |"
      ]
     },
     "metadata": {},
     "output_type": "display_data"
    },
    {
     "data": {
      "text/html": [
       "<pre>| 1240      | 500            | 132        | 130                  | 2.99s            |</pre>"
      ],
      "text/plain": [
       "| 1240      | 500            | 132        | 130                  | 2.99s            |"
      ]
     },
     "metadata": {},
     "output_type": "display_data"
    },
    {
     "data": {
      "text/html": [
       "<pre>| 1241      | 500            | 132        | 130                  | 2.99s            |</pre>"
      ],
      "text/plain": [
       "| 1241      | 500            | 132        | 130                  | 2.99s            |"
      ]
     },
     "metadata": {},
     "output_type": "display_data"
    },
    {
     "data": {
      "text/html": [
       "<pre>| 1242      | 500            | 132        | 130                  | 2.99s            |</pre>"
      ],
      "text/plain": [
       "| 1242      | 500            | 132        | 130                  | 2.99s            |"
      ]
     },
     "metadata": {},
     "output_type": "display_data"
    },
    {
     "data": {
      "text/html": [
       "<pre>| 1243      | 500            | 132        | 130                  | 3.00s            |</pre>"
      ],
      "text/plain": [
       "| 1243      | 500            | 132        | 130                  | 3.00s            |"
      ]
     },
     "metadata": {},
     "output_type": "display_data"
    },
    {
     "data": {
      "text/html": [
       "<pre>| 1244      | 500            | 132        | 130                  | 3.00s            |</pre>"
      ],
      "text/plain": [
       "| 1244      | 500            | 132        | 130                  | 3.00s            |"
      ]
     },
     "metadata": {},
     "output_type": "display_data"
    },
    {
     "data": {
      "text/html": [
       "<pre>| 1245      | 500            | 131        | 130                  | 3.00s            |</pre>"
      ],
      "text/plain": [
       "| 1245      | 500            | 131        | 130                  | 3.00s            |"
      ]
     },
     "metadata": {},
     "output_type": "display_data"
    },
    {
     "data": {
      "text/html": [
       "<pre>| 1246      | 500            | 131        | 130                  | 3.00s            |</pre>"
      ],
      "text/plain": [
       "| 1246      | 500            | 131        | 130                  | 3.00s            |"
      ]
     },
     "metadata": {},
     "output_type": "display_data"
    },
    {
     "data": {
      "text/html": [
       "<pre>| 1247      | 500            | 131        | 130                  | 3.00s            |</pre>"
      ],
      "text/plain": [
       "| 1247      | 500            | 131        | 130                  | 3.00s            |"
      ]
     },
     "metadata": {},
     "output_type": "display_data"
    },
    {
     "data": {
      "text/html": [
       "<pre>| 1248      | 500            | 131        | 130                  | 3.00s            |</pre>"
      ],
      "text/plain": [
       "| 1248      | 500            | 131        | 130                  | 3.00s            |"
      ]
     },
     "metadata": {},
     "output_type": "display_data"
    },
    {
     "data": {
      "text/html": [
       "<pre>| 1249      | 500            | 131        | 130                  | 3.00s            |</pre>"
      ],
      "text/plain": [
       "| 1249      | 500            | 131        | 130                  | 3.00s            |"
      ]
     },
     "metadata": {},
     "output_type": "display_data"
    },
    {
     "data": {
      "text/html": [
       "<pre>| 1250      | 500            | 131        | 130                  | 3.01s            |</pre>"
      ],
      "text/plain": [
       "| 1250      | 500            | 131        | 130                  | 3.01s            |"
      ]
     },
     "metadata": {},
     "output_type": "display_data"
    },
    {
     "data": {
      "text/html": [
       "<pre>| 1251      | 500            | 131        | 130                  | 3.01s            |</pre>"
      ],
      "text/plain": [
       "| 1251      | 500            | 131        | 130                  | 3.01s            |"
      ]
     },
     "metadata": {},
     "output_type": "display_data"
    },
    {
     "data": {
      "text/html": [
       "<pre>| 1252      | 500            | 131        | 130                  | 3.01s            |</pre>"
      ],
      "text/plain": [
       "| 1252      | 500            | 131        | 130                  | 3.01s            |"
      ]
     },
     "metadata": {},
     "output_type": "display_data"
    },
    {
     "data": {
      "text/html": [
       "<pre>| 1253      | 500            | 131        | 130                  | 3.01s            |</pre>"
      ],
      "text/plain": [
       "| 1253      | 500            | 131        | 130                  | 3.01s            |"
      ]
     },
     "metadata": {},
     "output_type": "display_data"
    },
    {
     "data": {
      "text/html": [
       "<pre>| 1254      | 500            | 131        | 130                  | 3.01s            |</pre>"
      ],
      "text/plain": [
       "| 1254      | 500            | 131        | 130                  | 3.01s            |"
      ]
     },
     "metadata": {},
     "output_type": "display_data"
    },
    {
     "data": {
      "text/html": [
       "<pre>| 1255      | 500            | 131        | 130                  | 3.01s            |</pre>"
      ],
      "text/plain": [
       "| 1255      | 500            | 131        | 130                  | 3.01s            |"
      ]
     },
     "metadata": {},
     "output_type": "display_data"
    },
    {
     "data": {
      "text/html": [
       "<pre>| 1256      | 500            | 131        | 130                  | 3.01s            |</pre>"
      ],
      "text/plain": [
       "| 1256      | 500            | 131        | 130                  | 3.01s            |"
      ]
     },
     "metadata": {},
     "output_type": "display_data"
    },
    {
     "data": {
      "text/html": [
       "<pre>| 1257      | 500            | 131        | 130                  | 3.01s            |</pre>"
      ],
      "text/plain": [
       "| 1257      | 500            | 131        | 130                  | 3.01s            |"
      ]
     },
     "metadata": {},
     "output_type": "display_data"
    },
    {
     "data": {
      "text/html": [
       "<pre>| 1258      | 500            | 131        | 130                  | 3.01s            |</pre>"
      ],
      "text/plain": [
       "| 1258      | 500            | 131        | 130                  | 3.01s            |"
      ]
     },
     "metadata": {},
     "output_type": "display_data"
    },
    {
     "data": {
      "text/html": [
       "<pre>| 1259      | 500            | 131        | 130                  | 3.02s            |</pre>"
      ],
      "text/plain": [
       "| 1259      | 500            | 131        | 130                  | 3.02s            |"
      ]
     },
     "metadata": {},
     "output_type": "display_data"
    },
    {
     "data": {
      "text/html": [
       "<pre>| 1260      | 500            | 131        | 130                  | 3.02s            |</pre>"
      ],
      "text/plain": [
       "| 1260      | 500            | 131        | 130                  | 3.02s            |"
      ]
     },
     "metadata": {},
     "output_type": "display_data"
    },
    {
     "data": {
      "text/html": [
       "<pre>| 1261      | 500            | 130        | 130                  | 3.02s            |</pre>"
      ],
      "text/plain": [
       "| 1261      | 500            | 130        | 130                  | 3.02s            |"
      ]
     },
     "metadata": {},
     "output_type": "display_data"
    },
    {
     "data": {
      "text/html": [
       "<pre>| 1262      | 500            | 130        | 130                  | 3.02s            |</pre>"
      ],
      "text/plain": [
       "| 1262      | 500            | 130        | 130                  | 3.02s            |"
      ]
     },
     "metadata": {},
     "output_type": "display_data"
    },
    {
     "data": {
      "text/html": [
       "<pre>| 1263      | 500            | 130        | 130                  | 3.02s            |</pre>"
      ],
      "text/plain": [
       "| 1263      | 500            | 130        | 130                  | 3.02s            |"
      ]
     },
     "metadata": {},
     "output_type": "display_data"
    },
    {
     "data": {
      "text/html": [
       "<pre>| 1264      | 500            | 130        | 130                  | 3.02s            |</pre>"
      ],
      "text/plain": [
       "| 1264      | 500            | 130        | 130                  | 3.02s            |"
      ]
     },
     "metadata": {},
     "output_type": "display_data"
    },
    {
     "data": {
      "text/html": [
       "<pre>| 1265      | 500            | 130        | 130                  | 3.02s            |</pre>"
      ],
      "text/plain": [
       "| 1265      | 500            | 130        | 130                  | 3.02s            |"
      ]
     },
     "metadata": {},
     "output_type": "display_data"
    },
    {
     "data": {
      "text/html": [
       "<pre>| 1266      | 500            | 130        | 130                  | 3.02s            |</pre>"
      ],
      "text/plain": [
       "| 1266      | 500            | 130        | 130                  | 3.02s            |"
      ]
     },
     "metadata": {},
     "output_type": "display_data"
    },
    {
     "data": {
      "text/html": [
       "<pre>| 1267      | 500            | 130        | 130                  | 3.02s            |</pre>"
      ],
      "text/plain": [
       "| 1267      | 500            | 130        | 130                  | 3.02s            |"
      ]
     },
     "metadata": {},
     "output_type": "display_data"
    },
    {
     "data": {
      "text/html": [
       "<pre>| 1268      | 500            | 130        | 130                  | 3.03s            |</pre>"
      ],
      "text/plain": [
       "| 1268      | 500            | 130        | 130                  | 3.03s            |"
      ]
     },
     "metadata": {},
     "output_type": "display_data"
    },
    {
     "data": {
      "text/html": [
       "<pre>| Final     | 500            | -          | 130                  | 3.03s            |</pre>"
      ],
      "text/plain": [
       "| Final     | 500            | -          | 130                  | 3.03s            |"
      ]
     },
     "metadata": {},
     "output_type": "display_data"
    },
    {
     "data": {
      "text/html": [
       "<pre>+-----------+----------------+------------+----------------------+------------------+</pre>"
      ],
      "text/plain": [
       "+-----------+----------------+------------+----------------------+------------------+"
      ]
     },
     "metadata": {},
     "output_type": "display_data"
    },
    {
     "data": {
      "text/html": [
       "<pre>Pattern mining complete. Found 500 unique closed patterns.</pre>"
      ],
      "text/plain": [
       "Pattern mining complete. Found 500 unique closed patterns."
      ]
     },
     "metadata": {},
     "output_type": "display_data"
    }
   ],
   "source": [
    "# Create a train/test split\n",
    "#train, test = sf.random_split(0.95)\n",
    "\n",
    "# Create a FrequentPatternMiner\n",
    "model = gl.frequent_pattern_mining.create(sf, 'Description',features=['InvoiceNo']\n",
    "                 , min_length=4, max_patterns=500)\n"
   ]
  },
  {
   "cell_type": "markdown",
   "metadata": {},
   "source": [
    "# Review the frequently used pattersn using the Turi defaults. \n",
    "The key aspect is to identify the transaction identifier. \n",
    "In the data set provided the Invoice Number is the transaction identifier\n",
    "The Model will be built around the stockNO and country"
   ]
  },
  {
   "cell_type": "code",
   "execution_count": 19,
   "metadata": {
    "collapsed": false
   },
   "outputs": [
    {
     "data": {
      "text/plain": [
       "Class                          : FrequentPatternMiner\n",
       "\n",
       "Model fields\n",
       "------------\n",
       "Min support                    : 1\n",
       "Max patterns                   : 500\n",
       "Min pattern length             : 4\n",
       "\n",
       "Most frequent patterns\n",
       "----------------------\n",
       "['REGENCY CAKESTAND 3 TIER', 'ROSES REGENCY TEACUP AND SAUCER', 'GREEN REGENCY TEACUP AND SAUCER', 'PINK REGENCY TEACUP AND SAUCER'] : 301\n",
       "['JUMBO BAG RED RETROSPOT', 'JUMBO BAG PINK POLKADOT', 'JUMBO STORAGE BAG SUKI', 'JUMBO SHOPPER VINTAGE RED PAISLEY'] : 268\n",
       "['RED RETROSPOT CHARLOTTE BAG', 'CHARLOTTE BAG SUKI DESIGN', 'WOODLAND CHARLOTTE BAG', 'STRAWBERRY CHARLOTTE BAG'] : 260\n",
       "['RED RETROSPOT CHARLOTTE BAG', 'CHARLOTTE BAG SUKI DESIGN', 'WOODLAND CHARLOTTE BAG', 'CHARLOTTE BAG PINK POLKADOT'] : 251\n",
       "['RED RETROSPOT CHARLOTTE BAG', 'CHARLOTTE BAG SUKI DESIGN', 'CHARLOTTE BAG PINK POLKADOT', 'STRAWBERRY CHARLOTTE BAG'] : 245\n",
       "['RED RETROSPOT CHARLOTTE BAG', 'WOODLAND CHARLOTTE BAG', 'CHARLOTTE BAG PINK POLKADOT', 'STRAWBERRY CHARLOTTE BAG'] : 242\n",
       "['JUMBO BAG RED RETROSPOT', 'JUMBO BAG PINK POLKADOT', 'JUMBO STORAGE BAG SUKI', 'JUMBO BAG WOODLAND ANIMALS'] : 234\n",
       "['LUNCH BAG RED RETROSPOT', 'LUNCH BAG  BLACK SKULL.', 'LUNCH BAG CARS BLUE', 'LUNCH BAG PINK POLKADOT'] : 225\n",
       "['CHARLOTTE BAG SUKI DESIGN', 'WOODLAND CHARLOTTE BAG', 'CHARLOTTE BAG PINK POLKADOT', 'STRAWBERRY CHARLOTTE BAG'] : 222\n",
       "['JUMBO BAG RED RETROSPOT', 'JUMBO STORAGE BAG SUKI', 'JUMBO SHOPPER VINTAGE RED PAISLEY', 'JUMBO BAG WOODLAND ANIMALS'] : 222"
      ]
     },
     "execution_count": 19,
     "metadata": {},
     "output_type": "execute_result"
    }
   ],
   "source": [
    "model"
   ]
  },
  {
   "cell_type": "markdown",
   "metadata": {},
   "source": [
    "# Frequent Patterns\n",
    "\n",
    "The table below provides the patterns in order the stock No. The table is sorted by the support for each of the combination \n",
    "In the table REGENCY CAKES STAND 3Tier, ROSES REGENCY ) are the combination of product which are ordered togegher "
   ]
  },
  {
   "cell_type": "code",
   "execution_count": 20,
   "metadata": {
    "collapsed": false
   },
   "outputs": [
    {
     "data": {
      "text/html": [
       "<div style=\"max-height:1000px;max-width:1500px;overflow:auto;\"><table frame=\"box\" rules=\"cols\">\n",
       "    <tr>\n",
       "        <th style=\"padding-left: 1em; padding-right: 1em; text-align: center\">pattern</th>\n",
       "        <th style=\"padding-left: 1em; padding-right: 1em; text-align: center\">support</th>\n",
       "    </tr>\n",
       "    <tr>\n",
       "        <td style=\"padding-left: 1em; padding-right: 1em; text-align: center; vertical-align: top\">[REGENCY CAKESTAND 3<br>TIER, ROSES REGENCY ...</td>\n",
       "        <td style=\"padding-left: 1em; padding-right: 1em; text-align: center; vertical-align: top\">301</td>\n",
       "    </tr>\n",
       "    <tr>\n",
       "        <td style=\"padding-left: 1em; padding-right: 1em; text-align: center; vertical-align: top\">[JUMBO BAG RED RETROSPOT,<br>JUMBO BAG PINK POLKADOT, ...</td>\n",
       "        <td style=\"padding-left: 1em; padding-right: 1em; text-align: center; vertical-align: top\">268</td>\n",
       "    </tr>\n",
       "    <tr>\n",
       "        <td style=\"padding-left: 1em; padding-right: 1em; text-align: center; vertical-align: top\">[RED RETROSPOT CHARLOTTE<br>BAG, CHARLOTTE BAG SUKI ...</td>\n",
       "        <td style=\"padding-left: 1em; padding-right: 1em; text-align: center; vertical-align: top\">260</td>\n",
       "    </tr>\n",
       "    <tr>\n",
       "        <td style=\"padding-left: 1em; padding-right: 1em; text-align: center; vertical-align: top\">[RED RETROSPOT CHARLOTTE<br>BAG, CHARLOTTE BAG SUKI ...</td>\n",
       "        <td style=\"padding-left: 1em; padding-right: 1em; text-align: center; vertical-align: top\">251</td>\n",
       "    </tr>\n",
       "    <tr>\n",
       "        <td style=\"padding-left: 1em; padding-right: 1em; text-align: center; vertical-align: top\">[RED RETROSPOT CHARLOTTE<br>BAG, CHARLOTTE BAG SUKI ...</td>\n",
       "        <td style=\"padding-left: 1em; padding-right: 1em; text-align: center; vertical-align: top\">245</td>\n",
       "    </tr>\n",
       "    <tr>\n",
       "        <td style=\"padding-left: 1em; padding-right: 1em; text-align: center; vertical-align: top\">[RED RETROSPOT CHARLOTTE<br>BAG, WOODLAND CHARLOTTE ...</td>\n",
       "        <td style=\"padding-left: 1em; padding-right: 1em; text-align: center; vertical-align: top\">242</td>\n",
       "    </tr>\n",
       "    <tr>\n",
       "        <td style=\"padding-left: 1em; padding-right: 1em; text-align: center; vertical-align: top\">[JUMBO BAG RED RETROSPOT,<br>JUMBO BAG PINK POLKADOT, ...</td>\n",
       "        <td style=\"padding-left: 1em; padding-right: 1em; text-align: center; vertical-align: top\">234</td>\n",
       "    </tr>\n",
       "    <tr>\n",
       "        <td style=\"padding-left: 1em; padding-right: 1em; text-align: center; vertical-align: top\">[LUNCH BAG RED RETROSPOT,<br>LUNCH BAG  BLACK SKULL., ...</td>\n",
       "        <td style=\"padding-left: 1em; padding-right: 1em; text-align: center; vertical-align: top\">225</td>\n",
       "    </tr>\n",
       "    <tr>\n",
       "        <td style=\"padding-left: 1em; padding-right: 1em; text-align: center; vertical-align: top\">[CHARLOTTE BAG SUKI<br>DESIGN, WOODLAND ...</td>\n",
       "        <td style=\"padding-left: 1em; padding-right: 1em; text-align: center; vertical-align: top\">222</td>\n",
       "    </tr>\n",
       "    <tr>\n",
       "        <td style=\"padding-left: 1em; padding-right: 1em; text-align: center; vertical-align: top\">[JUMBO BAG RED RETROSPOT,<br>JUMBO STORAGE BAG SUKI, ...</td>\n",
       "        <td style=\"padding-left: 1em; padding-right: 1em; text-align: center; vertical-align: top\">222</td>\n",
       "    </tr>\n",
       "</table>\n",
       "[500 rows x 2 columns]<br/>Note: Only the head of the SFrame is printed.<br/>You can use print_rows(num_rows=m, num_columns=n) to print more rows and columns.\n",
       "</div>"
      ],
      "text/plain": [
       "Columns:\n",
       "\tpattern\tlist\n",
       "\tsupport\tint\n",
       "\n",
       "Rows: 500\n",
       "\n",
       "Data:\n",
       "+-------------------------------+---------+\n",
       "|            pattern            | support |\n",
       "+-------------------------------+---------+\n",
       "| [REGENCY CAKESTAND 3 TIER,... |   301   |\n",
       "| [JUMBO BAG RED RETROSPOT, ... |   268   |\n",
       "| [RED RETROSPOT CHARLOTTE B... |   260   |\n",
       "| [RED RETROSPOT CHARLOTTE B... |   251   |\n",
       "| [RED RETROSPOT CHARLOTTE B... |   245   |\n",
       "| [RED RETROSPOT CHARLOTTE B... |   242   |\n",
       "| [JUMBO BAG RED RETROSPOT, ... |   234   |\n",
       "| [LUNCH BAG RED RETROSPOT, ... |   225   |\n",
       "| [CHARLOTTE BAG SUKI DESIGN... |   222   |\n",
       "| [JUMBO BAG RED RETROSPOT, ... |   222   |\n",
       "+-------------------------------+---------+\n",
       "[500 rows x 2 columns]\n",
       "Note: Only the head of the SFrame is printed.\n",
       "You can use print_rows(num_rows=m, num_columns=n) to print more rows and columns."
      ]
     },
     "execution_count": 20,
     "metadata": {},
     "output_type": "execute_result"
    }
   ],
   "source": [
    "model.frequent_patterns"
   ]
  },
  {
   "cell_type": "code",
   "execution_count": 21,
   "metadata": {
    "collapsed": false
   },
   "outputs": [
    {
     "data": {
      "text/plain": [
       "'Description'"
      ]
     },
     "execution_count": 21,
     "metadata": {},
     "output_type": "execute_result"
    }
   ],
   "source": [
    "model.item"
   ]
  },
  {
   "cell_type": "code",
   "execution_count": 22,
   "metadata": {
    "collapsed": false
   },
   "outputs": [
    {
     "data": {
      "text/plain": [
       "<bound method FrequentPatternMiner.get_current_options of Class                          : FrequentPatternMiner\n",
       "\n",
       "Model fields\n",
       "------------\n",
       "Min support                    : 1\n",
       "Max patterns                   : 500\n",
       "Min pattern length             : 4\n",
       "\n",
       "Most frequent patterns\n",
       "----------------------\n",
       "['REGENCY CAKESTAND 3 TIER', 'ROSES REGENCY TEACUP AND SAUCER', 'GREEN REGENCY TEACUP AND SAUCER', 'PINK REGENCY TEACUP AND SAUCER'] : 301\n",
       "['JUMBO BAG RED RETROSPOT', 'JUMBO BAG PINK POLKADOT', 'JUMBO STORAGE BAG SUKI', 'JUMBO SHOPPER VINTAGE RED PAISLEY'] : 268\n",
       "['RED RETROSPOT CHARLOTTE BAG', 'CHARLOTTE BAG SUKI DESIGN', 'WOODLAND CHARLOTTE BAG', 'STRAWBERRY CHARLOTTE BAG'] : 260\n",
       "['RED RETROSPOT CHARLOTTE BAG', 'CHARLOTTE BAG SUKI DESIGN', 'WOODLAND CHARLOTTE BAG', 'CHARLOTTE BAG PINK POLKADOT'] : 251\n",
       "['RED RETROSPOT CHARLOTTE BAG', 'CHARLOTTE BAG SUKI DESIGN', 'CHARLOTTE BAG PINK POLKADOT', 'STRAWBERRY CHARLOTTE BAG'] : 245\n",
       "['RED RETROSPOT CHARLOTTE BAG', 'WOODLAND CHARLOTTE BAG', 'CHARLOTTE BAG PINK POLKADOT', 'STRAWBERRY CHARLOTTE BAG'] : 242\n",
       "['JUMBO BAG RED RETROSPOT', 'JUMBO BAG PINK POLKADOT', 'JUMBO STORAGE BAG SUKI', 'JUMBO BAG WOODLAND ANIMALS'] : 234\n",
       "['LUNCH BAG RED RETROSPOT', 'LUNCH BAG  BLACK SKULL.', 'LUNCH BAG CARS BLUE', 'LUNCH BAG PINK POLKADOT'] : 225\n",
       "['CHARLOTTE BAG SUKI DESIGN', 'WOODLAND CHARLOTTE BAG', 'CHARLOTTE BAG PINK POLKADOT', 'STRAWBERRY CHARLOTTE BAG'] : 222\n",
       "['JUMBO BAG RED RETROSPOT', 'JUMBO STORAGE BAG SUKI', 'JUMBO SHOPPER VINTAGE RED PAISLEY', 'JUMBO BAG WOODLAND ANIMALS'] : 222\n",
       ">"
      ]
     },
     "execution_count": 22,
     "metadata": {},
     "output_type": "execute_result"
    }
   ],
   "source": [
    "model.get_current_options"
   ]
  },
  {
   "cell_type": "code",
   "execution_count": 24,
   "metadata": {
    "collapsed": false
   },
   "outputs": [
    {
     "data": {
      "text/plain": [
       "<bound method FrequentPatternMiner.get_frequent_patterns of Class                          : FrequentPatternMiner\n",
       "\n",
       "Model fields\n",
       "------------\n",
       "Min support                    : 1\n",
       "Max patterns                   : 500\n",
       "Min pattern length             : 4\n",
       "\n",
       "Most frequent patterns\n",
       "----------------------\n",
       "['REGENCY CAKESTAND 3 TIER', 'ROSES REGENCY TEACUP AND SAUCER', 'GREEN REGENCY TEACUP AND SAUCER', 'PINK REGENCY TEACUP AND SAUCER'] : 301\n",
       "['JUMBO BAG RED RETROSPOT', 'JUMBO BAG PINK POLKADOT', 'JUMBO STORAGE BAG SUKI', 'JUMBO SHOPPER VINTAGE RED PAISLEY'] : 268\n",
       "['RED RETROSPOT CHARLOTTE BAG', 'CHARLOTTE BAG SUKI DESIGN', 'WOODLAND CHARLOTTE BAG', 'STRAWBERRY CHARLOTTE BAG'] : 260\n",
       "['RED RETROSPOT CHARLOTTE BAG', 'CHARLOTTE BAG SUKI DESIGN', 'WOODLAND CHARLOTTE BAG', 'CHARLOTTE BAG PINK POLKADOT'] : 251\n",
       "['RED RETROSPOT CHARLOTTE BAG', 'CHARLOTTE BAG SUKI DESIGN', 'CHARLOTTE BAG PINK POLKADOT', 'STRAWBERRY CHARLOTTE BAG'] : 245\n",
       "['RED RETROSPOT CHARLOTTE BAG', 'WOODLAND CHARLOTTE BAG', 'CHARLOTTE BAG PINK POLKADOT', 'STRAWBERRY CHARLOTTE BAG'] : 242\n",
       "['JUMBO BAG RED RETROSPOT', 'JUMBO BAG PINK POLKADOT', 'JUMBO STORAGE BAG SUKI', 'JUMBO BAG WOODLAND ANIMALS'] : 234\n",
       "['LUNCH BAG RED RETROSPOT', 'LUNCH BAG  BLACK SKULL.', 'LUNCH BAG CARS BLUE', 'LUNCH BAG PINK POLKADOT'] : 225\n",
       "['CHARLOTTE BAG SUKI DESIGN', 'WOODLAND CHARLOTTE BAG', 'CHARLOTTE BAG PINK POLKADOT', 'STRAWBERRY CHARLOTTE BAG'] : 222\n",
       "['JUMBO BAG RED RETROSPOT', 'JUMBO STORAGE BAG SUKI', 'JUMBO SHOPPER VINTAGE RED PAISLEY', 'JUMBO BAG WOODLAND ANIMALS'] : 222\n",
       ">"
      ]
     },
     "execution_count": 24,
     "metadata": {},
     "output_type": "execute_result"
    }
   ],
   "source": [
    "model.get_frequent_patterns"
   ]
  },
  {
   "cell_type": "markdown",
   "metadata": {},
   "source": [
    "\n",
    "# The table shows the most frequently used rules .\n",
    "The ordering combination clearly provides the frequently used usage patterns. This usage patterns is across contries. "
   ]
  },
  {
   "cell_type": "code",
   "execution_count": 30,
   "metadata": {
    "collapsed": false
   },
   "outputs": [
    {
     "data": {
      "text/html": [
       "<pre>Recsys training: model = ranking_factorization_recommender</pre>"
      ],
      "text/plain": [
       "Recsys training: model = ranking_factorization_recommender"
      ]
     },
     "metadata": {},
     "output_type": "display_data"
    },
    {
     "data": {
      "text/html": [
       "<pre>Preparing data set.</pre>"
      ],
      "text/plain": [
       "Preparing data set."
      ]
     },
     "metadata": {},
     "output_type": "display_data"
    },
    {
     "data": {
      "text/html": [
       "<pre>    Data has 397924 observations with 37 users and 3665 items.</pre>"
      ],
      "text/plain": [
       "    Data has 397924 observations with 37 users and 3665 items."
      ]
     },
     "metadata": {},
     "output_type": "display_data"
    },
    {
     "data": {
      "text/html": [
       "<pre>    Data prepared in: 0.95089s</pre>"
      ],
      "text/plain": [
       "    Data prepared in: 0.95089s"
      ]
     },
     "metadata": {},
     "output_type": "display_data"
    },
    {
     "data": {
      "text/html": [
       "<pre>Training ranking_factorization_recommender for recommendations.</pre>"
      ],
      "text/plain": [
       "Training ranking_factorization_recommender for recommendations."
      ]
     },
     "metadata": {},
     "output_type": "display_data"
    },
    {
     "data": {
      "text/html": [
       "<pre>+--------------------------------+--------------------------------------------------+----------+</pre>"
      ],
      "text/plain": [
       "+--------------------------------+--------------------------------------------------+----------+"
      ]
     },
     "metadata": {},
     "output_type": "display_data"
    },
    {
     "data": {
      "text/html": [
       "<pre>| Parameter                      | Description                                      | Value    |</pre>"
      ],
      "text/plain": [
       "| Parameter                      | Description                                      | Value    |"
      ]
     },
     "metadata": {},
     "output_type": "display_data"
    },
    {
     "data": {
      "text/html": [
       "<pre>+--------------------------------+--------------------------------------------------+----------+</pre>"
      ],
      "text/plain": [
       "+--------------------------------+--------------------------------------------------+----------+"
      ]
     },
     "metadata": {},
     "output_type": "display_data"
    },
    {
     "data": {
      "text/html": [
       "<pre>| num_factors                    | Factor Dimension                                 | 32       |</pre>"
      ],
      "text/plain": [
       "| num_factors                    | Factor Dimension                                 | 32       |"
      ]
     },
     "metadata": {},
     "output_type": "display_data"
    },
    {
     "data": {
      "text/html": [
       "<pre>| regularization                 | L2 Regularization on Factors                     | 1e-09    |</pre>"
      ],
      "text/plain": [
       "| regularization                 | L2 Regularization on Factors                     | 1e-09    |"
      ]
     },
     "metadata": {},
     "output_type": "display_data"
    },
    {
     "data": {
      "text/html": [
       "<pre>| solver                         | Solver used for training                         | adagrad  |</pre>"
      ],
      "text/plain": [
       "| solver                         | Solver used for training                         | adagrad  |"
      ]
     },
     "metadata": {},
     "output_type": "display_data"
    },
    {
     "data": {
      "text/html": [
       "<pre>| linear_regularization          | L2 Regularization on Linear Coefficients         | 1e-09    |</pre>"
      ],
      "text/plain": [
       "| linear_regularization          | L2 Regularization on Linear Coefficients         | 1e-09    |"
      ]
     },
     "metadata": {},
     "output_type": "display_data"
    },
    {
     "data": {
      "text/html": [
       "<pre>| ranking_regularization         | Rank-based Regularization Weight                 | 0.25     |</pre>"
      ],
      "text/plain": [
       "| ranking_regularization         | Rank-based Regularization Weight                 | 0.25     |"
      ]
     },
     "metadata": {},
     "output_type": "display_data"
    },
    {
     "data": {
      "text/html": [
       "<pre>| max_iterations                 | Maximum Number of Iterations                     | 25       |</pre>"
      ],
      "text/plain": [
       "| max_iterations                 | Maximum Number of Iterations                     | 25       |"
      ]
     },
     "metadata": {},
     "output_type": "display_data"
    },
    {
     "data": {
      "text/html": [
       "<pre>+--------------------------------+--------------------------------------------------+----------+</pre>"
      ],
      "text/plain": [
       "+--------------------------------+--------------------------------------------------+----------+"
      ]
     },
     "metadata": {},
     "output_type": "display_data"
    },
    {
     "data": {
      "text/html": [
       "<pre>  Optimizing model using SGD; tuning step size.</pre>"
      ],
      "text/plain": [
       "  Optimizing model using SGD; tuning step size."
      ]
     },
     "metadata": {},
     "output_type": "display_data"
    },
    {
     "data": {
      "text/html": [
       "<pre>  Using 49740 / 397924 points for tuning the step size.</pre>"
      ],
      "text/plain": [
       "  Using 49740 / 397924 points for tuning the step size."
      ]
     },
     "metadata": {},
     "output_type": "display_data"
    },
    {
     "data": {
      "text/html": [
       "<pre>+---------+-------------------+------------------------------------------+</pre>"
      ],
      "text/plain": [
       "+---------+-------------------+------------------------------------------+"
      ]
     },
     "metadata": {},
     "output_type": "display_data"
    },
    {
     "data": {
      "text/html": [
       "<pre>| Attempt | Initial Step Size | Estimated Objective Value                |</pre>"
      ],
      "text/plain": [
       "| Attempt | Initial Step Size | Estimated Objective Value                |"
      ]
     },
     "metadata": {},
     "output_type": "display_data"
    },
    {
     "data": {
      "text/html": [
       "<pre>+---------+-------------------+------------------------------------------+</pre>"
      ],
      "text/plain": [
       "+---------+-------------------+------------------------------------------+"
      ]
     },
     "metadata": {},
     "output_type": "display_data"
    },
    {
     "data": {
      "text/html": [
       "<pre>| 0       | 7.14286           | Not Viable                               |</pre>"
      ],
      "text/plain": [
       "| 0       | 7.14286           | Not Viable                               |"
      ]
     },
     "metadata": {},
     "output_type": "display_data"
    },
    {
     "data": {
      "text/html": [
       "<pre>| 1       | 1.78571           | Not Viable                               |</pre>"
      ],
      "text/plain": [
       "| 1       | 1.78571           | Not Viable                               |"
      ]
     },
     "metadata": {},
     "output_type": "display_data"
    },
    {
     "data": {
      "text/html": [
       "<pre>| 2       | 0.446429          | 140585                                   |</pre>"
      ],
      "text/plain": [
       "| 2       | 0.446429          | 140585                                   |"
      ]
     },
     "metadata": {},
     "output_type": "display_data"
    },
    {
     "data": {
      "text/html": [
       "<pre>| 3       | 0.223214          | No Decrease (146255 >= 143467)           |</pre>"
      ],
      "text/plain": [
       "| 3       | 0.223214          | No Decrease (146255 >= 143467)           |"
      ]
     },
     "metadata": {},
     "output_type": "display_data"
    },
    {
     "data": {
      "text/html": [
       "<pre>| 4       | 0.0558036         | 142891                                   |</pre>"
      ],
      "text/plain": [
       "| 4       | 0.0558036         | 142891                                   |"
      ]
     },
     "metadata": {},
     "output_type": "display_data"
    },
    {
     "data": {
      "text/html": [
       "<pre>| 5       | 0.0279018         | 143028                                   |</pre>"
      ],
      "text/plain": [
       "| 5       | 0.0279018         | 143028                                   |"
      ]
     },
     "metadata": {},
     "output_type": "display_data"
    },
    {
     "data": {
      "text/html": [
       "<pre>+---------+-------------------+------------------------------------------+</pre>"
      ],
      "text/plain": [
       "+---------+-------------------+------------------------------------------+"
      ]
     },
     "metadata": {},
     "output_type": "display_data"
    },
    {
     "data": {
      "text/html": [
       "<pre>| Final   | 0.446429          | 140585                                   |</pre>"
      ],
      "text/plain": [
       "| Final   | 0.446429          | 140585                                   |"
      ]
     },
     "metadata": {},
     "output_type": "display_data"
    },
    {
     "data": {
      "text/html": [
       "<pre>+---------+-------------------+------------------------------------------+</pre>"
      ],
      "text/plain": [
       "+---------+-------------------+------------------------------------------+"
      ]
     },
     "metadata": {},
     "output_type": "display_data"
    },
    {
     "data": {
      "text/html": [
       "<pre>Starting Optimization.</pre>"
      ],
      "text/plain": [
       "Starting Optimization."
      ]
     },
     "metadata": {},
     "output_type": "display_data"
    },
    {
     "data": {
      "text/html": [
       "<pre>+---------+--------------+-------------------+-----------------------+-------------+</pre>"
      ],
      "text/plain": [
       "+---------+--------------+-------------------+-----------------------+-------------+"
      ]
     },
     "metadata": {},
     "output_type": "display_data"
    },
    {
     "data": {
      "text/html": [
       "<pre>| Iter.   | Elapsed Time | Approx. Objective | Approx. Training RMSE | Step Size   |</pre>"
      ],
      "text/plain": [
       "| Iter.   | Elapsed Time | Approx. Objective | Approx. Training RMSE | Step Size   |"
      ]
     },
     "metadata": {},
     "output_type": "display_data"
    },
    {
     "data": {
      "text/html": [
       "<pre>+---------+--------------+-------------------+-----------------------+-------------+</pre>"
      ],
      "text/plain": [
       "+---------+--------------+-------------------+-----------------------+-------------+"
      ]
     },
     "metadata": {},
     "output_type": "display_data"
    },
    {
     "data": {
      "text/html": [
       "<pre>| Initial | 1.226ms      | 63813.8           | 180.42                |             |</pre>"
      ],
      "text/plain": [
       "| Initial | 1.226ms      | 63813.8           | 180.42                |             |"
      ]
     },
     "metadata": {},
     "output_type": "display_data"
    },
    {
     "data": {
      "text/html": [
       "<pre>+---------+--------------+-------------------+-----------------------+-------------+</pre>"
      ],
      "text/plain": [
       "+---------+--------------+-------------------+-----------------------+-------------+"
      ]
     },
     "metadata": {},
     "output_type": "display_data"
    },
    {
     "data": {
      "text/html": [
       "<pre>| 1       | 4.09s        | DIVERGED          | DIVERGED              | 0.446429    |</pre>"
      ],
      "text/plain": [
       "| 1       | 4.09s        | DIVERGED          | DIVERGED              | 0.446429    |"
      ]
     },
     "metadata": {},
     "output_type": "display_data"
    },
    {
     "data": {
      "text/html": [
       "<pre>| RESET   | 5.18s        | 63813.8           | 180.42                |             |</pre>"
      ],
      "text/plain": [
       "| RESET   | 5.18s        | 63813.8           | 180.42                |             |"
      ]
     },
     "metadata": {},
     "output_type": "display_data"
    },
    {
     "data": {
      "text/html": [
       "<pre>| 1       | 9.24s        | DIVERGED          | DIVERGED              | 0.223214    |</pre>"
      ],
      "text/plain": [
       "| 1       | 9.24s        | DIVERGED          | DIVERGED              | 0.223214    |"
      ]
     },
     "metadata": {},
     "output_type": "display_data"
    },
    {
     "data": {
      "text/html": [
       "<pre>| RESET   | 10.40s       | 63813.8           | 180.42                |             |</pre>"
      ],
      "text/plain": [
       "| RESET   | 10.40s       | 63813.8           | 180.42                |             |"
      ]
     },
     "metadata": {},
     "output_type": "display_data"
    },
    {
     "data": {
      "text/html": [
       "<pre>| 1       | 14.08s       | 34517.5           | 181.403               | 0.111607    |</pre>"
      ],
      "text/plain": [
       "| 1       | 14.08s       | 34517.5           | 181.403               | 0.111607    |"
      ]
     },
     "metadata": {},
     "output_type": "display_data"
    },
    {
     "data": {
      "text/html": [
       "<pre>| 2       | 17.34s       | 34499.6           | 181.527               | 0.111607    |</pre>"
      ],
      "text/plain": [
       "| 2       | 17.34s       | 34499.6           | 181.527               | 0.111607    |"
      ]
     },
     "metadata": {},
     "output_type": "display_data"
    },
    {
     "data": {
      "text/html": [
       "<pre>| 3       | 21.17s       | 34307.8           | 181.195               | 0.111607    |</pre>"
      ],
      "text/plain": [
       "| 3       | 21.17s       | 34307.8           | 181.195               | 0.111607    |"
      ]
     },
     "metadata": {},
     "output_type": "display_data"
    },
    {
     "data": {
      "text/html": [
       "<pre>| 4       | 23.89s       | 34249.8           | 181.085               | 0.111607    |</pre>"
      ],
      "text/plain": [
       "| 4       | 23.89s       | 34249.8           | 181.085               | 0.111607    |"
      ]
     },
     "metadata": {},
     "output_type": "display_data"
    },
    {
     "data": {
      "text/html": [
       "<pre>| 5       | 26.51s       | 34283.8           | 181.122               | 0.111607    |</pre>"
      ],
      "text/plain": [
       "| 5       | 26.51s       | 34283.8           | 181.122               | 0.111607    |"
      ]
     },
     "metadata": {},
     "output_type": "display_data"
    },
    {
     "data": {
      "text/html": [
       "<pre>| 6       | 29.83s       | 34184.8           | 180.938               | 0.111607    |</pre>"
      ],
      "text/plain": [
       "| 6       | 29.83s       | 34184.8           | 180.938               | 0.111607    |"
      ]
     },
     "metadata": {},
     "output_type": "display_data"
    },
    {
     "data": {
      "text/html": [
       "<pre>| 7       | 32.87s       | 34201             | 180.95                | 0.111607    |</pre>"
      ],
      "text/plain": [
       "| 7       | 32.87s       | 34201             | 180.95                | 0.111607    |"
      ]
     },
     "metadata": {},
     "output_type": "display_data"
    },
    {
     "data": {
      "text/html": [
       "<pre>| 8       | 35.84s       | 34158.5           | 180.869               | 0.111607    |</pre>"
      ],
      "text/plain": [
       "| 8       | 35.84s       | 34158.5           | 180.869               | 0.111607    |"
      ]
     },
     "metadata": {},
     "output_type": "display_data"
    },
    {
     "data": {
      "text/html": [
       "<pre>| 9       | 38.65s       | 34241.4           | 180.998               | 0.111607    |</pre>"
      ],
      "text/plain": [
       "| 9       | 38.65s       | 34241.4           | 180.998               | 0.111607    |"
      ]
     },
     "metadata": {},
     "output_type": "display_data"
    },
    {
     "data": {
      "text/html": [
       "<pre>| 10      | 41.97s       | 34161.5           | 180.925               | 0.111607    |</pre>"
      ],
      "text/plain": [
       "| 10      | 41.97s       | 34161.5           | 180.925               | 0.111607    |"
      ]
     },
     "metadata": {},
     "output_type": "display_data"
    },
    {
     "data": {
      "text/html": [
       "<pre>| 11      | 46.26s       | 34186.6           | 181.061               | 0.111607    |</pre>"
      ],
      "text/plain": [
       "| 11      | 46.26s       | 34186.6           | 181.061               | 0.111607    |"
      ]
     },
     "metadata": {},
     "output_type": "display_data"
    },
    {
     "data": {
      "text/html": [
       "<pre>| 12      | 49.64s       | 34263.2           | 181.14                | 0.111607    |</pre>"
      ],
      "text/plain": [
       "| 12      | 49.64s       | 34263.2           | 181.14                | 0.111607    |"
      ]
     },
     "metadata": {},
     "output_type": "display_data"
    },
    {
     "data": {
      "text/html": [
       "<pre>| 13      | 52.96s       | 34257             | 181.269               | 0.111607    |</pre>"
      ],
      "text/plain": [
       "| 13      | 52.96s       | 34257             | 181.269               | 0.111607    |"
      ]
     },
     "metadata": {},
     "output_type": "display_data"
    },
    {
     "data": {
      "text/html": [
       "<pre>| 14      | 56.22s       | 34264.3           | 181.312               | 0.111607    |</pre>"
      ],
      "text/plain": [
       "| 14      | 56.22s       | 34264.3           | 181.312               | 0.111607    |"
      ]
     },
     "metadata": {},
     "output_type": "display_data"
    },
    {
     "data": {
      "text/html": [
       "<pre>| 15      | 58.92s       | 34287             | 181.203               | 0.111607    |</pre>"
      ],
      "text/plain": [
       "| 15      | 58.92s       | 34287             | 181.203               | 0.111607    |"
      ]
     },
     "metadata": {},
     "output_type": "display_data"
    },
    {
     "data": {
      "text/html": [
       "<pre>| 16      | 1m 2s        | 34372.6           | 181.198               | 0.111607    |</pre>"
      ],
      "text/plain": [
       "| 16      | 1m 2s        | 34372.6           | 181.198               | 0.111607    |"
      ]
     },
     "metadata": {},
     "output_type": "display_data"
    },
    {
     "data": {
      "text/html": [
       "<pre>| 17      | 1m 5s        | 34191             | 181.158               | 0.111607    |</pre>"
      ],
      "text/plain": [
       "| 17      | 1m 5s        | 34191             | 181.158               | 0.111607    |"
      ]
     },
     "metadata": {},
     "output_type": "display_data"
    },
    {
     "data": {
      "text/html": [
       "<pre>| 18      | 1m 8s        | 34193.1           | 181.093               | 0.111607    |</pre>"
      ],
      "text/plain": [
       "| 18      | 1m 8s        | 34193.1           | 181.093               | 0.111607    |"
      ]
     },
     "metadata": {},
     "output_type": "display_data"
    },
    {
     "data": {
      "text/html": [
       "<pre>| 19      | 1m 11s       | 34177.8           | 181.128               | 0.111607    |</pre>"
      ],
      "text/plain": [
       "| 19      | 1m 11s       | 34177.8           | 181.128               | 0.111607    |"
      ]
     },
     "metadata": {},
     "output_type": "display_data"
    },
    {
     "data": {
      "text/html": [
       "<pre>| 20      | 1m 14s       | 34230.5           | 181.243               | 0.111607    |</pre>"
      ],
      "text/plain": [
       "| 20      | 1m 14s       | 34230.5           | 181.243               | 0.111607    |"
      ]
     },
     "metadata": {},
     "output_type": "display_data"
    },
    {
     "data": {
      "text/html": [
       "<pre>| 21      | 1m 16s       | 34374.7           | 181.411               | 0.111607    |</pre>"
      ],
      "text/plain": [
       "| 21      | 1m 16s       | 34374.7           | 181.411               | 0.111607    |"
      ]
     },
     "metadata": {},
     "output_type": "display_data"
    },
    {
     "data": {
      "text/html": [
       "<pre>| 22      | 1m 20s       | 34385             | 181.666               | 0.111607    |</pre>"
      ],
      "text/plain": [
       "| 22      | 1m 20s       | 34385             | 181.666               | 0.111607    |"
      ]
     },
     "metadata": {},
     "output_type": "display_data"
    },
    {
     "data": {
      "text/html": [
       "<pre>| 23      | 1m 23s       | 34354.9           | 181.61                | 0.111607    |</pre>"
      ],
      "text/plain": [
       "| 23      | 1m 23s       | 34354.9           | 181.61                | 0.111607    |"
      ]
     },
     "metadata": {},
     "output_type": "display_data"
    },
    {
     "data": {
      "text/html": [
       "<pre>| 24      | 1m 26s       | 34339.7           | 181.573               | 0.111607    |</pre>"
      ],
      "text/plain": [
       "| 24      | 1m 26s       | 34339.7           | 181.573               | 0.111607    |"
      ]
     },
     "metadata": {},
     "output_type": "display_data"
    },
    {
     "data": {
      "text/html": [
       "<pre>| 25      | 1m 29s       | 34393.6           | 181.727               | 0.111607    |</pre>"
      ],
      "text/plain": [
       "| 25      | 1m 29s       | 34393.6           | 181.727               | 0.111607    |"
      ]
     },
     "metadata": {},
     "output_type": "display_data"
    },
    {
     "data": {
      "text/html": [
       "<pre>+---------+--------------+-------------------+-----------------------+-------------+</pre>"
      ],
      "text/plain": [
       "+---------+--------------+-------------------+-----------------------+-------------+"
      ]
     },
     "metadata": {},
     "output_type": "display_data"
    },
    {
     "data": {
      "text/html": [
       "<pre>Optimization Complete: Maximum number of passes through the data reached.</pre>"
      ],
      "text/plain": [
       "Optimization Complete: Maximum number of passes through the data reached."
      ]
     },
     "metadata": {},
     "output_type": "display_data"
    },
    {
     "data": {
      "text/html": [
       "<pre>Computing final objective value and training RMSE.</pre>"
      ],
      "text/plain": [
       "Computing final objective value and training RMSE."
      ]
     },
     "metadata": {},
     "output_type": "display_data"
    },
    {
     "data": {
      "text/html": [
       "<pre>       Final objective value: 63771.6</pre>"
      ],
      "text/plain": [
       "       Final objective value: 63771.6"
      ]
     },
     "metadata": {},
     "output_type": "display_data"
    },
    {
     "data": {
      "text/html": [
       "<pre>       Final training RMSE: 181.518</pre>"
      ],
      "text/plain": [
       "       Final training RMSE: 181.518"
      ]
     },
     "metadata": {},
     "output_type": "display_data"
    }
   ],
   "source": [
    "# Drop Na columns\n",
    "sf = sf.dropna()\n",
    "# Start Recommendation Engine \n",
    "model = gl.recommender.create(sf,user_id=\"Country\",item_id=\"StockCode\",target=\"Quantity\")\n",
    "# Top 10 Recommendation by country\n",
    "results = model.recommend(users=None,k=10)"
   ]
  },
  {
   "cell_type": "markdown",
   "metadata": {},
   "source": [
    "# Usage Pattern \n",
    "The table below shows the usage pattern for Japan "
   ]
  },
  {
   "cell_type": "code",
   "execution_count": 60,
   "metadata": {
    "collapsed": false
   },
   "outputs": [
    {
     "data": {
      "text/html": [
       "<div style=\"max-height:1000px;max-width:1500px;overflow:auto;\"><table frame=\"box\" rules=\"cols\">\n",
       "    <tr>\n",
       "        <th style=\"padding-left: 1em; padding-right: 1em; text-align: center\">Country</th>\n",
       "        <th style=\"padding-left: 1em; padding-right: 1em; text-align: center\">StockCode</th>\n",
       "        <th style=\"padding-left: 1em; padding-right: 1em; text-align: center\">score</th>\n",
       "        <th style=\"padding-left: 1em; padding-right: 1em; text-align: center\">rank</th>\n",
       "    </tr>\n",
       "    <tr>\n",
       "        <td style=\"padding-left: 1em; padding-right: 1em; text-align: center; vertical-align: top\">Japan</td>\n",
       "        <td style=\"padding-left: 1em; padding-right: 1em; text-align: center; vertical-align: top\">17003</td>\n",
       "        <td style=\"padding-left: 1em; padding-right: 1em; text-align: center; vertical-align: top\">20.1053513286</td>\n",
       "        <td style=\"padding-left: 1em; padding-right: 1em; text-align: center; vertical-align: top\">1</td>\n",
       "    </tr>\n",
       "    <tr>\n",
       "        <td style=\"padding-left: 1em; padding-right: 1em; text-align: center; vertical-align: top\">Japan</td>\n",
       "        <td style=\"padding-left: 1em; padding-right: 1em; text-align: center; vertical-align: top\">22693</td>\n",
       "        <td style=\"padding-left: 1em; padding-right: 1em; text-align: center; vertical-align: top\">18.584721565</td>\n",
       "        <td style=\"padding-left: 1em; padding-right: 1em; text-align: center; vertical-align: top\">2</td>\n",
       "    </tr>\n",
       "    <tr>\n",
       "        <td style=\"padding-left: 1em; padding-right: 1em; text-align: center; vertical-align: top\">Japan</td>\n",
       "        <td style=\"padding-left: 1em; padding-right: 1em; text-align: center; vertical-align: top\">23166</td>\n",
       "        <td style=\"padding-left: 1em; padding-right: 1em; text-align: center; vertical-align: top\">18.3380244968</td>\n",
       "        <td style=\"padding-left: 1em; padding-right: 1em; text-align: center; vertical-align: top\">3</td>\n",
       "    </tr>\n",
       "    <tr>\n",
       "        <td style=\"padding-left: 1em; padding-right: 1em; text-align: center; vertical-align: top\">Japan</td>\n",
       "        <td style=\"padding-left: 1em; padding-right: 1em; text-align: center; vertical-align: top\">15036</td>\n",
       "        <td style=\"padding-left: 1em; padding-right: 1em; text-align: center; vertical-align: top\">18.2164160011</td>\n",
       "        <td style=\"padding-left: 1em; padding-right: 1em; text-align: center; vertical-align: top\">4</td>\n",
       "    </tr>\n",
       "    <tr>\n",
       "        <td style=\"padding-left: 1em; padding-right: 1em; text-align: center; vertical-align: top\">Japan</td>\n",
       "        <td style=\"padding-left: 1em; padding-right: 1em; text-align: center; vertical-align: top\">85099B</td>\n",
       "        <td style=\"padding-left: 1em; padding-right: 1em; text-align: center; vertical-align: top\">18.2015609739</td>\n",
       "        <td style=\"padding-left: 1em; padding-right: 1em; text-align: center; vertical-align: top\">5</td>\n",
       "    </tr>\n",
       "    <tr>\n",
       "        <td style=\"padding-left: 1em; padding-right: 1em; text-align: center; vertical-align: top\">Japan</td>\n",
       "        <td style=\"padding-left: 1em; padding-right: 1em; text-align: center; vertical-align: top\">21212</td>\n",
       "        <td style=\"padding-left: 1em; padding-right: 1em; text-align: center; vertical-align: top\">18.040091276</td>\n",
       "        <td style=\"padding-left: 1em; padding-right: 1em; text-align: center; vertical-align: top\">6</td>\n",
       "    </tr>\n",
       "    <tr>\n",
       "        <td style=\"padding-left: 1em; padding-right: 1em; text-align: center; vertical-align: top\">Japan</td>\n",
       "        <td style=\"padding-left: 1em; padding-right: 1em; text-align: center; vertical-align: top\">21977</td>\n",
       "        <td style=\"padding-left: 1em; padding-right: 1em; text-align: center; vertical-align: top\">17.5992105005</td>\n",
       "        <td style=\"padding-left: 1em; padding-right: 1em; text-align: center; vertical-align: top\">7</td>\n",
       "    </tr>\n",
       "    <tr>\n",
       "        <td style=\"padding-left: 1em; padding-right: 1em; text-align: center; vertical-align: top\">Japan</td>\n",
       "        <td style=\"padding-left: 1em; padding-right: 1em; text-align: center; vertical-align: top\">84879</td>\n",
       "        <td style=\"padding-left: 1em; padding-right: 1em; text-align: center; vertical-align: top\">17.4928126333</td>\n",
       "        <td style=\"padding-left: 1em; padding-right: 1em; text-align: center; vertical-align: top\">8</td>\n",
       "    </tr>\n",
       "    <tr>\n",
       "        <td style=\"padding-left: 1em; padding-right: 1em; text-align: center; vertical-align: top\">Japan</td>\n",
       "        <td style=\"padding-left: 1em; padding-right: 1em; text-align: center; vertical-align: top\">22629</td>\n",
       "        <td style=\"padding-left: 1em; padding-right: 1em; text-align: center; vertical-align: top\">17.3428758381</td>\n",
       "        <td style=\"padding-left: 1em; padding-right: 1em; text-align: center; vertical-align: top\">9</td>\n",
       "    </tr>\n",
       "    <tr>\n",
       "        <td style=\"padding-left: 1em; padding-right: 1em; text-align: center; vertical-align: top\">Japan</td>\n",
       "        <td style=\"padding-left: 1em; padding-right: 1em; text-align: center; vertical-align: top\">POST</td>\n",
       "        <td style=\"padding-left: 1em; padding-right: 1em; text-align: center; vertical-align: top\">17.2755560873</td>\n",
       "        <td style=\"padding-left: 1em; padding-right: 1em; text-align: center; vertical-align: top\">10</td>\n",
       "    </tr>\n",
       "</table>\n",
       "[30 rows x 4 columns]<br/>Note: Only the head of the SFrame is printed.<br/>You can use print_rows(num_rows=m, num_columns=n) to print more rows and columns.\n",
       "</div>"
      ],
      "text/plain": [
       "Columns:\n",
       "\tCountry\tstr\n",
       "\tStockCode\tstr\n",
       "\tscore\tfloat\n",
       "\trank\tint\n",
       "\n",
       "Rows: 30\n",
       "\n",
       "Data:\n",
       "+---------+-----------+---------------+------+\n",
       "| Country | StockCode |     score     | rank |\n",
       "+---------+-----------+---------------+------+\n",
       "|  Japan  |   17003   | 20.1053513286 |  1   |\n",
       "|  Japan  |   22693   |  18.584721565 |  2   |\n",
       "|  Japan  |   23166   | 18.3380244968 |  3   |\n",
       "|  Japan  |   15036   | 18.2164160011 |  4   |\n",
       "|  Japan  |   85099B  | 18.2015609739 |  5   |\n",
       "|  Japan  |   21212   |  18.040091276 |  6   |\n",
       "|  Japan  |   21977   | 17.5992105005 |  7   |\n",
       "|  Japan  |   84879   | 17.4928126333 |  8   |\n",
       "|  Japan  |   22629   | 17.3428758381 |  9   |\n",
       "|  Japan  |    POST   | 17.2755560873 |  10  |\n",
       "+---------+-----------+---------------+------+\n",
       "[30 rows x 4 columns]\n",
       "Note: Only the head of the SFrame is printed.\n",
       "You can use print_rows(num_rows=m, num_columns=n) to print more rows and columns."
      ]
     },
     "execution_count": 60,
     "metadata": {},
     "output_type": "execute_result"
    }
   ],
   "source": [
    "results  "
   ]
  },
  {
   "cell_type": "markdown",
   "metadata": {},
   "source": [
    "# Building a Recommendation Engine\n",
    "The training and test data sets are split using a propotion mechanism . The recommendation engine is set up with the default parameters"
   ]
  },
  {
   "cell_type": "code",
   "execution_count": 32,
   "metadata": {
    "collapsed": true
   },
   "outputs": [],
   "source": [
    "train, test = gl.recommender.util.random_split_by_user(sf, user_id = 'Country', item_id = \"StockCode\", \n",
    "                                                       max_num_users = 500, item_test_proportion = .2)"
   ]
  },
  {
   "cell_type": "code",
   "execution_count": 33,
   "metadata": {
    "collapsed": false
   },
   "outputs": [
    {
     "name": "stderr",
     "output_type": "stream",
     "text": [
      "[INFO] graphlab.deploy.job: Validating job.\n",
      "[INFO] graphlab.deploy.job: Creating a LocalAsync environment called 'async'.\n",
      "[INFO] graphlab.deploy.map_job: Validation complete. Job: 'Model-Parameter-Search-Dec-11-2016-12-19-4500000' ready for execution\n",
      "[INFO] graphlab.deploy.map_job: Job: 'Model-Parameter-Search-Dec-11-2016-12-19-4500000' scheduled.\n",
      "[INFO] graphlab.deploy.job: Validating job.\n",
      "[INFO] graphlab.deploy.map_job: A job with name 'Model-Parameter-Search-Dec-11-2016-12-19-4500000' already exists. Renaming the job to 'Model-Parameter-Search-Dec-11-2016-12-19-4500000-ebf0f'.\n",
      "[INFO] graphlab.deploy.map_job: Validation complete. Job: 'Model-Parameter-Search-Dec-11-2016-12-19-4500000-ebf0f' ready for execution\n",
      "[INFO] graphlab.deploy.map_job: Job: 'Model-Parameter-Search-Dec-11-2016-12-19-4500000-ebf0f' scheduled.\n",
      "[INFO] graphlab.deploy.job: Validating job.\n",
      "[INFO] graphlab.deploy.map_job: Validation complete. Job: 'Model-Parameter-Search-Dec-11-2016-12-19-4500001' ready for execution\n",
      "[INFO] graphlab.deploy.map_job: Job: 'Model-Parameter-Search-Dec-11-2016-12-19-4500001' scheduled.\n"
     ]
    }
   ],
   "source": [
    "params = {'user_id':'Country',\n",
    "         'item_id': \"StockCode\",\n",
    "         'target': 'Quantity',\n",
    "         'num_factors': [10,32,50] ,\n",
    "         'regularization':[.000000001,.01],\n",
    "         'linear_regularization':[.000000001,.01]}\n",
    "job = gl.model_parameter_search.create((train, test), gl.recommender.ranking_factorization_recommender.create, params, \n",
    "                                       max_models = 12, environment = None)"
   ]
  },
  {
   "cell_type": "code",
   "execution_count": 41,
   "metadata": {
    "collapsed": false
   },
   "outputs": [
    {
     "data": {
      "text/plain": [
       "{'Canceled': 0, 'Completed': 12, 'Failed': 0, 'Pending': 0, 'Running': 0}"
      ]
     },
     "execution_count": 41,
     "metadata": {},
     "output_type": "execute_result"
    }
   ],
   "source": [
    " job.get_status()\n"
   ]
  },
  {
   "cell_type": "code",
   "execution_count": 42,
   "metadata": {
    "collapsed": true
   },
   "outputs": [],
   "source": [
    "job_result = job.get_results()"
   ]
  },
  {
   "cell_type": "code",
   "execution_count": 43,
   "metadata": {
    "collapsed": false
   },
   "outputs": [
    {
     "data": {
      "text/html": [
       "<div style=\"max-height:1000px;max-width:1500px;overflow:auto;\"><table frame=\"box\" rules=\"cols\">\n",
       "    <tr>\n",
       "        <th style=\"padding-left: 1em; padding-right: 1em; text-align: center\">model_id</th>\n",
       "        <th style=\"padding-left: 1em; padding-right: 1em; text-align: center\">item_id</th>\n",
       "        <th style=\"padding-left: 1em; padding-right: 1em; text-align: center\">linear_regularization</th>\n",
       "        <th style=\"padding-left: 1em; padding-right: 1em; text-align: center\">max_iterations</th>\n",
       "        <th style=\"padding-left: 1em; padding-right: 1em; text-align: center\">num_factors</th>\n",
       "        <th style=\"padding-left: 1em; padding-right: 1em; text-align: center\">num_sampled_negative_exam<br>ples ...</th>\n",
       "        <th style=\"padding-left: 1em; padding-right: 1em; text-align: center\">ranking_regularization</th>\n",
       "    </tr>\n",
       "    <tr>\n",
       "        <td style=\"padding-left: 1em; padding-right: 1em; text-align: center; vertical-align: top\">9</td>\n",
       "        <td style=\"padding-left: 1em; padding-right: 1em; text-align: center; vertical-align: top\">StockCode</td>\n",
       "        <td style=\"padding-left: 1em; padding-right: 1em; text-align: center; vertical-align: top\">0.01</td>\n",
       "        <td style=\"padding-left: 1em; padding-right: 1em; text-align: center; vertical-align: top\">50</td>\n",
       "        <td style=\"padding-left: 1em; padding-right: 1em; text-align: center; vertical-align: top\">50</td>\n",
       "        <td style=\"padding-left: 1em; padding-right: 1em; text-align: center; vertical-align: top\">8</td>\n",
       "        <td style=\"padding-left: 1em; padding-right: 1em; text-align: center; vertical-align: top\">0.1</td>\n",
       "    </tr>\n",
       "    <tr>\n",
       "        <td style=\"padding-left: 1em; padding-right: 1em; text-align: center; vertical-align: top\">8</td>\n",
       "        <td style=\"padding-left: 1em; padding-right: 1em; text-align: center; vertical-align: top\">StockCode</td>\n",
       "        <td style=\"padding-left: 1em; padding-right: 1em; text-align: center; vertical-align: top\">0.01</td>\n",
       "        <td style=\"padding-left: 1em; padding-right: 1em; text-align: center; vertical-align: top\">25</td>\n",
       "        <td style=\"padding-left: 1em; padding-right: 1em; text-align: center; vertical-align: top\">50</td>\n",
       "        <td style=\"padding-left: 1em; padding-right: 1em; text-align: center; vertical-align: top\">8</td>\n",
       "        <td style=\"padding-left: 1em; padding-right: 1em; text-align: center; vertical-align: top\">0.1</td>\n",
       "    </tr>\n",
       "    <tr>\n",
       "        <td style=\"padding-left: 1em; padding-right: 1em; text-align: center; vertical-align: top\">1</td>\n",
       "        <td style=\"padding-left: 1em; padding-right: 1em; text-align: center; vertical-align: top\">StockCode</td>\n",
       "        <td style=\"padding-left: 1em; padding-right: 1em; text-align: center; vertical-align: top\">0.01</td>\n",
       "        <td style=\"padding-left: 1em; padding-right: 1em; text-align: center; vertical-align: top\">25</td>\n",
       "        <td style=\"padding-left: 1em; padding-right: 1em; text-align: center; vertical-align: top\">50</td>\n",
       "        <td style=\"padding-left: 1em; padding-right: 1em; text-align: center; vertical-align: top\">4</td>\n",
       "        <td style=\"padding-left: 1em; padding-right: 1em; text-align: center; vertical-align: top\">0.1</td>\n",
       "    </tr>\n",
       "    <tr>\n",
       "        <td style=\"padding-left: 1em; padding-right: 1em; text-align: center; vertical-align: top\">0</td>\n",
       "        <td style=\"padding-left: 1em; padding-right: 1em; text-align: center; vertical-align: top\">StockCode</td>\n",
       "        <td style=\"padding-left: 1em; padding-right: 1em; text-align: center; vertical-align: top\">0.01</td>\n",
       "        <td style=\"padding-left: 1em; padding-right: 1em; text-align: center; vertical-align: top\">50</td>\n",
       "        <td style=\"padding-left: 1em; padding-right: 1em; text-align: center; vertical-align: top\">50</td>\n",
       "        <td style=\"padding-left: 1em; padding-right: 1em; text-align: center; vertical-align: top\">4</td>\n",
       "        <td style=\"padding-left: 1em; padding-right: 1em; text-align: center; vertical-align: top\">0.5</td>\n",
       "    </tr>\n",
       "    <tr>\n",
       "        <td style=\"padding-left: 1em; padding-right: 1em; text-align: center; vertical-align: top\">3</td>\n",
       "        <td style=\"padding-left: 1em; padding-right: 1em; text-align: center; vertical-align: top\">StockCode</td>\n",
       "        <td style=\"padding-left: 1em; padding-right: 1em; text-align: center; vertical-align: top\">1e-09</td>\n",
       "        <td style=\"padding-left: 1em; padding-right: 1em; text-align: center; vertical-align: top\">50</td>\n",
       "        <td style=\"padding-left: 1em; padding-right: 1em; text-align: center; vertical-align: top\">50</td>\n",
       "        <td style=\"padding-left: 1em; padding-right: 1em; text-align: center; vertical-align: top\">8</td>\n",
       "        <td style=\"padding-left: 1em; padding-right: 1em; text-align: center; vertical-align: top\">0.5</td>\n",
       "    </tr>\n",
       "    <tr>\n",
       "        <td style=\"padding-left: 1em; padding-right: 1em; text-align: center; vertical-align: top\">2</td>\n",
       "        <td style=\"padding-left: 1em; padding-right: 1em; text-align: center; vertical-align: top\">StockCode</td>\n",
       "        <td style=\"padding-left: 1em; padding-right: 1em; text-align: center; vertical-align: top\">1e-09</td>\n",
       "        <td style=\"padding-left: 1em; padding-right: 1em; text-align: center; vertical-align: top\">25</td>\n",
       "        <td style=\"padding-left: 1em; padding-right: 1em; text-align: center; vertical-align: top\">32</td>\n",
       "        <td style=\"padding-left: 1em; padding-right: 1em; text-align: center; vertical-align: top\">8</td>\n",
       "        <td style=\"padding-left: 1em; padding-right: 1em; text-align: center; vertical-align: top\">0.5</td>\n",
       "    </tr>\n",
       "    <tr>\n",
       "        <td style=\"padding-left: 1em; padding-right: 1em; text-align: center; vertical-align: top\">5</td>\n",
       "        <td style=\"padding-left: 1em; padding-right: 1em; text-align: center; vertical-align: top\">StockCode</td>\n",
       "        <td style=\"padding-left: 1em; padding-right: 1em; text-align: center; vertical-align: top\">0.01</td>\n",
       "        <td style=\"padding-left: 1em; padding-right: 1em; text-align: center; vertical-align: top\">25</td>\n",
       "        <td style=\"padding-left: 1em; padding-right: 1em; text-align: center; vertical-align: top\">50</td>\n",
       "        <td style=\"padding-left: 1em; padding-right: 1em; text-align: center; vertical-align: top\">4</td>\n",
       "        <td style=\"padding-left: 1em; padding-right: 1em; text-align: center; vertical-align: top\">0.1</td>\n",
       "    </tr>\n",
       "    <tr>\n",
       "        <td style=\"padding-left: 1em; padding-right: 1em; text-align: center; vertical-align: top\">4</td>\n",
       "        <td style=\"padding-left: 1em; padding-right: 1em; text-align: center; vertical-align: top\">StockCode</td>\n",
       "        <td style=\"padding-left: 1em; padding-right: 1em; text-align: center; vertical-align: top\">1e-09</td>\n",
       "        <td style=\"padding-left: 1em; padding-right: 1em; text-align: center; vertical-align: top\">25</td>\n",
       "        <td style=\"padding-left: 1em; padding-right: 1em; text-align: center; vertical-align: top\">50</td>\n",
       "        <td style=\"padding-left: 1em; padding-right: 1em; text-align: center; vertical-align: top\">8</td>\n",
       "        <td style=\"padding-left: 1em; padding-right: 1em; text-align: center; vertical-align: top\">0.5</td>\n",
       "    </tr>\n",
       "    <tr>\n",
       "        <td style=\"padding-left: 1em; padding-right: 1em; text-align: center; vertical-align: top\">7</td>\n",
       "        <td style=\"padding-left: 1em; padding-right: 1em; text-align: center; vertical-align: top\">StockCode</td>\n",
       "        <td style=\"padding-left: 1em; padding-right: 1em; text-align: center; vertical-align: top\">0.01</td>\n",
       "        <td style=\"padding-left: 1em; padding-right: 1em; text-align: center; vertical-align: top\">25</td>\n",
       "        <td style=\"padding-left: 1em; padding-right: 1em; text-align: center; vertical-align: top\">10</td>\n",
       "        <td style=\"padding-left: 1em; padding-right: 1em; text-align: center; vertical-align: top\">8</td>\n",
       "        <td style=\"padding-left: 1em; padding-right: 1em; text-align: center; vertical-align: top\">0.5</td>\n",
       "    </tr>\n",
       "    <tr>\n",
       "        <td style=\"padding-left: 1em; padding-right: 1em; text-align: center; vertical-align: top\">6</td>\n",
       "        <td style=\"padding-left: 1em; padding-right: 1em; text-align: center; vertical-align: top\">StockCode</td>\n",
       "        <td style=\"padding-left: 1em; padding-right: 1em; text-align: center; vertical-align: top\">1e-09</td>\n",
       "        <td style=\"padding-left: 1em; padding-right: 1em; text-align: center; vertical-align: top\">25</td>\n",
       "        <td style=\"padding-left: 1em; padding-right: 1em; text-align: center; vertical-align: top\">50</td>\n",
       "        <td style=\"padding-left: 1em; padding-right: 1em; text-align: center; vertical-align: top\">8</td>\n",
       "        <td style=\"padding-left: 1em; padding-right: 1em; text-align: center; vertical-align: top\">0.5</td>\n",
       "    </tr>\n",
       "</table>\n",
       "<table frame=\"box\" rules=\"cols\">\n",
       "    <tr>\n",
       "        <th style=\"padding-left: 1em; padding-right: 1em; text-align: center\">regularization</th>\n",
       "        <th style=\"padding-left: 1em; padding-right: 1em; text-align: center\">target</th>\n",
       "        <th style=\"padding-left: 1em; padding-right: 1em; text-align: center\">user_id</th>\n",
       "        <th style=\"padding-left: 1em; padding-right: 1em; text-align: center\">training_precision@5</th>\n",
       "        <th style=\"padding-left: 1em; padding-right: 1em; text-align: center\">training_recall@5</th>\n",
       "        <th style=\"padding-left: 1em; padding-right: 1em; text-align: center\">training_rmse</th>\n",
       "        <th style=\"padding-left: 1em; padding-right: 1em; text-align: center\">validation_precision@5</th>\n",
       "    </tr>\n",
       "    <tr>\n",
       "        <td style=\"padding-left: 1em; padding-right: 1em; text-align: center; vertical-align: top\">1e-09</td>\n",
       "        <td style=\"padding-left: 1em; padding-right: 1em; text-align: center; vertical-align: top\">Quantity</td>\n",
       "        <td style=\"padding-left: 1em; padding-right: 1em; text-align: center; vertical-align: top\">Country</td>\n",
       "        <td style=\"padding-left: 1em; padding-right: 1em; text-align: center; vertical-align: top\">0.345945945946</td>\n",
       "        <td style=\"padding-left: 1em; padding-right: 1em; text-align: center; vertical-align: top\">0.00331648499125</td>\n",
       "        <td style=\"padding-left: 1em; padding-right: 1em; text-align: center; vertical-align: top\">200.352291349</td>\n",
       "        <td style=\"padding-left: 1em; padding-right: 1em; text-align: center; vertical-align: top\">0.0756756756757</td>\n",
       "    </tr>\n",
       "    <tr>\n",
       "        <td style=\"padding-left: 1em; padding-right: 1em; text-align: center; vertical-align: top\">0.01</td>\n",
       "        <td style=\"padding-left: 1em; padding-right: 1em; text-align: center; vertical-align: top\">Quantity</td>\n",
       "        <td style=\"padding-left: 1em; padding-right: 1em; text-align: center; vertical-align: top\">Country</td>\n",
       "        <td style=\"padding-left: 1em; padding-right: 1em; text-align: center; vertical-align: top\">0.254054054054</td>\n",
       "        <td style=\"padding-left: 1em; padding-right: 1em; text-align: center; vertical-align: top\">0.00243945075119</td>\n",
       "        <td style=\"padding-left: 1em; padding-right: 1em; text-align: center; vertical-align: top\">200.4294581</td>\n",
       "        <td style=\"padding-left: 1em; padding-right: 1em; text-align: center; vertical-align: top\">0.0594594594595</td>\n",
       "    </tr>\n",
       "    <tr>\n",
       "        <td style=\"padding-left: 1em; padding-right: 1em; text-align: center; vertical-align: top\">0.01</td>\n",
       "        <td style=\"padding-left: 1em; padding-right: 1em; text-align: center; vertical-align: top\">Quantity</td>\n",
       "        <td style=\"padding-left: 1em; padding-right: 1em; text-align: center; vertical-align: top\">Country</td>\n",
       "        <td style=\"padding-left: 1em; padding-right: 1em; text-align: center; vertical-align: top\">0.281081081081</td>\n",
       "        <td style=\"padding-left: 1em; padding-right: 1em; text-align: center; vertical-align: top\">0.00431369822399</td>\n",
       "        <td style=\"padding-left: 1em; padding-right: 1em; text-align: center; vertical-align: top\">200.417533205</td>\n",
       "        <td style=\"padding-left: 1em; padding-right: 1em; text-align: center; vertical-align: top\">0.0702702702703</td>\n",
       "    </tr>\n",
       "    <tr>\n",
       "        <td style=\"padding-left: 1em; padding-right: 1em; text-align: center; vertical-align: top\">1e-09</td>\n",
       "        <td style=\"padding-left: 1em; padding-right: 1em; text-align: center; vertical-align: top\">Quantity</td>\n",
       "        <td style=\"padding-left: 1em; padding-right: 1em; text-align: center; vertical-align: top\">Country</td>\n",
       "        <td style=\"padding-left: 1em; padding-right: 1em; text-align: center; vertical-align: top\">0.264864864865</td>\n",
       "        <td style=\"padding-left: 1em; padding-right: 1em; text-align: center; vertical-align: top\">0.00303940085924</td>\n",
       "        <td style=\"padding-left: 1em; padding-right: 1em; text-align: center; vertical-align: top\">201.069839169</td>\n",
       "        <td style=\"padding-left: 1em; padding-right: 1em; text-align: center; vertical-align: top\">0.102702702703</td>\n",
       "    </tr>\n",
       "    <tr>\n",
       "        <td style=\"padding-left: 1em; padding-right: 1em; text-align: center; vertical-align: top\">0.01</td>\n",
       "        <td style=\"padding-left: 1em; padding-right: 1em; text-align: center; vertical-align: top\">Quantity</td>\n",
       "        <td style=\"padding-left: 1em; padding-right: 1em; text-align: center; vertical-align: top\">Country</td>\n",
       "        <td style=\"padding-left: 1em; padding-right: 1em; text-align: center; vertical-align: top\">0.4</td>\n",
       "        <td style=\"padding-left: 1em; padding-right: 1em; text-align: center; vertical-align: top\">0.00852734444496</td>\n",
       "        <td style=\"padding-left: 1em; padding-right: 1em; text-align: center; vertical-align: top\">209.087050077</td>\n",
       "        <td style=\"padding-left: 1em; padding-right: 1em; text-align: center; vertical-align: top\">0.0864864864865</td>\n",
       "    </tr>\n",
       "    <tr>\n",
       "        <td style=\"padding-left: 1em; padding-right: 1em; text-align: center; vertical-align: top\">0.01</td>\n",
       "        <td style=\"padding-left: 1em; padding-right: 1em; text-align: center; vertical-align: top\">Quantity</td>\n",
       "        <td style=\"padding-left: 1em; padding-right: 1em; text-align: center; vertical-align: top\">Country</td>\n",
       "        <td style=\"padding-left: 1em; padding-right: 1em; text-align: center; vertical-align: top\">0.335135135135</td>\n",
       "        <td style=\"padding-left: 1em; padding-right: 1em; text-align: center; vertical-align: top\">0.00502673865589</td>\n",
       "        <td style=\"padding-left: 1em; padding-right: 1em; text-align: center; vertical-align: top\">202.902830607</td>\n",
       "        <td style=\"padding-left: 1em; padding-right: 1em; text-align: center; vertical-align: top\">0.0756756756757</td>\n",
       "    </tr>\n",
       "    <tr>\n",
       "        <td style=\"padding-left: 1em; padding-right: 1em; text-align: center; vertical-align: top\">0.01</td>\n",
       "        <td style=\"padding-left: 1em; padding-right: 1em; text-align: center; vertical-align: top\">Quantity</td>\n",
       "        <td style=\"padding-left: 1em; padding-right: 1em; text-align: center; vertical-align: top\">Country</td>\n",
       "        <td style=\"padding-left: 1em; padding-right: 1em; text-align: center; vertical-align: top\">0.254054054054</td>\n",
       "        <td style=\"padding-left: 1em; padding-right: 1em; text-align: center; vertical-align: top\">0.00263005417313</td>\n",
       "        <td style=\"padding-left: 1em; padding-right: 1em; text-align: center; vertical-align: top\">200.472551645</td>\n",
       "        <td style=\"padding-left: 1em; padding-right: 1em; text-align: center; vertical-align: top\">0.0702702702703</td>\n",
       "    </tr>\n",
       "    <tr>\n",
       "        <td style=\"padding-left: 1em; padding-right: 1em; text-align: center; vertical-align: top\">1e-09</td>\n",
       "        <td style=\"padding-left: 1em; padding-right: 1em; text-align: center; vertical-align: top\">Quantity</td>\n",
       "        <td style=\"padding-left: 1em; padding-right: 1em; text-align: center; vertical-align: top\">Country</td>\n",
       "        <td style=\"padding-left: 1em; padding-right: 1em; text-align: center; vertical-align: top\">0.178378378378</td>\n",
       "        <td style=\"padding-left: 1em; padding-right: 1em; text-align: center; vertical-align: top\">0.00201589302268</td>\n",
       "        <td style=\"padding-left: 1em; padding-right: 1em; text-align: center; vertical-align: top\">208.61362773</td>\n",
       "        <td style=\"padding-left: 1em; padding-right: 1em; text-align: center; vertical-align: top\">0.0648648648649</td>\n",
       "    </tr>\n",
       "    <tr>\n",
       "        <td style=\"padding-left: 1em; padding-right: 1em; text-align: center; vertical-align: top\">1e-09</td>\n",
       "        <td style=\"padding-left: 1em; padding-right: 1em; text-align: center; vertical-align: top\">Quantity</td>\n",
       "        <td style=\"padding-left: 1em; padding-right: 1em; text-align: center; vertical-align: top\">Country</td>\n",
       "        <td style=\"padding-left: 1em; padding-right: 1em; text-align: center; vertical-align: top\">0.383783783784</td>\n",
       "        <td style=\"padding-left: 1em; padding-right: 1em; text-align: center; vertical-align: top\">0.00693688637379</td>\n",
       "        <td style=\"padding-left: 1em; padding-right: 1em; text-align: center; vertical-align: top\">200.961033</td>\n",
       "        <td style=\"padding-left: 1em; padding-right: 1em; text-align: center; vertical-align: top\">0.0810810810811</td>\n",
       "    </tr>\n",
       "    <tr>\n",
       "        <td style=\"padding-left: 1em; padding-right: 1em; text-align: center; vertical-align: top\">0.01</td>\n",
       "        <td style=\"padding-left: 1em; padding-right: 1em; text-align: center; vertical-align: top\">Quantity</td>\n",
       "        <td style=\"padding-left: 1em; padding-right: 1em; text-align: center; vertical-align: top\">Country</td>\n",
       "        <td style=\"padding-left: 1em; padding-right: 1em; text-align: center; vertical-align: top\">0.27027027027</td>\n",
       "        <td style=\"padding-left: 1em; padding-right: 1em; text-align: center; vertical-align: top\">0.0025005751606</td>\n",
       "        <td style=\"padding-left: 1em; padding-right: 1em; text-align: center; vertical-align: top\">200.798635123</td>\n",
       "        <td style=\"padding-left: 1em; padding-right: 1em; text-align: center; vertical-align: top\">0.0702702702703</td>\n",
       "    </tr>\n",
       "</table>\n",
       "<table frame=\"box\" rules=\"cols\">\n",
       "    <tr>\n",
       "        <th style=\"padding-left: 1em; padding-right: 1em; text-align: center\">validation_recall@5</th>\n",
       "        <th style=\"padding-left: 1em; padding-right: 1em; text-align: center\">validation_rmse</th>\n",
       "    </tr>\n",
       "    <tr>\n",
       "        <td style=\"padding-left: 1em; padding-right: 1em; text-align: center; vertical-align: top\">0.000704518019705</td>\n",
       "        <td style=\"padding-left: 1em; padding-right: 1em; text-align: center; vertical-align: top\">44.9757209296</td>\n",
       "    </tr>\n",
       "    <tr>\n",
       "        <td style=\"padding-left: 1em; padding-right: 1em; text-align: center; vertical-align: top\">0.00062615451421</td>\n",
       "        <td style=\"padding-left: 1em; padding-right: 1em; text-align: center; vertical-align: top\">44.3877417297</td>\n",
       "    </tr>\n",
       "    <tr>\n",
       "        <td style=\"padding-left: 1em; padding-right: 1em; text-align: center; vertical-align: top\">0.00440335450383</td>\n",
       "        <td style=\"padding-left: 1em; padding-right: 1em; text-align: center; vertical-align: top\">44.9939755477</td>\n",
       "    </tr>\n",
       "    <tr>\n",
       "        <td style=\"padding-left: 1em; padding-right: 1em; text-align: center; vertical-align: top\">0.00555517394165</td>\n",
       "        <td style=\"padding-left: 1em; padding-right: 1em; text-align: center; vertical-align: top\">47.4109822572</td>\n",
       "    </tr>\n",
       "    <tr>\n",
       "        <td style=\"padding-left: 1em; padding-right: 1em; text-align: center; vertical-align: top\">0.00491079123407</td>\n",
       "        <td style=\"padding-left: 1em; padding-right: 1em; text-align: center; vertical-align: top\">74.3843681391</td>\n",
       "    </tr>\n",
       "    <tr>\n",
       "        <td style=\"padding-left: 1em; padding-right: 1em; text-align: center; vertical-align: top\">0.00362602022266</td>\n",
       "        <td style=\"padding-left: 1em; padding-right: 1em; text-align: center; vertical-align: top\">60.431320312</td>\n",
       "    </tr>\n",
       "    <tr>\n",
       "        <td style=\"padding-left: 1em; padding-right: 1em; text-align: center; vertical-align: top\">0.000559863391898</td>\n",
       "        <td style=\"padding-left: 1em; padding-right: 1em; text-align: center; vertical-align: top\">44.8420190962</td>\n",
       "    </tr>\n",
       "    <tr>\n",
       "        <td style=\"padding-left: 1em; padding-right: 1em; text-align: center; vertical-align: top\">0.00625484519756</td>\n",
       "        <td style=\"padding-left: 1em; padding-right: 1em; text-align: center; vertical-align: top\">74.1441680186</td>\n",
       "    </tr>\n",
       "    <tr>\n",
       "        <td style=\"padding-left: 1em; padding-right: 1em; text-align: center; vertical-align: top\">0.00467178107726</td>\n",
       "        <td style=\"padding-left: 1em; padding-right: 1em; text-align: center; vertical-align: top\">46.4832523153</td>\n",
       "    </tr>\n",
       "    <tr>\n",
       "        <td style=\"padding-left: 1em; padding-right: 1em; text-align: center; vertical-align: top\">0.00466303065924</td>\n",
       "        <td style=\"padding-left: 1em; padding-right: 1em; text-align: center; vertical-align: top\">46.4843801358</td>\n",
       "    </tr>\n",
       "</table>\n",
       "[12 rows x 16 columns]<br/>Note: Only the head of the SFrame is printed.<br/>You can use print_rows(num_rows=m, num_columns=n) to print more rows and columns.\n",
       "</div>"
      ],
      "text/plain": [
       "Columns:\n",
       "\tmodel_id\tint\n",
       "\titem_id\tstr\n",
       "\tlinear_regularization\tfloat\n",
       "\tmax_iterations\tint\n",
       "\tnum_factors\tint\n",
       "\tnum_sampled_negative_examples\tint\n",
       "\tranking_regularization\tfloat\n",
       "\tregularization\tfloat\n",
       "\ttarget\tstr\n",
       "\tuser_id\tstr\n",
       "\ttraining_precision@5\tfloat\n",
       "\ttraining_recall@5\tfloat\n",
       "\ttraining_rmse\tfloat\n",
       "\tvalidation_precision@5\tfloat\n",
       "\tvalidation_recall@5\tfloat\n",
       "\tvalidation_rmse\tfloat\n",
       "\n",
       "Rows: 12\n",
       "\n",
       "Data:\n",
       "+----------+-----------+-----------------------+----------------+-------------+\n",
       "| model_id |  item_id  | linear_regularization | max_iterations | num_factors |\n",
       "+----------+-----------+-----------------------+----------------+-------------+\n",
       "|    9     | StockCode |          0.01         |       50       |      50     |\n",
       "|    8     | StockCode |          0.01         |       25       |      50     |\n",
       "|    1     | StockCode |          0.01         |       25       |      50     |\n",
       "|    0     | StockCode |          0.01         |       50       |      50     |\n",
       "|    3     | StockCode |         1e-09         |       50       |      50     |\n",
       "|    2     | StockCode |         1e-09         |       25       |      32     |\n",
       "|    5     | StockCode |          0.01         |       25       |      50     |\n",
       "|    4     | StockCode |         1e-09         |       25       |      50     |\n",
       "|    7     | StockCode |          0.01         |       25       |      10     |\n",
       "|    6     | StockCode |         1e-09         |       25       |      50     |\n",
       "+----------+-----------+-----------------------+----------------+-------------+\n",
       "+-------------------------------+------------------------+----------------+\n",
       "| num_sampled_negative_examples | ranking_regularization | regularization |\n",
       "+-------------------------------+------------------------+----------------+\n",
       "|               8               |          0.1           |     1e-09      |\n",
       "|               8               |          0.1           |      0.01      |\n",
       "|               4               |          0.1           |      0.01      |\n",
       "|               4               |          0.5           |     1e-09      |\n",
       "|               8               |          0.5           |      0.01      |\n",
       "|               8               |          0.5           |      0.01      |\n",
       "|               4               |          0.1           |      0.01      |\n",
       "|               8               |          0.5           |     1e-09      |\n",
       "|               8               |          0.5           |     1e-09      |\n",
       "|               8               |          0.5           |      0.01      |\n",
       "+-------------------------------+------------------------+----------------+\n",
       "+----------+---------+----------------------+-------------------+---------------+\n",
       "|  target  | user_id | training_precision@5 | training_recall@5 | training_rmse |\n",
       "+----------+---------+----------------------+-------------------+---------------+\n",
       "| Quantity | Country |    0.345945945946    |  0.00331648499125 | 200.352291349 |\n",
       "| Quantity | Country |    0.254054054054    |  0.00243945075119 |  200.4294581  |\n",
       "| Quantity | Country |    0.281081081081    |  0.00431369822399 | 200.417533205 |\n",
       "| Quantity | Country |    0.264864864865    |  0.00303940085924 | 201.069839169 |\n",
       "| Quantity | Country |         0.4          |  0.00852734444496 | 209.087050077 |\n",
       "| Quantity | Country |    0.335135135135    |  0.00502673865589 | 202.902830607 |\n",
       "| Quantity | Country |    0.254054054054    |  0.00263005417313 | 200.472551645 |\n",
       "| Quantity | Country |    0.178378378378    |  0.00201589302268 |  208.61362773 |\n",
       "| Quantity | Country |    0.383783783784    |  0.00693688637379 |   200.961033  |\n",
       "| Quantity | Country |    0.27027027027     |  0.0025005751606  | 200.798635123 |\n",
       "+----------+---------+----------------------+-------------------+---------------+\n",
       "+------------------------+---------------------+-----------------+\n",
       "| validation_precision@5 | validation_recall@5 | validation_rmse |\n",
       "+------------------------+---------------------+-----------------+\n",
       "|    0.0756756756757     |  0.000704518019705  |  44.9757209296  |\n",
       "|    0.0594594594595     |   0.00062615451421  |  44.3877417297  |\n",
       "|    0.0702702702703     |   0.00440335450383  |  44.9939755477  |\n",
       "|     0.102702702703     |   0.00555517394165  |  47.4109822572  |\n",
       "|    0.0864864864865     |   0.00491079123407  |  74.3843681391  |\n",
       "|    0.0756756756757     |   0.00362602022266  |   60.431320312  |\n",
       "|    0.0702702702703     |  0.000559863391898  |  44.8420190962  |\n",
       "|    0.0648648648649     |   0.00625484519756  |  74.1441680186  |\n",
       "|    0.0810810810811     |   0.00467178107726  |  46.4832523153  |\n",
       "|    0.0702702702703     |   0.00466303065924  |  46.4843801358  |\n",
       "+------------------------+---------------------+-----------------+\n",
       "[12 rows x 16 columns]\n",
       "Note: Only the head of the SFrame is printed.\n",
       "You can use print_rows(num_rows=m, num_columns=n) to print more rows and columns."
      ]
     },
     "execution_count": 43,
     "metadata": {},
     "output_type": "execute_result"
    }
   ],
   "source": [
    "job_result"
   ]
  },
  {
   "cell_type": "code",
   "execution_count": 44,
   "metadata": {
    "collapsed": true
   },
   "outputs": [],
   "source": [
    "best_parms = job.get_best_params()"
   ]
  },
  {
   "cell_type": "markdown",
   "metadata": {},
   "source": [
    "# Recommendation Results\n",
    "Based on the results the best recommendation can be made to the European Union and the worst recommendation can be made to Japan. The deduction is based on the RMSE ( Root Mean Square Error) values from the model. \n"
   ]
  },
  {
   "cell_type": "code",
   "execution_count": null,
   "metadata": {
    "collapsed": true
   },
   "outputs": [],
   "source": []
  },
  {
   "cell_type": "code",
   "execution_count": 46,
   "metadata": {
    "collapsed": false
   },
   "outputs": [
    {
     "data": {
      "text/plain": [
       "{'item_id': 'StockCode',\n",
       " 'linear_regularization': 0.01,\n",
       " 'max_iterations': 25,\n",
       " 'num_factors': 50,\n",
       " 'num_sampled_negative_examples': 8,\n",
       " 'ranking_regularization': 0.1,\n",
       " 'regularization': 0.01,\n",
       " 'target': 'Quantity',\n",
       " 'user_id': 'Country'}"
      ]
     },
     "execution_count": 46,
     "metadata": {},
     "output_type": "execute_result"
    }
   ],
   "source": [
    "best_parms"
   ]
  },
  {
   "cell_type": "code",
   "execution_count": 47,
   "metadata": {
    "collapsed": false
   },
   "outputs": [
    {
     "data": {
      "text/html": [
       "<pre>Recsys training: model = ranking_factorization_recommender</pre>"
      ],
      "text/plain": [
       "Recsys training: model = ranking_factorization_recommender"
      ]
     },
     "metadata": {},
     "output_type": "display_data"
    },
    {
     "data": {
      "text/html": [
       "<pre>Preparing data set.</pre>"
      ],
      "text/plain": [
       "Preparing data set."
      ]
     },
     "metadata": {},
     "output_type": "display_data"
    },
    {
     "data": {
      "text/html": [
       "<pre>    Data has 318364 observations with 37 users and 3622 items.</pre>"
      ],
      "text/plain": [
       "    Data has 318364 observations with 37 users and 3622 items."
      ]
     },
     "metadata": {},
     "output_type": "display_data"
    },
    {
     "data": {
      "text/html": [
       "<pre>    Data prepared in: 0.837486s</pre>"
      ],
      "text/plain": [
       "    Data prepared in: 0.837486s"
      ]
     },
     "metadata": {},
     "output_type": "display_data"
    },
    {
     "data": {
      "text/html": [
       "<pre>Training ranking_factorization_recommender for recommendations.</pre>"
      ],
      "text/plain": [
       "Training ranking_factorization_recommender for recommendations."
      ]
     },
     "metadata": {},
     "output_type": "display_data"
    },
    {
     "data": {
      "text/html": [
       "<pre>+--------------------------------+--------------------------------------------------+----------+</pre>"
      ],
      "text/plain": [
       "+--------------------------------+--------------------------------------------------+----------+"
      ]
     },
     "metadata": {},
     "output_type": "display_data"
    },
    {
     "data": {
      "text/html": [
       "<pre>| Parameter                      | Description                                      | Value    |</pre>"
      ],
      "text/plain": [
       "| Parameter                      | Description                                      | Value    |"
      ]
     },
     "metadata": {},
     "output_type": "display_data"
    },
    {
     "data": {
      "text/html": [
       "<pre>+--------------------------------+--------------------------------------------------+----------+</pre>"
      ],
      "text/plain": [
       "+--------------------------------+--------------------------------------------------+----------+"
      ]
     },
     "metadata": {},
     "output_type": "display_data"
    },
    {
     "data": {
      "text/html": [
       "<pre>| num_factors                    | Factor Dimension                                 | 10       |</pre>"
      ],
      "text/plain": [
       "| num_factors                    | Factor Dimension                                 | 10       |"
      ]
     },
     "metadata": {},
     "output_type": "display_data"
    },
    {
     "data": {
      "text/html": [
       "<pre>| regularization                 | L2 Regularization on Factors                     | 1e-09    |</pre>"
      ],
      "text/plain": [
       "| regularization                 | L2 Regularization on Factors                     | 1e-09    |"
      ]
     },
     "metadata": {},
     "output_type": "display_data"
    },
    {
     "data": {
      "text/html": [
       "<pre>| solver                         | Solver used for training                         | adagrad  |</pre>"
      ],
      "text/plain": [
       "| solver                         | Solver used for training                         | adagrad  |"
      ]
     },
     "metadata": {},
     "output_type": "display_data"
    },
    {
     "data": {
      "text/html": [
       "<pre>| linear_regularization          | L2 Regularization on Linear Coefficients         | 1e-09    |</pre>"
      ],
      "text/plain": [
       "| linear_regularization          | L2 Regularization on Linear Coefficients         | 1e-09    |"
      ]
     },
     "metadata": {},
     "output_type": "display_data"
    },
    {
     "data": {
      "text/html": [
       "<pre>| ranking_regularization         | Rank-based Regularization Weight                 | 0.1      |</pre>"
      ],
      "text/plain": [
       "| ranking_regularization         | Rank-based Regularization Weight                 | 0.1      |"
      ]
     },
     "metadata": {},
     "output_type": "display_data"
    },
    {
     "data": {
      "text/html": [
       "<pre>| num_sampled_negative_examples  | # Negative Samples Considered per Observation    | 8        |</pre>"
      ],
      "text/plain": [
       "| num_sampled_negative_examples  | # Negative Samples Considered per Observation    | 8        |"
      ]
     },
     "metadata": {},
     "output_type": "display_data"
    },
    {
     "data": {
      "text/html": [
       "<pre>| max_iterations                 | Maximum Number of Iterations                     | 25       |</pre>"
      ],
      "text/plain": [
       "| max_iterations                 | Maximum Number of Iterations                     | 25       |"
      ]
     },
     "metadata": {},
     "output_type": "display_data"
    },
    {
     "data": {
      "text/html": [
       "<pre>+--------------------------------+--------------------------------------------------+----------+</pre>"
      ],
      "text/plain": [
       "+--------------------------------+--------------------------------------------------+----------+"
      ]
     },
     "metadata": {},
     "output_type": "display_data"
    },
    {
     "data": {
      "text/html": [
       "<pre>  Optimizing model using SGD; tuning step size.</pre>"
      ],
      "text/plain": [
       "  Optimizing model using SGD; tuning step size."
      ]
     },
     "metadata": {},
     "output_type": "display_data"
    },
    {
     "data": {
      "text/html": [
       "<pre>  Using 39795 / 318364 points for tuning the step size.</pre>"
      ],
      "text/plain": [
       "  Using 39795 / 318364 points for tuning the step size."
      ]
     },
     "metadata": {},
     "output_type": "display_data"
    },
    {
     "data": {
      "text/html": [
       "<pre>+---------+-------------------+------------------------------------------+</pre>"
      ],
      "text/plain": [
       "+---------+-------------------+------------------------------------------+"
      ]
     },
     "metadata": {},
     "output_type": "display_data"
    },
    {
     "data": {
      "text/html": [
       "<pre>| Attempt | Initial Step Size | Estimated Objective Value                |</pre>"
      ],
      "text/plain": [
       "| Attempt | Initial Step Size | Estimated Objective Value                |"
      ]
     },
     "metadata": {},
     "output_type": "display_data"
    },
    {
     "data": {
      "text/html": [
       "<pre>+---------+-------------------+------------------------------------------+</pre>"
      ],
      "text/plain": [
       "+---------+-------------------+------------------------------------------+"
      ]
     },
     "metadata": {},
     "output_type": "display_data"
    },
    {
     "data": {
      "text/html": [
       "<pre>| 0       | 7.14286           | Not Viable                               |</pre>"
      ],
      "text/plain": [
       "| 0       | 7.14286           | Not Viable                               |"
      ]
     },
     "metadata": {},
     "output_type": "display_data"
    },
    {
     "data": {
      "text/html": [
       "<pre>| 1       | 1.78571           | Not Viable                               |</pre>"
      ],
      "text/plain": [
       "| 1       | 1.78571           | Not Viable                               |"
      ]
     },
     "metadata": {},
     "output_type": "display_data"
    },
    {
     "data": {
      "text/html": [
       "<pre>| 2       | 0.446429          | No Decrease (42492.6 >= 16768.8)         |</pre>"
      ],
      "text/plain": [
       "| 2       | 0.446429          | No Decrease (42492.6 >= 16768.8)         |"
      ]
     },
     "metadata": {},
     "output_type": "display_data"
    },
    {
     "data": {
      "text/html": [
       "<pre>| 3       | 0.111607          | 16273                                    |</pre>"
      ],
      "text/plain": [
       "| 3       | 0.111607          | 16273                                    |"
      ]
     },
     "metadata": {},
     "output_type": "display_data"
    },
    {
     "data": {
      "text/html": [
       "<pre>| 4       | 0.0558036         | 16493.7                                  |</pre>"
      ],
      "text/plain": [
       "| 4       | 0.0558036         | 16493.7                                  |"
      ]
     },
     "metadata": {},
     "output_type": "display_data"
    },
    {
     "data": {
      "text/html": [
       "<pre>| 5       | 0.0279018         | 16596.6                                  |</pre>"
      ],
      "text/plain": [
       "| 5       | 0.0279018         | 16596.6                                  |"
      ]
     },
     "metadata": {},
     "output_type": "display_data"
    },
    {
     "data": {
      "text/html": [
       "<pre>| 6       | 0.0139509         | 16647.4                                  |</pre>"
      ],
      "text/plain": [
       "| 6       | 0.0139509         | 16647.4                                  |"
      ]
     },
     "metadata": {},
     "output_type": "display_data"
    },
    {
     "data": {
      "text/html": [
       "<pre>+---------+-------------------+------------------------------------------+</pre>"
      ],
      "text/plain": [
       "+---------+-------------------+------------------------------------------+"
      ]
     },
     "metadata": {},
     "output_type": "display_data"
    },
    {
     "data": {
      "text/html": [
       "<pre>| Final   | 0.111607          | 16273                                    |</pre>"
      ],
      "text/plain": [
       "| Final   | 0.111607          | 16273                                    |"
      ]
     },
     "metadata": {},
     "output_type": "display_data"
    },
    {
     "data": {
      "text/html": [
       "<pre>+---------+-------------------+------------------------------------------+</pre>"
      ],
      "text/plain": [
       "+---------+-------------------+------------------------------------------+"
      ]
     },
     "metadata": {},
     "output_type": "display_data"
    },
    {
     "data": {
      "text/html": [
       "<pre>Starting Optimization.</pre>"
      ],
      "text/plain": [
       "Starting Optimization."
      ]
     },
     "metadata": {},
     "output_type": "display_data"
    },
    {
     "data": {
      "text/html": [
       "<pre>+---------+--------------+-------------------+-----------------------+-------------+</pre>"
      ],
      "text/plain": [
       "+---------+--------------+-------------------+-----------------------+-------------+"
      ]
     },
     "metadata": {},
     "output_type": "display_data"
    },
    {
     "data": {
      "text/html": [
       "<pre>| Iter.   | Elapsed Time | Approx. Objective | Approx. Training RMSE | Step Size   |</pre>"
      ],
      "text/plain": [
       "| Iter.   | Elapsed Time | Approx. Objective | Approx. Training RMSE | Step Size   |"
      ]
     },
     "metadata": {},
     "output_type": "display_data"
    },
    {
     "data": {
      "text/html": [
       "<pre>+---------+--------------+-------------------+-----------------------+-------------+</pre>"
      ],
      "text/plain": [
       "+---------+--------------+-------------------+-----------------------+-------------+"
      ]
     },
     "metadata": {},
     "output_type": "display_data"
    },
    {
     "data": {
      "text/html": [
       "<pre>| Initial | 125us        | 55632.7           | 200.48                |             |</pre>"
      ],
      "text/plain": [
       "| Initial | 125us        | 55632.7           | 200.48                |             |"
      ]
     },
     "metadata": {},
     "output_type": "display_data"
    },
    {
     "data": {
      "text/html": [
       "<pre>+---------+--------------+-------------------+-----------------------+-------------+</pre>"
      ],
      "text/plain": [
       "+---------+--------------+-------------------+-----------------------+-------------+"
      ]
     },
     "metadata": {},
     "output_type": "display_data"
    },
    {
     "data": {
      "text/html": [
       "<pre>| 1       | 2.74s        | 41494.6           | 201.311               | 0.111607    |</pre>"
      ],
      "text/plain": [
       "| 1       | 2.74s        | 41494.6           | 201.311               | 0.111607    |"
      ]
     },
     "metadata": {},
     "output_type": "display_data"
    },
    {
     "data": {
      "text/html": [
       "<pre>| 2       | 5.14s        | 41191.8           | 200.578               | 0.111607    |</pre>"
      ],
      "text/plain": [
       "| 2       | 5.14s        | 41191.8           | 200.578               | 0.111607    |"
      ]
     },
     "metadata": {},
     "output_type": "display_data"
    },
    {
     "data": {
      "text/html": [
       "<pre>| 3       | 7.47s        | 41119.6           | 200.395               | 0.111607    |</pre>"
      ],
      "text/plain": [
       "| 3       | 7.47s        | 41119.6           | 200.395               | 0.111607    |"
      ]
     },
     "metadata": {},
     "output_type": "display_data"
    },
    {
     "data": {
      "text/html": [
       "<pre>| 4       | 9.80s        | 41060.4           | 200.247               | 0.111607    |</pre>"
      ],
      "text/plain": [
       "| 4       | 9.80s        | 41060.4           | 200.247               | 0.111607    |"
      ]
     },
     "metadata": {},
     "output_type": "display_data"
    },
    {
     "data": {
      "text/html": [
       "<pre>| 5       | 12.79s       | 41021.5           | 200.151               | 0.111607    |</pre>"
      ],
      "text/plain": [
       "| 5       | 12.79s       | 41021.5           | 200.151               | 0.111607    |"
      ]
     },
     "metadata": {},
     "output_type": "display_data"
    },
    {
     "data": {
      "text/html": [
       "<pre>| 6       | 15.04s       | 40999.5           | 200.094               | 0.111607    |</pre>"
      ],
      "text/plain": [
       "| 6       | 15.04s       | 40999.5           | 200.094               | 0.111607    |"
      ]
     },
     "metadata": {},
     "output_type": "display_data"
    },
    {
     "data": {
      "text/html": [
       "<pre>| 7       | 17.31s       | 40986.2           | 200.058               | 0.111607    |</pre>"
      ],
      "text/plain": [
       "| 7       | 17.31s       | 40986.2           | 200.058               | 0.111607    |"
      ]
     },
     "metadata": {},
     "output_type": "display_data"
    },
    {
     "data": {
      "text/html": [
       "<pre>| 8       | 19.57s       | 40971.4           | 200.019               | 0.111607    |</pre>"
      ],
      "text/plain": [
       "| 8       | 19.57s       | 40971.4           | 200.019               | 0.111607    |"
      ]
     },
     "metadata": {},
     "output_type": "display_data"
    },
    {
     "data": {
      "text/html": [
       "<pre>| 9       | 21.73s       | 40962.1           | 199.993               | 0.111607    |</pre>"
      ],
      "text/plain": [
       "| 9       | 21.73s       | 40962.1           | 199.993               | 0.111607    |"
      ]
     },
     "metadata": {},
     "output_type": "display_data"
    },
    {
     "data": {
      "text/html": [
       "<pre>| 10      | 24.52s       | 40953.3           | 199.971               | 0.111607    |</pre>"
      ],
      "text/plain": [
       "| 10      | 24.52s       | 40953.3           | 199.971               | 0.111607    |"
      ]
     },
     "metadata": {},
     "output_type": "display_data"
    },
    {
     "data": {
      "text/html": [
       "<pre>| 11      | 26.91s       | 40947.4           | 199.949               | 0.111607    |</pre>"
      ],
      "text/plain": [
       "| 11      | 26.91s       | 40947.4           | 199.949               | 0.111607    |"
      ]
     },
     "metadata": {},
     "output_type": "display_data"
    },
    {
     "data": {
      "text/html": [
       "<pre>| 12      | 29.56s       | 40940.3           | 199.931               | 0.111607    |</pre>"
      ],
      "text/plain": [
       "| 12      | 29.56s       | 40940.3           | 199.931               | 0.111607    |"
      ]
     },
     "metadata": {},
     "output_type": "display_data"
    },
    {
     "data": {
      "text/html": [
       "<pre>| 13      | 31.73s       | 40936.5           | 199.92                | 0.111607    |</pre>"
      ],
      "text/plain": [
       "| 13      | 31.73s       | 40936.5           | 199.92                | 0.111607    |"
      ]
     },
     "metadata": {},
     "output_type": "display_data"
    },
    {
     "data": {
      "text/html": [
       "<pre>| 14      | 34.41s       | 40932.7           | 199.91                | 0.111607    |</pre>"
      ],
      "text/plain": [
       "| 14      | 34.41s       | 40932.7           | 199.91                | 0.111607    |"
      ]
     },
     "metadata": {},
     "output_type": "display_data"
    },
    {
     "data": {
      "text/html": [
       "<pre>| 15      | 36.88s       | 40929             | 199.894               | 0.111607    |</pre>"
      ],
      "text/plain": [
       "| 15      | 36.88s       | 40929             | 199.894               | 0.111607    |"
      ]
     },
     "metadata": {},
     "output_type": "display_data"
    },
    {
     "data": {
      "text/html": [
       "<pre>| 16      | 39.12s       | 40926.8           | 199.888               | 0.111607    |</pre>"
      ],
      "text/plain": [
       "| 16      | 39.12s       | 40926.8           | 199.888               | 0.111607    |"
      ]
     },
     "metadata": {},
     "output_type": "display_data"
    },
    {
     "data": {
      "text/html": [
       "<pre>| 17      | 41.28s       | 40924.6           | 199.88                | 0.111607    |</pre>"
      ],
      "text/plain": [
       "| 17      | 41.28s       | 40924.6           | 199.88                | 0.111607    |"
      ]
     },
     "metadata": {},
     "output_type": "display_data"
    },
    {
     "data": {
      "text/html": [
       "<pre>| 18      | 43.47s       | 40925.4           | 199.88                | 0.111607    |</pre>"
      ],
      "text/plain": [
       "| 18      | 43.47s       | 40925.4           | 199.88                | 0.111607    |"
      ]
     },
     "metadata": {},
     "output_type": "display_data"
    },
    {
     "data": {
      "text/html": [
       "<pre>| 19      | 46.06s       | 40920.7           | 199.866               | 0.111607    |</pre>"
      ],
      "text/plain": [
       "| 19      | 46.06s       | 40920.7           | 199.866               | 0.111607    |"
      ]
     },
     "metadata": {},
     "output_type": "display_data"
    },
    {
     "data": {
      "text/html": [
       "<pre>| 20      | 49.06s       | 40922.4           | 199.869               | 0.111607    |</pre>"
      ],
      "text/plain": [
       "| 20      | 49.06s       | 40922.4           | 199.869               | 0.111607    |"
      ]
     },
     "metadata": {},
     "output_type": "display_data"
    },
    {
     "data": {
      "text/html": [
       "<pre>| 21      | 51.51s       | 40915.6           | 199.849               | 0.111607    |</pre>"
      ],
      "text/plain": [
       "| 21      | 51.51s       | 40915.6           | 199.849               | 0.111607    |"
      ]
     },
     "metadata": {},
     "output_type": "display_data"
    },
    {
     "data": {
      "text/html": [
       "<pre>| 22      | 54.12s       | 40915.3           | 199.847               | 0.111607    |</pre>"
      ],
      "text/plain": [
       "| 22      | 54.12s       | 40915.3           | 199.847               | 0.111607    |"
      ]
     },
     "metadata": {},
     "output_type": "display_data"
    },
    {
     "data": {
      "text/html": [
       "<pre>| 23      | 56.62s       | 40913.7           | 199.839               | 0.111607    |</pre>"
      ],
      "text/plain": [
       "| 23      | 56.62s       | 40913.7           | 199.839               | 0.111607    |"
      ]
     },
     "metadata": {},
     "output_type": "display_data"
    },
    {
     "data": {
      "text/html": [
       "<pre>| 24      | 58.95s       | 40915.8           | 199.842               | 0.111607    |</pre>"
      ],
      "text/plain": [
       "| 24      | 58.95s       | 40915.8           | 199.842               | 0.111607    |"
      ]
     },
     "metadata": {},
     "output_type": "display_data"
    },
    {
     "data": {
      "text/html": [
       "<pre>| 25      | 1m 1s        | 40910.9           | 199.827               | 0.111607    |</pre>"
      ],
      "text/plain": [
       "| 25      | 1m 1s        | 40910.9           | 199.827               | 0.111607    |"
      ]
     },
     "metadata": {},
     "output_type": "display_data"
    },
    {
     "data": {
      "text/html": [
       "<pre>+---------+--------------+-------------------+-----------------------+-------------+</pre>"
      ],
      "text/plain": [
       "+---------+--------------+-------------------+-----------------------+-------------+"
      ]
     },
     "metadata": {},
     "output_type": "display_data"
    },
    {
     "data": {
      "text/html": [
       "<pre>Optimization Complete: Maximum number of passes through the data reached.</pre>"
      ],
      "text/plain": [
       "Optimization Complete: Maximum number of passes through the data reached."
      ]
     },
     "metadata": {},
     "output_type": "display_data"
    },
    {
     "data": {
      "text/html": [
       "<pre>Computing final objective value and training RMSE.</pre>"
      ],
      "text/plain": [
       "Computing final objective value and training RMSE."
      ]
     },
     "metadata": {},
     "output_type": "display_data"
    },
    {
     "data": {
      "text/html": [
       "<pre>       Final objective value: 55162.9</pre>"
      ],
      "text/plain": [
       "       Final objective value: 55162.9"
      ]
     },
     "metadata": {},
     "output_type": "display_data"
    },
    {
     "data": {
      "text/html": [
       "<pre>       Final training RMSE: 199.812</pre>"
      ],
      "text/plain": [
       "       Final training RMSE: 199.812"
      ]
     },
     "metadata": {},
     "output_type": "display_data"
    }
   ],
   "source": [
    "rec_best = gl.recommender.ranking_factorization_recommender.create(train, user_id = 'Country', item_id = \"StockCode\", \n",
    "                                                                   target = \"Quantity\", num_factors = 10, ranking_regularization = .1,\n",
    "                                                                   regularization = .000000001, linear_regularization = .000000001, \n",
    "                                                                   num_sampled_negative_examples = 8)"
   ]
  },
  {
   "cell_type": "code",
   "execution_count": 48,
   "metadata": {
    "collapsed": false
   },
   "outputs": [
    {
     "name": "stdout",
     "output_type": "stream",
     "text": [
      "\n",
      "Precision and recall summary statistics by cutoff\n",
      "+--------+-----------------+------------------+\n",
      "| cutoff |  mean_precision |   mean_recall    |\n",
      "+--------+-----------------+------------------+\n",
      "|   1    |  0.027027027027 |  0.003003003003  |\n",
      "|   2    | 0.0540540540541 | 0.00480329068564 |\n",
      "|   3    | 0.0540540540541 | 0.00504559228287 |\n",
      "|   4    | 0.0472972972973 | 0.00506077600592 |\n",
      "|   5    | 0.0486486486486 | 0.0051893943274  |\n",
      "|   6    | 0.0495495495495 | 0.00535342390319 |\n",
      "|   7    | 0.0540540540541 | 0.00573290815699 |\n",
      "|   8    | 0.0574324324324 | 0.00602541568677 |\n",
      "|   9    | 0.0540540540541 | 0.00638577604713 |\n",
      "|   10   | 0.0594594594595 | 0.0066853316221  |\n",
      "+--------+-----------------+------------------+\n",
      "[10 rows x 3 columns]\n",
      "\n",
      "('\\nOverall RMSE: ', 43.202578641081146)\n",
      "\n",
      "Per User RMSE (best)\n",
      "+--------------------+-------+---------------+\n",
      "|      Country       | count |      rmse     |\n",
      "+--------------------+-------+---------------+\n",
      "| European Community |   18  | 3.82987558882 |\n",
      "+--------------------+-------+---------------+\n",
      "[1 rows x 3 columns]\n",
      "\n",
      "\n",
      "Per User RMSE (worst)\n",
      "+---------+-------+---------------+\n",
      "| Country | count |      rmse     |\n",
      "+---------+-------+---------------+\n",
      "|  Japan  |   84  | 314.266125471 |\n",
      "+---------+-------+---------------+\n",
      "[1 rows x 3 columns]\n",
      "\n",
      "\n",
      "Per Item RMSE (best)\n",
      "+-----------+-------+----------------+\n",
      "| StockCode | count |      rmse      |\n",
      "+-----------+-------+----------------+\n",
      "|   90085   |   1   | 0.070553987924 |\n",
      "+-----------+-------+----------------+\n",
      "[1 rows x 3 columns]\n",
      "\n",
      "\n",
      "Per Item RMSE (worst)\n",
      "+-----------+-------+---------------+\n",
      "| StockCode | count |      rmse     |\n",
      "+-----------+-------+---------------+\n",
      "|   47556B  |   1   | 1268.65350237 |\n",
      "+-----------+-------+---------------+\n",
      "[1 rows x 3 columns]\n",
      "\n"
     ]
    }
   ],
   "source": [
    "rmse_best_results = rec_best.evaluate(test)"
   ]
  },
  {
   "cell_type": "code",
   "execution_count": 49,
   "metadata": {
    "collapsed": false
   },
   "outputs": [
    {
     "name": "stdout",
     "output_type": "stream",
     "text": [
      "\n",
      "Precision and recall summary statistics by cutoff\n",
      "+--------+----------------+-------------+\n",
      "| cutoff | mean_precision | mean_recall |\n",
      "+--------+----------------+-------------+\n",
      "|   1    |      0.0       |     0.0     |\n",
      "|   2    |      0.0       |     0.0     |\n",
      "|   3    |      0.0       |     0.0     |\n",
      "|   4    |      0.0       |     0.0     |\n",
      "|   5    |      0.0       |     0.0     |\n",
      "|   6    |      0.0       |     0.0     |\n",
      "|   7    |      0.0       |     0.0     |\n",
      "|   8    |      0.0       |     0.0     |\n",
      "|   9    |      0.0       |     0.0     |\n",
      "|   10   |      0.0       |     0.0     |\n",
      "+--------+----------------+-------------+\n",
      "[10 rows x 3 columns]\n",
      "\n",
      "('\\nOverall RMSE: ', 51.482608830489625)\n",
      "\n",
      "Per User RMSE (best)\n",
      "+--------------+-------+---------------+\n",
      "|   Country    | count |      rmse     |\n",
      "+--------------+-------+---------------+\n",
      "| Saudi Arabia |   1   | 11.1812201568 |\n",
      "+--------------+-------+---------------+\n",
      "[1 rows x 3 columns]\n",
      "\n",
      "\n",
      "Per User RMSE (worst)\n",
      "+---------+-------+---------------+\n",
      "| Country | count |      rmse     |\n",
      "+---------+-------+---------------+\n",
      "|  Japan  |   84  | 321.092109585 |\n",
      "+---------+-------+---------------+\n",
      "[1 rows x 3 columns]\n",
      "\n",
      "\n",
      "Per Item RMSE (best)\n",
      "+-----------+-------+-----------------+\n",
      "| StockCode | count |       rmse      |\n",
      "+-----------+-------+-----------------+\n",
      "|   90125B  |   1   | 0.0493717002579 |\n",
      "+-----------+-------+-----------------+\n",
      "[1 rows x 3 columns]\n",
      "\n",
      "\n",
      "Per Item RMSE (worst)\n",
      "+-----------+-------+---------------+\n",
      "| StockCode | count |      rmse     |\n",
      "+-----------+-------+---------------+\n",
      "|   47556B  |   1   | 1251.51491513 |\n",
      "+-----------+-------+---------------+\n",
      "[1 rows x 3 columns]\n",
      "\n"
     ]
    }
   ],
   "source": [
    "rmse_default_results = model.evaluate(test)"
   ]
  },
  {
   "cell_type": "markdown",
   "metadata": {},
   "source": [
    "# Recommendation for Japan\n",
    "The table below shows the recommendation for Japan\n"
   ]
  },
  {
   "cell_type": "code",
   "execution_count": 54,
   "metadata": {
    "collapsed": false
   },
   "outputs": [],
   "source": [
    "results = rec_best.recommend(users = ['Japan'], k=30)"
   ]
  },
  {
   "cell_type": "code",
   "execution_count": 55,
   "metadata": {
    "collapsed": false
   },
   "outputs": [
    {
     "data": {
      "text/html": [
       "<div style=\"max-height:1000px;max-width:1500px;overflow:auto;\"><table frame=\"box\" rules=\"cols\">\n",
       "    <tr>\n",
       "        <th style=\"padding-left: 1em; padding-right: 1em; text-align: center\">Country</th>\n",
       "        <th style=\"padding-left: 1em; padding-right: 1em; text-align: center\">StockCode</th>\n",
       "        <th style=\"padding-left: 1em; padding-right: 1em; text-align: center\">score</th>\n",
       "        <th style=\"padding-left: 1em; padding-right: 1em; text-align: center\">rank</th>\n",
       "    </tr>\n",
       "    <tr>\n",
       "        <td style=\"padding-left: 1em; padding-right: 1em; text-align: center; vertical-align: top\">Japan</td>\n",
       "        <td style=\"padding-left: 1em; padding-right: 1em; text-align: center; vertical-align: top\">17003</td>\n",
       "        <td style=\"padding-left: 1em; padding-right: 1em; text-align: center; vertical-align: top\">20.1053513286</td>\n",
       "        <td style=\"padding-left: 1em; padding-right: 1em; text-align: center; vertical-align: top\">1</td>\n",
       "    </tr>\n",
       "    <tr>\n",
       "        <td style=\"padding-left: 1em; padding-right: 1em; text-align: center; vertical-align: top\">Japan</td>\n",
       "        <td style=\"padding-left: 1em; padding-right: 1em; text-align: center; vertical-align: top\">22693</td>\n",
       "        <td style=\"padding-left: 1em; padding-right: 1em; text-align: center; vertical-align: top\">18.584721565</td>\n",
       "        <td style=\"padding-left: 1em; padding-right: 1em; text-align: center; vertical-align: top\">2</td>\n",
       "    </tr>\n",
       "    <tr>\n",
       "        <td style=\"padding-left: 1em; padding-right: 1em; text-align: center; vertical-align: top\">Japan</td>\n",
       "        <td style=\"padding-left: 1em; padding-right: 1em; text-align: center; vertical-align: top\">23166</td>\n",
       "        <td style=\"padding-left: 1em; padding-right: 1em; text-align: center; vertical-align: top\">18.3380244968</td>\n",
       "        <td style=\"padding-left: 1em; padding-right: 1em; text-align: center; vertical-align: top\">3</td>\n",
       "    </tr>\n",
       "    <tr>\n",
       "        <td style=\"padding-left: 1em; padding-right: 1em; text-align: center; vertical-align: top\">Japan</td>\n",
       "        <td style=\"padding-left: 1em; padding-right: 1em; text-align: center; vertical-align: top\">15036</td>\n",
       "        <td style=\"padding-left: 1em; padding-right: 1em; text-align: center; vertical-align: top\">18.2164160011</td>\n",
       "        <td style=\"padding-left: 1em; padding-right: 1em; text-align: center; vertical-align: top\">4</td>\n",
       "    </tr>\n",
       "    <tr>\n",
       "        <td style=\"padding-left: 1em; padding-right: 1em; text-align: center; vertical-align: top\">Japan</td>\n",
       "        <td style=\"padding-left: 1em; padding-right: 1em; text-align: center; vertical-align: top\">85099B</td>\n",
       "        <td style=\"padding-left: 1em; padding-right: 1em; text-align: center; vertical-align: top\">18.2015609739</td>\n",
       "        <td style=\"padding-left: 1em; padding-right: 1em; text-align: center; vertical-align: top\">5</td>\n",
       "    </tr>\n",
       "    <tr>\n",
       "        <td style=\"padding-left: 1em; padding-right: 1em; text-align: center; vertical-align: top\">Japan</td>\n",
       "        <td style=\"padding-left: 1em; padding-right: 1em; text-align: center; vertical-align: top\">21212</td>\n",
       "        <td style=\"padding-left: 1em; padding-right: 1em; text-align: center; vertical-align: top\">18.040091276</td>\n",
       "        <td style=\"padding-left: 1em; padding-right: 1em; text-align: center; vertical-align: top\">6</td>\n",
       "    </tr>\n",
       "    <tr>\n",
       "        <td style=\"padding-left: 1em; padding-right: 1em; text-align: center; vertical-align: top\">Japan</td>\n",
       "        <td style=\"padding-left: 1em; padding-right: 1em; text-align: center; vertical-align: top\">21977</td>\n",
       "        <td style=\"padding-left: 1em; padding-right: 1em; text-align: center; vertical-align: top\">17.5992105005</td>\n",
       "        <td style=\"padding-left: 1em; padding-right: 1em; text-align: center; vertical-align: top\">7</td>\n",
       "    </tr>\n",
       "    <tr>\n",
       "        <td style=\"padding-left: 1em; padding-right: 1em; text-align: center; vertical-align: top\">Japan</td>\n",
       "        <td style=\"padding-left: 1em; padding-right: 1em; text-align: center; vertical-align: top\">84879</td>\n",
       "        <td style=\"padding-left: 1em; padding-right: 1em; text-align: center; vertical-align: top\">17.4928126333</td>\n",
       "        <td style=\"padding-left: 1em; padding-right: 1em; text-align: center; vertical-align: top\">8</td>\n",
       "    </tr>\n",
       "    <tr>\n",
       "        <td style=\"padding-left: 1em; padding-right: 1em; text-align: center; vertical-align: top\">Japan</td>\n",
       "        <td style=\"padding-left: 1em; padding-right: 1em; text-align: center; vertical-align: top\">22629</td>\n",
       "        <td style=\"padding-left: 1em; padding-right: 1em; text-align: center; vertical-align: top\">17.3428758381</td>\n",
       "        <td style=\"padding-left: 1em; padding-right: 1em; text-align: center; vertical-align: top\">9</td>\n",
       "    </tr>\n",
       "    <tr>\n",
       "        <td style=\"padding-left: 1em; padding-right: 1em; text-align: center; vertical-align: top\">Japan</td>\n",
       "        <td style=\"padding-left: 1em; padding-right: 1em; text-align: center; vertical-align: top\">POST</td>\n",
       "        <td style=\"padding-left: 1em; padding-right: 1em; text-align: center; vertical-align: top\">17.2755560873</td>\n",
       "        <td style=\"padding-left: 1em; padding-right: 1em; text-align: center; vertical-align: top\">10</td>\n",
       "    </tr>\n",
       "</table>\n",
       "[30 rows x 4 columns]<br/>Note: Only the head of the SFrame is printed.<br/>You can use print_rows(num_rows=m, num_columns=n) to print more rows and columns.\n",
       "</div>"
      ],
      "text/plain": [
       "Columns:\n",
       "\tCountry\tstr\n",
       "\tStockCode\tstr\n",
       "\tscore\tfloat\n",
       "\trank\tint\n",
       "\n",
       "Rows: 30\n",
       "\n",
       "Data:\n",
       "+---------+-----------+---------------+------+\n",
       "| Country | StockCode |     score     | rank |\n",
       "+---------+-----------+---------------+------+\n",
       "|  Japan  |   17003   | 20.1053513286 |  1   |\n",
       "|  Japan  |   22693   |  18.584721565 |  2   |\n",
       "|  Japan  |   23166   | 18.3380244968 |  3   |\n",
       "|  Japan  |   15036   | 18.2164160011 |  4   |\n",
       "|  Japan  |   85099B  | 18.2015609739 |  5   |\n",
       "|  Japan  |   21212   |  18.040091276 |  6   |\n",
       "|  Japan  |   21977   | 17.5992105005 |  7   |\n",
       "|  Japan  |   84879   | 17.4928126333 |  8   |\n",
       "|  Japan  |   22629   | 17.3428758381 |  9   |\n",
       "|  Japan  |    POST   | 17.2755560873 |  10  |\n",
       "+---------+-----------+---------------+------+\n",
       "[30 rows x 4 columns]\n",
       "Note: Only the head of the SFrame is printed.\n",
       "You can use print_rows(num_rows=m, num_columns=n) to print more rows and columns."
      ]
     },
     "execution_count": 55,
     "metadata": {},
     "output_type": "execute_result"
    }
   ],
   "source": [
    "results"
   ]
  },
  {
   "cell_type": "markdown",
   "metadata": {},
   "source": [
    "# Next Steps\n",
    "The model does not have the characteristics of the customer i.e characteristics for the countries. This data is needed to make model predictions for new countries coming into the system. \\"
   ]
  }
 ],
 "metadata": {
  "anaconda-cloud": {},
  "kernelspec": {
   "display_name": "Python [Root]",
   "language": "python",
   "name": "Python [Root]"
  },
  "language_info": {
   "codemirror_mode": {
    "name": "ipython",
    "version": 2
   },
   "file_extension": ".py",
   "mimetype": "text/x-python",
   "name": "python",
   "nbconvert_exporter": "python",
   "pygments_lexer": "ipython2",
   "version": "2.7.12"
  }
 },
 "nbformat": 4,
 "nbformat_minor": 0
}
