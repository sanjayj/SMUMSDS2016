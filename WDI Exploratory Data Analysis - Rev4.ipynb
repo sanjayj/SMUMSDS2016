{
 "cells": [
  {
   "cell_type": "markdown",
   "metadata": {},
   "source": [
    "# Understanding the Data\n",
    "\n",
    "# World Data Indicator Exploratory Data Analysis (EDA)\n",
    "\n",
    "The World Data Indicator (WDI) data set has yet to be explored.  It is full of promise and curiosity to understand how the world data indicators are related in any way form or fashion.  From a data scientist point of view,  there is only one way to understand the data set.  This is, the data set is a gift that will remain a mystery until we unwrap it and do a thorough exploratory data analysis.\n",
    "\n",
    "\n",
    "The WDI data set does **NOT** have the luxury of putting all of the data into one csv data file.   The WDI data set is composed of the following separate data sets:\n",
    "\n",
    "\n",
    "* Country.csv\n",
    "* CountryNotes.csv\n",
    "* database.sqlite\n",
    "* Footnotes.csv\n",
    "* Indicators.csv\n",
    "* Series.csv\n",
    "* SeriesNotes.csv\n",
    "\n",
    "Our goal is to create a global data frame which ties all of above data sets into one using Python's pandas libraries or SFrames.   This will later enable our team to easily explore and visualize the data set using simple Python programming techniques. \n",
    "\n",
    "Data is expensive and none of the initial data collected will be discarded.  Our team took the approach to analyze each data set and understand how the above data set's are related.  \n"
   ]
  },
  {
   "cell_type": "code",
   "execution_count": 21,
   "metadata": {
    "collapsed": false
   },
   "outputs": [],
   "source": [
    "import sqlite3\n",
    "import pandas as pd\n",
    "import numpy as np\n",
    "import matplotlib.pyplot as plt\n",
    "import seaborn as sns\n",
    "import matplotlib.pylab as pylab\n",
    "params = {'legend.fontsize': 'x-large',\n",
    "          'figure.figsize': (15, 5),\n",
    "         'axes.labelsize': 'x-large',\n",
    "         'axes.titlesize':'x-large',\n",
    "         'xtick.labelsize':'x-large',\n",
    "         'ytick.labelsize':'x-large'}\n",
    "pylab.rcParams.update(params)\n",
    "%matplotlib inline"
   ]
  },
  {
   "cell_type": "code",
   "execution_count": 3,
   "metadata": {
    "collapsed": true
   },
   "outputs": [],
   "source": [
    "# Path to where all of the data set files resides \n",
    "path = 'data'"
   ]
  },
  {
   "cell_type": "markdown",
   "metadata": {
    "collapsed": true
   },
   "source": [
    "# Data Understanding - Describe the meaning and type of data for each attribute in the data file\n",
    "\n",
    "This data is spread across multiple discrete datasets.  The one dataset that is most useful for analysis is the Indicators.csv dataset as it includes values for all of the attributes, or indicators, that the WDI gathers.  All other datasets include metadata and descriptive Nominal attributes.  One such example of this is the Country.csv dataset.  This dataset includes 31 attributes.  These features include 6 that uniquely identify each country, while the rest of the features describe various financial, agricultural, health, and government metadata for each country in the dataset.  A brief description of these attributes are included below:  \n",
    "\n",
    "## Country.csv Dataset\n",
    "### ATTRIBUTE NAME - TYPE - MEANING\n",
    "CountryCode - Nominal - A unique three letter code representing each country.  \n",
    "ShortName - Nominal - A brief version of the country name.  \n",
    "TableName - Nominal - Each countries name in a format appropriate for displaying in tables.  \n",
    "LongName - Nominal - The full version of the name for each country.  \n",
    "Alpha2Code - Nominal - A unique two letter code representing each country.  \n",
    "CurrencyUnit - Nominal - The full name of the unit of currency used in each country.  \n",
    "SpecialNotes - Nominal - Any miscellaneous notes that the researchers wanted to add to the country record, such as unusual fiscal year schedules that could impact one or more other attributes.  \n",
    "Region - Nominal - The major geographical region that each country belongs to.  \n",
    "IncomeGroup - Ordinal - A description of the income group for each country relative to others in the dataset.  \n",
    "Wb2Code - Nominal - Another unique two letter code representing each country, similar to the Alpha2Code feature.  \n",
    "NationalAccountsBaseYear - Integer - The base year used for calculating an index for the country's financial health.  \n",
    "NationalAccountsReferenceYear - Integer - A reference year used for calculating an index for the country's financial health if for some reason they do not have or do not use a base year.  \n",
    "SnaPriceValuation - Binary - A descriptive indicator of whether the country accounts for its financials by calculating Value Added at Basic Prices (VAB) or Value Added at Producer Prices (VAP).  \n",
    "LendingCategory - Nominal - The category that each country has been classified as for the purposes of lending from the world bank.  These classifications are typically IDA, IBRD, or \"Blend\" for those countries both poor enough to borrow from the IDA but also creditworthy enough to borrow from the IBRD.  \n",
    "OtherGroups - Nominal - A miscellaneous listing of any other major groups of nations that the country may fall under, such as \"HIPC\" for the Heavily Indebted Poor Countries.  \n",
    "SystemOfNationalAccounts - Nominal - The system used by the country to manage national accounts.  \n",
    "AlternativeConversionFactor - Integer - A conversion rate used by the World Bank when actual conversion rates are deemed inaccurate or inadequate for the needs of the data.   \n",
    "PppSurveyYear - Integer - The most recent year in which Purchasing Power Parity, or PPP, was surveyed within the country.   \n",
    "BalanceOfPaymentsManualInUse - Nominal - A brief description of the manual used by each country to manage its balance of payments.   \n",
    "ExternalDebtReportingStatus - Nominal - How the country reports external debt, such as \"actual\" if they report the actual value of the external debt.    \n",
    "SystemOfTrade - Binary - An indicator of whether each country uses a general system of trade or a special system of trade.  \n",
    "GovernmentAccountingConcept - Nominal - A description of how each country handles their national finances, such as centralized budget versus non-centralized, etc.  \n",
    "ImfDataDisseminationStandard - Nominal - Which global data dissemination standard the country adheres to, if any.  \n",
    "LatestPopulationCensus - Integer - The year in which the most recent census of each country's population was administered.  \n",
    "LatestHouseholdSurvey - Integer/Nominal - The year in which the most recent household survey was administered to the populace of each country, as well as a description of the type of survey performed.  \n",
    "SourceOfMostRecentIncomeAndExpenditureData - Nominal/Integer - What survey produced the most recent income and expenditure data for each country, as well as the year in which that survey was administered.  \n",
    "VitalRegistrationComplete - Binary - A Yes/No record of whether each country completed vital registration.  \n",
    "LatestAgriculturalCensus - Integer - The year in which the most recent agricultural census was administered for each country.  \n",
    "LatestIndustrialData - Integer - The year in which the most recent industrial data was gathered for each country.  \n",
    "LatestTradeData - Integer - The year in which the latest trade data was gathered for each country.  \n",
    "LatestWaterWithdrawalData - Integer - The year in which the latest water withdrawal data was gathered for each country.  \n",
    "  \n",
    "  \n",
    "While this is helpful, the majority of our analysis will be performed on the Indicators.csv file, which includes the values of interest that are predominantly continuous or integer values.  One point of interest in this dataset is that each indicator is not given its own column in the data, rather there is one \"IndicatorName\" column that identifies the Indicator and the actual value for that Indicator, or Attribute, is given in a Value column.  This presented an interesting twist on the standard dataset layout which is accounted for in our code through the rest of this project.  I will detail the name, type, and meaning for the 6 Attributes or columns that are included in the indicators.csv dataset as it is currently constructed:  \n",
    "  \n",
    "## Indicators.csv Dataset  \n",
    "### ATTRIBUTE NAME - TYPE - MEANING  \n",
    "CountryName - Nominal - The full name for each country in the dataset.  \n",
    "CountryCode - Nominal - A three letter code that uniquely identifies each country in the dataset.  \n",
    "IndicatorName - Nominal - Includes the name and a brief description of the Indicator that this row's value relates to.\n",
    "IndicatorCode - Nominal - A three letter coded that unique identifies each Indicator in the dataset.\n",
    "Year - Integer - The year for which the Value was collected for the given Indicator.\n",
    "Value - Varies, but usually Coninuous - The Value colleected in the given Year for the given Indicator."
   ]
  },
  {
   "cell_type": "markdown",
   "metadata": {},
   "source": [
    "# Country.csv"
   ]
  },
  {
   "cell_type": "code",
   "execution_count": 5,
   "metadata": {
    "collapsed": false
   },
   "outputs": [
    {
     "name": "stdout",
     "output_type": "stream",
     "text": [
      "<class 'pandas.core.frame.DataFrame'>\n",
      "Int64Index: 247 entries, 0 to 246\n",
      "Data columns (total 31 columns):\n",
      "CountryCode                                   247 non-null object\n",
      "ShortName                                     247 non-null object\n",
      "TableName                                     247 non-null object\n",
      "LongName                                      247 non-null object\n",
      "Alpha2Code                                    244 non-null object\n",
      "CurrencyUnit                                  214 non-null object\n",
      "SpecialNotes                                  164 non-null object\n",
      "Region                                        214 non-null object\n",
      "IncomeGroup                                   214 non-null object\n",
      "Wb2Code                                       246 non-null object\n",
      "NationalAccountsBaseYear                      205 non-null object\n",
      "NationalAccountsReferenceYear                 54 non-null object\n",
      "SnaPriceValuation                             198 non-null object\n",
      "LendingCategory                               144 non-null object\n",
      "OtherGroups                                   59 non-null object\n",
      "SystemOfNationalAccounts                      214 non-null object\n",
      "AlternativeConversionFactor                   47 non-null object\n",
      "PppSurveyYear                                 191 non-null object\n",
      "BalanceOfPaymentsManualInUse                  181 non-null object\n",
      "ExternalDebtReportingStatus                   124 non-null object\n",
      "SystemOfTrade                                 200 non-null object\n",
      "GovernmentAccountingConcept                   161 non-null object\n",
      "ImfDataDisseminationStandard                  183 non-null object\n",
      "LatestPopulationCensus                        213 non-null object\n",
      "LatestHouseholdSurvey                         147 non-null object\n",
      "SourceOfMostRecentIncomeAndExpenditureData    158 non-null object\n",
      "VitalRegistrationComplete                     112 non-null object\n",
      "LatestAgriculturalCensus                      142 non-null object\n",
      "LatestIndustrialData                          113 non-null float64\n",
      "LatestTradeData                               186 non-null float64\n",
      "LatestWaterWithdrawalData                     180 non-null float64\n",
      "dtypes: float64(3), object(28)\n",
      "memory usage: 61.8+ KB\n"
     ]
    }
   ],
   "source": [
    "# now let's read in the same data using pandas to save it as a dataframe\n",
    "filename = path + '\\Country.csv'\n",
    "\n",
    "df_country = pd.read_csv(filename) # read in the csv file\n",
    "df_country.info()"
   ]
  },
  {
   "cell_type": "code",
   "execution_count": 6,
   "metadata": {
    "collapsed": false
   },
   "outputs": [
    {
     "data": {
      "text/html": [
       "<div>\n",
       "<table border=\"1\" class=\"dataframe\">\n",
       "  <thead>\n",
       "    <tr style=\"text-align: right;\">\n",
       "      <th></th>\n",
       "      <th>LatestIndustrialData</th>\n",
       "      <th>LatestTradeData</th>\n",
       "      <th>LatestWaterWithdrawalData</th>\n",
       "    </tr>\n",
       "  </thead>\n",
       "  <tbody>\n",
       "    <tr>\n",
       "      <th>count</th>\n",
       "      <td>113.000000</td>\n",
       "      <td>186.000000</td>\n",
       "      <td>180.000000</td>\n",
       "    </tr>\n",
       "    <tr>\n",
       "      <th>mean</th>\n",
       "      <td>2009.079646</td>\n",
       "      <td>2011.854839</td>\n",
       "      <td>2003.983333</td>\n",
       "    </tr>\n",
       "    <tr>\n",
       "      <th>std</th>\n",
       "      <td>2.560488</td>\n",
       "      <td>2.779345</td>\n",
       "      <td>4.938137</td>\n",
       "    </tr>\n",
       "    <tr>\n",
       "      <th>min</th>\n",
       "      <td>2001.000000</td>\n",
       "      <td>1995.000000</td>\n",
       "      <td>1975.000000</td>\n",
       "    </tr>\n",
       "    <tr>\n",
       "      <th>25%</th>\n",
       "      <td>2009.000000</td>\n",
       "      <td>2012.000000</td>\n",
       "      <td>2001.000000</td>\n",
       "    </tr>\n",
       "    <tr>\n",
       "      <th>50%</th>\n",
       "      <td>2010.000000</td>\n",
       "      <td>2013.000000</td>\n",
       "      <td>2005.000000</td>\n",
       "    </tr>\n",
       "    <tr>\n",
       "      <th>75%</th>\n",
       "      <td>2011.000000</td>\n",
       "      <td>2013.000000</td>\n",
       "      <td>2007.000000</td>\n",
       "    </tr>\n",
       "    <tr>\n",
       "      <th>max</th>\n",
       "      <td>2011.000000</td>\n",
       "      <td>2013.000000</td>\n",
       "      <td>2013.000000</td>\n",
       "    </tr>\n",
       "  </tbody>\n",
       "</table>\n",
       "</div>"
      ],
      "text/plain": [
       "       LatestIndustrialData  LatestTradeData  LatestWaterWithdrawalData\n",
       "count            113.000000       186.000000                 180.000000\n",
       "mean            2009.079646      2011.854839                2003.983333\n",
       "std                2.560488         2.779345                   4.938137\n",
       "min             2001.000000      1995.000000                1975.000000\n",
       "25%             2009.000000      2012.000000                2001.000000\n",
       "50%             2010.000000      2013.000000                2005.000000\n",
       "75%             2011.000000      2013.000000                2007.000000\n",
       "max             2011.000000      2013.000000                2013.000000"
      ]
     },
     "execution_count": 6,
     "metadata": {},
     "output_type": "execute_result"
    }
   ],
   "source": [
    "df_country.describe()"
   ]
  },
  {
   "cell_type": "code",
   "execution_count": 18,
   "metadata": {
    "collapsed": false
   },
   "outputs": [
    {
     "data": {
      "text/html": [
       "<div>\n",
       "<table border=\"1\" class=\"dataframe\">\n",
       "  <thead>\n",
       "    <tr style=\"text-align: right;\">\n",
       "      <th></th>\n",
       "      <th>CountryCode</th>\n",
       "      <th>ShortName</th>\n",
       "      <th>TableName</th>\n",
       "      <th>LongName</th>\n",
       "      <th>Alpha2Code</th>\n",
       "      <th>CurrencyUnit</th>\n",
       "      <th>SpecialNotes</th>\n",
       "      <th>Region</th>\n",
       "      <th>IncomeGroup</th>\n",
       "      <th>Wb2Code</th>\n",
       "      <th>NationalAccountsBaseYear</th>\n",
       "      <th>NationalAccountsReferenceYear</th>\n",
       "      <th>SnaPriceValuation</th>\n",
       "      <th>LendingCategory</th>\n",
       "      <th>OtherGroups</th>\n",
       "      <th>SystemOfNationalAccounts</th>\n",
       "      <th>AlternativeConversionFactor</th>\n",
       "      <th>PppSurveyYear</th>\n",
       "      <th>BalanceOfPaymentsManualInUse</th>\n",
       "      <th>ExternalDebtReportingStatus</th>\n",
       "      <th>SystemOfTrade</th>\n",
       "      <th>GovernmentAccountingConcept</th>\n",
       "      <th>ImfDataDisseminationStandard</th>\n",
       "      <th>LatestPopulationCensus</th>\n",
       "      <th>LatestHouseholdSurvey</th>\n",
       "      <th>SourceOfMostRecentIncomeAndExpenditureData</th>\n",
       "      <th>VitalRegistrationComplete</th>\n",
       "      <th>LatestAgriculturalCensus</th>\n",
       "      <th>LatestIndustrialData</th>\n",
       "      <th>LatestTradeData</th>\n",
       "      <th>LatestWaterWithdrawalData</th>\n",
       "    </tr>\n",
       "  </thead>\n",
       "  <tbody>\n",
       "    <tr>\n",
       "      <th>0</th>\n",
       "      <td>AFG</td>\n",
       "      <td>Afghanistan</td>\n",
       "      <td>Afghanistan</td>\n",
       "      <td>Islamic State of Afghanistan</td>\n",
       "      <td>AF</td>\n",
       "      <td>Afghan afghani</td>\n",
       "      <td>Fiscal year end: March 20; reporting period fo...</td>\n",
       "      <td>South Asia</td>\n",
       "      <td>Low income</td>\n",
       "      <td>AF</td>\n",
       "      <td>2002/03</td>\n",
       "      <td>NaN</td>\n",
       "      <td>Value added at basic prices (VAB)</td>\n",
       "      <td>IDA</td>\n",
       "      <td>HIPC</td>\n",
       "      <td>Country uses the 1993 System of National Accou...</td>\n",
       "      <td>NaN</td>\n",
       "      <td>NaN</td>\n",
       "      <td>NaN</td>\n",
       "      <td>Actual</td>\n",
       "      <td>General trade system</td>\n",
       "      <td>Consolidated central government</td>\n",
       "      <td>General Data Dissemination System (GDDS)</td>\n",
       "      <td>1979</td>\n",
       "      <td>Multiple Indicator Cluster Survey (MICS), 2010/11</td>\n",
       "      <td>Integrated household survey (IHS), 2008</td>\n",
       "      <td>NaN</td>\n",
       "      <td>2013/14</td>\n",
       "      <td>NaN</td>\n",
       "      <td>2013</td>\n",
       "      <td>2000</td>\n",
       "    </tr>\n",
       "    <tr>\n",
       "      <th>1</th>\n",
       "      <td>ALB</td>\n",
       "      <td>Albania</td>\n",
       "      <td>Albania</td>\n",
       "      <td>Republic of Albania</td>\n",
       "      <td>AL</td>\n",
       "      <td>Albanian lek</td>\n",
       "      <td>NaN</td>\n",
       "      <td>Europe &amp; Central Asia</td>\n",
       "      <td>Upper middle income</td>\n",
       "      <td>AL</td>\n",
       "      <td>Original chained constant price data are resca...</td>\n",
       "      <td>1996</td>\n",
       "      <td>Value added at basic prices (VAB)</td>\n",
       "      <td>IBRD</td>\n",
       "      <td>NaN</td>\n",
       "      <td>Country uses the 1993 System of National Accou...</td>\n",
       "      <td>NaN</td>\n",
       "      <td>Rolling</td>\n",
       "      <td>IMF Balance of Payments Manual, 6th edition.</td>\n",
       "      <td>Actual</td>\n",
       "      <td>General trade system</td>\n",
       "      <td>Budgetary central government</td>\n",
       "      <td>General Data Dissemination System (GDDS)</td>\n",
       "      <td>2011</td>\n",
       "      <td>Demographic and Health Survey (DHS), 2008/09</td>\n",
       "      <td>Living Standards Measurement Study Survey (LSM...</td>\n",
       "      <td>Yes</td>\n",
       "      <td>2012</td>\n",
       "      <td>2011</td>\n",
       "      <td>2013</td>\n",
       "      <td>2006</td>\n",
       "    </tr>\n",
       "    <tr>\n",
       "      <th>2</th>\n",
       "      <td>DZA</td>\n",
       "      <td>Algeria</td>\n",
       "      <td>Algeria</td>\n",
       "      <td>People's Democratic Republic of Algeria</td>\n",
       "      <td>DZ</td>\n",
       "      <td>Algerian dinar</td>\n",
       "      <td>NaN</td>\n",
       "      <td>Middle East &amp; North Africa</td>\n",
       "      <td>Upper middle income</td>\n",
       "      <td>DZ</td>\n",
       "      <td>1980</td>\n",
       "      <td>NaN</td>\n",
       "      <td>Value added at basic prices (VAB)</td>\n",
       "      <td>IBRD</td>\n",
       "      <td>NaN</td>\n",
       "      <td>Country uses the 1968 System of National Accou...</td>\n",
       "      <td>NaN</td>\n",
       "      <td>2011</td>\n",
       "      <td>IMF Balance of Payments Manual, 6th edition.</td>\n",
       "      <td>Actual</td>\n",
       "      <td>Special trade system</td>\n",
       "      <td>Budgetary central government</td>\n",
       "      <td>General Data Dissemination System (GDDS)</td>\n",
       "      <td>2008</td>\n",
       "      <td>Multiple Indicator Cluster Survey (MICS), 2012</td>\n",
       "      <td>Integrated household survey (IHS), 1995</td>\n",
       "      <td>NaN</td>\n",
       "      <td>NaN</td>\n",
       "      <td>2010</td>\n",
       "      <td>2013</td>\n",
       "      <td>2001</td>\n",
       "    </tr>\n",
       "    <tr>\n",
       "      <th>3</th>\n",
       "      <td>ASM</td>\n",
       "      <td>American Samoa</td>\n",
       "      <td>American Samoa</td>\n",
       "      <td>American Samoa</td>\n",
       "      <td>AS</td>\n",
       "      <td>U.S. dollar</td>\n",
       "      <td>NaN</td>\n",
       "      <td>East Asia &amp; Pacific</td>\n",
       "      <td>Upper middle income</td>\n",
       "      <td>AS</td>\n",
       "      <td>NaN</td>\n",
       "      <td>NaN</td>\n",
       "      <td>NaN</td>\n",
       "      <td>NaN</td>\n",
       "      <td>NaN</td>\n",
       "      <td>Country uses the 1968 System of National Accou...</td>\n",
       "      <td>NaN</td>\n",
       "      <td>2011 (household consumption only).</td>\n",
       "      <td>NaN</td>\n",
       "      <td>NaN</td>\n",
       "      <td>Special trade system</td>\n",
       "      <td>NaN</td>\n",
       "      <td>NaN</td>\n",
       "      <td>2010</td>\n",
       "      <td>NaN</td>\n",
       "      <td>NaN</td>\n",
       "      <td>Yes</td>\n",
       "      <td>2007</td>\n",
       "      <td>NaN</td>\n",
       "      <td>NaN</td>\n",
       "      <td>NaN</td>\n",
       "    </tr>\n",
       "    <tr>\n",
       "      <th>4</th>\n",
       "      <td>ADO</td>\n",
       "      <td>Andorra</td>\n",
       "      <td>Andorra</td>\n",
       "      <td>Principality of Andorra</td>\n",
       "      <td>AD</td>\n",
       "      <td>Euro</td>\n",
       "      <td>NaN</td>\n",
       "      <td>Europe &amp; Central Asia</td>\n",
       "      <td>High income: nonOECD</td>\n",
       "      <td>AD</td>\n",
       "      <td>2000</td>\n",
       "      <td>NaN</td>\n",
       "      <td>Value added at basic prices (VAB)</td>\n",
       "      <td>NaN</td>\n",
       "      <td>NaN</td>\n",
       "      <td>Country uses the 1968 System of National Accou...</td>\n",
       "      <td>NaN</td>\n",
       "      <td>NaN</td>\n",
       "      <td>NaN</td>\n",
       "      <td>NaN</td>\n",
       "      <td>Special trade system</td>\n",
       "      <td>NaN</td>\n",
       "      <td>NaN</td>\n",
       "      <td>2011. Population data compiled from administra...</td>\n",
       "      <td>NaN</td>\n",
       "      <td>NaN</td>\n",
       "      <td>Yes</td>\n",
       "      <td>NaN</td>\n",
       "      <td>NaN</td>\n",
       "      <td>2006</td>\n",
       "      <td>NaN</td>\n",
       "    </tr>\n",
       "    <tr>\n",
       "      <th>5</th>\n",
       "      <td>AGO</td>\n",
       "      <td>Angola</td>\n",
       "      <td>Angola</td>\n",
       "      <td>People's Republic of Angola</td>\n",
       "      <td>AO</td>\n",
       "      <td>Angolan kwanza</td>\n",
       "      <td>April 2013 database update: Based on IMF data,...</td>\n",
       "      <td>Sub-Saharan Africa</td>\n",
       "      <td>Upper middle income</td>\n",
       "      <td>AO</td>\n",
       "      <td>2002</td>\n",
       "      <td>NaN</td>\n",
       "      <td>Value added at producer prices (VAP)</td>\n",
       "      <td>IBRD</td>\n",
       "      <td>NaN</td>\n",
       "      <td>Country uses the 1993 System of National Accou...</td>\n",
       "      <td>199196</td>\n",
       "      <td>2011</td>\n",
       "      <td>IMF Balance of Payments Manual, 6th edition.</td>\n",
       "      <td>Actual</td>\n",
       "      <td>Special trade system</td>\n",
       "      <td>Budgetary central government</td>\n",
       "      <td>General Data Dissemination System (GDDS)</td>\n",
       "      <td>2014</td>\n",
       "      <td>Malaria Indicator Survey (MIS), 2011</td>\n",
       "      <td>Integrated household survey (IHS), 2008/09</td>\n",
       "      <td>NaN</td>\n",
       "      <td>2015</td>\n",
       "      <td>NaN</td>\n",
       "      <td>NaN</td>\n",
       "      <td>2005</td>\n",
       "    </tr>\n",
       "  </tbody>\n",
       "</table>\n",
       "</div>"
      ],
      "text/plain": [
       "  CountryCode       ShortName       TableName  \\\n",
       "0         AFG     Afghanistan     Afghanistan   \n",
       "1         ALB         Albania         Albania   \n",
       "2         DZA         Algeria         Algeria   \n",
       "3         ASM  American Samoa  American Samoa   \n",
       "4         ADO         Andorra         Andorra   \n",
       "5         AGO          Angola          Angola   \n",
       "\n",
       "                                  LongName Alpha2Code    CurrencyUnit  \\\n",
       "0             Islamic State of Afghanistan         AF  Afghan afghani   \n",
       "1                      Republic of Albania         AL    Albanian lek   \n",
       "2  People's Democratic Republic of Algeria         DZ  Algerian dinar   \n",
       "3                           American Samoa         AS     U.S. dollar   \n",
       "4                  Principality of Andorra         AD            Euro   \n",
       "5              People's Republic of Angola         AO  Angolan kwanza   \n",
       "\n",
       "                                        SpecialNotes  \\\n",
       "0  Fiscal year end: March 20; reporting period fo...   \n",
       "1                                                NaN   \n",
       "2                                                NaN   \n",
       "3                                                NaN   \n",
       "4                                                NaN   \n",
       "5  April 2013 database update: Based on IMF data,...   \n",
       "\n",
       "                       Region           IncomeGroup Wb2Code  \\\n",
       "0                  South Asia            Low income      AF   \n",
       "1       Europe & Central Asia   Upper middle income      AL   \n",
       "2  Middle East & North Africa   Upper middle income      DZ   \n",
       "3         East Asia & Pacific   Upper middle income      AS   \n",
       "4       Europe & Central Asia  High income: nonOECD      AD   \n",
       "5          Sub-Saharan Africa   Upper middle income      AO   \n",
       "\n",
       "                            NationalAccountsBaseYear  \\\n",
       "0                                            2002/03   \n",
       "1  Original chained constant price data are resca...   \n",
       "2                                               1980   \n",
       "3                                                NaN   \n",
       "4                                               2000   \n",
       "5                                               2002   \n",
       "\n",
       "  NationalAccountsReferenceYear                     SnaPriceValuation  \\\n",
       "0                           NaN     Value added at basic prices (VAB)   \n",
       "1                          1996     Value added at basic prices (VAB)   \n",
       "2                           NaN     Value added at basic prices (VAB)   \n",
       "3                           NaN                                   NaN   \n",
       "4                           NaN     Value added at basic prices (VAB)   \n",
       "5                           NaN  Value added at producer prices (VAP)   \n",
       "\n",
       "  LendingCategory OtherGroups  \\\n",
       "0             IDA        HIPC   \n",
       "1            IBRD         NaN   \n",
       "2            IBRD         NaN   \n",
       "3             NaN         NaN   \n",
       "4             NaN         NaN   \n",
       "5            IBRD         NaN   \n",
       "\n",
       "                            SystemOfNationalAccounts  \\\n",
       "0  Country uses the 1993 System of National Accou...   \n",
       "1  Country uses the 1993 System of National Accou...   \n",
       "2  Country uses the 1968 System of National Accou...   \n",
       "3  Country uses the 1968 System of National Accou...   \n",
       "4  Country uses the 1968 System of National Accou...   \n",
       "5  Country uses the 1993 System of National Accou...   \n",
       "\n",
       "  AlternativeConversionFactor                       PppSurveyYear  \\\n",
       "0                         NaN                                 NaN   \n",
       "1                         NaN                             Rolling   \n",
       "2                         NaN                                2011   \n",
       "3                         NaN  2011 (household consumption only).   \n",
       "4                         NaN                                 NaN   \n",
       "5                     199196                                2011   \n",
       "\n",
       "                   BalanceOfPaymentsManualInUse ExternalDebtReportingStatus  \\\n",
       "0                                           NaN                      Actual   \n",
       "1  IMF Balance of Payments Manual, 6th edition.                      Actual   \n",
       "2  IMF Balance of Payments Manual, 6th edition.                      Actual   \n",
       "3                                           NaN                         NaN   \n",
       "4                                           NaN                         NaN   \n",
       "5  IMF Balance of Payments Manual, 6th edition.                      Actual   \n",
       "\n",
       "          SystemOfTrade      GovernmentAccountingConcept  \\\n",
       "0  General trade system  Consolidated central government   \n",
       "1  General trade system     Budgetary central government   \n",
       "2  Special trade system     Budgetary central government   \n",
       "3  Special trade system                              NaN   \n",
       "4  Special trade system                              NaN   \n",
       "5  Special trade system     Budgetary central government   \n",
       "\n",
       "               ImfDataDisseminationStandard  \\\n",
       "0  General Data Dissemination System (GDDS)   \n",
       "1  General Data Dissemination System (GDDS)   \n",
       "2  General Data Dissemination System (GDDS)   \n",
       "3                                       NaN   \n",
       "4                                       NaN   \n",
       "5  General Data Dissemination System (GDDS)   \n",
       "\n",
       "                              LatestPopulationCensus  \\\n",
       "0                                               1979   \n",
       "1                                               2011   \n",
       "2                                               2008   \n",
       "3                                               2010   \n",
       "4  2011. Population data compiled from administra...   \n",
       "5                                               2014   \n",
       "\n",
       "                               LatestHouseholdSurvey  \\\n",
       "0  Multiple Indicator Cluster Survey (MICS), 2010/11   \n",
       "1       Demographic and Health Survey (DHS), 2008/09   \n",
       "2     Multiple Indicator Cluster Survey (MICS), 2012   \n",
       "3                                                NaN   \n",
       "4                                                NaN   \n",
       "5               Malaria Indicator Survey (MIS), 2011   \n",
       "\n",
       "          SourceOfMostRecentIncomeAndExpenditureData  \\\n",
       "0            Integrated household survey (IHS), 2008   \n",
       "1  Living Standards Measurement Study Survey (LSM...   \n",
       "2            Integrated household survey (IHS), 1995   \n",
       "3                                                NaN   \n",
       "4                                                NaN   \n",
       "5         Integrated household survey (IHS), 2008/09   \n",
       "\n",
       "  VitalRegistrationComplete LatestAgriculturalCensus  LatestIndustrialData  \\\n",
       "0                       NaN                  2013/14                   NaN   \n",
       "1                       Yes                     2012                  2011   \n",
       "2                       NaN                      NaN                  2010   \n",
       "3                       Yes                     2007                   NaN   \n",
       "4                       Yes                      NaN                   NaN   \n",
       "5                       NaN                     2015                   NaN   \n",
       "\n",
       "   LatestTradeData  LatestWaterWithdrawalData  \n",
       "0             2013                       2000  \n",
       "1             2013                       2006  \n",
       "2             2013                       2001  \n",
       "3              NaN                        NaN  \n",
       "4             2006                        NaN  \n",
       "5              NaN                       2005  "
      ]
     },
     "execution_count": 18,
     "metadata": {},
     "output_type": "execute_result"
    }
   ],
   "source": [
    "pd.options.display.max_columns = None\n",
    "df_country.head(6)"
   ]
  },
  {
   "cell_type": "markdown",
   "metadata": {},
   "source": [
    "# CountryNotes.csv "
   ]
  },
  {
   "cell_type": "code",
   "execution_count": null,
   "metadata": {
    "collapsed": true
   },
   "outputs": [],
   "source": [
    "# TO DO\n",
    "# EXPLAIN EACH FEATURE IN LIST\n",
    "# FEATURE NAME       DESCRIPTION\n",
    "# CountryCode        unique country code\n",
    "# SeriesCode\n",
    "# Description\n",
    "# LatestWaterWithdrawalData"
   ]
  },
  {
   "cell_type": "code",
   "execution_count": 6,
   "metadata": {
    "collapsed": false
   },
   "outputs": [
    {
     "name": "stdout",
     "output_type": "stream",
     "text": [
      "<class 'pandas.core.frame.DataFrame'>\n",
      "RangeIndex: 4857 entries, 0 to 4856\n",
      "Data columns (total 3 columns):\n",
      "Countrycode    4857 non-null object\n",
      "Seriescode     4857 non-null object\n",
      "Description    4857 non-null object\n",
      "dtypes: object(3)\n",
      "memory usage: 113.9+ KB\n"
     ]
    }
   ],
   "source": [
    "# now let's read in the same data using pandas to save it as a dataframe\n",
    "filename = path + '\\CountryNotes.csv'\n",
    "\n",
    "df_country_notes = pd.read_csv(filename) # read in the csv file\n",
    "df_country_notes.info()"
   ]
  },
  {
   "cell_type": "code",
   "execution_count": 19,
   "metadata": {
    "collapsed": false
   },
   "outputs": [
    {
     "data": {
      "text/html": [
       "<div>\n",
       "<table border=\"1\" class=\"dataframe\">\n",
       "  <thead>\n",
       "    <tr style=\"text-align: right;\">\n",
       "      <th></th>\n",
       "      <th>Countrycode</th>\n",
       "      <th>Seriescode</th>\n",
       "      <th>Description</th>\n",
       "    </tr>\n",
       "  </thead>\n",
       "  <tbody>\n",
       "    <tr>\n",
       "      <th>count</th>\n",
       "      <td>4857</td>\n",
       "      <td>4857</td>\n",
       "      <td>4857</td>\n",
       "    </tr>\n",
       "    <tr>\n",
       "      <th>unique</th>\n",
       "      <td>215</td>\n",
       "      <td>259</td>\n",
       "      <td>433</td>\n",
       "    </tr>\n",
       "    <tr>\n",
       "      <th>top</th>\n",
       "      <td>ARG</td>\n",
       "      <td>SP.POP.GROW</td>\n",
       "      <td>Data sources : United Nations World Population...</td>\n",
       "    </tr>\n",
       "    <tr>\n",
       "      <th>freq</th>\n",
       "      <td>111</td>\n",
       "      <td>214</td>\n",
       "      <td>998</td>\n",
       "    </tr>\n",
       "  </tbody>\n",
       "</table>\n",
       "</div>"
      ],
      "text/plain": [
       "       Countrycode   Seriescode  \\\n",
       "count         4857         4857   \n",
       "unique         215          259   \n",
       "top            ARG  SP.POP.GROW   \n",
       "freq           111          214   \n",
       "\n",
       "                                              Description  \n",
       "count                                                4857  \n",
       "unique                                                433  \n",
       "top     Data sources : United Nations World Population...  \n",
       "freq                                                  998  "
      ]
     },
     "execution_count": 19,
     "metadata": {},
     "output_type": "execute_result"
    }
   ],
   "source": [
    "df_country_notes.describe()"
   ]
  },
  {
   "cell_type": "code",
   "execution_count": 7,
   "metadata": {
    "collapsed": false
   },
   "outputs": [
    {
     "data": {
      "text/html": [
       "<div>\n",
       "<table border=\"1\" class=\"dataframe\">\n",
       "  <thead>\n",
       "    <tr style=\"text-align: right;\">\n",
       "      <th></th>\n",
       "      <th>Countrycode</th>\n",
       "      <th>Seriescode</th>\n",
       "      <th>Description</th>\n",
       "    </tr>\n",
       "  </thead>\n",
       "  <tbody>\n",
       "    <tr>\n",
       "      <th>0</th>\n",
       "      <td>ABW</td>\n",
       "      <td>EG.EGY.PRIM.PP.KD</td>\n",
       "      <td>Sources: Estimated based on UN Energy Statisti...</td>\n",
       "    </tr>\n",
       "    <tr>\n",
       "      <th>1</th>\n",
       "      <td>ABW</td>\n",
       "      <td>EG.ELC.RNEW.ZS</td>\n",
       "      <td>Sources: UN Energy Statistics (2014)</td>\n",
       "    </tr>\n",
       "    <tr>\n",
       "      <th>2</th>\n",
       "      <td>ABW</td>\n",
       "      <td>EG.FEC.RNEW.ZS</td>\n",
       "      <td>Sources: UN Energy Statistics (2014)</td>\n",
       "    </tr>\n",
       "    <tr>\n",
       "      <th>3</th>\n",
       "      <td>ABW</td>\n",
       "      <td>SM.POP.NETM</td>\n",
       "      <td>Data sources : United Nations World Population...</td>\n",
       "    </tr>\n",
       "    <tr>\n",
       "      <th>4</th>\n",
       "      <td>ABW</td>\n",
       "      <td>SM.POP.TOTL</td>\n",
       "      <td>Estimates are derived from data on foreign-bor...</td>\n",
       "    </tr>\n",
       "  </tbody>\n",
       "</table>\n",
       "</div>"
      ],
      "text/plain": [
       "  Countrycode         Seriescode  \\\n",
       "0         ABW  EG.EGY.PRIM.PP.KD   \n",
       "1         ABW     EG.ELC.RNEW.ZS   \n",
       "2         ABW     EG.FEC.RNEW.ZS   \n",
       "3         ABW        SM.POP.NETM   \n",
       "4         ABW        SM.POP.TOTL   \n",
       "\n",
       "                                         Description  \n",
       "0  Sources: Estimated based on UN Energy Statisti...  \n",
       "1               Sources: UN Energy Statistics (2014)  \n",
       "2               Sources: UN Energy Statistics (2014)  \n",
       "3  Data sources : United Nations World Population...  \n",
       "4  Estimates are derived from data on foreign-bor...  "
      ]
     },
     "execution_count": 7,
     "metadata": {},
     "output_type": "execute_result"
    }
   ],
   "source": [
    "df_country_notes.head()"
   ]
  },
  {
   "cell_type": "markdown",
   "metadata": {},
   "source": [
    "# database.sqlite"
   ]
  },
  {
   "cell_type": "code",
   "execution_count": null,
   "metadata": {
    "collapsed": true
   },
   "outputs": [],
   "source": [
    "# TO DO\n",
    "# EXPLAIN EACH FEATURE IN LIST\n",
    "# FEATURE NAME       DESCRIPTION\n",
    "# CountryName        unique country name\n",
    "# CountryCode        unique country code\n",
    "# IndicatorName\n",
    "# IndicatorCode\n",
    "# Year\n",
    "# Value"
   ]
  },
  {
   "cell_type": "code",
   "execution_count": 16,
   "metadata": {
    "collapsed": false
   },
   "outputs": [
    {
     "name": "stdout",
     "output_type": "stream",
     "text": [
      "<class 'pandas.core.frame.DataFrame'>\n",
      "RangeIndex: 5656458 entries, 0 to 5656457\n",
      "Data columns (total 6 columns):\n",
      "CountryName      object\n",
      "CountryCode      object\n",
      "IndicatorName    object\n",
      "IndicatorCode    object\n",
      "Year             int64\n",
      "Value            float64\n",
      "dtypes: float64(1), int64(1), object(4)\n",
      "memory usage: 258.9+ MB\n"
     ]
    }
   ],
   "source": [
    "# now let's read in the same data using sql to save it as a dataframe\n",
    "database = path + '\\database.sqlite'\n",
    "con = sqlite3.connect(database) # again this file is in the same directory\n",
    "df_database_indicators = pd.read_sql('SELECT * FROM Indicators', con)  # the table name is Indicators\n",
    "df_database_indicators.info()"
   ]
  },
  {
   "cell_type": "code",
   "execution_count": 20,
   "metadata": {
    "collapsed": false
   },
   "outputs": [
    {
     "data": {
      "text/html": [
       "<div>\n",
       "<table border=\"1\" class=\"dataframe\">\n",
       "  <thead>\n",
       "    <tr style=\"text-align: right;\">\n",
       "      <th></th>\n",
       "      <th>Year</th>\n",
       "      <th>Value</th>\n",
       "    </tr>\n",
       "  </thead>\n",
       "  <tbody>\n",
       "    <tr>\n",
       "      <th>count</th>\n",
       "      <td>5.656458e+06</td>\n",
       "      <td>5.656458e+06</td>\n",
       "    </tr>\n",
       "    <tr>\n",
       "      <th>mean</th>\n",
       "      <td>1.994464e+03</td>\n",
       "      <td>1.070501e+12</td>\n",
       "    </tr>\n",
       "    <tr>\n",
       "      <th>std</th>\n",
       "      <td>1.387895e+01</td>\n",
       "      <td>4.842469e+13</td>\n",
       "    </tr>\n",
       "    <tr>\n",
       "      <th>min</th>\n",
       "      <td>1.960000e+03</td>\n",
       "      <td>-9.824821e+15</td>\n",
       "    </tr>\n",
       "    <tr>\n",
       "      <th>25%</th>\n",
       "      <td>1.984000e+03</td>\n",
       "      <td>5.566242e+00</td>\n",
       "    </tr>\n",
       "    <tr>\n",
       "      <th>50%</th>\n",
       "      <td>1.997000e+03</td>\n",
       "      <td>6.357450e+01</td>\n",
       "    </tr>\n",
       "    <tr>\n",
       "      <th>75%</th>\n",
       "      <td>2.006000e+03</td>\n",
       "      <td>1.346722e+07</td>\n",
       "    </tr>\n",
       "    <tr>\n",
       "      <th>max</th>\n",
       "      <td>2.015000e+03</td>\n",
       "      <td>1.103367e+16</td>\n",
       "    </tr>\n",
       "  </tbody>\n",
       "</table>\n",
       "</div>"
      ],
      "text/plain": [
       "               Year         Value\n",
       "count  5.656458e+06  5.656458e+06\n",
       "mean   1.994464e+03  1.070501e+12\n",
       "std    1.387895e+01  4.842469e+13\n",
       "min    1.960000e+03 -9.824821e+15\n",
       "25%    1.984000e+03  5.566242e+00\n",
       "50%    1.997000e+03  6.357450e+01\n",
       "75%    2.006000e+03  1.346722e+07\n",
       "max    2.015000e+03  1.103367e+16"
      ]
     },
     "execution_count": 20,
     "metadata": {},
     "output_type": "execute_result"
    }
   ],
   "source": [
    "df_database_indicators.describe()"
   ]
  },
  {
   "cell_type": "code",
   "execution_count": 17,
   "metadata": {
    "collapsed": false
   },
   "outputs": [
    {
     "data": {
      "text/html": [
       "<div>\n",
       "<table border=\"1\" class=\"dataframe\">\n",
       "  <thead>\n",
       "    <tr style=\"text-align: right;\">\n",
       "      <th></th>\n",
       "      <th>CountryName</th>\n",
       "      <th>CountryCode</th>\n",
       "      <th>IndicatorName</th>\n",
       "      <th>IndicatorCode</th>\n",
       "      <th>Year</th>\n",
       "      <th>Value</th>\n",
       "    </tr>\n",
       "  </thead>\n",
       "  <tbody>\n",
       "    <tr>\n",
       "      <th>0</th>\n",
       "      <td>Arab World</td>\n",
       "      <td>ARB</td>\n",
       "      <td>Adolescent fertility rate (births per 1,000 wo...</td>\n",
       "      <td>SP.ADO.TFRT</td>\n",
       "      <td>1960</td>\n",
       "      <td>1.335609e+02</td>\n",
       "    </tr>\n",
       "    <tr>\n",
       "      <th>1</th>\n",
       "      <td>Arab World</td>\n",
       "      <td>ARB</td>\n",
       "      <td>Age dependency ratio (% of working-age populat...</td>\n",
       "      <td>SP.POP.DPND</td>\n",
       "      <td>1960</td>\n",
       "      <td>8.779760e+01</td>\n",
       "    </tr>\n",
       "    <tr>\n",
       "      <th>2</th>\n",
       "      <td>Arab World</td>\n",
       "      <td>ARB</td>\n",
       "      <td>Age dependency ratio, old (% of working-age po...</td>\n",
       "      <td>SP.POP.DPND.OL</td>\n",
       "      <td>1960</td>\n",
       "      <td>6.634579e+00</td>\n",
       "    </tr>\n",
       "    <tr>\n",
       "      <th>3</th>\n",
       "      <td>Arab World</td>\n",
       "      <td>ARB</td>\n",
       "      <td>Age dependency ratio, young (% of working-age ...</td>\n",
       "      <td>SP.POP.DPND.YG</td>\n",
       "      <td>1960</td>\n",
       "      <td>8.102333e+01</td>\n",
       "    </tr>\n",
       "    <tr>\n",
       "      <th>4</th>\n",
       "      <td>Arab World</td>\n",
       "      <td>ARB</td>\n",
       "      <td>Arms exports (SIPRI trend indicator values)</td>\n",
       "      <td>MS.MIL.XPRT.KD</td>\n",
       "      <td>1960</td>\n",
       "      <td>3.000000e+06</td>\n",
       "    </tr>\n",
       "  </tbody>\n",
       "</table>\n",
       "</div>"
      ],
      "text/plain": [
       "  CountryName CountryCode                                      IndicatorName  \\\n",
       "0  Arab World         ARB  Adolescent fertility rate (births per 1,000 wo...   \n",
       "1  Arab World         ARB  Age dependency ratio (% of working-age populat...   \n",
       "2  Arab World         ARB  Age dependency ratio, old (% of working-age po...   \n",
       "3  Arab World         ARB  Age dependency ratio, young (% of working-age ...   \n",
       "4  Arab World         ARB        Arms exports (SIPRI trend indicator values)   \n",
       "\n",
       "    IndicatorCode  Year         Value  \n",
       "0     SP.ADO.TFRT  1960  1.335609e+02  \n",
       "1     SP.POP.DPND  1960  8.779760e+01  \n",
       "2  SP.POP.DPND.OL  1960  6.634579e+00  \n",
       "3  SP.POP.DPND.YG  1960  8.102333e+01  \n",
       "4  MS.MIL.XPRT.KD  1960  3.000000e+06  "
      ]
     },
     "execution_count": 17,
     "metadata": {},
     "output_type": "execute_result"
    }
   ],
   "source": [
    "df_database_indicators.head()"
   ]
  },
  {
   "cell_type": "markdown",
   "metadata": {},
   "source": [
    "# Footnotes.csv"
   ]
  },
  {
   "cell_type": "code",
   "execution_count": null,
   "metadata": {
    "collapsed": true
   },
   "outputs": [],
   "source": [
    "# TO DO\n",
    "# EXPLAIN EACH FEATURE IN LIST\n",
    "# FEATURE NAME       DESCRIPTION\n",
    "# CountryName        unique country name\n",
    "# SeriesCode         unique series code\n",
    "# Year\n",
    "# Descripton"
   ]
  },
  {
   "cell_type": "code",
   "execution_count": 32,
   "metadata": {
    "collapsed": false
   },
   "outputs": [
    {
     "name": "stdout",
     "output_type": "stream",
     "text": [
      "<class 'pandas.core.frame.DataFrame'>\n",
      "RangeIndex: 532415 entries, 0 to 532414\n",
      "Data columns (total 4 columns):\n",
      "Countrycode    532415 non-null object\n",
      "Seriescode     532415 non-null object\n",
      "Year           532415 non-null object\n",
      "Description    532415 non-null object\n",
      "dtypes: object(4)\n",
      "memory usage: 16.2+ MB\n"
     ]
    }
   ],
   "source": [
    "# now let's read in the same data using pandas to save it as a dataframe\n",
    "# Indicators.csv\n",
    "filename = path + '\\Footnotes.csv'\n",
    "df_footnotes = pd.read_csv(filename) # read in the csv file\n",
    "df_footnotes.info()"
   ]
  },
  {
   "cell_type": "code",
   "execution_count": 33,
   "metadata": {
    "collapsed": false
   },
   "outputs": [
    {
     "data": {
      "text/html": [
       "<div>\n",
       "<table border=\"1\" class=\"dataframe\">\n",
       "  <thead>\n",
       "    <tr style=\"text-align: right;\">\n",
       "      <th></th>\n",
       "      <th>Countrycode</th>\n",
       "      <th>Seriescode</th>\n",
       "      <th>Year</th>\n",
       "      <th>Description</th>\n",
       "    </tr>\n",
       "  </thead>\n",
       "  <tbody>\n",
       "    <tr>\n",
       "      <th>count</th>\n",
       "      <td>532415</td>\n",
       "      <td>532415</td>\n",
       "      <td>532415</td>\n",
       "      <td>532415</td>\n",
       "    </tr>\n",
       "    <tr>\n",
       "      <th>unique</th>\n",
       "      <td>278</td>\n",
       "      <td>653</td>\n",
       "      <td>77</td>\n",
       "      <td>85052</td>\n",
       "    </tr>\n",
       "    <tr>\n",
       "      <th>top</th>\n",
       "      <td>LIC</td>\n",
       "      <td>SP.DYN.IMRT.IN</td>\n",
       "      <td>YR2010</td>\n",
       "      <td>UNESCO Institute for Statistics (UIS) estimate</td>\n",
       "    </tr>\n",
       "    <tr>\n",
       "      <th>freq</th>\n",
       "      <td>4074</td>\n",
       "      <td>10170</td>\n",
       "      <td>24179</td>\n",
       "      <td>59009</td>\n",
       "    </tr>\n",
       "  </tbody>\n",
       "</table>\n",
       "</div>"
      ],
      "text/plain": [
       "       Countrycode      Seriescode    Year  \\\n",
       "count       532415          532415  532415   \n",
       "unique         278             653      77   \n",
       "top            LIC  SP.DYN.IMRT.IN  YR2010   \n",
       "freq          4074           10170   24179   \n",
       "\n",
       "                                           Description  \n",
       "count                                           532415  \n",
       "unique                                           85052  \n",
       "top     UNESCO Institute for Statistics (UIS) estimate  \n",
       "freq                                             59009  "
      ]
     },
     "execution_count": 33,
     "metadata": {},
     "output_type": "execute_result"
    }
   ],
   "source": [
    "df_footnotes.describe()"
   ]
  },
  {
   "cell_type": "markdown",
   "metadata": {},
   "source": [
    "# Indicators.csv"
   ]
  },
  {
   "cell_type": "code",
   "execution_count": null,
   "metadata": {
    "collapsed": true
   },
   "outputs": [],
   "source": [
    "# TO DO\n",
    "# EXPLAIN EACH FEATURE IN LIST\n",
    "# FEATURE NAME       DESCRIPTION\n",
    "# CountryName        unique country name\n",
    "# CountryCode        unique country code\n",
    "# IndicatorName\n",
    "# IndicatorCode\n",
    "# Year\n",
    "# Value"
   ]
  },
  {
   "cell_type": "code",
   "execution_count": 4,
   "metadata": {
    "collapsed": false
   },
   "outputs": [
    {
     "name": "stdout",
     "output_type": "stream",
     "text": [
      "<class 'pandas.core.frame.DataFrame'>\n",
      "Int64Index: 5656458 entries, 0 to 5656457\n",
      "Data columns (total 6 columns):\n",
      "CountryName      object\n",
      "CountryCode      object\n",
      "IndicatorName    object\n",
      "IndicatorCode    object\n",
      "Year             int64\n",
      "Value            float64\n",
      "dtypes: float64(1), int64(1), object(4)\n",
      "memory usage: 302.1+ MB\n"
     ]
    }
   ],
   "source": [
    "# now let's read in the same data using pandas to save it as a dataframe\n",
    "# Indicators.csv\n",
    "filename = path + '\\Indicators.csv'\n",
    "df_indicators = pd.read_csv(filename) # read in the csv file\n",
    "df_indicators.info()"
   ]
  },
  {
   "cell_type": "code",
   "execution_count": 22,
   "metadata": {
    "collapsed": false
   },
   "outputs": [
    {
     "data": {
      "text/html": [
       "<div>\n",
       "<table border=\"1\" class=\"dataframe\">\n",
       "  <thead>\n",
       "    <tr style=\"text-align: right;\">\n",
       "      <th></th>\n",
       "      <th>Year</th>\n",
       "      <th>Value</th>\n",
       "    </tr>\n",
       "  </thead>\n",
       "  <tbody>\n",
       "    <tr>\n",
       "      <th>count</th>\n",
       "      <td>5.656458e+06</td>\n",
       "      <td>5.656458e+06</td>\n",
       "    </tr>\n",
       "    <tr>\n",
       "      <th>mean</th>\n",
       "      <td>1.994464e+03</td>\n",
       "      <td>1.070501e+12</td>\n",
       "    </tr>\n",
       "    <tr>\n",
       "      <th>std</th>\n",
       "      <td>1.387895e+01</td>\n",
       "      <td>4.842469e+13</td>\n",
       "    </tr>\n",
       "    <tr>\n",
       "      <th>min</th>\n",
       "      <td>1.960000e+03</td>\n",
       "      <td>-9.824821e+15</td>\n",
       "    </tr>\n",
       "    <tr>\n",
       "      <th>25%</th>\n",
       "      <td>1.984000e+03</td>\n",
       "      <td>5.566242e+00</td>\n",
       "    </tr>\n",
       "    <tr>\n",
       "      <th>50%</th>\n",
       "      <td>1.997000e+03</td>\n",
       "      <td>6.357450e+01</td>\n",
       "    </tr>\n",
       "    <tr>\n",
       "      <th>75%</th>\n",
       "      <td>2.006000e+03</td>\n",
       "      <td>1.346722e+07</td>\n",
       "    </tr>\n",
       "    <tr>\n",
       "      <th>max</th>\n",
       "      <td>2.015000e+03</td>\n",
       "      <td>1.103367e+16</td>\n",
       "    </tr>\n",
       "  </tbody>\n",
       "</table>\n",
       "</div>"
      ],
      "text/plain": [
       "               Year         Value\n",
       "count  5.656458e+06  5.656458e+06\n",
       "mean   1.994464e+03  1.070501e+12\n",
       "std    1.387895e+01  4.842469e+13\n",
       "min    1.960000e+03 -9.824821e+15\n",
       "25%    1.984000e+03  5.566242e+00\n",
       "50%    1.997000e+03  6.357450e+01\n",
       "75%    2.006000e+03  1.346722e+07\n",
       "max    2.015000e+03  1.103367e+16"
      ]
     },
     "execution_count": 22,
     "metadata": {},
     "output_type": "execute_result"
    }
   ],
   "source": [
    "df_indicators.describe()"
   ]
  },
  {
   "cell_type": "code",
   "execution_count": 23,
   "metadata": {
    "collapsed": false
   },
   "outputs": [
    {
     "data": {
      "text/html": [
       "<div>\n",
       "<table border=\"1\" class=\"dataframe\">\n",
       "  <thead>\n",
       "    <tr style=\"text-align: right;\">\n",
       "      <th></th>\n",
       "      <th>CountryName</th>\n",
       "      <th>CountryCode</th>\n",
       "      <th>IndicatorName</th>\n",
       "      <th>IndicatorCode</th>\n",
       "      <th>Year</th>\n",
       "      <th>Value</th>\n",
       "    </tr>\n",
       "  </thead>\n",
       "  <tbody>\n",
       "    <tr>\n",
       "      <th>0</th>\n",
       "      <td>Arab World</td>\n",
       "      <td>ARB</td>\n",
       "      <td>Adolescent fertility rate (births per 1,000 wo...</td>\n",
       "      <td>SP.ADO.TFRT</td>\n",
       "      <td>1960</td>\n",
       "      <td>1.335609e+02</td>\n",
       "    </tr>\n",
       "    <tr>\n",
       "      <th>1</th>\n",
       "      <td>Arab World</td>\n",
       "      <td>ARB</td>\n",
       "      <td>Age dependency ratio (% of working-age populat...</td>\n",
       "      <td>SP.POP.DPND</td>\n",
       "      <td>1960</td>\n",
       "      <td>8.779760e+01</td>\n",
       "    </tr>\n",
       "    <tr>\n",
       "      <th>2</th>\n",
       "      <td>Arab World</td>\n",
       "      <td>ARB</td>\n",
       "      <td>Age dependency ratio, old (% of working-age po...</td>\n",
       "      <td>SP.POP.DPND.OL</td>\n",
       "      <td>1960</td>\n",
       "      <td>6.634579e+00</td>\n",
       "    </tr>\n",
       "    <tr>\n",
       "      <th>3</th>\n",
       "      <td>Arab World</td>\n",
       "      <td>ARB</td>\n",
       "      <td>Age dependency ratio, young (% of working-age ...</td>\n",
       "      <td>SP.POP.DPND.YG</td>\n",
       "      <td>1960</td>\n",
       "      <td>8.102333e+01</td>\n",
       "    </tr>\n",
       "    <tr>\n",
       "      <th>4</th>\n",
       "      <td>Arab World</td>\n",
       "      <td>ARB</td>\n",
       "      <td>Arms exports (SIPRI trend indicator values)</td>\n",
       "      <td>MS.MIL.XPRT.KD</td>\n",
       "      <td>1960</td>\n",
       "      <td>3.000000e+06</td>\n",
       "    </tr>\n",
       "  </tbody>\n",
       "</table>\n",
       "</div>"
      ],
      "text/plain": [
       "  CountryName CountryCode                                      IndicatorName  \\\n",
       "0  Arab World         ARB  Adolescent fertility rate (births per 1,000 wo...   \n",
       "1  Arab World         ARB  Age dependency ratio (% of working-age populat...   \n",
       "2  Arab World         ARB  Age dependency ratio, old (% of working-age po...   \n",
       "3  Arab World         ARB  Age dependency ratio, young (% of working-age ...   \n",
       "4  Arab World         ARB        Arms exports (SIPRI trend indicator values)   \n",
       "\n",
       "    IndicatorCode  Year         Value  \n",
       "0     SP.ADO.TFRT  1960  1.335609e+02  \n",
       "1     SP.POP.DPND  1960  8.779760e+01  \n",
       "2  SP.POP.DPND.OL  1960  6.634579e+00  \n",
       "3  SP.POP.DPND.YG  1960  8.102333e+01  \n",
       "4  MS.MIL.XPRT.KD  1960  3.000000e+06  "
      ]
     },
     "execution_count": 23,
     "metadata": {},
     "output_type": "execute_result"
    }
   ],
   "source": [
    "df_indicators.head()"
   ]
  },
  {
   "cell_type": "code",
   "execution_count": 6,
   "metadata": {
    "collapsed": false
   },
   "outputs": [
    {
     "name": "stdout",
     "output_type": "stream",
     "text": [
      "<class 'pandas.core.frame.DataFrame'>\n",
      "Int64Index: 5656458 entries, 0 to 5656457\n",
      "Data columns (total 6 columns):\n",
      "CountryName      object\n",
      "CountryCode      object\n",
      "IndicatorName    object\n",
      "IndicatorCode    object\n",
      "Year             int64\n",
      "Value            float64\n",
      "dtypes: float64(1), int64(1), object(4)\n",
      "memory usage: 302.1+ MB\n"
     ]
    }
   ],
   "source": [
    "# now let's read in the same data using pandas to save it as a dataframe\n",
    "# Indicators.csv\n",
    "filename = path + '\\Indicators.csv'\n",
    "\n",
    "df_indicators = pd.read_csv(filename) # read in the csv file\n",
    "df_indicators.head()\n",
    "df_indicators.info()"
   ]
  },
  {
   "cell_type": "code",
   "execution_count": 16,
   "metadata": {
    "collapsed": false
   },
   "outputs": [
    {
     "ename": "ValueError",
     "evalue": "Wrong number of items passed 5656458, placement implies 3",
     "output_type": "error",
     "traceback": [
      "\u001b[1;31m---------------------------------------------------------------------------\u001b[0m",
      "\u001b[1;31mValueError\u001b[0m                                Traceback (most recent call last)",
      "\u001b[1;32m<ipython-input-16-8b41d59d86a2>\u001b[0m in \u001b[0;36m<module>\u001b[1;34m()\u001b[0m\n\u001b[0;32m      2\u001b[0m \u001b[0mcode\u001b[0m \u001b[1;33m=\u001b[0m \u001b[1;34m'IndicatorName'\u001b[0m\u001b[1;33m\u001b[0m\u001b[0m\n\u001b[0;32m      3\u001b[0m \u001b[0mval\u001b[0m \u001b[1;33m=\u001b[0m \u001b[1;34m'Value'\u001b[0m\u001b[1;33m\u001b[0m\u001b[0m\n\u001b[1;32m----> 4\u001b[1;33m \u001b[0mdf_indicators\u001b[0m\u001b[1;33m.\u001b[0m\u001b[0mpivot\u001b[0m\u001b[1;33m(\u001b[0m\u001b[0mindex\u001b[0m\u001b[1;33m=\u001b[0m\u001b[0mind\u001b[0m\u001b[1;33m,\u001b[0m \u001b[0mcolumns\u001b[0m\u001b[1;33m=\u001b[0m\u001b[0mcode\u001b[0m\u001b[1;33m,\u001b[0m \u001b[0mvalues\u001b[0m\u001b[1;33m=\u001b[0m\u001b[0mval\u001b[0m\u001b[1;33m)\u001b[0m\u001b[1;33m\u001b[0m\u001b[0m\n\u001b[0m",
      "\u001b[1;32mC:\\Users\\Bear\\Anaconda3\\lib\\site-packages\\pandas\\core\\frame.py\u001b[0m in \u001b[0;36mpivot\u001b[1;34m(self, index, columns, values)\u001b[0m\n\u001b[0;32m   3761\u001b[0m         \"\"\"\n\u001b[0;32m   3762\u001b[0m         \u001b[1;32mfrom\u001b[0m \u001b[0mpandas\u001b[0m\u001b[1;33m.\u001b[0m\u001b[0mcore\u001b[0m\u001b[1;33m.\u001b[0m\u001b[0mreshape\u001b[0m \u001b[1;32mimport\u001b[0m \u001b[0mpivot\u001b[0m\u001b[1;33m\u001b[0m\u001b[0m\n\u001b[1;32m-> 3763\u001b[1;33m         \u001b[1;32mreturn\u001b[0m \u001b[0mpivot\u001b[0m\u001b[1;33m(\u001b[0m\u001b[0mself\u001b[0m\u001b[1;33m,\u001b[0m \u001b[0mindex\u001b[0m\u001b[1;33m=\u001b[0m\u001b[0mindex\u001b[0m\u001b[1;33m,\u001b[0m \u001b[0mcolumns\u001b[0m\u001b[1;33m=\u001b[0m\u001b[0mcolumns\u001b[0m\u001b[1;33m,\u001b[0m \u001b[0mvalues\u001b[0m\u001b[1;33m=\u001b[0m\u001b[0mvalues\u001b[0m\u001b[1;33m)\u001b[0m\u001b[1;33m\u001b[0m\u001b[0m\n\u001b[0m\u001b[0;32m   3764\u001b[0m \u001b[1;33m\u001b[0m\u001b[0m\n\u001b[0;32m   3765\u001b[0m     \u001b[1;32mdef\u001b[0m \u001b[0mstack\u001b[0m\u001b[1;33m(\u001b[0m\u001b[0mself\u001b[0m\u001b[1;33m,\u001b[0m \u001b[0mlevel\u001b[0m\u001b[1;33m=\u001b[0m\u001b[1;33m-\u001b[0m\u001b[1;36m1\u001b[0m\u001b[1;33m,\u001b[0m \u001b[0mdropna\u001b[0m\u001b[1;33m=\u001b[0m\u001b[1;32mTrue\u001b[0m\u001b[1;33m)\u001b[0m\u001b[1;33m:\u001b[0m\u001b[1;33m\u001b[0m\u001b[0m\n",
      "\u001b[1;32mC:\\Users\\Bear\\Anaconda3\\lib\\site-packages\\pandas\\core\\reshape.py\u001b[0m in \u001b[0;36mpivot\u001b[1;34m(self, index, columns, values)\u001b[0m\n\u001b[0;32m    331\u001b[0m         indexed = Series(self[values].values,\n\u001b[0;32m    332\u001b[0m                          index=MultiIndex.from_arrays([index,\n\u001b[1;32m--> 333\u001b[1;33m                                                        self[columns]]))\n\u001b[0m\u001b[0;32m    334\u001b[0m         \u001b[1;32mreturn\u001b[0m \u001b[0mindexed\u001b[0m\u001b[1;33m.\u001b[0m\u001b[0munstack\u001b[0m\u001b[1;33m(\u001b[0m\u001b[0mcolumns\u001b[0m\u001b[1;33m)\u001b[0m\u001b[1;33m\u001b[0m\u001b[0m\n\u001b[0;32m    335\u001b[0m \u001b[1;33m\u001b[0m\u001b[0m\n",
      "\u001b[1;32mC:\\Users\\Bear\\Anaconda3\\lib\\site-packages\\pandas\\core\\series.py\u001b[0m in \u001b[0;36m__init__\u001b[1;34m(self, data, index, dtype, name, copy, fastpath)\u001b[0m\n\u001b[0;32m    225\u001b[0m                                        raise_cast_failure=True)\n\u001b[0;32m    226\u001b[0m \u001b[1;33m\u001b[0m\u001b[0m\n\u001b[1;32m--> 227\u001b[1;33m                 \u001b[0mdata\u001b[0m \u001b[1;33m=\u001b[0m \u001b[0mSingleBlockManager\u001b[0m\u001b[1;33m(\u001b[0m\u001b[0mdata\u001b[0m\u001b[1;33m,\u001b[0m \u001b[0mindex\u001b[0m\u001b[1;33m,\u001b[0m \u001b[0mfastpath\u001b[0m\u001b[1;33m=\u001b[0m\u001b[1;32mTrue\u001b[0m\u001b[1;33m)\u001b[0m\u001b[1;33m\u001b[0m\u001b[0m\n\u001b[0m\u001b[0;32m    228\u001b[0m \u001b[1;33m\u001b[0m\u001b[0m\n\u001b[0;32m    229\u001b[0m         \u001b[0mgeneric\u001b[0m\u001b[1;33m.\u001b[0m\u001b[0mNDFrame\u001b[0m\u001b[1;33m.\u001b[0m\u001b[0m__init__\u001b[0m\u001b[1;33m(\u001b[0m\u001b[0mself\u001b[0m\u001b[1;33m,\u001b[0m \u001b[0mdata\u001b[0m\u001b[1;33m,\u001b[0m \u001b[0mfastpath\u001b[0m\u001b[1;33m=\u001b[0m\u001b[1;32mTrue\u001b[0m\u001b[1;33m)\u001b[0m\u001b[1;33m\u001b[0m\u001b[0m\n",
      "\u001b[1;32mC:\\Users\\Bear\\Anaconda3\\lib\\site-packages\\pandas\\core\\internals.py\u001b[0m in \u001b[0;36m__init__\u001b[1;34m(self, block, axis, do_integrity_check, fastpath)\u001b[0m\n\u001b[0;32m   3734\u001b[0m             block = make_block(block,\n\u001b[0;32m   3735\u001b[0m                                \u001b[0mplacement\u001b[0m\u001b[1;33m=\u001b[0m\u001b[0mslice\u001b[0m\u001b[1;33m(\u001b[0m\u001b[1;36m0\u001b[0m\u001b[1;33m,\u001b[0m \u001b[0mlen\u001b[0m\u001b[1;33m(\u001b[0m\u001b[0maxis\u001b[0m\u001b[1;33m)\u001b[0m\u001b[1;33m)\u001b[0m\u001b[1;33m,\u001b[0m\u001b[1;33m\u001b[0m\u001b[0m\n\u001b[1;32m-> 3736\u001b[1;33m                                ndim=1, fastpath=True)\n\u001b[0m\u001b[0;32m   3737\u001b[0m \u001b[1;33m\u001b[0m\u001b[0m\n\u001b[0;32m   3738\u001b[0m         \u001b[0mself\u001b[0m\u001b[1;33m.\u001b[0m\u001b[0mblocks\u001b[0m \u001b[1;33m=\u001b[0m \u001b[1;33m[\u001b[0m\u001b[0mblock\u001b[0m\u001b[1;33m]\u001b[0m\u001b[1;33m\u001b[0m\u001b[0m\n",
      "\u001b[1;32mC:\\Users\\Bear\\Anaconda3\\lib\\site-packages\\pandas\\core\\internals.py\u001b[0m in \u001b[0;36mmake_block\u001b[1;34m(values, placement, klass, ndim, dtype, fastpath)\u001b[0m\n\u001b[0;32m   2452\u001b[0m \u001b[1;33m\u001b[0m\u001b[0m\n\u001b[0;32m   2453\u001b[0m     return klass(values, ndim=ndim, fastpath=fastpath,\n\u001b[1;32m-> 2454\u001b[1;33m                  placement=placement)\n\u001b[0m\u001b[0;32m   2455\u001b[0m \u001b[1;33m\u001b[0m\u001b[0m\n\u001b[0;32m   2456\u001b[0m \u001b[1;33m\u001b[0m\u001b[0m\n",
      "\u001b[1;32mC:\\Users\\Bear\\Anaconda3\\lib\\site-packages\\pandas\\core\\internals.py\u001b[0m in \u001b[0;36m__init__\u001b[1;34m(self, values, placement, ndim, fastpath)\u001b[0m\n\u001b[0;32m     85\u001b[0m             raise ValueError('Wrong number of items passed %d,'\n\u001b[0;32m     86\u001b[0m                              ' placement implies %d' % (\n\u001b[1;32m---> 87\u001b[1;33m                                  len(self.values), len(self.mgr_locs)))\n\u001b[0m\u001b[0;32m     88\u001b[0m \u001b[1;33m\u001b[0m\u001b[0m\n\u001b[0;32m     89\u001b[0m     \u001b[1;33m@\u001b[0m\u001b[0mproperty\u001b[0m\u001b[1;33m\u001b[0m\u001b[0m\n",
      "\u001b[1;31mValueError\u001b[0m: Wrong number of items passed 5656458, placement implies 3"
     ]
    }
   ],
   "source": [
    "ind = ['Year','CountryCode','CountryName']\n",
    "code = 'IndicatorName'\n",
    "val = 'Value'\n",
    "df_indicators.pivot(index=ind, columns=code, values=val)"
   ]
  },
  {
   "cell_type": "markdown",
   "metadata": {},
   "source": [
    "# Series.csv"
   ]
  },
  {
   "cell_type": "code",
   "execution_count": null,
   "metadata": {
    "collapsed": true
   },
   "outputs": [],
   "source": [
    "# TO DO\n",
    "# EXPLAIN EACH FEATURE IN LIST\n",
    "# FEATURE NAME       DESCRIPTION\n",
    "# SeriesCode         \n",
    "# Topic\n",
    "# ShortDefinition\n",
    "# ....\n",
    "# ....\n",
    "# LicenseType"
   ]
  },
  {
   "cell_type": "code",
   "execution_count": 26,
   "metadata": {
    "collapsed": false
   },
   "outputs": [
    {
     "name": "stdout",
     "output_type": "stream",
     "text": [
      "<class 'pandas.core.frame.DataFrame'>\n",
      "RangeIndex: 1345 entries, 0 to 1344\n",
      "Data columns (total 20 columns):\n",
      "SeriesCode                          1345 non-null object\n",
      "Topic                               1345 non-null object\n",
      "IndicatorName                       1345 non-null object\n",
      "ShortDefinition                     118 non-null object\n",
      "LongDefinition                      1345 non-null object\n",
      "UnitOfMeasure                       7 non-null object\n",
      "Periodicity                         1345 non-null object\n",
      "BasePeriod                          77 non-null object\n",
      "OtherNotes                          0 non-null float64\n",
      "AggregationMethod                   1058 non-null object\n",
      "LimitationsAndExceptions            711 non-null object\n",
      "NotesFromOriginalSource             38 non-null object\n",
      "GeneralComments                     281 non-null object\n",
      "Source                              1345 non-null object\n",
      "StatisticalConceptAndMethodology    773 non-null object\n",
      "DevelopmentRelevance                575 non-null object\n",
      "RelatedSourceLinks                  6 non-null object\n",
      "OtherWebLinks                       0 non-null float64\n",
      "RelatedIndicators                   0 non-null float64\n",
      "LicenseType                         1345 non-null object\n",
      "dtypes: float64(3), object(17)\n",
      "memory usage: 210.2+ KB\n"
     ]
    }
   ],
   "source": [
    "# now let's read in the same data using pandas to save it as a dataframe\n",
    "# Series.csv\n",
    "filename = path + '\\Series.csv'\n",
    "df_series = pd.read_csv(filename) # read in the csv file\n",
    "df_series.info()"
   ]
  },
  {
   "cell_type": "code",
   "execution_count": 27,
   "metadata": {
    "collapsed": false
   },
   "outputs": [
    {
     "data": {
      "text/html": [
       "<div>\n",
       "<table border=\"1\" class=\"dataframe\">\n",
       "  <thead>\n",
       "    <tr style=\"text-align: right;\">\n",
       "      <th></th>\n",
       "      <th>OtherNotes</th>\n",
       "      <th>OtherWebLinks</th>\n",
       "      <th>RelatedIndicators</th>\n",
       "    </tr>\n",
       "  </thead>\n",
       "  <tbody>\n",
       "    <tr>\n",
       "      <th>count</th>\n",
       "      <td>0.0</td>\n",
       "      <td>0.0</td>\n",
       "      <td>0.0</td>\n",
       "    </tr>\n",
       "    <tr>\n",
       "      <th>mean</th>\n",
       "      <td>NaN</td>\n",
       "      <td>NaN</td>\n",
       "      <td>NaN</td>\n",
       "    </tr>\n",
       "    <tr>\n",
       "      <th>std</th>\n",
       "      <td>NaN</td>\n",
       "      <td>NaN</td>\n",
       "      <td>NaN</td>\n",
       "    </tr>\n",
       "    <tr>\n",
       "      <th>min</th>\n",
       "      <td>NaN</td>\n",
       "      <td>NaN</td>\n",
       "      <td>NaN</td>\n",
       "    </tr>\n",
       "    <tr>\n",
       "      <th>25%</th>\n",
       "      <td>NaN</td>\n",
       "      <td>NaN</td>\n",
       "      <td>NaN</td>\n",
       "    </tr>\n",
       "    <tr>\n",
       "      <th>50%</th>\n",
       "      <td>NaN</td>\n",
       "      <td>NaN</td>\n",
       "      <td>NaN</td>\n",
       "    </tr>\n",
       "    <tr>\n",
       "      <th>75%</th>\n",
       "      <td>NaN</td>\n",
       "      <td>NaN</td>\n",
       "      <td>NaN</td>\n",
       "    </tr>\n",
       "    <tr>\n",
       "      <th>max</th>\n",
       "      <td>NaN</td>\n",
       "      <td>NaN</td>\n",
       "      <td>NaN</td>\n",
       "    </tr>\n",
       "  </tbody>\n",
       "</table>\n",
       "</div>"
      ],
      "text/plain": [
       "       OtherNotes  OtherWebLinks  RelatedIndicators\n",
       "count         0.0            0.0                0.0\n",
       "mean          NaN            NaN                NaN\n",
       "std           NaN            NaN                NaN\n",
       "min           NaN            NaN                NaN\n",
       "25%           NaN            NaN                NaN\n",
       "50%           NaN            NaN                NaN\n",
       "75%           NaN            NaN                NaN\n",
       "max           NaN            NaN                NaN"
      ]
     },
     "execution_count": 27,
     "metadata": {},
     "output_type": "execute_result"
    }
   ],
   "source": [
    "df_series.describe()"
   ]
  },
  {
   "cell_type": "code",
   "execution_count": 7,
   "metadata": {
    "collapsed": false
   },
   "outputs": [
    {
     "data": {
      "text/html": [
       "<div>\n",
       "<table border=\"1\" class=\"dataframe\">\n",
       "  <thead>\n",
       "    <tr style=\"text-align: right;\">\n",
       "      <th></th>\n",
       "      <th>SeriesCode</th>\n",
       "      <th>Topic</th>\n",
       "      <th>IndicatorName</th>\n",
       "      <th>ShortDefinition</th>\n",
       "      <th>LongDefinition</th>\n",
       "      <th>UnitOfMeasure</th>\n",
       "      <th>Periodicity</th>\n",
       "      <th>BasePeriod</th>\n",
       "      <th>OtherNotes</th>\n",
       "      <th>AggregationMethod</th>\n",
       "      <th>LimitationsAndExceptions</th>\n",
       "      <th>NotesFromOriginalSource</th>\n",
       "      <th>GeneralComments</th>\n",
       "      <th>Source</th>\n",
       "      <th>StatisticalConceptAndMethodology</th>\n",
       "      <th>DevelopmentRelevance</th>\n",
       "      <th>RelatedSourceLinks</th>\n",
       "      <th>OtherWebLinks</th>\n",
       "      <th>RelatedIndicators</th>\n",
       "      <th>LicenseType</th>\n",
       "    </tr>\n",
       "  </thead>\n",
       "  <tbody>\n",
       "    <tr>\n",
       "      <th>0</th>\n",
       "      <td>BN.KLT.DINV.CD</td>\n",
       "      <td>Economic Policy &amp; Debt: Balance of payments: C...</td>\n",
       "      <td>Foreign direct investment, net (BoP, current US$)</td>\n",
       "      <td>NaN</td>\n",
       "      <td>Foreign direct investment are the net inflows ...</td>\n",
       "      <td>NaN</td>\n",
       "      <td>Annual</td>\n",
       "      <td>NaN</td>\n",
       "      <td>NaN</td>\n",
       "      <td>NaN</td>\n",
       "      <td>NaN</td>\n",
       "      <td>NaN</td>\n",
       "      <td>Note: Data are based on the sixth edition of t...</td>\n",
       "      <td>International Monetary Fund, Balance of Paymen...</td>\n",
       "      <td>NaN</td>\n",
       "      <td>NaN</td>\n",
       "      <td>NaN</td>\n",
       "      <td>NaN</td>\n",
       "      <td>NaN</td>\n",
       "      <td>Open</td>\n",
       "    </tr>\n",
       "    <tr>\n",
       "      <th>1</th>\n",
       "      <td>BX.KLT.DINV.WD.GD.ZS</td>\n",
       "      <td>Economic Policy &amp; Debt: Balance of payments: C...</td>\n",
       "      <td>Foreign direct investment, net inflows (% of GDP)</td>\n",
       "      <td>NaN</td>\n",
       "      <td>Foreign direct investment are the net inflows ...</td>\n",
       "      <td>NaN</td>\n",
       "      <td>Annual</td>\n",
       "      <td>NaN</td>\n",
       "      <td>NaN</td>\n",
       "      <td>Weighted average</td>\n",
       "      <td>FDI data do not give a complete picture of int...</td>\n",
       "      <td>NaN</td>\n",
       "      <td>Note: Data starting from 2005 are based on the...</td>\n",
       "      <td>International Monetary Fund, International Fin...</td>\n",
       "      <td>Data on equity flows are based on balance of p...</td>\n",
       "      <td>Private financial flows - equity and debt - ac...</td>\n",
       "      <td>NaN</td>\n",
       "      <td>NaN</td>\n",
       "      <td>NaN</td>\n",
       "      <td>Open</td>\n",
       "    </tr>\n",
       "    <tr>\n",
       "      <th>2</th>\n",
       "      <td>BX.KLT.DINV.CD.WD</td>\n",
       "      <td>Economic Policy &amp; Debt: Balance of payments: C...</td>\n",
       "      <td>Foreign direct investment, net inflows (BoP, c...</td>\n",
       "      <td>NaN</td>\n",
       "      <td>Foreign direct investment refers to direct inv...</td>\n",
       "      <td>NaN</td>\n",
       "      <td>Annual</td>\n",
       "      <td>NaN</td>\n",
       "      <td>NaN</td>\n",
       "      <td>Sum</td>\n",
       "      <td>FDI data do not give a complete picture of int...</td>\n",
       "      <td>NaN</td>\n",
       "      <td>Note: Data starting from 2005 are based on the...</td>\n",
       "      <td>International Monetary Fund, Balance of Paymen...</td>\n",
       "      <td>Data on equity flows are based on balance of p...</td>\n",
       "      <td>Private financial flows - equity and debt - ac...</td>\n",
       "      <td>NaN</td>\n",
       "      <td>NaN</td>\n",
       "      <td>NaN</td>\n",
       "      <td>Open</td>\n",
       "    </tr>\n",
       "    <tr>\n",
       "      <th>3</th>\n",
       "      <td>BM.KLT.DINV.GD.ZS</td>\n",
       "      <td>Economic Policy &amp; Debt: Balance of payments: C...</td>\n",
       "      <td>Foreign direct investment, net outflows (% of ...</td>\n",
       "      <td>NaN</td>\n",
       "      <td>Foreign direct investment are the net inflows ...</td>\n",
       "      <td>NaN</td>\n",
       "      <td>Annual</td>\n",
       "      <td>NaN</td>\n",
       "      <td>NaN</td>\n",
       "      <td>Weighted average</td>\n",
       "      <td>NaN</td>\n",
       "      <td>NaN</td>\n",
       "      <td>Note: Data are based on the sixth edition of t...</td>\n",
       "      <td>International Monetary Fund, International Fin...</td>\n",
       "      <td>NaN</td>\n",
       "      <td>NaN</td>\n",
       "      <td>NaN</td>\n",
       "      <td>NaN</td>\n",
       "      <td>NaN</td>\n",
       "      <td>Open</td>\n",
       "    </tr>\n",
       "    <tr>\n",
       "      <th>4</th>\n",
       "      <td>BN.TRF.KOGT.CD</td>\n",
       "      <td>Economic Policy &amp; Debt: Balance of payments: C...</td>\n",
       "      <td>Net capital account (BoP, current US$)</td>\n",
       "      <td>NaN</td>\n",
       "      <td>Net capital account records acquisitions and d...</td>\n",
       "      <td>NaN</td>\n",
       "      <td>Annual</td>\n",
       "      <td>NaN</td>\n",
       "      <td>NaN</td>\n",
       "      <td>NaN</td>\n",
       "      <td>NaN</td>\n",
       "      <td>NaN</td>\n",
       "      <td>Note: Data are based on the sixth edition of t...</td>\n",
       "      <td>International Monetary Fund, Balance of Paymen...</td>\n",
       "      <td>NaN</td>\n",
       "      <td>NaN</td>\n",
       "      <td>NaN</td>\n",
       "      <td>NaN</td>\n",
       "      <td>NaN</td>\n",
       "      <td>Open</td>\n",
       "    </tr>\n",
       "  </tbody>\n",
       "</table>\n",
       "</div>"
      ],
      "text/plain": [
       "             SeriesCode                                              Topic  \\\n",
       "0        BN.KLT.DINV.CD  Economic Policy & Debt: Balance of payments: C...   \n",
       "1  BX.KLT.DINV.WD.GD.ZS  Economic Policy & Debt: Balance of payments: C...   \n",
       "2     BX.KLT.DINV.CD.WD  Economic Policy & Debt: Balance of payments: C...   \n",
       "3     BM.KLT.DINV.GD.ZS  Economic Policy & Debt: Balance of payments: C...   \n",
       "4        BN.TRF.KOGT.CD  Economic Policy & Debt: Balance of payments: C...   \n",
       "\n",
       "                                       IndicatorName ShortDefinition  \\\n",
       "0  Foreign direct investment, net (BoP, current US$)             NaN   \n",
       "1  Foreign direct investment, net inflows (% of GDP)             NaN   \n",
       "2  Foreign direct investment, net inflows (BoP, c...             NaN   \n",
       "3  Foreign direct investment, net outflows (% of ...             NaN   \n",
       "4             Net capital account (BoP, current US$)             NaN   \n",
       "\n",
       "                                      LongDefinition UnitOfMeasure  \\\n",
       "0  Foreign direct investment are the net inflows ...           NaN   \n",
       "1  Foreign direct investment are the net inflows ...           NaN   \n",
       "2  Foreign direct investment refers to direct inv...           NaN   \n",
       "3  Foreign direct investment are the net inflows ...           NaN   \n",
       "4  Net capital account records acquisitions and d...           NaN   \n",
       "\n",
       "  Periodicity BasePeriod  OtherNotes AggregationMethod  \\\n",
       "0      Annual        NaN         NaN               NaN   \n",
       "1      Annual        NaN         NaN  Weighted average   \n",
       "2      Annual        NaN         NaN               Sum   \n",
       "3      Annual        NaN         NaN  Weighted average   \n",
       "4      Annual        NaN         NaN               NaN   \n",
       "\n",
       "                            LimitationsAndExceptions NotesFromOriginalSource  \\\n",
       "0                                                NaN                     NaN   \n",
       "1  FDI data do not give a complete picture of int...                     NaN   \n",
       "2  FDI data do not give a complete picture of int...                     NaN   \n",
       "3                                                NaN                     NaN   \n",
       "4                                                NaN                     NaN   \n",
       "\n",
       "                                     GeneralComments  \\\n",
       "0  Note: Data are based on the sixth edition of t...   \n",
       "1  Note: Data starting from 2005 are based on the...   \n",
       "2  Note: Data starting from 2005 are based on the...   \n",
       "3  Note: Data are based on the sixth edition of t...   \n",
       "4  Note: Data are based on the sixth edition of t...   \n",
       "\n",
       "                                              Source  \\\n",
       "0  International Monetary Fund, Balance of Paymen...   \n",
       "1  International Monetary Fund, International Fin...   \n",
       "2  International Monetary Fund, Balance of Paymen...   \n",
       "3  International Monetary Fund, International Fin...   \n",
       "4  International Monetary Fund, Balance of Paymen...   \n",
       "\n",
       "                    StatisticalConceptAndMethodology  \\\n",
       "0                                                NaN   \n",
       "1  Data on equity flows are based on balance of p...   \n",
       "2  Data on equity flows are based on balance of p...   \n",
       "3                                                NaN   \n",
       "4                                                NaN   \n",
       "\n",
       "                                DevelopmentRelevance RelatedSourceLinks  \\\n",
       "0                                                NaN                NaN   \n",
       "1  Private financial flows - equity and debt - ac...                NaN   \n",
       "2  Private financial flows - equity and debt - ac...                NaN   \n",
       "3                                                NaN                NaN   \n",
       "4                                                NaN                NaN   \n",
       "\n",
       "   OtherWebLinks  RelatedIndicators LicenseType  \n",
       "0            NaN                NaN        Open  \n",
       "1            NaN                NaN        Open  \n",
       "2            NaN                NaN        Open  \n",
       "3            NaN                NaN        Open  \n",
       "4            NaN                NaN        Open  "
      ]
     },
     "execution_count": 7,
     "metadata": {},
     "output_type": "execute_result"
    }
   ],
   "source": [
    "df_series.head()"
   ]
  },
  {
   "cell_type": "markdown",
   "metadata": {},
   "source": [
    "# SeriesNotes.csv"
   ]
  },
  {
   "cell_type": "code",
   "execution_count": null,
   "metadata": {
    "collapsed": true
   },
   "outputs": [],
   "source": [
    "# TO DO\n",
    "# EXPLAIN EACH FEATURE IN LIST\n",
    "# FEATURE NAME       DESCRIPTION\n",
    "# SeriesCode         \n",
    "# Year\n",
    "# Description"
   ]
  },
  {
   "cell_type": "code",
   "execution_count": 5,
   "metadata": {
    "collapsed": false
   },
   "outputs": [
    {
     "name": "stdout",
     "output_type": "stream",
     "text": [
      "<class 'pandas.core.frame.DataFrame'>\n",
      "RangeIndex: 369 entries, 0 to 368\n",
      "Data columns (total 3 columns):\n",
      "Seriescode     369 non-null object\n",
      "Year           369 non-null object\n",
      "Description    369 non-null object\n",
      "dtypes: object(3)\n",
      "memory usage: 8.7+ KB\n"
     ]
    }
   ],
   "source": [
    "# now let's read in the same data using pandas to save it as a dataframe\n",
    "# SeriesNotes.csv\n",
    "filename = path + '\\SeriesNotes.csv'\n",
    "df_series_notes = pd.read_csv(filename) # read in the csv file\n",
    "df_series_notes.info()"
   ]
  },
  {
   "cell_type": "code",
   "execution_count": 7,
   "metadata": {
    "collapsed": false
   },
   "outputs": [
    {
     "data": {
      "text/html": [
       "<div>\n",
       "<table border=\"1\" class=\"dataframe\">\n",
       "  <thead>\n",
       "    <tr style=\"text-align: right;\">\n",
       "      <th></th>\n",
       "      <th>Seriescode</th>\n",
       "      <th>Year</th>\n",
       "      <th>Description</th>\n",
       "    </tr>\n",
       "  </thead>\n",
       "  <tbody>\n",
       "    <tr>\n",
       "      <th>0</th>\n",
       "      <td>SP.ADO.TFRT</td>\n",
       "      <td>YR1960</td>\n",
       "      <td>Interpolated using data for 1957 and 1962.</td>\n",
       "    </tr>\n",
       "    <tr>\n",
       "      <th>1</th>\n",
       "      <td>SP.DYN.AMRT.FE</td>\n",
       "      <td>YR1960</td>\n",
       "      <td>Interpolated using data for 1957 and 1962, if ...</td>\n",
       "    </tr>\n",
       "    <tr>\n",
       "      <th>2</th>\n",
       "      <td>SP.DYN.AMRT.MA</td>\n",
       "      <td>YR1960</td>\n",
       "      <td>Interpolated using data for 1957 and 1962, if ...</td>\n",
       "    </tr>\n",
       "    <tr>\n",
       "      <th>3</th>\n",
       "      <td>SP.DYN.TO65.FE.ZS</td>\n",
       "      <td>YR1960</td>\n",
       "      <td>Interpolated using data for 1957 and 1962.</td>\n",
       "    </tr>\n",
       "    <tr>\n",
       "      <th>4</th>\n",
       "      <td>SP.DYN.TO65.MA.ZS</td>\n",
       "      <td>YR1960</td>\n",
       "      <td>Interpolated using data for 1957 and 1962.</td>\n",
       "    </tr>\n",
       "  </tbody>\n",
       "</table>\n",
       "</div>"
      ],
      "text/plain": [
       "          Seriescode    Year  \\\n",
       "0        SP.ADO.TFRT  YR1960   \n",
       "1     SP.DYN.AMRT.FE  YR1960   \n",
       "2     SP.DYN.AMRT.MA  YR1960   \n",
       "3  SP.DYN.TO65.FE.ZS  YR1960   \n",
       "4  SP.DYN.TO65.MA.ZS  YR1960   \n",
       "\n",
       "                                         Description  \n",
       "0         Interpolated using data for 1957 and 1962.  \n",
       "1  Interpolated using data for 1957 and 1962, if ...  \n",
       "2  Interpolated using data for 1957 and 1962, if ...  \n",
       "3         Interpolated using data for 1957 and 1962.  \n",
       "4         Interpolated using data for 1957 and 1962.  "
      ]
     },
     "execution_count": 7,
     "metadata": {},
     "output_type": "execute_result"
    }
   ],
   "source": [
    "df_series_notes.head()"
   ]
  },
  {
   "cell_type": "code",
   "execution_count": 30,
   "metadata": {
    "collapsed": false
   },
   "outputs": [
    {
     "data": {
      "text/html": [
       "<div>\n",
       "<table border=\"1\" class=\"dataframe\">\n",
       "  <thead>\n",
       "    <tr style=\"text-align: right;\">\n",
       "      <th></th>\n",
       "      <th>Seriescode</th>\n",
       "      <th>Year</th>\n",
       "      <th>Description</th>\n",
       "    </tr>\n",
       "  </thead>\n",
       "  <tbody>\n",
       "    <tr>\n",
       "      <th>count</th>\n",
       "      <td>369</td>\n",
       "      <td>369</td>\n",
       "      <td>369</td>\n",
       "    </tr>\n",
       "    <tr>\n",
       "      <th>unique</th>\n",
       "      <td>25</td>\n",
       "      <td>55</td>\n",
       "      <td>68</td>\n",
       "    </tr>\n",
       "    <tr>\n",
       "      <th>top</th>\n",
       "      <td>SP.ADO.TFRT</td>\n",
       "      <td>YR2007</td>\n",
       "      <td>The sample was drawn from the manufacturing se...</td>\n",
       "    </tr>\n",
       "    <tr>\n",
       "      <th>freq</th>\n",
       "      <td>55</td>\n",
       "      <td>20</td>\n",
       "      <td>72</td>\n",
       "    </tr>\n",
       "  </tbody>\n",
       "</table>\n",
       "</div>"
      ],
      "text/plain": [
       "         Seriescode    Year                                        Description\n",
       "count           369     369                                                369\n",
       "unique           25      55                                                 68\n",
       "top     SP.ADO.TFRT  YR2007  The sample was drawn from the manufacturing se...\n",
       "freq             55      20                                                 72"
      ]
     },
     "execution_count": 30,
     "metadata": {},
     "output_type": "execute_result"
    }
   ],
   "source": [
    "df_series_notes.describe()"
   ]
  },
  {
   "cell_type": "code",
   "execution_count": 31,
   "metadata": {
    "collapsed": false
   },
   "outputs": [
    {
     "name": "stdout",
     "output_type": "stream",
     "text": [
      "<class 'pandas.core.frame.DataFrame'>\n",
      "RangeIndex: 369 entries, 0 to 368\n",
      "Data columns (total 3 columns):\n",
      "Seriescode     369 non-null object\n",
      "Year           369 non-null object\n",
      "Description    369 non-null object\n",
      "dtypes: object(3)\n",
      "memory usage: 8.7+ KB\n"
     ]
    }
   ],
   "source": [
    "df_series_notes.info()"
   ]
  },
  {
   "cell_type": "markdown",
   "metadata": {},
   "source": [
    "# TO DO\n",
    "# Build Global DataFrame\n"
   ]
  },
  {
   "cell_type": "code",
   "execution_count": null,
   "metadata": {
    "collapsed": true
   },
   "outputs": [],
   "source": []
  },
  {
   "cell_type": "markdown",
   "metadata": {},
   "source": [
    "# Visualization of the Most Important Attributes"
   ]
  },
  {
   "cell_type": "markdown",
   "metadata": {
    "collapsed": true
   },
   "source": [
    "While our dataset includes We are most interested in comparing attributes between the three major countries of the US, Russia, and China.  As such we will filter the data for these countries and compare some of the attributes we find.  Specifically, the five attributes we chose as most important and interesting are as follows:  \n",
    "  \n",
    "1. Adolescent Birth Rate, which is the number of births per thousand population where the mother is between age 15 and 19.\n",
    "2. GDP, which is the total Gross Domestic Product given in current US Dollars.\n",
    "3. GDP Per Capita, which is the total GDP divided by the population of the country.\n",
    "4. The number of women that participate in government, represented as a percentage of total parliamentary or legislative seats held by women. \n",
    "5. The Labor Force Participation Rate, which is a measurement of what percent of the population that are of the age to participate in the labor force actually do."
   ]
  },
  {
   "cell_type": "markdown",
   "metadata": {},
   "source": [
    "### Adolescent Birth Rate Visualization"
   ]
  },
  {
   "cell_type": "code",
   "execution_count": 10,
   "metadata": {
    "collapsed": false
   },
   "outputs": [],
   "source": [
    "# This code takes the df_indicators frame and creates three new filtered dataframes, one each for the US, China, and Russia.\n",
    "\n",
    "df_us = df_indicators[df_indicators['CountryCode'] == 'USA']\n",
    "df_rus = df_indicators[df_indicators['CountryCode'] == 'RUS']\n",
    "df_chi = df_indicators[df_indicators['CountryName'] == 'China']"
   ]
  },
  {
   "cell_type": "code",
   "execution_count": 11,
   "metadata": {
    "collapsed": false
   },
   "outputs": [],
   "source": [
    "# This code concatenates the three filtered frames into a \"df_3\" frame that includes all three countries of interest and no others.\n",
    "# We then choose one attribute of interest, the adolescent birth rate (births per 1000 population where the mother is between 15-19 years old) and\n",
    "# create filtered frames for that particular attribute.\n",
    "\n",
    "frames = [df_us, df_rus, df_chi]\n",
    "df_3 = pd.concat(frames)\n",
    "df_3[df_3['IndicatorCode']=='SP.ADO.TFRT']\n",
    "\n",
    "df_3_abr = df_3[df_3['IndicatorCode']=='SP.ADO.TFRT']\n",
    "df_us_abr = df_us[df_us['IndicatorCode']=='SP.ADO.TFRT']\n",
    "df_rus_abr = df_rus[df_rus['IndicatorCode']=='SP.ADO.TFRT']\n",
    "df_chi_abr = df_chi[df_chi['IndicatorCode']=='SP.ADO.TFRT']"
   ]
  },
  {
   "cell_type": "code",
   "execution_count": 22,
   "metadata": {
    "collapsed": false
   },
   "outputs": [
    {
     "name": "stdout",
     "output_type": "stream",
     "text": [
      "Visualizing the Adolescent Birth Rate for the US, Russia, and China\n"
     ]
    },
    {
     "data": {
      "text/plain": [
       "<matplotlib.axes._subplots.AxesSubplot at 0xd889fd0>"
      ]
     },
     "execution_count": 22,
     "metadata": {},
     "output_type": "execute_result"
    },
    {
     "data": {
      "image/png": "[encoded data removed]",
      "text/plain": [
       "<matplotlib.figure.Figure at 0xd582710>"
      ]
     },
     "metadata": {},
     "output_type": "display_data"
    }
   ],
   "source": [
    "# This section of code builds upon Justin Markham and Brandon M Burrough's \"Introduction to Linear Regression\" notebook found here: https://github.com/justmarkham/DAT4/blob/master/notebooks/08_linear_regression.ipynb\n",
    "# It creates three scatter plots that can easily compare between the three countries of interest. In many cases these scatter plots form a distinguishable line such that no regression line needs to be added.\n",
    "\n",
    "print(\"Visualizing the Adolescent Birth Rate for the US, Russia, and China\")\n",
    "fig, ax = plt.subplots(1, 3, sharey=True)\n",
    "df_us_abr.plot(kind='scatter', x='Year', y='Value', ax=ax[0], figsize=(16, 8), title='USA')\n",
    "df_rus_abr.plot(kind='scatter', x='Year', y='Value', ax=ax[1], title='Russia')\n",
    "df_chi_abr.plot(kind='scatter', x='Year', y='Value', ax=ax[2], title='China')\n"
   ]
  },
  {
   "cell_type": "markdown",
   "metadata": {},
   "source": [
    "### Analysis of the Adolescent Birth Rate Visualization\n",
    "As seen above, both the US and China seem to have similar trajectories, where their earliest recorded datapoint is their highest.  This means both started in 1960 with comparitively high adolescent birth rates, about 85 and 70 births per thousand population respectively.  Both countries see a sharp downward trend until about 1975, where they begin trending upwards until finally they both drop again either shortly before or shortly after 1990.  After that the only major difference observed is that China appears to have plateaued off at a low of around 8 births per thousand, while the US continues a sharp downard trend.  \n",
    "Meanwhile, Russia is noticeably different from both the US and China.  Russia starts 1960 being much lower than the others, at only 30 births per thousand, then has a longer and more steady upward trend from 1968 to 1992, where it sharply drops back to the norm of 30 births per thousand and stays there.  \n",
    "Based on this data it seems that in the early nineties there was some global event that caused a drop in adolescent births, though what exactly that event might be remains unclear."
   ]
  },
  {
   "cell_type": "markdown",
   "metadata": {},
   "source": [
    "### Gross Domestic Product (GDP) Visualization"
   ]
  },
  {
   "cell_type": "code",
   "execution_count": 23,
   "metadata": {
    "collapsed": true
   },
   "outputs": [],
   "source": [
    "df_3_gdp = df_3[df_3['IndicatorCode']=='NY.GDP.MKTP.CD']\n",
    "df_us_gdp = df_us[df_us['IndicatorCode']=='NY.GDP.MKTP.CD']\n",
    "df_rus_gdp = df_rus[df_rus['IndicatorCode']=='NY.GDP.MKTP.CD']\n",
    "df_chi_gdp = df_chi[df_chi['IndicatorCode']=='NY.GDP.MKTP.CD']"
   ]
  },
  {
   "cell_type": "code",
   "execution_count": 24,
   "metadata": {
    "collapsed": false,
    "scrolled": false
   },
   "outputs": [
    {
     "name": "stdout",
     "output_type": "stream",
     "text": [
      "Visualizing the Adolescent Birth Rate for the US, Russia, and China\n"
     ]
    },
    {
     "data": {
      "text/plain": [
       "<matplotlib.axes._subplots.AxesSubplot at 0xdb94208>"
      ]
     },
     "execution_count": 24,
     "metadata": {},
     "output_type": "execute_result"
    },
    {
     "data": {
      "image/png": "[encoded data removed]",
      "text/plain": [
       "<matplotlib.figure.Figure at 0xd931438>"
      ]
     },
     "metadata": {},
     "output_type": "display_data"
    }
   ],
   "source": [
    "print(\"Visualizing Gross Domestic Product (GDP) for the US, Russia, and China\")\n",
    "fig, ax = plt.subplots(1, 3, sharey=True)\n",
    "df_us_gdp.plot(kind='scatter', x='Year', y='Value', ax=ax[0], figsize=(16, 8), title='USA')\n",
    "df_rus_gdp.plot(kind='scatter', x='Year', y='Value', ax=ax[1], title='Russia')\n",
    "df_chi_gdp.plot(kind='scatter', x='Year', y='Value', ax=ax[2], title='China')"
   ]
  },
  {
   "cell_type": "markdown",
   "metadata": {},
   "source": [
    "### Analysis of the Gross Domestic Product (GDP) Visualization  \n",
    "The US is clearly different from both other countries, enjoying an upward trend that saw them grow from 543 Billion (0.0543e+13) Current US Dollars in 1960 to over 17.4 Trillion (1.74e+13) in 2014.  The growth was always upward, but hit an obvious inflection point around 1975 where the growth accelerated to a rapid rate that continued to climb aside from a slight blip near the onset of the 2008 housing crisis.  \n",
    "While we do not have data for Russia prior to 1989, the data we do have tells a completely different story from the US.  Russia actually was in a slight downward trend until it shuffled into a slight upward trend around the turn of the millenium.  Even so, the upward movement stalled around 2007 and has yet to really recover, still hovering around 2 Trillion USD.  \n",
    "China appears to be a combination of the other two countries, where it starts off with decades of little to no growth, begins expanding in the early nineties, then explodes into a growth rate as strong or stronger than the US in the mid-2000's.  In fact, China's GDP doubled from 5.06 Trillion USD in 2009 (0.506e+13) to 10.4 Trillion USD in 2014 (1.04e+13).\n"
   ]
  },
  {
   "cell_type": "markdown",
   "metadata": {},
   "source": [
    "### GDP Per Capita Visualization"
   ]
  },
  {
   "cell_type": "code",
   "execution_count": 32,
   "metadata": {
    "collapsed": true
   },
   "outputs": [],
   "source": [
    "df_3_gdpc = df_3[df_3['IndicatorCode']=='NY.GDP.PCAP.CD']\n",
    "df_us_gdpc = df_us[df_us['IndicatorCode']=='NY.GDP.PCAP.CD']\n",
    "df_rus_gdpc = df_rus[df_rus['IndicatorCode']=='NY.GDP.PCAP.CD']\n",
    "df_chi_gdpc = df_chi[df_chi['IndicatorCode']=='NY.GDP.PCAP.CD']"
   ]
  },
  {
   "cell_type": "code",
   "execution_count": 33,
   "metadata": {
    "collapsed": false,
    "scrolled": false
   },
   "outputs": [
    {
     "name": "stdout",
     "output_type": "stream",
     "text": [
      "Visualizing Gross Domestic Product (GDP) Per Capita for the US, Russia, and China\n"
     ]
    },
    {
     "data": {
      "text/plain": [
       "<matplotlib.axes._subplots.AxesSubplot at 0xdf5f048>"
      ]
     },
     "execution_count": 33,
     "metadata": {},
     "output_type": "execute_result"
    },
    {
     "data": {
      "image/png": "[encoded data removed]",
      "text/plain": [
       "<matplotlib.figure.Figure at 0xdc55cc0>"
      ]
     },
     "metadata": {},
     "output_type": "display_data"
    }
   ],
   "source": [
    "print(\"Visualizing Gross Domestic Product (GDP) Per Capita for the US, Russia, and China\")\n",
    "fig, ax = plt.subplots(1, 3, sharey=True)\n",
    "df_us_gdpc.plot(kind='scatter', x='Year', y='Value', ax=ax[0], figsize=(16, 8), title='USA')\n",
    "df_rus_gdpc.plot(kind='scatter', x='Year', y='Value', ax=ax[1], title='Russia')\n",
    "df_chi_gdpc.plot(kind='scatter', x='Year', y='Value', ax=ax[2], title='China')"
   ]
  },
  {
   "cell_type": "markdown",
   "metadata": {},
   "source": [
    "### Analysis of the GDP Per Capita Visualization  \n",
    "For the US, the slope of the GDP Per Capita seems to match that of the total GDP, suggesting that all of the economic growth seen during that time kept pace with the country's population. The latest recorded GDP per captita in the US, $54,629 per person, is over four times the current value for Russia ($12,735 per person), and over seven times the current value for China ($7,590 per person).  \n",
    "Russia's trend for GDP per capita also seems to match its trend for total GDP, and if anything the per capita has grown slightly more than the total.  China's GDP per capita, however, seems to be much flatter than the total GDP right up until the country enjoyed its second, more pronounced change in growth rate in the mid-2000's.  This could suggest that only very strong economic growth could measurably increase GDP per capita when your country has a very large population like China's.\n"
   ]
  },
  {
   "cell_type": "markdown",
   "metadata": {},
   "source": [
    "### Percentage of Government Seats Held By Women Visualization"
   ]
  },
  {
   "cell_type": "code",
   "execution_count": 37,
   "metadata": {
    "collapsed": true
   },
   "outputs": [],
   "source": [
    "df_3_wip = df_3[df_3['IndicatorCode']=='SG.GEN.PARL.ZS']\n",
    "df_us_wip = df_us[df_us['IndicatorCode']=='SG.GEN.PARL.ZS']\n",
    "df_rus_wip = df_rus[df_rus['IndicatorCode']=='SG.GEN.PARL.ZS']\n",
    "df_chi_wip = df_chi[df_chi['IndicatorCode']=='SG.GEN.PARL.ZS']"
   ]
  },
  {
   "cell_type": "code",
   "execution_count": 41,
   "metadata": {
    "collapsed": false
   },
   "outputs": [
    {
     "name": "stdout",
     "output_type": "stream",
     "text": [
      "Visualizing The Percentage of Government Positions Held By Women for the US, Russia, and China\n"
     ]
    },
    {
     "data": {
      "text/plain": [
       "<matplotlib.axes._subplots.AxesSubplot at 0xc2b32e8>"
      ]
     },
     "execution_count": 41,
     "metadata": {},
     "output_type": "execute_result"
    },
    {
     "data": {
      "image/png": "[encoded data removed]",
      "text/plain": [
       "<matplotlib.figure.Figure at 0xe362320>"
      ]
     },
     "metadata": {},
     "output_type": "display_data"
    }
   ],
   "source": [
    "print(\"Visualizing The Percentage of Government Positions Held By Women for the US, Russia, and China\")\n",
    "fig, ax = plt.subplots(1, 3, sharey=True)\n",
    "df_us_wip.plot(kind='scatter', x='Year', y='Value', ax=ax[0], figsize=(16, 8), title='USA')\n",
    "df_rus_wip.plot(kind='scatter', x='Year', y='Value', ax=ax[1], title='Russia')\n",
    "df_chi_wip.plot(kind='scatter', x='Year', y='Value', ax=ax[2], title='China')"
   ]
  },
  {
   "cell_type": "markdown",
   "metadata": {},
   "source": [
    "### Analysis of the Percentage of Government Seats Held By Women Visualization  \n",
    "None of these countries seem to have gathered data between 1990 and 1996, and the earliest datapoint is from 1990 so this attribute is relatively recent.  This causes the lone datapoint 1990 to appear to be an outlier.  This does not seem to pose much of an issue for China, where the value in 1990 matches the general 20-25% participation rate that it has always had.  It does not appear to be of much concern for the US either, as even though it is far lower than any other values it does stay along the linear trend of of the growth.  Russia, however, sees this outlier as being higher than any other point and not clearly part of a simple linear trend (more of a quadratic U-shaped trend).  \n",
    "Keeping that in mind, the US has a steady upward trend of growth from around 7 percent participation in 1990 to nearly 20 percent participation in 2015.  This is higher than Russia, which aside from the lone 1990 datapoint has never risen higher than 14 percent participation and seems to be steady or dropping rather than rising based on the most recent trends.  China, however, has gone slightly up and down but has never dropped below 20 percent participation."
   ]
  },
  {
   "cell_type": "markdown",
   "metadata": {},
   "source": [
    "### Labor Force Participation Rate Visualization"
   ]
  },
  {
   "cell_type": "code",
   "execution_count": 42,
   "metadata": {
    "collapsed": true
   },
   "outputs": [],
   "source": [
    "df_3_lfp = df_3[df_3['IndicatorCode']=='SL.TLF.CACT.MA.ZS']\n",
    "df_us_lfp = df_us[df_us['IndicatorCode']=='SL.TLF.CACT.MA.ZS']\n",
    "df_rus_lfp = df_rus[df_rus['IndicatorCode']=='SL.TLF.CACT.MA.ZS']\n",
    "df_chi_lfp = df_chi[df_chi['IndicatorCode']=='SL.TLF.CACT.MA.ZS']"
   ]
  },
  {
   "cell_type": "code",
   "execution_count": 43,
   "metadata": {
    "collapsed": false
   },
   "outputs": [
    {
     "name": "stdout",
     "output_type": "stream",
     "text": [
      "Visualizing The Labor Force Participation Rate for the US, Russia, and China\n"
     ]
    },
    {
     "data": {
      "text/plain": [
       "<matplotlib.axes._subplots.AxesSubplot at 0xd435a20>"
      ]
     },
     "execution_count": 43,
     "metadata": {},
     "output_type": "execute_result"
    },
    {
     "data": {
      "image/png": "[encoded data removed]",
      "text/plain": [
       "<matplotlib.figure.Figure at 0xd3520b8>"
      ]
     },
     "metadata": {},
     "output_type": "display_data"
    }
   ],
   "source": [
    "print(\"Visualizing The Labor Force Participation Rate for the US, Russia, and China\")\n",
    "fig, ax = plt.subplots(1, 3, sharey=True)\n",
    "df_us_lfp.plot(kind='scatter', x='Year', y='Value', ax=ax[0], figsize=(16, 8), title='USA')\n",
    "df_rus_lfp.plot(kind='scatter', x='Year', y='Value', ax=ax[1], title='Russia')\n",
    "df_chi_lfp.plot(kind='scatter', x='Year', y='Value', ax=ax[2], title='China')"
   ]
  },
  {
   "cell_type": "markdown",
   "metadata": {},
   "source": [
    "### Analysis of the Labor Force Participation Rate Visualization  \n",
    "The US shows a steady rate between 1990 and 2000, before dropping to a pleateau of 72.5% in 2003, and dropping a second time in 2009 to about 69% where it rests today.  \n",
    "Russia shows the sharpest decline from 1990 to 1998, after which it rebounded and showed steady growth since then.  As a country it started at a high of about 76% participation, fell to a low of about 65%, and currently sits at about 72%.  \n",
    "China shows far and away the highest labor force participation rate for all times observed.  It stayed stable at nearly 85% participation before beginning a slow decline in the late nineties that saw it drop to a low of 77.5%, which it has since slightly recovered from.  China's current labor force participation rate is close to 78%.\n"
   ]
  },
  {
   "cell_type": "markdown",
   "metadata": {},
   "source": [
    "# TO DO  \n",
    "# Simple Statistics Section\n",
    "\n",
    "Give simple, appropriate statistics (range, mode, mean, median, variance, counts, etc.) for the most important attributes and describe what they mean or if you found something interesting. Note: You can also use data from other sources for comparison. Explain the significance of the statistics run and why they are meaningful.\n"
   ]
  },
  {
   "cell_type": "markdown",
   "metadata": {},
   "source": [
    "# TO DO  \n",
    "# Analyze the relationship between the important attributes\n",
    "\n",
    "### Ones that seem interesting might include the following:\n",
    "1. Comparing GDP with GDP per Capita\n",
    "2. Comparing Adolescent Birth Rate with Women holding seats in government\n",
    "3. Comparing labor force participation rate with GDP\n",
    "4. Comparing labor force participation rate with GDP Per Capita\n",
    "5. Comparing Adolescent Birth Rate with GDP"
   ]
  },
  {
   "cell_type": "markdown",
   "metadata": {
    "collapsed": true
   },
   "source": [
    "# TO DO\n",
    "\n",
    "# Identify and Deal with Missing Values  \n",
    "\n",
    "### One Idea: We had some missing values between 1990 and 1996 for the percentage of women in government data.  I spoke a bit about it in the visualization but it could certainly be expanded upon."
   ]
  },
  {
   "cell_type": "code",
   "execution_count": null,
   "metadata": {
    "collapsed": true
   },
   "outputs": [],
   "source": []
  },
  {
   "cell_type": "code",
   "execution_count": null,
   "metadata": {
    "collapsed": true
   },
   "outputs": [],
   "source": []
  },
  {
   "cell_type": "markdown",
   "metadata": {},
   "source": [
    "# TO DO\n",
    "\n",
    "# Use Imputation to Deal with Missing Values "
   ]
  },
  {
   "cell_type": "markdown",
   "metadata": {},
   "source": [
    "# Why Imputation \n",
    "\n",
    "We are working on large data set where the data are expensive and we have many attributes/features. We can not afford to throw data out.  This could have many side effects and may cause our final analysis to be biased and incorrect. \n",
    "\n",
    "As a consensus, our team decided to use the normalized imputation method to determine how to fill in the missing data.  The easiset way to impute the missing data is to fill in the missing entries using the method taught in class.\n",
    "\n",
    "* df_normalized = (df_sub-df_sub.min())/(df_sub.max()-df_sub.min())\n",
    "* handle missing Categorical and Continuous feature variables."
   ]
  },
  {
   "cell_type": "code",
   "execution_count": null,
   "metadata": {
    "collapsed": true
   },
   "outputs": [],
   "source": []
  },
  {
   "cell_type": "markdown",
   "metadata": {},
   "source": [
    "# TO DO \n",
    "At a high level, we need to determine what is our hypothesis or what are we trying to test at HIGH LEVEL.\n",
    "\n",
    "If this is not decided early on, we will be all over the place. This will make us look like we are confused by not taking a stand once our EDA analysis is completed. This will make it easier to complete the project 1 assignment.\n",
    "\n",
    "Our report has to be on target, where we can explain in layman's terms the problem to upper management of our findings.  Upper management will not be impressed by what we have done, but have we identified and provided a solution to the problem in simple terminology.  "
   ]
  },
  {
   "cell_type": "code",
   "execution_count": null,
   "metadata": {
    "collapsed": true
   },
   "outputs": [],
   "source": []
  }
 ],
 "metadata": {
  "anaconda-cloud": {},
  "kernelspec": {
   "display_name": "Python 3",
   "language": "python",
   "name": "python3"
  },
  "language_info": {
   "codemirror_mode": {
    "name": "ipython",
    "version": 3
   },
   "file_extension": ".py",
   "mimetype": "text/x-python",
   "name": "python",
   "nbconvert_exporter": "python",
   "pygments_lexer": "ipython3",
   "version": "3.5.1"
  }
 },
 "nbformat": 4,
 "nbformat_minor": 0
}
