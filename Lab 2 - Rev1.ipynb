{
 "cells": [
  {
   "cell_type": "markdown",
   "metadata": {},
   "source": [
    "# Lab 2: Classification and/or Regression"
   ]
  },
  {
   "cell_type": "markdown",
   "metadata": {},
   "source": [
    "## Dataset Selection  \n",
    "Select a dataset identically to the way you selected for the first project work week and mini-project.\n",
    "You are not required to use the same dataset that you used in the past, but you are encouraged.\n",
    "You must identify two tasks from the dataset to regress or classify. That is:  \n",
    "• two classification tasks OR  \n",
    "• two regression tasks OR  \n",
    "• one classification task and one regression task  \n",
    "For example, if your dataset was from the diabetes data you might try to predict two tasks: (1)\n",
    "classifying if a patient will be readmitted within a 30 day period or not, and (2) regressing what the\n",
    "total number of days a patient will spend in the hospital, given their history and specifics of the\n",
    "encounter like tests administered and previous admittance. "
   ]
  },
  {
   "cell_type": "markdown",
   "metadata": {},
   "source": [
    "## Data Preparation (15 points total)\n",
    "### • [10 points] Define and prepare your class variables.  \n",
    "Use proper variable representations (int, float, one-hot, etc.). Use pre-processing methods (as needed) for\n",
    "dimensionality reduction, scaling, etc. Remove variables that are not needed/useful for\n",
    "the analysis."
   ]
  },
  {
   "cell_type": "markdown",
   "metadata": {},
   "source": [
    "### • [5 points] Describe the final dataset that is used for classification/regression  \n",
    "(include a description of any newly formed variables you created). "
   ]
  },
  {
   "cell_type": "markdown",
   "metadata": {},
   "source": [
    "## • Modeling and Evaluation (70 points total)  \n",
    "### • [10 points] Choose and explain your evaluation metrics that you will use \n",
    "(i.e., accuracy, precision, recall, F-measure, or any metric we have discussed). Why are the measure(s)\n",
    "appropriate for analyzing the results of your modeling? Give a detailed explanation\n",
    "backing up any assertions.  \n",
    "### • [10 points] Choose the method you will use for dividing your data into training and testing splits \n",
    "(i.e., are you using Stratified 10-fold cross validation? Why?). Explain why\n",
    "your chosen method is appropriate or use more than one method as appropriate.  \n",
    "### • [20 points] Create three different classification/regression models \n",
    "(e.g., random forest, KNN, and SVM). Two modeling techniques must be new (but the third could be SVM or\n",
    "logistic regression). Adjust parameters as appropriate to increase generalization\n",
    "performance using your chosen metric.  \n",
    "### • [10 points] Analyze the results using your chosen method of evaluation. \n",
    "Use visualizations of the results to bolster the analysis. Explain any visuals and analyze why\n",
    "they are interesting to someone that might use this model.  \n",
    "### • [10 points] Discuss the advantages of each model for each classification task, if any. \n",
    "If there are not advantages, explain why. Is any model better than another? Is the\n",
    "difference significant with 95% confidence? Use proper statistical comparison methods.  \n",
    "### • [10 points] Which attributes from your analysis are most important? \n",
    "Use proper methods discussed in class to evaluate the importance of different attributes. Discuss\n",
    "the results and hypothesize about why certain attributes are more important than others\n",
    "for a given classification task.  "
   ]
  },
  {
   "cell_type": "markdown",
   "metadata": {},
   "source": [
    "## • Deployment (5 points total)  \n",
    "### • [5 points] How useful is your model for interested parties \n",
    "(i.e., the companies or organizations that might want to use it for prediction)? How would you measure the\n",
    "model's value if it was used by these parties? How would your deploy your model for\n",
    "interested parties? What other data should be collected? How often would the model\n",
    "need to be updated, etc.? "
   ]
  },
  {
   "cell_type": "markdown",
   "metadata": {},
   "source": [
    "## • Exceptional Work (10 points total)\n",
    "### • You have free reign to provide additional modeling.  \n",
    "### • One idea: grid search parameters in a parallelized fashion and visualize the performances across attributes.  \n",
    "Which parameters are most significant for making a\n",
    "good model for each classification algorithm?"
   ]
  },
  {
   "cell_type": "code",
   "execution_count": null,
   "metadata": {
    "collapsed": true
   },
   "outputs": [],
   "source": []
  }
 ],
 "metadata": {
  "anaconda-cloud": {},
  "kernelspec": {
   "display_name": "Python [Root]",
   "language": "python",
   "name": "Python [Root]"
  },
  "language_info": {
   "codemirror_mode": {
    "name": "ipython",
    "version": 3
   },
   "file_extension": ".py",
   "mimetype": "text/x-python",
   "name": "python",
   "nbconvert_exporter": "python",
   "pygments_lexer": "ipython3",
   "version": "3.5.2"
  }
 },
 "nbformat": 4,
 "nbformat_minor": 0
}
