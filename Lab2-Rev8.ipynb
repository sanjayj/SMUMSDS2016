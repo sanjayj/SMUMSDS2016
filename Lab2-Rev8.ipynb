{
 "cells": [
  {
   "cell_type": "markdown",
   "metadata": {},
   "source": [
    "# SVM and Logistic Regression Modeling\n",
    "* Murali Parthasaraty\n",
    "* Gene Ledbetter\n",
    "* Sanjay Jagarlamudi\n",
    "* Sarah Beg\n"
   ]
  },
  {
   "cell_type": "markdown",
   "metadata": {},
   "source": [
    "# STATUS OF PAPER:  \n",
    "  \n",
    "  \n",
    "<font color='green'>  \n",
    "100% - Define and prep class variables (10 points)  </font>  \n",
    "<font color='green'>100% - Describe the final dataset (5 points)  </font>  \n",
    "<font color='green'>100% -  Choose and explain your evaluation metrics (10 points)  </font>   \n",
    "<font color='green'>100% -  Choose the method for training/testing split (10 points)  </font>  \n",
    "<font color='green'>100% -  Create three classification models (20 points)  </font>   \n",
    "<font color='blue'>20% -  Analyze results (10 points)  </font>  \n",
    "<font color='blue'>80% -  Discuss advantages of each classification model (10 points)  </font>   \n",
    "<font color='red'>0% -  Which attributes are most important? (10 points)  </font>  \n",
    "<font color='green'>100% - How useful is your model? (5 points)  </font>  \n",
    "<font color='blue'>20% -  Exceptional work (10 points)  </font>  \n",
    "  \n",
    "\n",
    "Minimum work still needed:  \n",
    "Visualizations for the Analyze Results section  \n",
    "Statistical analysis for 95% certainty of difference for the Discuss Advantages section  \n",
    "The entirety of the \"Which attributes are most important\" section.  \n",
    "Getting the SVM classification to work for exceptional work\n",
    "finding and including some other exceptional work."
   ]
  },
  {
   "cell_type": "markdown",
   "metadata": {},
   "source": [
    "# Lab 2: Classification and/or Regression"
   ]
  },
  {
   "cell_type": "markdown",
   "metadata": {},
   "source": [
    "\n",
    "\n",
    "## Dataset Selection  \n",
    "\n",
    "<font color='blue'> Select a dataset identically to the way you selected for the first project work week and mini-project.\n",
    "You are not required to use the same dataset that you used in the past, but you are encouraged.\n",
    "You must identify two tasks from the dataset to regress or classify. That is:  \n",
    "• two classification tasks OR  \n",
    "• two regression tasks OR  \n",
    "• one classification task and one regression task  \n",
    "For example, if your dataset was from the diabetes data you might try to predict two tasks: (1)\n",
    "classifying if a patient will be readmitted within a 30 day period or not, and (2) regressing what the\n",
    "total number of days a patient will spend in the hospital, given their history and specifics of the\n",
    "encounter like tests administered and previous admittance. \n",
    "</font>\n",
    "<font color='green'>  100% - complete  </font>  "
   ]
  },
  {
   "cell_type": "markdown",
   "metadata": {},
   "source": [
    "For this lab assignment we have chosen to use the \"income\" dataset that was donated to the UCI machine learning database.  This dataset includes information on over 32,000 patients, and the information gathered includes their age, marital status, education, income, and others.  \n",
    "  \n",
    "There will be two classification tasks that we will perform on this data.  The first will be classifying individuals into two separate classes based upon whether or not they earned less than or more than 50,000 dollars a year.  This is the classification task for which the data was gathered, and will help provide insight into which factors best predict an individual's income level.  \n",
    "  \n",
    "The second classification task will be to classify individuals by their marital status such as married, never married, and divorced.  This will provide insight into how well economic factors can predict an individuals marital status to answer questions such as \"do married people generally earn more?\" or \"does earning more increase the odds of being or becoming divorced?\".  These questions can be of great interest to social scientists and legislators who may want to put forward new policy to account for or attempt to influence any trends found by these classification tasks."
   ]
  },
  {
   "cell_type": "markdown",
   "metadata": {},
   "source": [
    "## Data Preparation (15 points total)\n",
    "### • [10 points] Define and prepare your class variables.  \n",
    "<font color='blue'>Use proper variable representations (int, float, one-hot, etc.). Use pre-processing methods (as needed) for\n",
    "dimensionality reduction, scaling, etc. Remove variables that are not needed/useful for\n",
    "the analysis.</font> <font color='green'>  100% - complete  </font> "
   ]
  },
  {
   "cell_type": "markdown",
   "metadata": {},
   "source": [
    "In the code below we will be importing the income dataset and preparing the class variables.  All variables in this dataset are either categorical variables or integer variables.  The integer variables are of different scales, for example the hours-per-week variable is an integer that generally falls within the range of 0-40, while the capital-gain variable can have values in the thousands.  To compare the two variabless more efficiently For this reason we will be standardizing the integer values as part of our pre-processing.  \n",
    "  \n",
    "Furthermore, the categorical variables are represented by strings, which can pose issues with some of the processes we will be using in our classification tasks since they only takes integers.  Therefore we will also be encoding the strings as integer labels as part of our preprocessing steps as well."
   ]
  },
  {
   "cell_type": "code",
   "execution_count": 39,
   "metadata": {
    "collapsed": false
   },
   "outputs": [],
   "source": [
    "# This code imports the packages we will be using, and sets parameters for the matplotlib.pylab package.\n",
    "\n",
    "from sklearn.neighbors import KNeighborsClassifier   #to perform KNN classification \n",
    "from sklearn.cross_validation import StratifiedKFold #to split data \n",
    "from sklearn import metrics as mt                    #to see if model is doing how well\n",
    "from sklearn.ensemble import RandomForestClassifier  #to perform RF classification\n",
    "from sklearn.linear_model import LogisticRegression  #to perform LR classification\n",
    "from sklearn.svm import SVC                          #to perform SVM classification\n",
    "import sqlite3 \n",
    "import pandas as pd\n",
    "import numpy as np\n",
    "import matplotlib.pyplot as plt\n",
    "import seaborn as sns\n",
    "import matplotlib.pylab as pylab\n",
    "import plotly.plotly as py\n",
    "import plotly.graph_objs as go\n",
    "from sklearn import datasets, linear_model\n",
    "from sklearn.linear_model import BayesianRidge, LinearRegression,LogisticRegression\n",
    "from sklearn.cross_validation import train_test_split\n",
    "params = {'legend.fontsize': 'x-large',\n",
    "          'figure.figsize': (15, 5),\n",
    "         'axes.labelsize': 'x-large',\n",
    "         'axes.titlesize':'x-large',\n",
    "         'xtick.labelsize':'x-large',\n",
    "         'ytick.labelsize':'x-large'}\n",
    "pylab.rcParams.update(params)\n",
    "%matplotlib inline\n",
    "\n"
   ]
  },
  {
   "cell_type": "code",
   "execution_count": 7,
   "metadata": {
    "collapsed": true
   },
   "outputs": [],
   "source": [
    "# Path to where all of the data set files resides \n",
    "path = '/Users/murali/SMU/lab2/SMUMSDS2016/data'"
   ]
  },
  {
   "cell_type": "code",
   "execution_count": 9,
   "metadata": {
    "collapsed": false
   },
   "outputs": [
    {
     "name": "stdout",
     "output_type": "stream",
     "text": [
      "<class 'pandas.core.frame.DataFrame'>\n",
      "RangeIndex: 32561 entries, 0 to 32560\n",
      "Data columns (total 15 columns):\n",
      "age               32561 non-null int64\n",
      "workclass         32561 non-null object\n",
      "fnlwgt            32561 non-null int64\n",
      "education         32561 non-null object\n",
      "education-num     32561 non-null int64\n",
      "marital-status    32561 non-null object\n",
      "occupation        32561 non-null object\n",
      "relationship      32561 non-null object\n",
      "race              32561 non-null object\n",
      "sex               32561 non-null object\n",
      "capital-gain      32561 non-null int64\n",
      "capital-loss      32561 non-null int64\n",
      "hours-per-week    32561 non-null int64\n",
      "native-country    32561 non-null object\n",
      "target            32561 non-null object\n",
      "dtypes: int64(6), object(9)\n",
      "memory usage: 3.7+ MB\n"
     ]
    },
    {
     "data": {
      "text/html": [
       "<div>\n",
       "<table border=\"1\" class=\"dataframe\">\n",
       "  <thead>\n",
       "    <tr style=\"text-align: right;\">\n",
       "      <th></th>\n",
       "      <th>age</th>\n",
       "      <th>workclass</th>\n",
       "      <th>fnlwgt</th>\n",
       "      <th>education</th>\n",
       "      <th>education-num</th>\n",
       "      <th>marital-status</th>\n",
       "      <th>occupation</th>\n",
       "      <th>relationship</th>\n",
       "      <th>race</th>\n",
       "      <th>sex</th>\n",
       "      <th>capital-gain</th>\n",
       "      <th>capital-loss</th>\n",
       "      <th>hours-per-week</th>\n",
       "      <th>native-country</th>\n",
       "      <th>target</th>\n",
       "    </tr>\n",
       "  </thead>\n",
       "  <tbody>\n",
       "    <tr>\n",
       "      <th>0</th>\n",
       "      <td>39</td>\n",
       "      <td>State-gov</td>\n",
       "      <td>77516</td>\n",
       "      <td>Bachelors</td>\n",
       "      <td>13</td>\n",
       "      <td>Never-married</td>\n",
       "      <td>Adm-clerical</td>\n",
       "      <td>Not-in-family</td>\n",
       "      <td>White</td>\n",
       "      <td>Male</td>\n",
       "      <td>2174</td>\n",
       "      <td>0</td>\n",
       "      <td>40</td>\n",
       "      <td>United-States</td>\n",
       "      <td>&lt;=50K</td>\n",
       "    </tr>\n",
       "    <tr>\n",
       "      <th>1</th>\n",
       "      <td>50</td>\n",
       "      <td>Self-emp-not-inc</td>\n",
       "      <td>83311</td>\n",
       "      <td>Bachelors</td>\n",
       "      <td>13</td>\n",
       "      <td>Married-civ-spouse</td>\n",
       "      <td>Exec-managerial</td>\n",
       "      <td>Husband</td>\n",
       "      <td>White</td>\n",
       "      <td>Male</td>\n",
       "      <td>0</td>\n",
       "      <td>0</td>\n",
       "      <td>13</td>\n",
       "      <td>United-States</td>\n",
       "      <td>&lt;=50K</td>\n",
       "    </tr>\n",
       "    <tr>\n",
       "      <th>2</th>\n",
       "      <td>38</td>\n",
       "      <td>Private</td>\n",
       "      <td>215646</td>\n",
       "      <td>HS-grad</td>\n",
       "      <td>9</td>\n",
       "      <td>Divorced</td>\n",
       "      <td>Handlers-cleaners</td>\n",
       "      <td>Not-in-family</td>\n",
       "      <td>White</td>\n",
       "      <td>Male</td>\n",
       "      <td>0</td>\n",
       "      <td>0</td>\n",
       "      <td>40</td>\n",
       "      <td>United-States</td>\n",
       "      <td>&lt;=50K</td>\n",
       "    </tr>\n",
       "    <tr>\n",
       "      <th>3</th>\n",
       "      <td>53</td>\n",
       "      <td>Private</td>\n",
       "      <td>234721</td>\n",
       "      <td>11th</td>\n",
       "      <td>7</td>\n",
       "      <td>Married-civ-spouse</td>\n",
       "      <td>Handlers-cleaners</td>\n",
       "      <td>Husband</td>\n",
       "      <td>Black</td>\n",
       "      <td>Male</td>\n",
       "      <td>0</td>\n",
       "      <td>0</td>\n",
       "      <td>40</td>\n",
       "      <td>United-States</td>\n",
       "      <td>&lt;=50K</td>\n",
       "    </tr>\n",
       "    <tr>\n",
       "      <th>4</th>\n",
       "      <td>28</td>\n",
       "      <td>Private</td>\n",
       "      <td>338409</td>\n",
       "      <td>Bachelors</td>\n",
       "      <td>13</td>\n",
       "      <td>Married-civ-spouse</td>\n",
       "      <td>Prof-specialty</td>\n",
       "      <td>Wife</td>\n",
       "      <td>Black</td>\n",
       "      <td>Female</td>\n",
       "      <td>0</td>\n",
       "      <td>0</td>\n",
       "      <td>40</td>\n",
       "      <td>Cuba</td>\n",
       "      <td>&lt;=50K</td>\n",
       "    </tr>\n",
       "  </tbody>\n",
       "</table>\n",
       "</div>"
      ],
      "text/plain": [
       "   age          workclass  fnlwgt   education  education-num  \\\n",
       "0   39          State-gov   77516   Bachelors             13   \n",
       "1   50   Self-emp-not-inc   83311   Bachelors             13   \n",
       "2   38            Private  215646     HS-grad              9   \n",
       "3   53            Private  234721        11th              7   \n",
       "4   28            Private  338409   Bachelors             13   \n",
       "\n",
       "        marital-status          occupation    relationship    race      sex  \\\n",
       "0        Never-married        Adm-clerical   Not-in-family   White     Male   \n",
       "1   Married-civ-spouse     Exec-managerial         Husband   White     Male   \n",
       "2             Divorced   Handlers-cleaners   Not-in-family   White     Male   \n",
       "3   Married-civ-spouse   Handlers-cleaners         Husband   Black     Male   \n",
       "4   Married-civ-spouse      Prof-specialty            Wife   Black   Female   \n",
       "\n",
       "   capital-gain  capital-loss  hours-per-week  native-country  target  \n",
       "0          2174             0              40   United-States   <=50K  \n",
       "1             0             0              13   United-States   <=50K  \n",
       "2             0             0              40   United-States   <=50K  \n",
       "3             0             0              40   United-States   <=50K  \n",
       "4             0             0              40            Cuba   <=50K  "
      ]
     },
     "execution_count": 9,
     "metadata": {},
     "output_type": "execute_result"
    }
   ],
   "source": [
    "# This code reads in the initial csv file\n",
    "filename = path + '/income.csv'\n",
    "df_income = pd.read_csv(filename) #read in the csv file\n",
    "df_income.info()                  #run it for two reasons which variables in our data and any nulls\n",
    "df_income.head()"
   ]
  },
  {
   "cell_type": "code",
   "execution_count": 10,
   "metadata": {
    "collapsed": false
   },
   "outputs": [],
   "source": [
    "# This code creates a target array with 0 representing under 50,000 USD a year and 1 representing over 50,000 USD a year\n",
    "\n",
    "i = 0\n",
    "rangeLength = len(df_income)\n",
    "#print(rangeLength)\n",
    "target = []\n",
    "for i in range(0,rangeLength):\n",
    "    if df_income['target'].iloc[i] == \" <=50K\":\n",
    "        target.append(0)\n",
    "    else:\n",
    "        target.append(1)\n",
    "#print(target)"
   ]
  },
  {
   "cell_type": "code",
   "execution_count": 11,
   "metadata": {
    "collapsed": false
   },
   "outputs": [
    {
     "data": {
      "text/html": [
       "<div>\n",
       "<table border=\"1\" class=\"dataframe\">\n",
       "  <thead>\n",
       "    <tr style=\"text-align: right;\">\n",
       "      <th></th>\n",
       "      <th>age</th>\n",
       "      <th>workclass</th>\n",
       "      <th>fnlwgt</th>\n",
       "      <th>education</th>\n",
       "      <th>education-num</th>\n",
       "      <th>marital-status</th>\n",
       "      <th>occupation</th>\n",
       "      <th>relationship</th>\n",
       "      <th>race</th>\n",
       "      <th>sex</th>\n",
       "      <th>capital-gain</th>\n",
       "      <th>capital-loss</th>\n",
       "      <th>hours-per-week</th>\n",
       "      <th>native-country</th>\n",
       "      <th>income</th>\n",
       "    </tr>\n",
       "  </thead>\n",
       "  <tbody>\n",
       "    <tr>\n",
       "      <th>0</th>\n",
       "      <td>39</td>\n",
       "      <td>State-gov</td>\n",
       "      <td>77516</td>\n",
       "      <td>Bachelors</td>\n",
       "      <td>13</td>\n",
       "      <td>Never-married</td>\n",
       "      <td>Adm-clerical</td>\n",
       "      <td>Not-in-family</td>\n",
       "      <td>White</td>\n",
       "      <td>Male</td>\n",
       "      <td>2174</td>\n",
       "      <td>0</td>\n",
       "      <td>40</td>\n",
       "      <td>United-States</td>\n",
       "      <td>0</td>\n",
       "    </tr>\n",
       "    <tr>\n",
       "      <th>1</th>\n",
       "      <td>50</td>\n",
       "      <td>Self-emp-not-inc</td>\n",
       "      <td>83311</td>\n",
       "      <td>Bachelors</td>\n",
       "      <td>13</td>\n",
       "      <td>Married-civ-spouse</td>\n",
       "      <td>Exec-managerial</td>\n",
       "      <td>Husband</td>\n",
       "      <td>White</td>\n",
       "      <td>Male</td>\n",
       "      <td>0</td>\n",
       "      <td>0</td>\n",
       "      <td>13</td>\n",
       "      <td>United-States</td>\n",
       "      <td>0</td>\n",
       "    </tr>\n",
       "    <tr>\n",
       "      <th>2</th>\n",
       "      <td>38</td>\n",
       "      <td>Private</td>\n",
       "      <td>215646</td>\n",
       "      <td>HS-grad</td>\n",
       "      <td>9</td>\n",
       "      <td>Divorced</td>\n",
       "      <td>Handlers-cleaners</td>\n",
       "      <td>Not-in-family</td>\n",
       "      <td>White</td>\n",
       "      <td>Male</td>\n",
       "      <td>0</td>\n",
       "      <td>0</td>\n",
       "      <td>40</td>\n",
       "      <td>United-States</td>\n",
       "      <td>0</td>\n",
       "    </tr>\n",
       "    <tr>\n",
       "      <th>3</th>\n",
       "      <td>53</td>\n",
       "      <td>Private</td>\n",
       "      <td>234721</td>\n",
       "      <td>11th</td>\n",
       "      <td>7</td>\n",
       "      <td>Married-civ-spouse</td>\n",
       "      <td>Handlers-cleaners</td>\n",
       "      <td>Husband</td>\n",
       "      <td>Black</td>\n",
       "      <td>Male</td>\n",
       "      <td>0</td>\n",
       "      <td>0</td>\n",
       "      <td>40</td>\n",
       "      <td>United-States</td>\n",
       "      <td>0</td>\n",
       "    </tr>\n",
       "    <tr>\n",
       "      <th>4</th>\n",
       "      <td>28</td>\n",
       "      <td>Private</td>\n",
       "      <td>338409</td>\n",
       "      <td>Bachelors</td>\n",
       "      <td>13</td>\n",
       "      <td>Married-civ-spouse</td>\n",
       "      <td>Prof-specialty</td>\n",
       "      <td>Wife</td>\n",
       "      <td>Black</td>\n",
       "      <td>Female</td>\n",
       "      <td>0</td>\n",
       "      <td>0</td>\n",
       "      <td>40</td>\n",
       "      <td>Cuba</td>\n",
       "      <td>0</td>\n",
       "    </tr>\n",
       "  </tbody>\n",
       "</table>\n",
       "</div>"
      ],
      "text/plain": [
       "   age          workclass  fnlwgt   education  education-num  \\\n",
       "0   39          State-gov   77516   Bachelors             13   \n",
       "1   50   Self-emp-not-inc   83311   Bachelors             13   \n",
       "2   38            Private  215646     HS-grad              9   \n",
       "3   53            Private  234721        11th              7   \n",
       "4   28            Private  338409   Bachelors             13   \n",
       "\n",
       "        marital-status          occupation    relationship    race      sex  \\\n",
       "0        Never-married        Adm-clerical   Not-in-family   White     Male   \n",
       "1   Married-civ-spouse     Exec-managerial         Husband   White     Male   \n",
       "2             Divorced   Handlers-cleaners   Not-in-family   White     Male   \n",
       "3   Married-civ-spouse   Handlers-cleaners         Husband   Black     Male   \n",
       "4   Married-civ-spouse      Prof-specialty            Wife   Black   Female   \n",
       "\n",
       "   capital-gain  capital-loss  hours-per-week  native-country  income  \n",
       "0          2174             0              40   United-States       0  \n",
       "1             0             0              13   United-States       0  \n",
       "2             0             0              40   United-States       0  \n",
       "3             0             0              40   United-States       0  \n",
       "4             0             0              40            Cuba       0  "
      ]
     },
     "execution_count": 11,
     "metadata": {},
     "output_type": "execute_result"
    }
   ],
   "source": [
    "# This code replaces the existing 'target' variable with our newly created array of integer representations.\n",
    "\n",
    "df_income['income'] = target\n",
    "df_income = df_income.drop('target', axis=1)\n",
    "df_income.head()"
   ]
  },
  {
   "cell_type": "code",
   "execution_count": 12,
   "metadata": {
    "collapsed": false
   },
   "outputs": [
    {
     "data": {
      "text/html": [
       "<div>\n",
       "<table border=\"1\" class=\"dataframe\">\n",
       "  <thead>\n",
       "    <tr style=\"text-align: right;\">\n",
       "      <th></th>\n",
       "      <th>age</th>\n",
       "      <th>workclass</th>\n",
       "      <th>education</th>\n",
       "      <th>education-num</th>\n",
       "      <th>marital-status</th>\n",
       "      <th>occupation</th>\n",
       "      <th>relationship</th>\n",
       "      <th>race</th>\n",
       "      <th>sex</th>\n",
       "      <th>capital-gain</th>\n",
       "      <th>capital-loss</th>\n",
       "      <th>hours-per-week</th>\n",
       "      <th>native-country</th>\n",
       "      <th>income</th>\n",
       "    </tr>\n",
       "  </thead>\n",
       "  <tbody>\n",
       "    <tr>\n",
       "      <th>0</th>\n",
       "      <td>39</td>\n",
       "      <td>State-gov</td>\n",
       "      <td>Bachelors</td>\n",
       "      <td>13</td>\n",
       "      <td>Never-married</td>\n",
       "      <td>Adm-clerical</td>\n",
       "      <td>Not-in-family</td>\n",
       "      <td>White</td>\n",
       "      <td>Male</td>\n",
       "      <td>2174</td>\n",
       "      <td>0</td>\n",
       "      <td>40</td>\n",
       "      <td>United-States</td>\n",
       "      <td>0</td>\n",
       "    </tr>\n",
       "    <tr>\n",
       "      <th>1</th>\n",
       "      <td>50</td>\n",
       "      <td>Self-emp-not-inc</td>\n",
       "      <td>Bachelors</td>\n",
       "      <td>13</td>\n",
       "      <td>Married-civ-spouse</td>\n",
       "      <td>Exec-managerial</td>\n",
       "      <td>Husband</td>\n",
       "      <td>White</td>\n",
       "      <td>Male</td>\n",
       "      <td>0</td>\n",
       "      <td>0</td>\n",
       "      <td>13</td>\n",
       "      <td>United-States</td>\n",
       "      <td>0</td>\n",
       "    </tr>\n",
       "    <tr>\n",
       "      <th>2</th>\n",
       "      <td>38</td>\n",
       "      <td>Private</td>\n",
       "      <td>HS-grad</td>\n",
       "      <td>9</td>\n",
       "      <td>Divorced</td>\n",
       "      <td>Handlers-cleaners</td>\n",
       "      <td>Not-in-family</td>\n",
       "      <td>White</td>\n",
       "      <td>Male</td>\n",
       "      <td>0</td>\n",
       "      <td>0</td>\n",
       "      <td>40</td>\n",
       "      <td>United-States</td>\n",
       "      <td>0</td>\n",
       "    </tr>\n",
       "    <tr>\n",
       "      <th>3</th>\n",
       "      <td>53</td>\n",
       "      <td>Private</td>\n",
       "      <td>11th</td>\n",
       "      <td>7</td>\n",
       "      <td>Married-civ-spouse</td>\n",
       "      <td>Handlers-cleaners</td>\n",
       "      <td>Husband</td>\n",
       "      <td>Black</td>\n",
       "      <td>Male</td>\n",
       "      <td>0</td>\n",
       "      <td>0</td>\n",
       "      <td>40</td>\n",
       "      <td>United-States</td>\n",
       "      <td>0</td>\n",
       "    </tr>\n",
       "    <tr>\n",
       "      <th>4</th>\n",
       "      <td>28</td>\n",
       "      <td>Private</td>\n",
       "      <td>Bachelors</td>\n",
       "      <td>13</td>\n",
       "      <td>Married-civ-spouse</td>\n",
       "      <td>Prof-specialty</td>\n",
       "      <td>Wife</td>\n",
       "      <td>Black</td>\n",
       "      <td>Female</td>\n",
       "      <td>0</td>\n",
       "      <td>0</td>\n",
       "      <td>40</td>\n",
       "      <td>Cuba</td>\n",
       "      <td>0</td>\n",
       "    </tr>\n",
       "  </tbody>\n",
       "</table>\n",
       "</div>"
      ],
      "text/plain": [
       "   age          workclass   education  education-num       marital-status  \\\n",
       "0   39          State-gov   Bachelors             13        Never-married   \n",
       "1   50   Self-emp-not-inc   Bachelors             13   Married-civ-spouse   \n",
       "2   38            Private     HS-grad              9             Divorced   \n",
       "3   53            Private        11th              7   Married-civ-spouse   \n",
       "4   28            Private   Bachelors             13   Married-civ-spouse   \n",
       "\n",
       "           occupation    relationship    race      sex  capital-gain  \\\n",
       "0        Adm-clerical   Not-in-family   White     Male          2174   \n",
       "1     Exec-managerial         Husband   White     Male             0   \n",
       "2   Handlers-cleaners   Not-in-family   White     Male             0   \n",
       "3   Handlers-cleaners         Husband   Black     Male             0   \n",
       "4      Prof-specialty            Wife   Black   Female             0   \n",
       "\n",
       "   capital-loss  hours-per-week  native-country  income  \n",
       "0             0              40   United-States       0  \n",
       "1             0              13   United-States       0  \n",
       "2             0              40   United-States       0  \n",
       "3             0              40   United-States       0  \n",
       "4             0              40            Cuba       0  "
      ]
     },
     "execution_count": 12,
     "metadata": {},
     "output_type": "execute_result"
    }
   ],
   "source": [
    "# this code drops the \"fnlwgt\" variable, which is a weighting variable used for stratified sampling that is not going to be \n",
    "# useful for us in our classification tasks.\n",
    "\n",
    "df_income = df_income.drop('fnlwgt', axis=1)\n",
    "df_income.head()"
   ]
  },
  {
   "cell_type": "markdown",
   "metadata": {},
   "source": [
    "\n",
    "We decided to standardize only capital-gain and capital-loss only and not any other variables as they are all either categorical variables, or they are on a small scale that makes less sense if standardizes such as hours per week, age, and education-num.\n",
    "\n",
    "We standardize the capital-gain and capital-loss values to a scale from 0 to 100, rather than a more traditional 0 to 1, in order to make them more closely match the naturally occurring scales in the other variables."
   ]
  },
  {
   "cell_type": "code",
   "execution_count": 13,
   "metadata": {
    "collapsed": false
   },
   "outputs": [
    {
     "name": "stderr",
     "output_type": "stream",
     "text": [
      "/Users/murali/anaconda/lib/python2.7/site-packages/sklearn/utils/validation.py:420: DataConversionWarning: Data with input dtype int64 was converted to float64 by MinMaxScaler.\n",
      "  warnings.warn(msg, DataConversionWarning)\n",
      "/Users/murali/anaconda/lib/python2.7/site-packages/sklearn/preprocessing/data.py:324: DeprecationWarning: Passing 1d arrays as data is deprecated in 0.17 and will raise ValueError in 0.19. Reshape your data either using X.reshape(-1, 1) if your data has a single feature or X.reshape(1, -1) if it contains a single sample.\n",
      "  warnings.warn(DEPRECATION_MSG_1D, DeprecationWarning)\n",
      "/Users/murali/anaconda/lib/python2.7/site-packages/sklearn/preprocessing/data.py:359: DeprecationWarning: Passing 1d arrays as data is deprecated in 0.17 and will raise ValueError in 0.19. Reshape your data either using X.reshape(-1, 1) if your data has a single feature or X.reshape(1, -1) if it contains a single sample.\n",
      "  warnings.warn(DEPRECATION_MSG_1D, DeprecationWarning)\n",
      "/Users/murali/anaconda/lib/python2.7/site-packages/sklearn/utils/validation.py:420: DataConversionWarning: Data with input dtype int64 was converted to float64 by MinMaxScaler.\n",
      "  warnings.warn(msg, DataConversionWarning)\n",
      "/Users/murali/anaconda/lib/python2.7/site-packages/sklearn/preprocessing/data.py:324: DeprecationWarning: Passing 1d arrays as data is deprecated in 0.17 and will raise ValueError in 0.19. Reshape your data either using X.reshape(-1, 1) if your data has a single feature or X.reshape(1, -1) if it contains a single sample.\n",
      "  warnings.warn(DEPRECATION_MSG_1D, DeprecationWarning)\n",
      "/Users/murali/anaconda/lib/python2.7/site-packages/sklearn/preprocessing/data.py:359: DeprecationWarning: Passing 1d arrays as data is deprecated in 0.17 and will raise ValueError in 0.19. Reshape your data either using X.reshape(-1, 1) if your data has a single feature or X.reshape(1, -1) if it contains a single sample.\n",
      "  warnings.warn(DEPRECATION_MSG_1D, DeprecationWarning)\n"
     ]
    },
    {
     "data": {
      "text/html": [
       "<div>\n",
       "<table border=\"1\" class=\"dataframe\">\n",
       "  <thead>\n",
       "    <tr style=\"text-align: right;\">\n",
       "      <th></th>\n",
       "      <th>age</th>\n",
       "      <th>workclass</th>\n",
       "      <th>education</th>\n",
       "      <th>education-num</th>\n",
       "      <th>marital-status</th>\n",
       "      <th>occupation</th>\n",
       "      <th>relationship</th>\n",
       "      <th>race</th>\n",
       "      <th>sex</th>\n",
       "      <th>capital-gain</th>\n",
       "      <th>capital-loss</th>\n",
       "      <th>hours-per-week</th>\n",
       "      <th>native-country</th>\n",
       "      <th>income</th>\n",
       "    </tr>\n",
       "  </thead>\n",
       "  <tbody>\n",
       "    <tr>\n",
       "      <th>0</th>\n",
       "      <td>39</td>\n",
       "      <td>State-gov</td>\n",
       "      <td>Bachelors</td>\n",
       "      <td>13</td>\n",
       "      <td>Never-married</td>\n",
       "      <td>Adm-clerical</td>\n",
       "      <td>Not-in-family</td>\n",
       "      <td>White</td>\n",
       "      <td>Male</td>\n",
       "      <td>2.174022</td>\n",
       "      <td>0.0</td>\n",
       "      <td>40</td>\n",
       "      <td>United-States</td>\n",
       "      <td>0</td>\n",
       "    </tr>\n",
       "    <tr>\n",
       "      <th>1</th>\n",
       "      <td>50</td>\n",
       "      <td>Self-emp-not-inc</td>\n",
       "      <td>Bachelors</td>\n",
       "      <td>13</td>\n",
       "      <td>Married-civ-spouse</td>\n",
       "      <td>Exec-managerial</td>\n",
       "      <td>Husband</td>\n",
       "      <td>White</td>\n",
       "      <td>Male</td>\n",
       "      <td>0.000000</td>\n",
       "      <td>0.0</td>\n",
       "      <td>13</td>\n",
       "      <td>United-States</td>\n",
       "      <td>0</td>\n",
       "    </tr>\n",
       "    <tr>\n",
       "      <th>2</th>\n",
       "      <td>38</td>\n",
       "      <td>Private</td>\n",
       "      <td>HS-grad</td>\n",
       "      <td>9</td>\n",
       "      <td>Divorced</td>\n",
       "      <td>Handlers-cleaners</td>\n",
       "      <td>Not-in-family</td>\n",
       "      <td>White</td>\n",
       "      <td>Male</td>\n",
       "      <td>0.000000</td>\n",
       "      <td>0.0</td>\n",
       "      <td>40</td>\n",
       "      <td>United-States</td>\n",
       "      <td>0</td>\n",
       "    </tr>\n",
       "    <tr>\n",
       "      <th>3</th>\n",
       "      <td>53</td>\n",
       "      <td>Private</td>\n",
       "      <td>11th</td>\n",
       "      <td>7</td>\n",
       "      <td>Married-civ-spouse</td>\n",
       "      <td>Handlers-cleaners</td>\n",
       "      <td>Husband</td>\n",
       "      <td>Black</td>\n",
       "      <td>Male</td>\n",
       "      <td>0.000000</td>\n",
       "      <td>0.0</td>\n",
       "      <td>40</td>\n",
       "      <td>United-States</td>\n",
       "      <td>0</td>\n",
       "    </tr>\n",
       "    <tr>\n",
       "      <th>4</th>\n",
       "      <td>28</td>\n",
       "      <td>Private</td>\n",
       "      <td>Bachelors</td>\n",
       "      <td>13</td>\n",
       "      <td>Married-civ-spouse</td>\n",
       "      <td>Prof-specialty</td>\n",
       "      <td>Wife</td>\n",
       "      <td>Black</td>\n",
       "      <td>Female</td>\n",
       "      <td>0.000000</td>\n",
       "      <td>0.0</td>\n",
       "      <td>40</td>\n",
       "      <td>Cuba</td>\n",
       "      <td>0</td>\n",
       "    </tr>\n",
       "  </tbody>\n",
       "</table>\n",
       "</div>"
      ],
      "text/plain": [
       "   age          workclass   education  education-num       marital-status  \\\n",
       "0   39          State-gov   Bachelors             13        Never-married   \n",
       "1   50   Self-emp-not-inc   Bachelors             13   Married-civ-spouse   \n",
       "2   38            Private     HS-grad              9             Divorced   \n",
       "3   53            Private        11th              7   Married-civ-spouse   \n",
       "4   28            Private   Bachelors             13   Married-civ-spouse   \n",
       "\n",
       "           occupation    relationship    race      sex  capital-gain  \\\n",
       "0        Adm-clerical   Not-in-family   White     Male      2.174022   \n",
       "1     Exec-managerial         Husband   White     Male      0.000000   \n",
       "2   Handlers-cleaners   Not-in-family   White     Male      0.000000   \n",
       "3   Handlers-cleaners         Husband   Black     Male      0.000000   \n",
       "4      Prof-specialty            Wife   Black   Female      0.000000   \n",
       "\n",
       "   capital-loss  hours-per-week  native-country  income  \n",
       "0           0.0              40   United-States       0  \n",
       "1           0.0              13   United-States       0  \n",
       "2           0.0              40   United-States       0  \n",
       "3           0.0              40   United-States       0  \n",
       "4           0.0              40            Cuba       0  "
      ]
     },
     "execution_count": 13,
     "metadata": {},
     "output_type": "execute_result"
    }
   ],
   "source": [
    "# This code standardizes the two continuous variables related to capital gain and capital loss.\n",
    "\n",
    "from sklearn.preprocessing import MinMaxScaler\n",
    "df_income['capital-gain'] = MinMaxScaler(feature_range=(0,100)).fit_transform(df_income['capital-gain'])\n",
    "df_income['capital-loss'] = MinMaxScaler(feature_range=(0,100)).fit_transform(df_income['capital-loss'])\n",
    "df_income.head()"
   ]
  },
  {
   "cell_type": "markdown",
   "metadata": {},
   "source": [
    "We decide to use get_dummies function to convert categorical variable into dummy/indicator integer variables. The get_dummies returns a new column for each unique item where the value in the column indicates whether or not the record has that attribute. the dummy variables will help run the classifications efficiently.  "
   ]
  },
  {
   "cell_type": "code",
   "execution_count": 14,
   "metadata": {
    "collapsed": false
   },
   "outputs": [
    {
     "data": {
      "text/html": [
       "<div>\n",
       "<table border=\"1\" class=\"dataframe\">\n",
       "  <thead>\n",
       "    <tr style=\"text-align: right;\">\n",
       "      <th></th>\n",
       "      <th>age</th>\n",
       "      <th>education-num</th>\n",
       "      <th>capital-gain</th>\n",
       "      <th>capital-loss</th>\n",
       "      <th>hours-per-week</th>\n",
       "      <th>workclass_ ?</th>\n",
       "      <th>workclass_ Federal-gov</th>\n",
       "      <th>workclass_ Local-gov</th>\n",
       "      <th>workclass_ Never-worked</th>\n",
       "      <th>workclass_ Private</th>\n",
       "      <th>...</th>\n",
       "      <th>native-country_ Portugal</th>\n",
       "      <th>native-country_ Puerto-Rico</th>\n",
       "      <th>native-country_ Scotland</th>\n",
       "      <th>native-country_ South</th>\n",
       "      <th>native-country_ Taiwan</th>\n",
       "      <th>native-country_ Thailand</th>\n",
       "      <th>native-country_ Trinadad&amp;Tobago</th>\n",
       "      <th>native-country_ United-States</th>\n",
       "      <th>native-country_ Vietnam</th>\n",
       "      <th>native-country_ Yugoslavia</th>\n",
       "    </tr>\n",
       "  </thead>\n",
       "  <tbody>\n",
       "    <tr>\n",
       "      <th>0</th>\n",
       "      <td>39</td>\n",
       "      <td>13</td>\n",
       "      <td>2.174022</td>\n",
       "      <td>0.0</td>\n",
       "      <td>40</td>\n",
       "      <td>0.0</td>\n",
       "      <td>0.0</td>\n",
       "      <td>0.0</td>\n",
       "      <td>0.0</td>\n",
       "      <td>0.0</td>\n",
       "      <td>...</td>\n",
       "      <td>0.0</td>\n",
       "      <td>0.0</td>\n",
       "      <td>0.0</td>\n",
       "      <td>0.0</td>\n",
       "      <td>0.0</td>\n",
       "      <td>0.0</td>\n",
       "      <td>0.0</td>\n",
       "      <td>1.0</td>\n",
       "      <td>0.0</td>\n",
       "      <td>0.0</td>\n",
       "    </tr>\n",
       "    <tr>\n",
       "      <th>1</th>\n",
       "      <td>50</td>\n",
       "      <td>13</td>\n",
       "      <td>0.000000</td>\n",
       "      <td>0.0</td>\n",
       "      <td>13</td>\n",
       "      <td>0.0</td>\n",
       "      <td>0.0</td>\n",
       "      <td>0.0</td>\n",
       "      <td>0.0</td>\n",
       "      <td>0.0</td>\n",
       "      <td>...</td>\n",
       "      <td>0.0</td>\n",
       "      <td>0.0</td>\n",
       "      <td>0.0</td>\n",
       "      <td>0.0</td>\n",
       "      <td>0.0</td>\n",
       "      <td>0.0</td>\n",
       "      <td>0.0</td>\n",
       "      <td>1.0</td>\n",
       "      <td>0.0</td>\n",
       "      <td>0.0</td>\n",
       "    </tr>\n",
       "    <tr>\n",
       "      <th>2</th>\n",
       "      <td>38</td>\n",
       "      <td>9</td>\n",
       "      <td>0.000000</td>\n",
       "      <td>0.0</td>\n",
       "      <td>40</td>\n",
       "      <td>0.0</td>\n",
       "      <td>0.0</td>\n",
       "      <td>0.0</td>\n",
       "      <td>0.0</td>\n",
       "      <td>1.0</td>\n",
       "      <td>...</td>\n",
       "      <td>0.0</td>\n",
       "      <td>0.0</td>\n",
       "      <td>0.0</td>\n",
       "      <td>0.0</td>\n",
       "      <td>0.0</td>\n",
       "      <td>0.0</td>\n",
       "      <td>0.0</td>\n",
       "      <td>1.0</td>\n",
       "      <td>0.0</td>\n",
       "      <td>0.0</td>\n",
       "    </tr>\n",
       "    <tr>\n",
       "      <th>3</th>\n",
       "      <td>53</td>\n",
       "      <td>7</td>\n",
       "      <td>0.000000</td>\n",
       "      <td>0.0</td>\n",
       "      <td>40</td>\n",
       "      <td>0.0</td>\n",
       "      <td>0.0</td>\n",
       "      <td>0.0</td>\n",
       "      <td>0.0</td>\n",
       "      <td>1.0</td>\n",
       "      <td>...</td>\n",
       "      <td>0.0</td>\n",
       "      <td>0.0</td>\n",
       "      <td>0.0</td>\n",
       "      <td>0.0</td>\n",
       "      <td>0.0</td>\n",
       "      <td>0.0</td>\n",
       "      <td>0.0</td>\n",
       "      <td>1.0</td>\n",
       "      <td>0.0</td>\n",
       "      <td>0.0</td>\n",
       "    </tr>\n",
       "    <tr>\n",
       "      <th>4</th>\n",
       "      <td>28</td>\n",
       "      <td>13</td>\n",
       "      <td>0.000000</td>\n",
       "      <td>0.0</td>\n",
       "      <td>40</td>\n",
       "      <td>0.0</td>\n",
       "      <td>0.0</td>\n",
       "      <td>0.0</td>\n",
       "      <td>0.0</td>\n",
       "      <td>1.0</td>\n",
       "      <td>...</td>\n",
       "      <td>0.0</td>\n",
       "      <td>0.0</td>\n",
       "      <td>0.0</td>\n",
       "      <td>0.0</td>\n",
       "      <td>0.0</td>\n",
       "      <td>0.0</td>\n",
       "      <td>0.0</td>\n",
       "      <td>0.0</td>\n",
       "      <td>0.0</td>\n",
       "      <td>0.0</td>\n",
       "    </tr>\n",
       "  </tbody>\n",
       "</table>\n",
       "<p>5 rows × 107 columns</p>\n",
       "</div>"
      ],
      "text/plain": [
       "   age  education-num  capital-gain  capital-loss  hours-per-week  \\\n",
       "0   39             13      2.174022           0.0              40   \n",
       "1   50             13      0.000000           0.0              13   \n",
       "2   38              9      0.000000           0.0              40   \n",
       "3   53              7      0.000000           0.0              40   \n",
       "4   28             13      0.000000           0.0              40   \n",
       "\n",
       "   workclass_ ?  workclass_ Federal-gov  workclass_ Local-gov  \\\n",
       "0           0.0                     0.0                   0.0   \n",
       "1           0.0                     0.0                   0.0   \n",
       "2           0.0                     0.0                   0.0   \n",
       "3           0.0                     0.0                   0.0   \n",
       "4           0.0                     0.0                   0.0   \n",
       "\n",
       "   workclass_ Never-worked  workclass_ Private             ...              \\\n",
       "0                      0.0                 0.0             ...               \n",
       "1                      0.0                 0.0             ...               \n",
       "2                      0.0                 1.0             ...               \n",
       "3                      0.0                 1.0             ...               \n",
       "4                      0.0                 1.0             ...               \n",
       "\n",
       "   native-country_ Portugal  native-country_ Puerto-Rico  \\\n",
       "0                       0.0                          0.0   \n",
       "1                       0.0                          0.0   \n",
       "2                       0.0                          0.0   \n",
       "3                       0.0                          0.0   \n",
       "4                       0.0                          0.0   \n",
       "\n",
       "   native-country_ Scotland  native-country_ South  native-country_ Taiwan  \\\n",
       "0                       0.0                    0.0                     0.0   \n",
       "1                       0.0                    0.0                     0.0   \n",
       "2                       0.0                    0.0                     0.0   \n",
       "3                       0.0                    0.0                     0.0   \n",
       "4                       0.0                    0.0                     0.0   \n",
       "\n",
       "   native-country_ Thailand  native-country_ Trinadad&Tobago  \\\n",
       "0                       0.0                              0.0   \n",
       "1                       0.0                              0.0   \n",
       "2                       0.0                              0.0   \n",
       "3                       0.0                              0.0   \n",
       "4                       0.0                              0.0   \n",
       "\n",
       "   native-country_ United-States  native-country_ Vietnam  \\\n",
       "0                            1.0                      0.0   \n",
       "1                            1.0                      0.0   \n",
       "2                            1.0                      0.0   \n",
       "3                            1.0                      0.0   \n",
       "4                            0.0                      0.0   \n",
       "\n",
       "   native-country_ Yugoslavia  \n",
       "0                         0.0  \n",
       "1                         0.0  \n",
       "2                         0.0  \n",
       "3                         0.0  \n",
       "4                         0.0  \n",
       "\n",
       "[5 rows x 107 columns]"
      ]
     },
     "execution_count": 14,
     "metadata": {},
     "output_type": "execute_result"
    }
   ],
   "source": [
    "# This code drops the target, then gives us one-hot encoding for the categorical variables, rather than a mix of integer values \n",
    "# and descriptive string values.  We will use this newly created \"df_dummies\" variable later on for classification that requires\n",
    "# one-hot encoding to perform well.\n",
    "df_intermediate = df_income.drop('income', axis=1)\n",
    "df_dummies = pd.get_dummies(df_intermediate)\n",
    "df_dummies.head()"
   ]
  },
  {
   "cell_type": "markdown",
   "metadata": {},
   "source": [
    "### • [5 points] Describe the final dataset that is used for classification/regression  \n",
    "\n",
    "<font color='blue'>\n",
    "(include a description of any newly formed variables you created). </font> <font color='green'>  100% - complete  </font> "
   ]
  },
  {
   "cell_type": "markdown",
   "metadata": {},
   "source": [
    "The final dataset we have created consists only of continuous variables (some integers some scaled to floats), categorical variables that are represented as integers, and binary variables that are represented as integers.  For one classification task the response variable will be the \"income\" variable which represents a 0 for income less than 50,000 dollars a year and 1 for income greater than 50,000 dollars a year.  For the other classification task the response variable will be the \"education-num\" variable which is an integer value that represents the years of education attained for a given individual.  \n",
    "  \n",
    "Variables:\n",
    "Age - continuous(integer) - the individual's age in years.  \n",
    "workclass - categorical(integer) - the class of the worker's employment (self-employed, public, private, etc.).  \n",
    "education - categorical(integer) - the level of education obtained (high school, bachelor's degree, master's degree, etc.).  \n",
    "education-num - continuous(integer) - the level of education obtained as represented by number of years of education.  \n",
    "marital-status - categorical(integer) - The current marital status of the individual (married, never married, divorced, etc.).  \n",
    "occupation - categorical(integer) - The type of work the individual is employed in (executive, janitorial, etc.).  \n",
    "relationship - categorical(integer) - What part the individual plays in their current relationship (husband, wife, etc.).  \n",
    "race - categorical(integer) - the individual's race.  \n",
    "sex - categorical(binary) - the individual's gender where 0 is female and 1 is male.  \n",
    "capital-gain - continuous(scaled to float) - the individual's amount of capital gain as measured in US dollars.  \n",
    "capital-loss - continuous(scaled to float) - the individual's amount of capital loss as measured in US dollars.  \n",
    "native-country - categorical(integer) - the native country for that individual (USA, Ecuador, etc.).  \n",
    "income - categorical(binary) - The individuals general income level where 0 is less than 50,000 US dollars of income a year and 1 is more than 50,000 US dollars of income a year.  \n",
    "\n"
   ]
  },
  {
   "cell_type": "markdown",
   "metadata": {},
   "source": [
    "## Data Visualization \n",
    "The section analyzes the data by various attribute groupings. An analysis summary is provided in the end of the section"
   ]
  },
  {
   "cell_type": "code",
   "execution_count": 15,
   "metadata": {
    "collapsed": false
   },
   "outputs": [
    {
     "name": "stdout",
     "output_type": "stream",
     "text": [
      "<class 'pandas.core.frame.DataFrame'>\n",
      "RangeIndex: 32561 entries, 0 to 32560\n",
      "Data columns (total 15 columns):\n",
      "age               32561 non-null int64\n",
      "workclass         32561 non-null object\n",
      "fnlwgt            32561 non-null int64\n",
      "education         32561 non-null object\n",
      "education-num     32561 non-null int64\n",
      "marital-status    32561 non-null object\n",
      "occupation        32561 non-null object\n",
      "relationship      32561 non-null object\n",
      "race              32561 non-null object\n",
      "sex               32561 non-null object\n",
      "capital-gain      32561 non-null int64\n",
      "capital-loss      32561 non-null int64\n",
      "hours-per-week    32561 non-null int64\n",
      "native-country    32561 non-null object\n",
      "target            32561 non-null object\n",
      "dtypes: int64(6), object(9)\n",
      "memory usage: 3.7+ MB\n"
     ]
    },
    {
     "data": {
      "text/plain": [
       "RangeIndex(start=0, stop=32561, step=1)"
      ]
     },
     "execution_count": 15,
     "metadata": {},
     "output_type": "execute_result"
    }
   ],
   "source": [
    "inputfile = \"/Users/murali/SMU/lab2/SMUMSDS2016/data/income.csv\"\n",
    "dfincome = pd.read_csv(inputfile)\n",
    "dfincome.info()\n",
    "dfincome.columns\n",
    "dfincome.index"
   ]
  },
  {
   "cell_type": "code",
   "execution_count": 16,
   "metadata": {
    "collapsed": true
   },
   "outputs": [],
   "source": [
    "dfincome.workclass = dfincome.workclass.replace(' ?','NotReported')\n",
    "dfincome.occupation = dfincome.occupation.replace(' ?','NotReported')\n",
    "dfincome.workclass = dfincome.workclass.str.strip().replace('Never-worked','NotWorked')\n",
    "dfincome['native-country'] = dfincome['native-country'].replace(' ?','NotReported')\n",
    "dfincome['native-country'] = dfincome['native-country'].str.strip().replace('United-States','US')\n",
    "\n",
    "targetfinal = []\n",
    "for row in dfincome['target']:\n",
    "    if row.strip() == '<=50K':\n",
    "        targetfinal.append(0) \n",
    "    \n",
    "    else:\n",
    "        targetfinal.append(1)\n",
    "dfincome['targetfinal'] = targetfinal\n"
   ]
  },
  {
   "cell_type": "code",
   "execution_count": 17,
   "metadata": {
    "collapsed": false
   },
   "outputs": [
    {
     "data": {
      "text/plain": [
       "array([0, 1])"
      ]
     },
     "execution_count": 17,
     "metadata": {},
     "output_type": "execute_result"
    }
   ],
   "source": [
    "dfincome.targetfinal.unique()"
   ]
  },
  {
   "cell_type": "code",
   "execution_count": 18,
   "metadata": {
    "collapsed": true
   },
   "outputs": [],
   "source": [
    "fabove50K = pd.DataFrame()\n",
    "dfbelow50K = pd.DataFrame()\n",
    "#dfbelow50K = dfincome[[df]'age'].dfincome[dfincome['target'].str.strip() == '<=50K']\n",
    "#dfbelow50K = dfincome[dfincome['age'] & dfincome['targetfinal'] == '0' ]\n",
    "#dfabove50K = dfincome[dfincome['target'].str.strip() == '>50K']\n",
    "\n",
    "dfbelow50K = pd.DataFrame(dfincome.loc[dfincome.targetfinal == 0, ['age','targetfinal']])\n",
    "#dfabove50K = dfincome.loc[dfincome.targetfinal == '1', 'age']\n",
    "dfabove50K = pd.DataFrame(dfincome.loc[dfincome.targetfinal == 1, ['age','targetfinal']])\n"
   ]
  },
  {
   "cell_type": "code",
   "execution_count": 19,
   "metadata": {
    "collapsed": true
   },
   "outputs": [],
   "source": [
    "dfbelow50K['COUNTER'] = 1\n",
    "dfabove50K['COUNTER'] = 1\n",
    "dfbelow50K =  dfbelow50K.groupby('age')['COUNTER'].count() \n",
    "dfabove50K = dfabove50K.groupby('age')['COUNTER'].count()\n"
   ]
  },
  {
   "cell_type": "code",
   "execution_count": 20,
   "metadata": {
    "collapsed": false
   },
   "outputs": [
    {
     "data": {
      "text/plain": [
       "array([0, 1])"
      ]
     },
     "execution_count": 20,
     "metadata": {},
     "output_type": "execute_result"
    }
   ],
   "source": [
    "dfincome.targetfinal.unique()"
   ]
  },
  {
   "cell_type": "code",
   "execution_count": 21,
   "metadata": {
    "collapsed": true
   },
   "outputs": [],
   "source": [
    "X = []\n",
    "Y1 = []\n",
    "for row in dfbelow50K.iteritems():\n",
    "    Y1.append(row[1])\n",
    "    X.append(row[0])\n",
    "Y2 = []\n",
    "for row in dfabove50K.iteritems():\n",
    "    Y2.append(row[1])\n",
    "    "
   ]
  },
  {
   "cell_type": "code",
   "execution_count": 24,
   "metadata": {
    "collapsed": false
   },
   "outputs": [
    {
     "name": "stdout",
     "output_type": "stream",
     "text": [
      "High five! You successfuly sent some data to your account on plotly. View your plot in your browser at https://plot.ly/~murparthjob/0 or inside your plot.ly account where it is named 'angled-text-bar'\n"
     ]
    },
    {
     "data": {
      "text/html": [
       "<iframe id=\"igraph\" scrolling=\"no\" style=\"border:none;\" seamless=\"seamless\" src=\"https://plot.ly/~murparthjob/0.embed\" height=\"525px\" width=\"100%\"></iframe>"
      ],
      "text/plain": [
       "<plotly.tools.PlotlyDisplay object>"
      ]
     },
     "execution_count": 24,
     "metadata": {},
     "output_type": "execute_result"
    }
   ],
   "source": [
    "import plotly \n",
    "import plotly.graph_objs as go\n",
    "plotly.tools.set_credentials_file(username='murparthjob', api_key='jj1ghd04s5')\n",
    "\n",
    "trace0 = go.Bar(\n",
    "    x=X,\n",
    "    y=Y1,\n",
    "    name='Less than 50',\n",
    "    marker=dict(\n",
    "        color='rgb(49,130,189)'\n",
    "    )\n",
    ")\n",
    "trace1 = go.Bar(\n",
    "    x=X,\n",
    "    y=Y2,\n",
    "    name='Greater than $50',\n",
    "    marker=dict(\n",
    "        color='rgb(204,204,204)',\n",
    "    )\n",
    ")\n",
    "\n",
    "data = [trace0, trace1]\n",
    "layout = go.Layout(\n",
    "    title=\" Age\",\n",
    "    xaxis=dict(tickangle=-45),\n",
    "    barmode='group',\n",
    ")\n",
    "\n",
    "fig = go.Figure(data=data, layout=layout)\n",
    "py.iplot(fig, filename='angled-text-bar')"
   ]
  },
  {
   "cell_type": "code",
   "execution_count": 25,
   "metadata": {
    "collapsed": false
   },
   "outputs": [
    {
     "data": {
      "text/html": [
       "<iframe id=\"igraph\" scrolling=\"no\" style=\"border:none;\" seamless=\"seamless\" src=\"https://plot.ly/~murparthjob/2.embed\" height=\"525px\" width=\"100%\"></iframe>"
      ],
      "text/plain": [
       "<plotly.tools.PlotlyDisplay object>"
      ]
     },
     "execution_count": 25,
     "metadata": {},
     "output_type": "execute_result"
    }
   ],
   "source": [
    "# Heat Map for Age \n",
    "# Index is the age\n",
    "# Create a Pandas Series \n",
    " \n",
    "dfageHeatmap1 = pd.DataFrame()\n",
    "dfageHeatmap2 = pd.DataFrame()\n",
    " \n",
    "dfageHeatmap1['<50K'] = Y1\n",
    "dfageHeatmap2['>=50K'] = Y2\n",
    "dfageHeatMap = pd.concat([dfageHeatmap1,dfageHeatmap2], ignore_index=True, axis=1)\n",
    "dfageHeatMap.index = X\n",
    "dfageHeatMap.columns = ['<50K','>=50K']\n",
    "\n",
    "dfageHeatMap['>=50K'].fillna('0',inplace=True)\n",
    "\n",
    "# Do the Heat map \n",
    "import plotly.plotly as py\n",
    "import plotly.graph_objs as go\n",
    "\n",
    "import pandas as pd\n",
    " \n",
    "data = [go.Heatmap(   x= X, y= dfageHeatMap.columns , z=dfageHeatMap.values.tolist(), colorscale='Viridis')]\n",
    "\n",
    "py.iplot(data, filename='pandas-heatmap',title=\"Heatmap\")\n"
   ]
  },
  {
   "cell_type": "code",
   "execution_count": 26,
   "metadata": {
    "collapsed": false
   },
   "outputs": [
    {
     "data": {
      "text/plain": [
       "Index([u'<50K', u'>=50K'], dtype='object')"
      ]
     },
     "execution_count": 26,
     "metadata": {},
     "output_type": "execute_result"
    }
   ],
   "source": [
    "dfageHeatMap.columns"
   ]
  },
  {
   "cell_type": "code",
   "execution_count": 27,
   "metadata": {
    "collapsed": true
   },
   "outputs": [],
   "source": [
    "# Get education-num  and get marital-status \n",
    "\n",
    "dfedubelow50K = pd.DataFrame(dfincome.loc[dfincome.targetfinal == 0, ['education-num','targetfinal']])\n",
    "#dfabove50K = dfincome.loc[dfincome.targetfinal == '1', 'age']\n",
    "dfeduabove50K = pd.DataFrame(dfincome.loc[dfincome.targetfinal == 1, ['education-num','targetfinal']])\n",
    "\n",
    "dfedubelow50K['COUNTER'] = 1\n",
    "dfeduabove50K['COUNTER'] = 1\n",
    "dfedubelow50K =  dfedubelow50K.groupby('education-num')['COUNTER'].count() \n",
    "dfeduabove50K = dfeduabove50K.groupby('education-num')['COUNTER'].count()"
   ]
  },
  {
   "cell_type": "code",
   "execution_count": 28,
   "metadata": {
    "collapsed": true
   },
   "outputs": [],
   "source": [
    "X = []\n",
    "Y1 = []\n",
    "for row in dfedubelow50K.iteritems():\n",
    "    Y1.append(row[1])\n",
    "    X.append(row[0])\n",
    "Y2 = []\n",
    "for row in dfeduabove50K.iteritems():\n",
    "    Y2.append(row[1])"
   ]
  },
  {
   "cell_type": "code",
   "execution_count": 29,
   "metadata": {
    "collapsed": false
   },
   "outputs": [
    {
     "name": "stdout",
     "output_type": "stream",
     "text": [
      "High five! You successfuly sent some data to your account on plotly. View your plot in your browser at https://plot.ly/~murparthjob/0 or inside your plot.ly account where it is named 'angled-text-bar'\n"
     ]
    },
    {
     "data": {
      "text/html": [
       "<iframe id=\"igraph\" scrolling=\"no\" style=\"border:none;\" seamless=\"seamless\" src=\"https://plot.ly/~murparthjob/0.embed\" height=\"525px\" width=\"100%\"></iframe>"
      ],
      "text/plain": [
       "<plotly.tools.PlotlyDisplay object>"
      ]
     },
     "execution_count": 29,
     "metadata": {},
     "output_type": "execute_result"
    }
   ],
   "source": [
    "import plotly \n",
    "import plotly.graph_objs as go\n",
    "plotly.tools.set_credentials_file(username='murparthjob', api_key='jj1ghd04s5')\n",
    "\n",
    "trace0 = go.Bar(\n",
    "    x=X,\n",
    "    y=Y1,\n",
    "    name='Less than 50',\n",
    "    marker=dict(\n",
    "        color='rgb(49,130,189)'\n",
    "    )\n",
    ")\n",
    "trace1 = go.Bar(\n",
    "    x=X,\n",
    "    y=Y2,\n",
    "    name='Greater than $50',\n",
    "    marker=dict(\n",
    "        color='rgb(204,204,204)',\n",
    "    )\n",
    ")\n",
    "\n",
    "data = [trace0, trace1]\n",
    "layout = go.Layout(\n",
    "    title='Number of years of Education',\n",
    "    xaxis=dict(tickangle=-45),\n",
    "    barmode='group',\n",
    ")\n",
    "\n",
    "fig = go.Figure(data=data, layout=layout)\n",
    "py.iplot(fig, filename='angled-text-bar')"
   ]
  },
  {
   "cell_type": "code",
   "execution_count": 30,
   "metadata": {
    "collapsed": false
   },
   "outputs": [
    {
     "data": {
      "text/html": [
       "<iframe id=\"igraph\" scrolling=\"no\" style=\"border:none;\" seamless=\"seamless\" src=\"https://plot.ly/~murparthjob/2.embed\" height=\"525px\" width=\"100%\"></iframe>"
      ],
      "text/plain": [
       "<plotly.tools.PlotlyDisplay object>"
      ]
     },
     "execution_count": 30,
     "metadata": {},
     "output_type": "execute_result"
    }
   ],
   "source": [
    "dfeduHeatmap1 = pd.DataFrame()\n",
    "dfeduHeatmap2 = pd.DataFrame()\n",
    " \n",
    "dfeduHeatmap1['<50K'] = Y1\n",
    "dfeduHeatmap2['>=50K'] = Y2\n",
    "dfeduHeatMap = pd.concat([dfeduHeatmap1,dfeduHeatmap2], ignore_index=True, axis=1)\n",
    "dfeduHeatMap.index = X\n",
    "dfeduHeatMap.columns = ['<50K','>=50K']\n",
    "\n",
    "dfeduHeatMap['>=50K'].fillna('0',inplace=True)\n",
    "\n",
    " # Do the Heat map \n",
    "import plotly.plotly as py\n",
    "import plotly.graph_objs as go\n",
    "\n",
    "import pandas as pd\n",
    " \n",
    "data = [go.Heatmap(   x= X, y= dfeduHeatMap.columns , z=dfeduHeatMap.values.tolist(), colorscale='Viridis')]\n",
    "\n",
    "py.iplot(data, filename='pandas-heatmap',title=\"Heatmap\")"
   ]
  },
  {
   "cell_type": "markdown",
   "metadata": {},
   "source": [
    "Based on the analysis of the data the class of people earning <50K is higher than the class earning more than 50K. It i recommended to do a linear regression to understand the corelation. \n",
    "\n",
    "It will also be helpful to do a PCA after applying dummies to the data as PCA will look for variation. A LDA will also be help as it will look for variation\n",
    "\n",
    " "
   ]
  },
  {
   "cell_type": "markdown",
   "metadata": {},
   "source": [
    "<h3> Linear and Logistics Regression and PCA </h3>"
   ]
  },
  {
   "cell_type": "markdown",
   "metadata": {},
   "source": [
    "  <h2> Linear Regression </h2>"
   ]
  },
  {
   "cell_type": "code",
   "execution_count": 31,
   "metadata": {
    "collapsed": true
   },
   "outputs": [],
   "source": [
    "dfintermediate = dfincome.copy()"
   ]
  },
  {
   "cell_type": "code",
   "execution_count": 32,
   "metadata": {
    "collapsed": true
   },
   "outputs": [],
   "source": [
    "dfintermediate.drop('fnlwgt',axis=1,inplace=True)\n",
    "dfintermediate.drop('target',axis=1,inplace=True)\n",
    "dfintermediate.drop('targetfinal',axis=1,inplace=True)"
   ]
  },
  {
   "cell_type": "code",
   "execution_count": 33,
   "metadata": {
    "collapsed": false
   },
   "outputs": [
    {
     "name": "stdout",
     "output_type": "stream",
     "text": [
      "<class 'pandas.core.frame.DataFrame'>\n",
      "RangeIndex: 32561 entries, 0 to 32560\n",
      "Data columns (total 13 columns):\n",
      "age               32561 non-null int64\n",
      "workclass         32561 non-null object\n",
      "education         32561 non-null object\n",
      "education-num     32561 non-null int64\n",
      "marital-status    32561 non-null object\n",
      "occupation        32561 non-null object\n",
      "relationship      32561 non-null object\n",
      "race              32561 non-null object\n",
      "sex               32561 non-null object\n",
      "capital-gain      32561 non-null int64\n",
      "capital-loss      32561 non-null int64\n",
      "hours-per-week    32561 non-null int64\n",
      "native-country    32561 non-null object\n",
      "dtypes: int64(5), object(8)\n",
      "memory usage: 3.2+ MB\n"
     ]
    }
   ],
   "source": [
    "dfintermediate.info()"
   ]
  },
  {
   "cell_type": "code",
   "execution_count": 34,
   "metadata": {
    "collapsed": false
   },
   "outputs": [
    {
     "data": {
      "text/plain": [
       "array([[39, 'State-gov', ' Bachelors', ..., 0, 40, 'US'],\n",
       "       [50, 'Self-emp-not-inc', ' Bachelors', ..., 0, 13, 'US'],\n",
       "       [38, 'Private', ' HS-grad', ..., 0, 40, 'US'],\n",
       "       ..., \n",
       "       [58, 'Private', ' HS-grad', ..., 0, 40, 'US'],\n",
       "       [22, 'Private', ' HS-grad', ..., 0, 20, 'US'],\n",
       "       [52, 'Self-emp-inc', ' HS-grad', ..., 0, 40, 'US']], dtype=object)"
      ]
     },
     "execution_count": 34,
     "metadata": {},
     "output_type": "execute_result"
    }
   ],
   "source": [
    "dfintermediate.values"
   ]
  },
  {
   "cell_type": "code",
   "execution_count": 35,
   "metadata": {
    "collapsed": false
   },
   "outputs": [
    {
     "data": {
      "text/html": [
       "<div>\n",
       "<table border=\"1\" class=\"dataframe\">\n",
       "  <thead>\n",
       "    <tr style=\"text-align: right;\">\n",
       "      <th></th>\n",
       "      <th>age</th>\n",
       "      <th>education-num</th>\n",
       "      <th>capital-gain</th>\n",
       "      <th>capital-loss</th>\n",
       "      <th>hours-per-week</th>\n",
       "      <th>workclass_Federal-gov</th>\n",
       "      <th>workclass_Local-gov</th>\n",
       "      <th>workclass_NotReported</th>\n",
       "      <th>workclass_NotWorked</th>\n",
       "      <th>workclass_Private</th>\n",
       "      <th>...</th>\n",
       "      <th>native-country_Portugal</th>\n",
       "      <th>native-country_Puerto-Rico</th>\n",
       "      <th>native-country_Scotland</th>\n",
       "      <th>native-country_South</th>\n",
       "      <th>native-country_Taiwan</th>\n",
       "      <th>native-country_Thailand</th>\n",
       "      <th>native-country_Trinadad&amp;Tobago</th>\n",
       "      <th>native-country_US</th>\n",
       "      <th>native-country_Vietnam</th>\n",
       "      <th>native-country_Yugoslavia</th>\n",
       "    </tr>\n",
       "  </thead>\n",
       "  <tbody>\n",
       "    <tr>\n",
       "      <th>0</th>\n",
       "      <td>39</td>\n",
       "      <td>13</td>\n",
       "      <td>2174</td>\n",
       "      <td>0</td>\n",
       "      <td>40</td>\n",
       "      <td>0.0</td>\n",
       "      <td>0.0</td>\n",
       "      <td>0.0</td>\n",
       "      <td>0.0</td>\n",
       "      <td>0.0</td>\n",
       "      <td>...</td>\n",
       "      <td>0.0</td>\n",
       "      <td>0.0</td>\n",
       "      <td>0.0</td>\n",
       "      <td>0.0</td>\n",
       "      <td>0.0</td>\n",
       "      <td>0.0</td>\n",
       "      <td>0.0</td>\n",
       "      <td>1.0</td>\n",
       "      <td>0.0</td>\n",
       "      <td>0.0</td>\n",
       "    </tr>\n",
       "    <tr>\n",
       "      <th>1</th>\n",
       "      <td>50</td>\n",
       "      <td>13</td>\n",
       "      <td>0</td>\n",
       "      <td>0</td>\n",
       "      <td>13</td>\n",
       "      <td>0.0</td>\n",
       "      <td>0.0</td>\n",
       "      <td>0.0</td>\n",
       "      <td>0.0</td>\n",
       "      <td>0.0</td>\n",
       "      <td>...</td>\n",
       "      <td>0.0</td>\n",
       "      <td>0.0</td>\n",
       "      <td>0.0</td>\n",
       "      <td>0.0</td>\n",
       "      <td>0.0</td>\n",
       "      <td>0.0</td>\n",
       "      <td>0.0</td>\n",
       "      <td>1.0</td>\n",
       "      <td>0.0</td>\n",
       "      <td>0.0</td>\n",
       "    </tr>\n",
       "    <tr>\n",
       "      <th>2</th>\n",
       "      <td>38</td>\n",
       "      <td>9</td>\n",
       "      <td>0</td>\n",
       "      <td>0</td>\n",
       "      <td>40</td>\n",
       "      <td>0.0</td>\n",
       "      <td>0.0</td>\n",
       "      <td>0.0</td>\n",
       "      <td>0.0</td>\n",
       "      <td>1.0</td>\n",
       "      <td>...</td>\n",
       "      <td>0.0</td>\n",
       "      <td>0.0</td>\n",
       "      <td>0.0</td>\n",
       "      <td>0.0</td>\n",
       "      <td>0.0</td>\n",
       "      <td>0.0</td>\n",
       "      <td>0.0</td>\n",
       "      <td>1.0</td>\n",
       "      <td>0.0</td>\n",
       "      <td>0.0</td>\n",
       "    </tr>\n",
       "    <tr>\n",
       "      <th>3</th>\n",
       "      <td>53</td>\n",
       "      <td>7</td>\n",
       "      <td>0</td>\n",
       "      <td>0</td>\n",
       "      <td>40</td>\n",
       "      <td>0.0</td>\n",
       "      <td>0.0</td>\n",
       "      <td>0.0</td>\n",
       "      <td>0.0</td>\n",
       "      <td>1.0</td>\n",
       "      <td>...</td>\n",
       "      <td>0.0</td>\n",
       "      <td>0.0</td>\n",
       "      <td>0.0</td>\n",
       "      <td>0.0</td>\n",
       "      <td>0.0</td>\n",
       "      <td>0.0</td>\n",
       "      <td>0.0</td>\n",
       "      <td>1.0</td>\n",
       "      <td>0.0</td>\n",
       "      <td>0.0</td>\n",
       "    </tr>\n",
       "    <tr>\n",
       "      <th>4</th>\n",
       "      <td>28</td>\n",
       "      <td>13</td>\n",
       "      <td>0</td>\n",
       "      <td>0</td>\n",
       "      <td>40</td>\n",
       "      <td>0.0</td>\n",
       "      <td>0.0</td>\n",
       "      <td>0.0</td>\n",
       "      <td>0.0</td>\n",
       "      <td>1.0</td>\n",
       "      <td>...</td>\n",
       "      <td>0.0</td>\n",
       "      <td>0.0</td>\n",
       "      <td>0.0</td>\n",
       "      <td>0.0</td>\n",
       "      <td>0.0</td>\n",
       "      <td>0.0</td>\n",
       "      <td>0.0</td>\n",
       "      <td>0.0</td>\n",
       "      <td>0.0</td>\n",
       "      <td>0.0</td>\n",
       "    </tr>\n",
       "  </tbody>\n",
       "</table>\n",
       "<p>5 rows × 107 columns</p>\n",
       "</div>"
      ],
      "text/plain": [
       "   age  education-num  capital-gain  capital-loss  hours-per-week  \\\n",
       "0   39             13          2174             0              40   \n",
       "1   50             13             0             0              13   \n",
       "2   38              9             0             0              40   \n",
       "3   53              7             0             0              40   \n",
       "4   28             13             0             0              40   \n",
       "\n",
       "   workclass_Federal-gov  workclass_Local-gov  workclass_NotReported  \\\n",
       "0                    0.0                  0.0                    0.0   \n",
       "1                    0.0                  0.0                    0.0   \n",
       "2                    0.0                  0.0                    0.0   \n",
       "3                    0.0                  0.0                    0.0   \n",
       "4                    0.0                  0.0                    0.0   \n",
       "\n",
       "   workclass_NotWorked  workclass_Private            ...              \\\n",
       "0                  0.0                0.0            ...               \n",
       "1                  0.0                0.0            ...               \n",
       "2                  0.0                1.0            ...               \n",
       "3                  0.0                1.0            ...               \n",
       "4                  0.0                1.0            ...               \n",
       "\n",
       "   native-country_Portugal  native-country_Puerto-Rico  \\\n",
       "0                      0.0                         0.0   \n",
       "1                      0.0                         0.0   \n",
       "2                      0.0                         0.0   \n",
       "3                      0.0                         0.0   \n",
       "4                      0.0                         0.0   \n",
       "\n",
       "   native-country_Scotland  native-country_South  native-country_Taiwan  \\\n",
       "0                      0.0                   0.0                    0.0   \n",
       "1                      0.0                   0.0                    0.0   \n",
       "2                      0.0                   0.0                    0.0   \n",
       "3                      0.0                   0.0                    0.0   \n",
       "4                      0.0                   0.0                    0.0   \n",
       "\n",
       "   native-country_Thailand  native-country_Trinadad&Tobago  native-country_US  \\\n",
       "0                      0.0                             0.0                1.0   \n",
       "1                      0.0                             0.0                1.0   \n",
       "2                      0.0                             0.0                1.0   \n",
       "3                      0.0                             0.0                1.0   \n",
       "4                      0.0                             0.0                0.0   \n",
       "\n",
       "   native-country_Vietnam  native-country_Yugoslavia  \n",
       "0                     0.0                        0.0  \n",
       "1                     0.0                        0.0  \n",
       "2                     0.0                        0.0  \n",
       "3                     0.0                        0.0  \n",
       "4                     0.0                        0.0  \n",
       "\n",
       "[5 rows x 107 columns]"
      ]
     },
     "execution_count": 35,
     "metadata": {},
     "output_type": "execute_result"
    }
   ],
   "source": [
    "# Do the Dummies \n",
    "df_dummies_m = pd.get_dummies(dfintermediate)\n",
    "df_dummies_m.head()"
   ]
  },
  {
   "cell_type": "code",
   "execution_count": 37,
   "metadata": {
    "collapsed": false
   },
   "outputs": [
    {
     "name": "stdout",
     "output_type": "stream",
     "text": [
      "<class 'pandas.core.frame.DataFrame'>\n",
      "RangeIndex: 32561 entries, 0 to 32560\n",
      "Data columns (total 16 columns):\n",
      "age               32561 non-null int64\n",
      "workclass         32561 non-null object\n",
      "fnlwgt            32561 non-null int64\n",
      "education         32561 non-null object\n",
      "education-num     32561 non-null int64\n",
      "marital-status    32561 non-null object\n",
      "occupation        32561 non-null object\n",
      "relationship      32561 non-null object\n",
      "race              32561 non-null object\n",
      "sex               32561 non-null object\n",
      "capital-gain      32561 non-null int64\n",
      "capital-loss      32561 non-null int64\n",
      "hours-per-week    32561 non-null int64\n",
      "native-country    32561 non-null object\n",
      "target            32561 non-null object\n",
      "targetfinal       32561 non-null int64\n",
      "dtypes: int64(7), object(9)\n",
      "memory usage: 4.0+ MB\n"
     ]
    }
   ],
   "source": [
    "dfincome.info()"
   ]
  },
  {
   "cell_type": "code",
   "execution_count": 40,
   "metadata": {
    "collapsed": false
   },
   "outputs": [
    {
     "data": {
      "text/plain": [
       "LinearRegression(copy_X=True, fit_intercept=True, n_jobs=1, normalize=False)"
      ]
     },
     "execution_count": 40,
     "metadata": {},
     "output_type": "execute_result"
    }
   ],
   "source": [
    " # Let us do Linear Regression \n",
    "\n",
    "income_x = df_dummies_m.values\n",
    "income_y = dfincome['targetfinal']\n",
    "\n",
    "# Split Data into train and test \n",
    "income_X_train = income_x[:-20]\n",
    "income_X_test = income_x[-20:]\n",
    "\n",
    "income_y_train = income_y[:-20]\n",
    "income_y_test = income_y[-20:]\n",
    "\n",
    "#print income_y_train\n",
    "\n",
    "regr = linear_model.LinearRegression()\n",
    "regr.fit(income_X_train, income_y_train)\n",
    "#print('Coefficients: \\n', regr.coef_)"
   ]
  },
  {
   "cell_type": "code",
   "execution_count": 41,
   "metadata": {
    "collapsed": false
   },
   "outputs": [
    {
     "data": {
      "text/plain": [
       "107"
      ]
     },
     "execution_count": 41,
     "metadata": {},
     "output_type": "execute_result"
    }
   ],
   "source": [
    "regr.coef_.size"
   ]
  },
  {
   "cell_type": "code",
   "execution_count": 42,
   "metadata": {
    "collapsed": true
   },
   "outputs": [],
   "source": [
    "dfc = pd.DataFrame()\n",
    "dfc['Features'] = df_dummies.columns\n",
    "dfc['coefficients'] = regr.coef_"
   ]
  },
  {
   "cell_type": "code",
   "execution_count": 43,
   "metadata": {
    "collapsed": false
   },
   "outputs": [
    {
     "data": {
      "text/html": [
       "<iframe id=\"igraph\" scrolling=\"no\" style=\"border:none;\" seamless=\"seamless\" src=\"https://plot.ly/~murparthjob/4.embed\" height=\"525px\" width=\"100%\"></iframe>"
      ],
      "text/plain": [
       "<plotly.tools.PlotlyDisplay object>"
      ]
     },
     "execution_count": 43,
     "metadata": {},
     "output_type": "execute_result"
    }
   ],
   "source": [
    "import plotly.plotly as py\n",
    "import plotly.graph_objs as go\n",
    "\n",
    "data = [go.Bar(\n",
    "            x=dfc['coefficients'],\n",
    "            y=dfc['Features'],\n",
    "            orientation = 'h'\n",
    ")]\n",
    "\n",
    "py.iplot(data, filename='horizontal-bar')\n",
    "\n",
    "# Number of Years of education is highly co related with the target "
   ]
  },
  {
   "cell_type": "markdown",
   "metadata": {},
   "source": [
    "The highest co relation is found in the number of years of education"
   ]
  },
  {
   "cell_type": "code",
   "execution_count": 44,
   "metadata": {
    "collapsed": false
   },
   "outputs": [
    {
     "name": "stdout",
     "output_type": "stream",
     "text": [
      "Mean squared error: 0.11\n",
      "Variance score: 0.33\n",
      "Mean squared error: 0.11\n"
     ]
    }
   ],
   "source": [
    "# The mean squared error\n",
    "print(\"Mean squared error: %.2f\"  % np.mean((regr.predict(income_X_test) - income_y_test) ** 2))\n",
    "# Explained variance score: 1 is perfect prediction\n",
    "\n",
    "print('Variance score: %.2f' % regr.score(income_X_test, income_y_test))\n",
    "\n",
    "print(\"Mean squared error: %.2f\"% np.mean((regr.predict(income_X_test) - income_y_test) ** 2))\n"
   ]
  },
  {
   "cell_type": "markdown",
   "metadata": {},
   "source": [
    "An attempt was done with the BaysianRidge regression "
   ]
  },
  {
   "cell_type": "code",
   "execution_count": 45,
   "metadata": {
    "collapsed": false
   },
   "outputs": [
    {
     "data": {
      "text/plain": [
       "BayesianRidge(alpha_1=1e-06, alpha_2=1e-06, compute_score=True, copy_X=True,\n",
       "       fit_intercept=True, lambda_1=1e-06, lambda_2=1e-06, n_iter=300,\n",
       "       normalize=False, tol=0.001, verbose=False)"
      ]
     },
     "execution_count": 45,
     "metadata": {},
     "output_type": "execute_result"
    }
   ],
   "source": [
    "clf = BayesianRidge(compute_score=True)\n",
    "clf.fit(income_X_train, income_y_train)"
   ]
  },
  {
   "cell_type": "markdown",
   "metadata": {},
   "source": [
    "The code below did not complete due to memory isssues "
   ]
  },
  {
   "cell_type": "code",
   "execution_count": null,
   "metadata": {
    "collapsed": true
   },
   "outputs": [],
   "source": [
    "# This code did not complete \n",
    "# Reference Scikit user guide\n",
    "#n_features = income_X_train.size\n",
    "#w = np.zeros(n_features)\n",
    "#lw = 2\n",
    "#plt.figure(figsize=(6, 5))\n",
    "#plt.title(\"Weights of the model\")\n",
    "#plt.plot(clf.coef_, color='lightgreen', linewidth=lw,\n",
    " #        label=\"Bayesian Ridge estimate\")\n",
    "#plt.plot(w, color='gold', linewidth=lw, label=\"Ground truth\")\n",
    "#plt.plot(regr.coef_, color='navy', linestyle='--', label=\"OLS estimate\")\n",
    "#plt.xlabel(\"Features\")\n",
    "#plt.ylabel(\"Values of the weights\")\n",
    "#plt.legend(loc=\"best\", prop=dict(size=12))\n",
    "\n",
    "#plt.figure(figsize=(6, 5))\n",
    "#plt.title(\"Histogram of the weights\")\n",
    "#plt.hist(clf.coef_, bins=n_features, color='gold', log=True)\n",
    "#plt.scatter(clf.coef_[relevant_features], 5 * np.ones(len(relevant_features)),\n",
    "  #          color='navy', label=\"Relevant features\")\n",
    "#plt.ylabel(\"Features\")\n",
    "#plt.xlabel(\"Values of the weights\")\n",
    "#plt.legend(loc=\"upper left\")\n",
    "\n",
    "#plt.figure(figsize=(6, 5))\n",
    "#plt.title(\"Marginal log-likelihood\")\n",
    "#plt.plot(clf.scores_, color='navy', linewidth=lw)\n",
    "#plt.ylabel(\"Score\")\n",
    "#plt.xlabel(\"Iterations\")\n",
    "#plt.show()"
   ]
  },
  {
   "cell_type": "code",
   "execution_count": 46,
   "metadata": {
    "collapsed": false
   },
   "outputs": [
    {
     "data": {
      "text/plain": [
       "array([[  3.90000000e+01,   1.30000000e+01,   2.17400000e+03, ...,\n",
       "          1.00000000e+00,   0.00000000e+00,   0.00000000e+00],\n",
       "       [  5.00000000e+01,   1.30000000e+01,   0.00000000e+00, ...,\n",
       "          1.00000000e+00,   0.00000000e+00,   0.00000000e+00],\n",
       "       [  3.80000000e+01,   9.00000000e+00,   0.00000000e+00, ...,\n",
       "          1.00000000e+00,   0.00000000e+00,   0.00000000e+00],\n",
       "       ..., \n",
       "       [  5.80000000e+01,   9.00000000e+00,   0.00000000e+00, ...,\n",
       "          1.00000000e+00,   0.00000000e+00,   0.00000000e+00],\n",
       "       [  2.20000000e+01,   9.00000000e+00,   0.00000000e+00, ...,\n",
       "          1.00000000e+00,   0.00000000e+00,   0.00000000e+00],\n",
       "       [  5.20000000e+01,   9.00000000e+00,   1.50240000e+04, ...,\n",
       "          1.00000000e+00,   0.00000000e+00,   0.00000000e+00]])"
      ]
     },
     "execution_count": 46,
     "metadata": {},
     "output_type": "execute_result"
    }
   ],
   "source": [
    "income_x"
   ]
  },
  {
   "cell_type": "markdown",
   "metadata": {},
   "source": [
    "PCA"
   ]
  },
  {
   "cell_type": "code",
   "execution_count": 47,
   "metadata": {
    "collapsed": false
   },
   "outputs": [
    {
     "name": "stdout",
     "output_type": "stream",
     "text": [
      " Start PCA \n",
      "[  9.97028410e-01   2.96526077e-03   3.42257018e-06]\n"
     ]
    }
   ],
   "source": [
    "from sklearn import decomposition\n",
    "from mpl_toolkits.mplot3d import Axes3D\n",
    "\n",
    "print (\" Start PCA \")\n",
    "pca = decomposition.PCA(n_components=3)\n",
    "pca.fit(income_x)\n",
    "income_x1 = pca.transform(income_x)\n",
    "pca_score = pca.explained_variance_ratio_\n",
    "print pca_score\n",
    "y = income_y\n",
    "#V = pca.components_\n",
    "#print(pca.explained_variance_ratio_) \n",
    "#print (\"Components is \")\n",
    "#print V\n",
    "#V.size"
   ]
  },
  {
   "cell_type": "code",
   "execution_count": 48,
   "metadata": {
    "collapsed": false
   },
   "outputs": [
    {
     "name": "stderr",
     "output_type": "stream",
     "text": [
      "/Users/murali/anaconda/lib/python2.7/site-packages/ipykernel/__main__.py:9: FutureWarning:\n",
      "\n",
      "in the future, boolean array-likes will be handled as a boolean array index\n",
      "\n",
      "/Users/murali/anaconda/lib/python2.7/site-packages/ipykernel/__main__.py:10: FutureWarning:\n",
      "\n",
      "in the future, boolean array-likes will be handled as a boolean array index\n",
      "\n",
      "/Users/murali/anaconda/lib/python2.7/site-packages/ipykernel/__main__.py:11: FutureWarning:\n",
      "\n",
      "in the future, boolean array-likes will be handled as a boolean array index\n",
      "\n"
     ]
    },
    {
     "data": {
      "image/png": "[encoded data removed]",
      "text/plain": [
       "<matplotlib.figure.Figure at 0x117e92a90>"
      ]
     },
     "metadata": {},
     "output_type": "display_data"
    }
   ],
   "source": [
    "# Code Reference from Scikit-learn user guide PCA \n",
    "fig = plt.figure(1, figsize=(4, 3))\n",
    "plt.clf()\n",
    "ax = Axes3D(fig, rect=[0, 0, .95, 1], elev=48, azim=134)\n",
    "\n",
    "plt.cla()\n",
    "\n",
    "for name, label in [('Salary<50K', 0), ('Salary>=50K', 1) ]:\n",
    "    ax.text3D(income_x1[y == label, 0].mean(),\n",
    "              income_x1[y == label, 1].mean() + 1.5,\n",
    "               income_x1[y == label, 2].mean(), name,\n",
    "              horizontalalignment='center',\n",
    "              bbox=dict(alpha=.5, edgecolor='w', facecolor='w'))\n",
    "# Reorder the labels to have colors matching the cluster results\n",
    "y = np.choose(y, [1, 2,0]).astype(np.float)\n",
    "ax.scatter(income_x1[:, 0], income_x1[:, 1],income_x[:,2],  c=y, cmap=plt.cm.spectral)\n",
    "\n",
    "ax.w_xaxis.set_ticklabels([])\n",
    "ax.w_yaxis.set_ticklabels([])\n",
    "ax.w_zaxis.set_ticklabels([])\n",
    "\n",
    "plt.show()"
   ]
  },
  {
   "cell_type": "code",
   "execution_count": 49,
   "metadata": {
    "collapsed": false
   },
   "outputs": [
    {
     "data": {
      "text/plain": [
       "<matplotlib.text.Text at 0x11b7668d0>"
      ]
     },
     "execution_count": 49,
     "metadata": {},
     "output_type": "execute_result"
    },
    {
     "data": {
      "image/png": "[encoded data removed]",
      "text/plain": [
       "<matplotlib.figure.Figure at 0x117e922d0>"
      ]
     },
     "metadata": {},
     "output_type": "display_data"
    }
   ],
   "source": [
    "#print(pca.explained_variance_ratio_) \n",
    "plt.figure(1, figsize=(4, 3))\n",
    "plt.clf()\n",
    "plt.axes([.2, .2, .7, .7])\n",
    "plt.plot(pca.explained_variance_, linewidth=2)\n",
    "plt.axis('tight')\n",
    "plt.xlabel('n_components')\n",
    "plt.ylabel('explained_variance_')"
   ]
  },
  {
   "cell_type": "markdown",
   "metadata": {},
   "source": [
    "The PCA analysis confirms the observation there is crowding of data around <=50K"
   ]
  },
  {
   "cell_type": "markdown",
   "metadata": {},
   "source": [
    "    <h3> The section below examines Logistic Regression to further understandin classification. There will a section on Logistics regression which will examine the accuracy of the model </h3>"
   ]
  },
  {
   "cell_type": "code",
   "execution_count": 50,
   "metadata": {
    "collapsed": false
   },
   "outputs": [
    {
     "data": {
      "image/png": "[encoded data removed]",
      "text/plain": [
       "<matplotlib.figure.Figure at 0x11954bed0>"
      ]
     },
     "metadata": {},
     "output_type": "display_data"
    }
   ],
   "source": [
    "#dfincome.info()\n",
    "\n",
    "# Logistic Regression \n",
    "\n",
    "logreg = linear_model.LogisticRegression(C=1e5)\n",
    "\n",
    "# we create an instance of Neighbours Classifier and fit the data.\n",
    "# Will hit memory error so let us train only first two features \n",
    "X = income_X_train[:, :2]\n",
    "Y = income_y_train\n",
    "#logreg.fit(income_X_train, income_y_train)\n",
    "logreg.fit(X, income_y_train)\n",
    "h = .02 \n",
    "\n",
    "# Plot the decision boundary. For that, we will assign a color to each\n",
    "# point in the mesh [x_min, x_max]x[y_min, y_max].\n",
    "x_min, x_max = X[:, 0].min() - .5, X[:, 0].max() + .5\n",
    "y_min, y_max = X[:, 1].min() - .5, X[:, 1].max() + .5\n",
    "#x_min, x_max = income_x.min() - .5, income_x.max() + .5\n",
    "#y_min, y_max = income_x.min() - .5, income_x.max() + .5\n",
    "xx, yy = np.meshgrid(np.arange(x_min, x_max, h), np.arange(y_min, y_max, h))\n",
    "Z = logreg.predict(np.c_[xx.ravel(), yy.ravel()])\n",
    "\n",
    "# Put the result into a color plot\n",
    "Z = Z.reshape(xx.shape)\n",
    "plt.figure(1, figsize=(4, 3))\n",
    "plt.pcolormesh(xx, yy, Z, cmap=plt.cm.Paired)\n",
    "\n",
    "# Plot also the training points\n",
    "plt.scatter(X[:, 0], X[:, 1], c=Y, edgecolors='k', cmap=plt.cm.Paired)\n",
    "#plt.scatter(income_x,  c=Y, edgecolors='k', cmap=plt.cm.Paired)\n",
    "plt.xlabel('Salary >= 50K')\n",
    "plt.ylabel('Salary <50K')\n",
    "\n",
    "plt.xlim(xx.min(), xx.max())\n",
    "plt.ylim(yy.min(), yy.max())\n",
    "plt.xticks(())\n",
    "plt.yticks(())\n",
    "\n",
    "plt.show()"
   ]
  },
  {
   "cell_type": "markdown",
   "metadata": {},
   "source": [
    "## • Modeling and Evaluation (70 points total)  \n",
    "### • [10 points] Choose and explain your evaluation metrics that you will use  \n",
    "\n",
    "<font color='blue'>\n",
    "(i.e., accuracy, precision, recall, F-measure, or any metric we have discussed). Why are the measure(s)\n",
    "appropriate for analyzing the results of your modeling? Give a detailed explanation\n",
    "backing up any assertions.  \n",
    "</font> <font color='green'>  100% - complete  </font> \n",
    "\n",
    " \n",
    "\n"
   ]
  },
  {
   "cell_type": "markdown",
   "metadata": {},
   "source": [
    "The evaluation metric that we will be using for both classification tasks is accuracy.  This is appropriate because what makes these classification task results useful is how accurately they can predict the classification of newly observed individuals.  Furthermore, the intention of this model is to be presented to a wide audience, including non-technical audience members such as legislators, and so a simple evaluation metric of a single number is desireable.\n",
    "\n",
    "While some of the pitfalls of using precision and recall are avoided, including having an overly large confusion matrix, we still feel that they do not provide us with anything significantly more useful than what we already get from just using accuracy.  Specifically, we see the main benefit of using precision and recall as being able to place greater weight, or importance, on focusing on one part of the confusion matrix over others.  An example of this could be with medical treatments where missing a true diagnosis is so much more serious than missing a false diagnosis that it is more desireable to tune a model to place more weight on avoiding false negatives at the expense of allowing more false positives (life and death situation).  In our situation we do not care more or less for one type of error versus the other, therefore using precision and recall would needlessly introduce some small amount of complexity to no real benefit.  \n",
    "  \n",
    "  Finding the area under a POC curve would similarly introduce needless complexity with not much gained.  Explaining an accuracy percentage provides nearly the same information with much less effort expended and much less odds of the audience misunderstanding the explained results of the model.  We will therefore proceed with the evaluation metric of accuracy."
   ]
  },
  {
   "cell_type": "markdown",
   "metadata": {},
   "source": [
    "### • [10 points] Choose the method you will use for dividing your data into training and testing splits \n",
    "\n",
    "<font color='blue'>\n",
    "(i.e., are you using Stratified 10-fold cross validation? Why?). Explain why\n",
    "your chosen method is appropriate or use more than one method as appropriate.  \n",
    "</font> <font color='green'>  100% - complete  </font> "
   ]
  },
  {
   "cell_type": "markdown",
   "metadata": {},
   "source": [
    "We will be using a different training and testing split method for each of our two classification tasks.  For the classification task related to the income variable we will be using stratified 5-fold cross validation, whereas for the classification task related to the marital-status variable we will be using stratified 10-fold cross validation.  \n",
    "  \n",
    "The reason we are using 5 folds for the first classification task is because we are running these tasks on consumer-grade equipment against a 30,000+ size dataset.  Therefore it is desireable to decrease the computing time for our model as much as possible.  We can get away with using fewer folds in this classification task, thus reducing our computing time, because we only have a binary response variable where both of the two response classes are represented well within the data, each having a frequency of at least ~25% of the data as seen below:"
   ]
  },
  {
   "cell_type": "markdown",
   "metadata": {},
   "source": [
    "### Class value distribution for the income variable"
   ]
  },
  {
   "cell_type": "code",
   "execution_count": 11,
   "metadata": {
    "collapsed": false
   },
   "outputs": [
    {
     "name": "stdout",
     "output_type": "stream",
     "text": [
      "Size of the dataset: (32561,)\n",
      "Number of unique classes: 2\n"
     ]
    },
    {
     "data": {
      "image/png": "[encoded data removed]",
      "text/plain": [
       "<matplotlib.figure.Figure at 0xaf976a0>"
      ]
     },
     "metadata": {},
     "output_type": "display_data"
    }
   ],
   "source": [
    "# This code shows a graphical representation of the class value distribution for the income variable.\n",
    "# This code was built upon the example provided in the \"Grand Poobah Classification Notebook\" from course materials\n",
    "\n",
    "print( 'Size of the dataset:', df_income['income'].shape)\n",
    "print( 'Number of unique classes:', len(df_income['income'].unique()))\n",
    "\n",
    "plt.hist(df_income['income'], bins=len(df_income['income'].unique()))\n",
    "plt.xlabel('Class value (one per marital status)')\n",
    "plt.ylabel('Class frequency')\n",
    "plt.show()"
   ]
  },
  {
   "cell_type": "markdown",
   "metadata": {},
   "source": [
    "Now, while both classes have  large frequency we still see that those with less than 50,000 USD of income a year number about three times as many individuals as those who make greater than 50,000 USD of income a year.  As such we feel that stratifying the k-fold cross validation will help prevent against any training/test splits that could have fewer than desired \"1\" classifications due to random chance.  \n",
    "  \n",
    "As for the marital-status classification task, we absolutely must stratify the cross validation because there are more classes and a far greater discrepancy in the relative frequency of those classes.  In fact, there are some classes with over 10,000 individuals classified by them whereas other classes describe almost no one.  Furthermore we must use 10 folds rather than 5 because of the small class frequency for some of these class values.  You can see more graphical details on the class frequency distribution below:"
   ]
  },
  {
   "cell_type": "markdown",
   "metadata": {},
   "source": [
    "### Class value distribution for the Marital Status variable"
   ]
  },
  {
   "cell_type": "code",
   "execution_count": 12,
   "metadata": {
    "collapsed": false
   },
   "outputs": [
    {
     "name": "stdout",
     "output_type": "stream",
     "text": [
      "Size of the dataset: (32561,)\n",
      "Number of unique classes: 7\n"
     ]
    },
    {
     "data": {
      "image/png": "[encoded data removed]",
      "text/plain": [
       "<matplotlib.figure.Figure at 0xb7c96d8>"
      ]
     },
     "metadata": {},
     "output_type": "display_data"
    }
   ],
   "source": [
    "# This code shows a graphical representation to the one above, this time for the marital-status variable.\n",
    "# This code was built upon the example provided in the \"Grand Poobah Classification Notebook\" from course materials\n",
    "\n",
    "from sklearn import preprocessing\n",
    "encoder = preprocessing.LabelEncoder()\n",
    "\n",
    "print( 'Size of the dataset:', df_income['marital-status'].shape)\n",
    "print( 'Number of unique classes:', len(df_income['marital-status'].unique()))\n",
    "\n",
    "maritalplot = encoder.fit_transform(df_income['marital-status'])\n",
    "\n",
    "plt.hist(maritalplot, bins=7)\n",
    "plt.xlabel('Class value (one per marital status)')\n",
    "plt.ylabel('Class frequency')\n",
    "plt.show()"
   ]
  },
  {
   "cell_type": "markdown",
   "metadata": {},
   "source": [
    "### • [20 points] Create three different classification/regression models \n",
    "(e.g., random forest, KNN, and SVM). Two modeling techniques must be new (but the third could be SVM or\n",
    "logistic regression). Adjust parameters as appropriate to increase generalization\n",
    "performance using your chosen metric.  <font color='green'>  100% - complete  </font>"
   ]
  },
  {
   "cell_type": "markdown",
   "metadata": {},
   "source": [
    "### Here we set the one-hot encoded \"dummy\" variables as X and the original target variable (where 0 is < 50K and 1 is >=50K) will become our y.  "
   ]
  },
  {
   "cell_type": "code",
   "execution_count": 10,
   "metadata": {
    "collapsed": true
   },
   "outputs": [],
   "source": [
    "# Here we set the one-hot encoded \"dummy\" variables as the X and the original target variable (where 0 is <50K and 1 is >=50K) will\n",
    "# become our y.  We also initialize a y_hat variable.\n",
    "X = df_dummies\n",
    "y = np.array(target)\n",
    "y_hat = np.zeros(len(target)) \n",
    "\n",
    "# This creates our K fold model with 5 folds.\n",
    "cv = StratifiedKFold(y, n_folds=5) #cv means training test TT"
   ]
  },
  {
   "cell_type": "markdown",
   "metadata": {},
   "source": [
    "# 1st Model: K Nearest Neighbors Classification on Income target:\n",
    "We fit a K Nearest Neighbors classifier with 9 neighbors. As mentioned before we will do 5 fold cross validation for classifiers run against the income target variable for the purpose of sacrificing a little bit of accuracy for a lot of speed in running the models. "
   ]
  },
  {
   "cell_type": "code",
   "execution_count": 13,
   "metadata": {
    "collapsed": false
   },
   "outputs": [
    {
     "name": "stdout",
     "output_type": "stream",
     "text": [
      "KNN accuracy when using  1  neighbors:  0.800558950892\n",
      "KNN accuracy when using  2  neighbors:  0.825312490403\n",
      "KNN accuracy when using  3  neighbors:  0.821627099905\n",
      "KNN accuracy when using  4  neighbors:  0.832713982986\n",
      "KNN accuracy when using  5  neighbors:  0.830564171862\n",
      "KNN accuracy when using  6  neighbors:  0.836061546021\n",
      "KNN accuracy when using  7  neighbors:  0.834310985535\n",
      "KNN accuracy when using  8  neighbors:  0.836890758883\n",
      "KNN accuracy when using  9  neighbors:  0.835785141734\n"
     ]
    }
   ],
   "source": [
    "# The following code section was built referencing the section 06 Classification notebook from our class materials.\n",
    "\n",
    "# This code iterates through the classifier task trying between 1 and 9 neighbors in the KNN. Eventually it finds that the \n",
    "\n",
    "for i in range(1,10):\n",
    "    clf = KNeighborsClassifier(n_neighbors=i)\n",
    "    for train, test in cv:\n",
    "        clf.fit(X.iloc[train],y[train])\n",
    "        y_hat[test] = clf.predict(X.iloc[test])\n",
    "    total_accuracy = mt.accuracy_score(y, y_hat)\n",
    "    print('KNN accuracy when using ', i, \" neighbors: \", total_accuracy)"
   ]
  },
  {
   "cell_type": "code",
   "execution_count": 1,
   "metadata": {
    "collapsed": true
   },
   "outputs": [],
   "source": [
    "# run a max on KNN accuracy to make sure we pick the right one"
   ]
  },
  {
   "cell_type": "markdown",
   "metadata": {},
   "source": [
    "### Results:  \n",
    "As seen in the code output above, the very best accuracy we obtained from a KNN classifier for the income target was 83.69%, and we obtained that accuracy when using the 8 nearest neighbors in our algorithm."
   ]
  },
  {
   "cell_type": "markdown",
   "metadata": {},
   "source": [
    "# 2nd Model: Random Forest Classification on Income target:\n",
    "We fit a random forest classifier, and pass it with a variety of depths and number of estimators to find the very best configuration for highest accuracy score."
   ]
  },
  {
   "cell_type": "code",
   "execution_count": 12,
   "metadata": {
    "collapsed": false
   },
   "outputs": [
    {
     "name": "stdout",
     "output_type": "stream",
     "text": [
      "The accuracy obtained from using a depth of  10  and  50  estimators is:  0.856822579159\n",
      "The accuracy obtained from using a depth of  20  and  50  estimators is:  0.861705721569\n",
      "The accuracy obtained from using a depth of  30  and  50  estimators is:  0.856576886459\n",
      "The accuracy obtained from using a depth of  40  and  50  estimators is:  0.848714720064\n",
      "The accuracy obtained from using a depth of  50  and  50  estimators is:  0.84656490894\n",
      "The accuracy obtained from using a depth of  10  and  100  estimators is:  0.856945425509\n",
      "The accuracy obtained from using a depth of  20  and  100  estimators is:  0.863333435705\n",
      "The accuracy obtained from using a depth of  30  and  100  estimators is:  0.855532692485\n",
      "The accuracy obtained from using a depth of  40  and  100  estimators is:  0.850311722613\n",
      "The accuracy obtained from using a depth of  50  and  100  estimators is:  0.847025582752\n",
      "The accuracy obtained from using a depth of  10  and  150  estimators is:  0.857590368846\n",
      "The accuracy obtained from using a depth of  20  and  150  estimators is:  0.862749915543\n",
      "The accuracy obtained from using a depth of  30  and  150  estimators is:  0.857037560271\n",
      "The accuracy obtained from using a depth of  40  and  150  estimators is:  0.849144682289\n",
      "The accuracy obtained from using a depth of  50  and  150  estimators is:  0.848039065139\n"
     ]
    }
   ],
   "source": [
    "# The following code section was built referencing the section 06 Classification notebook from our class materials.\n",
    "\n",
    "# This section of code builds a random forest classifier with a variety of depths and number of estimators.\n",
    "\n",
    "depths = [10, 20, 30, 40, 50]\n",
    "estimators = [50, 100, 150]\n",
    "\n",
    "for estimator in estimators:\n",
    "    for depth in depths:\n",
    "        clf = RandomForestClassifier(max_depth=depth, n_estimators=estimator, n_jobs=-1, oob_score=True)\n",
    "        for train, test in cv:\n",
    "            clf.fit(X.iloc[train],y[train])\n",
    "            y_hat[test] = clf.predict(X.iloc[test])\n",
    "        total_accuracy = mt.accuracy_score(y, y_hat)\n",
    "        print('The accuracy obtained from using a depth of ', depth, ' and ', estimator, ' estimators is: ', total_accuracy)"
   ]
  },
  {
   "cell_type": "markdown",
   "metadata": {},
   "source": [
    "### Results:  \n",
    "As seen in the code output above, the highest accuracy we obtained from a random forests classifier was 86.33%, and that was obtained from a classifier with a tree depth of 20 and 100 estimators."
   ]
  },
  {
   "cell_type": "markdown",
   "metadata": {},
   "source": [
    "# 3rd Model: Logistic Regression Classification on Income target:\n",
    "We fit the data in a logistic regression classification, then runs it for both the \"l1\" and \"l2\" penalty setting, cycling through a number of C Values for each. This allows us to then determine the best tuned configuration settings for maximum accuracy.\n"
   ]
  },
  {
   "cell_type": "code",
   "execution_count": 40,
   "metadata": {
    "collapsed": false
   },
   "outputs": [
    {
     "name": "stdout",
     "output_type": "stream",
     "text": [
      "For the penalty option of  l1  and a C Value of  0.05 The accuracy obtained is:  0.849605356101\n",
      "For the penalty option of  l1  and a C Value of  0.1 The accuracy obtained is:  0.849728202451\n",
      "For the penalty option of  l1  and a C Value of  0.15 The accuracy obtained is:  0.8508338196\n",
      "For the penalty option of  l1  and a C Value of  0.25 The accuracy obtained is:  0.850925954363\n",
      "For the penalty option of  l1  and a C Value of  0.5 The accuracy obtained is:  0.851417339762\n",
      "For the penalty option of  l1  and a C Value of  0.75 The accuracy obtained is:  0.851325205\n",
      "For the penalty option of  l2  and a C Value of  0.05 The accuracy obtained is:  0.851540186112\n",
      "For the penalty option of  l2  and a C Value of  0.1 The accuracy obtained is:  0.850803108013\n",
      "For the penalty option of  l2  and a C Value of  0.15 The accuracy obtained is:  0.850987377538\n",
      "For the penalty option of  l2  and a C Value of  0.25 The accuracy obtained is:  0.851110223887\n",
      "For the penalty option of  l2  and a C Value of  0.5 The accuracy obtained is:  0.851294493412\n",
      "For the penalty option of  l2  and a C Value of  0.75 The accuracy obtained is:  0.851263781825\n"
     ]
    }
   ],
   "source": [
    "# This code section was built referencing the section 04 notebook from class materials.\n",
    "\n",
    "# This code builds a logistic regression classifier\n",
    "\n",
    "penalties = ['l1','l2']\n",
    "CValues = [0.05,0.10,0.15,0.25,0.5,0.75]\n",
    "\n",
    "for penalty in penalties:\n",
    "    for CValue in CValues:\n",
    "        clf = LogisticRegression(penalty=penalty, C=CValue)\n",
    "        for train, test in cv:\n",
    "            clf.fit(X.iloc[train],y[train]) \n",
    "            y_hat[test] = clf.predict(X.iloc[test])\n",
    "        total_accuracy = mt.accuracy_score(y, y_hat)\n",
    "        print('For the penalty option of ', penalty, ' and a C Value of ', CValue, 'The accuracy obtained is: ', total_accuracy )"
   ]
  },
  {
   "cell_type": "markdown",
   "metadata": {},
   "source": [
    "### Results \n",
    "As seen in the code output above, the highest accuracy we obtained from a logistic regression classifier was 85.15%, and that was obtained from a classifier using the l2 penalty option and a C Value of 0.05."
   ]
  },
  {
   "cell_type": "markdown",
   "metadata": {},
   "source": [
    "### Here we set up a new target variable \"maritaltarget\" that includes the integer classification of the marital statuses included in the data.  We then drop the marital-status column from the income dataset, and set our X as the newly formed dummy variable dataset for the classification of the marriage status target variable."
   ]
  },
  {
   "cell_type": "code",
   "execution_count": 20,
   "metadata": {
    "collapsed": false
   },
   "outputs": [],
   "source": [
    "# Here we set up a new target variable \"maritaltarget\" that includes the integer classification of the marital statuses included\n",
    "# in the data.  We then drop the marital-status column from the income dataset, and set our X as the newly formed dummy variable\n",
    "# dataset for the classification of the marriage status target variable.\n",
    "\n",
    "maritaltarget = maritalplot\n",
    "df_intermediateMarriage = df_income.drop('marital-status', axis=1)\n",
    "df_dummiesMarriage = pd.get_dummies(df_intermediateMarriage)\n",
    "\n",
    "#Now that we have newly formed datasets targeting the marital-status classification we will re-set our X, y, and y_hat variables.\n",
    "X = df_dummiesMarriage\n",
    "y = np.array(maritaltarget)\n",
    "y_hat = np.zeros(len(maritaltarget)) \n",
    "\n",
    "# This recreates our K fold model, only now with 10 folds rather than 5.\n",
    "cv = StratifiedKFold(y, n_folds=10)"
   ]
  },
  {
   "cell_type": "markdown",
   "metadata": {},
   "source": [
    "# 1st Model: K Nearest Neighbors Classification on Marital Status target:\n",
    "We repeat the KNN classification task, only this time we will do 10 fold cross validation for classifiers run against the marital status target variable. We choose to do 10 over five because the data is split into 7 clusters versus 2 and can afford to run 10 folds.\n"
   ]
  },
  {
   "cell_type": "code",
   "execution_count": 21,
   "metadata": {
    "collapsed": false
   },
   "outputs": [
    {
     "name": "stdout",
     "output_type": "stream",
     "text": [
      "KNN accuracy when using  1  neighbors:  0.717391971991\n",
      "KNN accuracy when using  2  neighbors:  0.705291606523\n",
      "KNN accuracy when using  3  neighbors:  0.739227910691\n",
      "KNN accuracy when using  4  neighbors:  0.739565738153\n",
      "KNN accuracy when using  5  neighbors:  0.743404686588\n",
      "KNN accuracy when using  6  neighbors:  0.744663861675\n",
      "KNN accuracy when using  7  neighbors:  0.745370228187\n",
      "KNN accuracy when using  8  neighbors:  0.744878842787\n",
      "KNN accuracy when using  9  neighbors:  0.744940265962\n"
     ]
    }
   ],
   "source": [
    "# The following code section was built referencing the section 06 Classification notebook from our class materials.\n",
    "\n",
    "# This code repeats the previous KNN classification task, only this time it will give us the accuracy of the classification for\n",
    "# the marital status target variable because we have changed our X and y variables.\n",
    "\n",
    "for i in range(1,10):\n",
    "    clf = KNeighborsClassifier(n_neighbors=i)\n",
    "    for train, test in cv:\n",
    "        clf.fit(X.iloc[train],y[train])\n",
    "        y_hat[test] = clf.predict(X.iloc[test])\n",
    "    total_accuracy = mt.accuracy_score(y, y_hat)\n",
    "    print('KNN accuracy when using ', i, \" neighbors: \", total_accuracy)"
   ]
  },
  {
   "cell_type": "markdown",
   "metadata": {},
   "source": [
    "### Results:  \n",
    "The best accuracy recorded for the KNN on the Marital Status target was 74.49%, which we obtained when using 9 neighbors.\n"
   ]
  },
  {
   "cell_type": "markdown",
   "metadata": {},
   "source": [
    "# 2nd Model: Random Forest Classification on Marital Status target:\n",
    "We repeat a random forest classification task, only this time it will give us the accuracy of the classification for the marital status target variable."
   ]
  },
  {
   "cell_type": "code",
   "execution_count": 22,
   "metadata": {
    "collapsed": false
   },
   "outputs": [
    {
     "name": "stdout",
     "output_type": "stream",
     "text": [
      "The accuracy obtained from using a depth of  10  and  50  estimators is:  0.831884770124\n",
      "The accuracy obtained from using a depth of  20  and  50  estimators is:  0.840207610331\n",
      "The accuracy obtained from using a depth of  30  and  50  estimators is:  0.83010349805\n",
      "The accuracy obtained from using a depth of  40  and  50  estimators is:  0.823807622616\n",
      "The accuracy obtained from using a depth of  50  and  50  estimators is:  0.822916986579\n",
      "The accuracy obtained from using a depth of  10  and  100  estimators is:  0.832314732349\n",
      "The accuracy obtained from using a depth of  20  and  100  estimators is:  0.840576149381\n",
      "The accuracy obtained from using a depth of  30  and  100  estimators is:  0.82985780535\n",
      "The accuracy obtained from using a depth of  40  and  100  estimators is:  0.824237584841\n",
      "The accuracy obtained from using a depth of  50  and  100  estimators is:  0.824513989128\n",
      "The accuracy obtained from using a depth of  10  and  150  estimators is:  0.832222597586\n",
      "The accuracy obtained from using a depth of  20  and  150  estimators is:  0.841251804306\n",
      "The accuracy obtained from using a depth of  30  and  150  estimators is:  0.830809864562\n",
      "The accuracy obtained from using a depth of  40  and  150  estimators is:  0.824145450078\n",
      "The accuracy obtained from using a depth of  50  and  150  estimators is:  0.825005374528\n"
     ]
    }
   ],
   "source": [
    "# The following code section was built referencing the section 06 Classification notebook from our class materials.\n",
    "\n",
    "# This code repeats the previous Random Forest classification task, only this time it will give us the accuracy of the classification for\n",
    "# the marital status target variable because we have changed our X and y variables.\n",
    "\n",
    "depths = [10, 20, 30, 40, 50]\n",
    "estimators = [50, 100, 150]\n",
    "\n",
    "for estimator in estimators:\n",
    "    for depth in depths:\n",
    "        clf = RandomForestClassifier(max_depth=depth, n_estimators=estimator, n_jobs=-1, oob_score=True)\n",
    "        for train, test in cv:\n",
    "            clf.fit(X.iloc[train],y[train])\n",
    "            y_hat[test] = clf.predict(X.iloc[test])\n",
    "        total_accuracy = mt.accuracy_score(y, y_hat)\n",
    "        print('The accuracy obtained from using a depth of ', depth, ' and ', estimator, ' estimators is: ', total_accuracy)"
   ]
  },
  {
   "cell_type": "markdown",
   "metadata": {},
   "source": [
    "### Results:  \n",
    "The best accuracy we saw from the random forest classifier was 84.13%, which we saw when using a depth of 20 and 150 estimators."
   ]
  },
  {
   "cell_type": "markdown",
   "metadata": {},
   "source": [
    "# 3rd Model: Logistic Regression Classification on Marital Status target:"
   ]
  },
  {
   "cell_type": "code",
   "execution_count": 23,
   "metadata": {
    "collapsed": false
   },
   "outputs": [
    {
     "name": "stdout",
     "output_type": "stream",
     "text": [
      "For the penalty option of  l1  and a C Value of  0.05 The accuracy obtained is:  0.83864131937\n",
      "For the penalty option of  l1  and a C Value of  0.1 The accuracy obtained is:  0.839040570007\n",
      "For the penalty option of  l1  and a C Value of  0.15 The accuracy obtained is:  0.838794877307\n",
      "For the penalty option of  l1  and a C Value of  0.25 The accuracy obtained is:  0.83888701207\n",
      "For the penalty option of  l1  and a C Value of  0.5 The accuracy obtained is:  0.839194127944\n",
      "For the penalty option of  l1  and a C Value of  0.75 The accuracy obtained is:  0.839409109057\n",
      "For the penalty option of  l2  and a C Value of  0.05 The accuracy obtained is:  0.838794877307\n",
      "For the penalty option of  l2  and a C Value of  0.1 The accuracy obtained is:  0.838733454132\n",
      "For the penalty option of  l2  and a C Value of  0.15 The accuracy obtained is:  0.83900985842\n",
      "For the penalty option of  l2  and a C Value of  0.25 The accuracy obtained is:  0.839194127944\n",
      "For the penalty option of  l2  and a C Value of  0.5 The accuracy obtained is:  0.839593378582\n",
      "For the penalty option of  l2  and a C Value of  0.75 The accuracy obtained is:  0.839409109057\n"
     ]
    }
   ],
   "source": [
    "# This code section was built referencing the section 04 notebook from class materials.\n",
    "\n",
    "# This code repeats the previous Logistic Regression classification task, only this time it will give us the accuracy of the classification for\n",
    "# the marital status target variable because we have changed our X and y variables.\n",
    "\n",
    "penalties = ['l1','l2']\n",
    "CValues = [0.05,0.10,0.15,0.25,0.5,0.75]\n",
    "\n",
    "for penalty in penalties:\n",
    "    for CValue in CValues:\n",
    "        clf = LogisticRegression(penalty=penalty, C=CValue)\n",
    "        for train, test in cv:\n",
    "            clf.fit(X.iloc[train],y[train]) \n",
    "            y_hat[test] = clf.predict(X.iloc[test])\n",
    "        total_accuracy = mt.accuracy_score(y, y_hat)\n",
    "        print('For the penalty option of ', penalty, ' and a C Value of ', CValue, 'The accuracy obtained is: ', total_accuracy )"
   ]
  },
  {
   "cell_type": "markdown",
   "metadata": {},
   "source": [
    "### Results:\n",
    "The best accuracy we saw from the Logistic Regression classifier was 84.00%, which we saw when using the penalty option \"l2\" and a C value of 0.5.\n"
   ]
  },
  {
   "cell_type": "markdown",
   "metadata": {},
   "source": [
    "### • [10 points] Analyze the results using your chosen method of evaluation. \n",
    "<font color='blue'> Use visualizations of the results to bolster the analysis. Explain any visuals and analyze why\n",
    "they are interesting to someone that might use this model. </font> <font color='green'>  100% - complete  </font> "
   ]
  },
  {
   "cell_type": "markdown",
   "metadata": {},
   "source": [
    "### <font color='red'> maybe Insert KNN visualizations </font>\n",
    " * https://mypython.quora.com/Use-Python-to-visualize-kNN\n",
    " \n",
    "### <font color='blue'> maybe Insert random Forest visualizations </font>\n",
    " * http://scikit-learn.org/stable/auto_examples/ensemble/plot_forest_iris.html\n",
    " \n",
    "### <font color='green'> Insert logistic regression visualizations, maybe scatterplt? </font>"
   ]
  },
  {
   "cell_type": "markdown",
   "metadata": {},
   "source": [
    "Using the different classification tasks listed, we saw the following accuracy scores from the best tuning of each classification task:  \n",
    "#### For the binary target \"income\":\n",
    " * KNN with 8 neighbors  had an accuracy of 83.69%\n",
    " * Random Forest had an accuracy of 86.33%\n",
    " * Logistic Regression had an accuracy of 85.15%\n",
    "\n",
    "#### For the multinomial target \"marital-status\":\n",
    "*  KNN = 74.49%\n",
    "*  Random Forest = 84.13%\n",
    "*  Logistic Regression = 84.00%\n",
    "\n",
    "For both the binomial class prediction and the multinomial class prediction it appears that Random Forest classification gave us the very best results in terms of accuracy becasue they give the highest accuracy scores. In the binary class prediction there does not appear to be a major discrepancy in accuracy between the highest (random forests) and the lowest (KNN).  Furthermore, there was not a significant difference in speed of performance for any of the classification tasks run.  However, for the multinomial classification task on the target variable \"marital-status\" there was a much larger difference observed between the accuracy of the random forests classifier (84.13%) and the accuracy of the KNN classifier (74.49%).  There was little difference between using a random forest classifier and logistic regression either way."
   ]
  },
  {
   "cell_type": "markdown",
   "metadata": {},
   "source": [
    "### • [10 points] Discuss the advantages of each model for each classification task, if any. \n",
    "If there are not advantages, explain why. Is any model better than another? Is the\n",
    "difference significant with 95% confidence? Use proper statistical comparison methods.  "
   ]
  },
  {
   "cell_type": "markdown",
   "metadata": {},
   "source": [
    "  \n",
    "#### Advantages: <font color='red'>  Might need to rewrite with advantage of each model for each task we performed. below is generalized advantages </font> \n",
    "KNN is a simple classifier that works well on basic recognition problems. KNN is effective when the data set is large. It is Robust to noisy data. \n",
    " \n",
    "Random Forest is a classifier that consists of many decision trees and outputs the class that is the mode of the class's output by individual trees. According to the article \"Random FOrest Algorithm\" by Micheal Walker, it is one most accurate classifer available. It runs very efficiently on large databases and can handle thousands of input variables without variable deletion. It gives estimates of what variables are important in the classification. It generates an internal unbiased estimate of the generalization error as the forest building progresses. It has an effective method for estimating missing data and maintains accuracy when a large proportion of the data are missing. It has methods for balancing error in class population unbalanced data sets. Generated forests can be saved for future use on other data. Prototypes are computed that give information about the relation between the variables and the classification. It computes proximities between pairs of cases that can be used in clustering, locating outliers, or (by scaling) give interesting views of the data. It offers an experimental method for detecting variable interactions.\n",
    "\n",
    "  * Resource: http://www.datasciencecentral.com/profiles/blogs/random-forests-algorithm\n",
    "\n",
    "\n",
    "Advantages of Logistic Regression Model Logistic regression is a well-behaved classification algorithm that can be trained as long as we expect our features to be roughly linear and the problem to be linearly separable. We can perform transformations to turn most non-linear features into linear pretty easily. It is also robust to noise and we can avoid overfitting. Logistic regression can also be used in Big Data scenarios since it is pretty efficient. A final advantage of logistic regression is that the output can be interpreted as a probability. This is something that comes as a nice side effect since we can use it, for example, for ranking instead of classification. \n",
    " *  Resource: https://www.quora.com/What-are-the-advantages-of-different-classification-algorithms \n",
    " *  Addiotnal resource: http://blog.echen.me/2011/04/27/choosing-a-machine-learning-classifier/ \n",
    " *  Addtional Resource: https://victorfang.wordpress.com/2011/05/10/advantages-and-disadvantages-of-logistic-regression/\n",
    "\n",
    "\n",
    "#### No, the difference is not significant with 95% confidence.\n",
    "* Hypotheses\n",
    "\n",
    "    Ho: RF accuracy > KNN accuracy      \n",
    "    Hµ: RF accuracy = KNN accuracy   \n",
    "    \n",
    "        \n",
    "*  We manually run a two sided t-test to compare the highest and lowest accuracies for both the income and marital status targets. In the below block we see the p-value (alpha value at 0.05), highlighted in the pink, is less than 0.05. We can say that there is a statistically significant difference between the means of our two set of vaiables. So we reject the null hypotheses and there is no difference between Random Forest and KNN accuracies for both targets. \n",
    "\n",
    "\n",
    "\n"
   ]
  },
  {
   "cell_type": "code",
   "execution_count": 6,
   "metadata": {
    "collapsed": false
   },
   "outputs": [
    {
     "data": {
      "image/png": "[encoded data removed]",
      "text/plain": [
       "<IPython.core.display.Image object>"
      ]
     },
     "execution_count": 6,
     "metadata": {},
     "output_type": "execute_result"
    }
   ],
   "source": [
    "from IPython.display import Image\n",
    "Image(\"img/images/TTestIncome.jpg\")\n",
    "Image(\"img/images/TTestMaritalStatus.jpg\")"
   ]
  },
  {
   "cell_type": "markdown",
   "metadata": {},
   "source": [
    "## Bayes Naive Classification"
   ]
  },
  {
   "cell_type": "markdown",
   "metadata": {},
   "source": [
    "    The Section will work with the Bayes Naive classifiers and provide results based on F1Measure "
   ]
  },
  {
   "cell_type": "code",
   "execution_count": 51,
   "metadata": {
    "collapsed": true
   },
   "outputs": [],
   "source": [
    "# Train test and split\n",
    "\n",
    "X_train, X_test, y_train, y_test = train_test_split(\n",
    "     df_dummies_m, targetfinal, test_size=0.33, random_state=42)\n"
   ]
  },
  {
   "cell_type": "code",
   "execution_count": 52,
   "metadata": {
    "collapsed": false
   },
   "outputs": [
    {
     "name": "stdout",
     "output_type": "stream",
     "text": [
      "Number of mislabeled points out of a total 21815 points : 5190\n"
     ]
    }
   ],
   "source": [
    "from sklearn.naive_bayes import BernoulliNB\n",
    "gnb = BernoulliNB() \n",
    "#XG = df_dummies.values \n",
    "#YG =  np.asarray(targetfinal )\n",
    "gnb.fit(X_train,y_train)\n",
    "y_pred = gnb.predict(X_train)\n",
    "#y_pred = gnb.fit(incomecoded_x, income_y).predict(income_y)\n",
    "#print y_pred\n",
    "print(\"Number of mislabeled points out of a total %d points : %d\"     % (X_train.shape[0],(y_train!= y_pred).sum()))\n",
    " "
   ]
  },
  {
   "cell_type": "code",
   "execution_count": 53,
   "metadata": {
    "collapsed": false
   },
   "outputs": [
    {
     "data": {
      "text/plain": [
       "0.76209030483612195"
      ]
     },
     "execution_count": 53,
     "metadata": {},
     "output_type": "execute_result"
    }
   ],
   "source": [
    "from sklearn.metrics import confusion_matrix\n",
    "from sklearn.metrics import accuracy_score\n",
    "from sklearn.metrics import coverage_error\n",
    "confusion_matrix(y_train,y_pred)\n",
    "accuracy_score(y_train,y_pred)\n",
    "#coverage_error(y_train, y_pred)"
   ]
  },
  {
   "cell_type": "code",
   "execution_count": 54,
   "metadata": {
    "collapsed": false
   },
   "outputs": [
    {
     "name": "stderr",
     "output_type": "stream",
     "text": [
      "/Users/murali/anaconda/lib/python2.7/site-packages/sklearn/metrics/classification.py:976: DeprecationWarning:\n",
      "\n",
      "From version 0.18, binary input will not be handled specially when using averaged precision/recall/F-score. Please use average='binary' to report only the positive class performance.\n",
      "\n"
     ]
    },
    {
     "data": {
      "text/plain": [
       "0.61674789543642006"
      ]
     },
     "execution_count": 54,
     "metadata": {},
     "output_type": "execute_result"
    }
   ],
   "source": [
    "from sklearn.metrics import f1_score\n",
    "f1_score(y_train, y_pred, average='micro') "
   ]
  },
  {
   "cell_type": "code",
   "execution_count": 55,
   "metadata": {
    "collapsed": true
   },
   "outputs": [],
   "source": [
    "cm = confusion_matrix(y_train,y_pred)\n",
    "class_names = ['<50K','>=50K']"
   ]
  },
  {
   "cell_type": "code",
   "execution_count": 56,
   "metadata": {
    "collapsed": false
   },
   "outputs": [
    {
     "name": "stdout",
     "output_type": "stream",
     "text": [
      "Confusion matrix, without normalization\n",
      "[[12449  4075]\n",
      " [ 1115  4176]]\n",
      "Normalized confusion matrix\n",
      "[[ 0.75  0.25]\n",
      " [ 0.21  0.79]]\n"
     ]
    },
    {
     "data": {
      "image/png": "[encoded data removed]",
      "text/plain": [
       "<matplotlib.figure.Figure at 0x117e9afd0>"
      ]
     },
     "metadata": {},
     "output_type": "display_data"
    },
    {
     "data": {
      "image/png": "[encoded data removed]",
      "text/plain": [
       "<matplotlib.figure.Figure at 0x120d49110>"
      ]
     },
     "metadata": {},
     "output_type": "display_data"
    }
   ],
   "source": [
    "#Plot Confusion Matrix \n",
    "# Code from scikit-learn \n",
    "import itertools\n",
    "import numpy as np\n",
    "import matplotlib.pyplot as plt\n",
    "\n",
    "\n",
    "from sklearn.metrics import confusion_matrix\n",
    "\n",
    "def plot_confusion_matrix(cm, classes,\n",
    "                          normalize=False,\n",
    "                          title='Confusion matrix',\n",
    "                          cmap=plt.cm.Blues):\n",
    "    \"\"\"\n",
    "    This function prints and plots the confusion matrix.\n",
    "    Normalization can be applied by setting `normalize=True`.\n",
    "    \"\"\"\n",
    "    plt.imshow(cm, interpolation='nearest', cmap=cmap)\n",
    "    plt.title(title)\n",
    "    plt.colorbar()\n",
    "    tick_marks = np.arange(len(classes))\n",
    "    plt.xticks(tick_marks, classes, rotation=45)\n",
    "    plt.yticks(tick_marks, classes)\n",
    "\n",
    "    if normalize:\n",
    "        cm = cm.astype('float') / cm.sum(axis=1)[:, np.newaxis]\n",
    "        print(\"Normalized confusion matrix\")\n",
    "    else:\n",
    "        print('Confusion matrix, without normalization')\n",
    "\n",
    "    print(cm)\n",
    "\n",
    "    thresh = cm.max() / 2.\n",
    "    for i, j in itertools.product(range(cm.shape[0]), range(cm.shape[1])):\n",
    "        plt.text(j, i, cm[i, j],\n",
    "                 horizontalalignment=\"center\",\n",
    "                 color=\"white\" if cm[i, j] > thresh else \"black\")\n",
    "\n",
    "    plt.tight_layout()\n",
    "    plt.ylabel('True label')\n",
    "    plt.xlabel('Predicted label')\n",
    "\n",
    "# Compute confusion matrix\n",
    "#cnf_matrix = confusion_matrix(y_test, y_pred)\n",
    "np.set_printoptions(precision=2)\n",
    "\n",
    "# Plot non-normalized confusion matrix\n",
    "plt.figure()\n",
    "plot_confusion_matrix(cm, classes=class_names,\n",
    "                      title='Confusion matrix, without normalization')\n",
    "\n",
    "# Plot normalized confusion matrix\n",
    "plt.figure()\n",
    "plot_confusion_matrix(cm, classes=class_names, normalize=True,\n",
    "                      title='Normalized confusion matrix')\n",
    "\n",
    "plt.show()"
   ]
  },
  {
   "cell_type": "markdown",
   "metadata": {},
   "source": [
    "Multinomial Classifier"
   ]
  },
  {
   "cell_type": "code",
   "execution_count": 57,
   "metadata": {
    "collapsed": false
   },
   "outputs": [
    {
     "name": "stdout",
     "output_type": "stream",
     "text": [
      "Number of mislabeled points out of a total 21815 points : 4858\n"
     ]
    }
   ],
   "source": [
    "from sklearn.naive_bayes import MultinomialNB\n",
    "mb = MultinomialNB()\n",
    "mb.fit(X_train,y_train)\n",
    "y_pred = mb.predict(X_train)\n",
    "\n",
    "print(\"Number of mislabeled points out of a total %d points : %d\"     % (X_train.shape[0],(y_train!= y_pred).sum()))\n",
    " \n"
   ]
  },
  {
   "cell_type": "code",
   "execution_count": 58,
   "metadata": {
    "collapsed": false
   },
   "outputs": [
    {
     "data": {
      "text/plain": [
       "0.77730919092367634"
      ]
     },
     "execution_count": 58,
     "metadata": {},
     "output_type": "execute_result"
    }
   ],
   "source": [
    " \n",
    "accuracy_score(y_train,y_pred)"
   ]
  },
  {
   "cell_type": "code",
   "execution_count": 59,
   "metadata": {
    "collapsed": true
   },
   "outputs": [],
   "source": [
    "cm = confusion_matrix(y_train,y_pred)"
   ]
  },
  {
   "cell_type": "code",
   "execution_count": 60,
   "metadata": {
    "collapsed": false
   },
   "outputs": [
    {
     "name": "stdout",
     "output_type": "stream",
     "text": [
      "Confusion matrix, without normalization\n",
      "[[15836   688]\n",
      " [ 4170  1121]]\n",
      "Normalized confusion matrix\n",
      "[[ 0.96  0.04]\n",
      " [ 0.79  0.21]]\n"
     ]
    },
    {
     "data": {
      "image/png": "[encoded data removed]",
      "text/plain": [
       "<matplotlib.figure.Figure at 0x120ba9850>"
      ]
     },
     "metadata": {},
     "output_type": "display_data"
    },
    {
     "data": {
      "image/png": "[encoded data removed]",
      "text/plain": [
       "<matplotlib.figure.Figure at 0x120ba93d0>"
      ]
     },
     "metadata": {},
     "output_type": "display_data"
    }
   ],
   "source": [
    "plot_confusion_matrix(cm, classes=class_names,\n",
    "                      title='Confusion matrix, without normalization')\n",
    "\n",
    "# Plot normalized confusion matrix\n",
    "plt.figure()\n",
    "plot_confusion_matrix(cm, classes=class_names, normalize=True,\n",
    "                      title='Normalized confusion matrix')\n",
    "\n",
    "plt.show()"
   ]
  },
  {
   "cell_type": "markdown",
   "metadata": {},
   "source": [
    "<h3> Decision Classifiers </h3>"
   ]
  },
  {
   "cell_type": "code",
   "execution_count": 62,
   "metadata": {
    "collapsed": false
   },
   "outputs": [
    {
     "data": {
      "image/png": "[encoded data removed]",
      "text/plain": [
       "<matplotlib.figure.Figure at 0x11b79be90>"
      ]
     },
     "metadata": {},
     "output_type": "display_data"
    }
   ],
   "source": [
    "# Multi Class ADA Boosting \n",
    "# Review the Number of Trees \n",
    "# Code from scikit Learn\n",
    "from sklearn.datasets import make_gaussian_quantiles\n",
    "from sklearn.ensemble import AdaBoostClassifier\n",
    "from sklearn.metrics import accuracy_score\n",
    "from sklearn.tree import DecisionTreeClassifier\n",
    "\n",
    "X = df_dummies\n",
    "Y = targetfinal\n",
    "n_split = 6000\n",
    "\n",
    "X_train, X_test = X[:n_split], X[n_split:]\n",
    "y_train, y_test = y[:n_split], y[n_split:]\n",
    "\n",
    "bdt_real = AdaBoostClassifier(\n",
    "    DecisionTreeClassifier(max_depth=2),\n",
    "    n_estimators=600,\n",
    "    learning_rate=1)\n",
    "\n",
    "bdt_discrete = AdaBoostClassifier(\n",
    "    DecisionTreeClassifier(max_depth=2),\n",
    "    n_estimators=600,\n",
    "    learning_rate=1.5,\n",
    "    algorithm=\"SAMME\")\n",
    "\n",
    "bdt_real.fit(X_train, y_train)\n",
    "bdt_discrete.fit(X_train, y_train)\n",
    "\n",
    "real_test_errors = []\n",
    "discrete_test_errors = []\n",
    "\n",
    "for real_test_predict, discrete_train_predict in zip(\n",
    "        bdt_real.staged_predict(X_test), bdt_discrete.staged_predict(X_test)):\n",
    "    real_test_errors.append(\n",
    "        1. - accuracy_score(real_test_predict, y_test))\n",
    "    discrete_test_errors.append(\n",
    "        1. - accuracy_score(discrete_train_predict, y_test))\n",
    "\n",
    "n_trees_discrete = len(bdt_discrete)\n",
    "n_trees_real = len(bdt_real)\n",
    "\n",
    "# Boosting might terminate early, but the following arrays are always\n",
    "# n_estimators long. We crop them to the actual number of trees here:\n",
    "discrete_estimator_errors = bdt_discrete.estimator_errors_[:n_trees_discrete]\n",
    "real_estimator_errors = bdt_real.estimator_errors_[:n_trees_real]\n",
    "discrete_estimator_weights = bdt_discrete.estimator_weights_[:n_trees_discrete]\n",
    "\n",
    "plt.figure(figsize=(15, 5))\n",
    "\n",
    "plt.subplot(131)\n",
    "plt.plot(range(1, n_trees_discrete + 1),\n",
    "         discrete_test_errors, c='black', label='SAMME')\n",
    "plt.plot(range(1, n_trees_real + 1),\n",
    "         real_test_errors, c='black',\n",
    "         linestyle='dashed', label='SAMME.R')\n",
    "plt.legend()\n",
    "plt.ylim(0.18, 0.62)\n",
    "plt.ylabel('Test Error')\n",
    "plt.xlabel('Number of Trees')\n",
    "\n",
    "plt.subplot(132)\n",
    "plt.plot(range(1, n_trees_discrete + 1), discrete_estimator_errors,\n",
    "         \"b\", label='SAMME', alpha=.5)\n",
    "plt.plot(range(1, n_trees_real + 1), real_estimator_errors,\n",
    "         \"r\", label='SAMME.R', alpha=.5)\n",
    "plt.legend()\n",
    "plt.ylabel('Error')\n",
    "plt.xlabel('Number of Trees')\n",
    "plt.ylim((.2,\n",
    "         max(real_estimator_errors.max(),\n",
    "             discrete_estimator_errors.max()) * 1.2))\n",
    "plt.xlim((-20, len(bdt_discrete) + 20))\n",
    "\n",
    "plt.subplot(133)\n",
    "plt.plot(range(1, n_trees_discrete + 1), discrete_estimator_weights,\n",
    "         \"b\", label='SAMME')\n",
    "plt.legend()\n",
    "plt.ylabel('Weight')\n",
    "plt.xlabel('Number of Trees')\n",
    "plt.ylim((0, discrete_estimator_weights.max() * 1.2))\n",
    "plt.xlim((-20, n_trees_discrete + 20))\n",
    "\n",
    "# prevent overlapping y-axis labels\n",
    "plt.subplots_adjust(wspace=0.25)\n",
    "plt.show()"
   ]
  },
  {
   "cell_type": "markdown",
   "metadata": {},
   "source": [
    "<font color='red'> !!! above jpeg not showing up. can one of you run it !!!</font> "
   ]
  },
  {
   "cell_type": "markdown",
   "metadata": {},
   "source": [
    "### • [10 points] Which attributes from your analysis are most important? \n",
    "Use proper methods discussed in class to evaluate the importance of different attributes. Discuss\n",
    "the results and hypothesize about why certain attributes are more important than others\n",
    "for a given classification task.  "
   ]
  },
  {
   "cell_type": "markdown",
   "metadata": {},
   "source": [
    "In order to understand the attributes which are most important we have to perform a Feature selection \n",
    "\n",
    "Feature selction is a process which selects the features most important to the classification.\n",
    "\n",
    "Feature selection helps in \n",
    "Reducing Overfitting\n",
    "Accuracy is improved \n",
    "Reduces Training time \n",
    "Reduces Training Time: Less data means that algorithms train faster.\n",
    "\n",
    "There are two options for feature selection \n",
    "Recursive Feature Elimination and feature importance ranking.\n",
    "\n",
    "Both the processes were applied on the data\n",
    "\n",
    "The recursive Feature elimination has some issues is being worked on "
   ]
  },
  {
   "cell_type": "code",
   "execution_count": 63,
   "metadata": {
    "collapsed": false
   },
   "outputs": [
    {
     "name": "stdout",
     "output_type": "stream",
     "text": [
      "(10, 107)\n",
      "(10, 22)\n"
     ]
    }
   ],
   "source": [
    "# Reference code taken from Scikit-learn\n",
    "from sklearn.ensemble import ExtraTreesClassifier\n",
    "from sklearn.datasets import load_iris\n",
    "from sklearn.feature_selection import SelectFromModel\n",
    "#iris = load_iris()\n",
    "X = X_train.head(n=10)\n",
    "X, y = X.as_matrix(), y_train[:10]\n",
    "X.shape\n",
    " \n",
    "print (X.shape)\n",
    "clf = ExtraTreesClassifier()\n",
    "clf = clf.fit(X, y)\n",
    "clf.feature_importances_  \n",
    "#array([ 0.04...,  0.05...,  0.4...,  0.4...])\n",
    "model = SelectFromModel(clf, prefit=True)\n",
    "X_new = model.transform(X)\n",
    "X_new.shape \n",
    "print (X_new.shape)\n",
    "            \n",
    " "
   ]
  },
  {
   "cell_type": "markdown",
   "metadata": {},
   "source": [
    "The Selection Model indicates only 22 attributes are relevant . What are they needs to be determined "
   ]
  },
  {
   "cell_type": "markdown",
   "metadata": {},
   "source": [
    "Recursive Selection Model"
   ]
  },
  {
   "cell_type": "code",
   "execution_count": 64,
   "metadata": {
    "collapsed": false
   },
   "outputs": [
    {
     "ename": "ValueError",
     "evalue": "total size of new array must be unchanged",
     "output_type": "error",
     "traceback": [
      "\u001b[0;31m---------------------------------------------------------------------------\u001b[0m",
      "\u001b[0;31mValueError\u001b[0m                                Traceback (most recent call last)",
      "\u001b[0;32m<ipython-input-64-fd29983ceb70>\u001b[0m in \u001b[0;36m<module>\u001b[0;34m()\u001b[0m\n\u001b[1;32m     17\u001b[0m \u001b[0mrfe\u001b[0m\u001b[0;34m.\u001b[0m\u001b[0mfit\u001b[0m\u001b[0;34m(\u001b[0m\u001b[0mX\u001b[0m\u001b[0;34m,\u001b[0m \u001b[0my\u001b[0m\u001b[0;34m)\u001b[0m\u001b[0;34m\u001b[0m\u001b[0m\n\u001b[1;32m     18\u001b[0m \u001b[0;34m\u001b[0m\u001b[0m\n\u001b[0;32m---> 19\u001b[0;31m \u001b[0mranking\u001b[0m \u001b[0;34m=\u001b[0m \u001b[0mrfe\u001b[0m\u001b[0;34m.\u001b[0m\u001b[0mranking_\u001b[0m\u001b[0;34m.\u001b[0m\u001b[0mreshape\u001b[0m\u001b[0;34m(\u001b[0m\u001b[0;36m1\u001b[0m\u001b[0;34m,\u001b[0m\u001b[0mlen\u001b[0m\u001b[0;34m(\u001b[0m\u001b[0mX\u001b[0m\u001b[0;34m)\u001b[0m\u001b[0;34m)\u001b[0m\u001b[0;34m\u001b[0m\u001b[0m\n\u001b[0m\u001b[1;32m     20\u001b[0m \u001b[0;31m# Plot pixel ranking\u001b[0m\u001b[0;34m\u001b[0m\u001b[0;34m\u001b[0m\u001b[0m\n\u001b[1;32m     21\u001b[0m \u001b[0mplt\u001b[0m\u001b[0;34m.\u001b[0m\u001b[0mmatshow\u001b[0m\u001b[0;34m(\u001b[0m\u001b[0mranking\u001b[0m\u001b[0;34m,\u001b[0m \u001b[0mcmap\u001b[0m\u001b[0;34m=\u001b[0m\u001b[0mplt\u001b[0m\u001b[0;34m.\u001b[0m\u001b[0mcm\u001b[0m\u001b[0;34m.\u001b[0m\u001b[0mBlues\u001b[0m\u001b[0;34m)\u001b[0m\u001b[0;34m\u001b[0m\u001b[0m\n",
      "\u001b[0;31mValueError\u001b[0m: total size of new array must be unchanged"
     ]
    }
   ],
   "source": [
    "# Refeence code from scikit-learn\n",
    "from sklearn.svm import SVC\n",
    " \n",
    "from sklearn.feature_selection import RFE\n",
    "import matplotlib.pyplot as plt\n",
    "\n",
    " \n",
    "\n",
    "X =  X_train.head(n=10)\n",
    "#X = X.as_matrix().reshape((len(X)),-1)\n",
    "X = X.as_matrix()\n",
    "y =  y_train[:10]\n",
    "X = X.reshape(len(X),-1)\n",
    "# Create the RFE object and rank each pixel\n",
    "svc = SVC(kernel=\"linear\", C=1)\n",
    "rfe = RFE(estimator=svc, n_features_to_select=1, step=1)\n",
    "rfe.fit(X, y)\n",
    " \n",
    "ranking = rfe.ranking_.reshape(1,len(X))\n",
    "# Plot pixel ranking\n",
    "plt.matshow(ranking, cmap=plt.cm.Blues)\n",
    "plt.colorbar()\n",
    "plt.title(\"Ranking of Income attributes with RFE\")\n",
    "plt.show()"
   ]
  },
  {
   "cell_type": "markdown",
   "metadata": {},
   "source": [
    "## • Deployment (5 points total)  \n",
    "### • [5 points] How useful is your model for interested parties \n",
    "\n",
    "<font color='blue'>\n",
    "\n",
    "(i.e., the companies or organizations that might want to use it for prediction)? How would you measure the\n",
    "model's value if it was used by these parties? How would your deploy your model for\n",
    "interested parties? What other data should be collected? How often would the model\n",
    "need to be updated, etc.?\n",
    "\n",
    "</font>"
   ]
  },
  {
   "cell_type": "markdown",
   "metadata": {},
   "source": [
    "Organizations that may be interested in our model include economists, social scientists, and legislators.  Economists will be interested in seeing what factors contribute to an individual's general income level so that they can better understand modern economical factors that affect the population (in our case US workers).  Social scientists will be interested in seeing what factors contribute to a person's marital status so that they can better understand how the economic health of a family affects the health of the marriage.  Finally, legislators and other government officials will be interested in both of these effects so that they can draft legislation to support individual welfare for their citizens and the economic health of their country as a whole.  \n",
    "  \n",
    "We would measure the model's value for these parties by how accurately it is able to predict both of its classifications.  This is because the more accurately it predicts the class of individuals in the model the more useful any action taken by the legislators and other interested parties can be expected to be.  For example, if the classification is only 20% predictive of an individuals economic or marital health, then an economist or social scientist lecturer will not be likely to include the model in their class materials.  However, if that classification is 95% accurate in predicting the class then not only will these scientists be wise to teach concepts based on the model results but that model can be used reliably in their future research.  Likewise, if a legislator drafts a new law based upon results of the model and the model is inaccurate then that law will be ineffective at combating the effects that they thought were real but were really just based on modeling error.  \n",
    "  \n",
    "For economists and social scientists we would deploy this model by sharing both the results of our model and the code that produced those results, which will allow them to perform similar classification on other populations of interest to their studies and research.  For legislators we would instead show them only the results but not the code (which they would not be trained to understand) in order to provide a proof of concept.  After obtaining funding from those legislators we would then move forward with deploying this model against Census data for their country, which would not only help train the model to that country's specific situation but would provide historical insight into the situations the country's citizens have recently found themselves in.  Finally, we would prepare the code such that when new Census data was received one could quickly feed that data into the model and receive actionable insights tailored specifically to that country's situation.  \n",
    "  \n",
    "The other data that would be collected for this model include historical Census data specific to the country for which we are applying the model (as the existing data is restricted to a population of US individuals), as well as future Census data that would be collected after the initial model had already been built.  In this situation the model would need to be updated every Census cycle as new data is collected, which for the US would be every 10 years.  If the customer for the model is an economist or social scientist that is unaffiliated with any government entity but is interested in doing their own research, then the additional data needed will be survey data from the population of interest for their research.  In this situation the model will need to be updated anytime new survey data is collected.  "
   ]
  },
  {
   "cell_type": "markdown",
   "metadata": {},
   "source": [
    "## • Exceptional Work (10 points total)\n",
    "### • You have free reign to provide additional modeling.  SVM maybe\n",
    "### • One idea: grid search parameters in a parallelized fashion and visualize the performances across attributes.  \n",
    "Which parameters are most significant for making a good model for each classification algorithm? research\n",
    "\n",
    "## <font color='red'> grid search  http://scikit-learn.org/dev/modules/grid_search.html#grid-search  </font>\n",
    "## <font color='red'> maybe we can research why not pass others instead of penalties and cvalues </font>"
   ]
  },
  {
   "cell_type": "markdown",
   "metadata": {
    "collapsed": true
   },
   "source": [
    "# 4th Model: SVM Classification on Income target:\n",
    "We fit the data in an SVM classification and test that classifier with three C Values for each of three different kernel options to find out what settings we should tune for to see the very highest accuracy."
   ]
  },
  {
   "cell_type": "code",
   "execution_count": null,
   "metadata": {
    "collapsed": false
   },
   "outputs": [],
   "source": [
    "# This code section was built referencing the section 04 notebook from class materials.\n",
    "\n",
    "# This code builds an SVM classifier, and runs looks to test that classifier with three C Values for\n",
    "# each of three different kernel options to find out what settings we should tune for to see the very highest accuracy.\n",
    "\n",
    "kernels = ['linear', 'poly', 'rbf']\n",
    "CValues = [0.25,0.5,0.75]\n",
    "\n",
    "for kernel in kernels:\n",
    "    for CValue in CValues:\n",
    "        clf = SVC(C=CValue, kernel=kernel, degree=3, gamma='auto') \n",
    "        for train, test in cv:\n",
    "            clf.fit(X.iloc[train], y[train]) \n",
    "            y_hat[test] = clf.predict(X.iloc[test])\n",
    "        total_accuracy = mt.accuracy_score(y, y_hat)\n",
    "        print('For the SVM kernel ', kernel, \" and the C Value of \", CValue, \" the accuracy obtained is: \", total_accuracy )"
   ]
  },
  {
   "cell_type": "code",
   "execution_count": 11,
   "metadata": {
    "collapsed": false
   },
   "outputs": [
    {
     "ename": "KeyboardInterrupt",
     "evalue": "",
     "output_type": "error",
     "traceback": [
      "\u001b[1;31m---------------------------------------------------------------------------\u001b[0m",
      "\u001b[1;31mKeyboardInterrupt\u001b[0m                         Traceback (most recent call last)",
      "\u001b[1;32m<ipython-input-11-6125969b67b8>\u001b[0m in \u001b[0;36m<module>\u001b[1;34m()\u001b[0m\n\u001b[0;32m      1\u001b[0m \u001b[0mclf\u001b[0m \u001b[1;33m=\u001b[0m \u001b[0mSVC\u001b[0m\u001b[1;33m(\u001b[0m\u001b[0mC\u001b[0m\u001b[1;33m=\u001b[0m\u001b[1;36m0.5\u001b[0m\u001b[1;33m,\u001b[0m \u001b[0mkernel\u001b[0m\u001b[1;33m=\u001b[0m\u001b[1;34m'rbf'\u001b[0m\u001b[1;33m,\u001b[0m \u001b[0mdegree\u001b[0m\u001b[1;33m=\u001b[0m\u001b[1;36m3\u001b[0m\u001b[1;33m,\u001b[0m \u001b[0mgamma\u001b[0m\u001b[1;33m=\u001b[0m\u001b[1;34m'auto'\u001b[0m\u001b[1;33m)\u001b[0m\u001b[1;33m\u001b[0m\u001b[0m\n\u001b[0;32m      2\u001b[0m \u001b[1;32mfor\u001b[0m \u001b[0mtrain\u001b[0m\u001b[1;33m,\u001b[0m \u001b[0mtest\u001b[0m \u001b[1;32min\u001b[0m \u001b[0mcv\u001b[0m\u001b[1;33m:\u001b[0m\u001b[1;33m\u001b[0m\u001b[0m\n\u001b[1;32m----> 3\u001b[1;33m     \u001b[0mclf\u001b[0m\u001b[1;33m.\u001b[0m\u001b[0mfit\u001b[0m\u001b[1;33m(\u001b[0m\u001b[0mX\u001b[0m\u001b[1;33m.\u001b[0m\u001b[0miloc\u001b[0m\u001b[1;33m[\u001b[0m\u001b[0mtrain\u001b[0m\u001b[1;33m]\u001b[0m\u001b[1;33m,\u001b[0m \u001b[0my\u001b[0m\u001b[1;33m[\u001b[0m\u001b[0mtrain\u001b[0m\u001b[1;33m]\u001b[0m\u001b[1;33m)\u001b[0m\u001b[1;33m\u001b[0m\u001b[0m\n\u001b[0m\u001b[0;32m      4\u001b[0m     \u001b[0my_hat\u001b[0m\u001b[1;33m[\u001b[0m\u001b[0mtest\u001b[0m\u001b[1;33m]\u001b[0m \u001b[1;33m=\u001b[0m \u001b[0mclf\u001b[0m\u001b[1;33m.\u001b[0m\u001b[0mpredict\u001b[0m\u001b[1;33m(\u001b[0m\u001b[0mX\u001b[0m\u001b[1;33m.\u001b[0m\u001b[0miloc\u001b[0m\u001b[1;33m[\u001b[0m\u001b[0mtest\u001b[0m\u001b[1;33m]\u001b[0m\u001b[1;33m)\u001b[0m\u001b[1;33m\u001b[0m\u001b[0m\n\u001b[0;32m      5\u001b[0m \u001b[1;33m\u001b[0m\u001b[0m\n",
      "\u001b[1;32mC:\\Users\\Bear\\Anaconda3\\lib\\site-packages\\sklearn\\svm\\base.py\u001b[0m in \u001b[0;36mfit\u001b[1;34m(self, X, y, sample_weight)\u001b[0m\n\u001b[0;32m    191\u001b[0m \u001b[1;33m\u001b[0m\u001b[0m\n\u001b[0;32m    192\u001b[0m         \u001b[0mseed\u001b[0m \u001b[1;33m=\u001b[0m \u001b[0mrnd\u001b[0m\u001b[1;33m.\u001b[0m\u001b[0mrandint\u001b[0m\u001b[1;33m(\u001b[0m\u001b[0mnp\u001b[0m\u001b[1;33m.\u001b[0m\u001b[0miinfo\u001b[0m\u001b[1;33m(\u001b[0m\u001b[1;34m'i'\u001b[0m\u001b[1;33m)\u001b[0m\u001b[1;33m.\u001b[0m\u001b[0mmax\u001b[0m\u001b[1;33m)\u001b[0m\u001b[1;33m\u001b[0m\u001b[0m\n\u001b[1;32m--> 193\u001b[1;33m         \u001b[0mfit\u001b[0m\u001b[1;33m(\u001b[0m\u001b[0mX\u001b[0m\u001b[1;33m,\u001b[0m \u001b[0my\u001b[0m\u001b[1;33m,\u001b[0m \u001b[0msample_weight\u001b[0m\u001b[1;33m,\u001b[0m \u001b[0msolver_type\u001b[0m\u001b[1;33m,\u001b[0m \u001b[0mkernel\u001b[0m\u001b[1;33m,\u001b[0m \u001b[0mrandom_seed\u001b[0m\u001b[1;33m=\u001b[0m\u001b[0mseed\u001b[0m\u001b[1;33m)\u001b[0m\u001b[1;33m\u001b[0m\u001b[0m\n\u001b[0m\u001b[0;32m    194\u001b[0m         \u001b[1;31m# see comment on the other call to np.iinfo in this file\u001b[0m\u001b[1;33m\u001b[0m\u001b[1;33m\u001b[0m\u001b[0m\n\u001b[0;32m    195\u001b[0m \u001b[1;33m\u001b[0m\u001b[0m\n",
      "\u001b[1;32mC:\\Users\\Bear\\Anaconda3\\lib\\site-packages\\sklearn\\svm\\base.py\u001b[0m in \u001b[0;36m_dense_fit\u001b[1;34m(self, X, y, sample_weight, solver_type, kernel, random_seed)\u001b[0m\n\u001b[0;32m    249\u001b[0m                 \u001b[0mcache_size\u001b[0m\u001b[1;33m=\u001b[0m\u001b[0mself\u001b[0m\u001b[1;33m.\u001b[0m\u001b[0mcache_size\u001b[0m\u001b[1;33m,\u001b[0m \u001b[0mcoef0\u001b[0m\u001b[1;33m=\u001b[0m\u001b[0mself\u001b[0m\u001b[1;33m.\u001b[0m\u001b[0mcoef0\u001b[0m\u001b[1;33m,\u001b[0m\u001b[1;33m\u001b[0m\u001b[0m\n\u001b[0;32m    250\u001b[0m                 \u001b[0mgamma\u001b[0m\u001b[1;33m=\u001b[0m\u001b[0mself\u001b[0m\u001b[1;33m.\u001b[0m\u001b[0m_gamma\u001b[0m\u001b[1;33m,\u001b[0m \u001b[0mepsilon\u001b[0m\u001b[1;33m=\u001b[0m\u001b[0mself\u001b[0m\u001b[1;33m.\u001b[0m\u001b[0mepsilon\u001b[0m\u001b[1;33m,\u001b[0m\u001b[1;33m\u001b[0m\u001b[0m\n\u001b[1;32m--> 251\u001b[1;33m                 max_iter=self.max_iter, random_seed=random_seed)\n\u001b[0m\u001b[0;32m    252\u001b[0m \u001b[1;33m\u001b[0m\u001b[0m\n\u001b[0;32m    253\u001b[0m         \u001b[0mself\u001b[0m\u001b[1;33m.\u001b[0m\u001b[0m_warn_from_fit_status\u001b[0m\u001b[1;33m(\u001b[0m\u001b[1;33m)\u001b[0m\u001b[1;33m\u001b[0m\u001b[0m\n",
      "\u001b[1;31mKeyboardInterrupt\u001b[0m: "
     ]
    }
   ],
   "source": [
    "# This code is for testing the SVM classifier, which seems to have a harder time running on my equipment compared\n",
    "# to the other classifiers\n",
    "\n",
    "clf = SVC(C=0.5, kernel='rbf', degree=3, gamma='auto')\n",
    "for train, test in cv:\n",
    "    clf.fit(X.iloc[train], y[train]) \n",
    "    y_hat[test] = clf.predict(X.iloc[test])\n",
    "    \n",
    "total_acuracy = mt.accuracy_score(y, y_hat)\n",
    "print('accuracy', total_accuracy)"
   ]
  },
  {
   "cell_type": "markdown",
   "metadata": {},
   "source": [
    "### Results:"
   ]
  },
  {
   "cell_type": "markdown",
   "metadata": {},
   "source": [
    "# 4th Model: SVM Classification on Marital Status target:"
   ]
  },
  {
   "cell_type": "code",
   "execution_count": null,
   "metadata": {
    "collapsed": true
   },
   "outputs": [],
   "source": [
    "# This code section was built referencing the section 04 notebook from class materials.\n",
    "\n",
    "# This code repeats the previous SVM classification task, only this time it will give us the accuracy of the \n",
    "# classification for the marital status target variable because we have changed our X and y variables.\n",
    "\n",
    "kernels = ['linear', 'poly', 'rbf']\n",
    "CValues = [0.25,0.5,0.75]\n",
    "\n",
    "for kernel in kernels:\n",
    "    for CValue in CValues:\n",
    "        clf = SVC(C=CValue, kernel=kernel, degree=3, gamma='auto') \n",
    "        for train, test in cv:\n",
    "            clf.fit(X.iloc[train], y[train]) \n",
    "            y_hat[test] = clf.predict(X.iloc[test])\n",
    "        total_accuracy = mt.accuracy_score(y, y_hat)\n",
    "        print('For the SVM kernel ', kernel, \" and the C Value of \", CValue, \" the accuracy obtained is: \", total_accuracy )"
   ]
  },
  {
   "cell_type": "markdown",
   "metadata": {},
   "source": [
    "### Results:  \n"
   ]
  },
  {
   "cell_type": "markdown",
   "metadata": {},
   "source": [
    "# <font color='red'> **Appendix**  </font> "
   ]
  },
  {
   "cell_type": "markdown",
   "metadata": {},
   "source": [
    "# All Beware the Graveyard of Unused Code!"
   ]
  },
  {
   "cell_type": "code",
   "execution_count": 11,
   "metadata": {
    "collapsed": false
   },
   "outputs": [
    {
     "data": {
      "text/html": [
       "<div>\n",
       "<table border=\"1\" class=\"dataframe\">\n",
       "  <thead>\n",
       "    <tr style=\"text-align: right;\">\n",
       "      <th></th>\n",
       "      <th>age</th>\n",
       "      <th>workclass</th>\n",
       "      <th>education</th>\n",
       "      <th>education-num</th>\n",
       "      <th>marital-status</th>\n",
       "      <th>occupation</th>\n",
       "      <th>relationship</th>\n",
       "      <th>race</th>\n",
       "      <th>sex</th>\n",
       "      <th>capital-gain</th>\n",
       "      <th>capital-loss</th>\n",
       "      <th>hours-per-week</th>\n",
       "      <th>native-country</th>\n",
       "      <th>income</th>\n",
       "    </tr>\n",
       "  </thead>\n",
       "  <tbody>\n",
       "    <tr>\n",
       "      <th>0</th>\n",
       "      <td>39</td>\n",
       "      <td>7</td>\n",
       "      <td>9</td>\n",
       "      <td>13</td>\n",
       "      <td>4</td>\n",
       "      <td>1</td>\n",
       "      <td>1</td>\n",
       "      <td>4</td>\n",
       "      <td>1</td>\n",
       "      <td>2.174022</td>\n",
       "      <td>0</td>\n",
       "      <td>40</td>\n",
       "      <td>39</td>\n",
       "      <td>0</td>\n",
       "    </tr>\n",
       "    <tr>\n",
       "      <th>1</th>\n",
       "      <td>50</td>\n",
       "      <td>6</td>\n",
       "      <td>9</td>\n",
       "      <td>13</td>\n",
       "      <td>2</td>\n",
       "      <td>4</td>\n",
       "      <td>0</td>\n",
       "      <td>4</td>\n",
       "      <td>1</td>\n",
       "      <td>0.000000</td>\n",
       "      <td>0</td>\n",
       "      <td>13</td>\n",
       "      <td>39</td>\n",
       "      <td>0</td>\n",
       "    </tr>\n",
       "    <tr>\n",
       "      <th>2</th>\n",
       "      <td>38</td>\n",
       "      <td>4</td>\n",
       "      <td>11</td>\n",
       "      <td>9</td>\n",
       "      <td>0</td>\n",
       "      <td>6</td>\n",
       "      <td>1</td>\n",
       "      <td>4</td>\n",
       "      <td>1</td>\n",
       "      <td>0.000000</td>\n",
       "      <td>0</td>\n",
       "      <td>40</td>\n",
       "      <td>39</td>\n",
       "      <td>0</td>\n",
       "    </tr>\n",
       "    <tr>\n",
       "      <th>3</th>\n",
       "      <td>53</td>\n",
       "      <td>4</td>\n",
       "      <td>1</td>\n",
       "      <td>7</td>\n",
       "      <td>2</td>\n",
       "      <td>6</td>\n",
       "      <td>0</td>\n",
       "      <td>2</td>\n",
       "      <td>1</td>\n",
       "      <td>0.000000</td>\n",
       "      <td>0</td>\n",
       "      <td>40</td>\n",
       "      <td>39</td>\n",
       "      <td>0</td>\n",
       "    </tr>\n",
       "    <tr>\n",
       "      <th>4</th>\n",
       "      <td>28</td>\n",
       "      <td>4</td>\n",
       "      <td>9</td>\n",
       "      <td>13</td>\n",
       "      <td>2</td>\n",
       "      <td>10</td>\n",
       "      <td>5</td>\n",
       "      <td>2</td>\n",
       "      <td>0</td>\n",
       "      <td>0.000000</td>\n",
       "      <td>0</td>\n",
       "      <td>40</td>\n",
       "      <td>5</td>\n",
       "      <td>0</td>\n",
       "    </tr>\n",
       "  </tbody>\n",
       "</table>\n",
       "</div>"
      ],
      "text/plain": [
       "   age  workclass  education  education-num  marital-status  occupation  \\\n",
       "0   39          7          9             13               4           1   \n",
       "1   50          6          9             13               2           4   \n",
       "2   38          4         11              9               0           6   \n",
       "3   53          4          1              7               2           6   \n",
       "4   28          4          9             13               2          10   \n",
       "\n",
       "   relationship  race  sex  capital-gain  capital-loss  hours-per-week  \\\n",
       "0             1     4    1      2.174022             0              40   \n",
       "1             0     4    1      0.000000             0              13   \n",
       "2             1     4    1      0.000000             0              40   \n",
       "3             0     2    1      0.000000             0              40   \n",
       "4             5     2    0      0.000000             0              40   \n",
       "\n",
       "   native-country  income  \n",
       "0              39       0  \n",
       "1              39       0  \n",
       "2              39       0  \n",
       "3              39       0  \n",
       "4               5       0  "
      ]
     },
     "execution_count": 11,
     "metadata": {},
     "output_type": "execute_result"
    }
   ],
   "source": [
    "# We did not end up using the code below as using a label encoder was inferior to creating a one-hot encoding because the \n",
    "# labelencoder assumes some positional relationship between values in our categorical variables, such as 2 being greater than 1 \n",
    "# when 2 really just represents \"divorced\" and 1 represents \"single\" or something.  As such we banished the label encoder to the \n",
    "# spooky graveyard of unused code.\n",
    "\n",
    "# This code turns all of our string entries into integer entries for the purposes of feeding them into the SVM.\n",
    "# The code in this section is based upon examples found at scikit-learn.org/stable/modules/preprocessing.html#label-encoding\n",
    "\n",
    "from sklearn import preprocessing\n",
    "encoder = preprocessing.LabelEncoder()\n",
    "df_income['workclass'] = encoder.fit_transform(df_income['workclass'])\n",
    "df_income['native-country'] = encoder.fit_transform(df_income['native-country'])\n",
    "df_income['education'] = encoder.fit_transform(df_income['education'])\n",
    "df_income['marital-status'] = encoder.fit_transform(df_income['marital-status'])\n",
    "df_income['occupation'] = encoder.fit_transform(df_income['occupation'])\n",
    "df_income['relationship'] = encoder.fit_transform(df_income['relationship'])\n",
    "df_income['race'] = encoder.fit_transform(df_income['race'])\n",
    "df_income['sex'] = encoder.fit_transform(df_income['sex'])\n",
    "\n",
    "df_income.head()"
   ]
  },
  {
   "cell_type": "code",
   "execution_count": null,
   "metadata": {
    "collapsed": true
   },
   "outputs": [],
   "source": []
  },
  {
   "cell_type": "code",
   "execution_count": null,
   "metadata": {
    "collapsed": true
   },
   "outputs": [],
   "source": []
  },
  {
   "cell_type": "code",
   "execution_count": null,
   "metadata": {
    "collapsed": true
   },
   "outputs": [],
   "source": []
  }
 ],
 "metadata": {
  "anaconda-cloud": {},
  "kernelspec": {
   "display_name": "Python [conda root]",
   "language": "python",
   "name": "conda-root-py"
  },
  "language_info": {
   "codemirror_mode": {
    "name": "ipython",
    "version": 2
   },
   "file_extension": ".py",
   "mimetype": "text/x-python",
   "name": "python",
   "nbconvert_exporter": "python",
   "pygments_lexer": "ipython2",
   "version": "2.7.12"
  }
 },
 "nbformat": 4,
 "nbformat_minor": 0
}
