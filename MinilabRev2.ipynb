{
 "cells": [
  {
   "cell_type": "markdown",
   "metadata": {},
   "source": [
    "# SVM and Logistic Regression Modeling"
   ]
  },
  {
   "cell_type": "markdown",
   "metadata": {},
   "source": [
    "## Logistic Regression Model\n",
    "\n",
    "Please carefully describe every assumption and every step in your report.  \n",
    "  \n",
    "  [50 points] Create a logistic regression model and a support vector machine model for the\n",
    "classification task involved with your dataset. Assess how well each model performs (use\n",
    "80/20 training/testing split for your data). Adjust parameters of the models to make them more\n",
    "accurate. If your dataset size requires the use of stochastic gradient descent, then linear kernel\n",
    "only is fine to use.  \n"
   ]
  },
  {
   "cell_type": "markdown",
   "metadata": {},
   "source": [
    "## Support Vector Machine Model  \n",
    "  \n",
    "  Please carefully describe every assumption and every step in your report.  \n",
    "    \n",
    "    \n",
    "[50 points] Create a logistic regression model and a support vector machine model for the classification task involved with your dataset. Assess how well each model performs (use 80/20 training/testing split for your data). Adjust parameters of the models to make them more accurate. If your dataset size requires the use of stochastic gradient descent, then linear kernel only is fine to use."
   ]
  },
  {
   "cell_type": "markdown",
   "metadata": {},
   "source": [
    "Below we will go through the creation of three different Support Vector Machines, or SVMs, and examine visual representations of their predictions.  These SVMs will be relatively simple, and only predict based on a given combination of two predictive variables.  This is done so that we can more clearly represent the visualization in a plot.  After these representations we will have another section where we will build and run a more complex SVM which includes more predictive variables and will result in a much higher accuracy.\n",
    "\n",
    "### Please note that the following code found in this section is based upon concepts and examples found in Chapter 3 of \"Machine Learning in Python\" by Sebastian Raschka"
   ]
  },
  {
   "cell_type": "code",
   "execution_count": 1,
   "metadata": {
    "collapsed": false
   },
   "outputs": [],
   "source": [
    "# This code imports the packages we will be using, and sets parameters for the matplotlib.pylab package.\n",
    "\n",
    "import sqlite3\n",
    "import pandas as pd\n",
    "import numpy as np\n",
    "import matplotlib.pyplot as plt\n",
    "import seaborn as sns\n",
    "import matplotlib.pylab as pylab\n",
    "params = {'legend.fontsize': 'x-large',\n",
    "          'figure.figsize': (15, 5),\n",
    "         'axes.labelsize': 'x-large',\n",
    "         'axes.titlesize':'x-large',\n",
    "         'xtick.labelsize':'x-large',\n",
    "         'ytick.labelsize':'x-large'}\n",
    "pylab.rcParams.update(params)\n",
    "%matplotlib inline"
   ]
  },
  {
   "cell_type": "code",
   "execution_count": 2,
   "metadata": {
    "collapsed": true
   },
   "outputs": [],
   "source": [
    "# Path to where all of the data set files resides \n",
    "path = 'C:/Users/ledbeg1/data'"
   ]
  },
  {
   "cell_type": "code",
   "execution_count": 3,
   "metadata": {
    "collapsed": false,
    "scrolled": true
   },
   "outputs": [
    {
     "name": "stdout",
     "output_type": "stream",
     "text": [
      "<class 'pandas.core.frame.DataFrame'>\n",
      "RangeIndex: 5656458 entries, 0 to 5656457\n",
      "Data columns (total 6 columns):\n",
      "CountryName      object\n",
      "CountryCode      object\n",
      "IndicatorName    object\n",
      "IndicatorCode    object\n",
      "Year             int64\n",
      "Value            float64\n",
      "dtypes: float64(1), int64(1), object(4)\n",
      "memory usage: 258.9+ MB\n"
     ]
    }
   ],
   "source": [
    "filename = path + '\\Indicators.csv'\n",
    "df_indicators = pd.read_csv(filename) # read in the csv file\n",
    "df_indicators.info()"
   ]
  },
  {
   "cell_type": "code",
   "execution_count": 4,
   "metadata": {
    "collapsed": false
   },
   "outputs": [],
   "source": [
    "# This code merges the data into a more easily manipulated pivot table format.\n",
    "df_flt = df_indicators[df_indicators.IndicatorCode.isin(['SL.TLF.CACT.MA.ZS','NY.GDP.MKTP.CD','NY.GDP.PCAP.CD','SP.ADO.TFRT'\n",
    "                                                 ,'SG.GEN.PARL.ZS'])]\n",
    "df_s = df_flt[['Year','CountryCode','IndicatorCode','Value']]\n",
    "df_s =df_s.pivot_table(index=['CountryCode','Year'], columns=['IndicatorCode'], values=['Value'])\n",
    "df_all = df_s['Value']\n",
    "df_all.reset_index(inplace=True)\n",
    "df_all.columns.name=None"
   ]
  },
  {
   "cell_type": "code",
   "execution_count": 5,
   "metadata": {
    "collapsed": true
   },
   "outputs": [],
   "source": [
    "# For the purposes of these SVMs we will only be interested in values for these countries from the year 2014.\n",
    "df_all_2014 = df_all[df_all['Year']==2014] "
   ]
  },
  {
   "cell_type": "code",
   "execution_count": 6,
   "metadata": {
    "collapsed": false,
    "scrolled": true
   },
   "outputs": [
    {
     "name": "stderr",
     "output_type": "stream",
     "text": [
      "C:\\Users\\ledbeg1\\AppData\\Local\\Continuum\\Anaconda3\\lib\\site-packages\\scipy\\interpolate\\fitpack2.py:222: UserWarning: \n",
      "The maximal number of iterations maxit (set to 20 by the program)\n",
      "allowed for finding a smoothing spline with fp=s has been reached: s\n",
      "too small.\n",
      "There is an approximation returned but the corresponding weighted sum\n",
      "of squared residuals does not satisfy the condition abs(fp-s)/s < tol.\n",
      "  warnings.warn(message)\n"
     ]
    },
    {
     "data": {
      "text/html": [
       "<div>\n",
       "<table border=\"1\" class=\"dataframe\">\n",
       "  <thead>\n",
       "    <tr style=\"text-align: right;\">\n",
       "      <th></th>\n",
       "      <th>CountryCode</th>\n",
       "      <th>Year</th>\n",
       "      <th>NY.GDP.MKTP.CD</th>\n",
       "      <th>NY.GDP.PCAP.CD</th>\n",
       "      <th>SG.GEN.PARL.ZS</th>\n",
       "      <th>SL.TLF.CACT.MA.ZS</th>\n",
       "      <th>SP.ADO.TFRT</th>\n",
       "    </tr>\n",
       "  </thead>\n",
       "  <tbody>\n",
       "    <tr>\n",
       "      <th>54</th>\n",
       "      <td>ABW</td>\n",
       "      <td>2014</td>\n",
       "      <td>NaN</td>\n",
       "      <td>NaN</td>\n",
       "      <td>NaN</td>\n",
       "      <td>NaN</td>\n",
       "      <td>23.122000</td>\n",
       "    </tr>\n",
       "    <tr>\n",
       "      <th>99</th>\n",
       "      <td>ADO</td>\n",
       "      <td>2014</td>\n",
       "      <td>NaN</td>\n",
       "      <td>NaN</td>\n",
       "      <td>50.000000</td>\n",
       "      <td>NaN</td>\n",
       "      <td>47.228253</td>\n",
       "    </tr>\n",
       "    <tr>\n",
       "      <th>155</th>\n",
       "      <td>AFG</td>\n",
       "      <td>2014</td>\n",
       "      <td>2.003822e+10</td>\n",
       "      <td>633.569247</td>\n",
       "      <td>27.700000</td>\n",
       "      <td>79.300003</td>\n",
       "      <td>76.733600</td>\n",
       "    </tr>\n",
       "    <tr>\n",
       "      <th>211</th>\n",
       "      <td>AGO</td>\n",
       "      <td>2014</td>\n",
       "      <td>1.662486e+10</td>\n",
       "      <td>2598.890818</td>\n",
       "      <td>36.800000</td>\n",
       "      <td>76.800003</td>\n",
       "      <td>166.602800</td>\n",
       "    </tr>\n",
       "    <tr>\n",
       "      <th>267</th>\n",
       "      <td>ALB</td>\n",
       "      <td>2014</td>\n",
       "      <td>1.321151e+10</td>\n",
       "      <td>4564.390339</td>\n",
       "      <td>20.000000</td>\n",
       "      <td>65.599998</td>\n",
       "      <td>21.489600</td>\n",
       "    </tr>\n",
       "    <tr>\n",
       "      <th>323</th>\n",
       "      <td>ARB</td>\n",
       "      <td>2014</td>\n",
       "      <td>2.845788e+12</td>\n",
       "      <td>7386.428444</td>\n",
       "      <td>17.793970</td>\n",
       "      <td>75.572081</td>\n",
       "      <td>48.228153</td>\n",
       "    </tr>\n",
       "    <tr>\n",
       "      <th>379</th>\n",
       "      <td>ARE</td>\n",
       "      <td>2014</td>\n",
       "      <td>3.994513e+11</td>\n",
       "      <td>43962.713693</td>\n",
       "      <td>17.500000</td>\n",
       "      <td>92.900002</td>\n",
       "      <td>29.253800</td>\n",
       "    </tr>\n",
       "    <tr>\n",
       "      <th>435</th>\n",
       "      <td>ARG</td>\n",
       "      <td>2014</td>\n",
       "      <td>5.376600e+11</td>\n",
       "      <td>12509.531118</td>\n",
       "      <td>36.600000</td>\n",
       "      <td>75.099998</td>\n",
       "      <td>63.851200</td>\n",
       "    </tr>\n",
       "    <tr>\n",
       "      <th>491</th>\n",
       "      <td>ARM</td>\n",
       "      <td>2014</td>\n",
       "      <td>1.164444e+10</td>\n",
       "      <td>3873.533566</td>\n",
       "      <td>10.700000</td>\n",
       "      <td>73.099998</td>\n",
       "      <td>23.508400</td>\n",
       "    </tr>\n",
       "    <tr>\n",
       "      <th>547</th>\n",
       "      <td>ATG</td>\n",
       "      <td>2014</td>\n",
       "      <td>1.220976e+09</td>\n",
       "      <td>13432.079330</td>\n",
       "      <td>11.100000</td>\n",
       "      <td>71.796931</td>\n",
       "      <td>45.664200</td>\n",
       "    </tr>\n",
       "    <tr>\n",
       "      <th>603</th>\n",
       "      <td>AUS</td>\n",
       "      <td>2014</td>\n",
       "      <td>1.454675e+12</td>\n",
       "      <td>61925.496062</td>\n",
       "      <td>26.000000</td>\n",
       "      <td>71.699997</td>\n",
       "      <td>14.405000</td>\n",
       "    </tr>\n",
       "    <tr>\n",
       "      <th>659</th>\n",
       "      <td>AUT</td>\n",
       "      <td>2014</td>\n",
       "      <td>4.368875e+11</td>\n",
       "      <td>51190.808248</td>\n",
       "      <td>32.200000</td>\n",
       "      <td>67.699997</td>\n",
       "      <td>7.379000</td>\n",
       "    </tr>\n",
       "    <tr>\n",
       "      <th>715</th>\n",
       "      <td>AZE</td>\n",
       "      <td>2014</td>\n",
       "      <td>7.519801e+10</td>\n",
       "      <td>7884.190236</td>\n",
       "      <td>15.600000</td>\n",
       "      <td>70.300003</td>\n",
       "      <td>58.560400</td>\n",
       "    </tr>\n",
       "    <tr>\n",
       "      <th>771</th>\n",
       "      <td>BDI</td>\n",
       "      <td>2014</td>\n",
       "      <td>3.093647e+09</td>\n",
       "      <td>286.002336</td>\n",
       "      <td>30.500000</td>\n",
       "      <td>82.099998</td>\n",
       "      <td>28.655200</td>\n",
       "    </tr>\n",
       "    <tr>\n",
       "      <th>827</th>\n",
       "      <td>BEL</td>\n",
       "      <td>2014</td>\n",
       "      <td>5.315466e+11</td>\n",
       "      <td>47352.942906</td>\n",
       "      <td>39.300000</td>\n",
       "      <td>59.299999</td>\n",
       "      <td>8.376400</td>\n",
       "    </tr>\n",
       "    <tr>\n",
       "      <th>883</th>\n",
       "      <td>BEN</td>\n",
       "      <td>2014</td>\n",
       "      <td>9.575357e+09</td>\n",
       "      <td>903.464924</td>\n",
       "      <td>8.400000</td>\n",
       "      <td>78.199997</td>\n",
       "      <td>84.590000</td>\n",
       "    </tr>\n",
       "    <tr>\n",
       "      <th>939</th>\n",
       "      <td>BFA</td>\n",
       "      <td>2014</td>\n",
       "      <td>1.254222e+10</td>\n",
       "      <td>713.063890</td>\n",
       "      <td>18.900000</td>\n",
       "      <td>89.900002</td>\n",
       "      <td>109.903600</td>\n",
       "    </tr>\n",
       "    <tr>\n",
       "      <th>995</th>\n",
       "      <td>BGD</td>\n",
       "      <td>2014</td>\n",
       "      <td>1.728866e+11</td>\n",
       "      <td>1086.807079</td>\n",
       "      <td>19.800000</td>\n",
       "      <td>84.000000</td>\n",
       "      <td>83.490000</td>\n",
       "    </tr>\n",
       "    <tr>\n",
       "      <th>1051</th>\n",
       "      <td>BGR</td>\n",
       "      <td>2014</td>\n",
       "      <td>5.671705e+10</td>\n",
       "      <td>7851.265428</td>\n",
       "      <td>20.000000</td>\n",
       "      <td>59.200001</td>\n",
       "      <td>38.587400</td>\n",
       "    </tr>\n",
       "    <tr>\n",
       "      <th>1107</th>\n",
       "      <td>BHR</td>\n",
       "      <td>2014</td>\n",
       "      <td>3.385106e+10</td>\n",
       "      <td>24855.215635</td>\n",
       "      <td>7.500000</td>\n",
       "      <td>86.699997</td>\n",
       "      <td>13.542600</td>\n",
       "    </tr>\n",
       "    <tr>\n",
       "      <th>1163</th>\n",
       "      <td>BHS</td>\n",
       "      <td>2014</td>\n",
       "      <td>8.510500e+09</td>\n",
       "      <td>22217.494139</td>\n",
       "      <td>13.200000</td>\n",
       "      <td>79.300003</td>\n",
       "      <td>30.526000</td>\n",
       "    </tr>\n",
       "    <tr>\n",
       "      <th>1219</th>\n",
       "      <td>BIH</td>\n",
       "      <td>2014</td>\n",
       "      <td>1.828627e+10</td>\n",
       "      <td>4790.049658</td>\n",
       "      <td>21.400000</td>\n",
       "      <td>57.400002</td>\n",
       "      <td>9.112400</td>\n",
       "    </tr>\n",
       "    <tr>\n",
       "      <th>1275</th>\n",
       "      <td>BLR</td>\n",
       "      <td>2014</td>\n",
       "      <td>7.613925e+10</td>\n",
       "      <td>8040.047557</td>\n",
       "      <td>26.600000</td>\n",
       "      <td>63.400002</td>\n",
       "      <td>18.840000</td>\n",
       "    </tr>\n",
       "    <tr>\n",
       "      <th>1331</th>\n",
       "      <td>BLZ</td>\n",
       "      <td>2014</td>\n",
       "      <td>1.699154e+09</td>\n",
       "      <td>4831.177552</td>\n",
       "      <td>3.100000</td>\n",
       "      <td>82.300003</td>\n",
       "      <td>66.673000</td>\n",
       "    </tr>\n",
       "    <tr>\n",
       "      <th>1441</th>\n",
       "      <td>BOL</td>\n",
       "      <td>2014</td>\n",
       "      <td>3.299619e+10</td>\n",
       "      <td>3124.080762</td>\n",
       "      <td>53.100000</td>\n",
       "      <td>80.900002</td>\n",
       "      <td>71.147000</td>\n",
       "    </tr>\n",
       "    <tr>\n",
       "      <th>1497</th>\n",
       "      <td>BRA</td>\n",
       "      <td>2014</td>\n",
       "      <td>2.346076e+12</td>\n",
       "      <td>11384.415010</td>\n",
       "      <td>9.900000</td>\n",
       "      <td>80.599998</td>\n",
       "      <td>67.310600</td>\n",
       "    </tr>\n",
       "    <tr>\n",
       "      <th>1553</th>\n",
       "      <td>BRB</td>\n",
       "      <td>2014</td>\n",
       "      <td>4.354500e+09</td>\n",
       "      <td>15366.292611</td>\n",
       "      <td>16.700000</td>\n",
       "      <td>76.599998</td>\n",
       "      <td>41.927200</td>\n",
       "    </tr>\n",
       "    <tr>\n",
       "      <th>1609</th>\n",
       "      <td>BRN</td>\n",
       "      <td>2014</td>\n",
       "      <td>1.710466e+10</td>\n",
       "      <td>40979.641943</td>\n",
       "      <td>13.172480</td>\n",
       "      <td>75.000000</td>\n",
       "      <td>21.116400</td>\n",
       "    </tr>\n",
       "    <tr>\n",
       "      <th>1664</th>\n",
       "      <td>BTN</td>\n",
       "      <td>2014</td>\n",
       "      <td>1.958804e+09</td>\n",
       "      <td>2560.501154</td>\n",
       "      <td>8.500000</td>\n",
       "      <td>77.599998</td>\n",
       "      <td>22.694000</td>\n",
       "    </tr>\n",
       "    <tr>\n",
       "      <th>1720</th>\n",
       "      <td>BWA</td>\n",
       "      <td>2014</td>\n",
       "      <td>1.581336e+10</td>\n",
       "      <td>7123.339241</td>\n",
       "      <td>9.500000</td>\n",
       "      <td>81.599998</td>\n",
       "      <td>33.648200</td>\n",
       "    </tr>\n",
       "    <tr>\n",
       "      <th>...</th>\n",
       "      <td>...</td>\n",
       "      <td>...</td>\n",
       "      <td>...</td>\n",
       "      <td>...</td>\n",
       "      <td>...</td>\n",
       "      <td>...</td>\n",
       "      <td>...</td>\n",
       "    </tr>\n",
       "    <tr>\n",
       "      <th>11582</th>\n",
       "      <td>TGO</td>\n",
       "      <td>2014</td>\n",
       "      <td>4.518443e+09</td>\n",
       "      <td>635.044268</td>\n",
       "      <td>17.600000</td>\n",
       "      <td>81.400002</td>\n",
       "      <td>91.955400</td>\n",
       "    </tr>\n",
       "    <tr>\n",
       "      <th>11638</th>\n",
       "      <td>THA</td>\n",
       "      <td>2014</td>\n",
       "      <td>4.048240e+11</td>\n",
       "      <td>5977.380587</td>\n",
       "      <td>6.100000</td>\n",
       "      <td>80.500000</td>\n",
       "      <td>44.635800</td>\n",
       "    </tr>\n",
       "    <tr>\n",
       "      <th>11694</th>\n",
       "      <td>TJK</td>\n",
       "      <td>2014</td>\n",
       "      <td>9.241628e+09</td>\n",
       "      <td>1114.007483</td>\n",
       "      <td>16.900000</td>\n",
       "      <td>77.400002</td>\n",
       "      <td>38.349200</td>\n",
       "    </tr>\n",
       "    <tr>\n",
       "      <th>11750</th>\n",
       "      <td>TKM</td>\n",
       "      <td>2014</td>\n",
       "      <td>4.793193e+10</td>\n",
       "      <td>9031.511570</td>\n",
       "      <td>26.400000</td>\n",
       "      <td>77.300003</td>\n",
       "      <td>16.698800</td>\n",
       "    </tr>\n",
       "    <tr>\n",
       "      <th>11806</th>\n",
       "      <td>TMP</td>\n",
       "      <td>2014</td>\n",
       "      <td>1.417000e+09</td>\n",
       "      <td>1169.038707</td>\n",
       "      <td>38.500000</td>\n",
       "      <td>50.599998</td>\n",
       "      <td>47.723000</td>\n",
       "    </tr>\n",
       "    <tr>\n",
       "      <th>11862</th>\n",
       "      <td>TON</td>\n",
       "      <td>2014</td>\n",
       "      <td>4.343801e+08</td>\n",
       "      <td>4113.993493</td>\n",
       "      <td>0.000000</td>\n",
       "      <td>74.400002</td>\n",
       "      <td>15.440400</td>\n",
       "    </tr>\n",
       "    <tr>\n",
       "      <th>11918</th>\n",
       "      <td>TTO</td>\n",
       "      <td>2014</td>\n",
       "      <td>2.888266e+10</td>\n",
       "      <td>21323.754712</td>\n",
       "      <td>28.600000</td>\n",
       "      <td>75.400002</td>\n",
       "      <td>32.158600</td>\n",
       "    </tr>\n",
       "    <tr>\n",
       "      <th>11974</th>\n",
       "      <td>TUN</td>\n",
       "      <td>2014</td>\n",
       "      <td>4.861265e+10</td>\n",
       "      <td>4420.698435</td>\n",
       "      <td>31.300000</td>\n",
       "      <td>71.000000</td>\n",
       "      <td>6.796800</td>\n",
       "    </tr>\n",
       "    <tr>\n",
       "      <th>12030</th>\n",
       "      <td>TUR</td>\n",
       "      <td>2014</td>\n",
       "      <td>7.984292e+11</td>\n",
       "      <td>10515.007820</td>\n",
       "      <td>14.400000</td>\n",
       "      <td>70.800003</td>\n",
       "      <td>28.416000</td>\n",
       "    </tr>\n",
       "    <tr>\n",
       "      <th>12056</th>\n",
       "      <td>TUV</td>\n",
       "      <td>2014</td>\n",
       "      <td>3.785955e+07</td>\n",
       "      <td>3826.902901</td>\n",
       "      <td>6.700000</td>\n",
       "      <td>76.857528</td>\n",
       "      <td>57.308882</td>\n",
       "    </tr>\n",
       "    <tr>\n",
       "      <th>12112</th>\n",
       "      <td>TZA</td>\n",
       "      <td>2014</td>\n",
       "      <td>4.805668e+10</td>\n",
       "      <td>955.141311</td>\n",
       "      <td>36.000000</td>\n",
       "      <td>90.099998</td>\n",
       "      <td>119.383400</td>\n",
       "    </tr>\n",
       "    <tr>\n",
       "      <th>12168</th>\n",
       "      <td>UGA</td>\n",
       "      <td>2014</td>\n",
       "      <td>2.699848e+10</td>\n",
       "      <td>714.567345</td>\n",
       "      <td>35.000000</td>\n",
       "      <td>79.199997</td>\n",
       "      <td>114.846400</td>\n",
       "    </tr>\n",
       "    <tr>\n",
       "      <th>12224</th>\n",
       "      <td>UKR</td>\n",
       "      <td>2014</td>\n",
       "      <td>1.318051e+11</td>\n",
       "      <td>3082.461447</td>\n",
       "      <td>11.700000</td>\n",
       "      <td>67.099998</td>\n",
       "      <td>24.885000</td>\n",
       "    </tr>\n",
       "    <tr>\n",
       "      <th>12280</th>\n",
       "      <td>UMC</td>\n",
       "      <td>2014</td>\n",
       "      <td>1.888737e+13</td>\n",
       "      <td>8000.318068</td>\n",
       "      <td>23.305853</td>\n",
       "      <td>77.377016</td>\n",
       "      <td>30.936220</td>\n",
       "    </tr>\n",
       "    <tr>\n",
       "      <th>12336</th>\n",
       "      <td>URY</td>\n",
       "      <td>2014</td>\n",
       "      <td>5.747103e+10</td>\n",
       "      <td>16806.773267</td>\n",
       "      <td>16.200000</td>\n",
       "      <td>76.800003</td>\n",
       "      <td>56.514400</td>\n",
       "    </tr>\n",
       "    <tr>\n",
       "      <th>12392</th>\n",
       "      <td>USA</td>\n",
       "      <td>2014</td>\n",
       "      <td>1.741900e+13</td>\n",
       "      <td>54629.495168</td>\n",
       "      <td>19.300000</td>\n",
       "      <td>68.800003</td>\n",
       "      <td>24.110200</td>\n",
       "    </tr>\n",
       "    <tr>\n",
       "      <th>12448</th>\n",
       "      <td>UZB</td>\n",
       "      <td>2014</td>\n",
       "      <td>6.264395e+10</td>\n",
       "      <td>2036.691723</td>\n",
       "      <td>22.000000</td>\n",
       "      <td>75.900002</td>\n",
       "      <td>17.817800</td>\n",
       "    </tr>\n",
       "    <tr>\n",
       "      <th>12504</th>\n",
       "      <td>VCT</td>\n",
       "      <td>2014</td>\n",
       "      <td>7.293094e+08</td>\n",
       "      <td>6668.886105</td>\n",
       "      <td>13.000000</td>\n",
       "      <td>77.800003</td>\n",
       "      <td>51.724800</td>\n",
       "    </tr>\n",
       "    <tr>\n",
       "      <th>12560</th>\n",
       "      <td>VEN</td>\n",
       "      <td>2014</td>\n",
       "      <td>6.292463e+10</td>\n",
       "      <td>5120.581256</td>\n",
       "      <td>17.000000</td>\n",
       "      <td>79.099998</td>\n",
       "      <td>79.667200</td>\n",
       "    </tr>\n",
       "    <tr>\n",
       "      <th>12616</th>\n",
       "      <td>VIR</td>\n",
       "      <td>2014</td>\n",
       "      <td>1.251200e+11</td>\n",
       "      <td>3572.635391</td>\n",
       "      <td>20.526735</td>\n",
       "      <td>71.800003</td>\n",
       "      <td>44.190200</td>\n",
       "    </tr>\n",
       "    <tr>\n",
       "      <th>12671</th>\n",
       "      <td>VNM</td>\n",
       "      <td>2014</td>\n",
       "      <td>1.862047e+11</td>\n",
       "      <td>2052.294202</td>\n",
       "      <td>24.300000</td>\n",
       "      <td>82.500000</td>\n",
       "      <td>38.119400</td>\n",
       "    </tr>\n",
       "    <tr>\n",
       "      <th>12727</th>\n",
       "      <td>VUT</td>\n",
       "      <td>2014</td>\n",
       "      <td>8.149543e+08</td>\n",
       "      <td>3147.963779</td>\n",
       "      <td>0.000000</td>\n",
       "      <td>79.800003</td>\n",
       "      <td>43.434200</td>\n",
       "    </tr>\n",
       "    <tr>\n",
       "      <th>12783</th>\n",
       "      <td>WBG</td>\n",
       "      <td>2014</td>\n",
       "      <td>1.273761e+10</td>\n",
       "      <td>2965.903675</td>\n",
       "      <td>10.346001</td>\n",
       "      <td>66.599998</td>\n",
       "      <td>59.142200</td>\n",
       "    </tr>\n",
       "    <tr>\n",
       "      <th>12838</th>\n",
       "      <td>WLD</td>\n",
       "      <td>2014</td>\n",
       "      <td>7.784511e+13</td>\n",
       "      <td>10721.417039</td>\n",
       "      <td>22.192931</td>\n",
       "      <td>76.730466</td>\n",
       "      <td>44.765579</td>\n",
       "    </tr>\n",
       "    <tr>\n",
       "      <th>12894</th>\n",
       "      <td>WSM</td>\n",
       "      <td>2014</td>\n",
       "      <td>8.004190e+08</td>\n",
       "      <td>4172.217100</td>\n",
       "      <td>6.100000</td>\n",
       "      <td>58.500000</td>\n",
       "      <td>25.610200</td>\n",
       "    </tr>\n",
       "    <tr>\n",
       "      <th>12950</th>\n",
       "      <td>YEM</td>\n",
       "      <td>2014</td>\n",
       "      <td>1.754427e+11</td>\n",
       "      <td>5327.539940</td>\n",
       "      <td>0.300000</td>\n",
       "      <td>72.500000</td>\n",
       "      <td>62.213600</td>\n",
       "    </tr>\n",
       "    <tr>\n",
       "      <th>13006</th>\n",
       "      <td>ZAF</td>\n",
       "      <td>2014</td>\n",
       "      <td>3.500850e+11</td>\n",
       "      <td>6482.821479</td>\n",
       "      <td>41.500000</td>\n",
       "      <td>61.000000</td>\n",
       "      <td>46.580800</td>\n",
       "    </tr>\n",
       "    <tr>\n",
       "      <th>13062</th>\n",
       "      <td>ZAR</td>\n",
       "      <td>2014</td>\n",
       "      <td>3.312107e+10</td>\n",
       "      <td>442.339539</td>\n",
       "      <td>10.600000</td>\n",
       "      <td>73.300003</td>\n",
       "      <td>122.948400</td>\n",
       "    </tr>\n",
       "    <tr>\n",
       "      <th>13118</th>\n",
       "      <td>ZMB</td>\n",
       "      <td>2014</td>\n",
       "      <td>2.706623e+10</td>\n",
       "      <td>1721.623274</td>\n",
       "      <td>10.800000</td>\n",
       "      <td>85.599998</td>\n",
       "      <td>93.015600</td>\n",
       "    </tr>\n",
       "    <tr>\n",
       "      <th>13174</th>\n",
       "      <td>ZWE</td>\n",
       "      <td>2014</td>\n",
       "      <td>1.419691e+10</td>\n",
       "      <td>931.198187</td>\n",
       "      <td>31.500000</td>\n",
       "      <td>90.000000</td>\n",
       "      <td>110.401800</td>\n",
       "    </tr>\n",
       "  </tbody>\n",
       "</table>\n",
       "<p>237 rows × 7 columns</p>\n",
       "</div>"
      ],
      "text/plain": [
       "      CountryCode  Year  NY.GDP.MKTP.CD  NY.GDP.PCAP.CD  SG.GEN.PARL.ZS  \\\n",
       "54            ABW  2014             NaN             NaN             NaN   \n",
       "99            ADO  2014             NaN             NaN       50.000000   \n",
       "155           AFG  2014    2.003822e+10      633.569247       27.700000   \n",
       "211           AGO  2014    1.662486e+10     2598.890818       36.800000   \n",
       "267           ALB  2014    1.321151e+10     4564.390339       20.000000   \n",
       "323           ARB  2014    2.845788e+12     7386.428444       17.793970   \n",
       "379           ARE  2014    3.994513e+11    43962.713693       17.500000   \n",
       "435           ARG  2014    5.376600e+11    12509.531118       36.600000   \n",
       "491           ARM  2014    1.164444e+10     3873.533566       10.700000   \n",
       "547           ATG  2014    1.220976e+09    13432.079330       11.100000   \n",
       "603           AUS  2014    1.454675e+12    61925.496062       26.000000   \n",
       "659           AUT  2014    4.368875e+11    51190.808248       32.200000   \n",
       "715           AZE  2014    7.519801e+10     7884.190236       15.600000   \n",
       "771           BDI  2014    3.093647e+09      286.002336       30.500000   \n",
       "827           BEL  2014    5.315466e+11    47352.942906       39.300000   \n",
       "883           BEN  2014    9.575357e+09      903.464924        8.400000   \n",
       "939           BFA  2014    1.254222e+10      713.063890       18.900000   \n",
       "995           BGD  2014    1.728866e+11     1086.807079       19.800000   \n",
       "1051          BGR  2014    5.671705e+10     7851.265428       20.000000   \n",
       "1107          BHR  2014    3.385106e+10    24855.215635        7.500000   \n",
       "1163          BHS  2014    8.510500e+09    22217.494139       13.200000   \n",
       "1219          BIH  2014    1.828627e+10     4790.049658       21.400000   \n",
       "1275          BLR  2014    7.613925e+10     8040.047557       26.600000   \n",
       "1331          BLZ  2014    1.699154e+09     4831.177552        3.100000   \n",
       "1441          BOL  2014    3.299619e+10     3124.080762       53.100000   \n",
       "1497          BRA  2014    2.346076e+12    11384.415010        9.900000   \n",
       "1553          BRB  2014    4.354500e+09    15366.292611       16.700000   \n",
       "1609          BRN  2014    1.710466e+10    40979.641943       13.172480   \n",
       "1664          BTN  2014    1.958804e+09     2560.501154        8.500000   \n",
       "1720          BWA  2014    1.581336e+10     7123.339241        9.500000   \n",
       "...           ...   ...             ...             ...             ...   \n",
       "11582         TGO  2014    4.518443e+09      635.044268       17.600000   \n",
       "11638         THA  2014    4.048240e+11     5977.380587        6.100000   \n",
       "11694         TJK  2014    9.241628e+09     1114.007483       16.900000   \n",
       "11750         TKM  2014    4.793193e+10     9031.511570       26.400000   \n",
       "11806         TMP  2014    1.417000e+09     1169.038707       38.500000   \n",
       "11862         TON  2014    4.343801e+08     4113.993493        0.000000   \n",
       "11918         TTO  2014    2.888266e+10    21323.754712       28.600000   \n",
       "11974         TUN  2014    4.861265e+10     4420.698435       31.300000   \n",
       "12030         TUR  2014    7.984292e+11    10515.007820       14.400000   \n",
       "12056         TUV  2014    3.785955e+07     3826.902901        6.700000   \n",
       "12112         TZA  2014    4.805668e+10      955.141311       36.000000   \n",
       "12168         UGA  2014    2.699848e+10      714.567345       35.000000   \n",
       "12224         UKR  2014    1.318051e+11     3082.461447       11.700000   \n",
       "12280         UMC  2014    1.888737e+13     8000.318068       23.305853   \n",
       "12336         URY  2014    5.747103e+10    16806.773267       16.200000   \n",
       "12392         USA  2014    1.741900e+13    54629.495168       19.300000   \n",
       "12448         UZB  2014    6.264395e+10     2036.691723       22.000000   \n",
       "12504         VCT  2014    7.293094e+08     6668.886105       13.000000   \n",
       "12560         VEN  2014    6.292463e+10     5120.581256       17.000000   \n",
       "12616         VIR  2014    1.251200e+11     3572.635391       20.526735   \n",
       "12671         VNM  2014    1.862047e+11     2052.294202       24.300000   \n",
       "12727         VUT  2014    8.149543e+08     3147.963779        0.000000   \n",
       "12783         WBG  2014    1.273761e+10     2965.903675       10.346001   \n",
       "12838         WLD  2014    7.784511e+13    10721.417039       22.192931   \n",
       "12894         WSM  2014    8.004190e+08     4172.217100        6.100000   \n",
       "12950         YEM  2014    1.754427e+11     5327.539940        0.300000   \n",
       "13006         ZAF  2014    3.500850e+11     6482.821479       41.500000   \n",
       "13062         ZAR  2014    3.312107e+10      442.339539       10.600000   \n",
       "13118         ZMB  2014    2.706623e+10     1721.623274       10.800000   \n",
       "13174         ZWE  2014    1.419691e+10      931.198187       31.500000   \n",
       "\n",
       "       SL.TLF.CACT.MA.ZS  SP.ADO.TFRT  \n",
       "54                   NaN    23.122000  \n",
       "99                   NaN    47.228253  \n",
       "155            79.300003    76.733600  \n",
       "211            76.800003   166.602800  \n",
       "267            65.599998    21.489600  \n",
       "323            75.572081    48.228153  \n",
       "379            92.900002    29.253800  \n",
       "435            75.099998    63.851200  \n",
       "491            73.099998    23.508400  \n",
       "547            71.796931    45.664200  \n",
       "603            71.699997    14.405000  \n",
       "659            67.699997     7.379000  \n",
       "715            70.300003    58.560400  \n",
       "771            82.099998    28.655200  \n",
       "827            59.299999     8.376400  \n",
       "883            78.199997    84.590000  \n",
       "939            89.900002   109.903600  \n",
       "995            84.000000    83.490000  \n",
       "1051           59.200001    38.587400  \n",
       "1107           86.699997    13.542600  \n",
       "1163           79.300003    30.526000  \n",
       "1219           57.400002     9.112400  \n",
       "1275           63.400002    18.840000  \n",
       "1331           82.300003    66.673000  \n",
       "1441           80.900002    71.147000  \n",
       "1497           80.599998    67.310600  \n",
       "1553           76.599998    41.927200  \n",
       "1609           75.000000    21.116400  \n",
       "1664           77.599998    22.694000  \n",
       "1720           81.599998    33.648200  \n",
       "...                  ...          ...  \n",
       "11582          81.400002    91.955400  \n",
       "11638          80.500000    44.635800  \n",
       "11694          77.400002    38.349200  \n",
       "11750          77.300003    16.698800  \n",
       "11806          50.599998    47.723000  \n",
       "11862          74.400002    15.440400  \n",
       "11918          75.400002    32.158600  \n",
       "11974          71.000000     6.796800  \n",
       "12030          70.800003    28.416000  \n",
       "12056          76.857528    57.308882  \n",
       "12112          90.099998   119.383400  \n",
       "12168          79.199997   114.846400  \n",
       "12224          67.099998    24.885000  \n",
       "12280          77.377016    30.936220  \n",
       "12336          76.800003    56.514400  \n",
       "12392          68.800003    24.110200  \n",
       "12448          75.900002    17.817800  \n",
       "12504          77.800003    51.724800  \n",
       "12560          79.099998    79.667200  \n",
       "12616          71.800003    44.190200  \n",
       "12671          82.500000    38.119400  \n",
       "12727          79.800003    43.434200  \n",
       "12783          66.599998    59.142200  \n",
       "12838          76.730466    44.765579  \n",
       "12894          58.500000    25.610200  \n",
       "12950          72.500000    62.213600  \n",
       "13006          61.000000    46.580800  \n",
       "13062          73.300003   122.948400  \n",
       "13118          85.599998    93.015600  \n",
       "13174          90.000000   110.401800  \n",
       "\n",
       "[237 rows x 7 columns]"
      ]
     },
     "execution_count": 6,
     "metadata": {},
     "output_type": "execute_result"
    }
   ],
   "source": [
    "# This code Imputes missing values in the data based upon a spline method.\n",
    "df_all_2014 =df_all_2014.reindex(index=df_all_2014.index[::-1])\n",
    "df_all_2014.interpolate(method='barycentric',order=1, limit_direction='both', inplace=True)\n",
    "df_all_2014 =df_all_2014.reindex(index=df_all_2014.index[::-1])\n",
    "df_all_2014.interpolate(method='spline',order=1, limit_direction='both', inplace=True)\n",
    "df_all_2014"
   ]
  },
  {
   "cell_type": "code",
   "execution_count": 7,
   "metadata": {
    "collapsed": false
   },
   "outputs": [
    {
     "name": "stdout",
     "output_type": "stream",
     "text": [
      "<class 'pandas.core.frame.DataFrame'>\n",
      "Int64Index: 237 entries, 54 to 13174\n",
      "Data columns (total 7 columns):\n",
      "CountryCode          237 non-null object\n",
      "Year                 237 non-null int64\n",
      "NY.GDP.MKTP.CD       235 non-null float64\n",
      "NY.GDP.PCAP.CD       235 non-null float64\n",
      "SG.GEN.PARL.ZS       236 non-null float64\n",
      "SL.TLF.CACT.MA.ZS    235 non-null float64\n",
      "SP.ADO.TFRT          237 non-null float64\n",
      "dtypes: float64(5), int64(1), object(1)\n",
      "memory usage: 14.8+ KB\n"
     ]
    }
   ],
   "source": [
    "# There still remains two objects that have NaN values post-imputing, may as well just drop them.\n",
    "df_all_2014.info()"
   ]
  },
  {
   "cell_type": "code",
   "execution_count": 8,
   "metadata": {
    "collapsed": false
   },
   "outputs": [],
   "source": [
    "# dropping the two objects that still had NaNs\n",
    "df_all_2014 = df_all_2014[df_all_2014['CountryCode'] != 'ABW']\n",
    "df_all_2014 = df_all_2014[df_all_2014['CountryCode'] != 'ADO']"
   ]
  },
  {
   "cell_type": "code",
   "execution_count": 9,
   "metadata": {
    "collapsed": false
   },
   "outputs": [
    {
     "name": "stdout",
     "output_type": "stream",
     "text": [
      "<class 'pandas.core.frame.DataFrame'>\n",
      "Int64Index: 235 entries, 155 to 13174\n",
      "Data columns (total 7 columns):\n",
      "CountryCode          235 non-null object\n",
      "Year                 235 non-null int64\n",
      "NY.GDP.MKTP.CD       235 non-null float64\n",
      "NY.GDP.PCAP.CD       235 non-null float64\n",
      "SG.GEN.PARL.ZS       235 non-null float64\n",
      "SL.TLF.CACT.MA.ZS    235 non-null float64\n",
      "SP.ADO.TFRT          235 non-null float64\n",
      "dtypes: float64(5), int64(1), object(1)\n",
      "memory usage: 14.7+ KB\n"
     ]
    }
   ],
   "source": [
    "# Now we have 235 countries with no missing values.\n",
    "df_all_2014.info()"
   ]
  },
  {
   "cell_type": "code",
   "execution_count": 95,
   "metadata": {
    "collapsed": false
   },
   "outputs": [
    {
     "name": "stdout",
     "output_type": "stream",
     "text": [
      "[0, 0, 0, 2, 1, 1, 0, 0, 2, 1, 1, 0, 1, 0, 0, 1, 1, 1, 0, 0, 1, 0, 1, 2, 0, 0, 0, 0, 0, 2, 2, 1, 1, 1, 2, 1, 1, 0, 1, 0, 0, 1, 1, 1, 1, 0, 1, 2, 0, 0, 1, 1, 1, 2, 2, 2, 2, 1, 1, 2, 2, 2, 1, 1, 2, 1, 1, 0, 2, 0, 0, 2, 0, 1, 0, 0, 0, 0, 1, 0, 1, 1, 0, 2, 1, 0, 1, 1, 0, 1, 2, 2, 1, 1, 1, 0, 1, 2, 0, 1, 2, 1, 1, 0, 0, 0, 0, 2, 0, 1, 2, 0, 1, 0, 1, 0, 2, 2, 1, 1, 1, 2, 2, 0, 1, 1, 1, 1, 1, 1, 0, 0, 0, 2, 2, 0, 2, 0, 0, 1, 1, 2, 0, 0, 0, 0, 0, 0, 1, 2, 0, 0, 0, 1, 0, 2, 2, 1, 0, 2, 2, 2, 1, 1, 1, 1, 1, 1, 0, 0, 1, 1, 1, 1, 1, 0, 1, 1, 1, 2, 0, 2, 1, 1, 0, 1, 0, 0, 1, 0, 0, 1, 2, 0, 2, 1, 0, 0, 1, 1, 1, 0, 0, 0, 0, 0, 1, 0, 1, 0, 0, 1, 1, 2, 0, 1, 1, 1, 2, 1, 2, 1, 0, 1, 1, 1, 0, 0, 2, 0, 1, 1, 1, 1, 0]\n"
     ]
    }
   ],
   "source": [
    "# This code generates a target array of values, with 0 being very poor, 1 being poor, and 2 being rich\n",
    "\n",
    "i = 0\n",
    "rangeLength = len(df_all_2014['NY.GDP.MKTP.CD'])\n",
    "target = []\n",
    "for i in range(0,rangeLength):\n",
    "    if df_all_2014['NY.GDP.MKTP.CD'].iloc[i] > 754000000000:\n",
    "        target.append(2)\n",
    "    elif df_all_2014['NY.GDP.MKTP.CD'].iloc[i] > 25000000000:\n",
    "        target.append(1)\n",
    "    else:\n",
    "        target.append(0)\n",
    "print(target)"
   ]
  },
  {
   "cell_type": "code",
   "execution_count": 173,
   "metadata": {
    "collapsed": false
   },
   "outputs": [],
   "source": [
    "# Here we select our first two columns to visualize an SVM from: percentage of government seats held by women and adolescent birth rate\n",
    "# selectedCols = ['SG.GEN.PARL.ZS','SL.TLF.CACT.MA.ZS','SP.ADO.TFRT']\n",
    "selectedCols = ['SG.GEN.PARL.ZS','SP.ADO.TFRT']\n",
    "X = df_all_2014[selectedCols]\n",
    "y = target\n",
    "\n",
    "from sklearn.cross_validation import train_test_split\n",
    "X_train, X_test, y_train, y_test = train_test_split(X, y, test_size=0.3, random_state=0)"
   ]
  },
  {
   "cell_type": "code",
   "execution_count": 174,
   "metadata": {
    "collapsed": false
   },
   "outputs": [],
   "source": [
    "# This code standardizes our data values, a necessary step to take since some values are represented in percentages and other\n",
    "# values are represented as very large integers.\n",
    "from sklearn.preprocessing import StandardScaler\n",
    "sc = StandardScaler()\n",
    "sc.fit(X_train)\n",
    "X_train_std = sc.transform(X_train)\n",
    "X_test_std = sc.transform(X_test)"
   ]
  },
  {
   "cell_type": "code",
   "execution_count": 175,
   "metadata": {
    "collapsed": false
   },
   "outputs": [
    {
     "data": {
      "text/plain": [
       "Perceptron(alpha=0.0001, class_weight=None, eta0=0.1, fit_intercept=True,\n",
       "      n_iter=40, n_jobs=1, penalty=None, random_state=0, shuffle=True,\n",
       "      verbose=0, warm_start=False)"
      ]
     },
     "execution_count": 175,
     "metadata": {},
     "output_type": "execute_result"
    }
   ],
   "source": [
    "# This code builds a Perceptron and fits the training data to it.\n",
    "from sklearn.linear_model import Perceptron\n",
    "ppn = Perceptron(n_iter=40, eta0=0.1, random_state=0)\n",
    "ppn.fit(X_train_std, y_train)"
   ]
  },
  {
   "cell_type": "code",
   "execution_count": 178,
   "metadata": {
    "collapsed": false
   },
   "outputs": [
    {
     "name": "stdout",
     "output_type": "stream",
     "text": [
      "Misclassified samples: 32\n"
     ]
    }
   ],
   "source": [
    "# This reports the number of samples that were misclassified by the model\n",
    "\n",
    "y_pred = ppn.predict(X_test_std)\n",
    "print('Misclassified samples: %d' % (y_test != y_pred).sum())"
   ]
  },
  {
   "cell_type": "code",
   "execution_count": 179,
   "metadata": {
    "collapsed": false
   },
   "outputs": [
    {
     "name": "stdout",
     "output_type": "stream",
     "text": [
      "Accuracy: 0.55\n"
     ]
    }
   ],
   "source": [
    "# This reports the accuracy of our predictive model as a percentage value\n",
    "\n",
    "from sklearn.metrics import accuracy_score\n",
    "print('Accuracy: %.2f' % accuracy_score(y_test, y_pred))"
   ]
  },
  {
   "cell_type": "code",
   "execution_count": 180,
   "metadata": {
    "collapsed": true
   },
   "outputs": [],
   "source": [
    "# This code defines a plot for our SVMs we will be analyzing.  As mentioned earlier, this code is based heavily upon code, concepts, \n",
    "# and examples found in Chapter 3 of \"Machine Learning in Python\" by Sebastian Raschka\n",
    "\n",
    "from matplotlib.colors import ListedColormap\n",
    "import matplotlib.pyplot as plt\n",
    "def plot_decision_regions(X, y, classifier, test_idx=None, resolution=0.02):\n",
    "    # setup marker generator and color map\n",
    "    markers = ('s', 'x', 'o', '^', 'v')\n",
    "    colors = ('red', 'blue', 'lightgreen', 'gray', 'cyan')\n",
    "    cmap = ListedColormap(colors[:len(np.unique(y))])\n",
    "    # plot the decision surface\n",
    "    x1_min, x1_max = X[:, 0].min() - 1, X[:, 0].max() + 1\n",
    "    x2_min, x2_max = X[:, 1].min() - 1, X[:, 1].max() + 1\n",
    "    xx1, xx2 = np.meshgrid(np.arange(x1_min, x1_max, resolution), np.arange(x2_min, x2_max, resolution))\n",
    "    Z = classifier.predict(np.array([xx1.ravel(), xx2.ravel()]).T)\n",
    "    Z = Z.reshape(xx1.shape)\n",
    "    plt.contourf(xx1, xx2, Z, alpha=0.4, cmap=cmap)\n",
    "    plt.xlim(xx1.min(), xx1.max())\n",
    "    plt.ylim(xx2.min(), xx2.max())\n",
    "    # plot all samples\n",
    "    X_test, y_test = X[test_idx, :], y[test_idx]\n",
    "    for idx, cl in enumerate(np.unique(y)):\n",
    "        plt.scatter(x=X[y == cl, 0], y=X[y == cl, 1], alpha=0.8, c=cmap(idx), marker=markers[idx], label=cl)\n",
    "    # highlight test samples\n",
    "    if test_idx:\n",
    "        X_test, y_test = X[test_idx, :], y[test_idx]\n",
    "        plt.scatter(X_test[:, 0], X_test[:, 1], c='', alpha=1.0, linewidth=1, marker='o', s=55, label='test set')"
   ]
  },
  {
   "cell_type": "code",
   "execution_count": 191,
   "metadata": {
    "collapsed": false
   },
   "outputs": [
    {
     "data": {
      "image/png": "[encoded data removed]",
      "text/plain": [
       "<matplotlib.figure.Figure at 0x10009908>"
      ]
     },
     "metadata": {},
     "output_type": "display_data"
    }
   ],
   "source": [
    "# This code generates a visual plot by calling the plot_decision_regions we defined earlier.\n",
    "\n",
    "X_combined_std = np.vstack((X_train_std, X_test_std))\n",
    "y_combined = np.hstack((y_train, y_test))\n",
    "plot_decision_regions(X=X_combined_std, y=y_combined, classifier=ppn)\n",
    "plt.xlabel('Proportion of Government Seats Held by Women')\n",
    "plt.ylabel('Adolescent Fertility Rate')\n",
    "plt.legend(loc='upper right')\n",
    "plt.show()"
   ]
  },
  {
   "cell_type": "code",
   "execution_count": 155,
   "metadata": {
    "collapsed": false
   },
   "outputs": [],
   "source": [
    "# Now that we have looked at one plot we will plot the remaining two combinations of columns, starting with\n",
    "# the Percentage of Government Seats Held by Women and the Labor Force Participation Rate\n",
    "# selectedCols = ['SG.GEN.PARL.ZS','SL.TLF.CACT.MA.ZS','SP.ADO.TFRT']\n",
    "selectedCols = ['SG.GEN.PARL.ZS','SL.TLF.CACT.MA.ZS']\n",
    "X = df_all_2014[selectedCols]\n",
    "y = target\n",
    "\n",
    "from sklearn.cross_validation import train_test_split\n",
    "X_train, X_test, y_train, y_test = train_test_split(X, y, test_size=0.3, random_state=0)\n"
   ]
  },
  {
   "cell_type": "code",
   "execution_count": 156,
   "metadata": {
    "collapsed": true
   },
   "outputs": [],
   "source": [
    "# This code standardizes our data values, a necessary step to take since some values are represented in percentages and other\n",
    "# values are represented as very large integers.\n",
    "from sklearn.preprocessing import StandardScaler\n",
    "sc = StandardScaler()\n",
    "sc.fit(X_train)\n",
    "X_train_std = sc.transform(X_train)\n",
    "X_test_std = sc.transform(X_test)"
   ]
  },
  {
   "cell_type": "code",
   "execution_count": 157,
   "metadata": {
    "collapsed": false
   },
   "outputs": [
    {
     "data": {
      "text/plain": [
       "Perceptron(alpha=0.0001, class_weight=None, eta0=0.1, fit_intercept=True,\n",
       "      n_iter=40, n_jobs=1, penalty=None, random_state=0, shuffle=True,\n",
       "      verbose=0, warm_start=False)"
      ]
     },
     "execution_count": 157,
     "metadata": {},
     "output_type": "execute_result"
    }
   ],
   "source": [
    "# This code builds a Perceptron and fits the training data to it.\n",
    "from sklearn.linear_model import Perceptron\n",
    "ppn = Perceptron(n_iter=40, eta0=0.1, random_state=0)\n",
    "ppn.fit(X_train_std, y_train)"
   ]
  },
  {
   "cell_type": "code",
   "execution_count": 159,
   "metadata": {
    "collapsed": false
   },
   "outputs": [
    {
     "name": "stdout",
     "output_type": "stream",
     "text": [
      "Misclassified samples: 40\n"
     ]
    }
   ],
   "source": [
    "# This reports the number of samples that were misclassified by the model\n",
    "\n",
    "y_pred = ppn.predict(X_test_std)\n",
    "print('Misclassified samples: %d' % (y_test != y_pred).sum())"
   ]
  },
  {
   "cell_type": "code",
   "execution_count": 161,
   "metadata": {
    "collapsed": false
   },
   "outputs": [
    {
     "name": "stdout",
     "output_type": "stream",
     "text": [
      "Accuracy: 0.44\n"
     ]
    }
   ],
   "source": [
    "# This reports the accuracy of our predictor as a percentage\n",
    "\n",
    "from sklearn.metrics import accuracy_score\n",
    "print('Accuracy: %.2f' % accuracy_score(y_test, y_pred))"
   ]
  },
  {
   "cell_type": "code",
   "execution_count": 163,
   "metadata": {
    "collapsed": false
   },
   "outputs": [
    {
     "data": {
      "image/png": "[encoded data removed]",
      "text/plain": [
       "<matplotlib.figure.Figure at 0xc9bf390>"
      ]
     },
     "metadata": {},
     "output_type": "display_data"
    }
   ],
   "source": [
    "# This code generates a visual plot by calling the plot_decision_regions we defined earlier.\n",
    "\n",
    "X_combined_std = np.vstack((X_train_std, X_test_std))\n",
    "y_combined = np.hstack((y_train, y_test))\n",
    "plot_decision_regions(X=X_combined_std, y=y_combined, classifier=ppn)\n",
    "plt.xlabel('Proportion of Government Seats Held by Women')\n",
    "plt.ylabel('Labor Force Participation Rate')\n",
    "plt.legend(loc='lower right')\n",
    "plt.show()"
   ]
  },
  {
   "cell_type": "code",
   "execution_count": 164,
   "metadata": {
    "collapsed": true
   },
   "outputs": [],
   "source": [
    "# Finally we will plot the Adolescent Birth Rate together with the Labor Force Participation Rate.\n",
    "# selectedCols = ['SG.GEN.PARL.ZS','SL.TLF.CACT.MA.ZS','SP.ADO.TFRT']\n",
    "selectedCols = ['SP.ADO.TFRT','SL.TLF.CACT.MA.ZS']\n",
    "X = df_all_2014[selectedCols]\n",
    "y = target\n",
    "\n",
    "from sklearn.cross_validation import train_test_split\n",
    "X_train, X_test, y_train, y_test = train_test_split(X, y, test_size=0.3, random_state=0)\n"
   ]
  },
  {
   "cell_type": "code",
   "execution_count": 165,
   "metadata": {
    "collapsed": true
   },
   "outputs": [],
   "source": [
    "# This code standardizes our data values, a necessary step to take since some values are represented in percentages and other\n",
    "# values are represented as very large integers.\n",
    "from sklearn.preprocessing import StandardScaler\n",
    "sc = StandardScaler()\n",
    "sc.fit(X_train)\n",
    "X_train_std = sc.transform(X_train)\n",
    "X_test_std = sc.transform(X_test)"
   ]
  },
  {
   "cell_type": "code",
   "execution_count": 166,
   "metadata": {
    "collapsed": false
   },
   "outputs": [
    {
     "data": {
      "text/plain": [
       "Perceptron(alpha=0.0001, class_weight=None, eta0=0.1, fit_intercept=True,\n",
       "      n_iter=40, n_jobs=1, penalty=None, random_state=0, shuffle=True,\n",
       "      verbose=0, warm_start=False)"
      ]
     },
     "execution_count": 166,
     "metadata": {},
     "output_type": "execute_result"
    }
   ],
   "source": [
    "# This code builds a Perceptron and fits the training data to it.\n",
    "from sklearn.linear_model import Perceptron\n",
    "ppn = Perceptron(n_iter=40, eta0=0.1, random_state=0)\n",
    "ppn.fit(X_train_std, y_train)"
   ]
  },
  {
   "cell_type": "code",
   "execution_count": 167,
   "metadata": {
    "collapsed": false
   },
   "outputs": [
    {
     "name": "stdout",
     "output_type": "stream",
     "text": [
      "Misclassified samples: 58\n"
     ]
    }
   ],
   "source": [
    "# This reports the number of samples that were misclassified by the model\n",
    "\n",
    "y_pred = ppn.predict(X_test_std)\n",
    "print('Misclassified samples: %d' % (y_test != y_pred).sum())"
   ]
  },
  {
   "cell_type": "code",
   "execution_count": 168,
   "metadata": {
    "collapsed": false
   },
   "outputs": [
    {
     "name": "stdout",
     "output_type": "stream",
     "text": [
      "Accuracy: 0.18\n"
     ]
    }
   ],
   "source": [
    "# This reports the accuracy of our predictor as a percentage\n",
    "\n",
    "from sklearn.metrics import accuracy_score\n",
    "print('Accuracy: %.2f' % accuracy_score(y_test, y_pred))"
   ]
  },
  {
   "cell_type": "code",
   "execution_count": 169,
   "metadata": {
    "collapsed": false
   },
   "outputs": [
    {
     "data": {
      "image/png": "[encoded data removed]",
      "text/plain": [
       "<matplotlib.figure.Figure at 0xc9d48d0>"
      ]
     },
     "metadata": {},
     "output_type": "display_data"
    }
   ],
   "source": [
    "# This code generates a visual plot by calling the plot_decision_regions we defined earlier.\n",
    "\n",
    "X_combined_std = np.vstack((X_train_std, X_test_std))\n",
    "y_combined = np.hstack((y_train, y_test))\n",
    "plot_decision_regions(X=X_combined_std, y=y_combined, classifier=ppn)\n",
    "plt.xlabel('Adolescent Birth Rate')\n",
    "plt.ylabel('Labor Force Participation Rate')\n",
    "plt.legend(loc='lower right')\n",
    "plt.show()"
   ]
  },
  {
   "cell_type": "markdown",
   "metadata": {},
   "source": [
    "Based upon what we have seen in the visualizations above, the most predictive combination of columns is found by combining the Percentage of Government Seats Held by Women with the Adolescent Birth Rate which had a predictive accuracy of 55%, compared with 44% and 18% for the other models.  This can be seen in the visualizations as well, where we see that the more accurate models show the red \"very poor\" countries in the predicted red area more often, while the less predictive visualizations have less correlation between the classification of a given object and the predictive area.  \n",
    "  \n",
    "In the following section we will now run a similar SVM but with many more indicators used as predictive variables than what we have used thus far.  The expectation is that by using additional predictive variables we will be able to achieve predictive accuracy much higher than 55%, even if the predictions will not be as easily visualized in graph form."
   ]
  },
  {
   "cell_type": "markdown",
   "metadata": {},
   "source": [
    "## Compare the advantages of each model  \n",
    "  \n",
    "   Please carefully\n",
    "describe every assumption and every step in your report.  \n",
    "  \n",
    "   [10 points] Discuss the advantages of each model for each classification task. Does one type\n",
    "of model offer superior performance over another in terms of prediction accuracy? In terms of\n",
    "training time or efficiency? Explain in detail."
   ]
  },
  {
   "cell_type": "markdown",
   "metadata": {},
   "source": [
    "## Use Weights to Interpret the Importance of each Feature  \n",
    "  \n",
    "  Please carefully describe every assumption and every step in your report.  \n",
    "    \n",
    "    [30 points] Use the weights from logistic regression to interpret the importance of different features for each classification task. Explain your interpretation in detail. Why do you think some variables are more important?"
   ]
  },
  {
   "cell_type": "markdown",
   "metadata": {},
   "source": [
    "## Interpret the chosen Support Vectors  \n",
    "  \n",
    "  Please carefully describe every assumption and every step in your report.  \n",
    "    \n",
    "     [10 points] Look at the chosen support vectors for the classification task. Do these provide any insight into the data? Explain."
   ]
  },
  {
   "cell_type": "code",
   "execution_count": null,
   "metadata": {
    "collapsed": true
   },
   "outputs": [],
   "source": []
  }
 ],
 "metadata": {
  "kernelspec": {
   "display_name": "Python [Root]",
   "language": "python",
   "name": "Python [Root]"
  },
  "language_info": {
   "codemirror_mode": {
    "name": "ipython",
    "version": 3
   },
   "file_extension": ".py",
   "mimetype": "text/x-python",
   "name": "python",
   "nbconvert_exporter": "python",
   "pygments_lexer": "ipython3",
   "version": "3.5.2"
  }
 },
 "nbformat": 4,
 "nbformat_minor": 0
}
