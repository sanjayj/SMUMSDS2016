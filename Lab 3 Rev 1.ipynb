{
 "cells": [
  {
   "cell_type": "markdown",
   "metadata": {},
   "source": [
    "# STATUS OF PAPER:  \n",
    "  \n",
    "    \n",
    "  \n",
    "<font color='red'>0% - Describe the purpose of the data set you selected (10 points)  </font>  \n",
    "<font color='red'>0% - Describe the meaning and type of data (scale, values, etc.) for each\n",
    "attribute in the data file. (10 points)  </font>  \n",
    "<font color='red'>0% -  Visualize the any important attributes appropriately. (10 points)  </font>   \n",
    "<font color='red'>0% -  Modeling and Evaluation (50 points)  </font>  \n",
    "<font color='red'>0% -  Be critical of your performance and tell the reader how you current model might be usable by\n",
    "other parties. (10 points)  </font>    \n",
    "<font color='red'>0% -  Exceptional work (10 points)  </font>  \n",
    "  "
   ]
  },
  {
   "cell_type": "markdown",
   "metadata": {},
   "source": [
    "# Business Understanding (10 points total).\n",
    "• [10 points] Describe the purpose of the data set you selected (i.e., why was this data\n",
    "collected in the first place?). How will you measure the effectiveness of a good \n",
    "algorithm? Why does your chosen validation method make sense for this specific\n",
    "dataset and the stakeholders needs?\n",
    "Data Understanding (20 points total)"
   ]
  },
  {
   "cell_type": "markdown",
   "metadata": {},
   "source": [
    "# Data Understanding (20 points total)  \n",
    "\n",
    "• [10 points] Describe the meaning and type of data (scale, values, etc.) for each\n",
    "attribute in the data file. Verify data quality: Are there missing values? Duplicate data?\n",
    "Outliers? Are those mistakes? How do you deal with these problems?"
   ]
  },
  {
   "cell_type": "markdown",
   "metadata": {},
   "source": [
    "• [10 points] Visualize the any important attributes appropriately. Important: Provide an\n",
    "interpretation for any charts or graphs."
   ]
  },
  {
   "cell_type": "markdown",
   "metadata": {},
   "source": [
    "# Modeling and Evaluation (50 points total)  \n",
    "\n",
    "Different tasks will require different evaluation methods. Be as thorough as possible when analyzing\n",
    "the data you have chosen and use visualizations of the results to explain the performance and\n",
    "expected outcomes whenever possible. Guide the reader through your analysis with plenty of\n",
    "discussion of the results.  \n",
    "\n",
    "• Option A: Cluster Analysis\n",
    "• Perform cluster analysis using several clustering methods\n",
    "• How did you determine a suitable number of clusters for each method?\n",
    "• Use internal and/or external validation measures to describe and compare the\n",
    "clusterings and the clusters (some visual methods would be good).\n",
    "• Describe your results. What findings are the most interesting and why?\n",
    "  \n",
    "• Option B: Association Rule Mining\n",
    "• Create frequent itemsets and association rules.\n",
    "• Use tables/visualization to discuss the found results.\n",
    "• Use several measure for evaluating how interesting different rules are.\n",
    "• Describe your results. What findings are the most compelling and why?\n",
    "  \n",
    "• Option C: Collaborative Filtering\n",
    "• Create user-item matrices or item-item matrices using collaborative filtering\n",
    "• Determine performance of the recommendations using different performance measures\n",
    "and explain what each measure\n",
    "• Use tables/visualization to discuss the found results. Explain each visualization in detail.\n",
    "• Describe your results. What findings are the most compelling and why?"
   ]
  },
  {
   "cell_type": "markdown",
   "metadata": {},
   "source": [
    "# Deployment (10 points total)  \n",
    "• Be critical of your performance and tell the reader how you current model might be usable by\n",
    "other parties. Did you achieve your goals? If not, can you reign in the utility of your modeling?\n",
    "• How useful is your model for interested parties (i.e., the companies or organizations\n",
    "that might want to use it)?\n",
    "• How would your deploy your model for interested parties?\n",
    "• What other data should be collected?\n",
    "• How often would the model need to be updated, etc.?"
   ]
  },
  {
   "cell_type": "markdown",
   "metadata": {},
   "source": [
    "# Exceptional Work (10 points total)  \n",
    "\n",
    "• You have free reign to provide additional analyses or combine analyses"
   ]
  },
  {
   "cell_type": "code",
   "execution_count": null,
   "metadata": {
    "collapsed": true
   },
   "outputs": [],
   "source": []
  },
  {
   "cell_type": "code",
   "execution_count": null,
   "metadata": {
    "collapsed": true
   },
   "outputs": [],
   "source": []
  },
  {
   "cell_type": "code",
   "execution_count": null,
   "metadata": {
    "collapsed": true
   },
   "outputs": [],
   "source": []
  }
 ],
 "metadata": {
  "kernelspec": {
   "display_name": "Python [Root]",
   "language": "python",
   "name": "Python [Root]"
  },
  "language_info": {
   "codemirror_mode": {
    "name": "ipython",
    "version": 3
   },
   "file_extension": ".py",
   "mimetype": "text/x-python",
   "name": "python",
   "nbconvert_exporter": "python",
   "pygments_lexer": "ipython3",
   "version": "3.5.2"
  }
 },
 "nbformat": 4,
 "nbformat_minor": 0
}
