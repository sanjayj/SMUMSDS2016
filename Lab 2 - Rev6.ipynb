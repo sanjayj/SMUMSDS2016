{
 "cells": [
  {
   "cell_type": "markdown",
   "metadata": {},
   "source": [
    "# STATUS OF PAPER:  \n",
    "  \n",
    "  \n",
    "<font color='green'>  \n",
    "100% - Define and prep class variables (10 points)  </font>  \n",
    "<font color='green'>100% - Describe the final dataset (5 points)  </font>  \n",
    "<font color='green'>100% -  Choose and explain your evaluation metrics (10 points)  </font>   \n",
    "<font color='green'>100% -  Choose the method for training/testing split (10 points)  </font>  \n",
    "<font color='green'>100% -  Create three classification models (20 points)  </font>   \n",
    "<font color='blue'>20% -  Analyze results (10 points)  </font>  \n",
    "<font color='blue'>20% -  Discuss advantages of each classification model (10 points)  </font>   \n",
    "<font color='red'>0% -  Which attributes are most important? (10 points)  </font>  \n",
    "<font color='green'>100% - How useful is your model? (5 points)  </font>  \n",
    "<font color='blue'>20% -  Exceptional work (10 points)  </font>  \n",
    "  \n",
    "\n",
    "Minimum work still needed:  \n",
    "Visualizations for the Analyze Results section  \n",
    "Statistical analysis for 95% certainty of difference for the Discuss Advantages section  \n",
    "The entirety of the \"Which attributes are most important\" section.  \n",
    "Getting the SVM classification to work for exceptional work\n",
    "finding and including some other exceptional work."
   ]
  },
  {
   "cell_type": "markdown",
   "metadata": {},
   "source": [
    "# Lab 2: Classification and/or Regression"
   ]
  },
  {
   "cell_type": "markdown",
   "metadata": {},
   "source": [
    "\n",
    "\n",
    "## Dataset Selection  \n",
    "\n",
    "<font color='blue'> Select a dataset identically to the way you selected for the first project work week and mini-project.\n",
    "You are not required to use the same dataset that you used in the past, but you are encouraged.\n",
    "You must identify two tasks from the dataset to regress or classify. That is:  \n",
    "• two classification tasks OR  \n",
    "• two regression tasks OR  \n",
    "• one classification task and one regression task  \n",
    "For example, if your dataset was from the diabetes data you might try to predict two tasks: (1)\n",
    "classifying if a patient will be readmitted within a 30 day period or not, and (2) regressing what the\n",
    "total number of days a patient will spend in the hospital, given their history and specifics of the\n",
    "encounter like tests administered and previous admittance. \n",
    "</font>"
   ]
  },
  {
   "cell_type": "markdown",
   "metadata": {},
   "source": [
    "For this lab assignment we have chosen to use the \"income\" dataset that was donated to the UCI machine learning database.  This dataset includes information on over 32,000 patients, and the information gathered includes their age, marital status, education, income, and others.  \n",
    "  \n",
    "There will be two classification tasks that we will perform on this data.  The first will be classifying individuals into two separate classes based upon whether or not they earned less than or more than 50,000 dollars a year.  This is the classification task for which the data was gathered, and will help provide insight into which factors best predict an individual's income level.  \n",
    "  \n",
    "The second classification task will be to classify individuals by their marital status such as married, never married, and divorced.  This will provide insight into how well economic factors can predict an individuals marital status to answer questions such as \"do married people generally earn more?\" or \"does earning more increase the odds of being or becoming divorced?\".  These questions can be of great interest to social scientists and legislators who may want to put forward new policy to account for or attempt to influence any trends found by these classification tasks."
   ]
  },
  {
   "cell_type": "markdown",
   "metadata": {},
   "source": [
    "## Data Preparation (15 points total)\n",
    "### • [10 points] Define and prepare your class variables.  \n",
    "<font color='blue'>Use proper variable representations (int, float, one-hot, etc.). Use pre-processing methods (as needed) for\n",
    "dimensionality reduction, scaling, etc. Remove variables that are not needed/useful for\n",
    "the analysis.</font>"
   ]
  },
  {
   "cell_type": "markdown",
   "metadata": {},
   "source": [
    "In the code below we will be importing the income dataset and preparing the class variables.  All variables in this dataset are either categorical variables or integer variables.  The integer variables are of different scales, for example the hours-per-week variable is an integer that generally falls within the range of 0-40, while the capital-gain variable can have values in the thousands.  For this reason we will be standardizing the integer values as part of our pre-processing.  \n",
    "  \n",
    "Furthermore, the categorical variables are represented by strings, which can pose issues with some of the processes we will be using in our classification tasks.  Therefore we will also be encoding the strings as integer labels as part of our preprocessing steps as well."
   ]
  },
  {
   "cell_type": "code",
   "execution_count": 3,
   "metadata": {
    "collapsed": false
   },
   "outputs": [
    {
     "name": "stderr",
     "output_type": "stream",
     "text": [
      "C:\\Users\\Bear\\Anaconda3\\lib\\site-packages\\matplotlib\\__init__.py:872: UserWarning: axes.color_cycle is deprecated and replaced with axes.prop_cycle; please use the latter.\n",
      "  warnings.warn(self.msg_depr % (key, alt_key))\n"
     ]
    }
   ],
   "source": [
    "# This code imports the packages we will be using, and sets parameters for the matplotlib.pylab package.\n",
    "\n",
    "from sklearn.neighbors import KNeighborsClassifier\n",
    "from sklearn.cross_validation import StratifiedKFold\n",
    "from sklearn import metrics as mt\n",
    "from sklearn.ensemble import RandomForestClassifier\n",
    "from sklearn.linear_model import LogisticRegression\n",
    "from sklearn.svm import SVC\n",
    "from sklearn import metrics as mt\n",
    "import sqlite3\n",
    "import pandas as pd\n",
    "import numpy as np\n",
    "import matplotlib.pyplot as plt\n",
    "import seaborn as sns\n",
    "import matplotlib.pylab as pylab\n",
    "params = {'legend.fontsize': 'x-large',\n",
    "          'figure.figsize': (15, 5),\n",
    "         'axes.labelsize': 'x-large',\n",
    "         'axes.titlesize':'x-large',\n",
    "         'xtick.labelsize':'x-large',\n",
    "         'ytick.labelsize':'x-large'}\n",
    "pylab.rcParams.update(params)\n",
    "%matplotlib inline\n",
    "\n"
   ]
  },
  {
   "cell_type": "code",
   "execution_count": 4,
   "metadata": {
    "collapsed": true
   },
   "outputs": [],
   "source": [
    "# Path to where all of the data set files resides \n",
    "path = 'C:/Users/Bear/data'"
   ]
  },
  {
   "cell_type": "code",
   "execution_count": 5,
   "metadata": {
    "collapsed": false
   },
   "outputs": [
    {
     "name": "stdout",
     "output_type": "stream",
     "text": [
      "<class 'pandas.core.frame.DataFrame'>\n",
      "Int64Index: 32561 entries, 0 to 32560\n",
      "Data columns (total 15 columns):\n",
      "age               32561 non-null int64\n",
      "workclass         32561 non-null object\n",
      "fnlwgt            32561 non-null int64\n",
      "education         32561 non-null object\n",
      "education-num     32561 non-null int64\n",
      "marital-status    32561 non-null object\n",
      "occupation        32561 non-null object\n",
      "relationship      32561 non-null object\n",
      "race              32561 non-null object\n",
      "sex               32561 non-null object\n",
      "capital-gain      32561 non-null int64\n",
      "capital-loss      32561 non-null int64\n",
      "hours-per-week    32561 non-null int64\n",
      "native-country    32561 non-null object\n",
      "target            32561 non-null object\n",
      "dtypes: int64(6), object(9)\n",
      "memory usage: 4.0+ MB\n"
     ]
    },
    {
     "data": {
      "text/html": [
       "<div>\n",
       "<table border=\"1\" class=\"dataframe\">\n",
       "  <thead>\n",
       "    <tr style=\"text-align: right;\">\n",
       "      <th></th>\n",
       "      <th>age</th>\n",
       "      <th>workclass</th>\n",
       "      <th>fnlwgt</th>\n",
       "      <th>education</th>\n",
       "      <th>education-num</th>\n",
       "      <th>marital-status</th>\n",
       "      <th>occupation</th>\n",
       "      <th>relationship</th>\n",
       "      <th>race</th>\n",
       "      <th>sex</th>\n",
       "      <th>capital-gain</th>\n",
       "      <th>capital-loss</th>\n",
       "      <th>hours-per-week</th>\n",
       "      <th>native-country</th>\n",
       "      <th>target</th>\n",
       "    </tr>\n",
       "  </thead>\n",
       "  <tbody>\n",
       "    <tr>\n",
       "      <th>0</th>\n",
       "      <td>39</td>\n",
       "      <td>State-gov</td>\n",
       "      <td>77516</td>\n",
       "      <td>Bachelors</td>\n",
       "      <td>13</td>\n",
       "      <td>Never-married</td>\n",
       "      <td>Adm-clerical</td>\n",
       "      <td>Not-in-family</td>\n",
       "      <td>White</td>\n",
       "      <td>Male</td>\n",
       "      <td>2174</td>\n",
       "      <td>0</td>\n",
       "      <td>40</td>\n",
       "      <td>United-States</td>\n",
       "      <td>&lt;=50K</td>\n",
       "    </tr>\n",
       "    <tr>\n",
       "      <th>1</th>\n",
       "      <td>50</td>\n",
       "      <td>Self-emp-not-inc</td>\n",
       "      <td>83311</td>\n",
       "      <td>Bachelors</td>\n",
       "      <td>13</td>\n",
       "      <td>Married-civ-spouse</td>\n",
       "      <td>Exec-managerial</td>\n",
       "      <td>Husband</td>\n",
       "      <td>White</td>\n",
       "      <td>Male</td>\n",
       "      <td>0</td>\n",
       "      <td>0</td>\n",
       "      <td>13</td>\n",
       "      <td>United-States</td>\n",
       "      <td>&lt;=50K</td>\n",
       "    </tr>\n",
       "    <tr>\n",
       "      <th>2</th>\n",
       "      <td>38</td>\n",
       "      <td>Private</td>\n",
       "      <td>215646</td>\n",
       "      <td>HS-grad</td>\n",
       "      <td>9</td>\n",
       "      <td>Divorced</td>\n",
       "      <td>Handlers-cleaners</td>\n",
       "      <td>Not-in-family</td>\n",
       "      <td>White</td>\n",
       "      <td>Male</td>\n",
       "      <td>0</td>\n",
       "      <td>0</td>\n",
       "      <td>40</td>\n",
       "      <td>United-States</td>\n",
       "      <td>&lt;=50K</td>\n",
       "    </tr>\n",
       "    <tr>\n",
       "      <th>3</th>\n",
       "      <td>53</td>\n",
       "      <td>Private</td>\n",
       "      <td>234721</td>\n",
       "      <td>11th</td>\n",
       "      <td>7</td>\n",
       "      <td>Married-civ-spouse</td>\n",
       "      <td>Handlers-cleaners</td>\n",
       "      <td>Husband</td>\n",
       "      <td>Black</td>\n",
       "      <td>Male</td>\n",
       "      <td>0</td>\n",
       "      <td>0</td>\n",
       "      <td>40</td>\n",
       "      <td>United-States</td>\n",
       "      <td>&lt;=50K</td>\n",
       "    </tr>\n",
       "    <tr>\n",
       "      <th>4</th>\n",
       "      <td>28</td>\n",
       "      <td>Private</td>\n",
       "      <td>338409</td>\n",
       "      <td>Bachelors</td>\n",
       "      <td>13</td>\n",
       "      <td>Married-civ-spouse</td>\n",
       "      <td>Prof-specialty</td>\n",
       "      <td>Wife</td>\n",
       "      <td>Black</td>\n",
       "      <td>Female</td>\n",
       "      <td>0</td>\n",
       "      <td>0</td>\n",
       "      <td>40</td>\n",
       "      <td>Cuba</td>\n",
       "      <td>&lt;=50K</td>\n",
       "    </tr>\n",
       "  </tbody>\n",
       "</table>\n",
       "</div>"
      ],
      "text/plain": [
       "   age          workclass  fnlwgt   education  education-num  \\\n",
       "0   39          State-gov   77516   Bachelors             13   \n",
       "1   50   Self-emp-not-inc   83311   Bachelors             13   \n",
       "2   38            Private  215646     HS-grad              9   \n",
       "3   53            Private  234721        11th              7   \n",
       "4   28            Private  338409   Bachelors             13   \n",
       "\n",
       "        marital-status          occupation    relationship    race      sex  \\\n",
       "0        Never-married        Adm-clerical   Not-in-family   White     Male   \n",
       "1   Married-civ-spouse     Exec-managerial         Husband   White     Male   \n",
       "2             Divorced   Handlers-cleaners   Not-in-family   White     Male   \n",
       "3   Married-civ-spouse   Handlers-cleaners         Husband   Black     Male   \n",
       "4   Married-civ-spouse      Prof-specialty            Wife   Black   Female   \n",
       "\n",
       "   capital-gain  capital-loss  hours-per-week  native-country  target  \n",
       "0          2174             0              40   United-States   <=50K  \n",
       "1             0             0              13   United-States   <=50K  \n",
       "2             0             0              40   United-States   <=50K  \n",
       "3             0             0              40   United-States   <=50K  \n",
       "4             0             0              40            Cuba   <=50K  "
      ]
     },
     "execution_count": 5,
     "metadata": {},
     "output_type": "execute_result"
    }
   ],
   "source": [
    "# This code reads in the initial csv file\n",
    "filename = path + '\\income.csv'\n",
    "df_income = pd.read_csv(filename) # read in the csv file\n",
    "df_income.info()\n",
    "df_income.head()"
   ]
  },
  {
   "cell_type": "code",
   "execution_count": 6,
   "metadata": {
    "collapsed": false
   },
   "outputs": [],
   "source": [
    "# This code creates a target array with 0 representing under 50,000 USD a year and 1 representing over 50,000 USD a year\n",
    "\n",
    "i = 0\n",
    "rangeLength = len(df_income)\n",
    "#print(rangeLength)\n",
    "target = []\n",
    "for i in range(0,rangeLength):\n",
    "    if df_income['target'].iloc[i] == \" <=50K\":\n",
    "        target.append(0)\n",
    "    else:\n",
    "        target.append(1)\n",
    "#print(target)"
   ]
  },
  {
   "cell_type": "code",
   "execution_count": 7,
   "metadata": {
    "collapsed": false
   },
   "outputs": [
    {
     "data": {
      "text/html": [
       "<div>\n",
       "<table border=\"1\" class=\"dataframe\">\n",
       "  <thead>\n",
       "    <tr style=\"text-align: right;\">\n",
       "      <th></th>\n",
       "      <th>age</th>\n",
       "      <th>workclass</th>\n",
       "      <th>fnlwgt</th>\n",
       "      <th>education</th>\n",
       "      <th>education-num</th>\n",
       "      <th>marital-status</th>\n",
       "      <th>occupation</th>\n",
       "      <th>relationship</th>\n",
       "      <th>race</th>\n",
       "      <th>sex</th>\n",
       "      <th>capital-gain</th>\n",
       "      <th>capital-loss</th>\n",
       "      <th>hours-per-week</th>\n",
       "      <th>native-country</th>\n",
       "      <th>income</th>\n",
       "    </tr>\n",
       "  </thead>\n",
       "  <tbody>\n",
       "    <tr>\n",
       "      <th>0</th>\n",
       "      <td>39</td>\n",
       "      <td>State-gov</td>\n",
       "      <td>77516</td>\n",
       "      <td>Bachelors</td>\n",
       "      <td>13</td>\n",
       "      <td>Never-married</td>\n",
       "      <td>Adm-clerical</td>\n",
       "      <td>Not-in-family</td>\n",
       "      <td>White</td>\n",
       "      <td>Male</td>\n",
       "      <td>2174</td>\n",
       "      <td>0</td>\n",
       "      <td>40</td>\n",
       "      <td>United-States</td>\n",
       "      <td>0</td>\n",
       "    </tr>\n",
       "    <tr>\n",
       "      <th>1</th>\n",
       "      <td>50</td>\n",
       "      <td>Self-emp-not-inc</td>\n",
       "      <td>83311</td>\n",
       "      <td>Bachelors</td>\n",
       "      <td>13</td>\n",
       "      <td>Married-civ-spouse</td>\n",
       "      <td>Exec-managerial</td>\n",
       "      <td>Husband</td>\n",
       "      <td>White</td>\n",
       "      <td>Male</td>\n",
       "      <td>0</td>\n",
       "      <td>0</td>\n",
       "      <td>13</td>\n",
       "      <td>United-States</td>\n",
       "      <td>0</td>\n",
       "    </tr>\n",
       "    <tr>\n",
       "      <th>2</th>\n",
       "      <td>38</td>\n",
       "      <td>Private</td>\n",
       "      <td>215646</td>\n",
       "      <td>HS-grad</td>\n",
       "      <td>9</td>\n",
       "      <td>Divorced</td>\n",
       "      <td>Handlers-cleaners</td>\n",
       "      <td>Not-in-family</td>\n",
       "      <td>White</td>\n",
       "      <td>Male</td>\n",
       "      <td>0</td>\n",
       "      <td>0</td>\n",
       "      <td>40</td>\n",
       "      <td>United-States</td>\n",
       "      <td>0</td>\n",
       "    </tr>\n",
       "    <tr>\n",
       "      <th>3</th>\n",
       "      <td>53</td>\n",
       "      <td>Private</td>\n",
       "      <td>234721</td>\n",
       "      <td>11th</td>\n",
       "      <td>7</td>\n",
       "      <td>Married-civ-spouse</td>\n",
       "      <td>Handlers-cleaners</td>\n",
       "      <td>Husband</td>\n",
       "      <td>Black</td>\n",
       "      <td>Male</td>\n",
       "      <td>0</td>\n",
       "      <td>0</td>\n",
       "      <td>40</td>\n",
       "      <td>United-States</td>\n",
       "      <td>0</td>\n",
       "    </tr>\n",
       "    <tr>\n",
       "      <th>4</th>\n",
       "      <td>28</td>\n",
       "      <td>Private</td>\n",
       "      <td>338409</td>\n",
       "      <td>Bachelors</td>\n",
       "      <td>13</td>\n",
       "      <td>Married-civ-spouse</td>\n",
       "      <td>Prof-specialty</td>\n",
       "      <td>Wife</td>\n",
       "      <td>Black</td>\n",
       "      <td>Female</td>\n",
       "      <td>0</td>\n",
       "      <td>0</td>\n",
       "      <td>40</td>\n",
       "      <td>Cuba</td>\n",
       "      <td>0</td>\n",
       "    </tr>\n",
       "  </tbody>\n",
       "</table>\n",
       "</div>"
      ],
      "text/plain": [
       "   age          workclass  fnlwgt   education  education-num  \\\n",
       "0   39          State-gov   77516   Bachelors             13   \n",
       "1   50   Self-emp-not-inc   83311   Bachelors             13   \n",
       "2   38            Private  215646     HS-grad              9   \n",
       "3   53            Private  234721        11th              7   \n",
       "4   28            Private  338409   Bachelors             13   \n",
       "\n",
       "        marital-status          occupation    relationship    race      sex  \\\n",
       "0        Never-married        Adm-clerical   Not-in-family   White     Male   \n",
       "1   Married-civ-spouse     Exec-managerial         Husband   White     Male   \n",
       "2             Divorced   Handlers-cleaners   Not-in-family   White     Male   \n",
       "3   Married-civ-spouse   Handlers-cleaners         Husband   Black     Male   \n",
       "4   Married-civ-spouse      Prof-specialty            Wife   Black   Female   \n",
       "\n",
       "   capital-gain  capital-loss  hours-per-week  native-country  income  \n",
       "0          2174             0              40   United-States       0  \n",
       "1             0             0              13   United-States       0  \n",
       "2             0             0              40   United-States       0  \n",
       "3             0             0              40   United-States       0  \n",
       "4             0             0              40            Cuba       0  "
      ]
     },
     "execution_count": 7,
     "metadata": {},
     "output_type": "execute_result"
    }
   ],
   "source": [
    "# this code replaces the existing 'target' variable with our newly created array of integer representations.\n",
    "\n",
    "df_income['income'] = target\n",
    "df_income = df_income.drop('target', axis=1)\n",
    "df_income.head()"
   ]
  },
  {
   "cell_type": "code",
   "execution_count": 8,
   "metadata": {
    "collapsed": false
   },
   "outputs": [
    {
     "data": {
      "text/html": [
       "<div>\n",
       "<table border=\"1\" class=\"dataframe\">\n",
       "  <thead>\n",
       "    <tr style=\"text-align: right;\">\n",
       "      <th></th>\n",
       "      <th>age</th>\n",
       "      <th>workclass</th>\n",
       "      <th>education</th>\n",
       "      <th>education-num</th>\n",
       "      <th>marital-status</th>\n",
       "      <th>occupation</th>\n",
       "      <th>relationship</th>\n",
       "      <th>race</th>\n",
       "      <th>sex</th>\n",
       "      <th>capital-gain</th>\n",
       "      <th>capital-loss</th>\n",
       "      <th>hours-per-week</th>\n",
       "      <th>native-country</th>\n",
       "      <th>income</th>\n",
       "    </tr>\n",
       "  </thead>\n",
       "  <tbody>\n",
       "    <tr>\n",
       "      <th>0</th>\n",
       "      <td>39</td>\n",
       "      <td>State-gov</td>\n",
       "      <td>Bachelors</td>\n",
       "      <td>13</td>\n",
       "      <td>Never-married</td>\n",
       "      <td>Adm-clerical</td>\n",
       "      <td>Not-in-family</td>\n",
       "      <td>White</td>\n",
       "      <td>Male</td>\n",
       "      <td>2174</td>\n",
       "      <td>0</td>\n",
       "      <td>40</td>\n",
       "      <td>United-States</td>\n",
       "      <td>0</td>\n",
       "    </tr>\n",
       "    <tr>\n",
       "      <th>1</th>\n",
       "      <td>50</td>\n",
       "      <td>Self-emp-not-inc</td>\n",
       "      <td>Bachelors</td>\n",
       "      <td>13</td>\n",
       "      <td>Married-civ-spouse</td>\n",
       "      <td>Exec-managerial</td>\n",
       "      <td>Husband</td>\n",
       "      <td>White</td>\n",
       "      <td>Male</td>\n",
       "      <td>0</td>\n",
       "      <td>0</td>\n",
       "      <td>13</td>\n",
       "      <td>United-States</td>\n",
       "      <td>0</td>\n",
       "    </tr>\n",
       "    <tr>\n",
       "      <th>2</th>\n",
       "      <td>38</td>\n",
       "      <td>Private</td>\n",
       "      <td>HS-grad</td>\n",
       "      <td>9</td>\n",
       "      <td>Divorced</td>\n",
       "      <td>Handlers-cleaners</td>\n",
       "      <td>Not-in-family</td>\n",
       "      <td>White</td>\n",
       "      <td>Male</td>\n",
       "      <td>0</td>\n",
       "      <td>0</td>\n",
       "      <td>40</td>\n",
       "      <td>United-States</td>\n",
       "      <td>0</td>\n",
       "    </tr>\n",
       "    <tr>\n",
       "      <th>3</th>\n",
       "      <td>53</td>\n",
       "      <td>Private</td>\n",
       "      <td>11th</td>\n",
       "      <td>7</td>\n",
       "      <td>Married-civ-spouse</td>\n",
       "      <td>Handlers-cleaners</td>\n",
       "      <td>Husband</td>\n",
       "      <td>Black</td>\n",
       "      <td>Male</td>\n",
       "      <td>0</td>\n",
       "      <td>0</td>\n",
       "      <td>40</td>\n",
       "      <td>United-States</td>\n",
       "      <td>0</td>\n",
       "    </tr>\n",
       "    <tr>\n",
       "      <th>4</th>\n",
       "      <td>28</td>\n",
       "      <td>Private</td>\n",
       "      <td>Bachelors</td>\n",
       "      <td>13</td>\n",
       "      <td>Married-civ-spouse</td>\n",
       "      <td>Prof-specialty</td>\n",
       "      <td>Wife</td>\n",
       "      <td>Black</td>\n",
       "      <td>Female</td>\n",
       "      <td>0</td>\n",
       "      <td>0</td>\n",
       "      <td>40</td>\n",
       "      <td>Cuba</td>\n",
       "      <td>0</td>\n",
       "    </tr>\n",
       "  </tbody>\n",
       "</table>\n",
       "</div>"
      ],
      "text/plain": [
       "   age          workclass   education  education-num       marital-status  \\\n",
       "0   39          State-gov   Bachelors             13        Never-married   \n",
       "1   50   Self-emp-not-inc   Bachelors             13   Married-civ-spouse   \n",
       "2   38            Private     HS-grad              9             Divorced   \n",
       "3   53            Private        11th              7   Married-civ-spouse   \n",
       "4   28            Private   Bachelors             13   Married-civ-spouse   \n",
       "\n",
       "           occupation    relationship    race      sex  capital-gain  \\\n",
       "0        Adm-clerical   Not-in-family   White     Male          2174   \n",
       "1     Exec-managerial         Husband   White     Male             0   \n",
       "2   Handlers-cleaners   Not-in-family   White     Male             0   \n",
       "3   Handlers-cleaners         Husband   Black     Male             0   \n",
       "4      Prof-specialty            Wife   Black   Female             0   \n",
       "\n",
       "   capital-loss  hours-per-week  native-country  income  \n",
       "0             0              40   United-States       0  \n",
       "1             0              13   United-States       0  \n",
       "2             0              40   United-States       0  \n",
       "3             0              40   United-States       0  \n",
       "4             0              40            Cuba       0  "
      ]
     },
     "execution_count": 8,
     "metadata": {},
     "output_type": "execute_result"
    }
   ],
   "source": [
    "# this code drops the \"fnlwgt\" variable, which is a weighting variable used for stratified sampling that is not going to be \n",
    "# useful for us in our classification tasks.\n",
    "\n",
    "df_income = df_income.drop('fnlwgt', axis=1)\n",
    "df_income.head()"
   ]
  },
  {
   "cell_type": "code",
   "execution_count": 9,
   "metadata": {
    "collapsed": false
   },
   "outputs": [
    {
     "name": "stderr",
     "output_type": "stream",
     "text": [
      "C:\\Users\\Bear\\Anaconda3\\lib\\site-packages\\sklearn\\utils\\validation.py:420: DataConversionWarning: Data with input dtype int64 was converted to float64 by MinMaxScaler.\n",
      "  warnings.warn(msg, DataConversionWarning)\n",
      "C:\\Users\\Bear\\Anaconda3\\lib\\site-packages\\sklearn\\preprocessing\\data.py:324: DeprecationWarning: Passing 1d arrays as data is deprecated in 0.17 and will raise ValueError in 0.19. Reshape your data either using X.reshape(-1, 1) if your data has a single feature or X.reshape(1, -1) if it contains a single sample.\n",
      "  warnings.warn(DEPRECATION_MSG_1D, DeprecationWarning)\n",
      "C:\\Users\\Bear\\Anaconda3\\lib\\site-packages\\sklearn\\preprocessing\\data.py:359: DeprecationWarning: Passing 1d arrays as data is deprecated in 0.17 and will raise ValueError in 0.19. Reshape your data either using X.reshape(-1, 1) if your data has a single feature or X.reshape(1, -1) if it contains a single sample.\n",
      "  warnings.warn(DEPRECATION_MSG_1D, DeprecationWarning)\n",
      "C:\\Users\\Bear\\Anaconda3\\lib\\site-packages\\sklearn\\utils\\validation.py:420: DataConversionWarning: Data with input dtype int64 was converted to float64 by MinMaxScaler.\n",
      "  warnings.warn(msg, DataConversionWarning)\n",
      "C:\\Users\\Bear\\Anaconda3\\lib\\site-packages\\sklearn\\preprocessing\\data.py:324: DeprecationWarning: Passing 1d arrays as data is deprecated in 0.17 and will raise ValueError in 0.19. Reshape your data either using X.reshape(-1, 1) if your data has a single feature or X.reshape(1, -1) if it contains a single sample.\n",
      "  warnings.warn(DEPRECATION_MSG_1D, DeprecationWarning)\n",
      "C:\\Users\\Bear\\Anaconda3\\lib\\site-packages\\sklearn\\preprocessing\\data.py:359: DeprecationWarning: Passing 1d arrays as data is deprecated in 0.17 and will raise ValueError in 0.19. Reshape your data either using X.reshape(-1, 1) if your data has a single feature or X.reshape(1, -1) if it contains a single sample.\n",
      "  warnings.warn(DEPRECATION_MSG_1D, DeprecationWarning)\n"
     ]
    },
    {
     "data": {
      "text/html": [
       "<div>\n",
       "<table border=\"1\" class=\"dataframe\">\n",
       "  <thead>\n",
       "    <tr style=\"text-align: right;\">\n",
       "      <th></th>\n",
       "      <th>age</th>\n",
       "      <th>workclass</th>\n",
       "      <th>education</th>\n",
       "      <th>education-num</th>\n",
       "      <th>marital-status</th>\n",
       "      <th>occupation</th>\n",
       "      <th>relationship</th>\n",
       "      <th>race</th>\n",
       "      <th>sex</th>\n",
       "      <th>capital-gain</th>\n",
       "      <th>capital-loss</th>\n",
       "      <th>hours-per-week</th>\n",
       "      <th>native-country</th>\n",
       "      <th>income</th>\n",
       "    </tr>\n",
       "  </thead>\n",
       "  <tbody>\n",
       "    <tr>\n",
       "      <th>0</th>\n",
       "      <td>39</td>\n",
       "      <td>State-gov</td>\n",
       "      <td>Bachelors</td>\n",
       "      <td>13</td>\n",
       "      <td>Never-married</td>\n",
       "      <td>Adm-clerical</td>\n",
       "      <td>Not-in-family</td>\n",
       "      <td>White</td>\n",
       "      <td>Male</td>\n",
       "      <td>2.174022</td>\n",
       "      <td>0</td>\n",
       "      <td>40</td>\n",
       "      <td>United-States</td>\n",
       "      <td>0</td>\n",
       "    </tr>\n",
       "    <tr>\n",
       "      <th>1</th>\n",
       "      <td>50</td>\n",
       "      <td>Self-emp-not-inc</td>\n",
       "      <td>Bachelors</td>\n",
       "      <td>13</td>\n",
       "      <td>Married-civ-spouse</td>\n",
       "      <td>Exec-managerial</td>\n",
       "      <td>Husband</td>\n",
       "      <td>White</td>\n",
       "      <td>Male</td>\n",
       "      <td>0.000000</td>\n",
       "      <td>0</td>\n",
       "      <td>13</td>\n",
       "      <td>United-States</td>\n",
       "      <td>0</td>\n",
       "    </tr>\n",
       "    <tr>\n",
       "      <th>2</th>\n",
       "      <td>38</td>\n",
       "      <td>Private</td>\n",
       "      <td>HS-grad</td>\n",
       "      <td>9</td>\n",
       "      <td>Divorced</td>\n",
       "      <td>Handlers-cleaners</td>\n",
       "      <td>Not-in-family</td>\n",
       "      <td>White</td>\n",
       "      <td>Male</td>\n",
       "      <td>0.000000</td>\n",
       "      <td>0</td>\n",
       "      <td>40</td>\n",
       "      <td>United-States</td>\n",
       "      <td>0</td>\n",
       "    </tr>\n",
       "    <tr>\n",
       "      <th>3</th>\n",
       "      <td>53</td>\n",
       "      <td>Private</td>\n",
       "      <td>11th</td>\n",
       "      <td>7</td>\n",
       "      <td>Married-civ-spouse</td>\n",
       "      <td>Handlers-cleaners</td>\n",
       "      <td>Husband</td>\n",
       "      <td>Black</td>\n",
       "      <td>Male</td>\n",
       "      <td>0.000000</td>\n",
       "      <td>0</td>\n",
       "      <td>40</td>\n",
       "      <td>United-States</td>\n",
       "      <td>0</td>\n",
       "    </tr>\n",
       "    <tr>\n",
       "      <th>4</th>\n",
       "      <td>28</td>\n",
       "      <td>Private</td>\n",
       "      <td>Bachelors</td>\n",
       "      <td>13</td>\n",
       "      <td>Married-civ-spouse</td>\n",
       "      <td>Prof-specialty</td>\n",
       "      <td>Wife</td>\n",
       "      <td>Black</td>\n",
       "      <td>Female</td>\n",
       "      <td>0.000000</td>\n",
       "      <td>0</td>\n",
       "      <td>40</td>\n",
       "      <td>Cuba</td>\n",
       "      <td>0</td>\n",
       "    </tr>\n",
       "  </tbody>\n",
       "</table>\n",
       "</div>"
      ],
      "text/plain": [
       "   age          workclass   education  education-num       marital-status  \\\n",
       "0   39          State-gov   Bachelors             13        Never-married   \n",
       "1   50   Self-emp-not-inc   Bachelors             13   Married-civ-spouse   \n",
       "2   38            Private     HS-grad              9             Divorced   \n",
       "3   53            Private        11th              7   Married-civ-spouse   \n",
       "4   28            Private   Bachelors             13   Married-civ-spouse   \n",
       "\n",
       "           occupation    relationship    race      sex  capital-gain  \\\n",
       "0        Adm-clerical   Not-in-family   White     Male      2.174022   \n",
       "1     Exec-managerial         Husband   White     Male      0.000000   \n",
       "2   Handlers-cleaners   Not-in-family   White     Male      0.000000   \n",
       "3   Handlers-cleaners         Husband   Black     Male      0.000000   \n",
       "4      Prof-specialty            Wife   Black   Female      0.000000   \n",
       "\n",
       "   capital-loss  hours-per-week  native-country  income  \n",
       "0             0              40   United-States       0  \n",
       "1             0              13   United-States       0  \n",
       "2             0              40   United-States       0  \n",
       "3             0              40   United-States       0  \n",
       "4             0              40            Cuba       0  "
      ]
     },
     "execution_count": 9,
     "metadata": {},
     "output_type": "execute_result"
    }
   ],
   "source": [
    "# This code standardizes the two continuous variables related to capital gain and capital loss.\n",
    "# We decided not to standardize any other variables as they are all either categorical variables, or they are on a \n",
    "# small scale that makes less sense if standardizes such as hours per week, age, and education-num.  \n",
    "# We standardize these values to a scale from 0 to 100, rather than a more traditional 0 to 1, in order to make them more \n",
    "# closely match the naturally occurring scales in the other variables.\n",
    "\n",
    "from sklearn.preprocessing import MinMaxScaler\n",
    "df_income['capital-gain'] = MinMaxScaler(feature_range=(0,100)).fit_transform(df_income['capital-gain'])\n",
    "df_income['capital-loss'] = MinMaxScaler(feature_range=(0,100)).fit_transform(df_income['capital-loss'])\n",
    "df_income.head()"
   ]
  },
  {
   "cell_type": "code",
   "execution_count": 10,
   "metadata": {
    "collapsed": false
   },
   "outputs": [
    {
     "data": {
      "text/html": [
       "<div>\n",
       "<table border=\"1\" class=\"dataframe\">\n",
       "  <thead>\n",
       "    <tr style=\"text-align: right;\">\n",
       "      <th></th>\n",
       "      <th>age</th>\n",
       "      <th>education-num</th>\n",
       "      <th>capital-gain</th>\n",
       "      <th>capital-loss</th>\n",
       "      <th>hours-per-week</th>\n",
       "      <th>workclass_ ?</th>\n",
       "      <th>workclass_ Federal-gov</th>\n",
       "      <th>workclass_ Local-gov</th>\n",
       "      <th>workclass_ Never-worked</th>\n",
       "      <th>workclass_ Private</th>\n",
       "      <th>...</th>\n",
       "      <th>native-country_ Portugal</th>\n",
       "      <th>native-country_ Puerto-Rico</th>\n",
       "      <th>native-country_ Scotland</th>\n",
       "      <th>native-country_ South</th>\n",
       "      <th>native-country_ Taiwan</th>\n",
       "      <th>native-country_ Thailand</th>\n",
       "      <th>native-country_ Trinadad&amp;Tobago</th>\n",
       "      <th>native-country_ United-States</th>\n",
       "      <th>native-country_ Vietnam</th>\n",
       "      <th>native-country_ Yugoslavia</th>\n",
       "    </tr>\n",
       "  </thead>\n",
       "  <tbody>\n",
       "    <tr>\n",
       "      <th>0</th>\n",
       "      <td>39</td>\n",
       "      <td>13</td>\n",
       "      <td>2.174022</td>\n",
       "      <td>0</td>\n",
       "      <td>40</td>\n",
       "      <td>0</td>\n",
       "      <td>0</td>\n",
       "      <td>0</td>\n",
       "      <td>0</td>\n",
       "      <td>0</td>\n",
       "      <td>...</td>\n",
       "      <td>0</td>\n",
       "      <td>0</td>\n",
       "      <td>0</td>\n",
       "      <td>0</td>\n",
       "      <td>0</td>\n",
       "      <td>0</td>\n",
       "      <td>0</td>\n",
       "      <td>1</td>\n",
       "      <td>0</td>\n",
       "      <td>0</td>\n",
       "    </tr>\n",
       "    <tr>\n",
       "      <th>1</th>\n",
       "      <td>50</td>\n",
       "      <td>13</td>\n",
       "      <td>0.000000</td>\n",
       "      <td>0</td>\n",
       "      <td>13</td>\n",
       "      <td>0</td>\n",
       "      <td>0</td>\n",
       "      <td>0</td>\n",
       "      <td>0</td>\n",
       "      <td>0</td>\n",
       "      <td>...</td>\n",
       "      <td>0</td>\n",
       "      <td>0</td>\n",
       "      <td>0</td>\n",
       "      <td>0</td>\n",
       "      <td>0</td>\n",
       "      <td>0</td>\n",
       "      <td>0</td>\n",
       "      <td>1</td>\n",
       "      <td>0</td>\n",
       "      <td>0</td>\n",
       "    </tr>\n",
       "    <tr>\n",
       "      <th>2</th>\n",
       "      <td>38</td>\n",
       "      <td>9</td>\n",
       "      <td>0.000000</td>\n",
       "      <td>0</td>\n",
       "      <td>40</td>\n",
       "      <td>0</td>\n",
       "      <td>0</td>\n",
       "      <td>0</td>\n",
       "      <td>0</td>\n",
       "      <td>1</td>\n",
       "      <td>...</td>\n",
       "      <td>0</td>\n",
       "      <td>0</td>\n",
       "      <td>0</td>\n",
       "      <td>0</td>\n",
       "      <td>0</td>\n",
       "      <td>0</td>\n",
       "      <td>0</td>\n",
       "      <td>1</td>\n",
       "      <td>0</td>\n",
       "      <td>0</td>\n",
       "    </tr>\n",
       "    <tr>\n",
       "      <th>3</th>\n",
       "      <td>53</td>\n",
       "      <td>7</td>\n",
       "      <td>0.000000</td>\n",
       "      <td>0</td>\n",
       "      <td>40</td>\n",
       "      <td>0</td>\n",
       "      <td>0</td>\n",
       "      <td>0</td>\n",
       "      <td>0</td>\n",
       "      <td>1</td>\n",
       "      <td>...</td>\n",
       "      <td>0</td>\n",
       "      <td>0</td>\n",
       "      <td>0</td>\n",
       "      <td>0</td>\n",
       "      <td>0</td>\n",
       "      <td>0</td>\n",
       "      <td>0</td>\n",
       "      <td>1</td>\n",
       "      <td>0</td>\n",
       "      <td>0</td>\n",
       "    </tr>\n",
       "    <tr>\n",
       "      <th>4</th>\n",
       "      <td>28</td>\n",
       "      <td>13</td>\n",
       "      <td>0.000000</td>\n",
       "      <td>0</td>\n",
       "      <td>40</td>\n",
       "      <td>0</td>\n",
       "      <td>0</td>\n",
       "      <td>0</td>\n",
       "      <td>0</td>\n",
       "      <td>1</td>\n",
       "      <td>...</td>\n",
       "      <td>0</td>\n",
       "      <td>0</td>\n",
       "      <td>0</td>\n",
       "      <td>0</td>\n",
       "      <td>0</td>\n",
       "      <td>0</td>\n",
       "      <td>0</td>\n",
       "      <td>0</td>\n",
       "      <td>0</td>\n",
       "      <td>0</td>\n",
       "    </tr>\n",
       "  </tbody>\n",
       "</table>\n",
       "<p>5 rows × 107 columns</p>\n",
       "</div>"
      ],
      "text/plain": [
       "   age  education-num  capital-gain  capital-loss  hours-per-week  \\\n",
       "0   39             13      2.174022             0              40   \n",
       "1   50             13      0.000000             0              13   \n",
       "2   38              9      0.000000             0              40   \n",
       "3   53              7      0.000000             0              40   \n",
       "4   28             13      0.000000             0              40   \n",
       "\n",
       "   workclass_ ?  workclass_ Federal-gov  workclass_ Local-gov  \\\n",
       "0             0                       0                     0   \n",
       "1             0                       0                     0   \n",
       "2             0                       0                     0   \n",
       "3             0                       0                     0   \n",
       "4             0                       0                     0   \n",
       "\n",
       "   workclass_ Never-worked  workclass_ Private             ...              \\\n",
       "0                        0                   0             ...               \n",
       "1                        0                   0             ...               \n",
       "2                        0                   1             ...               \n",
       "3                        0                   1             ...               \n",
       "4                        0                   1             ...               \n",
       "\n",
       "   native-country_ Portugal  native-country_ Puerto-Rico  \\\n",
       "0                         0                            0   \n",
       "1                         0                            0   \n",
       "2                         0                            0   \n",
       "3                         0                            0   \n",
       "4                         0                            0   \n",
       "\n",
       "   native-country_ Scotland  native-country_ South  native-country_ Taiwan  \\\n",
       "0                         0                      0                       0   \n",
       "1                         0                      0                       0   \n",
       "2                         0                      0                       0   \n",
       "3                         0                      0                       0   \n",
       "4                         0                      0                       0   \n",
       "\n",
       "   native-country_ Thailand  native-country_ Trinadad&Tobago  \\\n",
       "0                         0                                0   \n",
       "1                         0                                0   \n",
       "2                         0                                0   \n",
       "3                         0                                0   \n",
       "4                         0                                0   \n",
       "\n",
       "   native-country_ United-States  native-country_ Vietnam  \\\n",
       "0                              1                        0   \n",
       "1                              1                        0   \n",
       "2                              1                        0   \n",
       "3                              1                        0   \n",
       "4                              0                        0   \n",
       "\n",
       "   native-country_ Yugoslavia  \n",
       "0                           0  \n",
       "1                           0  \n",
       "2                           0  \n",
       "3                           0  \n",
       "4                           0  \n",
       "\n",
       "[5 rows x 107 columns]"
      ]
     },
     "execution_count": 10,
     "metadata": {},
     "output_type": "execute_result"
    }
   ],
   "source": [
    "# This code drops the target, then gives us one-hot encoding for the categorical variables, rather than a mix of integer values \n",
    "# and descriptive string values.  We will use this newly created \"df_dummies\" variable later on for classification that requires\n",
    "# one-hot encoding to perform well.\n",
    "df_intermediate = df_income.drop('income', axis=1)\n",
    "df_dummies = pd.get_dummies(df_intermediate)\n",
    "df_dummies.head()"
   ]
  },
  {
   "cell_type": "markdown",
   "metadata": {},
   "source": [
    "### • [5 points] Describe the final dataset that is used for classification/regression  \n",
    "\n",
    "<font color='blue'>\n",
    "(include a description of any newly formed variables you created). </font>"
   ]
  },
  {
   "cell_type": "markdown",
   "metadata": {},
   "source": [
    "The final dataset we have created consists only of continuous variables (some integers some scaled to floats), categorical variables that are represented as integers, and binary variables that are represented as integers.  For one classification task the response variable will be the \"income\" variable which represents a 0 for income less than 50,000 dollars a year and 1 for income greater than 50,000 dollars a year.  For the other classification task the response variable will be the \"education-num\" variable which is an integer value that represents the years of education attained for a given individual.  \n",
    "  \n",
    "Variables:\n",
    "Age - continuous(integer) - the individual's age in years.  \n",
    "workclass - categorical(integer) - the class of the worker's employment (self-employed, public, private, etc.).  \n",
    "education - categorical(integer) - the level of education obtained (high school, bachelor's degree, master's degree, etc.).  \n",
    "education-num - continuous(integer) - the level of education obtained as represented by number of years of education.  \n",
    "marital-status - categorical(integer) - The current marital status of the individual (married, never married, divorced, etc.).  \n",
    "occupation - categorical(integer) - The type of work the individual is employed in (executive, janitorial, etc.).  \n",
    "relationship - categorical(integer) - What part the individual plays in their current relationship (husband, wife, etc.).  \n",
    "race - categorical(integer) - the individual's race.  \n",
    "sex - categorical(binary) - the individual's gender where 0 is female and 1 is male.  \n",
    "capital-gain - continuous(scaled to float) - the individual's amount of capital gain as measured in US dollars.  \n",
    "capital-loss - continuous(scaled to float) - the individual's amount of capital loss as measured in US dollars.  \n",
    "native-country - categorical(integer) - the native country for that individual (USA, Ecuador, etc.).  \n",
    "income - categorical(binary) - The individuals general income level where 0 is less than 50,000 US dollars of income a year and 1 is more than 50,000 US dollars of income a year.  \n",
    "\n"
   ]
  },
  {
   "cell_type": "markdown",
   "metadata": {},
   "source": [
    "## • Modeling and Evaluation (70 points total)  \n",
    "### • [10 points] Choose and explain your evaluation metrics that you will use  \n",
    "\n",
    "<font color='blue'>\n",
    "(i.e., accuracy, precision, recall, F-measure, or any metric we have discussed). Why are the measure(s)\n",
    "appropriate for analyzing the results of your modeling? Give a detailed explanation\n",
    "backing up any assertions.  \n",
    "</font>\n",
    "\n",
    " \n",
    "\n"
   ]
  },
  {
   "cell_type": "markdown",
   "metadata": {},
   "source": [
    "The evaluation metric that we will be using for both classification tasks is accuracy.  This is appropriate because what makes these classification task results useful is how accurately they can predict the classification of newly observed individuals.  Furthermore, the intention of this model is to be presented to a wide audience, including non-technical audience members such as legislators, and so a simple evaluation metric of a single number is desireable.\n",
    "\n",
    "While some of the pitfalls of using precision and recall are avoided, including having an overly large confusion matrix, we still feel that they do not provide us with anything significantly more useful than what we already get from just using accuracy.  Specifically, we see the main benefit of using precision and recall as being able to place greater weight, or importance, on focusing on one part of the confusion matrix over others.  An example of this could be with medical treatments where missing a true diagnosis is so much more serious than missing a false diagnosis that it is more desireable to tune a model to place more weight on avoiding false negatives at the expense of allowing more false positives.  In our situation we do not care more or less for one type of error versus the other, therefore using precision and recall would needlessly introduce some small amount of complexity to no real benefit.  \n",
    "  \n",
    "  Finding the area under a POC curve would similarly introduce needless complexity with not much gained.  Explaining an accuracy percentage provides nearly the same information with much less effort expended and much less odds of the audience misunderstanding the explained results of the model.  We will therefore proceed with the evaluation metric of accuracy."
   ]
  },
  {
   "cell_type": "markdown",
   "metadata": {},
   "source": [
    "### • [10 points] Choose the method you will use for dividing your data into training and testing splits \n",
    "\n",
    "<font color='blue'>\n",
    "(i.e., are you using Stratified 10-fold cross validation? Why?). Explain why\n",
    "your chosen method is appropriate or use more than one method as appropriate.  \n",
    "</font>"
   ]
  },
  {
   "cell_type": "markdown",
   "metadata": {},
   "source": [
    "We will be using a different training and testing split method for each of our two classification tasks.  For the classification task related to the income variable we will be using stratified 5-fold cross validation, whereas for the classification task related to the marital-status variable we will be using stratified 10-fold cross validation.  \n",
    "  \n",
    "The reason we are using 5 folds for the first classification task is because we are running these tasks on consumer-grade equipment against a 30,000+ size dataset.  Therefore it is desireable to decrease the computing time for our model as much as possible.  We can get away with using fewer folds in this classification task, thus reducing our computing time, because we only have a binary response variable where both of the two response classes are represented well within the data, each having a frequency of at least ~25% of the data as seen below:"
   ]
  },
  {
   "cell_type": "code",
   "execution_count": 11,
   "metadata": {
    "collapsed": false
   },
   "outputs": [
    {
     "name": "stdout",
     "output_type": "stream",
     "text": [
      "Size of the dataset: (32561,)\n",
      "Number of unique classes: 2\n"
     ]
    },
    {
     "data": {
      "image/png": "[encoded data removed]",
      "text/plain": [
       "<matplotlib.figure.Figure at 0xaf976a0>"
      ]
     },
     "metadata": {},
     "output_type": "display_data"
    }
   ],
   "source": [
    "# This code shows a graphical representation of the class value distribution for the income variable.\n",
    "# This code was built upon the example provided in the \"Grand Poobah Classification Notebook\" from course materials\n",
    "\n",
    "print( 'Size of the dataset:', df_income['income'].shape)\n",
    "print( 'Number of unique classes:', len(df_income['income'].unique()))\n",
    "\n",
    "plt.hist(df_income['income'], bins=len(df_income['income'].unique()))\n",
    "plt.xlabel('Class value (one per marital status)')\n",
    "plt.ylabel('Class frequency')\n",
    "plt.show()"
   ]
  },
  {
   "cell_type": "markdown",
   "metadata": {},
   "source": [
    "Now, while both classes have  large frequency we still see that those with less than 50,000 USD of income a year number about three times as many individuals as those who make greater than 50,000 USD of income a year.  As such we feel that stratifying the k-fold cross validation will help prevent against any training/test splits that could have fewer than desired \"1\" classifications due to random chance.  \n",
    "  \n",
    "As for the marital-status classification task, we absolutely must stratify the cross validation because there are more classes and a far greater discrepancy in the relative frequency of those classes.  In fact, there are some classes with over 10,000 individuals classified by them whereas other classes describe almost no one.  Furthermore we must use 10 folds rather than 5 because of the small class frequency for some of these class values.  You can see more graphical details on the class frequency distribution below:"
   ]
  },
  {
   "cell_type": "code",
   "execution_count": 12,
   "metadata": {
    "collapsed": false
   },
   "outputs": [
    {
     "name": "stdout",
     "output_type": "stream",
     "text": [
      "Size of the dataset: (32561,)\n",
      "Number of unique classes: 7\n"
     ]
    },
    {
     "data": {
      "image/png": "[encoded data removed]",
      "text/plain": [
       "<matplotlib.figure.Figure at 0xb7c96d8>"
      ]
     },
     "metadata": {},
     "output_type": "display_data"
    }
   ],
   "source": [
    "# This code shows a graphical representation to the one above, this time for the marital-status variable.\n",
    "# This code was built upon the example provided in the \"Grand Poobah Classification Notebook\" from course materials\n",
    "\n",
    "from sklearn import preprocessing\n",
    "encoder = preprocessing.LabelEncoder()\n",
    "\n",
    "print( 'Size of the dataset:', df_income['marital-status'].shape)\n",
    "print( 'Number of unique classes:', len(df_income['marital-status'].unique()))\n",
    "\n",
    "maritalplot = encoder.fit_transform(df_income['marital-status'])\n",
    "\n",
    "plt.hist(maritalplot, bins=7)\n",
    "plt.xlabel('Class value (one per marital status)')\n",
    "plt.ylabel('Class frequency')\n",
    "plt.show()"
   ]
  },
  {
   "cell_type": "markdown",
   "metadata": {},
   "source": [
    "### • [20 points] Create three different classification/regression models \n",
    "(e.g., random forest, KNN, and SVM). Two modeling techniques must be new (but the third could be SVM or\n",
    "logistic regression). Adjust parameters as appropriate to increase generalization\n",
    "performance using your chosen metric.  "
   ]
  },
  {
   "cell_type": "code",
   "execution_count": 10,
   "metadata": {
    "collapsed": true
   },
   "outputs": [],
   "source": [
    "# Here we set the one-hot encoded \"dummy\" variables as the X and the original target variable (where 0 is <50K and 1 is >=50K) will\n",
    "# become our y.  We also initialize a y_hat variable.\n",
    "X = df_dummies\n",
    "y = np.array(target)\n",
    "y_hat = np.zeros(len(target)) \n",
    "\n",
    "# This creates our K fold model with 5 folds.\n",
    "cv = StratifiedKFold(y, n_folds=5)"
   ]
  },
  {
   "cell_type": "code",
   "execution_count": 13,
   "metadata": {
    "collapsed": false
   },
   "outputs": [
    {
     "name": "stdout",
     "output_type": "stream",
     "text": [
      "KNN accuracy when using  1  neighbors:  0.800558950892\n",
      "KNN accuracy when using  2  neighbors:  0.825312490403\n",
      "KNN accuracy when using  3  neighbors:  0.821627099905\n",
      "KNN accuracy when using  4  neighbors:  0.832713982986\n",
      "KNN accuracy when using  5  neighbors:  0.830564171862\n",
      "KNN accuracy when using  6  neighbors:  0.836061546021\n",
      "KNN accuracy when using  7  neighbors:  0.834310985535\n",
      "KNN accuracy when using  8  neighbors:  0.836890758883\n",
      "KNN accuracy when using  9  neighbors:  0.835785141734\n"
     ]
    }
   ],
   "source": [
    "# The following code section was built referencing the section 06 Classification notebook from our class materials.\n",
    "\n",
    "# This code will fit a K Nearest Neighbors classifier with 4 neighbors.  As mentioned before we will do 5 fold cross validation\n",
    "# for classifiers run against the income target variable for the purpose of sacrificing a little bit of accuracy for a lot of \n",
    "# speed in running the models.\n",
    "\n",
    "# This code iterates through the classifier task trying between 1 and 9 neighbors in the KNN. Eventually it finds that the \n",
    "# greatest accuracy is to be found when using 8 neighbors, which results in 83.69% accuracy as seen in the code output below.\n",
    "for i in range(1,10):\n",
    "    clf = KNeighborsClassifier(n_neighbors=i)\n",
    "    for train, test in cv:\n",
    "        clf.fit(X.iloc[train],y[train])\n",
    "        y_hat[test] = clf.predict(X.iloc[test])\n",
    "    total_accuracy = mt.accuracy_score(y, y_hat)\n",
    "    print('KNN accuracy when using ', i, \" neighbors: \", total_accuracy)"
   ]
  },
  {
   "cell_type": "markdown",
   "metadata": {},
   "source": [
    "### Results for KNN on Income target:  \n",
    "As seen in the code output above, the very best accuracy we obtained from a KNN classifier for the income target was 83.69%, and we obtained that accuracy when using the 8 nearest neighbors in our algorithm."
   ]
  },
  {
   "cell_type": "code",
   "execution_count": 12,
   "metadata": {
    "collapsed": false
   },
   "outputs": [
    {
     "name": "stdout",
     "output_type": "stream",
     "text": [
      "The accuracy obtained from using a depth of  10  and  50  estimators is:  0.856822579159\n",
      "The accuracy obtained from using a depth of  20  and  50  estimators is:  0.861705721569\n",
      "The accuracy obtained from using a depth of  30  and  50  estimators is:  0.856576886459\n",
      "The accuracy obtained from using a depth of  40  and  50  estimators is:  0.848714720064\n",
      "The accuracy obtained from using a depth of  50  and  50  estimators is:  0.84656490894\n",
      "The accuracy obtained from using a depth of  10  and  100  estimators is:  0.856945425509\n",
      "The accuracy obtained from using a depth of  20  and  100  estimators is:  0.863333435705\n",
      "The accuracy obtained from using a depth of  30  and  100  estimators is:  0.855532692485\n",
      "The accuracy obtained from using a depth of  40  and  100  estimators is:  0.850311722613\n",
      "The accuracy obtained from using a depth of  50  and  100  estimators is:  0.847025582752\n",
      "The accuracy obtained from using a depth of  10  and  150  estimators is:  0.857590368846\n",
      "The accuracy obtained from using a depth of  20  and  150  estimators is:  0.862749915543\n",
      "The accuracy obtained from using a depth of  30  and  150  estimators is:  0.857037560271\n",
      "The accuracy obtained from using a depth of  40  and  150  estimators is:  0.849144682289\n",
      "The accuracy obtained from using a depth of  50  and  150  estimators is:  0.848039065139\n"
     ]
    }
   ],
   "source": [
    "# The following code section was built referencing the section 06 Classification notebook from our class materials.\n",
    "\n",
    "# This section of code builds a random forest classifier, and tries it on a variety of depths and number of estimators to find\n",
    "# the very best configuration for highest accuracy score.\n",
    "\n",
    "depths = [10, 20, 30, 40, 50]\n",
    "estimators = [50, 100, 150]\n",
    "\n",
    "for estimator in estimators:\n",
    "    for depth in depths:\n",
    "        clf = RandomForestClassifier(max_depth=depth, n_estimators=estimator, n_jobs=-1, oob_score=True)\n",
    "        for train, test in cv:\n",
    "            clf.fit(X.iloc[train],y[train])\n",
    "            y_hat[test] = clf.predict(X.iloc[test])\n",
    "        total_accuracy = mt.accuracy_score(y, y_hat)\n",
    "        print('The accuracy obtained from using a depth of ', depth, ' and ', estimator, ' estimators is: ', total_accuracy)"
   ]
  },
  {
   "cell_type": "markdown",
   "metadata": {},
   "source": [
    "### Results for Random Forest on Income target:  \n",
    "As seen in the code output above, the highest accuracy we obtained from a random forests classifier was 86.37%, and that was obtained from a classifier with a tree depth of 20 and 150 estimators."
   ]
  },
  {
   "cell_type": "code",
   "execution_count": 40,
   "metadata": {
    "collapsed": false
   },
   "outputs": [
    {
     "name": "stdout",
     "output_type": "stream",
     "text": [
      "For the penalty option of  l1  and a C Value of  0.05 The accuracy obtained is:  0.849605356101\n",
      "For the penalty option of  l1  and a C Value of  0.1 The accuracy obtained is:  0.849728202451\n",
      "For the penalty option of  l1  and a C Value of  0.15 The accuracy obtained is:  0.8508338196\n",
      "For the penalty option of  l1  and a C Value of  0.25 The accuracy obtained is:  0.850925954363\n",
      "For the penalty option of  l1  and a C Value of  0.5 The accuracy obtained is:  0.851417339762\n",
      "For the penalty option of  l1  and a C Value of  0.75 The accuracy obtained is:  0.851325205\n",
      "For the penalty option of  l2  and a C Value of  0.05 The accuracy obtained is:  0.851540186112\n",
      "For the penalty option of  l2  and a C Value of  0.1 The accuracy obtained is:  0.850803108013\n",
      "For the penalty option of  l2  and a C Value of  0.15 The accuracy obtained is:  0.850987377538\n",
      "For the penalty option of  l2  and a C Value of  0.25 The accuracy obtained is:  0.851110223887\n",
      "For the penalty option of  l2  and a C Value of  0.5 The accuracy obtained is:  0.851294493412\n",
      "For the penalty option of  l2  and a C Value of  0.75 The accuracy obtained is:  0.851263781825\n"
     ]
    }
   ],
   "source": [
    "# This code section was built referencing the section 04 notebook from class materials.\n",
    "\n",
    "# This code builds a logistic regression classifier, then runs it for both the \"l1\" and \"l2\" penalty setting, cycling through\n",
    "# a number of C Values for each.  This allows us to then determine the best tuned configuration settings for maximum accuracy.\n",
    "\n",
    "penalties = ['l1','l2']\n",
    "CValues = [0.05,0.10,0.15,0.25,0.5,0.75]\n",
    "\n",
    "for penalty in penalties:\n",
    "    for CValue in CValues:\n",
    "        clf = LogisticRegression(penalty=penalty, C=CValue)\n",
    "        for train, test in cv:\n",
    "            clf.fit(X.iloc[train],y[train]) \n",
    "            y_hat[test] = clf.predict(X.iloc[test])\n",
    "        total_accuracy = mt.accuracy_score(y, y_hat)\n",
    "        print('For the penalty option of ', penalty, ' and a C Value of ', CValue, 'The accuracy obtained is: ', total_accuracy )"
   ]
  },
  {
   "cell_type": "markdown",
   "metadata": {},
   "source": [
    "### Results for Logistic Regression on Income target:  \n",
    "As seen in the code output above, the highest accuracy we obtained from a logistic regression classifier was 85.15%, and that was obtained from a classifier using the l2 penalty option and a C Value of 0.05."
   ]
  },
  {
   "cell_type": "code",
   "execution_count": null,
   "metadata": {
    "collapsed": false
   },
   "outputs": [],
   "source": [
    "# This code section was built referencing the section 04 notebook from class materials.\n",
    "\n",
    "# This code builds an SVM classifier, and runs looks to test that classifier with three C Values for\n",
    "# each of three different kernel options to find out what settings we should tune for to see the very highest accuracy.\n",
    "\n",
    "kernels = ['linear', 'poly', 'rbf']\n",
    "CValues = [0.25,0.5,0.75]\n",
    "\n",
    "for kernel in kernels:\n",
    "    for CValue in CValues:\n",
    "        clf = SVC(C=CValue, kernel=kernel, degree=3, gamma='auto') \n",
    "        for train, test in cv:\n",
    "            clf.fit(X.iloc[train], y[train]) \n",
    "            y_hat[test] = clf.predict(X.iloc[test])\n",
    "        total_accuracy = mt.accuracy_score(y, y_hat)\n",
    "        print('For the SVM kernel ', kernel, \" and the C Value of \", CValue, \" the accuracy obtained is: \", total_accuracy )"
   ]
  },
  {
   "cell_type": "code",
   "execution_count": 11,
   "metadata": {
    "collapsed": false
   },
   "outputs": [
    {
     "ename": "KeyboardInterrupt",
     "evalue": "",
     "output_type": "error",
     "traceback": [
      "\u001b[1;31m---------------------------------------------------------------------------\u001b[0m",
      "\u001b[1;31mKeyboardInterrupt\u001b[0m                         Traceback (most recent call last)",
      "\u001b[1;32m<ipython-input-11-6125969b67b8>\u001b[0m in \u001b[0;36m<module>\u001b[1;34m()\u001b[0m\n\u001b[0;32m      1\u001b[0m \u001b[0mclf\u001b[0m \u001b[1;33m=\u001b[0m \u001b[0mSVC\u001b[0m\u001b[1;33m(\u001b[0m\u001b[0mC\u001b[0m\u001b[1;33m=\u001b[0m\u001b[1;36m0.5\u001b[0m\u001b[1;33m,\u001b[0m \u001b[0mkernel\u001b[0m\u001b[1;33m=\u001b[0m\u001b[1;34m'rbf'\u001b[0m\u001b[1;33m,\u001b[0m \u001b[0mdegree\u001b[0m\u001b[1;33m=\u001b[0m\u001b[1;36m3\u001b[0m\u001b[1;33m,\u001b[0m \u001b[0mgamma\u001b[0m\u001b[1;33m=\u001b[0m\u001b[1;34m'auto'\u001b[0m\u001b[1;33m)\u001b[0m\u001b[1;33m\u001b[0m\u001b[0m\n\u001b[0;32m      2\u001b[0m \u001b[1;32mfor\u001b[0m \u001b[0mtrain\u001b[0m\u001b[1;33m,\u001b[0m \u001b[0mtest\u001b[0m \u001b[1;32min\u001b[0m \u001b[0mcv\u001b[0m\u001b[1;33m:\u001b[0m\u001b[1;33m\u001b[0m\u001b[0m\n\u001b[1;32m----> 3\u001b[1;33m     \u001b[0mclf\u001b[0m\u001b[1;33m.\u001b[0m\u001b[0mfit\u001b[0m\u001b[1;33m(\u001b[0m\u001b[0mX\u001b[0m\u001b[1;33m.\u001b[0m\u001b[0miloc\u001b[0m\u001b[1;33m[\u001b[0m\u001b[0mtrain\u001b[0m\u001b[1;33m]\u001b[0m\u001b[1;33m,\u001b[0m \u001b[0my\u001b[0m\u001b[1;33m[\u001b[0m\u001b[0mtrain\u001b[0m\u001b[1;33m]\u001b[0m\u001b[1;33m)\u001b[0m\u001b[1;33m\u001b[0m\u001b[0m\n\u001b[0m\u001b[0;32m      4\u001b[0m     \u001b[0my_hat\u001b[0m\u001b[1;33m[\u001b[0m\u001b[0mtest\u001b[0m\u001b[1;33m]\u001b[0m \u001b[1;33m=\u001b[0m \u001b[0mclf\u001b[0m\u001b[1;33m.\u001b[0m\u001b[0mpredict\u001b[0m\u001b[1;33m(\u001b[0m\u001b[0mX\u001b[0m\u001b[1;33m.\u001b[0m\u001b[0miloc\u001b[0m\u001b[1;33m[\u001b[0m\u001b[0mtest\u001b[0m\u001b[1;33m]\u001b[0m\u001b[1;33m)\u001b[0m\u001b[1;33m\u001b[0m\u001b[0m\n\u001b[0;32m      5\u001b[0m \u001b[1;33m\u001b[0m\u001b[0m\n",
      "\u001b[1;32mC:\\Users\\Bear\\Anaconda3\\lib\\site-packages\\sklearn\\svm\\base.py\u001b[0m in \u001b[0;36mfit\u001b[1;34m(self, X, y, sample_weight)\u001b[0m\n\u001b[0;32m    191\u001b[0m \u001b[1;33m\u001b[0m\u001b[0m\n\u001b[0;32m    192\u001b[0m         \u001b[0mseed\u001b[0m \u001b[1;33m=\u001b[0m \u001b[0mrnd\u001b[0m\u001b[1;33m.\u001b[0m\u001b[0mrandint\u001b[0m\u001b[1;33m(\u001b[0m\u001b[0mnp\u001b[0m\u001b[1;33m.\u001b[0m\u001b[0miinfo\u001b[0m\u001b[1;33m(\u001b[0m\u001b[1;34m'i'\u001b[0m\u001b[1;33m)\u001b[0m\u001b[1;33m.\u001b[0m\u001b[0mmax\u001b[0m\u001b[1;33m)\u001b[0m\u001b[1;33m\u001b[0m\u001b[0m\n\u001b[1;32m--> 193\u001b[1;33m         \u001b[0mfit\u001b[0m\u001b[1;33m(\u001b[0m\u001b[0mX\u001b[0m\u001b[1;33m,\u001b[0m \u001b[0my\u001b[0m\u001b[1;33m,\u001b[0m \u001b[0msample_weight\u001b[0m\u001b[1;33m,\u001b[0m \u001b[0msolver_type\u001b[0m\u001b[1;33m,\u001b[0m \u001b[0mkernel\u001b[0m\u001b[1;33m,\u001b[0m \u001b[0mrandom_seed\u001b[0m\u001b[1;33m=\u001b[0m\u001b[0mseed\u001b[0m\u001b[1;33m)\u001b[0m\u001b[1;33m\u001b[0m\u001b[0m\n\u001b[0m\u001b[0;32m    194\u001b[0m         \u001b[1;31m# see comment on the other call to np.iinfo in this file\u001b[0m\u001b[1;33m\u001b[0m\u001b[1;33m\u001b[0m\u001b[0m\n\u001b[0;32m    195\u001b[0m \u001b[1;33m\u001b[0m\u001b[0m\n",
      "\u001b[1;32mC:\\Users\\Bear\\Anaconda3\\lib\\site-packages\\sklearn\\svm\\base.py\u001b[0m in \u001b[0;36m_dense_fit\u001b[1;34m(self, X, y, sample_weight, solver_type, kernel, random_seed)\u001b[0m\n\u001b[0;32m    249\u001b[0m                 \u001b[0mcache_size\u001b[0m\u001b[1;33m=\u001b[0m\u001b[0mself\u001b[0m\u001b[1;33m.\u001b[0m\u001b[0mcache_size\u001b[0m\u001b[1;33m,\u001b[0m \u001b[0mcoef0\u001b[0m\u001b[1;33m=\u001b[0m\u001b[0mself\u001b[0m\u001b[1;33m.\u001b[0m\u001b[0mcoef0\u001b[0m\u001b[1;33m,\u001b[0m\u001b[1;33m\u001b[0m\u001b[0m\n\u001b[0;32m    250\u001b[0m                 \u001b[0mgamma\u001b[0m\u001b[1;33m=\u001b[0m\u001b[0mself\u001b[0m\u001b[1;33m.\u001b[0m\u001b[0m_gamma\u001b[0m\u001b[1;33m,\u001b[0m \u001b[0mepsilon\u001b[0m\u001b[1;33m=\u001b[0m\u001b[0mself\u001b[0m\u001b[1;33m.\u001b[0m\u001b[0mepsilon\u001b[0m\u001b[1;33m,\u001b[0m\u001b[1;33m\u001b[0m\u001b[0m\n\u001b[1;32m--> 251\u001b[1;33m                 max_iter=self.max_iter, random_seed=random_seed)\n\u001b[0m\u001b[0;32m    252\u001b[0m \u001b[1;33m\u001b[0m\u001b[0m\n\u001b[0;32m    253\u001b[0m         \u001b[0mself\u001b[0m\u001b[1;33m.\u001b[0m\u001b[0m_warn_from_fit_status\u001b[0m\u001b[1;33m(\u001b[0m\u001b[1;33m)\u001b[0m\u001b[1;33m\u001b[0m\u001b[0m\n",
      "\u001b[1;31mKeyboardInterrupt\u001b[0m: "
     ]
    }
   ],
   "source": [
    "# This code is for testing the SVM classifier, which seems to have a harder time running on my equipment compared\n",
    "# to the other classifiers\n",
    "\n",
    "clf = SVC(C=0.5, kernel='rbf', degree=3, gamma='auto')\n",
    "for train, test in cv:\n",
    "    clf.fit(X.iloc[train], y[train]) \n",
    "    y_hat[test] = clf.predict(X.iloc[test])\n",
    "    \n",
    "total_acuracy = mt.accuracy_score(y, y_hat)\n",
    "print('accuracy', total_accuracy)"
   ]
  },
  {
   "cell_type": "markdown",
   "metadata": {},
   "source": [
    "### Results for SVM on Income target:"
   ]
  },
  {
   "cell_type": "code",
   "execution_count": 20,
   "metadata": {
    "collapsed": false
   },
   "outputs": [],
   "source": [
    "# Here we set up a new target variable \"maritaltarget\" that includes the integer classification of the marital statuses included\n",
    "# in the data.  We then drop the marital-status column from the income dataset, and set our X as the newly formed dummy variable\n",
    "# dataset for the classification of the marriage status target variable.\n",
    "\n",
    "maritaltarget = maritalplot\n",
    "df_intermediateMarriage = df_income.drop('marital-status', axis=1)\n",
    "df_dummiesMarriage = pd.get_dummies(df_intermediateMarriage)\n",
    "\n",
    "#Now that we have newly formed datasets targeting the marital-status classification we will re-set our X, y, and y_hat variables.\n",
    "X = df_dummiesMarriage\n",
    "y = np.array(maritaltarget)\n",
    "y_hat = np.zeros(len(maritaltarget)) \n",
    "\n",
    "# This recreates our K fold model, only now with 10 folds rather than 5.\n",
    "cv = StratifiedKFold(y, n_folds=10)"
   ]
  },
  {
   "cell_type": "code",
   "execution_count": 21,
   "metadata": {
    "collapsed": false
   },
   "outputs": [
    {
     "name": "stdout",
     "output_type": "stream",
     "text": [
      "KNN accuracy when using  1  neighbors:  0.717391971991\n",
      "KNN accuracy when using  2  neighbors:  0.705291606523\n",
      "KNN accuracy when using  3  neighbors:  0.739227910691\n",
      "KNN accuracy when using  4  neighbors:  0.739565738153\n",
      "KNN accuracy when using  5  neighbors:  0.743404686588\n",
      "KNN accuracy when using  6  neighbors:  0.744663861675\n",
      "KNN accuracy when using  7  neighbors:  0.745370228187\n",
      "KNN accuracy when using  8  neighbors:  0.744878842787\n",
      "KNN accuracy when using  9  neighbors:  0.744940265962\n"
     ]
    }
   ],
   "source": [
    "# The following code section was built referencing the section 06 Classification notebook from our class materials.\n",
    "\n",
    "# This code repeats the previous KNN classification task, only this time it will give us the accuracy of the classification for\n",
    "# the marital status target variable because we have changed our X and y variables.\n",
    "\n",
    "for i in range(1,10):\n",
    "    clf = KNeighborsClassifier(n_neighbors=i)\n",
    "    for train, test in cv:\n",
    "        clf.fit(X.iloc[train],y[train])\n",
    "        y_hat[test] = clf.predict(X.iloc[test])\n",
    "    total_accuracy = mt.accuracy_score(y, y_hat)\n",
    "    print('KNN accuracy when using ', i, \" neighbors: \", total_accuracy)"
   ]
  },
  {
   "cell_type": "markdown",
   "metadata": {},
   "source": [
    "### Results for KNN on Marital Status target:  \n",
    "The best accuracy recorded for the KNN on the Marital Status target was 74.49%, which we obtained when using 9 neighbors.\n"
   ]
  },
  {
   "cell_type": "code",
   "execution_count": 22,
   "metadata": {
    "collapsed": false
   },
   "outputs": [
    {
     "name": "stdout",
     "output_type": "stream",
     "text": [
      "The accuracy obtained from using a depth of  10  and  50  estimators is:  0.831884770124\n",
      "The accuracy obtained from using a depth of  20  and  50  estimators is:  0.840207610331\n",
      "The accuracy obtained from using a depth of  30  and  50  estimators is:  0.83010349805\n",
      "The accuracy obtained from using a depth of  40  and  50  estimators is:  0.823807622616\n",
      "The accuracy obtained from using a depth of  50  and  50  estimators is:  0.822916986579\n",
      "The accuracy obtained from using a depth of  10  and  100  estimators is:  0.832314732349\n",
      "The accuracy obtained from using a depth of  20  and  100  estimators is:  0.840576149381\n",
      "The accuracy obtained from using a depth of  30  and  100  estimators is:  0.82985780535\n",
      "The accuracy obtained from using a depth of  40  and  100  estimators is:  0.824237584841\n",
      "The accuracy obtained from using a depth of  50  and  100  estimators is:  0.824513989128\n",
      "The accuracy obtained from using a depth of  10  and  150  estimators is:  0.832222597586\n",
      "The accuracy obtained from using a depth of  20  and  150  estimators is:  0.841251804306\n",
      "The accuracy obtained from using a depth of  30  and  150  estimators is:  0.830809864562\n",
      "The accuracy obtained from using a depth of  40  and  150  estimators is:  0.824145450078\n",
      "The accuracy obtained from using a depth of  50  and  150  estimators is:  0.825005374528\n"
     ]
    }
   ],
   "source": [
    "# The following code section was built referencing the section 06 Classification notebook from our class materials.\n",
    "\n",
    "# This code repeats the previous Random Forest classification task, only this time it will give us the accuracy of the classification for\n",
    "# the marital status target variable because we have changed our X and y variables.\n",
    "\n",
    "depths = [10, 20, 30, 40, 50]\n",
    "estimators = [50, 100, 150]\n",
    "\n",
    "for estimator in estimators:\n",
    "    for depth in depths:\n",
    "        clf = RandomForestClassifier(max_depth=depth, n_estimators=estimator, n_jobs=-1, oob_score=True)\n",
    "        for train, test in cv:\n",
    "            clf.fit(X.iloc[train],y[train])\n",
    "            y_hat[test] = clf.predict(X.iloc[test])\n",
    "        total_accuracy = mt.accuracy_score(y, y_hat)\n",
    "        print('The accuracy obtained from using a depth of ', depth, ' and ', estimator, ' estimators is: ', total_accuracy)"
   ]
  },
  {
   "cell_type": "markdown",
   "metadata": {},
   "source": [
    "### Results for Random Forest on Marital Status target:  \n",
    "The best accuracy we saw from the random forest classifier was 84.13%, which we saw when using a depth of 20 and 150 estimators."
   ]
  },
  {
   "cell_type": "code",
   "execution_count": 23,
   "metadata": {
    "collapsed": false
   },
   "outputs": [
    {
     "name": "stdout",
     "output_type": "stream",
     "text": [
      "For the penalty option of  l1  and a C Value of  0.05 The accuracy obtained is:  0.83864131937\n",
      "For the penalty option of  l1  and a C Value of  0.1 The accuracy obtained is:  0.839040570007\n",
      "For the penalty option of  l1  and a C Value of  0.15 The accuracy obtained is:  0.838794877307\n",
      "For the penalty option of  l1  and a C Value of  0.25 The accuracy obtained is:  0.83888701207\n",
      "For the penalty option of  l1  and a C Value of  0.5 The accuracy obtained is:  0.839194127944\n",
      "For the penalty option of  l1  and a C Value of  0.75 The accuracy obtained is:  0.839409109057\n",
      "For the penalty option of  l2  and a C Value of  0.05 The accuracy obtained is:  0.838794877307\n",
      "For the penalty option of  l2  and a C Value of  0.1 The accuracy obtained is:  0.838733454132\n",
      "For the penalty option of  l2  and a C Value of  0.15 The accuracy obtained is:  0.83900985842\n",
      "For the penalty option of  l2  and a C Value of  0.25 The accuracy obtained is:  0.839194127944\n",
      "For the penalty option of  l2  and a C Value of  0.5 The accuracy obtained is:  0.839593378582\n",
      "For the penalty option of  l2  and a C Value of  0.75 The accuracy obtained is:  0.839409109057\n"
     ]
    }
   ],
   "source": [
    "# This code section was built referencing the section 04 notebook from class materials.\n",
    "\n",
    "# This code repeats the previous Logistic Regression classification task, only this time it will give us the accuracy of the classification for\n",
    "# the marital status target variable because we have changed our X and y variables.\n",
    "\n",
    "penalties = ['l1','l2']\n",
    "CValues = [0.05,0.10,0.15,0.25,0.5,0.75]\n",
    "\n",
    "for penalty in penalties:\n",
    "    for CValue in CValues:\n",
    "        clf = LogisticRegression(penalty=penalty, C=CValue)\n",
    "        for train, test in cv:\n",
    "            clf.fit(X.iloc[train],y[train]) \n",
    "            y_hat[test] = clf.predict(X.iloc[test])\n",
    "        total_accuracy = mt.accuracy_score(y, y_hat)\n",
    "        print('For the penalty option of ', penalty, ' and a C Value of ', CValue, 'The accuracy obtained is: ', total_accuracy )"
   ]
  },
  {
   "cell_type": "markdown",
   "metadata": {},
   "source": [
    "### Results for Logistic Regression on Marital Status target:  \n",
    "The best accuracy we saw from the Logistic Regression classifier was 84.00%, which we saw when using the penalty option \"l2\" and a C value of 0.5.\n"
   ]
  },
  {
   "cell_type": "code",
   "execution_count": null,
   "metadata": {
    "collapsed": true
   },
   "outputs": [],
   "source": [
    "# This code section was built referencing the section 04 notebook from class materials.\n",
    "\n",
    "# This code repeats the previous SVM classification task, only this time it will give us the accuracy of the \n",
    "# classification for the marital status target variable because we have changed our X and y variables.\n",
    "\n",
    "kernels = ['linear', 'poly', 'rbf']\n",
    "CValues = [0.25,0.5,0.75]\n",
    "\n",
    "for kernel in kernels:\n",
    "    for CValue in CValues:\n",
    "        clf = SVC(C=CValue, kernel=kernel, degree=3, gamma='auto') \n",
    "        for train, test in cv:\n",
    "            clf.fit(X.iloc[train], y[train]) \n",
    "            y_hat[test] = clf.predict(X.iloc[test])\n",
    "        total_accuracy = mt.accuracy_score(y, y_hat)\n",
    "        print('For the SVM kernel ', kernel, \" and the C Value of \", CValue, \" the accuracy obtained is: \", total_accuracy )"
   ]
  },
  {
   "cell_type": "markdown",
   "metadata": {},
   "source": [
    "### Results for SVM on Marital Status target:  \n"
   ]
  },
  {
   "cell_type": "markdown",
   "metadata": {},
   "source": [
    "### • [10 points] Analyze the results using your chosen method of evaluation. \n",
    "Use visualizations of the results to bolster the analysis. Explain any visuals and analyze why\n",
    "they are interesting to someone that might use this model. "
   ]
  },
  {
   "cell_type": "markdown",
   "metadata": {},
   "source": [
    "Using the different classification tasks listed, we saw the following accuracy scores from the best tuning of each classification task:  \n",
    "### For the binary target \"income\":\n",
    "#### KNN = 83.69%\n",
    "#### Random Forest = 86.37%\n",
    "#### Logistic Regression = 85.15%\n",
    "#### SVM = TBD\n",
    "  \n",
    "### For the multinomial target \"marital-status\":\n",
    "#### KNN = 74.49%\n",
    "#### Random Forest = 84.13%\n",
    "#### Logistic Regression = 84.00%\n",
    "#### SVM = TBD\n"
   ]
  },
  {
   "cell_type": "markdown",
   "metadata": {},
   "source": [
    "### • [10 points] Discuss the advantages of each model for each classification task, if any. \n",
    "If there are not advantages, explain why. Is any model better than another? Is the\n",
    "difference significant with 95% confidence? Use proper statistical comparison methods.  "
   ]
  },
  {
   "cell_type": "markdown",
   "metadata": {},
   "source": [
    "For both the binomial class prediction and the multinomial class prediction it appears that Random Forest classification gave us the very best results in terms of accuracy.  In the binary class prediction there does not appear to be a major discrepancy in accuracy between the highest (random forests) and the lowest (KNN).  Furthermore, there was not a significant difference in speed of performance for any of the classification tasks run.  However, for the multinomial classification task on the target variable \"marital-status\" there was a much larger difference observed between the accuracy of the random forests classifier (84.13%) and the accuracy of the KNN classifier (74.49%).  There was little difference between using a random forest classifier and logistic regression either way."
   ]
  },
  {
   "cell_type": "markdown",
   "metadata": {},
   "source": [
    "### • [10 points] Which attributes from your analysis are most important? \n",
    "Use proper methods discussed in class to evaluate the importance of different attributes. Discuss\n",
    "the results and hypothesize about why certain attributes are more important than others\n",
    "for a given classification task.  "
   ]
  },
  {
   "cell_type": "markdown",
   "metadata": {},
   "source": [
    "## • Deployment (5 points total)  \n",
    "### • [5 points] How useful is your model for interested parties \n",
    "\n",
    "<font color='blue'>\n",
    "\n",
    "(i.e., the companies or organizations that might want to use it for prediction)? How would you measure the\n",
    "model's value if it was used by these parties? How would your deploy your model for\n",
    "interested parties? What other data should be collected? How often would the model\n",
    "need to be updated, etc.?\n",
    "\n",
    "</font>"
   ]
  },
  {
   "cell_type": "markdown",
   "metadata": {},
   "source": [
    "Organizations that may be interested in our model include economists, social scientists, and legislators.  Economists will be interested in seeing what factors contribute to an individual's general income level so that they can better understand modern economical factors that affect the population (in our case US workers).  Social scientists will be interested in seeing what factors contribute to a person's marital status so that they can better understand how the economic health of a family affects the health of the marriage.  Finally, legislators and other government officials will be interested in both of these effects so that they can draft legislation to support individual welfare for their citizens and the economic health of their country as a whole.  \n",
    "  \n",
    "We would measure the model's value for these parties by how accurately it is able to predict both of its classifications.  This is because the more accurately it predicts the class of individuals in the model the more useful any action taken by the legislators and other interested parties can be expected to be.  For example, if the classification is only 20% predictive of an individuals economic or marital health, then an economist or social scientist lecturer will not be likely to include the model in their class materials.  However, if that classification is 95% accurate in predicting the class then not only will these scientists be wise to teach concepts based on the model results but that model can be used reliably in their future research.  Likewise, if a legislator drafts a new law based upon results of the model and the model is inaccurate then that law will be ineffective at combating the effects that they thought were real but were really just based on modeling error.  \n",
    "  \n",
    "For economists and social scientists we would deploy this model by sharing both the results of our model and the code that produced those results, which will allow them to perform similar classification on other populations of interest to their studies and research.  For legislators we would instead show them only the results but not the code (which they would not be trained to understand) in order to provide a proof of concept.  After obtaining funding from those legislators we would then move forward with deploying this model against Census data for their country, which would not only help train the model to that country's specific situation but would provide historical insight into the situations the country's citizens have recently found themselves in.  Finally, we would prepare the code such that when new Census data was received one could quickly feed that data into the model and receive actionable insights tailored specifically to that country's situation.  \n",
    "  \n",
    "The other data that would be collected for this model include historical Census data specific to the country for which we are applying the model (as the existing data is restricted to a population of US individuals), as well as future Census data that would be collected after the initial model had already been built.  In this situation the model would need to be updated every Census cycle as new data is collected, which for the US would be every 10 years.  If the customer for the model is an economist or social scientist that is unaffiliated with any government entity but is interested in doing their own research, then the additional data needed will be survey data from the population of interest for their research.  In this situation the model will need to be updated anytime new survey data is collected.  "
   ]
  },
  {
   "cell_type": "markdown",
   "metadata": {},
   "source": [
    "## • Exceptional Work (10 points total)\n",
    "### • You have free reign to provide additional modeling.  \n",
    "### • One idea: grid search parameters in a parallelized fashion and visualize the performances across attributes.  \n",
    "Which parameters are most significant for making a\n",
    "good model for each classification algorithm?"
   ]
  },
  {
   "cell_type": "code",
   "execution_count": null,
   "metadata": {
    "collapsed": true
   },
   "outputs": [],
   "source": []
  },
  {
   "cell_type": "markdown",
   "metadata": {},
   "source": [
    "# All Beware the Graveyard of Unused Code!"
   ]
  },
  {
   "cell_type": "code",
   "execution_count": 11,
   "metadata": {
    "collapsed": false
   },
   "outputs": [
    {
     "data": {
      "text/html": [
       "<div>\n",
       "<table border=\"1\" class=\"dataframe\">\n",
       "  <thead>\n",
       "    <tr style=\"text-align: right;\">\n",
       "      <th></th>\n",
       "      <th>age</th>\n",
       "      <th>workclass</th>\n",
       "      <th>education</th>\n",
       "      <th>education-num</th>\n",
       "      <th>marital-status</th>\n",
       "      <th>occupation</th>\n",
       "      <th>relationship</th>\n",
       "      <th>race</th>\n",
       "      <th>sex</th>\n",
       "      <th>capital-gain</th>\n",
       "      <th>capital-loss</th>\n",
       "      <th>hours-per-week</th>\n",
       "      <th>native-country</th>\n",
       "      <th>income</th>\n",
       "    </tr>\n",
       "  </thead>\n",
       "  <tbody>\n",
       "    <tr>\n",
       "      <th>0</th>\n",
       "      <td>39</td>\n",
       "      <td>7</td>\n",
       "      <td>9</td>\n",
       "      <td>13</td>\n",
       "      <td>4</td>\n",
       "      <td>1</td>\n",
       "      <td>1</td>\n",
       "      <td>4</td>\n",
       "      <td>1</td>\n",
       "      <td>2.174022</td>\n",
       "      <td>0</td>\n",
       "      <td>40</td>\n",
       "      <td>39</td>\n",
       "      <td>0</td>\n",
       "    </tr>\n",
       "    <tr>\n",
       "      <th>1</th>\n",
       "      <td>50</td>\n",
       "      <td>6</td>\n",
       "      <td>9</td>\n",
       "      <td>13</td>\n",
       "      <td>2</td>\n",
       "      <td>4</td>\n",
       "      <td>0</td>\n",
       "      <td>4</td>\n",
       "      <td>1</td>\n",
       "      <td>0.000000</td>\n",
       "      <td>0</td>\n",
       "      <td>13</td>\n",
       "      <td>39</td>\n",
       "      <td>0</td>\n",
       "    </tr>\n",
       "    <tr>\n",
       "      <th>2</th>\n",
       "      <td>38</td>\n",
       "      <td>4</td>\n",
       "      <td>11</td>\n",
       "      <td>9</td>\n",
       "      <td>0</td>\n",
       "      <td>6</td>\n",
       "      <td>1</td>\n",
       "      <td>4</td>\n",
       "      <td>1</td>\n",
       "      <td>0.000000</td>\n",
       "      <td>0</td>\n",
       "      <td>40</td>\n",
       "      <td>39</td>\n",
       "      <td>0</td>\n",
       "    </tr>\n",
       "    <tr>\n",
       "      <th>3</th>\n",
       "      <td>53</td>\n",
       "      <td>4</td>\n",
       "      <td>1</td>\n",
       "      <td>7</td>\n",
       "      <td>2</td>\n",
       "      <td>6</td>\n",
       "      <td>0</td>\n",
       "      <td>2</td>\n",
       "      <td>1</td>\n",
       "      <td>0.000000</td>\n",
       "      <td>0</td>\n",
       "      <td>40</td>\n",
       "      <td>39</td>\n",
       "      <td>0</td>\n",
       "    </tr>\n",
       "    <tr>\n",
       "      <th>4</th>\n",
       "      <td>28</td>\n",
       "      <td>4</td>\n",
       "      <td>9</td>\n",
       "      <td>13</td>\n",
       "      <td>2</td>\n",
       "      <td>10</td>\n",
       "      <td>5</td>\n",
       "      <td>2</td>\n",
       "      <td>0</td>\n",
       "      <td>0.000000</td>\n",
       "      <td>0</td>\n",
       "      <td>40</td>\n",
       "      <td>5</td>\n",
       "      <td>0</td>\n",
       "    </tr>\n",
       "  </tbody>\n",
       "</table>\n",
       "</div>"
      ],
      "text/plain": [
       "   age  workclass  education  education-num  marital-status  occupation  \\\n",
       "0   39          7          9             13               4           1   \n",
       "1   50          6          9             13               2           4   \n",
       "2   38          4         11              9               0           6   \n",
       "3   53          4          1              7               2           6   \n",
       "4   28          4          9             13               2          10   \n",
       "\n",
       "   relationship  race  sex  capital-gain  capital-loss  hours-per-week  \\\n",
       "0             1     4    1      2.174022             0              40   \n",
       "1             0     4    1      0.000000             0              13   \n",
       "2             1     4    1      0.000000             0              40   \n",
       "3             0     2    1      0.000000             0              40   \n",
       "4             5     2    0      0.000000             0              40   \n",
       "\n",
       "   native-country  income  \n",
       "0              39       0  \n",
       "1              39       0  \n",
       "2              39       0  \n",
       "3              39       0  \n",
       "4               5       0  "
      ]
     },
     "execution_count": 11,
     "metadata": {},
     "output_type": "execute_result"
    }
   ],
   "source": [
    "# We did not end up using the code below as using a label encoder was inferior to creating a one-hot encoding because the \n",
    "# labelencoder assumes some positional relationship between values in our categorical variables, such as 2 being greater than 1 \n",
    "# when 2 really just represents \"divorced\" and 1 represents \"single\" or something.  As such we banished the label encoder to the \n",
    "# spooky graveyard of unused code.\n",
    "\n",
    "# This code turns all of our string entries into integer entries for the purposes of feeding them into the SVM.\n",
    "# The code in this section is based upon examples found at scikit-learn.org/stable/modules/preprocessing.html#label-encoding\n",
    "\n",
    "from sklearn import preprocessing\n",
    "encoder = preprocessing.LabelEncoder()\n",
    "df_income['workclass'] = encoder.fit_transform(df_income['workclass'])\n",
    "df_income['native-country'] = encoder.fit_transform(df_income['native-country'])\n",
    "df_income['education'] = encoder.fit_transform(df_income['education'])\n",
    "df_income['marital-status'] = encoder.fit_transform(df_income['marital-status'])\n",
    "df_income['occupation'] = encoder.fit_transform(df_income['occupation'])\n",
    "df_income['relationship'] = encoder.fit_transform(df_income['relationship'])\n",
    "df_income['race'] = encoder.fit_transform(df_income['race'])\n",
    "df_income['sex'] = encoder.fit_transform(df_income['sex'])\n",
    "\n",
    "df_income.head()"
   ]
  },
  {
   "cell_type": "code",
   "execution_count": null,
   "metadata": {
    "collapsed": true
   },
   "outputs": [],
   "source": []
  },
  {
   "cell_type": "code",
   "execution_count": null,
   "metadata": {
    "collapsed": true
   },
   "outputs": [],
   "source": []
  },
  {
   "cell_type": "code",
   "execution_count": null,
   "metadata": {
    "collapsed": true
   },
   "outputs": [],
   "source": []
  }
 ],
 "metadata": {
  "anaconda-cloud": {},
  "kernelspec": {
   "display_name": "Python 3",
   "language": "python",
   "name": "python3"
  },
  "language_info": {
   "codemirror_mode": {
    "name": "ipython",
    "version": 3
   },
   "file_extension": ".py",
   "mimetype": "text/x-python",
   "name": "python",
   "nbconvert_exporter": "python",
   "pygments_lexer": "ipython3",
   "version": "3.5.1"
  }
 },
 "nbformat": 4,
 "nbformat_minor": 0
}
