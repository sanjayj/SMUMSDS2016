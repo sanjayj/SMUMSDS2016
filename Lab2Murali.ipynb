{
 "cells": [
  {
   "cell_type": "code",
   "execution_count": 1,
   "metadata": {
    "collapsed": false
   },
   "outputs": [
    {
     "name": "stdout",
     "output_type": "stream",
     "text": [
      " Murali's First end to end project\n",
      " This is what you always wanted to do \n"
     ]
    }
   ],
   "source": [
    "print(\" Murali's First end to end project\")\n",
    "print (\" This is what you always wanted to do \")\n",
    "import numpy as np\n",
    "import pandas as pd\n",
    "import plotly.plotly as py\n",
    "import plotly.graph_objs as go\n",
    "from sklearn import preprocessing\n",
    "from sklearn import datasets, linear_model\n",
    "from sklearn.linear_model import BayesianRidge, LinearRegression\n",
    "import matplotlib.pyplot as plt\n",
    "from sklearn.decomposition import PCA"
   ]
  },
  {
   "cell_type": "code",
   "execution_count": 2,
   "metadata": {
    "collapsed": false
   },
   "outputs": [
    {
     "name": "stdout",
     "output_type": "stream",
     "text": [
      "<class 'pandas.core.frame.DataFrame'>\n",
      "RangeIndex: 32561 entries, 0 to 32560\n",
      "Data columns (total 15 columns):\n",
      "age               32561 non-null int64\n",
      "workclass         32561 non-null object\n",
      "fnlwgt            32561 non-null int64\n",
      "education         32561 non-null object\n",
      "education-num     32561 non-null int64\n",
      "marital-status    32561 non-null object\n",
      "occupation        32561 non-null object\n",
      "relationship      32561 non-null object\n",
      "race              32561 non-null object\n",
      "sex               32561 non-null object\n",
      "capital-gain      32561 non-null int64\n",
      "capital-loss      32561 non-null int64\n",
      "hours-per-week    32561 non-null int64\n",
      "native-country    32561 non-null object\n",
      "target            32561 non-null object\n",
      "dtypes: int64(6), object(9)\n",
      "memory usage: 3.7+ MB\n"
     ]
    },
    {
     "data": {
      "text/plain": [
       "RangeIndex(start=0, stop=32561, step=1)"
      ]
     },
     "execution_count": 2,
     "metadata": {},
     "output_type": "execute_result"
    }
   ],
   "source": [
    "# Import the data \n",
    "# Decide on the variable types \n",
    "# Everything is learning\n",
    "\n",
    "inputfile = \"/Users/murali/SMU/lab2/SMUMSDS2016/data/income.csv\"\n",
    "dfincome = pd.read_csv(inputfile)\n",
    "dfincome.info()\n",
    "dfincome.columns\n",
    "dfincome.index\n",
    " "
   ]
  },
  {
   "cell_type": "code",
   "execution_count": 3,
   "metadata": {
    "collapsed": false
   },
   "outputs": [],
   "source": [
    "# Work with work class\n",
    "# work with education\n",
    "# work with education_num\n",
    "# Work with maritial_status \n",
    "# work with Occupation\n",
    "# work with race \n",
    "# work with sex \n",
    "# work with capitalgain\n",
    "# work with capital loss \n",
    "# work with hours-per-week\n",
    "\n",
    "dfincome.workclass = dfincome.workclass.replace(' ?','NotReported')\n",
    "dfincome.occupation = dfincome.occupation.replace(' ?','NotReported')\n",
    "dfincome.workclass = dfincome.workclass.str.strip().replace('Never-worked','NotWorked')\n",
    "dfincome['native-country'] = dfincome['native-country'].replace(' ?','NotReported')\n",
    "dfincome['native-country'] = dfincome['native-country'].str.strip().replace('United-States','US')\n",
    "#dfincome.targetfinal = dfincome.target.str.strip().replace('>50K',1)\n",
    "#dfincome.targetfinal = dfincome.targetfinal.str.strip().replace(' <=50K','0')\n",
    "\n",
    "\n",
    "# Update Native Country \n",
    "#nativecountry = []\n",
    "#for row in dfincome['native-country']:\n",
    "#    if row.strip() == 'United-States':\n",
    "#         nativecountry.append('US') \n",
    "\n",
    " #   else:\n",
    "#         nativecountry.append(row)\n",
    "#dfincome['native-country'] = nativecountry\n",
    "\n",
    "#wclass = []\n",
    "#for row in dfincome['workclass']:\n",
    "#    if row.strip() == 'Never-worked':\n",
    "#         wclass.append('Neverworked') \n",
    "\n",
    "#    else:\n",
    "#         wclass.append(row)\n",
    "#dfincome['workclass'] = wclass \n",
    "\n",
    "\n",
    "targetfinal = []\n",
    "for row in dfincome['target']:\n",
    "    if row.strip() == '<=50K':\n",
    "        targetfinal.append(0) \n",
    "    \n",
    "    else:\n",
    "        targetfinal.append(1)\n",
    "dfincome['targetfinal'] = targetfinal\n",
    "\n"
   ]
  },
  {
   "cell_type": "code",
   "execution_count": 4,
   "metadata": {
    "collapsed": false
   },
   "outputs": [
    {
     "data": {
      "text/plain": [
       "array([0, 1])"
      ]
     },
     "execution_count": 4,
     "metadata": {},
     "output_type": "execute_result"
    }
   ],
   "source": [
    "dfincome.targetfinal.unique()"
   ]
  },
  {
   "cell_type": "code",
   "execution_count": 5,
   "metadata": {
    "collapsed": false
   },
   "outputs": [],
   "source": [
    "dfabove50K = pd.DataFrame()\n",
    "dfbelow50K = pd.DataFrame()\n",
    "#dfbelow50K = dfincome[[df]'age'].dfincome[dfincome['target'].str.strip() == '<=50K']\n",
    "#dfbelow50K = dfincome[dfincome['age'] & dfincome['targetfinal'] == '0' ]\n",
    "#dfabove50K = dfincome[dfincome['target'].str.strip() == '>50K']\n",
    "\n",
    "dfbelow50K = pd.DataFrame(dfincome.loc[dfincome.targetfinal == 0, ['age','targetfinal']])\n",
    "#dfabove50K = dfincome.loc[dfincome.targetfinal == '1', 'age']\n",
    "dfabove50K = pd.DataFrame(dfincome.loc[dfincome.targetfinal == 1, ['age','targetfinal']])\n"
   ]
  },
  {
   "cell_type": "code",
   "execution_count": 6,
   "metadata": {
    "collapsed": false
   },
   "outputs": [],
   "source": [
    "dfbelow50K['COUNTER'] = 1\n",
    "dfabove50K['COUNTER'] = 1\n",
    "dfbelow50K =  dfbelow50K.groupby('age')['COUNTER'].count() \n",
    "dfabove50K = dfabove50K.groupby('age')['COUNTER'].count()\n",
    "\n",
    " \n",
    "\n",
    " \n",
    " \n",
    " "
   ]
  },
  {
   "cell_type": "code",
   "execution_count": 7,
   "metadata": {
    "collapsed": false
   },
   "outputs": [
    {
     "data": {
      "text/plain": [
       "array([0, 1])"
      ]
     },
     "execution_count": 7,
     "metadata": {},
     "output_type": "execute_result"
    }
   ],
   "source": [
    "dfincome.targetfinal.unique()"
   ]
  },
  {
   "cell_type": "code",
   "execution_count": 8,
   "metadata": {
    "collapsed": false
   },
   "outputs": [],
   "source": [
    "#type(dfbelow50K)\n",
    "#dfbelow50K \n",
    "\n",
    "X = []\n",
    "Y1 = []\n",
    "for row in dfbelow50K.iteritems():\n",
    "    Y1.append(row[1])\n",
    "    X.append(row[0])\n",
    "Y2 = []\n",
    "for row in dfabove50K.iteritems():\n",
    "    Y2.append(row[1])\n",
    "    \n",
    "\n",
    " "
   ]
  },
  {
   "cell_type": "code",
   "execution_count": 9,
   "metadata": {
    "collapsed": false
   },
   "outputs": [
    {
     "data": {
      "text/html": [
       "<iframe id=\"igraph\" scrolling=\"no\" style=\"border:none;\" seamless=\"seamless\" src=\"https://plot.ly/~cnpsap/8.embed\" height=\"525px\" width=\"100%\"></iframe>"
      ],
      "text/plain": [
       "<plotly.tools.PlotlyDisplay object>"
      ]
     },
     "execution_count": 9,
     "metadata": {},
     "output_type": "execute_result"
    }
   ],
   "source": [
    "import plotly \n",
    "import plotly.graph_objs as go\n",
    "plotly.tools.set_credentials_file(username='cnpsap', api_key='nbs9yo1y2j')\n",
    "\n",
    "trace0 = go.Bar(\n",
    "    x=X,\n",
    "    y=Y1,\n",
    "    name='Less than 50',\n",
    "    marker=dict(\n",
    "        color='rgb(49,130,189)'\n",
    "    )\n",
    ")\n",
    "trace1 = go.Bar(\n",
    "    x=X,\n",
    "    y=Y2,\n",
    "    name='Greater than $50',\n",
    "    marker=dict(\n",
    "        color='rgb(204,204,204)',\n",
    "    )\n",
    ")\n",
    "\n",
    "data = [trace0, trace1]\n",
    "layout = go.Layout(\n",
    "    title=\" Age\",\n",
    "    xaxis=dict(tickangle=-45),\n",
    "    barmode='group',\n",
    ")\n",
    "\n",
    "fig = go.Figure(data=data, layout=layout)\n",
    "py.iplot(fig, filename='angled-text-bar')\n"
   ]
  },
  {
   "cell_type": "code",
   "execution_count": 11,
   "metadata": {
    "collapsed": false
   },
   "outputs": [
    {
     "data": {
      "text/html": [
       "<iframe id=\"igraph\" scrolling=\"no\" style=\"border:none;\" seamless=\"seamless\" src=\"https://plot.ly/~cnpsap/10.embed\" height=\"525px\" width=\"100%\"></iframe>"
      ],
      "text/plain": [
       "<plotly.tools.PlotlyDisplay object>"
      ]
     },
     "execution_count": 11,
     "metadata": {},
     "output_type": "execute_result"
    }
   ],
   "source": [
    "# Heat Map for Age \n",
    "# Index is the age\n",
    "# Create a Pandas Series \n",
    " \n",
    "dfageHeatmap1 = pd.DataFrame()\n",
    "dfageHeatmap2 = pd.DataFrame()\n",
    " \n",
    "dfageHeatmap1['<50K'] = Y1\n",
    "dfageHeatmap2['>=50K'] = Y2\n",
    "dfageHeatMap = pd.concat([dfageHeatmap1,dfageHeatmap2], ignore_index=True, axis=1)\n",
    "dfageHeatMap.index = X\n",
    "dfageHeatMap.columns = ['<50K','>=50K']\n",
    "\n",
    "dfageHeatMap['>=50K'].fillna('0',inplace=True)\n",
    "\n",
    "# Do the Heat map \n",
    "import plotly.plotly as py\n",
    "import plotly.graph_objs as go\n",
    "\n",
    "import pandas as pd\n",
    " \n",
    "data = [go.Heatmap(   x= X, y= dfageHeatMap.columns , z=dfageHeatMap.values.tolist(), colorscale='Viridis')]\n",
    "\n",
    "py.iplot(data, filename='pandas-heatmap',title=\"Heatmap\")\n"
   ]
  },
  {
   "cell_type": "code",
   "execution_count": 12,
   "metadata": {
    "collapsed": false
   },
   "outputs": [
    {
     "data": {
      "text/plain": [
       "Index([u'<50K', u'>=50K'], dtype='object')"
      ]
     },
     "execution_count": 12,
     "metadata": {},
     "output_type": "execute_result"
    }
   ],
   "source": [
    "dfageHeatMap.columns"
   ]
  },
  {
   "cell_type": "code",
   "execution_count": 13,
   "metadata": {
    "collapsed": true
   },
   "outputs": [],
   "source": [
    "# Get education-num  and get marital-status \n",
    "\n",
    "dfedubelow50K = pd.DataFrame(dfincome.loc[dfincome.targetfinal == 0, ['education-num','targetfinal']])\n",
    "#dfabove50K = dfincome.loc[dfincome.targetfinal == '1', 'age']\n",
    "dfeduabove50K = pd.DataFrame(dfincome.loc[dfincome.targetfinal == 1, ['education-num','targetfinal']])\n",
    "\n",
    "dfedubelow50K['COUNTER'] = 1\n",
    "dfeduabove50K['COUNTER'] = 1\n",
    "dfedubelow50K =  dfedubelow50K.groupby('education-num')['COUNTER'].count() \n",
    "dfeduabove50K = dfeduabove50K.groupby('education-num')['COUNTER'].count()"
   ]
  },
  {
   "cell_type": "code",
   "execution_count": 14,
   "metadata": {
    "collapsed": true
   },
   "outputs": [],
   "source": [
    "X = []\n",
    "Y1 = []\n",
    "for row in dfedubelow50K.iteritems():\n",
    "    Y1.append(row[1])\n",
    "    X.append(row[0])\n",
    "Y2 = []\n",
    "for row in dfeduabove50K.iteritems():\n",
    "    Y2.append(row[1])"
   ]
  },
  {
   "cell_type": "code",
   "execution_count": 15,
   "metadata": {
    "collapsed": false
   },
   "outputs": [
    {
     "data": {
      "text/html": [
       "<iframe id=\"igraph\" scrolling=\"no\" style=\"border:none;\" seamless=\"seamless\" src=\"https://plot.ly/~cnpsap/8.embed\" height=\"525px\" width=\"100%\"></iframe>"
      ],
      "text/plain": [
       "<plotly.tools.PlotlyDisplay object>"
      ]
     },
     "execution_count": 15,
     "metadata": {},
     "output_type": "execute_result"
    }
   ],
   "source": [
    "import plotly \n",
    "import plotly.graph_objs as go\n",
    "plotly.tools.set_credentials_file(username='cnpsap', api_key='nbs9yo1y2j')\n",
    "\n",
    "trace0 = go.Bar(\n",
    "    x=X,\n",
    "    y=Y1,\n",
    "    name='Less than 50',\n",
    "    marker=dict(\n",
    "        color='rgb(49,130,189)'\n",
    "    )\n",
    ")\n",
    "trace1 = go.Bar(\n",
    "    x=X,\n",
    "    y=Y2,\n",
    "    name='Greater than $50',\n",
    "    marker=dict(\n",
    "        color='rgb(204,204,204)',\n",
    "    )\n",
    ")\n",
    "\n",
    "data = [trace0, trace1]\n",
    "layout = go.Layout(\n",
    "    title='Number of years of Education',\n",
    "    xaxis=dict(tickangle=-45),\n",
    "    barmode='group',\n",
    ")\n",
    "\n",
    "fig = go.Figure(data=data, layout=layout)\n",
    "py.iplot(fig, filename='angled-text-bar')"
   ]
  },
  {
   "cell_type": "code",
   "execution_count": 85,
   "metadata": {
    "collapsed": false
   },
   "outputs": [
    {
     "data": {
      "text/html": [
       "<iframe id=\"igraph\" scrolling=\"no\" style=\"border:none;\" seamless=\"seamless\" src=\"https://plot.ly/~cnpsap/10.embed\" height=\"525px\" width=\"100%\"></iframe>"
      ],
      "text/plain": [
       "<plotly.tools.PlotlyDisplay object>"
      ]
     },
     "execution_count": 85,
     "metadata": {},
     "output_type": "execute_result"
    }
   ],
   "source": [
    "dfeduHeatmap1 = pd.DataFrame()\n",
    "dfeduHeatmap2 = pd.DataFrame()\n",
    " \n",
    "dfeduHeatmap1['<50K'] = Y1\n",
    "dfeduHeatmap2['>=50K'] = Y2\n",
    "dfeduHeatMap = pd.concat([dfeduHeatmap1,dfeduHeatmap2], ignore_index=True, axis=1)\n",
    "dfeduHeatMap.index = X\n",
    "dfeduHeatMap.columns = ['<50K','>=50K']\n",
    "\n",
    "dfeduHeatMap['>=50K'].fillna('0',inplace=True)\n",
    "\n",
    " # Do the Heat map \n",
    "import plotly.plotly as py\n",
    "import plotly.graph_objs as go\n",
    "\n",
    "import pandas as pd\n",
    " \n",
    "data = [go.Heatmap(   x= X, y= dfeduHeatMap.columns , z=dfeduHeatMap.values.tolist(), colorscale='Viridis')]\n",
    "\n",
    "py.iplot(data, filename='pandas-heatmap',title=\"Heatmap\")"
   ]
  },
  {
   "cell_type": "code",
   "execution_count": 16,
   "metadata": {
    "collapsed": false
   },
   "outputs": [],
   "source": [
    "# Get education-num  and get marital-status \n",
    "\n",
    "dfmarbelow50K = pd.DataFrame(dfincome.loc[dfincome.targetfinal == 0, ['marital-status','targetfinal']])\n",
    "#dfabove50K = dfincome.loc[dfincome.targetfinal == '1', 'age']\n",
    "dfmarabove50K = pd.DataFrame(dfincome.loc[dfincome.targetfinal == 1, ['marital-status','targetfinal']])\n",
    "\n",
    "dfmarbelow50K['COUNTER'] = 1\n",
    "dfmarabove50K['COUNTER'] = 1\n",
    "dfmarbelow50K =  dfmarbelow50K.groupby('marital-status')['COUNTER'].count() \n",
    "dfmarabove50K = dfmarabove50K.groupby('marital-status')['COUNTER'].count()"
   ]
  },
  {
   "cell_type": "code",
   "execution_count": 17,
   "metadata": {
    "collapsed": false
   },
   "outputs": [],
   "source": [
    "X = []\n",
    "Y1 = []\n",
    "for row in dfmarbelow50K.iteritems():\n",
    "    Y1.append(row[1])\n",
    "    X.append(row[0])\n",
    "Y2 = []\n",
    "for row in dfmarabove50K.iteritems():\n",
    "    Y2.append(row[1])"
   ]
  },
  {
   "cell_type": "code",
   "execution_count": 18,
   "metadata": {
    "collapsed": false
   },
   "outputs": [
    {
     "data": {
      "text/html": [
       "<iframe id=\"igraph\" scrolling=\"no\" style=\"border:none;\" seamless=\"seamless\" src=\"https://plot.ly/~cnpsap/8.embed\" height=\"525px\" width=\"100%\"></iframe>"
      ],
      "text/plain": [
       "<plotly.tools.PlotlyDisplay object>"
      ]
     },
     "execution_count": 18,
     "metadata": {},
     "output_type": "execute_result"
    }
   ],
   "source": [
    "import plotly \n",
    "import plotly.graph_objs as go\n",
    "plotly.tools.set_credentials_file(username='cnpsap', api_key='nbs9yo1y2j')\n",
    "\n",
    "trace0 = go.Bar(\n",
    "    x=X,\n",
    "    y=Y1,\n",
    "    name='Less than 50',\n",
    "    marker=dict(\n",
    "        color='rgb(49,130,189)'\n",
    "    )\n",
    ")\n",
    "trace1 = go.Bar(\n",
    "    x=X,\n",
    "    y=Y2,\n",
    "    name='Greater than $50',\n",
    "    marker=dict(\n",
    "        color='rgb(204,204,204)',\n",
    "    )\n",
    ")\n",
    "\n",
    "data = [trace0, trace1]\n",
    "layout = go.Layout(\n",
    "    title='Marital Status',\n",
    "    xaxis=dict(tickangle=-45),\n",
    "    barmode='group',\n",
    ")\n",
    "\n",
    "fig = go.Figure(data=data, layout=layout)\n",
    "py.iplot(fig, filename='angled-text-bar')"
   ]
  },
  {
   "cell_type": "code",
   "execution_count": 89,
   "metadata": {
    "collapsed": false
   },
   "outputs": [
    {
     "data": {
      "text/html": [
       "<iframe id=\"igraph\" scrolling=\"no\" style=\"border:none;\" seamless=\"seamless\" src=\"https://plot.ly/~cnpsap/10.embed\" height=\"525px\" width=\"100%\"></iframe>"
      ],
      "text/plain": [
       "<plotly.tools.PlotlyDisplay object>"
      ]
     },
     "execution_count": 89,
     "metadata": {},
     "output_type": "execute_result"
    }
   ],
   "source": [
    "dfmarHeatmap1 = pd.DataFrame()\n",
    "dfmarHeatmap2 = pd.DataFrame()\n",
    " \n",
    "dfmarHeatmap1['<50K'] = Y1\n",
    "dfmarHeatmap2['>=50K'] = Y2\n",
    "dfmarHeatMap = pd.concat([dfmarHeatmap1,dfmarHeatmap2], ignore_index=True, axis=1)\n",
    "dfmarHeatMap.index = X\n",
    "dfmarHeatMap.columns = ['<50K','>=50K']\n",
    "\n",
    "dfmarHeatMap['>=50K'].fillna('0',inplace=True)\n",
    "\n",
    " # Do the Heat map \n",
    "import plotly.plotly as py\n",
    "import plotly.graph_objs as go\n",
    "\n",
    "import pandas as pd\n",
    " \n",
    "data = [go.Heatmap(   x= X, y= dfmarHeatMap.columns , z=dfmarHeatMap.values.tolist(), colorscale='Viridis')]\n",
    "\n",
    "py.iplot(data, filename='pandas-heatmap',title=\"Heatmap\")"
   ]
  },
  {
   "cell_type": "code",
   "execution_count": null,
   "metadata": {
    "collapsed": false
   },
   "outputs": [],
   "source": [
    "# Start Linear Regression and Logistic Regression \n",
    "# First let us transform using dummies \n",
    "# Let us draw and build the Bar chart , Line chart , Heat Map \n",
    "# Tasks Linear Regression , PAC , LCA, Logistics Regression - 2 hours \n",
    "# Detailed Task - Create Dummies \n",
    "\n",
    "#dfincome.info()\n"
   ]
  },
  {
   "cell_type": "code",
   "execution_count": 19,
   "metadata": {
    "collapsed": false
   },
   "outputs": [],
   "source": [
    "# Linear Regression \n",
    "\n",
    "#dfintermediate = dfincome\n",
    "# Drop columns \n",
    "#dfintermediate = dfincome.drop('fnlwgt',axis=1)\n",
    "#dfintermediate = dfincome.drop('target',axis=1)\n",
    "#dfintermediate = dfincome.drop('targetfinal',axis=1)\n",
    "\n",
    " \n",
    "\n",
    "#dfintermediate.drop('fnlwgt',axis=1,inplace=True)\n",
    "#dfintermediate.drop('target',axis=1,inplace=True)\n",
    "#dfintermediate.drop('targetfinal',axis=1,inplace=True)\n",
    "dfintermediate = dfincome.copy()\n",
    "\n"
   ]
  },
  {
   "cell_type": "code",
   "execution_count": 20,
   "metadata": {
    "collapsed": true
   },
   "outputs": [],
   "source": [
    "dfintermediate.drop('fnlwgt',axis=1,inplace=True)\n",
    "dfintermediate.drop('target',axis=1,inplace=True)\n",
    "dfintermediate.drop('targetfinal',axis=1,inplace=True)"
   ]
  },
  {
   "cell_type": "code",
   "execution_count": 21,
   "metadata": {
    "collapsed": false
   },
   "outputs": [
    {
     "name": "stdout",
     "output_type": "stream",
     "text": [
      "<class 'pandas.core.frame.DataFrame'>\n",
      "RangeIndex: 32561 entries, 0 to 32560\n",
      "Data columns (total 13 columns):\n",
      "age               32561 non-null int64\n",
      "workclass         32561 non-null object\n",
      "education         32561 non-null object\n",
      "education-num     32561 non-null int64\n",
      "marital-status    32561 non-null object\n",
      "occupation        32561 non-null object\n",
      "relationship      32561 non-null object\n",
      "race              32561 non-null object\n",
      "sex               32561 non-null object\n",
      "capital-gain      32561 non-null int64\n",
      "capital-loss      32561 non-null int64\n",
      "hours-per-week    32561 non-null int64\n",
      "native-country    32561 non-null object\n",
      "dtypes: int64(5), object(8)\n",
      "memory usage: 3.2+ MB\n"
     ]
    }
   ],
   "source": [
    "dfintermediate.info()"
   ]
  },
  {
   "cell_type": "code",
   "execution_count": 25,
   "metadata": {
    "collapsed": false
   },
   "outputs": [
    {
     "data": {
      "text/plain": [
       "array([[39, 'State-gov', ' Bachelors', ..., 0, 40, 'US'],\n",
       "       [50, 'Self-emp-not-inc', ' Bachelors', ..., 0, 13, 'US'],\n",
       "       [38, 'Private', ' HS-grad', ..., 0, 40, 'US'],\n",
       "       ..., \n",
       "       [58, 'Private', ' HS-grad', ..., 0, 40, 'US'],\n",
       "       [22, 'Private', ' HS-grad', ..., 0, 20, 'US'],\n",
       "       [52, 'Self-emp-inc', ' HS-grad', ..., 0, 40, 'US']], dtype=object)"
      ]
     },
     "execution_count": 25,
     "metadata": {},
     "output_type": "execute_result"
    }
   ],
   "source": [
    "dfintermediate.values"
   ]
  },
  {
   "cell_type": "code",
   "execution_count": 26,
   "metadata": {
    "collapsed": false
   },
   "outputs": [
    {
     "data": {
      "text/html": [
       "<div>\n",
       "<table border=\"1\" class=\"dataframe\">\n",
       "  <thead>\n",
       "    <tr style=\"text-align: right;\">\n",
       "      <th></th>\n",
       "      <th>age</th>\n",
       "      <th>education-num</th>\n",
       "      <th>capital-gain</th>\n",
       "      <th>capital-loss</th>\n",
       "      <th>hours-per-week</th>\n",
       "      <th>workclass_Federal-gov</th>\n",
       "      <th>workclass_Local-gov</th>\n",
       "      <th>workclass_NotReported</th>\n",
       "      <th>workclass_NotWorked</th>\n",
       "      <th>workclass_Private</th>\n",
       "      <th>...</th>\n",
       "      <th>native-country_Portugal</th>\n",
       "      <th>native-country_Puerto-Rico</th>\n",
       "      <th>native-country_Scotland</th>\n",
       "      <th>native-country_South</th>\n",
       "      <th>native-country_Taiwan</th>\n",
       "      <th>native-country_Thailand</th>\n",
       "      <th>native-country_Trinadad&amp;Tobago</th>\n",
       "      <th>native-country_US</th>\n",
       "      <th>native-country_Vietnam</th>\n",
       "      <th>native-country_Yugoslavia</th>\n",
       "    </tr>\n",
       "  </thead>\n",
       "  <tbody>\n",
       "    <tr>\n",
       "      <th>0</th>\n",
       "      <td>39</td>\n",
       "      <td>13</td>\n",
       "      <td>2174</td>\n",
       "      <td>0</td>\n",
       "      <td>40</td>\n",
       "      <td>0.0</td>\n",
       "      <td>0.0</td>\n",
       "      <td>0.0</td>\n",
       "      <td>0.0</td>\n",
       "      <td>0.0</td>\n",
       "      <td>...</td>\n",
       "      <td>0.0</td>\n",
       "      <td>0.0</td>\n",
       "      <td>0.0</td>\n",
       "      <td>0.0</td>\n",
       "      <td>0.0</td>\n",
       "      <td>0.0</td>\n",
       "      <td>0.0</td>\n",
       "      <td>1.0</td>\n",
       "      <td>0.0</td>\n",
       "      <td>0.0</td>\n",
       "    </tr>\n",
       "    <tr>\n",
       "      <th>1</th>\n",
       "      <td>50</td>\n",
       "      <td>13</td>\n",
       "      <td>0</td>\n",
       "      <td>0</td>\n",
       "      <td>13</td>\n",
       "      <td>0.0</td>\n",
       "      <td>0.0</td>\n",
       "      <td>0.0</td>\n",
       "      <td>0.0</td>\n",
       "      <td>0.0</td>\n",
       "      <td>...</td>\n",
       "      <td>0.0</td>\n",
       "      <td>0.0</td>\n",
       "      <td>0.0</td>\n",
       "      <td>0.0</td>\n",
       "      <td>0.0</td>\n",
       "      <td>0.0</td>\n",
       "      <td>0.0</td>\n",
       "      <td>1.0</td>\n",
       "      <td>0.0</td>\n",
       "      <td>0.0</td>\n",
       "    </tr>\n",
       "    <tr>\n",
       "      <th>2</th>\n",
       "      <td>38</td>\n",
       "      <td>9</td>\n",
       "      <td>0</td>\n",
       "      <td>0</td>\n",
       "      <td>40</td>\n",
       "      <td>0.0</td>\n",
       "      <td>0.0</td>\n",
       "      <td>0.0</td>\n",
       "      <td>0.0</td>\n",
       "      <td>1.0</td>\n",
       "      <td>...</td>\n",
       "      <td>0.0</td>\n",
       "      <td>0.0</td>\n",
       "      <td>0.0</td>\n",
       "      <td>0.0</td>\n",
       "      <td>0.0</td>\n",
       "      <td>0.0</td>\n",
       "      <td>0.0</td>\n",
       "      <td>1.0</td>\n",
       "      <td>0.0</td>\n",
       "      <td>0.0</td>\n",
       "    </tr>\n",
       "    <tr>\n",
       "      <th>3</th>\n",
       "      <td>53</td>\n",
       "      <td>7</td>\n",
       "      <td>0</td>\n",
       "      <td>0</td>\n",
       "      <td>40</td>\n",
       "      <td>0.0</td>\n",
       "      <td>0.0</td>\n",
       "      <td>0.0</td>\n",
       "      <td>0.0</td>\n",
       "      <td>1.0</td>\n",
       "      <td>...</td>\n",
       "      <td>0.0</td>\n",
       "      <td>0.0</td>\n",
       "      <td>0.0</td>\n",
       "      <td>0.0</td>\n",
       "      <td>0.0</td>\n",
       "      <td>0.0</td>\n",
       "      <td>0.0</td>\n",
       "      <td>1.0</td>\n",
       "      <td>0.0</td>\n",
       "      <td>0.0</td>\n",
       "    </tr>\n",
       "    <tr>\n",
       "      <th>4</th>\n",
       "      <td>28</td>\n",
       "      <td>13</td>\n",
       "      <td>0</td>\n",
       "      <td>0</td>\n",
       "      <td>40</td>\n",
       "      <td>0.0</td>\n",
       "      <td>0.0</td>\n",
       "      <td>0.0</td>\n",
       "      <td>0.0</td>\n",
       "      <td>1.0</td>\n",
       "      <td>...</td>\n",
       "      <td>0.0</td>\n",
       "      <td>0.0</td>\n",
       "      <td>0.0</td>\n",
       "      <td>0.0</td>\n",
       "      <td>0.0</td>\n",
       "      <td>0.0</td>\n",
       "      <td>0.0</td>\n",
       "      <td>0.0</td>\n",
       "      <td>0.0</td>\n",
       "      <td>0.0</td>\n",
       "    </tr>\n",
       "  </tbody>\n",
       "</table>\n",
       "<p>5 rows × 107 columns</p>\n",
       "</div>"
      ],
      "text/plain": [
       "   age  education-num  capital-gain  capital-loss  hours-per-week  \\\n",
       "0   39             13          2174             0              40   \n",
       "1   50             13             0             0              13   \n",
       "2   38              9             0             0              40   \n",
       "3   53              7             0             0              40   \n",
       "4   28             13             0             0              40   \n",
       "\n",
       "   workclass_Federal-gov  workclass_Local-gov  workclass_NotReported  \\\n",
       "0                    0.0                  0.0                    0.0   \n",
       "1                    0.0                  0.0                    0.0   \n",
       "2                    0.0                  0.0                    0.0   \n",
       "3                    0.0                  0.0                    0.0   \n",
       "4                    0.0                  0.0                    0.0   \n",
       "\n",
       "   workclass_NotWorked  workclass_Private            ...              \\\n",
       "0                  0.0                0.0            ...               \n",
       "1                  0.0                0.0            ...               \n",
       "2                  0.0                1.0            ...               \n",
       "3                  0.0                1.0            ...               \n",
       "4                  0.0                1.0            ...               \n",
       "\n",
       "   native-country_Portugal  native-country_Puerto-Rico  \\\n",
       "0                      0.0                         0.0   \n",
       "1                      0.0                         0.0   \n",
       "2                      0.0                         0.0   \n",
       "3                      0.0                         0.0   \n",
       "4                      0.0                         0.0   \n",
       "\n",
       "   native-country_Scotland  native-country_South  native-country_Taiwan  \\\n",
       "0                      0.0                   0.0                    0.0   \n",
       "1                      0.0                   0.0                    0.0   \n",
       "2                      0.0                   0.0                    0.0   \n",
       "3                      0.0                   0.0                    0.0   \n",
       "4                      0.0                   0.0                    0.0   \n",
       "\n",
       "   native-country_Thailand  native-country_Trinadad&Tobago  native-country_US  \\\n",
       "0                      0.0                             0.0                1.0   \n",
       "1                      0.0                             0.0                1.0   \n",
       "2                      0.0                             0.0                1.0   \n",
       "3                      0.0                             0.0                1.0   \n",
       "4                      0.0                             0.0                0.0   \n",
       "\n",
       "   native-country_Vietnam  native-country_Yugoslavia  \n",
       "0                     0.0                        0.0  \n",
       "1                     0.0                        0.0  \n",
       "2                     0.0                        0.0  \n",
       "3                     0.0                        0.0  \n",
       "4                     0.0                        0.0  \n",
       "\n",
       "[5 rows x 107 columns]"
      ]
     },
     "execution_count": 26,
     "metadata": {},
     "output_type": "execute_result"
    }
   ],
   "source": [
    " \n",
    "# Do the Dummies \n",
    "df_dummies = pd.get_dummies(dfintermediate)\n",
    "df_dummies.head()"
   ]
  },
  {
   "cell_type": "code",
   "execution_count": 27,
   "metadata": {
    "collapsed": false
   },
   "outputs": [
    {
     "name": "stdout",
     "output_type": "stream",
     "text": [
      "0        0\n",
      "1        0\n",
      "2        0\n",
      "3        0\n",
      "4        0\n",
      "5        0\n",
      "6        0\n",
      "7        1\n",
      "8        1\n",
      "9        1\n",
      "10       1\n",
      "11       1\n",
      "12       0\n",
      "13       0\n",
      "14       1\n",
      "15       0\n",
      "16       0\n",
      "17       0\n",
      "18       0\n",
      "19       1\n",
      "20       1\n",
      "21       0\n",
      "22       0\n",
      "23       0\n",
      "24       0\n",
      "25       1\n",
      "26       0\n",
      "27       1\n",
      "28       0\n",
      "29       0\n",
      "        ..\n",
      "32511    0\n",
      "32512    0\n",
      "32513    1\n",
      "32514    0\n",
      "32515    0\n",
      "32516    0\n",
      "32517    0\n",
      "32518    1\n",
      "32519    1\n",
      "32520    0\n",
      "32521    0\n",
      "32522    0\n",
      "32523    0\n",
      "32524    0\n",
      "32525    0\n",
      "32526    0\n",
      "32527    0\n",
      "32528    0\n",
      "32529    0\n",
      "32530    1\n",
      "32531    0\n",
      "32532    1\n",
      "32533    1\n",
      "32534    0\n",
      "32535    0\n",
      "32536    1\n",
      "32537    0\n",
      "32538    1\n",
      "32539    1\n",
      "32540    0\n",
      "Name: targetfinal, dtype: int64\n",
      "('Coefficients: \\n', array([  2.46632327e-03,   2.80232289e-02,   7.80631910e-06,\n",
      "         9.20366240e-05,   2.87584556e-03,   9.46028803e-02,\n",
      "        -6.35279835e-03,  -2.08343065e-02,   2.33987156e-02,\n",
      "         2.35884581e-02,   8.23246617e-02,  -4.12299553e-02,\n",
      "        -2.13466589e-02,  -1.34150997e-01,  -1.45232001e-02,\n",
      "        -1.91096663e-02,  -2.49874751e-02,   4.82028591e-02,\n",
      "         2.93103633e-02,  -3.14711296e-02,  -2.17086150e-02,\n",
      "        -8.43093838e-02,  -5.51550250e-02,  -1.79151819e-02,\n",
      "         1.00079538e-01,  -6.52702779e-02,   4.12854361e-02,\n",
      "         8.61431461e-02,   7.55940886e-02,  -4.61654769e-02,\n",
      "        -4.92560799e-02,   1.30906484e-01,   6.52742245e-02,\n",
      "        -2.31887601e-02,  -5.79443492e-02,  -3.61442528e-02,\n",
      "        -2.96472664e-02,   2.67667155e-03,  -1.29305871e-01,\n",
      "        -1.30543072e-02,   1.30629767e-01,  -1.03291798e-01,\n",
      "        -5.43610913e-02,  -4.66568779e-02,  -2.29706696e-02,\n",
      "         1.10509410e-02,   6.93680642e-02,   7.58690904e-02,\n",
      "         4.26397796e-02,   7.44878235e-02,  -3.96459311e-02,\n",
      "         2.56440911e-03,   7.60641858e-02,  -8.35753640e-02,\n",
      "        -5.40732439e-02,  -5.84262574e-02,  -7.01313995e-02,\n",
      "         1.90142079e-01,  -2.62909249e-02,   1.25991439e-02,\n",
      "         8.95501937e-03,  -1.66601055e-02,   2.13968672e-02,\n",
      "        -2.97594706e-02,   2.97594706e-02,   1.68863520e-01,\n",
      "         4.73752881e-02,  -6.56263896e-02,  -7.50934182e-02,\n",
      "         2.79868266e-02,  -2.81282966e-02,  -3.79271764e-03,\n",
      "         2.61445404e-02,   6.05180295e-02,   9.76389565e-02,\n",
      "         6.35368396e-02,  -8.20709163e-02,   5.23587531e-02,\n",
      "        -9.16023629e-04,  -1.55441399e-01,  -2.57559379e-03,\n",
      "        -3.15254907e-03,  -9.11747869e-03,  -2.87778734e-02,\n",
      "         2.79324793e-02,   7.18666672e-02,   9.24674788e-02,\n",
      "         1.73695471e-02,   8.06155334e-02,  -6.19844818e-02,\n",
      "        -1.46953124e-02,  -4.44415061e-02,  -1.77291297e-02,\n",
      "        -1.33833410e-01,  -3.07096453e-02,   5.41235885e-02,\n",
      "        -1.13123598e-02,  -2.55583268e-02,  -6.66702970e-03,\n",
      "        -4.40073087e-03,  -7.00425298e-02,  -1.85502465e-02,\n",
      "        -3.09872803e-02,  -2.42719254e-02,   3.43494655e-02,\n",
      "        -5.72414854e-02,   8.39705427e-02]))\n"
     ]
    }
   ],
   "source": [
    "# Let us do Linear Regression \n",
    "\n",
    "income_x = df_dummies.values\n",
    "income_y = dfincome['targetfinal']\n",
    "\n",
    "# Split Data into train and test \n",
    "income_X_train = income_x[:-20]\n",
    "income_X_test = income_x[-20:]\n",
    "\n",
    "income_y_train = income_y[:-20]\n",
    "income_y_test = income_y[-20:]\n",
    "\n",
    "print income_y_train\n",
    "\n",
    "regr = linear_model.LinearRegression()\n",
    "regr.fit(income_X_train, income_y_train)\n",
    "print('Coefficients: \\n', regr.coef_)\n"
   ]
  },
  {
   "cell_type": "code",
   "execution_count": 28,
   "metadata": {
    "collapsed": false
   },
   "outputs": [
    {
     "data": {
      "text/plain": [
       "107"
      ]
     },
     "execution_count": 28,
     "metadata": {},
     "output_type": "execute_result"
    }
   ],
   "source": [
    "#df_coeff['Coefficients'] = regr.coef_\n",
    "\n",
    "regr.coef_.size"
   ]
  },
  {
   "cell_type": "code",
   "execution_count": 29,
   "metadata": {
    "collapsed": false
   },
   "outputs": [],
   "source": [
    "dfc = pd.DataFrame()\n",
    "dfc['Features'] = df_dummies.columns\n",
    "dfc['coefficients'] = regr.coef_"
   ]
  },
  {
   "cell_type": "code",
   "execution_count": null,
   "metadata": {
    "collapsed": false
   },
   "outputs": [],
   "source": [
    "#dfc"
   ]
  },
  {
   "cell_type": "code",
   "execution_count": 30,
   "metadata": {
    "collapsed": false
   },
   "outputs": [
    {
     "data": {
      "text/html": [
       "<iframe id=\"igraph\" scrolling=\"no\" style=\"border:none;\" seamless=\"seamless\" src=\"https://plot.ly/~cnpsap/12.embed\" height=\"525px\" width=\"100%\"></iframe>"
      ],
      "text/plain": [
       "<plotly.tools.PlotlyDisplay object>"
      ]
     },
     "execution_count": 30,
     "metadata": {},
     "output_type": "execute_result"
    }
   ],
   "source": [
    "import plotly.plotly as py\n",
    "import plotly.graph_objs as go\n",
    "\n",
    "data = [go.Bar(\n",
    "            x=dfc['coefficients'],\n",
    "            y=dfc['Features'],\n",
    "            orientation = 'h'\n",
    ")]\n",
    "\n",
    "py.iplot(data, filename='horizontal-bar')\n",
    "\n",
    "# Number of Years of education is highly co related with the target \n"
   ]
  },
  {
   "cell_type": "code",
   "execution_count": 31,
   "metadata": {
    "collapsed": false
   },
   "outputs": [
    {
     "name": "stdout",
     "output_type": "stream",
     "text": [
      "Variance score: 0.33\n"
     ]
    }
   ],
   "source": [
    "# The mean squared error\n",
    "#print(\"Mean squared error: %.2f\"\n",
    "   #   % np.mean((regr.predict(income_X_test) - income_y_test) ** 2))\n",
    "# Explained variance score: 1 is perfect prediction\n",
    "#C\n",
    "#print ( ( regr.predict(income_X_test) - (income_y_test) )\n",
    "\n",
    " #print (income_y_test)\n",
    "#print regr.predict(income_X_test).size\n",
    "\n",
    "#income_y_test.size\n",
    "#np.mean((regr.predict(income_X_test) - income_y_test) ** 2)\n",
    "#% np.mean((regr.predict(income_X_test) - income_y_test) ** 2)\n",
    "\n",
    "print('Variance score: %.2f' % regr.score(income_X_test, income_y_test))\n",
    "\n",
    "#print(\"Mean squared error: %.2f\"\n",
    "   #   % np.mean((regr.predict(income_X_test) - income_y_test) ** 2))\n"
   ]
  },
  {
   "cell_type": "code",
   "execution_count": 132,
   "metadata": {
    "collapsed": false
   },
   "outputs": [
    {
     "data": {
      "text/plain": [
       "BayesianRidge(alpha_1=1e-06, alpha_2=1e-06, compute_score=True, copy_X=True,\n",
       "       fit_intercept=True, lambda_1=1e-06, lambda_2=1e-06, n_iter=300,\n",
       "       normalize=False, tol=0.001, verbose=False)"
      ]
     },
     "execution_count": 132,
     "metadata": {},
     "output_type": "execute_result"
    }
   ],
   "source": [
    "clf = BayesianRidge(compute_score=True)\n",
    "clf.fit(income_X_train, income_y_train)"
   ]
  },
  {
   "cell_type": "code",
   "execution_count": null,
   "metadata": {
    "collapsed": false
   },
   "outputs": [],
   "source": [
    "# This code did not complete \n",
    "n_features = income_X_train.size\n",
    "w = np.zeros(n_features)\n",
    "lw = 2\n",
    "plt.figure(figsize=(6, 5))\n",
    "plt.title(\"Weights of the model\")\n",
    "plt.plot(clf.coef_, color='lightgreen', linewidth=lw,\n",
    "         label=\"Bayesian Ridge estimate\")\n",
    "plt.plot(w, color='gold', linewidth=lw, label=\"Ground truth\")\n",
    "plt.plot(regr.coef_, color='navy', linestyle='--', label=\"OLS estimate\")\n",
    "plt.xlabel(\"Features\")\n",
    "plt.ylabel(\"Values of the weights\")\n",
    "plt.legend(loc=\"best\", prop=dict(size=12))\n",
    "\n",
    "plt.figure(figsize=(6, 5))\n",
    "plt.title(\"Histogram of the weights\")\n",
    "plt.hist(clf.coef_, bins=n_features, color='gold', log=True)\n",
    "plt.scatter(clf.coef_[relevant_features], 5 * np.ones(len(relevant_features)),\n",
    "            color='navy', label=\"Relevant features\")\n",
    "plt.ylabel(\"Features\")\n",
    "plt.xlabel(\"Values of the weights\")\n",
    "plt.legend(loc=\"upper left\")\n",
    "\n",
    "plt.figure(figsize=(6, 5))\n",
    "plt.title(\"Marginal log-likelihood\")\n",
    "plt.plot(clf.scores_, color='navy', linewidth=lw)\n",
    "plt.ylabel(\"Score\")\n",
    "plt.xlabel(\"Iterations\")\n",
    "plt.show()"
   ]
  },
  {
   "cell_type": "code",
   "execution_count": 33,
   "metadata": {
    "collapsed": false
   },
   "outputs": [
    {
     "data": {
      "text/plain": [
       "array([[  3.90000000e+01,   1.30000000e+01,   2.17400000e+03, ...,\n",
       "          1.00000000e+00,   0.00000000e+00,   0.00000000e+00],\n",
       "       [  5.00000000e+01,   1.30000000e+01,   0.00000000e+00, ...,\n",
       "          1.00000000e+00,   0.00000000e+00,   0.00000000e+00],\n",
       "       [  3.80000000e+01,   9.00000000e+00,   0.00000000e+00, ...,\n",
       "          1.00000000e+00,   0.00000000e+00,   0.00000000e+00],\n",
       "       ..., \n",
       "       [  5.80000000e+01,   9.00000000e+00,   0.00000000e+00, ...,\n",
       "          1.00000000e+00,   0.00000000e+00,   0.00000000e+00],\n",
       "       [  2.20000000e+01,   9.00000000e+00,   0.00000000e+00, ...,\n",
       "          1.00000000e+00,   0.00000000e+00,   0.00000000e+00],\n",
       "       [  5.20000000e+01,   9.00000000e+00,   1.50240000e+04, ...,\n",
       "          1.00000000e+00,   0.00000000e+00,   0.00000000e+00]])"
      ]
     },
     "execution_count": 33,
     "metadata": {},
     "output_type": "execute_result"
    }
   ],
   "source": [
    "income_x"
   ]
  },
  {
   "cell_type": "code",
   "execution_count": 48,
   "metadata": {
    "collapsed": false
   },
   "outputs": [
    {
     "name": "stdout",
     "output_type": "stream",
     "text": [
      " Start PCA \n",
      "[  9.97028410e-01   2.96526077e-03   3.42257018e-06]\n"
     ]
    }
   ],
   "source": [
    "from sklearn import decomposition\n",
    "from mpl_toolkits.mplot3d import Axes3D\n",
    "\n",
    "print (\" Start PCA \")\n",
    "pca = decomposition.PCA(n_components=3)\n",
    "pca.fit(income_x)\n",
    "income_x1 = pca.transform(income_x)\n",
    "pca_score = pca.explained_variance_ratio_\n",
    "print pca_score\n",
    "y = income_y\n",
    "#V = pca.components_\n",
    "#print(pca.explained_variance_ratio_) \n",
    "#print (\"Components is \")\n",
    "#print V\n",
    "#V.size\n",
    " "
   ]
  },
  {
   "cell_type": "code",
   "execution_count": 49,
   "metadata": {
    "collapsed": false
   },
   "outputs": [
    {
     "name": "stderr",
     "output_type": "stream",
     "text": [
      "/Users/murali/anaconda/lib/python2.7/site-packages/ipykernel/__main__.py:9: FutureWarning:\n",
      "\n",
      "in the future, boolean array-likes will be handled as a boolean array index\n",
      "\n",
      "/Users/murali/anaconda/lib/python2.7/site-packages/ipykernel/__main__.py:10: FutureWarning:\n",
      "\n",
      "in the future, boolean array-likes will be handled as a boolean array index\n",
      "\n",
      "/Users/murali/anaconda/lib/python2.7/site-packages/ipykernel/__main__.py:11: FutureWarning:\n",
      "\n",
      "in the future, boolean array-likes will be handled as a boolean array index\n",
      "\n"
     ]
    },
    {
     "data": {
      "image/png": "[encoded data removed]",
      "text/plain": [
       "<matplotlib.figure.Figure at 0x11a5f3dd0>"
      ]
     },
     "metadata": {},
     "output_type": "display_data"
    }
   ],
   "source": [
    "\n",
    "fig = plt.figure(1, figsize=(4, 3))\n",
    "plt.clf()\n",
    "ax = Axes3D(fig, rect=[0, 0, .95, 1], elev=48, azim=134)\n",
    "\n",
    "plt.cla()\n",
    "\n",
    "for name, label in [('Salary<50K', 0), ('Salary>=50K', 1) ]:\n",
    "    ax.text3D(income_x1[y == label, 0].mean(),\n",
    "              income_x1[y == label, 1].mean() + 1.5,\n",
    "               income_x1[y == label, 2].mean(), name,\n",
    "              horizontalalignment='center',\n",
    "              bbox=dict(alpha=.5, edgecolor='w', facecolor='w'))\n",
    "# Reorder the labels to have colors matching the cluster results\n",
    "y = np.choose(y, [1, 2,0]).astype(np.float)\n",
    "ax.scatter(income_x1[:, 0], income_x1[:, 1],income_x[:,2],  c=y, cmap=plt.cm.spectral)\n",
    "\n",
    "ax.w_xaxis.set_ticklabels([])\n",
    "ax.w_yaxis.set_ticklabels([])\n",
    "ax.w_zaxis.set_ticklabels([])\n",
    "\n",
    "plt.show()"
   ]
  },
  {
   "cell_type": "code",
   "execution_count": 66,
   "metadata": {
    "collapsed": false
   },
   "outputs": [
    {
     "data": {
      "text/plain": [
       "<matplotlib.text.Text at 0x11a2175d0>"
      ]
     },
     "execution_count": 66,
     "metadata": {},
     "output_type": "execute_result"
    }
   ],
   "source": [
    "#print(pca.explained_variance_ratio_) \n",
    "plt.figure(1, figsize=(4, 3))\n",
    "plt.clf()\n",
    "plt.axes([.2, .2, .7, .7])\n",
    "plt.plot(pca.explained_variance_, linewidth=2)\n",
    "plt.axis('tight')\n",
    "plt.xlabel('n_components')\n",
    "plt.ylabel('explained_variance_')"
   ]
  },
  {
   "cell_type": "code",
   "execution_count": 50,
   "metadata": {
    "collapsed": false
   },
   "outputs": [],
   "source": [
    "# Use the LabelEncoder and do PCA , LCA and Classifiers \n",
    "#dfincome.info()"
   ]
  },
  {
   "cell_type": "code",
   "execution_count": 52,
   "metadata": {
    "collapsed": true
   },
   "outputs": [],
   "source": [
    "# Start Label Encoding \n",
    "# Do PCA and LDA for Label Encoding  \n",
    "lworkclass = dfincome.workclass.unique()\n",
    "le = preprocessing.LabelEncoder()\n",
    "le.fit(lworkclass)\n",
    "finalworkclass = le.transform(dfincome.workclass)"
   ]
  },
  {
   "cell_type": "code",
   "execution_count": 36,
   "metadata": {
    "collapsed": false
   },
   "outputs": [
    {
     "data": {
      "text/plain": [
       "array([5, 4, 2, ..., 2, 2, 3])"
      ]
     },
     "execution_count": 36,
     "metadata": {},
     "output_type": "execute_result"
    }
   ],
   "source": [
    "finalworkclass"
   ]
  },
  {
   "cell_type": "code",
   "execution_count": 53,
   "metadata": {
    "collapsed": false
   },
   "outputs": [],
   "source": [
    "lmaritialStatus = dfincome['marital-status'].unique()\n",
    "lemaritialstatus = preprocessing.LabelEncoder()\n",
    "lemaritialstatus.fit(lmaritialStatus)\n",
    "finalmaritialStatus = lemaritialstatus.transform(dfincome['marital-status'])\n"
   ]
  },
  {
   "cell_type": "code",
   "execution_count": 49,
   "metadata": {
    "collapsed": false
   },
   "outputs": [
    {
     "data": {
      "text/plain": [
       "array([4, 2, 0, ..., 6, 4, 2])"
      ]
     },
     "execution_count": 49,
     "metadata": {},
     "output_type": "execute_result"
    }
   ],
   "source": [
    "finalmaritialStatus"
   ]
  },
  {
   "cell_type": "code",
   "execution_count": 54,
   "metadata": {
    "collapsed": false
   },
   "outputs": [],
   "source": [
    "loccupation = dfincome['occupation'].unique()\n",
    "leoccupation = preprocessing.LabelEncoder()\n",
    "leoccupation.fit(loccupation)\n",
    "finaloccupation = leoccupation.transform(dfincome['occupation'])"
   ]
  },
  {
   "cell_type": "code",
   "execution_count": 59,
   "metadata": {
    "collapsed": false
   },
   "outputs": [
    {
     "data": {
      "text/plain": [
       "array([0, 3, 5, ..., 0, 0, 3])"
      ]
     },
     "execution_count": 59,
     "metadata": {},
     "output_type": "execute_result"
    }
   ],
   "source": [
    "finaloccupation"
   ]
  },
  {
   "cell_type": "code",
   "execution_count": 55,
   "metadata": {
    "collapsed": true
   },
   "outputs": [],
   "source": [
    "#relationship\n",
    "#relationship\n",
    "lrelationship = dfincome['relationship'].unique()\n",
    "lerelationship = preprocessing.LabelEncoder()\n",
    "lerelationship.fit(lrelationship)\n",
    "finalrelationship = lerelationship.transform(dfincome['relationship'])"
   ]
  },
  {
   "cell_type": "code",
   "execution_count": 57,
   "metadata": {
    "collapsed": true
   },
   "outputs": [],
   "source": [
    "#race\n",
    "#race\n",
    "lrace = dfincome['race'].unique()\n",
    "lerace = preprocessing.LabelEncoder()\n",
    "lerace.fit(lrace)\n",
    "finalrace = lerace.transform(dfincome['race'])"
   ]
  },
  {
   "cell_type": "code",
   "execution_count": 60,
   "metadata": {
    "collapsed": false
   },
   "outputs": [],
   "source": [
    "lsex = dfincome['sex'].unique()\n",
    "lesex = preprocessing.LabelEncoder()\n",
    "lesex.fit(lsex)\n",
    "finalsex = lesex.transform(dfincome['sex'])"
   ]
  },
  {
   "cell_type": "code",
   "execution_count": 61,
   "metadata": {
    "collapsed": true
   },
   "outputs": [],
   "source": [
    "lnativecountry = dfincome['native-country'].unique()\n",
    "lenativecountry = preprocessing.LabelEncoder()\n",
    "lenativecountry.fit(lnativecountry)\n",
    "finalnativecountry = lenativecountry.transform(dfincome['native-country'])"
   ]
  },
  {
   "cell_type": "code",
   "execution_count": 56,
   "metadata": {
    "collapsed": false
   },
   "outputs": [
    {
     "name": "stdout",
     "output_type": "stream",
     "text": [
      "<class 'pandas.core.frame.DataFrame'>\n",
      "RangeIndex: 32561 entries, 0 to 32560\n",
      "Data columns (total 16 columns):\n",
      "age               32561 non-null int64\n",
      "workclass         32561 non-null object\n",
      "fnlwgt            32561 non-null int64\n",
      "education         32561 non-null object\n",
      "education-num     32561 non-null int64\n",
      "marital-status    32561 non-null object\n",
      "occupation        32561 non-null object\n",
      "relationship      32561 non-null object\n",
      "race              32561 non-null object\n",
      "sex               32561 non-null object\n",
      "capital-gain      32561 non-null int64\n",
      "capital-loss      32561 non-null int64\n",
      "hours-per-week    32561 non-null int64\n",
      "native-country    32561 non-null object\n",
      "target            32561 non-null object\n",
      "targetfinal       32561 non-null int64\n",
      "dtypes: int64(7), object(9)\n",
      "memory usage: 4.0+ MB\n"
     ]
    }
   ],
   "source": [
    "dfincome.info()"
   ]
  },
  {
   "cell_type": "code",
   "execution_count": 64,
   "metadata": {
    "collapsed": false
   },
   "outputs": [
    {
     "name": "stderr",
     "output_type": "stream",
     "text": [
      "/Users/murali/anaconda/lib/python2.7/site-packages/sklearn/utils/validation.py:420: DataConversionWarning:\n",
      "\n",
      "Data with input dtype int64 was converted to float64 by MinMaxScaler.\n",
      "\n",
      "/Users/murali/anaconda/lib/python2.7/site-packages/sklearn/preprocessing/data.py:324: DeprecationWarning:\n",
      "\n",
      "Passing 1d arrays as data is deprecated in 0.17 and will raise ValueError in 0.19. Reshape your data either using X.reshape(-1, 1) if your data has a single feature or X.reshape(1, -1) if it contains a single sample.\n",
      "\n",
      "/Users/murali/anaconda/lib/python2.7/site-packages/sklearn/preprocessing/data.py:359: DeprecationWarning:\n",
      "\n",
      "Passing 1d arrays as data is deprecated in 0.17 and will raise ValueError in 0.19. Reshape your data either using X.reshape(-1, 1) if your data has a single feature or X.reshape(1, -1) if it contains a single sample.\n",
      "\n",
      "/Users/murali/anaconda/lib/python2.7/site-packages/sklearn/utils/validation.py:420: DataConversionWarning:\n",
      "\n",
      "Data with input dtype int64 was converted to float64 by MinMaxScaler.\n",
      "\n",
      "/Users/murali/anaconda/lib/python2.7/site-packages/sklearn/preprocessing/data.py:324: DeprecationWarning:\n",
      "\n",
      "Passing 1d arrays as data is deprecated in 0.17 and will raise ValueError in 0.19. Reshape your data either using X.reshape(-1, 1) if your data has a single feature or X.reshape(1, -1) if it contains a single sample.\n",
      "\n",
      "/Users/murali/anaconda/lib/python2.7/site-packages/sklearn/preprocessing/data.py:359: DeprecationWarning:\n",
      "\n",
      "Passing 1d arrays as data is deprecated in 0.17 and will raise ValueError in 0.19. Reshape your data either using X.reshape(-1, 1) if your data has a single feature or X.reshape(1, -1) if it contains a single sample.\n",
      "\n"
     ]
    }
   ],
   "source": [
    "from sklearn.preprocessing import MinMaxScaler\n",
    "lcapitalgain = MinMaxScaler(feature_range=(0,100)).fit_transform(dfincome['capital-gain'])\n",
    "lcapitalloss = MinMaxScaler(feature_range=(0,100)).fit_transform(dfincome['capital-loss'])"
   ]
  },
  {
   "cell_type": "code",
   "execution_count": null,
   "metadata": {
    "collapsed": true
   },
   "outputs": [],
   "source": [
    "# Assemble the dataFrame and start the classifiers "
   ]
  }
 ],
 "metadata": {
  "anaconda-cloud": {},
  "kernelspec": {
   "display_name": "Python [conda root]",
   "language": "python",
   "name": "conda-root-py"
  },
  "language_info": {
   "codemirror_mode": {
    "name": "ipython",
    "version": 2
   },
   "file_extension": ".py",
   "mimetype": "text/x-python",
   "name": "python",
   "nbconvert_exporter": "python",
   "pygments_lexer": "ipython2",
   "version": "2.7.12"
  }
 },
 "nbformat": 4,
 "nbformat_minor": 1
}
