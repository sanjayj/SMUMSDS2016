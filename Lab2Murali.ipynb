{
 "cells": [
  {
   "cell_type": "code",
   "execution_count": 1,
   "metadata": {
    "collapsed": false
   },
   "outputs": [
    {
     "data": {
      "text/html": [
       "<script>\n",
       "    // AUTORUN ALL CELLS ON NOTEBOOK-LOAD!\n",
       "    require(\n",
       "        ['base/js/namespace', 'jquery'], \n",
       "        function(jupyter, $) {\n",
       "            $(jupyter.events).on(\"kernel_ready.Kernel\", function () {\n",
       "                console.log(\"Auto-running all cells-below...\");\n",
       "                jupyter.actions.call('jupyter-notebook:run-all-cells-below');\n",
       "                jupyter.actions.call('jupyter-notebook:save-notebook');\n",
       "            });\n",
       "        }\n",
       "    );\n",
       "</script>"
      ],
      "text/plain": [
       "<IPython.core.display.HTML object>"
      ]
     },
     "metadata": {},
     "output_type": "display_data"
    }
   ],
   "source": []
  },
  {
   "cell_type": "code",
   "execution_count": 2,
   "metadata": {
    "collapsed": false
   },
   "outputs": [
    {
     "name": "stdout",
     "output_type": "stream",
     "text": [
      " Murali's First end to end project\n",
      " This is what you always wanted to do \n"
     ]
    }
   ],
   "source": [
    "print(\" Murali's First end to end project\")\n",
    "print (\" This is what you always wanted to do \")\n",
    "import numpy as np\n",
    "import pandas as pd\n",
    "import plotly.plotly as py\n",
    "import plotly.graph_objs as go\n",
    "from sklearn import preprocessing\n",
    "from sklearn import datasets, linear_model\n",
    "from sklearn.linear_model import BayesianRidge, LinearRegression,LogisticRegression\n",
    " \n",
    "import matplotlib.pyplot as plt\n",
    "from sklearn.decomposition import PCA"
   ]
  },
  {
   "cell_type": "code",
   "execution_count": 3,
   "metadata": {
    "collapsed": false
   },
   "outputs": [
    {
     "name": "stdout",
     "output_type": "stream",
     "text": [
      "<class 'pandas.core.frame.DataFrame'>\n",
      "RangeIndex: 32561 entries, 0 to 32560\n",
      "Data columns (total 15 columns):\n",
      "age               32561 non-null int64\n",
      "workclass         32561 non-null object\n",
      "fnlwgt            32561 non-null int64\n",
      "education         32561 non-null object\n",
      "education-num     32561 non-null int64\n",
      "marital-status    32561 non-null object\n",
      "occupation        32561 non-null object\n",
      "relationship      32561 non-null object\n",
      "race              32561 non-null object\n",
      "sex               32561 non-null object\n",
      "capital-gain      32561 non-null int64\n",
      "capital-loss      32561 non-null int64\n",
      "hours-per-week    32561 non-null int64\n",
      "native-country    32561 non-null object\n",
      "target            32561 non-null object\n",
      "dtypes: int64(6), object(9)\n",
      "memory usage: 3.7+ MB\n"
     ]
    },
    {
     "data": {
      "text/plain": [
       "RangeIndex(start=0, stop=32561, step=1)"
      ]
     },
     "execution_count": 3,
     "metadata": {},
     "output_type": "execute_result"
    }
   ],
   "source": [
    "# Import the data \n",
    "# Decide on the variable types \n",
    "# Everything is learning\n",
    "\n",
    "inputfile = \"/Users/murali/SMU/lab2/SMUMSDS2016/data/income.csv\"\n",
    "dfincome = pd.read_csv(inputfile)\n",
    "dfincome.info()\n",
    "dfincome.columns\n",
    "dfincome.index\n",
    " "
   ]
  },
  {
   "cell_type": "code",
   "execution_count": 4,
   "metadata": {
    "collapsed": false
   },
   "outputs": [],
   "source": [
    "# Work with work class\n",
    "# work with education\n",
    "# work with education_num\n",
    "# Work with maritial_status \n",
    "# work with Occupation\n",
    "# work with race \n",
    "# work with sex \n",
    "# work with capitalgain\n",
    "# work with capital loss \n",
    "# work with hours-per-week\n",
    "\n",
    "dfincome.workclass = dfincome.workclass.replace(' ?','NotReported')\n",
    "dfincome.occupation = dfincome.occupation.replace(' ?','NotReported')\n",
    "dfincome.workclass = dfincome.workclass.str.strip().replace('Never-worked','NotWorked')\n",
    "dfincome['native-country'] = dfincome['native-country'].replace(' ?','NotReported')\n",
    "dfincome['native-country'] = dfincome['native-country'].str.strip().replace('United-States','US')\n",
    "#dfincome.targetfinal = dfincome.target.str.strip().replace('>50K',1)\n",
    "#dfincome.targetfinal = dfincome.targetfinal.str.strip().replace(' <=50K','0')\n",
    "\n",
    "\n",
    "# Update Native Country \n",
    "#nativecountry = []\n",
    "#for row in dfincome['native-country']:\n",
    "#    if row.strip() == 'United-States':\n",
    "#         nativecountry.append('US') \n",
    "\n",
    " #   else:\n",
    "#         nativecountry.append(row)\n",
    "#dfincome['native-country'] = nativecountry\n",
    "\n",
    "#wclass = []\n",
    "#for row in dfincome['workclass']:\n",
    "#    if row.strip() == 'Never-worked':\n",
    "#         wclass.append('Neverworked') \n",
    "\n",
    "#    else:\n",
    "#         wclass.append(row)\n",
    "#dfincome['workclass'] = wclass \n",
    "\n",
    "\n",
    "targetfinal = []\n",
    "for row in dfincome['target']:\n",
    "    if row.strip() == '<=50K':\n",
    "        targetfinal.append(0) \n",
    "    \n",
    "    else:\n",
    "        targetfinal.append(1)\n",
    "dfincome['targetfinal'] = targetfinal\n",
    "\n"
   ]
  },
  {
   "cell_type": "code",
   "execution_count": 5,
   "metadata": {
    "collapsed": false
   },
   "outputs": [
    {
     "data": {
      "text/plain": [
       "array([0, 1])"
      ]
     },
     "execution_count": 5,
     "metadata": {},
     "output_type": "execute_result"
    }
   ],
   "source": [
    "dfincome.targetfinal.unique()"
   ]
  },
  {
   "cell_type": "code",
   "execution_count": 6,
   "metadata": {
    "collapsed": false
   },
   "outputs": [],
   "source": [
    "dfabove50K = pd.DataFrame()\n",
    "dfbelow50K = pd.DataFrame()\n",
    "#dfbelow50K = dfincome[[df]'age'].dfincome[dfincome['target'].str.strip() == '<=50K']\n",
    "#dfbelow50K = dfincome[dfincome['age'] & dfincome['targetfinal'] == '0' ]\n",
    "#dfabove50K = dfincome[dfincome['target'].str.strip() == '>50K']\n",
    "\n",
    "dfbelow50K = pd.DataFrame(dfincome.loc[dfincome.targetfinal == 0, ['age','targetfinal']])\n",
    "#dfabove50K = dfincome.loc[dfincome.targetfinal == '1', 'age']\n",
    "dfabove50K = pd.DataFrame(dfincome.loc[dfincome.targetfinal == 1, ['age','targetfinal']])\n"
   ]
  },
  {
   "cell_type": "code",
   "execution_count": 7,
   "metadata": {
    "collapsed": false
   },
   "outputs": [],
   "source": [
    "dfbelow50K['COUNTER'] = 1\n",
    "dfabove50K['COUNTER'] = 1\n",
    "dfbelow50K =  dfbelow50K.groupby('age')['COUNTER'].count() \n",
    "dfabove50K = dfabove50K.groupby('age')['COUNTER'].count()\n",
    "\n",
    " \n",
    "\n",
    " \n",
    " \n",
    " "
   ]
  },
  {
   "cell_type": "code",
   "execution_count": 8,
   "metadata": {
    "collapsed": false
   },
   "outputs": [
    {
     "data": {
      "text/plain": [
       "array([0, 1])"
      ]
     },
     "execution_count": 8,
     "metadata": {},
     "output_type": "execute_result"
    }
   ],
   "source": [
    "dfincome.targetfinal.unique()"
   ]
  },
  {
   "cell_type": "code",
   "execution_count": 9,
   "metadata": {
    "collapsed": false
   },
   "outputs": [],
   "source": [
    "#type(dfbelow50K)\n",
    "#dfbelow50K \n",
    "\n",
    "X = []\n",
    "Y1 = []\n",
    "for row in dfbelow50K.iteritems():\n",
    "    Y1.append(row[1])\n",
    "    X.append(row[0])\n",
    "Y2 = []\n",
    "for row in dfabove50K.iteritems():\n",
    "    Y2.append(row[1])\n",
    "    \n",
    "\n",
    " "
   ]
  },
  {
   "cell_type": "code",
   "execution_count": 10,
   "metadata": {
    "collapsed": false
   },
   "outputs": [
    {
     "data": {
      "text/html": [
       "<iframe id=\"igraph\" scrolling=\"no\" style=\"border:none;\" seamless=\"seamless\" src=\"https://plot.ly/~cnpsap/8.embed\" height=\"525px\" width=\"100%\"></iframe>"
      ],
      "text/plain": [
       "<plotly.tools.PlotlyDisplay object>"
      ]
     },
     "execution_count": 10,
     "metadata": {},
     "output_type": "execute_result"
    }
   ],
   "source": [
    "import plotly \n",
    "import plotly.graph_objs as go\n",
    "plotly.tools.set_credentials_file(username='cnpsap', api_key='nbs9yo1y2j')\n",
    "\n",
    "trace0 = go.Bar(\n",
    "    x=X,\n",
    "    y=Y1,\n",
    "    name='Less than 50',\n",
    "    marker=dict(\n",
    "        color='rgb(49,130,189)'\n",
    "    )\n",
    ")\n",
    "trace1 = go.Bar(\n",
    "    x=X,\n",
    "    y=Y2,\n",
    "    name='Greater than $50',\n",
    "    marker=dict(\n",
    "        color='rgb(204,204,204)',\n",
    "    )\n",
    ")\n",
    "\n",
    "data = [trace0, trace1]\n",
    "layout = go.Layout(\n",
    "    title=\" Age\",\n",
    "    xaxis=dict(tickangle=-45),\n",
    "    barmode='group',\n",
    ")\n",
    "\n",
    "fig = go.Figure(data=data, layout=layout)\n",
    "py.iplot(fig, filename='angled-text-bar')\n"
   ]
  },
  {
   "cell_type": "code",
   "execution_count": 11,
   "metadata": {
    "collapsed": false
   },
   "outputs": [
    {
     "data": {
      "text/html": [
       "<iframe id=\"igraph\" scrolling=\"no\" style=\"border:none;\" seamless=\"seamless\" src=\"https://plot.ly/~cnpsap/10.embed\" height=\"525px\" width=\"100%\"></iframe>"
      ],
      "text/plain": [
       "<plotly.tools.PlotlyDisplay object>"
      ]
     },
     "execution_count": 11,
     "metadata": {},
     "output_type": "execute_result"
    }
   ],
   "source": [
    "# Heat Map for Age \n",
    "# Index is the age\n",
    "# Create a Pandas Series \n",
    " \n",
    "dfageHeatmap1 = pd.DataFrame()\n",
    "dfageHeatmap2 = pd.DataFrame()\n",
    " \n",
    "dfageHeatmap1['<50K'] = Y1\n",
    "dfageHeatmap2['>=50K'] = Y2\n",
    "dfageHeatMap = pd.concat([dfageHeatmap1,dfageHeatmap2], ignore_index=True, axis=1)\n",
    "dfageHeatMap.index = X\n",
    "dfageHeatMap.columns = ['<50K','>=50K']\n",
    "\n",
    "dfageHeatMap['>=50K'].fillna('0',inplace=True)\n",
    "\n",
    "# Do the Heat map \n",
    "import plotly.plotly as py\n",
    "import plotly.graph_objs as go\n",
    "\n",
    "import pandas as pd\n",
    " \n",
    "data = [go.Heatmap(   x= X, y= dfageHeatMap.columns , z=dfageHeatMap.values.tolist(), colorscale='Viridis')]\n",
    "\n",
    "py.iplot(data, filename='pandas-heatmap',title=\"Heatmap\")\n"
   ]
  },
  {
   "cell_type": "code",
   "execution_count": 12,
   "metadata": {
    "collapsed": false
   },
   "outputs": [
    {
     "data": {
      "text/plain": [
       "Index([u'<50K', u'>=50K'], dtype='object')"
      ]
     },
     "execution_count": 12,
     "metadata": {},
     "output_type": "execute_result"
    }
   ],
   "source": [
    "dfageHeatMap.columns"
   ]
  },
  {
   "cell_type": "code",
   "execution_count": 12,
   "metadata": {
    "collapsed": true
   },
   "outputs": [],
   "source": [
    "# Get education-num  and get marital-status \n",
    "\n",
    "dfedubelow50K = pd.DataFrame(dfincome.loc[dfincome.targetfinal == 0, ['education-num','targetfinal']])\n",
    "#dfabove50K = dfincome.loc[dfincome.targetfinal == '1', 'age']\n",
    "dfeduabove50K = pd.DataFrame(dfincome.loc[dfincome.targetfinal == 1, ['education-num','targetfinal']])\n",
    "\n",
    "dfedubelow50K['COUNTER'] = 1\n",
    "dfeduabove50K['COUNTER'] = 1\n",
    "dfedubelow50K =  dfedubelow50K.groupby('education-num')['COUNTER'].count() \n",
    "dfeduabove50K = dfeduabove50K.groupby('education-num')['COUNTER'].count()"
   ]
  },
  {
   "cell_type": "code",
   "execution_count": 13,
   "metadata": {
    "collapsed": true
   },
   "outputs": [],
   "source": [
    "X = []\n",
    "Y1 = []\n",
    "for row in dfedubelow50K.iteritems():\n",
    "    Y1.append(row[1])\n",
    "    X.append(row[0])\n",
    "Y2 = []\n",
    "for row in dfeduabove50K.iteritems():\n",
    "    Y2.append(row[1])"
   ]
  },
  {
   "cell_type": "code",
   "execution_count": 14,
   "metadata": {
    "collapsed": false
   },
   "outputs": [
    {
     "data": {
      "text/html": [
       "<iframe id=\"igraph\" scrolling=\"no\" style=\"border:none;\" seamless=\"seamless\" src=\"https://plot.ly/~cnpsap/8.embed\" height=\"525px\" width=\"100%\"></iframe>"
      ],
      "text/plain": [
       "<plotly.tools.PlotlyDisplay object>"
      ]
     },
     "execution_count": 14,
     "metadata": {},
     "output_type": "execute_result"
    }
   ],
   "source": [
    "import plotly \n",
    "import plotly.graph_objs as go\n",
    "plotly.tools.set_credentials_file(username='cnpsap', api_key='nbs9yo1y2j')\n",
    "\n",
    "trace0 = go.Bar(\n",
    "    x=X,\n",
    "    y=Y1,\n",
    "    name='Less than 50',\n",
    "    marker=dict(\n",
    "        color='rgb(49,130,189)'\n",
    "    )\n",
    ")\n",
    "trace1 = go.Bar(\n",
    "    x=X,\n",
    "    y=Y2,\n",
    "    name='Greater than $50',\n",
    "    marker=dict(\n",
    "        color='rgb(204,204,204)',\n",
    "    )\n",
    ")\n",
    "\n",
    "data = [trace0, trace1]\n",
    "layout = go.Layout(\n",
    "    title='Number of years of Education',\n",
    "    xaxis=dict(tickangle=-45),\n",
    "    barmode='group',\n",
    ")\n",
    "\n",
    "fig = go.Figure(data=data, layout=layout)\n",
    "py.iplot(fig, filename='angled-text-bar')"
   ]
  },
  {
   "cell_type": "code",
   "execution_count": 15,
   "metadata": {
    "collapsed": false
   },
   "outputs": [
    {
     "data": {
      "text/html": [
       "<iframe id=\"igraph\" scrolling=\"no\" style=\"border:none;\" seamless=\"seamless\" src=\"https://plot.ly/~cnpsap/10.embed\" height=\"525px\" width=\"100%\"></iframe>"
      ],
      "text/plain": [
       "<plotly.tools.PlotlyDisplay object>"
      ]
     },
     "execution_count": 15,
     "metadata": {},
     "output_type": "execute_result"
    }
   ],
   "source": [
    "dfeduHeatmap1 = pd.DataFrame()\n",
    "dfeduHeatmap2 = pd.DataFrame()\n",
    " \n",
    "dfeduHeatmap1['<50K'] = Y1\n",
    "dfeduHeatmap2['>=50K'] = Y2\n",
    "dfeduHeatMap = pd.concat([dfeduHeatmap1,dfeduHeatmap2], ignore_index=True, axis=1)\n",
    "dfeduHeatMap.index = X\n",
    "dfeduHeatMap.columns = ['<50K','>=50K']\n",
    "\n",
    "dfeduHeatMap['>=50K'].fillna('0',inplace=True)\n",
    "\n",
    " # Do the Heat map \n",
    "import plotly.plotly as py\n",
    "import plotly.graph_objs as go\n",
    "\n",
    "import pandas as pd\n",
    " \n",
    "data = [go.Heatmap(   x= X, y= dfeduHeatMap.columns , z=dfeduHeatMap.values.tolist(), colorscale='Viridis')]\n",
    "\n",
    "py.iplot(data, filename='pandas-heatmap',title=\"Heatmap\")"
   ]
  },
  {
   "cell_type": "code",
   "execution_count": 16,
   "metadata": {
    "collapsed": false
   },
   "outputs": [],
   "source": [
    "# Get education-num  and get marital-status \n",
    "\n",
    "dfmarbelow50K = pd.DataFrame(dfincome.loc[dfincome.targetfinal == 0, ['marital-status','targetfinal']])\n",
    "#dfabove50K = dfincome.loc[dfincome.targetfinal == '1', 'age']\n",
    "dfmarabove50K = pd.DataFrame(dfincome.loc[dfincome.targetfinal == 1, ['marital-status','targetfinal']])\n",
    "\n",
    "dfmarbelow50K['COUNTER'] = 1\n",
    "dfmarabove50K['COUNTER'] = 1\n",
    "dfmarbelow50K =  dfmarbelow50K.groupby('marital-status')['COUNTER'].count() \n",
    "dfmarabove50K = dfmarabove50K.groupby('marital-status')['COUNTER'].count()"
   ]
  },
  {
   "cell_type": "code",
   "execution_count": 17,
   "metadata": {
    "collapsed": false
   },
   "outputs": [],
   "source": [
    "X = []\n",
    "Y1 = []\n",
    "for row in dfmarbelow50K.iteritems():\n",
    "    Y1.append(row[1])\n",
    "    X.append(row[0])\n",
    "Y2 = []\n",
    "for row in dfmarabove50K.iteritems():\n",
    "    Y2.append(row[1])"
   ]
  },
  {
   "cell_type": "code",
   "execution_count": 18,
   "metadata": {
    "collapsed": false
   },
   "outputs": [
    {
     "data": {
      "text/html": [
       "<iframe id=\"igraph\" scrolling=\"no\" style=\"border:none;\" seamless=\"seamless\" src=\"https://plot.ly/~cnpsap/8.embed\" height=\"525px\" width=\"100%\"></iframe>"
      ],
      "text/plain": [
       "<plotly.tools.PlotlyDisplay object>"
      ]
     },
     "execution_count": 18,
     "metadata": {},
     "output_type": "execute_result"
    }
   ],
   "source": [
    "import plotly \n",
    "import plotly.graph_objs as go\n",
    "plotly.tools.set_credentials_file(username='cnpsap', api_key='nbs9yo1y2j')\n",
    "\n",
    "trace0 = go.Bar(\n",
    "    x=X,\n",
    "    y=Y1,\n",
    "    name='Less than 50',\n",
    "    marker=dict(\n",
    "        color='rgb(49,130,189)'\n",
    "    )\n",
    ")\n",
    "trace1 = go.Bar(\n",
    "    x=X,\n",
    "    y=Y2,\n",
    "    name='Greater than $50',\n",
    "    marker=dict(\n",
    "        color='rgb(204,204,204)',\n",
    "    )\n",
    ")\n",
    "\n",
    "data = [trace0, trace1]\n",
    "layout = go.Layout(\n",
    "    title='Marital Status',\n",
    "    xaxis=dict(tickangle=-45),\n",
    "    barmode='group',\n",
    ")\n",
    "\n",
    "fig = go.Figure(data=data, layout=layout)\n",
    "py.iplot(fig, filename='angled-text-bar')"
   ]
  },
  {
   "cell_type": "code",
   "execution_count": 19,
   "metadata": {
    "collapsed": false
   },
   "outputs": [
    {
     "data": {
      "text/html": [
       "<iframe id=\"igraph\" scrolling=\"no\" style=\"border:none;\" seamless=\"seamless\" src=\"https://plot.ly/~cnpsap/10.embed\" height=\"525px\" width=\"100%\"></iframe>"
      ],
      "text/plain": [
       "<plotly.tools.PlotlyDisplay object>"
      ]
     },
     "execution_count": 19,
     "metadata": {},
     "output_type": "execute_result"
    }
   ],
   "source": [
    "dfmarHeatmap1 = pd.DataFrame()\n",
    "dfmarHeatmap2 = pd.DataFrame()\n",
    " \n",
    "dfmarHeatmap1['<50K'] = Y1\n",
    "dfmarHeatmap2['>=50K'] = Y2\n",
    "dfmarHeatMap = pd.concat([dfmarHeatmap1,dfmarHeatmap2], ignore_index=True, axis=1)\n",
    "dfmarHeatMap.index = X\n",
    "dfmarHeatMap.columns = ['<50K','>=50K']\n",
    "\n",
    "dfmarHeatMap['>=50K'].fillna('0',inplace=True)\n",
    "\n",
    " # Do the Heat map \n",
    "import plotly.plotly as py\n",
    "import plotly.graph_objs as go\n",
    "\n",
    "import pandas as pd\n",
    " \n",
    "data = [go.Heatmap(   x= X, y= dfmarHeatMap.columns , z=dfmarHeatMap.values.tolist(), colorscale='Viridis')]\n",
    "\n",
    "py.iplot(data, filename='pandas-heatmap',title=\"Heatmap\")"
   ]
  },
  {
   "cell_type": "code",
   "execution_count": 21,
   "metadata": {
    "collapsed": false
   },
   "outputs": [],
   "source": [
    "# Start Linear Regression and Logistic Regression \n",
    "# First let us transform using dummies \n",
    "# Let us draw and build the Bar chart , Line chart , Heat Map \n",
    "# Tasks Linear Regression , PAC , LCA, Logistics Regression - 2 hours \n",
    "# Detailed Task - Create Dummies \n",
    "\n",
    "#dfincome.info()\n"
   ]
  },
  {
   "cell_type": "code",
   "execution_count": 20,
   "metadata": {
    "collapsed": false
   },
   "outputs": [],
   "source": [
    "# Linear Regression \n",
    "\n",
    "#dfintermediate = dfincome\n",
    "# Drop columns \n",
    "#dfintermediate = dfincome.drop('fnlwgt',axis=1)\n",
    "#dfintermediate = dfincome.drop('target',axis=1)\n",
    "#dfintermediate = dfincome.drop('targetfinal',axis=1)\n",
    "\n",
    " \n",
    "\n",
    "#dfintermediate.drop('fnlwgt',axis=1,inplace=True)\n",
    "#dfintermediate.drop('target',axis=1,inplace=True)\n",
    "#dfintermediate.drop('targetfinal',axis=1,inplace=True)\n",
    "dfintermediate = dfincome.copy()\n",
    "\n"
   ]
  },
  {
   "cell_type": "code",
   "execution_count": 21,
   "metadata": {
    "collapsed": false
   },
   "outputs": [],
   "source": [
    "dfintermediate.drop('fnlwgt',axis=1,inplace=True)\n",
    "dfintermediate.drop('target',axis=1,inplace=True)\n",
    "dfintermediate.drop('targetfinal',axis=1,inplace=True)"
   ]
  },
  {
   "cell_type": "code",
   "execution_count": 22,
   "metadata": {
    "collapsed": false
   },
   "outputs": [
    {
     "name": "stdout",
     "output_type": "stream",
     "text": [
      "<class 'pandas.core.frame.DataFrame'>\n",
      "RangeIndex: 32561 entries, 0 to 32560\n",
      "Data columns (total 13 columns):\n",
      "age               32561 non-null int64\n",
      "workclass         32561 non-null object\n",
      "education         32561 non-null object\n",
      "education-num     32561 non-null int64\n",
      "marital-status    32561 non-null object\n",
      "occupation        32561 non-null object\n",
      "relationship      32561 non-null object\n",
      "race              32561 non-null object\n",
      "sex               32561 non-null object\n",
      "capital-gain      32561 non-null int64\n",
      "capital-loss      32561 non-null int64\n",
      "hours-per-week    32561 non-null int64\n",
      "native-country    32561 non-null object\n",
      "dtypes: int64(5), object(8)\n",
      "memory usage: 3.2+ MB\n"
     ]
    }
   ],
   "source": [
    "dfintermediate.info()"
   ]
  },
  {
   "cell_type": "code",
   "execution_count": 23,
   "metadata": {
    "collapsed": false
   },
   "outputs": [
    {
     "data": {
      "text/plain": [
       "array([[39, 'State-gov', ' Bachelors', ..., 0, 40, 'US'],\n",
       "       [50, 'Self-emp-not-inc', ' Bachelors', ..., 0, 13, 'US'],\n",
       "       [38, 'Private', ' HS-grad', ..., 0, 40, 'US'],\n",
       "       ..., \n",
       "       [58, 'Private', ' HS-grad', ..., 0, 40, 'US'],\n",
       "       [22, 'Private', ' HS-grad', ..., 0, 20, 'US'],\n",
       "       [52, 'Self-emp-inc', ' HS-grad', ..., 0, 40, 'US']], dtype=object)"
      ]
     },
     "execution_count": 23,
     "metadata": {},
     "output_type": "execute_result"
    }
   ],
   "source": [
    "dfintermediate.values"
   ]
  },
  {
   "cell_type": "code",
   "execution_count": 24,
   "metadata": {
    "collapsed": false
   },
   "outputs": [
    {
     "data": {
      "text/html": [
       "<div>\n",
       "<table border=\"1\" class=\"dataframe\">\n",
       "  <thead>\n",
       "    <tr style=\"text-align: right;\">\n",
       "      <th></th>\n",
       "      <th>age</th>\n",
       "      <th>education-num</th>\n",
       "      <th>capital-gain</th>\n",
       "      <th>capital-loss</th>\n",
       "      <th>hours-per-week</th>\n",
       "      <th>workclass_Federal-gov</th>\n",
       "      <th>workclass_Local-gov</th>\n",
       "      <th>workclass_NotReported</th>\n",
       "      <th>workclass_NotWorked</th>\n",
       "      <th>workclass_Private</th>\n",
       "      <th>...</th>\n",
       "      <th>native-country_Portugal</th>\n",
       "      <th>native-country_Puerto-Rico</th>\n",
       "      <th>native-country_Scotland</th>\n",
       "      <th>native-country_South</th>\n",
       "      <th>native-country_Taiwan</th>\n",
       "      <th>native-country_Thailand</th>\n",
       "      <th>native-country_Trinadad&amp;Tobago</th>\n",
       "      <th>native-country_US</th>\n",
       "      <th>native-country_Vietnam</th>\n",
       "      <th>native-country_Yugoslavia</th>\n",
       "    </tr>\n",
       "  </thead>\n",
       "  <tbody>\n",
       "    <tr>\n",
       "      <th>0</th>\n",
       "      <td>39</td>\n",
       "      <td>13</td>\n",
       "      <td>2174</td>\n",
       "      <td>0</td>\n",
       "      <td>40</td>\n",
       "      <td>0.0</td>\n",
       "      <td>0.0</td>\n",
       "      <td>0.0</td>\n",
       "      <td>0.0</td>\n",
       "      <td>0.0</td>\n",
       "      <td>...</td>\n",
       "      <td>0.0</td>\n",
       "      <td>0.0</td>\n",
       "      <td>0.0</td>\n",
       "      <td>0.0</td>\n",
       "      <td>0.0</td>\n",
       "      <td>0.0</td>\n",
       "      <td>0.0</td>\n",
       "      <td>1.0</td>\n",
       "      <td>0.0</td>\n",
       "      <td>0.0</td>\n",
       "    </tr>\n",
       "    <tr>\n",
       "      <th>1</th>\n",
       "      <td>50</td>\n",
       "      <td>13</td>\n",
       "      <td>0</td>\n",
       "      <td>0</td>\n",
       "      <td>13</td>\n",
       "      <td>0.0</td>\n",
       "      <td>0.0</td>\n",
       "      <td>0.0</td>\n",
       "      <td>0.0</td>\n",
       "      <td>0.0</td>\n",
       "      <td>...</td>\n",
       "      <td>0.0</td>\n",
       "      <td>0.0</td>\n",
       "      <td>0.0</td>\n",
       "      <td>0.0</td>\n",
       "      <td>0.0</td>\n",
       "      <td>0.0</td>\n",
       "      <td>0.0</td>\n",
       "      <td>1.0</td>\n",
       "      <td>0.0</td>\n",
       "      <td>0.0</td>\n",
       "    </tr>\n",
       "    <tr>\n",
       "      <th>2</th>\n",
       "      <td>38</td>\n",
       "      <td>9</td>\n",
       "      <td>0</td>\n",
       "      <td>0</td>\n",
       "      <td>40</td>\n",
       "      <td>0.0</td>\n",
       "      <td>0.0</td>\n",
       "      <td>0.0</td>\n",
       "      <td>0.0</td>\n",
       "      <td>1.0</td>\n",
       "      <td>...</td>\n",
       "      <td>0.0</td>\n",
       "      <td>0.0</td>\n",
       "      <td>0.0</td>\n",
       "      <td>0.0</td>\n",
       "      <td>0.0</td>\n",
       "      <td>0.0</td>\n",
       "      <td>0.0</td>\n",
       "      <td>1.0</td>\n",
       "      <td>0.0</td>\n",
       "      <td>0.0</td>\n",
       "    </tr>\n",
       "    <tr>\n",
       "      <th>3</th>\n",
       "      <td>53</td>\n",
       "      <td>7</td>\n",
       "      <td>0</td>\n",
       "      <td>0</td>\n",
       "      <td>40</td>\n",
       "      <td>0.0</td>\n",
       "      <td>0.0</td>\n",
       "      <td>0.0</td>\n",
       "      <td>0.0</td>\n",
       "      <td>1.0</td>\n",
       "      <td>...</td>\n",
       "      <td>0.0</td>\n",
       "      <td>0.0</td>\n",
       "      <td>0.0</td>\n",
       "      <td>0.0</td>\n",
       "      <td>0.0</td>\n",
       "      <td>0.0</td>\n",
       "      <td>0.0</td>\n",
       "      <td>1.0</td>\n",
       "      <td>0.0</td>\n",
       "      <td>0.0</td>\n",
       "    </tr>\n",
       "    <tr>\n",
       "      <th>4</th>\n",
       "      <td>28</td>\n",
       "      <td>13</td>\n",
       "      <td>0</td>\n",
       "      <td>0</td>\n",
       "      <td>40</td>\n",
       "      <td>0.0</td>\n",
       "      <td>0.0</td>\n",
       "      <td>0.0</td>\n",
       "      <td>0.0</td>\n",
       "      <td>1.0</td>\n",
       "      <td>...</td>\n",
       "      <td>0.0</td>\n",
       "      <td>0.0</td>\n",
       "      <td>0.0</td>\n",
       "      <td>0.0</td>\n",
       "      <td>0.0</td>\n",
       "      <td>0.0</td>\n",
       "      <td>0.0</td>\n",
       "      <td>0.0</td>\n",
       "      <td>0.0</td>\n",
       "      <td>0.0</td>\n",
       "    </tr>\n",
       "  </tbody>\n",
       "</table>\n",
       "<p>5 rows × 107 columns</p>\n",
       "</div>"
      ],
      "text/plain": [
       "   age  education-num  capital-gain  capital-loss  hours-per-week  \\\n",
       "0   39             13          2174             0              40   \n",
       "1   50             13             0             0              13   \n",
       "2   38              9             0             0              40   \n",
       "3   53              7             0             0              40   \n",
       "4   28             13             0             0              40   \n",
       "\n",
       "   workclass_Federal-gov  workclass_Local-gov  workclass_NotReported  \\\n",
       "0                    0.0                  0.0                    0.0   \n",
       "1                    0.0                  0.0                    0.0   \n",
       "2                    0.0                  0.0                    0.0   \n",
       "3                    0.0                  0.0                    0.0   \n",
       "4                    0.0                  0.0                    0.0   \n",
       "\n",
       "   workclass_NotWorked  workclass_Private            ...              \\\n",
       "0                  0.0                0.0            ...               \n",
       "1                  0.0                0.0            ...               \n",
       "2                  0.0                1.0            ...               \n",
       "3                  0.0                1.0            ...               \n",
       "4                  0.0                1.0            ...               \n",
       "\n",
       "   native-country_Portugal  native-country_Puerto-Rico  \\\n",
       "0                      0.0                         0.0   \n",
       "1                      0.0                         0.0   \n",
       "2                      0.0                         0.0   \n",
       "3                      0.0                         0.0   \n",
       "4                      0.0                         0.0   \n",
       "\n",
       "   native-country_Scotland  native-country_South  native-country_Taiwan  \\\n",
       "0                      0.0                   0.0                    0.0   \n",
       "1                      0.0                   0.0                    0.0   \n",
       "2                      0.0                   0.0                    0.0   \n",
       "3                      0.0                   0.0                    0.0   \n",
       "4                      0.0                   0.0                    0.0   \n",
       "\n",
       "   native-country_Thailand  native-country_Trinadad&Tobago  native-country_US  \\\n",
       "0                      0.0                             0.0                1.0   \n",
       "1                      0.0                             0.0                1.0   \n",
       "2                      0.0                             0.0                1.0   \n",
       "3                      0.0                             0.0                1.0   \n",
       "4                      0.0                             0.0                0.0   \n",
       "\n",
       "   native-country_Vietnam  native-country_Yugoslavia  \n",
       "0                     0.0                        0.0  \n",
       "1                     0.0                        0.0  \n",
       "2                     0.0                        0.0  \n",
       "3                     0.0                        0.0  \n",
       "4                     0.0                        0.0  \n",
       "\n",
       "[5 rows x 107 columns]"
      ]
     },
     "execution_count": 24,
     "metadata": {},
     "output_type": "execute_result"
    }
   ],
   "source": [
    " \n",
    "# Do the Dummies \n",
    "df_dummies = pd.get_dummies(dfintermediate)\n",
    "df_dummies.head()"
   ]
  },
  {
   "cell_type": "raw",
   "metadata": {
    "collapsed": false
   },
   "source": [
    "dfincome.info()"
   ]
  },
  {
   "cell_type": "code",
   "execution_count": 25,
   "metadata": {
    "collapsed": false
   },
   "outputs": [
    {
     "data": {
      "text/plain": [
       "LinearRegression(copy_X=True, fit_intercept=True, n_jobs=1, normalize=False)"
      ]
     },
     "execution_count": 25,
     "metadata": {},
     "output_type": "execute_result"
    }
   ],
   "source": [
    "# Let us do Linear Regression \n",
    "\n",
    "income_x = df_dummies.values\n",
    "income_y = dfincome['targetfinal']\n",
    "\n",
    "# Split Data into train and test \n",
    "income_X_train = income_x[:-20]\n",
    "income_X_test = income_x[-20:]\n",
    "\n",
    "income_y_train = income_y[:-20]\n",
    "income_y_test = income_y[-20:]\n",
    "\n",
    "#print income_y_train\n",
    "\n",
    "regr = linear_model.LinearRegression()\n",
    "regr.fit(income_X_train, income_y_train)\n",
    "#print('Coefficients: \\n', regr.coef_)\n"
   ]
  },
  {
   "cell_type": "code",
   "execution_count": 26,
   "metadata": {
    "collapsed": false
   },
   "outputs": [
    {
     "data": {
      "text/plain": [
       "107"
      ]
     },
     "execution_count": 26,
     "metadata": {},
     "output_type": "execute_result"
    }
   ],
   "source": [
    "#df_coeff['Coefficients'] = regr.coef_\n",
    "\n",
    "regr.coef_.size"
   ]
  },
  {
   "cell_type": "code",
   "execution_count": 27,
   "metadata": {
    "collapsed": false
   },
   "outputs": [],
   "source": [
    "dfc = pd.DataFrame()\n",
    "dfc['Features'] = df_dummies.columns\n",
    "dfc['coefficients'] = regr.coef_"
   ]
  },
  {
   "cell_type": "code",
   "execution_count": 31,
   "metadata": {
    "collapsed": false
   },
   "outputs": [],
   "source": [
    "#dfc"
   ]
  },
  {
   "cell_type": "code",
   "execution_count": 28,
   "metadata": {
    "collapsed": false
   },
   "outputs": [
    {
     "data": {
      "text/html": [
       "<iframe id=\"igraph\" scrolling=\"no\" style=\"border:none;\" seamless=\"seamless\" src=\"https://plot.ly/~cnpsap/12.embed\" height=\"525px\" width=\"100%\"></iframe>"
      ],
      "text/plain": [
       "<plotly.tools.PlotlyDisplay object>"
      ]
     },
     "execution_count": 28,
     "metadata": {},
     "output_type": "execute_result"
    }
   ],
   "source": [
    "import plotly.plotly as py\n",
    "import plotly.graph_objs as go\n",
    "\n",
    "data = [go.Bar(\n",
    "            x=dfc['coefficients'],\n",
    "            y=dfc['Features'],\n",
    "            orientation = 'h'\n",
    ")]\n",
    "\n",
    "py.iplot(data, filename='horizontal-bar')\n",
    "\n",
    "# Number of Years of education is highly co related with the target \n"
   ]
  },
  {
   "cell_type": "code",
   "execution_count": 29,
   "metadata": {
    "collapsed": false
   },
   "outputs": [
    {
     "name": "stdout",
     "output_type": "stream",
     "text": [
      "Variance score: 0.33\n"
     ]
    }
   ],
   "source": [
    "# The mean squared error\n",
    "#print(\"Mean squared error: %.2f\"\n",
    "   #   % np.mean((regr.predict(income_X_test) - income_y_test) ** 2))\n",
    "# Explained variance score: 1 is perfect prediction\n",
    "#C\n",
    "#print ( ( regr.predict(income_X_test) - (income_y_test) )\n",
    "\n",
    " #print (income_y_test)\n",
    "#print regr.predict(income_X_test).size\n",
    "\n",
    "#income_y_test.size\n",
    "#np.mean((regr.predict(income_X_test) - income_y_test) ** 2)\n",
    "#% np.mean((regr.predict(income_X_test) - income_y_test) ** 2)\n",
    "\n",
    "print('Variance score: %.2f' % regr.score(income_X_test, income_y_test))\n",
    "\n",
    "#print(\"Mean squared error: %.2f\"\n",
    "   #   % np.mean((regr.predict(income_X_test) - income_y_test) ** 2))\n"
   ]
  },
  {
   "cell_type": "code",
   "execution_count": 30,
   "metadata": {
    "collapsed": false
   },
   "outputs": [
    {
     "data": {
      "text/plain": [
       "BayesianRidge(alpha_1=1e-06, alpha_2=1e-06, compute_score=True, copy_X=True,\n",
       "       fit_intercept=True, lambda_1=1e-06, lambda_2=1e-06, n_iter=300,\n",
       "       normalize=False, tol=0.001, verbose=False)"
      ]
     },
     "execution_count": 30,
     "metadata": {},
     "output_type": "execute_result"
    }
   ],
   "source": [
    "clf = BayesianRidge(compute_score=True)\n",
    "clf.fit(income_X_train, income_y_train)"
   ]
  },
  {
   "cell_type": "code",
   "execution_count": 35,
   "metadata": {
    "collapsed": false
   },
   "outputs": [],
   "source": [
    "# This code did not complete \n",
    "#n_features = income_X_train.size\n",
    "#w = np.zeros(n_features)\n",
    "#lw = 2\n",
    "#plt.figure(figsize=(6, 5))\n",
    "#plt.title(\"Weights of the model\")\n",
    "#plt.plot(clf.coef_, color='lightgreen', linewidth=lw,\n",
    " #        label=\"Bayesian Ridge estimate\")\n",
    "#plt.plot(w, color='gold', linewidth=lw, label=\"Ground truth\")\n",
    "#plt.plot(regr.coef_, color='navy', linestyle='--', label=\"OLS estimate\")\n",
    "#plt.xlabel(\"Features\")\n",
    "#plt.ylabel(\"Values of the weights\")\n",
    "#plt.legend(loc=\"best\", prop=dict(size=12))\n",
    "\n",
    "#plt.figure(figsize=(6, 5))\n",
    "#plt.title(\"Histogram of the weights\")\n",
    "#plt.hist(clf.coef_, bins=n_features, color='gold', log=True)\n",
    "#plt.scatter(clf.coef_[relevant_features], 5 * np.ones(len(relevant_features)),\n",
    "  #          color='navy', label=\"Relevant features\")\n",
    "#plt.ylabel(\"Features\")\n",
    "#plt.xlabel(\"Values of the weights\")\n",
    "#plt.legend(loc=\"upper left\")\n",
    "\n",
    "#plt.figure(figsize=(6, 5))\n",
    "#plt.title(\"Marginal log-likelihood\")\n",
    "#plt.plot(clf.scores_, color='navy', linewidth=lw)\n",
    "#plt.ylabel(\"Score\")\n",
    "#plt.xlabel(\"Iterations\")\n",
    "#plt.show()"
   ]
  },
  {
   "cell_type": "code",
   "execution_count": 31,
   "metadata": {
    "collapsed": false
   },
   "outputs": [
    {
     "data": {
      "text/plain": [
       "array([[  3.90000000e+01,   1.30000000e+01,   2.17400000e+03, ...,\n",
       "          1.00000000e+00,   0.00000000e+00,   0.00000000e+00],\n",
       "       [  5.00000000e+01,   1.30000000e+01,   0.00000000e+00, ...,\n",
       "          1.00000000e+00,   0.00000000e+00,   0.00000000e+00],\n",
       "       [  3.80000000e+01,   9.00000000e+00,   0.00000000e+00, ...,\n",
       "          1.00000000e+00,   0.00000000e+00,   0.00000000e+00],\n",
       "       ..., \n",
       "       [  5.80000000e+01,   9.00000000e+00,   0.00000000e+00, ...,\n",
       "          1.00000000e+00,   0.00000000e+00,   0.00000000e+00],\n",
       "       [  2.20000000e+01,   9.00000000e+00,   0.00000000e+00, ...,\n",
       "          1.00000000e+00,   0.00000000e+00,   0.00000000e+00],\n",
       "       [  5.20000000e+01,   9.00000000e+00,   1.50240000e+04, ...,\n",
       "          1.00000000e+00,   0.00000000e+00,   0.00000000e+00]])"
      ]
     },
     "execution_count": 31,
     "metadata": {},
     "output_type": "execute_result"
    }
   ],
   "source": [
    "income_x"
   ]
  },
  {
   "cell_type": "code",
   "execution_count": 32,
   "metadata": {
    "collapsed": false
   },
   "outputs": [
    {
     "name": "stdout",
     "output_type": "stream",
     "text": [
      " Start PCA \n",
      "[  9.97028410e-01   2.96526077e-03   3.42257018e-06]\n"
     ]
    }
   ],
   "source": [
    "from sklearn import decomposition\n",
    "from mpl_toolkits.mplot3d import Axes3D\n",
    "\n",
    "print (\" Start PCA \")\n",
    "pca = decomposition.PCA(n_components=3)\n",
    "pca.fit(income_x)\n",
    "income_x1 = pca.transform(income_x)\n",
    "pca_score = pca.explained_variance_ratio_\n",
    "print pca_score\n",
    "y = income_y\n",
    "#V = pca.components_\n",
    "#print(pca.explained_variance_ratio_) \n",
    "#print (\"Components is \")\n",
    "#print V\n",
    "#V.size\n",
    " "
   ]
  },
  {
   "cell_type": "code",
   "execution_count": 38,
   "metadata": {
    "collapsed": false
   },
   "outputs": [
    {
     "name": "stderr",
     "output_type": "stream",
     "text": [
      "/Users/murali/anaconda/lib/python2.7/site-packages/ipykernel/__main__.py:9: FutureWarning:\n",
      "\n",
      "in the future, boolean array-likes will be handled as a boolean array index\n",
      "\n",
      "/Users/murali/anaconda/lib/python2.7/site-packages/ipykernel/__main__.py:10: FutureWarning:\n",
      "\n",
      "in the future, boolean array-likes will be handled as a boolean array index\n",
      "\n",
      "/Users/murali/anaconda/lib/python2.7/site-packages/ipykernel/__main__.py:11: FutureWarning:\n",
      "\n",
      "in the future, boolean array-likes will be handled as a boolean array index\n",
      "\n"
     ]
    },
    {
     "data": {
      "image/png": "[encoded data removed]",
      "text/plain": [
       "<matplotlib.figure.Figure at 0x11a4eadd0>"
      ]
     },
     "metadata": {},
     "output_type": "display_data"
    }
   ],
   "source": [
    "\n",
    "fig = plt.figure(1, figsize=(4, 3))\n",
    "plt.clf()\n",
    "ax = Axes3D(fig, rect=[0, 0, .95, 1], elev=48, azim=134)\n",
    "\n",
    "plt.cla()\n",
    "\n",
    "for name, label in [('Salary<50K', 0), ('Salary>=50K', 1) ]:\n",
    "    ax.text3D(income_x1[y == label, 0].mean(),\n",
    "              income_x1[y == label, 1].mean() + 1.5,\n",
    "               income_x1[y == label, 2].mean(), name,\n",
    "              horizontalalignment='center',\n",
    "              bbox=dict(alpha=.5, edgecolor='w', facecolor='w'))\n",
    "# Reorder the labels to have colors matching the cluster results\n",
    "y = np.choose(y, [1, 2,0]).astype(np.float)\n",
    "ax.scatter(income_x1[:, 0], income_x1[:, 1],income_x[:,2],  c=y, cmap=plt.cm.spectral)\n",
    "\n",
    "ax.w_xaxis.set_ticklabels([])\n",
    "ax.w_yaxis.set_ticklabels([])\n",
    "ax.w_zaxis.set_ticklabels([])\n",
    "\n",
    "plt.show()"
   ]
  },
  {
   "cell_type": "code",
   "execution_count": 33,
   "metadata": {
    "collapsed": false
   },
   "outputs": [
    {
     "data": {
      "text/plain": [
       "<matplotlib.text.Text at 0x11ad63690>"
      ]
     },
     "execution_count": 33,
     "metadata": {},
     "output_type": "execute_result"
    }
   ],
   "source": [
    "#print(pca.explained_variance_ratio_) \n",
    "plt.figure(1, figsize=(4, 3))\n",
    "plt.clf()\n",
    "plt.axes([.2, .2, .7, .7])\n",
    "plt.plot(pca.explained_variance_, linewidth=2)\n",
    "plt.axis('tight')\n",
    "plt.xlabel('n_components')\n",
    "plt.ylabel('explained_variance_')"
   ]
  },
  {
   "cell_type": "code",
   "execution_count": 34,
   "metadata": {
    "collapsed": false
   },
   "outputs": [
    {
     "data": {
      "image/png": "[encoded data removed]",
      "text/plain": [
       "<matplotlib.figure.Figure at 0x11a3a6310>"
      ]
     },
     "metadata": {},
     "output_type": "display_data"
    }
   ],
   "source": [
    "# Use the LabelEncoder and do PCA , LCA and Classifiers \n",
    "#dfincome.info()\n",
    "\n",
    "# Logistic Regression \n",
    "\n",
    "logreg = linear_model.LogisticRegression(C=1e5)\n",
    "\n",
    "# we create an instance of Neighbours Classifier and fit the data.\n",
    "# Will hit memory error so let us train only first two features \n",
    "X = income_X_train[:, :2]\n",
    "Y = income_y_train\n",
    "#logreg.fit(income_X_train, income_y_train)\n",
    "logreg.fit(X, income_y_train)\n",
    "h = .02 \n",
    "\n",
    "# Plot the decision boundary. For that, we will assign a color to each\n",
    "# point in the mesh [x_min, x_max]x[y_min, y_max].\n",
    "x_min, x_max = X[:, 0].min() - .5, X[:, 0].max() + .5\n",
    "y_min, y_max = X[:, 1].min() - .5, X[:, 1].max() + .5\n",
    "#x_min, x_max = income_x.min() - .5, income_x.max() + .5\n",
    "#y_min, y_max = income_x.min() - .5, income_x.max() + .5\n",
    "xx, yy = np.meshgrid(np.arange(x_min, x_max, h), np.arange(y_min, y_max, h))\n",
    "Z = logreg.predict(np.c_[xx.ravel(), yy.ravel()])\n",
    "\n",
    "# Put the result into a color plot\n",
    "Z = Z.reshape(xx.shape)\n",
    "plt.figure(1, figsize=(4, 3))\n",
    "plt.pcolormesh(xx, yy, Z, cmap=plt.cm.Paired)\n",
    "\n",
    "# Plot also the training points\n",
    "plt.scatter(X[:, 0], X[:, 1], c=Y, edgecolors='k', cmap=plt.cm.Paired)\n",
    "#plt.scatter(income_x,  c=Y, edgecolors='k', cmap=plt.cm.Paired)\n",
    "plt.xlabel('Salary >= 50K')\n",
    "plt.ylabel('Salary <50K')\n",
    "\n",
    "plt.xlim(xx.min(), xx.max())\n",
    "plt.ylim(yy.min(), yy.max())\n",
    "plt.xticks(())\n",
    "plt.yticks(())\n",
    "\n",
    "plt.show()"
   ]
  },
  {
   "cell_type": "code",
   "execution_count": 53,
   "metadata": {
    "collapsed": false
   },
   "outputs": [
    {
     "name": "stdout",
     "output_type": "stream",
     "text": [
      "Number of mislabeled points out of a total 150 points : 6\n"
     ]
    }
   ],
   "source": [
    "from sklearn import datasets\n",
    "iris = datasets.load_iris()\n",
    "from sklearn.naive_bayes import GaussianNB\n",
    "gnb = GaussianNB()\n",
    "type(iris.data)\n",
    "y_pred = gnb.fit(iris.data, iris.target).predict(iris.data)\n",
    "print(\"Number of mislabeled points out of a total %d points : %d\"   % (iris.data.shape[0],(iris.target != y_pred).sum()))\n",
    " "
   ]
  },
  {
   "cell_type": "code",
   "execution_count": 60,
   "metadata": {
    "collapsed": false
   },
   "outputs": [
    {
     "data": {
      "text/plain": [
       "numpy.ndarray"
      ]
     },
     "execution_count": 60,
     "metadata": {},
     "output_type": "execute_result"
    }
   ],
   "source": [
    " type(iris.data)"
   ]
  },
  {
   "cell_type": "code",
   "execution_count": 90,
   "metadata": {
    "collapsed": false
   },
   "outputs": [
    {
     "name": "stderr",
     "output_type": "stream",
     "text": [
      "/Users/murali/anaconda/lib/python2.7/site-packages/sklearn/utils/validation.py:386: DeprecationWarning:\n",
      "\n",
      "Passing 1d arrays as data is deprecated in 0.17 and willraise ValueError in 0.19. Reshape your data either using X.reshape(-1, 1) if your data has a single feature or X.reshape(1, -1) if it contains a single sample.\n",
      "\n"
     ]
    },
    {
     "ename": "ValueError",
     "evalue": "Expected input with 107 features, got 32561 instead",
     "output_type": "error",
     "traceback": [
      "\u001b[0;31m---------------------------------------------------------------------------\u001b[0m",
      "\u001b[0;31mValueError\u001b[0m                                Traceback (most recent call last)",
      "\u001b[0;32m<ipython-input-90-df9e5b5adeb0>\u001b[0m in \u001b[0;36m<module>\u001b[0;34m()\u001b[0m\n\u001b[1;32m      7\u001b[0m \u001b[0mYG\u001b[0m \u001b[0;34m=\u001b[0m  \u001b[0mnp\u001b[0m\u001b[0;34m.\u001b[0m\u001b[0masarray\u001b[0m\u001b[0;34m(\u001b[0m\u001b[0mtargetfinal\u001b[0m \u001b[0;34m)\u001b[0m\u001b[0;34m\u001b[0m\u001b[0m\n\u001b[1;32m      8\u001b[0m \u001b[0mgnb\u001b[0m\u001b[0;34m.\u001b[0m\u001b[0mfit\u001b[0m\u001b[0;34m(\u001b[0m\u001b[0mXG\u001b[0m\u001b[0;34m,\u001b[0m\u001b[0mYG\u001b[0m\u001b[0;34m)\u001b[0m\u001b[0;34m\u001b[0m\u001b[0m\n\u001b[0;32m----> 9\u001b[0;31m \u001b[0mgnb\u001b[0m\u001b[0;34m.\u001b[0m\u001b[0mpredict\u001b[0m\u001b[0;34m(\u001b[0m\u001b[0mYG\u001b[0m\u001b[0;34m)\u001b[0m\u001b[0;34m\u001b[0m\u001b[0m\n\u001b[0m\u001b[1;32m     10\u001b[0m \u001b[0;31m#y_pred = gnb.fit(incomecoded_x, income_y).predict(income_y)\u001b[0m\u001b[0;34m\u001b[0m\u001b[0;34m\u001b[0m\u001b[0m\n\u001b[1;32m     11\u001b[0m \u001b[0;31m#print y_pred\u001b[0m\u001b[0;34m\u001b[0m\u001b[0;34m\u001b[0m\u001b[0m\n",
      "\u001b[0;32m/Users/murali/anaconda/lib/python2.7/site-packages/sklearn/naive_bayes.pyc\u001b[0m in \u001b[0;36mpredict\u001b[0;34m(self, X)\u001b[0m\n\u001b[1;32m     63\u001b[0m             \u001b[0mPredicted\u001b[0m \u001b[0mtarget\u001b[0m \u001b[0mvalues\u001b[0m \u001b[0;32mfor\u001b[0m \u001b[0mX\u001b[0m\u001b[0;34m\u001b[0m\u001b[0m\n\u001b[1;32m     64\u001b[0m         \"\"\"\n\u001b[0;32m---> 65\u001b[0;31m         \u001b[0mjll\u001b[0m \u001b[0;34m=\u001b[0m \u001b[0mself\u001b[0m\u001b[0;34m.\u001b[0m\u001b[0m_joint_log_likelihood\u001b[0m\u001b[0;34m(\u001b[0m\u001b[0mX\u001b[0m\u001b[0;34m)\u001b[0m\u001b[0;34m\u001b[0m\u001b[0m\n\u001b[0m\u001b[1;32m     66\u001b[0m         \u001b[0;32mreturn\u001b[0m \u001b[0mself\u001b[0m\u001b[0;34m.\u001b[0m\u001b[0mclasses_\u001b[0m\u001b[0;34m[\u001b[0m\u001b[0mnp\u001b[0m\u001b[0;34m.\u001b[0m\u001b[0margmax\u001b[0m\u001b[0;34m(\u001b[0m\u001b[0mjll\u001b[0m\u001b[0;34m,\u001b[0m \u001b[0maxis\u001b[0m\u001b[0;34m=\u001b[0m\u001b[0;36m1\u001b[0m\u001b[0;34m)\u001b[0m\u001b[0;34m]\u001b[0m\u001b[0;34m\u001b[0m\u001b[0m\n\u001b[1;32m     67\u001b[0m \u001b[0;34m\u001b[0m\u001b[0m\n",
      "\u001b[0;32m/Users/murali/anaconda/lib/python2.7/site-packages/sklearn/naive_bayes.pyc\u001b[0m in \u001b[0;36m_joint_log_likelihood\u001b[0;34m(self, X)\u001b[0m\n\u001b[1;32m    781\u001b[0m         \u001b[0;32mif\u001b[0m \u001b[0mn_features_X\u001b[0m \u001b[0;34m!=\u001b[0m \u001b[0mn_features\u001b[0m\u001b[0;34m:\u001b[0m\u001b[0;34m\u001b[0m\u001b[0m\n\u001b[1;32m    782\u001b[0m             raise ValueError(\"Expected input with %d features, got %d instead\"\n\u001b[0;32m--> 783\u001b[0;31m                              % (n_features, n_features_X))\n\u001b[0m\u001b[1;32m    784\u001b[0m \u001b[0;34m\u001b[0m\u001b[0m\n\u001b[1;32m    785\u001b[0m         \u001b[0mneg_prob\u001b[0m \u001b[0;34m=\u001b[0m \u001b[0mnp\u001b[0m\u001b[0;34m.\u001b[0m\u001b[0mlog\u001b[0m\u001b[0;34m(\u001b[0m\u001b[0;36m1\u001b[0m \u001b[0;34m-\u001b[0m \u001b[0mnp\u001b[0m\u001b[0;34m.\u001b[0m\u001b[0mexp\u001b[0m\u001b[0;34m(\u001b[0m\u001b[0mself\u001b[0m\u001b[0;34m.\u001b[0m\u001b[0mfeature_log_prob_\u001b[0m\u001b[0;34m)\u001b[0m\u001b[0;34m)\u001b[0m\u001b[0;34m\u001b[0m\u001b[0m\n",
      "\u001b[0;31mValueError\u001b[0m: Expected input with 107 features, got 32561 instead"
     ]
    }
   ],
   "source": [
    "# Fun Starts here \n",
    "from sklearn import datasets\n",
    "  \n",
    "from sklearn.naive_bayes import BernoulliNB\n",
    "gnb = BernoulliNB() \n",
    "XG = df_dummies \n",
    "YG =  np.asarray(targetfinal )\n",
    "gnb.fit(XG,YG)\n",
    "gnb.predict(YG)\n",
    "#y_pred = gnb.fit(incomecoded_x, income_y).predict(income_y)\n",
    "#print y_pred\n",
    "#print(\"Number of mislabeled points out of a total %d points : %d\"     % (incomecoded_x.shape[0],(income_y != y_pred).sum()))\n",
    " "
   ]
  },
  {
   "cell_type": "code",
   "execution_count": 89,
   "metadata": {
    "collapsed": false
   },
   "outputs": [
    {
     "data": {
      "text/plain": [
       "pandas.core.frame.DataFrame"
      ]
     },
     "execution_count": 89,
     "metadata": {},
     "output_type": "execute_result"
    }
   ],
   "source": [
    "type(XG)"
   ]
  },
  {
   "cell_type": "code",
   "execution_count": 47,
   "metadata": {
    "collapsed": false
   },
   "outputs": [
    {
     "data": {
      "text/plain": [
       "3484027"
      ]
     },
     "execution_count": 47,
     "metadata": {},
     "output_type": "execute_result"
    }
   ],
   "source": [
    "income_x.size"
   ]
  },
  {
   "cell_type": "code",
   "execution_count": 44,
   "metadata": {
    "collapsed": false
   },
   "outputs": [
    {
     "name": "stderr",
     "output_type": "stream",
     "text": [
      "/Users/murali/anaconda/lib/python2.7/site-packages/sklearn/utils/validation.py:386: DeprecationWarning:\n",
      "\n",
      "Passing 1d arrays as data is deprecated in 0.17 and willraise ValueError in 0.19. Reshape your data either using X.reshape(-1, 1) if your data has a single feature or X.reshape(1, -1) if it contains a single sample.\n",
      "\n"
     ]
    },
    {
     "ename": "ValueError",
     "evalue": "shapes (1,32561) and (107,2) not aligned: 32561 (dim 1) != 107 (dim 0)",
     "output_type": "error",
     "traceback": [
      "\u001b[0;31m---------------------------------------------------------------------------\u001b[0m",
      "\u001b[0;31mValueError\u001b[0m                                Traceback (most recent call last)",
      "\u001b[0;32m<ipython-input-44-3856e514ba0e>\u001b[0m in \u001b[0;36m<module>\u001b[0;34m()\u001b[0m\n\u001b[1;32m      3\u001b[0m \u001b[0mclf\u001b[0m\u001b[0;34m.\u001b[0m\u001b[0mfit\u001b[0m\u001b[0;34m(\u001b[0m\u001b[0mincome_x\u001b[0m\u001b[0;34m,\u001b[0m\u001b[0mincome_y\u001b[0m\u001b[0;34m)\u001b[0m\u001b[0;34m\u001b[0m\u001b[0m\n\u001b[1;32m      4\u001b[0m \u001b[0mincome_y\u001b[0m\u001b[0;34m.\u001b[0m\u001b[0mreshape\u001b[0m\u001b[0;34m(\u001b[0m\u001b[0;36m1\u001b[0m\u001b[0;34m,\u001b[0m\u001b[0;34m-\u001b[0m\u001b[0;36m1\u001b[0m\u001b[0;34m)\u001b[0m\u001b[0;34m\u001b[0m\u001b[0m\n\u001b[0;32m----> 5\u001b[0;31m \u001b[0mclf\u001b[0m\u001b[0;34m.\u001b[0m\u001b[0mpredict\u001b[0m\u001b[0;34m(\u001b[0m\u001b[0mincome_y\u001b[0m\u001b[0;34m)\u001b[0m\u001b[0;34m\u001b[0m\u001b[0m\n\u001b[0m",
      "\u001b[0;32m/Users/murali/anaconda/lib/python2.7/site-packages/sklearn/naive_bayes.pyc\u001b[0m in \u001b[0;36mpredict\u001b[0;34m(self, X)\u001b[0m\n\u001b[1;32m     63\u001b[0m             \u001b[0mPredicted\u001b[0m \u001b[0mtarget\u001b[0m \u001b[0mvalues\u001b[0m \u001b[0;32mfor\u001b[0m \u001b[0mX\u001b[0m\u001b[0;34m\u001b[0m\u001b[0m\n\u001b[1;32m     64\u001b[0m         \"\"\"\n\u001b[0;32m---> 65\u001b[0;31m         \u001b[0mjll\u001b[0m \u001b[0;34m=\u001b[0m \u001b[0mself\u001b[0m\u001b[0;34m.\u001b[0m\u001b[0m_joint_log_likelihood\u001b[0m\u001b[0;34m(\u001b[0m\u001b[0mX\u001b[0m\u001b[0;34m)\u001b[0m\u001b[0;34m\u001b[0m\u001b[0m\n\u001b[0m\u001b[1;32m     66\u001b[0m         \u001b[0;32mreturn\u001b[0m \u001b[0mself\u001b[0m\u001b[0;34m.\u001b[0m\u001b[0mclasses_\u001b[0m\u001b[0;34m[\u001b[0m\u001b[0mnp\u001b[0m\u001b[0;34m.\u001b[0m\u001b[0margmax\u001b[0m\u001b[0;34m(\u001b[0m\u001b[0mjll\u001b[0m\u001b[0;34m,\u001b[0m \u001b[0maxis\u001b[0m\u001b[0;34m=\u001b[0m\u001b[0;36m1\u001b[0m\u001b[0;34m)\u001b[0m\u001b[0;34m]\u001b[0m\u001b[0;34m\u001b[0m\u001b[0m\n\u001b[1;32m     67\u001b[0m \u001b[0;34m\u001b[0m\u001b[0m\n",
      "\u001b[0;32m/Users/murali/anaconda/lib/python2.7/site-packages/sklearn/naive_bayes.pyc\u001b[0m in \u001b[0;36m_joint_log_likelihood\u001b[0;34m(self, X)\u001b[0m\n\u001b[1;32m    670\u001b[0m \u001b[0;34m\u001b[0m\u001b[0m\n\u001b[1;32m    671\u001b[0m         \u001b[0mX\u001b[0m \u001b[0;34m=\u001b[0m \u001b[0mcheck_array\u001b[0m\u001b[0;34m(\u001b[0m\u001b[0mX\u001b[0m\u001b[0;34m,\u001b[0m \u001b[0maccept_sparse\u001b[0m\u001b[0;34m=\u001b[0m\u001b[0;34m'csr'\u001b[0m\u001b[0;34m)\u001b[0m\u001b[0;34m\u001b[0m\u001b[0m\n\u001b[0;32m--> 672\u001b[0;31m         return (safe_sparse_dot(X, self.feature_log_prob_.T)\n\u001b[0m\u001b[1;32m    673\u001b[0m                 + self.class_log_prior_)\n\u001b[1;32m    674\u001b[0m \u001b[0;34m\u001b[0m\u001b[0m\n",
      "\u001b[0;32m/Users/murali/anaconda/lib/python2.7/site-packages/sklearn/utils/extmath.pyc\u001b[0m in \u001b[0;36msafe_sparse_dot\u001b[0;34m(a, b, dense_output)\u001b[0m\n\u001b[1;32m    182\u001b[0m         \u001b[0;32mreturn\u001b[0m \u001b[0mret\u001b[0m\u001b[0;34m\u001b[0m\u001b[0m\n\u001b[1;32m    183\u001b[0m     \u001b[0;32melse\u001b[0m\u001b[0;34m:\u001b[0m\u001b[0;34m\u001b[0m\u001b[0m\n\u001b[0;32m--> 184\u001b[0;31m         \u001b[0;32mreturn\u001b[0m \u001b[0mfast_dot\u001b[0m\u001b[0;34m(\u001b[0m\u001b[0ma\u001b[0m\u001b[0;34m,\u001b[0m \u001b[0mb\u001b[0m\u001b[0;34m)\u001b[0m\u001b[0;34m\u001b[0m\u001b[0m\n\u001b[0m\u001b[1;32m    185\u001b[0m \u001b[0;34m\u001b[0m\u001b[0m\n\u001b[1;32m    186\u001b[0m \u001b[0;34m\u001b[0m\u001b[0m\n",
      "\u001b[0;31mValueError\u001b[0m: shapes (1,32561) and (107,2) not aligned: 32561 (dim 1) != 107 (dim 0)"
     ]
    }
   ],
   "source": [
    "from sklearn.naive_bayes import MultinomialNB\n",
    "clf = MultinomialNB()\n",
    "clf.fit(income_x,income_y)\n",
    "income_y.reshape(1,-1)\n",
    "clf.predict(income_y)\n"
   ]
  },
  {
   "cell_type": "code",
   "execution_count": 56,
   "metadata": {
    "collapsed": true
   },
   "outputs": [],
   "source": [
    "# Start Label Encoding \n",
    "# Do PCA and LDA for Label Encoding  \n",
    "lworkclass = dfincome.workclass.unique()\n",
    "le = preprocessing.LabelEncoder()\n",
    "le.fit(lworkclass)\n",
    "finalworkclass = le.transform(dfincome.workclass)"
   ]
  },
  {
   "cell_type": "code",
   "execution_count": null,
   "metadata": {
    "collapsed": false
   },
   "outputs": [],
   "source": [
    "finalworkclass"
   ]
  },
  {
   "cell_type": "code",
   "execution_count": 58,
   "metadata": {
    "collapsed": false
   },
   "outputs": [],
   "source": [
    "lmaritialStatus = dfincome['marital-status'].unique()\n",
    "lemaritialstatus = preprocessing.LabelEncoder()\n",
    "lemaritialstatus.fit(lmaritialStatus)\n",
    "finalmaritialStatus = lemaritialstatus.transform(dfincome['marital-status'])\n"
   ]
  },
  {
   "cell_type": "code",
   "execution_count": 59,
   "metadata": {
    "collapsed": false
   },
   "outputs": [
    {
     "data": {
      "text/plain": [
       "array([4, 2, 0, ..., 6, 4, 2])"
      ]
     },
     "execution_count": 59,
     "metadata": {},
     "output_type": "execute_result"
    }
   ],
   "source": [
    "finalmaritialStatus"
   ]
  },
  {
   "cell_type": "code",
   "execution_count": 60,
   "metadata": {
    "collapsed": false
   },
   "outputs": [],
   "source": [
    "loccupation = dfincome['occupation'].unique()\n",
    "leoccupation = preprocessing.LabelEncoder()\n",
    "leoccupation.fit(loccupation)\n",
    "finaloccupation = leoccupation.transform(dfincome['occupation'])"
   ]
  },
  {
   "cell_type": "code",
   "execution_count": 61,
   "metadata": {
    "collapsed": false
   },
   "outputs": [
    {
     "data": {
      "text/plain": [
       "array([0, 3, 5, ..., 0, 0, 3])"
      ]
     },
     "execution_count": 61,
     "metadata": {},
     "output_type": "execute_result"
    }
   ],
   "source": [
    "finaloccupation"
   ]
  },
  {
   "cell_type": "code",
   "execution_count": 62,
   "metadata": {
    "collapsed": true
   },
   "outputs": [],
   "source": [
    "#relationship\n",
    "#relationship\n",
    "lrelationship = dfincome['relationship'].unique()\n",
    "lerelationship = preprocessing.LabelEncoder()\n",
    "lerelationship.fit(lrelationship)\n",
    "finalrelationship = lerelationship.transform(dfincome['relationship'])"
   ]
  },
  {
   "cell_type": "code",
   "execution_count": 63,
   "metadata": {
    "collapsed": true
   },
   "outputs": [],
   "source": [
    "#race\n",
    "#race\n",
    "lrace = dfincome['race'].unique()\n",
    "lerace = preprocessing.LabelEncoder()\n",
    "lerace.fit(lrace)\n",
    "finalrace = lerace.transform(dfincome['race'])"
   ]
  },
  {
   "cell_type": "code",
   "execution_count": 64,
   "metadata": {
    "collapsed": false
   },
   "outputs": [],
   "source": [
    "lsex = dfincome['sex'].unique()\n",
    "lesex = preprocessing.LabelEncoder()\n",
    "lesex.fit(lsex)\n",
    "finalsex = lesex.transform(dfincome['sex'])"
   ]
  },
  {
   "cell_type": "code",
   "execution_count": 65,
   "metadata": {
    "collapsed": true
   },
   "outputs": [],
   "source": [
    "lnativecountry = dfincome['native-country'].unique()\n",
    "lenativecountry = preprocessing.LabelEncoder()\n",
    "lenativecountry.fit(lnativecountry)\n",
    "finalnativecountry = lenativecountry.transform(dfincome['native-country'])"
   ]
  },
  {
   "cell_type": "code",
   "execution_count": 66,
   "metadata": {
    "collapsed": false
   },
   "outputs": [],
   "source": [
    "lneducation = dfincome['education'].unique()\n",
    "leeducation = preprocessing.LabelEncoder()\n",
    "leeducation.fit(lneducation)\n",
    "finaleducation = leeducation.transform(dfincome['education'])"
   ]
  },
  {
   "cell_type": "code",
   "execution_count": 67,
   "metadata": {
    "collapsed": false
   },
   "outputs": [
    {
     "name": "stdout",
     "output_type": "stream",
     "text": [
      "<class 'pandas.core.frame.DataFrame'>\n",
      "RangeIndex: 32561 entries, 0 to 32560\n",
      "Data columns (total 16 columns):\n",
      "age               32561 non-null int64\n",
      "workclass         32561 non-null object\n",
      "fnlwgt            32561 non-null int64\n",
      "education         32561 non-null object\n",
      "education-num     32561 non-null int64\n",
      "marital-status    32561 non-null object\n",
      "occupation        32561 non-null object\n",
      "relationship      32561 non-null object\n",
      "race              32561 non-null object\n",
      "sex               32561 non-null object\n",
      "capital-gain      32561 non-null int64\n",
      "capital-loss      32561 non-null int64\n",
      "hours-per-week    32561 non-null int64\n",
      "native-country    32561 non-null object\n",
      "target            32561 non-null object\n",
      "targetfinal       32561 non-null int64\n",
      "dtypes: int64(7), object(9)\n",
      "memory usage: 4.0+ MB\n"
     ]
    }
   ],
   "source": [
    "dfincome.info()"
   ]
  },
  {
   "cell_type": "code",
   "execution_count": 68,
   "metadata": {
    "collapsed": false
   },
   "outputs": [
    {
     "name": "stderr",
     "output_type": "stream",
     "text": [
      "/Users/murali/anaconda/lib/python2.7/site-packages/sklearn/utils/validation.py:420: DataConversionWarning:\n",
      "\n",
      "Data with input dtype int64 was converted to float64 by MinMaxScaler.\n",
      "\n",
      "/Users/murali/anaconda/lib/python2.7/site-packages/sklearn/preprocessing/data.py:324: DeprecationWarning:\n",
      "\n",
      "Passing 1d arrays as data is deprecated in 0.17 and will raise ValueError in 0.19. Reshape your data either using X.reshape(-1, 1) if your data has a single feature or X.reshape(1, -1) if it contains a single sample.\n",
      "\n",
      "/Users/murali/anaconda/lib/python2.7/site-packages/sklearn/preprocessing/data.py:359: DeprecationWarning:\n",
      "\n",
      "Passing 1d arrays as data is deprecated in 0.17 and will raise ValueError in 0.19. Reshape your data either using X.reshape(-1, 1) if your data has a single feature or X.reshape(1, -1) if it contains a single sample.\n",
      "\n",
      "/Users/murali/anaconda/lib/python2.7/site-packages/sklearn/utils/validation.py:420: DataConversionWarning:\n",
      "\n",
      "Data with input dtype int64 was converted to float64 by MinMaxScaler.\n",
      "\n",
      "/Users/murali/anaconda/lib/python2.7/site-packages/sklearn/preprocessing/data.py:324: DeprecationWarning:\n",
      "\n",
      "Passing 1d arrays as data is deprecated in 0.17 and will raise ValueError in 0.19. Reshape your data either using X.reshape(-1, 1) if your data has a single feature or X.reshape(1, -1) if it contains a single sample.\n",
      "\n",
      "/Users/murali/anaconda/lib/python2.7/site-packages/sklearn/preprocessing/data.py:359: DeprecationWarning:\n",
      "\n",
      "Passing 1d arrays as data is deprecated in 0.17 and will raise ValueError in 0.19. Reshape your data either using X.reshape(-1, 1) if your data has a single feature or X.reshape(1, -1) if it contains a single sample.\n",
      "\n",
      "/Users/murali/anaconda/lib/python2.7/site-packages/sklearn/utils/validation.py:420: DataConversionWarning:\n",
      "\n",
      "Data with input dtype int64 was converted to float64 by MinMaxScaler.\n",
      "\n",
      "/Users/murali/anaconda/lib/python2.7/site-packages/sklearn/preprocessing/data.py:324: DeprecationWarning:\n",
      "\n",
      "Passing 1d arrays as data is deprecated in 0.17 and will raise ValueError in 0.19. Reshape your data either using X.reshape(-1, 1) if your data has a single feature or X.reshape(1, -1) if it contains a single sample.\n",
      "\n",
      "/Users/murali/anaconda/lib/python2.7/site-packages/sklearn/preprocessing/data.py:359: DeprecationWarning:\n",
      "\n",
      "Passing 1d arrays as data is deprecated in 0.17 and will raise ValueError in 0.19. Reshape your data either using X.reshape(-1, 1) if your data has a single feature or X.reshape(1, -1) if it contains a single sample.\n",
      "\n",
      "/Users/murali/anaconda/lib/python2.7/site-packages/sklearn/utils/validation.py:420: DataConversionWarning:\n",
      "\n",
      "Data with input dtype int64 was converted to float64 by MinMaxScaler.\n",
      "\n",
      "/Users/murali/anaconda/lib/python2.7/site-packages/sklearn/preprocessing/data.py:324: DeprecationWarning:\n",
      "\n",
      "Passing 1d arrays as data is deprecated in 0.17 and will raise ValueError in 0.19. Reshape your data either using X.reshape(-1, 1) if your data has a single feature or X.reshape(1, -1) if it contains a single sample.\n",
      "\n",
      "/Users/murali/anaconda/lib/python2.7/site-packages/sklearn/preprocessing/data.py:359: DeprecationWarning:\n",
      "\n",
      "Passing 1d arrays as data is deprecated in 0.17 and will raise ValueError in 0.19. Reshape your data either using X.reshape(-1, 1) if your data has a single feature or X.reshape(1, -1) if it contains a single sample.\n",
      "\n"
     ]
    }
   ],
   "source": [
    "from sklearn.preprocessing import MinMaxScaler\n",
    "lcapitalgain = MinMaxScaler(feature_range=(0,100)).fit_transform(dfincome['capital-gain'])\n",
    "lcapitalloss = MinMaxScaler(feature_range=(0,100)).fit_transform(dfincome['capital-loss'])\n",
    "lhoursofweek = MinMaxScaler(feature_range=(0,40)).fit_transform(dfincome['hours-per-week'])\n",
    "leducationnum = MinMaxScaler(feature_range=(0,25)).fit_transform(dfincome['education-num'])"
   ]
  },
  {
   "cell_type": "code",
   "execution_count": 70,
   "metadata": {
    "collapsed": false
   },
   "outputs": [],
   "source": [
    "# Assemble the dataFrame and start the classifiers \n",
    "# create a new series and start play with LCA and classifiers \n",
    "\n",
    "dfincomecoded = pd.DataFrame()\n",
    "dfincomecoded['workclass'] = finalworkclass\n",
    "dfincomecoded['maritialstatus'] = finalmaritialStatus\n",
    "dfincomecoded['relationship'] = finalrelationship\n",
    "dfincomecoded['race'] = finalrace\n",
    "dfincomecoded['sex'] = finalsex\n",
    "dfincomecoded['nativecountry'] = finalnativecountry\n",
    "dfincomecoded['education'] = finaleducation\n",
    "dfincomecoded['capitalgain'] = lcapitalgain\n",
    "dfincomecoded['capitalloss'] = lcapitalloss\n",
    "dfincomecoded['hoursperweek'] = lhoursofweek\n",
    "dfincomecoded['educationNum'] = leducationnum\n",
    "dfincomecoded['targetFinal']  = dfincome['targetfinal']\n",
    " \n",
    "\n"
   ]
  },
  {
   "cell_type": "code",
   "execution_count": 71,
   "metadata": {
    "collapsed": false
   },
   "outputs": [
    {
     "name": "stdout",
     "output_type": "stream",
     "text": [
      "<class 'pandas.core.frame.DataFrame'>\n",
      "RangeIndex: 32561 entries, 0 to 32560\n",
      "Data columns (total 12 columns):\n",
      "workclass         32561 non-null int64\n",
      "maritialstatus    32561 non-null int64\n",
      "relationship      32561 non-null int64\n",
      "race              32561 non-null int64\n",
      "sex               32561 non-null int64\n",
      "nativecountry     32561 non-null int64\n",
      "education         32561 non-null int64\n",
      "capitalgain       32561 non-null float64\n",
      "capitalloss       32561 non-null float64\n",
      "hoursperweek      32561 non-null float64\n",
      "educationNum      32561 non-null float64\n",
      "targetFinal       32561 non-null int64\n",
      "dtypes: float64(4), int64(8)\n",
      "memory usage: 3.0 MB\n"
     ]
    }
   ],
   "source": [
    "dfincomecoded.info()"
   ]
  },
  {
   "cell_type": "code",
   "execution_count": 2,
   "metadata": {
    "collapsed": false
   },
   "outputs": [
    {
     "ename": "NameError",
     "evalue": "name 'dfincomecoded' is not defined",
     "output_type": "error",
     "traceback": [
      "\u001b[0;31m---------------------------------------------------------------------------\u001b[0m",
      "\u001b[0;31mNameError\u001b[0m                                 Traceback (most recent call last)",
      "\u001b[0;32m<ipython-input-2-c9fa08e9a525>\u001b[0m in \u001b[0;36m<module>\u001b[0;34m()\u001b[0m\n\u001b[0;32m----> 1\u001b[0;31m \u001b[0mincome_y\u001b[0m \u001b[0;34m=\u001b[0m \u001b[0mdfincomecoded\u001b[0m\u001b[0;34m[\u001b[0m\u001b[0;34m'targetFinal'\u001b[0m\u001b[0;34m]\u001b[0m\u001b[0;34m.\u001b[0m\u001b[0mas_matrix\u001b[0m\u001b[0;34m(\u001b[0m\u001b[0;34m)\u001b[0m\u001b[0;34m\u001b[0m\u001b[0m\n\u001b[0m\u001b[1;32m      2\u001b[0m \u001b[0;34m\u001b[0m\u001b[0m\n\u001b[1;32m      3\u001b[0m \u001b[0mincomecoded_x\u001b[0m \u001b[0;34m=\u001b[0m \u001b[0mdfincomecoded\u001b[0m\u001b[0;34m.\u001b[0m\u001b[0mdrop\u001b[0m\u001b[0;34m[\u001b[0m\u001b[0;34m'targetFinal'\u001b[0m\u001b[0;34m]\u001b[0m\u001b[0;34m\u001b[0m\u001b[0m\n\u001b[1;32m      4\u001b[0m \u001b[0;34m\u001b[0m\u001b[0m\n",
      "\u001b[0;31mNameError\u001b[0m: name 'dfincomecoded' is not defined"
     ]
    }
   ],
   "source": [
    "income_y = dfincomecoded['targetFinal'].as_matrix()\n",
    "\n",
    "incomecoded_x = dfincomecoded.drop['targetFinal']\n",
    " \n"
   ]
  },
  {
   "cell_type": "code",
   "execution_count": 96,
   "metadata": {
    "collapsed": false
   },
   "outputs": [
    {
     "data": {
      "text/plain": [
       "32561"
      ]
     },
     "execution_count": 96,
     "metadata": {},
     "output_type": "execute_result"
    }
   ],
   "source": [
    "income_y.size"
   ]
  },
  {
   "cell_type": "code",
   "execution_count": 87,
   "metadata": {
    "collapsed": false
   },
   "outputs": [],
   "source": [
    "#income_y = income_y.reshape(1,-1)"
   ]
  },
  {
   "cell_type": "code",
   "execution_count": 90,
   "metadata": {
    "collapsed": false
   },
   "outputs": [
    {
     "name": "stderr",
     "output_type": "stream",
     "text": [
      "/Users/murali/anaconda/lib/python2.7/site-packages/sklearn/utils/validation.py:386: DeprecationWarning:\n",
      "\n",
      "Passing 1d arrays as data is deprecated in 0.17 and willraise ValueError in 0.19. Reshape your data either using X.reshape(-1, 1) if your data has a single feature or X.reshape(1, -1) if it contains a single sample.\n",
      "\n"
     ]
    },
    {
     "ename": "ValueError",
     "evalue": "operands could not be broadcast together with shapes (1,32561) (12,) ",
     "output_type": "error",
     "traceback": [
      "\u001b[0;31m---------------------------------------------------------------------------\u001b[0m",
      "\u001b[0;31mValueError\u001b[0m                                Traceback (most recent call last)",
      "\u001b[0;32m<ipython-input-90-9455bfdb974f>\u001b[0m in \u001b[0;36m<module>\u001b[0;34m()\u001b[0m\n\u001b[1;32m      8\u001b[0m \u001b[0mgnb\u001b[0m \u001b[0;34m=\u001b[0m \u001b[0mGaussianNB\u001b[0m\u001b[0;34m(\u001b[0m\u001b[0;34m)\u001b[0m\u001b[0;34m\u001b[0m\u001b[0m\n\u001b[1;32m      9\u001b[0m \u001b[0mgnb\u001b[0m\u001b[0;34m.\u001b[0m\u001b[0mfit\u001b[0m\u001b[0;34m(\u001b[0m\u001b[0mincomecoded_x\u001b[0m\u001b[0;34m,\u001b[0m\u001b[0mincome_y\u001b[0m\u001b[0;34m)\u001b[0m\u001b[0;34m\u001b[0m\u001b[0m\n\u001b[0;32m---> 10\u001b[0;31m \u001b[0mgnb\u001b[0m\u001b[0;34m.\u001b[0m\u001b[0mpredict\u001b[0m\u001b[0;34m(\u001b[0m\u001b[0mincome_y\u001b[0m\u001b[0;34m)\u001b[0m\u001b[0;34m\u001b[0m\u001b[0m\n\u001b[0m\u001b[1;32m     11\u001b[0m \u001b[0;31m#y_pred = gnb.fit(incomecoded_x, income_y).predict(income_y)\u001b[0m\u001b[0;34m\u001b[0m\u001b[0;34m\u001b[0m\u001b[0m\n\u001b[1;32m     12\u001b[0m \u001b[0;31m#print y_pred\u001b[0m\u001b[0;34m\u001b[0m\u001b[0;34m\u001b[0m\u001b[0m\n",
      "\u001b[0;32m/Users/murali/anaconda/lib/python2.7/site-packages/sklearn/naive_bayes.pyc\u001b[0m in \u001b[0;36mpredict\u001b[0;34m(self, X)\u001b[0m\n\u001b[1;32m     63\u001b[0m             \u001b[0mPredicted\u001b[0m \u001b[0mtarget\u001b[0m \u001b[0mvalues\u001b[0m \u001b[0;32mfor\u001b[0m \u001b[0mX\u001b[0m\u001b[0;34m\u001b[0m\u001b[0m\n\u001b[1;32m     64\u001b[0m         \"\"\"\n\u001b[0;32m---> 65\u001b[0;31m         \u001b[0mjll\u001b[0m \u001b[0;34m=\u001b[0m \u001b[0mself\u001b[0m\u001b[0;34m.\u001b[0m\u001b[0m_joint_log_likelihood\u001b[0m\u001b[0;34m(\u001b[0m\u001b[0mX\u001b[0m\u001b[0;34m)\u001b[0m\u001b[0;34m\u001b[0m\u001b[0m\n\u001b[0m\u001b[1;32m     66\u001b[0m         \u001b[0;32mreturn\u001b[0m \u001b[0mself\u001b[0m\u001b[0;34m.\u001b[0m\u001b[0mclasses_\u001b[0m\u001b[0;34m[\u001b[0m\u001b[0mnp\u001b[0m\u001b[0;34m.\u001b[0m\u001b[0margmax\u001b[0m\u001b[0;34m(\u001b[0m\u001b[0mjll\u001b[0m\u001b[0;34m,\u001b[0m \u001b[0maxis\u001b[0m\u001b[0;34m=\u001b[0m\u001b[0;36m1\u001b[0m\u001b[0;34m)\u001b[0m\u001b[0;34m]\u001b[0m\u001b[0;34m\u001b[0m\u001b[0m\n\u001b[1;32m     67\u001b[0m \u001b[0;34m\u001b[0m\u001b[0m\n",
      "\u001b[0;32m/Users/murali/anaconda/lib/python2.7/site-packages/sklearn/naive_bayes.pyc\u001b[0m in \u001b[0;36m_joint_log_likelihood\u001b[0;34m(self, X)\u001b[0m\n\u001b[1;32m    392\u001b[0m             \u001b[0mjointi\u001b[0m \u001b[0;34m=\u001b[0m \u001b[0mnp\u001b[0m\u001b[0;34m.\u001b[0m\u001b[0mlog\u001b[0m\u001b[0;34m(\u001b[0m\u001b[0mself\u001b[0m\u001b[0;34m.\u001b[0m\u001b[0mclass_prior_\u001b[0m\u001b[0;34m[\u001b[0m\u001b[0mi\u001b[0m\u001b[0;34m]\u001b[0m\u001b[0;34m)\u001b[0m\u001b[0;34m\u001b[0m\u001b[0m\n\u001b[1;32m    393\u001b[0m             \u001b[0mn_ij\u001b[0m \u001b[0;34m=\u001b[0m \u001b[0;34m-\u001b[0m \u001b[0;36m0.5\u001b[0m \u001b[0;34m*\u001b[0m \u001b[0mnp\u001b[0m\u001b[0;34m.\u001b[0m\u001b[0msum\u001b[0m\u001b[0;34m(\u001b[0m\u001b[0mnp\u001b[0m\u001b[0;34m.\u001b[0m\u001b[0mlog\u001b[0m\u001b[0;34m(\u001b[0m\u001b[0;36m2.\u001b[0m \u001b[0;34m*\u001b[0m \u001b[0mnp\u001b[0m\u001b[0;34m.\u001b[0m\u001b[0mpi\u001b[0m \u001b[0;34m*\u001b[0m \u001b[0mself\u001b[0m\u001b[0;34m.\u001b[0m\u001b[0msigma_\u001b[0m\u001b[0;34m[\u001b[0m\u001b[0mi\u001b[0m\u001b[0;34m,\u001b[0m \u001b[0;34m:\u001b[0m\u001b[0;34m]\u001b[0m\u001b[0;34m)\u001b[0m\u001b[0;34m)\u001b[0m\u001b[0;34m\u001b[0m\u001b[0m\n\u001b[0;32m--> 394\u001b[0;31m             n_ij -= 0.5 * np.sum(((X - self.theta_[i, :]) ** 2) /\n\u001b[0m\u001b[1;32m    395\u001b[0m                                  (self.sigma_[i, :]), 1)\n\u001b[1;32m    396\u001b[0m             \u001b[0mjoint_log_likelihood\u001b[0m\u001b[0;34m.\u001b[0m\u001b[0mappend\u001b[0m\u001b[0;34m(\u001b[0m\u001b[0mjointi\u001b[0m \u001b[0;34m+\u001b[0m \u001b[0mn_ij\u001b[0m\u001b[0;34m)\u001b[0m\u001b[0;34m\u001b[0m\u001b[0m\n",
      "\u001b[0;31mValueError\u001b[0m: operands could not be broadcast together with shapes (1,32561) (12,) "
     ]
    }
   ],
   "source": [
    "# Fun starts now \n",
    "# Start with Bayes Classifier \n",
    "\n",
    "\n",
    "from sklearn import datasets\n",
    "iris = datasets.load_iris()\n",
    "from sklearn.naive_bayes import GaussianNB\n",
    "gnb = GaussianNB()\n",
    "gnb.fit(incomecoded_x,income_y)\n",
    "gnb.predict(income_y)\n",
    "#y_pred = gnb.fit(incomecoded_x, income_y).predict(income_y)\n",
    "#print y_pred\n",
    "#print(\"Number of mislabeled points out of a total %d points : %d\"     % (incomecoded_x.shape[0],(income_y != y_pred).sum()))\n",
    " \n"
   ]
  },
  {
   "cell_type": "code",
   "execution_count": null,
   "metadata": {
    "collapsed": true
   },
   "outputs": [],
   "source": []
  }
 ],
 "metadata": {
  "anaconda-cloud": {},
  "kernelspec": {
   "display_name": "Python [conda root]",
   "language": "python",
   "name": "conda-root-py"
  },
  "language_info": {
   "codemirror_mode": {
    "name": "ipython",
    "version": 2
   },
   "file_extension": ".py",
   "mimetype": "text/x-python",
   "name": "python",
   "nbconvert_exporter": "python",
   "pygments_lexer": "ipython2",
   "version": "2.7.12"
  }
 },
 "nbformat": 4,
 "nbformat_minor": 1
}
