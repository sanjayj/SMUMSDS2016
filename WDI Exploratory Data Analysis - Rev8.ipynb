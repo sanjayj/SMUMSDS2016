{
 "cells": [
  {
   "cell_type": "markdown",
   "metadata": {},
   "source": [
    "# Understanding the Data\n",
    "\n",
    "# World Development Indicators Exploratory Data Analysis (EDA)\n",
    "\n",
    "The World Development Indicator (WDI) data set has yet to be explored.  It is full of promise and curiosity to understand how the world data indicators are related in any way form or fashion.  From a data scientist point of view,  there is only one way to understand the data set.  This is, the data set is a gift that will remain a mystery until we unwrap it and do a thorough exploratory data analysis.\n",
    "\n",
    "\n",
    "The WDI data set does **NOT** have the luxury of putting all of the data into one csv data file.   The WDI data set is composed of the following separate data sets:\n",
    "\n",
    "\n",
    "* Country.csv\n",
    "* CountryNotes.csv\n",
    "* database.sqlite\n",
    "* Footnotes.csv\n",
    "* Indicators.csv\n",
    "* Series.csv\n",
    "* SeriesNotes.csv\n",
    "\n",
    "Our goal is to create a global data frame which ties all of above data sets into one using Python's pandas libraries or SFrames.   This will later enable our team to easily explore and visualize the data set using simple Python programming techniques. \n",
    "\n",
    "Data is expensive and none of the initial data collected will be discarded.  Our team took the approach to analyze each data set and understand how the above data set's are related.  \n",
    "\n",
    "The World Bank has set two ambitious goals to push extreme poverty to no more 3 percent by 2030, and to promote shared prosperity and greater equity in the developing world.  The World Bank's mission is to fight poverty in developing countries. This second goal reflects the fact that all countries aspire to a better living standard for all of their citizens, not only for the already-privileged (Reference http://www.worldbank.org)\n"
   ]
  },
  {
   "cell_type": "code",
   "execution_count": 1,
   "metadata": {
    "collapsed": false
   },
   "outputs": [],
   "source": [
    "# This code imports the packages we will be using, and sets parameters for the matplotlib.pylab package.\n",
    "\n",
    "import sqlite3\n",
    "import pandas as pd\n",
    "import numpy as np\n",
    "import matplotlib.pyplot as plt\n",
    "import seaborn as sns\n",
    "import statistics as statistics\n",
    "import matplotlib.pylab as pylab\n",
    "params = {'legend.fontsize': 'x-large',\n",
    "          'figure.figsize': (15, 5),\n",
    "         'axes.labelsize': 'x-large',\n",
    "         'axes.titlesize':'x-large',\n",
    "         'xtick.labelsize':'x-large',\n",
    "         'ytick.labelsize':'x-large'}\n",
    "pylab.rcParams.update(params)\n",
    "%matplotlib inline"
   ]
  },
  {
   "cell_type": "code",
   "execution_count": 2,
   "metadata": {
    "collapsed": true
   },
   "outputs": [],
   "source": [
    "# Path to where all of the data set files resides \n",
    "path = 'data'"
   ]
  },
  {
   "cell_type": "markdown",
   "metadata": {},
   "source": [
    "# Describe the purpose of the data set you selected:  \n",
    "The World Development Indicators, or WDI dataset is collected by the World Bank, an organization who lists its two goals as ending extreme poverty and boosting shared prosperity.  This data was collected to help promote those two goals by recording and analyzing a large number of indicators that can help identify which countries are in the greatest need, and how that need has changed over time.  For our purposes, we will be exploring this dataset to identify differences between three of the largest and most powerful nations in the world, the US, China, and Russia.  \n",
    "  \n",
    "We will measure and define the outcomes from this dataset as values recorded or predicted for a particular country that correspond to key indicators of its economic, health, and social wellbeing.  This data is important, particularly in the way we are analyzing it, because it can reveal key relationships and differences between these three powerful countries and help predict how those relationships may shift over time.  We will know we have mined useful information from the dataset when we are able to clearly define the current state, trend, and relationship for each country's general health in our key areas of interest.  We will also know we have mined useful information when we can make accurate classifications or predictions that can determine what other groups of countries are most similar or dissimilar to one or more of the US, China, or Russia.  \n",
    "  \n",
    "We will measure the effectiveness of a good prediction algorithm on this data by how high the correlation coeffecient R is for any linear regression prediction.  We will measure the effectiveness of a good clustering classification algorithm on this data by the euclidean distance between any given point in a cluster to that cluster's centroid compared to its distance to other cluster's centroids.  The closer the point is to the classified cluster's centroid and the farther away it is from other cluster centroids the better we will judge that classification to be."
   ]
  },
  {
   "cell_type": "markdown",
   "metadata": {
    "collapsed": true
   },
   "source": [
    "# Data Understanding - Describe the meaning and type of data for each attribute in the data file\n",
    "\n",
    "This data is spread across multiple discrete datasets.  The one dataset that is most useful for analysis is the Indicators.csv dataset as it includes values for all of the attributes, or indicators, that the WDI gathers.  All other datasets include metadata and descriptive Nominal attributes.  One such example of this is the Country.csv dataset.  This dataset includes 31 attributes.  These features include 6 that uniquely identify each country, while the rest of the features describe various financial, agricultural, health, and government metadata for each country in the dataset.  A brief description of these attributes are included below:  \n",
    "\n",
    "## Country.csv Dataset\n",
    "### ATTRIBUTE NAME - TYPE - MEANING\n",
    "CountryCode - Nominal - A unique three letter code representing each country.  \n",
    "ShortName - Nominal - A brief version of the country name.  \n",
    "TableName - Nominal - Each countries name in a format appropriate for displaying in tables.  \n",
    "LongName - Nominal - The full version of the name for each country.  \n",
    "Alpha2Code - Nominal - A unique two letter code representing each country.  \n",
    "CurrencyUnit - Nominal - The full name of the unit of currency used in each country.  \n",
    "SpecialNotes - Nominal - Any miscellaneous notes that the researchers wanted to add to the country record, such as unusual fiscal year schedules that could impact one or more other attributes.  \n",
    "Region - Nominal - The major geographical region that each country belongs to.  \n",
    "IncomeGroup - Ordinal - A description of the income group for each country relative to others in the dataset.  \n",
    "Wb2Code - Nominal - Another unique two letter code representing each country, similar to the Alpha2Code feature.  \n",
    "NationalAccountsBaseYear - Integer - The base year used for calculating an index for the country's financial health.  \n",
    "NationalAccountsReferenceYear - Integer - A reference year used for calculating an index for the country's financial health if for some reason they do not have or do not use a base year.  \n",
    "SnaPriceValuation - Binary - A descriptive indicator of whether the country accounts for its financials by calculating Value Added at Basic Prices (VAB) or Value Added at Producer Prices (VAP).  \n",
    "LendingCategory - Nominal - The category that each country has been classified as for the purposes of lending from the world bank.  These classifications are typically IDA, IBRD, or \"Blend\" for those countries both poor enough to borrow from the IDA but also creditworthy enough to borrow from the IBRD.  \n",
    "OtherGroups - Nominal - A miscellaneous listing of any other major groups of nations that the country may fall under, such as \"HIPC\" for the Heavily Indebted Poor Countries.  \n",
    "SystemOfNationalAccounts - Nominal - The system used by the country to manage national accounts.  \n",
    "AlternativeConversionFactor - Integer - A conversion rate used by the World Bank when actual conversion rates are deemed inaccurate or inadequate for the needs of the data.   \n",
    "PppSurveyYear - Integer - The most recent year in which Purchasing Power Parity, or PPP, was surveyed within the country.   \n",
    "BalanceOfPaymentsManualInUse - Nominal - A brief description of the manual used by each country to manage its balance of payments.   \n",
    "ExternalDebtReportingStatus - Nominal - How the country reports external debt, such as \"actual\" if they report the actual value of the external debt.    \n",
    "SystemOfTrade - Binary - An indicator of whether each country uses a general system of trade or a special system of trade.  \n",
    "GovernmentAccountingConcept - Nominal - A description of how each country handles their national finances, such as centralized budget versus non-centralized, etc.  \n",
    "ImfDataDisseminationStandard - Nominal - Which global data dissemination standard the country adheres to, if any.  \n",
    "LatestPopulationCensus - Integer - The year in which the most recent census of each country's population was administered.  \n",
    "LatestHouseholdSurvey - Integer/Nominal - The year in which the most recent household survey was administered to the populace of each country, as well as a description of the type of survey performed.  \n",
    "SourceOfMostRecentIncomeAndExpenditureData - Nominal/Integer - What survey produced the most recent income and expenditure data for each country, as well as the year in which that survey was administered.  \n",
    "VitalRegistrationComplete - Binary - A Yes/No record of whether each country completed vital registration.  \n",
    "LatestAgriculturalCensus - Integer - The year in which the most recent agricultural census was administered for each country.  \n",
    "LatestIndustrialData - Integer - The year in which the most recent industrial data was gathered for each country.  \n",
    "LatestTradeData - Integer - The year in which the latest trade data was gathered for each country.  \n",
    "LatestWaterWithdrawalData - Integer - The year in which the latest water withdrawal data was gathered for each country.  \n",
    "  \n",
    "  \n",
    "While this is helpful, the majority of our analysis will be performed on the Indicators.csv file, which includes the values of interest that are predominantly continuous or integer values.  One point of interest in this dataset is that each indicator is not given its own column in the data, rather there is one \"IndicatorName\" column that identifies the Indicator and the actual value for that Indicator, or Attribute, is given in a Value column.  This presented an interesting twist on the standard dataset layout which is accounted for in our code through the rest of this project.  I will detail the name, type, and meaning for the 6 Attributes or columns that are included in the indicators.csv dataset as it is currently constructed:  \n",
    "  \n",
    "## Indicators.csv Dataset  \n",
    "### ATTRIBUTE NAME - TYPE - MEANING  \n",
    "CountryName - Nominal - The full name for each country in the dataset.  \n",
    "CountryCode - Nominal - A three letter code that uniquely identifies each country in the dataset.  \n",
    "IndicatorName - Nominal - Includes the name and a brief description of the Indicator that this row's value relates to.\n",
    "IndicatorCode - Nominal - A three letter coded that unique identifies each Indicator in the dataset.\n",
    "Year - Integer - The year for which the Value was collected for the given Indicator.\n",
    "Value - Varies, but usually Coninuous - The Value colleected in the given Year for the given Indicator.  \n",
    "  \n",
    "While there are far too many indicators to be able to exhaustively list them here, the five indicators that are of particular interest that we will be exploring are as follows:\n",
    "  \n",
    "1. Adolescent Birth Rate - Continuous -  This is the number of births per thousand population where the mother is between age 15 and 19.  \n",
    "2. GDP - Continuous -  This is the total Gross Domestic Product given in current US Dollars.  \n",
    "3. GDP Per Capita - Continuous - This is the total GDP divided by the population of the country.  \n",
    "4. The number of women that participate in government - Proportion - This is the percentage of total parliamentary or legislative seats held by women.  \n",
    "5. The Labor Force Participation Rate - Proportion - This is a measurement of what percent of the population that are of the age to participate in the labor force actually do.  \n",
    "  \n"
   ]
  },
  {
   "cell_type": "markdown",
   "metadata": {},
   "source": [
    "# Brief Descriptions of each CSV file  \n",
    "Below we will list brief snippits of code that load in and briefly check the data from each individual CSV file in the dataset.  As mentioned earlier we will primarily be focused just on Indicators.csv, but we will load in and check each to ensure that no potentially useful data is overlooked."
   ]
  },
  {
   "cell_type": "markdown",
   "metadata": {},
   "source": [
    "## 1/7 Country.csv"
   ]
  },
  {
   "cell_type": "code",
   "execution_count": 3,
   "metadata": {
    "collapsed": false
   },
   "outputs": [
    {
     "name": "stdout",
     "output_type": "stream",
     "text": [
      "<class 'pandas.core.frame.DataFrame'>\n",
      "RangeIndex: 247 entries, 0 to 246\n",
      "Data columns (total 31 columns):\n",
      "CountryCode                                   247 non-null object\n",
      "ShortName                                     247 non-null object\n",
      "TableName                                     247 non-null object\n",
      "LongName                                      247 non-null object\n",
      "Alpha2Code                                    244 non-null object\n",
      "CurrencyUnit                                  214 non-null object\n",
      "SpecialNotes                                  164 non-null object\n",
      "Region                                        214 non-null object\n",
      "IncomeGroup                                   214 non-null object\n",
      "Wb2Code                                       246 non-null object\n",
      "NationalAccountsBaseYear                      205 non-null object\n",
      "NationalAccountsReferenceYear                 54 non-null object\n",
      "SnaPriceValuation                             198 non-null object\n",
      "LendingCategory                               144 non-null object\n",
      "OtherGroups                                   59 non-null object\n",
      "SystemOfNationalAccounts                      214 non-null object\n",
      "AlternativeConversionFactor                   47 non-null object\n",
      "PppSurveyYear                                 191 non-null object\n",
      "BalanceOfPaymentsManualInUse                  181 non-null object\n",
      "ExternalDebtReportingStatus                   124 non-null object\n",
      "SystemOfTrade                                 200 non-null object\n",
      "GovernmentAccountingConcept                   161 non-null object\n",
      "ImfDataDisseminationStandard                  183 non-null object\n",
      "LatestPopulationCensus                        213 non-null object\n",
      "LatestHouseholdSurvey                         147 non-null object\n",
      "SourceOfMostRecentIncomeAndExpenditureData    158 non-null object\n",
      "VitalRegistrationComplete                     112 non-null object\n",
      "LatestAgriculturalCensus                      142 non-null object\n",
      "LatestIndustrialData                          113 non-null float64\n",
      "LatestTradeData                               186 non-null float64\n",
      "LatestWaterWithdrawalData                     180 non-null float64\n",
      "dtypes: float64(3), object(28)\n",
      "memory usage: 59.9+ KB\n"
     ]
    }
   ],
   "source": [
    "# now let's read in the same data using pandas to save it as a dataframe\n",
    "filename = path + '\\Country.csv'\n",
    "\n",
    "df_country = pd.read_csv(filename) # read in the csv file\n",
    "df_country.info()"
   ]
  },
  {
   "cell_type": "code",
   "execution_count": 4,
   "metadata": {
    "collapsed": false
   },
   "outputs": [
    {
     "name": "stderr",
     "output_type": "stream",
     "text": [
      "C:\\Users\\ledbeg1\\AppData\\Local\\Continuum\\Anaconda3\\lib\\site-packages\\numpy\\lib\\function_base.py:3834: RuntimeWarning: Invalid value encountered in percentile\n",
      "  RuntimeWarning)\n"
     ]
    },
    {
     "data": {
      "text/html": [
       "<div>\n",
       "<table border=\"1\" class=\"dataframe\">\n",
       "  <thead>\n",
       "    <tr style=\"text-align: right;\">\n",
       "      <th></th>\n",
       "      <th>LatestIndustrialData</th>\n",
       "      <th>LatestTradeData</th>\n",
       "      <th>LatestWaterWithdrawalData</th>\n",
       "    </tr>\n",
       "  </thead>\n",
       "  <tbody>\n",
       "    <tr>\n",
       "      <th>count</th>\n",
       "      <td>113.000000</td>\n",
       "      <td>186.000000</td>\n",
       "      <td>180.000000</td>\n",
       "    </tr>\n",
       "    <tr>\n",
       "      <th>mean</th>\n",
       "      <td>2009.079646</td>\n",
       "      <td>2011.854839</td>\n",
       "      <td>2003.983333</td>\n",
       "    </tr>\n",
       "    <tr>\n",
       "      <th>std</th>\n",
       "      <td>2.560488</td>\n",
       "      <td>2.779345</td>\n",
       "      <td>4.938137</td>\n",
       "    </tr>\n",
       "    <tr>\n",
       "      <th>min</th>\n",
       "      <td>2001.000000</td>\n",
       "      <td>1995.000000</td>\n",
       "      <td>1975.000000</td>\n",
       "    </tr>\n",
       "    <tr>\n",
       "      <th>25%</th>\n",
       "      <td>NaN</td>\n",
       "      <td>NaN</td>\n",
       "      <td>NaN</td>\n",
       "    </tr>\n",
       "    <tr>\n",
       "      <th>50%</th>\n",
       "      <td>NaN</td>\n",
       "      <td>NaN</td>\n",
       "      <td>NaN</td>\n",
       "    </tr>\n",
       "    <tr>\n",
       "      <th>75%</th>\n",
       "      <td>NaN</td>\n",
       "      <td>NaN</td>\n",
       "      <td>NaN</td>\n",
       "    </tr>\n",
       "    <tr>\n",
       "      <th>max</th>\n",
       "      <td>2011.000000</td>\n",
       "      <td>2013.000000</td>\n",
       "      <td>2013.000000</td>\n",
       "    </tr>\n",
       "  </tbody>\n",
       "</table>\n",
       "</div>"
      ],
      "text/plain": [
       "       LatestIndustrialData  LatestTradeData  LatestWaterWithdrawalData\n",
       "count            113.000000       186.000000                 180.000000\n",
       "mean            2009.079646      2011.854839                2003.983333\n",
       "std                2.560488         2.779345                   4.938137\n",
       "min             2001.000000      1995.000000                1975.000000\n",
       "25%                     NaN              NaN                        NaN\n",
       "50%                     NaN              NaN                        NaN\n",
       "75%                     NaN              NaN                        NaN\n",
       "max             2011.000000      2013.000000                2013.000000"
      ]
     },
     "execution_count": 4,
     "metadata": {},
     "output_type": "execute_result"
    }
   ],
   "source": [
    "df_country.describe()"
   ]
  },
  {
   "cell_type": "code",
   "execution_count": 5,
   "metadata": {
    "collapsed": false
   },
   "outputs": [
    {
     "data": {
      "text/html": [
       "<div>\n",
       "<table border=\"1\" class=\"dataframe\">\n",
       "  <thead>\n",
       "    <tr style=\"text-align: right;\">\n",
       "      <th></th>\n",
       "      <th>CountryCode</th>\n",
       "      <th>ShortName</th>\n",
       "      <th>TableName</th>\n",
       "      <th>LongName</th>\n",
       "      <th>Alpha2Code</th>\n",
       "      <th>CurrencyUnit</th>\n",
       "      <th>SpecialNotes</th>\n",
       "      <th>Region</th>\n",
       "      <th>IncomeGroup</th>\n",
       "      <th>Wb2Code</th>\n",
       "      <th>NationalAccountsBaseYear</th>\n",
       "      <th>NationalAccountsReferenceYear</th>\n",
       "      <th>SnaPriceValuation</th>\n",
       "      <th>LendingCategory</th>\n",
       "      <th>OtherGroups</th>\n",
       "      <th>SystemOfNationalAccounts</th>\n",
       "      <th>AlternativeConversionFactor</th>\n",
       "      <th>PppSurveyYear</th>\n",
       "      <th>BalanceOfPaymentsManualInUse</th>\n",
       "      <th>ExternalDebtReportingStatus</th>\n",
       "      <th>SystemOfTrade</th>\n",
       "      <th>GovernmentAccountingConcept</th>\n",
       "      <th>ImfDataDisseminationStandard</th>\n",
       "      <th>LatestPopulationCensus</th>\n",
       "      <th>LatestHouseholdSurvey</th>\n",
       "      <th>SourceOfMostRecentIncomeAndExpenditureData</th>\n",
       "      <th>VitalRegistrationComplete</th>\n",
       "      <th>LatestAgriculturalCensus</th>\n",
       "      <th>LatestIndustrialData</th>\n",
       "      <th>LatestTradeData</th>\n",
       "      <th>LatestWaterWithdrawalData</th>\n",
       "    </tr>\n",
       "  </thead>\n",
       "  <tbody>\n",
       "    <tr>\n",
       "      <th>0</th>\n",
       "      <td>AFG</td>\n",
       "      <td>Afghanistan</td>\n",
       "      <td>Afghanistan</td>\n",
       "      <td>Islamic State of Afghanistan</td>\n",
       "      <td>AF</td>\n",
       "      <td>Afghan afghani</td>\n",
       "      <td>Fiscal year end: March 20; reporting period fo...</td>\n",
       "      <td>South Asia</td>\n",
       "      <td>Low income</td>\n",
       "      <td>AF</td>\n",
       "      <td>2002/03</td>\n",
       "      <td>NaN</td>\n",
       "      <td>Value added at basic prices (VAB)</td>\n",
       "      <td>IDA</td>\n",
       "      <td>HIPC</td>\n",
       "      <td>Country uses the 1993 System of National Accou...</td>\n",
       "      <td>NaN</td>\n",
       "      <td>NaN</td>\n",
       "      <td>NaN</td>\n",
       "      <td>Actual</td>\n",
       "      <td>General trade system</td>\n",
       "      <td>Consolidated central government</td>\n",
       "      <td>General Data Dissemination System (GDDS)</td>\n",
       "      <td>1979</td>\n",
       "      <td>Multiple Indicator Cluster Survey (MICS), 2010/11</td>\n",
       "      <td>Integrated household survey (IHS), 2008</td>\n",
       "      <td>NaN</td>\n",
       "      <td>2013/14</td>\n",
       "      <td>NaN</td>\n",
       "      <td>2013.0</td>\n",
       "      <td>2000.0</td>\n",
       "    </tr>\n",
       "    <tr>\n",
       "      <th>1</th>\n",
       "      <td>ALB</td>\n",
       "      <td>Albania</td>\n",
       "      <td>Albania</td>\n",
       "      <td>Republic of Albania</td>\n",
       "      <td>AL</td>\n",
       "      <td>Albanian lek</td>\n",
       "      <td>NaN</td>\n",
       "      <td>Europe &amp; Central Asia</td>\n",
       "      <td>Upper middle income</td>\n",
       "      <td>AL</td>\n",
       "      <td>Original chained constant price data are resca...</td>\n",
       "      <td>1996</td>\n",
       "      <td>Value added at basic prices (VAB)</td>\n",
       "      <td>IBRD</td>\n",
       "      <td>NaN</td>\n",
       "      <td>Country uses the 1993 System of National Accou...</td>\n",
       "      <td>NaN</td>\n",
       "      <td>Rolling</td>\n",
       "      <td>IMF Balance of Payments Manual, 6th edition.</td>\n",
       "      <td>Actual</td>\n",
       "      <td>General trade system</td>\n",
       "      <td>Budgetary central government</td>\n",
       "      <td>General Data Dissemination System (GDDS)</td>\n",
       "      <td>2011</td>\n",
       "      <td>Demographic and Health Survey (DHS), 2008/09</td>\n",
       "      <td>Living Standards Measurement Study Survey (LSM...</td>\n",
       "      <td>Yes</td>\n",
       "      <td>2012</td>\n",
       "      <td>2011.0</td>\n",
       "      <td>2013.0</td>\n",
       "      <td>2006.0</td>\n",
       "    </tr>\n",
       "    <tr>\n",
       "      <th>2</th>\n",
       "      <td>DZA</td>\n",
       "      <td>Algeria</td>\n",
       "      <td>Algeria</td>\n",
       "      <td>People's Democratic Republic of Algeria</td>\n",
       "      <td>DZ</td>\n",
       "      <td>Algerian dinar</td>\n",
       "      <td>NaN</td>\n",
       "      <td>Middle East &amp; North Africa</td>\n",
       "      <td>Upper middle income</td>\n",
       "      <td>DZ</td>\n",
       "      <td>1980</td>\n",
       "      <td>NaN</td>\n",
       "      <td>Value added at basic prices (VAB)</td>\n",
       "      <td>IBRD</td>\n",
       "      <td>NaN</td>\n",
       "      <td>Country uses the 1968 System of National Accou...</td>\n",
       "      <td>NaN</td>\n",
       "      <td>2011</td>\n",
       "      <td>IMF Balance of Payments Manual, 6th edition.</td>\n",
       "      <td>Actual</td>\n",
       "      <td>Special trade system</td>\n",
       "      <td>Budgetary central government</td>\n",
       "      <td>General Data Dissemination System (GDDS)</td>\n",
       "      <td>2008</td>\n",
       "      <td>Multiple Indicator Cluster Survey (MICS), 2012</td>\n",
       "      <td>Integrated household survey (IHS), 1995</td>\n",
       "      <td>NaN</td>\n",
       "      <td>NaN</td>\n",
       "      <td>2010.0</td>\n",
       "      <td>2013.0</td>\n",
       "      <td>2001.0</td>\n",
       "    </tr>\n",
       "    <tr>\n",
       "      <th>3</th>\n",
       "      <td>ASM</td>\n",
       "      <td>American Samoa</td>\n",
       "      <td>American Samoa</td>\n",
       "      <td>American Samoa</td>\n",
       "      <td>AS</td>\n",
       "      <td>U.S. dollar</td>\n",
       "      <td>NaN</td>\n",
       "      <td>East Asia &amp; Pacific</td>\n",
       "      <td>Upper middle income</td>\n",
       "      <td>AS</td>\n",
       "      <td>NaN</td>\n",
       "      <td>NaN</td>\n",
       "      <td>NaN</td>\n",
       "      <td>NaN</td>\n",
       "      <td>NaN</td>\n",
       "      <td>Country uses the 1968 System of National Accou...</td>\n",
       "      <td>NaN</td>\n",
       "      <td>2011 (household consumption only).</td>\n",
       "      <td>NaN</td>\n",
       "      <td>NaN</td>\n",
       "      <td>Special trade system</td>\n",
       "      <td>NaN</td>\n",
       "      <td>NaN</td>\n",
       "      <td>2010</td>\n",
       "      <td>NaN</td>\n",
       "      <td>NaN</td>\n",
       "      <td>Yes</td>\n",
       "      <td>2007</td>\n",
       "      <td>NaN</td>\n",
       "      <td>NaN</td>\n",
       "      <td>NaN</td>\n",
       "    </tr>\n",
       "    <tr>\n",
       "      <th>4</th>\n",
       "      <td>ADO</td>\n",
       "      <td>Andorra</td>\n",
       "      <td>Andorra</td>\n",
       "      <td>Principality of Andorra</td>\n",
       "      <td>AD</td>\n",
       "      <td>Euro</td>\n",
       "      <td>NaN</td>\n",
       "      <td>Europe &amp; Central Asia</td>\n",
       "      <td>High income: nonOECD</td>\n",
       "      <td>AD</td>\n",
       "      <td>2000</td>\n",
       "      <td>NaN</td>\n",
       "      <td>Value added at basic prices (VAB)</td>\n",
       "      <td>NaN</td>\n",
       "      <td>NaN</td>\n",
       "      <td>Country uses the 1968 System of National Accou...</td>\n",
       "      <td>NaN</td>\n",
       "      <td>NaN</td>\n",
       "      <td>NaN</td>\n",
       "      <td>NaN</td>\n",
       "      <td>Special trade system</td>\n",
       "      <td>NaN</td>\n",
       "      <td>NaN</td>\n",
       "      <td>2011. Population data compiled from administra...</td>\n",
       "      <td>NaN</td>\n",
       "      <td>NaN</td>\n",
       "      <td>Yes</td>\n",
       "      <td>NaN</td>\n",
       "      <td>NaN</td>\n",
       "      <td>2006.0</td>\n",
       "      <td>NaN</td>\n",
       "    </tr>\n",
       "    <tr>\n",
       "      <th>5</th>\n",
       "      <td>AGO</td>\n",
       "      <td>Angola</td>\n",
       "      <td>Angola</td>\n",
       "      <td>People's Republic of Angola</td>\n",
       "      <td>AO</td>\n",
       "      <td>Angolan kwanza</td>\n",
       "      <td>April 2013 database update: Based on IMF data,...</td>\n",
       "      <td>Sub-Saharan Africa</td>\n",
       "      <td>Upper middle income</td>\n",
       "      <td>AO</td>\n",
       "      <td>2002</td>\n",
       "      <td>NaN</td>\n",
       "      <td>Value added at producer prices (VAP)</td>\n",
       "      <td>IBRD</td>\n",
       "      <td>NaN</td>\n",
       "      <td>Country uses the 1993 System of National Accou...</td>\n",
       "      <td>199196</td>\n",
       "      <td>2011</td>\n",
       "      <td>IMF Balance of Payments Manual, 6th edition.</td>\n",
       "      <td>Actual</td>\n",
       "      <td>Special trade system</td>\n",
       "      <td>Budgetary central government</td>\n",
       "      <td>General Data Dissemination System (GDDS)</td>\n",
       "      <td>2014</td>\n",
       "      <td>Malaria Indicator Survey (MIS), 2011</td>\n",
       "      <td>Integrated household survey (IHS), 2008/09</td>\n",
       "      <td>NaN</td>\n",
       "      <td>2015</td>\n",
       "      <td>NaN</td>\n",
       "      <td>NaN</td>\n",
       "      <td>2005.0</td>\n",
       "    </tr>\n",
       "  </tbody>\n",
       "</table>\n",
       "</div>"
      ],
      "text/plain": [
       "  CountryCode       ShortName       TableName  \\\n",
       "0         AFG     Afghanistan     Afghanistan   \n",
       "1         ALB         Albania         Albania   \n",
       "2         DZA         Algeria         Algeria   \n",
       "3         ASM  American Samoa  American Samoa   \n",
       "4         ADO         Andorra         Andorra   \n",
       "5         AGO          Angola          Angola   \n",
       "\n",
       "                                  LongName Alpha2Code    CurrencyUnit  \\\n",
       "0             Islamic State of Afghanistan         AF  Afghan afghani   \n",
       "1                      Republic of Albania         AL    Albanian lek   \n",
       "2  People's Democratic Republic of Algeria         DZ  Algerian dinar   \n",
       "3                           American Samoa         AS     U.S. dollar   \n",
       "4                  Principality of Andorra         AD            Euro   \n",
       "5              People's Republic of Angola         AO  Angolan kwanza   \n",
       "\n",
       "                                        SpecialNotes  \\\n",
       "0  Fiscal year end: March 20; reporting period fo...   \n",
       "1                                                NaN   \n",
       "2                                                NaN   \n",
       "3                                                NaN   \n",
       "4                                                NaN   \n",
       "5  April 2013 database update: Based on IMF data,...   \n",
       "\n",
       "                       Region           IncomeGroup Wb2Code  \\\n",
       "0                  South Asia            Low income      AF   \n",
       "1       Europe & Central Asia   Upper middle income      AL   \n",
       "2  Middle East & North Africa   Upper middle income      DZ   \n",
       "3         East Asia & Pacific   Upper middle income      AS   \n",
       "4       Europe & Central Asia  High income: nonOECD      AD   \n",
       "5          Sub-Saharan Africa   Upper middle income      AO   \n",
       "\n",
       "                            NationalAccountsBaseYear  \\\n",
       "0                                            2002/03   \n",
       "1  Original chained constant price data are resca...   \n",
       "2                                               1980   \n",
       "3                                                NaN   \n",
       "4                                               2000   \n",
       "5                                               2002   \n",
       "\n",
       "  NationalAccountsReferenceYear                     SnaPriceValuation  \\\n",
       "0                           NaN     Value added at basic prices (VAB)   \n",
       "1                          1996     Value added at basic prices (VAB)   \n",
       "2                           NaN     Value added at basic prices (VAB)   \n",
       "3                           NaN                                   NaN   \n",
       "4                           NaN     Value added at basic prices (VAB)   \n",
       "5                           NaN  Value added at producer prices (VAP)   \n",
       "\n",
       "  LendingCategory OtherGroups  \\\n",
       "0             IDA        HIPC   \n",
       "1            IBRD         NaN   \n",
       "2            IBRD         NaN   \n",
       "3             NaN         NaN   \n",
       "4             NaN         NaN   \n",
       "5            IBRD         NaN   \n",
       "\n",
       "                            SystemOfNationalAccounts  \\\n",
       "0  Country uses the 1993 System of National Accou...   \n",
       "1  Country uses the 1993 System of National Accou...   \n",
       "2  Country uses the 1968 System of National Accou...   \n",
       "3  Country uses the 1968 System of National Accou...   \n",
       "4  Country uses the 1968 System of National Accou...   \n",
       "5  Country uses the 1993 System of National Accou...   \n",
       "\n",
       "  AlternativeConversionFactor                       PppSurveyYear  \\\n",
       "0                         NaN                                 NaN   \n",
       "1                         NaN                             Rolling   \n",
       "2                         NaN                                2011   \n",
       "3                         NaN  2011 (household consumption only).   \n",
       "4                         NaN                                 NaN   \n",
       "5                     199196                                2011   \n",
       "\n",
       "                   BalanceOfPaymentsManualInUse ExternalDebtReportingStatus  \\\n",
       "0                                           NaN                      Actual   \n",
       "1  IMF Balance of Payments Manual, 6th edition.                      Actual   \n",
       "2  IMF Balance of Payments Manual, 6th edition.                      Actual   \n",
       "3                                           NaN                         NaN   \n",
       "4                                           NaN                         NaN   \n",
       "5  IMF Balance of Payments Manual, 6th edition.                      Actual   \n",
       "\n",
       "          SystemOfTrade      GovernmentAccountingConcept  \\\n",
       "0  General trade system  Consolidated central government   \n",
       "1  General trade system     Budgetary central government   \n",
       "2  Special trade system     Budgetary central government   \n",
       "3  Special trade system                              NaN   \n",
       "4  Special trade system                              NaN   \n",
       "5  Special trade system     Budgetary central government   \n",
       "\n",
       "               ImfDataDisseminationStandard  \\\n",
       "0  General Data Dissemination System (GDDS)   \n",
       "1  General Data Dissemination System (GDDS)   \n",
       "2  General Data Dissemination System (GDDS)   \n",
       "3                                       NaN   \n",
       "4                                       NaN   \n",
       "5  General Data Dissemination System (GDDS)   \n",
       "\n",
       "                              LatestPopulationCensus  \\\n",
       "0                                               1979   \n",
       "1                                               2011   \n",
       "2                                               2008   \n",
       "3                                               2010   \n",
       "4  2011. Population data compiled from administra...   \n",
       "5                                               2014   \n",
       "\n",
       "                               LatestHouseholdSurvey  \\\n",
       "0  Multiple Indicator Cluster Survey (MICS), 2010/11   \n",
       "1       Demographic and Health Survey (DHS), 2008/09   \n",
       "2     Multiple Indicator Cluster Survey (MICS), 2012   \n",
       "3                                                NaN   \n",
       "4                                                NaN   \n",
       "5               Malaria Indicator Survey (MIS), 2011   \n",
       "\n",
       "          SourceOfMostRecentIncomeAndExpenditureData  \\\n",
       "0            Integrated household survey (IHS), 2008   \n",
       "1  Living Standards Measurement Study Survey (LSM...   \n",
       "2            Integrated household survey (IHS), 1995   \n",
       "3                                                NaN   \n",
       "4                                                NaN   \n",
       "5         Integrated household survey (IHS), 2008/09   \n",
       "\n",
       "  VitalRegistrationComplete LatestAgriculturalCensus  LatestIndustrialData  \\\n",
       "0                       NaN                  2013/14                   NaN   \n",
       "1                       Yes                     2012                2011.0   \n",
       "2                       NaN                      NaN                2010.0   \n",
       "3                       Yes                     2007                   NaN   \n",
       "4                       Yes                      NaN                   NaN   \n",
       "5                       NaN                     2015                   NaN   \n",
       "\n",
       "   LatestTradeData  LatestWaterWithdrawalData  \n",
       "0           2013.0                     2000.0  \n",
       "1           2013.0                     2006.0  \n",
       "2           2013.0                     2001.0  \n",
       "3              NaN                        NaN  \n",
       "4           2006.0                        NaN  \n",
       "5              NaN                     2005.0  "
      ]
     },
     "execution_count": 5,
     "metadata": {},
     "output_type": "execute_result"
    }
   ],
   "source": [
    "pd.options.display.max_columns = None\n",
    "df_country.head(6)"
   ]
  },
  {
   "cell_type": "markdown",
   "metadata": {},
   "source": [
    "# Set attribute data types : Country.csv\n",
    "\n",
    "After reviewing all of the feature definitions listed in the csv file and WorldBank.org documentation"
   ]
  },
  {
   "cell_type": "code",
   "execution_count": 6,
   "metadata": {
    "collapsed": false
   },
   "outputs": [],
   "source": [
    "#1\n",
    "df_country[\"CountryCode\"] = df_country[\"CountryCode\"].astype('category') # CountryCode\n",
    "df_country[\"ShortName\"]   = df_country[\"ShortName\"].astype('category') # ShortName\n",
    "df_country[\"TableName\"]   = df_country[\"TableName\"].astype('category') # TableName\n",
    "\n",
    "#2\n",
    "df_country[\"LongName\"]     = df_country[\"LongName\"].astype('category') # LongName\n",
    "df_country[\"Alpha2Code\"]   = df_country[\"Alpha2Code\"].astype('category') # Alpha2Code\n",
    "df_country[\"CurrencyUnit\"]  = df_country[\"CurrencyUnit\"].astype('category') # CurrencyUnit\n",
    "\n",
    "#3\n",
    "df_country[\"SpecialNotes\"]  = df_country[\"SpecialNotes\"].astype('str') # SpecialNotes\n",
    "df_country[\"Region\"]        = df_country[\"Region\"].astype('category') # Region\n",
    "df_country[\"IncomeGroup\"]  = df_country[\"IncomeGroup\"].astype('category') # IncomeGroup\n",
    "\n",
    "#4\n",
    "df_country[\"Wb2Code\"]      = df_country[\"Wb2Code\"].astype('category') # Wb2Code\n",
    "df_country[\"NationalAccountsBaseYear\"] = df_country[\"NationalAccountsBaseYear\"].astype('str') # NationalAccountsBaseYear\n",
    "df_country[\"NationalAccountsReferenceYear\"]  = df_country[\"NationalAccountsReferenceYear\"].astype('str') # NationalAccountsReferenceYear\n",
    "\n",
    "#5\n",
    "df_country[\"SnaPriceValuation\"]              = df_country[\"SnaPriceValuation\"].astype('str') # SnaPriceValuation\n",
    "df_country[\"LendingCategory\"] = df_country[\"LendingCategory\"].astype('category') # LendingCategory\n",
    "df_country[\"OtherGroups\"]  = df_country[\"OtherGroups\"].astype('category') # OtherGroups\n",
    "\n",
    "#6\n",
    "df_country[\"SystemOfNationalAccounts\"] = df_country[\"SystemOfNationalAccounts\"].astype('str') # SystemOfNationalAccounts\n",
    "df_country[\"AlternativeConversionFactor\"] = df_country[\"AlternativeConversionFactor\"].astype('str') # AlternativeConversionFactor\n",
    "df_country[\"PppSurveyYear\"]  = df_country[\"PppSurveyYear\"].astype('str') # PppSurveyYear\n",
    "\n",
    "#7\n",
    "df_country[\"BalanceOfPaymentsManualInUse\"] = df_country[\"BalanceOfPaymentsManualInUse\"].astype('category') # BalanceOfPaymentsManualInUse\n",
    "df_country[\"ExternalDebtReportingStatus\"] = df_country[\"ExternalDebtReportingStatus\"].astype('category') # ExternalDebtReportingStatus\n",
    "df_country[\"SystemOfTrade\"]  = df_country[\"SystemOfTrade\"].astype('category') # SystemOfTrade\n",
    "\n",
    "#8\n",
    "df_country[\"GovernmentAccountingConcept\"] = df_country[\"GovernmentAccountingConcept\"].astype('category') # GovernmentAccountingConcept\n",
    "df_country[\"ImfDataDisseminationStandard\"] = df_country[\"ImfDataDisseminationStandard\"].astype('category') # ImfDataDisseminationStandard\n",
    "df_country[\"LatestPopulationCensus\"]  = df_country[\"LatestPopulationCensus\"].astype('str') # LatestPopulationCensus\n",
    "\n",
    "#9\n",
    "df_country[\"LatestHouseholdSurvey\"] = df_country[\"LatestHouseholdSurvey\"].astype('category') # LatestHouseholdSurvey\n",
    "df_country[\"SourceOfMostRecentIncomeAndExpenditureData\"] = df_country[\"SourceOfMostRecentIncomeAndExpenditureData\"].astype('category') # SourceOfMostRecentIncomeAndExpenditureData\n",
    "df_country[\"VitalRegistrationComplete\"]  = df_country[\"VitalRegistrationComplete\"].astype('category') # VitalRegistrationComplete\n",
    "\n",
    "#10\n",
    "df_country[\"LatestAgriculturalCensus\"] = df_country[\"LatestAgriculturalCensus\"].astype('category') # LatestHouseholdSurvey\n",
    "df_country[\"LatestIndustrialData\"] = df_country[\"LatestIndustrialData\"].astype('str') # LatestIndustrialData\n",
    "df_country[\"LatestTradeData\"] = df_country[\"LatestTradeData\"].astype('str') # LatestTradeData\n",
    "\n",
    "df_country[\"LatestWaterWithdrawalData\"] = df_country[\"LatestWaterWithdrawalData\"].astype('str') # LatestWaterWithdrawalData"
   ]
  },
  {
   "cell_type": "code",
   "execution_count": 7,
   "metadata": {
    "collapsed": false
   },
   "outputs": [
    {
     "data": {
      "text/plain": [
       "CountryCode                                   category\n",
       "ShortName                                     category\n",
       "TableName                                     category\n",
       "LongName                                      category\n",
       "Alpha2Code                                    category\n",
       "CurrencyUnit                                  category\n",
       "SpecialNotes                                    object\n",
       "Region                                        category\n",
       "IncomeGroup                                   category\n",
       "Wb2Code                                       category\n",
       "NationalAccountsBaseYear                        object\n",
       "NationalAccountsReferenceYear                   object\n",
       "SnaPriceValuation                               object\n",
       "LendingCategory                               category\n",
       "OtherGroups                                   category\n",
       "SystemOfNationalAccounts                        object\n",
       "AlternativeConversionFactor                     object\n",
       "PppSurveyYear                                   object\n",
       "BalanceOfPaymentsManualInUse                  category\n",
       "ExternalDebtReportingStatus                   category\n",
       "SystemOfTrade                                 category\n",
       "GovernmentAccountingConcept                   category\n",
       "ImfDataDisseminationStandard                  category\n",
       "LatestPopulationCensus                          object\n",
       "LatestHouseholdSurvey                         category\n",
       "SourceOfMostRecentIncomeAndExpenditureData    category\n",
       "VitalRegistrationComplete                     category\n",
       "LatestAgriculturalCensus                      category\n",
       "LatestIndustrialData                            object\n",
       "LatestTradeData                                 object\n",
       "LatestWaterWithdrawalData                       object\n",
       "dtype: object"
      ]
     },
     "execution_count": 7,
     "metadata": {},
     "output_type": "execute_result"
    }
   ],
   "source": [
    "df_country.dtypes"
   ]
  },
  {
   "cell_type": "code",
   "execution_count": 8,
   "metadata": {
    "collapsed": false
   },
   "outputs": [
    {
     "name": "stdout",
     "output_type": "stream",
     "text": [
      "<class 'pandas.core.frame.DataFrame'>\n",
      "RangeIndex: 247 entries, 0 to 246\n",
      "Data columns (total 31 columns):\n",
      "CountryCode                                   247 non-null category\n",
      "ShortName                                     247 non-null category\n",
      "TableName                                     247 non-null category\n",
      "LongName                                      247 non-null category\n",
      "Alpha2Code                                    244 non-null category\n",
      "CurrencyUnit                                  214 non-null category\n",
      "SpecialNotes                                  247 non-null object\n",
      "Region                                        214 non-null category\n",
      "IncomeGroup                                   214 non-null category\n",
      "Wb2Code                                       246 non-null category\n",
      "NationalAccountsBaseYear                      247 non-null object\n",
      "NationalAccountsReferenceYear                 247 non-null object\n",
      "SnaPriceValuation                             247 non-null object\n",
      "LendingCategory                               144 non-null category\n",
      "OtherGroups                                   59 non-null category\n",
      "SystemOfNationalAccounts                      247 non-null object\n",
      "AlternativeConversionFactor                   247 non-null object\n",
      "PppSurveyYear                                 247 non-null object\n",
      "BalanceOfPaymentsManualInUse                  181 non-null category\n",
      "ExternalDebtReportingStatus                   124 non-null category\n",
      "SystemOfTrade                                 200 non-null category\n",
      "GovernmentAccountingConcept                   161 non-null category\n",
      "ImfDataDisseminationStandard                  183 non-null category\n",
      "LatestPopulationCensus                        247 non-null object\n",
      "LatestHouseholdSurvey                         147 non-null category\n",
      "SourceOfMostRecentIncomeAndExpenditureData    158 non-null category\n",
      "VitalRegistrationComplete                     112 non-null category\n",
      "LatestAgriculturalCensus                      142 non-null category\n",
      "LatestIndustrialData                          247 non-null object\n",
      "LatestTradeData                               247 non-null object\n",
      "LatestWaterWithdrawalData                     247 non-null object\n",
      "dtypes: category(20), object(11)\n",
      "memory usage: 42.0+ KB\n"
     ]
    }
   ],
   "source": [
    "df_country.info()"
   ]
  },
  {
   "cell_type": "markdown",
   "metadata": {},
   "source": [
    "# CountryNotes.csv"
   ]
  },
  {
   "cell_type": "markdown",
   "metadata": {
    "collapsed": true
   },
   "source": [
    "### ATTRIBUTE NAME - TYPE - MEANING\n",
    "\n",
    "**CountryCode:**   - Nominal - A unique three letter code representing each country.\n",
    "\n",
    "**SeriesCode:**   - Nominal - A three letter coded that unique identifies each Series in the dataset. The purpose is to provide an inventory of data available in the World Development Indicators (WDI) and International Debt Statistics (IDS) databases and to suggest a general coding convention for time series data.\n",
    "    \n",
    "    Example:  SM.POP.NETM, SP.DYN.AMRT.FE, EG.EGY.PRIM.PP.KD\n",
    "    \n",
    "    Topic (2 digits)\n",
    "    General Subject (3 digits)\n",
    "    Specific Subject (4 digits)\n",
    "    Extensions (2 digits each)\n",
    "    \n",
    "    For example: DT.DIS.PRVT.CD would read \"External debt disbursements by private creditors in current US dollars\" \n",
    "    \n",
    "The Topic code identifies a broad grouping based on functional similarities. All national accounts items begin with N; balance of payments with B; external debt indicators with D, social indicators with S, etc. Two-digit topic codes permit a finer breakdown of data at the highest level. For example, NE identifies national accounts expenditures, BN identifies balance of payments net items, and SH identifies social health indicators.\n",
    "\n",
    "The General Subject code specifies a broad subject area within a particular topic. Examples of general subjects are exports (EXP) in the national accounts or transfers (TRF) in the balance of payments.\n",
    "\n",
    "The Specific Subject code further identifies a particular indicator. For example, private nonguaranteed debt (DPNG) and official creditors (OFFT) are specific subjects under a particular general debt subject such as disbursements (DIS) or interest payments (INT).\n",
    "\n",
    "The extension fields (no more than three) are available for further clarification, as required. Examples are a breakdown of male (MA) and female (FE), current local currency (CN), constant local currency (KN), current US dollars (CD) and constant US dollars (KD), and data sources such as the World Trade Organization (WT) or the United Nations (UN). The extension ZS is frequently used to denote a variable calculated as a share of a total; and ZG denotes a growth rate. An extension such as GD (for GDP) or EX (for exports) may be used to designate the denominator of a derived series.\n",
    "\n",
    "Please note that creating CETS codes is not an exact science. Though the Data Group has the above guidelines, there have been individual interpretations through the years and at times series have been coded inconsistently or incorrectly. Social and environmental indicators in particular are not as easily coded as some of the more structured topics such as national accounts and external debt. Series names may have changed, and the code—which we have retained—may not match exactly with the new name. Also some components may not be unique. They may refer to different subjects depending on the main topic code. When creating new codes, we recommend using the current codes as a guide if they share a common component. It is also important to anticipate possible future codes for the same general subject so the proper structure is in place.\n",
    "\n",
    "\n",
    "**Description:** - Nominal - Detailed description notes that the researcher wants to add"
   ]
  },
  {
   "cell_type": "code",
   "execution_count": 9,
   "metadata": {
    "collapsed": false
   },
   "outputs": [
    {
     "name": "stdout",
     "output_type": "stream",
     "text": [
      "<class 'pandas.core.frame.DataFrame'>\n",
      "RangeIndex: 4857 entries, 0 to 4856\n",
      "Data columns (total 3 columns):\n",
      "Countrycode    4857 non-null object\n",
      "Seriescode     4857 non-null object\n",
      "Description    4857 non-null object\n",
      "dtypes: object(3)\n",
      "memory usage: 113.9+ KB\n"
     ]
    }
   ],
   "source": [
    "# now let's read in the same data using pandas to save it as a dataframe\n",
    "filename = path + '\\CountryNotes.csv'\n",
    "\n",
    "df_country_notes = pd.read_csv(filename) # read in the csv file\n",
    "df_country_notes.info()"
   ]
  },
  {
   "cell_type": "code",
   "execution_count": 10,
   "metadata": {
    "collapsed": false,
    "scrolled": true
   },
   "outputs": [
    {
     "data": {
      "text/html": [
       "<div>\n",
       "<table border=\"1\" class=\"dataframe\">\n",
       "  <thead>\n",
       "    <tr style=\"text-align: right;\">\n",
       "      <th></th>\n",
       "      <th>Countrycode</th>\n",
       "      <th>Seriescode</th>\n",
       "      <th>Description</th>\n",
       "    </tr>\n",
       "  </thead>\n",
       "  <tbody>\n",
       "    <tr>\n",
       "      <th>count</th>\n",
       "      <td>4857</td>\n",
       "      <td>4857</td>\n",
       "      <td>4857</td>\n",
       "    </tr>\n",
       "    <tr>\n",
       "      <th>unique</th>\n",
       "      <td>215</td>\n",
       "      <td>259</td>\n",
       "      <td>433</td>\n",
       "    </tr>\n",
       "    <tr>\n",
       "      <th>top</th>\n",
       "      <td>ARG</td>\n",
       "      <td>SP.POP.GROW</td>\n",
       "      <td>Data sources : United Nations World Population...</td>\n",
       "    </tr>\n",
       "    <tr>\n",
       "      <th>freq</th>\n",
       "      <td>111</td>\n",
       "      <td>214</td>\n",
       "      <td>998</td>\n",
       "    </tr>\n",
       "  </tbody>\n",
       "</table>\n",
       "</div>"
      ],
      "text/plain": [
       "       Countrycode   Seriescode  \\\n",
       "count         4857         4857   \n",
       "unique         215          259   \n",
       "top            ARG  SP.POP.GROW   \n",
       "freq           111          214   \n",
       "\n",
       "                                              Description  \n",
       "count                                                4857  \n",
       "unique                                                433  \n",
       "top     Data sources : United Nations World Population...  \n",
       "freq                                                  998  "
      ]
     },
     "execution_count": 10,
     "metadata": {},
     "output_type": "execute_result"
    }
   ],
   "source": [
    "df_country_notes.describe()"
   ]
  },
  {
   "cell_type": "code",
   "execution_count": 11,
   "metadata": {
    "collapsed": false,
    "scrolled": true
   },
   "outputs": [
    {
     "data": {
      "text/html": [
       "<div>\n",
       "<table border=\"1\" class=\"dataframe\">\n",
       "  <thead>\n",
       "    <tr style=\"text-align: right;\">\n",
       "      <th></th>\n",
       "      <th>Countrycode</th>\n",
       "      <th>Seriescode</th>\n",
       "      <th>Description</th>\n",
       "    </tr>\n",
       "  </thead>\n",
       "  <tbody>\n",
       "    <tr>\n",
       "      <th>0</th>\n",
       "      <td>ABW</td>\n",
       "      <td>EG.EGY.PRIM.PP.KD</td>\n",
       "      <td>Sources: Estimated based on UN Energy Statisti...</td>\n",
       "    </tr>\n",
       "    <tr>\n",
       "      <th>1</th>\n",
       "      <td>ABW</td>\n",
       "      <td>EG.ELC.RNEW.ZS</td>\n",
       "      <td>Sources: UN Energy Statistics (2014)</td>\n",
       "    </tr>\n",
       "    <tr>\n",
       "      <th>2</th>\n",
       "      <td>ABW</td>\n",
       "      <td>EG.FEC.RNEW.ZS</td>\n",
       "      <td>Sources: UN Energy Statistics (2014)</td>\n",
       "    </tr>\n",
       "    <tr>\n",
       "      <th>3</th>\n",
       "      <td>ABW</td>\n",
       "      <td>SM.POP.NETM</td>\n",
       "      <td>Data sources : United Nations World Population...</td>\n",
       "    </tr>\n",
       "    <tr>\n",
       "      <th>4</th>\n",
       "      <td>ABW</td>\n",
       "      <td>SM.POP.TOTL</td>\n",
       "      <td>Estimates are derived from data on foreign-bor...</td>\n",
       "    </tr>\n",
       "  </tbody>\n",
       "</table>\n",
       "</div>"
      ],
      "text/plain": [
       "  Countrycode         Seriescode  \\\n",
       "0         ABW  EG.EGY.PRIM.PP.KD   \n",
       "1         ABW     EG.ELC.RNEW.ZS   \n",
       "2         ABW     EG.FEC.RNEW.ZS   \n",
       "3         ABW        SM.POP.NETM   \n",
       "4         ABW        SM.POP.TOTL   \n",
       "\n",
       "                                         Description  \n",
       "0  Sources: Estimated based on UN Energy Statisti...  \n",
       "1               Sources: UN Energy Statistics (2014)  \n",
       "2               Sources: UN Energy Statistics (2014)  \n",
       "3  Data sources : United Nations World Population...  \n",
       "4  Estimates are derived from data on foreign-bor...  "
      ]
     },
     "execution_count": 11,
     "metadata": {},
     "output_type": "execute_result"
    }
   ],
   "source": [
    "df_country_notes.head()"
   ]
  },
  {
   "cell_type": "markdown",
   "metadata": {},
   "source": [
    "# Set attribute data types : CountryNotes.csv\n",
    "\n",
    "After reviewing all of the feature definitions listed in the csv file and WorldBank.org documentation"
   ]
  },
  {
   "cell_type": "code",
   "execution_count": 12,
   "metadata": {
    "collapsed": true
   },
   "outputs": [],
   "source": [
    "df_country_notes[\"Countrycode\"] = df_country_notes[\"Countrycode\"].astype('category') # Countrycode\n",
    "df_country_notes[\"Seriescode\"]  = df_country_notes[\"Seriescode\"].astype('category') # Seriescode\n",
    "df_country_notes[\"Description\"] = df_country_notes[\"Description\"].astype('str') # Description"
   ]
  },
  {
   "cell_type": "code",
   "execution_count": 13,
   "metadata": {
    "collapsed": false
   },
   "outputs": [
    {
     "data": {
      "text/plain": [
       "Countrycode    category\n",
       "Seriescode     category\n",
       "Description      object\n",
       "dtype: object"
      ]
     },
     "execution_count": 13,
     "metadata": {},
     "output_type": "execute_result"
    }
   ],
   "source": [
    "df_country_notes.dtypes"
   ]
  },
  {
   "cell_type": "code",
   "execution_count": 14,
   "metadata": {
    "collapsed": false
   },
   "outputs": [
    {
     "name": "stdout",
     "output_type": "stream",
     "text": [
      "<class 'pandas.core.frame.DataFrame'>\n",
      "RangeIndex: 4857 entries, 0 to 4856\n",
      "Data columns (total 3 columns):\n",
      "Countrycode    4857 non-null category\n",
      "Seriescode     4857 non-null category\n",
      "Description    4857 non-null object\n",
      "dtypes: category(2), object(1)\n",
      "memory usage: 60.7+ KB\n"
     ]
    }
   ],
   "source": [
    "df_country_notes.info()"
   ]
  },
  {
   "cell_type": "markdown",
   "metadata": {},
   "source": [
    "## 3/7 database.sqlite"
   ]
  },
  {
   "cell_type": "markdown",
   "metadata": {
    "collapsed": true
   },
   "source": [
    "### ATTRIBUTE NAME - TYPE - MEANING\n",
    "\n",
    "**CountryName:**   - Nominal - The full name for each country in the dataset.\n",
    "\n",
    "**CountryCode:**    Nominal - A three letter code that uniquely identifies each country or region in the dataset. \n",
    "    \n",
    "**IndicatorName:**  - Nominal - Includes the name and a brief description of the Indicator that this row's value relates to.\n",
    "\n",
    "**IndicatorCode:**   - Nominal - A three letter coded that unique identifies each Indicator in the dataset. The purpose is to provide an inventory of data available in the World Development Indicators (WDI) and International Debt Statistics (IDS) databases and to suggest a general coding convention for time series data.\n",
    "\n",
    "    Example:  AG.LND.FRST.K2\n",
    "    \n",
    "    Topic (2 digits)\n",
    "    General Subject (3 digits)\n",
    "    Specific Subject (4 digits)\n",
    "    Extensions (2 digits each) \n",
    "\n",
    "**Year:** - Integer - The year for which the Value was collected for the given Indicator.\n",
    "\n",
    "**Description:** - Nominal - Detailed description notes that the researcher wants to add"
   ]
  },
  {
   "cell_type": "code",
   "execution_count": 15,
   "metadata": {
    "collapsed": false
   },
   "outputs": [
    {
     "name": "stdout",
     "output_type": "stream",
     "text": [
      "<class 'pandas.core.frame.DataFrame'>\n",
      "RangeIndex: 5656458 entries, 0 to 5656457\n",
      "Data columns (total 6 columns):\n",
      "CountryName      object\n",
      "CountryCode      object\n",
      "IndicatorName    object\n",
      "IndicatorCode    object\n",
      "Year             int64\n",
      "Value            float64\n",
      "dtypes: float64(1), int64(1), object(4)\n",
      "memory usage: 258.9+ MB\n"
     ]
    }
   ],
   "source": [
    "# now let's read in the same data using sql to save it as a dataframe\n",
    "database = path + '\\database.sqlite'\n",
    "con = sqlite3.connect(database) # again this file is in the same directory\n",
    "df_database_indicators = pd.read_sql('SELECT * FROM Indicators', con)  # the table name is Indicators\n",
    "df_database_indicators.info()"
   ]
  },
  {
   "cell_type": "code",
   "execution_count": 16,
   "metadata": {
    "collapsed": false
   },
   "outputs": [
    {
     "data": {
      "text/html": [
       "<div>\n",
       "<table border=\"1\" class=\"dataframe\">\n",
       "  <thead>\n",
       "    <tr style=\"text-align: right;\">\n",
       "      <th></th>\n",
       "      <th>Year</th>\n",
       "      <th>Value</th>\n",
       "    </tr>\n",
       "  </thead>\n",
       "  <tbody>\n",
       "    <tr>\n",
       "      <th>count</th>\n",
       "      <td>5.656458e+06</td>\n",
       "      <td>5.656458e+06</td>\n",
       "    </tr>\n",
       "    <tr>\n",
       "      <th>mean</th>\n",
       "      <td>1.994464e+03</td>\n",
       "      <td>1.070501e+12</td>\n",
       "    </tr>\n",
       "    <tr>\n",
       "      <th>std</th>\n",
       "      <td>1.387895e+01</td>\n",
       "      <td>4.842469e+13</td>\n",
       "    </tr>\n",
       "    <tr>\n",
       "      <th>min</th>\n",
       "      <td>1.960000e+03</td>\n",
       "      <td>-9.824821e+15</td>\n",
       "    </tr>\n",
       "    <tr>\n",
       "      <th>25%</th>\n",
       "      <td>1.984000e+03</td>\n",
       "      <td>5.566242e+00</td>\n",
       "    </tr>\n",
       "    <tr>\n",
       "      <th>50%</th>\n",
       "      <td>1.997000e+03</td>\n",
       "      <td>6.357450e+01</td>\n",
       "    </tr>\n",
       "    <tr>\n",
       "      <th>75%</th>\n",
       "      <td>2.006000e+03</td>\n",
       "      <td>1.346722e+07</td>\n",
       "    </tr>\n",
       "    <tr>\n",
       "      <th>max</th>\n",
       "      <td>2.015000e+03</td>\n",
       "      <td>1.103367e+16</td>\n",
       "    </tr>\n",
       "  </tbody>\n",
       "</table>\n",
       "</div>"
      ],
      "text/plain": [
       "               Year         Value\n",
       "count  5.656458e+06  5.656458e+06\n",
       "mean   1.994464e+03  1.070501e+12\n",
       "std    1.387895e+01  4.842469e+13\n",
       "min    1.960000e+03 -9.824821e+15\n",
       "25%    1.984000e+03  5.566242e+00\n",
       "50%    1.997000e+03  6.357450e+01\n",
       "75%    2.006000e+03  1.346722e+07\n",
       "max    2.015000e+03  1.103367e+16"
      ]
     },
     "execution_count": 16,
     "metadata": {},
     "output_type": "execute_result"
    }
   ],
   "source": [
    "df_database_indicators.describe()"
   ]
  },
  {
   "cell_type": "code",
   "execution_count": 17,
   "metadata": {
    "collapsed": false
   },
   "outputs": [
    {
     "data": {
      "text/html": [
       "<div>\n",
       "<table border=\"1\" class=\"dataframe\">\n",
       "  <thead>\n",
       "    <tr style=\"text-align: right;\">\n",
       "      <th></th>\n",
       "      <th>CountryName</th>\n",
       "      <th>CountryCode</th>\n",
       "      <th>IndicatorName</th>\n",
       "      <th>IndicatorCode</th>\n",
       "      <th>Year</th>\n",
       "      <th>Value</th>\n",
       "    </tr>\n",
       "  </thead>\n",
       "  <tbody>\n",
       "    <tr>\n",
       "      <th>0</th>\n",
       "      <td>Arab World</td>\n",
       "      <td>ARB</td>\n",
       "      <td>Adolescent fertility rate (births per 1,000 wo...</td>\n",
       "      <td>SP.ADO.TFRT</td>\n",
       "      <td>1960</td>\n",
       "      <td>1.335609e+02</td>\n",
       "    </tr>\n",
       "    <tr>\n",
       "      <th>1</th>\n",
       "      <td>Arab World</td>\n",
       "      <td>ARB</td>\n",
       "      <td>Age dependency ratio (% of working-age populat...</td>\n",
       "      <td>SP.POP.DPND</td>\n",
       "      <td>1960</td>\n",
       "      <td>8.779760e+01</td>\n",
       "    </tr>\n",
       "    <tr>\n",
       "      <th>2</th>\n",
       "      <td>Arab World</td>\n",
       "      <td>ARB</td>\n",
       "      <td>Age dependency ratio, old (% of working-age po...</td>\n",
       "      <td>SP.POP.DPND.OL</td>\n",
       "      <td>1960</td>\n",
       "      <td>6.634579e+00</td>\n",
       "    </tr>\n",
       "    <tr>\n",
       "      <th>3</th>\n",
       "      <td>Arab World</td>\n",
       "      <td>ARB</td>\n",
       "      <td>Age dependency ratio, young (% of working-age ...</td>\n",
       "      <td>SP.POP.DPND.YG</td>\n",
       "      <td>1960</td>\n",
       "      <td>8.102333e+01</td>\n",
       "    </tr>\n",
       "    <tr>\n",
       "      <th>4</th>\n",
       "      <td>Arab World</td>\n",
       "      <td>ARB</td>\n",
       "      <td>Arms exports (SIPRI trend indicator values)</td>\n",
       "      <td>MS.MIL.XPRT.KD</td>\n",
       "      <td>1960</td>\n",
       "      <td>3.000000e+06</td>\n",
       "    </tr>\n",
       "  </tbody>\n",
       "</table>\n",
       "</div>"
      ],
      "text/plain": [
       "  CountryName CountryCode                                      IndicatorName  \\\n",
       "0  Arab World         ARB  Adolescent fertility rate (births per 1,000 wo...   \n",
       "1  Arab World         ARB  Age dependency ratio (% of working-age populat...   \n",
       "2  Arab World         ARB  Age dependency ratio, old (% of working-age po...   \n",
       "3  Arab World         ARB  Age dependency ratio, young (% of working-age ...   \n",
       "4  Arab World         ARB        Arms exports (SIPRI trend indicator values)   \n",
       "\n",
       "    IndicatorCode  Year         Value  \n",
       "0     SP.ADO.TFRT  1960  1.335609e+02  \n",
       "1     SP.POP.DPND  1960  8.779760e+01  \n",
       "2  SP.POP.DPND.OL  1960  6.634579e+00  \n",
       "3  SP.POP.DPND.YG  1960  8.102333e+01  \n",
       "4  MS.MIL.XPRT.KD  1960  3.000000e+06  "
      ]
     },
     "execution_count": 17,
     "metadata": {},
     "output_type": "execute_result"
    }
   ],
   "source": [
    "df_database_indicators.head()"
   ]
  },
  {
   "cell_type": "markdown",
   "metadata": {},
   "source": [
    "## 4/7 Footnotes.csv"
   ]
  },
  {
   "cell_type": "markdown",
   "metadata": {
    "collapsed": true
   },
   "source": [
    "### ATTRIBUTE NAME - TYPE - MEANING\n",
    "\n",
    "**CountryName:**   - Nominal - The full name for each country in the dataset. Note sometimes the unique country names are mixed with regions or non-country names\n",
    "\n",
    "**SeriesCode:**   - Nominal - A three letter coded that unique identifies each Indicator in the dataset. The purpose is to provide an inventory of data available in the World Development Indicators (WDI) and International Debt Statistics (IDS) databases and to suggest a general coding convention for time series data.\n",
    "\n",
    "    Example:  AG.LND.FRST.K2\n",
    "    \n",
    "    Topic (2 digits)\n",
    "    General Subject (3 digits)\n",
    "    Specific Subject (4 digits)\n",
    "    Extensions (2 digits each)\n",
    "\n",
    "**Year:** - Integer - The year for which the Value was collected for the given Indicator.\n",
    "\n",
    "**Description:**  - Nominal - Detailed description notes that the researcher wants to add"
   ]
  },
  {
   "cell_type": "code",
   "execution_count": 18,
   "metadata": {
    "collapsed": false
   },
   "outputs": [
    {
     "name": "stdout",
     "output_type": "stream",
     "text": [
      "<class 'pandas.core.frame.DataFrame'>\n",
      "RangeIndex: 532415 entries, 0 to 532414\n",
      "Data columns (total 4 columns):\n",
      "Countrycode    532415 non-null object\n",
      "Seriescode     532415 non-null object\n",
      "Year           532415 non-null object\n",
      "Description    532415 non-null object\n",
      "dtypes: object(4)\n",
      "memory usage: 16.2+ MB\n"
     ]
    }
   ],
   "source": [
    "# now let's read in the same data using pandas to save it as a dataframe\n",
    "# Indicators.csv\n",
    "filename = path + '\\Footnotes.csv'\n",
    "df_footnotes = pd.read_csv(filename) # read in the csv file\n",
    "df_footnotes.info()"
   ]
  },
  {
   "cell_type": "code",
   "execution_count": 19,
   "metadata": {
    "collapsed": false
   },
   "outputs": [
    {
     "data": {
      "text/html": [
       "<div>\n",
       "<table border=\"1\" class=\"dataframe\">\n",
       "  <thead>\n",
       "    <tr style=\"text-align: right;\">\n",
       "      <th></th>\n",
       "      <th>Countrycode</th>\n",
       "      <th>Seriescode</th>\n",
       "      <th>Year</th>\n",
       "      <th>Description</th>\n",
       "    </tr>\n",
       "  </thead>\n",
       "  <tbody>\n",
       "    <tr>\n",
       "      <th>count</th>\n",
       "      <td>532415</td>\n",
       "      <td>532415</td>\n",
       "      <td>532415</td>\n",
       "      <td>532415</td>\n",
       "    </tr>\n",
       "    <tr>\n",
       "      <th>unique</th>\n",
       "      <td>278</td>\n",
       "      <td>653</td>\n",
       "      <td>77</td>\n",
       "      <td>85052</td>\n",
       "    </tr>\n",
       "    <tr>\n",
       "      <th>top</th>\n",
       "      <td>LIC</td>\n",
       "      <td>SP.DYN.IMRT.IN</td>\n",
       "      <td>YR2010</td>\n",
       "      <td>UNESCO Institute for Statistics (UIS) estimate</td>\n",
       "    </tr>\n",
       "    <tr>\n",
       "      <th>freq</th>\n",
       "      <td>4074</td>\n",
       "      <td>10170</td>\n",
       "      <td>24179</td>\n",
       "      <td>59009</td>\n",
       "    </tr>\n",
       "  </tbody>\n",
       "</table>\n",
       "</div>"
      ],
      "text/plain": [
       "       Countrycode      Seriescode    Year  \\\n",
       "count       532415          532415  532415   \n",
       "unique         278             653      77   \n",
       "top            LIC  SP.DYN.IMRT.IN  YR2010   \n",
       "freq          4074           10170   24179   \n",
       "\n",
       "                                           Description  \n",
       "count                                           532415  \n",
       "unique                                           85052  \n",
       "top     UNESCO Institute for Statistics (UIS) estimate  \n",
       "freq                                             59009  "
      ]
     },
     "execution_count": 19,
     "metadata": {},
     "output_type": "execute_result"
    }
   ],
   "source": [
    "df_footnotes.describe()"
   ]
  },
  {
   "cell_type": "markdown",
   "metadata": {},
   "source": [
    "# Set attribute data types : FootNotes.csv\n",
    "\n",
    "After reviewing all of the feature definitions listed in the csv file and WorldBank.org documentation"
   ]
  },
  {
   "cell_type": "code",
   "execution_count": 20,
   "metadata": {
    "collapsed": false
   },
   "outputs": [],
   "source": [
    "df_footnotes[\"Countrycode\"] = df_footnotes[\"Countrycode\"].astype('category') # Countrycode\n",
    "df_footnotes[\"Seriescode\"]  = df_footnotes[\"Seriescode\"].astype('category') # Seriescode\n",
    "df_footnotes[\"Year\"]  = df_footnotes[\"Year\"].astype('category') # Seriescode\n",
    "df_footnotes[\"Description\"] = df_footnotes[\"Description\"].astype('str') # Description"
   ]
  },
  {
   "cell_type": "code",
   "execution_count": 21,
   "metadata": {
    "collapsed": false
   },
   "outputs": [
    {
     "data": {
      "text/plain": [
       "Countrycode    category\n",
       "Seriescode     category\n",
       "Year           category\n",
       "Description      object\n",
       "dtype: object"
      ]
     },
     "execution_count": 21,
     "metadata": {},
     "output_type": "execute_result"
    }
   ],
   "source": [
    "df_footnotes.dtypes"
   ]
  },
  {
   "cell_type": "code",
   "execution_count": 22,
   "metadata": {
    "collapsed": false
   },
   "outputs": [
    {
     "name": "stdout",
     "output_type": "stream",
     "text": [
      "<class 'pandas.core.frame.DataFrame'>\n",
      "RangeIndex: 532415 entries, 0 to 532414\n",
      "Data columns (total 4 columns):\n",
      "Countrycode    532415 non-null category\n",
      "Seriescode     532415 non-null category\n",
      "Year           532415 non-null category\n",
      "Description    532415 non-null object\n",
      "dtypes: category(3), object(1)\n",
      "memory usage: 6.6+ MB\n"
     ]
    }
   ],
   "source": [
    "df_footnotes.info()"
   ]
  },
  {
   "cell_type": "markdown",
   "metadata": {},
   "source": [
    "## 5/7 Indicators.csv"
   ]
  },
  {
   "cell_type": "markdown",
   "metadata": {
    "collapsed": true
   },
   "source": [
    "### ATTRIBUTE NAME - TYPE - MEANING  \n",
    "**CountryName** - Nominal - The full name for each country in the dataset.  \n",
    "\n",
    "**CountryCode** - Nominal - A three letter code that uniquely identifies each country in the dataset.  \n",
    "\n",
    "**IndicatorName** - Nominal - Includes the name and a brief description of the Indicator that this row's value relates to.\n",
    "\n",
    "**IndicatorCode** - Nominal - A three letter coded that unique identifies each Indicator in the dataset. The purpose is to provide an inventory of data available in the World Development Indicators (WDI) and International Debt Statistics (IDS) databases and to suggest a general coding convention for time series data.\n",
    "\n",
    "Example:  AG.LND.FRST.K2\n",
    "\n",
    "Topic (2 digits)\n",
    "General Subject (3 digits)\n",
    "Specific Subject (4 digits)\n",
    "Extensions (2 digits each)\n",
    "\n",
    "**Year** - Integer - The year for which the Value was collected for the given Indicator.\n",
    "\n",
    "**Value** - Varies, but usually Coninuous - The Value collected in the given Year for the given Indicator"
   ]
  },
  {
   "cell_type": "code",
   "execution_count": 31,
   "metadata": {
    "collapsed": false
   },
   "outputs": [
    {
     "name": "stdout",
     "output_type": "stream",
     "text": [
      "<class 'pandas.core.frame.DataFrame'>\n",
      "RangeIndex: 5656458 entries, 0 to 5656457\n",
      "Data columns (total 6 columns):\n",
      "CountryName      object\n",
      "CountryCode      object\n",
      "IndicatorName    object\n",
      "IndicatorCode    object\n",
      "Year             int64\n",
      "Value            float64\n",
      "dtypes: float64(1), int64(1), object(4)\n",
      "memory usage: 258.9+ MB\n"
     ]
    }
   ],
   "source": [
    "# now let's read in the same data using pandas to save it as a dataframe\n",
    "# Indicators.csv\n",
    "filename = path + '\\Indicators.csv'\n",
    "df_indicators = pd.read_csv(filename) # read in the csv file\n",
    "df_indicators.info()"
   ]
  },
  {
   "cell_type": "code",
   "execution_count": 32,
   "metadata": {
    "collapsed": false
   },
   "outputs": [
    {
     "data": {
      "text/html": [
       "<div>\n",
       "<table border=\"1\" class=\"dataframe\">\n",
       "  <thead>\n",
       "    <tr style=\"text-align: right;\">\n",
       "      <th></th>\n",
       "      <th>Year</th>\n",
       "      <th>Value</th>\n",
       "    </tr>\n",
       "  </thead>\n",
       "  <tbody>\n",
       "    <tr>\n",
       "      <th>count</th>\n",
       "      <td>5.656458e+06</td>\n",
       "      <td>5.656458e+06</td>\n",
       "    </tr>\n",
       "    <tr>\n",
       "      <th>mean</th>\n",
       "      <td>1.994464e+03</td>\n",
       "      <td>1.070501e+12</td>\n",
       "    </tr>\n",
       "    <tr>\n",
       "      <th>std</th>\n",
       "      <td>1.387895e+01</td>\n",
       "      <td>4.842469e+13</td>\n",
       "    </tr>\n",
       "    <tr>\n",
       "      <th>min</th>\n",
       "      <td>1.960000e+03</td>\n",
       "      <td>-9.824821e+15</td>\n",
       "    </tr>\n",
       "    <tr>\n",
       "      <th>25%</th>\n",
       "      <td>1.984000e+03</td>\n",
       "      <td>5.566242e+00</td>\n",
       "    </tr>\n",
       "    <tr>\n",
       "      <th>50%</th>\n",
       "      <td>1.997000e+03</td>\n",
       "      <td>6.357450e+01</td>\n",
       "    </tr>\n",
       "    <tr>\n",
       "      <th>75%</th>\n",
       "      <td>2.006000e+03</td>\n",
       "      <td>1.346722e+07</td>\n",
       "    </tr>\n",
       "    <tr>\n",
       "      <th>max</th>\n",
       "      <td>2.015000e+03</td>\n",
       "      <td>1.103367e+16</td>\n",
       "    </tr>\n",
       "  </tbody>\n",
       "</table>\n",
       "</div>"
      ],
      "text/plain": [
       "               Year         Value\n",
       "count  5.656458e+06  5.656458e+06\n",
       "mean   1.994464e+03  1.070501e+12\n",
       "std    1.387895e+01  4.842469e+13\n",
       "min    1.960000e+03 -9.824821e+15\n",
       "25%    1.984000e+03  5.566242e+00\n",
       "50%    1.997000e+03  6.357450e+01\n",
       "75%    2.006000e+03  1.346722e+07\n",
       "max    2.015000e+03  1.103367e+16"
      ]
     },
     "execution_count": 32,
     "metadata": {},
     "output_type": "execute_result"
    }
   ],
   "source": [
    "df_indicators.describe()"
   ]
  },
  {
   "cell_type": "code",
   "execution_count": 33,
   "metadata": {
    "collapsed": false
   },
   "outputs": [
    {
     "data": {
      "text/html": [
       "<div>\n",
       "<table border=\"1\" class=\"dataframe\">\n",
       "  <thead>\n",
       "    <tr style=\"text-align: right;\">\n",
       "      <th></th>\n",
       "      <th>CountryName</th>\n",
       "      <th>CountryCode</th>\n",
       "      <th>IndicatorName</th>\n",
       "      <th>IndicatorCode</th>\n",
       "      <th>Year</th>\n",
       "      <th>Value</th>\n",
       "    </tr>\n",
       "  </thead>\n",
       "  <tbody>\n",
       "    <tr>\n",
       "      <th>0</th>\n",
       "      <td>Arab World</td>\n",
       "      <td>ARB</td>\n",
       "      <td>Adolescent fertility rate (births per 1,000 wo...</td>\n",
       "      <td>SP.ADO.TFRT</td>\n",
       "      <td>1960</td>\n",
       "      <td>1.335609e+02</td>\n",
       "    </tr>\n",
       "    <tr>\n",
       "      <th>1</th>\n",
       "      <td>Arab World</td>\n",
       "      <td>ARB</td>\n",
       "      <td>Age dependency ratio (% of working-age populat...</td>\n",
       "      <td>SP.POP.DPND</td>\n",
       "      <td>1960</td>\n",
       "      <td>8.779760e+01</td>\n",
       "    </tr>\n",
       "    <tr>\n",
       "      <th>2</th>\n",
       "      <td>Arab World</td>\n",
       "      <td>ARB</td>\n",
       "      <td>Age dependency ratio, old (% of working-age po...</td>\n",
       "      <td>SP.POP.DPND.OL</td>\n",
       "      <td>1960</td>\n",
       "      <td>6.634579e+00</td>\n",
       "    </tr>\n",
       "    <tr>\n",
       "      <th>3</th>\n",
       "      <td>Arab World</td>\n",
       "      <td>ARB</td>\n",
       "      <td>Age dependency ratio, young (% of working-age ...</td>\n",
       "      <td>SP.POP.DPND.YG</td>\n",
       "      <td>1960</td>\n",
       "      <td>8.102333e+01</td>\n",
       "    </tr>\n",
       "    <tr>\n",
       "      <th>4</th>\n",
       "      <td>Arab World</td>\n",
       "      <td>ARB</td>\n",
       "      <td>Arms exports (SIPRI trend indicator values)</td>\n",
       "      <td>MS.MIL.XPRT.KD</td>\n",
       "      <td>1960</td>\n",
       "      <td>3.000000e+06</td>\n",
       "    </tr>\n",
       "  </tbody>\n",
       "</table>\n",
       "</div>"
      ],
      "text/plain": [
       "  CountryName CountryCode                                      IndicatorName  \\\n",
       "0  Arab World         ARB  Adolescent fertility rate (births per 1,000 wo...   \n",
       "1  Arab World         ARB  Age dependency ratio (% of working-age populat...   \n",
       "2  Arab World         ARB  Age dependency ratio, old (% of working-age po...   \n",
       "3  Arab World         ARB  Age dependency ratio, young (% of working-age ...   \n",
       "4  Arab World         ARB        Arms exports (SIPRI trend indicator values)   \n",
       "\n",
       "    IndicatorCode  Year         Value  \n",
       "0     SP.ADO.TFRT  1960  1.335609e+02  \n",
       "1     SP.POP.DPND  1960  8.779760e+01  \n",
       "2  SP.POP.DPND.OL  1960  6.634579e+00  \n",
       "3  SP.POP.DPND.YG  1960  8.102333e+01  \n",
       "4  MS.MIL.XPRT.KD  1960  3.000000e+06  "
      ]
     },
     "execution_count": 33,
     "metadata": {},
     "output_type": "execute_result"
    }
   ],
   "source": [
    "df_indicators.head()"
   ]
  },
  {
   "cell_type": "code",
   "execution_count": 36,
   "metadata": {
    "collapsed": false
   },
   "outputs": [
    {
     "name": "stdout",
     "output_type": "stream",
     "text": [
      "<class 'pandas.core.frame.DataFrame'>\n",
      "RangeIndex: 5656458 entries, 0 to 5656457\n",
      "Data columns (total 6 columns):\n",
      "CountryName      object\n",
      "CountryCode      object\n",
      "IndicatorName    object\n",
      "IndicatorCode    object\n",
      "Year             int64\n",
      "Value            float64\n",
      "dtypes: float64(1), int64(1), object(4)\n",
      "memory usage: 258.9+ MB\n"
     ]
    }
   ],
   "source": [
    "# now let's read in the same data using pandas to save it as a dataframe\n",
    "# Indicators.csv\n",
    "filename = path + '\\Indicators.csv'\n",
    "\n",
    "df_indicators = pd.read_csv(filename) # read in the csv file\n",
    "df_indicators.head()\n",
    "df_indicators.info()"
   ]
  },
  {
   "cell_type": "markdown",
   "metadata": {},
   "source": [
    "# Set attribute data types : Indicators.csv\n",
    "\n",
    "After reviewing all of the feature definitions listed in the csv file and WorldBank.org documentation"
   ]
  },
  {
   "cell_type": "code",
   "execution_count": 41,
   "metadata": {
    "collapsed": false
   },
   "outputs": [],
   "source": [
    "df_indicators[\"CountryName\"] = df_indicators[\"CountryName\"].astype('category') # CountryName\n",
    "df_indicators[\"CountryCode\"] = df_indicators[\"CountryCode\"].astype('category') # Countrycode\n",
    "df_indicators[\"IndicatorName\"]  = df_indicators[\"IndicatorName\"].astype('category') # IndicatorName\n",
    "df_indicators[\"IndicatorCode\"]  = df_indicators[\"IndicatorCode\"].astype('category') # IndicatorCode\n",
    "df_indicators[\"Year\"]  = df_indicators[\"Year\"].astype('int') # Year\n",
    "df_indicators[\"Value\"] = df_indicators[\"Value\"].astype('float') # Value"
   ]
  },
  {
   "cell_type": "code",
   "execution_count": 42,
   "metadata": {
    "collapsed": false
   },
   "outputs": [
    {
     "data": {
      "text/plain": [
       "CountryName      category\n",
       "CountryCode      category\n",
       "IndicatorName    category\n",
       "IndicatorCode    category\n",
       "Year                int32\n",
       "Value             float64\n",
       "dtype: object"
      ]
     },
     "execution_count": 42,
     "metadata": {},
     "output_type": "execute_result"
    }
   ],
   "source": [
    "df_indicators.dtypes"
   ]
  },
  {
   "cell_type": "code",
   "execution_count": 43,
   "metadata": {
    "collapsed": false
   },
   "outputs": [
    {
     "name": "stdout",
     "output_type": "stream",
     "text": [
      "<class 'pandas.core.frame.DataFrame'>\n",
      "RangeIndex: 5656458 entries, 0 to 5656457\n",
      "Data columns (total 6 columns):\n",
      "CountryName      category\n",
      "CountryCode      category\n",
      "IndicatorName    category\n",
      "IndicatorCode    category\n",
      "Year             int32\n",
      "Value            float64\n",
      "dtypes: category(4), float64(1), int32(1)\n",
      "memory usage: 107.9 MB\n"
     ]
    }
   ],
   "source": [
    "df_indicators.info()"
   ]
  },
  {
   "cell_type": "markdown",
   "metadata": {},
   "source": [
    "## 6/7 Series.csv"
   ]
  },
  {
   "cell_type": "markdown",
   "metadata": {
    "collapsed": true
   },
   "source": [
    "### ATTRIBUTE NAME - TYPE - MEANING \n",
    "\n",
    "**SeriesCode:** - Nominal - A three letter coded that unique identifies each Indicator in the dataset. The purpose is to provide an inventory of data available in the World Development Indicators (WDI) and International Debt Statistics (IDS) databases and to suggest a general coding convention for time series data.\n",
    "\n",
    "    Example:  SM.POP.NETM, SP.DYN.AMRT.FE, EG.EGY.PRIM.PP.KD\n",
    "    \n",
    "    Topic (2 digits)\n",
    "    General Subject (3 digits)\n",
    "    Specific Subject (4 digits)\n",
    "    Extensions (2 digits each)\n",
    "    \n",
    "    For example: DT.DIS.PRVT.CD would read \"External debt disbursements by private creditors in current US dollars\" \n",
    "    \n",
    "\n",
    "**Topic**   - Nominal -  WDI is the primary World Bank collection of development indicators, compiled from officially-recognized international sources. It presents the current, global development data available, and includes national, regional and global estimates. GDF focuses on financial flows, trends in external debt, and other major financial indicators for developing countries. Includes over 200 time series indicators from 1970 to 2009, for most reporting countries.\n",
    "\n",
    "**IndicatorName**  - Nominal - Indicator Name. Unique indicator name describing what the funds are used for\n",
    "\n",
    "**ShortDefinition**  - Nominal -   Short Definition. Short definition or Executive statement. \n",
    "\n",
    "**LongDefinition**  - Nominal -   Long Definition.  Long Definition or detailed statement\n",
    "\n",
    "**UnitOfMeasure**   - Nominal -   Unit Of Measure\n",
    "\n",
    "**Periodicity**  - Nominal -  Reporting cycle.\n",
    "\n",
    "**BasePeriod**  - Nominal -  Base Period\n",
    "\n",
    "**OtherNotes**   - Nominal - Other Notes.  Other detailed notes.\n",
    "\n",
    "**AggregationMethod**  - Nominal -  Aggregation Method.  Aggregates are based on the World Bank’s regional and income classification of economies. Because of missing data, aggregates for groups of economies should be treated as approximations of unknown totals or average values. Regional and income group aggregates are based on the largest available set of data. The aggregation rules are intended to yield estimates for a consistent set of economies from one period to the next and for all indicators. Small differences between sums of subgroup aggregates and overall totals and averages may occur because of the approximations used. In addition, compilation errors and data reporting practices may cause discrepancies in theoretically identical aggregates such as world exports and world imports.\n",
    "\n",
    "Examples: Weighted Average, Sum, Gap-filled total\n",
    "\n",
    "**LimitationsAndExceptions**  - Nominal -  Limitations And Exceptions.  Details of limitations and exceptions.\n",
    "\n",
    "**NotesFromOriginalSource**   - Nominal - Notes From Original Source.\n",
    "\n",
    "**GeneralComments**  - Nominal -  General Comments.\n",
    "\n",
    "**Source**  - Nominal -  Source of the data.\n",
    "\n",
    "**StatisticalConceptAndMethodology**  - Nominal -  Statistical Concept And Methodology\n",
    "\n",
    "**DevelopmentRelevance**   - Nominal -  Development Revelance\n",
    "\n",
    "**RelatedSourceLinks**  - Nominal -  Related Source Links\n",
    "\n",
    "**OtherWebLinks**   - Nominal -  Other Web Links\n",
    "\n",
    "**RelatedIndicators**  - Nominal -  Related Indicators\n",
    "\n",
    "**LicenseType**  - Nominal -  License Type"
   ]
  },
  {
   "cell_type": "code",
   "execution_count": 44,
   "metadata": {
    "collapsed": false
   },
   "outputs": [
    {
     "name": "stdout",
     "output_type": "stream",
     "text": [
      "<class 'pandas.core.frame.DataFrame'>\n",
      "RangeIndex: 1345 entries, 0 to 1344\n",
      "Data columns (total 20 columns):\n",
      "SeriesCode                          1345 non-null object\n",
      "Topic                               1345 non-null object\n",
      "IndicatorName                       1345 non-null object\n",
      "ShortDefinition                     118 non-null object\n",
      "LongDefinition                      1345 non-null object\n",
      "UnitOfMeasure                       7 non-null object\n",
      "Periodicity                         1345 non-null object\n",
      "BasePeriod                          77 non-null object\n",
      "OtherNotes                          0 non-null float64\n",
      "AggregationMethod                   1058 non-null object\n",
      "LimitationsAndExceptions            711 non-null object\n",
      "NotesFromOriginalSource             38 non-null object\n",
      "GeneralComments                     281 non-null object\n",
      "Source                              1345 non-null object\n",
      "StatisticalConceptAndMethodology    773 non-null object\n",
      "DevelopmentRelevance                575 non-null object\n",
      "RelatedSourceLinks                  6 non-null object\n",
      "OtherWebLinks                       0 non-null float64\n",
      "RelatedIndicators                   0 non-null float64\n",
      "LicenseType                         1345 non-null object\n",
      "dtypes: float64(3), object(17)\n",
      "memory usage: 210.2+ KB\n"
     ]
    }
   ],
   "source": [
    "# now let's read in the same data using pandas to save it as a dataframe\n",
    "# Series.csv\n",
    "filename = path + '\\Series.csv'\n",
    "df_series = pd.read_csv(filename) # read in the csv file\n",
    "df_series.info()"
   ]
  },
  {
   "cell_type": "code",
   "execution_count": 45,
   "metadata": {
    "collapsed": false
   },
   "outputs": [
    {
     "name": "stderr",
     "output_type": "stream",
     "text": [
      "C:\\Users\\ledbeg1\\AppData\\Local\\Continuum\\Anaconda3\\lib\\site-packages\\numpy\\lib\\function_base.py:3834: RuntimeWarning: Invalid value encountered in percentile\n",
      "  RuntimeWarning)\n"
     ]
    },
    {
     "data": {
      "text/html": [
       "<div>\n",
       "<table border=\"1\" class=\"dataframe\">\n",
       "  <thead>\n",
       "    <tr style=\"text-align: right;\">\n",
       "      <th></th>\n",
       "      <th>OtherNotes</th>\n",
       "      <th>OtherWebLinks</th>\n",
       "      <th>RelatedIndicators</th>\n",
       "    </tr>\n",
       "  </thead>\n",
       "  <tbody>\n",
       "    <tr>\n",
       "      <th>count</th>\n",
       "      <td>0.0</td>\n",
       "      <td>0.0</td>\n",
       "      <td>0.0</td>\n",
       "    </tr>\n",
       "    <tr>\n",
       "      <th>mean</th>\n",
       "      <td>NaN</td>\n",
       "      <td>NaN</td>\n",
       "      <td>NaN</td>\n",
       "    </tr>\n",
       "    <tr>\n",
       "      <th>std</th>\n",
       "      <td>NaN</td>\n",
       "      <td>NaN</td>\n",
       "      <td>NaN</td>\n",
       "    </tr>\n",
       "    <tr>\n",
       "      <th>min</th>\n",
       "      <td>NaN</td>\n",
       "      <td>NaN</td>\n",
       "      <td>NaN</td>\n",
       "    </tr>\n",
       "    <tr>\n",
       "      <th>25%</th>\n",
       "      <td>NaN</td>\n",
       "      <td>NaN</td>\n",
       "      <td>NaN</td>\n",
       "    </tr>\n",
       "    <tr>\n",
       "      <th>50%</th>\n",
       "      <td>NaN</td>\n",
       "      <td>NaN</td>\n",
       "      <td>NaN</td>\n",
       "    </tr>\n",
       "    <tr>\n",
       "      <th>75%</th>\n",
       "      <td>NaN</td>\n",
       "      <td>NaN</td>\n",
       "      <td>NaN</td>\n",
       "    </tr>\n",
       "    <tr>\n",
       "      <th>max</th>\n",
       "      <td>NaN</td>\n",
       "      <td>NaN</td>\n",
       "      <td>NaN</td>\n",
       "    </tr>\n",
       "  </tbody>\n",
       "</table>\n",
       "</div>"
      ],
      "text/plain": [
       "       OtherNotes  OtherWebLinks  RelatedIndicators\n",
       "count         0.0            0.0                0.0\n",
       "mean          NaN            NaN                NaN\n",
       "std           NaN            NaN                NaN\n",
       "min           NaN            NaN                NaN\n",
       "25%           NaN            NaN                NaN\n",
       "50%           NaN            NaN                NaN\n",
       "75%           NaN            NaN                NaN\n",
       "max           NaN            NaN                NaN"
      ]
     },
     "execution_count": 45,
     "metadata": {},
     "output_type": "execute_result"
    }
   ],
   "source": [
    "df_series.describe()"
   ]
  },
  {
   "cell_type": "code",
   "execution_count": 46,
   "metadata": {
    "collapsed": false
   },
   "outputs": [
    {
     "data": {
      "text/html": [
       "<div>\n",
       "<table border=\"1\" class=\"dataframe\">\n",
       "  <thead>\n",
       "    <tr style=\"text-align: right;\">\n",
       "      <th></th>\n",
       "      <th>SeriesCode</th>\n",
       "      <th>Topic</th>\n",
       "      <th>IndicatorName</th>\n",
       "      <th>ShortDefinition</th>\n",
       "      <th>LongDefinition</th>\n",
       "      <th>UnitOfMeasure</th>\n",
       "      <th>Periodicity</th>\n",
       "      <th>BasePeriod</th>\n",
       "      <th>OtherNotes</th>\n",
       "      <th>AggregationMethod</th>\n",
       "      <th>LimitationsAndExceptions</th>\n",
       "      <th>NotesFromOriginalSource</th>\n",
       "      <th>GeneralComments</th>\n",
       "      <th>Source</th>\n",
       "      <th>StatisticalConceptAndMethodology</th>\n",
       "      <th>DevelopmentRelevance</th>\n",
       "      <th>RelatedSourceLinks</th>\n",
       "      <th>OtherWebLinks</th>\n",
       "      <th>RelatedIndicators</th>\n",
       "      <th>LicenseType</th>\n",
       "    </tr>\n",
       "  </thead>\n",
       "  <tbody>\n",
       "    <tr>\n",
       "      <th>0</th>\n",
       "      <td>BN.KLT.DINV.CD</td>\n",
       "      <td>Economic Policy &amp; Debt: Balance of payments: C...</td>\n",
       "      <td>Foreign direct investment, net (BoP, current US$)</td>\n",
       "      <td>NaN</td>\n",
       "      <td>Foreign direct investment are the net inflows ...</td>\n",
       "      <td>NaN</td>\n",
       "      <td>Annual</td>\n",
       "      <td>NaN</td>\n",
       "      <td>NaN</td>\n",
       "      <td>NaN</td>\n",
       "      <td>NaN</td>\n",
       "      <td>NaN</td>\n",
       "      <td>Note: Data are based on the sixth edition of t...</td>\n",
       "      <td>International Monetary Fund, Balance of Paymen...</td>\n",
       "      <td>NaN</td>\n",
       "      <td>NaN</td>\n",
       "      <td>NaN</td>\n",
       "      <td>NaN</td>\n",
       "      <td>NaN</td>\n",
       "      <td>Open</td>\n",
       "    </tr>\n",
       "    <tr>\n",
       "      <th>1</th>\n",
       "      <td>BX.KLT.DINV.WD.GD.ZS</td>\n",
       "      <td>Economic Policy &amp; Debt: Balance of payments: C...</td>\n",
       "      <td>Foreign direct investment, net inflows (% of GDP)</td>\n",
       "      <td>NaN</td>\n",
       "      <td>Foreign direct investment are the net inflows ...</td>\n",
       "      <td>NaN</td>\n",
       "      <td>Annual</td>\n",
       "      <td>NaN</td>\n",
       "      <td>NaN</td>\n",
       "      <td>Weighted average</td>\n",
       "      <td>FDI data do not give a complete picture of int...</td>\n",
       "      <td>NaN</td>\n",
       "      <td>Note: Data starting from 2005 are based on the...</td>\n",
       "      <td>International Monetary Fund, International Fin...</td>\n",
       "      <td>Data on equity flows are based on balance of p...</td>\n",
       "      <td>Private financial flows - equity and debt - ac...</td>\n",
       "      <td>NaN</td>\n",
       "      <td>NaN</td>\n",
       "      <td>NaN</td>\n",
       "      <td>Open</td>\n",
       "    </tr>\n",
       "    <tr>\n",
       "      <th>2</th>\n",
       "      <td>BX.KLT.DINV.CD.WD</td>\n",
       "      <td>Economic Policy &amp; Debt: Balance of payments: C...</td>\n",
       "      <td>Foreign direct investment, net inflows (BoP, c...</td>\n",
       "      <td>NaN</td>\n",
       "      <td>Foreign direct investment refers to direct inv...</td>\n",
       "      <td>NaN</td>\n",
       "      <td>Annual</td>\n",
       "      <td>NaN</td>\n",
       "      <td>NaN</td>\n",
       "      <td>Sum</td>\n",
       "      <td>FDI data do not give a complete picture of int...</td>\n",
       "      <td>NaN</td>\n",
       "      <td>Note: Data starting from 2005 are based on the...</td>\n",
       "      <td>International Monetary Fund, Balance of Paymen...</td>\n",
       "      <td>Data on equity flows are based on balance of p...</td>\n",
       "      <td>Private financial flows - equity and debt - ac...</td>\n",
       "      <td>NaN</td>\n",
       "      <td>NaN</td>\n",
       "      <td>NaN</td>\n",
       "      <td>Open</td>\n",
       "    </tr>\n",
       "    <tr>\n",
       "      <th>3</th>\n",
       "      <td>BM.KLT.DINV.GD.ZS</td>\n",
       "      <td>Economic Policy &amp; Debt: Balance of payments: C...</td>\n",
       "      <td>Foreign direct investment, net outflows (% of ...</td>\n",
       "      <td>NaN</td>\n",
       "      <td>Foreign direct investment are the net inflows ...</td>\n",
       "      <td>NaN</td>\n",
       "      <td>Annual</td>\n",
       "      <td>NaN</td>\n",
       "      <td>NaN</td>\n",
       "      <td>Weighted average</td>\n",
       "      <td>NaN</td>\n",
       "      <td>NaN</td>\n",
       "      <td>Note: Data are based on the sixth edition of t...</td>\n",
       "      <td>International Monetary Fund, International Fin...</td>\n",
       "      <td>NaN</td>\n",
       "      <td>NaN</td>\n",
       "      <td>NaN</td>\n",
       "      <td>NaN</td>\n",
       "      <td>NaN</td>\n",
       "      <td>Open</td>\n",
       "    </tr>\n",
       "    <tr>\n",
       "      <th>4</th>\n",
       "      <td>BN.TRF.KOGT.CD</td>\n",
       "      <td>Economic Policy &amp; Debt: Balance of payments: C...</td>\n",
       "      <td>Net capital account (BoP, current US$)</td>\n",
       "      <td>NaN</td>\n",
       "      <td>Net capital account records acquisitions and d...</td>\n",
       "      <td>NaN</td>\n",
       "      <td>Annual</td>\n",
       "      <td>NaN</td>\n",
       "      <td>NaN</td>\n",
       "      <td>NaN</td>\n",
       "      <td>NaN</td>\n",
       "      <td>NaN</td>\n",
       "      <td>Note: Data are based on the sixth edition of t...</td>\n",
       "      <td>International Monetary Fund, Balance of Paymen...</td>\n",
       "      <td>NaN</td>\n",
       "      <td>NaN</td>\n",
       "      <td>NaN</td>\n",
       "      <td>NaN</td>\n",
       "      <td>NaN</td>\n",
       "      <td>Open</td>\n",
       "    </tr>\n",
       "  </tbody>\n",
       "</table>\n",
       "</div>"
      ],
      "text/plain": [
       "             SeriesCode                                              Topic  \\\n",
       "0        BN.KLT.DINV.CD  Economic Policy & Debt: Balance of payments: C...   \n",
       "1  BX.KLT.DINV.WD.GD.ZS  Economic Policy & Debt: Balance of payments: C...   \n",
       "2     BX.KLT.DINV.CD.WD  Economic Policy & Debt: Balance of payments: C...   \n",
       "3     BM.KLT.DINV.GD.ZS  Economic Policy & Debt: Balance of payments: C...   \n",
       "4        BN.TRF.KOGT.CD  Economic Policy & Debt: Balance of payments: C...   \n",
       "\n",
       "                                       IndicatorName ShortDefinition  \\\n",
       "0  Foreign direct investment, net (BoP, current US$)             NaN   \n",
       "1  Foreign direct investment, net inflows (% of GDP)             NaN   \n",
       "2  Foreign direct investment, net inflows (BoP, c...             NaN   \n",
       "3  Foreign direct investment, net outflows (% of ...             NaN   \n",
       "4             Net capital account (BoP, current US$)             NaN   \n",
       "\n",
       "                                      LongDefinition UnitOfMeasure  \\\n",
       "0  Foreign direct investment are the net inflows ...           NaN   \n",
       "1  Foreign direct investment are the net inflows ...           NaN   \n",
       "2  Foreign direct investment refers to direct inv...           NaN   \n",
       "3  Foreign direct investment are the net inflows ...           NaN   \n",
       "4  Net capital account records acquisitions and d...           NaN   \n",
       "\n",
       "  Periodicity BasePeriod  OtherNotes AggregationMethod  \\\n",
       "0      Annual        NaN         NaN               NaN   \n",
       "1      Annual        NaN         NaN  Weighted average   \n",
       "2      Annual        NaN         NaN               Sum   \n",
       "3      Annual        NaN         NaN  Weighted average   \n",
       "4      Annual        NaN         NaN               NaN   \n",
       "\n",
       "                            LimitationsAndExceptions NotesFromOriginalSource  \\\n",
       "0                                                NaN                     NaN   \n",
       "1  FDI data do not give a complete picture of int...                     NaN   \n",
       "2  FDI data do not give a complete picture of int...                     NaN   \n",
       "3                                                NaN                     NaN   \n",
       "4                                                NaN                     NaN   \n",
       "\n",
       "                                     GeneralComments  \\\n",
       "0  Note: Data are based on the sixth edition of t...   \n",
       "1  Note: Data starting from 2005 are based on the...   \n",
       "2  Note: Data starting from 2005 are based on the...   \n",
       "3  Note: Data are based on the sixth edition of t...   \n",
       "4  Note: Data are based on the sixth edition of t...   \n",
       "\n",
       "                                              Source  \\\n",
       "0  International Monetary Fund, Balance of Paymen...   \n",
       "1  International Monetary Fund, International Fin...   \n",
       "2  International Monetary Fund, Balance of Paymen...   \n",
       "3  International Monetary Fund, International Fin...   \n",
       "4  International Monetary Fund, Balance of Paymen...   \n",
       "\n",
       "                    StatisticalConceptAndMethodology  \\\n",
       "0                                                NaN   \n",
       "1  Data on equity flows are based on balance of p...   \n",
       "2  Data on equity flows are based on balance of p...   \n",
       "3                                                NaN   \n",
       "4                                                NaN   \n",
       "\n",
       "                                DevelopmentRelevance RelatedSourceLinks  \\\n",
       "0                                                NaN                NaN   \n",
       "1  Private financial flows - equity and debt - ac...                NaN   \n",
       "2  Private financial flows - equity and debt - ac...                NaN   \n",
       "3                                                NaN                NaN   \n",
       "4                                                NaN                NaN   \n",
       "\n",
       "   OtherWebLinks  RelatedIndicators LicenseType  \n",
       "0            NaN                NaN        Open  \n",
       "1            NaN                NaN        Open  \n",
       "2            NaN                NaN        Open  \n",
       "3            NaN                NaN        Open  \n",
       "4            NaN                NaN        Open  "
      ]
     },
     "execution_count": 46,
     "metadata": {},
     "output_type": "execute_result"
    }
   ],
   "source": [
    "df_series.head()"
   ]
  },
  {
   "cell_type": "markdown",
   "metadata": {},
   "source": [
    "# Set attribute data types : Series.csv\n",
    "\n",
    "After reviewing all of the feature definitions listed in the csv file and WorldBank.org documentation"
   ]
  },
  {
   "cell_type": "code",
   "execution_count": 47,
   "metadata": {
    "collapsed": false
   },
   "outputs": [],
   "source": [
    "df_series[\"SeriesCode\"] = df_series[\"SeriesCode\"].astype('category') # SeriesCode\n",
    "df_series[\"Topic\"]  = df_series[\"Topic\"].astype('category') # Topic\n",
    "df_series[\"IndicatorName\"]  = df_series[\"IndicatorName\"].astype('category') # IndicatorName\n",
    "df_series[\"ShortDefinition\"]  = df_series[\"ShortDefinition\"].astype('str') # ShortDefinition\n",
    "df_series[\"LongDefinition\"]  = df_series[\"LongDefinition\"].astype('str') # LongDefinition\n",
    "\n",
    "df_series[\"UnitOfMeasure\"] = df_series[\"UnitOfMeasure\"].astype('str') # UnitOfMeasure\n",
    "df_series[\"Periodicity\"]  = df_series[\"Periodicity\"].astype('category') # Periodicity\n",
    "df_series[\"BasePeriod\"]  = df_series[\"BasePeriod\"].astype('category') # BasePeriod\n",
    "df_series[\"OtherNotes\"]  = df_series[\"OtherNotes\"].astype('str') # OtherNotes\n",
    "df_series[\"AggregationMethod\"]  = df_series[\"AggregationMethod\"].astype('category') # AggregationMethod\n",
    "\n",
    "df_series[\"LimitationsAndExceptions\"] = df_series[\"LimitationsAndExceptions\"].astype('str') # LimitationsAndExceptions\n",
    "df_series[\"NotesFromOriginalSource\"]  = df_series[\"NotesFromOriginalSource\"].astype('str') # NotesFromOriginalSource\n",
    "df_series[\"GeneralComments\"]  = df_series[\"GeneralComments\"].astype('str') # GeneralComments\n",
    "df_series[\"Source\"]  = df_series[\"Source\"].astype('category') # Source\n",
    "df_series[\"StatisticalConceptAndMethodology\"]  = df_series[\"StatisticalConceptAndMethodology\"].astype('str') # StatisticalConceptAndMethodology\n",
    "\n",
    "df_series[\"DevelopmentRelevance\"] = df_series[\"DevelopmentRelevance\"].astype('str') # DevelopmentRelevance\n",
    "df_series[\"RelatedSourceLinks\"]  = df_series[\"RelatedSourceLinks\"].astype('str') # RelatedSourceLinks\n",
    "df_series[\"OtherWebLinks\"]  = df_series[\"OtherWebLinks\"].astype('str') # OtherWebLinks\n",
    "df_series[\"RelatedIndicators\"]  = df_series[\"RelatedIndicators\"].astype('str') # RelatedIndicators\n",
    "df_series[\"LicenseType\"]  = df_series[\"LicenseType\"].astype('category') # LicenseType"
   ]
  },
  {
   "cell_type": "code",
   "execution_count": 48,
   "metadata": {
    "collapsed": false
   },
   "outputs": [
    {
     "data": {
      "text/plain": [
       "SeriesCode                          category\n",
       "Topic                               category\n",
       "IndicatorName                       category\n",
       "ShortDefinition                       object\n",
       "LongDefinition                        object\n",
       "UnitOfMeasure                         object\n",
       "Periodicity                         category\n",
       "BasePeriod                          category\n",
       "OtherNotes                            object\n",
       "AggregationMethod                   category\n",
       "LimitationsAndExceptions              object\n",
       "NotesFromOriginalSource               object\n",
       "GeneralComments                       object\n",
       "Source                              category\n",
       "StatisticalConceptAndMethodology      object\n",
       "DevelopmentRelevance                  object\n",
       "RelatedSourceLinks                    object\n",
       "OtherWebLinks                         object\n",
       "RelatedIndicators                     object\n",
       "LicenseType                         category\n",
       "dtype: object"
      ]
     },
     "execution_count": 48,
     "metadata": {},
     "output_type": "execute_result"
    }
   ],
   "source": [
    "df_series.dtypes"
   ]
  },
  {
   "cell_type": "code",
   "execution_count": 49,
   "metadata": {
    "collapsed": false
   },
   "outputs": [
    {
     "name": "stdout",
     "output_type": "stream",
     "text": [
      "<class 'pandas.core.frame.DataFrame'>\n",
      "RangeIndex: 1345 entries, 0 to 1344\n",
      "Data columns (total 20 columns):\n",
      "SeriesCode                          1345 non-null category\n",
      "Topic                               1345 non-null category\n",
      "IndicatorName                       1345 non-null category\n",
      "ShortDefinition                     1345 non-null object\n",
      "LongDefinition                      1345 non-null object\n",
      "UnitOfMeasure                       1345 non-null object\n",
      "Periodicity                         1345 non-null category\n",
      "BasePeriod                          77 non-null category\n",
      "OtherNotes                          1345 non-null object\n",
      "AggregationMethod                   1058 non-null category\n",
      "LimitationsAndExceptions            1345 non-null object\n",
      "NotesFromOriginalSource             1345 non-null object\n",
      "GeneralComments                     1345 non-null object\n",
      "Source                              1345 non-null category\n",
      "StatisticalConceptAndMethodology    1345 non-null object\n",
      "DevelopmentRelevance                1345 non-null object\n",
      "RelatedSourceLinks                  1345 non-null object\n",
      "OtherWebLinks                       1345 non-null object\n",
      "RelatedIndicators                   1345 non-null object\n",
      "LicenseType                         1345 non-null category\n",
      "dtypes: category(8), object(12)\n",
      "memory usage: 163.7+ KB\n"
     ]
    }
   ],
   "source": [
    "df_series.info()"
   ]
  },
  {
   "cell_type": "markdown",
   "metadata": {},
   "source": [
    "## 7/7 SeriesNotes.csv"
   ]
  },
  {
   "cell_type": "markdown",
   "metadata": {
    "collapsed": true
   },
   "source": [
    "### ATTRIBUTE NAME - TYPE - MEANING \n",
    "\n",
    "**SeriesCode:**  - Nominal - A three letter coded that unique identifies each Indicator in the dataset. The purpose is to provide an inventory of data available in the World Development Indicators (WDI) and International Debt Statistics (IDS) databases and to suggest a general coding convention for time series data.\n",
    "\n",
    "    Example:  SM.POP.NETM, SP.DYN.AMRT.FE, EG.EGY.PRIM.PP.KD\n",
    "    \n",
    "    Topic (2 digits)\n",
    "    General Subject (3 digits)\n",
    "    Specific Subject (4 digits)\n",
    "    Extensions (2 digits each)\n",
    "\n",
    "**Year:** - Integer - The year for which the Value was collected for the given Indicator.\n",
    "\n",
    "**Description:**   - Nominal - Detailed description notes that the researcher wants to add"
   ]
  },
  {
   "cell_type": "code",
   "execution_count": 50,
   "metadata": {
    "collapsed": false
   },
   "outputs": [
    {
     "name": "stdout",
     "output_type": "stream",
     "text": [
      "<class 'pandas.core.frame.DataFrame'>\n",
      "RangeIndex: 369 entries, 0 to 368\n",
      "Data columns (total 3 columns):\n",
      "Seriescode     369 non-null object\n",
      "Year           369 non-null object\n",
      "Description    369 non-null object\n",
      "dtypes: object(3)\n",
      "memory usage: 8.7+ KB\n"
     ]
    }
   ],
   "source": [
    "# now let's read in the same data using pandas to save it as a dataframe\n",
    "# SeriesNotes.csv\n",
    "filename = path + '\\SeriesNotes.csv'\n",
    "df_series_notes = pd.read_csv(filename) # read in the csv file\n",
    "df_series_notes.info()"
   ]
  },
  {
   "cell_type": "code",
   "execution_count": 51,
   "metadata": {
    "collapsed": false
   },
   "outputs": [
    {
     "data": {
      "text/html": [
       "<div>\n",
       "<table border=\"1\" class=\"dataframe\">\n",
       "  <thead>\n",
       "    <tr style=\"text-align: right;\">\n",
       "      <th></th>\n",
       "      <th>Seriescode</th>\n",
       "      <th>Year</th>\n",
       "      <th>Description</th>\n",
       "    </tr>\n",
       "  </thead>\n",
       "  <tbody>\n",
       "    <tr>\n",
       "      <th>0</th>\n",
       "      <td>SP.ADO.TFRT</td>\n",
       "      <td>YR1960</td>\n",
       "      <td>Interpolated using data for 1957 and 1962.</td>\n",
       "    </tr>\n",
       "    <tr>\n",
       "      <th>1</th>\n",
       "      <td>SP.DYN.AMRT.FE</td>\n",
       "      <td>YR1960</td>\n",
       "      <td>Interpolated using data for 1957 and 1962, if ...</td>\n",
       "    </tr>\n",
       "    <tr>\n",
       "      <th>2</th>\n",
       "      <td>SP.DYN.AMRT.MA</td>\n",
       "      <td>YR1960</td>\n",
       "      <td>Interpolated using data for 1957 and 1962, if ...</td>\n",
       "    </tr>\n",
       "    <tr>\n",
       "      <th>3</th>\n",
       "      <td>SP.DYN.TO65.FE.ZS</td>\n",
       "      <td>YR1960</td>\n",
       "      <td>Interpolated using data for 1957 and 1962.</td>\n",
       "    </tr>\n",
       "    <tr>\n",
       "      <th>4</th>\n",
       "      <td>SP.DYN.TO65.MA.ZS</td>\n",
       "      <td>YR1960</td>\n",
       "      <td>Interpolated using data for 1957 and 1962.</td>\n",
       "    </tr>\n",
       "  </tbody>\n",
       "</table>\n",
       "</div>"
      ],
      "text/plain": [
       "          Seriescode    Year  \\\n",
       "0        SP.ADO.TFRT  YR1960   \n",
       "1     SP.DYN.AMRT.FE  YR1960   \n",
       "2     SP.DYN.AMRT.MA  YR1960   \n",
       "3  SP.DYN.TO65.FE.ZS  YR1960   \n",
       "4  SP.DYN.TO65.MA.ZS  YR1960   \n",
       "\n",
       "                                         Description  \n",
       "0         Interpolated using data for 1957 and 1962.  \n",
       "1  Interpolated using data for 1957 and 1962, if ...  \n",
       "2  Interpolated using data for 1957 and 1962, if ...  \n",
       "3         Interpolated using data for 1957 and 1962.  \n",
       "4         Interpolated using data for 1957 and 1962.  "
      ]
     },
     "execution_count": 51,
     "metadata": {},
     "output_type": "execute_result"
    }
   ],
   "source": [
    "df_series_notes.head()"
   ]
  },
  {
   "cell_type": "code",
   "execution_count": 52,
   "metadata": {
    "collapsed": false
   },
   "outputs": [
    {
     "data": {
      "text/html": [
       "<div>\n",
       "<table border=\"1\" class=\"dataframe\">\n",
       "  <thead>\n",
       "    <tr style=\"text-align: right;\">\n",
       "      <th></th>\n",
       "      <th>Seriescode</th>\n",
       "      <th>Year</th>\n",
       "      <th>Description</th>\n",
       "    </tr>\n",
       "  </thead>\n",
       "  <tbody>\n",
       "    <tr>\n",
       "      <th>count</th>\n",
       "      <td>369</td>\n",
       "      <td>369</td>\n",
       "      <td>369</td>\n",
       "    </tr>\n",
       "    <tr>\n",
       "      <th>unique</th>\n",
       "      <td>25</td>\n",
       "      <td>55</td>\n",
       "      <td>68</td>\n",
       "    </tr>\n",
       "    <tr>\n",
       "      <th>top</th>\n",
       "      <td>SP.ADO.TFRT</td>\n",
       "      <td>YR2007</td>\n",
       "      <td>The sample was drawn from the manufacturing se...</td>\n",
       "    </tr>\n",
       "    <tr>\n",
       "      <th>freq</th>\n",
       "      <td>55</td>\n",
       "      <td>20</td>\n",
       "      <td>72</td>\n",
       "    </tr>\n",
       "  </tbody>\n",
       "</table>\n",
       "</div>"
      ],
      "text/plain": [
       "         Seriescode    Year                                        Description\n",
       "count           369     369                                                369\n",
       "unique           25      55                                                 68\n",
       "top     SP.ADO.TFRT  YR2007  The sample was drawn from the manufacturing se...\n",
       "freq             55      20                                                 72"
      ]
     },
     "execution_count": 52,
     "metadata": {},
     "output_type": "execute_result"
    }
   ],
   "source": [
    "df_series_notes.describe()"
   ]
  },
  {
   "cell_type": "code",
   "execution_count": 53,
   "metadata": {
    "collapsed": false
   },
   "outputs": [
    {
     "name": "stdout",
     "output_type": "stream",
     "text": [
      "<class 'pandas.core.frame.DataFrame'>\n",
      "RangeIndex: 369 entries, 0 to 368\n",
      "Data columns (total 3 columns):\n",
      "Seriescode     369 non-null object\n",
      "Year           369 non-null object\n",
      "Description    369 non-null object\n",
      "dtypes: object(3)\n",
      "memory usage: 8.7+ KB\n"
     ]
    }
   ],
   "source": [
    "df_series_notes.info()"
   ]
  },
  {
   "cell_type": "markdown",
   "metadata": {},
   "source": [
    "# Set attribute data types : SeriesNotes.csv\n",
    "\n",
    "After reviewing all of the feature definitions listed in the csv file and WorldBank.org documentation"
   ]
  },
  {
   "cell_type": "code",
   "execution_count": 54,
   "metadata": {
    "collapsed": false
   },
   "outputs": [],
   "source": [
    "df_series_notes[\"Seriescode\"] = df_series_notes[\"Seriescode\"].astype('category') # Seriescode\n",
    "df_series_notes[\"Year\"]  = df_series_notes[\"Year\"].astype('category') # Year\n",
    "df_series_notes[\"Description\"] = df_series_notes[\"Description\"].astype('str') # Value"
   ]
  },
  {
   "cell_type": "code",
   "execution_count": 55,
   "metadata": {
    "collapsed": false
   },
   "outputs": [
    {
     "data": {
      "text/plain": [
       "Seriescode     category\n",
       "Year           category\n",
       "Description      object\n",
       "dtype: object"
      ]
     },
     "execution_count": 55,
     "metadata": {},
     "output_type": "execute_result"
    }
   ],
   "source": [
    "df_series_notes.dtypes"
   ]
  },
  {
   "cell_type": "code",
   "execution_count": 56,
   "metadata": {
    "collapsed": false
   },
   "outputs": [
    {
     "name": "stdout",
     "output_type": "stream",
     "text": [
      "<class 'pandas.core.frame.DataFrame'>\n",
      "RangeIndex: 369 entries, 0 to 368\n",
      "Data columns (total 3 columns):\n",
      "Seriescode     369 non-null category\n",
      "Year           369 non-null category\n",
      "Description    369 non-null object\n",
      "dtypes: category(2), object(1)\n",
      "memory usage: 4.3+ KB\n"
     ]
    }
   ],
   "source": [
    "df_series_notes.info()"
   ]
  },
  {
   "cell_type": "markdown",
   "metadata": {},
   "source": [
    "# Verify Data Quality  \n",
    "For four out of the five interesting attributes we are exploring, there was no missing data observed.  Some values were recorded with information going back to 1960, and others were more recent with information only going back to 1990, but for Adolescent Birth Rate, GDP, GDP Per Capita, and Labor Force Participation Rate once the values started being recorded they were diligently recorded every year for each of our three countries of interest.  \n",
    "The one remaining attribute of interest, reporting as a percentage the Government Seats Held by Women, does have missing data for all three countries for the years 1991-1995.  This means that for that attribute we have our earliest recorded value at 1990, then a break before the values return again every year from 1996 onward.  \n",
    "The fact that this gap exists for all three countries suggests that it is not a mistake per say, but rather that the organization simply did not collect data for that timeframe.  After carefully examining the other datapoints and general trend of the data we found that for the US and China the datapoint from 1990 easily fits in to a trend that is already clearly established, and as such did not appear to be an outlier that needed further attention.  For Russia, however, that datapoint did not clearly fit into a trend and so we simply mentioned the existence of it, and then focused our discussion of Russia's trend outside of the outlying 1990 datapoint.  In this way we did not need to permute or create any new datapoints, and still presented the information we had to the reader so that they can make their own interpretations.  \n",
    "For the dataset in general, outside of analysis of the five most interesting attributes, we followed a general policy of permuting datapoints to fill in any missing data.  These permutations were based upon the mean value of the attribute, which appeared to be the very best option given that no attributes had any suspicious or unexplained outliers that could inappropriately skew the mean measurement.  \n"
   ]
  },
  {
   "cell_type": "markdown",
   "metadata": {},
   "source": [
    "# Simple Statistics of the Most Important Attributes\n",
    "While our dataset includes We are most interested in comparing attributes between the three major countries of the US, Russia, and China.  As such we will filter the data for these countries and compare some of the attributes we find.  Specifically, the five attributes we chose as most important and interesting are as follows:  \n",
    "  \n",
    "1. Adolescent Birth Rate, which is the number of births per thousand population where the mother is between age 15 and 19.\n",
    "2. GDP, which is the total Gross Domestic Product given in current US Dollars.\n",
    "3. GDP Per Capita, which is the total GDP divided by the population of the country.\n",
    "4. The number of women that participate in government, represented as a percentage of total parliamentary or legislative seats held by women. \n",
    "5. The Labor Force Participation Rate, which is a measurement of what percent of the population that are of the age to participate in the labor force actually do."
   ]
  },
  {
   "cell_type": "markdown",
   "metadata": {},
   "source": [
    "### Adolescent Birth Rate Statistics"
   ]
  },
  {
   "cell_type": "markdown",
   "metadata": {},
   "source": [
    "The Adolescent Birth Rate is reported as the number of births per 1000 population where the mother is between the ages of 15 and 19.  There were 165 total reported values across the three countries, with each country reporting one datapoint per year for 55 years from 1960 to 2015.  The mean across all years across all three countries is 37.48 births per 1000 population, while the median is 35.81.  The minimum value across all countries is 7.347 births per thousand population and the maximum value is 84.99.  The standard deviation is 18.72.  \n",
    "  \n",
    "For the US, the values ranged from 24.11 to 84.99 with a mean of 53.67 and a median of 52.94.  The standard deviation for the US is 13.49.  \n",
    "  \n",
    "For Russia, the values ranged from 24.13 to 51.82, with a mean of 35.53 and a median of 32.08.  The standard deviation for Russia is 8.73.  \n",
    "  \n",
    "For China, the values ranged from 7.35 to 68.03, with a mean of 23.23 anda  median of 17.70.  The standard deviation for China is 18.12.  \n",
    "  \n",
    "These statistics are meaningful because they give us an initial raw glimpse at where each country stacks up when compared against each other in a general sense.  For example, I found it very interesting that the mean of the US is nearly twice that of the mean of China, and that China had at one point a low of 7.35 births per thousand population whereas both the US and Russia never went below 24.  While we don't yet have many details, this tells us that China had a much lower adolescent birth rate on average than the other countries, especially the US.  \n",
    "  \n",
    "Below we will include the Python code that provided the statistics reported here:"
   ]
  },
  {
   "cell_type": "code",
   "execution_count": 57,
   "metadata": {
    "collapsed": false
   },
   "outputs": [],
   "source": [
    "# This code takes the df_indicators frame and creates three new filtered dataframes, one each for the US, China, and Russia.\n",
    "\n",
    "df_us = df_indicators[df_indicators['CountryCode'] == 'USA']\n",
    "df_rus = df_indicators[df_indicators['CountryCode'] == 'RUS']\n",
    "df_chi = df_indicators[df_indicators['CountryName'] == 'China']"
   ]
  },
  {
   "cell_type": "code",
   "execution_count": 58,
   "metadata": {
    "collapsed": false
   },
   "outputs": [],
   "source": [
    "# This code concatenates the three filtered frames into a \"df_3\" frame that includes all three countries of interest and no others.\n",
    "# We then choose one attribute of interest, the adolescent birth rate (births per 1000 population where the mother is between 15-19 years old) and\n",
    "# create filtered frames for that particular attribute.\n",
    "\n",
    "frames = [df_us, df_rus, df_chi]\n",
    "df_3 = pd.concat(frames)\n",
    "df_3[df_3['IndicatorCode']=='SP.ADO.TFRT']\n",
    "\n",
    "df_3_abr = df_3[df_3['IndicatorCode']=='SP.ADO.TFRT']\n",
    "df_us_abr = df_us[df_us['IndicatorCode']=='SP.ADO.TFRT']\n",
    "df_rus_abr = df_rus[df_rus['IndicatorCode']=='SP.ADO.TFRT']\n",
    "df_chi_abr = df_chi[df_chi['IndicatorCode']=='SP.ADO.TFRT']"
   ]
  },
  {
   "cell_type": "code",
   "execution_count": 59,
   "metadata": {
    "collapsed": false
   },
   "outputs": [
    {
     "data": {
      "text/html": [
       "<div>\n",
       "<table border=\"1\" class=\"dataframe\">\n",
       "  <thead>\n",
       "    <tr style=\"text-align: right;\">\n",
       "      <th></th>\n",
       "      <th>Year</th>\n",
       "      <th>Value</th>\n",
       "    </tr>\n",
       "  </thead>\n",
       "  <tbody>\n",
       "    <tr>\n",
       "      <th>count</th>\n",
       "      <td>165.000000</td>\n",
       "      <td>165.000000</td>\n",
       "    </tr>\n",
       "    <tr>\n",
       "      <th>mean</th>\n",
       "      <td>1987.000000</td>\n",
       "      <td>37.476252</td>\n",
       "    </tr>\n",
       "    <tr>\n",
       "      <th>std</th>\n",
       "      <td>15.922832</td>\n",
       "      <td>18.718354</td>\n",
       "    </tr>\n",
       "    <tr>\n",
       "      <th>min</th>\n",
       "      <td>1960.000000</td>\n",
       "      <td>7.347800</td>\n",
       "    </tr>\n",
       "    <tr>\n",
       "      <th>25%</th>\n",
       "      <td>1973.000000</td>\n",
       "      <td>24.130200</td>\n",
       "    </tr>\n",
       "    <tr>\n",
       "      <th>50%</th>\n",
       "      <td>1987.000000</td>\n",
       "      <td>35.810600</td>\n",
       "    </tr>\n",
       "    <tr>\n",
       "      <th>75%</th>\n",
       "      <td>2001.000000</td>\n",
       "      <td>51.917400</td>\n",
       "    </tr>\n",
       "    <tr>\n",
       "      <th>max</th>\n",
       "      <td>2014.000000</td>\n",
       "      <td>84.987200</td>\n",
       "    </tr>\n",
       "  </tbody>\n",
       "</table>\n",
       "</div>"
      ],
      "text/plain": [
       "              Year       Value\n",
       "count   165.000000  165.000000\n",
       "mean   1987.000000   37.476252\n",
       "std      15.922832   18.718354\n",
       "min    1960.000000    7.347800\n",
       "25%    1973.000000   24.130200\n",
       "50%    1987.000000   35.810600\n",
       "75%    2001.000000   51.917400\n",
       "max    2014.000000   84.987200"
      ]
     },
     "execution_count": 59,
     "metadata": {},
     "output_type": "execute_result"
    }
   ],
   "source": [
    "df_3_abr.describe()"
   ]
  },
  {
   "cell_type": "code",
   "execution_count": 60,
   "metadata": {
    "collapsed": false
   },
   "outputs": [
    {
     "data": {
      "text/plain": [
       "35.8106"
      ]
     },
     "execution_count": 60,
     "metadata": {},
     "output_type": "execute_result"
    }
   ],
   "source": [
    "df_3_abr['Value'].median()"
   ]
  },
  {
   "cell_type": "code",
   "execution_count": 61,
   "metadata": {
    "collapsed": false
   },
   "outputs": [
    {
     "data": {
      "text/html": [
       "<div>\n",
       "<table border=\"1\" class=\"dataframe\">\n",
       "  <thead>\n",
       "    <tr style=\"text-align: right;\">\n",
       "      <th></th>\n",
       "      <th>Year</th>\n",
       "      <th>Value</th>\n",
       "    </tr>\n",
       "  </thead>\n",
       "  <tbody>\n",
       "    <tr>\n",
       "      <th>count</th>\n",
       "      <td>55.000000</td>\n",
       "      <td>55.000000</td>\n",
       "    </tr>\n",
       "    <tr>\n",
       "      <th>mean</th>\n",
       "      <td>1987.000000</td>\n",
       "      <td>53.668065</td>\n",
       "    </tr>\n",
       "    <tr>\n",
       "      <th>std</th>\n",
       "      <td>16.020819</td>\n",
       "      <td>13.488842</td>\n",
       "    </tr>\n",
       "    <tr>\n",
       "      <th>min</th>\n",
       "      <td>1960.000000</td>\n",
       "      <td>24.110200</td>\n",
       "    </tr>\n",
       "    <tr>\n",
       "      <th>25%</th>\n",
       "      <td>1973.500000</td>\n",
       "      <td>45.639700</td>\n",
       "    </tr>\n",
       "    <tr>\n",
       "      <th>50%</th>\n",
       "      <td>1987.000000</td>\n",
       "      <td>52.938600</td>\n",
       "    </tr>\n",
       "    <tr>\n",
       "      <th>75%</th>\n",
       "      <td>2000.500000</td>\n",
       "      <td>59.492300</td>\n",
       "    </tr>\n",
       "    <tr>\n",
       "      <th>max</th>\n",
       "      <td>2014.000000</td>\n",
       "      <td>84.987200</td>\n",
       "    </tr>\n",
       "  </tbody>\n",
       "</table>\n",
       "</div>"
      ],
      "text/plain": [
       "              Year      Value\n",
       "count    55.000000  55.000000\n",
       "mean   1987.000000  53.668065\n",
       "std      16.020819  13.488842\n",
       "min    1960.000000  24.110200\n",
       "25%    1973.500000  45.639700\n",
       "50%    1987.000000  52.938600\n",
       "75%    2000.500000  59.492300\n",
       "max    2014.000000  84.987200"
      ]
     },
     "execution_count": 61,
     "metadata": {},
     "output_type": "execute_result"
    }
   ],
   "source": [
    "df_us_abr.describe()"
   ]
  },
  {
   "cell_type": "code",
   "execution_count": 62,
   "metadata": {
    "collapsed": false
   },
   "outputs": [
    {
     "data": {
      "text/plain": [
       "52.9386"
      ]
     },
     "execution_count": 62,
     "metadata": {},
     "output_type": "execute_result"
    }
   ],
   "source": [
    "df_us_abr['Value'].median()"
   ]
  },
  {
   "cell_type": "code",
   "execution_count": 63,
   "metadata": {
    "collapsed": false
   },
   "outputs": [
    {
     "data": {
      "text/html": [
       "<div>\n",
       "<table border=\"1\" class=\"dataframe\">\n",
       "  <thead>\n",
       "    <tr style=\"text-align: right;\">\n",
       "      <th></th>\n",
       "      <th>Year</th>\n",
       "      <th>Value</th>\n",
       "    </tr>\n",
       "  </thead>\n",
       "  <tbody>\n",
       "    <tr>\n",
       "      <th>count</th>\n",
       "      <td>55.000000</td>\n",
       "      <td>55.000000</td>\n",
       "    </tr>\n",
       "    <tr>\n",
       "      <th>mean</th>\n",
       "      <td>1987.000000</td>\n",
       "      <td>35.530455</td>\n",
       "    </tr>\n",
       "    <tr>\n",
       "      <th>std</th>\n",
       "      <td>16.020819</td>\n",
       "      <td>8.731220</td>\n",
       "    </tr>\n",
       "    <tr>\n",
       "      <th>min</th>\n",
       "      <td>1960.000000</td>\n",
       "      <td>24.130200</td>\n",
       "    </tr>\n",
       "    <tr>\n",
       "      <th>25%</th>\n",
       "      <td>1973.500000</td>\n",
       "      <td>28.085400</td>\n",
       "    </tr>\n",
       "    <tr>\n",
       "      <th>50%</th>\n",
       "      <td>1987.000000</td>\n",
       "      <td>32.075800</td>\n",
       "    </tr>\n",
       "    <tr>\n",
       "      <th>75%</th>\n",
       "      <td>2000.500000</td>\n",
       "      <td>43.581900</td>\n",
       "    </tr>\n",
       "    <tr>\n",
       "      <th>max</th>\n",
       "      <td>2014.000000</td>\n",
       "      <td>51.822000</td>\n",
       "    </tr>\n",
       "  </tbody>\n",
       "</table>\n",
       "</div>"
      ],
      "text/plain": [
       "              Year      Value\n",
       "count    55.000000  55.000000\n",
       "mean   1987.000000  35.530455\n",
       "std      16.020819   8.731220\n",
       "min    1960.000000  24.130200\n",
       "25%    1973.500000  28.085400\n",
       "50%    1987.000000  32.075800\n",
       "75%    2000.500000  43.581900\n",
       "max    2014.000000  51.822000"
      ]
     },
     "execution_count": 63,
     "metadata": {},
     "output_type": "execute_result"
    }
   ],
   "source": [
    "df_rus_abr.describe()"
   ]
  },
  {
   "cell_type": "code",
   "execution_count": 64,
   "metadata": {
    "collapsed": false
   },
   "outputs": [
    {
     "data": {
      "text/plain": [
       "32.0758"
      ]
     },
     "execution_count": 64,
     "metadata": {},
     "output_type": "execute_result"
    }
   ],
   "source": [
    "df_rus_abr['Value'].median()"
   ]
  },
  {
   "cell_type": "code",
   "execution_count": 65,
   "metadata": {
    "collapsed": false
   },
   "outputs": [
    {
     "data": {
      "text/html": [
       "<div>\n",
       "<table border=\"1\" class=\"dataframe\">\n",
       "  <thead>\n",
       "    <tr style=\"text-align: right;\">\n",
       "      <th></th>\n",
       "      <th>Year</th>\n",
       "      <th>Value</th>\n",
       "    </tr>\n",
       "  </thead>\n",
       "  <tbody>\n",
       "    <tr>\n",
       "      <th>count</th>\n",
       "      <td>55.000000</td>\n",
       "      <td>55.000000</td>\n",
       "    </tr>\n",
       "    <tr>\n",
       "      <th>mean</th>\n",
       "      <td>1987.000000</td>\n",
       "      <td>23.230236</td>\n",
       "    </tr>\n",
       "    <tr>\n",
       "      <th>std</th>\n",
       "      <td>16.020819</td>\n",
       "      <td>18.119901</td>\n",
       "    </tr>\n",
       "    <tr>\n",
       "      <th>min</th>\n",
       "      <td>1960.000000</td>\n",
       "      <td>7.347800</td>\n",
       "    </tr>\n",
       "    <tr>\n",
       "      <th>25%</th>\n",
       "      <td>1973.500000</td>\n",
       "      <td>8.616300</td>\n",
       "    </tr>\n",
       "    <tr>\n",
       "      <th>50%</th>\n",
       "      <td>1987.000000</td>\n",
       "      <td>17.698600</td>\n",
       "    </tr>\n",
       "    <tr>\n",
       "      <th>75%</th>\n",
       "      <td>2000.500000</td>\n",
       "      <td>25.638600</td>\n",
       "    </tr>\n",
       "    <tr>\n",
       "      <th>max</th>\n",
       "      <td>2014.000000</td>\n",
       "      <td>68.033200</td>\n",
       "    </tr>\n",
       "  </tbody>\n",
       "</table>\n",
       "</div>"
      ],
      "text/plain": [
       "              Year      Value\n",
       "count    55.000000  55.000000\n",
       "mean   1987.000000  23.230236\n",
       "std      16.020819  18.119901\n",
       "min    1960.000000   7.347800\n",
       "25%    1973.500000   8.616300\n",
       "50%    1987.000000  17.698600\n",
       "75%    2000.500000  25.638600\n",
       "max    2014.000000  68.033200"
      ]
     },
     "execution_count": 65,
     "metadata": {},
     "output_type": "execute_result"
    }
   ],
   "source": [
    "df_chi_abr.describe()"
   ]
  },
  {
   "cell_type": "code",
   "execution_count": 66,
   "metadata": {
    "collapsed": false
   },
   "outputs": [
    {
     "data": {
      "text/plain": [
       "17.6986"
      ]
     },
     "execution_count": 66,
     "metadata": {},
     "output_type": "execute_result"
    }
   ],
   "source": [
    "df_chi_abr['Value'].median()"
   ]
  },
  {
   "cell_type": "markdown",
   "metadata": {},
   "source": [
    "### Gross Domestic Product (GDP) Statistics"
   ]
  },
  {
   "cell_type": "markdown",
   "metadata": {},
   "source": [
    "The Gross Domestic Product, or GDP, is reported by value in current US Dollars.  There were 136 total reported values across all three countries, with the US and China reporting one datapoint per year for 55 years from 1960 to 2015 and Russia reporting 26 years from 1989 to 2015.  The mean for all years across all three countries is 3.3 Trillion USD however the median is only 1.1 Trillion.  The minimum value across all countries is 47 Billion, and the maximum value is 17.4 Trillion.  The standard deviation is 4.5 Trillion.  \n",
    "  \n",
    "For the US, the values ranged from 543 Billion to 17.4 Trillion with a mean of 6.35 Trillion and a median of 4.90 Trillion.  The standard deviation for the US is 5.31 Trillion.  \n",
    "  \n",
    "For Russia, the values ranged from 196 Billion to 2.08 Trillion with a mean of 836 Billion and a median of 512 Billion.  The standard deviation for Russia is 628 Billion.  \n",
    "  \n",
    "For China, the values ranged from 47 Billion to 1.04 Trillion with a mean of 144 Billion and a median of 307 Billion.  The standard deviation for China is 2.5 Trillion.\n",
    "\n",
    "These statistics are meaningful because they give us an initial raw glimpse at where each country stacks up when compared against each other in a general sense.  What stood out to me most about the statistics for this attribute were the huge standard deviations, especially for China.  Having a standard deviation that is over fifteen times as large as your mean (2.5 Trillion as compared to a mean of only 144 Billion) suggests that there is huge variation in the data.  While we don't know what the variation is yet until we graph it out, our assumption at this point is either a dramatic increase or a dramatic decrease in GDP over time.  \n",
    "  \n",
    "Below we will include the Python code that provided the statistics reported here:"
   ]
  },
  {
   "cell_type": "code",
   "execution_count": 67,
   "metadata": {
    "collapsed": true
   },
   "outputs": [],
   "source": [
    "df_3_gdp = df_3[df_3['IndicatorCode']=='NY.GDP.MKTP.CD']\n",
    "df_us_gdp = df_us[df_us['IndicatorCode']=='NY.GDP.MKTP.CD']\n",
    "df_rus_gdp = df_rus[df_rus['IndicatorCode']=='NY.GDP.MKTP.CD']\n",
    "df_chi_gdp = df_chi[df_chi['IndicatorCode']=='NY.GDP.MKTP.CD']"
   ]
  },
  {
   "cell_type": "code",
   "execution_count": 68,
   "metadata": {
    "collapsed": false
   },
   "outputs": [
    {
     "data": {
      "text/html": [
       "<div>\n",
       "<table border=\"1\" class=\"dataframe\">\n",
       "  <thead>\n",
       "    <tr style=\"text-align: right;\">\n",
       "      <th></th>\n",
       "      <th>Year</th>\n",
       "      <th>Value</th>\n",
       "    </tr>\n",
       "  </thead>\n",
       "  <tbody>\n",
       "    <tr>\n",
       "      <th>count</th>\n",
       "      <td>136.000000</td>\n",
       "      <td>1.360000e+02</td>\n",
       "    </tr>\n",
       "    <tr>\n",
       "      <th>mean</th>\n",
       "      <td>1989.772059</td>\n",
       "      <td>3.310526e+12</td>\n",
       "    </tr>\n",
       "    <tr>\n",
       "      <th>std</th>\n",
       "      <td>15.777134</td>\n",
       "      <td>4.497693e+12</td>\n",
       "    </tr>\n",
       "    <tr>\n",
       "      <th>min</th>\n",
       "      <td>1960.000000</td>\n",
       "      <td>4.668518e+10</td>\n",
       "    </tr>\n",
       "    <tr>\n",
       "      <th>25%</th>\n",
       "      <td>1976.750000</td>\n",
       "      <td>3.457457e+11</td>\n",
       "    </tr>\n",
       "    <tr>\n",
       "      <th>50%</th>\n",
       "      <td>1992.000000</td>\n",
       "      <td>1.082666e+12</td>\n",
       "    </tr>\n",
       "    <tr>\n",
       "      <th>75%</th>\n",
       "      <td>2003.000000</td>\n",
       "      <td>4.660170e+12</td>\n",
       "    </tr>\n",
       "    <tr>\n",
       "      <th>max</th>\n",
       "      <td>2014.000000</td>\n",
       "      <td>1.741900e+13</td>\n",
       "    </tr>\n",
       "  </tbody>\n",
       "</table>\n",
       "</div>"
      ],
      "text/plain": [
       "              Year         Value\n",
       "count   136.000000  1.360000e+02\n",
       "mean   1989.772059  3.310526e+12\n",
       "std      15.777134  4.497693e+12\n",
       "min    1960.000000  4.668518e+10\n",
       "25%    1976.750000  3.457457e+11\n",
       "50%    1992.000000  1.082666e+12\n",
       "75%    2003.000000  4.660170e+12\n",
       "max    2014.000000  1.741900e+13"
      ]
     },
     "execution_count": 68,
     "metadata": {},
     "output_type": "execute_result"
    }
   ],
   "source": [
    "df_3_gdp.describe()"
   ]
  },
  {
   "cell_type": "code",
   "execution_count": 69,
   "metadata": {
    "collapsed": false
   },
   "outputs": [
    {
     "data": {
      "text/plain": [
       "1082665554352.9451"
      ]
     },
     "execution_count": 69,
     "metadata": {},
     "output_type": "execute_result"
    }
   ],
   "source": [
    "df_3_gdp['Value'].median()"
   ]
  },
  {
   "cell_type": "code",
   "execution_count": 70,
   "metadata": {
    "collapsed": false
   },
   "outputs": [
    {
     "data": {
      "text/html": [
       "<div>\n",
       "<table border=\"1\" class=\"dataframe\">\n",
       "  <thead>\n",
       "    <tr style=\"text-align: right;\">\n",
       "      <th></th>\n",
       "      <th>Year</th>\n",
       "      <th>Value</th>\n",
       "    </tr>\n",
       "  </thead>\n",
       "  <tbody>\n",
       "    <tr>\n",
       "      <th>count</th>\n",
       "      <td>55.000000</td>\n",
       "      <td>5.500000e+01</td>\n",
       "    </tr>\n",
       "    <tr>\n",
       "      <th>mean</th>\n",
       "      <td>1987.000000</td>\n",
       "      <td>6.353601e+12</td>\n",
       "    </tr>\n",
       "    <tr>\n",
       "      <th>std</th>\n",
       "      <td>16.020819</td>\n",
       "      <td>5.309036e+12</td>\n",
       "    </tr>\n",
       "    <tr>\n",
       "      <th>min</th>\n",
       "      <td>1960.000000</td>\n",
       "      <td>5.433000e+11</td>\n",
       "    </tr>\n",
       "    <tr>\n",
       "      <th>25%</th>\n",
       "      <td>1973.500000</td>\n",
       "      <td>1.488687e+12</td>\n",
       "    </tr>\n",
       "    <tr>\n",
       "      <th>50%</th>\n",
       "      <td>1987.000000</td>\n",
       "      <td>4.870217e+12</td>\n",
       "    </tr>\n",
       "    <tr>\n",
       "      <th>75%</th>\n",
       "      <td>2000.500000</td>\n",
       "      <td>1.045330e+13</td>\n",
       "    </tr>\n",
       "    <tr>\n",
       "      <th>max</th>\n",
       "      <td>2014.000000</td>\n",
       "      <td>1.741900e+13</td>\n",
       "    </tr>\n",
       "  </tbody>\n",
       "</table>\n",
       "</div>"
      ],
      "text/plain": [
       "              Year         Value\n",
       "count    55.000000  5.500000e+01\n",
       "mean   1987.000000  6.353601e+12\n",
       "std      16.020819  5.309036e+12\n",
       "min    1960.000000  5.433000e+11\n",
       "25%    1973.500000  1.488687e+12\n",
       "50%    1987.000000  4.870217e+12\n",
       "75%    2000.500000  1.045330e+13\n",
       "max    2014.000000  1.741900e+13"
      ]
     },
     "execution_count": 70,
     "metadata": {},
     "output_type": "execute_result"
    }
   ],
   "source": [
    "df_us_gdp.describe()"
   ]
  },
  {
   "cell_type": "code",
   "execution_count": 71,
   "metadata": {
    "collapsed": false
   },
   "outputs": [
    {
     "data": {
      "text/plain": [
       "4870217000000.0"
      ]
     },
     "execution_count": 71,
     "metadata": {},
     "output_type": "execute_result"
    }
   ],
   "source": [
    "df_us_gdp['Value'].median()"
   ]
  },
  {
   "cell_type": "code",
   "execution_count": 72,
   "metadata": {
    "collapsed": false
   },
   "outputs": [
    {
     "data": {
      "text/html": [
       "<div>\n",
       "<table border=\"1\" class=\"dataframe\">\n",
       "  <thead>\n",
       "    <tr style=\"text-align: right;\">\n",
       "      <th></th>\n",
       "      <th>Year</th>\n",
       "      <th>Value</th>\n",
       "    </tr>\n",
       "  </thead>\n",
       "  <tbody>\n",
       "    <tr>\n",
       "      <th>count</th>\n",
       "      <td>26.000000</td>\n",
       "      <td>2.600000e+01</td>\n",
       "    </tr>\n",
       "    <tr>\n",
       "      <th>mean</th>\n",
       "      <td>2001.500000</td>\n",
       "      <td>8.363901e+11</td>\n",
       "    </tr>\n",
       "    <tr>\n",
       "      <th>std</th>\n",
       "      <td>7.648529</td>\n",
       "      <td>6.283408e+11</td>\n",
       "    </tr>\n",
       "    <tr>\n",
       "      <th>min</th>\n",
       "      <td>1989.000000</td>\n",
       "      <td>1.959058e+11</td>\n",
       "    </tr>\n",
       "    <tr>\n",
       "      <th>25%</th>\n",
       "      <td>1995.250000</td>\n",
       "      <td>3.951907e+11</td>\n",
       "    </tr>\n",
       "    <tr>\n",
       "      <th>50%</th>\n",
       "      <td>2001.500000</td>\n",
       "      <td>5.116572e+11</td>\n",
       "    </tr>\n",
       "    <tr>\n",
       "      <th>75%</th>\n",
       "      <td>2007.750000</td>\n",
       "      <td>1.280440e+12</td>\n",
       "    </tr>\n",
       "    <tr>\n",
       "      <th>max</th>\n",
       "      <td>2014.000000</td>\n",
       "      <td>2.079025e+12</td>\n",
       "    </tr>\n",
       "  </tbody>\n",
       "</table>\n",
       "</div>"
      ],
      "text/plain": [
       "              Year         Value\n",
       "count    26.000000  2.600000e+01\n",
       "mean   2001.500000  8.363901e+11\n",
       "std       7.648529  6.283408e+11\n",
       "min    1989.000000  1.959058e+11\n",
       "25%    1995.250000  3.951907e+11\n",
       "50%    2001.500000  5.116572e+11\n",
       "75%    2007.750000  1.280440e+12\n",
       "max    2014.000000  2.079025e+12"
      ]
     },
     "execution_count": 72,
     "metadata": {},
     "output_type": "execute_result"
    }
   ],
   "source": [
    "df_rus_gdp.describe()"
   ]
  },
  {
   "cell_type": "code",
   "execution_count": 73,
   "metadata": {
    "collapsed": false
   },
   "outputs": [
    {
     "data": {
      "text/plain": [
       "511657206348.51697"
      ]
     },
     "execution_count": 73,
     "metadata": {},
     "output_type": "execute_result"
    }
   ],
   "source": [
    "df_rus_gdp['Value'].median()"
   ]
  },
  {
   "cell_type": "code",
   "execution_count": 74,
   "metadata": {
    "collapsed": false
   },
   "outputs": [
    {
     "data": {
      "text/html": [
       "<div>\n",
       "<table border=\"1\" class=\"dataframe\">\n",
       "  <thead>\n",
       "    <tr style=\"text-align: right;\">\n",
       "      <th></th>\n",
       "      <th>Year</th>\n",
       "      <th>Value</th>\n",
       "    </tr>\n",
       "  </thead>\n",
       "  <tbody>\n",
       "    <tr>\n",
       "      <th>count</th>\n",
       "      <td>55.000000</td>\n",
       "      <td>5.500000e+01</td>\n",
       "    </tr>\n",
       "    <tr>\n",
       "      <th>mean</th>\n",
       "      <td>1987.000000</td>\n",
       "      <td>1.437042e+12</td>\n",
       "    </tr>\n",
       "    <tr>\n",
       "      <th>std</th>\n",
       "      <td>16.020819</td>\n",
       "      <td>2.500085e+12</td>\n",
       "    </tr>\n",
       "    <tr>\n",
       "      <th>min</th>\n",
       "      <td>1960.000000</td>\n",
       "      <td>4.668518e+10</td>\n",
       "    </tr>\n",
       "    <tr>\n",
       "      <th>25%</th>\n",
       "      <td>1973.500000</td>\n",
       "      <td>1.395123e+11</td>\n",
       "    </tr>\n",
       "    <tr>\n",
       "      <th>50%</th>\n",
       "      <td>1987.000000</td>\n",
       "      <td>3.074796e+11</td>\n",
       "    </tr>\n",
       "    <tr>\n",
       "      <th>75%</th>\n",
       "      <td>2000.500000</td>\n",
       "      <td>1.268748e+12</td>\n",
       "    </tr>\n",
       "    <tr>\n",
       "      <th>max</th>\n",
       "      <td>2014.000000</td>\n",
       "      <td>1.035483e+13</td>\n",
       "    </tr>\n",
       "  </tbody>\n",
       "</table>\n",
       "</div>"
      ],
      "text/plain": [
       "              Year         Value\n",
       "count    55.000000  5.500000e+01\n",
       "mean   1987.000000  1.437042e+12\n",
       "std      16.020819  2.500085e+12\n",
       "min    1960.000000  4.668518e+10\n",
       "25%    1973.500000  1.395123e+11\n",
       "50%    1987.000000  3.074796e+11\n",
       "75%    2000.500000  1.268748e+12\n",
       "max    2014.000000  1.035483e+13"
      ]
     },
     "execution_count": 74,
     "metadata": {},
     "output_type": "execute_result"
    }
   ],
   "source": [
    "df_chi_gdp.describe()"
   ]
  },
  {
   "cell_type": "code",
   "execution_count": 75,
   "metadata": {
    "collapsed": false
   },
   "outputs": [
    {
     "data": {
      "text/plain": [
       "307479585852.339"
      ]
     },
     "execution_count": 75,
     "metadata": {},
     "output_type": "execute_result"
    }
   ],
   "source": [
    "df_chi_gdp['Value'].median()"
   ]
  },
  {
   "cell_type": "markdown",
   "metadata": {},
   "source": [
    "### GDP Per Capita Statistics"
   ]
  },
  {
   "cell_type": "markdown",
   "metadata": {},
   "source": [
    "The GDP Per Capita is the total GDP that we just looked at above divided by the total population of the country.  This results in a value calculated in current US Dollars for each member of a given country's population.  There were 136 total reported values across all three countries, with the US and China reporting one datapoint per year for 55 years from 1960 to 2015 and Russia reporting 26 years from 1989 to 2015. The mean for all years across all three countries is \\$10,851, however the median is only \\$3,530.  The minimum value across all countries is \\$70 and the maximum value is \\$54,629.  The standard deviation is $14,821.  \n",
    "  \n",
    "For the US, the values ranged from \\$3,007 to \\$54,629 with a mean of \\$22,983 and a median of \\$20,101.  The standard deviation for the US is $16,670.  \n",
    "  \n",
    "For Russia, the values ranged from \\$1,331 to \\$14,487 with a mean of \\$5,787 and a median of \\$3,457.  The standard deviation for Russia is $4,407.  \n",
    "  \n",
    "For China, the values ranged from \\$70 to \\$7,590 with a mean of \\$1,111 and a median of \\$282.  The standard deviation for China is $1,834.  \n",
    "  \n",
    "These statistics are meaningful because they give us an initial raw glimpse at where each country stacks up when compared against each other in a general sense.  It was very startling for me to see that at one point China had a GDP per capita of only seventy US Dollars.  This suggests that while the US GDP per capita increased the most in real terms, the Chinese GDP per capita increased the most percentagewise, with a maximum value that is over one hundred times as large as the minimum value (\\$7,590 compared to a minimum of $70).  It bears remembering, however, that Russia only began reporting on GDP in 1989.  If Russia had provided data going back to 1960 as China did then we suspect that its minimum value might have been lower.  \n",
    "  \n",
    "Below we will include the Python code that provided the statistics reported:"
   ]
  },
  {
   "cell_type": "code",
   "execution_count": 76,
   "metadata": {
    "collapsed": true
   },
   "outputs": [],
   "source": [
    "df_3_gdpc = df_3[df_3['IndicatorCode']=='NY.GDP.PCAP.CD']\n",
    "df_us_gdpc = df_us[df_us['IndicatorCode']=='NY.GDP.PCAP.CD']\n",
    "df_rus_gdpc = df_rus[df_rus['IndicatorCode']=='NY.GDP.PCAP.CD']\n",
    "df_chi_gdpc = df_chi[df_chi['IndicatorCode']=='NY.GDP.PCAP.CD']"
   ]
  },
  {
   "cell_type": "code",
   "execution_count": 77,
   "metadata": {
    "collapsed": false
   },
   "outputs": [
    {
     "data": {
      "text/html": [
       "<div>\n",
       "<table border=\"1\" class=\"dataframe\">\n",
       "  <thead>\n",
       "    <tr style=\"text-align: right;\">\n",
       "      <th></th>\n",
       "      <th>Year</th>\n",
       "      <th>Value</th>\n",
       "    </tr>\n",
       "  </thead>\n",
       "  <tbody>\n",
       "    <tr>\n",
       "      <th>count</th>\n",
       "      <td>136.000000</td>\n",
       "      <td>136.000000</td>\n",
       "    </tr>\n",
       "    <tr>\n",
       "      <th>mean</th>\n",
       "      <td>1989.772059</td>\n",
       "      <td>10850.563249</td>\n",
       "    </tr>\n",
       "    <tr>\n",
       "      <th>std</th>\n",
       "      <td>15.777134</td>\n",
       "      <td>14820.502312</td>\n",
       "    </tr>\n",
       "    <tr>\n",
       "      <th>min</th>\n",
       "      <td>1960.000000</td>\n",
       "      <td>70.122082</td>\n",
       "    </tr>\n",
       "    <tr>\n",
       "      <th>25%</th>\n",
       "      <td>1976.750000</td>\n",
       "      <td>447.774234</td>\n",
       "    </tr>\n",
       "    <tr>\n",
       "      <th>50%</th>\n",
       "      <td>1992.000000</td>\n",
       "      <td>3529.526693</td>\n",
       "    </tr>\n",
       "    <tr>\n",
       "      <th>75%</th>\n",
       "      <td>2003.000000</td>\n",
       "      <td>14168.866996</td>\n",
       "    </tr>\n",
       "    <tr>\n",
       "      <th>max</th>\n",
       "      <td>2014.000000</td>\n",
       "      <td>54629.495168</td>\n",
       "    </tr>\n",
       "  </tbody>\n",
       "</table>\n",
       "</div>"
      ],
      "text/plain": [
       "              Year         Value\n",
       "count   136.000000    136.000000\n",
       "mean   1989.772059  10850.563249\n",
       "std      15.777134  14820.502312\n",
       "min    1960.000000     70.122082\n",
       "25%    1976.750000    447.774234\n",
       "50%    1992.000000   3529.526693\n",
       "75%    2003.000000  14168.866996\n",
       "max    2014.000000  54629.495168"
      ]
     },
     "execution_count": 77,
     "metadata": {},
     "output_type": "execute_result"
    }
   ],
   "source": [
    "df_3_gdpc.describe()"
   ]
  },
  {
   "cell_type": "code",
   "execution_count": 78,
   "metadata": {
    "collapsed": false
   },
   "outputs": [
    {
     "data": {
      "text/plain": [
       "3529.526693497065"
      ]
     },
     "execution_count": 78,
     "metadata": {},
     "output_type": "execute_result"
    }
   ],
   "source": [
    "df_3_gdpc['Value'].median()"
   ]
  },
  {
   "cell_type": "code",
   "execution_count": 79,
   "metadata": {
    "collapsed": false
   },
   "outputs": [
    {
     "data": {
      "text/html": [
       "<div>\n",
       "<table border=\"1\" class=\"dataframe\">\n",
       "  <thead>\n",
       "    <tr style=\"text-align: right;\">\n",
       "      <th></th>\n",
       "      <th>Year</th>\n",
       "      <th>Value</th>\n",
       "    </tr>\n",
       "  </thead>\n",
       "  <tbody>\n",
       "    <tr>\n",
       "      <th>count</th>\n",
       "      <td>55.000000</td>\n",
       "      <td>55.000000</td>\n",
       "    </tr>\n",
       "    <tr>\n",
       "      <th>mean</th>\n",
       "      <td>1987.000000</td>\n",
       "      <td>22983.226134</td>\n",
       "    </tr>\n",
       "    <tr>\n",
       "      <th>std</th>\n",
       "      <td>16.020819</td>\n",
       "      <td>16669.734222</td>\n",
       "    </tr>\n",
       "    <tr>\n",
       "      <th>min</th>\n",
       "      <td>1960.000000</td>\n",
       "      <td>3007.123445</td>\n",
       "    </tr>\n",
       "    <tr>\n",
       "      <th>25%</th>\n",
       "      <td>1973.500000</td>\n",
       "      <td>6991.886735</td>\n",
       "    </tr>\n",
       "    <tr>\n",
       "      <th>50%</th>\n",
       "      <td>1987.000000</td>\n",
       "      <td>20100.858892</td>\n",
       "    </tr>\n",
       "    <tr>\n",
       "      <th>75%</th>\n",
       "      <td>2000.500000</td>\n",
       "      <td>36861.736609</td>\n",
       "    </tr>\n",
       "    <tr>\n",
       "      <th>max</th>\n",
       "      <td>2014.000000</td>\n",
       "      <td>54629.495168</td>\n",
       "    </tr>\n",
       "  </tbody>\n",
       "</table>\n",
       "</div>"
      ],
      "text/plain": [
       "              Year         Value\n",
       "count    55.000000     55.000000\n",
       "mean   1987.000000  22983.226134\n",
       "std      16.020819  16669.734222\n",
       "min    1960.000000   3007.123445\n",
       "25%    1973.500000   6991.886735\n",
       "50%    1987.000000  20100.858892\n",
       "75%    2000.500000  36861.736609\n",
       "max    2014.000000  54629.495168"
      ]
     },
     "execution_count": 79,
     "metadata": {},
     "output_type": "execute_result"
    }
   ],
   "source": [
    "df_us_gdpc.describe()"
   ]
  },
  {
   "cell_type": "code",
   "execution_count": 80,
   "metadata": {
    "collapsed": false
   },
   "outputs": [
    {
     "data": {
      "text/plain": [
       "20100.8588916542"
      ]
     },
     "execution_count": 80,
     "metadata": {},
     "output_type": "execute_result"
    }
   ],
   "source": [
    "df_us_gdpc['Value'].median()"
   ]
  },
  {
   "cell_type": "code",
   "execution_count": 81,
   "metadata": {
    "collapsed": false
   },
   "outputs": [
    {
     "data": {
      "text/html": [
       "<div>\n",
       "<table border=\"1\" class=\"dataframe\">\n",
       "  <thead>\n",
       "    <tr style=\"text-align: right;\">\n",
       "      <th></th>\n",
       "      <th>Year</th>\n",
       "      <th>Value</th>\n",
       "    </tr>\n",
       "  </thead>\n",
       "  <tbody>\n",
       "    <tr>\n",
       "      <th>count</th>\n",
       "      <td>26.000000</td>\n",
       "      <td>26.000000</td>\n",
       "    </tr>\n",
       "    <tr>\n",
       "      <th>mean</th>\n",
       "      <td>2001.500000</td>\n",
       "      <td>5787.256717</td>\n",
       "    </tr>\n",
       "    <tr>\n",
       "      <th>std</th>\n",
       "      <td>7.648529</td>\n",
       "      <td>4407.485438</td>\n",
       "    </tr>\n",
       "    <tr>\n",
       "      <th>min</th>\n",
       "      <td>1989.000000</td>\n",
       "      <td>1330.751464</td>\n",
       "    </tr>\n",
       "    <tr>\n",
       "      <th>25%</th>\n",
       "      <td>1995.250000</td>\n",
       "      <td>2663.980880</td>\n",
       "    </tr>\n",
       "    <tr>\n",
       "      <th>50%</th>\n",
       "      <td>2001.500000</td>\n",
       "      <td>3456.909009</td>\n",
       "    </tr>\n",
       "    <tr>\n",
       "      <th>75%</th>\n",
       "      <td>2007.750000</td>\n",
       "      <td>8966.645954</td>\n",
       "    </tr>\n",
       "    <tr>\n",
       "      <th>max</th>\n",
       "      <td>2014.000000</td>\n",
       "      <td>14487.279870</td>\n",
       "    </tr>\n",
       "  </tbody>\n",
       "</table>\n",
       "</div>"
      ],
      "text/plain": [
       "              Year         Value\n",
       "count    26.000000     26.000000\n",
       "mean   2001.500000   5787.256717\n",
       "std       7.648529   4407.485438\n",
       "min    1989.000000   1330.751464\n",
       "25%    1995.250000   2663.980880\n",
       "50%    2001.500000   3456.909009\n",
       "75%    2007.750000   8966.645954\n",
       "max    2014.000000  14487.279870"
      ]
     },
     "execution_count": 81,
     "metadata": {},
     "output_type": "execute_result"
    }
   ],
   "source": [
    "df_rus_gdpc.describe()"
   ]
  },
  {
   "cell_type": "code",
   "execution_count": 82,
   "metadata": {
    "collapsed": false
   },
   "outputs": [
    {
     "data": {
      "text/plain": [
       "3456.9090088623598"
      ]
     },
     "execution_count": 82,
     "metadata": {},
     "output_type": "execute_result"
    }
   ],
   "source": [
    "df_rus_gdpc['Value'].median()"
   ]
  },
  {
   "cell_type": "code",
   "execution_count": 83,
   "metadata": {
    "collapsed": false
   },
   "outputs": [
    {
     "data": {
      "text/html": [
       "<div>\n",
       "<table border=\"1\" class=\"dataframe\">\n",
       "  <thead>\n",
       "    <tr style=\"text-align: right;\">\n",
       "      <th></th>\n",
       "      <th>Year</th>\n",
       "      <th>Value</th>\n",
       "    </tr>\n",
       "  </thead>\n",
       "  <tbody>\n",
       "    <tr>\n",
       "      <th>count</th>\n",
       "      <td>55.000000</td>\n",
       "      <td>55.000000</td>\n",
       "    </tr>\n",
       "    <tr>\n",
       "      <th>mean</th>\n",
       "      <td>1987.000000</td>\n",
       "      <td>1111.463452</td>\n",
       "    </tr>\n",
       "    <tr>\n",
       "      <th>std</th>\n",
       "      <td>16.020819</td>\n",
       "      <td>1834.914657</td>\n",
       "    </tr>\n",
       "    <tr>\n",
       "      <th>min</th>\n",
       "      <td>1960.000000</td>\n",
       "      <td>70.122082</td>\n",
       "    </tr>\n",
       "    <tr>\n",
       "      <th>25%</th>\n",
       "      <td>1973.500000</td>\n",
       "      <td>155.131534</td>\n",
       "    </tr>\n",
       "    <tr>\n",
       "      <th>50%</th>\n",
       "      <td>1987.000000</td>\n",
       "      <td>282.056783</td>\n",
       "    </tr>\n",
       "    <tr>\n",
       "      <th>75%</th>\n",
       "      <td>2000.500000</td>\n",
       "      <td>1001.015077</td>\n",
       "    </tr>\n",
       "    <tr>\n",
       "      <th>max</th>\n",
       "      <td>2014.000000</td>\n",
       "      <td>7590.016441</td>\n",
       "    </tr>\n",
       "  </tbody>\n",
       "</table>\n",
       "</div>"
      ],
      "text/plain": [
       "              Year        Value\n",
       "count    55.000000    55.000000\n",
       "mean   1987.000000  1111.463452\n",
       "std      16.020819  1834.914657\n",
       "min    1960.000000    70.122082\n",
       "25%    1973.500000   155.131534\n",
       "50%    1987.000000   282.056783\n",
       "75%    2000.500000  1001.015077\n",
       "max    2014.000000  7590.016441"
      ]
     },
     "execution_count": 83,
     "metadata": {},
     "output_type": "execute_result"
    }
   ],
   "source": [
    "df_chi_gdpc.describe()"
   ]
  },
  {
   "cell_type": "code",
   "execution_count": 84,
   "metadata": {
    "collapsed": false
   },
   "outputs": [
    {
     "data": {
      "text/plain": [
       "282.056782845448"
      ]
     },
     "execution_count": 84,
     "metadata": {},
     "output_type": "execute_result"
    }
   ],
   "source": [
    "df_chi_gdpc['Value'].median()"
   ]
  },
  {
   "cell_type": "markdown",
   "metadata": {},
   "source": [
    "### Percentage of Government Seats Held By Women Statistics"
   ]
  },
  {
   "cell_type": "markdown",
   "metadata": {},
   "source": [
    "The Percentage of Government Seats Held By Women is a measure of the government positions, typically seats in parliament or a similar legislative body, that are held by women divided by how many are held in total.  This results in a proportion that is represented as a percentage.  There were 57 total reported values across all three countries, with each country reporting once in 1990, and then once again every year from 1997 to 2015.  The mean for all years across all three countries is 16.1%, and the median is 16.3%.  The minimum value across all countries is 6.6% and the maximum is 23.6%.  The standard deviation is 4.8% of government seats held by women.  \n",
    "  \n",
    "For the US, the values ranged from 6.6% to 19.4% with a mean of 15.3% and a median of 16.3%.  The standard deviation for the US is 3.1% of government seats held by women.  \n",
    "  \n",
    "For Russia, the values ranged from 7.6% to 15.6% with a mean of 11.6% and a median of 13.6%.  The standard deviation for Russia is 2.7% of government seats held by women.  \n",
    "  \n",
    "For China, the values ranged from 20.2% to 23.6% with a mean of 21.5% and a median of 21.3%.  The standard deviation for China is 1.0% of government seats held by women.  \n",
    "  \n",
    "These statistics are meaningful because they give us an initial raw glimpse at where each country stacks up when compared against each other in a general sense.  While the US does seem to be slightly higher than Russia, the real standout here is how consistently high China's values are.  Where the other two countries both had lows around 6.6% and 7.6% respectively, the lowest China ever got was 20.2%.  With a mean of 21.5% and a standard deviation of only 1.0% China has clearly separated itself as a country that has consistently elected or appointed women to government positions much more often than the US or Russia.  That being said, despite women comprising around 50% or more of the population not even China has ever had more than 23.6% of its government seats held by women so there is a ways to go for every country in this regard.  \n",
    "  \n",
    "Below we will include the Python code that provided the statistics reported:\n"
   ]
  },
  {
   "cell_type": "code",
   "execution_count": 85,
   "metadata": {
    "collapsed": true
   },
   "outputs": [],
   "source": [
    "df_3_wip = df_3[df_3['IndicatorCode']=='SG.GEN.PARL.ZS']\n",
    "df_us_wip = df_us[df_us['IndicatorCode']=='SG.GEN.PARL.ZS']\n",
    "df_rus_wip = df_rus[df_rus['IndicatorCode']=='SG.GEN.PARL.ZS']\n",
    "df_chi_wip = df_chi[df_chi['IndicatorCode']=='SG.GEN.PARL.ZS']"
   ]
  },
  {
   "cell_type": "code",
   "execution_count": 86,
   "metadata": {
    "collapsed": false
   },
   "outputs": [
    {
     "data": {
      "text/html": [
       "<div>\n",
       "<table border=\"1\" class=\"dataframe\">\n",
       "  <thead>\n",
       "    <tr style=\"text-align: right;\">\n",
       "      <th></th>\n",
       "      <th>Year</th>\n",
       "      <th>Value</th>\n",
       "    </tr>\n",
       "  </thead>\n",
       "  <tbody>\n",
       "    <tr>\n",
       "      <th>count</th>\n",
       "      <td>57.000000</td>\n",
       "      <td>57.000000</td>\n",
       "    </tr>\n",
       "    <tr>\n",
       "      <th>mean</th>\n",
       "      <td>2005.543860</td>\n",
       "      <td>16.127683</td>\n",
       "    </tr>\n",
       "    <tr>\n",
       "      <th>std</th>\n",
       "      <td>6.408896</td>\n",
       "      <td>4.790468</td>\n",
       "    </tr>\n",
       "    <tr>\n",
       "      <th>min</th>\n",
       "      <td>1990.000000</td>\n",
       "      <td>6.600000</td>\n",
       "    </tr>\n",
       "    <tr>\n",
       "      <th>25%</th>\n",
       "      <td>2001.000000</td>\n",
       "      <td>13.600000</td>\n",
       "    </tr>\n",
       "    <tr>\n",
       "      <th>50%</th>\n",
       "      <td>2006.000000</td>\n",
       "      <td>16.300000</td>\n",
       "    </tr>\n",
       "    <tr>\n",
       "      <th>75%</th>\n",
       "      <td>2011.000000</td>\n",
       "      <td>20.600000</td>\n",
       "    </tr>\n",
       "    <tr>\n",
       "      <th>max</th>\n",
       "      <td>2015.000000</td>\n",
       "      <td>23.622846</td>\n",
       "    </tr>\n",
       "  </tbody>\n",
       "</table>\n",
       "</div>"
      ],
      "text/plain": [
       "              Year      Value\n",
       "count    57.000000  57.000000\n",
       "mean   2005.543860  16.127683\n",
       "std       6.408896   4.790468\n",
       "min    1990.000000   6.600000\n",
       "25%    2001.000000  13.600000\n",
       "50%    2006.000000  16.300000\n",
       "75%    2011.000000  20.600000\n",
       "max    2015.000000  23.622846"
      ]
     },
     "execution_count": 86,
     "metadata": {},
     "output_type": "execute_result"
    }
   ],
   "source": [
    "df_3_wip.describe()"
   ]
  },
  {
   "cell_type": "code",
   "execution_count": 87,
   "metadata": {
    "collapsed": false
   },
   "outputs": [
    {
     "data": {
      "text/plain": [
       "16.3"
      ]
     },
     "execution_count": 87,
     "metadata": {},
     "output_type": "execute_result"
    }
   ],
   "source": [
    "df_3_wip['Value'].median()"
   ]
  },
  {
   "cell_type": "code",
   "execution_count": 88,
   "metadata": {
    "collapsed": false
   },
   "outputs": [
    {
     "data": {
      "text/html": [
       "<div>\n",
       "<table border=\"1\" class=\"dataframe\">\n",
       "  <thead>\n",
       "    <tr style=\"text-align: right;\">\n",
       "      <th></th>\n",
       "      <th>Year</th>\n",
       "      <th>Value</th>\n",
       "    </tr>\n",
       "  </thead>\n",
       "  <tbody>\n",
       "    <tr>\n",
       "      <th>count</th>\n",
       "      <td>19.000000</td>\n",
       "      <td>19.000000</td>\n",
       "    </tr>\n",
       "    <tr>\n",
       "      <th>mean</th>\n",
       "      <td>2005.473684</td>\n",
       "      <td>15.294713</td>\n",
       "    </tr>\n",
       "    <tr>\n",
       "      <th>std</th>\n",
       "      <td>6.602764</td>\n",
       "      <td>3.077388</td>\n",
       "    </tr>\n",
       "    <tr>\n",
       "      <th>min</th>\n",
       "      <td>1990.000000</td>\n",
       "      <td>6.600000</td>\n",
       "    </tr>\n",
       "    <tr>\n",
       "      <th>25%</th>\n",
       "      <td>2001.500000</td>\n",
       "      <td>13.900000</td>\n",
       "    </tr>\n",
       "    <tr>\n",
       "      <th>50%</th>\n",
       "      <td>2006.000000</td>\n",
       "      <td>16.300000</td>\n",
       "    </tr>\n",
       "    <tr>\n",
       "      <th>75%</th>\n",
       "      <td>2010.500000</td>\n",
       "      <td>16.900000</td>\n",
       "    </tr>\n",
       "    <tr>\n",
       "      <th>max</th>\n",
       "      <td>2015.000000</td>\n",
       "      <td>19.399538</td>\n",
       "    </tr>\n",
       "  </tbody>\n",
       "</table>\n",
       "</div>"
      ],
      "text/plain": [
       "              Year      Value\n",
       "count    19.000000  19.000000\n",
       "mean   2005.473684  15.294713\n",
       "std       6.602764   3.077388\n",
       "min    1990.000000   6.600000\n",
       "25%    2001.500000  13.900000\n",
       "50%    2006.000000  16.300000\n",
       "75%    2010.500000  16.900000\n",
       "max    2015.000000  19.399538"
      ]
     },
     "execution_count": 88,
     "metadata": {},
     "output_type": "execute_result"
    }
   ],
   "source": [
    "df_us_wip.describe()"
   ]
  },
  {
   "cell_type": "code",
   "execution_count": 89,
   "metadata": {
    "collapsed": false
   },
   "outputs": [
    {
     "data": {
      "text/plain": [
       "16.3"
      ]
     },
     "execution_count": 89,
     "metadata": {},
     "output_type": "execute_result"
    }
   ],
   "source": [
    "df_us_wip['Value'].median()"
   ]
  },
  {
   "cell_type": "code",
   "execution_count": 90,
   "metadata": {
    "collapsed": false
   },
   "outputs": [
    {
     "data": {
      "text/html": [
       "<div>\n",
       "<table border=\"1\" class=\"dataframe\">\n",
       "  <thead>\n",
       "    <tr style=\"text-align: right;\">\n",
       "      <th></th>\n",
       "      <th>Year</th>\n",
       "      <th>Value</th>\n",
       "    </tr>\n",
       "  </thead>\n",
       "  <tbody>\n",
       "    <tr>\n",
       "      <th>count</th>\n",
       "      <td>19.000000</td>\n",
       "      <td>19.000000</td>\n",
       "    </tr>\n",
       "    <tr>\n",
       "      <th>mean</th>\n",
       "      <td>2005.526316</td>\n",
       "      <td>11.571345</td>\n",
       "    </tr>\n",
       "    <tr>\n",
       "      <th>std</th>\n",
       "      <td>6.552085</td>\n",
       "      <td>2.745690</td>\n",
       "    </tr>\n",
       "    <tr>\n",
       "      <th>min</th>\n",
       "      <td>1990.000000</td>\n",
       "      <td>7.600000</td>\n",
       "    </tr>\n",
       "    <tr>\n",
       "      <th>25%</th>\n",
       "      <td>2001.500000</td>\n",
       "      <td>9.800000</td>\n",
       "    </tr>\n",
       "    <tr>\n",
       "      <th>50%</th>\n",
       "      <td>2006.000000</td>\n",
       "      <td>13.555556</td>\n",
       "    </tr>\n",
       "    <tr>\n",
       "      <th>75%</th>\n",
       "      <td>2010.500000</td>\n",
       "      <td>13.800000</td>\n",
       "    </tr>\n",
       "    <tr>\n",
       "      <th>max</th>\n",
       "      <td>2015.000000</td>\n",
       "      <td>15.600000</td>\n",
       "    </tr>\n",
       "  </tbody>\n",
       "</table>\n",
       "</div>"
      ],
      "text/plain": [
       "              Year      Value\n",
       "count    19.000000  19.000000\n",
       "mean   2005.526316  11.571345\n",
       "std       6.552085   2.745690\n",
       "min    1990.000000   7.600000\n",
       "25%    2001.500000   9.800000\n",
       "50%    2006.000000  13.555556\n",
       "75%    2010.500000  13.800000\n",
       "max    2015.000000  15.600000"
      ]
     },
     "execution_count": 90,
     "metadata": {},
     "output_type": "execute_result"
    }
   ],
   "source": [
    "df_rus_wip.describe()"
   ]
  },
  {
   "cell_type": "code",
   "execution_count": 91,
   "metadata": {
    "collapsed": false
   },
   "outputs": [
    {
     "data": {
      "text/plain": [
       "13.555555555555598"
      ]
     },
     "execution_count": 91,
     "metadata": {},
     "output_type": "execute_result"
    }
   ],
   "source": [
    "df_rus_wip['Value'].median()"
   ]
  },
  {
   "cell_type": "code",
   "execution_count": 92,
   "metadata": {
    "collapsed": false
   },
   "outputs": [
    {
     "data": {
      "text/html": [
       "<div>\n",
       "<table border=\"1\" class=\"dataframe\">\n",
       "  <thead>\n",
       "    <tr style=\"text-align: right;\">\n",
       "      <th></th>\n",
       "      <th>Year</th>\n",
       "      <th>Value</th>\n",
       "    </tr>\n",
       "  </thead>\n",
       "  <tbody>\n",
       "    <tr>\n",
       "      <th>count</th>\n",
       "      <td>19.000000</td>\n",
       "      <td>19.000000</td>\n",
       "    </tr>\n",
       "    <tr>\n",
       "      <th>mean</th>\n",
       "      <td>2005.631579</td>\n",
       "      <td>21.516992</td>\n",
       "    </tr>\n",
       "    <tr>\n",
       "      <th>std</th>\n",
       "      <td>6.422275</td>\n",
       "      <td>1.040325</td>\n",
       "    </tr>\n",
       "    <tr>\n",
       "      <th>min</th>\n",
       "      <td>1990.000000</td>\n",
       "      <td>20.200000</td>\n",
       "    </tr>\n",
       "    <tr>\n",
       "      <th>25%</th>\n",
       "      <td>2001.500000</td>\n",
       "      <td>20.950000</td>\n",
       "    </tr>\n",
       "    <tr>\n",
       "      <th>50%</th>\n",
       "      <td>2006.000000</td>\n",
       "      <td>21.300000</td>\n",
       "    </tr>\n",
       "    <tr>\n",
       "      <th>75%</th>\n",
       "      <td>2010.500000</td>\n",
       "      <td>21.800000</td>\n",
       "    </tr>\n",
       "    <tr>\n",
       "      <th>max</th>\n",
       "      <td>2015.000000</td>\n",
       "      <td>23.622846</td>\n",
       "    </tr>\n",
       "  </tbody>\n",
       "</table>\n",
       "</div>"
      ],
      "text/plain": [
       "              Year      Value\n",
       "count    19.000000  19.000000\n",
       "mean   2005.631579  21.516992\n",
       "std       6.422275   1.040325\n",
       "min    1990.000000  20.200000\n",
       "25%    2001.500000  20.950000\n",
       "50%    2006.000000  21.300000\n",
       "75%    2010.500000  21.800000\n",
       "max    2015.000000  23.622846"
      ]
     },
     "execution_count": 92,
     "metadata": {},
     "output_type": "execute_result"
    }
   ],
   "source": [
    "df_chi_wip.describe()"
   ]
  },
  {
   "cell_type": "code",
   "execution_count": 93,
   "metadata": {
    "collapsed": false
   },
   "outputs": [
    {
     "data": {
      "text/plain": [
       "21.3"
      ]
     },
     "execution_count": 93,
     "metadata": {},
     "output_type": "execute_result"
    }
   ],
   "source": [
    "df_chi_wip['Value'].median()"
   ]
  },
  {
   "cell_type": "markdown",
   "metadata": {},
   "source": [
    "### Labor Force Participation Rate Statistics"
   ]
  },
  {
   "cell_type": "markdown",
   "metadata": {},
   "source": [
    "The Labor Force Participation Rate is a percentage value representing how many labor-ready members of the population are working or looking for work divided by the labor-ready members of the population in total.  In this way it measures how many people within a given country that can work are currently either working or looking for work.  There were 75 values reported across all three countries, with each country reporting one value per year every year from 1990 to 2014.  The mean for all years across all three countries is 74.7% and the median is 74.1%.  The minimum value across all countries is 65.2% and the maximum is 84.8%.  The standard deviation is 5.5%.  \n",
    "  \n",
    "For the US, the values ranged from 68.8% to 75.4% with a mean of 72.5% and a median of 73.0%. The standard deviation for the US is 2.0%.  \n",
    "  \n",
    "For Russia, the values ranged from 65.2% to 76.3% with a mean of 70.1% and a median of 70.0%.  The standard deviation for Russia is 2.7%.  \n",
    "  \n",
    "For China, the values ranged from 77.6% to 84.8% with a mean of 81.5% and a median of 81.7%.  The standard deviation for China is 2.9%.  \n",
    "  \n",
    "These statistics are meaningful because they give us an initial raw glimpse at where each country stacks up when compared against each other in a general sense.  Similar to some of the statistics investigated earlier, Russia and the US seem to be relatively close to one another while China is a real standout.  The minimum, mean, and median value for China are all nearly ten percent higher than the equivalent statistics for the US.  The standard deviation for all three countries is very similar so these differences seem to be solid and cannot be written off as simple variation within the data.  It will be interesting to see in the graphs if this large gap is steady or has grown/shrunk in recent years.  \n",
    "  \n",
    "Below we will include the Python code that provided the statistics reported:"
   ]
  },
  {
   "cell_type": "code",
   "execution_count": 94,
   "metadata": {
    "collapsed": true
   },
   "outputs": [],
   "source": [
    "df_3_lfp = df_3[df_3['IndicatorCode']=='SL.TLF.CACT.MA.ZS']\n",
    "df_us_lfp = df_us[df_us['IndicatorCode']=='SL.TLF.CACT.MA.ZS']\n",
    "df_rus_lfp = df_rus[df_rus['IndicatorCode']=='SL.TLF.CACT.MA.ZS']\n",
    "df_chi_lfp = df_chi[df_chi['IndicatorCode']=='SL.TLF.CACT.MA.ZS']"
   ]
  },
  {
   "cell_type": "code",
   "execution_count": 95,
   "metadata": {
    "collapsed": false
   },
   "outputs": [
    {
     "data": {
      "text/html": [
       "<div>\n",
       "<table border=\"1\" class=\"dataframe\">\n",
       "  <thead>\n",
       "    <tr style=\"text-align: right;\">\n",
       "      <th></th>\n",
       "      <th>Year</th>\n",
       "      <th>Value</th>\n",
       "    </tr>\n",
       "  </thead>\n",
       "  <tbody>\n",
       "    <tr>\n",
       "      <th>count</th>\n",
       "      <td>75.000000</td>\n",
       "      <td>75.000000</td>\n",
       "    </tr>\n",
       "    <tr>\n",
       "      <th>mean</th>\n",
       "      <td>2002.000000</td>\n",
       "      <td>74.706667</td>\n",
       "    </tr>\n",
       "    <tr>\n",
       "      <th>std</th>\n",
       "      <td>7.259663</td>\n",
       "      <td>5.537082</td>\n",
       "    </tr>\n",
       "    <tr>\n",
       "      <th>min</th>\n",
       "      <td>1990.000000</td>\n",
       "      <td>65.199997</td>\n",
       "    </tr>\n",
       "    <tr>\n",
       "      <th>25%</th>\n",
       "      <td>1996.000000</td>\n",
       "      <td>70.449997</td>\n",
       "    </tr>\n",
       "    <tr>\n",
       "      <th>50%</th>\n",
       "      <td>2002.000000</td>\n",
       "      <td>74.099998</td>\n",
       "    </tr>\n",
       "    <tr>\n",
       "      <th>75%</th>\n",
       "      <td>2008.000000</td>\n",
       "      <td>78.350002</td>\n",
       "    </tr>\n",
       "    <tr>\n",
       "      <th>max</th>\n",
       "      <td>2014.000000</td>\n",
       "      <td>84.800003</td>\n",
       "    </tr>\n",
       "  </tbody>\n",
       "</table>\n",
       "</div>"
      ],
      "text/plain": [
       "              Year      Value\n",
       "count    75.000000  75.000000\n",
       "mean   2002.000000  74.706667\n",
       "std       7.259663   5.537082\n",
       "min    1990.000000  65.199997\n",
       "25%    1996.000000  70.449997\n",
       "50%    2002.000000  74.099998\n",
       "75%    2008.000000  78.350002\n",
       "max    2014.000000  84.800003"
      ]
     },
     "execution_count": 95,
     "metadata": {},
     "output_type": "execute_result"
    }
   ],
   "source": [
    "df_3_lfp.describe()"
   ]
  },
  {
   "cell_type": "code",
   "execution_count": 96,
   "metadata": {
    "collapsed": false
   },
   "outputs": [
    {
     "data": {
      "text/plain": [
       "74.099998474121"
      ]
     },
     "execution_count": 96,
     "metadata": {},
     "output_type": "execute_result"
    }
   ],
   "source": [
    "df_3_lfp['Value'].median()"
   ]
  },
  {
   "cell_type": "code",
   "execution_count": 97,
   "metadata": {
    "collapsed": false
   },
   "outputs": [
    {
     "data": {
      "text/html": [
       "<div>\n",
       "<table border=\"1\" class=\"dataframe\">\n",
       "  <thead>\n",
       "    <tr style=\"text-align: right;\">\n",
       "      <th></th>\n",
       "      <th>Year</th>\n",
       "      <th>Value</th>\n",
       "    </tr>\n",
       "  </thead>\n",
       "  <tbody>\n",
       "    <tr>\n",
       "      <th>count</th>\n",
       "      <td>25.000000</td>\n",
       "      <td>25.000000</td>\n",
       "    </tr>\n",
       "    <tr>\n",
       "      <th>mean</th>\n",
       "      <td>2002.000000</td>\n",
       "      <td>72.536000</td>\n",
       "    </tr>\n",
       "    <tr>\n",
       "      <th>std</th>\n",
       "      <td>7.359801</td>\n",
       "      <td>2.041420</td>\n",
       "    </tr>\n",
       "    <tr>\n",
       "      <th>min</th>\n",
       "      <td>1990.000000</td>\n",
       "      <td>68.800003</td>\n",
       "    </tr>\n",
       "    <tr>\n",
       "      <th>25%</th>\n",
       "      <td>1996.000000</td>\n",
       "      <td>71.699997</td>\n",
       "    </tr>\n",
       "    <tr>\n",
       "      <th>50%</th>\n",
       "      <td>2002.000000</td>\n",
       "      <td>73.000000</td>\n",
       "    </tr>\n",
       "    <tr>\n",
       "      <th>75%</th>\n",
       "      <td>2008.000000</td>\n",
       "      <td>74.099998</td>\n",
       "    </tr>\n",
       "    <tr>\n",
       "      <th>max</th>\n",
       "      <td>2014.000000</td>\n",
       "      <td>75.400002</td>\n",
       "    </tr>\n",
       "  </tbody>\n",
       "</table>\n",
       "</div>"
      ],
      "text/plain": [
       "              Year      Value\n",
       "count    25.000000  25.000000\n",
       "mean   2002.000000  72.536000\n",
       "std       7.359801   2.041420\n",
       "min    1990.000000  68.800003\n",
       "25%    1996.000000  71.699997\n",
       "50%    2002.000000  73.000000\n",
       "75%    2008.000000  74.099998\n",
       "max    2014.000000  75.400002"
      ]
     },
     "execution_count": 97,
     "metadata": {},
     "output_type": "execute_result"
    }
   ],
   "source": [
    "df_us_lfp.describe()"
   ]
  },
  {
   "cell_type": "code",
   "execution_count": 98,
   "metadata": {
    "collapsed": false
   },
   "outputs": [
    {
     "data": {
      "text/plain": [
       "73.0"
      ]
     },
     "execution_count": 98,
     "metadata": {},
     "output_type": "execute_result"
    }
   ],
   "source": [
    "df_us_lfp['Value'].median()"
   ]
  },
  {
   "cell_type": "code",
   "execution_count": 99,
   "metadata": {
    "collapsed": false
   },
   "outputs": [
    {
     "data": {
      "text/html": [
       "<div>\n",
       "<table border=\"1\" class=\"dataframe\">\n",
       "  <thead>\n",
       "    <tr style=\"text-align: right;\">\n",
       "      <th></th>\n",
       "      <th>Year</th>\n",
       "      <th>Value</th>\n",
       "    </tr>\n",
       "  </thead>\n",
       "  <tbody>\n",
       "    <tr>\n",
       "      <th>count</th>\n",
       "      <td>25.000000</td>\n",
       "      <td>25.000000</td>\n",
       "    </tr>\n",
       "    <tr>\n",
       "      <th>mean</th>\n",
       "      <td>2002.000000</td>\n",
       "      <td>70.108000</td>\n",
       "    </tr>\n",
       "    <tr>\n",
       "      <th>std</th>\n",
       "      <td>7.359801</td>\n",
       "      <td>2.714762</td>\n",
       "    </tr>\n",
       "    <tr>\n",
       "      <th>min</th>\n",
       "      <td>1990.000000</td>\n",
       "      <td>65.199997</td>\n",
       "    </tr>\n",
       "    <tr>\n",
       "      <th>25%</th>\n",
       "      <td>1996.000000</td>\n",
       "      <td>68.400002</td>\n",
       "    </tr>\n",
       "    <tr>\n",
       "      <th>50%</th>\n",
       "      <td>2002.000000</td>\n",
       "      <td>70.000000</td>\n",
       "    </tr>\n",
       "    <tr>\n",
       "      <th>75%</th>\n",
       "      <td>2008.000000</td>\n",
       "      <td>71.400002</td>\n",
       "    </tr>\n",
       "    <tr>\n",
       "      <th>max</th>\n",
       "      <td>2014.000000</td>\n",
       "      <td>76.300003</td>\n",
       "    </tr>\n",
       "  </tbody>\n",
       "</table>\n",
       "</div>"
      ],
      "text/plain": [
       "              Year      Value\n",
       "count    25.000000  25.000000\n",
       "mean   2002.000000  70.108000\n",
       "std       7.359801   2.714762\n",
       "min    1990.000000  65.199997\n",
       "25%    1996.000000  68.400002\n",
       "50%    2002.000000  70.000000\n",
       "75%    2008.000000  71.400002\n",
       "max    2014.000000  76.300003"
      ]
     },
     "execution_count": 99,
     "metadata": {},
     "output_type": "execute_result"
    }
   ],
   "source": [
    "df_rus_lfp.describe()"
   ]
  },
  {
   "cell_type": "code",
   "execution_count": 100,
   "metadata": {
    "collapsed": false
   },
   "outputs": [
    {
     "data": {
      "text/plain": [
       "70.0"
      ]
     },
     "execution_count": 100,
     "metadata": {},
     "output_type": "execute_result"
    }
   ],
   "source": [
    "df_rus_lfp['Value'].median()"
   ]
  },
  {
   "cell_type": "code",
   "execution_count": 101,
   "metadata": {
    "collapsed": false
   },
   "outputs": [
    {
     "data": {
      "text/html": [
       "<div>\n",
       "<table border=\"1\" class=\"dataframe\">\n",
       "  <thead>\n",
       "    <tr style=\"text-align: right;\">\n",
       "      <th></th>\n",
       "      <th>Year</th>\n",
       "      <th>Value</th>\n",
       "    </tr>\n",
       "  </thead>\n",
       "  <tbody>\n",
       "    <tr>\n",
       "      <th>count</th>\n",
       "      <td>25.000000</td>\n",
       "      <td>25.000000</td>\n",
       "    </tr>\n",
       "    <tr>\n",
       "      <th>mean</th>\n",
       "      <td>2002.000000</td>\n",
       "      <td>81.476001</td>\n",
       "    </tr>\n",
       "    <tr>\n",
       "      <th>std</th>\n",
       "      <td>7.359801</td>\n",
       "      <td>2.885348</td>\n",
       "    </tr>\n",
       "    <tr>\n",
       "      <th>min</th>\n",
       "      <td>1990.000000</td>\n",
       "      <td>77.599998</td>\n",
       "    </tr>\n",
       "    <tr>\n",
       "      <th>25%</th>\n",
       "      <td>1996.000000</td>\n",
       "      <td>78.400002</td>\n",
       "    </tr>\n",
       "    <tr>\n",
       "      <th>50%</th>\n",
       "      <td>2002.000000</td>\n",
       "      <td>81.699997</td>\n",
       "    </tr>\n",
       "    <tr>\n",
       "      <th>75%</th>\n",
       "      <td>2008.000000</td>\n",
       "      <td>84.500000</td>\n",
       "    </tr>\n",
       "    <tr>\n",
       "      <th>max</th>\n",
       "      <td>2014.000000</td>\n",
       "      <td>84.800003</td>\n",
       "    </tr>\n",
       "  </tbody>\n",
       "</table>\n",
       "</div>"
      ],
      "text/plain": [
       "              Year      Value\n",
       "count    25.000000  25.000000\n",
       "mean   2002.000000  81.476001\n",
       "std       7.359801   2.885348\n",
       "min    1990.000000  77.599998\n",
       "25%    1996.000000  78.400002\n",
       "50%    2002.000000  81.699997\n",
       "75%    2008.000000  84.500000\n",
       "max    2014.000000  84.800003"
      ]
     },
     "execution_count": 101,
     "metadata": {},
     "output_type": "execute_result"
    }
   ],
   "source": [
    "df_chi_lfp.describe()"
   ]
  },
  {
   "cell_type": "code",
   "execution_count": 102,
   "metadata": {
    "collapsed": false
   },
   "outputs": [
    {
     "data": {
      "text/plain": [
       "81.6999969482422"
      ]
     },
     "execution_count": 102,
     "metadata": {},
     "output_type": "execute_result"
    }
   ],
   "source": [
    "df_chi_lfp['Value'].median()"
   ]
  },
  {
   "cell_type": "markdown",
   "metadata": {},
   "source": [
    "# Visualization of the Most Important Attributes"
   ]
  },
  {
   "cell_type": "markdown",
   "metadata": {
    "collapsed": true
   },
   "source": [
    "In the previous section we looked at simple statistics for the five most important attributes in our dataset.  In this section we will go further in creating visualizations for those five most important attributes and then exploring any meaning we can find within those visualizations.  \n",
    "We found that the most useful visualization ended up being three scatterplots placed side by side with each other.  Because we are directly comparing three countries data against each other this allows us for the easiest and most clear way to see each country's trend over time while comparing it with the other two."
   ]
  },
  {
   "cell_type": "markdown",
   "metadata": {},
   "source": [
    "### Adolescent Birth Rate Visualization"
   ]
  },
  {
   "cell_type": "code",
   "execution_count": 121,
   "metadata": {
    "collapsed": true
   },
   "outputs": [],
   "source": [
    "df_us_abr.columns = ['CountryName','CountryCode','IndicatorName','IndicatorCode','Year','Adolescent Birth Rate']\n",
    "df_rus_abr.columns = ['CountryName','CountryCode','IndicatorName','IndicatorCode','Year','Adolescent Birth Rate']\n",
    "df_chi_abr.columns = ['CountryName','CountryCode','IndicatorName','IndicatorCode','Year','Adolescent Birth Rate']"
   ]
  },
  {
   "cell_type": "code",
   "execution_count": 122,
   "metadata": {
    "collapsed": false
   },
   "outputs": [
    {
     "name": "stdout",
     "output_type": "stream",
     "text": [
      "Visualizing the Adolescent Birth Rate for the US, Russia, and China\n"
     ]
    },
    {
     "data": {
      "text/plain": [
       "<matplotlib.axes._subplots.AxesSubplot at 0xa6884a90>"
      ]
     },
     "execution_count": 122,
     "metadata": {},
     "output_type": "execute_result"
    },
    {
     "data": {
      "image/png": "[encoded data removed]",
      "text/plain": [
       "<matplotlib.figure.Figure at 0x5e67a0b8>"
      ]
     },
     "metadata": {},
     "output_type": "display_data"
    }
   ],
   "source": [
    "# This section of code builds upon Justin Markham and Brandon M Burrough's \"Introduction to Linear Regression\" notebook found here: https://github.com/justmarkham/DAT4/blob/master/notebooks/08_linear_regression.ipynb\n",
    "# It creates three scatter plots that can easily compare between the three countries of interest. In many cases these scatter plots form a distinguishable line such that no regression line needs to be added.\n",
    "\n",
    "print(\"Visualizing the Adolescent Birth Rate for the US, Russia, and China\")\n",
    "fig, ax = plt.subplots(1, 3, sharey=True)\n",
    "df_us_abr.plot(kind='scatter', x='Year', y='Adolescent Birth Rate', ax=ax[0], figsize=(16, 8), title='USA')\n",
    "df_rus_abr.plot(kind='scatter', x='Year', y='Adolescent Birth Rate', ax=ax[1], title='Russia')\n",
    "df_chi_abr.plot(kind='scatter', x='Year', y='Adolescent Birth Rate', ax=ax[2], title='China')\n"
   ]
  },
  {
   "cell_type": "markdown",
   "metadata": {},
   "source": [
    "### Analysis of the Adolescent Birth Rate Visualization\n",
    "As seen above, both the US and China seem to have similar trajectories, where their earliest recorded datapoint is their highest.  This means both started in 1960 with comparitively high adolescent birth rates, about 85 and 70 births per thousand population respectively.  Both countries see a sharp downward trend until about 1975, where they begin trending upwards until finally they both drop again either shortly before or shortly after 1990.  After that the only major difference observed is that China appears to have plateaued off at a low of around 8 births per thousand, while the US continues a sharp downard trend.  \n",
    "Meanwhile, Russia is noticeably different from both the US and China.  Russia starts 1960 being much lower than the others, at only 30 births per thousand, then has a longer and more steady upward trend from 1968 to 1992, where it sharply drops back to the norm of 30 births per thousand and stays there.  \n",
    "Based on this data it seems that in the early nineties there was some global event that caused a drop in adolescent births, though what exactly that event might be remains unclear."
   ]
  },
  {
   "cell_type": "markdown",
   "metadata": {},
   "source": [
    "### Gross Domestic Product (GDP) Visualization"
   ]
  },
  {
   "cell_type": "code",
   "execution_count": 119,
   "metadata": {
    "collapsed": true
   },
   "outputs": [],
   "source": [
    "df_us_gdp.columns = ['CountryName','CountryCode','IndicatorName','IndicatorCode','Year','Gross Domestic Product (GDP)']\n",
    "df_rus_gdp.columns = ['CountryName','CountryCode','IndicatorName','IndicatorCode','Year','Gross Domestic Product (GDP)']\n",
    "df_chi_gdp.columns = ['CountryName','CountryCode','IndicatorName','IndicatorCode','Year','Gross Domestic Product (GDP)']"
   ]
  },
  {
   "cell_type": "code",
   "execution_count": 120,
   "metadata": {
    "collapsed": false,
    "scrolled": false
   },
   "outputs": [
    {
     "name": "stdout",
     "output_type": "stream",
     "text": [
      "Visualizing Gross Domestic Product (GDP) for the US, Russia, and China\n"
     ]
    },
    {
     "data": {
      "text/plain": [
       "<matplotlib.axes._subplots.AxesSubplot at 0x89001eb8>"
      ]
     },
     "execution_count": 120,
     "metadata": {},
     "output_type": "execute_result"
    },
    {
     "data": {
      "image/png": "[encoded data removed]",
      "text/plain": [
       "<matplotlib.figure.Figure at 0x6cdea6d8>"
      ]
     },
     "metadata": {},
     "output_type": "display_data"
    }
   ],
   "source": [
    "print(\"Visualizing Gross Domestic Product (GDP) for the US, Russia, and China\")\n",
    "fig, ax = plt.subplots(1, 3, sharey=True, sharex=True)\n",
    "df_us_gdp.plot(kind='scatter', x='Year', y='Gross Domestic Product (GDP)', ax=ax[0], figsize=(16, 8), title='USA')\n",
    "df_rus_gdp.plot(kind='scatter', x='Year', y='Gross Domestic Product (GDP)', ax=ax[1], title='Russia')\n",
    "df_chi_gdp.plot(kind='scatter', x='Year', y='Gross Domestic Product (GDP)', ax=ax[2], title='China')"
   ]
  },
  {
   "cell_type": "markdown",
   "metadata": {},
   "source": [
    "### Analysis of the Gross Domestic Product (GDP) Visualization  \n",
    "The US is clearly different from both other countries, enjoying an upward trend that saw them grow from 543 Billion (0.0543e+13) Current US Dollars in 1960 to over 17.4 Trillion (1.74e+13) in 2014.  The growth was always upward, but hit an obvious inflection point around 1975 where the growth accelerated to a rapid rate that continued to climb aside from a slight blip near the onset of the 2008 housing crisis.  \n",
    "While we do not have data for Russia prior to 1989, the data we do have tells a completely different story from the US.  Russia actually was in a slight downward trend until it shuffled into a slight upward trend around the turn of the millenium.  Even so, the upward movement stalled around 2007 and has yet to really recover, still hovering around 2 Trillion USD.  \n",
    "China appears to be a combination of the other two countries, where it starts off with decades of little to no growth, begins expanding in the early nineties, then explodes into a growth rate as strong or stronger than the US in the mid-2000's.  In fact, China's GDP doubled from 5.06 Trillion USD in 2009 (0.506e+13) to 10.4 Trillion USD in 2014 (1.04e+13).\n"
   ]
  },
  {
   "cell_type": "markdown",
   "metadata": {},
   "source": [
    "### GDP Per Capita Visualization"
   ]
  },
  {
   "cell_type": "code",
   "execution_count": 126,
   "metadata": {
    "collapsed": true
   },
   "outputs": [],
   "source": [
    "df_us_gdpc.columns = ['CountryName','CountryCode','IndicatorName','IndicatorCode','Year','Gross Domestic Product (GDP) Per Capita']\n",
    "df_rus_gdpc.columns = ['CountryName','CountryCode','IndicatorName','IndicatorCode','Year','Gross Domestic Product (GDP) Per Capita']\n",
    "df_chi_gdpc.columns = ['CountryName','CountryCode','IndicatorName','IndicatorCode','Year','Gross Domestic Product (GDP) Per Capita']"
   ]
  },
  {
   "cell_type": "code",
   "execution_count": 127,
   "metadata": {
    "collapsed": false,
    "scrolled": false
   },
   "outputs": [
    {
     "name": "stdout",
     "output_type": "stream",
     "text": [
      "Visualizing Gross Domestic Product (GDP) Per Capita for the US, Russia, and China\n"
     ]
    },
    {
     "data": {
      "text/plain": [
       "<matplotlib.axes._subplots.AxesSubplot at 0xd5d9b00>"
      ]
     },
     "execution_count": 127,
     "metadata": {},
     "output_type": "execute_result"
    },
    {
     "data": {
      "image/png": "[encoded data removed]",
      "text/plain": [
       "<matplotlib.figure.Figure at 0xc6682e8>"
      ]
     },
     "metadata": {},
     "output_type": "display_data"
    }
   ],
   "source": [
    "print(\"Visualizing Gross Domestic Product (GDP) Per Capita for the US, Russia, and China\")\n",
    "fig, ax = plt.subplots(1, 3, sharey=True, sharex=True)\n",
    "df_us_gdpc.plot(kind='scatter', x='Year', y='Gross Domestic Product (GDP) Per Capita', ax=ax[0], figsize=(16, 8), title='USA')\n",
    "df_rus_gdpc.plot(kind='scatter', x='Year', y='Gross Domestic Product (GDP) Per Capita', ax=ax[1], title='Russia')\n",
    "df_chi_gdpc.plot(kind='scatter', x='Year', y='Gross Domestic Product (GDP) Per Capita', ax=ax[2], title='China')"
   ]
  },
  {
   "cell_type": "markdown",
   "metadata": {},
   "source": [
    "### Analysis of the GDP Per Capita Visualization  \n",
    "For the US, the slope of the GDP Per Capita seems to match that of the total GDP, suggesting that all of the economic growth seen during that time kept pace with the country's population. The latest recorded GDP per captita in the US, $54,629 per person, is over four times the current value for Russia ($12,735 per person), and over seven times the current value for China ($7,590 per person).  \n",
    "Russia's trend for GDP per capita also seems to match its trend for total GDP, and if anything the per capita has grown slightly more than the total.  China's GDP per capita, however, seems to be much flatter than the total GDP right up until the country enjoyed its second, more pronounced change in growth rate in the mid-2000's.  This could suggest that only very strong economic growth could measurably increase GDP per capita when your country has a very large population like China's.\n"
   ]
  },
  {
   "cell_type": "markdown",
   "metadata": {},
   "source": [
    "### Percentage of Government Seats Held By Women Visualization"
   ]
  },
  {
   "cell_type": "code",
   "execution_count": 115,
   "metadata": {
    "collapsed": true
   },
   "outputs": [],
   "source": [
    "df_us_wip.columns = ['CountryName','CountryCode','IndicatorName','IndicatorCode','Year','Percentage of Government Positions Held By Women']\n",
    "df_rus_wip.columns = ['CountryName','CountryCode','IndicatorName','IndicatorCode','Year','Percentage of Government Positions Held By Women']\n",
    "df_chi_wip.columns = ['CountryName','CountryCode','IndicatorName','IndicatorCode','Year','Percentage of Government Positions Held By Women']"
   ]
  },
  {
   "cell_type": "code",
   "execution_count": 116,
   "metadata": {
    "collapsed": false
   },
   "outputs": [
    {
     "name": "stdout",
     "output_type": "stream",
     "text": [
      "Visualizing The Percentage of Government Positions Held By Women for the US, Russia, and China\n"
     ]
    },
    {
     "data": {
      "text/plain": [
       "<matplotlib.axes._subplots.AxesSubplot at 0x83b869e8>"
      ]
     },
     "execution_count": 116,
     "metadata": {},
     "output_type": "execute_result"
    },
    {
     "data": {
      "image/png": "[encoded data removed]",
      "text/plain": [
       "<matplotlib.figure.Figure at 0x6ce11518>"
      ]
     },
     "metadata": {},
     "output_type": "display_data"
    }
   ],
   "source": [
    "print(\"Visualizing The Percentage of Government Positions Held By Women for the US, Russia, and China\")\n",
    "fig, ax = plt.subplots(1, 3, sharey=True)\n",
    "df_us_wip.plot(kind='scatter', x='Year', y='Percentage of Government Positions Held By Women', ax=ax[0], figsize=(16, 8), title='USA')\n",
    "df_rus_wip.plot(kind='scatter', x='Year', y='Percentage of Government Positions Held By Women', ax=ax[1], title='Russia')\n",
    "df_chi_wip.plot(kind='scatter', x='Year', y='Percentage of Government Positions Held By Women', ax=ax[2], title='China')"
   ]
  },
  {
   "cell_type": "markdown",
   "metadata": {},
   "source": [
    "### Analysis of the Percentage of Government Seats Held By Women Visualization  \n",
    "None of these countries seem to have gathered data between 1990 and 1996, and the earliest datapoint is from 1990 so this attribute is relatively recent.  This causes the lone datapoint 1990 to appear to be an outlier.  This does not seem to pose much of an issue for China, where the value in 1990 matches the general 20-25% participation rate that it has always had.  It does not appear to be of much concern for the US either, as even though it is far lower than any other values it does stay along the linear trend of of the growth.  Russia, however, sees this outlier as being higher than any other point and not clearly part of a simple linear trend (more of a quadratic U-shaped trend).  \n",
    "Keeping that in mind, the US has a steady upward trend of growth from around 7 percent participation in 1990 to nearly 20 percent participation in 2015.  This is higher than Russia, which aside from the lone 1990 datapoint has never risen higher than 14 percent participation and seems to be steady or dropping rather than rising based on the most recent trends.  China, however, has gone slightly up and down but has never dropped below 20 percent participation."
   ]
  },
  {
   "cell_type": "markdown",
   "metadata": {},
   "source": [
    "### Labor Force Participation Rate Visualization"
   ]
  },
  {
   "cell_type": "code",
   "execution_count": 113,
   "metadata": {
    "collapsed": false
   },
   "outputs": [
    {
     "data": {
      "text/html": [
       "<div>\n",
       "<table border=\"1\" class=\"dataframe\">\n",
       "  <thead>\n",
       "    <tr style=\"text-align: right;\">\n",
       "      <th></th>\n",
       "      <th>CountryName</th>\n",
       "      <th>CountryCode</th>\n",
       "      <th>IndicatorName</th>\n",
       "      <th>IndicatorCode</th>\n",
       "      <th>Year</th>\n",
       "      <th>Labor Force Participation Rate</th>\n",
       "    </tr>\n",
       "  </thead>\n",
       "  <tbody>\n",
       "    <tr>\n",
       "      <th>1993011</th>\n",
       "      <td>United States</td>\n",
       "      <td>USA</td>\n",
       "      <td>Labor force participation rate, male (% of mal...</td>\n",
       "      <td>SL.TLF.CACT.MA.ZS</td>\n",
       "      <td>1990</td>\n",
       "      <td>75.400002</td>\n",
       "    </tr>\n",
       "    <tr>\n",
       "      <th>2108966</th>\n",
       "      <td>United States</td>\n",
       "      <td>USA</td>\n",
       "      <td>Labor force participation rate, male (% of mal...</td>\n",
       "      <td>SL.TLF.CACT.MA.ZS</td>\n",
       "      <td>1991</td>\n",
       "      <td>74.699997</td>\n",
       "    </tr>\n",
       "    <tr>\n",
       "      <th>2230233</th>\n",
       "      <td>United States</td>\n",
       "      <td>USA</td>\n",
       "      <td>Labor force participation rate, male (% of mal...</td>\n",
       "      <td>SL.TLF.CACT.MA.ZS</td>\n",
       "      <td>1992</td>\n",
       "      <td>74.699997</td>\n",
       "    </tr>\n",
       "    <tr>\n",
       "      <th>2353992</th>\n",
       "      <td>United States</td>\n",
       "      <td>USA</td>\n",
       "      <td>Labor force participation rate, male (% of mal...</td>\n",
       "      <td>SL.TLF.CACT.MA.ZS</td>\n",
       "      <td>1993</td>\n",
       "      <td>74.300003</td>\n",
       "    </tr>\n",
       "    <tr>\n",
       "      <th>2479667</th>\n",
       "      <td>United States</td>\n",
       "      <td>USA</td>\n",
       "      <td>Labor force participation rate, male (% of mal...</td>\n",
       "      <td>SL.TLF.CACT.MA.ZS</td>\n",
       "      <td>1994</td>\n",
       "      <td>74.099998</td>\n",
       "    </tr>\n",
       "  </tbody>\n",
       "</table>\n",
       "</div>"
      ],
      "text/plain": [
       "           CountryName CountryCode  \\\n",
       "1993011  United States         USA   \n",
       "2108966  United States         USA   \n",
       "2230233  United States         USA   \n",
       "2353992  United States         USA   \n",
       "2479667  United States         USA   \n",
       "\n",
       "                                             IndicatorName      IndicatorCode  \\\n",
       "1993011  Labor force participation rate, male (% of mal...  SL.TLF.CACT.MA.ZS   \n",
       "2108966  Labor force participation rate, male (% of mal...  SL.TLF.CACT.MA.ZS   \n",
       "2230233  Labor force participation rate, male (% of mal...  SL.TLF.CACT.MA.ZS   \n",
       "2353992  Labor force participation rate, male (% of mal...  SL.TLF.CACT.MA.ZS   \n",
       "2479667  Labor force participation rate, male (% of mal...  SL.TLF.CACT.MA.ZS   \n",
       "\n",
       "         Year  Labor Force Participation Rate  \n",
       "1993011  1990                       75.400002  \n",
       "2108966  1991                       74.699997  \n",
       "2230233  1992                       74.699997  \n",
       "2353992  1993                       74.300003  \n",
       "2479667  1994                       74.099998  "
      ]
     },
     "execution_count": 113,
     "metadata": {},
     "output_type": "execute_result"
    }
   ],
   "source": [
    "df_us_lfp.columns = ['CountryName','CountryCode','IndicatorName','IndicatorCode','Year','Labor Force Participation Rate']\n",
    "df_rus_lfp.columns = ['CountryName','CountryCode','IndicatorName','IndicatorCode','Year','Labor Force Participation Rate']\n",
    "df_chi_lfp.columns = ['CountryName','CountryCode','IndicatorName','IndicatorCode','Year','Labor Force Participation Rate']"
   ]
  },
  {
   "cell_type": "code",
   "execution_count": 114,
   "metadata": {
    "collapsed": false
   },
   "outputs": [
    {
     "name": "stdout",
     "output_type": "stream",
     "text": [
      "Visualizing The Labor Force Participation Rate for the US, Russia, and China\n"
     ]
    },
    {
     "data": {
      "text/plain": [
       "<matplotlib.axes._subplots.AxesSubplot at 0x617b5c88>"
      ]
     },
     "execution_count": 114,
     "metadata": {},
     "output_type": "execute_result"
    },
    {
     "data": {
      "image/png": "[encoded data removed]",
      "text/plain": [
       "<matplotlib.figure.Figure at 0x5c50a518>"
      ]
     },
     "metadata": {},
     "output_type": "display_data"
    }
   ],
   "source": [
    "print(\"Visualizing The Labor Force Participation Rate for the US, Russia, and China\")\n",
    "fig, ax = plt.subplots(1, 3, sharey=True)\n",
    "df_us_lfp.plot(kind='scatter', x='Year', y='Labor Force Participation Rate', ax=ax[0], figsize=(16, 8), title='USA')\n",
    "df_rus_lfp.plot(kind='scatter', x='Year', y='Labor Force Participation Rate', ax=ax[1], title='Russia')\n",
    "df_chi_lfp.plot(kind='scatter', x='Year', y='Labor Force Participation Rate', ax=ax[2], title='China')"
   ]
  },
  {
   "cell_type": "markdown",
   "metadata": {},
   "source": [
    "### Analysis of the Labor Force Participation Rate Visualization  \n",
    "The US shows a steady rate between 1990 and 2000, before dropping to a pleateau of 72.5% in 2003, and dropping a second time in 2009 to about 69% where it rests today.  \n",
    "Russia shows the sharpest decline from 1990 to 1998, after which it rebounded and showed steady growth since then.  As a country it started at a high of about 76% participation, fell to a low of about 65%, and currently sits at about 72%.  \n",
    "China shows far and away the highest labor force participation rate for all times observed.  It stayed stable at nearly 85% participation before beginning a slow decline in the late nineties that saw it drop to a low of 77.5%, which it has since slightly recovered from.  China's current labor force participation rate is close to 78%.\n"
   ]
  },
  {
   "cell_type": "markdown",
   "metadata": {},
   "source": [
    "# TO DO  \n",
    "# Analyze the relationship between the important attributes\n",
    "\n",
    "### Ones that seem interesting might include the following:\n",
    "1. Comparing GDP with GDP per Capita\n",
    "2. Comparing Adolescent Birth Rate with Women holding seats in government\n",
    "3. Comparing labor force participation rate with GDP\n",
    "4. Comparing labor force participation rate with GDP Per Capita\n",
    "5. Comparing Adolescent Birth Rate with GDP"
   ]
  },
  {
   "cell_type": "markdown",
   "metadata": {},
   "source": [
    "### Visualizing the relationship between GDP and GDP per Capita"
   ]
  },
  {
   "cell_type": "markdown",
   "metadata": {
    "collapsed": true
   },
   "source": [
    "# TO DO\n",
    "\n",
    "# Identify and Deal with Missing Values  \n",
    "\n",
    "### One Idea: We had some missing values between 1990 and 1996 for the percentage of women in government data.  I spoke a bit about it in the visualization but it could certainly be expanded upon."
   ]
  },
  {
   "cell_type": "code",
   "execution_count": null,
   "metadata": {
    "collapsed": true
   },
   "outputs": [],
   "source": []
  },
  {
   "cell_type": "code",
   "execution_count": null,
   "metadata": {
    "collapsed": true
   },
   "outputs": [],
   "source": []
  },
  {
   "cell_type": "markdown",
   "metadata": {},
   "source": [
    "# TO DO\n",
    "\n",
    "# Use Imputation to Deal with Missing Values "
   ]
  },
  {
   "cell_type": "markdown",
   "metadata": {},
   "source": [
    "# Why Imputation \n",
    "\n",
    "We are working on large data set where the data are expensive and we have many attributes/features. We can not afford to throw data out.  This could have many side effects and may cause our final analysis to be biased and incorrect. \n",
    "\n",
    "As a consensus, our team decided to use the normalized imputation method to determine how to fill in the missing data.  The easiset way to impute the missing data is to fill in the missing entries using the method taught in class.\n",
    "\n",
    "* df_normalized = (df_sub-df_sub.min())/(df_sub.max()-df_sub.min())\n",
    "* handle missing Categorical and Continuous feature variables."
   ]
  },
  {
   "cell_type": "code",
   "execution_count": null,
   "metadata": {
    "collapsed": true
   },
   "outputs": [],
   "source": []
  },
  {
   "cell_type": "markdown",
   "metadata": {},
   "source": [
    "# TO DO  \n",
    "# Identify and explain interesting relationships beteween features and the class we are trying to predict (ie, relationships with variables and the target classification)  "
   ]
  },
  {
   "cell_type": "markdown",
   "metadata": {
    "collapsed": true
   },
   "source": [
    "# TO DO  \n",
    "# Are there other features that could be added to the data or created from existing features?  Which ones?"
   ]
  },
  {
   "cell_type": "markdown",
   "metadata": {},
   "source": [
    "# TO DO  \n",
    "# Exceptional work: Logistic Regression"
   ]
  },
  {
   "cell_type": "code",
   "execution_count": null,
   "metadata": {
    "collapsed": true
   },
   "outputs": [],
   "source": []
  }
 ],
 "metadata": {
  "anaconda-cloud": {},
  "kernelspec": {
   "display_name": "Python [Root]",
   "language": "python",
   "name": "Python [Root]"
  },
  "language_info": {
   "codemirror_mode": {
    "name": "ipython",
    "version": 3
   },
   "file_extension": ".py",
   "mimetype": "text/x-python",
   "name": "python",
   "nbconvert_exporter": "python",
   "pygments_lexer": "ipython3",
   "version": "3.5.2"
  }
 },
 "nbformat": 4,
 "nbformat_minor": 0
}
