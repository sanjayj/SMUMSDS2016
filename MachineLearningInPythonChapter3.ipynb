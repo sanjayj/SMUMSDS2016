{
 "cells": [
  {
   "cell_type": "code",
   "execution_count": 1,
   "metadata": {
    "collapsed": false
   },
   "outputs": [
    {
     "name": "stdout",
     "output_type": "stream",
     "text": [
      "[[ 5.1  3.5  1.4  0.2]\n",
      " [ 4.9  3.   1.4  0.2]\n",
      " [ 4.7  3.2  1.3  0.2]\n",
      " [ 4.6  3.1  1.5  0.2]\n",
      " [ 5.   3.6  1.4  0.2]\n",
      " [ 5.4  3.9  1.7  0.4]\n",
      " [ 4.6  3.4  1.4  0.3]\n",
      " [ 5.   3.4  1.5  0.2]\n",
      " [ 4.4  2.9  1.4  0.2]\n",
      " [ 4.9  3.1  1.5  0.1]\n",
      " [ 5.4  3.7  1.5  0.2]\n",
      " [ 4.8  3.4  1.6  0.2]\n",
      " [ 4.8  3.   1.4  0.1]\n",
      " [ 4.3  3.   1.1  0.1]\n",
      " [ 5.8  4.   1.2  0.2]\n",
      " [ 5.7  4.4  1.5  0.4]\n",
      " [ 5.4  3.9  1.3  0.4]\n",
      " [ 5.1  3.5  1.4  0.3]\n",
      " [ 5.7  3.8  1.7  0.3]\n",
      " [ 5.1  3.8  1.5  0.3]\n",
      " [ 5.4  3.4  1.7  0.2]\n",
      " [ 5.1  3.7  1.5  0.4]\n",
      " [ 4.6  3.6  1.   0.2]\n",
      " [ 5.1  3.3  1.7  0.5]\n",
      " [ 4.8  3.4  1.9  0.2]\n",
      " [ 5.   3.   1.6  0.2]\n",
      " [ 5.   3.4  1.6  0.4]\n",
      " [ 5.2  3.5  1.5  0.2]\n",
      " [ 5.2  3.4  1.4  0.2]\n",
      " [ 4.7  3.2  1.6  0.2]\n",
      " [ 4.8  3.1  1.6  0.2]\n",
      " [ 5.4  3.4  1.5  0.4]\n",
      " [ 5.2  4.1  1.5  0.1]\n",
      " [ 5.5  4.2  1.4  0.2]\n",
      " [ 4.9  3.1  1.5  0.1]\n",
      " [ 5.   3.2  1.2  0.2]\n",
      " [ 5.5  3.5  1.3  0.2]\n",
      " [ 4.9  3.1  1.5  0.1]\n",
      " [ 4.4  3.   1.3  0.2]\n",
      " [ 5.1  3.4  1.5  0.2]\n",
      " [ 5.   3.5  1.3  0.3]\n",
      " [ 4.5  2.3  1.3  0.3]\n",
      " [ 4.4  3.2  1.3  0.2]\n",
      " [ 5.   3.5  1.6  0.6]\n",
      " [ 5.1  3.8  1.9  0.4]\n",
      " [ 4.8  3.   1.4  0.3]\n",
      " [ 5.1  3.8  1.6  0.2]\n",
      " [ 4.6  3.2  1.4  0.2]\n",
      " [ 5.3  3.7  1.5  0.2]\n",
      " [ 5.   3.3  1.4  0.2]\n",
      " [ 7.   3.2  4.7  1.4]\n",
      " [ 6.4  3.2  4.5  1.5]\n",
      " [ 6.9  3.1  4.9  1.5]\n",
      " [ 5.5  2.3  4.   1.3]\n",
      " [ 6.5  2.8  4.6  1.5]\n",
      " [ 5.7  2.8  4.5  1.3]\n",
      " [ 6.3  3.3  4.7  1.6]\n",
      " [ 4.9  2.4  3.3  1. ]\n",
      " [ 6.6  2.9  4.6  1.3]\n",
      " [ 5.2  2.7  3.9  1.4]\n",
      " [ 5.   2.   3.5  1. ]\n",
      " [ 5.9  3.   4.2  1.5]\n",
      " [ 6.   2.2  4.   1. ]\n",
      " [ 6.1  2.9  4.7  1.4]\n",
      " [ 5.6  2.9  3.6  1.3]\n",
      " [ 6.7  3.1  4.4  1.4]\n",
      " [ 5.6  3.   4.5  1.5]\n",
      " [ 5.8  2.7  4.1  1. ]\n",
      " [ 6.2  2.2  4.5  1.5]\n",
      " [ 5.6  2.5  3.9  1.1]\n",
      " [ 5.9  3.2  4.8  1.8]\n",
      " [ 6.1  2.8  4.   1.3]\n",
      " [ 6.3  2.5  4.9  1.5]\n",
      " [ 6.1  2.8  4.7  1.2]\n",
      " [ 6.4  2.9  4.3  1.3]\n",
      " [ 6.6  3.   4.4  1.4]\n",
      " [ 6.8  2.8  4.8  1.4]\n",
      " [ 6.7  3.   5.   1.7]\n",
      " [ 6.   2.9  4.5  1.5]\n",
      " [ 5.7  2.6  3.5  1. ]\n",
      " [ 5.5  2.4  3.8  1.1]\n",
      " [ 5.5  2.4  3.7  1. ]\n",
      " [ 5.8  2.7  3.9  1.2]\n",
      " [ 6.   2.7  5.1  1.6]\n",
      " [ 5.4  3.   4.5  1.5]\n",
      " [ 6.   3.4  4.5  1.6]\n",
      " [ 6.7  3.1  4.7  1.5]\n",
      " [ 6.3  2.3  4.4  1.3]\n",
      " [ 5.6  3.   4.1  1.3]\n",
      " [ 5.5  2.5  4.   1.3]\n",
      " [ 5.5  2.6  4.4  1.2]\n",
      " [ 6.1  3.   4.6  1.4]\n",
      " [ 5.8  2.6  4.   1.2]\n",
      " [ 5.   2.3  3.3  1. ]\n",
      " [ 5.6  2.7  4.2  1.3]\n",
      " [ 5.7  3.   4.2  1.2]\n",
      " [ 5.7  2.9  4.2  1.3]\n",
      " [ 6.2  2.9  4.3  1.3]\n",
      " [ 5.1  2.5  3.   1.1]\n",
      " [ 5.7  2.8  4.1  1.3]\n",
      " [ 6.3  3.3  6.   2.5]\n",
      " [ 5.8  2.7  5.1  1.9]\n",
      " [ 7.1  3.   5.9  2.1]\n",
      " [ 6.3  2.9  5.6  1.8]\n",
      " [ 6.5  3.   5.8  2.2]\n",
      " [ 7.6  3.   6.6  2.1]\n",
      " [ 4.9  2.5  4.5  1.7]\n",
      " [ 7.3  2.9  6.3  1.8]\n",
      " [ 6.7  2.5  5.8  1.8]\n",
      " [ 7.2  3.6  6.1  2.5]\n",
      " [ 6.5  3.2  5.1  2. ]\n",
      " [ 6.4  2.7  5.3  1.9]\n",
      " [ 6.8  3.   5.5  2.1]\n",
      " [ 5.7  2.5  5.   2. ]\n",
      " [ 5.8  2.8  5.1  2.4]\n",
      " [ 6.4  3.2  5.3  2.3]\n",
      " [ 6.5  3.   5.5  1.8]\n",
      " [ 7.7  3.8  6.7  2.2]\n",
      " [ 7.7  2.6  6.9  2.3]\n",
      " [ 6.   2.2  5.   1.5]\n",
      " [ 6.9  3.2  5.7  2.3]\n",
      " [ 5.6  2.8  4.9  2. ]\n",
      " [ 7.7  2.8  6.7  2. ]\n",
      " [ 6.3  2.7  4.9  1.8]\n",
      " [ 6.7  3.3  5.7  2.1]\n",
      " [ 7.2  3.2  6.   1.8]\n",
      " [ 6.2  2.8  4.8  1.8]\n",
      " [ 6.1  3.   4.9  1.8]\n",
      " [ 6.4  2.8  5.6  2.1]\n",
      " [ 7.2  3.   5.8  1.6]\n",
      " [ 7.4  2.8  6.1  1.9]\n",
      " [ 7.9  3.8  6.4  2. ]\n",
      " [ 6.4  2.8  5.6  2.2]\n",
      " [ 6.3  2.8  5.1  1.5]\n",
      " [ 6.1  2.6  5.6  1.4]\n",
      " [ 7.7  3.   6.1  2.3]\n",
      " [ 6.3  3.4  5.6  2.4]\n",
      " [ 6.4  3.1  5.5  1.8]\n",
      " [ 6.   3.   4.8  1.8]\n",
      " [ 6.9  3.1  5.4  2.1]\n",
      " [ 6.7  3.1  5.6  2.4]\n",
      " [ 6.9  3.1  5.1  2.3]\n",
      " [ 5.8  2.7  5.1  1.9]\n",
      " [ 6.8  3.2  5.9  2.3]\n",
      " [ 6.7  3.3  5.7  2.5]\n",
      " [ 6.7  3.   5.2  2.3]\n",
      " [ 6.3  2.5  5.   1.9]\n",
      " [ 6.5  3.   5.2  2. ]\n",
      " [ 6.2  3.4  5.4  2.3]\n",
      " [ 5.9  3.   5.1  1.8]]\n",
      "[[ 1.4  0.2]\n",
      " [ 1.4  0.2]\n",
      " [ 1.3  0.2]\n",
      " [ 1.5  0.2]\n",
      " [ 1.4  0.2]\n",
      " [ 1.7  0.4]\n",
      " [ 1.4  0.3]\n",
      " [ 1.5  0.2]\n",
      " [ 1.4  0.2]\n",
      " [ 1.5  0.1]\n",
      " [ 1.5  0.2]\n",
      " [ 1.6  0.2]\n",
      " [ 1.4  0.1]\n",
      " [ 1.1  0.1]\n",
      " [ 1.2  0.2]\n",
      " [ 1.5  0.4]\n",
      " [ 1.3  0.4]\n",
      " [ 1.4  0.3]\n",
      " [ 1.7  0.3]\n",
      " [ 1.5  0.3]\n",
      " [ 1.7  0.2]\n",
      " [ 1.5  0.4]\n",
      " [ 1.   0.2]\n",
      " [ 1.7  0.5]\n",
      " [ 1.9  0.2]\n",
      " [ 1.6  0.2]\n",
      " [ 1.6  0.4]\n",
      " [ 1.5  0.2]\n",
      " [ 1.4  0.2]\n",
      " [ 1.6  0.2]\n",
      " [ 1.6  0.2]\n",
      " [ 1.5  0.4]\n",
      " [ 1.5  0.1]\n",
      " [ 1.4  0.2]\n",
      " [ 1.5  0.1]\n",
      " [ 1.2  0.2]\n",
      " [ 1.3  0.2]\n",
      " [ 1.5  0.1]\n",
      " [ 1.3  0.2]\n",
      " [ 1.5  0.2]\n",
      " [ 1.3  0.3]\n",
      " [ 1.3  0.3]\n",
      " [ 1.3  0.2]\n",
      " [ 1.6  0.6]\n",
      " [ 1.9  0.4]\n",
      " [ 1.4  0.3]\n",
      " [ 1.6  0.2]\n",
      " [ 1.4  0.2]\n",
      " [ 1.5  0.2]\n",
      " [ 1.4  0.2]\n",
      " [ 4.7  1.4]\n",
      " [ 4.5  1.5]\n",
      " [ 4.9  1.5]\n",
      " [ 4.   1.3]\n",
      " [ 4.6  1.5]\n",
      " [ 4.5  1.3]\n",
      " [ 4.7  1.6]\n",
      " [ 3.3  1. ]\n",
      " [ 4.6  1.3]\n",
      " [ 3.9  1.4]\n",
      " [ 3.5  1. ]\n",
      " [ 4.2  1.5]\n",
      " [ 4.   1. ]\n",
      " [ 4.7  1.4]\n",
      " [ 3.6  1.3]\n",
      " [ 4.4  1.4]\n",
      " [ 4.5  1.5]\n",
      " [ 4.1  1. ]\n",
      " [ 4.5  1.5]\n",
      " [ 3.9  1.1]\n",
      " [ 4.8  1.8]\n",
      " [ 4.   1.3]\n",
      " [ 4.9  1.5]\n",
      " [ 4.7  1.2]\n",
      " [ 4.3  1.3]\n",
      " [ 4.4  1.4]\n",
      " [ 4.8  1.4]\n",
      " [ 5.   1.7]\n",
      " [ 4.5  1.5]\n",
      " [ 3.5  1. ]\n",
      " [ 3.8  1.1]\n",
      " [ 3.7  1. ]\n",
      " [ 3.9  1.2]\n",
      " [ 5.1  1.6]\n",
      " [ 4.5  1.5]\n",
      " [ 4.5  1.6]\n",
      " [ 4.7  1.5]\n",
      " [ 4.4  1.3]\n",
      " [ 4.1  1.3]\n",
      " [ 4.   1.3]\n",
      " [ 4.4  1.2]\n",
      " [ 4.6  1.4]\n",
      " [ 4.   1.2]\n",
      " [ 3.3  1. ]\n",
      " [ 4.2  1.3]\n",
      " [ 4.2  1.2]\n",
      " [ 4.2  1.3]\n",
      " [ 4.3  1.3]\n",
      " [ 3.   1.1]\n",
      " [ 4.1  1.3]\n",
      " [ 6.   2.5]\n",
      " [ 5.1  1.9]\n",
      " [ 5.9  2.1]\n",
      " [ 5.6  1.8]\n",
      " [ 5.8  2.2]\n",
      " [ 6.6  2.1]\n",
      " [ 4.5  1.7]\n",
      " [ 6.3  1.8]\n",
      " [ 5.8  1.8]\n",
      " [ 6.1  2.5]\n",
      " [ 5.1  2. ]\n",
      " [ 5.3  1.9]\n",
      " [ 5.5  2.1]\n",
      " [ 5.   2. ]\n",
      " [ 5.1  2.4]\n",
      " [ 5.3  2.3]\n",
      " [ 5.5  1.8]\n",
      " [ 6.7  2.2]\n",
      " [ 6.9  2.3]\n",
      " [ 5.   1.5]\n",
      " [ 5.7  2.3]\n",
      " [ 4.9  2. ]\n",
      " [ 6.7  2. ]\n",
      " [ 4.9  1.8]\n",
      " [ 5.7  2.1]\n",
      " [ 6.   1.8]\n",
      " [ 4.8  1.8]\n",
      " [ 4.9  1.8]\n",
      " [ 5.6  2.1]\n",
      " [ 5.8  1.6]\n",
      " [ 6.1  1.9]\n",
      " [ 6.4  2. ]\n",
      " [ 5.6  2.2]\n",
      " [ 5.1  1.5]\n",
      " [ 5.6  1.4]\n",
      " [ 6.1  2.3]\n",
      " [ 5.6  2.4]\n",
      " [ 5.5  1.8]\n",
      " [ 4.8  1.8]\n",
      " [ 5.4  2.1]\n",
      " [ 5.6  2.4]\n",
      " [ 5.1  2.3]\n",
      " [ 5.1  1.9]\n",
      " [ 5.9  2.3]\n",
      " [ 5.7  2.5]\n",
      " [ 5.2  2.3]\n",
      " [ 5.   1.9]\n",
      " [ 5.2  2. ]\n",
      " [ 5.4  2.3]\n",
      " [ 5.1  1.8]]\n"
     ]
    }
   ],
   "source": [
    ">>> from sklearn import datasets\n",
    ">>> import numpy as np\n",
    ">>> iris = datasets.load_iris()\n",
    ">>> X = iris.data[:, [2, 3]]\n",
    ">>> y = iris.target\n",
    "print(iris.data)\n",
    "print(X)\n"
   ]
  },
  {
   "cell_type": "code",
   "execution_count": 2,
   "metadata": {
    "collapsed": true
   },
   "outputs": [],
   "source": [
    ">>> from sklearn.cross_validation import train_test_split\n",
    ">>> X_train, X_test, y_train, y_test = train_test_split(\n",
    "... X, y, test_size=0.3, random_state=0)"
   ]
  },
  {
   "cell_type": "code",
   "execution_count": 3,
   "metadata": {
    "collapsed": true
   },
   "outputs": [],
   "source": [
    ">>> from sklearn.preprocessing import StandardScaler\n",
    ">>> sc = StandardScaler()\n",
    ">>> sc.fit(X_train)\n",
    ">>> X_train_std = sc.transform(X_train)\n",
    ">>> X_test_std = sc.transform(X_test)"
   ]
  },
  {
   "cell_type": "code",
   "execution_count": null,
   "metadata": {
    "collapsed": true
   },
   "outputs": [],
   "source": []
  },
  {
   "cell_type": "code",
   "execution_count": null,
   "metadata": {
    "collapsed": true
   },
   "outputs": [],
   "source": []
  },
  {
   "cell_type": "code",
   "execution_count": 4,
   "metadata": {
    "collapsed": false
   },
   "outputs": [
    {
     "data": {
      "text/plain": [
       "Perceptron(alpha=0.0001, class_weight=None, eta0=0.1, fit_intercept=True,\n",
       "      n_iter=40, n_jobs=1, penalty=None, random_state=0, shuffle=True,\n",
       "      verbose=0, warm_start=False)"
      ]
     },
     "execution_count": 4,
     "metadata": {},
     "output_type": "execute_result"
    }
   ],
   "source": [
    ">>> from sklearn.linear_model import Perceptron\n",
    ">>> ppn = Perceptron(n_iter=40, eta0=0.1, random_state=0)\n",
    ">>> ppn.fit(X_train_std, y_train)"
   ]
  },
  {
   "cell_type": "code",
   "execution_count": 5,
   "metadata": {
    "collapsed": false
   },
   "outputs": [
    {
     "name": "stdout",
     "output_type": "stream",
     "text": [
      "Misclassified samples: 4\n"
     ]
    }
   ],
   "source": [
    ">>> y_pred = ppn.predict(X_test_std)\n",
    ">>> print('Misclassified samples: %d' % (y_test != y_pred).sum())"
   ]
  },
  {
   "cell_type": "code",
   "execution_count": 6,
   "metadata": {
    "collapsed": false
   },
   "outputs": [
    {
     "name": "stdout",
     "output_type": "stream",
     "text": [
      "Accuracy: 0.91\n"
     ]
    }
   ],
   "source": [
    ">>> from sklearn.metrics import accuracy_score\n",
    ">>> print('Accuracy: %.2f' % accuracy_score(y_test, y_pred))"
   ]
  },
  {
   "cell_type": "code",
   "execution_count": 8,
   "metadata": {
    "collapsed": false
   },
   "outputs": [],
   "source": [
    "from matplotlib.colors import ListedColormap\n",
    "import matplotlib.pyplot as plt\n",
    "def plot_decision_regions(X, y, classifier, test_idx=None, resolution=0.02):\n",
    "    # setup marker generator and color map\n",
    "    markers = ('s', 'x', 'o', '^', 'v')\n",
    "    colors = ('red', 'blue', 'lightgreen', 'gray', 'cyan')\n",
    "    cmap = ListedColormap(colors[:len(np.unique(y))])\n",
    "    # plot the decision surface\n",
    "    x1_min, x1_max = X[:, 0].min() - 1, X[:, 0].max() + 1\n",
    "    x2_min, x2_max = X[:, 1].min() - 1, X[:, 1].max() + 1\n",
    "    xx1, xx2 = np.meshgrid(np.arange(x1_min, x1_max, resolution), np.arange(x2_min, x2_max, resolution))\n",
    "    Z = classifier.predict(np.array([xx1.ravel(), xx2.ravel()]).T)\n",
    "    Z = Z.reshape(xx1.shape)\n",
    "    plt.contourf(xx1, xx2, Z, alpha=0.4, cmap=cmap)\n",
    "    plt.xlim(xx1.min(), xx1.max())\n",
    "    plt.ylim(xx2.min(), xx2.max())\n",
    "    # plot all samples\n",
    "    X_test, y_test = X[test_idx, :], y[test_idx]\n",
    "    for idx, cl in enumerate(np.unique(y)):\n",
    "        plt.scatter(x=X[y == cl, 0], y=X[y == cl, 1], alpha=0.8, c=cmap(idx), marker=markers[idx], label=cl)\n",
    "    # highlight test samples\n",
    "    if test_idx:\n",
    "        X_test, y_test = X[test_idx, :], y[test_idx]\n",
    "        plt.scatter(X_test[:, 0], X_test[:, 1], c='', alpha=1.0, linewidth=1, marker='o', s=55, label='test set')"
   ]
  },
  {
   "cell_type": "code",
   "execution_count": 9,
   "metadata": {
    "collapsed": true
   },
   "outputs": [],
   "source": [
    ">>> X_combined_std = np.vstack((X_train_std, X_test_std))\n",
    ">>> y_combined = np.hstack((y_train, y_test))\n",
    ">>> plot_decision_regions(X=X_combined_std,\n",
    "... y=y_combined,\n",
    "... classifier=ppn,\n",
    "... test_idx=range(105,150))\n",
    ">>> plt.xlabel('petal length [standardized]')\n",
    ">>> plt.ylabel('petal width [standardized]')\n",
    ">>> plt.legend(loc='upper left')\n",
    ">>> plt.show()"
   ]
  },
  {
   "cell_type": "code",
   "execution_count": 11,
   "metadata": {
    "collapsed": false
   },
   "outputs": [],
   "source": [
    ">>> import matplotlib.pyplot as plt\n",
    ">>> import numpy as np\n",
    ">>> def sigmoid(z):\n",
    "        return 1.0 / (1.0 + np.exp(-z))\n",
    ">>> z = np.arange(-7, 7, 0.1)\n",
    ">>> phi_z = sigmoid(z)\n",
    ">>> plt.plot(z, phi_z)\n",
    ">>> plt.axvline(0.0, color='k')\n",
    ">>> plt.axhspan(0.0, 1.0, facecolor='1.0', alpha=1.0, ls='dotted')\n",
    ">>> plt.axhline(y=0.5, ls='dotted', color='k')\n",
    ">>> plt.yticks([0.0, 0.5, 1.0])\n",
    ">>> plt.ylim(-0.1, 1.1)\n",
    ">>> plt.xlabel('z')\n",
    ">>> plt.ylabel('$\\phi (z)$')\n",
    ">>> plt.show()"
   ]
  },
  {
   "cell_type": "code",
   "execution_count": 12,
   "metadata": {
    "collapsed": false
   },
   "outputs": [],
   "source": [
    ">>> from sklearn.linear_model import LogisticRegression\n",
    ">>> lr = LogisticRegression(C=1000.0, random_state=0)\n",
    ">>> lr.fit(X_train_std, y_train)\n",
    ">>> plot_decision_regions(X_combined_std,\n",
    "... y_combined, classifier=lr,\n",
    "... test_idx=range(105,150))\n",
    ">>> plt.xlabel('petal length [standardized]')\n",
    ">>> plt.ylabel('petal width [standardized]')\n",
    ">>> plt.legend(loc='upper left')\n",
    ">>> plt.show()"
   ]
  },
  {
   "cell_type": "code",
   "execution_count": 14,
   "metadata": {
    "collapsed": false
   },
   "outputs": [],
   "source": [
    ">>> weights, params = [], []\n",
    ">>> for c in np.arange(-5, 5):\n",
    "        lr = LogisticRegression(C=10**c, random_state=0)\n",
    "        lr.fit(X_train_std, y_train)\n",
    "        weights.append(lr.coef_[1])\n",
    "        params.append(10**c)\n",
    ">>> weights = np.array(weights)\n",
    ">>> plt.plot(params, weights[:, 0],\n",
    "... label='petal length')\n",
    ">>> plt.plot(params, weights[:, 1], linestyle='--',\n",
    "... label='petal width')\n",
    ">>> plt.ylabel('weight coefficient')\n",
    ">>> plt.xlabel('C')\n",
    ">>> plt.legend(loc='upper left')\n",
    ">>> plt.xscale('log')\n",
    ">>> plt.show()"
   ]
  },
  {
   "cell_type": "code",
   "execution_count": 15,
   "metadata": {
    "collapsed": false
   },
   "outputs": [],
   "source": [
    ">>> from sklearn.svm import SVC\n",
    ">>> svm = SVC(kernel='linear', C=1.0, random_state=0)\n",
    ">>> svm.fit(X_train_std, y_train)\n",
    ">>> plot_decision_regions(X_combined_std,\n",
    "... y_combined, classifier=svm,\n",
    "... test_idx=range(105,150))\n",
    ">>> plt.xlabel('petal length [standardized]')\n",
    ">>> plt.ylabel('petal width [standardized]')\n",
    ">>> plt.legend(loc='upper left')\n",
    ">>> plt.show()"
   ]
  },
  {
   "cell_type": "code",
   "execution_count": null,
   "metadata": {
    "collapsed": true
   },
   "outputs": [],
   "source": []
  }
 ],
 "metadata": {
  "kernelspec": {
   "display_name": "Python [Root]",
   "language": "python",
   "name": "Python [Root]"
  },
  "language_info": {
   "codemirror_mode": {
    "name": "ipython",
    "version": 3
   },
   "file_extension": ".py",
   "mimetype": "text/x-python",
   "name": "python",
   "nbconvert_exporter": "python",
   "pygments_lexer": "ipython3",
   "version": "3.5.2"
  }
 },
 "nbformat": 4,
 "nbformat_minor": 0
}
