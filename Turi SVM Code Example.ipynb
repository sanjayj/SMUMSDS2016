{
 "cells": [
  {
   "cell_type": "markdown",
   "metadata": {},
   "source": [
    "# Introductory Example\n",
    "\n",
    "Using the same example as we did for logistic regression, we will predict if a restaurant is good or bad, with 1 and 2 star ratings indicating a bad business and 3-5 star ratings indicating a good one. We will use the following features:\n",
    "\n",
    "    * Average rating of a given business\n",
    "    * Average rating made by a user\n",
    "    * Number of reviews made by a user\n",
    "    * Number of reviews that concern a business\n",
    "\n",
    "The usage is similar to the logistic regression module:\n",
    "\n",
    "https://turi.com/learn/userguide/supervised-learning/svm.html"
   ]
  },
  {
   "cell_type": "code",
   "execution_count": 2,
   "metadata": {
    "collapsed": false
   },
   "outputs": [
    {
     "data": {
      "text/html": [
       "<pre>Finished parsing file https://static.turi.com/datasets/regression/yelp-data.csv</pre>"
      ],
      "text/plain": [
       "Finished parsing file https://static.turi.com/datasets/regression/yelp-data.csv"
      ]
     },
     "metadata": {},
     "output_type": "display_data"
    },
    {
     "data": {
      "text/html": [
       "<pre>Parsing completed. Parsed 100 lines in 1.66927 secs.</pre>"
      ],
      "text/plain": [
       "Parsing completed. Parsed 100 lines in 1.66927 secs."
      ]
     },
     "metadata": {},
     "output_type": "display_data"
    },
    {
     "name": "stdout",
     "output_type": "stream",
     "text": [
      "------------------------------------------------------\n",
      "Inferred types from first 100 line(s) of file as \n",
      "column_type_hints=[str,str,str,long,str,str,str,dict,long,long,long,list,str,str,float,float,str,long,long,float,str,str,float,str,long,str,long,long,long,dict]\n",
      "If parsing fails due to incorrect types, you can correct\n",
      "the inferred type list above and pass it to read_csv in\n",
      "the column_type_hints argument\n",
      "------------------------------------------------------\n"
     ]
    },
    {
     "data": {
      "text/html": [
       "<pre>Read 47948 lines. Lines per second: 23232.8</pre>"
      ],
      "text/plain": [
       "Read 47948 lines. Lines per second: 23232.8"
      ]
     },
     "metadata": {},
     "output_type": "display_data"
    },
    {
     "data": {
      "text/html": [
       "<pre>Finished parsing file https://static.turi.com/datasets/regression/yelp-data.csv</pre>"
      ],
      "text/plain": [
       "Finished parsing file https://static.turi.com/datasets/regression/yelp-data.csv"
      ]
     },
     "metadata": {},
     "output_type": "display_data"
    },
    {
     "data": {
      "text/html": [
       "<pre>Parsing completed. Parsed 215879 lines in 5.56328 secs.</pre>"
      ],
      "text/plain": [
       "Parsing completed. Parsed 215879 lines in 5.56328 secs."
      ]
     },
     "metadata": {},
     "output_type": "display_data"
    },
    {
     "name": "stdout",
     "output_type": "stream",
     "text": [
      "PROGRESS: Creating a validation set from 5 percent of training data. This may take a while.\n",
      "          You can set ``validation_set=None`` to disable validation tracking.\n",
      "\n"
     ]
    },
    {
     "data": {
      "text/html": [
       "<pre>SVM:</pre>"
      ],
      "text/plain": [
       "SVM:"
      ]
     },
     "metadata": {},
     "output_type": "display_data"
    },
    {
     "data": {
      "text/html": [
       "<pre>--------------------------------------------------------</pre>"
      ],
      "text/plain": [
       "--------------------------------------------------------"
      ]
     },
     "metadata": {},
     "output_type": "display_data"
    },
    {
     "data": {
      "text/html": [
       "<pre>Number of examples          : 164140</pre>"
      ],
      "text/plain": [
       "Number of examples          : 164140"
      ]
     },
     "metadata": {},
     "output_type": "display_data"
    },
    {
     "data": {
      "text/html": [
       "<pre>Number of classes           : 2</pre>"
      ],
      "text/plain": [
       "Number of classes           : 2"
      ]
     },
     "metadata": {},
     "output_type": "display_data"
    },
    {
     "data": {
      "text/html": [
       "<pre>Number of feature columns   : 4</pre>"
      ],
      "text/plain": [
       "Number of feature columns   : 4"
      ]
     },
     "metadata": {},
     "output_type": "display_data"
    },
    {
     "data": {
      "text/html": [
       "<pre>Number of unpacked features : 4</pre>"
      ],
      "text/plain": [
       "Number of unpacked features : 4"
      ]
     },
     "metadata": {},
     "output_type": "display_data"
    },
    {
     "data": {
      "text/html": [
       "<pre>Number of coefficients    : 5</pre>"
      ],
      "text/plain": [
       "Number of coefficients    : 5"
      ]
     },
     "metadata": {},
     "output_type": "display_data"
    },
    {
     "data": {
      "text/html": [
       "<pre>Starting L-BFGS</pre>"
      ],
      "text/plain": [
       "Starting L-BFGS"
      ]
     },
     "metadata": {},
     "output_type": "display_data"
    },
    {
     "data": {
      "text/html": [
       "<pre>--------------------------------------------------------</pre>"
      ],
      "text/plain": [
       "--------------------------------------------------------"
      ]
     },
     "metadata": {},
     "output_type": "display_data"
    },
    {
     "data": {
      "text/html": [
       "<pre>+-----------+----------+-----------+--------------+-------------------+---------------------+</pre>"
      ],
      "text/plain": [
       "+-----------+----------+-----------+--------------+-------------------+---------------------+"
      ]
     },
     "metadata": {},
     "output_type": "display_data"
    },
    {
     "data": {
      "text/html": [
       "<pre>| Iteration | Passes   | Step size | Elapsed Time | Training-accuracy | Validation-accuracy |</pre>"
      ],
      "text/plain": [
       "| Iteration | Passes   | Step size | Elapsed Time | Training-accuracy | Validation-accuracy |"
      ]
     },
     "metadata": {},
     "output_type": "display_data"
    },
    {
     "data": {
      "text/html": [
       "<pre>+-----------+----------+-----------+--------------+-------------------+---------------------+</pre>"
      ],
      "text/plain": [
       "+-----------+----------+-----------+--------------+-------------------+---------------------+"
      ]
     },
     "metadata": {},
     "output_type": "display_data"
    },
    {
     "data": {
      "text/html": [
       "<pre>| 1         | 3        | 0.000006  | 0.044032     | 0.833283          | 0.838433            |</pre>"
      ],
      "text/plain": [
       "| 1         | 3        | 0.000006  | 0.044032     | 0.833283          | 0.838433            |"
      ]
     },
     "metadata": {},
     "output_type": "display_data"
    },
    {
     "data": {
      "text/html": [
       "<pre>| 2         | 7        | 3.000000  | 0.130092     | 0.833283          | 0.838433            |</pre>"
      ],
      "text/plain": [
       "| 2         | 7        | 3.000000  | 0.130092     | 0.833283          | 0.838433            |"
      ]
     },
     "metadata": {},
     "output_type": "display_data"
    },
    {
     "data": {
      "text/html": [
       "<pre>| 3         | 8        | 3.000000  | 0.166119     | 0.166717          | 0.161567            |</pre>"
      ],
      "text/plain": [
       "| 3         | 8        | 3.000000  | 0.166119     | 0.166717          | 0.161567            |"
      ]
     },
     "metadata": {},
     "output_type": "display_data"
    },
    {
     "data": {
      "text/html": [
       "<pre>| 4         | 10       | 1.000000  | 0.214151     | 0.833283          | 0.838433            |</pre>"
      ],
      "text/plain": [
       "| 4         | 10       | 1.000000  | 0.214151     | 0.833283          | 0.838433            |"
      ]
     },
     "metadata": {},
     "output_type": "display_data"
    },
    {
     "data": {
      "text/html": [
       "<pre>| 5         | 11       | 1.000000  | 0.256182     | 0.833283          | 0.838433            |</pre>"
      ],
      "text/plain": [
       "| 5         | 11       | 1.000000  | 0.256182     | 0.833283          | 0.838433            |"
      ]
     },
     "metadata": {},
     "output_type": "display_data"
    },
    {
     "data": {
      "text/html": [
       "<pre>| 6         | 17       | 2.527437  | 0.359255     | 0.833283          | 0.838433            |</pre>"
      ],
      "text/plain": [
       "| 6         | 17       | 2.527437  | 0.359255     | 0.833283          | 0.838433            |"
      ]
     },
     "metadata": {},
     "output_type": "display_data"
    },
    {
     "data": {
      "text/html": [
       "<pre>+-----------+----------+-----------+--------------+-------------------+---------------------+</pre>"
      ],
      "text/plain": [
       "+-----------+----------+-----------+--------------+-------------------+---------------------+"
      ]
     },
     "metadata": {},
     "output_type": "display_data"
    },
    {
     "data": {
      "text/html": [
       "<pre>TERMINATED: Iteration limit reached.</pre>"
      ],
      "text/plain": [
       "TERMINATED: Iteration limit reached."
      ]
     },
     "metadata": {},
     "output_type": "display_data"
    },
    {
     "data": {
      "text/html": [
       "<pre>This model may not be optimal. To improve it, consider increasing `max_iterations`.</pre>"
      ],
      "text/plain": [
       "This model may not be optimal. To improve it, consider increasing `max_iterations`."
      ]
     },
     "metadata": {},
     "output_type": "display_data"
    }
   ],
   "source": [
    "import graphlab as gl\n",
    "import graphlab\n",
    "# keep data visualizations within notebook\n",
    "graphlab.canvas.set_target('ipynb')\n",
    "\n",
    "# Load the data\n",
    "# The data can be downloaded using\n",
    "data =  gl.SFrame('https://static.turi.com/datasets/regression/yelp-data.csv')\n",
    "\n",
    "# Restaurants with rating >=3 are good\n",
    "data['is_good'] = data['stars'] >= 3\n",
    "\n",
    "# Make a train-test split\n",
    "train_data, test_data = data.random_split(0.8)\n",
    "\n",
    "# Create a model.\n",
    "model = gl.svm_classifier.create(train_data, \n",
    "                                 target='is_good',\n",
    "                                 features = ['user_avg_stars',\n",
    "                                             'business_avg_stars',\n",
    "                                             'user_review_count',\n",
    "                                             'business_review_count'])\n",
    "\n",
    "# Save predictions (class only) to an SFrame\n",
    "predictions = model.predict(test_data)\n",
    "\n",
    "# Evaluate the model and save the results into a dictionary\n",
    "results = model.evaluate(test_data)"
   ]
  },
  {
   "cell_type": "code",
   "execution_count": 3,
   "metadata": {
    "collapsed": false,
    "scrolled": true
   },
   "outputs": [
    {
     "name": "stdout",
     "output_type": "stream",
     "text": [
      "+-------+\n",
      "| class |\n",
      "+-------+\n",
      "|   1   |\n",
      "|   1   |\n",
      "|   1   |\n",
      "|   1   |\n",
      "|   1   |\n",
      "|   1   |\n",
      "|   1   |\n",
      "|   1   |\n",
      "|   1   |\n",
      "|   1   |\n",
      "+-------+\n",
      "[43241 rows x 1 columns]\n",
      "Note: Only the head of the SFrame is printed.\n",
      "You can use print_rows(num_rows=m, num_columns=n) to print more rows and columns.\n"
     ]
    }
   ],
   "source": [
    "predictions = model.classify(test_data)\n",
    "print predictions"
   ]
  },
  {
   "cell_type": "markdown",
   "metadata": {},
   "source": [
    "SVM does not currently support predictions as probability estimates."
   ]
  },
  {
   "cell_type": "code",
   "execution_count": 5,
   "metadata": {
    "collapsed": true
   },
   "outputs": [],
   "source": [
    "pred_class = model.predict(test_data, output_type = \"class\")    # Class\n",
    "pred_margin = model.predict(test_data, output_type = \"margin\")  # Margins"
   ]
  },
  {
   "cell_type": "code",
   "execution_count": 6,
   "metadata": {
    "collapsed": false,
    "scrolled": true
   },
   "outputs": [
    {
     "name": "stdout",
     "output_type": "stream",
     "text": [
      "PROGRESS: Creating a validation set from 5 percent of training data. This may take a while.\n",
      "          You can set ``validation_set=None`` to disable validation tracking.\n",
      "\n"
     ]
    },
    {
     "data": {
      "text/html": [
       "<pre>SVM:</pre>"
      ],
      "text/plain": [
       "SVM:"
      ]
     },
     "metadata": {},
     "output_type": "display_data"
    },
    {
     "data": {
      "text/html": [
       "<pre>--------------------------------------------------------</pre>"
      ],
      "text/plain": [
       "--------------------------------------------------------"
      ]
     },
     "metadata": {},
     "output_type": "display_data"
    },
    {
     "data": {
      "text/html": [
       "<pre>Number of examples          : 164004</pre>"
      ],
      "text/plain": [
       "Number of examples          : 164004"
      ]
     },
     "metadata": {},
     "output_type": "display_data"
    },
    {
     "data": {
      "text/html": [
       "<pre>Number of classes           : 2</pre>"
      ],
      "text/plain": [
       "Number of classes           : 2"
      ]
     },
     "metadata": {},
     "output_type": "display_data"
    },
    {
     "data": {
      "text/html": [
       "<pre>Number of feature columns   : 4</pre>"
      ],
      "text/plain": [
       "Number of feature columns   : 4"
      ]
     },
     "metadata": {},
     "output_type": "display_data"
    },
    {
     "data": {
      "text/html": [
       "<pre>Number of unpacked features : 4</pre>"
      ],
      "text/plain": [
       "Number of unpacked features : 4"
      ]
     },
     "metadata": {},
     "output_type": "display_data"
    },
    {
     "data": {
      "text/html": [
       "<pre>Number of coefficients    : 5</pre>"
      ],
      "text/plain": [
       "Number of coefficients    : 5"
      ]
     },
     "metadata": {},
     "output_type": "display_data"
    },
    {
     "data": {
      "text/html": [
       "<pre>Starting L-BFGS</pre>"
      ],
      "text/plain": [
       "Starting L-BFGS"
      ]
     },
     "metadata": {},
     "output_type": "display_data"
    },
    {
     "data": {
      "text/html": [
       "<pre>--------------------------------------------------------</pre>"
      ],
      "text/plain": [
       "--------------------------------------------------------"
      ]
     },
     "metadata": {},
     "output_type": "display_data"
    },
    {
     "data": {
      "text/html": [
       "<pre>+-----------+----------+-----------+--------------+-------------------+---------------------+</pre>"
      ],
      "text/plain": [
       "+-----------+----------+-----------+--------------+-------------------+---------------------+"
      ]
     },
     "metadata": {},
     "output_type": "display_data"
    },
    {
     "data": {
      "text/html": [
       "<pre>| Iteration | Passes   | Step size | Elapsed Time | Training-accuracy | Validation-accuracy |</pre>"
      ],
      "text/plain": [
       "| Iteration | Passes   | Step size | Elapsed Time | Training-accuracy | Validation-accuracy |"
      ]
     },
     "metadata": {},
     "output_type": "display_data"
    },
    {
     "data": {
      "text/html": [
       "<pre>+-----------+----------+-----------+--------------+-------------------+---------------------+</pre>"
      ],
      "text/plain": [
       "+-----------+----------+-----------+--------------+-------------------+---------------------+"
      ]
     },
     "metadata": {},
     "output_type": "display_data"
    },
    {
     "data": {
      "text/html": [
       "<pre>| 1         | 3        | 0.000006  | 0.042673     | 0.833217          | 0.839588            |</pre>"
      ],
      "text/plain": [
       "| 1         | 3        | 0.000006  | 0.042673     | 0.833217          | 0.839588            |"
      ]
     },
     "metadata": {},
     "output_type": "display_data"
    },
    {
     "data": {
      "text/html": [
       "<pre>| 2         | 7        | 3.000000  | 0.106704     | 0.833217          | 0.839588            |</pre>"
      ],
      "text/plain": [
       "| 2         | 7        | 3.000000  | 0.106704     | 0.833217          | 0.839588            |"
      ]
     },
     "metadata": {},
     "output_type": "display_data"
    },
    {
     "data": {
      "text/html": [
       "<pre>| 3         | 8        | 3.000000  | 0.132722     | 0.166783          | 0.160412            |</pre>"
      ],
      "text/plain": [
       "| 3         | 8        | 3.000000  | 0.132722     | 0.166783          | 0.160412            |"
      ]
     },
     "metadata": {},
     "output_type": "display_data"
    },
    {
     "data": {
      "text/html": [
       "<pre>| 4         | 10       | 1.000000  | 0.170749     | 0.833217          | 0.839588            |</pre>"
      ],
      "text/plain": [
       "| 4         | 10       | 1.000000  | 0.170749     | 0.833217          | 0.839588            |"
      ]
     },
     "metadata": {},
     "output_type": "display_data"
    },
    {
     "data": {
      "text/html": [
       "<pre>| 5         | 11       | 1.000000  | 0.198769     | 0.833217          | 0.839588            |</pre>"
      ],
      "text/plain": [
       "| 5         | 11       | 1.000000  | 0.198769     | 0.833217          | 0.839588            |"
      ]
     },
     "metadata": {},
     "output_type": "display_data"
    },
    {
     "data": {
      "text/html": [
       "<pre>| 6         | 17       | 2.419526  | 0.279826     | 0.833217          | 0.839588            |</pre>"
      ],
      "text/plain": [
       "| 6         | 17       | 2.419526  | 0.279826     | 0.833217          | 0.839588            |"
      ]
     },
     "metadata": {},
     "output_type": "display_data"
    },
    {
     "data": {
      "text/html": [
       "<pre>+-----------+----------+-----------+--------------+-------------------+---------------------+</pre>"
      ],
      "text/plain": [
       "+-----------+----------+-----------+--------------+-------------------+---------------------+"
      ]
     },
     "metadata": {},
     "output_type": "display_data"
    },
    {
     "data": {
      "text/html": [
       "<pre>TERMINATED: Iteration limit reached.</pre>"
      ],
      "text/plain": [
       "TERMINATED: Iteration limit reached."
      ]
     },
     "metadata": {},
     "output_type": "display_data"
    },
    {
     "data": {
      "text/html": [
       "<pre>This model may not be optimal. To improve it, consider increasing `max_iterations`.</pre>"
      ],
      "text/plain": [
       "This model may not be optimal. To improve it, consider increasing `max_iterations`."
      ]
     },
     "metadata": {},
     "output_type": "display_data"
    }
   ],
   "source": [
    "model = gl.svm_classifier.create(train_data, \n",
    "                                 target='is_good', \n",
    "                                 penalty=100,\n",
    "                                 features = ['user_avg_stars',\n",
    "                                             'business_avg_stars',\n",
    "                                             'user_review_count',\n",
    "                                             'business_review_count'])"
   ]
  },
  {
   "cell_type": "code",
   "execution_count": 7,
   "metadata": {
    "collapsed": false,
    "scrolled": true
   },
   "outputs": [
    {
     "name": "stdout",
     "output_type": "stream",
     "text": [
      "Class                          : SVMClassifier\n",
      "\n",
      "Schema\n",
      "------\n",
      "Number of coefficients         : 5\n",
      "Number of examples             : 164004\n",
      "Number of classes              : 2\n",
      "Number of feature columns      : 4\n",
      "Number of unpacked features    : 4\n",
      "\n",
      "Hyperparameters\n",
      "---------------\n",
      "Mis-classification penalty     : 100.0\n",
      "\n",
      "Training Summary\n",
      "----------------\n",
      "Solver                         : lbfgs\n",
      "Solver iterations              : 10\n",
      "Solver status                  : TERMINATED: Iteration limit reached.\n",
      "Training time (sec)            : 0.4349\n",
      "\n",
      "Settings\n",
      "--------\n",
      "Train Loss                     : 55413.1266\n",
      "\n",
      "Highest Positive Coefficients\n",
      "-----------------------------\n",
      "(intercept)                    : 0.2199\n",
      "user_avg_stars                 : 0.127\n",
      "business_avg_stars             : 0.1051\n",
      "user_review_count              : 0.0\n",
      "\n",
      "Lowest Negative Coefficients\n",
      "----------------------------\n",
      "business_review_count          : -0.0003\n",
      "\n"
     ]
    }
   ],
   "source": [
    "model.summary()"
   ]
  },
  {
   "cell_type": "code",
   "execution_count": 13,
   "metadata": {
    "collapsed": false
   },
   "outputs": [
    {
     "data": {
      "text/html": [
       "<div style=\"max-height:1000px;max-width:1500px;overflow:auto;\"><table frame=\"box\" rules=\"cols\">\n",
       "    <tr>\n",
       "        <th style=\"padding-left: 1em; padding-right: 1em; text-align: center\">name</th>\n",
       "        <th style=\"padding-left: 1em; padding-right: 1em; text-align: center\">index</th>\n",
       "        <th style=\"padding-left: 1em; padding-right: 1em; text-align: center\">class</th>\n",
       "        <th style=\"padding-left: 1em; padding-right: 1em; text-align: center\">value</th>\n",
       "    </tr>\n",
       "    <tr>\n",
       "        <td style=\"padding-left: 1em; padding-right: 1em; text-align: center; vertical-align: top\">(intercept)</td>\n",
       "        <td style=\"padding-left: 1em; padding-right: 1em; text-align: center; vertical-align: top\">None</td>\n",
       "        <td style=\"padding-left: 1em; padding-right: 1em; text-align: center; vertical-align: top\">1</td>\n",
       "        <td style=\"padding-left: 1em; padding-right: 1em; text-align: center; vertical-align: top\">0.219906034822</td>\n",
       "    </tr>\n",
       "    <tr>\n",
       "        <td style=\"padding-left: 1em; padding-right: 1em; text-align: center; vertical-align: top\">user_avg_stars</td>\n",
       "        <td style=\"padding-left: 1em; padding-right: 1em; text-align: center; vertical-align: top\">None</td>\n",
       "        <td style=\"padding-left: 1em; padding-right: 1em; text-align: center; vertical-align: top\">1</td>\n",
       "        <td style=\"padding-left: 1em; padding-right: 1em; text-align: center; vertical-align: top\">0.127041491896</td>\n",
       "    </tr>\n",
       "    <tr>\n",
       "        <td style=\"padding-left: 1em; padding-right: 1em; text-align: center; vertical-align: top\">business_avg_stars</td>\n",
       "        <td style=\"padding-left: 1em; padding-right: 1em; text-align: center; vertical-align: top\">None</td>\n",
       "        <td style=\"padding-left: 1em; padding-right: 1em; text-align: center; vertical-align: top\">1</td>\n",
       "        <td style=\"padding-left: 1em; padding-right: 1em; text-align: center; vertical-align: top\">0.105149903919</td>\n",
       "    </tr>\n",
       "    <tr>\n",
       "        <td style=\"padding-left: 1em; padding-right: 1em; text-align: center; vertical-align: top\">user_review_count</td>\n",
       "        <td style=\"padding-left: 1em; padding-right: 1em; text-align: center; vertical-align: top\">None</td>\n",
       "        <td style=\"padding-left: 1em; padding-right: 1em; text-align: center; vertical-align: top\">1</td>\n",
       "        <td style=\"padding-left: 1em; padding-right: 1em; text-align: center; vertical-align: top\">1.04164533024e-05</td>\n",
       "    </tr>\n",
       "    <tr>\n",
       "        <td style=\"padding-left: 1em; padding-right: 1em; text-align: center; vertical-align: top\">business_review_count</td>\n",
       "        <td style=\"padding-left: 1em; padding-right: 1em; text-align: center; vertical-align: top\">None</td>\n",
       "        <td style=\"padding-left: 1em; padding-right: 1em; text-align: center; vertical-align: top\">1</td>\n",
       "        <td style=\"padding-left: 1em; padding-right: 1em; text-align: center; vertical-align: top\">-0.000313648153717</td>\n",
       "    </tr>\n",
       "</table>\n",
       "[5 rows x 4 columns]<br/>\n",
       "</div>"
      ],
      "text/plain": [
       "Columns:\n",
       "\tname\tstr\n",
       "\tindex\tstr\n",
       "\tclass\tint\n",
       "\tvalue\tfloat\n",
       "\n",
       "Rows: 5\n",
       "\n",
       "Data:\n",
       "+-----------------------+-------+-------+--------------------+\n",
       "|          name         | index | class |       value        |\n",
       "+-----------------------+-------+-------+--------------------+\n",
       "|      (intercept)      |  None |   1   |   0.219906034822   |\n",
       "|     user_avg_stars    |  None |   1   |   0.127041491896   |\n",
       "|   business_avg_stars  |  None |   1   |   0.105149903919   |\n",
       "|   user_review_count   |  None |   1   | 1.04164533024e-05  |\n",
       "| business_review_count |  None |   1   | -0.000313648153717 |\n",
       "+-----------------------+-------+-------+--------------------+\n",
       "[5 rows x 4 columns]"
      ]
     },
     "execution_count": 13,
     "metadata": {},
     "output_type": "execute_result"
    }
   ],
   "source": [
    "coefficients = model['coefficients']     # an SFrame\n",
    "coefficients"
   ]
  },
  {
   "cell_type": "code",
   "execution_count": 17,
   "metadata": {
    "collapsed": false,
    "scrolled": true
   },
   "outputs": [
    {
     "data": {
      "application/javascript": [
       "$(\"head\").append($(\"<link/>\").attr({\n",
       "  rel:  \"stylesheet\",\n",
       "  type: \"text/css\",\n",
       "  href: \"//cdnjs.cloudflare.com/ajax/libs/font-awesome/4.1.0/css/font-awesome.min.css\"\n",
       "}));\n",
       "$(\"head\").append($(\"<link/>\").attr({\n",
       "  rel:  \"stylesheet\",\n",
       "  type: \"text/css\",\n",
       "  href: \"https://static.turi.com/products/graphlab-create/2.1/canvas/css/canvas.css\"\n",
       "}));\n",
       "\n",
       "            (function(){\n",
       "\n",
       "                var e = null;\n",
       "                if (typeof element == 'undefined') {\n",
       "                    var scripts = document.getElementsByTagName('script');\n",
       "                    var thisScriptTag = scripts[scripts.length-1];\n",
       "                    var parentDiv = thisScriptTag.parentNode;\n",
       "                    e = document.createElement('div');\n",
       "                    parentDiv.appendChild(e);\n",
       "                } else {\n",
       "                    e = element[0];\n",
       "                }\n",
       "\n",
       "                if (typeof requirejs !== 'undefined') {\n",
       "                    // disable load timeout; ipython_app.js is large and can take a while to load.\n",
       "                    requirejs.config({waitSeconds: 0});\n",
       "                }\n",
       "\n",
       "                require(['https://static.turi.com/products/graphlab-create/2.1/canvas/js/ipython_app.js'], function(IPythonApp){\n",
       "                    var app = new IPythonApp();\n",
       "                    app.attachView('model','Summary', {\"comparison\": null, \"selected_variable\": {\"comparison\": null, \"name\": [\"model\"], \"view_file\": \"model\", \"view_component\": \"Summary\", \"view_params\": {\"model_type\": \"regression\", \"view\": \"Summary\"}, \"view_components\": [\"Summary\", \"Evaluation\", \"Comparison\"], \"model_type\": \"regression\", \"attributes\": {\"section_titles\": [\"Schema\", \"Hyperparameters\", \"Training Summary\", \"Settings\", \"Highest Positive Coefficients\", \"Lowest Negative Coefficients\"], \"sections\": [[[\"Number of coefficients\", 5], [\"Number of examples\", 164004], [\"Number of classes\", 2], [\"Number of feature columns\", 4], [\"Number of unpacked features\", 4]], [[\"Mis-classification penalty\", 100.0]], [[\"Solver\", \"lbfgs\"], [\"Solver iterations\", 10], [\"Solver status\", \"TERMINATED: Iteration limit reached.\"], [\"Training time (sec)\", 0.4349]], [[\"Train Loss\", 55413.1266]], [[\"(intercept)\", 0.2199], [\"user_avg_stars\", 0.127], [\"business_avg_stars\", 0.1051], [\"user_review_count\", 0.0]], [[\"business_review_count\", -0.0003]]]}, \"evaluations\": [[\"data\", {\"f1_score\": 0.9094321321943309, \"recall\": 1.0, \"confusion_matrix\": [{\"count\": 35856, \"target_label\": 0, \"predicted_label\": 1}, {\"count\": 180023, \"target_label\": 1, \"predicted_label\": 1}], \"precision\": 0.8339069571380264, \"accuracy\": 0.8339069571380264}]], \"type\": \"Model\"}, \"ipython\": true, \"view_params\": {\"model_type\": \"regression\", \"view\": \"Summary\"}, \"model_type\": \"regression\", \"attributes\": {\"section_titles\": [\"Schema\", \"Hyperparameters\", \"Training Summary\", \"Settings\", \"Highest Positive Coefficients\", \"Lowest Negative Coefficients\"], \"sections\": [[[\"Number of coefficients\", 5], [\"Number of examples\", 164004], [\"Number of classes\", 2], [\"Number of feature columns\", 4], [\"Number of unpacked features\", 4]], [[\"Mis-classification penalty\", 100.0]], [[\"Solver\", \"lbfgs\"], [\"Solver iterations\", 10], [\"Solver status\", \"TERMINATED: Iteration limit reached.\"], [\"Training time (sec)\", 0.4349]], [[\"Train Loss\", 55413.1266]], [[\"(intercept)\", 0.2199], [\"user_avg_stars\", 0.127], [\"business_avg_stars\", 0.1051], [\"user_review_count\", 0.0]], [[\"business_review_count\", -0.0003]]]}, \"evaluations\": [[\"data\", {\"f1_score\": 0.9094321321943309, \"recall\": 1.0, \"confusion_matrix\": [{\"count\": 35856, \"target_label\": 0, \"predicted_label\": 1}, {\"count\": 180023, \"target_label\": 1, \"predicted_label\": 1}], \"precision\": 0.8339069571380264, \"accuracy\": 0.8339069571380264}]]}, e);\n",
       "                });\n",
       "            })();\n",
       "        "
      ]
     },
     "metadata": {},
     "output_type": "display_data"
    }
   ],
   "source": [
    "model.show()"
   ]
  },
  {
   "cell_type": "code",
   "execution_count": 14,
   "metadata": {
    "collapsed": true
   },
   "outputs": [],
   "source": [
    "# Make predictions (as margins, or class)\n",
    "predictions = model.predict(data)    # Predicts 0/1\n",
    "predictions = model.predict(data, output_type='margin')"
   ]
  },
  {
   "cell_type": "code",
   "execution_count": 16,
   "metadata": {
    "collapsed": false,
    "scrolled": true
   },
   "outputs": [
    {
     "data": {
      "text/plain": [
       "{'accuracy': 0.8339069571380264, 'confusion_matrix': Columns:\n",
       " \ttarget_label\tint\n",
       " \tpredicted_label\tint\n",
       " \tcount\tint\n",
       " \n",
       " Rows: 2\n",
       " \n",
       " Data:\n",
       " +--------------+-----------------+--------+\n",
       " | target_label | predicted_label | count  |\n",
       " +--------------+-----------------+--------+\n",
       " |      0       |        1        | 35856  |\n",
       " |      1       |        1        | 180023 |\n",
       " +--------------+-----------------+--------+\n",
       " [2 rows x 3 columns], 'f1_score': 0.9094321321943309, 'precision': 0.8339069571380264, 'recall': 1.0}"
      ]
     },
     "execution_count": 16,
     "metadata": {},
     "output_type": "execute_result"
    }
   ],
   "source": [
    "# Evaluate the model\n",
    "results = model.evaluate(data)               # a dictionary\n",
    "results"
   ]
  },
  {
   "cell_type": "code",
   "execution_count": null,
   "metadata": {
    "collapsed": true
   },
   "outputs": [],
   "source": []
  }
 ],
 "metadata": {
  "kernelspec": {
   "display_name": "Python [gl-env]",
   "language": "python",
   "name": "Python [gl-env]"
  },
  "language_info": {
   "codemirror_mode": {
    "name": "ipython",
    "version": 2
   },
   "file_extension": ".py",
   "mimetype": "text/x-python",
   "name": "python",
   "nbconvert_exporter": "python",
   "pygments_lexer": "ipython2",
   "version": "2.7.12"
  }
 },
 "nbformat": 4,
 "nbformat_minor": 0
}
